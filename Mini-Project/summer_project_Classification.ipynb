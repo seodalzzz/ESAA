{
  "nbformat": 4,
  "nbformat_minor": 0,
  "metadata": {
    "colab": {
      "name": "summer project_Classification.ipynb",
      "provenance": [],
      "authorship_tag": "ABX9TyPoX7DWF8XU9oc7P4h4ft9K",
      "include_colab_link": true
    },
    "kernelspec": {
      "name": "python3",
      "display_name": "Python 3"
    },
    "language_info": {
      "name": "python"
    }
  },
  "cells": [
    {
      "cell_type": "markdown",
      "metadata": {
        "id": "view-in-github",
        "colab_type": "text"
      },
      "source": [
        "<a href=\"https://colab.research.google.com/github/seodalzzz/ESAA/blob/Mini-Project/summer_project_Classification.ipynb\" target=\"_parent\"><img src=\"https://colab.research.google.com/assets/colab-badge.svg\" alt=\"Open In Colab\"/></a>"
      ]
    },
    {
      "cell_type": "code",
      "execution_count": 54,
      "metadata": {
        "colab": {
          "base_uri": "https://localhost:8080/"
        },
        "id": "ulXuD67yjScp",
        "outputId": "ddb21b58-927b-4281-ecd2-6af1b9bbbb57"
      },
      "outputs": [
        {
          "output_type": "stream",
          "name": "stdout",
          "text": [
            "Drive already mounted at /content/gdrive; to attempt to forcibly remount, call drive.mount(\"/content/gdrive\", force_remount=True).\n"
          ]
        }
      ],
      "source": [
        "from google.colab import drive\n",
        "drive.mount('/content/gdrive')"
      ]
    },
    {
      "cell_type": "code",
      "source": [
        "import pandas as pd \n",
        "import numpy as np\n",
        "import seaborn as sns\n",
        "import matplotlib.pyplot as plt\n",
        "import warnings\n",
        "warnings.filterwarnings('ignore')"
      ],
      "metadata": {
        "id": "qFMf2U6VkcLU"
      },
      "execution_count": null,
      "outputs": []
    },
    {
      "cell_type": "code",
      "source": [
        "DF_2022=pd.read_csv(\"/content/gdrive/MyDrive/Colab Notebooks/summer_project/dataset/DF_2022_KNN.csv\")"
      ],
      "metadata": {
        "id": "ygXPFNK1lajZ"
      },
      "execution_count": null,
      "outputs": []
    },
    {
      "cell_type": "code",
      "source": [
        "col = ['MESURE_AGE_CO','SEXDSTN_FLAG_CD','MESURE_IEM_001_VALUE','MESURE_IEM_002_VALUE','MESURE_IEM_003_VALUE','MESURE_IEM_005_VALUE','MESURE_IEM_006_VALUE','MESURE_IEM_012_VALUE','MESURE_IEM_018_VALUE']\n",
        "DF_2022 = DF_2022[col]\n",
        "DF_2022 = pd.get_dummies(data=DF_2022)\n",
        "\n",
        "DF_kmeans = DF_2022.copy()\n",
        "DF_meanshift = DF_2022.copy()\n",
        "DF_gmm = DF_2022.copy()\n",
        "DF_dbscan = DF_2022.copy()"
      ],
      "metadata": {
        "id": "k9KPAmsAlmDc"
      },
      "execution_count": null,
      "outputs": []
    },
    {
      "cell_type": "code",
      "source": [
        "data_pre = pd.read_csv(\"/content/gdrive/MyDrive/Colab Notebooks/summer_project/dataset/pre_full_data.csv\")\n",
        "data_main = pd.read_csv(\"/content/gdrive/MyDrive/Colab Notebooks/summer_project/dataset/main_full_data.csv\")\n",
        "data_end = pd.read_csv(\"/content/gdrive/MyDrive/Colab Notebooks/summer_project/dataset/end_full_data.csv\")"
      ],
      "metadata": {
        "id": "Ql0tX6ldn3ik"
      },
      "execution_count": null,
      "outputs": []
    },
    {
      "cell_type": "code",
      "source": [
        "data_pre.head(3)"
      ],
      "metadata": {
        "colab": {
          "base_uri": "https://localhost:8080/",
          "height": 514
        },
        "id": "eNY8H5dLuQa5",
        "outputId": "723027c5-71eb-4e69-c430-a7ab2306928a"
      },
      "execution_count": null,
      "outputs": [
        {
          "output_type": "execute_result",
          "data": {
            "text/plain": [
              "   Unnamed: 0     CNTER_NM AGRDE_FLAG_NM MESURE_PLACE_FLAG_NM  MESURE_AGE_CO  \\\n",
              "0           0       창원마산회원           청소년                   출장      -0.554421   \n",
              "1           1       중구(서울)            성인                   일반       2.052567   \n",
              "2           2  KSPO송파(출장B)            성인                   일반      -0.119923   \n",
              "\n",
              "  INPT_FLAG_NM CRTFC_FLAG_NM  MESURE_DE SEXDSTN_FLAG_CD  MESURE_IEM_001_VALUE  \\\n",
              "0          관리자           3등급  -2.589684               M              0.999541   \n",
              "1         측정기기           3등급  -2.589684               M              0.782504   \n",
              "2          관리자           2등급  -2.589684               M              1.384289   \n",
              "\n",
              "   ...  동적 스트레칭 루틴프로그램  전신 루틴 스트레칭  유산소 운동 전 동적 루틴 스트레칭  정적 스트레칭  루틴프로그램  걷기  \\\n",
              "0  ...               1           0                    0                1   1   \n",
              "1  ...               0           0                    0                0   0   \n",
              "2  ...               0           0                    0                0   0   \n",
              "\n",
              "   자가근막이완술 루틴 스트레칭 하지 루틴 스트레칭1  상지 루틴 스트레칭  달리기  목 스트레칭  \n",
              "0                0           0           0    0       0  \n",
              "1                0           0           0    1       0  \n",
              "2                0           0           0    0       0  \n",
              "\n",
              "[3 rows x 27 columns]"
            ],
            "text/html": [
              "\n",
              "  <div id=\"df-d3b875d4-5123-4834-8aa5-ef98c77b0a17\">\n",
              "    <div class=\"colab-df-container\">\n",
              "      <div>\n",
              "<style scoped>\n",
              "    .dataframe tbody tr th:only-of-type {\n",
              "        vertical-align: middle;\n",
              "    }\n",
              "\n",
              "    .dataframe tbody tr th {\n",
              "        vertical-align: top;\n",
              "    }\n",
              "\n",
              "    .dataframe thead th {\n",
              "        text-align: right;\n",
              "    }\n",
              "</style>\n",
              "<table border=\"1\" class=\"dataframe\">\n",
              "  <thead>\n",
              "    <tr style=\"text-align: right;\">\n",
              "      <th></th>\n",
              "      <th>Unnamed: 0</th>\n",
              "      <th>CNTER_NM</th>\n",
              "      <th>AGRDE_FLAG_NM</th>\n",
              "      <th>MESURE_PLACE_FLAG_NM</th>\n",
              "      <th>MESURE_AGE_CO</th>\n",
              "      <th>INPT_FLAG_NM</th>\n",
              "      <th>CRTFC_FLAG_NM</th>\n",
              "      <th>MESURE_DE</th>\n",
              "      <th>SEXDSTN_FLAG_CD</th>\n",
              "      <th>MESURE_IEM_001_VALUE</th>\n",
              "      <th>...</th>\n",
              "      <th>동적 스트레칭 루틴프로그램</th>\n",
              "      <th>전신 루틴 스트레칭</th>\n",
              "      <th>유산소 운동 전 동적 루틴 스트레칭</th>\n",
              "      <th>정적 스트레칭  루틴프로그램</th>\n",
              "      <th>걷기</th>\n",
              "      <th>자가근막이완술 루틴 스트레칭</th>\n",
              "      <th>하지 루틴 스트레칭1</th>\n",
              "      <th>상지 루틴 스트레칭</th>\n",
              "      <th>달리기</th>\n",
              "      <th>목 스트레칭</th>\n",
              "    </tr>\n",
              "  </thead>\n",
              "  <tbody>\n",
              "    <tr>\n",
              "      <th>0</th>\n",
              "      <td>0</td>\n",
              "      <td>창원마산회원</td>\n",
              "      <td>청소년</td>\n",
              "      <td>출장</td>\n",
              "      <td>-0.554421</td>\n",
              "      <td>관리자</td>\n",
              "      <td>3등급</td>\n",
              "      <td>-2.589684</td>\n",
              "      <td>M</td>\n",
              "      <td>0.999541</td>\n",
              "      <td>...</td>\n",
              "      <td>1</td>\n",
              "      <td>0</td>\n",
              "      <td>0</td>\n",
              "      <td>1</td>\n",
              "      <td>1</td>\n",
              "      <td>0</td>\n",
              "      <td>0</td>\n",
              "      <td>0</td>\n",
              "      <td>0</td>\n",
              "      <td>0</td>\n",
              "    </tr>\n",
              "    <tr>\n",
              "      <th>1</th>\n",
              "      <td>1</td>\n",
              "      <td>중구(서울)</td>\n",
              "      <td>성인</td>\n",
              "      <td>일반</td>\n",
              "      <td>2.052567</td>\n",
              "      <td>측정기기</td>\n",
              "      <td>3등급</td>\n",
              "      <td>-2.589684</td>\n",
              "      <td>M</td>\n",
              "      <td>0.782504</td>\n",
              "      <td>...</td>\n",
              "      <td>0</td>\n",
              "      <td>0</td>\n",
              "      <td>0</td>\n",
              "      <td>0</td>\n",
              "      <td>0</td>\n",
              "      <td>0</td>\n",
              "      <td>0</td>\n",
              "      <td>0</td>\n",
              "      <td>1</td>\n",
              "      <td>0</td>\n",
              "    </tr>\n",
              "    <tr>\n",
              "      <th>2</th>\n",
              "      <td>2</td>\n",
              "      <td>KSPO송파(출장B)</td>\n",
              "      <td>성인</td>\n",
              "      <td>일반</td>\n",
              "      <td>-0.119923</td>\n",
              "      <td>관리자</td>\n",
              "      <td>2등급</td>\n",
              "      <td>-2.589684</td>\n",
              "      <td>M</td>\n",
              "      <td>1.384289</td>\n",
              "      <td>...</td>\n",
              "      <td>0</td>\n",
              "      <td>0</td>\n",
              "      <td>0</td>\n",
              "      <td>0</td>\n",
              "      <td>0</td>\n",
              "      <td>0</td>\n",
              "      <td>0</td>\n",
              "      <td>0</td>\n",
              "      <td>0</td>\n",
              "      <td>0</td>\n",
              "    </tr>\n",
              "  </tbody>\n",
              "</table>\n",
              "<p>3 rows × 27 columns</p>\n",
              "</div>\n",
              "      <button class=\"colab-df-convert\" onclick=\"convertToInteractive('df-d3b875d4-5123-4834-8aa5-ef98c77b0a17')\"\n",
              "              title=\"Convert this dataframe to an interactive table.\"\n",
              "              style=\"display:none;\">\n",
              "        \n",
              "  <svg xmlns=\"http://www.w3.org/2000/svg\" height=\"24px\"viewBox=\"0 0 24 24\"\n",
              "       width=\"24px\">\n",
              "    <path d=\"M0 0h24v24H0V0z\" fill=\"none\"/>\n",
              "    <path d=\"M18.56 5.44l.94 2.06.94-2.06 2.06-.94-2.06-.94-.94-2.06-.94 2.06-2.06.94zm-11 1L8.5 8.5l.94-2.06 2.06-.94-2.06-.94L8.5 2.5l-.94 2.06-2.06.94zm10 10l.94 2.06.94-2.06 2.06-.94-2.06-.94-.94-2.06-.94 2.06-2.06.94z\"/><path d=\"M17.41 7.96l-1.37-1.37c-.4-.4-.92-.59-1.43-.59-.52 0-1.04.2-1.43.59L10.3 9.45l-7.72 7.72c-.78.78-.78 2.05 0 2.83L4 21.41c.39.39.9.59 1.41.59.51 0 1.02-.2 1.41-.59l7.78-7.78 2.81-2.81c.8-.78.8-2.07 0-2.86zM5.41 20L4 18.59l7.72-7.72 1.47 1.35L5.41 20z\"/>\n",
              "  </svg>\n",
              "      </button>\n",
              "      \n",
              "  <style>\n",
              "    .colab-df-container {\n",
              "      display:flex;\n",
              "      flex-wrap:wrap;\n",
              "      gap: 12px;\n",
              "    }\n",
              "\n",
              "    .colab-df-convert {\n",
              "      background-color: #E8F0FE;\n",
              "      border: none;\n",
              "      border-radius: 50%;\n",
              "      cursor: pointer;\n",
              "      display: none;\n",
              "      fill: #1967D2;\n",
              "      height: 32px;\n",
              "      padding: 0 0 0 0;\n",
              "      width: 32px;\n",
              "    }\n",
              "\n",
              "    .colab-df-convert:hover {\n",
              "      background-color: #E2EBFA;\n",
              "      box-shadow: 0px 1px 2px rgba(60, 64, 67, 0.3), 0px 1px 3px 1px rgba(60, 64, 67, 0.15);\n",
              "      fill: #174EA6;\n",
              "    }\n",
              "\n",
              "    [theme=dark] .colab-df-convert {\n",
              "      background-color: #3B4455;\n",
              "      fill: #D2E3FC;\n",
              "    }\n",
              "\n",
              "    [theme=dark] .colab-df-convert:hover {\n",
              "      background-color: #434B5C;\n",
              "      box-shadow: 0px 1px 3px 1px rgba(0, 0, 0, 0.15);\n",
              "      filter: drop-shadow(0px 1px 2px rgba(0, 0, 0, 0.3));\n",
              "      fill: #FFFFFF;\n",
              "    }\n",
              "  </style>\n",
              "\n",
              "      <script>\n",
              "        const buttonEl =\n",
              "          document.querySelector('#df-d3b875d4-5123-4834-8aa5-ef98c77b0a17 button.colab-df-convert');\n",
              "        buttonEl.style.display =\n",
              "          google.colab.kernel.accessAllowed ? 'block' : 'none';\n",
              "\n",
              "        async function convertToInteractive(key) {\n",
              "          const element = document.querySelector('#df-d3b875d4-5123-4834-8aa5-ef98c77b0a17');\n",
              "          const dataTable =\n",
              "            await google.colab.kernel.invokeFunction('convertToInteractive',\n",
              "                                                     [key], {});\n",
              "          if (!dataTable) return;\n",
              "\n",
              "          const docLinkHtml = 'Like what you see? Visit the ' +\n",
              "            '<a target=\"_blank\" href=https://colab.research.google.com/notebooks/data_table.ipynb>data table notebook</a>'\n",
              "            + ' to learn more about interactive tables.';\n",
              "          element.innerHTML = '';\n",
              "          dataTable['output_type'] = 'display_data';\n",
              "          await google.colab.output.renderOutput(dataTable, element);\n",
              "          const docLink = document.createElement('div');\n",
              "          docLink.innerHTML = docLinkHtml;\n",
              "          element.appendChild(docLink);\n",
              "        }\n",
              "      </script>\n",
              "    </div>\n",
              "  </div>\n",
              "  "
            ]
          },
          "metadata": {},
          "execution_count": 6
        }
      ]
    },
    {
      "cell_type": "code",
      "source": [
        "col = ['MESURE_AGE_CO','SEXDSTN_FLAG_CD','MESURE_IEM_001_VALUE','MESURE_IEM_002_VALUE','MESURE_IEM_003_VALUE','MESURE_IEM_005_VALUE','MESURE_IEM_006_VALUE','MESURE_IEM_012_VALUE','MESURE_IEM_018_VALUE']\n",
        "data_pre_selected = data_pre[col]\n",
        "data_main_selected = data_main[col]\n",
        "data_end_selected = data_end[col]\n",
        "\n",
        "# 준비운동 분류용 데이터프레임 생성\n",
        "for i in range (1,11):  \n",
        "  globals()['data_pre'+str(i)] = pd.concat([data_pre_selected, pd.DataFrame(data_pre.iloc[:,(i-11)])], axis=1)\n",
        "\n",
        "# 본운동 분류용 데이터프레임 생성\n",
        "for i in range (1,37):  \n",
        "  globals()['data_main'+str(i)] = pd.concat([data_main_selected, pd.DataFrame(data_main.iloc[:,(i-37)])], axis=1)\n",
        "\n",
        "# 마무리운동 분류용 데이터프레임 생성\n",
        "for i in range (1,9):  \n",
        "  globals()['data_end'+str(i)] = pd.concat([data_end_selected, pd.DataFrame(data_end.iloc[:,(i-9)])], axis=1)"
      ],
      "metadata": {
        "id": "NFIEc29Qo3BY"
      },
      "execution_count": null,
      "outputs": []
    },
    {
      "cell_type": "code",
      "source": [
        "print(data_pre.shape,data_main.shape,data_end.shape)\n",
        "print(data_pre_selected.shape,data_main_selected.shape,data_end_selected.shape)\n",
        "print(data_pre1.shape,data_main36.shape,data_end8.shape)"
      ],
      "metadata": {
        "colab": {
          "base_uri": "https://localhost:8080/"
        },
        "id": "k0JD1dtgoTuk",
        "outputId": "e6e01fe1-87ad-40da-acd7-830d9c08013b"
      },
      "execution_count": null,
      "outputs": [
        {
          "output_type": "stream",
          "name": "stdout",
          "text": [
            "(113834, 27) (113834, 53) (113834, 25)\n",
            "(113834, 9) (113834, 9) (113834, 9)\n",
            "(113834, 10) (113834, 10) (113834, 10)\n"
          ]
        }
      ]
    },
    {
      "cell_type": "code",
      "source": [
        "# 분류를 위한 데이터전처리용 함수 생성\n",
        "def preprocessing(df):\n",
        "  import pandas as pd\n",
        "  from sklearn.model_selection import train_test_split\n",
        "  from imblearn.over_sampling import SMOTE\n",
        "\n",
        "  # 1) 원핫 인코딩 \n",
        "  df_rev = pd.get_dummies(data=df)\n",
        "\n",
        "  # 2) X, y 데이터로 분리 \n",
        "  temp = list(range(11)); del temp[-3]\n",
        "  X = df_rev.iloc[:,temp]\n",
        "  y = df_rev.iloc[:,-3]\n",
        "\n",
        "  # 3) 학습/테스트용 데이터세트 분리\n",
        "  X_train, X_test, y_train, y_test = train_test_split(X, y, test_size=0.3, random_state=42)\n",
        "\n",
        "  # 4) SMOTE를 이용한 오버샘플링\n",
        "  smote = SMOTE(random_state=42)\n",
        "  X_train_over, y_train_over = smote.fit_resample(X_train, y_train)\n",
        "\n",
        "  return (X_train, X_test, y_train, y_test, X_train_over, y_train_over)"
      ],
      "metadata": {
        "id": "JuBs5BpuoYFY"
      },
      "execution_count": null,
      "outputs": []
    },
    {
      "cell_type": "code",
      "source": [
        "X_train_main14, X_test_main14, y_train_main14, y_test_main14, X_train_over_main14, y_train_over_main14 = preprocessing(data_main14)\n",
        "X_train_main15, X_test_main15, y_train_main15, y_test_main15, X_train_over_main15, y_train_over_main15 = preprocessing(data_main15)\n",
        "X_train_main16, X_test_main16, y_train_main16, y_test_main16, X_train_over_main16, y_train_over_main16 = preprocessing(data_main16)\n",
        "X_train_main17, X_test_main17, y_train_main17, y_test_main17, X_train_over_main17, y_train_over_main17 = preprocessing(data_main17)\n",
        "X_train_main18, X_test_main18, y_train_main18, y_test_main18, X_train_over_main18, y_train_over_main18 = preprocessing(data_main18)\n",
        "X_train_main19, X_test_main19, y_train_main19, y_test_main19, X_train_over_main19, y_train_over_main19 = preprocessing(data_main19)\n",
        "X_train_main20, X_test_main20, y_train_main20, y_test_main20, X_train_over_main20, y_train_over_main20 = preprocessing(data_main20)\n",
        "X_train_main21, X_test_main21, y_train_main21, y_test_main21, X_train_over_main21, y_train_over_main21 = preprocessing(data_main21)\n",
        "X_train_main22, X_test_main22, y_train_main22, y_test_main22, X_train_over_main22, y_train_over_main22 = preprocessing(data_main22)\n",
        "X_train_main23, X_test_main23, y_train_main23, y_test_main23, X_train_over_main23, y_train_over_main23 = preprocessing(data_main23)\n",
        "X_train_main24, X_test_main24, y_train_main24, y_test_main24, X_train_over_main24, y_train_over_main24 = preprocessing(data_main24)\n",
        "X_train_main25, X_test_main25, y_train_main25, y_test_main25, X_train_over_main25, y_train_over_main25 = preprocessing(data_main25)\n",
        "X_train_main26, X_test_main26, y_train_main26, y_test_main26, X_train_over_main26, y_train_over_main26 = preprocessing(data_main26)\n",
        "X_train_main27, X_test_main27, y_train_main27, y_test_main27, X_train_over_main27, y_train_over_main27 = preprocessing(data_main27)"
      ],
      "metadata": {
        "id": "cDMEOeOD3ree"
      },
      "execution_count": null,
      "outputs": []
    },
    {
      "cell_type": "code",
      "source": [
        "from sklearn.metrics import mean_squared_error\n",
        "from sklearn.metrics import accuracy_score\n",
        "from sklearn.model_selection import GridSearchCV\n",
        "from sklearn.ensemble import RandomForestClassifier\n",
        "from xgboost import XGBClassifier\n",
        "from lightgbm import LGBMClassifier"
      ],
      "metadata": {
        "id": "7hQKPXPt-Q8X"
      },
      "execution_count": null,
      "outputs": []
    },
    {
      "cell_type": "markdown",
      "source": [
        "###main14"
      ],
      "metadata": {
        "id": "IA6jv1QV6G5z"
      }
    },
    {
      "cell_type": "markdown",
      "source": [
        "* 랜덤포레스트"
      ],
      "metadata": {
        "id": "4tV6DF1T6KMe"
      }
    },
    {
      "cell_type": "code",
      "source": [
        "rf_params={'n_estimators':[400],'max_depth':[8,16,24]}\n",
        "rf_clf=RandomForestClassifier()\n",
        "grid_cv_14=GridSearchCV(rf_clf,param_grid=rf_params,cv=5, n_jobs=-1)\n",
        "grid_cv_14.fit(X_train_main14,y_train_main14)\n",
        "\n",
        "print('최적 하이퍼 파라미터:/n',grid_cv_14.best_params_)\n",
        "print('최고 예측 정확도:{0:.4f}'.format(grid_cv_14.best_score_))"
      ],
      "metadata": {
        "colab": {
          "base_uri": "https://localhost:8080/"
        },
        "id": "pKzOt0kQ_LC8",
        "outputId": "752baa01-e9dd-4722-e216-7f7efde8ab54"
      },
      "execution_count": null,
      "outputs": [
        {
          "output_type": "stream",
          "name": "stdout",
          "text": [
            "최적 하이퍼 파라미터:/n {'max_depth': 24, 'n_estimators': 400}\n",
            "최고 예측 정확도:0.9113\n"
          ]
        }
      ]
    },
    {
      "cell_type": "markdown",
      "source": [
        "rf_params={'n_estimators':[10,25,50,75,100],'max_depth':[8,16,24]}\n",
        "> 16/75/0.9112\n",
        "\n",
        "rf_params={'n_estimators':[10],'max_depth':[8,16,24]}\n",
        "> 8/10/0.9107\n",
        "\n",
        "rf_params={'n_estimators':[100,125,150,200],'max_depth':[8,16,24]}\n",
        "> 24/100/0.9112\n",
        "\n",
        "rf_params={'n_estimators':[400],'max_depth':[8,16,24]}\n",
        "> 24/400/0.9113"
      ],
      "metadata": {
        "id": "_jBFMm0dJxOJ"
      }
    },
    {
      "cell_type": "code",
      "source": [
        "rf_clf_14=RandomForestClassifier(n_estimators=100, max_depth=24,random_state=42)\n",
        "rf_clf_14.fit(X_train_main14,y_train_main14)\n",
        "pred_14=rf_clf_14.predict(X_test_main14)\n",
        "print('예측 정확도:{0:.4f}'.format(accuracy_score(y_test_main14, pred_14)))"
      ],
      "metadata": {
        "colab": {
          "base_uri": "https://localhost:8080/"
        },
        "id": "4JRUQOTCU2jn",
        "outputId": "ed12f720-5201-4b4a-a87f-8aafcad08e62"
      },
      "execution_count": null,
      "outputs": [
        {
          "output_type": "stream",
          "name": "stdout",
          "text": [
            "예측 정확도:0.9143\n"
          ]
        }
      ]
    },
    {
      "cell_type": "markdown",
      "source": [
        "> 16/50 => 0.9143\n",
        "\n",
        "> 16/75 => 0.9141\n",
        "\n",
        "> 8/10 => 0.9137\n",
        "\n",
        "> 24/100/0.9143\n",
        "\n",
        "> 24/400/0.9144"
      ],
      "metadata": {
        "id": "gc0RSjFpRtEo"
      }
    },
    {
      "cell_type": "markdown",
      "source": [
        "* XGBoost"
      ],
      "metadata": {
        "id": "jQCfqI5VoISg"
      }
    },
    {
      "cell_type": "code",
      "source": [
        "xgb_params={'n_estimators':[100,125,150,200],'learning_rate':[0.01,0.05,0.1,0.25,0.5]}\n",
        "xgb_clf=XGBClassifier()\n",
        "grid_xgb_14=GridSearchCV(xgb_clf,param_grid=xgb_params,cv=5, n_jobs=-1)\n",
        "grid_xgb_14.fit(X_train_main14,y_train_main14)\n",
        "\n",
        "print('최적 하이퍼 파라미터:/n',grid_xgb_14.best_params_)\n",
        "print('최고 예측 정확도:{0:.4f}'.format(grid_xgb_14.best_score_))"
      ],
      "metadata": {
        "colab": {
          "base_uri": "https://localhost:8080/"
        },
        "id": "KeFjTyREoK-y",
        "outputId": "dcd4af29-05d9-404c-8bc5-1ed25cbd4a8e"
      },
      "execution_count": null,
      "outputs": [
        {
          "output_type": "stream",
          "name": "stdout",
          "text": [
            "최적 하이퍼 파라미터:/n {'learning_rate': 0.25, 'n_estimators': 100}\n",
            "최고 예측 정확도:0.9111\n"
          ]
        }
      ]
    },
    {
      "cell_type": "markdown",
      "source": [
        "\n",
        "xgb_params={'n_estimators':[100,125,150,200],'learning_rate':[0.01,0.05,0.1,0.25,0.5]}\n",
        "> 0.25/100/0.911\n",
        "\n",
        "xgb_params={'n_estimators':[10,50,75,100],'learning_rate':[0.01,0.05,0.1,0.25,0.5]}\n",
        "> 0.25/100/0.9111\n",
        "\n",
        "xgb_params={'n_estimators':[10],'learning_rate':[0.01,0.05,0.1,0.25,0.5]}\n",
        ">0.5/10/0.9108\n",
        "\n",
        "xgb_params={'n_estimators':[75],'learning_rate':[0.01]}\n",
        ">0.01/75/0.9105\n",
        "\n"
      ],
      "metadata": {
        "id": "t1SJQXBFNvqR"
      }
    },
    {
      "cell_type": "code",
      "source": [
        "xgb_clf_14=XGBClassifier(n_estimators=100, learning_rate=0.25,random_state=42)\n",
        "xgb_clf_14.fit(X_train_main14,y_train_main14)\n",
        "xgb_pred_14=xgb_clf_14.predict(X_test_main14)\n",
        "print('예측 정확도:{0:.4f}'.format(accuracy_score(y_test_main14, xgb_pred_14)))"
      ],
      "metadata": {
        "colab": {
          "base_uri": "https://localhost:8080/"
        },
        "outputId": "1ab31470-883a-4c46-9fac-51290fbca9c2",
        "id": "uXwR_gx9SIUi"
      },
      "execution_count": null,
      "outputs": [
        {
          "output_type": "stream",
          "name": "stdout",
          "text": [
            "예측 정확도:0.9139\n"
          ]
        }
      ]
    },
    {
      "cell_type": "markdown",
      "source": [
        "> 0.25/100 => 0.9139\n",
        "\n",
        "> 0.5/10 => 0.9136\n",
        "\n",
        "> 0.01/75 => 0.9135"
      ],
      "metadata": {
        "id": "VY4EYPM0Sa1u"
      }
    },
    {
      "cell_type": "markdown",
      "source": [
        "* LightGBM"
      ],
      "metadata": {
        "id": "YEx-253Fri_v"
      }
    },
    {
      "cell_type": "code",
      "source": [
        "lgbm_params={'n_estimators':[100,125,150,200],'learning_rate':[0.01,0.05,0.1,0.25,0.5]}\n",
        "lgbm_clf=LGBMClassifier()\n",
        "grid_lgbm_14=GridSearchCV(lgbm_clf,param_grid=lgbm_params,cv=5, n_jobs=-1)\n",
        "grid_lgbm_14.fit(X_train_main14,y_train_main14)\n",
        "\n",
        "print('최적 하이퍼 파라미터:/n',grid_lgbm_14.best_params_)\n",
        "print('최고 예측 정확도:{0:.4f}'.format(grid_lgbm_14.best_score_))"
      ],
      "metadata": {
        "colab": {
          "base_uri": "https://localhost:8080/"
        },
        "id": "-G-hrvvbrk6A",
        "outputId": "12d716b3-769e-4c18-cb32-be4c925e50d8"
      },
      "execution_count": null,
      "outputs": [
        {
          "output_type": "stream",
          "name": "stdout",
          "text": [
            "최적 하이퍼 파라미터:/n {'learning_rate': 0.05, 'n_estimators': 200}\n",
            "최고 예측 정확도:0.9113\n"
          ]
        }
      ]
    },
    {
      "cell_type": "markdown",
      "source": [
        "lgbm_params={'n_estimators':[25,50,75,100,200],'learning_rate':[0.01,0.05,0.1,0.25,0.5]}\n",
        "> 0.05/200/0.9113\n",
        "\n",
        "lgbm_params={'n_estimators':[25],'learning_rate':[0.01,0.05,0.1,0.25,0.5]}\n",
        "> 0.1/25/0.9112\n",
        "\n",
        "lgbm_params={'n_estimators':[25],'learning_rate':[0.5]}\n",
        "> 0.5/25/0.9065\n",
        "\n",
        "lgbm_params={'n_estimators':[400],'learning_rate':[0.5]}\n",
        "> 0.5/400/0.8875\n"
      ],
      "metadata": {
        "id": "wWiDXY9HbIGH"
      }
    },
    {
      "cell_type": "code",
      "source": [
        "lgbm_clf_14=LGBMClassifier(n_estimators=200, learning_rate=0.05,random_state=42)\n",
        "lgbm_clf_14.fit(X_train_main14,y_train_main14)\n",
        "lgbm_pred_14=lgbm_clf_14.predict(X_test_main14)\n",
        "print('예측 정확도:{0:.4f}'.format(accuracy_score(y_test_main14, lgbm_pred_14)))"
      ],
      "metadata": {
        "colab": {
          "base_uri": "https://localhost:8080/"
        },
        "outputId": "5b5b356d-4fc0-4c93-ac80-2b80e8be8063",
        "id": "0Yodubo9AVdl"
      },
      "execution_count": null,
      "outputs": [
        {
          "output_type": "stream",
          "name": "stdout",
          "text": [
            "예측 정확도:0.9145\n"
          ]
        }
      ]
    },
    {
      "cell_type": "markdown",
      "source": [
        "###main15"
      ],
      "metadata": {
        "id": "WzBQPP-yE8l2"
      }
    },
    {
      "cell_type": "markdown",
      "source": [
        "* 랜덤포레스트"
      ],
      "metadata": {
        "id": "-s4PcJihZd6X"
      }
    },
    {
      "cell_type": "code",
      "source": [
        "rf_params={'n_estimators':[100,125,150,200],'max_depth':[8,16,24]}\n",
        "rf_clf=RandomForestClassifier()\n",
        "grid_cv_15=GridSearchCV(rf_clf,param_grid=rf_params,cv=5, n_jobs=-1)\n",
        "grid_cv_15.fit(X_train_main15,y_train_main15)\n",
        "\n",
        "print('최적 하이퍼 파라미터:/n',grid_cv_15.best_params_)\n",
        "print('최고 예측 정확도:{0:.4f}'.format(grid_cv_15.best_score_))"
      ],
      "metadata": {
        "colab": {
          "base_uri": "https://localhost:8080/"
        },
        "outputId": "b47aa4bf-5382-4c79-ba63-25250d1d6ef8",
        "id": "P0_zfhvAFFjp"
      },
      "execution_count": null,
      "outputs": [
        {
          "output_type": "stream",
          "name": "stdout",
          "text": [
            "최적 하이퍼 파라미터:/n {'max_depth': 16, 'n_estimators': 200}\n",
            "최고 예측 정확도:0.7975\n"
          ]
        }
      ]
    },
    {
      "cell_type": "code",
      "source": [
        "rf_params={'n_estimators':[250,300,400],'max_depth':[8,16,24]}\n",
        "rf_clf=RandomForestClassifier()\n",
        "grid_cv_15=GridSearchCV(rf_clf,param_grid=rf_params,cv=5, n_jobs=-1)\n",
        "grid_cv_15.fit(X_train_main15,y_train_main15)\n",
        "\n",
        "print('최적 하이퍼 파라미터:/n',grid_cv_15.best_params_)\n",
        "print('최고 예측 정확도:{0:.4f}'.format(grid_cv_15.best_score_))"
      ],
      "metadata": {
        "colab": {
          "base_uri": "https://localhost:8080/"
        },
        "id": "zFzyitDwjROX",
        "outputId": "b5830431-7b66-4d40-f4e8-86989041ac74"
      },
      "execution_count": null,
      "outputs": [
        {
          "output_type": "stream",
          "name": "stdout",
          "text": [
            "최적 하이퍼 파라미터:/n {'max_depth': 16, 'n_estimators': 400}\n",
            "최고 예측 정확도:0.7974\n"
          ]
        }
      ]
    },
    {
      "cell_type": "code",
      "source": [
        "rf_clf_15=RandomForestClassifier(n_estimators=200, max_depth=16,random_state=42)\n",
        "rf_clf_15.fit(X_train_main15,y_train_main15)\n",
        "pred_15=rf_clf_15.predict(X_test_main15)\n",
        "print('예측 정확도:{0:.4f}'.format(accuracy_score(y_test_main15, pred_15)))"
      ],
      "metadata": {
        "colab": {
          "base_uri": "https://localhost:8080/"
        },
        "outputId": "fbe19977-af27-42eb-ee66-a9c0dc822531",
        "id": "1CQSOMZxTBsa"
      },
      "execution_count": null,
      "outputs": [
        {
          "output_type": "stream",
          "name": "stdout",
          "text": [
            "예측 정확도:0.7959\n"
          ]
        }
      ]
    },
    {
      "cell_type": "markdown",
      "source": [
        "> 16/75 => 0.7961\n",
        "\n",
        "> 8/75 => 0.7954\n",
        "\n",
        ">8/10 => 0.7954"
      ],
      "metadata": {
        "id": "YI4fmgh1TKDZ"
      }
    },
    {
      "cell_type": "markdown",
      "source": [
        "* XGBoost"
      ],
      "metadata": {
        "id": "gv10-V9Tr7io"
      }
    },
    {
      "cell_type": "code",
      "source": [
        "xgb_params={'n_estimators':[100,125,150,200],'learning_rate':[0.01,0.05,0.1,0.25,0.5]}\n",
        "xgb_clf=XGBClassifier()\n",
        "grid_xgb_15=GridSearchCV(xgb_clf,param_grid=xgb_params,cv=5, n_jobs=-1)\n",
        "grid_xgb_15.fit(X_train_main15,y_train_main15)\n",
        "\n",
        "print('최적 하이퍼 파라미터:/n',grid_xgb_15.best_params_)\n",
        "print('최고 예측 정확도:{0:.4f}'.format(grid_xgb_15.best_score_))"
      ],
      "metadata": {
        "colab": {
          "base_uri": "https://localhost:8080/"
        },
        "id": "7ClJGouZr7i5",
        "outputId": "7c728a3b-7733-4dcf-a158-605ee1b6df22"
      },
      "execution_count": null,
      "outputs": [
        {
          "output_type": "stream",
          "name": "stdout",
          "text": [
            "최적 하이퍼 파라미터:/n {'learning_rate': 0.1, 'n_estimators': 150}\n",
            "최고 예측 정확도:0.7972\n"
          ]
        }
      ]
    },
    {
      "cell_type": "markdown",
      "source": [
        "xgb_params={'n_estimators':[10,50,75,100],'learning_rate':[0.01,0.05,0.1,0.25,0.5]}\n",
        "> 0.5/10/0.7972\n",
        "\n",
        "xgb_params={'n_estimators':[100],'learning_rate':[0.01,0.05,0.1,0.25,0.5]}\n",
        ">0.01/100/0.7972\n",
        "\n",
        "xgb_params={'n_estimators':[50],'learning_rate':[0.01,0.05,0.1,0.25,0.5]}\n",
        "> 0.01/50/0.7972\n",
        "\n",
        "xgb_params={'n_estimators':[50],'learning_rate':[0.5]}\n",
        ">0.5/50/0.7967"
      ],
      "metadata": {
        "id": "XT901CMNQo8g"
      }
    },
    {
      "cell_type": "code",
      "source": [
        "xgb_clf_15=XGBClassifier(n_estimators=150, learning_rate=0.1,random_state=42)\n",
        "xgb_clf_15.fit(X_train_main15,y_train_main15)\n",
        "xgb_pred_15=xgb_clf_15.predict(X_test_main15)\n",
        "print('예측 정확도:{0:.4f}'.format(accuracy_score(y_test_main15, xgb_pred_15)))"
      ],
      "metadata": {
        "colab": {
          "base_uri": "https://localhost:8080/"
        },
        "outputId": "ce6efa3d-2985-4013-deb4-ee9f1d2b94b1",
        "id": "C4y51zC1TczC"
      },
      "execution_count": null,
      "outputs": [
        {
          "output_type": "stream",
          "name": "stdout",
          "text": [
            "예측 정확도:0.7954\n"
          ]
        }
      ]
    },
    {
      "cell_type": "markdown",
      "source": [
        "> 0.5/10 => 0.7954\n",
        "\n",
        "> 0.01/100 => 0.7954\n",
        "\n",
        "> 0.01/50 => 0.7954"
      ],
      "metadata": {
        "id": "BjTz7BaKTqPu"
      }
    },
    {
      "cell_type": "markdown",
      "source": [
        "* LightGBM"
      ],
      "metadata": {
        "id": "vGpj8Ue3r7i6"
      }
    },
    {
      "cell_type": "code",
      "source": [
        "lgbm_params={'n_estimators':[100,125,150,200],'learning_rate':[0.01,0.05,0.1,0.25,0.5]}\n",
        "lgbm_clf=LGBMClassifier()\n",
        "grid_lgbm_15=GridSearchCV(lgbm_clf,param_grid=lgbm_params,cv=5, n_jobs=-1)\n",
        "grid_lgbm_15.fit(X_train_main15,y_train_main15)\n",
        "\n",
        "print('최적 하이퍼 파라미터:/n',grid_lgbm_15.best_params_)\n",
        "print('최고 예측 정확도:{0:.4f}'.format(grid_lgbm_15.best_score_))"
      ],
      "metadata": {
        "colab": {
          "base_uri": "https://localhost:8080/"
        },
        "id": "gvFlenysr7i6",
        "outputId": "32950850-b3e7-4bf9-d12c-c645d4e70f7e"
      },
      "execution_count": null,
      "outputs": [
        {
          "output_type": "stream",
          "name": "stdout",
          "text": [
            "최적 하이퍼 파라미터:/n {'learning_rate': 0.1, 'n_estimators': 125}\n",
            "최고 예측 정확도:0.7979\n"
          ]
        }
      ]
    },
    {
      "cell_type": "code",
      "source": [
        "lgbm_clf_15=LGBMClassifier(n_estimators=125, learning_rate=0.1,random_state=42)\n",
        "lgbm_clf_15.fit(X_train_main15,y_train_main15)\n",
        "lgbm_pred_15=lgbm_clf_15.predict(X_test_main15)\n",
        "print('예측 정확도:{0:.4f}'.format(accuracy_score(y_test_main15, lgbm_pred_15)))"
      ],
      "metadata": {
        "colab": {
          "base_uri": "https://localhost:8080/"
        },
        "outputId": "94c48d7e-9713-44f6-d90f-8018eebf4df3",
        "id": "u4o95wSIAr1J"
      },
      "execution_count": null,
      "outputs": [
        {
          "output_type": "stream",
          "name": "stdout",
          "text": [
            "예측 정확도:0.7960\n"
          ]
        }
      ]
    },
    {
      "cell_type": "markdown",
      "source": [
        "###main16"
      ],
      "metadata": {
        "id": "vu0jKhTsE-CG"
      }
    },
    {
      "cell_type": "markdown",
      "source": [
        "* 랜덤포레스트"
      ],
      "metadata": {
        "id": "9yi_FbeQZeZS"
      }
    },
    {
      "cell_type": "code",
      "source": [
        "rf_params={'n_estimators':[100,125,150,200],'max_depth':[8,16,24]}\n",
        "rf_clf=RandomForestClassifier()\n",
        "grid_cv_16=GridSearchCV(rf_clf,param_grid=rf_params,cv=5, n_jobs=-1)\n",
        "grid_cv_16.fit(X_train_main16,y_train_main16)\n",
        "\n",
        "print('최적 하이퍼 파라미터:/n',grid_cv_16.best_params_)\n",
        "print('최고 예측 정확도:{0:.4f}'.format(grid_cv_16.best_score_))"
      ],
      "metadata": {
        "colab": {
          "base_uri": "https://localhost:8080/"
        },
        "outputId": "fb16d72f-f61e-4d9e-aacd-0095ad9fd562",
        "id": "olS1-hMrFGWV"
      },
      "execution_count": null,
      "outputs": [
        {
          "output_type": "stream",
          "name": "stdout",
          "text": [
            "최적 하이퍼 파라미터:/n {'max_depth': 8, 'n_estimators': 150}\n",
            "최고 예측 정확도:0.9044\n"
          ]
        }
      ]
    },
    {
      "cell_type": "code",
      "source": [
        "rf_clf_16=RandomForestClassifier(n_estimators=150, max_depth=8,random_state=42)\n",
        "rf_clf_16.fit(X_train_main16,y_train_main16)\n",
        "pred_16=rf_clf_16.predict(X_test_main16)\n",
        "print('예측 정확도:{0:.4f}'.format(accuracy_score(y_test_main16, pred_16)))"
      ],
      "metadata": {
        "colab": {
          "base_uri": "https://localhost:8080/"
        },
        "outputId": "3d8cff6e-63dd-4ba2-9383-ea2a1b6638cd",
        "id": "EoUDIpC9UIqb"
      },
      "execution_count": null,
      "outputs": [
        {
          "output_type": "stream",
          "name": "stdout",
          "text": [
            "예측 정확도:0.9057\n"
          ]
        }
      ]
    },
    {
      "cell_type": "markdown",
      "source": [
        "> 16/75 => 0.9054\n",
        "\n",
        "> 8/150 => 0.9057"
      ],
      "metadata": {
        "id": "UGb4Vy8VUIqb"
      }
    },
    {
      "cell_type": "markdown",
      "source": [
        "* XGBoost"
      ],
      "metadata": {
        "id": "dn5hU8AlsE4H"
      }
    },
    {
      "cell_type": "code",
      "source": [
        "xgb_params={'n_estimators':[100,125,150,200],'learning_rate':[0.01,0.05,0.1,0.25,0.5]}\n",
        "xgb_clf=XGBClassifier()\n",
        "grid_xgb_16=GridSearchCV(xgb_clf,param_grid=xgb_params,cv=5, n_jobs=-1)\n",
        "grid_xgb_16.fit(X_train_main16,y_train_main16)\n",
        "\n",
        "print('최적 하이퍼 파라미터:/n',grid_xgb_16.best_params_)\n",
        "print('최고 예측 정확도:{0:.4f}'.format(grid_xgb_16.best_score_))"
      ],
      "metadata": {
        "colab": {
          "base_uri": "https://localhost:8080/"
        },
        "id": "wHnVi8wVsE4I",
        "outputId": "e2af34ff-210b-4ed0-da87-3b230535dfb3"
      },
      "execution_count": null,
      "outputs": [
        {
          "output_type": "stream",
          "name": "stdout",
          "text": [
            "최적 하이퍼 파라미터:/n {'learning_rate': 0.05, 'n_estimators': 125}\n",
            "최고 예측 정확도:0.9044\n"
          ]
        }
      ]
    },
    {
      "cell_type": "markdown",
      "source": [
        "xgb_params={'n_estimators':[75],'learning_rate':[0.01,0.05,0.1,0.25,0.5]}\n",
        "> 0.1/75/0.9044\n",
        "\n",
        "xgb_params={'n_estimators':[400],'learning_rate':[0.01]}\n",
        "> 0.01/400/0.9044"
      ],
      "metadata": {
        "id": "VX2nb3bfUpZB"
      }
    },
    {
      "cell_type": "code",
      "source": [
        "xgb_clf_16=XGBClassifier(n_estimators=125, learning_rate=0.05,random_state=42)\n",
        "xgb_clf_16.fit(X_train_main16,y_train_main16)\n",
        "xgb_pred_16=xgb_clf_16.predict(X_test_main16)\n",
        "print('예측 정확도:{0:.4f}'.format(accuracy_score(y_test_main16, xgb_pred_16)))"
      ],
      "metadata": {
        "colab": {
          "base_uri": "https://localhost:8080/"
        },
        "outputId": "d41ce16c-dae8-4d95-d218-349fbf318df6",
        "id": "FSiVfDbP-ow-"
      },
      "execution_count": null,
      "outputs": [
        {
          "output_type": "stream",
          "name": "stdout",
          "text": [
            "예측 정확도:0.9058\n"
          ]
        }
      ]
    },
    {
      "cell_type": "markdown",
      "source": [
        "* LightGBM"
      ],
      "metadata": {
        "id": "FahLOVKgsE4J"
      }
    },
    {
      "cell_type": "code",
      "source": [
        "lgbm_params={'n_estimators':[100,125,150,200],'learning_rate':[0.01,0.05,0.1,0.25,0.5]}\n",
        "lgbm_clf=LGBMClassifier()\n",
        "grid_lgbm_16=GridSearchCV(lgbm_clf,param_grid=lgbm_params,cv=5, n_jobs=-1)\n",
        "grid_lgbm_16.fit(X_train_main16,y_train_main16)\n",
        "\n",
        "print('최적 하이퍼 파라미터:/n',grid_lgbm_16.best_params_)\n",
        "print('최고 예측 정확도:{0:.4f}'.format(grid_lgbm_16.best_score_))"
      ],
      "metadata": {
        "colab": {
          "base_uri": "https://localhost:8080/"
        },
        "id": "dhKwFVhcsE4J",
        "outputId": "9a614996-0144-4edf-a3f4-a194c483ad6f"
      },
      "execution_count": null,
      "outputs": [
        {
          "output_type": "stream",
          "name": "stdout",
          "text": [
            "최적 하이퍼 파라미터:/n {'learning_rate': 0.01, 'n_estimators': 100}\n",
            "최고 예측 정확도:0.9044\n"
          ]
        }
      ]
    },
    {
      "cell_type": "code",
      "source": [
        "lgbm_clf_16=LGBMClassifier(n_estimators=100, learning_rate=0.01,random_state=42)\n",
        "lgbm_clf_16.fit(X_train_main16,y_train_main16)\n",
        "lgbm_pred_16=lgbm_clf_16.predict(X_test_main16)\n",
        "print('예측 정확도:{0:.4f}'.format(accuracy_score(y_test_main16, lgbm_pred_16)))"
      ],
      "metadata": {
        "colab": {
          "base_uri": "https://localhost:8080/"
        },
        "outputId": "5d8a7084-6272-4746-8c44-aa4fabfbb816",
        "id": "P_0wKJRRAyQh"
      },
      "execution_count": null,
      "outputs": [
        {
          "output_type": "stream",
          "name": "stdout",
          "text": [
            "예측 정확도:0.9058\n"
          ]
        }
      ]
    },
    {
      "cell_type": "markdown",
      "source": [
        "###main17"
      ],
      "metadata": {
        "id": "W-XRjv1FE_sX"
      }
    },
    {
      "cell_type": "markdown",
      "source": [
        "* 랜덤포레스트"
      ],
      "metadata": {
        "id": "b7ZjezdfZerC"
      }
    },
    {
      "cell_type": "code",
      "source": [
        "rf_params={'n_estimators':[100,125,150,200],'max_depth':[8,16,24]}\n",
        "rf_clf=RandomForestClassifier()\n",
        "grid_cv_17=GridSearchCV(rf_clf,param_grid=rf_params,cv=5, n_jobs=-1)\n",
        "grid_cv_17.fit(X_train_main17,y_train_main17)\n",
        "\n",
        "print('최적 하이퍼 파라미터:/n',grid_cv_17.best_params_)\n",
        "print('최고 예측 정확도:{0:.4f}'.format(grid_cv_17.best_score_))"
      ],
      "metadata": {
        "colab": {
          "base_uri": "https://localhost:8080/"
        },
        "outputId": "053aae9a-2f46-426f-c1b3-3f81091b1187",
        "id": "T6JE0U4BFGz4"
      },
      "execution_count": null,
      "outputs": [
        {
          "output_type": "stream",
          "name": "stdout",
          "text": [
            "최적 하이퍼 파라미터:/n {'max_depth': 8, 'n_estimators': 100}\n",
            "최고 예측 정확도:0.9340\n"
          ]
        }
      ]
    },
    {
      "cell_type": "markdown",
      "source": [
        "rf_params={'n_estimators':[10,25,50,75,100,150,200],'max_depth':[8,16,24]}\n",
        "> 8/75/0.9340\n",
        "\n",
        "rf_params={'n_estimators':[10],'max_depth':[8,16,24]}\n",
        "> 8/10/0.9339"
      ],
      "metadata": {
        "id": "sv4_6XsQMcvw"
      }
    },
    {
      "cell_type": "code",
      "source": [
        "rf_clf_17=RandomForestClassifier(n_estimators=100, max_depth=8,random_state=42)\n",
        "rf_clf_17.fit(X_train_main17,y_train_main17)\n",
        "pred_17=rf_clf_17.predict(X_test_main17)\n",
        "print('예측 정확도:{0:.4f}'.format(accuracy_score(y_test_main17, pred_17)))"
      ],
      "metadata": {
        "colab": {
          "base_uri": "https://localhost:8080/"
        },
        "outputId": "dccdaf4b-7120-4857-c011-a0390faba6ce",
        "id": "RDyAgMNjWGqU"
      },
      "execution_count": null,
      "outputs": [
        {
          "output_type": "stream",
          "name": "stdout",
          "text": [
            "예측 정확도:0.9311\n"
          ]
        }
      ]
    },
    {
      "cell_type": "markdown",
      "source": [
        "* XGBoost"
      ],
      "metadata": {
        "id": "bdlKsLiKsLTo"
      }
    },
    {
      "cell_type": "code",
      "source": [
        "xgb_params={'n_estimators':[100,125,150,200],'learning_rate':[0.01,0.05,0.1,0.25,0.5]}\n",
        "xgb_clf=XGBClassifier()\n",
        "grid_xgb_17=GridSearchCV(xgb_clf,param_grid=xgb_params,cv=5, n_jobs=-1)\n",
        "grid_xgb_17.fit(X_train_main17,y_train_main17)\n",
        "\n",
        "print('최적 하이퍼 파라미터:/n',grid_xgb_17.best_params_)\n",
        "print('최고 예측 정확도:{0:.4f}'.format(grid_xgb_17.best_score_))"
      ],
      "metadata": {
        "colab": {
          "base_uri": "https://localhost:8080/"
        },
        "id": "OiJusEQdsLTp",
        "outputId": "391c7285-1d93-4279-8b2b-ebb21e74545a"
      },
      "execution_count": null,
      "outputs": [
        {
          "output_type": "stream",
          "name": "stdout",
          "text": [
            "최적 하이퍼 파라미터:/n {'learning_rate': 0.05, 'n_estimators': 100}\n",
            "최고 예측 정확도:0.9340\n"
          ]
        }
      ]
    },
    {
      "cell_type": "code",
      "source": [
        "xgb_clf_17=XGBClassifier(n_estimators=100, learning_rate=0.05,random_state=42)\n",
        "xgb_clf_17.fit(X_train_main17,y_train_main17)\n",
        "xgb_pred_17=xgb_clf_17.predict(X_test_main17)\n",
        "print('예측 정확도:{0:.4f}'.format(accuracy_score(y_test_main17, xgb_pred_17)))"
      ],
      "metadata": {
        "colab": {
          "base_uri": "https://localhost:8080/"
        },
        "outputId": "a5b67c56-ed38-4693-8d54-27d6c23bcbf9",
        "id": "W4Mqo29o-xSA"
      },
      "execution_count": null,
      "outputs": [
        {
          "output_type": "stream",
          "name": "stdout",
          "text": [
            "예측 정확도:0.9311\n"
          ]
        }
      ]
    },
    {
      "cell_type": "markdown",
      "source": [
        "* LightGBM"
      ],
      "metadata": {
        "id": "hV6nvWv6sLTp"
      }
    },
    {
      "cell_type": "code",
      "source": [
        "lgbm_params={'n_estimators':[100,125,150,200],'learning_rate':[0.01,0.05,0.1,0.25,0.5]}\n",
        "lgbm_clf=LGBMClassifier()\n",
        "grid_lgbm_17=GridSearchCV(lgbm_clf,param_grid=lgbm_params,cv=5, n_jobs=-1)\n",
        "grid_lgbm_17.fit(X_train_main17,y_train_main17)\n",
        "\n",
        "print('최적 하이퍼 파라미터:/n',grid_lgbm_17.best_params_)\n",
        "print('최고 예측 정확도:{0:.4f}'.format(grid_lgbm_17.best_score_))"
      ],
      "metadata": {
        "colab": {
          "base_uri": "https://localhost:8080/"
        },
        "id": "j5P8VntAsLTp",
        "outputId": "491d8571-058f-4e82-c510-ff72be307851"
      },
      "execution_count": null,
      "outputs": [
        {
          "output_type": "stream",
          "name": "stdout",
          "text": [
            "최적 하이퍼 파라미터:/n {'learning_rate': 0.05, 'n_estimators': 100}\n",
            "최고 예측 정확도:0.9339\n"
          ]
        }
      ]
    },
    {
      "cell_type": "code",
      "source": [
        "lgbm_clf_17=LGBMClassifier(n_estimators=100, learning_rate=0.05,random_state=42)\n",
        "lgbm_clf_17.fit(X_train_main17,y_train_main17)\n",
        "lgbm_pred_17=lgbm_clf_17.predict(X_test_main17)\n",
        "print('예측 정확도:{0:.4f}'.format(accuracy_score(y_test_main17, lgbm_pred_17)))"
      ],
      "metadata": {
        "colab": {
          "base_uri": "https://localhost:8080/"
        },
        "outputId": "5cb67280-d559-4e8d-81d7-da45b33c32ed",
        "id": "z37jdZz6BGpn"
      },
      "execution_count": null,
      "outputs": [
        {
          "output_type": "stream",
          "name": "stdout",
          "text": [
            "예측 정확도:0.9311\n"
          ]
        }
      ]
    },
    {
      "cell_type": "markdown",
      "source": [
        "###main18"
      ],
      "metadata": {
        "id": "3cAPhdRvFAyi"
      }
    },
    {
      "cell_type": "markdown",
      "source": [
        "* 랜덤포레스트"
      ],
      "metadata": {
        "id": "m0u2gVjAZfC6"
      }
    },
    {
      "cell_type": "code",
      "source": [
        "rf_params={'n_estimators':[100,125,150,200],'max_depth':[8,16,24]}\n",
        "rf_clf=RandomForestClassifier()\n",
        "grid_cv_18=GridSearchCV(rf_clf,param_grid=rf_params,cv=5, n_jobs=-1)\n",
        "grid_cv_18.fit(X_train_main18,y_train_main18)\n",
        "\n",
        "print('최적 하이퍼 파라미터:/n',grid_cv_18.best_params_)\n",
        "print('최고 예측 정확도:{0:.4f}'.format(grid_cv_18.best_score_))"
      ],
      "metadata": {
        "colab": {
          "base_uri": "https://localhost:8080/"
        },
        "outputId": "592d2a05-f7f7-413f-c249-f2824a0dbf91",
        "id": "QYJ9G1amFHCW"
      },
      "execution_count": null,
      "outputs": [
        {
          "output_type": "stream",
          "name": "stdout",
          "text": [
            "최적 하이퍼 파라미터:/n {'max_depth': 16, 'n_estimators': 150}\n",
            "최고 예측 정확도:0.9391\n"
          ]
        }
      ]
    },
    {
      "cell_type": "code",
      "source": [
        "rf_clf_18=RandomForestClassifier(n_estimators=150, max_depth=16,random_state=42)\n",
        "rf_clf_18.fit(X_train_main18,y_train_main18)\n",
        "pred_18=rf_clf_18.predict(X_test_main18)\n",
        "print('예측 정확도:{0:.4f}'.format(accuracy_score(y_test_main18, pred_18)))"
      ],
      "metadata": {
        "colab": {
          "base_uri": "https://localhost:8080/"
        },
        "outputId": "040ddb9e-f54d-45d9-9638-217b2810adf8",
        "id": "v_hquw3yVtcV"
      },
      "execution_count": null,
      "outputs": [
        {
          "output_type": "stream",
          "name": "stdout",
          "text": [
            "예측 정확도:0.9390\n"
          ]
        }
      ]
    },
    {
      "cell_type": "markdown",
      "source": [
        "> 16/25 => 0.9389"
      ],
      "metadata": {
        "id": "SAWFnTncVtca"
      }
    },
    {
      "cell_type": "markdown",
      "source": [
        "* XGBoost"
      ],
      "metadata": {
        "id": "LRB_ry2JsRim"
      }
    },
    {
      "cell_type": "code",
      "source": [
        "xgb_params={'n_estimators':[100,125,150,200],'learning_rate':[0.01,0.05,0.1,0.25,0.5]}\n",
        "xgb_clf=XGBClassifier()\n",
        "grid_xgb_18=GridSearchCV(xgb_clf,param_grid=xgb_params,cv=5, n_jobs=-1)\n",
        "grid_xgb_18.fit(X_train_main18,y_train_main18)\n",
        "\n",
        "print('최적 하이퍼 파라미터:/n',grid_xgb_18.best_params_)\n",
        "print('최고 예측 정확도:{0:.4f}'.format(grid_xgb_18.best_score_))"
      ],
      "metadata": {
        "colab": {
          "base_uri": "https://localhost:8080/"
        },
        "id": "0Y2Xpfq2sRio",
        "outputId": "cfe8fe48-82c6-4e3d-fc16-0552f92d1144"
      },
      "execution_count": null,
      "outputs": [
        {
          "output_type": "stream",
          "name": "stdout",
          "text": [
            "최적 하이퍼 파라미터:/n {'learning_rate': 0.25, 'n_estimators': 100}\n",
            "최고 예측 정확도:0.9392\n"
          ]
        }
      ]
    },
    {
      "cell_type": "code",
      "source": [
        "xgb_clf_18=XGBClassifier(n_estimators=100, learning_rate=0.25,random_state=42)\n",
        "xgb_clf_18.fit(X_train_main18,y_train_main18)\n",
        "xgb_pred_18=xgb_clf_18.predict(X_test_main18)\n",
        "print('예측 정확도:{0:.4f}'.format(accuracy_score(y_test_main18, xgb_pred_18)))"
      ],
      "metadata": {
        "colab": {
          "base_uri": "https://localhost:8080/"
        },
        "outputId": "21817fda-013d-4506-ea83-7205832a0985",
        "id": "nGtFJm3W-5TH"
      },
      "execution_count": null,
      "outputs": [
        {
          "output_type": "stream",
          "name": "stdout",
          "text": [
            "예측 정확도:0.9391\n"
          ]
        }
      ]
    },
    {
      "cell_type": "markdown",
      "source": [
        "* LightGBM"
      ],
      "metadata": {
        "id": "iLfT35uvsRiq"
      }
    },
    {
      "cell_type": "code",
      "source": [
        "lgbm_params={'n_estimators':[100,125,150,200],'learning_rate':[0.01,0.05,0.1,0.25,0.5]}\n",
        "lgbm_clf=LGBMClassifier()\n",
        "grid_lgbm_18=GridSearchCV(lgbm_clf,param_grid=lgbm_params,cv=5, n_jobs=-1)\n",
        "grid_lgbm_18.fit(X_train_main18,y_train_main18)\n",
        "\n",
        "print('최적 하이퍼 파라미터:/n',grid_lgbm_18.best_params_)\n",
        "print('최고 예측 정확도:{0:.4f}'.format(grid_lgbm_18.best_score_))"
      ],
      "metadata": {
        "colab": {
          "base_uri": "https://localhost:8080/"
        },
        "id": "OR4HwW1csRir",
        "outputId": "d8b8bd98-73be-433f-a31f-465676224a64"
      },
      "execution_count": null,
      "outputs": [
        {
          "output_type": "stream",
          "name": "stdout",
          "text": [
            "최적 하이퍼 파라미터:/n {'learning_rate': 0.1, 'n_estimators': 100}\n",
            "최고 예측 정확도:0.9393\n"
          ]
        }
      ]
    },
    {
      "cell_type": "code",
      "source": [
        "lgbm_clf_18=LGBMClassifier(n_estimators=100, learning_rate=0.1,random_state=42)\n",
        "lgbm_clf_18.fit(X_train_main18,y_train_main18)\n",
        "lgbm_pred_18=lgbm_clf_18.predict(X_test_main18)\n",
        "print('예측 정확도:{0:.4f}'.format(accuracy_score(y_test_main18, lgbm_pred_18)))"
      ],
      "metadata": {
        "colab": {
          "base_uri": "https://localhost:8080/"
        },
        "outputId": "18eaaa8f-7ccf-48c5-a7e8-4afad19983a5",
        "id": "0mgEYBuMBN6f"
      },
      "execution_count": null,
      "outputs": [
        {
          "output_type": "stream",
          "name": "stdout",
          "text": [
            "예측 정확도:0.9394\n"
          ]
        }
      ]
    },
    {
      "cell_type": "markdown",
      "source": [
        "###main19"
      ],
      "metadata": {
        "id": "FEkVU7tTFCN8"
      }
    },
    {
      "cell_type": "markdown",
      "source": [
        "* 랜덤포레스트"
      ],
      "metadata": {
        "id": "3FeXFYE_ZfVR"
      }
    },
    {
      "cell_type": "code",
      "source": [
        "\n",
        "rf_params={'n_estimators':[100,125,150,200],'max_depth':[8,16,24]}\n",
        "rf_clf=RandomForestClassifier()\n",
        "grid_cv_19=GridSearchCV(rf_clf,param_grid=rf_params,cv=5, n_jobs=-1)\n",
        "grid_cv_19.fit(X_train_main19,y_train_main19)\n",
        "\n",
        "print('최적 하이퍼 파라미터:/n',grid_cv_19.best_params_)\n",
        "print('최고 예측 정확도:{0:.4f}'.format(grid_cv_19.best_score_))"
      ],
      "metadata": {
        "colab": {
          "base_uri": "https://localhost:8080/"
        },
        "outputId": "125c8b4c-5e0d-407e-e42c-47fcedaaf23c",
        "id": "giG09zfLFHS-"
      },
      "execution_count": null,
      "outputs": [
        {
          "output_type": "stream",
          "name": "stdout",
          "text": [
            "최적 하이퍼 파라미터:/n {'max_depth': 24, 'n_estimators': 200}\n",
            "최고 예측 정확도:0.9442\n"
          ]
        }
      ]
    },
    {
      "cell_type": "code",
      "source": [
        "rf_clf_19=RandomForestClassifier(n_estimators=200, max_depth=24,random_state=42)\n",
        "rf_clf_19.fit(X_train_main19,y_train_main19)\n",
        "pred_19=rf_clf_19.predict(X_test_main19)\n",
        "print('예측 정확도:{0:.4f}'.format(accuracy_score(y_test_main19, pred_19)))"
      ],
      "metadata": {
        "colab": {
          "base_uri": "https://localhost:8080/"
        },
        "outputId": "92d588b1-1452-44df-f85d-c566e80ee2d1",
        "id": "F7ymcqwaX790"
      },
      "execution_count": null,
      "outputs": [
        {
          "output_type": "stream",
          "name": "stdout",
          "text": [
            "예측 정확도:0.9444\n"
          ]
        }
      ]
    },
    {
      "cell_type": "markdown",
      "source": [
        "> 16/25 => 0.9444"
      ],
      "metadata": {
        "id": "qjiVDd-lX7-c"
      }
    },
    {
      "cell_type": "markdown",
      "source": [
        "* XGBoost"
      ],
      "metadata": {
        "id": "UD4zQ6-isWdA"
      }
    },
    {
      "cell_type": "code",
      "source": [
        "xgb_params={'n_estimators':[100,125,150,200],'learning_rate':[0.01,0.05,0.1,0.25,0.5]}\n",
        "xgb_clf=XGBClassifier()\n",
        "grid_xgb_19=GridSearchCV(xgb_clf,param_grid=xgb_params,cv=5, n_jobs=-1)\n",
        "grid_xgb_19.fit(X_train_main19,y_train_main19)\n",
        "\n",
        "print('최적 하이퍼 파라미터:/n',grid_xgb_19.best_params_)\n",
        "print('최고 예측 정확도:{0:.4f}'.format(grid_xgb_19.best_score_))"
      ],
      "metadata": {
        "colab": {
          "base_uri": "https://localhost:8080/"
        },
        "id": "DLtHrRcbsWdB",
        "outputId": "c1e27dd0-0a92-4452-f0f7-d5572fc5c8a8"
      },
      "execution_count": null,
      "outputs": [
        {
          "output_type": "stream",
          "name": "stdout",
          "text": [
            "최적 하이퍼 파라미터:/n {'learning_rate': 0.25, 'n_estimators': 125}\n",
            "최고 예측 정확도:0.9441\n"
          ]
        }
      ]
    },
    {
      "cell_type": "code",
      "source": [
        "xgb_clf_19=XGBClassifier(n_estimators=125, learning_rate=0.25,random_state=42)\n",
        "xgb_clf_19.fit(X_train_main19,y_train_main19)\n",
        "xgb_pred_19=xgb_clf_19.predict(X_test_main19)\n",
        "print('예측 정확도:{0:.4f}'.format(accuracy_score(y_test_main19, xgb_pred_19)))"
      ],
      "metadata": {
        "colab": {
          "base_uri": "https://localhost:8080/"
        },
        "outputId": "b90ee9e7-39e9-4370-daba-e9b0e7053d35",
        "id": "EWb3lRqK_IrW"
      },
      "execution_count": null,
      "outputs": [
        {
          "output_type": "stream",
          "name": "stdout",
          "text": [
            "예측 정확도:0.9443\n"
          ]
        }
      ]
    },
    {
      "cell_type": "markdown",
      "source": [
        "* LightGBM"
      ],
      "metadata": {
        "id": "DnBrIJmAsWdB"
      }
    },
    {
      "cell_type": "code",
      "source": [
        "lgbm_params={'n_estimators':[100,125,150,200],'learning_rate':[0.01,0.05,0.1,0.25,0.5]}\n",
        "lgbm_clf=LGBMClassifier()\n",
        "grid_lgbm_19=GridSearchCV(lgbm_clf,param_grid=lgbm_params,cv=5, n_jobs=-1)\n",
        "grid_lgbm_19.fit(X_train_main19,y_train_main19)\n",
        "\n",
        "print('최적 하이퍼 파라미터:/n',grid_lgbm_19.best_params_)\n",
        "print('최고 예측 정확도:{0:.4f}'.format(grid_lgbm_19.best_score_))"
      ],
      "metadata": {
        "colab": {
          "base_uri": "https://localhost:8080/"
        },
        "id": "A12EM4_LsWdB",
        "outputId": "eb1af27d-f588-46a5-a0b8-f0637a81c2fd"
      },
      "execution_count": null,
      "outputs": [
        {
          "output_type": "stream",
          "name": "stdout",
          "text": [
            "최적 하이퍼 파라미터:/n {'learning_rate': 0.05, 'n_estimators': 200}\n",
            "최고 예측 정확도:0.9442\n"
          ]
        }
      ]
    },
    {
      "cell_type": "code",
      "source": [
        "lgbm_clf_19=LGBMClassifier(n_estimators=200, learning_rate=0.05,random_state=42)\n",
        "lgbm_clf_19.fit(X_train_main19,y_train_main19)\n",
        "lgbm_pred_19=lgbm_clf_19.predict(X_test_main19)\n",
        "print('예측 정확도:{0:.4f}'.format(accuracy_score(y_test_main19, lgbm_pred_19)))"
      ],
      "metadata": {
        "colab": {
          "base_uri": "https://localhost:8080/"
        },
        "outputId": "9e2d70d1-65dd-4924-e67b-89c738aad9d5",
        "id": "tani59JnBUEv"
      },
      "execution_count": null,
      "outputs": [
        {
          "output_type": "stream",
          "name": "stdout",
          "text": [
            "예측 정확도:0.9445\n"
          ]
        }
      ]
    },
    {
      "cell_type": "markdown",
      "source": [
        "###main20"
      ],
      "metadata": {
        "id": "vLMGvCQ9YsL5"
      }
    },
    {
      "cell_type": "markdown",
      "source": [
        "* 랜덤포레스트"
      ],
      "metadata": {
        "id": "ysSGCVhaZfq0"
      }
    },
    {
      "cell_type": "code",
      "source": [
        "rf_params={'n_estimators':[100,125,150,200],'max_depth':[8,16,24]}\n",
        "rf_clf=RandomForestClassifier()\n",
        "grid_cv_20=GridSearchCV(rf_clf,param_grid=rf_params,cv=5, n_jobs=-1)\n",
        "grid_cv_20.fit(X_train_main20,y_train_main20)\n",
        "\n",
        "print('최적 하이퍼 파라미터:/n',grid_cv_20.best_params_)\n",
        "print('최고 예측 정확도:{0:.4f}'.format(grid_cv_20.best_score_))"
      ],
      "metadata": {
        "colab": {
          "base_uri": "https://localhost:8080/"
        },
        "id": "McrBsQ3lYtYB",
        "outputId": "9140140f-34f9-4fb6-f2c6-d24797ca8a2d"
      },
      "execution_count": null,
      "outputs": [
        {
          "output_type": "stream",
          "name": "stdout",
          "text": [
            "최적 하이퍼 파라미터:/n {'max_depth': 24, 'n_estimators': 150}\n",
            "최고 예측 정확도:0.9423\n"
          ]
        }
      ]
    },
    {
      "cell_type": "code",
      "source": [
        "rf_clf_20=RandomForestClassifier(n_estimators=150, max_depth=24,random_state=42)\n",
        "rf_clf_20.fit(X_train_main20,y_train_main20)\n",
        "pred_20=rf_clf_20.predict(X_test_main20)\n",
        "print('예측 정확도:{0:.4f}'.format(accuracy_score(y_test_main20, pred_20)))"
      ],
      "metadata": {
        "colab": {
          "base_uri": "https://localhost:8080/"
        },
        "outputId": "1b2185ab-96f6-4171-9186-1ff5c88f1e4d",
        "id": "RSYR0zpJYEQx"
      },
      "execution_count": null,
      "outputs": [
        {
          "output_type": "stream",
          "name": "stdout",
          "text": [
            "예측 정확도:0.9408\n"
          ]
        }
      ]
    },
    {
      "cell_type": "markdown",
      "source": [
        "> 24/75 => 0.9408\n",
        "\n",
        "> 6/75 => 0.9406"
      ],
      "metadata": {
        "id": "c_sMArxiYEQy"
      }
    },
    {
      "cell_type": "markdown",
      "source": [
        "* XGBoost"
      ],
      "metadata": {
        "id": "Reni-zHFsdAU"
      }
    },
    {
      "cell_type": "code",
      "source": [
        "xgb_params={'n_estimators':[100,125,150,200],'learning_rate':[0.01,0.05,0.1,0.25,0.5]}\n",
        "xgb_clf=XGBClassifier()\n",
        "grid_xgb_20=GridSearchCV(xgb_clf,param_grid=xgb_params,cv=5, n_jobs=-1)\n",
        "grid_xgb_20.fit(X_train_main20,y_train_main20)\n",
        "\n",
        "print('최적 하이퍼 파라미터:/n',grid_xgb_20.best_params_)\n",
        "print('최고 예측 정확도:{0:.4f}'.format(grid_xgb_20.best_score_))"
      ],
      "metadata": {
        "colab": {
          "base_uri": "https://localhost:8080/"
        },
        "id": "4I0EhAAmsdAW",
        "outputId": "852089ef-a4a4-4de1-dcb2-1ffa144d0ab9"
      },
      "execution_count": null,
      "outputs": [
        {
          "output_type": "stream",
          "name": "stdout",
          "text": [
            "최적 하이퍼 파라미터:/n {'learning_rate': 0.25, 'n_estimators': 150}\n",
            "최고 예측 정확도:0.9421\n"
          ]
        }
      ]
    },
    {
      "cell_type": "code",
      "source": [
        "xgb_clf_20=XGBClassifier(n_estimators=150, learning_rate=0.25,random_state=42)\n",
        "xgb_clf_20.fit(X_train_main20,y_train_main20)\n",
        "xgb_pred_20=xgb_clf_20.predict(X_test_main20)\n",
        "print('예측 정확도:{0:.4f}'.format(accuracy_score(y_test_main20, xgb_pred_20)))"
      ],
      "metadata": {
        "colab": {
          "base_uri": "https://localhost:8080/"
        },
        "outputId": "e1e2ab5e-934c-4e3f-bca3-9d70c207ee17",
        "id": "S-i37PYP_OsA"
      },
      "execution_count": null,
      "outputs": [
        {
          "output_type": "stream",
          "name": "stdout",
          "text": [
            "예측 정확도:0.9406\n"
          ]
        }
      ]
    },
    {
      "cell_type": "markdown",
      "source": [
        "* LightGBM"
      ],
      "metadata": {
        "id": "t_gwK9VusdAX"
      }
    },
    {
      "cell_type": "code",
      "source": [
        "lgbm_params={'n_estimators':[100,125,150,200],'learning_rate':[0.01,0.05,0.1,0.25,0.5]}\n",
        "lgbm_clf=LGBMClassifier()\n",
        "grid_lgbm_20=GridSearchCV(lgbm_clf,param_grid=lgbm_params,cv=5, n_jobs=-1)\n",
        "grid_lgbm_20.fit(X_train_main20,y_train_main20)\n",
        "\n",
        "print('최적 하이퍼 파라미터:/n',grid_lgbm_20.best_params_)\n",
        "print('최고 예측 정확도:{0:.4f}'.format(grid_lgbm_20.best_score_))"
      ],
      "metadata": {
        "colab": {
          "base_uri": "https://localhost:8080/"
        },
        "id": "DkK4BsWRsdAY",
        "outputId": "73676bdf-eda7-406f-daa9-b2431c08fe29"
      },
      "execution_count": null,
      "outputs": [
        {
          "output_type": "stream",
          "name": "stdout",
          "text": [
            "최적 하이퍼 파라미터:/n {'learning_rate': 0.1, 'n_estimators': 125}\n",
            "최고 예측 정확도:0.9424\n"
          ]
        }
      ]
    },
    {
      "cell_type": "code",
      "source": [
        "lgbm_clf_20=LGBMClassifier(n_estimators=125, learning_rate=0.1,random_state=42)\n",
        "lgbm_clf_20.fit(X_train_main20,y_train_main20)\n",
        "lgbm_pred_20=lgbm_clf_20.predict(X_test_main20)\n",
        "print('예측 정확도:{0:.4f}'.format(accuracy_score(y_test_main20, lgbm_pred_20)))"
      ],
      "metadata": {
        "colab": {
          "base_uri": "https://localhost:8080/"
        },
        "outputId": "c4b4182a-9b64-44b3-d4a4-6da075e6c9c0",
        "id": "0i3kUiY3BZI7"
      },
      "execution_count": null,
      "outputs": [
        {
          "output_type": "stream",
          "name": "stdout",
          "text": [
            "예측 정확도:0.9408\n"
          ]
        }
      ]
    },
    {
      "cell_type": "markdown",
      "source": [
        "###main21\n"
      ],
      "metadata": {
        "id": "DKTHRpgZY85B"
      }
    },
    {
      "cell_type": "markdown",
      "source": [
        "* 랜덤포레스트"
      ],
      "metadata": {
        "id": "oB3BkP4kZgCY"
      }
    },
    {
      "cell_type": "code",
      "source": [
        "rf_params={'n_estimators':[100,125,150,200],'max_depth':[8,16,24]}\n",
        "rf_clf=RandomForestClassifier()\n",
        "grid_cv_21=GridSearchCV(rf_clf,param_grid=rf_params,cv=5, n_jobs=-1)\n",
        "grid_cv_21.fit(X_train_main21,y_train_main21)\n",
        "\n",
        "print('최적 하이퍼 파라미터:/n',grid_cv_21.best_params_)\n",
        "print('최고 예측 정확도:{0:.4f}'.format(grid_cv_21.best_score_))"
      ],
      "metadata": {
        "colab": {
          "base_uri": "https://localhost:8080/"
        },
        "id": "LJOzDvDEZFPL",
        "outputId": "067f4efc-bb83-43e0-9152-50ddea7eb112"
      },
      "execution_count": null,
      "outputs": [
        {
          "output_type": "stream",
          "name": "stdout",
          "text": [
            "최적 하이퍼 파라미터:/n {'max_depth': 16, 'n_estimators': 200}\n",
            "최고 예측 정확도:0.8027\n"
          ]
        }
      ]
    },
    {
      "cell_type": "markdown",
      "source": [
        "rf_params={'n_estimators':[10,25,50,75,100],'max_depth':[8,16,24]}\n",
        "> 16/75/0.8027\n",
        "\n",
        "rf_params={'n_estimators':[75],'max_depth':[8,16,24]}\n",
        "> 16/75/0.8029"
      ],
      "metadata": {
        "id": "SNKmYdE2IXkN"
      }
    },
    {
      "cell_type": "code",
      "source": [
        "rf_clf_21=RandomForestClassifier(n_estimators=200, max_depth=16,random_state=42)\n",
        "rf_clf_21.fit(X_train_main21,y_train_main21)\n",
        "pred_21=rf_clf_21.predict(X_test_main21)\n",
        "print('예측 정확도:{0:.4f}'.format(accuracy_score(y_test_main21, pred_21)))"
      ],
      "metadata": {
        "colab": {
          "base_uri": "https://localhost:8080/"
        },
        "outputId": "ce3dbb18-bb86-4855-e6b6-8acd783bf49a",
        "id": "xqtIlq0iYZ_b"
      },
      "execution_count": null,
      "outputs": [
        {
          "output_type": "stream",
          "name": "stdout",
          "text": [
            "예측 정확도:0.8014\n"
          ]
        }
      ]
    },
    {
      "cell_type": "markdown",
      "source": [
        "> 16/75 => 0.8012"
      ],
      "metadata": {
        "id": "GGCAh_HCYZ_c"
      }
    },
    {
      "cell_type": "markdown",
      "source": [
        "* XGBoost"
      ],
      "metadata": {
        "id": "MHN6SlLcsm6h"
      }
    },
    {
      "cell_type": "code",
      "source": [
        "xgb_params={'n_estimators':[100,125,150,200],'learning_rate':[0.01,0.05,0.1,0.25,0.5]}\n",
        "xgb_clf=XGBClassifier()\n",
        "grid_xgb_21=GridSearchCV(xgb_clf,param_grid=xgb_params,cv=5, n_jobs=-1)\n",
        "grid_xgb_21.fit(X_train_main21,y_train_main21)\n",
        "\n",
        "print('최적 하이퍼 파라미터:/n',grid_xgb_21.best_params_)\n",
        "print('최고 예측 정확도:{0:.4f}'.format(grid_xgb_21.best_score_))"
      ],
      "metadata": {
        "colab": {
          "base_uri": "https://localhost:8080/"
        },
        "id": "izYONYeQsm6h",
        "outputId": "5a3ed1e5-50c2-468e-d9c5-f30641f1a73f"
      },
      "execution_count": null,
      "outputs": [
        {
          "output_type": "stream",
          "name": "stdout",
          "text": [
            "최적 하이퍼 파라미터:/n {'learning_rate': 0.01, 'n_estimators': 150}\n",
            "최고 예측 정확도:0.8025\n"
          ]
        }
      ]
    },
    {
      "cell_type": "code",
      "source": [
        "xgb_clf_21=XGBClassifier(n_estimators=150, learning_rate=0.01,random_state=42)\n",
        "xgb_clf_21.fit(X_train_main21,y_train_main21)\n",
        "xgb_pred_21=xgb_clf_21.predict(X_test_main21)\n",
        "print('예측 정확도:{0:.4f}'.format(accuracy_score(y_test_main21, xgb_pred_21)))"
      ],
      "metadata": {
        "colab": {
          "base_uri": "https://localhost:8080/"
        },
        "outputId": "1d5179af-152c-4049-a43c-66b0cb94d461",
        "id": "jR2vJLzt_Wrt"
      },
      "execution_count": null,
      "outputs": [
        {
          "output_type": "stream",
          "name": "stdout",
          "text": [
            "예측 정확도:0.8009\n"
          ]
        }
      ]
    },
    {
      "cell_type": "markdown",
      "source": [
        "* LightGBM"
      ],
      "metadata": {
        "id": "duCQM-9qsm6h"
      }
    },
    {
      "cell_type": "code",
      "source": [
        "lgbm_params={'n_estimators':[100,125,150,200],'learning_rate':[0.01,0.05,0.1,0.25,0.5]}\n",
        "lgbm_clf=LGBMClassifier()\n",
        "grid_lgbm_21=GridSearchCV(lgbm_clf,param_grid=lgbm_params,cv=5, n_jobs=-1)\n",
        "grid_lgbm_21.fit(X_train_main21,y_train_main21)\n",
        "\n",
        "print('최적 하이퍼 파라미터:/n',grid_lgbm_21.best_params_)\n",
        "print('최고 예측 정확도:{0:.4f}'.format(grid_lgbm_21.best_score_))"
      ],
      "metadata": {
        "colab": {
          "base_uri": "https://localhost:8080/"
        },
        "id": "oOaEiH3Dsm6i",
        "outputId": "fa318d48-8e5d-434a-accf-8517aa27c5f2"
      },
      "execution_count": null,
      "outputs": [
        {
          "output_type": "stream",
          "name": "stdout",
          "text": [
            "최적 하이퍼 파라미터:/n {'learning_rate': 0.1, 'n_estimators': 125}\n",
            "최고 예측 정확도:0.8029\n"
          ]
        }
      ]
    },
    {
      "cell_type": "code",
      "source": [
        "lgbm_clf_21=LGBMClassifier(n_estimators=125, learning_rate=0.1,random_state=42)\n",
        "lgbm_clf_21.fit(X_train_main21,y_train_main21)\n",
        "lgbm_pred_21=lgbm_clf_21.predict(X_test_main21)\n",
        "print('예측 정확도:{0:.4f}'.format(accuracy_score(y_test_main21, lgbm_pred_21)))"
      ],
      "metadata": {
        "colab": {
          "base_uri": "https://localhost:8080/"
        },
        "outputId": "ecd2b827-39b8-4c45-f8e6-3a903722877b",
        "id": "F9o4zJmmBhiH"
      },
      "execution_count": null,
      "outputs": [
        {
          "output_type": "stream",
          "name": "stdout",
          "text": [
            "예측 정확도:0.8022\n"
          ]
        }
      ]
    },
    {
      "cell_type": "markdown",
      "source": [
        "###main22"
      ],
      "metadata": {
        "id": "1ZZnHMNzY-Ih"
      }
    },
    {
      "cell_type": "markdown",
      "source": [
        "* 랜덤포레스트"
      ],
      "metadata": {
        "id": "qopI9XbPZgVb"
      }
    },
    {
      "cell_type": "code",
      "source": [
        "rf_params={'n_estimators':[100,125,150,200],'max_depth':[8,16,24]}\n",
        "rf_clf=RandomForestClassifier()\n",
        "grid_cv_22=GridSearchCV(rf_clf,param_grid=rf_params,cv=5, n_jobs=-1)\n",
        "grid_cv_22.fit(X_train_main22,y_train_main22)\n",
        "\n",
        "print('최적 하이퍼 파라미터:/n',grid_cv_22.best_params_)\n",
        "print('최고 예측 정확도:{0:.4f}'.format(grid_cv_22.best_score_))"
      ],
      "metadata": {
        "colab": {
          "base_uri": "https://localhost:8080/"
        },
        "id": "2zoIA4BaZIe1",
        "outputId": "d61f8818-2eb4-4b2d-ee41-b2b63edd8f0e"
      },
      "execution_count": null,
      "outputs": [
        {
          "output_type": "stream",
          "name": "stdout",
          "text": [
            "최적 하이퍼 파라미터:/n {'max_depth': 8, 'n_estimators': 100}\n",
            "최고 예측 정확도:0.9084\n"
          ]
        }
      ]
    },
    {
      "cell_type": "markdown",
      "source": [
        "rf_params={'n_estimators':[10,25,50,75,100],'max_depth':[8,16,24]}\n",
        "> 8/25/0.9085\n",
        "\n",
        "rf_params={'n_estimators':[75],'max_depth':[8,16,24]}\n",
        "> 8/75/0.9084\n",
        "\n",
        "rf_params={'n_estimators':[100,125,150,200],'max_depth':[8,16,24]}\n",
        "> 8/100/0.9084\n",
        "\n",
        "\n",
        "\n"
      ],
      "metadata": {
        "id": "HKTnKd7oEDRa"
      }
    },
    {
      "cell_type": "code",
      "source": [
        "rf_clf_22=RandomForestClassifier(n_estimators=100, max_depth=8,random_state=42)\n",
        "rf_clf_22.fit(X_train_main22,y_train_main22)\n",
        "pred_22=rf_clf_22.predict(X_test_main22)\n",
        "print('예측 정확도:{0:.4f}'.format(accuracy_score(y_test_main22, pred_22)))"
      ],
      "metadata": {
        "colab": {
          "base_uri": "https://localhost:8080/"
        },
        "outputId": "96b7d787-cf4b-488d-e526-68eb3111de1d",
        "id": "zs2PeFL6YqAl"
      },
      "execution_count": 55,
      "outputs": [
        {
          "output_type": "stream",
          "name": "stdout",
          "text": [
            "예측 정확도:0.9103\n"
          ]
        }
      ]
    },
    {
      "cell_type": "markdown",
      "source": [
        "> 8/75 => 0.9103\n",
        "\n",
        "> 8/25 => 0.9103\n",
        "\n",
        ">8/100 => 0.9103"
      ],
      "metadata": {
        "id": "E9k6lj29YqAn"
      }
    },
    {
      "cell_type": "markdown",
      "source": [
        "* XGBoost"
      ],
      "metadata": {
        "id": "dso8151Tsr8n"
      }
    },
    {
      "cell_type": "code",
      "source": [
        "xgb_params={'n_estimators':[100,125,150,200],'learning_rate':[0.01,0.05,0.1,0.25,0.5]}\n",
        "xgb_clf=XGBClassifier()\n",
        "grid_xgb_22=GridSearchCV(xgb_clf,param_grid=xgb_params,cv=5, n_jobs=-1)\n",
        "grid_xgb_22.fit(X_train_main22,y_train_main22)\n",
        "\n",
        "print('최적 하이퍼 파라미터:/n',grid_xgb_22.best_params_)\n",
        "print('최고 예측 정확도:{0:.4f}'.format(grid_xgb_22.best_score_))"
      ],
      "metadata": {
        "colab": {
          "base_uri": "https://localhost:8080/"
        },
        "id": "r8bYg3n8sr8o",
        "outputId": "d7b76e96-8b16-42cb-9654-07192732cd29"
      },
      "execution_count": null,
      "outputs": [
        {
          "output_type": "stream",
          "name": "stdout",
          "text": [
            "최적 하이퍼 파라미터:/n {'learning_rate': 0.01, 'n_estimators': 100}\n",
            "최고 예측 정확도:0.9084\n"
          ]
        }
      ]
    },
    {
      "cell_type": "code",
      "source": [
        "xgb_clf_22=XGBClassifier(n_estimators=100, learning_rate=0.01,random_state=42)\n",
        "xgb_clf_22.fit(X_train_main22,y_train_main22)\n",
        "xgb_pred_22=xgb_clf_22.predict(X_test_main22)\n",
        "print('예측 정확도:{0:.4f}'.format(accuracy_score(y_test_main22, xgb_pred_22)))"
      ],
      "metadata": {
        "colab": {
          "base_uri": "https://localhost:8080/"
        },
        "outputId": "5f17dd19-0173-42af-a5b5-d60eda609a22",
        "id": "fHkw8AuW_cyn"
      },
      "execution_count": null,
      "outputs": [
        {
          "output_type": "stream",
          "name": "stdout",
          "text": [
            "예측 정확도:0.9103\n"
          ]
        }
      ]
    },
    {
      "cell_type": "markdown",
      "source": [
        "* LightGBM"
      ],
      "metadata": {
        "id": "V5rp0E_fsr8p"
      }
    },
    {
      "cell_type": "code",
      "source": [
        "lgbm_params={'n_estimators':[100,125,150,200],'learning_rate':[0.01,0.05,0.1,0.25,0.5]}\n",
        "lgbm_clf=LGBMClassifier()\n",
        "grid_lgbm_22=GridSearchCV(lgbm_clf,param_grid=lgbm_params,cv=5, n_jobs=-1)\n",
        "grid_lgbm_22.fit(X_train_main22,y_train_main22)\n",
        "\n",
        "print('최적 하이퍼 파라미터:/n',grid_lgbm_22.best_params_)\n",
        "print('최고 예측 정확도:{0:.4f}'.format(grid_lgbm_22.best_score_))"
      ],
      "metadata": {
        "colab": {
          "base_uri": "https://localhost:8080/"
        },
        "id": "8q5CKRA0sr8q",
        "outputId": "07b9c6e4-a97c-48ce-afd0-3437122257f6"
      },
      "execution_count": null,
      "outputs": [
        {
          "output_type": "stream",
          "name": "stdout",
          "text": [
            "최적 하이퍼 파라미터:/n {'learning_rate': 0.01, 'n_estimators': 100}\n",
            "최고 예측 정확도:0.9084\n"
          ]
        }
      ]
    },
    {
      "cell_type": "code",
      "source": [
        "lgbm_clf_22=LGBMClassifier(n_estimators=100, learning_rate=0.01,random_state=42)\n",
        "lgbm_clf_22.fit(X_train_main22,y_train_main22)\n",
        "lgbm_pred_22=lgbm_clf_22.predict(X_test_main22)\n",
        "print('예측 정확도:{0:.4f}'.format(accuracy_score(y_test_main22, lgbm_pred_22)))"
      ],
      "metadata": {
        "colab": {
          "base_uri": "https://localhost:8080/"
        },
        "outputId": "35386093-9076-4151-96b8-6fcb00eeaa8a",
        "id": "rxFkIqulBl6j"
      },
      "execution_count": null,
      "outputs": [
        {
          "output_type": "stream",
          "name": "stdout",
          "text": [
            "예측 정확도:0.9103\n"
          ]
        }
      ]
    },
    {
      "cell_type": "markdown",
      "source": [
        "###main23"
      ],
      "metadata": {
        "id": "t8g_lQoSY_V5"
      }
    },
    {
      "cell_type": "markdown",
      "source": [
        "* 랜덤포레스트"
      ],
      "metadata": {
        "id": "5I7VCWHGZgsD"
      }
    },
    {
      "cell_type": "code",
      "source": [
        "rf_params={'n_estimators':[100,125,150,200],'max_depth':[8,16,24]}\n",
        "rf_clf=RandomForestClassifier()\n",
        "grid_cv_23=GridSearchCV(rf_clf,param_grid=rf_params,cv=5, n_jobs=-1)\n",
        "grid_cv_23.fit(X_train_main23,y_train_main23)\n",
        "\n",
        "print('최적 하이퍼 파라미터:/n',grid_cv_23.best_params_)\n",
        "print('최고 예측 정확도:{0:.4f}'.format(grid_cv_23.best_score_))"
      ],
      "metadata": {
        "colab": {
          "base_uri": "https://localhost:8080/"
        },
        "id": "Y2oubWUZZJLi",
        "outputId": "6d18b06c-6863-4654-f69c-a2eb1c1d2d1f"
      },
      "execution_count": null,
      "outputs": [
        {
          "output_type": "stream",
          "name": "stdout",
          "text": [
            "최적 하이퍼 파라미터:/n {'max_depth': 8, 'n_estimators': 100}\n",
            "최고 예측 정확도:0.9542\n"
          ]
        }
      ]
    },
    {
      "cell_type": "markdown",
      "source": [
        "rf_params={'n_estimators':[10,25,50,75,100],'max_depth':[8,16,24]}\n",
        "> 8/10/0.9542\n",
        "\n",
        "rf_params={'n_estimators':[75],'max_depth':[8,16,24]}\n",
        "> 8/75/0.9542"
      ],
      "metadata": {
        "id": "vYK6iW1KEshY"
      }
    },
    {
      "cell_type": "code",
      "source": [
        "rf_clf_23=RandomForestClassifier(n_estimators=100, max_depth=8,random_state=42)\n",
        "rf_clf_23.fit(X_train_main23,y_train_main23)\n",
        "pred_23=rf_clf_23.predict(X_test_main23)\n",
        "print('예측 정확도:{0:.4f}'.format(accuracy_score(y_test_main23, pred_23)))"
      ],
      "metadata": {
        "colab": {
          "base_uri": "https://localhost:8080/"
        },
        "outputId": "332f1464-5ca8-4a70-fa14-e1fd01afac13",
        "id": "qWg5eXn1ZBDL"
      },
      "execution_count": null,
      "outputs": [
        {
          "output_type": "stream",
          "name": "stdout",
          "text": [
            "예측 정확도:0.9552\n"
          ]
        }
      ]
    },
    {
      "cell_type": "markdown",
      "source": [
        "> 8/10 => 0.9552\n",
        "\n",
        "> 8/75 => 0.9552\n",
        "\n",
        "> 24/75 => 0.9551"
      ],
      "metadata": {
        "id": "R-n-_S1GZBDN"
      }
    },
    {
      "cell_type": "markdown",
      "source": [
        "* XGBoost"
      ],
      "metadata": {
        "id": "vv8JlDSsswkK"
      }
    },
    {
      "cell_type": "code",
      "source": [
        "xgb_params={'n_estimators':[100,125,150,200],'learning_rate':[0.01,0.05,0.1,0.25,0.5]}\n",
        "xgb_clf=XGBClassifier()\n",
        "grid_xgb_23=GridSearchCV(xgb_clf,param_grid=xgb_params,cv=5, n_jobs=-1)\n",
        "grid_xgb_23.fit(X_train_main23,y_train_main23)\n",
        "\n",
        "print('최적 하이퍼 파라미터:/n',grid_xgb_23.best_params_)\n",
        "print('최고 예측 정확도:{0:.4f}'.format(grid_xgb_23.best_score_))"
      ],
      "metadata": {
        "colab": {
          "base_uri": "https://localhost:8080/"
        },
        "id": "bI4iMOpHswkL",
        "outputId": "975110d5-b91d-4ac6-9774-7385bfd2c791"
      },
      "execution_count": null,
      "outputs": [
        {
          "output_type": "stream",
          "name": "stdout",
          "text": [
            "최적 하이퍼 파라미터:/n {'learning_rate': 0.01, 'n_estimators': 100}\n",
            "최고 예측 정확도:0.9542\n"
          ]
        }
      ]
    },
    {
      "cell_type": "code",
      "source": [
        "xgb_clf_23=XGBClassifier(n_estimators=100, learning_rate=0.01,random_state=42)\n",
        "xgb_clf_23.fit(X_train_main23,y_train_main23)\n",
        "xgb_pred_23=xgb_clf_23.predict(X_test_main23)\n",
        "print('예측 정확도:{0:.4f}'.format(accuracy_score(y_test_main23, xgb_pred_23)))"
      ],
      "metadata": {
        "colab": {
          "base_uri": "https://localhost:8080/"
        },
        "outputId": "915efb2d-3cc5-4acb-9d0f-969d6d54da13",
        "id": "aWbiHVVU_jb4"
      },
      "execution_count": null,
      "outputs": [
        {
          "output_type": "stream",
          "name": "stdout",
          "text": [
            "예측 정확도:0.9552\n"
          ]
        }
      ]
    },
    {
      "cell_type": "markdown",
      "source": [
        "* LightGBM"
      ],
      "metadata": {
        "id": "0knFiXfrswkM"
      }
    },
    {
      "cell_type": "code",
      "source": [
        "lgbm_params={'n_estimators':[100,125,150,200],'learning_rate':[0.01,0.05,0.1,0.25,0.5]}\n",
        "lgbm_clf=LGBMClassifier()\n",
        "grid_lgbm_23=GridSearchCV(lgbm_clf,param_grid=lgbm_params,cv=5, n_jobs=-1)\n",
        "grid_lgbm_23.fit(X_train_main23,y_train_main23)\n",
        "\n",
        "print('최적 하이퍼 파라미터:/n',grid_lgbm_23.best_params_)\n",
        "print('최고 예측 정확도:{0:.4f}'.format(grid_lgbm_23.best_score_))"
      ],
      "metadata": {
        "colab": {
          "base_uri": "https://localhost:8080/"
        },
        "id": "6gqcmR0sswkN",
        "outputId": "631fea1a-88db-4e0c-8b9e-795ee2a09e7d"
      },
      "execution_count": null,
      "outputs": [
        {
          "output_type": "stream",
          "name": "stdout",
          "text": [
            "최적 하이퍼 파라미터:/n {'learning_rate': 0.01, 'n_estimators': 100}\n",
            "최고 예측 정확도:0.9542\n"
          ]
        }
      ]
    },
    {
      "cell_type": "code",
      "source": [
        "lgbm_clf_23=LGBMClassifier(n_estimators=100, learning_rate=0.01,random_state=42)\n",
        "lgbm_clf_23.fit(X_train_main23,y_train_main23)\n",
        "lgbm_pred_23=lgbm_clf_23.predict(X_test_main23)\n",
        "print('예측 정확도:{0:.4f}'.format(accuracy_score(y_test_main23, lgbm_pred_23)))"
      ],
      "metadata": {
        "colab": {
          "base_uri": "https://localhost:8080/"
        },
        "outputId": "097517a5-5e3e-4757-b0df-d779f65127d7",
        "id": "MVbvU7nsBsS2"
      },
      "execution_count": null,
      "outputs": [
        {
          "output_type": "stream",
          "name": "stdout",
          "text": [
            "예측 정확도:0.9552\n"
          ]
        }
      ]
    },
    {
      "cell_type": "markdown",
      "source": [
        "###main24"
      ],
      "metadata": {
        "id": "HPEL3oQ0ZARo"
      }
    },
    {
      "cell_type": "markdown",
      "source": [
        "* 랜덤포레스트"
      ],
      "metadata": {
        "id": "f7W_TLPCZg9r"
      }
    },
    {
      "cell_type": "code",
      "source": [
        "rf_params={'n_estimators':[100,125,150,200],'max_depth':[8,16,24]}\n",
        "rf_clf=RandomForestClassifier()\n",
        "grid_cv_24=GridSearchCV(rf_clf,param_grid=rf_params,cv=5, n_jobs=-1)\n",
        "grid_cv_24.fit(X_train_main24,y_train_main24)\n",
        "\n",
        "print('최적 하이퍼 파라미터:/n',grid_cv_24.best_params_)\n",
        "print('최고 예측 정확도:{0:.4f}'.format(grid_cv_24.best_score_))"
      ],
      "metadata": {
        "colab": {
          "base_uri": "https://localhost:8080/"
        },
        "id": "o3IydeAqZOvu",
        "outputId": "e0777bd5-b9f4-4df2-a10e-3a01c12f7c7f"
      },
      "execution_count": null,
      "outputs": [
        {
          "output_type": "stream",
          "name": "stdout",
          "text": [
            "최적 하이퍼 파라미터:/n {'max_depth': 16, 'n_estimators': 150}\n",
            "최고 예측 정확도:0.7553\n"
          ]
        }
      ]
    },
    {
      "cell_type": "markdown",
      "source": [
        "rf_params={'n_estimators':[10,25,50,75,100],'max_depth':[8,16,24]}\n",
        "> 0.7550\n",
        "\n",
        "rf_params={'n_estimators':[75],'max_depth':[8,16,24]}\n",
        "> 8/75/0.7545\n",
        "\n",
        "rf_params={'n_estimators':[100,125,150,200],'max_depth':[8,16,24]}\n",
        "> 16/150/0.7553"
      ],
      "metadata": {
        "id": "gN7H6Rk7HH1l"
      }
    },
    {
      "cell_type": "code",
      "source": [
        "rf_clf_24=RandomForestClassifier(n_estimators=150, max_depth=16,random_state=42)\n",
        "rf_clf_24.fit(X_train_main24,y_train_main24)\n",
        "pred_24=rf_clf_24.predict(X_test_main24)\n",
        "print('예측 정확도:{0:.4f}'.format(accuracy_score(y_test_main24, pred_24)))"
      ],
      "metadata": {
        "colab": {
          "base_uri": "https://localhost:8080/"
        },
        "outputId": "740f7af6-f989-4441-9635-7df0cb0e8022",
        "id": "22noq5olZehc"
      },
      "execution_count": 56,
      "outputs": [
        {
          "output_type": "stream",
          "name": "stdout",
          "text": [
            "예측 정확도:0.7550\n"
          ]
        }
      ]
    },
    {
      "cell_type": "markdown",
      "source": [
        "> 8/75 => 0.7547\n",
        "\n",
        "> 8/25 => 0.7550\n",
        "\n",
        ">16/150 => 0.7550"
      ],
      "metadata": {
        "id": "avyfLPLPZehd"
      }
    },
    {
      "cell_type": "markdown",
      "source": [
        "* XGBoost"
      ],
      "metadata": {
        "id": "4ejr7-Xes1Zm"
      }
    },
    {
      "cell_type": "code",
      "source": [
        "xgb_params={'n_estimators':[100,125,150,200],'learning_rate':[0.01,0.05,0.1,0.25,0.5]}\n",
        "xgb_clf=XGBClassifier()\n",
        "grid_xgb_24=GridSearchCV(xgb_clf,param_grid=xgb_params,cv=5, n_jobs=-1)\n",
        "grid_xgb_24.fit(X_train_main24,y_train_main24)\n",
        "\n",
        "print('최적 하이퍼 파라미터:/n',grid_xgb_24.best_params_)\n",
        "print('최고 예측 정확도:{0:.4f}'.format(grid_xgb_24.best_score_))"
      ],
      "metadata": {
        "colab": {
          "base_uri": "https://localhost:8080/"
        },
        "id": "q6Kq_Azis1Zp",
        "outputId": "a24d36bd-9155-4a3e-db2a-c124b41addab"
      },
      "execution_count": null,
      "outputs": [
        {
          "output_type": "stream",
          "name": "stdout",
          "text": [
            "최적 하이퍼 파라미터:/n {'learning_rate': 0.1, 'n_estimators': 200}\n",
            "최고 예측 정확도:0.7544\n"
          ]
        }
      ]
    },
    {
      "cell_type": "code",
      "source": [
        "xgb_clf_24=XGBClassifier(n_estimators=200, learning_rate=0.1,random_state=42)\n",
        "xgb_clf_24.fit(X_train_main24,y_train_main24)\n",
        "xgb_pred_24=xgb_clf_24.predict(X_test_main24)\n",
        "print('예측 정확도:{0:.4f}'.format(accuracy_score(y_test_main24, xgb_pred_24)))"
      ],
      "metadata": {
        "colab": {
          "base_uri": "https://localhost:8080/"
        },
        "outputId": "1ba8dcdd-cae4-47f7-f29f-20de10d843a5",
        "id": "4IDT19RX_qD-"
      },
      "execution_count": 66,
      "outputs": [
        {
          "output_type": "stream",
          "name": "stdout",
          "text": [
            "예측 정확도:0.7541\n"
          ]
        }
      ]
    },
    {
      "cell_type": "markdown",
      "source": [
        "> 1000/0.1 => 0.7539\n",
        "\n",
        "> 200/0.1 => 0.7541"
      ],
      "metadata": {
        "id": "5mCS4H9FSDoY"
      }
    },
    {
      "cell_type": "markdown",
      "source": [
        "* LightGBM"
      ],
      "metadata": {
        "id": "gVX4n4rIs1Zr"
      }
    },
    {
      "cell_type": "code",
      "source": [
        "lgbm_params={'n_estimators':[100,125,150,200],'learning_rate':[0.01,0.05,0.1,0.25,0.5]}\n",
        "lgbm_clf=LGBMClassifier()\n",
        "grid_lgbm_24=GridSearchCV(lgbm_clf,param_grid=lgbm_params,cv=5, n_jobs=-1)\n",
        "grid_lgbm_24.fit(X_train_main24,y_train_main24)\n",
        "\n",
        "print('최적 하이퍼 파라미터:/n',grid_lgbm_24.best_params_)\n",
        "print('최고 예측 정확도:{0:.4f}'.format(grid_lgbm_24.best_score_))"
      ],
      "metadata": {
        "colab": {
          "base_uri": "https://localhost:8080/"
        },
        "id": "LvvK-ANbs1Zs",
        "outputId": "8a49034b-3055-4967-9bc5-5574f2be95b6"
      },
      "execution_count": null,
      "outputs": [
        {
          "output_type": "stream",
          "name": "stdout",
          "text": [
            "최적 하이퍼 파라미터:/n {'learning_rate': 0.05, 'n_estimators': 200}\n",
            "최고 예측 정확도:0.7554\n"
          ]
        }
      ]
    },
    {
      "cell_type": "code",
      "source": [
        "lgbm_clf_24=LGBMClassifier(n_estimators=1000, learning_rate=0.05,random_state=42)\n",
        "lgbm_clf_24.fit(X_train_main24,y_train_main24)\n",
        "lgbm_pred_24=lgbm_clf_24.predict(X_test_main24)\n",
        "print('예측 정확도:{0:.4f}'.format(accuracy_score(y_test_main24, lgbm_pred_24)))"
      ],
      "metadata": {
        "colab": {
          "base_uri": "https://localhost:8080/"
        },
        "outputId": "ac3a222b-a464-4924-a3c6-bda4a77f5243",
        "id": "mffFHatUB0RU"
      },
      "execution_count": 64,
      "outputs": [
        {
          "output_type": "stream",
          "name": "stdout",
          "text": [
            "예측 정확도:0.7533\n"
          ]
        }
      ]
    },
    {
      "cell_type": "markdown",
      "source": [
        "> 0.05/200/0.7550"
      ],
      "metadata": {
        "id": "CC67BiwmMt6p"
      }
    },
    {
      "cell_type": "markdown",
      "source": [
        "###main25"
      ],
      "metadata": {
        "id": "oNBarXiQZBVi"
      }
    },
    {
      "cell_type": "markdown",
      "source": [
        "* 랜덤포레스트"
      ],
      "metadata": {
        "id": "BiZ3AMGbZhO5"
      }
    },
    {
      "cell_type": "code",
      "source": [
        "rf_params={'n_estimators':[100,125,150,200],'max_depth':[8,16,24]}\n",
        "rf_clf=RandomForestClassifier()\n",
        "grid_cv_25=GridSearchCV(rf_clf,param_grid=rf_params,cv=5, n_jobs=-1)\n",
        "grid_cv_25.fit(X_train_main25,y_train_main25)\n",
        "\n",
        "print('최적 하이퍼 파라미터:/n',grid_cv_25.best_params_)\n",
        "print('최고 예측 정확도:{0:.4f}'.format(grid_cv_25.best_score_))"
      ],
      "metadata": {
        "colab": {
          "base_uri": "https://localhost:8080/"
        },
        "id": "Gfj51W6bZS_Q",
        "outputId": "82dc03a2-8230-4e17-8330-16930c0ce4ec"
      },
      "execution_count": null,
      "outputs": [
        {
          "output_type": "stream",
          "name": "stdout",
          "text": [
            "최적 하이퍼 파라미터:/n {'max_depth': 24, 'n_estimators': 125}\n",
            "최고 예측 정확도:0.9502\n"
          ]
        }
      ]
    },
    {
      "cell_type": "markdown",
      "source": [
        "rf_params={'n_estimators':[10,25,50,75,100,150,200],'max_depth':[8,16,24]}\n",
        "> 16/25/0.9502\n",
        "\n",
        "rf_params={'n_estimators':[75],'max_depth':[8,16,24]}\n",
        "> 8/75/0.9502\n",
        "\n",
        "rf_params={'n_estimators':[100,125,150,200],'max_depth':[8,16,24]}\n",
        "> 24/125/0.9502"
      ],
      "metadata": {
        "id": "XipVlwU4HNfX"
      }
    },
    {
      "cell_type": "code",
      "source": [
        "rf_clf_25=RandomForestClassifier(n_estimators=125, max_depth=24,random_state=42)\n",
        "rf_clf_25.fit(X_train_main25,y_train_main25)\n",
        "pred_25=rf_clf_25.predict(X_test_main25)\n",
        "print('예측 정확도:{0:.4f}'.format(accuracy_score(y_test_main25, pred_25)))"
      ],
      "metadata": {
        "colab": {
          "base_uri": "https://localhost:8080/"
        },
        "outputId": "9a911754-e0aa-4c63-f2a7-6372eb541cf1",
        "id": "QENwV5zTZx1z"
      },
      "execution_count": 57,
      "outputs": [
        {
          "output_type": "stream",
          "name": "stdout",
          "text": [
            "예측 정확도:0.9491\n"
          ]
        }
      ]
    },
    {
      "cell_type": "markdown",
      "source": [
        "> 16/25 => 0.9490\n",
        "\n",
        "> 8/75 => 0.9491\n",
        "\n",
        "> 24/125 => 0.9491"
      ],
      "metadata": {
        "id": "TvR8o_L0Zx10"
      }
    },
    {
      "cell_type": "markdown",
      "source": [
        "* XGBoost"
      ],
      "metadata": {
        "id": "5sjxwfXxs9of"
      }
    },
    {
      "cell_type": "code",
      "source": [
        "xgb_params={'n_estimators':[100,125,150,200],'learning_rate':[0.01,0.05,0.1,0.25,0.5]}\n",
        "xgb_clf=XGBClassifier()\n",
        "grid_xgb_25=GridSearchCV(xgb_clf,param_grid=xgb_params,cv=5, n_jobs=-1)\n",
        "grid_xgb_25.fit(X_train_main25,y_train_main25)\n",
        "\n",
        "print('최적 하이퍼 파라미터:/n',grid_xgb_25.best_params_)\n",
        "print('최고 예측 정확도:{0:.4f}'.format(grid_xgb_25.best_score_))"
      ],
      "metadata": {
        "colab": {
          "base_uri": "https://localhost:8080/"
        },
        "id": "_jyFoVvHs9oi",
        "outputId": "6931a130-0ef8-4965-c444-4ee7a17b834f"
      },
      "execution_count": null,
      "outputs": [
        {
          "output_type": "stream",
          "name": "stdout",
          "text": [
            "최적 하이퍼 파라미터:/n {'learning_rate': 0.25, 'n_estimators': 150}\n",
            "최고 예측 정확도:0.9502\n"
          ]
        }
      ]
    },
    {
      "cell_type": "code",
      "source": [
        "xgb_clf_25=XGBClassifier(n_estimators=150, learning_rate=0.25,random_state=42)\n",
        "xgb_clf_25.fit(X_train_main25,y_train_main25)\n",
        "xgb_pred_25=xgb_clf_25.predict(X_test_main25)\n",
        "print('예측 정확도:{0:.4f}'.format(accuracy_score(y_test_main25, xgb_pred_25)))"
      ],
      "metadata": {
        "colab": {
          "base_uri": "https://localhost:8080/"
        },
        "outputId": "9a2d29b0-80aa-49d4-c8a8-6bf5ce831244",
        "id": "NZHVIEL3_0md"
      },
      "execution_count": null,
      "outputs": [
        {
          "output_type": "stream",
          "name": "stdout",
          "text": [
            "예측 정확도:0.9490\n"
          ]
        }
      ]
    },
    {
      "cell_type": "markdown",
      "source": [
        "* LightGBM"
      ],
      "metadata": {
        "id": "-r9pCx5Ls9oj"
      }
    },
    {
      "cell_type": "code",
      "source": [
        "lgbm_params={'n_estimators':[100,125,150,200],'learning_rate':[0.01,0.05,0.1,0.25,0.5]}\n",
        "lgbm_clf=LGBMClassifier()\n",
        "grid_lgbm_25=GridSearchCV(lgbm_clf,param_grid=lgbm_params,cv=5, n_jobs=-1)\n",
        "grid_lgbm_25.fit(X_train_main25,y_train_main25)\n",
        "\n",
        "print('최적 하이퍼 파라미터:/n',grid_lgbm_25.best_params_)\n",
        "print('최고 예측 정확도:{0:.4f}'.format(grid_lgbm_25.best_score_))"
      ],
      "metadata": {
        "colab": {
          "base_uri": "https://localhost:8080/"
        },
        "id": "g6TfpEsos9ok",
        "outputId": "9a2409c1-647e-46ca-effa-98507405bee6"
      },
      "execution_count": null,
      "outputs": [
        {
          "output_type": "stream",
          "name": "stdout",
          "text": [
            "최적 하이퍼 파라미터:/n {'learning_rate': 0.01, 'n_estimators': 100}\n",
            "최고 예측 정확도:0.9502\n"
          ]
        }
      ]
    },
    {
      "cell_type": "code",
      "source": [
        "lgbm_clf_25=LGBMClassifier(n_estimators=100, learning_rate=0.01,random_state=42)\n",
        "lgbm_clf_25.fit(X_train_main25,y_train_main25)\n",
        "lgbm_pred_25=lgbm_clf_25.predict(X_test_main25)\n",
        "print('예측 정확도:{0:.4f}'.format(accuracy_score(y_test_main25, lgbm_pred_25)))"
      ],
      "metadata": {
        "colab": {
          "base_uri": "https://localhost:8080/"
        },
        "outputId": "b2aa9f77-7e48-4412-f31d-37b1c1ad3368",
        "id": "T8z_5-ZjB71n"
      },
      "execution_count": null,
      "outputs": [
        {
          "output_type": "stream",
          "name": "stdout",
          "text": [
            "예측 정확도:0.9491\n"
          ]
        }
      ]
    },
    {
      "cell_type": "markdown",
      "source": [
        "###main26"
      ],
      "metadata": {
        "id": "N55VcCwpZCTR"
      }
    },
    {
      "cell_type": "markdown",
      "source": [
        "* 랜덤포레스트"
      ],
      "metadata": {
        "id": "xTGh8NBPZhh9"
      }
    },
    {
      "cell_type": "code",
      "source": [
        "rf_params={'n_estimators':[100,125,150,200],'max_depth':[8,16,24]}\n",
        "rf_clf=RandomForestClassifier()\n",
        "grid_cv_26=GridSearchCV(rf_clf,param_grid=rf_params,cv=5, n_jobs=-1)\n",
        "grid_cv_26.fit(X_train_main26,y_train_main26)\n",
        "\n",
        "print('최적 하이퍼 파라미터:/n',grid_cv_26.best_params_)\n",
        "print('최고 예측 정확도:{0:.4f}'.format(grid_cv_26.best_score_))"
      ],
      "metadata": {
        "colab": {
          "base_uri": "https://localhost:8080/"
        },
        "id": "_LSGzvFtZWkY",
        "outputId": "76f08e77-bb07-4700-b1cf-52c57140e1cf"
      },
      "execution_count": null,
      "outputs": [
        {
          "output_type": "stream",
          "name": "stdout",
          "text": [
            "최적 하이퍼 파라미터:/n {'max_depth': 24, 'n_estimators': 125}\n",
            "최고 예측 정확도:0.9500\n"
          ]
        }
      ]
    },
    {
      "cell_type": "markdown",
      "source": [
        "rf_params={'n_estimators':[100,125,150,200],'max_depth':[8,16,24]}\n",
        "> 24/125/0.9500\n",
        "\n",
        "rf_params={'n_estimators':[100,125,150,200],'max_depth':[8,16,24]}\n",
        "> 24/125/0.9500"
      ],
      "metadata": {
        "id": "TQVRJf6_gSBl"
      }
    },
    {
      "cell_type": "code",
      "source": [
        "rf_clf_26=RandomForestClassifier(n_estimators=125, max_depth=24,random_state=42)\n",
        "rf_clf_26.fit(X_train_main26,y_train_main26)\n",
        "pred_26=rf_clf_26.predict(X_test_main26)\n",
        "print('예측 정확도:{0:.4f}'.format(accuracy_score(y_test_main26, pred_26)))"
      ],
      "metadata": {
        "colab": {
          "base_uri": "https://localhost:8080/"
        },
        "outputId": "0d620135-1798-41bb-c3be-133c40e414a6",
        "id": "gwiLJPo9gSBk"
      },
      "execution_count": 58,
      "outputs": [
        {
          "output_type": "stream",
          "name": "stdout",
          "text": [
            "예측 정확도:0.9510\n"
          ]
        }
      ]
    },
    {
      "cell_type": "markdown",
      "source": [
        "> 24/125 => 0.9510"
      ],
      "metadata": {
        "id": "cREYpkesL_46"
      }
    },
    {
      "cell_type": "markdown",
      "source": [
        "* XGBoost"
      ],
      "metadata": {
        "id": "HB-gt5Z5tDNq"
      }
    },
    {
      "cell_type": "code",
      "source": [
        "xgb_params={'n_estimators':[100,125,150,200],'learning_rate':[0.01,0.05,0.1,0.25,0.5]}\n",
        "xgb_clf=XGBClassifier()\n",
        "grid_xgb_26=GridSearchCV(xgb_clf,param_grid=xgb_params,cv=5, n_jobs=-1)\n",
        "grid_xgb_26.fit(X_train_main26,y_train_main26)\n",
        "\n",
        "print('최적 하이퍼 파라미터:/n',grid_xgb_26.best_params_)\n",
        "print('최고 예측 정확도:{0:.4f}'.format(grid_xgb_26.best_score_))"
      ],
      "metadata": {
        "colab": {
          "base_uri": "https://localhost:8080/"
        },
        "id": "1SVnCGJitDNt",
        "outputId": "b9ff3955-5784-4263-b79f-0ad2569ab190"
      },
      "execution_count": null,
      "outputs": [
        {
          "output_type": "stream",
          "name": "stdout",
          "text": [
            "최적 하이퍼 파라미터:/n {'learning_rate': 0.25, 'n_estimators': 100}\n",
            "최고 예측 정확도:0.9500\n"
          ]
        }
      ]
    },
    {
      "cell_type": "code",
      "source": [
        "xgb_clf_26=XGBClassifier(n_estimators=100, learning_rate=0.25,random_state=42)\n",
        "xgb_clf_26.fit(X_train_main26,y_train_main26)\n",
        "xgb_pred_26=xgb_clf_26.predict(X_test_main26)\n",
        "print('예측 정확도:{0:.4f}'.format(accuracy_score(y_test_main26, xgb_pred_26)))"
      ],
      "metadata": {
        "colab": {
          "base_uri": "https://localhost:8080/"
        },
        "outputId": "06bbdefd-7c36-4987-b82b-27844b33d2e6",
        "id": "5ZriOyhn_6ek"
      },
      "execution_count": null,
      "outputs": [
        {
          "output_type": "stream",
          "name": "stdout",
          "text": [
            "예측 정확도:0.9513\n"
          ]
        }
      ]
    },
    {
      "cell_type": "markdown",
      "source": [
        "* LightGBM"
      ],
      "metadata": {
        "id": "QXhopQvFtDNu"
      }
    },
    {
      "cell_type": "code",
      "source": [
        "lgbm_params={'n_estimators':[100,125,150,200],'learning_rate':[0.01,0.05,0.1,0.25,0.5]}\n",
        "lgbm_clf=LGBMClassifier()\n",
        "grid_lgbm_26=GridSearchCV(lgbm_clf,param_grid=lgbm_params,cv=5, n_jobs=-1)\n",
        "grid_lgbm_26.fit(X_train_main26,y_train_main26)\n",
        "\n",
        "print('최적 하이퍼 파라미터:/n',grid_lgbm_26.best_params_)\n",
        "print('최고 예측 정확도:{0:.4f}'.format(grid_lgbm_26.best_score_))"
      ],
      "metadata": {
        "colab": {
          "base_uri": "https://localhost:8080/"
        },
        "id": "4EFsO1rbtDNv",
        "outputId": "f8f1c575-edff-4bdc-bf2b-be875e1f3c5c"
      },
      "execution_count": null,
      "outputs": [
        {
          "output_type": "stream",
          "name": "stdout",
          "text": [
            "최적 하이퍼 파라미터:/n {'learning_rate': 0.1, 'n_estimators': 100}\n",
            "최고 예측 정확도:0.9501\n"
          ]
        }
      ]
    },
    {
      "cell_type": "markdown",
      "source": [
        "lgbm_params={'n_estimators':[100,125,150,200],'learning_rate':[0.01,0.05,0.1,0.25,0.5]}\n",
        "> 100/0.1/0.9501"
      ],
      "metadata": {
        "id": "cRSxPYhLMMpM"
      }
    },
    {
      "cell_type": "code",
      "source": [
        "lgbm_clf_26=LGBMClassifier(n_estimators=100, learning_rate=0.1,random_state=42)\n",
        "lgbm_clf_26.fit(X_train_main26,y_train_main26)\n",
        "lgbm_pred_26=lgbm_clf_26.predict(X_test_main26)\n",
        "print('예측 정확도:{0:.4f}'.format(accuracy_score(y_test_main26, lgbm_pred_26)))"
      ],
      "metadata": {
        "colab": {
          "base_uri": "https://localhost:8080/"
        },
        "outputId": "6538c01c-12a4-4ec4-d20b-3c223f008aad",
        "id": "MgU1fnqYCCOF"
      },
      "execution_count": null,
      "outputs": [
        {
          "output_type": "stream",
          "name": "stdout",
          "text": [
            "예측 정확도:0.9516\n"
          ]
        }
      ]
    },
    {
      "cell_type": "markdown",
      "source": [
        "> 0.1/100 => 0.9516"
      ],
      "metadata": {
        "id": "rx2Snj20MXjK"
      }
    },
    {
      "cell_type": "markdown",
      "source": [
        "###main27"
      ],
      "metadata": {
        "id": "VFYc3mrBZDSs"
      }
    },
    {
      "cell_type": "markdown",
      "source": [
        "* 랜덤포레스트"
      ],
      "metadata": {
        "id": "VnP4BT4ZZhyb"
      }
    },
    {
      "cell_type": "code",
      "source": [
        "rf_params={'n_estimators':[100,125,150,200],'max_depth':[8,16,24]}\n",
        "rf_clf=RandomForestClassifier()\n",
        "grid_cv_27=GridSearchCV(rf_clf,param_grid=rf_params,cv=5, n_jobs=-1)\n",
        "grid_cv_27.fit(X_train_main27,y_train_main27)\n",
        "\n",
        "print('최적 하이퍼 파라미터:/n',grid_cv_27.best_params_)\n",
        "print('최고 예측 정확도:{0:.4f}'.format(grid_cv_27.best_score_))"
      ],
      "metadata": {
        "colab": {
          "base_uri": "https://localhost:8080/"
        },
        "id": "O8_rDovLZZEr",
        "outputId": "7c338f34-7586-4ec6-86c2-643778dc5eac"
      },
      "execution_count": null,
      "outputs": [
        {
          "output_type": "stream",
          "name": "stdout",
          "text": [
            "최적 하이퍼 파라미터:/n {'max_depth': 24, 'n_estimators': 100}\n",
            "최고 예측 정확도:0.9434\n"
          ]
        }
      ]
    },
    {
      "cell_type": "markdown",
      "source": [
        "rf_params={'n_estimators':[10,25,50,75,100],'max_depth':[8,16,24]}\n",
        "> 16/100/0.9434\n",
        "\n",
        "rf_params={'n_estimators':[150,200],'max_depth':[8,16,24]}\n",
        "> 16/150/0.9434"
      ],
      "metadata": {
        "id": "kHDgQ8s-H9dG"
      }
    },
    {
      "cell_type": "code",
      "source": [
        "rf_clf_27=RandomForestClassifier(n_estimators=100, max_depth=24,random_state=42)\n",
        "rf_clf_27.fit(X_train_main27,y_train_main27)\n",
        "pred_27=rf_clf_27.predict(X_test_main27)\n",
        "print('예측 정확도:{0:.4f}'.format(accuracy_score(y_test_main27, pred_27)))"
      ],
      "metadata": {
        "colab": {
          "base_uri": "https://localhost:8080/"
        },
        "outputId": "8e251e7c-22db-4532-cbff-63fc7f358a2e",
        "id": "qqjcC1wTaBuW"
      },
      "execution_count": 59,
      "outputs": [
        {
          "output_type": "stream",
          "name": "stdout",
          "text": [
            "예측 정확도:0.9410\n"
          ]
        }
      ]
    },
    {
      "cell_type": "markdown",
      "source": [
        "> 16/100 => 0.9406\n",
        "\n",
        "> 8/75 => 0.9405\n",
        "\n",
        "> 24/100 => 0.9410"
      ],
      "metadata": {
        "id": "Y5qkWVGbaBuZ"
      }
    },
    {
      "cell_type": "markdown",
      "source": [
        "* XGBoost"
      ],
      "metadata": {
        "id": "SOQY-J8BtJYQ"
      }
    },
    {
      "cell_type": "code",
      "source": [
        "xgb_params={'n_estimators':[100,125,150,200],'learning_rate':[0.01,0.05,0.1,0.25,0.5]}\n",
        "xgb_clf=XGBClassifier()\n",
        "grid_xgb_27=GridSearchCV(xgb_clf,param_grid=xgb_params,cv=5, n_jobs=-1)\n",
        "grid_xgb_27.fit(X_train_main27,y_train_main27)\n",
        "\n",
        "print('최적 하이퍼 파라미터:/n',grid_xgb_27.best_params_)\n",
        "print('최고 예측 정확도:{0:.4f}'.format(grid_xgb_27.best_score_))"
      ],
      "metadata": {
        "colab": {
          "base_uri": "https://localhost:8080/"
        },
        "id": "GOlRZcV6tJYS",
        "outputId": "260a13fa-8730-46de-a0e9-dee25c3f79ac"
      },
      "execution_count": null,
      "outputs": [
        {
          "output_type": "stream",
          "name": "stdout",
          "text": [
            "최적 하이퍼 파라미터:/n {'learning_rate': 0.25, 'n_estimators': 100}\n",
            "최고 예측 정확도:0.9435\n"
          ]
        }
      ]
    },
    {
      "cell_type": "code",
      "source": [
        "xgb_clf_27=XGBClassifier(n_estimators=100, learning_rate=0.25,random_state=42)\n",
        "xgb_clf_27.fit(X_train_main27,y_train_main27)\n",
        "xgb_pred_27=xgb_clf_27.predict(X_test_main27)\n",
        "print('예측 정확도:{0:.4f}'.format(accuracy_score(y_test_main27, xgb_pred_27)))"
      ],
      "metadata": {
        "colab": {
          "base_uri": "https://localhost:8080/"
        },
        "outputId": "c1151b76-c07b-45b6-9151-8d4934b6b6a6",
        "id": "WEwe95DsANQ2"
      },
      "execution_count": null,
      "outputs": [
        {
          "output_type": "stream",
          "name": "stdout",
          "text": [
            "예측 정확도:0.9407\n"
          ]
        }
      ]
    },
    {
      "cell_type": "markdown",
      "source": [
        "* LightGBM"
      ],
      "metadata": {
        "id": "nzAvJZpstJYT"
      }
    },
    {
      "cell_type": "code",
      "source": [
        "lgbm_params={'n_estimators':[100,125,150,200],'learning_rate':[0.01,0.05,0.1,0.25,0.5]}\n",
        "lgbm_clf=LGBMClassifier()\n",
        "grid_lgbm_27=GridSearchCV(lgbm_clf,param_grid=lgbm_params,cv=5, n_jobs=-1)\n",
        "grid_lgbm_27.fit(X_train_main27,y_train_main27)\n",
        "\n",
        "print('최적 하이퍼 파라미터:/n',grid_lgbm_27.best_params_)\n",
        "print('최고 예측 정확도:{0:.4f}'.format(grid_lgbm_27.best_score_))"
      ],
      "metadata": {
        "colab": {
          "base_uri": "https://localhost:8080/"
        },
        "id": "0PPzV_SDtJYU",
        "outputId": "ddcbc959-8ce4-4367-8000-ef9a565919c6"
      },
      "execution_count": null,
      "outputs": [
        {
          "output_type": "stream",
          "name": "stdout",
          "text": [
            "최적 하이퍼 파라미터:/n {'learning_rate': 0.1, 'n_estimators': 150}\n",
            "최고 예측 정확도:0.9435\n"
          ]
        }
      ]
    },
    {
      "cell_type": "code",
      "source": [
        "lgbm_clf_27=LGBMClassifier(n_estimators=150, learning_rate=0.1,random_state=42)\n",
        "lgbm_clf_27.fit(X_train_main27,y_train_main27)\n",
        "lgbm_pred_27=lgbm_clf_27.predict(X_test_main27)\n",
        "print('예측 정확도:{0:.4f}'.format(accuracy_score(y_test_main27, lgbm_pred_27)))"
      ],
      "metadata": {
        "colab": {
          "base_uri": "https://localhost:8080/"
        },
        "outputId": "b123c75f-fb63-4893-bdc9-0adb02c89ff7",
        "id": "8aVQVGifCHuQ"
      },
      "execution_count": null,
      "outputs": [
        {
          "output_type": "stream",
          "name": "stdout",
          "text": [
            "예측 정확도:0.9412\n"
          ]
        }
      ]
    },
    {
      "cell_type": "markdown",
      "source": [
        "\n",
        "\n",
        "---\n",
        "* 운동별 예측정확도의 편차가 있음 0.70~0.95\n",
        "* 같은 운동에 대해서는 모델(RF,XGB,LGBM)에 따른 예측 정확도의 편차는 거의 없음(소수점 넷째자리 정도)\n",
        "* 같은 운동, 같은 모델에 대해 하이퍼 파라미터가 변해도(n_estimators 200>4000) 예측 정확도의 편차가는 거의 없음\n"
      ],
      "metadata": {
        "id": "QZJHQkkBNBkc"
      }
    },
    {
      "cell_type": "code",
      "source": [
        "data_pre.iloc[:,17:]"
      ],
      "metadata": {
        "colab": {
          "base_uri": "https://localhost:8080/",
          "height": 485
        },
        "id": "MsJAagE8Yirb",
        "outputId": "79cfa3f8-3ba4-4652-bcbb-fe647ea19019"
      },
      "execution_count": 82,
      "outputs": [
        {
          "output_type": "execute_result",
          "data": {
            "text/plain": [
              "        동적 스트레칭 루틴프로그램  전신 루틴 스트레칭  유산소 운동 전 동적 루틴 스트레칭  정적 스트레칭  루틴프로그램  걷기  \\\n",
              "0                    1           0                    0                1   1   \n",
              "1                    0           0                    0                0   0   \n",
              "2                    0           0                    0                0   0   \n",
              "3                    0           0                    1                0   0   \n",
              "4                    0           0                    0                0   1   \n",
              "...                ...         ...                  ...              ...  ..   \n",
              "113829               0           0                    0                0   0   \n",
              "113830               0           0                    0                1   1   \n",
              "113831               0           0                    0                0   0   \n",
              "113832               0           0                    0                0   0   \n",
              "113833               0           0                    0                0   0   \n",
              "\n",
              "        자가근막이완술 루틴 스트레칭  하지 루틴 스트레칭1  상지 루틴 스트레칭  달리기  목 스트레칭  \n",
              "0                     0            0           0    0       0  \n",
              "1                     0            0           0    1       0  \n",
              "2                     0            0           0    0       0  \n",
              "3                     0            0           0    1       0  \n",
              "4                     0            0           0    0       1  \n",
              "...                 ...          ...         ...  ...     ...  \n",
              "113829                0            0           0    0       0  \n",
              "113830                0            0           0    0       0  \n",
              "113831                0            0           0    0       0  \n",
              "113832                0            0           0    0       0  \n",
              "113833                0            0           0    0       0  \n",
              "\n",
              "[113834 rows x 10 columns]"
            ],
            "text/html": [
              "\n",
              "  <div id=\"df-682acefd-84d5-4619-ba40-a053d8b87ff6\">\n",
              "    <div class=\"colab-df-container\">\n",
              "      <div>\n",
              "<style scoped>\n",
              "    .dataframe tbody tr th:only-of-type {\n",
              "        vertical-align: middle;\n",
              "    }\n",
              "\n",
              "    .dataframe tbody tr th {\n",
              "        vertical-align: top;\n",
              "    }\n",
              "\n",
              "    .dataframe thead th {\n",
              "        text-align: right;\n",
              "    }\n",
              "</style>\n",
              "<table border=\"1\" class=\"dataframe\">\n",
              "  <thead>\n",
              "    <tr style=\"text-align: right;\">\n",
              "      <th></th>\n",
              "      <th>동적 스트레칭 루틴프로그램</th>\n",
              "      <th>전신 루틴 스트레칭</th>\n",
              "      <th>유산소 운동 전 동적 루틴 스트레칭</th>\n",
              "      <th>정적 스트레칭  루틴프로그램</th>\n",
              "      <th>걷기</th>\n",
              "      <th>자가근막이완술 루틴 스트레칭</th>\n",
              "      <th>하지 루틴 스트레칭1</th>\n",
              "      <th>상지 루틴 스트레칭</th>\n",
              "      <th>달리기</th>\n",
              "      <th>목 스트레칭</th>\n",
              "    </tr>\n",
              "  </thead>\n",
              "  <tbody>\n",
              "    <tr>\n",
              "      <th>0</th>\n",
              "      <td>1</td>\n",
              "      <td>0</td>\n",
              "      <td>0</td>\n",
              "      <td>1</td>\n",
              "      <td>1</td>\n",
              "      <td>0</td>\n",
              "      <td>0</td>\n",
              "      <td>0</td>\n",
              "      <td>0</td>\n",
              "      <td>0</td>\n",
              "    </tr>\n",
              "    <tr>\n",
              "      <th>1</th>\n",
              "      <td>0</td>\n",
              "      <td>0</td>\n",
              "      <td>0</td>\n",
              "      <td>0</td>\n",
              "      <td>0</td>\n",
              "      <td>0</td>\n",
              "      <td>0</td>\n",
              "      <td>0</td>\n",
              "      <td>1</td>\n",
              "      <td>0</td>\n",
              "    </tr>\n",
              "    <tr>\n",
              "      <th>2</th>\n",
              "      <td>0</td>\n",
              "      <td>0</td>\n",
              "      <td>0</td>\n",
              "      <td>0</td>\n",
              "      <td>0</td>\n",
              "      <td>0</td>\n",
              "      <td>0</td>\n",
              "      <td>0</td>\n",
              "      <td>0</td>\n",
              "      <td>0</td>\n",
              "    </tr>\n",
              "    <tr>\n",
              "      <th>3</th>\n",
              "      <td>0</td>\n",
              "      <td>0</td>\n",
              "      <td>1</td>\n",
              "      <td>0</td>\n",
              "      <td>0</td>\n",
              "      <td>0</td>\n",
              "      <td>0</td>\n",
              "      <td>0</td>\n",
              "      <td>1</td>\n",
              "      <td>0</td>\n",
              "    </tr>\n",
              "    <tr>\n",
              "      <th>4</th>\n",
              "      <td>0</td>\n",
              "      <td>0</td>\n",
              "      <td>0</td>\n",
              "      <td>0</td>\n",
              "      <td>1</td>\n",
              "      <td>0</td>\n",
              "      <td>0</td>\n",
              "      <td>0</td>\n",
              "      <td>0</td>\n",
              "      <td>1</td>\n",
              "    </tr>\n",
              "    <tr>\n",
              "      <th>...</th>\n",
              "      <td>...</td>\n",
              "      <td>...</td>\n",
              "      <td>...</td>\n",
              "      <td>...</td>\n",
              "      <td>...</td>\n",
              "      <td>...</td>\n",
              "      <td>...</td>\n",
              "      <td>...</td>\n",
              "      <td>...</td>\n",
              "      <td>...</td>\n",
              "    </tr>\n",
              "    <tr>\n",
              "      <th>113829</th>\n",
              "      <td>0</td>\n",
              "      <td>0</td>\n",
              "      <td>0</td>\n",
              "      <td>0</td>\n",
              "      <td>0</td>\n",
              "      <td>0</td>\n",
              "      <td>0</td>\n",
              "      <td>0</td>\n",
              "      <td>0</td>\n",
              "      <td>0</td>\n",
              "    </tr>\n",
              "    <tr>\n",
              "      <th>113830</th>\n",
              "      <td>0</td>\n",
              "      <td>0</td>\n",
              "      <td>0</td>\n",
              "      <td>1</td>\n",
              "      <td>1</td>\n",
              "      <td>0</td>\n",
              "      <td>0</td>\n",
              "      <td>0</td>\n",
              "      <td>0</td>\n",
              "      <td>0</td>\n",
              "    </tr>\n",
              "    <tr>\n",
              "      <th>113831</th>\n",
              "      <td>0</td>\n",
              "      <td>0</td>\n",
              "      <td>0</td>\n",
              "      <td>0</td>\n",
              "      <td>0</td>\n",
              "      <td>0</td>\n",
              "      <td>0</td>\n",
              "      <td>0</td>\n",
              "      <td>0</td>\n",
              "      <td>0</td>\n",
              "    </tr>\n",
              "    <tr>\n",
              "      <th>113832</th>\n",
              "      <td>0</td>\n",
              "      <td>0</td>\n",
              "      <td>0</td>\n",
              "      <td>0</td>\n",
              "      <td>0</td>\n",
              "      <td>0</td>\n",
              "      <td>0</td>\n",
              "      <td>0</td>\n",
              "      <td>0</td>\n",
              "      <td>0</td>\n",
              "    </tr>\n",
              "    <tr>\n",
              "      <th>113833</th>\n",
              "      <td>0</td>\n",
              "      <td>0</td>\n",
              "      <td>0</td>\n",
              "      <td>0</td>\n",
              "      <td>0</td>\n",
              "      <td>0</td>\n",
              "      <td>0</td>\n",
              "      <td>0</td>\n",
              "      <td>0</td>\n",
              "      <td>0</td>\n",
              "    </tr>\n",
              "  </tbody>\n",
              "</table>\n",
              "<p>113834 rows × 10 columns</p>\n",
              "</div>\n",
              "      <button class=\"colab-df-convert\" onclick=\"convertToInteractive('df-682acefd-84d5-4619-ba40-a053d8b87ff6')\"\n",
              "              title=\"Convert this dataframe to an interactive table.\"\n",
              "              style=\"display:none;\">\n",
              "        \n",
              "  <svg xmlns=\"http://www.w3.org/2000/svg\" height=\"24px\"viewBox=\"0 0 24 24\"\n",
              "       width=\"24px\">\n",
              "    <path d=\"M0 0h24v24H0V0z\" fill=\"none\"/>\n",
              "    <path d=\"M18.56 5.44l.94 2.06.94-2.06 2.06-.94-2.06-.94-.94-2.06-.94 2.06-2.06.94zm-11 1L8.5 8.5l.94-2.06 2.06-.94-2.06-.94L8.5 2.5l-.94 2.06-2.06.94zm10 10l.94 2.06.94-2.06 2.06-.94-2.06-.94-.94-2.06-.94 2.06-2.06.94z\"/><path d=\"M17.41 7.96l-1.37-1.37c-.4-.4-.92-.59-1.43-.59-.52 0-1.04.2-1.43.59L10.3 9.45l-7.72 7.72c-.78.78-.78 2.05 0 2.83L4 21.41c.39.39.9.59 1.41.59.51 0 1.02-.2 1.41-.59l7.78-7.78 2.81-2.81c.8-.78.8-2.07 0-2.86zM5.41 20L4 18.59l7.72-7.72 1.47 1.35L5.41 20z\"/>\n",
              "  </svg>\n",
              "      </button>\n",
              "      \n",
              "  <style>\n",
              "    .colab-df-container {\n",
              "      display:flex;\n",
              "      flex-wrap:wrap;\n",
              "      gap: 12px;\n",
              "    }\n",
              "\n",
              "    .colab-df-convert {\n",
              "      background-color: #E8F0FE;\n",
              "      border: none;\n",
              "      border-radius: 50%;\n",
              "      cursor: pointer;\n",
              "      display: none;\n",
              "      fill: #1967D2;\n",
              "      height: 32px;\n",
              "      padding: 0 0 0 0;\n",
              "      width: 32px;\n",
              "    }\n",
              "\n",
              "    .colab-df-convert:hover {\n",
              "      background-color: #E2EBFA;\n",
              "      box-shadow: 0px 1px 2px rgba(60, 64, 67, 0.3), 0px 1px 3px 1px rgba(60, 64, 67, 0.15);\n",
              "      fill: #174EA6;\n",
              "    }\n",
              "\n",
              "    [theme=dark] .colab-df-convert {\n",
              "      background-color: #3B4455;\n",
              "      fill: #D2E3FC;\n",
              "    }\n",
              "\n",
              "    [theme=dark] .colab-df-convert:hover {\n",
              "      background-color: #434B5C;\n",
              "      box-shadow: 0px 1px 3px 1px rgba(0, 0, 0, 0.15);\n",
              "      filter: drop-shadow(0px 1px 2px rgba(0, 0, 0, 0.3));\n",
              "      fill: #FFFFFF;\n",
              "    }\n",
              "  </style>\n",
              "\n",
              "      <script>\n",
              "        const buttonEl =\n",
              "          document.querySelector('#df-682acefd-84d5-4619-ba40-a053d8b87ff6 button.colab-df-convert');\n",
              "        buttonEl.style.display =\n",
              "          google.colab.kernel.accessAllowed ? 'block' : 'none';\n",
              "\n",
              "        async function convertToInteractive(key) {\n",
              "          const element = document.querySelector('#df-682acefd-84d5-4619-ba40-a053d8b87ff6');\n",
              "          const dataTable =\n",
              "            await google.colab.kernel.invokeFunction('convertToInteractive',\n",
              "                                                     [key], {});\n",
              "          if (!dataTable) return;\n",
              "\n",
              "          const docLinkHtml = 'Like what you see? Visit the ' +\n",
              "            '<a target=\"_blank\" href=https://colab.research.google.com/notebooks/data_table.ipynb>data table notebook</a>'\n",
              "            + ' to learn more about interactive tables.';\n",
              "          element.innerHTML = '';\n",
              "          dataTable['output_type'] = 'display_data';\n",
              "          await google.colab.output.renderOutput(dataTable, element);\n",
              "          const docLink = document.createElement('div');\n",
              "          docLink.innerHTML = docLinkHtml;\n",
              "          element.appendChild(docLink);\n",
              "        }\n",
              "      </script>\n",
              "    </div>\n",
              "  </div>\n",
              "  "
            ]
          },
          "metadata": {},
          "execution_count": 82
        }
      ]
    },
    {
      "cell_type": "code",
      "source": [
        "pre_main=pd.concat([data_pre.iloc[:,17:],data_main.iloc[:,17:]],axis=1)\n",
        "data_all=pd.concat([pre_main,data_end.iloc[:,17:]],axis=1)"
      ],
      "metadata": {
        "id": "kS263ec4XDJC"
      },
      "execution_count": 83,
      "outputs": []
    },
    {
      "cell_type": "code",
      "source": [
        "data_all.shape"
      ],
      "metadata": {
        "colab": {
          "base_uri": "https://localhost:8080/"
        },
        "id": "qUQHfmkqXQoH",
        "outputId": "fc664a49-005c-4243-99bd-a198a884c479"
      },
      "execution_count": 84,
      "outputs": [
        {
          "output_type": "execute_result",
          "data": {
            "text/plain": [
              "(113834, 54)"
            ]
          },
          "metadata": {},
          "execution_count": 84
        }
      ]
    },
    {
      "cell_type": "code",
      "source": [
        "data_all.columns"
      ],
      "metadata": {
        "colab": {
          "base_uri": "https://localhost:8080/"
        },
        "id": "k8452ubTX6Xz",
        "outputId": "ead06f26-3c9f-413f-b3a3-c94b8f1001f6"
      },
      "execution_count": 85,
      "outputs": [
        {
          "output_type": "execute_result",
          "data": {
            "text/plain": [
              "Index(['동적 스트레칭 루틴프로그램', '전신 루틴 스트레칭', '유산소 운동 전 동적 루틴 스트레칭',\n",
              "       '정적 스트레칭  루틴프로그램', '걷기', '자가근막이완술 루틴 스트레칭', '하지 루틴 스트레칭1', '상지 루틴 스트레칭',\n",
              "       '달리기', '목 스트레칭', '앉았다 일어서기', '엎드려 버티기', '맨몸운동  루틴프로그램', '윗몸올리기 ', '수영',\n",
              "       '조깅', '한발 앞으로 내밀고 앉았다 일어서기', '줄넘기 운동', '버피 테스트', '달리기', '팔굽혀펴기',\n",
              "       '팔굽혀 펴기', '계단 올라갔다 내려오기', '누워서 엉덩이 들어올리기', '자전거타기', '실내 자전거타기',\n",
              "       '몸통 들어올리기', '전완대고 버티기', '저항밴드 운동  루틴프로그램', '윗몸 일으키기', '줄넘기',\n",
              "       '트레드밀에서 걷기', '앉아서 당겨 내리기', '걷기', '앞굽이 앉았다 일어서기', '바운딩 운동  루틴프로그램',\n",
              "       '누워 다리 들어올리기', '뒤로 팔굽혀펴기', '버피운동', '앉아서 다리 밀기', '턱걸이', '넙다리 뒤쪽 스트레칭',\n",
              "       '누워서 다리 들어올리기', '엉덩이 스트레칭', '옆으로 누워 버티기', '앉아서 다리 펴기',\n",
              "       '정적 스트레칭  루틴프로그램', '전신 루틴 스트레칭', '하지 루틴 스트레칭2', '상지 루틴 스트레칭',\n",
              "       '하지 루틴 스트레칭1', '허리 스트레칭', '자가근막이완술 루틴 스트레칭', '엉덩이 스트레칭'],\n",
              "      dtype='object')"
            ]
          },
          "metadata": {},
          "execution_count": 85
        }
      ]
    },
    {
      "cell_type": "code",
      "source": [
        "training_corr=data_all.corr()\n",
        "training_corr"
      ],
      "metadata": {
        "colab": {
          "base_uri": "https://localhost:8080/",
          "height": 1000
        },
        "id": "Na85FE0kY5t-",
        "outputId": "7ccbbd0d-4612-468a-fb64-5f62994cc84b"
      },
      "execution_count": 89,
      "outputs": [
        {
          "output_type": "execute_result",
          "data": {
            "text/plain": [
              "                     동적 스트레칭 루틴프로그램  전신 루틴 스트레칭  유산소 운동 전 동적 루틴 스트레칭  \\\n",
              "동적 스트레칭 루틴프로그램             1.000000   -0.043322             0.028723   \n",
              "전신 루틴 스트레칭                -0.043322    1.000000             0.371978   \n",
              "유산소 운동 전 동적 루틴 스트레칭        0.028723    0.371978             1.000000   \n",
              "정적 스트레칭  루틴프로그램            0.479978    0.003289            -0.012073   \n",
              "걷기                         0.015666    0.089725             0.103931   \n",
              "자가근막이완술 루틴 스트레칭            0.016524    0.451036             0.308004   \n",
              "하지 루틴 스트레칭1                0.001839    0.372942             0.246366   \n",
              "상지 루틴 스트레칭                -0.022015    0.388830             0.229938   \n",
              "달리기                       -0.099864    0.255388             0.188197   \n",
              "목 스트레칭                    -0.101257    0.012225             0.016425   \n",
              "앉았다 일어서기                  -0.065333    0.200199             0.119854   \n",
              "엎드려 버티기                   -0.094619    0.250761             0.261581   \n",
              "맨몸운동  루틴프로그램               0.196352    0.017769            -0.029925   \n",
              "윗몸올리기                     -0.136736    0.287663             0.138341   \n",
              "수영                         0.055408    0.043679             0.038116   \n",
              "조깅                         0.231175   -0.046956             0.000765   \n",
              "한발 앞으로 내밀고 앉았다 일어서기       -0.054637    0.237770             0.216443   \n",
              "줄넘기 운동                     0.315906   -0.175475            -0.085068   \n",
              "버피 테스트                     0.195589    0.005518            -0.045247   \n",
              "달리기                       -0.099864    0.255388             0.188197   \n",
              "팔굽혀펴기                      0.008541    0.150632             0.090074   \n",
              "팔굽혀 펴기                     0.042097   -0.027849            -0.025576   \n",
              "계단 올라갔다 내려오기              -0.124628    0.195943             0.097254   \n",
              "누워서 엉덩이 들어올리기             -0.082960    0.195020             0.204883   \n",
              "자전거타기                      0.107430    0.023910             0.181378   \n",
              "실내 자전거타기                  -0.067717    0.182804             0.310172   \n",
              "몸통 들어올리기                   0.018968   -0.005261             0.059114   \n",
              "전완대고 버티기                   0.145196   -0.105278             0.013861   \n",
              "저항밴드 운동  루틴프로그램            0.284199   -0.016970             0.016563   \n",
              "윗몸 일으키기                    0.150830   -0.063726            -0.058362   \n",
              "줄넘기                        0.241899    0.008466            -0.017472   \n",
              "트레드밀에서 걷기                 -0.066076    0.170439             0.238117   \n",
              "앉아서 당겨 내리기                -0.088663    0.200472             0.242920   \n",
              "걷기                         0.015666    0.089725             0.103931   \n",
              "앞굽이 앉았다 일어서기               0.053142   -0.046624            -0.053209   \n",
              "바운딩 운동  루틴프로그램             0.008236    0.182417            -0.031415   \n",
              "누워 다리 들어올리기                0.017196   -0.110900            -0.038405   \n",
              "뒤로 팔굽혀펴기                  -0.019250    0.138268             0.050495   \n",
              "버피운동                      -0.033505    0.199257             0.046486   \n",
              "앉아서 다리 밀기                 -0.080825    0.160010             0.268697   \n",
              "턱걸이                       -0.061356    0.190894             0.103641   \n",
              "넙다리 뒤쪽 스트레칭               -0.069513    0.015774             0.042298   \n",
              "누워서 다리 들어올리기              -0.035811    0.130768             0.086478   \n",
              "엉덩이 스트레칭                  -0.105934   -0.025137             0.020315   \n",
              "옆으로 누워 버티기                -0.033725    0.121602             0.178324   \n",
              "앉아서 다리 펴기                 -0.050710    0.166762             0.324686   \n",
              "정적 스트레칭  루틴프로그램            0.479978    0.003289            -0.012073   \n",
              "전신 루틴 스트레칭                -0.043322    1.000000             0.371978   \n",
              "하지 루틴 스트레칭2                0.023771    0.306464             0.234004   \n",
              "상지 루틴 스트레칭                -0.022015    0.388830             0.229938   \n",
              "하지 루틴 스트레칭1                0.001839    0.372942             0.246366   \n",
              "허리 스트레칭                   -0.075975    0.073574             0.056533   \n",
              "자가근막이완술 루틴 스트레칭            0.016524    0.451036             0.308004   \n",
              "엉덩이 스트레칭                  -0.105934   -0.025137             0.020315   \n",
              "\n",
              "                     정적 스트레칭  루틴프로그램        걷기  자가근막이완술 루틴 스트레칭  하지 루틴 스트레칭1  \\\n",
              "동적 스트레칭 루틴프로그램              0.479978  0.015666         0.016524     0.001839   \n",
              "전신 루틴 스트레칭                  0.003289  0.089725         0.451036     0.372942   \n",
              "유산소 운동 전 동적 루틴 스트레칭        -0.012073  0.103931         0.308004     0.246366   \n",
              "정적 스트레칭  루틴프로그램             1.000000  0.117591         0.005890    -0.022944   \n",
              "걷기                          0.117591  1.000000         0.086496     0.111175   \n",
              "자가근막이완술 루틴 스트레칭             0.005890  0.086496         1.000000     0.238652   \n",
              "하지 루틴 스트레칭1                -0.022944  0.111175         0.238652     1.000000   \n",
              "상지 루틴 스트레칭                 -0.056021  0.085837         0.219083     0.752686   \n",
              "달리기                        -0.096056  0.081070         0.273105     0.184527   \n",
              "목 스트레칭                     -0.118746  0.042716         0.097105     0.097782   \n",
              "앉았다 일어서기                   -0.051317  0.069289         0.320234     0.098873   \n",
              "엎드려 버티기                    -0.095168  0.076549         0.222294     0.230444   \n",
              "맨몸운동  루틴프로그램                0.385175 -0.009289        -0.041234    -0.033762   \n",
              "윗몸올리기                      -0.108795  0.113721         0.211553     0.197546   \n",
              "수영                          0.152304  0.195797         0.049514     0.197172   \n",
              "조깅                          0.333909  0.160770        -0.016665     0.008668   \n",
              "한발 앞으로 내밀고 앉았다 일어서기        -0.074121  0.064687         0.364434     0.211984   \n",
              "줄넘기 운동                      0.264097  0.020921        -0.095839    -0.077361   \n",
              "버피 테스트                      0.350836  0.124871        -0.026003     0.070814   \n",
              "달리기                        -0.096056  0.081070         0.273105     0.184527   \n",
              "팔굽혀펴기                      -0.060770  0.060385         0.218802     0.107472   \n",
              "팔굽혀 펴기                      0.145861  0.073271        -0.005402     0.031804   \n",
              "계단 올라갔다 내려오기               -0.051646  0.141437         0.110403     0.125244   \n",
              "누워서 엉덩이 들어올리기              -0.096136  0.072183         0.162675     0.202022   \n",
              "자전거타기                       0.130286  0.373986         0.096066     0.147198   \n",
              "실내 자전거타기                   -0.076034  0.311670         0.185065     0.189293   \n",
              "몸통 들어올리기                    0.032362  0.101290         0.040057     0.004502   \n",
              "전완대고 버티기                    0.250200  0.075909        -0.035665    -0.016418   \n",
              "저항밴드 운동  루틴프로그램             0.106120 -0.057477         0.074627     0.090637   \n",
              "윗몸 일으키기                     0.189974 -0.064095        -0.059299    -0.062430   \n",
              "줄넘기                         0.146446  0.137255         0.038638     0.024980   \n",
              "트레드밀에서 걷기                  -0.084868  0.553761         0.140842     0.196752   \n",
              "앉아서 당겨 내리기                 -0.088716  0.106542         0.079956     0.056917   \n",
              "걷기                          0.117591  1.000000         0.086496     0.111175   \n",
              "앞굽이 앉았다 일어서기                0.078150 -0.083962        -0.054424    -0.065404   \n",
              "바운딩 운동  루틴프로그램              0.068661  0.001646        -0.055661     0.069978   \n",
              "누워 다리 들어올리기                 0.114555 -0.002470        -0.042338    -0.055806   \n",
              "뒤로 팔굽혀펴기                   -0.025015  0.077620         0.201019     0.090205   \n",
              "버피운동                        0.019442  0.170175         0.255577     0.148605   \n",
              "앉아서 다리 밀기                  -0.108553  0.100341         0.112157     0.117398   \n",
              "턱걸이                        -0.086745  0.089385         0.311577     0.050436   \n",
              "넙다리 뒤쪽 스트레칭                -0.069913 -0.040131         0.121356     0.222775   \n",
              "누워서 다리 들어올리기               -0.037921  0.043117         0.088374     0.176611   \n",
              "엉덩이 스트레칭                   -0.139129  0.030818         0.045444     0.132419   \n",
              "옆으로 누워 버티기                 -0.068594 -0.058699         0.169691     0.197103   \n",
              "앉아서 다리 펴기                  -0.073917  0.071023         0.153251     0.147760   \n",
              "정적 스트레칭  루틴프로그램             1.000000  0.117591         0.005890    -0.022944   \n",
              "전신 루틴 스트레칭                  0.003289  0.089725         0.451036     0.372942   \n",
              "하지 루틴 스트레칭2                -0.035293  0.016013         0.218924     0.590881   \n",
              "상지 루틴 스트레칭                 -0.056021  0.085837         0.219083     0.752686   \n",
              "하지 루틴 스트레칭1                -0.022944  0.111175         0.238652     1.000000   \n",
              "허리 스트레칭                    -0.109987 -0.017046         0.104603     0.188484   \n",
              "자가근막이완술 루틴 스트레칭             0.005890  0.086496         1.000000     0.238652   \n",
              "엉덩이 스트레칭                   -0.139129  0.030818         0.045444     0.132419   \n",
              "\n",
              "                     상지 루틴 스트레칭       달리기    목 스트레칭  ...  옆으로 누워 버티기  \\\n",
              "동적 스트레칭 루틴프로그램        -0.022015 -0.099864 -0.101257  ...   -0.033725   \n",
              "전신 루틴 스트레칭             0.388830  0.255388  0.012225  ...    0.121602   \n",
              "유산소 운동 전 동적 루틴 스트레칭    0.229938  0.188197  0.016425  ...    0.178324   \n",
              "정적 스트레칭  루틴프로그램       -0.056021 -0.096056 -0.118746  ...   -0.068594   \n",
              "걷기                     0.085837  0.081070  0.042716  ...   -0.058699   \n",
              "자가근막이완술 루틴 스트레칭        0.219083  0.273105  0.097105  ...    0.169691   \n",
              "하지 루틴 스트레칭1            0.752686  0.184527  0.097782  ...    0.197103   \n",
              "상지 루틴 스트레칭             1.000000  0.170168  0.107234  ...    0.155871   \n",
              "달리기                    0.170168  1.000000 -0.004320  ...    0.086543   \n",
              "목 스트레칭                 0.107234 -0.004320  1.000000  ...    0.033153   \n",
              "앉았다 일어서기               0.140573  0.131562  0.047475  ...    0.160984   \n",
              "엎드려 버티기                0.270610  0.143227  0.073390  ...    0.454204   \n",
              "맨몸운동  루틴프로그램          -0.017712 -0.116146 -0.050389  ...   -0.074633   \n",
              "윗몸올리기                  0.225749  0.225817  0.019051  ...    0.323972   \n",
              "수영                     0.204600  0.169765  0.036084  ...    0.000414   \n",
              "조깅                     0.028376 -0.093985 -0.045812  ...   -0.007526   \n",
              "한발 앞으로 내밀고 앉았다 일어서기    0.238383  0.099872  0.122267  ...    0.264148   \n",
              "줄넘기 운동                -0.073046 -0.155394 -0.063844  ...   -0.074426   \n",
              "버피 테스트                 0.070140 -0.080814 -0.030467  ...   -0.009550   \n",
              "달리기                    0.170168  1.000000 -0.004320  ...    0.086543   \n",
              "팔굽혀펴기                  0.177676  0.139895  0.082620  ...    0.124588   \n",
              "팔굽혀 펴기                 0.033930 -0.049075  0.016496  ...    0.020949   \n",
              "계단 올라갔다 내려오기           0.115720  0.233816 -0.023310  ...    0.071365   \n",
              "누워서 엉덩이 들어올리기          0.227568  0.065402  0.131771  ...    0.322446   \n",
              "자전거타기                  0.118010  0.165931  0.012500  ...    0.031746   \n",
              "실내 자전거타기               0.157915  0.291228  0.048926  ...    0.117665   \n",
              "몸통 들어올리기              -0.034360 -0.058301  0.086834  ...    0.130780   \n",
              "전완대고 버티기              -0.014873 -0.098815 -0.032952  ...    0.007565   \n",
              "저항밴드 운동  루틴프로그램        0.096107 -0.060832 -0.031204  ...   -0.006975   \n",
              "윗몸 일으키기               -0.066245 -0.115823 -0.026492  ...   -0.040768   \n",
              "줄넘기                    0.038999  0.183165 -0.012436  ...   -0.053974   \n",
              "트레드밀에서 걷기              0.187981  0.187501  0.061448  ...   -0.031072   \n",
              "앉아서 당겨 내리기             0.037798  0.031830 -0.010298  ...    0.097876   \n",
              "걷기                     0.085837  0.081070  0.042716  ...   -0.058699   \n",
              "앞굽이 앉았다 일어서기          -0.068330 -0.110269 -0.040113  ...   -0.037366   \n",
              "바운딩 운동  루틴프로그램         0.074938 -0.036779 -0.037937  ...   -0.048808   \n",
              "누워 다리 들어올리기           -0.059117 -0.029806  0.020252  ...   -0.011862   \n",
              "뒤로 팔굽혀펴기               0.106480  0.119044  0.067003  ...    0.118108   \n",
              "버피운동                   0.122009  0.258465  0.013327  ...    0.046254   \n",
              "앉아서 다리 밀기              0.080352  0.085584  0.001872  ...    0.267195   \n",
              "턱걸이                    0.081723  0.206818 -0.011006  ...    0.083602   \n",
              "넙다리 뒤쪽 스트레칭            0.124571  0.044693  0.311195  ...    0.009871   \n",
              "누워서 다리 들어올리기           0.129369  0.025599  0.097887  ...    0.370944   \n",
              "엉덩이 스트레칭               0.054078 -0.030275  0.443471  ...    0.050159   \n",
              "옆으로 누워 버티기             0.155871  0.086543  0.033153  ...    1.000000   \n",
              "앉아서 다리 펴기              0.096909  0.085504  0.007116  ...    0.304815   \n",
              "정적 스트레칭  루틴프로그램       -0.056021 -0.096056 -0.118746  ...   -0.068594   \n",
              "전신 루틴 스트레칭             0.388830  0.255388  0.012225  ...    0.121602   \n",
              "하지 루틴 스트레칭2            0.590299  0.208004  0.115530  ...    0.177552   \n",
              "상지 루틴 스트레칭             1.000000  0.170168  0.107234  ...    0.155871   \n",
              "하지 루틴 스트레칭1            0.752686  0.184527  0.097782  ...    0.197103   \n",
              "허리 스트레칭                0.156496  0.024040  0.436026  ...    0.149048   \n",
              "자가근막이완술 루틴 스트레칭        0.219083  0.273105  0.097105  ...    0.169691   \n",
              "엉덩이 스트레칭               0.054078 -0.030275  0.443471  ...    0.050159   \n",
              "\n",
              "                     앉아서 다리 펴기  정적 스트레칭  루틴프로그램  전신 루틴 스트레칭  하지 루틴 스트레칭2  \\\n",
              "동적 스트레칭 루틴프로그램       -0.050710         0.479978   -0.043322     0.023771   \n",
              "전신 루틴 스트레칭            0.166762         0.003289    1.000000     0.306464   \n",
              "유산소 운동 전 동적 루틴 스트레칭   0.324686        -0.012073    0.371978     0.234004   \n",
              "정적 스트레칭  루틴프로그램      -0.073917         1.000000    0.003289    -0.035293   \n",
              "걷기                    0.071023         0.117591    0.089725     0.016013   \n",
              "자가근막이완술 루틴 스트레칭       0.153251         0.005890    0.451036     0.218924   \n",
              "하지 루틴 스트레칭1           0.147760        -0.022944    0.372942     0.590881   \n",
              "상지 루틴 스트레칭            0.096909        -0.056021    0.388830     0.590299   \n",
              "달리기                   0.085504        -0.096056    0.255388     0.208004   \n",
              "목 스트레칭                0.007116        -0.118746    0.012225     0.115530   \n",
              "앉았다 일어서기              0.153121        -0.051317    0.200199     0.121859   \n",
              "엎드려 버티기               0.312889        -0.095168    0.250761     0.231584   \n",
              "맨몸운동  루틴프로그램         -0.073485         0.385175    0.017769    -0.003599   \n",
              "윗몸올리기                 0.253275        -0.108795    0.287663     0.217749   \n",
              "수영                   -0.004944         0.152304    0.043679     0.165439   \n",
              "조깅                   -0.000923         0.333909   -0.046956     0.013279   \n",
              "한발 앞으로 내밀고 앉았다 일어서기   0.176483        -0.074121    0.237770     0.256473   \n",
              "줄넘기 운동               -0.040184         0.264097   -0.175475    -0.060914   \n",
              "버피 테스트                0.022861         0.350836    0.005518     0.024189   \n",
              "달리기                   0.085504        -0.096056    0.255388     0.208004   \n",
              "팔굽혀펴기                 0.011784        -0.060770    0.150632     0.135859   \n",
              "팔굽혀 펴기                0.066339         0.145861   -0.027849     0.028409   \n",
              "계단 올라갔다 내려오기          0.033451        -0.051646    0.195943     0.029880   \n",
              "누워서 엉덩이 들어올리기         0.308504        -0.096136    0.195020     0.259005   \n",
              "자전거타기                 0.205978         0.130286    0.023910     0.112123   \n",
              "실내 자전거타기              0.326241        -0.076034    0.182804     0.160755   \n",
              "몸통 들어올리기              0.096782         0.032362   -0.005261     0.009570   \n",
              "전완대고 버티기             -0.004190         0.250200   -0.105278    -0.000433   \n",
              "저항밴드 운동  루틴프로그램      -0.047766         0.106120   -0.016970     0.092534   \n",
              "윗몸 일으키기              -0.004030         0.189974   -0.063726    -0.061363   \n",
              "줄넘기                  -0.064468         0.146446    0.008466     0.046577   \n",
              "트레드밀에서 걷기             0.163114        -0.084868    0.170439     0.121840   \n",
              "앉아서 당겨 내리기            0.442120        -0.088716    0.200472     0.035148   \n",
              "걷기                    0.071023         0.117591    0.089725     0.016013   \n",
              "앞굽이 앉았다 일어서기         -0.007363         0.078150   -0.046624    -0.060902   \n",
              "바운딩 운동  루틴프로그램       -0.006462         0.068661    0.182417     0.005397   \n",
              "누워 다리 들어올리기           0.039652         0.114555   -0.110900    -0.039650   \n",
              "뒤로 팔굽혀펴기              0.057026        -0.025015    0.138268     0.087171   \n",
              "버피운동                  0.020290         0.019442    0.199257     0.065796   \n",
              "앉아서 다리 밀기             0.732594        -0.108553    0.160010     0.104487   \n",
              "턱걸이                   0.087709        -0.086745    0.190894     0.052511   \n",
              "넙다리 뒤쪽 스트레칭           0.015944        -0.069913    0.015774     0.262849   \n",
              "누워서 다리 들어올리기          0.109774        -0.037921    0.130768     0.149742   \n",
              "엉덩이 스트레칭              0.033926        -0.139129   -0.025137     0.195532   \n",
              "옆으로 누워 버티기            0.304815        -0.068594    0.121602     0.177552   \n",
              "앉아서 다리 펴기             1.000000        -0.073917    0.166762     0.165545   \n",
              "정적 스트레칭  루틴프로그램      -0.073917         1.000000    0.003289    -0.035293   \n",
              "전신 루틴 스트레칭            0.166762         0.003289    1.000000     0.306464   \n",
              "하지 루틴 스트레칭2           0.165545        -0.035293    0.306464     1.000000   \n",
              "상지 루틴 스트레칭            0.096909        -0.056021    0.388830     0.590299   \n",
              "하지 루틴 스트레칭1           0.147760        -0.022944    0.372942     0.590881   \n",
              "허리 스트레칭               0.076020        -0.109987    0.073574     0.211465   \n",
              "자가근막이완술 루틴 스트레칭       0.153251         0.005890    0.451036     0.218924   \n",
              "엉덩이 스트레칭              0.033926        -0.139129   -0.025137     0.195532   \n",
              "\n",
              "                     상지 루틴 스트레칭  하지 루틴 스트레칭1   허리 스트레칭  자가근막이완술 루틴 스트레칭  \\\n",
              "동적 스트레칭 루틴프로그램        -0.022015     0.001839 -0.075975         0.016524   \n",
              "전신 루틴 스트레칭             0.388830     0.372942  0.073574         0.451036   \n",
              "유산소 운동 전 동적 루틴 스트레칭    0.229938     0.246366  0.056533         0.308004   \n",
              "정적 스트레칭  루틴프로그램       -0.056021    -0.022944 -0.109987         0.005890   \n",
              "걷기                     0.085837     0.111175 -0.017046         0.086496   \n",
              "자가근막이완술 루틴 스트레칭        0.219083     0.238652  0.104603         1.000000   \n",
              "하지 루틴 스트레칭1            0.752686     1.000000  0.188484         0.238652   \n",
              "상지 루틴 스트레칭             1.000000     0.752686  0.156496         0.219083   \n",
              "달리기                    0.170168     0.184527  0.024040         0.273105   \n",
              "목 스트레칭                 0.107234     0.097782  0.436026         0.097105   \n",
              "앉았다 일어서기               0.140573     0.098873  0.040578         0.320234   \n",
              "엎드려 버티기                0.270610     0.230444  0.105452         0.222294   \n",
              "맨몸운동  루틴프로그램          -0.017712    -0.033762 -0.092469        -0.041234   \n",
              "윗몸올리기                  0.225749     0.197546  0.063885         0.211553   \n",
              "수영                     0.204600     0.197172 -0.012438         0.049514   \n",
              "조깅                     0.028376     0.008668 -0.057039        -0.016665   \n",
              "한발 앞으로 내밀고 앉았다 일어서기    0.238383     0.211984  0.133703         0.364434   \n",
              "줄넘기 운동                -0.073046    -0.077361 -0.091854        -0.095839   \n",
              "버피 테스트                 0.070140     0.070814 -0.052086        -0.026003   \n",
              "달리기                    0.170168     0.184527  0.024040         0.273105   \n",
              "팔굽혀펴기                  0.177676     0.107472  0.071422         0.218802   \n",
              "팔굽혀 펴기                 0.033930     0.031804  0.005678        -0.005402   \n",
              "계단 올라갔다 내려오기           0.115720     0.125244  0.039123         0.110403   \n",
              "누워서 엉덩이 들어올리기          0.227568     0.202022  0.118902         0.162675   \n",
              "자전거타기                  0.118010     0.147198  0.008251         0.096066   \n",
              "실내 자전거타기               0.157915     0.189293  0.092468         0.185065   \n",
              "몸통 들어올리기              -0.034360     0.004502  0.070133         0.040057   \n",
              "전완대고 버티기              -0.014873    -0.016418 -0.058274        -0.035665   \n",
              "저항밴드 운동  루틴프로그램        0.096107     0.090637 -0.012022         0.074627   \n",
              "윗몸 일으키기               -0.066245    -0.062430 -0.034233        -0.059299   \n",
              "줄넘기                    0.038999     0.024980 -0.068916         0.038638   \n",
              "트레드밀에서 걷기              0.187981     0.196752  0.030453         0.140842   \n",
              "앉아서 당겨 내리기             0.037798     0.056917  0.018324         0.079956   \n",
              "걷기                     0.085837     0.111175 -0.017046         0.086496   \n",
              "앞굽이 앉았다 일어서기          -0.068330    -0.065404 -0.046609        -0.054424   \n",
              "바운딩 운동  루틴프로그램         0.074938     0.069978 -0.052284        -0.055661   \n",
              "누워 다리 들어올리기           -0.059117    -0.055806  0.022825        -0.042338   \n",
              "뒤로 팔굽혀펴기               0.106480     0.090205  0.043180         0.201019   \n",
              "버피운동                   0.122009     0.148605  0.048478         0.255577   \n",
              "앉아서 다리 밀기              0.080352     0.117398  0.037861         0.112157   \n",
              "턱걸이                    0.081723     0.050436 -0.006667         0.311577   \n",
              "넙다리 뒤쪽 스트레칭            0.124571     0.222775  0.448220         0.121356   \n",
              "누워서 다리 들어올리기           0.129369     0.176611  0.171570         0.088374   \n",
              "엉덩이 스트레칭               0.054078     0.132419  0.581300         0.045444   \n",
              "옆으로 누워 버티기             0.155871     0.197103  0.149048         0.169691   \n",
              "앉아서 다리 펴기              0.096909     0.147760  0.076020         0.153251   \n",
              "정적 스트레칭  루틴프로그램       -0.056021    -0.022944 -0.109987         0.005890   \n",
              "전신 루틴 스트레칭             0.388830     0.372942  0.073574         0.451036   \n",
              "하지 루틴 스트레칭2            0.590299     0.590881  0.211465         0.218924   \n",
              "상지 루틴 스트레칭             1.000000     0.752686  0.156496         0.219083   \n",
              "하지 루틴 스트레칭1            0.752686     1.000000  0.188484         0.238652   \n",
              "허리 스트레칭                0.156496     0.188484  1.000000         0.104603   \n",
              "자가근막이완술 루틴 스트레칭        0.219083     0.238652  0.104603         1.000000   \n",
              "엉덩이 스트레칭               0.054078     0.132419  0.581300         0.045444   \n",
              "\n",
              "                     엉덩이 스트레칭  \n",
              "동적 스트레칭 루틴프로그램      -0.105934  \n",
              "전신 루틴 스트레칭          -0.025137  \n",
              "유산소 운동 전 동적 루틴 스트레칭  0.020315  \n",
              "정적 스트레칭  루틴프로그램     -0.139129  \n",
              "걷기                   0.030818  \n",
              "자가근막이완술 루틴 스트레칭      0.045444  \n",
              "하지 루틴 스트레칭1          0.132419  \n",
              "상지 루틴 스트레칭           0.054078  \n",
              "달리기                 -0.030275  \n",
              "목 스트레칭               0.443471  \n",
              "앉았다 일어서기             0.023538  \n",
              "엎드려 버티기              0.007764  \n",
              "맨몸운동  루틴프로그램        -0.122859  \n",
              "윗몸올리기                0.003395  \n",
              "수영                  -0.009758  \n",
              "조깅                  -0.079083  \n",
              "한발 앞으로 내밀고 앉았다 일어서기  0.124374  \n",
              "줄넘기 운동              -0.111534  \n",
              "버피 테스트              -0.090511  \n",
              "달리기                 -0.030275  \n",
              "팔굽혀펴기                0.011537  \n",
              "팔굽혀 펴기              -0.016988  \n",
              "계단 올라갔다 내려오기         0.004082  \n",
              "누워서 엉덩이 들어올리기        0.104314  \n",
              "자전거타기               -0.056404  \n",
              "실내 자전거타기             0.045069  \n",
              "몸통 들어올리기             0.071142  \n",
              "전완대고 버티기            -0.067456  \n",
              "저항밴드 운동  루틴프로그램     -0.080568  \n",
              "윗몸 일으키기             -0.063205  \n",
              "줄넘기                 -0.137865  \n",
              "트레드밀에서 걷기            0.059430  \n",
              "앉아서 당겨 내리기          -0.000623  \n",
              "걷기                   0.030818  \n",
              "앞굽이 앉았다 일어서기        -0.070904  \n",
              "바운딩 운동  루틴프로그램      -0.078305  \n",
              "누워 다리 들어올리기         -0.001935  \n",
              "뒤로 팔굽혀펴기            -0.025876  \n",
              "버피운동                -0.008853  \n",
              "앉아서 다리 밀기            0.051904  \n",
              "턱걸이                 -0.037074  \n",
              "넙다리 뒤쪽 스트레칭          0.569755  \n",
              "누워서 다리 들어올리기         0.040060  \n",
              "엉덩이 스트레칭             1.000000  \n",
              "옆으로 누워 버티기           0.050159  \n",
              "앉아서 다리 펴기            0.033926  \n",
              "정적 스트레칭  루틴프로그램     -0.139129  \n",
              "전신 루틴 스트레칭          -0.025137  \n",
              "하지 루틴 스트레칭2          0.195532  \n",
              "상지 루틴 스트레칭           0.054078  \n",
              "하지 루틴 스트레칭1          0.132419  \n",
              "허리 스트레칭              0.581300  \n",
              "자가근막이완술 루틴 스트레칭      0.045444  \n",
              "엉덩이 스트레칭             1.000000  \n",
              "\n",
              "[54 rows x 54 columns]"
            ],
            "text/html": [
              "\n",
              "  <div id=\"df-75beca19-cab8-47ed-a947-feb43ed6ce4e\">\n",
              "    <div class=\"colab-df-container\">\n",
              "      <div>\n",
              "<style scoped>\n",
              "    .dataframe tbody tr th:only-of-type {\n",
              "        vertical-align: middle;\n",
              "    }\n",
              "\n",
              "    .dataframe tbody tr th {\n",
              "        vertical-align: top;\n",
              "    }\n",
              "\n",
              "    .dataframe thead th {\n",
              "        text-align: right;\n",
              "    }\n",
              "</style>\n",
              "<table border=\"1\" class=\"dataframe\">\n",
              "  <thead>\n",
              "    <tr style=\"text-align: right;\">\n",
              "      <th></th>\n",
              "      <th>동적 스트레칭 루틴프로그램</th>\n",
              "      <th>전신 루틴 스트레칭</th>\n",
              "      <th>유산소 운동 전 동적 루틴 스트레칭</th>\n",
              "      <th>정적 스트레칭  루틴프로그램</th>\n",
              "      <th>걷기</th>\n",
              "      <th>자가근막이완술 루틴 스트레칭</th>\n",
              "      <th>하지 루틴 스트레칭1</th>\n",
              "      <th>상지 루틴 스트레칭</th>\n",
              "      <th>달리기</th>\n",
              "      <th>목 스트레칭</th>\n",
              "      <th>...</th>\n",
              "      <th>옆으로 누워 버티기</th>\n",
              "      <th>앉아서 다리 펴기</th>\n",
              "      <th>정적 스트레칭  루틴프로그램</th>\n",
              "      <th>전신 루틴 스트레칭</th>\n",
              "      <th>하지 루틴 스트레칭2</th>\n",
              "      <th>상지 루틴 스트레칭</th>\n",
              "      <th>하지 루틴 스트레칭1</th>\n",
              "      <th>허리 스트레칭</th>\n",
              "      <th>자가근막이완술 루틴 스트레칭</th>\n",
              "      <th>엉덩이 스트레칭</th>\n",
              "    </tr>\n",
              "  </thead>\n",
              "  <tbody>\n",
              "    <tr>\n",
              "      <th>동적 스트레칭 루틴프로그램</th>\n",
              "      <td>1.000000</td>\n",
              "      <td>-0.043322</td>\n",
              "      <td>0.028723</td>\n",
              "      <td>0.479978</td>\n",
              "      <td>0.015666</td>\n",
              "      <td>0.016524</td>\n",
              "      <td>0.001839</td>\n",
              "      <td>-0.022015</td>\n",
              "      <td>-0.099864</td>\n",
              "      <td>-0.101257</td>\n",
              "      <td>...</td>\n",
              "      <td>-0.033725</td>\n",
              "      <td>-0.050710</td>\n",
              "      <td>0.479978</td>\n",
              "      <td>-0.043322</td>\n",
              "      <td>0.023771</td>\n",
              "      <td>-0.022015</td>\n",
              "      <td>0.001839</td>\n",
              "      <td>-0.075975</td>\n",
              "      <td>0.016524</td>\n",
              "      <td>-0.105934</td>\n",
              "    </tr>\n",
              "    <tr>\n",
              "      <th>전신 루틴 스트레칭</th>\n",
              "      <td>-0.043322</td>\n",
              "      <td>1.000000</td>\n",
              "      <td>0.371978</td>\n",
              "      <td>0.003289</td>\n",
              "      <td>0.089725</td>\n",
              "      <td>0.451036</td>\n",
              "      <td>0.372942</td>\n",
              "      <td>0.388830</td>\n",
              "      <td>0.255388</td>\n",
              "      <td>0.012225</td>\n",
              "      <td>...</td>\n",
              "      <td>0.121602</td>\n",
              "      <td>0.166762</td>\n",
              "      <td>0.003289</td>\n",
              "      <td>1.000000</td>\n",
              "      <td>0.306464</td>\n",
              "      <td>0.388830</td>\n",
              "      <td>0.372942</td>\n",
              "      <td>0.073574</td>\n",
              "      <td>0.451036</td>\n",
              "      <td>-0.025137</td>\n",
              "    </tr>\n",
              "    <tr>\n",
              "      <th>유산소 운동 전 동적 루틴 스트레칭</th>\n",
              "      <td>0.028723</td>\n",
              "      <td>0.371978</td>\n",
              "      <td>1.000000</td>\n",
              "      <td>-0.012073</td>\n",
              "      <td>0.103931</td>\n",
              "      <td>0.308004</td>\n",
              "      <td>0.246366</td>\n",
              "      <td>0.229938</td>\n",
              "      <td>0.188197</td>\n",
              "      <td>0.016425</td>\n",
              "      <td>...</td>\n",
              "      <td>0.178324</td>\n",
              "      <td>0.324686</td>\n",
              "      <td>-0.012073</td>\n",
              "      <td>0.371978</td>\n",
              "      <td>0.234004</td>\n",
              "      <td>0.229938</td>\n",
              "      <td>0.246366</td>\n",
              "      <td>0.056533</td>\n",
              "      <td>0.308004</td>\n",
              "      <td>0.020315</td>\n",
              "    </tr>\n",
              "    <tr>\n",
              "      <th>정적 스트레칭  루틴프로그램</th>\n",
              "      <td>0.479978</td>\n",
              "      <td>0.003289</td>\n",
              "      <td>-0.012073</td>\n",
              "      <td>1.000000</td>\n",
              "      <td>0.117591</td>\n",
              "      <td>0.005890</td>\n",
              "      <td>-0.022944</td>\n",
              "      <td>-0.056021</td>\n",
              "      <td>-0.096056</td>\n",
              "      <td>-0.118746</td>\n",
              "      <td>...</td>\n",
              "      <td>-0.068594</td>\n",
              "      <td>-0.073917</td>\n",
              "      <td>1.000000</td>\n",
              "      <td>0.003289</td>\n",
              "      <td>-0.035293</td>\n",
              "      <td>-0.056021</td>\n",
              "      <td>-0.022944</td>\n",
              "      <td>-0.109987</td>\n",
              "      <td>0.005890</td>\n",
              "      <td>-0.139129</td>\n",
              "    </tr>\n",
              "    <tr>\n",
              "      <th>걷기</th>\n",
              "      <td>0.015666</td>\n",
              "      <td>0.089725</td>\n",
              "      <td>0.103931</td>\n",
              "      <td>0.117591</td>\n",
              "      <td>1.000000</td>\n",
              "      <td>0.086496</td>\n",
              "      <td>0.111175</td>\n",
              "      <td>0.085837</td>\n",
              "      <td>0.081070</td>\n",
              "      <td>0.042716</td>\n",
              "      <td>...</td>\n",
              "      <td>-0.058699</td>\n",
              "      <td>0.071023</td>\n",
              "      <td>0.117591</td>\n",
              "      <td>0.089725</td>\n",
              "      <td>0.016013</td>\n",
              "      <td>0.085837</td>\n",
              "      <td>0.111175</td>\n",
              "      <td>-0.017046</td>\n",
              "      <td>0.086496</td>\n",
              "      <td>0.030818</td>\n",
              "    </tr>\n",
              "    <tr>\n",
              "      <th>자가근막이완술 루틴 스트레칭</th>\n",
              "      <td>0.016524</td>\n",
              "      <td>0.451036</td>\n",
              "      <td>0.308004</td>\n",
              "      <td>0.005890</td>\n",
              "      <td>0.086496</td>\n",
              "      <td>1.000000</td>\n",
              "      <td>0.238652</td>\n",
              "      <td>0.219083</td>\n",
              "      <td>0.273105</td>\n",
              "      <td>0.097105</td>\n",
              "      <td>...</td>\n",
              "      <td>0.169691</td>\n",
              "      <td>0.153251</td>\n",
              "      <td>0.005890</td>\n",
              "      <td>0.451036</td>\n",
              "      <td>0.218924</td>\n",
              "      <td>0.219083</td>\n",
              "      <td>0.238652</td>\n",
              "      <td>0.104603</td>\n",
              "      <td>1.000000</td>\n",
              "      <td>0.045444</td>\n",
              "    </tr>\n",
              "    <tr>\n",
              "      <th>하지 루틴 스트레칭1</th>\n",
              "      <td>0.001839</td>\n",
              "      <td>0.372942</td>\n",
              "      <td>0.246366</td>\n",
              "      <td>-0.022944</td>\n",
              "      <td>0.111175</td>\n",
              "      <td>0.238652</td>\n",
              "      <td>1.000000</td>\n",
              "      <td>0.752686</td>\n",
              "      <td>0.184527</td>\n",
              "      <td>0.097782</td>\n",
              "      <td>...</td>\n",
              "      <td>0.197103</td>\n",
              "      <td>0.147760</td>\n",
              "      <td>-0.022944</td>\n",
              "      <td>0.372942</td>\n",
              "      <td>0.590881</td>\n",
              "      <td>0.752686</td>\n",
              "      <td>1.000000</td>\n",
              "      <td>0.188484</td>\n",
              "      <td>0.238652</td>\n",
              "      <td>0.132419</td>\n",
              "    </tr>\n",
              "    <tr>\n",
              "      <th>상지 루틴 스트레칭</th>\n",
              "      <td>-0.022015</td>\n",
              "      <td>0.388830</td>\n",
              "      <td>0.229938</td>\n",
              "      <td>-0.056021</td>\n",
              "      <td>0.085837</td>\n",
              "      <td>0.219083</td>\n",
              "      <td>0.752686</td>\n",
              "      <td>1.000000</td>\n",
              "      <td>0.170168</td>\n",
              "      <td>0.107234</td>\n",
              "      <td>...</td>\n",
              "      <td>0.155871</td>\n",
              "      <td>0.096909</td>\n",
              "      <td>-0.056021</td>\n",
              "      <td>0.388830</td>\n",
              "      <td>0.590299</td>\n",
              "      <td>1.000000</td>\n",
              "      <td>0.752686</td>\n",
              "      <td>0.156496</td>\n",
              "      <td>0.219083</td>\n",
              "      <td>0.054078</td>\n",
              "    </tr>\n",
              "    <tr>\n",
              "      <th>달리기</th>\n",
              "      <td>-0.099864</td>\n",
              "      <td>0.255388</td>\n",
              "      <td>0.188197</td>\n",
              "      <td>-0.096056</td>\n",
              "      <td>0.081070</td>\n",
              "      <td>0.273105</td>\n",
              "      <td>0.184527</td>\n",
              "      <td>0.170168</td>\n",
              "      <td>1.000000</td>\n",
              "      <td>-0.004320</td>\n",
              "      <td>...</td>\n",
              "      <td>0.086543</td>\n",
              "      <td>0.085504</td>\n",
              "      <td>-0.096056</td>\n",
              "      <td>0.255388</td>\n",
              "      <td>0.208004</td>\n",
              "      <td>0.170168</td>\n",
              "      <td>0.184527</td>\n",
              "      <td>0.024040</td>\n",
              "      <td>0.273105</td>\n",
              "      <td>-0.030275</td>\n",
              "    </tr>\n",
              "    <tr>\n",
              "      <th>목 스트레칭</th>\n",
              "      <td>-0.101257</td>\n",
              "      <td>0.012225</td>\n",
              "      <td>0.016425</td>\n",
              "      <td>-0.118746</td>\n",
              "      <td>0.042716</td>\n",
              "      <td>0.097105</td>\n",
              "      <td>0.097782</td>\n",
              "      <td>0.107234</td>\n",
              "      <td>-0.004320</td>\n",
              "      <td>1.000000</td>\n",
              "      <td>...</td>\n",
              "      <td>0.033153</td>\n",
              "      <td>0.007116</td>\n",
              "      <td>-0.118746</td>\n",
              "      <td>0.012225</td>\n",
              "      <td>0.115530</td>\n",
              "      <td>0.107234</td>\n",
              "      <td>0.097782</td>\n",
              "      <td>0.436026</td>\n",
              "      <td>0.097105</td>\n",
              "      <td>0.443471</td>\n",
              "    </tr>\n",
              "    <tr>\n",
              "      <th>앉았다 일어서기</th>\n",
              "      <td>-0.065333</td>\n",
              "      <td>0.200199</td>\n",
              "      <td>0.119854</td>\n",
              "      <td>-0.051317</td>\n",
              "      <td>0.069289</td>\n",
              "      <td>0.320234</td>\n",
              "      <td>0.098873</td>\n",
              "      <td>0.140573</td>\n",
              "      <td>0.131562</td>\n",
              "      <td>0.047475</td>\n",
              "      <td>...</td>\n",
              "      <td>0.160984</td>\n",
              "      <td>0.153121</td>\n",
              "      <td>-0.051317</td>\n",
              "      <td>0.200199</td>\n",
              "      <td>0.121859</td>\n",
              "      <td>0.140573</td>\n",
              "      <td>0.098873</td>\n",
              "      <td>0.040578</td>\n",
              "      <td>0.320234</td>\n",
              "      <td>0.023538</td>\n",
              "    </tr>\n",
              "    <tr>\n",
              "      <th>엎드려 버티기</th>\n",
              "      <td>-0.094619</td>\n",
              "      <td>0.250761</td>\n",
              "      <td>0.261581</td>\n",
              "      <td>-0.095168</td>\n",
              "      <td>0.076549</td>\n",
              "      <td>0.222294</td>\n",
              "      <td>0.230444</td>\n",
              "      <td>0.270610</td>\n",
              "      <td>0.143227</td>\n",
              "      <td>0.073390</td>\n",
              "      <td>...</td>\n",
              "      <td>0.454204</td>\n",
              "      <td>0.312889</td>\n",
              "      <td>-0.095168</td>\n",
              "      <td>0.250761</td>\n",
              "      <td>0.231584</td>\n",
              "      <td>0.270610</td>\n",
              "      <td>0.230444</td>\n",
              "      <td>0.105452</td>\n",
              "      <td>0.222294</td>\n",
              "      <td>0.007764</td>\n",
              "    </tr>\n",
              "    <tr>\n",
              "      <th>맨몸운동  루틴프로그램</th>\n",
              "      <td>0.196352</td>\n",
              "      <td>0.017769</td>\n",
              "      <td>-0.029925</td>\n",
              "      <td>0.385175</td>\n",
              "      <td>-0.009289</td>\n",
              "      <td>-0.041234</td>\n",
              "      <td>-0.033762</td>\n",
              "      <td>-0.017712</td>\n",
              "      <td>-0.116146</td>\n",
              "      <td>-0.050389</td>\n",
              "      <td>...</td>\n",
              "      <td>-0.074633</td>\n",
              "      <td>-0.073485</td>\n",
              "      <td>0.385175</td>\n",
              "      <td>0.017769</td>\n",
              "      <td>-0.003599</td>\n",
              "      <td>-0.017712</td>\n",
              "      <td>-0.033762</td>\n",
              "      <td>-0.092469</td>\n",
              "      <td>-0.041234</td>\n",
              "      <td>-0.122859</td>\n",
              "    </tr>\n",
              "    <tr>\n",
              "      <th>윗몸올리기</th>\n",
              "      <td>-0.136736</td>\n",
              "      <td>0.287663</td>\n",
              "      <td>0.138341</td>\n",
              "      <td>-0.108795</td>\n",
              "      <td>0.113721</td>\n",
              "      <td>0.211553</td>\n",
              "      <td>0.197546</td>\n",
              "      <td>0.225749</td>\n",
              "      <td>0.225817</td>\n",
              "      <td>0.019051</td>\n",
              "      <td>...</td>\n",
              "      <td>0.323972</td>\n",
              "      <td>0.253275</td>\n",
              "      <td>-0.108795</td>\n",
              "      <td>0.287663</td>\n",
              "      <td>0.217749</td>\n",
              "      <td>0.225749</td>\n",
              "      <td>0.197546</td>\n",
              "      <td>0.063885</td>\n",
              "      <td>0.211553</td>\n",
              "      <td>0.003395</td>\n",
              "    </tr>\n",
              "    <tr>\n",
              "      <th>수영</th>\n",
              "      <td>0.055408</td>\n",
              "      <td>0.043679</td>\n",
              "      <td>0.038116</td>\n",
              "      <td>0.152304</td>\n",
              "      <td>0.195797</td>\n",
              "      <td>0.049514</td>\n",
              "      <td>0.197172</td>\n",
              "      <td>0.204600</td>\n",
              "      <td>0.169765</td>\n",
              "      <td>0.036084</td>\n",
              "      <td>...</td>\n",
              "      <td>0.000414</td>\n",
              "      <td>-0.004944</td>\n",
              "      <td>0.152304</td>\n",
              "      <td>0.043679</td>\n",
              "      <td>0.165439</td>\n",
              "      <td>0.204600</td>\n",
              "      <td>0.197172</td>\n",
              "      <td>-0.012438</td>\n",
              "      <td>0.049514</td>\n",
              "      <td>-0.009758</td>\n",
              "    </tr>\n",
              "    <tr>\n",
              "      <th>조깅</th>\n",
              "      <td>0.231175</td>\n",
              "      <td>-0.046956</td>\n",
              "      <td>0.000765</td>\n",
              "      <td>0.333909</td>\n",
              "      <td>0.160770</td>\n",
              "      <td>-0.016665</td>\n",
              "      <td>0.008668</td>\n",
              "      <td>0.028376</td>\n",
              "      <td>-0.093985</td>\n",
              "      <td>-0.045812</td>\n",
              "      <td>...</td>\n",
              "      <td>-0.007526</td>\n",
              "      <td>-0.000923</td>\n",
              "      <td>0.333909</td>\n",
              "      <td>-0.046956</td>\n",
              "      <td>0.013279</td>\n",
              "      <td>0.028376</td>\n",
              "      <td>0.008668</td>\n",
              "      <td>-0.057039</td>\n",
              "      <td>-0.016665</td>\n",
              "      <td>-0.079083</td>\n",
              "    </tr>\n",
              "    <tr>\n",
              "      <th>한발 앞으로 내밀고 앉았다 일어서기</th>\n",
              "      <td>-0.054637</td>\n",
              "      <td>0.237770</td>\n",
              "      <td>0.216443</td>\n",
              "      <td>-0.074121</td>\n",
              "      <td>0.064687</td>\n",
              "      <td>0.364434</td>\n",
              "      <td>0.211984</td>\n",
              "      <td>0.238383</td>\n",
              "      <td>0.099872</td>\n",
              "      <td>0.122267</td>\n",
              "      <td>...</td>\n",
              "      <td>0.264148</td>\n",
              "      <td>0.176483</td>\n",
              "      <td>-0.074121</td>\n",
              "      <td>0.237770</td>\n",
              "      <td>0.256473</td>\n",
              "      <td>0.238383</td>\n",
              "      <td>0.211984</td>\n",
              "      <td>0.133703</td>\n",
              "      <td>0.364434</td>\n",
              "      <td>0.124374</td>\n",
              "    </tr>\n",
              "    <tr>\n",
              "      <th>줄넘기 운동</th>\n",
              "      <td>0.315906</td>\n",
              "      <td>-0.175475</td>\n",
              "      <td>-0.085068</td>\n",
              "      <td>0.264097</td>\n",
              "      <td>0.020921</td>\n",
              "      <td>-0.095839</td>\n",
              "      <td>-0.077361</td>\n",
              "      <td>-0.073046</td>\n",
              "      <td>-0.155394</td>\n",
              "      <td>-0.063844</td>\n",
              "      <td>...</td>\n",
              "      <td>-0.074426</td>\n",
              "      <td>-0.040184</td>\n",
              "      <td>0.264097</td>\n",
              "      <td>-0.175475</td>\n",
              "      <td>-0.060914</td>\n",
              "      <td>-0.073046</td>\n",
              "      <td>-0.077361</td>\n",
              "      <td>-0.091854</td>\n",
              "      <td>-0.095839</td>\n",
              "      <td>-0.111534</td>\n",
              "    </tr>\n",
              "    <tr>\n",
              "      <th>버피 테스트</th>\n",
              "      <td>0.195589</td>\n",
              "      <td>0.005518</td>\n",
              "      <td>-0.045247</td>\n",
              "      <td>0.350836</td>\n",
              "      <td>0.124871</td>\n",
              "      <td>-0.026003</td>\n",
              "      <td>0.070814</td>\n",
              "      <td>0.070140</td>\n",
              "      <td>-0.080814</td>\n",
              "      <td>-0.030467</td>\n",
              "      <td>...</td>\n",
              "      <td>-0.009550</td>\n",
              "      <td>0.022861</td>\n",
              "      <td>0.350836</td>\n",
              "      <td>0.005518</td>\n",
              "      <td>0.024189</td>\n",
              "      <td>0.070140</td>\n",
              "      <td>0.070814</td>\n",
              "      <td>-0.052086</td>\n",
              "      <td>-0.026003</td>\n",
              "      <td>-0.090511</td>\n",
              "    </tr>\n",
              "    <tr>\n",
              "      <th>달리기</th>\n",
              "      <td>-0.099864</td>\n",
              "      <td>0.255388</td>\n",
              "      <td>0.188197</td>\n",
              "      <td>-0.096056</td>\n",
              "      <td>0.081070</td>\n",
              "      <td>0.273105</td>\n",
              "      <td>0.184527</td>\n",
              "      <td>0.170168</td>\n",
              "      <td>1.000000</td>\n",
              "      <td>-0.004320</td>\n",
              "      <td>...</td>\n",
              "      <td>0.086543</td>\n",
              "      <td>0.085504</td>\n",
              "      <td>-0.096056</td>\n",
              "      <td>0.255388</td>\n",
              "      <td>0.208004</td>\n",
              "      <td>0.170168</td>\n",
              "      <td>0.184527</td>\n",
              "      <td>0.024040</td>\n",
              "      <td>0.273105</td>\n",
              "      <td>-0.030275</td>\n",
              "    </tr>\n",
              "    <tr>\n",
              "      <th>팔굽혀펴기</th>\n",
              "      <td>0.008541</td>\n",
              "      <td>0.150632</td>\n",
              "      <td>0.090074</td>\n",
              "      <td>-0.060770</td>\n",
              "      <td>0.060385</td>\n",
              "      <td>0.218802</td>\n",
              "      <td>0.107472</td>\n",
              "      <td>0.177676</td>\n",
              "      <td>0.139895</td>\n",
              "      <td>0.082620</td>\n",
              "      <td>...</td>\n",
              "      <td>0.124588</td>\n",
              "      <td>0.011784</td>\n",
              "      <td>-0.060770</td>\n",
              "      <td>0.150632</td>\n",
              "      <td>0.135859</td>\n",
              "      <td>0.177676</td>\n",
              "      <td>0.107472</td>\n",
              "      <td>0.071422</td>\n",
              "      <td>0.218802</td>\n",
              "      <td>0.011537</td>\n",
              "    </tr>\n",
              "    <tr>\n",
              "      <th>팔굽혀 펴기</th>\n",
              "      <td>0.042097</td>\n",
              "      <td>-0.027849</td>\n",
              "      <td>-0.025576</td>\n",
              "      <td>0.145861</td>\n",
              "      <td>0.073271</td>\n",
              "      <td>-0.005402</td>\n",
              "      <td>0.031804</td>\n",
              "      <td>0.033930</td>\n",
              "      <td>-0.049075</td>\n",
              "      <td>0.016496</td>\n",
              "      <td>...</td>\n",
              "      <td>0.020949</td>\n",
              "      <td>0.066339</td>\n",
              "      <td>0.145861</td>\n",
              "      <td>-0.027849</td>\n",
              "      <td>0.028409</td>\n",
              "      <td>0.033930</td>\n",
              "      <td>0.031804</td>\n",
              "      <td>0.005678</td>\n",
              "      <td>-0.005402</td>\n",
              "      <td>-0.016988</td>\n",
              "    </tr>\n",
              "    <tr>\n",
              "      <th>계단 올라갔다 내려오기</th>\n",
              "      <td>-0.124628</td>\n",
              "      <td>0.195943</td>\n",
              "      <td>0.097254</td>\n",
              "      <td>-0.051646</td>\n",
              "      <td>0.141437</td>\n",
              "      <td>0.110403</td>\n",
              "      <td>0.125244</td>\n",
              "      <td>0.115720</td>\n",
              "      <td>0.233816</td>\n",
              "      <td>-0.023310</td>\n",
              "      <td>...</td>\n",
              "      <td>0.071365</td>\n",
              "      <td>0.033451</td>\n",
              "      <td>-0.051646</td>\n",
              "      <td>0.195943</td>\n",
              "      <td>0.029880</td>\n",
              "      <td>0.115720</td>\n",
              "      <td>0.125244</td>\n",
              "      <td>0.039123</td>\n",
              "      <td>0.110403</td>\n",
              "      <td>0.004082</td>\n",
              "    </tr>\n",
              "    <tr>\n",
              "      <th>누워서 엉덩이 들어올리기</th>\n",
              "      <td>-0.082960</td>\n",
              "      <td>0.195020</td>\n",
              "      <td>0.204883</td>\n",
              "      <td>-0.096136</td>\n",
              "      <td>0.072183</td>\n",
              "      <td>0.162675</td>\n",
              "      <td>0.202022</td>\n",
              "      <td>0.227568</td>\n",
              "      <td>0.065402</td>\n",
              "      <td>0.131771</td>\n",
              "      <td>...</td>\n",
              "      <td>0.322446</td>\n",
              "      <td>0.308504</td>\n",
              "      <td>-0.096136</td>\n",
              "      <td>0.195020</td>\n",
              "      <td>0.259005</td>\n",
              "      <td>0.227568</td>\n",
              "      <td>0.202022</td>\n",
              "      <td>0.118902</td>\n",
              "      <td>0.162675</td>\n",
              "      <td>0.104314</td>\n",
              "    </tr>\n",
              "    <tr>\n",
              "      <th>자전거타기</th>\n",
              "      <td>0.107430</td>\n",
              "      <td>0.023910</td>\n",
              "      <td>0.181378</td>\n",
              "      <td>0.130286</td>\n",
              "      <td>0.373986</td>\n",
              "      <td>0.096066</td>\n",
              "      <td>0.147198</td>\n",
              "      <td>0.118010</td>\n",
              "      <td>0.165931</td>\n",
              "      <td>0.012500</td>\n",
              "      <td>...</td>\n",
              "      <td>0.031746</td>\n",
              "      <td>0.205978</td>\n",
              "      <td>0.130286</td>\n",
              "      <td>0.023910</td>\n",
              "      <td>0.112123</td>\n",
              "      <td>0.118010</td>\n",
              "      <td>0.147198</td>\n",
              "      <td>0.008251</td>\n",
              "      <td>0.096066</td>\n",
              "      <td>-0.056404</td>\n",
              "    </tr>\n",
              "    <tr>\n",
              "      <th>실내 자전거타기</th>\n",
              "      <td>-0.067717</td>\n",
              "      <td>0.182804</td>\n",
              "      <td>0.310172</td>\n",
              "      <td>-0.076034</td>\n",
              "      <td>0.311670</td>\n",
              "      <td>0.185065</td>\n",
              "      <td>0.189293</td>\n",
              "      <td>0.157915</td>\n",
              "      <td>0.291228</td>\n",
              "      <td>0.048926</td>\n",
              "      <td>...</td>\n",
              "      <td>0.117665</td>\n",
              "      <td>0.326241</td>\n",
              "      <td>-0.076034</td>\n",
              "      <td>0.182804</td>\n",
              "      <td>0.160755</td>\n",
              "      <td>0.157915</td>\n",
              "      <td>0.189293</td>\n",
              "      <td>0.092468</td>\n",
              "      <td>0.185065</td>\n",
              "      <td>0.045069</td>\n",
              "    </tr>\n",
              "    <tr>\n",
              "      <th>몸통 들어올리기</th>\n",
              "      <td>0.018968</td>\n",
              "      <td>-0.005261</td>\n",
              "      <td>0.059114</td>\n",
              "      <td>0.032362</td>\n",
              "      <td>0.101290</td>\n",
              "      <td>0.040057</td>\n",
              "      <td>0.004502</td>\n",
              "      <td>-0.034360</td>\n",
              "      <td>-0.058301</td>\n",
              "      <td>0.086834</td>\n",
              "      <td>...</td>\n",
              "      <td>0.130780</td>\n",
              "      <td>0.096782</td>\n",
              "      <td>0.032362</td>\n",
              "      <td>-0.005261</td>\n",
              "      <td>0.009570</td>\n",
              "      <td>-0.034360</td>\n",
              "      <td>0.004502</td>\n",
              "      <td>0.070133</td>\n",
              "      <td>0.040057</td>\n",
              "      <td>0.071142</td>\n",
              "    </tr>\n",
              "    <tr>\n",
              "      <th>전완대고 버티기</th>\n",
              "      <td>0.145196</td>\n",
              "      <td>-0.105278</td>\n",
              "      <td>0.013861</td>\n",
              "      <td>0.250200</td>\n",
              "      <td>0.075909</td>\n",
              "      <td>-0.035665</td>\n",
              "      <td>-0.016418</td>\n",
              "      <td>-0.014873</td>\n",
              "      <td>-0.098815</td>\n",
              "      <td>-0.032952</td>\n",
              "      <td>...</td>\n",
              "      <td>0.007565</td>\n",
              "      <td>-0.004190</td>\n",
              "      <td>0.250200</td>\n",
              "      <td>-0.105278</td>\n",
              "      <td>-0.000433</td>\n",
              "      <td>-0.014873</td>\n",
              "      <td>-0.016418</td>\n",
              "      <td>-0.058274</td>\n",
              "      <td>-0.035665</td>\n",
              "      <td>-0.067456</td>\n",
              "    </tr>\n",
              "    <tr>\n",
              "      <th>저항밴드 운동  루틴프로그램</th>\n",
              "      <td>0.284199</td>\n",
              "      <td>-0.016970</td>\n",
              "      <td>0.016563</td>\n",
              "      <td>0.106120</td>\n",
              "      <td>-0.057477</td>\n",
              "      <td>0.074627</td>\n",
              "      <td>0.090637</td>\n",
              "      <td>0.096107</td>\n",
              "      <td>-0.060832</td>\n",
              "      <td>-0.031204</td>\n",
              "      <td>...</td>\n",
              "      <td>-0.006975</td>\n",
              "      <td>-0.047766</td>\n",
              "      <td>0.106120</td>\n",
              "      <td>-0.016970</td>\n",
              "      <td>0.092534</td>\n",
              "      <td>0.096107</td>\n",
              "      <td>0.090637</td>\n",
              "      <td>-0.012022</td>\n",
              "      <td>0.074627</td>\n",
              "      <td>-0.080568</td>\n",
              "    </tr>\n",
              "    <tr>\n",
              "      <th>윗몸 일으키기</th>\n",
              "      <td>0.150830</td>\n",
              "      <td>-0.063726</td>\n",
              "      <td>-0.058362</td>\n",
              "      <td>0.189974</td>\n",
              "      <td>-0.064095</td>\n",
              "      <td>-0.059299</td>\n",
              "      <td>-0.062430</td>\n",
              "      <td>-0.066245</td>\n",
              "      <td>-0.115823</td>\n",
              "      <td>-0.026492</td>\n",
              "      <td>...</td>\n",
              "      <td>-0.040768</td>\n",
              "      <td>-0.004030</td>\n",
              "      <td>0.189974</td>\n",
              "      <td>-0.063726</td>\n",
              "      <td>-0.061363</td>\n",
              "      <td>-0.066245</td>\n",
              "      <td>-0.062430</td>\n",
              "      <td>-0.034233</td>\n",
              "      <td>-0.059299</td>\n",
              "      <td>-0.063205</td>\n",
              "    </tr>\n",
              "    <tr>\n",
              "      <th>줄넘기</th>\n",
              "      <td>0.241899</td>\n",
              "      <td>0.008466</td>\n",
              "      <td>-0.017472</td>\n",
              "      <td>0.146446</td>\n",
              "      <td>0.137255</td>\n",
              "      <td>0.038638</td>\n",
              "      <td>0.024980</td>\n",
              "      <td>0.038999</td>\n",
              "      <td>0.183165</td>\n",
              "      <td>-0.012436</td>\n",
              "      <td>...</td>\n",
              "      <td>-0.053974</td>\n",
              "      <td>-0.064468</td>\n",
              "      <td>0.146446</td>\n",
              "      <td>0.008466</td>\n",
              "      <td>0.046577</td>\n",
              "      <td>0.038999</td>\n",
              "      <td>0.024980</td>\n",
              "      <td>-0.068916</td>\n",
              "      <td>0.038638</td>\n",
              "      <td>-0.137865</td>\n",
              "    </tr>\n",
              "    <tr>\n",
              "      <th>트레드밀에서 걷기</th>\n",
              "      <td>-0.066076</td>\n",
              "      <td>0.170439</td>\n",
              "      <td>0.238117</td>\n",
              "      <td>-0.084868</td>\n",
              "      <td>0.553761</td>\n",
              "      <td>0.140842</td>\n",
              "      <td>0.196752</td>\n",
              "      <td>0.187981</td>\n",
              "      <td>0.187501</td>\n",
              "      <td>0.061448</td>\n",
              "      <td>...</td>\n",
              "      <td>-0.031072</td>\n",
              "      <td>0.163114</td>\n",
              "      <td>-0.084868</td>\n",
              "      <td>0.170439</td>\n",
              "      <td>0.121840</td>\n",
              "      <td>0.187981</td>\n",
              "      <td>0.196752</td>\n",
              "      <td>0.030453</td>\n",
              "      <td>0.140842</td>\n",
              "      <td>0.059430</td>\n",
              "    </tr>\n",
              "    <tr>\n",
              "      <th>앉아서 당겨 내리기</th>\n",
              "      <td>-0.088663</td>\n",
              "      <td>0.200472</td>\n",
              "      <td>0.242920</td>\n",
              "      <td>-0.088716</td>\n",
              "      <td>0.106542</td>\n",
              "      <td>0.079956</td>\n",
              "      <td>0.056917</td>\n",
              "      <td>0.037798</td>\n",
              "      <td>0.031830</td>\n",
              "      <td>-0.010298</td>\n",
              "      <td>...</td>\n",
              "      <td>0.097876</td>\n",
              "      <td>0.442120</td>\n",
              "      <td>-0.088716</td>\n",
              "      <td>0.200472</td>\n",
              "      <td>0.035148</td>\n",
              "      <td>0.037798</td>\n",
              "      <td>0.056917</td>\n",
              "      <td>0.018324</td>\n",
              "      <td>0.079956</td>\n",
              "      <td>-0.000623</td>\n",
              "    </tr>\n",
              "    <tr>\n",
              "      <th>걷기</th>\n",
              "      <td>0.015666</td>\n",
              "      <td>0.089725</td>\n",
              "      <td>0.103931</td>\n",
              "      <td>0.117591</td>\n",
              "      <td>1.000000</td>\n",
              "      <td>0.086496</td>\n",
              "      <td>0.111175</td>\n",
              "      <td>0.085837</td>\n",
              "      <td>0.081070</td>\n",
              "      <td>0.042716</td>\n",
              "      <td>...</td>\n",
              "      <td>-0.058699</td>\n",
              "      <td>0.071023</td>\n",
              "      <td>0.117591</td>\n",
              "      <td>0.089725</td>\n",
              "      <td>0.016013</td>\n",
              "      <td>0.085837</td>\n",
              "      <td>0.111175</td>\n",
              "      <td>-0.017046</td>\n",
              "      <td>0.086496</td>\n",
              "      <td>0.030818</td>\n",
              "    </tr>\n",
              "    <tr>\n",
              "      <th>앞굽이 앉았다 일어서기</th>\n",
              "      <td>0.053142</td>\n",
              "      <td>-0.046624</td>\n",
              "      <td>-0.053209</td>\n",
              "      <td>0.078150</td>\n",
              "      <td>-0.083962</td>\n",
              "      <td>-0.054424</td>\n",
              "      <td>-0.065404</td>\n",
              "      <td>-0.068330</td>\n",
              "      <td>-0.110269</td>\n",
              "      <td>-0.040113</td>\n",
              "      <td>...</td>\n",
              "      <td>-0.037366</td>\n",
              "      <td>-0.007363</td>\n",
              "      <td>0.078150</td>\n",
              "      <td>-0.046624</td>\n",
              "      <td>-0.060902</td>\n",
              "      <td>-0.068330</td>\n",
              "      <td>-0.065404</td>\n",
              "      <td>-0.046609</td>\n",
              "      <td>-0.054424</td>\n",
              "      <td>-0.070904</td>\n",
              "    </tr>\n",
              "    <tr>\n",
              "      <th>바운딩 운동  루틴프로그램</th>\n",
              "      <td>0.008236</td>\n",
              "      <td>0.182417</td>\n",
              "      <td>-0.031415</td>\n",
              "      <td>0.068661</td>\n",
              "      <td>0.001646</td>\n",
              "      <td>-0.055661</td>\n",
              "      <td>0.069978</td>\n",
              "      <td>0.074938</td>\n",
              "      <td>-0.036779</td>\n",
              "      <td>-0.037937</td>\n",
              "      <td>...</td>\n",
              "      <td>-0.048808</td>\n",
              "      <td>-0.006462</td>\n",
              "      <td>0.068661</td>\n",
              "      <td>0.182417</td>\n",
              "      <td>0.005397</td>\n",
              "      <td>0.074938</td>\n",
              "      <td>0.069978</td>\n",
              "      <td>-0.052284</td>\n",
              "      <td>-0.055661</td>\n",
              "      <td>-0.078305</td>\n",
              "    </tr>\n",
              "    <tr>\n",
              "      <th>누워 다리 들어올리기</th>\n",
              "      <td>0.017196</td>\n",
              "      <td>-0.110900</td>\n",
              "      <td>-0.038405</td>\n",
              "      <td>0.114555</td>\n",
              "      <td>-0.002470</td>\n",
              "      <td>-0.042338</td>\n",
              "      <td>-0.055806</td>\n",
              "      <td>-0.059117</td>\n",
              "      <td>-0.029806</td>\n",
              "      <td>0.020252</td>\n",
              "      <td>...</td>\n",
              "      <td>-0.011862</td>\n",
              "      <td>0.039652</td>\n",
              "      <td>0.114555</td>\n",
              "      <td>-0.110900</td>\n",
              "      <td>-0.039650</td>\n",
              "      <td>-0.059117</td>\n",
              "      <td>-0.055806</td>\n",
              "      <td>0.022825</td>\n",
              "      <td>-0.042338</td>\n",
              "      <td>-0.001935</td>\n",
              "    </tr>\n",
              "    <tr>\n",
              "      <th>뒤로 팔굽혀펴기</th>\n",
              "      <td>-0.019250</td>\n",
              "      <td>0.138268</td>\n",
              "      <td>0.050495</td>\n",
              "      <td>-0.025015</td>\n",
              "      <td>0.077620</td>\n",
              "      <td>0.201019</td>\n",
              "      <td>0.090205</td>\n",
              "      <td>0.106480</td>\n",
              "      <td>0.119044</td>\n",
              "      <td>0.067003</td>\n",
              "      <td>...</td>\n",
              "      <td>0.118108</td>\n",
              "      <td>0.057026</td>\n",
              "      <td>-0.025015</td>\n",
              "      <td>0.138268</td>\n",
              "      <td>0.087171</td>\n",
              "      <td>0.106480</td>\n",
              "      <td>0.090205</td>\n",
              "      <td>0.043180</td>\n",
              "      <td>0.201019</td>\n",
              "      <td>-0.025876</td>\n",
              "    </tr>\n",
              "    <tr>\n",
              "      <th>버피운동</th>\n",
              "      <td>-0.033505</td>\n",
              "      <td>0.199257</td>\n",
              "      <td>0.046486</td>\n",
              "      <td>0.019442</td>\n",
              "      <td>0.170175</td>\n",
              "      <td>0.255577</td>\n",
              "      <td>0.148605</td>\n",
              "      <td>0.122009</td>\n",
              "      <td>0.258465</td>\n",
              "      <td>0.013327</td>\n",
              "      <td>...</td>\n",
              "      <td>0.046254</td>\n",
              "      <td>0.020290</td>\n",
              "      <td>0.019442</td>\n",
              "      <td>0.199257</td>\n",
              "      <td>0.065796</td>\n",
              "      <td>0.122009</td>\n",
              "      <td>0.148605</td>\n",
              "      <td>0.048478</td>\n",
              "      <td>0.255577</td>\n",
              "      <td>-0.008853</td>\n",
              "    </tr>\n",
              "    <tr>\n",
              "      <th>앉아서 다리 밀기</th>\n",
              "      <td>-0.080825</td>\n",
              "      <td>0.160010</td>\n",
              "      <td>0.268697</td>\n",
              "      <td>-0.108553</td>\n",
              "      <td>0.100341</td>\n",
              "      <td>0.112157</td>\n",
              "      <td>0.117398</td>\n",
              "      <td>0.080352</td>\n",
              "      <td>0.085584</td>\n",
              "      <td>0.001872</td>\n",
              "      <td>...</td>\n",
              "      <td>0.267195</td>\n",
              "      <td>0.732594</td>\n",
              "      <td>-0.108553</td>\n",
              "      <td>0.160010</td>\n",
              "      <td>0.104487</td>\n",
              "      <td>0.080352</td>\n",
              "      <td>0.117398</td>\n",
              "      <td>0.037861</td>\n",
              "      <td>0.112157</td>\n",
              "      <td>0.051904</td>\n",
              "    </tr>\n",
              "    <tr>\n",
              "      <th>턱걸이</th>\n",
              "      <td>-0.061356</td>\n",
              "      <td>0.190894</td>\n",
              "      <td>0.103641</td>\n",
              "      <td>-0.086745</td>\n",
              "      <td>0.089385</td>\n",
              "      <td>0.311577</td>\n",
              "      <td>0.050436</td>\n",
              "      <td>0.081723</td>\n",
              "      <td>0.206818</td>\n",
              "      <td>-0.011006</td>\n",
              "      <td>...</td>\n",
              "      <td>0.083602</td>\n",
              "      <td>0.087709</td>\n",
              "      <td>-0.086745</td>\n",
              "      <td>0.190894</td>\n",
              "      <td>0.052511</td>\n",
              "      <td>0.081723</td>\n",
              "      <td>0.050436</td>\n",
              "      <td>-0.006667</td>\n",
              "      <td>0.311577</td>\n",
              "      <td>-0.037074</td>\n",
              "    </tr>\n",
              "    <tr>\n",
              "      <th>넙다리 뒤쪽 스트레칭</th>\n",
              "      <td>-0.069513</td>\n",
              "      <td>0.015774</td>\n",
              "      <td>0.042298</td>\n",
              "      <td>-0.069913</td>\n",
              "      <td>-0.040131</td>\n",
              "      <td>0.121356</td>\n",
              "      <td>0.222775</td>\n",
              "      <td>0.124571</td>\n",
              "      <td>0.044693</td>\n",
              "      <td>0.311195</td>\n",
              "      <td>...</td>\n",
              "      <td>0.009871</td>\n",
              "      <td>0.015944</td>\n",
              "      <td>-0.069913</td>\n",
              "      <td>0.015774</td>\n",
              "      <td>0.262849</td>\n",
              "      <td>0.124571</td>\n",
              "      <td>0.222775</td>\n",
              "      <td>0.448220</td>\n",
              "      <td>0.121356</td>\n",
              "      <td>0.569755</td>\n",
              "    </tr>\n",
              "    <tr>\n",
              "      <th>누워서 다리 들어올리기</th>\n",
              "      <td>-0.035811</td>\n",
              "      <td>0.130768</td>\n",
              "      <td>0.086478</td>\n",
              "      <td>-0.037921</td>\n",
              "      <td>0.043117</td>\n",
              "      <td>0.088374</td>\n",
              "      <td>0.176611</td>\n",
              "      <td>0.129369</td>\n",
              "      <td>0.025599</td>\n",
              "      <td>0.097887</td>\n",
              "      <td>...</td>\n",
              "      <td>0.370944</td>\n",
              "      <td>0.109774</td>\n",
              "      <td>-0.037921</td>\n",
              "      <td>0.130768</td>\n",
              "      <td>0.149742</td>\n",
              "      <td>0.129369</td>\n",
              "      <td>0.176611</td>\n",
              "      <td>0.171570</td>\n",
              "      <td>0.088374</td>\n",
              "      <td>0.040060</td>\n",
              "    </tr>\n",
              "    <tr>\n",
              "      <th>엉덩이 스트레칭</th>\n",
              "      <td>-0.105934</td>\n",
              "      <td>-0.025137</td>\n",
              "      <td>0.020315</td>\n",
              "      <td>-0.139129</td>\n",
              "      <td>0.030818</td>\n",
              "      <td>0.045444</td>\n",
              "      <td>0.132419</td>\n",
              "      <td>0.054078</td>\n",
              "      <td>-0.030275</td>\n",
              "      <td>0.443471</td>\n",
              "      <td>...</td>\n",
              "      <td>0.050159</td>\n",
              "      <td>0.033926</td>\n",
              "      <td>-0.139129</td>\n",
              "      <td>-0.025137</td>\n",
              "      <td>0.195532</td>\n",
              "      <td>0.054078</td>\n",
              "      <td>0.132419</td>\n",
              "      <td>0.581300</td>\n",
              "      <td>0.045444</td>\n",
              "      <td>1.000000</td>\n",
              "    </tr>\n",
              "    <tr>\n",
              "      <th>옆으로 누워 버티기</th>\n",
              "      <td>-0.033725</td>\n",
              "      <td>0.121602</td>\n",
              "      <td>0.178324</td>\n",
              "      <td>-0.068594</td>\n",
              "      <td>-0.058699</td>\n",
              "      <td>0.169691</td>\n",
              "      <td>0.197103</td>\n",
              "      <td>0.155871</td>\n",
              "      <td>0.086543</td>\n",
              "      <td>0.033153</td>\n",
              "      <td>...</td>\n",
              "      <td>1.000000</td>\n",
              "      <td>0.304815</td>\n",
              "      <td>-0.068594</td>\n",
              "      <td>0.121602</td>\n",
              "      <td>0.177552</td>\n",
              "      <td>0.155871</td>\n",
              "      <td>0.197103</td>\n",
              "      <td>0.149048</td>\n",
              "      <td>0.169691</td>\n",
              "      <td>0.050159</td>\n",
              "    </tr>\n",
              "    <tr>\n",
              "      <th>앉아서 다리 펴기</th>\n",
              "      <td>-0.050710</td>\n",
              "      <td>0.166762</td>\n",
              "      <td>0.324686</td>\n",
              "      <td>-0.073917</td>\n",
              "      <td>0.071023</td>\n",
              "      <td>0.153251</td>\n",
              "      <td>0.147760</td>\n",
              "      <td>0.096909</td>\n",
              "      <td>0.085504</td>\n",
              "      <td>0.007116</td>\n",
              "      <td>...</td>\n",
              "      <td>0.304815</td>\n",
              "      <td>1.000000</td>\n",
              "      <td>-0.073917</td>\n",
              "      <td>0.166762</td>\n",
              "      <td>0.165545</td>\n",
              "      <td>0.096909</td>\n",
              "      <td>0.147760</td>\n",
              "      <td>0.076020</td>\n",
              "      <td>0.153251</td>\n",
              "      <td>0.033926</td>\n",
              "    </tr>\n",
              "    <tr>\n",
              "      <th>정적 스트레칭  루틴프로그램</th>\n",
              "      <td>0.479978</td>\n",
              "      <td>0.003289</td>\n",
              "      <td>-0.012073</td>\n",
              "      <td>1.000000</td>\n",
              "      <td>0.117591</td>\n",
              "      <td>0.005890</td>\n",
              "      <td>-0.022944</td>\n",
              "      <td>-0.056021</td>\n",
              "      <td>-0.096056</td>\n",
              "      <td>-0.118746</td>\n",
              "      <td>...</td>\n",
              "      <td>-0.068594</td>\n",
              "      <td>-0.073917</td>\n",
              "      <td>1.000000</td>\n",
              "      <td>0.003289</td>\n",
              "      <td>-0.035293</td>\n",
              "      <td>-0.056021</td>\n",
              "      <td>-0.022944</td>\n",
              "      <td>-0.109987</td>\n",
              "      <td>0.005890</td>\n",
              "      <td>-0.139129</td>\n",
              "    </tr>\n",
              "    <tr>\n",
              "      <th>전신 루틴 스트레칭</th>\n",
              "      <td>-0.043322</td>\n",
              "      <td>1.000000</td>\n",
              "      <td>0.371978</td>\n",
              "      <td>0.003289</td>\n",
              "      <td>0.089725</td>\n",
              "      <td>0.451036</td>\n",
              "      <td>0.372942</td>\n",
              "      <td>0.388830</td>\n",
              "      <td>0.255388</td>\n",
              "      <td>0.012225</td>\n",
              "      <td>...</td>\n",
              "      <td>0.121602</td>\n",
              "      <td>0.166762</td>\n",
              "      <td>0.003289</td>\n",
              "      <td>1.000000</td>\n",
              "      <td>0.306464</td>\n",
              "      <td>0.388830</td>\n",
              "      <td>0.372942</td>\n",
              "      <td>0.073574</td>\n",
              "      <td>0.451036</td>\n",
              "      <td>-0.025137</td>\n",
              "    </tr>\n",
              "    <tr>\n",
              "      <th>하지 루틴 스트레칭2</th>\n",
              "      <td>0.023771</td>\n",
              "      <td>0.306464</td>\n",
              "      <td>0.234004</td>\n",
              "      <td>-0.035293</td>\n",
              "      <td>0.016013</td>\n",
              "      <td>0.218924</td>\n",
              "      <td>0.590881</td>\n",
              "      <td>0.590299</td>\n",
              "      <td>0.208004</td>\n",
              "      <td>0.115530</td>\n",
              "      <td>...</td>\n",
              "      <td>0.177552</td>\n",
              "      <td>0.165545</td>\n",
              "      <td>-0.035293</td>\n",
              "      <td>0.306464</td>\n",
              "      <td>1.000000</td>\n",
              "      <td>0.590299</td>\n",
              "      <td>0.590881</td>\n",
              "      <td>0.211465</td>\n",
              "      <td>0.218924</td>\n",
              "      <td>0.195532</td>\n",
              "    </tr>\n",
              "    <tr>\n",
              "      <th>상지 루틴 스트레칭</th>\n",
              "      <td>-0.022015</td>\n",
              "      <td>0.388830</td>\n",
              "      <td>0.229938</td>\n",
              "      <td>-0.056021</td>\n",
              "      <td>0.085837</td>\n",
              "      <td>0.219083</td>\n",
              "      <td>0.752686</td>\n",
              "      <td>1.000000</td>\n",
              "      <td>0.170168</td>\n",
              "      <td>0.107234</td>\n",
              "      <td>...</td>\n",
              "      <td>0.155871</td>\n",
              "      <td>0.096909</td>\n",
              "      <td>-0.056021</td>\n",
              "      <td>0.388830</td>\n",
              "      <td>0.590299</td>\n",
              "      <td>1.000000</td>\n",
              "      <td>0.752686</td>\n",
              "      <td>0.156496</td>\n",
              "      <td>0.219083</td>\n",
              "      <td>0.054078</td>\n",
              "    </tr>\n",
              "    <tr>\n",
              "      <th>하지 루틴 스트레칭1</th>\n",
              "      <td>0.001839</td>\n",
              "      <td>0.372942</td>\n",
              "      <td>0.246366</td>\n",
              "      <td>-0.022944</td>\n",
              "      <td>0.111175</td>\n",
              "      <td>0.238652</td>\n",
              "      <td>1.000000</td>\n",
              "      <td>0.752686</td>\n",
              "      <td>0.184527</td>\n",
              "      <td>0.097782</td>\n",
              "      <td>...</td>\n",
              "      <td>0.197103</td>\n",
              "      <td>0.147760</td>\n",
              "      <td>-0.022944</td>\n",
              "      <td>0.372942</td>\n",
              "      <td>0.590881</td>\n",
              "      <td>0.752686</td>\n",
              "      <td>1.000000</td>\n",
              "      <td>0.188484</td>\n",
              "      <td>0.238652</td>\n",
              "      <td>0.132419</td>\n",
              "    </tr>\n",
              "    <tr>\n",
              "      <th>허리 스트레칭</th>\n",
              "      <td>-0.075975</td>\n",
              "      <td>0.073574</td>\n",
              "      <td>0.056533</td>\n",
              "      <td>-0.109987</td>\n",
              "      <td>-0.017046</td>\n",
              "      <td>0.104603</td>\n",
              "      <td>0.188484</td>\n",
              "      <td>0.156496</td>\n",
              "      <td>0.024040</td>\n",
              "      <td>0.436026</td>\n",
              "      <td>...</td>\n",
              "      <td>0.149048</td>\n",
              "      <td>0.076020</td>\n",
              "      <td>-0.109987</td>\n",
              "      <td>0.073574</td>\n",
              "      <td>0.211465</td>\n",
              "      <td>0.156496</td>\n",
              "      <td>0.188484</td>\n",
              "      <td>1.000000</td>\n",
              "      <td>0.104603</td>\n",
              "      <td>0.581300</td>\n",
              "    </tr>\n",
              "    <tr>\n",
              "      <th>자가근막이완술 루틴 스트레칭</th>\n",
              "      <td>0.016524</td>\n",
              "      <td>0.451036</td>\n",
              "      <td>0.308004</td>\n",
              "      <td>0.005890</td>\n",
              "      <td>0.086496</td>\n",
              "      <td>1.000000</td>\n",
              "      <td>0.238652</td>\n",
              "      <td>0.219083</td>\n",
              "      <td>0.273105</td>\n",
              "      <td>0.097105</td>\n",
              "      <td>...</td>\n",
              "      <td>0.169691</td>\n",
              "      <td>0.153251</td>\n",
              "      <td>0.005890</td>\n",
              "      <td>0.451036</td>\n",
              "      <td>0.218924</td>\n",
              "      <td>0.219083</td>\n",
              "      <td>0.238652</td>\n",
              "      <td>0.104603</td>\n",
              "      <td>1.000000</td>\n",
              "      <td>0.045444</td>\n",
              "    </tr>\n",
              "    <tr>\n",
              "      <th>엉덩이 스트레칭</th>\n",
              "      <td>-0.105934</td>\n",
              "      <td>-0.025137</td>\n",
              "      <td>0.020315</td>\n",
              "      <td>-0.139129</td>\n",
              "      <td>0.030818</td>\n",
              "      <td>0.045444</td>\n",
              "      <td>0.132419</td>\n",
              "      <td>0.054078</td>\n",
              "      <td>-0.030275</td>\n",
              "      <td>0.443471</td>\n",
              "      <td>...</td>\n",
              "      <td>0.050159</td>\n",
              "      <td>0.033926</td>\n",
              "      <td>-0.139129</td>\n",
              "      <td>-0.025137</td>\n",
              "      <td>0.195532</td>\n",
              "      <td>0.054078</td>\n",
              "      <td>0.132419</td>\n",
              "      <td>0.581300</td>\n",
              "      <td>0.045444</td>\n",
              "      <td>1.000000</td>\n",
              "    </tr>\n",
              "  </tbody>\n",
              "</table>\n",
              "<p>54 rows × 54 columns</p>\n",
              "</div>\n",
              "      <button class=\"colab-df-convert\" onclick=\"convertToInteractive('df-75beca19-cab8-47ed-a947-feb43ed6ce4e')\"\n",
              "              title=\"Convert this dataframe to an interactive table.\"\n",
              "              style=\"display:none;\">\n",
              "        \n",
              "  <svg xmlns=\"http://www.w3.org/2000/svg\" height=\"24px\"viewBox=\"0 0 24 24\"\n",
              "       width=\"24px\">\n",
              "    <path d=\"M0 0h24v24H0V0z\" fill=\"none\"/>\n",
              "    <path d=\"M18.56 5.44l.94 2.06.94-2.06 2.06-.94-2.06-.94-.94-2.06-.94 2.06-2.06.94zm-11 1L8.5 8.5l.94-2.06 2.06-.94-2.06-.94L8.5 2.5l-.94 2.06-2.06.94zm10 10l.94 2.06.94-2.06 2.06-.94-2.06-.94-.94-2.06-.94 2.06-2.06.94z\"/><path d=\"M17.41 7.96l-1.37-1.37c-.4-.4-.92-.59-1.43-.59-.52 0-1.04.2-1.43.59L10.3 9.45l-7.72 7.72c-.78.78-.78 2.05 0 2.83L4 21.41c.39.39.9.59 1.41.59.51 0 1.02-.2 1.41-.59l7.78-7.78 2.81-2.81c.8-.78.8-2.07 0-2.86zM5.41 20L4 18.59l7.72-7.72 1.47 1.35L5.41 20z\"/>\n",
              "  </svg>\n",
              "      </button>\n",
              "      \n",
              "  <style>\n",
              "    .colab-df-container {\n",
              "      display:flex;\n",
              "      flex-wrap:wrap;\n",
              "      gap: 12px;\n",
              "    }\n",
              "\n",
              "    .colab-df-convert {\n",
              "      background-color: #E8F0FE;\n",
              "      border: none;\n",
              "      border-radius: 50%;\n",
              "      cursor: pointer;\n",
              "      display: none;\n",
              "      fill: #1967D2;\n",
              "      height: 32px;\n",
              "      padding: 0 0 0 0;\n",
              "      width: 32px;\n",
              "    }\n",
              "\n",
              "    .colab-df-convert:hover {\n",
              "      background-color: #E2EBFA;\n",
              "      box-shadow: 0px 1px 2px rgba(60, 64, 67, 0.3), 0px 1px 3px 1px rgba(60, 64, 67, 0.15);\n",
              "      fill: #174EA6;\n",
              "    }\n",
              "\n",
              "    [theme=dark] .colab-df-convert {\n",
              "      background-color: #3B4455;\n",
              "      fill: #D2E3FC;\n",
              "    }\n",
              "\n",
              "    [theme=dark] .colab-df-convert:hover {\n",
              "      background-color: #434B5C;\n",
              "      box-shadow: 0px 1px 3px 1px rgba(0, 0, 0, 0.15);\n",
              "      filter: drop-shadow(0px 1px 2px rgba(0, 0, 0, 0.3));\n",
              "      fill: #FFFFFF;\n",
              "    }\n",
              "  </style>\n",
              "\n",
              "      <script>\n",
              "        const buttonEl =\n",
              "          document.querySelector('#df-75beca19-cab8-47ed-a947-feb43ed6ce4e button.colab-df-convert');\n",
              "        buttonEl.style.display =\n",
              "          google.colab.kernel.accessAllowed ? 'block' : 'none';\n",
              "\n",
              "        async function convertToInteractive(key) {\n",
              "          const element = document.querySelector('#df-75beca19-cab8-47ed-a947-feb43ed6ce4e');\n",
              "          const dataTable =\n",
              "            await google.colab.kernel.invokeFunction('convertToInteractive',\n",
              "                                                     [key], {});\n",
              "          if (!dataTable) return;\n",
              "\n",
              "          const docLinkHtml = 'Like what you see? Visit the ' +\n",
              "            '<a target=\"_blank\" href=https://colab.research.google.com/notebooks/data_table.ipynb>data table notebook</a>'\n",
              "            + ' to learn more about interactive tables.';\n",
              "          element.innerHTML = '';\n",
              "          dataTable['output_type'] = 'display_data';\n",
              "          await google.colab.output.renderOutput(dataTable, element);\n",
              "          const docLink = document.createElement('div');\n",
              "          docLink.innerHTML = docLinkHtml;\n",
              "          element.appendChild(docLink);\n",
              "        }\n",
              "      </script>\n",
              "    </div>\n",
              "  </div>\n",
              "  "
            ]
          },
          "metadata": {},
          "execution_count": 89
        }
      ]
    },
    {
      "cell_type": "code",
      "source": [
        "for i in range(54):\n",
        "  for j in range(i-1):\n",
        "    if (training_corr.iloc[i,j]>=0.5):\n",
        "      print(i, training_corr.columns[i],', ',j,training_corr.columns[j])"
      ],
      "metadata": {
        "colab": {
          "base_uri": "https://localhost:8080/"
        },
        "id": "gOcwt5wLZx9n",
        "outputId": "dce1b739-180d-40f4-8b32-6a523bd217db"
      },
      "execution_count": 99,
      "outputs": [
        {
          "output_type": "stream",
          "name": "stdout",
          "text": [
            "13 윗몸올리기  ,  11 엎드려 버티기\n",
            "16 한발 앞으로 내밀고 앉았다 일어서기 ,  10 앉았다 일어서기\n",
            "19 달리기 ,  8 달리기\n",
            "23 누워서 엉덩이 들어올리기 ,  11 엎드려 버티기\n",
            "30 줄넘기 ,  17 줄넘기 운동\n",
            "31 트레드밀에서 걷기 ,  4 걷기\n",
            "33 걷기 ,  4 걷기\n",
            "33 걷기 ,  31 트레드밀에서 걷기\n",
            "34 앞굽이 앉았다 일어서기 ,  29 윗몸 일으키기\n",
            "37 뒤로 팔굽혀펴기 ,  20 팔굽혀펴기\n",
            "39 앉아서 다리 밀기 ,  32 앉아서 당겨 내리기\n",
            "43 엉덩이 스트레칭 ,  41 넙다리 뒤쪽 스트레칭\n",
            "45 앉아서 다리 펴기 ,  39 앉아서 다리 밀기\n",
            "46 정적 스트레칭  루틴프로그램 ,  3 정적 스트레칭  루틴프로그램\n",
            "47 전신 루틴 스트레칭 ,  1 전신 루틴 스트레칭\n",
            "48 하지 루틴 스트레칭2 ,  6 하지 루틴 스트레칭1\n",
            "48 하지 루틴 스트레칭2 ,  7 상지 루틴 스트레칭\n",
            "49 상지 루틴 스트레칭 ,  6 하지 루틴 스트레칭1\n",
            "49 상지 루틴 스트레칭 ,  7 상지 루틴 스트레칭\n",
            "50 하지 루틴 스트레칭1 ,  6 하지 루틴 스트레칭1\n",
            "50 하지 루틴 스트레칭1 ,  7 상지 루틴 스트레칭\n",
            "50 하지 루틴 스트레칭1 ,  48 하지 루틴 스트레칭2\n",
            "51 허리 스트레칭 ,  43 엉덩이 스트레칭\n",
            "52 자가근막이완술 루틴 스트레칭 ,  5 자가근막이완술 루틴 스트레칭\n",
            "53 엉덩이 스트레칭 ,  41 넙다리 뒤쪽 스트레칭\n",
            "53 엉덩이 스트레칭 ,  43 엉덩이 스트레칭\n",
            "53 엉덩이 스트레칭 ,  51 허리 스트레칭\n"
          ]
        }
      ]
    },
    {
      "cell_type": "code",
      "source": [
        "training_corr.columns"
      ],
      "metadata": {
        "colab": {
          "base_uri": "https://localhost:8080/"
        },
        "id": "B4c7Dhw7bC1a",
        "outputId": "242eae4e-b655-47b3-e1f5-d15c7af79953"
      },
      "execution_count": 95,
      "outputs": [
        {
          "output_type": "execute_result",
          "data": {
            "text/plain": [
              "Index(['동적 스트레칭 루틴프로그램', '전신 루틴 스트레칭', '유산소 운동 전 동적 루틴 스트레칭',\n",
              "       '정적 스트레칭  루틴프로그램', '걷기', '자가근막이완술 루틴 스트레칭', '하지 루틴 스트레칭1', '상지 루틴 스트레칭',\n",
              "       '달리기', '목 스트레칭', '앉았다 일어서기', '엎드려 버티기', '맨몸운동  루틴프로그램', '윗몸올리기 ', '수영',\n",
              "       '조깅', '한발 앞으로 내밀고 앉았다 일어서기', '줄넘기 운동', '버피 테스트', '달리기', '팔굽혀펴기',\n",
              "       '팔굽혀 펴기', '계단 올라갔다 내려오기', '누워서 엉덩이 들어올리기', '자전거타기', '실내 자전거타기',\n",
              "       '몸통 들어올리기', '전완대고 버티기', '저항밴드 운동  루틴프로그램', '윗몸 일으키기', '줄넘기',\n",
              "       '트레드밀에서 걷기', '앉아서 당겨 내리기', '걷기', '앞굽이 앉았다 일어서기', '바운딩 운동  루틴프로그램',\n",
              "       '누워 다리 들어올리기', '뒤로 팔굽혀펴기', '버피운동', '앉아서 다리 밀기', '턱걸이', '넙다리 뒤쪽 스트레칭',\n",
              "       '누워서 다리 들어올리기', '엉덩이 스트레칭', '옆으로 누워 버티기', '앉아서 다리 펴기',\n",
              "       '정적 스트레칭  루틴프로그램', '전신 루틴 스트레칭', '하지 루틴 스트레칭2', '상지 루틴 스트레칭',\n",
              "       '하지 루틴 스트레칭1', '허리 스트레칭', '자가근막이완술 루틴 스트레칭', '엉덩이 스트레칭'],\n",
              "      dtype='object')"
            ]
          },
          "metadata": {},
          "execution_count": 95
        }
      ]
    }
  ]
}