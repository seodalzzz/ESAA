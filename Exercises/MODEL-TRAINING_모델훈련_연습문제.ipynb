{
  "nbformat": 4,
  "nbformat_minor": 0,
  "metadata": {
    "colab": {
      "provenance": [],
      "collapsed_sections": []
    },
    "kernelspec": {
      "name": "python3",
      "display_name": "Python 3"
    },
    "language_info": {
      "name": "python"
    }
  },
  "cells": [
    {
      "cell_type": "markdown",
      "source": [
        "## **| 모델 훈련 연습 문제**\n",
        "___\n",
        "- 출처 : 핸즈온 머신러닝 Ch04 연습문제 1, 5, 9, 10번\n",
        "- 개념 문제의 경우 텍스트 셀을 추가하여 정답을 적어주세요."
      ],
      "metadata": {
        "id": "zCu72vDHGMHo"
      }
    },
    {
      "cell_type": "markdown",
      "source": [
        "### **1. 수백만 개의 특성을 가진 훈련 세트에서는 어떤 선형 회귀 알고리즘을 사용할 수 있을까요?**\n",
        "___\n"
      ],
      "metadata": {
        "id": "j3g-_Dq9GiuT"
      }
    },
    {
      "cell_type": "markdown",
      "source": [
        "정규방정식을 사용하는 방법의 경우 X의 행렬 계산이 필요하기 때문에 시간이 오래 걸림. 따라서 경사하강법을 사용해야 하는데, 배치 경사 하강법의 경우 역시 마찬가지로 시간이 오래 걸릴 수 있기 때문에 미니배치나 확률적 경사 하강법이 적절하다."
      ],
      "metadata": {
        "id": "zi8bti5kDBee"
      }
    },
    {
      "cell_type": "markdown",
      "source": [
        "### **2. 배치 경사 하강법을 사용하고 에포크마다 검증 오차를 그래프로 나타내봤습니다. 검증 오차가 일정하게 상승되고 있다면 어떤 일이 일어나고 있는 걸까요? 이 문제를 어떻게 해결할 수 있나요?**\n",
        "___"
      ],
      "metadata": {
        "id": "-pDjW5XcHPOt"
      }
    },
    {
      "cell_type": "markdown",
      "source": [
        "learning rate를 너무 크게 설정하여 그래디언트가 발산하고 이에 따라 검증 오차가 계속 상승한다"
      ],
      "metadata": {
        "id": "c_p66h5aDCSM"
      }
    },
    {
      "cell_type": "markdown",
      "source": [
        "### **3. 릿지 회귀를 사용했을 때 훈련 오차가 검증 오차가 거의 비슷하고 둘 다 높았습니다. 이 모델에는 높은 편향이 문제인가요, 아니면 높은 분산이 문제인가요? 규제 하이퍼파라미터 $\\alpha$를 증가시켜야 할까요 아니면 줄여야 할까요?**\n",
        "___"
      ],
      "metadata": {
        "id": "nM7JbsLoy7b7"
      }
    },
    {
      "cell_type": "markdown",
      "source": [
        "모델이 과소적합된 경우이다. 높은 편향이 문제이며 alpha를 줄여 피처 가중치를 크게 함으로써 더 복잡한 모델을 사용할 수 있도록 해야 한다."
      ],
      "metadata": {
        "id": "roA5mvBADC_s"
      }
    },
    {
      "cell_type": "markdown",
      "source": [
        "### **4. 다음과 같이 사용해야 하는 이유는?**\n",
        "___\n",
        "- 평범한 선형 회귀(즉, 아무런 규제가 없는 모델) 대신 릿지 회귀\n",
        "- 릿지 회귀 대신 라쏘 회귀\n",
        "- 라쏘 회귀 대신 엘라스틱넷"
      ],
      "metadata": {
        "id": "C8tARu-ZzOGx"
      }
    },
    {
      "cell_type": "markdown",
      "source": [
        "(1) 규제가 약간 있는 것이 대부분의 경우에 성능이 더 좋음 > 선형회귀보다 릿지 회귀 사용\n",
        "\n",
        "(2) 사용되는 피처가 몇개 뿐이라고 생각되는 경우 릿지 회귀 대신 라쏘 회귀 사용\n",
        "\n",
        "(3) 피처 수가 훈련 샘플 수보다 많거나 피처 몇 개가 강하게 연관되어 있을 경우 보통 라쏘가 문제를 일으키므로 라쏘회귀 대신 엘라스틱넷 사용"
      ],
      "metadata": {
        "id": "IFt3NLAIDD8M"
      }
    }
  ]
}