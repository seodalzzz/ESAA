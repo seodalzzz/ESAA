{
  "cells": [
    {
      "cell_type": "markdown",
      "metadata": {
        "id": "zCu72vDHGMHo"
      },
      "source": [
        "## **| 분류 연습 문제**\n",
        "___\n",
        "출처 : 핸즈온 머신러닝 Ch03 분류 연습문제 1, 2번"
      ]
    },
    {
      "cell_type": "code",
      "execution_count": 1,
      "metadata": {
        "id": "tBMD6RMQJcnZ"
      },
      "outputs": [],
      "source": [
        "# import data\n",
        "from sklearn.datasets import fetch_openml\n",
        "mnist = fetch_openml('mnist_784', version = 1, as_frame = False)"
      ]
    },
    {
      "cell_type": "code",
      "execution_count": 2,
      "metadata": {
        "id": "0acMMz8YKS7v"
      },
      "outputs": [],
      "source": [
        "X, y = mnist[\"data\"], mnist[\"target\"]"
      ]
    },
    {
      "cell_type": "code",
      "source": [
        "X_train, X_test, y_train, y_test = X[:60000], X[60000:], y[:60000], y[60000:]"
      ],
      "metadata": {
        "id": "wAX0ZUMqtdio"
      },
      "execution_count": 5,
      "outputs": []
    },
    {
      "cell_type": "markdown",
      "metadata": {
        "id": "j3g-_Dq9GiuT"
      },
      "source": [
        "### **1. MNIST 데이터셋으로 분류기를 만들어 테스트 세트에서 97% 정확도를 달성해보세요.**\n",
        "___\n",
        "\n",
        "1. `KNeghtborsClassifier`를 사용하는 것을 추천합니다. \n",
        "2. `weights`와 `n_neighbors` 하이퍼 파라미터로 그리드 탐색을 시도하여, 좋은 하이퍼 파라미터 값을 찾아보세요."
      ]
    },
    {
      "cell_type": "code",
      "execution_count": 3,
      "metadata": {
        "id": "188lZyYEGJZ7"
      },
      "outputs": [],
      "source": [
        "# import package\n",
        "import matplotlib.pyplot as plt\n",
        "import numpy as np\n",
        "from sklearn.neighbors import KNeighborsClassifier\n",
        "from sklearn.model_selection import GridSearchCV\n",
        "from sklearn.metrics import accuracy_score"
      ]
    },
    {
      "cell_type": "code",
      "execution_count": 6,
      "metadata": {
        "colab": {
          "base_uri": "https://localhost:8080/"
        },
        "id": "lXF4M2MdIpKa",
        "outputId": "2a0cb556-aba8-4cdd-81bf-3f7c6558e25f"
      },
      "outputs": [
        {
          "output_type": "stream",
          "name": "stdout",
          "text": [
            "Fitting 3 folds for each of 6 candidates, totalling 18 fits\n",
            "[CV 1/3] END ...n_neighbors=3, weights=distance;, score=0.970 total time=  46.4s\n",
            "[CV 2/3] END ...n_neighbors=3, weights=distance;, score=0.969 total time=  43.4s\n",
            "[CV 3/3] END ...n_neighbors=3, weights=distance;, score=0.969 total time=  43.2s\n",
            "[CV 1/3] END ....n_neighbors=3, weights=uniform;, score=0.969 total time=  43.8s\n",
            "[CV 2/3] END ....n_neighbors=3, weights=uniform;, score=0.968 total time=  43.7s\n",
            "[CV 3/3] END ....n_neighbors=3, weights=uniform;, score=0.968 total time=  43.7s\n",
            "[CV 1/3] END ...n_neighbors=4, weights=distance;, score=0.971 total time=  48.5s\n",
            "[CV 2/3] END ...n_neighbors=4, weights=distance;, score=0.970 total time=  49.0s\n",
            "[CV 3/3] END ...n_neighbors=4, weights=distance;, score=0.970 total time=  49.5s\n",
            "[CV 1/3] END ....n_neighbors=4, weights=uniform;, score=0.966 total time=  49.1s\n",
            "[CV 2/3] END ....n_neighbors=4, weights=uniform;, score=0.966 total time=  49.2s\n",
            "[CV 3/3] END ....n_neighbors=4, weights=uniform;, score=0.967 total time=  49.7s\n",
            "[CV 1/3] END ...n_neighbors=5, weights=distance;, score=0.969 total time=  48.5s\n",
            "[CV 2/3] END ...n_neighbors=5, weights=distance;, score=0.968 total time=  51.7s\n",
            "[CV 3/3] END ...n_neighbors=5, weights=distance;, score=0.969 total time=  49.5s\n",
            "[CV 1/3] END ....n_neighbors=5, weights=uniform;, score=0.968 total time=  49.0s\n",
            "[CV 2/3] END ....n_neighbors=5, weights=uniform;, score=0.967 total time=  49.1s\n",
            "[CV 3/3] END ....n_neighbors=5, weights=uniform;, score=0.968 total time=  49.8s\n"
          ]
        },
        {
          "output_type": "execute_result",
          "data": {
            "text/plain": [
              "GridSearchCV(cv=3, estimator=KNeighborsClassifier(),\n",
              "             param_grid=[{'n_neighbors': [3, 4, 5],\n",
              "                          'weights': ['distance', 'uniform']}],\n",
              "             verbose=3)"
            ]
          },
          "metadata": {},
          "execution_count": 6
        }
      ],
      "source": [
        "# Try GridSearch to optimize hyperparameter\n",
        "knn_params=[{'weights':['distance','uniform'],'n_neighbors':[3,4,5]}]\n",
        "knn_clf=KNeighborsClassifier()\n",
        "grid_cv=GridSearchCV(knn_clf,param_grid=knn_params, cv=3,verbose=3)\n",
        "grid_cv.fit(X_train,y_train)"
      ]
    },
    {
      "cell_type": "code",
      "execution_count": 7,
      "metadata": {
        "id": "J0NiljKhJJlj",
        "colab": {
          "base_uri": "https://localhost:8080/"
        },
        "outputId": "260b5b31-2c77-44c2-c8d4-2049cc866c84"
      },
      "outputs": [
        {
          "output_type": "execute_result",
          "data": {
            "text/plain": [
              "{'n_neighbors': 4, 'weights': 'distance'}"
            ]
          },
          "metadata": {},
          "execution_count": 7
        }
      ],
      "source": [
        "# best hyperparameter\n",
        "grid_cv.best_params_"
      ]
    },
    {
      "cell_type": "code",
      "execution_count": 8,
      "metadata": {
        "id": "DPLNro_xJTrx",
        "colab": {
          "base_uri": "https://localhost:8080/"
        },
        "outputId": "1e081923-8dc4-4bd0-ebc4-a04bb24f783d"
      },
      "outputs": [
        {
          "output_type": "execute_result",
          "data": {
            "text/plain": [
              "0.9703500000000002"
            ]
          },
          "metadata": {},
          "execution_count": 8
        }
      ],
      "source": [
        "# best score\n",
        "grid_cv.best_score_"
      ]
    },
    {
      "cell_type": "code",
      "execution_count": 9,
      "metadata": {
        "id": "CVY_c-DMJX70",
        "colab": {
          "base_uri": "https://localhost:8080/"
        },
        "outputId": "e47b89c0-6b92-4244-d275-6f16db97d2bf"
      },
      "outputs": [
        {
          "output_type": "execute_result",
          "data": {
            "text/plain": [
              "0.9714"
            ]
          },
          "metadata": {},
          "execution_count": 9
        }
      ],
      "source": [
        "# model test\n",
        "y_pred=grid_cv.predict(X_test)\n",
        "accuracy_score(y_test,y_pred)"
      ]
    },
    {
      "cell_type": "markdown",
      "metadata": {
        "id": "-pDjW5XcHPOt"
      },
      "source": [
        "### **2. 다음 단계를 따라 인위적으로 훈련 세트를 늘리는 데이터 증식 또는 훈련 세트 확장 기법을 연습해봅시다.**\n",
        "___"
      ]
    },
    {
      "cell_type": "markdown",
      "metadata": {
        "id": "_xhEB_KtH47q"
      },
      "source": [
        "#### **STEP 1. MNIST 이미지를 (왼, 오른, 위, 아래) 어느 방향으로든 한 픽셀 이동시킬 수 있는 함수를 만들어 보세요.**"
      ]
    },
    {
      "cell_type": "code",
      "execution_count": 10,
      "metadata": {
        "id": "DKw9INbrJgpv"
      },
      "outputs": [],
      "source": [
        "from scipy.ndimage.interpolation import shift"
      ]
    },
    {
      "cell_type": "code",
      "execution_count": 11,
      "metadata": {
        "id": "3CLxYCROIAk6"
      },
      "outputs": [],
      "source": [
        "def shift_image(image,dx,dy):\n",
        "  image=image.reshape((28,28))\n",
        "  shifted_image=shift(image,[dy,dx],cval=0, mode=\"constant\")\n",
        "  return shifted_image.reshape([-1])"
      ]
    },
    {
      "cell_type": "markdown",
      "metadata": {
        "id": "AHgSqi-zIBCd"
      },
      "source": [
        "####  **STEP 2. 앞에서 만든 함수를 이용하여, 훈련 세트에 있는 각 이미지에 대해 네 개의 이동된 복사본(방향마다 한 개씩)을 만들어 훈련 세트에 추가하세요**"
      ]
    },
    {
      "cell_type": "code",
      "execution_count": 12,
      "metadata": {
        "id": "SsBT_d0MIH-V"
      },
      "outputs": [],
      "source": [
        "image=X_train[525]\n",
        "shifted_image_down=shift_image(image,0,5)\n",
        "shifted_image_right=shift_image(image,5,0)"
      ]
    },
    {
      "cell_type": "code",
      "execution_count": 13,
      "metadata": {
        "id": "tS1empJzKCOG"
      },
      "outputs": [],
      "source": [
        "X_augmented=[image for image in X_train]\n",
        "y_augmented=[label for label in y_train]\n",
        "\n",
        "for dx, dy in ((1,0),(-1,0),(0,1),(0,-1)):\n",
        "  for image, label in zip(X,y):\n",
        "    X_augmented.append(shift_image(image,dx,dy))\n",
        "    y_augmented.append(label)\n",
        "\n",
        "X_augmented=np.array(X_augmented)\n",
        "y_augmented=np.array(y_augmented)"
      ]
    },
    {
      "cell_type": "markdown",
      "metadata": {
        "id": "zWozt0n2IJZL"
      },
      "source": [
        "####  **STEP 3. 위에서 확장한 데이터셋을 이용하여, 1번 문제에서 찾은 최적 모델을 훈련시키고, 테스트 세트에서 정확도를 측정해보세요**"
      ]
    },
    {
      "cell_type": "code",
      "execution_count": 14,
      "metadata": {
        "id": "Yo4H-hTRIW7-"
      },
      "outputs": [],
      "source": [
        "knn_clf=KNeighborsClassifier()"
      ]
    },
    {
      "cell_type": "code",
      "execution_count": 15,
      "metadata": {
        "id": "fVdwwmSYKDmF",
        "colab": {
          "base_uri": "https://localhost:8080/"
        },
        "outputId": "b033023b-e468-4363-a014-e2aff88d16bc"
      },
      "outputs": [
        {
          "output_type": "execute_result",
          "data": {
            "text/plain": [
              "KNeighborsClassifier()"
            ]
          },
          "metadata": {},
          "execution_count": 15
        }
      ],
      "source": [
        "knn_clf.fit(X_augmented,y_augmented)"
      ]
    },
    {
      "cell_type": "code",
      "execution_count": 17,
      "metadata": {
        "id": "ijlm1VbOKFSN",
        "colab": {
          "base_uri": "https://localhost:8080/"
        },
        "outputId": "58d7c38b-422a-4008-ebd6-7e74ad1a4473"
      },
      "outputs": [
        {
          "output_type": "execute_result",
          "data": {
            "text/plain": [
              "0.9932"
            ]
          },
          "metadata": {},
          "execution_count": 17
        }
      ],
      "source": [
        "y_pred_shift=knn_clf.predict(X_test)\n",
        "accuracy_score(y_test,y_pred_shift)"
      ]
    }
  ],
  "metadata": {
    "colab": {
      "collapsed_sections": [],
      "provenance": []
    },
    "kernelspec": {
      "display_name": "Python 3",
      "name": "python3"
    },
    "language_info": {
      "name": "python"
    }
  },
  "nbformat": 4,
  "nbformat_minor": 0
}
