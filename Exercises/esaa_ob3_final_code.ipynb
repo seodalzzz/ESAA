{
  "cells": [
    {
      "cell_type": "markdown",
      "metadata": {
        "id": "view-in-github",
        "colab_type": "text"
      },
      "source": [
        "<a href=\"https://colab.research.google.com/github/seodalzzz/ESAA/blob/Exercises/esaa_ob3_final_code.ipynb\" target=\"_parent\"><img src=\"https://colab.research.google.com/assets/colab-badge.svg\" alt=\"Open In Colab\"/></a>"
      ]
    },
    {
      "cell_type": "code",
      "execution_count": 1,
      "metadata": {
        "id": "CMhbwEvYDcT3"
      },
      "outputs": [],
      "source": [
        "\n",
        "import numpy as np\n",
        "import pandas as pd\n",
        "import matplotlib.pyplot as plt\n",
        "import seaborn as sns\n",
        "import io"
      ]
    },
    {
      "cell_type": "markdown",
      "metadata": {
        "id": "W4Hox0B7F9Et"
      },
      "source": [
        "# 1.데이터 살펴보기"
      ]
    },
    {
      "cell_type": "code",
      "execution_count": 2,
      "metadata": {
        "id": "G4L_Fz-oiWEf"
      },
      "outputs": [],
      "source": [
        "train=pd.read_csv('/content/train.csv')\n",
        "test=pd.read_csv('/content/test.csv')"
      ]
    },
    {
      "cell_type": "code",
      "execution_count": 3,
      "metadata": {
        "colab": {
          "base_uri": "https://localhost:8080/",
          "height": 300
        },
        "id": "Eu8AAwbYFiJf",
        "outputId": "5901a003-525d-48b2-a907-0131f9e1e631"
      },
      "outputs": [
        {
          "output_type": "execute_result",
          "data": {
            "text/plain": [
              "   inst_id    OC       sido  sgg  openDate  bedCount          instkind  \\\n",
              "0        1  open  choongnam   73  20071228     175.0  nursing_hospital   \n",
              "1        3  open  gyeongnam   32  19970401     410.0  general_hospital   \n",
              "2        4  open   gyeonggi   89  20161228     468.0  nursing_hospital   \n",
              "3        7  open    incheon  141  20000814     353.0  general_hospital   \n",
              "4        9  open  gyeongnam   32  20050901     196.0  general_hospital   \n",
              "\n",
              "       revenue1   salescost1          sga1  ...         debt2  \\\n",
              "0  4.217530e+09          0.0  3.961135e+09  ...  7.589937e+08   \n",
              "1           NaN          NaN           NaN  ...           NaN   \n",
              "2  1.004522e+09  515483669.0  4.472197e+08  ...  0.000000e+00   \n",
              "3  7.250734e+10          0.0  7.067740e+10  ...  3.775501e+10   \n",
              "4  4.904354e+10          0.0  4.765605e+10  ...  5.143259e+10   \n",
              "\n",
              "   liquidLiabilities2    shortLoan2  NCLiabilities2     longLoan2  \\\n",
              "0        2.228769e+08  0.000000e+00    5.361169e+08  3.900000e+08   \n",
              "1                 NaN           NaN             NaN           NaN   \n",
              "2        0.000000e+00  0.000000e+00    0.000000e+00  0.000000e+00   \n",
              "3        1.701860e+10  9.219427e+09    2.073641e+10  1.510000e+10   \n",
              "4        3.007259e+10  1.759375e+10    2.136001e+10  1.410803e+10   \n",
              "\n",
              "      netAsset2      surplus2  employee1  employee2  ownerChange  \n",
              "0  2.619290e+09  1.271224e+09       62.0       64.0         same  \n",
              "1           NaN           NaN      801.0      813.0         same  \n",
              "2  0.000000e+00  0.000000e+00      234.0        1.0         same  \n",
              "3  1.295427e+10  7.740829e+09      663.0      663.0         same  \n",
              "4  5.561941e+06  9.025550e+09      206.0      197.0         same  \n",
              "\n",
              "[5 rows x 58 columns]"
            ],
            "text/html": [
              "\n",
              "  <div id=\"df-d65bf2df-3b76-4271-abc7-d5b2365d6869\">\n",
              "    <div class=\"colab-df-container\">\n",
              "      <div>\n",
              "<style scoped>\n",
              "    .dataframe tbody tr th:only-of-type {\n",
              "        vertical-align: middle;\n",
              "    }\n",
              "\n",
              "    .dataframe tbody tr th {\n",
              "        vertical-align: top;\n",
              "    }\n",
              "\n",
              "    .dataframe thead th {\n",
              "        text-align: right;\n",
              "    }\n",
              "</style>\n",
              "<table border=\"1\" class=\"dataframe\">\n",
              "  <thead>\n",
              "    <tr style=\"text-align: right;\">\n",
              "      <th></th>\n",
              "      <th>inst_id</th>\n",
              "      <th>OC</th>\n",
              "      <th>sido</th>\n",
              "      <th>sgg</th>\n",
              "      <th>openDate</th>\n",
              "      <th>bedCount</th>\n",
              "      <th>instkind</th>\n",
              "      <th>revenue1</th>\n",
              "      <th>salescost1</th>\n",
              "      <th>sga1</th>\n",
              "      <th>...</th>\n",
              "      <th>debt2</th>\n",
              "      <th>liquidLiabilities2</th>\n",
              "      <th>shortLoan2</th>\n",
              "      <th>NCLiabilities2</th>\n",
              "      <th>longLoan2</th>\n",
              "      <th>netAsset2</th>\n",
              "      <th>surplus2</th>\n",
              "      <th>employee1</th>\n",
              "      <th>employee2</th>\n",
              "      <th>ownerChange</th>\n",
              "    </tr>\n",
              "  </thead>\n",
              "  <tbody>\n",
              "    <tr>\n",
              "      <th>0</th>\n",
              "      <td>1</td>\n",
              "      <td>open</td>\n",
              "      <td>choongnam</td>\n",
              "      <td>73</td>\n",
              "      <td>20071228</td>\n",
              "      <td>175.0</td>\n",
              "      <td>nursing_hospital</td>\n",
              "      <td>4.217530e+09</td>\n",
              "      <td>0.0</td>\n",
              "      <td>3.961135e+09</td>\n",
              "      <td>...</td>\n",
              "      <td>7.589937e+08</td>\n",
              "      <td>2.228769e+08</td>\n",
              "      <td>0.000000e+00</td>\n",
              "      <td>5.361169e+08</td>\n",
              "      <td>3.900000e+08</td>\n",
              "      <td>2.619290e+09</td>\n",
              "      <td>1.271224e+09</td>\n",
              "      <td>62.0</td>\n",
              "      <td>64.0</td>\n",
              "      <td>same</td>\n",
              "    </tr>\n",
              "    <tr>\n",
              "      <th>1</th>\n",
              "      <td>3</td>\n",
              "      <td>open</td>\n",
              "      <td>gyeongnam</td>\n",
              "      <td>32</td>\n",
              "      <td>19970401</td>\n",
              "      <td>410.0</td>\n",
              "      <td>general_hospital</td>\n",
              "      <td>NaN</td>\n",
              "      <td>NaN</td>\n",
              "      <td>NaN</td>\n",
              "      <td>...</td>\n",
              "      <td>NaN</td>\n",
              "      <td>NaN</td>\n",
              "      <td>NaN</td>\n",
              "      <td>NaN</td>\n",
              "      <td>NaN</td>\n",
              "      <td>NaN</td>\n",
              "      <td>NaN</td>\n",
              "      <td>801.0</td>\n",
              "      <td>813.0</td>\n",
              "      <td>same</td>\n",
              "    </tr>\n",
              "    <tr>\n",
              "      <th>2</th>\n",
              "      <td>4</td>\n",
              "      <td>open</td>\n",
              "      <td>gyeonggi</td>\n",
              "      <td>89</td>\n",
              "      <td>20161228</td>\n",
              "      <td>468.0</td>\n",
              "      <td>nursing_hospital</td>\n",
              "      <td>1.004522e+09</td>\n",
              "      <td>515483669.0</td>\n",
              "      <td>4.472197e+08</td>\n",
              "      <td>...</td>\n",
              "      <td>0.000000e+00</td>\n",
              "      <td>0.000000e+00</td>\n",
              "      <td>0.000000e+00</td>\n",
              "      <td>0.000000e+00</td>\n",
              "      <td>0.000000e+00</td>\n",
              "      <td>0.000000e+00</td>\n",
              "      <td>0.000000e+00</td>\n",
              "      <td>234.0</td>\n",
              "      <td>1.0</td>\n",
              "      <td>same</td>\n",
              "    </tr>\n",
              "    <tr>\n",
              "      <th>3</th>\n",
              "      <td>7</td>\n",
              "      <td>open</td>\n",
              "      <td>incheon</td>\n",
              "      <td>141</td>\n",
              "      <td>20000814</td>\n",
              "      <td>353.0</td>\n",
              "      <td>general_hospital</td>\n",
              "      <td>7.250734e+10</td>\n",
              "      <td>0.0</td>\n",
              "      <td>7.067740e+10</td>\n",
              "      <td>...</td>\n",
              "      <td>3.775501e+10</td>\n",
              "      <td>1.701860e+10</td>\n",
              "      <td>9.219427e+09</td>\n",
              "      <td>2.073641e+10</td>\n",
              "      <td>1.510000e+10</td>\n",
              "      <td>1.295427e+10</td>\n",
              "      <td>7.740829e+09</td>\n",
              "      <td>663.0</td>\n",
              "      <td>663.0</td>\n",
              "      <td>same</td>\n",
              "    </tr>\n",
              "    <tr>\n",
              "      <th>4</th>\n",
              "      <td>9</td>\n",
              "      <td>open</td>\n",
              "      <td>gyeongnam</td>\n",
              "      <td>32</td>\n",
              "      <td>20050901</td>\n",
              "      <td>196.0</td>\n",
              "      <td>general_hospital</td>\n",
              "      <td>4.904354e+10</td>\n",
              "      <td>0.0</td>\n",
              "      <td>4.765605e+10</td>\n",
              "      <td>...</td>\n",
              "      <td>5.143259e+10</td>\n",
              "      <td>3.007259e+10</td>\n",
              "      <td>1.759375e+10</td>\n",
              "      <td>2.136001e+10</td>\n",
              "      <td>1.410803e+10</td>\n",
              "      <td>5.561941e+06</td>\n",
              "      <td>9.025550e+09</td>\n",
              "      <td>206.0</td>\n",
              "      <td>197.0</td>\n",
              "      <td>same</td>\n",
              "    </tr>\n",
              "  </tbody>\n",
              "</table>\n",
              "<p>5 rows × 58 columns</p>\n",
              "</div>\n",
              "      <button class=\"colab-df-convert\" onclick=\"convertToInteractive('df-d65bf2df-3b76-4271-abc7-d5b2365d6869')\"\n",
              "              title=\"Convert this dataframe to an interactive table.\"\n",
              "              style=\"display:none;\">\n",
              "        \n",
              "  <svg xmlns=\"http://www.w3.org/2000/svg\" height=\"24px\"viewBox=\"0 0 24 24\"\n",
              "       width=\"24px\">\n",
              "    <path d=\"M0 0h24v24H0V0z\" fill=\"none\"/>\n",
              "    <path d=\"M18.56 5.44l.94 2.06.94-2.06 2.06-.94-2.06-.94-.94-2.06-.94 2.06-2.06.94zm-11 1L8.5 8.5l.94-2.06 2.06-.94-2.06-.94L8.5 2.5l-.94 2.06-2.06.94zm10 10l.94 2.06.94-2.06 2.06-.94-2.06-.94-.94-2.06-.94 2.06-2.06.94z\"/><path d=\"M17.41 7.96l-1.37-1.37c-.4-.4-.92-.59-1.43-.59-.52 0-1.04.2-1.43.59L10.3 9.45l-7.72 7.72c-.78.78-.78 2.05 0 2.83L4 21.41c.39.39.9.59 1.41.59.51 0 1.02-.2 1.41-.59l7.78-7.78 2.81-2.81c.8-.78.8-2.07 0-2.86zM5.41 20L4 18.59l7.72-7.72 1.47 1.35L5.41 20z\"/>\n",
              "  </svg>\n",
              "      </button>\n",
              "      \n",
              "  <style>\n",
              "    .colab-df-container {\n",
              "      display:flex;\n",
              "      flex-wrap:wrap;\n",
              "      gap: 12px;\n",
              "    }\n",
              "\n",
              "    .colab-df-convert {\n",
              "      background-color: #E8F0FE;\n",
              "      border: none;\n",
              "      border-radius: 50%;\n",
              "      cursor: pointer;\n",
              "      display: none;\n",
              "      fill: #1967D2;\n",
              "      height: 32px;\n",
              "      padding: 0 0 0 0;\n",
              "      width: 32px;\n",
              "    }\n",
              "\n",
              "    .colab-df-convert:hover {\n",
              "      background-color: #E2EBFA;\n",
              "      box-shadow: 0px 1px 2px rgba(60, 64, 67, 0.3), 0px 1px 3px 1px rgba(60, 64, 67, 0.15);\n",
              "      fill: #174EA6;\n",
              "    }\n",
              "\n",
              "    [theme=dark] .colab-df-convert {\n",
              "      background-color: #3B4455;\n",
              "      fill: #D2E3FC;\n",
              "    }\n",
              "\n",
              "    [theme=dark] .colab-df-convert:hover {\n",
              "      background-color: #434B5C;\n",
              "      box-shadow: 0px 1px 3px 1px rgba(0, 0, 0, 0.15);\n",
              "      filter: drop-shadow(0px 1px 2px rgba(0, 0, 0, 0.3));\n",
              "      fill: #FFFFFF;\n",
              "    }\n",
              "  </style>\n",
              "\n",
              "      <script>\n",
              "        const buttonEl =\n",
              "          document.querySelector('#df-d65bf2df-3b76-4271-abc7-d5b2365d6869 button.colab-df-convert');\n",
              "        buttonEl.style.display =\n",
              "          google.colab.kernel.accessAllowed ? 'block' : 'none';\n",
              "\n",
              "        async function convertToInteractive(key) {\n",
              "          const element = document.querySelector('#df-d65bf2df-3b76-4271-abc7-d5b2365d6869');\n",
              "          const dataTable =\n",
              "            await google.colab.kernel.invokeFunction('convertToInteractive',\n",
              "                                                     [key], {});\n",
              "          if (!dataTable) return;\n",
              "\n",
              "          const docLinkHtml = 'Like what you see? Visit the ' +\n",
              "            '<a target=\"_blank\" href=https://colab.research.google.com/notebooks/data_table.ipynb>data table notebook</a>'\n",
              "            + ' to learn more about interactive tables.';\n",
              "          element.innerHTML = '';\n",
              "          dataTable['output_type'] = 'display_data';\n",
              "          await google.colab.output.renderOutput(dataTable, element);\n",
              "          const docLink = document.createElement('div');\n",
              "          docLink.innerHTML = docLinkHtml;\n",
              "          element.appendChild(docLink);\n",
              "        }\n",
              "      </script>\n",
              "    </div>\n",
              "  </div>\n",
              "  "
            ]
          },
          "metadata": {},
          "execution_count": 3
        }
      ],
      "source": [
        "train.head()"
      ]
    },
    {
      "cell_type": "code",
      "execution_count": 4,
      "metadata": {
        "colab": {
          "base_uri": "https://localhost:8080/",
          "height": 300
        },
        "id": "Uzl0AJnaFh0O",
        "outputId": "18994f6c-8d38-4e82-c48f-7d26dc7f0f30"
      },
      "outputs": [
        {
          "output_type": "execute_result",
          "data": {
            "text/plain": [
              "   inst_id  OC     sido  sgg    openDate  bedCount          instkind  \\\n",
              "0        2 NaN  incheon  139  19981125.0     300.0  general_hospital   \n",
              "1        5 NaN     jeju  149  20160309.0      44.0          hospital   \n",
              "2        6 NaN  jeonnam  103  19890427.0     276.0  general_hospital   \n",
              "3        8 NaN    busan   71  20100226.0     363.0  general_hospital   \n",
              "4       10 NaN  jeonbuk   26  20040604.0     213.0  general_hospital   \n",
              "\n",
              "       revenue1    salescost1          sga1  ...         debt2  \\\n",
              "0  6.682486e+10  0.000000e+00  6.565709e+10  ...  5.540643e+10   \n",
              "1  3.495758e+10  0.000000e+00  3.259270e+10  ...  6.730838e+10   \n",
              "2  2.326031e+10  2.542571e+09  2.308749e+10  ...  0.000000e+00   \n",
              "3  0.000000e+00  0.000000e+00  0.000000e+00  ...  1.211517e+10   \n",
              "4  5.037025e+10  0.000000e+00  4.855803e+10  ...  4.395973e+10   \n",
              "\n",
              "   liquidLiabilities2    shortLoan2  NCLiabilities2     longLoan2  \\\n",
              "0        5.068443e+10  3.714334e+10    4.720000e+09  4.690000e+09   \n",
              "1        4.209828e+10  2.420000e+10    2.521009e+10  1.830000e+10   \n",
              "2        2.777589e+10  2.182278e+10    0.000000e+00  0.000000e+00   \n",
              "3        9.556237e+09  4.251867e+09    2.558931e+09  0.000000e+00   \n",
              "4        7.535567e+09  3.298427e+09    3.642417e+10  2.134712e+10   \n",
              "\n",
              "      netAsset2      surplus2  employee1  employee2  ownerChange  \n",
              "0  1.608540e+10  8.944587e+09        693        693         same  \n",
              "1  3.789135e+09  0.000000e+00        379        371         same  \n",
              "2  0.000000e+00  1.638540e+10        NaN        NaN          NaN  \n",
              "3  3.914284e+10  0.000000e+00        760        760         same  \n",
              "4  2.574488e+10  1.507269e+10        437        385         same  \n",
              "\n",
              "[5 rows x 58 columns]"
            ],
            "text/html": [
              "\n",
              "  <div id=\"df-217963e8-6fb3-4fc3-993f-7aa2e252e23f\">\n",
              "    <div class=\"colab-df-container\">\n",
              "      <div>\n",
              "<style scoped>\n",
              "    .dataframe tbody tr th:only-of-type {\n",
              "        vertical-align: middle;\n",
              "    }\n",
              "\n",
              "    .dataframe tbody tr th {\n",
              "        vertical-align: top;\n",
              "    }\n",
              "\n",
              "    .dataframe thead th {\n",
              "        text-align: right;\n",
              "    }\n",
              "</style>\n",
              "<table border=\"1\" class=\"dataframe\">\n",
              "  <thead>\n",
              "    <tr style=\"text-align: right;\">\n",
              "      <th></th>\n",
              "      <th>inst_id</th>\n",
              "      <th>OC</th>\n",
              "      <th>sido</th>\n",
              "      <th>sgg</th>\n",
              "      <th>openDate</th>\n",
              "      <th>bedCount</th>\n",
              "      <th>instkind</th>\n",
              "      <th>revenue1</th>\n",
              "      <th>salescost1</th>\n",
              "      <th>sga1</th>\n",
              "      <th>...</th>\n",
              "      <th>debt2</th>\n",
              "      <th>liquidLiabilities2</th>\n",
              "      <th>shortLoan2</th>\n",
              "      <th>NCLiabilities2</th>\n",
              "      <th>longLoan2</th>\n",
              "      <th>netAsset2</th>\n",
              "      <th>surplus2</th>\n",
              "      <th>employee1</th>\n",
              "      <th>employee2</th>\n",
              "      <th>ownerChange</th>\n",
              "    </tr>\n",
              "  </thead>\n",
              "  <tbody>\n",
              "    <tr>\n",
              "      <th>0</th>\n",
              "      <td>2</td>\n",
              "      <td>NaN</td>\n",
              "      <td>incheon</td>\n",
              "      <td>139</td>\n",
              "      <td>19981125.0</td>\n",
              "      <td>300.0</td>\n",
              "      <td>general_hospital</td>\n",
              "      <td>6.682486e+10</td>\n",
              "      <td>0.000000e+00</td>\n",
              "      <td>6.565709e+10</td>\n",
              "      <td>...</td>\n",
              "      <td>5.540643e+10</td>\n",
              "      <td>5.068443e+10</td>\n",
              "      <td>3.714334e+10</td>\n",
              "      <td>4.720000e+09</td>\n",
              "      <td>4.690000e+09</td>\n",
              "      <td>1.608540e+10</td>\n",
              "      <td>8.944587e+09</td>\n",
              "      <td>693</td>\n",
              "      <td>693</td>\n",
              "      <td>same</td>\n",
              "    </tr>\n",
              "    <tr>\n",
              "      <th>1</th>\n",
              "      <td>5</td>\n",
              "      <td>NaN</td>\n",
              "      <td>jeju</td>\n",
              "      <td>149</td>\n",
              "      <td>20160309.0</td>\n",
              "      <td>44.0</td>\n",
              "      <td>hospital</td>\n",
              "      <td>3.495758e+10</td>\n",
              "      <td>0.000000e+00</td>\n",
              "      <td>3.259270e+10</td>\n",
              "      <td>...</td>\n",
              "      <td>6.730838e+10</td>\n",
              "      <td>4.209828e+10</td>\n",
              "      <td>2.420000e+10</td>\n",
              "      <td>2.521009e+10</td>\n",
              "      <td>1.830000e+10</td>\n",
              "      <td>3.789135e+09</td>\n",
              "      <td>0.000000e+00</td>\n",
              "      <td>379</td>\n",
              "      <td>371</td>\n",
              "      <td>same</td>\n",
              "    </tr>\n",
              "    <tr>\n",
              "      <th>2</th>\n",
              "      <td>6</td>\n",
              "      <td>NaN</td>\n",
              "      <td>jeonnam</td>\n",
              "      <td>103</td>\n",
              "      <td>19890427.0</td>\n",
              "      <td>276.0</td>\n",
              "      <td>general_hospital</td>\n",
              "      <td>2.326031e+10</td>\n",
              "      <td>2.542571e+09</td>\n",
              "      <td>2.308749e+10</td>\n",
              "      <td>...</td>\n",
              "      <td>0.000000e+00</td>\n",
              "      <td>2.777589e+10</td>\n",
              "      <td>2.182278e+10</td>\n",
              "      <td>0.000000e+00</td>\n",
              "      <td>0.000000e+00</td>\n",
              "      <td>0.000000e+00</td>\n",
              "      <td>1.638540e+10</td>\n",
              "      <td>NaN</td>\n",
              "      <td>NaN</td>\n",
              "      <td>NaN</td>\n",
              "    </tr>\n",
              "    <tr>\n",
              "      <th>3</th>\n",
              "      <td>8</td>\n",
              "      <td>NaN</td>\n",
              "      <td>busan</td>\n",
              "      <td>71</td>\n",
              "      <td>20100226.0</td>\n",
              "      <td>363.0</td>\n",
              "      <td>general_hospital</td>\n",
              "      <td>0.000000e+00</td>\n",
              "      <td>0.000000e+00</td>\n",
              "      <td>0.000000e+00</td>\n",
              "      <td>...</td>\n",
              "      <td>1.211517e+10</td>\n",
              "      <td>9.556237e+09</td>\n",
              "      <td>4.251867e+09</td>\n",
              "      <td>2.558931e+09</td>\n",
              "      <td>0.000000e+00</td>\n",
              "      <td>3.914284e+10</td>\n",
              "      <td>0.000000e+00</td>\n",
              "      <td>760</td>\n",
              "      <td>760</td>\n",
              "      <td>same</td>\n",
              "    </tr>\n",
              "    <tr>\n",
              "      <th>4</th>\n",
              "      <td>10</td>\n",
              "      <td>NaN</td>\n",
              "      <td>jeonbuk</td>\n",
              "      <td>26</td>\n",
              "      <td>20040604.0</td>\n",
              "      <td>213.0</td>\n",
              "      <td>general_hospital</td>\n",
              "      <td>5.037025e+10</td>\n",
              "      <td>0.000000e+00</td>\n",
              "      <td>4.855803e+10</td>\n",
              "      <td>...</td>\n",
              "      <td>4.395973e+10</td>\n",
              "      <td>7.535567e+09</td>\n",
              "      <td>3.298427e+09</td>\n",
              "      <td>3.642417e+10</td>\n",
              "      <td>2.134712e+10</td>\n",
              "      <td>2.574488e+10</td>\n",
              "      <td>1.507269e+10</td>\n",
              "      <td>437</td>\n",
              "      <td>385</td>\n",
              "      <td>same</td>\n",
              "    </tr>\n",
              "  </tbody>\n",
              "</table>\n",
              "<p>5 rows × 58 columns</p>\n",
              "</div>\n",
              "      <button class=\"colab-df-convert\" onclick=\"convertToInteractive('df-217963e8-6fb3-4fc3-993f-7aa2e252e23f')\"\n",
              "              title=\"Convert this dataframe to an interactive table.\"\n",
              "              style=\"display:none;\">\n",
              "        \n",
              "  <svg xmlns=\"http://www.w3.org/2000/svg\" height=\"24px\"viewBox=\"0 0 24 24\"\n",
              "       width=\"24px\">\n",
              "    <path d=\"M0 0h24v24H0V0z\" fill=\"none\"/>\n",
              "    <path d=\"M18.56 5.44l.94 2.06.94-2.06 2.06-.94-2.06-.94-.94-2.06-.94 2.06-2.06.94zm-11 1L8.5 8.5l.94-2.06 2.06-.94-2.06-.94L8.5 2.5l-.94 2.06-2.06.94zm10 10l.94 2.06.94-2.06 2.06-.94-2.06-.94-.94-2.06-.94 2.06-2.06.94z\"/><path d=\"M17.41 7.96l-1.37-1.37c-.4-.4-.92-.59-1.43-.59-.52 0-1.04.2-1.43.59L10.3 9.45l-7.72 7.72c-.78.78-.78 2.05 0 2.83L4 21.41c.39.39.9.59 1.41.59.51 0 1.02-.2 1.41-.59l7.78-7.78 2.81-2.81c.8-.78.8-2.07 0-2.86zM5.41 20L4 18.59l7.72-7.72 1.47 1.35L5.41 20z\"/>\n",
              "  </svg>\n",
              "      </button>\n",
              "      \n",
              "  <style>\n",
              "    .colab-df-container {\n",
              "      display:flex;\n",
              "      flex-wrap:wrap;\n",
              "      gap: 12px;\n",
              "    }\n",
              "\n",
              "    .colab-df-convert {\n",
              "      background-color: #E8F0FE;\n",
              "      border: none;\n",
              "      border-radius: 50%;\n",
              "      cursor: pointer;\n",
              "      display: none;\n",
              "      fill: #1967D2;\n",
              "      height: 32px;\n",
              "      padding: 0 0 0 0;\n",
              "      width: 32px;\n",
              "    }\n",
              "\n",
              "    .colab-df-convert:hover {\n",
              "      background-color: #E2EBFA;\n",
              "      box-shadow: 0px 1px 2px rgba(60, 64, 67, 0.3), 0px 1px 3px 1px rgba(60, 64, 67, 0.15);\n",
              "      fill: #174EA6;\n",
              "    }\n",
              "\n",
              "    [theme=dark] .colab-df-convert {\n",
              "      background-color: #3B4455;\n",
              "      fill: #D2E3FC;\n",
              "    }\n",
              "\n",
              "    [theme=dark] .colab-df-convert:hover {\n",
              "      background-color: #434B5C;\n",
              "      box-shadow: 0px 1px 3px 1px rgba(0, 0, 0, 0.15);\n",
              "      filter: drop-shadow(0px 1px 2px rgba(0, 0, 0, 0.3));\n",
              "      fill: #FFFFFF;\n",
              "    }\n",
              "  </style>\n",
              "\n",
              "      <script>\n",
              "        const buttonEl =\n",
              "          document.querySelector('#df-217963e8-6fb3-4fc3-993f-7aa2e252e23f button.colab-df-convert');\n",
              "        buttonEl.style.display =\n",
              "          google.colab.kernel.accessAllowed ? 'block' : 'none';\n",
              "\n",
              "        async function convertToInteractive(key) {\n",
              "          const element = document.querySelector('#df-217963e8-6fb3-4fc3-993f-7aa2e252e23f');\n",
              "          const dataTable =\n",
              "            await google.colab.kernel.invokeFunction('convertToInteractive',\n",
              "                                                     [key], {});\n",
              "          if (!dataTable) return;\n",
              "\n",
              "          const docLinkHtml = 'Like what you see? Visit the ' +\n",
              "            '<a target=\"_blank\" href=https://colab.research.google.com/notebooks/data_table.ipynb>data table notebook</a>'\n",
              "            + ' to learn more about interactive tables.';\n",
              "          element.innerHTML = '';\n",
              "          dataTable['output_type'] = 'display_data';\n",
              "          await google.colab.output.renderOutput(dataTable, element);\n",
              "          const docLink = document.createElement('div');\n",
              "          docLink.innerHTML = docLinkHtml;\n",
              "          element.appendChild(docLink);\n",
              "        }\n",
              "      </script>\n",
              "    </div>\n",
              "  </div>\n",
              "  "
            ]
          },
          "metadata": {},
          "execution_count": 4
        }
      ],
      "source": [
        "test.head()"
      ]
    },
    {
      "cell_type": "code",
      "execution_count": 5,
      "metadata": {
        "colab": {
          "base_uri": "https://localhost:8080/"
        },
        "id": "0tFGGpqpF4Vu",
        "outputId": "c6bd1eee-2689-44a3-fd5b-7ababa0270ba"
      },
      "outputs": [
        {
          "output_type": "execute_result",
          "data": {
            "text/plain": [
              "(301, 58)"
            ]
          },
          "metadata": {},
          "execution_count": 5
        }
      ],
      "source": [
        "train.shape"
      ]
    },
    {
      "cell_type": "code",
      "execution_count": 6,
      "metadata": {
        "colab": {
          "base_uri": "https://localhost:8080/"
        },
        "id": "na0m0ypq-Jvn",
        "outputId": "885a82e7-e269-437d-ae1b-ad0a17710373"
      },
      "outputs": [
        {
          "output_type": "stream",
          "name": "stdout",
          "text": [
            "<class 'pandas.core.frame.DataFrame'>\n",
            "RangeIndex: 127 entries, 0 to 126\n",
            "Data columns (total 58 columns):\n",
            " #   Column              Non-Null Count  Dtype  \n",
            "---  ------              --------------  -----  \n",
            " 0   inst_id             127 non-null    int64  \n",
            " 1   OC                  0 non-null      float64\n",
            " 2   sido                127 non-null    object \n",
            " 3   sgg                 127 non-null    int64  \n",
            " 4   openDate            126 non-null    float64\n",
            " 5   bedCount            119 non-null    float64\n",
            " 6   instkind            125 non-null    object \n",
            " 7   revenue1            125 non-null    float64\n",
            " 8   salescost1          125 non-null    float64\n",
            " 9   sga1                125 non-null    float64\n",
            " 10  salary1             125 non-null    float64\n",
            " 11  noi1                125 non-null    float64\n",
            " 12  noe1                125 non-null    float64\n",
            " 13  interest1           125 non-null    float64\n",
            " 14  ctax1               125 non-null    float64\n",
            " 15  profit1             125 non-null    float64\n",
            " 16  liquidAsset1        125 non-null    float64\n",
            " 17  quickAsset1         125 non-null    float64\n",
            " 18  receivableS1        125 non-null    float64\n",
            " 19  inventoryAsset1     125 non-null    float64\n",
            " 20  nonCAsset1          125 non-null    float64\n",
            " 21  tanAsset1           125 non-null    float64\n",
            " 22  OnonCAsset1         125 non-null    float64\n",
            " 23  receivableL1        125 non-null    float64\n",
            " 24  debt1               125 non-null    float64\n",
            " 25  liquidLiabilities1  125 non-null    float64\n",
            " 26  shortLoan1          125 non-null    float64\n",
            " 27  NCLiabilities1      125 non-null    float64\n",
            " 28  longLoan1           125 non-null    float64\n",
            " 29  netAsset1           125 non-null    float64\n",
            " 30  surplus1            125 non-null    float64\n",
            " 31  revenue2            125 non-null    float64\n",
            " 32  salescost2          125 non-null    float64\n",
            " 33  sga2                125 non-null    float64\n",
            " 34  salary2             125 non-null    float64\n",
            " 35  noi2                125 non-null    float64\n",
            " 36  noe2                125 non-null    float64\n",
            " 37  interest2           125 non-null    float64\n",
            " 38  ctax2               125 non-null    float64\n",
            " 39  profit2             125 non-null    float64\n",
            " 40  liquidAsset2        125 non-null    float64\n",
            " 41  quickAsset2         125 non-null    float64\n",
            " 42  receivableS2        125 non-null    float64\n",
            " 43  inventoryAsset2     125 non-null    float64\n",
            " 44  nonCAsset2          125 non-null    float64\n",
            " 45  tanAsset2           125 non-null    float64\n",
            " 46  OnonCAsset2         125 non-null    float64\n",
            " 47  receivableL2        125 non-null    float64\n",
            " 48  debt2               125 non-null    float64\n",
            " 49  liquidLiabilities2  125 non-null    float64\n",
            " 50  shortLoan2          125 non-null    float64\n",
            " 51  NCLiabilities2      125 non-null    float64\n",
            " 52  longLoan2           125 non-null    float64\n",
            " 53  netAsset2           125 non-null    float64\n",
            " 54  surplus2            125 non-null    float64\n",
            " 55  employee1           119 non-null    object \n",
            " 56  employee2           112 non-null    object \n",
            " 57  ownerChange         112 non-null    object \n",
            "dtypes: float64(51), int64(2), object(5)\n",
            "memory usage: 57.7+ KB\n"
          ]
        }
      ],
      "source": [
        "test.info()"
      ]
    },
    {
      "cell_type": "code",
      "execution_count": 7,
      "metadata": {
        "colab": {
          "base_uri": "https://localhost:8080/"
        },
        "id": "dzWzT8yXF71w",
        "outputId": "e6a4e302-0113-494a-9229-e2d05b4232eb"
      },
      "outputs": [
        {
          "output_type": "stream",
          "name": "stdout",
          "text": [
            "<class 'pandas.core.frame.DataFrame'>\n",
            "RangeIndex: 301 entries, 0 to 300\n",
            "Data columns (total 58 columns):\n",
            " #   Column              Non-Null Count  Dtype  \n",
            "---  ------              --------------  -----  \n",
            " 0   inst_id             301 non-null    int64  \n",
            " 1   OC                  301 non-null    object \n",
            " 2   sido                301 non-null    object \n",
            " 3   sgg                 301 non-null    int64  \n",
            " 4   openDate            301 non-null    int64  \n",
            " 5   bedCount            296 non-null    float64\n",
            " 6   instkind            300 non-null    object \n",
            " 7   revenue1            293 non-null    float64\n",
            " 8   salescost1          293 non-null    float64\n",
            " 9   sga1                293 non-null    float64\n",
            " 10  salary1             293 non-null    float64\n",
            " 11  noi1                293 non-null    float64\n",
            " 12  noe1                293 non-null    float64\n",
            " 13  interest1           293 non-null    float64\n",
            " 14  ctax1               293 non-null    float64\n",
            " 15  profit1             293 non-null    float64\n",
            " 16  liquidAsset1        293 non-null    float64\n",
            " 17  quickAsset1         293 non-null    float64\n",
            " 18  receivableS1        293 non-null    float64\n",
            " 19  inventoryAsset1     293 non-null    float64\n",
            " 20  nonCAsset1          293 non-null    float64\n",
            " 21  tanAsset1           293 non-null    float64\n",
            " 22  OnonCAsset1         293 non-null    float64\n",
            " 23  receivableL1        293 non-null    float64\n",
            " 24  debt1               293 non-null    float64\n",
            " 25  liquidLiabilities1  293 non-null    float64\n",
            " 26  shortLoan1          293 non-null    float64\n",
            " 27  NCLiabilities1      293 non-null    float64\n",
            " 28  longLoan1           293 non-null    float64\n",
            " 29  netAsset1           293 non-null    float64\n",
            " 30  surplus1            293 non-null    float64\n",
            " 31  revenue2            293 non-null    float64\n",
            " 32  salescost2          293 non-null    float64\n",
            " 33  sga2                293 non-null    float64\n",
            " 34  salary2             293 non-null    float64\n",
            " 35  noi2                293 non-null    float64\n",
            " 36  noe2                293 non-null    float64\n",
            " 37  interest2           293 non-null    float64\n",
            " 38  ctax2               293 non-null    float64\n",
            " 39  profit2             293 non-null    float64\n",
            " 40  liquidAsset2        293 non-null    float64\n",
            " 41  quickAsset2         293 non-null    float64\n",
            " 42  receivableS2        293 non-null    float64\n",
            " 43  inventoryAsset2     293 non-null    float64\n",
            " 44  nonCAsset2          293 non-null    float64\n",
            " 45  tanAsset2           293 non-null    float64\n",
            " 46  OnonCAsset2         293 non-null    float64\n",
            " 47  receivableL2        293 non-null    float64\n",
            " 48  debt2               293 non-null    float64\n",
            " 49  liquidLiabilities2  293 non-null    float64\n",
            " 50  shortLoan2          293 non-null    float64\n",
            " 51  NCLiabilities2      293 non-null    float64\n",
            " 52  longLoan2           293 non-null    float64\n",
            " 53  netAsset2           293 non-null    float64\n",
            " 54  surplus2            293 non-null    float64\n",
            " 55  employee1           291 non-null    float64\n",
            " 56  employee2           288 non-null    float64\n",
            " 57  ownerChange         289 non-null    object \n",
            "dtypes: float64(51), int64(3), object(4)\n",
            "memory usage: 136.5+ KB\n"
          ]
        }
      ],
      "source": [
        "train.info()"
      ]
    },
    {
      "cell_type": "code",
      "execution_count": 8,
      "metadata": {
        "colab": {
          "base_uri": "https://localhost:8080/"
        },
        "id": "HVZ3J-4DGEyS",
        "outputId": "4f9d4d90-d918-4c3b-a762-cb19d5fd2172"
      },
      "outputs": [
        {
          "output_type": "execute_result",
          "data": {
            "text/plain": [
              "inst_id                0\n",
              "OC                     0\n",
              "sido                   0\n",
              "sgg                    0\n",
              "openDate               0\n",
              "bedCount               5\n",
              "instkind               1\n",
              "revenue1               8\n",
              "salescost1             8\n",
              "sga1                   8\n",
              "salary1                8\n",
              "noi1                   8\n",
              "noe1                   8\n",
              "interest1              8\n",
              "ctax1                  8\n",
              "profit1                8\n",
              "liquidAsset1           8\n",
              "quickAsset1            8\n",
              "receivableS1           8\n",
              "inventoryAsset1        8\n",
              "nonCAsset1             8\n",
              "tanAsset1              8\n",
              "OnonCAsset1            8\n",
              "receivableL1           8\n",
              "debt1                  8\n",
              "liquidLiabilities1     8\n",
              "shortLoan1             8\n",
              "NCLiabilities1         8\n",
              "longLoan1              8\n",
              "netAsset1              8\n",
              "surplus1               8\n",
              "revenue2               8\n",
              "salescost2             8\n",
              "sga2                   8\n",
              "salary2                8\n",
              "noi2                   8\n",
              "noe2                   8\n",
              "interest2              8\n",
              "ctax2                  8\n",
              "profit2                8\n",
              "liquidAsset2           8\n",
              "quickAsset2            8\n",
              "receivableS2           8\n",
              "inventoryAsset2        8\n",
              "nonCAsset2             8\n",
              "tanAsset2              8\n",
              "OnonCAsset2            8\n",
              "receivableL2           8\n",
              "debt2                  8\n",
              "liquidLiabilities2     8\n",
              "shortLoan2             8\n",
              "NCLiabilities2         8\n",
              "longLoan2              8\n",
              "netAsset2              8\n",
              "surplus2               8\n",
              "employee1             10\n",
              "employee2             13\n",
              "ownerChange           12\n",
              "dtype: int64"
            ]
          },
          "metadata": {},
          "execution_count": 8
        }
      ],
      "source": [
        "train.isna().sum()"
      ]
    },
    {
      "cell_type": "code",
      "execution_count": 9,
      "metadata": {
        "colab": {
          "base_uri": "https://localhost:8080/"
        },
        "id": "sNHK8WLcG6xd",
        "outputId": "46bf34d4-8bf2-4297-b46d-4ee8afd08739"
      },
      "outputs": [
        {
          "output_type": "execute_result",
          "data": {
            "text/plain": [
              "(277, 58)"
            ]
          },
          "metadata": {},
          "execution_count": 9
        }
      ],
      "source": [
        "train2=train\n",
        "train2=train2.dropna(axis=0)\n",
        "train2.shape"
      ]
    },
    {
      "cell_type": "code",
      "execution_count": 10,
      "metadata": {
        "colab": {
          "base_uri": "https://localhost:8080/",
          "height": 1000
        },
        "id": "JurwogZptQ_q",
        "outputId": "fa00a47a-da88-4cb9-c404-1a5a6c725187"
      },
      "outputs": [
        {
          "output_type": "display_data",
          "data": {
            "text/plain": [
              "<Figure size 1440x1440 with 56 Axes>"
            ],
            "image/png": "[encoded data removed]"
          },
          "metadata": {
            "needs_background": "light"
          }
        }
      ],
      "source": [
        "train.hist(bins = 50, figsize = (20,20))\n",
        "plt.show()"
      ]
    },
    {
      "cell_type": "code",
      "execution_count": 11,
      "metadata": {
        "colab": {
          "base_uri": "https://localhost:8080/",
          "height": 1000
        },
        "id": "TACgcJd9tQ_r",
        "outputId": "b7368d6f-f22c-4a7d-a3ed-3243725f8ab0"
      },
      "outputs": [
        {
          "output_type": "display_data",
          "data": {
            "text/plain": [
              "<Figure size 1440x1440 with 56 Axes>"
            ],
            "image/png": "[encoded data removed]"
          },
          "metadata": {
            "needs_background": "light"
          }
        }
      ],
      "source": [
        "test.hist(bins = 50, figsize = (20,20))\n",
        "plt.show()"
      ]
    },
    {
      "cell_type": "markdown",
      "metadata": {
        "id": "5ezeCuS_g1oa"
      },
      "source": [
        "# 2.Data Preprocessing"
      ]
    },
    {
      "cell_type": "markdown",
      "source": [
        "## 1)TRAIN, TEST openDate 형식 바꾸기"
      ],
      "metadata": {
        "id": "C4sJ2C7lBwr_"
      }
    },
    {
      "cell_type": "markdown",
      "source": [
        "- train 데이터셋에서 openDate 형식 바꾸기"
      ],
      "metadata": {
        "id": "sfu9L0pWnGjb"
      }
    },
    {
      "cell_type": "code",
      "execution_count": 12,
      "metadata": {
        "colab": {
          "base_uri": "https://localhost:8080/"
        },
        "id": "kMY85k63-uyo",
        "outputId": "4e910dee-0446-479e-a758-09db79431bcd"
      },
      "outputs": [
        {
          "output_type": "stream",
          "name": "stderr",
          "text": [
            "/usr/local/lib/python3.7/dist-packages/ipykernel_launcher.py:3: SettingWithCopyWarning: \n",
            "A value is trying to be set on a copy of a slice from a DataFrame\n",
            "\n",
            "See the caveats in the documentation: https://pandas.pydata.org/pandas-docs/stable/user_guide/indexing.html#returning-a-view-versus-a-copy\n",
            "  This is separate from the ipykernel package so we can avoid doing imports until\n"
          ]
        },
        {
          "output_type": "execute_result",
          "data": {
            "text/plain": [
              "0      2007\n",
              "1      1997\n",
              "2      2016\n",
              "3      2000\n",
              "4      2005\n",
              "       ... \n",
              "296    2005\n",
              "297    2014\n",
              "298    1983\n",
              "299    2007\n",
              "300    2001\n",
              "Name: openDate, Length: 301, dtype: int64"
            ]
          },
          "metadata": {},
          "execution_count": 12
        }
      ],
      "source": [
        "# train 에서 openDate 년도로만 바꾸기\n",
        "for i in range(0,len(train['openDate'])):\n",
        "  train['openDate'][i] = train['openDate'][i]/10000\n",
        "\n",
        "train['openDate'] # 년도로 바뀐거 확인"
      ]
    },
    {
      "cell_type": "code",
      "execution_count": 13,
      "metadata": {
        "colab": {
          "base_uri": "https://localhost:8080/",
          "height": 300
        },
        "id": "m1vROgVnA1XY",
        "outputId": "cf255d08-a737-4a87-b1e3-562270168979"
      },
      "outputs": [
        {
          "output_type": "execute_result",
          "data": {
            "text/plain": [
              "   inst_id    OC       sido  sgg  openDate  bedCount          instkind  \\\n",
              "0        1  open  choongnam   73      2007     175.0  nursing_hospital   \n",
              "1        3  open  gyeongnam   32      1997     410.0  general_hospital   \n",
              "2        4  open   gyeonggi   89      2016     468.0  nursing_hospital   \n",
              "3        7  open    incheon  141      2000     353.0  general_hospital   \n",
              "4        9  open  gyeongnam   32      2005     196.0  general_hospital   \n",
              "\n",
              "       revenue1   salescost1          sga1  ...         debt2  \\\n",
              "0  4.217530e+09          0.0  3.961135e+09  ...  7.589937e+08   \n",
              "1           NaN          NaN           NaN  ...           NaN   \n",
              "2  1.004522e+09  515483669.0  4.472197e+08  ...  0.000000e+00   \n",
              "3  7.250734e+10          0.0  7.067740e+10  ...  3.775501e+10   \n",
              "4  4.904354e+10          0.0  4.765605e+10  ...  5.143259e+10   \n",
              "\n",
              "   liquidLiabilities2    shortLoan2  NCLiabilities2     longLoan2  \\\n",
              "0        2.228769e+08  0.000000e+00    5.361169e+08  3.900000e+08   \n",
              "1                 NaN           NaN             NaN           NaN   \n",
              "2        0.000000e+00  0.000000e+00    0.000000e+00  0.000000e+00   \n",
              "3        1.701860e+10  9.219427e+09    2.073641e+10  1.510000e+10   \n",
              "4        3.007259e+10  1.759375e+10    2.136001e+10  1.410803e+10   \n",
              "\n",
              "      netAsset2      surplus2  employee1  employee2  ownerChange  \n",
              "0  2.619290e+09  1.271224e+09       62.0       64.0         same  \n",
              "1           NaN           NaN      801.0      813.0         same  \n",
              "2  0.000000e+00  0.000000e+00      234.0        1.0         same  \n",
              "3  1.295427e+10  7.740829e+09      663.0      663.0         same  \n",
              "4  5.561941e+06  9.025550e+09      206.0      197.0         same  \n",
              "\n",
              "[5 rows x 58 columns]"
            ],
            "text/html": [
              "\n",
              "  <div id=\"df-cc13fe4c-e1fe-4023-9f01-39767f0178a7\">\n",
              "    <div class=\"colab-df-container\">\n",
              "      <div>\n",
              "<style scoped>\n",
              "    .dataframe tbody tr th:only-of-type {\n",
              "        vertical-align: middle;\n",
              "    }\n",
              "\n",
              "    .dataframe tbody tr th {\n",
              "        vertical-align: top;\n",
              "    }\n",
              "\n",
              "    .dataframe thead th {\n",
              "        text-align: right;\n",
              "    }\n",
              "</style>\n",
              "<table border=\"1\" class=\"dataframe\">\n",
              "  <thead>\n",
              "    <tr style=\"text-align: right;\">\n",
              "      <th></th>\n",
              "      <th>inst_id</th>\n",
              "      <th>OC</th>\n",
              "      <th>sido</th>\n",
              "      <th>sgg</th>\n",
              "      <th>openDate</th>\n",
              "      <th>bedCount</th>\n",
              "      <th>instkind</th>\n",
              "      <th>revenue1</th>\n",
              "      <th>salescost1</th>\n",
              "      <th>sga1</th>\n",
              "      <th>...</th>\n",
              "      <th>debt2</th>\n",
              "      <th>liquidLiabilities2</th>\n",
              "      <th>shortLoan2</th>\n",
              "      <th>NCLiabilities2</th>\n",
              "      <th>longLoan2</th>\n",
              "      <th>netAsset2</th>\n",
              "      <th>surplus2</th>\n",
              "      <th>employee1</th>\n",
              "      <th>employee2</th>\n",
              "      <th>ownerChange</th>\n",
              "    </tr>\n",
              "  </thead>\n",
              "  <tbody>\n",
              "    <tr>\n",
              "      <th>0</th>\n",
              "      <td>1</td>\n",
              "      <td>open</td>\n",
              "      <td>choongnam</td>\n",
              "      <td>73</td>\n",
              "      <td>2007</td>\n",
              "      <td>175.0</td>\n",
              "      <td>nursing_hospital</td>\n",
              "      <td>4.217530e+09</td>\n",
              "      <td>0.0</td>\n",
              "      <td>3.961135e+09</td>\n",
              "      <td>...</td>\n",
              "      <td>7.589937e+08</td>\n",
              "      <td>2.228769e+08</td>\n",
              "      <td>0.000000e+00</td>\n",
              "      <td>5.361169e+08</td>\n",
              "      <td>3.900000e+08</td>\n",
              "      <td>2.619290e+09</td>\n",
              "      <td>1.271224e+09</td>\n",
              "      <td>62.0</td>\n",
              "      <td>64.0</td>\n",
              "      <td>same</td>\n",
              "    </tr>\n",
              "    <tr>\n",
              "      <th>1</th>\n",
              "      <td>3</td>\n",
              "      <td>open</td>\n",
              "      <td>gyeongnam</td>\n",
              "      <td>32</td>\n",
              "      <td>1997</td>\n",
              "      <td>410.0</td>\n",
              "      <td>general_hospital</td>\n",
              "      <td>NaN</td>\n",
              "      <td>NaN</td>\n",
              "      <td>NaN</td>\n",
              "      <td>...</td>\n",
              "      <td>NaN</td>\n",
              "      <td>NaN</td>\n",
              "      <td>NaN</td>\n",
              "      <td>NaN</td>\n",
              "      <td>NaN</td>\n",
              "      <td>NaN</td>\n",
              "      <td>NaN</td>\n",
              "      <td>801.0</td>\n",
              "      <td>813.0</td>\n",
              "      <td>same</td>\n",
              "    </tr>\n",
              "    <tr>\n",
              "      <th>2</th>\n",
              "      <td>4</td>\n",
              "      <td>open</td>\n",
              "      <td>gyeonggi</td>\n",
              "      <td>89</td>\n",
              "      <td>2016</td>\n",
              "      <td>468.0</td>\n",
              "      <td>nursing_hospital</td>\n",
              "      <td>1.004522e+09</td>\n",
              "      <td>515483669.0</td>\n",
              "      <td>4.472197e+08</td>\n",
              "      <td>...</td>\n",
              "      <td>0.000000e+00</td>\n",
              "      <td>0.000000e+00</td>\n",
              "      <td>0.000000e+00</td>\n",
              "      <td>0.000000e+00</td>\n",
              "      <td>0.000000e+00</td>\n",
              "      <td>0.000000e+00</td>\n",
              "      <td>0.000000e+00</td>\n",
              "      <td>234.0</td>\n",
              "      <td>1.0</td>\n",
              "      <td>same</td>\n",
              "    </tr>\n",
              "    <tr>\n",
              "      <th>3</th>\n",
              "      <td>7</td>\n",
              "      <td>open</td>\n",
              "      <td>incheon</td>\n",
              "      <td>141</td>\n",
              "      <td>2000</td>\n",
              "      <td>353.0</td>\n",
              "      <td>general_hospital</td>\n",
              "      <td>7.250734e+10</td>\n",
              "      <td>0.0</td>\n",
              "      <td>7.067740e+10</td>\n",
              "      <td>...</td>\n",
              "      <td>3.775501e+10</td>\n",
              "      <td>1.701860e+10</td>\n",
              "      <td>9.219427e+09</td>\n",
              "      <td>2.073641e+10</td>\n",
              "      <td>1.510000e+10</td>\n",
              "      <td>1.295427e+10</td>\n",
              "      <td>7.740829e+09</td>\n",
              "      <td>663.0</td>\n",
              "      <td>663.0</td>\n",
              "      <td>same</td>\n",
              "    </tr>\n",
              "    <tr>\n",
              "      <th>4</th>\n",
              "      <td>9</td>\n",
              "      <td>open</td>\n",
              "      <td>gyeongnam</td>\n",
              "      <td>32</td>\n",
              "      <td>2005</td>\n",
              "      <td>196.0</td>\n",
              "      <td>general_hospital</td>\n",
              "      <td>4.904354e+10</td>\n",
              "      <td>0.0</td>\n",
              "      <td>4.765605e+10</td>\n",
              "      <td>...</td>\n",
              "      <td>5.143259e+10</td>\n",
              "      <td>3.007259e+10</td>\n",
              "      <td>1.759375e+10</td>\n",
              "      <td>2.136001e+10</td>\n",
              "      <td>1.410803e+10</td>\n",
              "      <td>5.561941e+06</td>\n",
              "      <td>9.025550e+09</td>\n",
              "      <td>206.0</td>\n",
              "      <td>197.0</td>\n",
              "      <td>same</td>\n",
              "    </tr>\n",
              "  </tbody>\n",
              "</table>\n",
              "<p>5 rows × 58 columns</p>\n",
              "</div>\n",
              "      <button class=\"colab-df-convert\" onclick=\"convertToInteractive('df-cc13fe4c-e1fe-4023-9f01-39767f0178a7')\"\n",
              "              title=\"Convert this dataframe to an interactive table.\"\n",
              "              style=\"display:none;\">\n",
              "        \n",
              "  <svg xmlns=\"http://www.w3.org/2000/svg\" height=\"24px\"viewBox=\"0 0 24 24\"\n",
              "       width=\"24px\">\n",
              "    <path d=\"M0 0h24v24H0V0z\" fill=\"none\"/>\n",
              "    <path d=\"M18.56 5.44l.94 2.06.94-2.06 2.06-.94-2.06-.94-.94-2.06-.94 2.06-2.06.94zm-11 1L8.5 8.5l.94-2.06 2.06-.94-2.06-.94L8.5 2.5l-.94 2.06-2.06.94zm10 10l.94 2.06.94-2.06 2.06-.94-2.06-.94-.94-2.06-.94 2.06-2.06.94z\"/><path d=\"M17.41 7.96l-1.37-1.37c-.4-.4-.92-.59-1.43-.59-.52 0-1.04.2-1.43.59L10.3 9.45l-7.72 7.72c-.78.78-.78 2.05 0 2.83L4 21.41c.39.39.9.59 1.41.59.51 0 1.02-.2 1.41-.59l7.78-7.78 2.81-2.81c.8-.78.8-2.07 0-2.86zM5.41 20L4 18.59l7.72-7.72 1.47 1.35L5.41 20z\"/>\n",
              "  </svg>\n",
              "      </button>\n",
              "      \n",
              "  <style>\n",
              "    .colab-df-container {\n",
              "      display:flex;\n",
              "      flex-wrap:wrap;\n",
              "      gap: 12px;\n",
              "    }\n",
              "\n",
              "    .colab-df-convert {\n",
              "      background-color: #E8F0FE;\n",
              "      border: none;\n",
              "      border-radius: 50%;\n",
              "      cursor: pointer;\n",
              "      display: none;\n",
              "      fill: #1967D2;\n",
              "      height: 32px;\n",
              "      padding: 0 0 0 0;\n",
              "      width: 32px;\n",
              "    }\n",
              "\n",
              "    .colab-df-convert:hover {\n",
              "      background-color: #E2EBFA;\n",
              "      box-shadow: 0px 1px 2px rgba(60, 64, 67, 0.3), 0px 1px 3px 1px rgba(60, 64, 67, 0.15);\n",
              "      fill: #174EA6;\n",
              "    }\n",
              "\n",
              "    [theme=dark] .colab-df-convert {\n",
              "      background-color: #3B4455;\n",
              "      fill: #D2E3FC;\n",
              "    }\n",
              "\n",
              "    [theme=dark] .colab-df-convert:hover {\n",
              "      background-color: #434B5C;\n",
              "      box-shadow: 0px 1px 3px 1px rgba(0, 0, 0, 0.15);\n",
              "      filter: drop-shadow(0px 1px 2px rgba(0, 0, 0, 0.3));\n",
              "      fill: #FFFFFF;\n",
              "    }\n",
              "  </style>\n",
              "\n",
              "      <script>\n",
              "        const buttonEl =\n",
              "          document.querySelector('#df-cc13fe4c-e1fe-4023-9f01-39767f0178a7 button.colab-df-convert');\n",
              "        buttonEl.style.display =\n",
              "          google.colab.kernel.accessAllowed ? 'block' : 'none';\n",
              "\n",
              "        async function convertToInteractive(key) {\n",
              "          const element = document.querySelector('#df-cc13fe4c-e1fe-4023-9f01-39767f0178a7');\n",
              "          const dataTable =\n",
              "            await google.colab.kernel.invokeFunction('convertToInteractive',\n",
              "                                                     [key], {});\n",
              "          if (!dataTable) return;\n",
              "\n",
              "          const docLinkHtml = 'Like what you see? Visit the ' +\n",
              "            '<a target=\"_blank\" href=https://colab.research.google.com/notebooks/data_table.ipynb>data table notebook</a>'\n",
              "            + ' to learn more about interactive tables.';\n",
              "          element.innerHTML = '';\n",
              "          dataTable['output_type'] = 'display_data';\n",
              "          await google.colab.output.renderOutput(dataTable, element);\n",
              "          const docLink = document.createElement('div');\n",
              "          docLink.innerHTML = docLinkHtml;\n",
              "          element.appendChild(docLink);\n",
              "        }\n",
              "      </script>\n",
              "    </div>\n",
              "  </div>\n",
              "  "
            ]
          },
          "metadata": {},
          "execution_count": 13
        }
      ],
      "source": [
        "train.head()"
      ]
    },
    {
      "cell_type": "markdown",
      "source": [
        "- test 에서 openDate 형식 바꾸기"
      ],
      "metadata": {
        "id": "aMSr2kx2nsQc"
      }
    },
    {
      "cell_type": "code",
      "execution_count": 14,
      "metadata": {
        "colab": {
          "base_uri": "https://localhost:8080/"
        },
        "id": "Tj3zfu38FYrk",
        "outputId": "aa15802f-8358-4db3-e87c-1bc8304da42a"
      },
      "outputs": [
        {
          "output_type": "stream",
          "name": "stderr",
          "text": [
            "/usr/local/lib/python3.7/dist-packages/ipykernel_launcher.py:3: SettingWithCopyWarning: \n",
            "A value is trying to be set on a copy of a slice from a DataFrame\n",
            "\n",
            "See the caveats in the documentation: https://pandas.pydata.org/pandas-docs/stable/user_guide/indexing.html#returning-a-view-versus-a-copy\n",
            "  This is separate from the ipykernel package so we can avoid doing imports until\n"
          ]
        },
        {
          "output_type": "execute_result",
          "data": {
            "text/plain": [
              "0      1998.1125\n",
              "1      2016.0309\n",
              "2      1989.0427\n",
              "3      2010.0226\n",
              "4      2004.0604\n",
              "         ...    \n",
              "122    2001.1012\n",
              "123    2001.0530\n",
              "124    2001.0101\n",
              "125    2001.0201\n",
              "126    1996.1216\n",
              "Name: openDate, Length: 127, dtype: float64"
            ]
          },
          "metadata": {},
          "execution_count": 14
        }
      ],
      "source": [
        "# test 에서 openDate 년도로만 바꾸기\n",
        "for i in range(0,len(test['openDate'])):\n",
        "  test['openDate'][i] = test['openDate'][i]/10000\n",
        "\n",
        "test['openDate'] # 년도로 바뀐거 확인"
      ]
    },
    {
      "cell_type": "code",
      "execution_count": 15,
      "metadata": {
        "id": "IYzTnuWZFysl"
      },
      "outputs": [],
      "source": [
        "# test 데이터 셋 openDate 년도 버림 적용하기\n",
        "test['openDate']=np.trunc(test['openDate'])"
      ]
    },
    {
      "cell_type": "code",
      "execution_count": 16,
      "metadata": {
        "colab": {
          "base_uri": "https://localhost:8080/",
          "height": 300
        },
        "id": "kF8_IUpUA45B",
        "outputId": "54ed9134-8589-4ceb-afdc-db604cf3a53f"
      },
      "outputs": [
        {
          "output_type": "execute_result",
          "data": {
            "text/plain": [
              "   inst_id  OC     sido  sgg  openDate  bedCount          instkind  \\\n",
              "0        2 NaN  incheon  139    1998.0     300.0  general_hospital   \n",
              "1        5 NaN     jeju  149    2016.0      44.0          hospital   \n",
              "2        6 NaN  jeonnam  103    1989.0     276.0  general_hospital   \n",
              "3        8 NaN    busan   71    2010.0     363.0  general_hospital   \n",
              "4       10 NaN  jeonbuk   26    2004.0     213.0  general_hospital   \n",
              "\n",
              "       revenue1    salescost1          sga1  ...         debt2  \\\n",
              "0  6.682486e+10  0.000000e+00  6.565709e+10  ...  5.540643e+10   \n",
              "1  3.495758e+10  0.000000e+00  3.259270e+10  ...  6.730838e+10   \n",
              "2  2.326031e+10  2.542571e+09  2.308749e+10  ...  0.000000e+00   \n",
              "3  0.000000e+00  0.000000e+00  0.000000e+00  ...  1.211517e+10   \n",
              "4  5.037025e+10  0.000000e+00  4.855803e+10  ...  4.395973e+10   \n",
              "\n",
              "   liquidLiabilities2    shortLoan2  NCLiabilities2     longLoan2  \\\n",
              "0        5.068443e+10  3.714334e+10    4.720000e+09  4.690000e+09   \n",
              "1        4.209828e+10  2.420000e+10    2.521009e+10  1.830000e+10   \n",
              "2        2.777589e+10  2.182278e+10    0.000000e+00  0.000000e+00   \n",
              "3        9.556237e+09  4.251867e+09    2.558931e+09  0.000000e+00   \n",
              "4        7.535567e+09  3.298427e+09    3.642417e+10  2.134712e+10   \n",
              "\n",
              "      netAsset2      surplus2  employee1  employee2  ownerChange  \n",
              "0  1.608540e+10  8.944587e+09        693        693         same  \n",
              "1  3.789135e+09  0.000000e+00        379        371         same  \n",
              "2  0.000000e+00  1.638540e+10        NaN        NaN          NaN  \n",
              "3  3.914284e+10  0.000000e+00        760        760         same  \n",
              "4  2.574488e+10  1.507269e+10        437        385         same  \n",
              "\n",
              "[5 rows x 58 columns]"
            ],
            "text/html": [
              "\n",
              "  <div id=\"df-df4621a8-828f-4d85-b406-a3ecf82b8323\">\n",
              "    <div class=\"colab-df-container\">\n",
              "      <div>\n",
              "<style scoped>\n",
              "    .dataframe tbody tr th:only-of-type {\n",
              "        vertical-align: middle;\n",
              "    }\n",
              "\n",
              "    .dataframe tbody tr th {\n",
              "        vertical-align: top;\n",
              "    }\n",
              "\n",
              "    .dataframe thead th {\n",
              "        text-align: right;\n",
              "    }\n",
              "</style>\n",
              "<table border=\"1\" class=\"dataframe\">\n",
              "  <thead>\n",
              "    <tr style=\"text-align: right;\">\n",
              "      <th></th>\n",
              "      <th>inst_id</th>\n",
              "      <th>OC</th>\n",
              "      <th>sido</th>\n",
              "      <th>sgg</th>\n",
              "      <th>openDate</th>\n",
              "      <th>bedCount</th>\n",
              "      <th>instkind</th>\n",
              "      <th>revenue1</th>\n",
              "      <th>salescost1</th>\n",
              "      <th>sga1</th>\n",
              "      <th>...</th>\n",
              "      <th>debt2</th>\n",
              "      <th>liquidLiabilities2</th>\n",
              "      <th>shortLoan2</th>\n",
              "      <th>NCLiabilities2</th>\n",
              "      <th>longLoan2</th>\n",
              "      <th>netAsset2</th>\n",
              "      <th>surplus2</th>\n",
              "      <th>employee1</th>\n",
              "      <th>employee2</th>\n",
              "      <th>ownerChange</th>\n",
              "    </tr>\n",
              "  </thead>\n",
              "  <tbody>\n",
              "    <tr>\n",
              "      <th>0</th>\n",
              "      <td>2</td>\n",
              "      <td>NaN</td>\n",
              "      <td>incheon</td>\n",
              "      <td>139</td>\n",
              "      <td>1998.0</td>\n",
              "      <td>300.0</td>\n",
              "      <td>general_hospital</td>\n",
              "      <td>6.682486e+10</td>\n",
              "      <td>0.000000e+00</td>\n",
              "      <td>6.565709e+10</td>\n",
              "      <td>...</td>\n",
              "      <td>5.540643e+10</td>\n",
              "      <td>5.068443e+10</td>\n",
              "      <td>3.714334e+10</td>\n",
              "      <td>4.720000e+09</td>\n",
              "      <td>4.690000e+09</td>\n",
              "      <td>1.608540e+10</td>\n",
              "      <td>8.944587e+09</td>\n",
              "      <td>693</td>\n",
              "      <td>693</td>\n",
              "      <td>same</td>\n",
              "    </tr>\n",
              "    <tr>\n",
              "      <th>1</th>\n",
              "      <td>5</td>\n",
              "      <td>NaN</td>\n",
              "      <td>jeju</td>\n",
              "      <td>149</td>\n",
              "      <td>2016.0</td>\n",
              "      <td>44.0</td>\n",
              "      <td>hospital</td>\n",
              "      <td>3.495758e+10</td>\n",
              "      <td>0.000000e+00</td>\n",
              "      <td>3.259270e+10</td>\n",
              "      <td>...</td>\n",
              "      <td>6.730838e+10</td>\n",
              "      <td>4.209828e+10</td>\n",
              "      <td>2.420000e+10</td>\n",
              "      <td>2.521009e+10</td>\n",
              "      <td>1.830000e+10</td>\n",
              "      <td>3.789135e+09</td>\n",
              "      <td>0.000000e+00</td>\n",
              "      <td>379</td>\n",
              "      <td>371</td>\n",
              "      <td>same</td>\n",
              "    </tr>\n",
              "    <tr>\n",
              "      <th>2</th>\n",
              "      <td>6</td>\n",
              "      <td>NaN</td>\n",
              "      <td>jeonnam</td>\n",
              "      <td>103</td>\n",
              "      <td>1989.0</td>\n",
              "      <td>276.0</td>\n",
              "      <td>general_hospital</td>\n",
              "      <td>2.326031e+10</td>\n",
              "      <td>2.542571e+09</td>\n",
              "      <td>2.308749e+10</td>\n",
              "      <td>...</td>\n",
              "      <td>0.000000e+00</td>\n",
              "      <td>2.777589e+10</td>\n",
              "      <td>2.182278e+10</td>\n",
              "      <td>0.000000e+00</td>\n",
              "      <td>0.000000e+00</td>\n",
              "      <td>0.000000e+00</td>\n",
              "      <td>1.638540e+10</td>\n",
              "      <td>NaN</td>\n",
              "      <td>NaN</td>\n",
              "      <td>NaN</td>\n",
              "    </tr>\n",
              "    <tr>\n",
              "      <th>3</th>\n",
              "      <td>8</td>\n",
              "      <td>NaN</td>\n",
              "      <td>busan</td>\n",
              "      <td>71</td>\n",
              "      <td>2010.0</td>\n",
              "      <td>363.0</td>\n",
              "      <td>general_hospital</td>\n",
              "      <td>0.000000e+00</td>\n",
              "      <td>0.000000e+00</td>\n",
              "      <td>0.000000e+00</td>\n",
              "      <td>...</td>\n",
              "      <td>1.211517e+10</td>\n",
              "      <td>9.556237e+09</td>\n",
              "      <td>4.251867e+09</td>\n",
              "      <td>2.558931e+09</td>\n",
              "      <td>0.000000e+00</td>\n",
              "      <td>3.914284e+10</td>\n",
              "      <td>0.000000e+00</td>\n",
              "      <td>760</td>\n",
              "      <td>760</td>\n",
              "      <td>same</td>\n",
              "    </tr>\n",
              "    <tr>\n",
              "      <th>4</th>\n",
              "      <td>10</td>\n",
              "      <td>NaN</td>\n",
              "      <td>jeonbuk</td>\n",
              "      <td>26</td>\n",
              "      <td>2004.0</td>\n",
              "      <td>213.0</td>\n",
              "      <td>general_hospital</td>\n",
              "      <td>5.037025e+10</td>\n",
              "      <td>0.000000e+00</td>\n",
              "      <td>4.855803e+10</td>\n",
              "      <td>...</td>\n",
              "      <td>4.395973e+10</td>\n",
              "      <td>7.535567e+09</td>\n",
              "      <td>3.298427e+09</td>\n",
              "      <td>3.642417e+10</td>\n",
              "      <td>2.134712e+10</td>\n",
              "      <td>2.574488e+10</td>\n",
              "      <td>1.507269e+10</td>\n",
              "      <td>437</td>\n",
              "      <td>385</td>\n",
              "      <td>same</td>\n",
              "    </tr>\n",
              "  </tbody>\n",
              "</table>\n",
              "<p>5 rows × 58 columns</p>\n",
              "</div>\n",
              "      <button class=\"colab-df-convert\" onclick=\"convertToInteractive('df-df4621a8-828f-4d85-b406-a3ecf82b8323')\"\n",
              "              title=\"Convert this dataframe to an interactive table.\"\n",
              "              style=\"display:none;\">\n",
              "        \n",
              "  <svg xmlns=\"http://www.w3.org/2000/svg\" height=\"24px\"viewBox=\"0 0 24 24\"\n",
              "       width=\"24px\">\n",
              "    <path d=\"M0 0h24v24H0V0z\" fill=\"none\"/>\n",
              "    <path d=\"M18.56 5.44l.94 2.06.94-2.06 2.06-.94-2.06-.94-.94-2.06-.94 2.06-2.06.94zm-11 1L8.5 8.5l.94-2.06 2.06-.94-2.06-.94L8.5 2.5l-.94 2.06-2.06.94zm10 10l.94 2.06.94-2.06 2.06-.94-2.06-.94-.94-2.06-.94 2.06-2.06.94z\"/><path d=\"M17.41 7.96l-1.37-1.37c-.4-.4-.92-.59-1.43-.59-.52 0-1.04.2-1.43.59L10.3 9.45l-7.72 7.72c-.78.78-.78 2.05 0 2.83L4 21.41c.39.39.9.59 1.41.59.51 0 1.02-.2 1.41-.59l7.78-7.78 2.81-2.81c.8-.78.8-2.07 0-2.86zM5.41 20L4 18.59l7.72-7.72 1.47 1.35L5.41 20z\"/>\n",
              "  </svg>\n",
              "      </button>\n",
              "      \n",
              "  <style>\n",
              "    .colab-df-container {\n",
              "      display:flex;\n",
              "      flex-wrap:wrap;\n",
              "      gap: 12px;\n",
              "    }\n",
              "\n",
              "    .colab-df-convert {\n",
              "      background-color: #E8F0FE;\n",
              "      border: none;\n",
              "      border-radius: 50%;\n",
              "      cursor: pointer;\n",
              "      display: none;\n",
              "      fill: #1967D2;\n",
              "      height: 32px;\n",
              "      padding: 0 0 0 0;\n",
              "      width: 32px;\n",
              "    }\n",
              "\n",
              "    .colab-df-convert:hover {\n",
              "      background-color: #E2EBFA;\n",
              "      box-shadow: 0px 1px 2px rgba(60, 64, 67, 0.3), 0px 1px 3px 1px rgba(60, 64, 67, 0.15);\n",
              "      fill: #174EA6;\n",
              "    }\n",
              "\n",
              "    [theme=dark] .colab-df-convert {\n",
              "      background-color: #3B4455;\n",
              "      fill: #D2E3FC;\n",
              "    }\n",
              "\n",
              "    [theme=dark] .colab-df-convert:hover {\n",
              "      background-color: #434B5C;\n",
              "      box-shadow: 0px 1px 3px 1px rgba(0, 0, 0, 0.15);\n",
              "      filter: drop-shadow(0px 1px 2px rgba(0, 0, 0, 0.3));\n",
              "      fill: #FFFFFF;\n",
              "    }\n",
              "  </style>\n",
              "\n",
              "      <script>\n",
              "        const buttonEl =\n",
              "          document.querySelector('#df-df4621a8-828f-4d85-b406-a3ecf82b8323 button.colab-df-convert');\n",
              "        buttonEl.style.display =\n",
              "          google.colab.kernel.accessAllowed ? 'block' : 'none';\n",
              "\n",
              "        async function convertToInteractive(key) {\n",
              "          const element = document.querySelector('#df-df4621a8-828f-4d85-b406-a3ecf82b8323');\n",
              "          const dataTable =\n",
              "            await google.colab.kernel.invokeFunction('convertToInteractive',\n",
              "                                                     [key], {});\n",
              "          if (!dataTable) return;\n",
              "\n",
              "          const docLinkHtml = 'Like what you see? Visit the ' +\n",
              "            '<a target=\"_blank\" href=https://colab.research.google.com/notebooks/data_table.ipynb>data table notebook</a>'\n",
              "            + ' to learn more about interactive tables.';\n",
              "          element.innerHTML = '';\n",
              "          dataTable['output_type'] = 'display_data';\n",
              "          await google.colab.output.renderOutput(dataTable, element);\n",
              "          const docLink = document.createElement('div');\n",
              "          docLink.innerHTML = docLinkHtml;\n",
              "          element.appendChild(docLink);\n",
              "        }\n",
              "      </script>\n",
              "    </div>\n",
              "  </div>\n",
              "  "
            ]
          },
          "metadata": {},
          "execution_count": 16
        }
      ],
      "source": [
        "test.head()"
      ]
    },
    {
      "cell_type": "markdown",
      "metadata": {
        "id": "u7ZNBShEkDe6"
      },
      "source": [
        "## 2)TRAIN, TEST NA값 대체"
      ]
    },
    {
      "cell_type": "markdown",
      "source": [
        "### -train, test 데이터 인코딩"
      ],
      "metadata": {
        "id": "SX-0GVj_Gj8N"
      }
    },
    {
      "cell_type": "code",
      "execution_count": 17,
      "metadata": {
        "colab": {
          "base_uri": "https://localhost:8080/"
        },
        "id": "9MrCiwQaA_9u",
        "outputId": "b72f8e06-223a-424e-d868-232667a07227"
      },
      "outputs": [
        {
          "output_type": "stream",
          "name": "stdout",
          "text": [
            "[' close' 'open']\n",
            "['choongnam', 'gyeongnam', 'gyeonggi', 'incheon', 'busan', 'jeonnam', 'seoul', 'jeonbuk', 'choongbuk', 'ulsan', 'daejeon', 'daegu', 'gyeongbuk', 'gangwon', 'gwangju', 'sejong']\n",
            "['nursing_hospital', 'general_hospital', 'hospital', 'traditional_clinic', 'clinic', 'traditional_hospital', 'dental_clinic']\n",
            "['same', 'change']\n"
          ]
        }
      ],
      "source": [
        "# 1.1 train 데이터 인코딩\n",
        "# object => int\n",
        "import warnings\n",
        "warnings.filterwarnings('ignore')\n",
        "\n",
        "for col in [\"OC\", \"sido\", \"instkind\", \"ownerChange\"]:\n",
        "  # for i in range(0,len(train)):\n",
        "  unique_values = train[col].unique()\n",
        "  unique_values = [value for value in unique_values if value == value] if not \"open\" in unique_values else unique_values[::-1]\n",
        "  for i in range(len(unique_values)):\n",
        "    train[col] = train[col].replace(unique_values[i],i)\n",
        "  print(unique_values)"
      ]
    },
    {
      "cell_type": "code",
      "execution_count": 18,
      "metadata": {
        "colab": {
          "base_uri": "https://localhost:8080/"
        },
        "id": "lTtZSvqg7LfM",
        "outputId": "038490ea-4715-4c78-bb5b-5d12287d281c"
      },
      "outputs": [
        {
          "output_type": "stream",
          "name": "stdout",
          "text": [
            "['incheon', 'jeju', 'jeonnam', 'busan', 'jeonbuk', 'gyeonggi', 'gyeongbuk', 'daejeon', 'seoul', 'daegu', 'choongbuk', 'ulsan', 'gyeongnam', 'choongnam', 'sejong']\n",
            "['general_hospital', 'hospital', 'nursing_hospital', 'traditional_clinic', 'clinic', 'traditional_hospital']\n",
            "['same', 'change']\n"
          ]
        }
      ],
      "source": [
        "# 1.2 test 데이터 인코딩\n",
        "# object => int\n",
        "import warnings\n",
        "warnings.filterwarnings('ignore')\n",
        "\n",
        "for col in [\"sido\", \"instkind\", \"ownerChange\"]:\n",
        "  # for i in range(0,len(test)):\n",
        "  unique_values = test[col].unique()\n",
        "  unique_values = [value for value in unique_values if value == value]\n",
        "  for i in range(len(unique_values)):\n",
        "    test[col] = test[col].replace(unique_values[i],i)\n",
        "  print(unique_values)"
      ]
    },
    {
      "cell_type": "markdown",
      "source": [
        "### -train, test NA 처리"
      ],
      "metadata": {
        "id": "FDEKqxqUGrhI"
      }
    },
    {
      "cell_type": "code",
      "execution_count": 19,
      "metadata": {
        "id": "1lZO_n-a9dXG"
      },
      "outputs": [],
      "source": [
        "# 2 train, test 데이터 NA 동시 대체\n",
        "\n",
        "# NA 값을 대체 과정\n",
        "# 1. na 확인 (생략)\n",
        "# 2. 전체 리스트 불러와서 => discrete, float 나누기 \n",
        "# 3. descrete => 최빈값, float => mean()\n",
        "# 4. train 에 대체\n",
        "from collections import Counter\n",
        "\n",
        "col_names = train.columns\n",
        "discrete_cols = [\"inst_id\", \"OC\", \"sido\", \"sgg\", \"openDate\", \"instkind\", \"ownerChange\"]\n",
        "continuous_cols = col_names.drop(discrete_cols)\n",
        "\n",
        "for col_name in col_names:\n",
        "  # if train[col_name].dtype == 'int64':\n",
        "  if col_name in discrete_cols:\n",
        "    counter = Counter(train[col_name]) \n",
        "    value = counter.most_common(1)[0][0]\n",
        "    train[col_name] = train[col_name].fillna(value)\n",
        "    test[col_name] = test[col_name].fillna(value)\n",
        "  elif col_name in continuous_cols:\n",
        "    value = train[col_name].mean()\n",
        "    train[col_name] = train[col_name].fillna(value)\n",
        "    test[col_name] = test[col_name].fillna(value)\n",
        "\n",
        "  # train[col_name] = train[col_name].fillna(value)"
      ]
    },
    {
      "cell_type": "code",
      "execution_count": 20,
      "metadata": {
        "colab": {
          "base_uri": "https://localhost:8080/"
        },
        "id": "0p61qjtwXb8Y",
        "outputId": "64734d9a-f8fd-459f-8436-5e5981b46f79"
      },
      "outputs": [
        {
          "output_type": "execute_result",
          "data": {
            "text/plain": [
              "inst_id               0\n",
              "OC                    0\n",
              "sido                  0\n",
              "sgg                   0\n",
              "openDate              0\n",
              "bedCount              0\n",
              "instkind              0\n",
              "revenue1              0\n",
              "salescost1            0\n",
              "sga1                  0\n",
              "salary1               0\n",
              "noi1                  0\n",
              "noe1                  0\n",
              "interest1             0\n",
              "ctax1                 0\n",
              "profit1               0\n",
              "liquidAsset1          0\n",
              "quickAsset1           0\n",
              "receivableS1          0\n",
              "inventoryAsset1       0\n",
              "nonCAsset1            0\n",
              "tanAsset1             0\n",
              "OnonCAsset1           0\n",
              "receivableL1          0\n",
              "debt1                 0\n",
              "liquidLiabilities1    0\n",
              "shortLoan1            0\n",
              "NCLiabilities1        0\n",
              "longLoan1             0\n",
              "netAsset1             0\n",
              "surplus1              0\n",
              "revenue2              0\n",
              "salescost2            0\n",
              "sga2                  0\n",
              "salary2               0\n",
              "noi2                  0\n",
              "noe2                  0\n",
              "interest2             0\n",
              "ctax2                 0\n",
              "profit2               0\n",
              "liquidAsset2          0\n",
              "quickAsset2           0\n",
              "receivableS2          0\n",
              "inventoryAsset2       0\n",
              "nonCAsset2            0\n",
              "tanAsset2             0\n",
              "OnonCAsset2           0\n",
              "receivableL2          0\n",
              "debt2                 0\n",
              "liquidLiabilities2    0\n",
              "shortLoan2            0\n",
              "NCLiabilities2        0\n",
              "longLoan2             0\n",
              "netAsset2             0\n",
              "surplus2              0\n",
              "employee1             0\n",
              "employee2             0\n",
              "ownerChange           0\n",
              "dtype: int64"
            ]
          },
          "metadata": {},
          "execution_count": 20
        }
      ],
      "source": [
        "test.isnull().sum()"
      ]
    },
    {
      "cell_type": "code",
      "execution_count": 21,
      "metadata": {
        "id": "I92HANCzKxkT"
      },
      "outputs": [],
      "source": [
        "# test 셋 employee1 숫자 타입 변환\n",
        "# 1,000 ==> 1000 으로 바꾸기\n",
        "\n",
        "test['employee1'] = test['employee1'].fillna(1)\n",
        "for x in test['employee1'] :\n",
        "  try :\n",
        "    test['employee1'] = x.replace(',','')\n",
        "  except :\n",
        "    pass\n",
        "test['employee1'] = test['employee1'].astype(np.float64)\n",
        "test['employee1'] = test['employee1'].replace('1', np.nan)"
      ]
    },
    {
      "cell_type": "code",
      "execution_count": 22,
      "metadata": {
        "id": "uZs9kDm7Md7G"
      },
      "outputs": [],
      "source": [
        "# test 셋 employee2 숫자 타입 변환\n",
        "# 1,000 ==> 1000 으로 바꾸기\n",
        "\n",
        "test['employee2'] = test['employee2'].fillna(1)\n",
        "for x in test['employee2'] :\n",
        "  try :\n",
        "    test['employee2'] = x.replace(',','')\n",
        "  except :\n",
        "    pass\n",
        "test['employee2'] = test['employee2'].astype(np.float64)\n",
        "test['employee2'] = test['employee2'].replace('1', np.nan)"
      ]
    },
    {
      "cell_type": "markdown",
      "metadata": {
        "id": "C5lrFBbmkOE-"
      },
      "source": [
        "## 3)Scaling"
      ]
    },
    {
      "cell_type": "code",
      "execution_count": 23,
      "metadata": {
        "id": "Vxx9gWJGqmvA"
      },
      "outputs": [],
      "source": [
        "# 나중에 합칠 train object 칼럼 Df\n",
        "train_object = train.loc[:,[\"inst_id\",\"OC\", \"sido\", \"sgg\", \"instkind\", \"ownerChange\"]] # openDate 빼주었음!!! ==> 혼자 천 단위라서. "
      ]
    },
    {
      "cell_type": "code",
      "execution_count": 24,
      "metadata": {
        "id": "vqAgG-sxOHr2"
      },
      "outputs": [],
      "source": [
        "# 나중에 합칠 test object 칼럼 Df\n",
        "test_object = test.loc[:,[\"inst_id\",\"OC\",\"sido\", \"sgg\", \"instkind\", \"ownerChange\"]] # openDate 빼주었음!!! ==> 혼자 천 단위라서. "
      ]
    },
    {
      "cell_type": "markdown",
      "source": [
        "- train 데이터 셋 MinMax 스케일링"
      ],
      "metadata": {
        "id": "bfMreROcsFKs"
      }
    },
    {
      "cell_type": "code",
      "execution_count": 25,
      "metadata": {
        "colab": {
          "base_uri": "https://localhost:8080/"
        },
        "id": "YaEWIHZykub7",
        "outputId": "87ce8c5d-188f-48a9-d800-24021fde0cb0"
      },
      "outputs": [
        {
          "output_type": "stream",
          "name": "stdout",
          "text": [
            "feature 평균\n",
            "openDate              0.690945\n",
            "bedCount              0.222118\n",
            "revenue1              0.085310\n",
            "salescost1            0.020455\n",
            "sga1                  0.100315\n",
            "salary1               0.088296\n",
            "noi1                  0.029485\n",
            "noe1                  0.058895\n",
            "interest1             0.065774\n",
            "ctax1                 0.027938\n",
            "profit1               0.403124\n",
            "liquidAsset1          0.082614\n",
            "quickAsset1           0.081710\n",
            "receivableS1          0.049500\n",
            "inventoryAsset1       0.055835\n",
            "nonCAsset1            0.073120\n",
            "tanAsset1             0.067526\n",
            "OnonCAsset1           0.033777\n",
            "receivableL1          0.003413\n",
            "debt1                 0.101103\n",
            "liquidLiabilities1    0.110554\n",
            "shortLoan1            0.088419\n",
            "NCLiabilities1        0.083310\n",
            "longLoan1             0.064354\n",
            "netAsset1             0.164165\n",
            "surplus1              0.030537\n",
            "revenue2              0.085468\n",
            "salescost2            0.021276\n",
            "sga2                  0.093552\n",
            "salary2               0.081973\n",
            "noi2                  0.055101\n",
            "noe2                  0.063642\n",
            "interest2             0.066954\n",
            "ctax2                 0.024480\n",
            "profit2               0.301438\n",
            "liquidAsset2          0.078955\n",
            "quickAsset2           0.078229\n",
            "receivableS2          0.037345\n",
            "inventoryAsset2       0.058694\n",
            "nonCAsset2            0.063733\n",
            "tanAsset2             0.059212\n",
            "OnonCAsset2           0.036872\n",
            "receivableL2          0.003413\n",
            "debt2                 0.095736\n",
            "liquidLiabilities2    0.056385\n",
            "shortLoan2            0.085829\n",
            "NCLiabilities2        0.086814\n",
            "longLoan2             0.083227\n",
            "netAsset2             0.175144\n",
            "surplus2              0.052730\n",
            "employee1             0.118789\n",
            "employee2             0.111939\n",
            "dtype: float64\n",
            "\n",
            " feature 분산\n",
            "openDate              0.051973\n",
            "bedCount              0.032317\n",
            "revenue1              0.017827\n",
            "salescost1            0.005583\n",
            "sga1                  0.020475\n",
            "salary1               0.015510\n",
            "noi1                  0.007494\n",
            "noe1                  0.014505\n",
            "interest1             0.009042\n",
            "ctax1                 0.007625\n",
            "profit1               0.008458\n",
            "liquidAsset1          0.020987\n",
            "quickAsset1           0.020693\n",
            "receivableS1          0.010380\n",
            "inventoryAsset1       0.014822\n",
            "nonCAsset1            0.011702\n",
            "tanAsset1             0.009915\n",
            "OnonCAsset1           0.008383\n",
            "receivableL1          0.003322\n",
            "debt1                 0.021419\n",
            "liquidLiabilities1    0.026316\n",
            "shortLoan1            0.025120\n",
            "NCLiabilities1        0.019803\n",
            "longLoan1             0.012700\n",
            "netAsset1             0.006156\n",
            "surplus1              0.003533\n",
            "revenue2              0.018622\n",
            "salescost2            0.005906\n",
            "sga2                  0.018398\n",
            "salary2               0.014219\n",
            "noi2                  0.016625\n",
            "noe2                  0.015722\n",
            "interest2             0.010503\n",
            "ctax2                 0.007370\n",
            "profit2               0.005856\n",
            "liquidAsset2          0.021141\n",
            "quickAsset2           0.020935\n",
            "receivableS2          0.007718\n",
            "inventoryAsset2       0.018377\n",
            "nonCAsset2            0.009847\n",
            "tanAsset2             0.008484\n",
            "OnonCAsset2           0.009770\n",
            "receivableL2          0.003322\n",
            "debt2                 0.021201\n",
            "liquidLiabilities2    0.009593\n",
            "shortLoan2            0.027428\n",
            "NCLiabilities2        0.021527\n",
            "longLoan2             0.019123\n",
            "netAsset2             0.005401\n",
            "surplus2              0.004208\n",
            "employee1             0.017226\n",
            "employee2             0.015160\n",
            "dtype: float64\n"
          ]
        }
      ],
      "source": [
        "# train, test 스케일링 동시 진행 ==>  train의 mean, var 로 test 스케일링 적용해야함. \n",
        "\n",
        "# standard 스케일링 변환 및 확인\n",
        "# object 칼럼 드랍하고 스케일링 \n",
        "train_scaling = train.drop([\"inst_id\",\"OC\",\"sido\", \"sgg\", \"instkind\", \"ownerChange\"], axis = 1)\n",
        "train_scaled_columns =train_scaling.columns\n",
        "\n",
        "test_scaling = test.drop([\"inst_id\",\"OC\",\"sido\", \"sgg\", \"instkind\", \"ownerChange\"], axis = 1)\n",
        "test_scaled_columns =test_scaling.columns\n",
        "\n",
        "from sklearn.preprocessing import StandardScaler, MinMaxScaler\n",
        "\n",
        "# scaler = StandardScaler()  # - 값이 존재해서 스텐다스 스칼라 ===> 민맥스 스칼라 로 바꾸어줌\n",
        "scaler = MinMaxScaler()\n",
        "scaler.fit(train_scaling)\n",
        "train_scaled = scaler.transform(train_scaling)\n",
        "test_scaled = scaler.transform(test_scaling)\n",
        "\n",
        "train_df_scaled = pd.DataFrame(data=train_scaled, columns = train_scaled_columns)\n",
        "test_df_scaled = pd.DataFrame(data=test_scaled, columns = test_scaled_columns)\n",
        "\n",
        "print('feature 평균')\n",
        "print(train_df_scaled.mean())\n",
        "print('\\n feature 분산')\n",
        "print(train_df_scaled.var())"
      ]
    },
    {
      "cell_type": "markdown",
      "source": [
        "- Object 칼럼 + 스케일링 된 Float 칼럼 합치기"
      ],
      "metadata": {
        "id": "o21rPQ3CsKm5"
      }
    },
    {
      "cell_type": "code",
      "source": [
        "train_object"
      ],
      "metadata": {
        "colab": {
          "base_uri": "https://localhost:8080/",
          "height": 424
        },
        "id": "mQgQh6OKKkGm",
        "outputId": "7dfe829a-7687-45fc-ac69-30bf53a3b6a4"
      },
      "execution_count": 26,
      "outputs": [
        {
          "output_type": "execute_result",
          "data": {
            "text/plain": [
              "     inst_id  OC  sido  sgg  instkind  ownerChange\n",
              "0          1   1     0   73       0.0          0.0\n",
              "1          3   1     1   32       1.0          0.0\n",
              "2          4   1     2   89       0.0          0.0\n",
              "3          7   1     3  141       1.0          0.0\n",
              "4          9   1     1   32       1.0          0.0\n",
              "..       ...  ..   ...  ...       ...          ...\n",
              "296      422   1     5  178       0.0          0.0\n",
              "297      423   0     0  159       2.0          0.0\n",
              "298      426   0    12  107       2.0          0.0\n",
              "299      427   0     2  169       0.0          0.0\n",
              "300      428   1     6   79       5.0          0.0\n",
              "\n",
              "[301 rows x 6 columns]"
            ],
            "text/html": [
              "\n",
              "  <div id=\"df-18bcecbd-ec18-4983-a2f3-53d47c25c873\">\n",
              "    <div class=\"colab-df-container\">\n",
              "      <div>\n",
              "<style scoped>\n",
              "    .dataframe tbody tr th:only-of-type {\n",
              "        vertical-align: middle;\n",
              "    }\n",
              "\n",
              "    .dataframe tbody tr th {\n",
              "        vertical-align: top;\n",
              "    }\n",
              "\n",
              "    .dataframe thead th {\n",
              "        text-align: right;\n",
              "    }\n",
              "</style>\n",
              "<table border=\"1\" class=\"dataframe\">\n",
              "  <thead>\n",
              "    <tr style=\"text-align: right;\">\n",
              "      <th></th>\n",
              "      <th>inst_id</th>\n",
              "      <th>OC</th>\n",
              "      <th>sido</th>\n",
              "      <th>sgg</th>\n",
              "      <th>instkind</th>\n",
              "      <th>ownerChange</th>\n",
              "    </tr>\n",
              "  </thead>\n",
              "  <tbody>\n",
              "    <tr>\n",
              "      <th>0</th>\n",
              "      <td>1</td>\n",
              "      <td>1</td>\n",
              "      <td>0</td>\n",
              "      <td>73</td>\n",
              "      <td>0.0</td>\n",
              "      <td>0.0</td>\n",
              "    </tr>\n",
              "    <tr>\n",
              "      <th>1</th>\n",
              "      <td>3</td>\n",
              "      <td>1</td>\n",
              "      <td>1</td>\n",
              "      <td>32</td>\n",
              "      <td>1.0</td>\n",
              "      <td>0.0</td>\n",
              "    </tr>\n",
              "    <tr>\n",
              "      <th>2</th>\n",
              "      <td>4</td>\n",
              "      <td>1</td>\n",
              "      <td>2</td>\n",
              "      <td>89</td>\n",
              "      <td>0.0</td>\n",
              "      <td>0.0</td>\n",
              "    </tr>\n",
              "    <tr>\n",
              "      <th>3</th>\n",
              "      <td>7</td>\n",
              "      <td>1</td>\n",
              "      <td>3</td>\n",
              "      <td>141</td>\n",
              "      <td>1.0</td>\n",
              "      <td>0.0</td>\n",
              "    </tr>\n",
              "    <tr>\n",
              "      <th>4</th>\n",
              "      <td>9</td>\n",
              "      <td>1</td>\n",
              "      <td>1</td>\n",
              "      <td>32</td>\n",
              "      <td>1.0</td>\n",
              "      <td>0.0</td>\n",
              "    </tr>\n",
              "    <tr>\n",
              "      <th>...</th>\n",
              "      <td>...</td>\n",
              "      <td>...</td>\n",
              "      <td>...</td>\n",
              "      <td>...</td>\n",
              "      <td>...</td>\n",
              "      <td>...</td>\n",
              "    </tr>\n",
              "    <tr>\n",
              "      <th>296</th>\n",
              "      <td>422</td>\n",
              "      <td>1</td>\n",
              "      <td>5</td>\n",
              "      <td>178</td>\n",
              "      <td>0.0</td>\n",
              "      <td>0.0</td>\n",
              "    </tr>\n",
              "    <tr>\n",
              "      <th>297</th>\n",
              "      <td>423</td>\n",
              "      <td>0</td>\n",
              "      <td>0</td>\n",
              "      <td>159</td>\n",
              "      <td>2.0</td>\n",
              "      <td>0.0</td>\n",
              "    </tr>\n",
              "    <tr>\n",
              "      <th>298</th>\n",
              "      <td>426</td>\n",
              "      <td>0</td>\n",
              "      <td>12</td>\n",
              "      <td>107</td>\n",
              "      <td>2.0</td>\n",
              "      <td>0.0</td>\n",
              "    </tr>\n",
              "    <tr>\n",
              "      <th>299</th>\n",
              "      <td>427</td>\n",
              "      <td>0</td>\n",
              "      <td>2</td>\n",
              "      <td>169</td>\n",
              "      <td>0.0</td>\n",
              "      <td>0.0</td>\n",
              "    </tr>\n",
              "    <tr>\n",
              "      <th>300</th>\n",
              "      <td>428</td>\n",
              "      <td>1</td>\n",
              "      <td>6</td>\n",
              "      <td>79</td>\n",
              "      <td>5.0</td>\n",
              "      <td>0.0</td>\n",
              "    </tr>\n",
              "  </tbody>\n",
              "</table>\n",
              "<p>301 rows × 6 columns</p>\n",
              "</div>\n",
              "      <button class=\"colab-df-convert\" onclick=\"convertToInteractive('df-18bcecbd-ec18-4983-a2f3-53d47c25c873')\"\n",
              "              title=\"Convert this dataframe to an interactive table.\"\n",
              "              style=\"display:none;\">\n",
              "        \n",
              "  <svg xmlns=\"http://www.w3.org/2000/svg\" height=\"24px\"viewBox=\"0 0 24 24\"\n",
              "       width=\"24px\">\n",
              "    <path d=\"M0 0h24v24H0V0z\" fill=\"none\"/>\n",
              "    <path d=\"M18.56 5.44l.94 2.06.94-2.06 2.06-.94-2.06-.94-.94-2.06-.94 2.06-2.06.94zm-11 1L8.5 8.5l.94-2.06 2.06-.94-2.06-.94L8.5 2.5l-.94 2.06-2.06.94zm10 10l.94 2.06.94-2.06 2.06-.94-2.06-.94-.94-2.06-.94 2.06-2.06.94z\"/><path d=\"M17.41 7.96l-1.37-1.37c-.4-.4-.92-.59-1.43-.59-.52 0-1.04.2-1.43.59L10.3 9.45l-7.72 7.72c-.78.78-.78 2.05 0 2.83L4 21.41c.39.39.9.59 1.41.59.51 0 1.02-.2 1.41-.59l7.78-7.78 2.81-2.81c.8-.78.8-2.07 0-2.86zM5.41 20L4 18.59l7.72-7.72 1.47 1.35L5.41 20z\"/>\n",
              "  </svg>\n",
              "      </button>\n",
              "      \n",
              "  <style>\n",
              "    .colab-df-container {\n",
              "      display:flex;\n",
              "      flex-wrap:wrap;\n",
              "      gap: 12px;\n",
              "    }\n",
              "\n",
              "    .colab-df-convert {\n",
              "      background-color: #E8F0FE;\n",
              "      border: none;\n",
              "      border-radius: 50%;\n",
              "      cursor: pointer;\n",
              "      display: none;\n",
              "      fill: #1967D2;\n",
              "      height: 32px;\n",
              "      padding: 0 0 0 0;\n",
              "      width: 32px;\n",
              "    }\n",
              "\n",
              "    .colab-df-convert:hover {\n",
              "      background-color: #E2EBFA;\n",
              "      box-shadow: 0px 1px 2px rgba(60, 64, 67, 0.3), 0px 1px 3px 1px rgba(60, 64, 67, 0.15);\n",
              "      fill: #174EA6;\n",
              "    }\n",
              "\n",
              "    [theme=dark] .colab-df-convert {\n",
              "      background-color: #3B4455;\n",
              "      fill: #D2E3FC;\n",
              "    }\n",
              "\n",
              "    [theme=dark] .colab-df-convert:hover {\n",
              "      background-color: #434B5C;\n",
              "      box-shadow: 0px 1px 3px 1px rgba(0, 0, 0, 0.15);\n",
              "      filter: drop-shadow(0px 1px 2px rgba(0, 0, 0, 0.3));\n",
              "      fill: #FFFFFF;\n",
              "    }\n",
              "  </style>\n",
              "\n",
              "      <script>\n",
              "        const buttonEl =\n",
              "          document.querySelector('#df-18bcecbd-ec18-4983-a2f3-53d47c25c873 button.colab-df-convert');\n",
              "        buttonEl.style.display =\n",
              "          google.colab.kernel.accessAllowed ? 'block' : 'none';\n",
              "\n",
              "        async function convertToInteractive(key) {\n",
              "          const element = document.querySelector('#df-18bcecbd-ec18-4983-a2f3-53d47c25c873');\n",
              "          const dataTable =\n",
              "            await google.colab.kernel.invokeFunction('convertToInteractive',\n",
              "                                                     [key], {});\n",
              "          if (!dataTable) return;\n",
              "\n",
              "          const docLinkHtml = 'Like what you see? Visit the ' +\n",
              "            '<a target=\"_blank\" href=https://colab.research.google.com/notebooks/data_table.ipynb>data table notebook</a>'\n",
              "            + ' to learn more about interactive tables.';\n",
              "          element.innerHTML = '';\n",
              "          dataTable['output_type'] = 'display_data';\n",
              "          await google.colab.output.renderOutput(dataTable, element);\n",
              "          const docLink = document.createElement('div');\n",
              "          docLink.innerHTML = docLinkHtml;\n",
              "          element.appendChild(docLink);\n",
              "        }\n",
              "      </script>\n",
              "    </div>\n",
              "  </div>\n",
              "  "
            ]
          },
          "metadata": {},
          "execution_count": 26
        }
      ]
    },
    {
      "cell_type": "code",
      "execution_count": 27,
      "metadata": {
        "id": "VEXs9jXxqs0a",
        "colab": {
          "base_uri": "https://localhost:8080/",
          "height": 237
        },
        "outputId": "2a593241-1d0d-4d57-f236-a6410717e3cb"
      },
      "outputs": [
        {
          "output_type": "execute_result",
          "data": {
            "text/plain": [
              "   inst_id  OC  sido  sgg  instkind  ownerChange  openDate  bedCount  \\\n",
              "0        1   1     0   73       0.0          0.0  0.743590  0.266768   \n",
              "1        3   1     1   32       1.0          0.0  0.487179  0.625000   \n",
              "2        4   1     2   89       0.0          0.0  0.974359  0.713415   \n",
              "\n",
              "   revenue1  salescost1  ...  receivableL2     debt2  liquidLiabilities2  \\\n",
              "0  0.027931    0.000000  ...      0.000000  0.008920            0.003255   \n",
              "1  0.085310    0.020455  ...      0.003413  0.095736            0.056385   \n",
              "2  0.006652    0.005233  ...      0.000000  0.000000            0.000000   \n",
              "\n",
              "   shortLoan2  NCLiabilities2  longLoan2  netAsset2  surplus2  employee1  \\\n",
              "0    0.000000        0.010409   0.011977   0.156855  0.056834   0.051667   \n",
              "1    0.085829        0.086814   0.083227   0.175144  0.052730   0.667500   \n",
              "2    0.000000        0.000000   0.000000   0.138809  0.039006   0.195000   \n",
              "\n",
              "   employee2  \n",
              "0   0.053333  \n",
              "1   0.677500  \n",
              "2   0.000833  \n",
              "\n",
              "[3 rows x 58 columns]"
            ],
            "text/html": [
              "\n",
              "  <div id=\"df-1179c389-816a-4a96-912a-a67aae91c73b\">\n",
              "    <div class=\"colab-df-container\">\n",
              "      <div>\n",
              "<style scoped>\n",
              "    .dataframe tbody tr th:only-of-type {\n",
              "        vertical-align: middle;\n",
              "    }\n",
              "\n",
              "    .dataframe tbody tr th {\n",
              "        vertical-align: top;\n",
              "    }\n",
              "\n",
              "    .dataframe thead th {\n",
              "        text-align: right;\n",
              "    }\n",
              "</style>\n",
              "<table border=\"1\" class=\"dataframe\">\n",
              "  <thead>\n",
              "    <tr style=\"text-align: right;\">\n",
              "      <th></th>\n",
              "      <th>inst_id</th>\n",
              "      <th>OC</th>\n",
              "      <th>sido</th>\n",
              "      <th>sgg</th>\n",
              "      <th>instkind</th>\n",
              "      <th>ownerChange</th>\n",
              "      <th>openDate</th>\n",
              "      <th>bedCount</th>\n",
              "      <th>revenue1</th>\n",
              "      <th>salescost1</th>\n",
              "      <th>...</th>\n",
              "      <th>receivableL2</th>\n",
              "      <th>debt2</th>\n",
              "      <th>liquidLiabilities2</th>\n",
              "      <th>shortLoan2</th>\n",
              "      <th>NCLiabilities2</th>\n",
              "      <th>longLoan2</th>\n",
              "      <th>netAsset2</th>\n",
              "      <th>surplus2</th>\n",
              "      <th>employee1</th>\n",
              "      <th>employee2</th>\n",
              "    </tr>\n",
              "  </thead>\n",
              "  <tbody>\n",
              "    <tr>\n",
              "      <th>0</th>\n",
              "      <td>1</td>\n",
              "      <td>1</td>\n",
              "      <td>0</td>\n",
              "      <td>73</td>\n",
              "      <td>0.0</td>\n",
              "      <td>0.0</td>\n",
              "      <td>0.743590</td>\n",
              "      <td>0.266768</td>\n",
              "      <td>0.027931</td>\n",
              "      <td>0.000000</td>\n",
              "      <td>...</td>\n",
              "      <td>0.000000</td>\n",
              "      <td>0.008920</td>\n",
              "      <td>0.003255</td>\n",
              "      <td>0.000000</td>\n",
              "      <td>0.010409</td>\n",
              "      <td>0.011977</td>\n",
              "      <td>0.156855</td>\n",
              "      <td>0.056834</td>\n",
              "      <td>0.051667</td>\n",
              "      <td>0.053333</td>\n",
              "    </tr>\n",
              "    <tr>\n",
              "      <th>1</th>\n",
              "      <td>3</td>\n",
              "      <td>1</td>\n",
              "      <td>1</td>\n",
              "      <td>32</td>\n",
              "      <td>1.0</td>\n",
              "      <td>0.0</td>\n",
              "      <td>0.487179</td>\n",
              "      <td>0.625000</td>\n",
              "      <td>0.085310</td>\n",
              "      <td>0.020455</td>\n",
              "      <td>...</td>\n",
              "      <td>0.003413</td>\n",
              "      <td>0.095736</td>\n",
              "      <td>0.056385</td>\n",
              "      <td>0.085829</td>\n",
              "      <td>0.086814</td>\n",
              "      <td>0.083227</td>\n",
              "      <td>0.175144</td>\n",
              "      <td>0.052730</td>\n",
              "      <td>0.667500</td>\n",
              "      <td>0.677500</td>\n",
              "    </tr>\n",
              "    <tr>\n",
              "      <th>2</th>\n",
              "      <td>4</td>\n",
              "      <td>1</td>\n",
              "      <td>2</td>\n",
              "      <td>89</td>\n",
              "      <td>0.0</td>\n",
              "      <td>0.0</td>\n",
              "      <td>0.974359</td>\n",
              "      <td>0.713415</td>\n",
              "      <td>0.006652</td>\n",
              "      <td>0.005233</td>\n",
              "      <td>...</td>\n",
              "      <td>0.000000</td>\n",
              "      <td>0.000000</td>\n",
              "      <td>0.000000</td>\n",
              "      <td>0.000000</td>\n",
              "      <td>0.000000</td>\n",
              "      <td>0.000000</td>\n",
              "      <td>0.138809</td>\n",
              "      <td>0.039006</td>\n",
              "      <td>0.195000</td>\n",
              "      <td>0.000833</td>\n",
              "    </tr>\n",
              "  </tbody>\n",
              "</table>\n",
              "<p>3 rows × 58 columns</p>\n",
              "</div>\n",
              "      <button class=\"colab-df-convert\" onclick=\"convertToInteractive('df-1179c389-816a-4a96-912a-a67aae91c73b')\"\n",
              "              title=\"Convert this dataframe to an interactive table.\"\n",
              "              style=\"display:none;\">\n",
              "        \n",
              "  <svg xmlns=\"http://www.w3.org/2000/svg\" height=\"24px\"viewBox=\"0 0 24 24\"\n",
              "       width=\"24px\">\n",
              "    <path d=\"M0 0h24v24H0V0z\" fill=\"none\"/>\n",
              "    <path d=\"M18.56 5.44l.94 2.06.94-2.06 2.06-.94-2.06-.94-.94-2.06-.94 2.06-2.06.94zm-11 1L8.5 8.5l.94-2.06 2.06-.94-2.06-.94L8.5 2.5l-.94 2.06-2.06.94zm10 10l.94 2.06.94-2.06 2.06-.94-2.06-.94-.94-2.06-.94 2.06-2.06.94z\"/><path d=\"M17.41 7.96l-1.37-1.37c-.4-.4-.92-.59-1.43-.59-.52 0-1.04.2-1.43.59L10.3 9.45l-7.72 7.72c-.78.78-.78 2.05 0 2.83L4 21.41c.39.39.9.59 1.41.59.51 0 1.02-.2 1.41-.59l7.78-7.78 2.81-2.81c.8-.78.8-2.07 0-2.86zM5.41 20L4 18.59l7.72-7.72 1.47 1.35L5.41 20z\"/>\n",
              "  </svg>\n",
              "      </button>\n",
              "      \n",
              "  <style>\n",
              "    .colab-df-container {\n",
              "      display:flex;\n",
              "      flex-wrap:wrap;\n",
              "      gap: 12px;\n",
              "    }\n",
              "\n",
              "    .colab-df-convert {\n",
              "      background-color: #E8F0FE;\n",
              "      border: none;\n",
              "      border-radius: 50%;\n",
              "      cursor: pointer;\n",
              "      display: none;\n",
              "      fill: #1967D2;\n",
              "      height: 32px;\n",
              "      padding: 0 0 0 0;\n",
              "      width: 32px;\n",
              "    }\n",
              "\n",
              "    .colab-df-convert:hover {\n",
              "      background-color: #E2EBFA;\n",
              "      box-shadow: 0px 1px 2px rgba(60, 64, 67, 0.3), 0px 1px 3px 1px rgba(60, 64, 67, 0.15);\n",
              "      fill: #174EA6;\n",
              "    }\n",
              "\n",
              "    [theme=dark] .colab-df-convert {\n",
              "      background-color: #3B4455;\n",
              "      fill: #D2E3FC;\n",
              "    }\n",
              "\n",
              "    [theme=dark] .colab-df-convert:hover {\n",
              "      background-color: #434B5C;\n",
              "      box-shadow: 0px 1px 3px 1px rgba(0, 0, 0, 0.15);\n",
              "      filter: drop-shadow(0px 1px 2px rgba(0, 0, 0, 0.3));\n",
              "      fill: #FFFFFF;\n",
              "    }\n",
              "  </style>\n",
              "\n",
              "      <script>\n",
              "        const buttonEl =\n",
              "          document.querySelector('#df-1179c389-816a-4a96-912a-a67aae91c73b button.colab-df-convert');\n",
              "        buttonEl.style.display =\n",
              "          google.colab.kernel.accessAllowed ? 'block' : 'none';\n",
              "\n",
              "        async function convertToInteractive(key) {\n",
              "          const element = document.querySelector('#df-1179c389-816a-4a96-912a-a67aae91c73b');\n",
              "          const dataTable =\n",
              "            await google.colab.kernel.invokeFunction('convertToInteractive',\n",
              "                                                     [key], {});\n",
              "          if (!dataTable) return;\n",
              "\n",
              "          const docLinkHtml = 'Like what you see? Visit the ' +\n",
              "            '<a target=\"_blank\" href=https://colab.research.google.com/notebooks/data_table.ipynb>data table notebook</a>'\n",
              "            + ' to learn more about interactive tables.';\n",
              "          element.innerHTML = '';\n",
              "          dataTable['output_type'] = 'display_data';\n",
              "          await google.colab.output.renderOutput(dataTable, element);\n",
              "          const docLink = document.createElement('div');\n",
              "          docLink.innerHTML = docLinkHtml;\n",
              "          element.appendChild(docLink);\n",
              "        }\n",
              "      </script>\n",
              "    </div>\n",
              "  </div>\n",
              "  "
            ]
          },
          "metadata": {},
          "execution_count": 27
        }
      ],
      "source": [
        "# train 스케일링 데이터 set 합치기\n",
        "train = pd.concat([train_object, train_df_scaled], axis = 1 )\n",
        "train.head(3)"
      ]
    },
    {
      "cell_type": "code",
      "execution_count": 28,
      "metadata": {
        "id": "gch6H1edObUs",
        "colab": {
          "base_uri": "https://localhost:8080/",
          "height": 237
        },
        "outputId": "f7a5a454-2c0e-43a0-fa44-3cf4d707ffd3"
      },
      "outputs": [
        {
          "output_type": "execute_result",
          "data": {
            "text/plain": [
              "   inst_id   OC  sido  sgg  instkind  ownerChange  openDate  bedCount  \\\n",
              "0        2  1.0     0  139       0.0          0.0  0.512821  0.457317   \n",
              "1        5  1.0     1  149       1.0          0.0  0.974359  0.067073   \n",
              "2        6  1.0     2  103       0.0          0.0  0.282051  0.420732   \n",
              "\n",
              "   revenue1  salescost1  ...  receivableL2     debt2  liquidLiabilities2  \\\n",
              "0  0.442549    0.000000  ...           0.0  0.651162            0.740256   \n",
              "1  0.231507    0.000000  ...           0.0  0.791039            0.614854   \n",
              "2  0.154042    0.025812  ...           0.0  0.000000            0.405672   \n",
              "\n",
              "   shortLoan2  NCLiabilities2  longLoan2  netAsset2  surplus2  employee1  \\\n",
              "0    2.111167        0.091644   0.144035   0.249630  0.164441     0.5775   \n",
              "1    1.375488        0.489479   0.562014   0.164914  0.039006     0.5775   \n",
              "2    1.240371        0.000000   0.000000   0.138809  0.268787     0.5775   \n",
              "\n",
              "   employee2  \n",
              "0     0.5775  \n",
              "1     0.5775  \n",
              "2     0.5775  \n",
              "\n",
              "[3 rows x 58 columns]"
            ],
            "text/html": [
              "\n",
              "  <div id=\"df-508766f8-b733-4e16-9f5f-5b3a526ecf62\">\n",
              "    <div class=\"colab-df-container\">\n",
              "      <div>\n",
              "<style scoped>\n",
              "    .dataframe tbody tr th:only-of-type {\n",
              "        vertical-align: middle;\n",
              "    }\n",
              "\n",
              "    .dataframe tbody tr th {\n",
              "        vertical-align: top;\n",
              "    }\n",
              "\n",
              "    .dataframe thead th {\n",
              "        text-align: right;\n",
              "    }\n",
              "</style>\n",
              "<table border=\"1\" class=\"dataframe\">\n",
              "  <thead>\n",
              "    <tr style=\"text-align: right;\">\n",
              "      <th></th>\n",
              "      <th>inst_id</th>\n",
              "      <th>OC</th>\n",
              "      <th>sido</th>\n",
              "      <th>sgg</th>\n",
              "      <th>instkind</th>\n",
              "      <th>ownerChange</th>\n",
              "      <th>openDate</th>\n",
              "      <th>bedCount</th>\n",
              "      <th>revenue1</th>\n",
              "      <th>salescost1</th>\n",
              "      <th>...</th>\n",
              "      <th>receivableL2</th>\n",
              "      <th>debt2</th>\n",
              "      <th>liquidLiabilities2</th>\n",
              "      <th>shortLoan2</th>\n",
              "      <th>NCLiabilities2</th>\n",
              "      <th>longLoan2</th>\n",
              "      <th>netAsset2</th>\n",
              "      <th>surplus2</th>\n",
              "      <th>employee1</th>\n",
              "      <th>employee2</th>\n",
              "    </tr>\n",
              "  </thead>\n",
              "  <tbody>\n",
              "    <tr>\n",
              "      <th>0</th>\n",
              "      <td>2</td>\n",
              "      <td>1.0</td>\n",
              "      <td>0</td>\n",
              "      <td>139</td>\n",
              "      <td>0.0</td>\n",
              "      <td>0.0</td>\n",
              "      <td>0.512821</td>\n",
              "      <td>0.457317</td>\n",
              "      <td>0.442549</td>\n",
              "      <td>0.000000</td>\n",
              "      <td>...</td>\n",
              "      <td>0.0</td>\n",
              "      <td>0.651162</td>\n",
              "      <td>0.740256</td>\n",
              "      <td>2.111167</td>\n",
              "      <td>0.091644</td>\n",
              "      <td>0.144035</td>\n",
              "      <td>0.249630</td>\n",
              "      <td>0.164441</td>\n",
              "      <td>0.5775</td>\n",
              "      <td>0.5775</td>\n",
              "    </tr>\n",
              "    <tr>\n",
              "      <th>1</th>\n",
              "      <td>5</td>\n",
              "      <td>1.0</td>\n",
              "      <td>1</td>\n",
              "      <td>149</td>\n",
              "      <td>1.0</td>\n",
              "      <td>0.0</td>\n",
              "      <td>0.974359</td>\n",
              "      <td>0.067073</td>\n",
              "      <td>0.231507</td>\n",
              "      <td>0.000000</td>\n",
              "      <td>...</td>\n",
              "      <td>0.0</td>\n",
              "      <td>0.791039</td>\n",
              "      <td>0.614854</td>\n",
              "      <td>1.375488</td>\n",
              "      <td>0.489479</td>\n",
              "      <td>0.562014</td>\n",
              "      <td>0.164914</td>\n",
              "      <td>0.039006</td>\n",
              "      <td>0.5775</td>\n",
              "      <td>0.5775</td>\n",
              "    </tr>\n",
              "    <tr>\n",
              "      <th>2</th>\n",
              "      <td>6</td>\n",
              "      <td>1.0</td>\n",
              "      <td>2</td>\n",
              "      <td>103</td>\n",
              "      <td>0.0</td>\n",
              "      <td>0.0</td>\n",
              "      <td>0.282051</td>\n",
              "      <td>0.420732</td>\n",
              "      <td>0.154042</td>\n",
              "      <td>0.025812</td>\n",
              "      <td>...</td>\n",
              "      <td>0.0</td>\n",
              "      <td>0.000000</td>\n",
              "      <td>0.405672</td>\n",
              "      <td>1.240371</td>\n",
              "      <td>0.000000</td>\n",
              "      <td>0.000000</td>\n",
              "      <td>0.138809</td>\n",
              "      <td>0.268787</td>\n",
              "      <td>0.5775</td>\n",
              "      <td>0.5775</td>\n",
              "    </tr>\n",
              "  </tbody>\n",
              "</table>\n",
              "<p>3 rows × 58 columns</p>\n",
              "</div>\n",
              "      <button class=\"colab-df-convert\" onclick=\"convertToInteractive('df-508766f8-b733-4e16-9f5f-5b3a526ecf62')\"\n",
              "              title=\"Convert this dataframe to an interactive table.\"\n",
              "              style=\"display:none;\">\n",
              "        \n",
              "  <svg xmlns=\"http://www.w3.org/2000/svg\" height=\"24px\"viewBox=\"0 0 24 24\"\n",
              "       width=\"24px\">\n",
              "    <path d=\"M0 0h24v24H0V0z\" fill=\"none\"/>\n",
              "    <path d=\"M18.56 5.44l.94 2.06.94-2.06 2.06-.94-2.06-.94-.94-2.06-.94 2.06-2.06.94zm-11 1L8.5 8.5l.94-2.06 2.06-.94-2.06-.94L8.5 2.5l-.94 2.06-2.06.94zm10 10l.94 2.06.94-2.06 2.06-.94-2.06-.94-.94-2.06-.94 2.06-2.06.94z\"/><path d=\"M17.41 7.96l-1.37-1.37c-.4-.4-.92-.59-1.43-.59-.52 0-1.04.2-1.43.59L10.3 9.45l-7.72 7.72c-.78.78-.78 2.05 0 2.83L4 21.41c.39.39.9.59 1.41.59.51 0 1.02-.2 1.41-.59l7.78-7.78 2.81-2.81c.8-.78.8-2.07 0-2.86zM5.41 20L4 18.59l7.72-7.72 1.47 1.35L5.41 20z\"/>\n",
              "  </svg>\n",
              "      </button>\n",
              "      \n",
              "  <style>\n",
              "    .colab-df-container {\n",
              "      display:flex;\n",
              "      flex-wrap:wrap;\n",
              "      gap: 12px;\n",
              "    }\n",
              "\n",
              "    .colab-df-convert {\n",
              "      background-color: #E8F0FE;\n",
              "      border: none;\n",
              "      border-radius: 50%;\n",
              "      cursor: pointer;\n",
              "      display: none;\n",
              "      fill: #1967D2;\n",
              "      height: 32px;\n",
              "      padding: 0 0 0 0;\n",
              "      width: 32px;\n",
              "    }\n",
              "\n",
              "    .colab-df-convert:hover {\n",
              "      background-color: #E2EBFA;\n",
              "      box-shadow: 0px 1px 2px rgba(60, 64, 67, 0.3), 0px 1px 3px 1px rgba(60, 64, 67, 0.15);\n",
              "      fill: #174EA6;\n",
              "    }\n",
              "\n",
              "    [theme=dark] .colab-df-convert {\n",
              "      background-color: #3B4455;\n",
              "      fill: #D2E3FC;\n",
              "    }\n",
              "\n",
              "    [theme=dark] .colab-df-convert:hover {\n",
              "      background-color: #434B5C;\n",
              "      box-shadow: 0px 1px 3px 1px rgba(0, 0, 0, 0.15);\n",
              "      filter: drop-shadow(0px 1px 2px rgba(0, 0, 0, 0.3));\n",
              "      fill: #FFFFFF;\n",
              "    }\n",
              "  </style>\n",
              "\n",
              "      <script>\n",
              "        const buttonEl =\n",
              "          document.querySelector('#df-508766f8-b733-4e16-9f5f-5b3a526ecf62 button.colab-df-convert');\n",
              "        buttonEl.style.display =\n",
              "          google.colab.kernel.accessAllowed ? 'block' : 'none';\n",
              "\n",
              "        async function convertToInteractive(key) {\n",
              "          const element = document.querySelector('#df-508766f8-b733-4e16-9f5f-5b3a526ecf62');\n",
              "          const dataTable =\n",
              "            await google.colab.kernel.invokeFunction('convertToInteractive',\n",
              "                                                     [key], {});\n",
              "          if (!dataTable) return;\n",
              "\n",
              "          const docLinkHtml = 'Like what you see? Visit the ' +\n",
              "            '<a target=\"_blank\" href=https://colab.research.google.com/notebooks/data_table.ipynb>data table notebook</a>'\n",
              "            + ' to learn more about interactive tables.';\n",
              "          element.innerHTML = '';\n",
              "          dataTable['output_type'] = 'display_data';\n",
              "          await google.colab.output.renderOutput(dataTable, element);\n",
              "          const docLink = document.createElement('div');\n",
              "          docLink.innerHTML = docLinkHtml;\n",
              "          element.appendChild(docLink);\n",
              "        }\n",
              "      </script>\n",
              "    </div>\n",
              "  </div>\n",
              "  "
            ]
          },
          "metadata": {},
          "execution_count": 28
        }
      ],
      "source": [
        "# train 스케일링 데이터 set 합치기\n",
        "test = pd.concat( [test_object, test_df_scaled], axis = 1 )\n",
        "test.head(3)"
      ]
    },
    {
      "cell_type": "markdown",
      "source": [
        "## 4)데이터 증강"
      ],
      "metadata": {
        "id": "zMXK8mui_bwb"
      }
    },
    {
      "cell_type": "code",
      "source": [
        "import random\n",
        "import pandas as pd\n",
        "\n",
        "float_column = train.columns.drop(['inst_id','OC', 'sido', 'sgg', 'openDate', 'instkind', 'ownerChange'])  # # object 칼럼 제외 한 float 칼럼 만들기\n",
        "\n",
        "def augmentation(n, scale, OC_label): \n",
        "  # n 배 데이터 생성\n",
        "  df_ori = train[train['OC']==OC_label] # 행 추출\n",
        "  df_aug = df_ori\n",
        "  for i in range(n-1):\n",
        "    df_aug = pd.concat([df_aug,df_ori], axis=0)\n",
        "  \n",
        "  # 데이터 변환\n",
        "  for column in float_column:\n",
        "    aug_list = []\n",
        "    for data in df_aug[column]:\n",
        "      rd_num = random.uniform(-1, 1) * scale   # random 난수 생성\n",
        "      data = data + rd_num\n",
        "      aug_list.append(data)\n",
        "    df_aug[column] = aug_list\n",
        "\n",
        "  return df_aug"
      ],
      "metadata": {
        "id": "gc6RcnyE_wEm"
      },
      "execution_count": 29,
      "outputs": []
    },
    {
      "cell_type": "code",
      "source": [
        "2250/286"
      ],
      "metadata": {
        "colab": {
          "base_uri": "https://localhost:8080/"
        },
        "id": "UU1DRUkkutkV",
        "outputId": "a907b8e6-2017-4e90-ff24-05ee45a4f0f1"
      },
      "execution_count": 30,
      "outputs": [
        {
          "output_type": "execute_result",
          "data": {
            "text/plain": [
              "7.8671328671328675"
            ]
          },
          "metadata": {},
          "execution_count": 30
        }
      ]
    },
    {
      "cell_type": "code",
      "source": [
        "# label 0,1 데이터 원하는 '배수',  'scale' 지정\n",
        "\n",
        "n = 150  # OC = 0 데이터 증강 비율\n",
        "m = 8  # OC = 1 데이터 증강 비율\n",
        "scale = 0.5  # 랜덤 난수 조절 비율\n",
        "\n",
        "train_aug = pd.concat([train, augmentation(n, scale, 0), augmentation(m, scale, 1)],axis=0)"
      ],
      "metadata": {
        "id": "KB-eAcxW_2J_"
      },
      "execution_count": 31,
      "outputs": []
    },
    {
      "cell_type": "code",
      "source": [
        "# 증강한 결과 ==> OC = 1 개수 파악하기\n",
        "sum(train_aug['OC']==1), sum(train_aug['OC']==0)"
      ],
      "metadata": {
        "colab": {
          "base_uri": "https://localhost:8080/"
        },
        "id": "tWFxpOP8_7TW",
        "outputId": "945d847d-da89-41f5-ccd1-7d48d05bd0c2"
      },
      "execution_count": 32,
      "outputs": [
        {
          "output_type": "execute_result",
          "data": {
            "text/plain": [
              "(2574, 2265)"
            ]
          },
          "metadata": {},
          "execution_count": 32
        }
      ]
    },
    {
      "cell_type": "markdown",
      "metadata": {
        "id": "Yum8uAzoiJz8"
      },
      "source": [
        "## 5)로그변환과 SMOTE"
      ]
    },
    {
      "cell_type": "markdown",
      "source": [
        "- train, test set 나누기"
      ],
      "metadata": {
        "id": "H-h09df7qZNa"
      }
    },
    {
      "cell_type": "code",
      "source": [
        "# ID 칼럼 필요 없으니 드랍\n",
        "train_aug=train_aug.drop(['inst_id'],axis=1)\n",
        "test=test.drop(['inst_id'],axis=1)\n",
        "\n",
        "# 피처 레이블 셋 만들기 \n",
        "y_train=train_aug['OC']\n",
        "X_train=train_aug.drop(['OC'],axis=1)\n",
        "\n",
        "y_test=test['OC']\n",
        "X_test=test.drop(['OC'],axis=1)"
      ],
      "metadata": {
        "id": "9SIEa1x_Wxuz"
      },
      "execution_count": 33,
      "outputs": []
    },
    {
      "cell_type": "markdown",
      "source": [
        "- 로그변환"
      ],
      "metadata": {
        "id": "K4Om1FJaqdhQ"
      }
    },
    {
      "cell_type": "code",
      "source": [
        "# 로그변환\n",
        "\n",
        "import numpy as np\n",
        "import pandas as pd\n",
        "\n",
        "def log_transform(X_train, X_test, col_not_to_apply=['receivableL2','profit1','profit2', \"sido\", \"sgg\", \"openDate\", \"instkind\", \"ownerChange\"]):\n",
        "  # col = col_notto_apply\n",
        "  X_train_log = X_train.drop(col_not_to_apply,axis = 1)\n",
        "  X_test_log = X_test.drop(col_not_to_apply,axis = 1)\n",
        "  X_train_log = np.log(X_train_log+1)\n",
        "  X_test_log = np.log(X_test_log+1)\n",
        "  X_train = pd.concat([X_train_log, X_train[col_not_to_apply]], axis=1)\n",
        "  X_test = pd.concat([X_test_log, X_test[col_not_to_apply]], axis=1)\n",
        "\n",
        "  return X_train, X_test\n",
        "\n",
        "X_train, X_test = log_transform(X_train, X_test)"
      ],
      "metadata": {
        "id": "bCm3EM4ogChB"
      },
      "execution_count": 34,
      "outputs": []
    },
    {
      "cell_type": "markdown",
      "source": [
        "- SMOTE 오버샘플링"
      ],
      "metadata": {
        "id": "mrAvFlEzzvqh"
      }
    },
    {
      "cell_type": "code",
      "source": [
        "#5 SMOTE 오버샘플링\n",
        "\n",
        "from imblearn.over_sampling import SMOTE\n",
        "\n",
        "smote=SMOTE(random_state=42)\n",
        "X_train_over,y_train_over= smote.fit_resample(X_train,y_train)\n",
        "print('SMOTE 적용 전 학습용 피처/레이블 데이터 세트 :' ,X_train.shape, y_train.shape)\n",
        "print(\"SMOTE 적용 후 학습용 피처/레이블 데이터 세트 : \",X_train_over.shape,y_train_over.shape)\n",
        "print('SMOTE 적용 후 레이블 값 분포 : \\n', pd.Series(y_train_over).value_counts())"
      ],
      "metadata": {
        "colab": {
          "base_uri": "https://localhost:8080/"
        },
        "id": "d4rqepLWriAi",
        "outputId": "af2c8cd9-f1bc-4f41-954b-a0cf457f6656"
      },
      "execution_count": 35,
      "outputs": [
        {
          "output_type": "stream",
          "name": "stdout",
          "text": [
            "SMOTE 적용 전 학습용 피처/레이블 데이터 세트 : (4839, 56) (4839,)\n",
            "SMOTE 적용 후 학습용 피처/레이블 데이터 세트 :  (5148, 56) (5148,)\n",
            "SMOTE 적용 후 레이블 값 분포 : \n",
            " 1    2574\n",
            "0    2574\n",
            "Name: OC, dtype: int64\n"
          ]
        }
      ]
    },
    {
      "cell_type": "markdown",
      "source": [
        "##6) 피처 선택"
      ],
      "metadata": {
        "id": "ZuDm4I-ouut-"
      }
    },
    {
      "cell_type": "markdown",
      "source": [
        "* 전체 변수에 대해 XGBoost Grid Search -> best_estimator에 대해 feature importacne 확인 -> 상위 10개 피처 선택"
      ],
      "metadata": {
        "id": "9S5LJLOEu1Ww"
      }
    },
    {
      "cell_type": "code",
      "source": [
        "col_top10=['openDate','sgg','sido','instkind','ownerChange','receivableL1','liquidLiabilities1','bedCount','shortLoan1','OnonCAsset1']\n",
        "X_train_10=X_train.loc[:,col_top10]\n",
        "X_test_10=X_test.loc[:,col_top10]"
      ],
      "metadata": {
        "id": "r2KGxylsuqaj"
      },
      "execution_count": 36,
      "outputs": []
    },
    {
      "cell_type": "code",
      "source": [
        "col_top6=['openDate','sgg','sido','instkind','ownerChange','receivableL1']\n",
        "X_train_6=X_train.loc[:,col_top10]\n",
        "X_test_6=X_test.loc[:,col_top10]"
      ],
      "metadata": {
        "id": "7YbsNHQMyrZB"
      },
      "execution_count": 37,
      "outputs": []
    },
    {
      "cell_type": "markdown",
      "metadata": {
        "id": "inWpuvz6QFq2"
      },
      "source": [
        "# 3.Modeling"
      ]
    },
    {
      "cell_type": "markdown",
      "source": [
        "##1) 기본 모델링"
      ],
      "metadata": {
        "id": "pp90pBm6MsZ2"
      }
    },
    {
      "cell_type": "markdown",
      "metadata": {
        "id": "rn68XNNrQLcD"
      },
      "source": [
        "###(1)RandomForest"
      ]
    },
    {
      "cell_type": "code",
      "source": [
        "from sklearn.model_selection import GridSearchCV"
      ],
      "metadata": {
        "id": "NiXyRicbVVoC"
      },
      "execution_count": 38,
      "outputs": []
    },
    {
      "cell_type": "code",
      "execution_count": 39,
      "metadata": {
        "id": "EZ3tF9OCQLCD"
      },
      "outputs": [],
      "source": [
        "from sklearn.ensemble import RandomForestClassifier\n",
        "from sklearn.metrics import accuracy_score\n",
        "import pandas as pd\n",
        "import warnings\n",
        "warnings.filterwarnings('ignore')"
      ]
    },
    {
      "cell_type": "code",
      "execution_count": 40,
      "metadata": {
        "colab": {
          "base_uri": "https://localhost:8080/"
        },
        "outputId": "850fb8fd-d6fd-4049-f65c-8907b0ae559a",
        "id": "UEyjgglDXLDt"
      },
      "outputs": [
        {
          "output_type": "stream",
          "name": "stdout",
          "text": [
            "Fitting 5 folds for each of 54 candidates, totalling 270 fits\n",
            "최적 하이퍼 파라미터:/n {'bootstrap': False, 'criterion': 'gini', 'max_depth': None, 'max_features': 10, 'min_samples_leaf': 1, 'min_samples_split': 2, 'n_estimators': 300}\n",
            "최고 예측 정확도:0.9992\n"
          ]
        }
      ],
      "source": [
        "rf_params = {\"max_depth\": [None],\n",
        "              \"max_features\": [1, 3, 10],\n",
        "              \"min_samples_split\": [2, 3, 10],\n",
        "              \"min_samples_leaf\": [1, 3, 10],\n",
        "              \"bootstrap\": [False],\n",
        "              \"n_estimators\" :[100,300],\n",
        "              \"criterion\": [\"gini\"]}\n",
        "\n",
        "RFC = RandomForestClassifier()\n",
        "\n",
        "grid_cv_rf = GridSearchCV(RFC,param_grid = rf_params, cv=5, scoring=\"accuracy\", n_jobs= 4, verbose = 1)\n",
        "grid_cv_rf.fit(X_train,y_train)\n",
        "\n",
        "print('최적 하이퍼 파라미터:/n',grid_cv_rf.best_params_)\n",
        "print('최고 예측 정확도:{0:.4f}'.format(grid_cv_rf.best_score_))"
      ]
    },
    {
      "cell_type": "code",
      "execution_count": 41,
      "metadata": {
        "id": "gukXuh_zXLDw"
      },
      "outputs": [],
      "source": [
        "pred = grid_cv_rf.best_estimator_.predict(X_test)"
      ]
    },
    {
      "cell_type": "code",
      "source": [
        "submission_ac=pd.read_csv('submission_sample.csv')\n",
        "submission_ac\n",
        "submission_ac['OC']=pred\n",
        "submission_ac\n",
        "submission_ac.to_csv('Basic_RandomForest.csv',index=False,encoding='utf-8-sig')"
      ],
      "metadata": {
        "id": "rejRyRq6XLDw"
      },
      "execution_count": 42,
      "outputs": []
    },
    {
      "cell_type": "markdown",
      "metadata": {
        "id": "9Q2oQxnNec-N"
      },
      "source": [
        "###(2)Gradient Boost"
      ]
    },
    {
      "cell_type": "code",
      "execution_count": 43,
      "metadata": {
        "id": "dtmcpD5iVNCJ"
      },
      "outputs": [],
      "source": [
        "from sklearn.ensemble import GradientBoostingClassifier\n",
        "from sklearn.model_selection import GridSearchCV\n",
        "from sklearn.metrics import accuracy_score\n",
        "import warnings\n",
        "warnings.filterwarnings('ignore')"
      ]
    },
    {
      "cell_type": "code",
      "execution_count": 44,
      "metadata": {
        "id": "owVv24wYUYYZ",
        "colab": {
          "base_uri": "https://localhost:8080/"
        },
        "outputId": "6a9e18b8-b4cd-4e65-e3f9-14d379c8c69d"
      },
      "outputs": [
        {
          "output_type": "stream",
          "name": "stdout",
          "text": [
            "최적 하이퍼 파라미터:/n {'learning_rate': 0.05, 'loss': 'deviance', 'max_depth': 5, 'n_estimators': 200}\n",
            "최고 예측 정확도:1.0000\n"
          ]
        }
      ],
      "source": [
        "gb_params={'n_estimators':[10,25,50,75,100,200],\n",
        "           'learning_rate':[0.001, 0.01,0.05,0.1],\n",
        "           'loss' : ['log_loss','deviance','exponential'],\n",
        "           'max_depth' : [3,4,5,6]}\n",
        "\n",
        "gb_clf=GradientBoostingClassifier(random_state=42)\n",
        "\n",
        "grid_cv_gb = GridSearchCV(gb_clf,param_grid=gb_params,cv=5, n_jobs=-1)\n",
        "grid_cv_gb.fit(X_train,y_train)\n",
        "\n",
        "print('최적 하이퍼 파라미터:/n',grid_cv_gb.best_params_)\n",
        "print('최고 예측 정확도:{0:.4f}'.format(grid_cv_gb.best_score_))"
      ]
    },
    {
      "cell_type": "code",
      "execution_count": 45,
      "metadata": {
        "id": "pF3BLvWXVaYC"
      },
      "outputs": [],
      "source": [
        "pred = grid_cv_gb.best_estimator_.predict(X_test)"
      ]
    },
    {
      "cell_type": "code",
      "source": [
        "submission_ac=pd.read_csv('submission_sample.csv')\n",
        "submission_ac\n",
        "submission_ac['OC']=pred\n",
        "submission_ac\n",
        "submission_ac.to_csv('Basic_GB.csv',index=False,encoding='utf-8-sig')"
      ],
      "metadata": {
        "id": "wn2YDEWeRwP6"
      },
      "execution_count": 46,
      "outputs": []
    },
    {
      "cell_type": "markdown",
      "metadata": {
        "id": "R5PtftWuemrB"
      },
      "source": [
        "###(3)LightGBM"
      ]
    },
    {
      "cell_type": "code",
      "source": [
        "from lightgbm import LGBMClassifier"
      ],
      "metadata": {
        "id": "A8ffYuSHX6_S"
      },
      "execution_count": 47,
      "outputs": []
    },
    {
      "cell_type": "code",
      "execution_count": 48,
      "metadata": {
        "id": "uQjlGwVIX6Sm",
        "colab": {
          "base_uri": "https://localhost:8080/"
        },
        "outputId": "abe508fa-a4b5-40f0-f9a6-3db5ba42affc"
      },
      "outputs": [
        {
          "output_type": "stream",
          "name": "stdout",
          "text": [
            "최적 하이퍼 파라미터:/n {'learning_rate': 0.05, 'max_depth': 6, 'n_estimators': 200, 'subsample': 0.8}\n",
            "최고 예측 정확도:1.0000\n"
          ]
        }
      ],
      "source": [
        "lgbm_params = {'n_estimators':[10,25,50,75,100,200],\n",
        "                 'learning_rate':[0.01,0.05,0.1],\n",
        "                  'max_depth':[6,10],\n",
        "                  'subsample':[0.8,1]}\n",
        "\n",
        "lgbm_clf=LGBMClassifier(random_state=42)\n",
        "grid_cv_lgbm=GridSearchCV(lgbm_clf,param_grid=lgbm_params,cv=5,scoring=\"accuracy\", n_jobs=-1)\n",
        "grid_cv_lgbm.fit(X_train,y_train)\n",
        "\n",
        "print('최적 하이퍼 파라미터:/n',grid_cv_lgbm.best_params_)\n",
        "print('최고 예측 정확도:{0:.4f}'.format(grid_cv_lgbm.best_score_))"
      ]
    },
    {
      "cell_type": "code",
      "execution_count": 49,
      "metadata": {
        "id": "dWL62UIyX6Sq"
      },
      "outputs": [],
      "source": [
        "pred = grid_cv_lgbm.best_estimator_.predict(X_test)"
      ]
    },
    {
      "cell_type": "code",
      "source": [
        "submission_ac=pd.read_csv('submission_sample.csv')\n",
        "submission_ac\n",
        "submission_ac['OC']=pred\n",
        "submission_ac\n",
        "submission_ac.to_csv('Basic_lgbm.csv',index=False,encoding='utf-8-sig')"
      ],
      "metadata": {
        "id": "3p8NMpH_X6Sr"
      },
      "execution_count": 50,
      "outputs": []
    },
    {
      "cell_type": "markdown",
      "metadata": {
        "id": "SG1uuY1reua8"
      },
      "source": [
        "###(4) XGB"
      ]
    },
    {
      "cell_type": "code",
      "execution_count": 51,
      "metadata": {
        "id": "zSLyH9tFfv8T"
      },
      "outputs": [],
      "source": [
        "from xgboost import XGBClassifier"
      ]
    },
    {
      "cell_type": "code",
      "execution_count": 52,
      "metadata": {
        "id": "ASQGs2U4Yurx",
        "colab": {
          "base_uri": "https://localhost:8080/"
        },
        "outputId": "c98f9c33-6976-49f5-8f47-49214a70edc7"
      },
      "outputs": [
        {
          "output_type": "stream",
          "name": "stdout",
          "text": [
            "Fitting 5 folds for each of 240 candidates, totalling 1200 fits\n",
            "최적 하이퍼 파라미터:/n {'learning_rate': 0.01, 'loss': 'log_loss', 'max_depth': 7, 'n_estimators': 500}\n",
            "최고 예측 정확도:1.0000\n"
          ]
        }
      ],
      "source": [
        "xgb_params = {\n",
        "  'learning_rate' : [0.001,0.01,0.05,0.1,0.3],\n",
        "  'n_estimators' : [50,100,300,500],\n",
        "  'max_depth' : [4,5,6,7],\n",
        "  'loss' : ['log_loss','deviance','exponential']\n",
        "\n",
        "}\n",
        "\n",
        "xgb_clf=XGBClassifier(random_state=42)\n",
        "grid_cv_xgb = GridSearchCV(xgb_clf,param_grid = xgb_params, cv = 5, n_jobs=-1, verbose = 1, scoring = 'accuracy')\n",
        "grid_cv_xgb.fit(X_train,y_train)\n",
        "\n",
        "print('최적 하이퍼 파라미터:/n',grid_cv_xgb.best_params_)\n",
        "print('최고 예측 정확도:{0:.4f}'.format(grid_cv_xgb.best_score_))"
      ]
    },
    {
      "cell_type": "code",
      "execution_count": 53,
      "metadata": {
        "id": "ZUYds9SwYury"
      },
      "outputs": [],
      "source": [
        "pred = grid_cv_xgb.best_estimator_.predict(X_test)"
      ]
    },
    {
      "cell_type": "code",
      "source": [
        "submission_ac=pd.read_csv('submission_sample.csv')\n",
        "submission_ac\n",
        "submission_ac['OC']=pred\n",
        "submission_ac\n",
        "submission_ac.to_csv('Basic_xgb.csv',index=False,encoding='utf-8-sig')"
      ],
      "metadata": {
        "id": "alLIzBYrYury"
      },
      "execution_count": 54,
      "outputs": []
    },
    {
      "cell_type": "markdown",
      "metadata": {
        "id": "pq9AJUM-evfx"
      },
      "source": [
        "###(5)Logistic Regression"
      ]
    },
    {
      "cell_type": "code",
      "source": [
        "from sklearn.model_selection import GridSearchCV\n",
        "from sklearn.linear_model import LogisticRegression"
      ],
      "metadata": {
        "id": "MQktPsVaZI2d"
      },
      "execution_count": 55,
      "outputs": []
    },
    {
      "cell_type": "code",
      "execution_count": 56,
      "metadata": {
        "id": "hShGLCfFZH5p",
        "colab": {
          "base_uri": "https://localhost:8080/"
        },
        "outputId": "7a29b286-133e-42f9-8914-c9e3a98d1f45"
      },
      "outputs": [
        {
          "output_type": "stream",
          "name": "stdout",
          "text": [
            "Fitting 2 folds for each of 1600 candidates, totalling 3200 fits\n",
            "최적 하이퍼 파라미터:/n {'C': 0.03359818286283781, 'max_iter': 1000, 'penalty': 'l2', 'solver': 'saga'}\n",
            "최고 예측 정확도:0.7167\n"
          ]
        }
      ],
      "source": [
        "logistic_params = {\n",
        "    'penalty' : ['l1','l2','elasticnet','none'],\n",
        "    'C' : np.logspace(-4, 4, 20),\n",
        "    'max_iter' : [100, 1000,2500, 5000],\n",
        "    'solver' : ['lbfgs','newton-cg','liblinear','sag','saga']\n",
        "\n",
        "}\n",
        "\n",
        "log_reg= LogisticRegression(random_state = 42)\n",
        "grid_cv_log = GridSearchCV(log_reg, param_grid = logistic_params, cv = 2, verbose=True, n_jobs=-1)\n",
        "grid_cv_log.fit(X_train,y_train)\n",
        "\n",
        "print('최적 하이퍼 파라미터:/n',grid_cv_log.best_params_)\n",
        "print('최고 예측 정확도:{0:.4f}'.format(grid_cv_log.best_score_))"
      ]
    },
    {
      "cell_type": "code",
      "execution_count": 57,
      "metadata": {
        "id": "xMnF9yzdZH5r"
      },
      "outputs": [],
      "source": [
        "pred = grid_cv_log.best_estimator_.predict(X_test)"
      ]
    },
    {
      "cell_type": "code",
      "source": [
        "submission_ac=pd.read_csv('submission_sample.csv')\n",
        "submission_ac\n",
        "submission_ac['OC']=pred\n",
        "submission_ac\n",
        "submission_ac.to_csv('Basic_logistic.csv',index=False,encoding='utf-8-sig')"
      ],
      "metadata": {
        "id": "HQ7ixkyYZH5r"
      },
      "execution_count": 58,
      "outputs": []
    },
    {
      "cell_type": "markdown",
      "source": [
        "## 2) Voting"
      ],
      "metadata": {
        "id": "H-_7z3QS5vyq"
      }
    },
    {
      "cell_type": "code",
      "source": [
        "from sklearn.ensemble import VotingClassifier\n",
        "\n",
        "votingC = VotingClassifier(estimators=[('rfc', grid_cv_rf.best_estimator_),('gbc',grid_cv_gb.best_estimator_),\n",
        "('lgbm', grid_cv_lgbm.best_estimator_), ('xgb',grid_cv_xgb.best_estimator_),('logRegression',grid_cv_log.best_estimator_)], voting='soft', n_jobs=4)\n",
        "\n",
        "votingC = votingC.fit(X_train, y_train)"
      ],
      "metadata": {
        "id": "S2q77ltqpHWb"
      },
      "execution_count": 59,
      "outputs": []
    },
    {
      "cell_type": "code",
      "source": [
        "y_pred=votingC.predict(X_test)"
      ],
      "metadata": {
        "id": "yD_ymP_XTMum"
      },
      "execution_count": 60,
      "outputs": []
    },
    {
      "cell_type": "code",
      "execution_count": 61,
      "metadata": {
        "id": "AAMIVXugiwe8"
      },
      "outputs": [],
      "source": [
        "submission_ac=pd.read_csv('submission_sample.csv')\n",
        "submission_ac\n",
        "submission_ac['OC']=y_pred\n",
        "submission_ac\n",
        "submission_ac.to_csv('Voting.csv',index=False,encoding='utf-8-sig')"
      ]
    },
    {
      "cell_type": "markdown",
      "source": [
        "## 3) 차원 축소 (피처 선택)"
      ],
      "metadata": {
        "id": "ApEStGGcwEly"
      }
    },
    {
      "cell_type": "markdown",
      "source": [
        "###(1) PCA\n",
        "* PCA로 data 차원축소 후 Gradient Boosting Classification"
      ],
      "metadata": {
        "id": "MRHaRS8sVB7w"
      }
    },
    {
      "cell_type": "code",
      "source": [
        "X_train.shape"
      ],
      "metadata": {
        "id": "sWPBcvt-QfUD",
        "colab": {
          "base_uri": "https://localhost:8080/"
        },
        "outputId": "e6b19480-f00c-44d8-fb28-0d06b9402fee"
      },
      "execution_count": 62,
      "outputs": [
        {
          "output_type": "execute_result",
          "data": {
            "text/plain": [
              "(4839, 56)"
            ]
          },
          "metadata": {},
          "execution_count": 62
        }
      ]
    },
    {
      "cell_type": "code",
      "source": [
        "from sklearn.decomposition import PCA\n",
        "\n",
        "pca = PCA(n_components = 56) #원본 칼럼 갯수\n",
        "pca.fit(X_train)\n",
        "X_train_pca = pca.transform(X_train)\n",
        "result = pd.DataFrame({'설명가능한 분산 비율(고윳값)':pca.explained_variance_,\n",
        "             '기여율':pca.explained_variance_ratio_},\n",
        "            index=np.array([f\"pca{num+1}\" for num in range(X_train.shape[1])]))\n",
        "result['누적기여율'] = result['기여율'].cumsum()\n",
        "result"
      ],
      "metadata": {
        "id": "em---4LXOOLg",
        "colab": {
          "base_uri": "https://localhost:8080/",
          "height": 1000
        },
        "outputId": "bc495216-ec7e-4922-f42c-cb19848372eb"
      },
      "execution_count": 63,
      "outputs": [
        {
          "output_type": "execute_result",
          "data": {
            "text/plain": [
              "       설명가능한 분산 비율(고윳값)       기여율     누적기여율\n",
              "pca1        2936.732613  0.992551  0.992551\n",
              "pca2          15.308196  0.005174  0.997725\n",
              "pca3           2.051186  0.000693  0.998418\n",
              "pca4           0.289080  0.000098  0.998516\n",
              "pca5           0.190632  0.000064  0.998580\n",
              "pca6           0.130900  0.000044  0.998625\n",
              "pca7           0.115196  0.000039  0.998663\n",
              "pca8           0.103866  0.000035  0.998699\n",
              "pca9           0.101808  0.000034  0.998733\n",
              "pca10          0.098431  0.000033  0.998766\n",
              "pca11          0.097242  0.000033  0.998799\n",
              "pca12          0.096157  0.000032  0.998832\n",
              "pca13          0.094737  0.000032  0.998864\n",
              "pca14          0.093976  0.000032  0.998895\n",
              "pca15          0.093429  0.000032  0.998927\n",
              "pca16          0.092799  0.000031  0.998958\n",
              "pca17          0.092589  0.000031  0.998990\n",
              "pca18          0.090833  0.000031  0.999020\n",
              "pca19          0.089881  0.000030  0.999051\n",
              "pca20          0.088900  0.000030  0.999081\n",
              "pca21          0.087662  0.000030  0.999110\n",
              "pca22          0.087404  0.000030  0.999140\n",
              "pca23          0.086378  0.000029  0.999169\n",
              "pca24          0.086009  0.000029  0.999198\n",
              "pca25          0.085576  0.000029  0.999227\n",
              "pca26          0.084231  0.000028  0.999256\n",
              "pca27          0.083989  0.000028  0.999284\n",
              "pca28          0.083464  0.000028  0.999312\n",
              "pca29          0.082898  0.000028  0.999340\n",
              "pca30          0.081895  0.000028  0.999368\n",
              "pca31          0.081546  0.000028  0.999395\n",
              "pca32          0.080934  0.000027  0.999423\n",
              "pca33          0.080693  0.000027  0.999450\n",
              "pca34          0.079978  0.000027  0.999477\n",
              "pca35          0.079145  0.000027  0.999504\n",
              "pca36          0.078567  0.000027  0.999530\n",
              "pca37          0.078430  0.000027  0.999557\n",
              "pca38          0.076752  0.000026  0.999583\n",
              "pca39          0.076504  0.000026  0.999609\n",
              "pca40          0.076050  0.000026  0.999634\n",
              "pca41          0.075745  0.000026  0.999660\n",
              "pca42          0.074334  0.000025  0.999685\n",
              "pca43          0.073872  0.000025  0.999710\n",
              "pca44          0.073637  0.000025  0.999735\n",
              "pca45          0.073459  0.000025  0.999760\n",
              "pca46          0.071908  0.000024  0.999784\n",
              "pca47          0.071184  0.000024  0.999808\n",
              "pca48          0.071028  0.000024  0.999832\n",
              "pca49          0.070301  0.000024  0.999856\n",
              "pca50          0.069440  0.000023  0.999879\n",
              "pca51          0.067572  0.000023  0.999902\n",
              "pca52          0.067357  0.000023  0.999925\n",
              "pca53          0.066206  0.000022  0.999947\n",
              "pca54          0.060506  0.000020  0.999968\n",
              "pca55          0.059518  0.000020  0.999988\n",
              "pca56          0.035641  0.000012  1.000000"
            ],
            "text/html": [
              "\n",
              "  <div id=\"df-4286ab6d-2f6c-44fa-8877-e683c6422b90\">\n",
              "    <div class=\"colab-df-container\">\n",
              "      <div>\n",
              "<style scoped>\n",
              "    .dataframe tbody tr th:only-of-type {\n",
              "        vertical-align: middle;\n",
              "    }\n",
              "\n",
              "    .dataframe tbody tr th {\n",
              "        vertical-align: top;\n",
              "    }\n",
              "\n",
              "    .dataframe thead th {\n",
              "        text-align: right;\n",
              "    }\n",
              "</style>\n",
              "<table border=\"1\" class=\"dataframe\">\n",
              "  <thead>\n",
              "    <tr style=\"text-align: right;\">\n",
              "      <th></th>\n",
              "      <th>설명가능한 분산 비율(고윳값)</th>\n",
              "      <th>기여율</th>\n",
              "      <th>누적기여율</th>\n",
              "    </tr>\n",
              "  </thead>\n",
              "  <tbody>\n",
              "    <tr>\n",
              "      <th>pca1</th>\n",
              "      <td>2936.732613</td>\n",
              "      <td>0.992551</td>\n",
              "      <td>0.992551</td>\n",
              "    </tr>\n",
              "    <tr>\n",
              "      <th>pca2</th>\n",
              "      <td>15.308196</td>\n",
              "      <td>0.005174</td>\n",
              "      <td>0.997725</td>\n",
              "    </tr>\n",
              "    <tr>\n",
              "      <th>pca3</th>\n",
              "      <td>2.051186</td>\n",
              "      <td>0.000693</td>\n",
              "      <td>0.998418</td>\n",
              "    </tr>\n",
              "    <tr>\n",
              "      <th>pca4</th>\n",
              "      <td>0.289080</td>\n",
              "      <td>0.000098</td>\n",
              "      <td>0.998516</td>\n",
              "    </tr>\n",
              "    <tr>\n",
              "      <th>pca5</th>\n",
              "      <td>0.190632</td>\n",
              "      <td>0.000064</td>\n",
              "      <td>0.998580</td>\n",
              "    </tr>\n",
              "    <tr>\n",
              "      <th>pca6</th>\n",
              "      <td>0.130900</td>\n",
              "      <td>0.000044</td>\n",
              "      <td>0.998625</td>\n",
              "    </tr>\n",
              "    <tr>\n",
              "      <th>pca7</th>\n",
              "      <td>0.115196</td>\n",
              "      <td>0.000039</td>\n",
              "      <td>0.998663</td>\n",
              "    </tr>\n",
              "    <tr>\n",
              "      <th>pca8</th>\n",
              "      <td>0.103866</td>\n",
              "      <td>0.000035</td>\n",
              "      <td>0.998699</td>\n",
              "    </tr>\n",
              "    <tr>\n",
              "      <th>pca9</th>\n",
              "      <td>0.101808</td>\n",
              "      <td>0.000034</td>\n",
              "      <td>0.998733</td>\n",
              "    </tr>\n",
              "    <tr>\n",
              "      <th>pca10</th>\n",
              "      <td>0.098431</td>\n",
              "      <td>0.000033</td>\n",
              "      <td>0.998766</td>\n",
              "    </tr>\n",
              "    <tr>\n",
              "      <th>pca11</th>\n",
              "      <td>0.097242</td>\n",
              "      <td>0.000033</td>\n",
              "      <td>0.998799</td>\n",
              "    </tr>\n",
              "    <tr>\n",
              "      <th>pca12</th>\n",
              "      <td>0.096157</td>\n",
              "      <td>0.000032</td>\n",
              "      <td>0.998832</td>\n",
              "    </tr>\n",
              "    <tr>\n",
              "      <th>pca13</th>\n",
              "      <td>0.094737</td>\n",
              "      <td>0.000032</td>\n",
              "      <td>0.998864</td>\n",
              "    </tr>\n",
              "    <tr>\n",
              "      <th>pca14</th>\n",
              "      <td>0.093976</td>\n",
              "      <td>0.000032</td>\n",
              "      <td>0.998895</td>\n",
              "    </tr>\n",
              "    <tr>\n",
              "      <th>pca15</th>\n",
              "      <td>0.093429</td>\n",
              "      <td>0.000032</td>\n",
              "      <td>0.998927</td>\n",
              "    </tr>\n",
              "    <tr>\n",
              "      <th>pca16</th>\n",
              "      <td>0.092799</td>\n",
              "      <td>0.000031</td>\n",
              "      <td>0.998958</td>\n",
              "    </tr>\n",
              "    <tr>\n",
              "      <th>pca17</th>\n",
              "      <td>0.092589</td>\n",
              "      <td>0.000031</td>\n",
              "      <td>0.998990</td>\n",
              "    </tr>\n",
              "    <tr>\n",
              "      <th>pca18</th>\n",
              "      <td>0.090833</td>\n",
              "      <td>0.000031</td>\n",
              "      <td>0.999020</td>\n",
              "    </tr>\n",
              "    <tr>\n",
              "      <th>pca19</th>\n",
              "      <td>0.089881</td>\n",
              "      <td>0.000030</td>\n",
              "      <td>0.999051</td>\n",
              "    </tr>\n",
              "    <tr>\n",
              "      <th>pca20</th>\n",
              "      <td>0.088900</td>\n",
              "      <td>0.000030</td>\n",
              "      <td>0.999081</td>\n",
              "    </tr>\n",
              "    <tr>\n",
              "      <th>pca21</th>\n",
              "      <td>0.087662</td>\n",
              "      <td>0.000030</td>\n",
              "      <td>0.999110</td>\n",
              "    </tr>\n",
              "    <tr>\n",
              "      <th>pca22</th>\n",
              "      <td>0.087404</td>\n",
              "      <td>0.000030</td>\n",
              "      <td>0.999140</td>\n",
              "    </tr>\n",
              "    <tr>\n",
              "      <th>pca23</th>\n",
              "      <td>0.086378</td>\n",
              "      <td>0.000029</td>\n",
              "      <td>0.999169</td>\n",
              "    </tr>\n",
              "    <tr>\n",
              "      <th>pca24</th>\n",
              "      <td>0.086009</td>\n",
              "      <td>0.000029</td>\n",
              "      <td>0.999198</td>\n",
              "    </tr>\n",
              "    <tr>\n",
              "      <th>pca25</th>\n",
              "      <td>0.085576</td>\n",
              "      <td>0.000029</td>\n",
              "      <td>0.999227</td>\n",
              "    </tr>\n",
              "    <tr>\n",
              "      <th>pca26</th>\n",
              "      <td>0.084231</td>\n",
              "      <td>0.000028</td>\n",
              "      <td>0.999256</td>\n",
              "    </tr>\n",
              "    <tr>\n",
              "      <th>pca27</th>\n",
              "      <td>0.083989</td>\n",
              "      <td>0.000028</td>\n",
              "      <td>0.999284</td>\n",
              "    </tr>\n",
              "    <tr>\n",
              "      <th>pca28</th>\n",
              "      <td>0.083464</td>\n",
              "      <td>0.000028</td>\n",
              "      <td>0.999312</td>\n",
              "    </tr>\n",
              "    <tr>\n",
              "      <th>pca29</th>\n",
              "      <td>0.082898</td>\n",
              "      <td>0.000028</td>\n",
              "      <td>0.999340</td>\n",
              "    </tr>\n",
              "    <tr>\n",
              "      <th>pca30</th>\n",
              "      <td>0.081895</td>\n",
              "      <td>0.000028</td>\n",
              "      <td>0.999368</td>\n",
              "    </tr>\n",
              "    <tr>\n",
              "      <th>pca31</th>\n",
              "      <td>0.081546</td>\n",
              "      <td>0.000028</td>\n",
              "      <td>0.999395</td>\n",
              "    </tr>\n",
              "    <tr>\n",
              "      <th>pca32</th>\n",
              "      <td>0.080934</td>\n",
              "      <td>0.000027</td>\n",
              "      <td>0.999423</td>\n",
              "    </tr>\n",
              "    <tr>\n",
              "      <th>pca33</th>\n",
              "      <td>0.080693</td>\n",
              "      <td>0.000027</td>\n",
              "      <td>0.999450</td>\n",
              "    </tr>\n",
              "    <tr>\n",
              "      <th>pca34</th>\n",
              "      <td>0.079978</td>\n",
              "      <td>0.000027</td>\n",
              "      <td>0.999477</td>\n",
              "    </tr>\n",
              "    <tr>\n",
              "      <th>pca35</th>\n",
              "      <td>0.079145</td>\n",
              "      <td>0.000027</td>\n",
              "      <td>0.999504</td>\n",
              "    </tr>\n",
              "    <tr>\n",
              "      <th>pca36</th>\n",
              "      <td>0.078567</td>\n",
              "      <td>0.000027</td>\n",
              "      <td>0.999530</td>\n",
              "    </tr>\n",
              "    <tr>\n",
              "      <th>pca37</th>\n",
              "      <td>0.078430</td>\n",
              "      <td>0.000027</td>\n",
              "      <td>0.999557</td>\n",
              "    </tr>\n",
              "    <tr>\n",
              "      <th>pca38</th>\n",
              "      <td>0.076752</td>\n",
              "      <td>0.000026</td>\n",
              "      <td>0.999583</td>\n",
              "    </tr>\n",
              "    <tr>\n",
              "      <th>pca39</th>\n",
              "      <td>0.076504</td>\n",
              "      <td>0.000026</td>\n",
              "      <td>0.999609</td>\n",
              "    </tr>\n",
              "    <tr>\n",
              "      <th>pca40</th>\n",
              "      <td>0.076050</td>\n",
              "      <td>0.000026</td>\n",
              "      <td>0.999634</td>\n",
              "    </tr>\n",
              "    <tr>\n",
              "      <th>pca41</th>\n",
              "      <td>0.075745</td>\n",
              "      <td>0.000026</td>\n",
              "      <td>0.999660</td>\n",
              "    </tr>\n",
              "    <tr>\n",
              "      <th>pca42</th>\n",
              "      <td>0.074334</td>\n",
              "      <td>0.000025</td>\n",
              "      <td>0.999685</td>\n",
              "    </tr>\n",
              "    <tr>\n",
              "      <th>pca43</th>\n",
              "      <td>0.073872</td>\n",
              "      <td>0.000025</td>\n",
              "      <td>0.999710</td>\n",
              "    </tr>\n",
              "    <tr>\n",
              "      <th>pca44</th>\n",
              "      <td>0.073637</td>\n",
              "      <td>0.000025</td>\n",
              "      <td>0.999735</td>\n",
              "    </tr>\n",
              "    <tr>\n",
              "      <th>pca45</th>\n",
              "      <td>0.073459</td>\n",
              "      <td>0.000025</td>\n",
              "      <td>0.999760</td>\n",
              "    </tr>\n",
              "    <tr>\n",
              "      <th>pca46</th>\n",
              "      <td>0.071908</td>\n",
              "      <td>0.000024</td>\n",
              "      <td>0.999784</td>\n",
              "    </tr>\n",
              "    <tr>\n",
              "      <th>pca47</th>\n",
              "      <td>0.071184</td>\n",
              "      <td>0.000024</td>\n",
              "      <td>0.999808</td>\n",
              "    </tr>\n",
              "    <tr>\n",
              "      <th>pca48</th>\n",
              "      <td>0.071028</td>\n",
              "      <td>0.000024</td>\n",
              "      <td>0.999832</td>\n",
              "    </tr>\n",
              "    <tr>\n",
              "      <th>pca49</th>\n",
              "      <td>0.070301</td>\n",
              "      <td>0.000024</td>\n",
              "      <td>0.999856</td>\n",
              "    </tr>\n",
              "    <tr>\n",
              "      <th>pca50</th>\n",
              "      <td>0.069440</td>\n",
              "      <td>0.000023</td>\n",
              "      <td>0.999879</td>\n",
              "    </tr>\n",
              "    <tr>\n",
              "      <th>pca51</th>\n",
              "      <td>0.067572</td>\n",
              "      <td>0.000023</td>\n",
              "      <td>0.999902</td>\n",
              "    </tr>\n",
              "    <tr>\n",
              "      <th>pca52</th>\n",
              "      <td>0.067357</td>\n",
              "      <td>0.000023</td>\n",
              "      <td>0.999925</td>\n",
              "    </tr>\n",
              "    <tr>\n",
              "      <th>pca53</th>\n",
              "      <td>0.066206</td>\n",
              "      <td>0.000022</td>\n",
              "      <td>0.999947</td>\n",
              "    </tr>\n",
              "    <tr>\n",
              "      <th>pca54</th>\n",
              "      <td>0.060506</td>\n",
              "      <td>0.000020</td>\n",
              "      <td>0.999968</td>\n",
              "    </tr>\n",
              "    <tr>\n",
              "      <th>pca55</th>\n",
              "      <td>0.059518</td>\n",
              "      <td>0.000020</td>\n",
              "      <td>0.999988</td>\n",
              "    </tr>\n",
              "    <tr>\n",
              "      <th>pca56</th>\n",
              "      <td>0.035641</td>\n",
              "      <td>0.000012</td>\n",
              "      <td>1.000000</td>\n",
              "    </tr>\n",
              "  </tbody>\n",
              "</table>\n",
              "</div>\n",
              "      <button class=\"colab-df-convert\" onclick=\"convertToInteractive('df-4286ab6d-2f6c-44fa-8877-e683c6422b90')\"\n",
              "              title=\"Convert this dataframe to an interactive table.\"\n",
              "              style=\"display:none;\">\n",
              "        \n",
              "  <svg xmlns=\"http://www.w3.org/2000/svg\" height=\"24px\"viewBox=\"0 0 24 24\"\n",
              "       width=\"24px\">\n",
              "    <path d=\"M0 0h24v24H0V0z\" fill=\"none\"/>\n",
              "    <path d=\"M18.56 5.44l.94 2.06.94-2.06 2.06-.94-2.06-.94-.94-2.06-.94 2.06-2.06.94zm-11 1L8.5 8.5l.94-2.06 2.06-.94-2.06-.94L8.5 2.5l-.94 2.06-2.06.94zm10 10l.94 2.06.94-2.06 2.06-.94-2.06-.94-.94-2.06-.94 2.06-2.06.94z\"/><path d=\"M17.41 7.96l-1.37-1.37c-.4-.4-.92-.59-1.43-.59-.52 0-1.04.2-1.43.59L10.3 9.45l-7.72 7.72c-.78.78-.78 2.05 0 2.83L4 21.41c.39.39.9.59 1.41.59.51 0 1.02-.2 1.41-.59l7.78-7.78 2.81-2.81c.8-.78.8-2.07 0-2.86zM5.41 20L4 18.59l7.72-7.72 1.47 1.35L5.41 20z\"/>\n",
              "  </svg>\n",
              "      </button>\n",
              "      \n",
              "  <style>\n",
              "    .colab-df-container {\n",
              "      display:flex;\n",
              "      flex-wrap:wrap;\n",
              "      gap: 12px;\n",
              "    }\n",
              "\n",
              "    .colab-df-convert {\n",
              "      background-color: #E8F0FE;\n",
              "      border: none;\n",
              "      border-radius: 50%;\n",
              "      cursor: pointer;\n",
              "      display: none;\n",
              "      fill: #1967D2;\n",
              "      height: 32px;\n",
              "      padding: 0 0 0 0;\n",
              "      width: 32px;\n",
              "    }\n",
              "\n",
              "    .colab-df-convert:hover {\n",
              "      background-color: #E2EBFA;\n",
              "      box-shadow: 0px 1px 2px rgba(60, 64, 67, 0.3), 0px 1px 3px 1px rgba(60, 64, 67, 0.15);\n",
              "      fill: #174EA6;\n",
              "    }\n",
              "\n",
              "    [theme=dark] .colab-df-convert {\n",
              "      background-color: #3B4455;\n",
              "      fill: #D2E3FC;\n",
              "    }\n",
              "\n",
              "    [theme=dark] .colab-df-convert:hover {\n",
              "      background-color: #434B5C;\n",
              "      box-shadow: 0px 1px 3px 1px rgba(0, 0, 0, 0.15);\n",
              "      filter: drop-shadow(0px 1px 2px rgba(0, 0, 0, 0.3));\n",
              "      fill: #FFFFFF;\n",
              "    }\n",
              "  </style>\n",
              "\n",
              "      <script>\n",
              "        const buttonEl =\n",
              "          document.querySelector('#df-4286ab6d-2f6c-44fa-8877-e683c6422b90 button.colab-df-convert');\n",
              "        buttonEl.style.display =\n",
              "          google.colab.kernel.accessAllowed ? 'block' : 'none';\n",
              "\n",
              "        async function convertToInteractive(key) {\n",
              "          const element = document.querySelector('#df-4286ab6d-2f6c-44fa-8877-e683c6422b90');\n",
              "          const dataTable =\n",
              "            await google.colab.kernel.invokeFunction('convertToInteractive',\n",
              "                                                     [key], {});\n",
              "          if (!dataTable) return;\n",
              "\n",
              "          const docLinkHtml = 'Like what you see? Visit the ' +\n",
              "            '<a target=\"_blank\" href=https://colab.research.google.com/notebooks/data_table.ipynb>data table notebook</a>'\n",
              "            + ' to learn more about interactive tables.';\n",
              "          element.innerHTML = '';\n",
              "          dataTable['output_type'] = 'display_data';\n",
              "          await google.colab.output.renderOutput(dataTable, element);\n",
              "          const docLink = document.createElement('div');\n",
              "          docLink.innerHTML = docLinkHtml;\n",
              "          element.appendChild(docLink);\n",
              "        }\n",
              "      </script>\n",
              "    </div>\n",
              "  </div>\n",
              "  "
            ]
          },
          "metadata": {},
          "execution_count": 63
        }
      ]
    },
    {
      "cell_type": "code",
      "source": [
        "pca = PCA(n_components = 1) #주성분 1로 설정\n",
        "pca.fit(X_train)\n",
        "X_train_pca = pca.transform(X_train)\n",
        "X_test_pca = pca.transform(X_test)"
      ],
      "metadata": {
        "id": "EeZVh32hRkQg"
      },
      "execution_count": 64,
      "outputs": []
    },
    {
      "cell_type": "code",
      "source": [
        "gb_params={'n_estimators':[10,25,50,75,100,200],\n",
        "           'learning_rate':[0.001, 0.01,0.05,0.1],\n",
        "           'loss' : ['log_loss','deviance','exponential'],\n",
        "           'max_depth' : [3,4,5,6]}\n",
        "\n",
        "gb_clf_pca=GradientBoostingClassifier(random_state=42)\n",
        "\n",
        "grid_cv_gb_pca = GridSearchCV(gb_clf_pca,param_grid=gb_params,cv=5, n_jobs=-1)\n",
        "grid_cv_gb_pca.fit(X_train_pca,y_train)\n",
        "\n",
        "print('최적 하이퍼 파라미터:/n',grid_cv_gb_pca.best_params_)\n",
        "print('최고 예측 정확도:{0:.4f}'.format(grid_cv_gb_pca.best_score_))"
      ],
      "metadata": {
        "id": "Gtt1TjZzSVje",
        "colab": {
          "base_uri": "https://localhost:8080/"
        },
        "outputId": "69c8f40a-099c-4334-cd55-3c719b58dec7"
      },
      "execution_count": 65,
      "outputs": [
        {
          "output_type": "stream",
          "name": "stdout",
          "text": [
            "최적 하이퍼 파라미터:/n {'learning_rate': 0.05, 'loss': 'deviance', 'max_depth': 5, 'n_estimators': 100}\n",
            "최고 예측 정확도:0.9791\n"
          ]
        }
      ]
    },
    {
      "cell_type": "code",
      "source": [
        "pred = grid_cv_gb_pca.best_estimator_.predict(X_test_pca)"
      ],
      "metadata": {
        "id": "8v0pfpQ6Sd1Q"
      },
      "execution_count": 66,
      "outputs": []
    },
    {
      "cell_type": "code",
      "source": [
        "submission_ac=pd.read_csv('submission_sample.csv')\n",
        "submission_ac\n",
        "submission_ac['OC']=pred\n",
        "submission_ac\n",
        "submission_ac.to_csv('pca_gb.csv',index=False,encoding='utf-8-sig')"
      ],
      "metadata": {
        "id": "pQH5dizaSi1w"
      },
      "execution_count": 69,
      "outputs": []
    },
    {
      "cell_type": "markdown",
      "source": [
        "###(2) XGBoost feature importacne"
      ],
      "metadata": {
        "id": "_ShEhhr1V1-E"
      }
    },
    {
      "cell_type": "markdown",
      "source": [
        "* 전체 변수에 대해 XGBoost Grid Search -> best_estimator에 대해 feature importacne 확인 -> 상위 10개 피처 선택"
      ],
      "metadata": {
        "id": "6MOucOjiV9uw"
      }
    },
    {
      "cell_type": "code",
      "source": [
        "grid_cv_xgb.best_estimator_.feature_importances_"
      ],
      "metadata": {
        "id": "fu-EPeNkWDnC",
        "colab": {
          "base_uri": "https://localhost:8080/"
        },
        "outputId": "6d681b3e-f5e9-45ab-b05b-d10d608dcd4f"
      },
      "execution_count": 70,
      "outputs": [
        {
          "output_type": "execute_result",
          "data": {
            "text/plain": [
              "array([1.8362325e-03, 1.0092366e-02, 6.7672931e-04, 9.2262373e-04,\n",
              "       1.3151966e-03, 1.5368878e-05, 5.2437391e-02, 2.0287796e-03,\n",
              "       1.3172571e-03, 0.0000000e+00, 3.0144400e-04, 4.5000808e-04,\n",
              "       1.1406658e-03, 4.8089065e-04, 0.0000000e+00, 1.9874794e-02,\n",
              "       1.0905930e-01, 1.0389906e-03, 1.3018376e-04, 2.6020044e-02,\n",
              "       8.4106699e-03, 5.9144604e-03, 2.2857905e-04, 6.3534378e-04,\n",
              "       5.0743681e-04, 0.0000000e+00, 1.6781136e-03, 0.0000000e+00,\n",
              "       7.6223731e-02, 2.3994886e-04, 6.9161830e-04, 6.4662588e-04,\n",
              "       1.0508951e-03, 1.8587208e-03, 0.0000000e+00, 1.4363350e-03,\n",
              "       1.0052249e-03, 0.0000000e+00, 1.2814032e-04, 2.1801759e-03,\n",
              "       3.4407765e-02, 4.4807963e-02, 1.2112379e-03, 1.4068594e-03,\n",
              "       1.0735578e-03, 2.3691008e-04, 4.1939965e-03, 0.0000000e+00,\n",
              "       2.2534519e-03, 1.0735034e-03, 2.6334997e-03, 1.0259008e-01,\n",
              "       5.9623260e-02, 1.2447246e-01, 5.1818915e-02, 2.3622233e-01],\n",
              "      dtype=float32)"
            ]
          },
          "metadata": {},
          "execution_count": 70
        }
      ]
    },
    {
      "cell_type": "code",
      "source": [
        "from xgboost import plot_importance\n",
        "plot_importance(grid_cv_xgb.best_estimator_,max_num_features=10)\n",
        "plt.show()\n",
        "\n",
        "#Top10 : ['OpenDate','sgg','sido','instkind','ownerChange','receivableL1','liquidLiabilities1','bedCount','shortLoan1','OnonCAsset1']"
      ],
      "metadata": {
        "id": "BQlpYykGWDnE",
        "colab": {
          "base_uri": "https://localhost:8080/",
          "height": 295
        },
        "outputId": "9769aa7a-7dad-4a4d-d004-17cb61c910af"
      },
      "execution_count": 71,
      "outputs": [
        {
          "output_type": "display_data",
          "data": {
            "text/plain": [
              "<Figure size 432x288 with 1 Axes>"
            ],
            "image/png": "[encoded data removed]"
          },
          "metadata": {
            "needs_background": "light"
          }
        }
      ]
    },
    {
      "cell_type": "code",
      "source": [
        "# 피처 TOP10 Data set 생성\n",
        "col_top10=['openDate','sgg','sido','instkind','ownerChange','receivableL1','liquidLiabilities1','bedCount','shortLoan1','OnonCAsset1']\n",
        "X_train_10=X_train.loc[:,col_top10]\n",
        "X_test_10=X_test.loc[:,col_top10]"
      ],
      "metadata": {
        "id": "FxTVQ5Z9V9ux"
      },
      "execution_count": 72,
      "outputs": []
    },
    {
      "cell_type": "code",
      "source": [
        "# 피처 TOP6 Data set 생성\n",
        "col_top6=['openDate','sgg','sido','instkind','ownerChange','receivableL1']\n",
        "X_train_6=X_train.loc[:,col_top10]\n",
        "X_test_6=X_test.loc[:,col_top10]"
      ],
      "metadata": {
        "id": "IsEvt587V9uy"
      },
      "execution_count": 73,
      "outputs": []
    },
    {
      "cell_type": "markdown",
      "source": [
        "#####(i) TOP10 - RandomForest"
      ],
      "metadata": {
        "id": "rOuFaJo03beg"
      }
    },
    {
      "cell_type": "code",
      "execution_count": 74,
      "metadata": {
        "id": "Xwth3xHpc8LU",
        "colab": {
          "base_uri": "https://localhost:8080/"
        },
        "outputId": "ac4e989a-bb23-4564-fc4d-91751ea25754"
      },
      "outputs": [
        {
          "output_type": "stream",
          "name": "stdout",
          "text": [
            "Fitting 5 folds for each of 54 candidates, totalling 270 fits\n",
            "최적 하이퍼 파라미터:/n {'bootstrap': False, 'criterion': 'gini', 'max_depth': None, 'max_features': 3, 'min_samples_leaf': 1, 'min_samples_split': 2, 'n_estimators': 100}\n",
            "최고 예측 정확도:1.0000\n"
          ]
        }
      ],
      "source": [
        "rf_params = {\"max_depth\": [None],\n",
        "              \"max_features\": [1, 3, 10],\n",
        "              \"min_samples_split\": [2, 3, 10],\n",
        "              \"min_samples_leaf\": [1, 3, 10],\n",
        "              \"bootstrap\": [False],\n",
        "              \"n_estimators\" :[100,300],\n",
        "              \"criterion\": [\"gini\"]}\n",
        "\n",
        "RFC = RandomForestClassifier()\n",
        "\n",
        "grid_cv_rf_10 = GridSearchCV(RFC,param_grid = rf_params, cv=5, scoring=\"accuracy\", n_jobs= 4, verbose = 1)\n",
        "grid_cv_rf_10.fit(X_train_10,y_train)\n",
        "\n",
        "print('최적 하이퍼 파라미터:/n',grid_cv_rf_10.best_params_)\n",
        "print('최고 예측 정확도:{0:.4f}'.format(grid_cv_rf_10.best_score_))"
      ]
    },
    {
      "cell_type": "code",
      "execution_count": 75,
      "metadata": {
        "id": "zVz1fjMLc8LV"
      },
      "outputs": [],
      "source": [
        "pred = grid_cv_rf_10.best_estimator_.predict(X_test_10)"
      ]
    },
    {
      "cell_type": "code",
      "source": [
        "submission_ac=pd.read_csv('submission_sample.csv')\n",
        "submission_ac\n",
        "submission_ac['OC']=pred\n",
        "submission_ac.to_csv('Top10_RandomForest.csv',index=False,encoding='utf-8-sig')"
      ],
      "metadata": {
        "id": "ZTZdaJKEc8LW"
      },
      "execution_count": 76,
      "outputs": []
    },
    {
      "cell_type": "markdown",
      "source": [
        "#####(ii) TOP6 - RandomForest"
      ],
      "metadata": {
        "id": "tGd6Z2WTyyKb"
      }
    },
    {
      "cell_type": "code",
      "execution_count": 77,
      "metadata": {
        "id": "0PkooTdNdlQl",
        "colab": {
          "base_uri": "https://localhost:8080/"
        },
        "outputId": "9255fd08-9675-46c4-9398-670c74a0da60"
      },
      "outputs": [
        {
          "output_type": "stream",
          "name": "stdout",
          "text": [
            "Fitting 5 folds for each of 54 candidates, totalling 270 fits\n",
            "최적 하이퍼 파라미터:/n {'bootstrap': False, 'criterion': 'gini', 'max_depth': None, 'max_features': 3, 'min_samples_leaf': 1, 'min_samples_split': 2, 'n_estimators': 100}\n",
            "최고 예측 정확도:1.0000\n"
          ]
        }
      ],
      "source": [
        "rf_params = {\"max_depth\": [None],\n",
        "              \"max_features\": [1, 3, 10],\n",
        "              \"min_samples_split\": [2, 3, 10],\n",
        "              \"min_samples_leaf\": [1, 3, 10],\n",
        "              \"bootstrap\": [False],\n",
        "              \"n_estimators\" :[100,300],\n",
        "              \"criterion\": [\"gini\"]}\n",
        "\n",
        "RFC = RandomForestClassifier()\n",
        "\n",
        "grid_cv_rf_6 = GridSearchCV(RFC,param_grid = rf_params, cv=5, scoring=\"accuracy\", n_jobs= 4, verbose = 1)\n",
        "grid_cv_rf_6.fit(X_train_6,y_train)\n",
        "\n",
        "print('최적 하이퍼 파라미터:/n',grid_cv_rf_6.best_params_)\n",
        "print('최고 예측 정확도:{0:.4f}'.format(grid_cv_rf_6.best_score_))"
      ]
    },
    {
      "cell_type": "code",
      "execution_count": 78,
      "metadata": {
        "id": "TUC4TB96dlQm"
      },
      "outputs": [],
      "source": [
        "pred = grid_cv_rf_6.best_estimator_.predict(X_test_6)"
      ]
    },
    {
      "cell_type": "code",
      "source": [
        "submission_ac=pd.read_csv('submission_sample.csv')\n",
        "submission_ac\n",
        "submission_ac['OC']=pred\n",
        "submission_ac.to_csv('Top6_RandomForest.csv',index=False,encoding='utf-8-sig')"
      ],
      "metadata": {
        "id": "z-jpsjc3dlQm"
      },
      "execution_count": 79,
      "outputs": []
    },
    {
      "cell_type": "markdown",
      "source": [
        "#####(iii) TOP10 - XGBoost"
      ],
      "metadata": {
        "id": "nVvmnGrz3erd"
      }
    },
    {
      "cell_type": "code",
      "execution_count": 80,
      "metadata": {
        "id": "ng_sV8SKeV3b",
        "colab": {
          "base_uri": "https://localhost:8080/"
        },
        "outputId": "00405962-0811-45cf-d460-fcec2d0813aa"
      },
      "outputs": [
        {
          "output_type": "stream",
          "name": "stdout",
          "text": [
            "Fitting 5 folds for each of 240 candidates, totalling 1200 fits\n",
            "최적 하이퍼 파라미터:/n {'learning_rate': 0.01, 'loss': 'log_loss', 'max_depth': 7, 'n_estimators': 500}\n",
            "최고 예측 정확도:1.0000\n"
          ]
        }
      ],
      "source": [
        "xgb_params = {\n",
        "  'learning_rate' : [0.001,0.01,0.05,0.1,0.3],\n",
        "  'n_estimators' : [50,100,300,500],\n",
        "  'max_depth' : [4,5,6,7],\n",
        "  'loss' : ['log_loss','deviance','exponential']\n",
        "\n",
        "}\n",
        "\n",
        "xgb_clf=XGBClassifier(random_state=42)\n",
        "grid_cv_xgb_10 = GridSearchCV(xgb_clf,param_grid = xgb_params, cv = 5, n_jobs=-1, verbose = 1, scoring = 'accuracy')\n",
        "grid_cv_xgb_10.fit(X_train_10,y_train)\n",
        "\n",
        "print('최적 하이퍼 파라미터:/n',grid_cv_xgb_10.best_params_)\n",
        "print('최고 예측 정확도:{0:.4f}'.format(grid_cv_xgb_10.best_score_))"
      ]
    },
    {
      "cell_type": "code",
      "execution_count": 81,
      "metadata": {
        "id": "_g9OGq-YeV3b"
      },
      "outputs": [],
      "source": [
        "pred = grid_cv_xgb_10.best_estimator_.predict(X_test_10)"
      ]
    },
    {
      "cell_type": "code",
      "source": [
        "submission_ac=pd.read_csv('submission_sample.csv')\n",
        "submission_ac\n",
        "submission_ac['OC']=pred\n",
        "submission_ac\n",
        "submission_ac.to_csv('TOP10_xgb.csv',index=False,encoding='utf-8-sig')"
      ],
      "metadata": {
        "id": "kOh76Nv_eV3c"
      },
      "execution_count": 82,
      "outputs": []
    },
    {
      "cell_type": "markdown",
      "source": [
        "#####(iv) TOP6 - XGBoost"
      ],
      "metadata": {
        "id": "YnDnivpo3gWi"
      }
    },
    {
      "cell_type": "code",
      "execution_count": 83,
      "metadata": {
        "id": "EalWc5nVeqXS",
        "colab": {
          "base_uri": "https://localhost:8080/"
        },
        "outputId": "40c92159-bcf5-4ed7-8a2c-e570219ee3d8"
      },
      "outputs": [
        {
          "output_type": "stream",
          "name": "stdout",
          "text": [
            "Fitting 5 folds for each of 240 candidates, totalling 1200 fits\n",
            "최적 하이퍼 파라미터:/n {'learning_rate': 0.01, 'loss': 'log_loss', 'max_depth': 7, 'n_estimators': 500}\n",
            "최고 예측 정확도:1.0000\n"
          ]
        }
      ],
      "source": [
        "xgb_params = {\n",
        "  'learning_rate' : [0.001,0.01,0.05,0.1,0.3],\n",
        "  'n_estimators' : [50,100,300,500],\n",
        "  'max_depth' : [4,5,6,7],\n",
        "  'loss' : ['log_loss','deviance','exponential']\n",
        "\n",
        "}\n",
        "\n",
        "xgb_clf=XGBClassifier(random_state=42)\n",
        "grid_cv_xgb_6 = GridSearchCV(xgb_clf,param_grid = xgb_params, cv = 5, n_jobs=-1, verbose = 1, scoring = 'accuracy')\n",
        "grid_cv_xgb_6.fit(X_train_6,y_train)\n",
        "\n",
        "print('최적 하이퍼 파라미터:/n',grid_cv_xgb_6.best_params_)\n",
        "print('최고 예측 정확도:{0:.4f}'.format(grid_cv_xgb_6.best_score_))"
      ]
    },
    {
      "cell_type": "code",
      "execution_count": 84,
      "metadata": {
        "id": "wYT_14LDeqXU"
      },
      "outputs": [],
      "source": [
        "pred = grid_cv_xgb_6.best_estimator_.predict(X_test_6)"
      ]
    },
    {
      "cell_type": "code",
      "source": [
        "submission_ac=pd.read_csv('submission_sample.csv')\n",
        "submission_ac\n",
        "submission_ac['OC']=pred\n",
        "submission_ac\n",
        "submission_ac.to_csv('TOP6_xgb.csv',index=False,encoding='utf-8-sig')"
      ],
      "metadata": {
        "id": "Y32ceFxaeqXV"
      },
      "execution_count": 85,
      "outputs": []
    },
    {
      "cell_type": "markdown",
      "source": [
        "#####(v) TOP10-LGBM"
      ],
      "metadata": {
        "id": "U-oaPoNp_wlK"
      }
    },
    {
      "cell_type": "code",
      "execution_count": 86,
      "metadata": {
        "id": "mpO7wvP0_zPk",
        "colab": {
          "base_uri": "https://localhost:8080/"
        },
        "outputId": "d44d4aec-c27e-4c01-8f02-0b3ed439ed55"
      },
      "outputs": [
        {
          "output_type": "stream",
          "name": "stdout",
          "text": [
            "최적 하이퍼 파라미터:/n {'learning_rate': 0.1, 'max_depth': 4, 'n_estimators': 200, 'subsample': 0.8}\n",
            "최고 예측 정확도:1.0000\n"
          ]
        }
      ],
      "source": [
        "from lightgbm import LGBMClassifier\n",
        "\n",
        "lgbm_params={'n_estimators':[10,25,50,75,100,200],'learning_rate':[0.1,0.2,0.3],'max_depth':[4],'subsample':[0.8,1]}\n",
        "lgbm_clf=LGBMClassifier(random_state=42)\n",
        "grid_cv_lgbm_10=GridSearchCV(lgbm_clf,param_grid=lgbm_params,cv=5, n_jobs=-1)\n",
        "grid_cv_lgbm_10.fit(X_train_10,y_train)\n",
        "\n",
        "print('최적 하이퍼 파라미터:/n',grid_cv_lgbm_10.best_params_)\n",
        "print('최고 예측 정확도:{0:.4f}'.format(grid_cv_lgbm_10.best_score_))"
      ]
    },
    {
      "cell_type": "code",
      "execution_count": 87,
      "metadata": {
        "id": "bBfB_FLHAiO-"
      },
      "outputs": [],
      "source": [
        "pred = grid_cv_lgbm_10.best_estimator_.predict(X_test_10)"
      ]
    },
    {
      "cell_type": "code",
      "execution_count": 88,
      "metadata": {
        "id": "Dt-SMApZAiPA"
      },
      "outputs": [],
      "source": [
        "submission_ac=pd.read_csv('submission_sample.csv')\n",
        "submission_ac\n",
        "submission_ac['OC']=pred\n",
        "submission_ac\n",
        "submission_ac.to_csv('TOP10_lgbm.csv',index=False,encoding='utf-8-sig')"
      ]
    },
    {
      "cell_type": "markdown",
      "source": [
        "#####(vi) TOP6-LGBM"
      ],
      "metadata": {
        "id": "aaEnrsTzDGZ2"
      }
    },
    {
      "cell_type": "code",
      "execution_count": 89,
      "metadata": {
        "id": "eAICXQTuDGZ3",
        "colab": {
          "base_uri": "https://localhost:8080/"
        },
        "outputId": "b8a116bf-ab22-4e3d-c133-2825bd09f73d"
      },
      "outputs": [
        {
          "output_type": "stream",
          "name": "stdout",
          "text": [
            "최적 하이퍼 파라미터:/n {'learning_rate': 0.05, 'max_depth': 4, 'n_estimators': 200, 'subsample': 0.8}\n",
            "최고 예측 정확도:1.0000\n"
          ]
        }
      ],
      "source": [
        "lgbm_params={'n_estimators':[10,25,50,75,100,200],'learning_rate':[0.01,0.05,0.1],'max_depth':[4],'subsample':[0.8,1]}\n",
        "lgbm_clf=LGBMClassifier(random_state=42)\n",
        "grid_cv_lgbm_6=GridSearchCV(gb_clf,param_grid=lgbm_params,cv=5, n_jobs=-1)\n",
        "grid_cv_lgbm_6.fit(X_train_6,y_train)\n",
        "\n",
        "print('최적 하이퍼 파라미터:/n',grid_cv_lgbm_6.best_params_)\n",
        "print('최고 예측 정확도:{0:.4f}'.format(grid_cv_lgbm_6.best_score_))"
      ]
    },
    {
      "cell_type": "code",
      "execution_count": 90,
      "metadata": {
        "id": "RKGKw5p0f3yp"
      },
      "outputs": [],
      "source": [
        "pred = grid_cv_lgbm_6.best_estimator_.predict(X_test_6)"
      ]
    },
    {
      "cell_type": "code",
      "execution_count": 91,
      "metadata": {
        "id": "__-jSdrGf3yr"
      },
      "outputs": [],
      "source": [
        "submission_ac=pd.read_csv('submission_sample.csv')\n",
        "submission_ac\n",
        "submission_ac['OC']=pred\n",
        "submission_ac\n",
        "submission_ac.to_csv('TOP6_lgbm.csv',index=False,encoding='utf-8-sig')"
      ]
    },
    {
      "cell_type": "markdown",
      "source": [
        "#####(vii) TOP10-GB"
      ],
      "metadata": {
        "id": "pUNmasvMdAnw"
      }
    },
    {
      "cell_type": "code",
      "execution_count": 94,
      "metadata": {
        "colab": {
          "base_uri": "https://localhost:8080/"
        },
        "outputId": "7d38d8e9-eeb1-4f4d-ea45-dd1a7e15b626",
        "id": "Bu8Ae7ETdUDJ"
      },
      "outputs": [
        {
          "output_type": "stream",
          "name": "stdout",
          "text": [
            "최적 하이퍼 파라미터:/n {'learning_rate': 0.05, 'loss': 'deviance', 'max_depth': 4, 'n_estimators': 200}\n",
            "최고 예측 정확도:1.0000\n"
          ]
        }
      ],
      "source": [
        "gb_params={'n_estimators':[10,25,50,75,100,200],\n",
        "           'learning_rate':[0.001, 0.01,0.05,0.1],\n",
        "           'loss' : ['log_loss','deviance','exponential'],\n",
        "           'max_depth' : [3,4,5,6]}\n",
        "\n",
        "gb_clf=GradientBoostingClassifier(random_state=42)\n",
        "\n",
        "grid_cv_gb_10 = GridSearchCV(gb_clf,param_grid=gb_params,cv=5, n_jobs=-1)\n",
        "grid_cv_gb_10.fit(X_train_10,y_train)\n",
        "\n",
        "print('최적 하이퍼 파라미터:/n',grid_cv_gb_10.best_params_)\n",
        "print('최고 예측 정확도:{0:.4f}'.format(grid_cv_gb_10.best_score_))"
      ]
    },
    {
      "cell_type": "code",
      "execution_count": 96,
      "metadata": {
        "id": "JKePK1ZbdUDK"
      },
      "outputs": [],
      "source": [
        "pred = grid_cv_gb_10.best_estimator_.predict(X_test_10)"
      ]
    },
    {
      "cell_type": "code",
      "source": [
        "submission_ac=pd.read_csv('submission_sample.csv')\n",
        "submission_ac\n",
        "submission_ac['OC']=pred\n",
        "submission_ac\n",
        "submission_ac.to_csv('TOP10_GB.csv',index=False,encoding='utf-8-sig')"
      ],
      "metadata": {
        "id": "8hSE2AITdUDL"
      },
      "execution_count": 97,
      "outputs": []
    },
    {
      "cell_type": "markdown",
      "source": [
        "#####(viii) TOP10 - Logistic"
      ],
      "metadata": {
        "id": "aXlFQoL0drU_"
      }
    },
    {
      "cell_type": "code",
      "execution_count": 98,
      "metadata": {
        "colab": {
          "base_uri": "https://localhost:8080/"
        },
        "outputId": "b09c6044-f2cf-4ccc-c915-3ac53ab75fca",
        "id": "yTr27iNsdw0e"
      },
      "outputs": [
        {
          "output_type": "stream",
          "name": "stdout",
          "text": [
            "Fitting 2 folds for each of 1600 candidates, totalling 3200 fits\n",
            "최적 하이퍼 파라미터:/n {'C': 0.012742749857031334, 'max_iter': 100, 'penalty': 'l2', 'solver': 'liblinear'}\n",
            "최고 예측 정확도:0.6946\n"
          ]
        }
      ],
      "source": [
        "logistic_params = {\n",
        "    'penalty' : ['l1','l2','elasticnet','none'],\n",
        "    'C' : np.logspace(-4, 4, 20),\n",
        "    'max_iter' : [100, 1000,2500, 5000],\n",
        "    'solver' : ['lbfgs','newton-cg','liblinear','sag','saga']\n",
        "\n",
        "}\n",
        "\n",
        "log_reg= LogisticRegression(random_state = 42)\n",
        "grid_cv_log_10 = GridSearchCV(log_reg, param_grid = logistic_params, cv = 2, verbose=True, n_jobs=-1)\n",
        "grid_cv_log_10.fit(X_train_10,y_train)\n",
        "\n",
        "print('최적 하이퍼 파라미터:/n',grid_cv_log_10.best_params_)\n",
        "print('최고 예측 정확도:{0:.4f}'.format(grid_cv_log_10.best_score_))"
      ]
    },
    {
      "cell_type": "code",
      "execution_count": 99,
      "metadata": {
        "id": "aQgMn41Hdw0f"
      },
      "outputs": [],
      "source": [
        "pred = grid_cv_log_10.best_estimator_.predict(X_test_10)"
      ]
    },
    {
      "cell_type": "code",
      "source": [
        "submission_ac=pd.read_csv('submission_sample.csv')\n",
        "submission_ac\n",
        "submission_ac['OC']=pred\n",
        "submission_ac\n",
        "submission_ac.to_csv('TOP10_logistic.csv',index=False,encoding='utf-8-sig')"
      ],
      "metadata": {
        "id": "nP2JsdhBdw0f"
      },
      "execution_count": 100,
      "outputs": []
    },
    {
      "cell_type": "markdown",
      "source": [
        "###4) 스태킹"
      ],
      "metadata": {
        "id": "yhvo7jW_zfzg"
      }
    },
    {
      "cell_type": "code",
      "source": [
        "rf_pred=grid_cv_rf_10.predict(X_test_10)\n",
        "gb_pred=grid_cv_gb_10.predict(X_test_10)\n",
        "lgbm_pred = grid_cv_lgbm_10.best_estimator_.predict(X_test_10)\n",
        "log_pred=grid_cv_log_10.predict(X_test_10)\n"
      ],
      "metadata": {
        "id": "2hAJqBxWJf1d"
      },
      "execution_count": 101,
      "outputs": []
    },
    {
      "cell_type": "code",
      "source": [
        "pred=np.array([rf_pred,gb_pred,lgbm_pred,log_pred])\n",
        "\n",
        "pred = np.transpose(pred)\n",
        "print(pred.shape)"
      ],
      "metadata": {
        "id": "f8_RyZVhLezq",
        "colab": {
          "base_uri": "https://localhost:8080/"
        },
        "outputId": "87965b82-0f68-4786-fa31-61890bc84975"
      },
      "execution_count": 102,
      "outputs": [
        {
          "output_type": "stream",
          "name": "stdout",
          "text": [
            "(127, 4)\n"
          ]
        }
      ]
    },
    {
      "cell_type": "code",
      "source": [
        "grid_cv_xgb_10.fit(pred,y_test)\n",
        "final_pred = grid_cv_xgb_10.best_estimator_.predict(pred)"
      ],
      "metadata": {
        "id": "V6yRCDBuKk2_",
        "colab": {
          "base_uri": "https://localhost:8080/"
        },
        "outputId": "5f17f240-83a1-474c-81a3-2c6d6fddcfa2"
      },
      "execution_count": 103,
      "outputs": [
        {
          "output_type": "stream",
          "name": "stdout",
          "text": [
            "Fitting 5 folds for each of 240 candidates, totalling 1200 fits\n"
          ]
        }
      ]
    },
    {
      "cell_type": "code",
      "source": [
        "submission_ac=pd.read_csv('submission_sample.csv')\n",
        "submission_ac\n",
        "submission_ac['OC']=final_pred\n",
        "submission_ac\n",
        "submission_ac.to_csv('Stacking.csv',index=False,encoding='utf-8-sig')"
      ],
      "metadata": {
        "id": "tP29KZ7BLzhj"
      },
      "execution_count": 104,
      "outputs": []
    }
  ],
  "metadata": {
    "colab": {
      "collapsed_sections": [],
      "provenance": [],
      "include_colab_link": true
    },
    "kernelspec": {
      "display_name": "Python 3",
      "name": "python3"
    },
    "language_info": {
      "name": "python"
    }
  },
  "nbformat": 4,
  "nbformat_minor": 0
}