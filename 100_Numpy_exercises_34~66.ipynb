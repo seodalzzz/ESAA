{
  "nbformat": 4,
  "nbformat_minor": 5,
  "metadata": {
    "colab": {
      "name": "100_Numpy_exercises_34~66.ipynb",
      "provenance": [],
      "collapsed_sections": [
        "5795b4bd",
        "fb24674c",
        "e6e1ae2f",
        "c01f0ecf",
        "3b64a18b",
        "48413134",
        "0a532633",
        "f98713a6",
        "1abc7cc8",
        "0cf413ee",
        "215b6acc",
        "c0cf37e0",
        "c17fb213",
        "8aaab886",
        "66a04e2e",
        "f4427f7f",
        "58be9dd4",
        "7348abd0",
        "538e651c"
      ],
      "include_colab_link": true
    },
    "language_info": {
      "name": "python"
    },
    "kernelspec": {
      "name": "python3",
      "display_name": "Python 3"
    }
  },
  "cells": [
    {
      "cell_type": "markdown",
      "metadata": {
        "id": "view-in-github",
        "colab_type": "text"
      },
      "source": [
        "<a href=\"https://colab.research.google.com/github/seodalzzz/ESAA/blob/Exercises/100_Numpy_exercises_34~66.ipynb\" target=\"_parent\"><img src=\"https://colab.research.google.com/assets/colab-badge.svg\" alt=\"Open In Colab\"/></a>"
      ]
    },
    {
      "cell_type": "markdown",
      "metadata": {
        "id": "bf79c78b"
      },
      "source": [
        "# 100 numpy exercises\n",
        "\n",
        "This is a collection of exercises that have been collected in the numpy mailing list, on stack overflow\n",
        "and in the numpy documentation. The goal of this collection is to offer a quick reference for both old\n",
        "and new users but also to provide a set of exercises for those who teach.\n",
        "\n",
        "\n",
        "If you find an error or think you've a better way to solve some of them, feel\n",
        "free to open an issue at <https://github.com/rougier/numpy-100>."
      ],
      "id": "bf79c78b"
    },
    {
      "cell_type": "markdown",
      "metadata": {
        "id": "8536e059"
      },
      "source": [
        "File automatically generated. See the documentation to update questions/answers/hints programmatically."
      ],
      "id": "8536e059"
    },
    {
      "cell_type": "markdown",
      "metadata": {
        "id": "e16ac60b"
      },
      "source": [
        "Run the `initialize.py` module, then for each question you can query the\n",
        "answer or an hint with `hint(n)` or `answer(n)` for `n` question number."
      ],
      "id": "e16ac60b"
    },
    {
      "cell_type": "code",
      "metadata": {
        "id": "a8453483",
        "colab": {
          "base_uri": "https://localhost:8080/"
        },
        "outputId": "26352cb9-2edf-4912-8275-f4964b4d8bbc"
      },
      "source": [
        "%run initialise.py"
      ],
      "id": "a8453483",
      "execution_count": 1,
      "outputs": [
        {
          "output_type": "stream",
          "name": "stderr",
          "text": [
            "ERROR:root:File `'initialise.py'` not found.\n"
          ]
        }
      ]
    },
    {
      "cell_type": "code",
      "source": [
        "import numpy as np"
      ],
      "metadata": {
        "id": "Gjb_JdyVArTb"
      },
      "id": "Gjb_JdyVArTb",
      "execution_count": 3,
      "outputs": []
    },
    {
      "cell_type": "markdown",
      "metadata": {
        "id": "42f8b2f9"
      },
      "source": [
        "#### 34. How to get all the dates corresponding to the month of July 2016? (★★☆)"
      ],
      "id": "42f8b2f9"
    },
    {
      "cell_type": "code",
      "metadata": {
        "id": "eb8ebe45",
        "colab": {
          "base_uri": "https://localhost:8080/"
        },
        "outputId": "71684ef8-c6f2-4691-c8f4-b1cd370d7a9d"
      },
      "source": [
        "print(np.arange('2016-07','2016-08',dtype='datetime64[D]'))"
      ],
      "id": "eb8ebe45",
      "execution_count": null,
      "outputs": [
        {
          "output_type": "stream",
          "name": "stdout",
          "text": [
            "['2016-07-01' '2016-07-02' '2016-07-03' '2016-07-04' '2016-07-05'\n",
            " '2016-07-06' '2016-07-07' '2016-07-08' '2016-07-09' '2016-07-10'\n",
            " '2016-07-11' '2016-07-12' '2016-07-13' '2016-07-14' '2016-07-15'\n",
            " '2016-07-16' '2016-07-17' '2016-07-18' '2016-07-19' '2016-07-20'\n",
            " '2016-07-21' '2016-07-22' '2016-07-23' '2016-07-24' '2016-07-25'\n",
            " '2016-07-26' '2016-07-27' '2016-07-28' '2016-07-29' '2016-07-30'\n",
            " '2016-07-31']\n"
          ]
        }
      ]
    },
    {
      "cell_type": "markdown",
      "metadata": {
        "id": "252c43e2"
      },
      "source": [
        "#### 35. How to compute ((A+B)*(-A/2)) in place (without copy)? (★★☆)"
      ],
      "id": "252c43e2"
    },
    {
      "cell_type": "code",
      "metadata": {
        "id": "f06ff615",
        "colab": {
          "base_uri": "https://localhost:8080/"
        },
        "outputId": "2a5c2c8d-5d7a-47b4-bc28-105a2b7b269b"
      },
      "source": [
        "A=np.array(np.random.random())\n",
        "B=np.array(np.random.random())\n",
        "print(A,B)\n",
        "\n",
        "np.add(A,B,out=B)\n",
        "np.divide(A,2,out=A)\n",
        "np.multiply(A,(-1),out=A)\n",
        "np.multiply(A,B,out=A)\n",
        "print(A)\n"
      ],
      "id": "f06ff615",
      "execution_count": null,
      "outputs": [
        {
          "output_type": "stream",
          "name": "stdout",
          "text": [
            "0.6290429884584459 0.7909984393975759\n",
            "-0.4466335517566752\n"
          ]
        }
      ]
    },
    {
      "cell_type": "markdown",
      "metadata": {
        "id": "486df8ea"
      },
      "source": [
        "#### 36. Extract the integer part of a random array of positive numbers using 4 different methods (★★☆)"
      ],
      "id": "486df8ea"
    },
    {
      "cell_type": "code",
      "metadata": {
        "id": "34b4fa08",
        "colab": {
          "base_uri": "https://localhost:8080/"
        },
        "outputId": "985aebbc-9d1d-45e1-9420-1dd7dac402d9"
      },
      "source": [
        "array1=np.random.random(5)*10\n",
        "print(array1)\n",
        "\n",
        "result1=array1.astype(int)\n",
        "print(result1)\n",
        "result2=array1-(array1%1)\n",
        "print(result2)\n",
        "result3=np.floor(array1)\n",
        "print(result3)\n",
        "result4=np.ceil(array1)-1\n",
        "print(result4)"
      ],
      "id": "34b4fa08",
      "execution_count": null,
      "outputs": [
        {
          "output_type": "stream",
          "name": "stdout",
          "text": [
            "[7.99301278 6.91231166 6.8442525  8.44391309 3.27570425]\n",
            "[7 6 6 8 3]\n",
            "[7. 6. 6. 8. 3.]\n",
            "[7. 6. 6. 8. 3.]\n",
            "[7. 6. 6. 8. 3.]\n"
          ]
        }
      ]
    },
    {
      "cell_type": "markdown",
      "metadata": {
        "id": "649e89f9"
      },
      "source": [
        "#### 37. Create a 5x5 matrix with row values ranging from 0 to 4 (★★☆)"
      ],
      "id": "649e89f9"
    },
    {
      "cell_type": "code",
      "metadata": {
        "id": "663cc611",
        "colab": {
          "base_uri": "https://localhost:8080/"
        },
        "outputId": "8a49ca6e-dd62-4a83-dcfe-5ccc591053d0"
      },
      "source": [
        "mat1=np.zeros((5,5))\n",
        "mat1+=np.arange(0,5)\n",
        "print(mat1)"
      ],
      "id": "663cc611",
      "execution_count": null,
      "outputs": [
        {
          "output_type": "stream",
          "name": "stdout",
          "text": [
            "[[0. 1. 2. 3. 4.]\n",
            " [0. 1. 2. 3. 4.]\n",
            " [0. 1. 2. 3. 4.]\n",
            " [0. 1. 2. 3. 4.]\n",
            " [0. 1. 2. 3. 4.]]\n"
          ]
        }
      ]
    },
    {
      "cell_type": "markdown",
      "metadata": {
        "id": "3421e17f"
      },
      "source": [
        "#### 38. Consider a generator function that generates 10 integers and use it to build an array (★☆☆)"
      ],
      "id": "3421e17f"
    },
    {
      "cell_type": "code",
      "metadata": {
        "id": "7336b8e4",
        "colab": {
          "base_uri": "https://localhost:8080/"
        },
        "outputId": "a3b8622c-c700-4f93-9e14-b6506406a1ea"
      },
      "source": [
        "def generate():\n",
        "  for x in range(10):\n",
        "    yield x\n",
        "array2=np.fromiter(generate(),dtype=float)\n",
        "print(array2)"
      ],
      "id": "7336b8e4",
      "execution_count": null,
      "outputs": [
        {
          "output_type": "stream",
          "name": "stdout",
          "text": [
            "[0. 1. 2. 3. 4. 5. 6. 7. 8. 9.]\n"
          ]
        }
      ]
    },
    {
      "cell_type": "markdown",
      "metadata": {
        "id": "483dd554"
      },
      "source": [
        "#### 39. Create a vector of size 10 with values ranging from 0 to 1, both excluded (★★☆)"
      ],
      "id": "483dd554"
    },
    {
      "cell_type": "code",
      "metadata": {
        "id": "c89b93e7",
        "colab": {
          "base_uri": "https://localhost:8080/"
        },
        "outputId": "117418ad-6b24-4ebc-8b94-47bb282ab96c"
      },
      "source": [
        "array3=np.linspace(0,1,11,endpoint=False)\n",
        "print(array3)"
      ],
      "id": "c89b93e7",
      "execution_count": null,
      "outputs": [
        {
          "output_type": "stream",
          "name": "stdout",
          "text": [
            "[0.         0.09090909 0.18181818 0.27272727 0.36363636 0.45454545\n",
            " 0.54545455 0.63636364 0.72727273 0.81818182 0.90909091]\n"
          ]
        }
      ]
    },
    {
      "cell_type": "markdown",
      "metadata": {
        "id": "2d07be1c"
      },
      "source": [
        "#### 40. Create a random vector of size 10 and sort it (★★☆)"
      ],
      "id": "2d07be1c"
    },
    {
      "cell_type": "code",
      "metadata": {
        "id": "4f7cb3ad",
        "colab": {
          "base_uri": "https://localhost:8080/"
        },
        "outputId": "52177831-b8a8-4d9f-9c54-e183f4ec7382"
      },
      "source": [
        "array4=np.random.random(10)\n",
        "array5=np.sort(array4)\n",
        "print(array5)"
      ],
      "id": "4f7cb3ad",
      "execution_count": null,
      "outputs": [
        {
          "output_type": "stream",
          "name": "stdout",
          "text": [
            "[0.0426722  0.13010173 0.32003033 0.47503498 0.70062058 0.73467367\n",
            " 0.77517094 0.91570782 0.93760447 0.94095178]\n"
          ]
        }
      ]
    },
    {
      "cell_type": "markdown",
      "metadata": {
        "id": "6415f02e"
      },
      "source": [
        "#### 41. How to sum a small array faster than np.sum? (★★☆)"
      ],
      "id": "6415f02e"
    },
    {
      "cell_type": "code",
      "metadata": {
        "id": "bb0dd942",
        "colab": {
          "base_uri": "https://localhost:8080/"
        },
        "outputId": "32f4136d-5731-46e7-898a-9084190d8a7f"
      },
      "source": [
        "array6=np.arange(5)\n",
        "array7=np.add.reduce(array6)\n",
        "print(array7)"
      ],
      "id": "bb0dd942",
      "execution_count": null,
      "outputs": [
        {
          "output_type": "stream",
          "name": "stdout",
          "text": [
            "10\n"
          ]
        }
      ]
    },
    {
      "cell_type": "markdown",
      "metadata": {
        "id": "fe043549"
      },
      "source": [
        "#### 42. Consider two random array A and B, check if they are equal (★★☆)"
      ],
      "id": "fe043549"
    },
    {
      "cell_type": "code",
      "metadata": {
        "id": "3326a686",
        "colab": {
          "base_uri": "https://localhost:8080/"
        },
        "outputId": "5ac89fe2-a92e-4662-97eb-913615d7187b"
      },
      "source": [
        "array8=np.random.random(10)\n",
        "array9=np.random.random(10)\n",
        "\n",
        "print((array8==array9).min())"
      ],
      "id": "3326a686",
      "execution_count": null,
      "outputs": [
        {
          "output_type": "stream",
          "name": "stdout",
          "text": [
            "False\n"
          ]
        }
      ]
    },
    {
      "cell_type": "markdown",
      "metadata": {
        "id": "cc08f71c"
      },
      "source": [
        "#### 43. Make an array immutable (read-only) (★★☆)"
      ],
      "id": "cc08f71c"
    },
    {
      "cell_type": "code",
      "metadata": {
        "id": "d5cc9dbe"
      },
      "source": [
        "array10=np.arange(10)\n",
        "array10.flags.writeable=False\n",
        "#array10[5]=6"
      ],
      "id": "d5cc9dbe",
      "execution_count": null,
      "outputs": []
    },
    {
      "cell_type": "markdown",
      "metadata": {
        "id": "2002cb03"
      },
      "source": [
        "#### 44. Consider a random 10x2 matrix representing cartesian coordinates, convert them to polar coordinates (★★☆)"
      ],
      "id": "2002cb03"
    },
    {
      "cell_type": "code",
      "metadata": {
        "id": "58be72bc",
        "colab": {
          "base_uri": "https://localhost:8080/"
        },
        "outputId": "d26d7686-946b-4bb7-9fb5-e864388a4065"
      },
      "source": [
        "array11=np.random.random((10,2))\n",
        "x=array11[0:10,0]\n",
        "y=array11[0:10,1]\n",
        "\n",
        "r=np.sqrt(x*x+y*y)\n",
        "p=np.arctan2(y,x)\n",
        "\n",
        "print(r)\n",
        "print(p)"
      ],
      "id": "58be72bc",
      "execution_count": null,
      "outputs": [
        {
          "output_type": "stream",
          "name": "stdout",
          "text": [
            "[1.08433423 0.59386377 1.23537812 0.57887475 0.6339177  0.64861868\n",
            " 0.15593998 0.60047523 0.5715095  0.36616652]\n",
            "[0.54304411 0.96572015 0.77381926 0.06657256 0.47716342 1.25473184\n",
            " 0.74716884 0.44715433 0.46716427 0.53754644]\n"
          ]
        }
      ]
    },
    {
      "cell_type": "markdown",
      "metadata": {
        "id": "b7109c9f"
      },
      "source": [
        "#### 45. Create random vector of size 10 and replace the maximum value by 0 (★★☆)"
      ],
      "id": "b7109c9f"
    },
    {
      "cell_type": "code",
      "metadata": {
        "id": "f79e79a7",
        "colab": {
          "base_uri": "https://localhost:8080/"
        },
        "outputId": "de40142e-8c79-4574-e225-49821bdfff6b"
      },
      "source": [
        "array12=np.random.random(10)\n",
        "print(array12)\n",
        "array12[array12.max()==array12]=0\n",
        "print(array12)"
      ],
      "id": "f79e79a7",
      "execution_count": null,
      "outputs": [
        {
          "output_type": "stream",
          "name": "stdout",
          "text": [
            "[0.22112272 0.68264112 0.6967118  0.41329909 0.9429795  0.41520887\n",
            " 0.19100837 0.60446433 0.85384076 0.69278173]\n",
            "[0.22112272 0.68264112 0.6967118  0.41329909 0.         0.41520887\n",
            " 0.19100837 0.60446433 0.85384076 0.69278173]\n"
          ]
        }
      ]
    },
    {
      "cell_type": "markdown",
      "metadata": {
        "id": "7d3131b9"
      },
      "source": [
        "#### 46. Create a structured array with `x` and `y` coordinates covering the [0,1]x[0,1] area (★★☆)"
      ],
      "id": "7d3131b9"
    },
    {
      "cell_type": "code",
      "metadata": {
        "id": "4f471afe",
        "colab": {
          "base_uri": "https://localhost:8080/"
        },
        "outputId": "f70846f5-1977-49e4-ff7d-0297621491a0"
      },
      "source": [
        "mat2=np.zeros((5,5),[('x',float),('y',float)])\n",
        "mat2['x'],mat2['y']=np.meshgrid(np.linspace(0,1,5),np.linspace(0,1,5))\n",
        "\n",
        "print(mat2)"
      ],
      "id": "4f471afe",
      "execution_count": null,
      "outputs": [
        {
          "output_type": "stream",
          "name": "stdout",
          "text": [
            "[[(0.  , 0.  ) (0.25, 0.  ) (0.5 , 0.  ) (0.75, 0.  ) (1.  , 0.  )]\n",
            " [(0.  , 0.25) (0.25, 0.25) (0.5 , 0.25) (0.75, 0.25) (1.  , 0.25)]\n",
            " [(0.  , 0.5 ) (0.25, 0.5 ) (0.5 , 0.5 ) (0.75, 0.5 ) (1.  , 0.5 )]\n",
            " [(0.  , 0.75) (0.25, 0.75) (0.5 , 0.75) (0.75, 0.75) (1.  , 0.75)]\n",
            " [(0.  , 1.  ) (0.25, 1.  ) (0.5 , 1.  ) (0.75, 1.  ) (1.  , 1.  )]]\n"
          ]
        }
      ]
    },
    {
      "cell_type": "markdown",
      "metadata": {
        "id": "7c8c1fc5"
      },
      "source": [
        "#### 47. Given two arrays, X and Y, construct the Cauchy matrix C (Cij =1/(xi - yj)) (★★☆)"
      ],
      "id": "7c8c1fc5"
    },
    {
      "cell_type": "code",
      "metadata": {
        "id": "8fac7d28",
        "colab": {
          "base_uri": "https://localhost:8080/"
        },
        "outputId": "2b4e83dd-820b-4837-cbf0-38ace387dc6b"
      },
      "source": [
        "x=np.random.random(5)\n",
        "y=np.random.random(5)\n",
        "mat3=np.zeros((5,5))\n",
        "mat4=1.0/np.subtract.outer(x,y)\n",
        "\n",
        "for i in range(len(x)):\n",
        "  for j in range(len(y)):\n",
        "      mat3[i,j]=(1/(x[i]-y[j]))\n",
        "\n",
        "print(mat3)\n",
        "print(mat4)"
      ],
      "id": "8fac7d28",
      "execution_count": null,
      "outputs": [
        {
          "output_type": "stream",
          "name": "stdout",
          "text": [
            "[[  1.37565859   3.19269739   1.33493559   2.83596405   5.55580782]\n",
            " [  2.4944368  -78.01727289   2.36368979  37.62039395  -6.8474098 ]\n",
            " [  3.30172084  -9.02222479   3.07647223 -13.99807281  -4.09734712]\n",
            " [  1.23764308   2.53628396   1.20458322   2.3058656    3.83061527]\n",
            " [-47.60942352  -2.30036291 853.95804885  -2.52962817  -1.76075878]]\n",
            "[[  1.37565859   3.19269739   1.33493559   2.83596405   5.55580782]\n",
            " [  2.4944368  -78.01727289   2.36368979  37.62039395  -6.8474098 ]\n",
            " [  3.30172084  -9.02222479   3.07647223 -13.99807281  -4.09734712]\n",
            " [  1.23764308   2.53628396   1.20458322   2.3058656    3.83061527]\n",
            " [-47.60942352  -2.30036291 853.95804885  -2.52962817  -1.76075878]]\n"
          ]
        }
      ]
    },
    {
      "cell_type": "markdown",
      "metadata": {
        "id": "5795b4bd"
      },
      "source": [
        "#### 48. Print the minimum and maximum representable value for each numpy scalar type (★★☆)"
      ],
      "id": "5795b4bd"
    },
    {
      "cell_type": "code",
      "metadata": {
        "id": "b721f7ca",
        "colab": {
          "base_uri": "https://localhost:8080/"
        },
        "outputId": "f12ac4fe-8e06-4b96-88ae-43465d4acc27"
      },
      "source": [
        "for dtype in [np.int8, np.int32, np.int64]:\n",
        "  print(np.iinfo(dtype).min)\n",
        "  print(np.iinfo(dtype).max)\n",
        "\n",
        "for dtype in [np.float32, np.float]:\n",
        "  print(np.finfo(dtype).min)\n",
        "  print(np.finfo(dtype).max)"
      ],
      "id": "b721f7ca",
      "execution_count": 4,
      "outputs": [
        {
          "output_type": "stream",
          "name": "stdout",
          "text": [
            "-128\n",
            "127\n",
            "-2147483648\n",
            "2147483647\n",
            "-9223372036854775808\n",
            "9223372036854775807\n",
            "-3.4028235e+38\n",
            "3.4028235e+38\n",
            "-1.7976931348623157e+308\n",
            "1.7976931348623157e+308\n"
          ]
        },
        {
          "output_type": "stream",
          "name": "stderr",
          "text": [
            "/usr/local/lib/python3.7/dist-packages/ipykernel_launcher.py:5: DeprecationWarning: `np.float` is a deprecated alias for the builtin `float`. To silence this warning, use `float` by itself. Doing this will not modify any behavior and is safe. If you specifically wanted the numpy scalar type, use `np.float64` here.\n",
            "Deprecated in NumPy 1.20; for more details and guidance: https://numpy.org/devdocs/release/1.20.0-notes.html#deprecations\n",
            "  \"\"\"\n"
          ]
        }
      ]
    },
    {
      "cell_type": "markdown",
      "metadata": {
        "id": "fb24674c"
      },
      "source": [
        "#### 49. How to print all the values of an array? (★★☆)"
      ],
      "id": "fb24674c"
    },
    {
      "cell_type": "code",
      "metadata": {
        "id": "c81f1456",
        "colab": {
          "base_uri": "https://localhost:8080/"
        },
        "outputId": "3192d391-43bc-416b-cf8b-437f4c2c1cea"
      },
      "source": [
        "array14=np.zeros((32,32))\n",
        "np.set_printoptions(threshold=float(\"inf\"))\n",
        "print(array14)\n",
        "\n",
        "\n"
      ],
      "id": "c81f1456",
      "execution_count": 12,
      "outputs": [
        {
          "output_type": "stream",
          "name": "stdout",
          "text": [
            "[[0. 0. 0. 0. 0. 0. 0. 0. 0. 0. 0. 0. 0. 0. 0. 0. 0. 0. 0. 0. 0. 0. 0. 0.\n",
            "  0. 0. 0. 0. 0. 0. 0. 0.]\n",
            " [0. 0. 0. 0. 0. 0. 0. 0. 0. 0. 0. 0. 0. 0. 0. 0. 0. 0. 0. 0. 0. 0. 0. 0.\n",
            "  0. 0. 0. 0. 0. 0. 0. 0.]\n",
            " [0. 0. 0. 0. 0. 0. 0. 0. 0. 0. 0. 0. 0. 0. 0. 0. 0. 0. 0. 0. 0. 0. 0. 0.\n",
            "  0. 0. 0. 0. 0. 0. 0. 0.]\n",
            " [0. 0. 0. 0. 0. 0. 0. 0. 0. 0. 0. 0. 0. 0. 0. 0. 0. 0. 0. 0. 0. 0. 0. 0.\n",
            "  0. 0. 0. 0. 0. 0. 0. 0.]\n",
            " [0. 0. 0. 0. 0. 0. 0. 0. 0. 0. 0. 0. 0. 0. 0. 0. 0. 0. 0. 0. 0. 0. 0. 0.\n",
            "  0. 0. 0. 0. 0. 0. 0. 0.]\n",
            " [0. 0. 0. 0. 0. 0. 0. 0. 0. 0. 0. 0. 0. 0. 0. 0. 0. 0. 0. 0. 0. 0. 0. 0.\n",
            "  0. 0. 0. 0. 0. 0. 0. 0.]\n",
            " [0. 0. 0. 0. 0. 0. 0. 0. 0. 0. 0. 0. 0. 0. 0. 0. 0. 0. 0. 0. 0. 0. 0. 0.\n",
            "  0. 0. 0. 0. 0. 0. 0. 0.]\n",
            " [0. 0. 0. 0. 0. 0. 0. 0. 0. 0. 0. 0. 0. 0. 0. 0. 0. 0. 0. 0. 0. 0. 0. 0.\n",
            "  0. 0. 0. 0. 0. 0. 0. 0.]\n",
            " [0. 0. 0. 0. 0. 0. 0. 0. 0. 0. 0. 0. 0. 0. 0. 0. 0. 0. 0. 0. 0. 0. 0. 0.\n",
            "  0. 0. 0. 0. 0. 0. 0. 0.]\n",
            " [0. 0. 0. 0. 0. 0. 0. 0. 0. 0. 0. 0. 0. 0. 0. 0. 0. 0. 0. 0. 0. 0. 0. 0.\n",
            "  0. 0. 0. 0. 0. 0. 0. 0.]\n",
            " [0. 0. 0. 0. 0. 0. 0. 0. 0. 0. 0. 0. 0. 0. 0. 0. 0. 0. 0. 0. 0. 0. 0. 0.\n",
            "  0. 0. 0. 0. 0. 0. 0. 0.]\n",
            " [0. 0. 0. 0. 0. 0. 0. 0. 0. 0. 0. 0. 0. 0. 0. 0. 0. 0. 0. 0. 0. 0. 0. 0.\n",
            "  0. 0. 0. 0. 0. 0. 0. 0.]\n",
            " [0. 0. 0. 0. 0. 0. 0. 0. 0. 0. 0. 0. 0. 0. 0. 0. 0. 0. 0. 0. 0. 0. 0. 0.\n",
            "  0. 0. 0. 0. 0. 0. 0. 0.]\n",
            " [0. 0. 0. 0. 0. 0. 0. 0. 0. 0. 0. 0. 0. 0. 0. 0. 0. 0. 0. 0. 0. 0. 0. 0.\n",
            "  0. 0. 0. 0. 0. 0. 0. 0.]\n",
            " [0. 0. 0. 0. 0. 0. 0. 0. 0. 0. 0. 0. 0. 0. 0. 0. 0. 0. 0. 0. 0. 0. 0. 0.\n",
            "  0. 0. 0. 0. 0. 0. 0. 0.]\n",
            " [0. 0. 0. 0. 0. 0. 0. 0. 0. 0. 0. 0. 0. 0. 0. 0. 0. 0. 0. 0. 0. 0. 0. 0.\n",
            "  0. 0. 0. 0. 0. 0. 0. 0.]\n",
            " [0. 0. 0. 0. 0. 0. 0. 0. 0. 0. 0. 0. 0. 0. 0. 0. 0. 0. 0. 0. 0. 0. 0. 0.\n",
            "  0. 0. 0. 0. 0. 0. 0. 0.]\n",
            " [0. 0. 0. 0. 0. 0. 0. 0. 0. 0. 0. 0. 0. 0. 0. 0. 0. 0. 0. 0. 0. 0. 0. 0.\n",
            "  0. 0. 0. 0. 0. 0. 0. 0.]\n",
            " [0. 0. 0. 0. 0. 0. 0. 0. 0. 0. 0. 0. 0. 0. 0. 0. 0. 0. 0. 0. 0. 0. 0. 0.\n",
            "  0. 0. 0. 0. 0. 0. 0. 0.]\n",
            " [0. 0. 0. 0. 0. 0. 0. 0. 0. 0. 0. 0. 0. 0. 0. 0. 0. 0. 0. 0. 0. 0. 0. 0.\n",
            "  0. 0. 0. 0. 0. 0. 0. 0.]\n",
            " [0. 0. 0. 0. 0. 0. 0. 0. 0. 0. 0. 0. 0. 0. 0. 0. 0. 0. 0. 0. 0. 0. 0. 0.\n",
            "  0. 0. 0. 0. 0. 0. 0. 0.]\n",
            " [0. 0. 0. 0. 0. 0. 0. 0. 0. 0. 0. 0. 0. 0. 0. 0. 0. 0. 0. 0. 0. 0. 0. 0.\n",
            "  0. 0. 0. 0. 0. 0. 0. 0.]\n",
            " [0. 0. 0. 0. 0. 0. 0. 0. 0. 0. 0. 0. 0. 0. 0. 0. 0. 0. 0. 0. 0. 0. 0. 0.\n",
            "  0. 0. 0. 0. 0. 0. 0. 0.]\n",
            " [0. 0. 0. 0. 0. 0. 0. 0. 0. 0. 0. 0. 0. 0. 0. 0. 0. 0. 0. 0. 0. 0. 0. 0.\n",
            "  0. 0. 0. 0. 0. 0. 0. 0.]\n",
            " [0. 0. 0. 0. 0. 0. 0. 0. 0. 0. 0. 0. 0. 0. 0. 0. 0. 0. 0. 0. 0. 0. 0. 0.\n",
            "  0. 0. 0. 0. 0. 0. 0. 0.]\n",
            " [0. 0. 0. 0. 0. 0. 0. 0. 0. 0. 0. 0. 0. 0. 0. 0. 0. 0. 0. 0. 0. 0. 0. 0.\n",
            "  0. 0. 0. 0. 0. 0. 0. 0.]\n",
            " [0. 0. 0. 0. 0. 0. 0. 0. 0. 0. 0. 0. 0. 0. 0. 0. 0. 0. 0. 0. 0. 0. 0. 0.\n",
            "  0. 0. 0. 0. 0. 0. 0. 0.]\n",
            " [0. 0. 0. 0. 0. 0. 0. 0. 0. 0. 0. 0. 0. 0. 0. 0. 0. 0. 0. 0. 0. 0. 0. 0.\n",
            "  0. 0. 0. 0. 0. 0. 0. 0.]\n",
            " [0. 0. 0. 0. 0. 0. 0. 0. 0. 0. 0. 0. 0. 0. 0. 0. 0. 0. 0. 0. 0. 0. 0. 0.\n",
            "  0. 0. 0. 0. 0. 0. 0. 0.]\n",
            " [0. 0. 0. 0. 0. 0. 0. 0. 0. 0. 0. 0. 0. 0. 0. 0. 0. 0. 0. 0. 0. 0. 0. 0.\n",
            "  0. 0. 0. 0. 0. 0. 0. 0.]\n",
            " [0. 0. 0. 0. 0. 0. 0. 0. 0. 0. 0. 0. 0. 0. 0. 0. 0. 0. 0. 0. 0. 0. 0. 0.\n",
            "  0. 0. 0. 0. 0. 0. 0. 0.]\n",
            " [0. 0. 0. 0. 0. 0. 0. 0. 0. 0. 0. 0. 0. 0. 0. 0. 0. 0. 0. 0. 0. 0. 0. 0.\n",
            "  0. 0. 0. 0. 0. 0. 0. 0.]]\n"
          ]
        }
      ]
    },
    {
      "cell_type": "markdown",
      "metadata": {
        "id": "e6e1ae2f"
      },
      "source": [
        "#### 50. How to find the closest value (to a given scalar) in a vector? (★★☆)"
      ],
      "id": "e6e1ae2f"
    },
    {
      "cell_type": "code",
      "metadata": {
        "id": "73dd91cc",
        "colab": {
          "base_uri": "https://localhost:8080/"
        },
        "outputId": "3420a6a0-f54b-409e-f395-e1124a2d6eb4"
      },
      "source": [
        "num=5.2\n",
        "array15=np.random.randint(0,10,10)\n",
        "print(array15)\n",
        "\n",
        "array16=np.abs(array15-num)\n",
        "print(array16)\n",
        "  #argmin()은 index를 return\n",
        "print(array15[array16.argmin()])"
      ],
      "id": "73dd91cc",
      "execution_count": 30,
      "outputs": [
        {
          "output_type": "stream",
          "name": "stdout",
          "text": [
            "[5 2 9 5 7 4 4 8 8 8]\n",
            "[0.2 3.2 3.8 0.2 1.8 1.2 1.2 2.8 2.8 2.8]\n",
            "5\n"
          ]
        }
      ]
    },
    {
      "cell_type": "markdown",
      "metadata": {
        "id": "c01f0ecf"
      },
      "source": [
        "#### 51. Create a structured array representing a position (x,y) and a color (r,g,b) (★★☆)"
      ],
      "id": "c01f0ecf"
    },
    {
      "cell_type": "code",
      "metadata": {
        "id": "fb8017ca",
        "colab": {
          "base_uri": "https://localhost:8080/"
        },
        "outputId": "ade17cd6-8b81-4b5a-8384-37134b4a87b3"
      },
      "source": [
        "position=('position',[('x',float,1),('y',float,1)])\n",
        "color=('colot',[('r',float),('g',float),('b',float)])\n",
        "data=np.zeros(10,[position,color])\n",
        "\n",
        "print(data)"
      ],
      "id": "fb8017ca",
      "execution_count": 34,
      "outputs": [
        {
          "output_type": "stream",
          "name": "stdout",
          "text": [
            "[((0., 0.), (0., 0., 0.)) ((0., 0.), (0., 0., 0.))\n",
            " ((0., 0.), (0., 0., 0.)) ((0., 0.), (0., 0., 0.))\n",
            " ((0., 0.), (0., 0., 0.)) ((0., 0.), (0., 0., 0.))\n",
            " ((0., 0.), (0., 0., 0.)) ((0., 0.), (0., 0., 0.))\n",
            " ((0., 0.), (0., 0., 0.)) ((0., 0.), (0., 0., 0.))]\n"
          ]
        },
        {
          "output_type": "stream",
          "name": "stderr",
          "text": [
            "/usr/local/lib/python3.7/dist-packages/ipykernel_launcher.py:3: FutureWarning: Passing (type, 1) or '1type' as a synonym of type is deprecated; in a future version of numpy, it will be understood as (type, (1,)) / '(1,)type'.\n",
            "  This is separate from the ipykernel package so we can avoid doing imports until\n"
          ]
        }
      ]
    },
    {
      "cell_type": "markdown",
      "metadata": {
        "id": "3b64a18b"
      },
      "source": [
        "#### 52. Consider a random vector with shape (100,2) representing coordinates, find point by point distances (★★☆)"
      ],
      "id": "3b64a18b"
    },
    {
      "cell_type": "code",
      "metadata": {
        "id": "4b482822",
        "colab": {
          "base_uri": "https://localhost:8080/"
        },
        "outputId": "4fb593a7-1385-48e3-fd89-806446ad25e1"
      },
      "source": [
        "array17=np.random.random((10,2))\n",
        "x,y=np.atleast_2d(array17[:,0],array17[:,1])\n",
        "dis=np.sqrt((x-x.T)**2+(y-y.T)**2)\n",
        "print(dis)"
      ],
      "id": "4b482822",
      "execution_count": 39,
      "outputs": [
        {
          "output_type": "stream",
          "name": "stdout",
          "text": [
            "[[0.         0.21022505 0.80310461 0.06881978 0.84801775 0.53342145\n",
            "  0.43724247 0.77695968 0.61427813 0.44768664]\n",
            " [0.21022505 0.         0.71244832 0.26423081 0.73673555 0.32486265\n",
            "  0.37014647 0.56851921 0.40924455 0.25824845]\n",
            " [0.80310461 0.71244832 0.         0.79254679 0.09328759 0.736051\n",
            "  0.36586707 0.68167754 0.80633861 0.82322487]\n",
            " [0.06881978 0.26423081 0.79254679 0.         0.84410914 0.58906548\n",
            "  0.42892601 0.82273334 0.67278905 0.51099959]\n",
            " [0.84801775 0.73673555 0.09328759 0.84410914 0.         0.71862389\n",
            "  0.41546971 0.63055839 0.78100868 0.81870774]\n",
            " [0.53342145 0.32486265 0.736051   0.58906548 0.71862389 0.\n",
            "  0.51570331 0.27830104 0.09374574 0.14280822]\n",
            " [0.43724247 0.37014647 0.36586707 0.42892601 0.41546971 0.51570331\n",
            "  0.         0.60804998 0.60622601 0.54910977]\n",
            " [0.77695968 0.56851921 0.68167754 0.82273334 0.63055839 0.27830104\n",
            "  0.60804998 0.         0.25885729 0.41931564]\n",
            " [0.61427813 0.40924455 0.80633861 0.67278905 0.78100868 0.09374574\n",
            "  0.60622601 0.25885729 0.         0.18449941]\n",
            " [0.44768664 0.25824845 0.82322487 0.51099959 0.81870774 0.14280822\n",
            "  0.54910977 0.41931564 0.18449941 0.        ]]\n"
          ]
        }
      ]
    },
    {
      "cell_type": "markdown",
      "metadata": {
        "id": "48413134"
      },
      "source": [
        "#### 53. How to convert a float (32 bits) array into an integer (32 bits) in place?"
      ],
      "id": "48413134"
    },
    {
      "cell_type": "code",
      "metadata": {
        "id": "5db64b6d",
        "colab": {
          "base_uri": "https://localhost:8080/"
        },
        "outputId": "d039cb9c-3df3-41a0-8b8e-e41f95b9e106"
      },
      "source": [
        "array18=np.random.random(10)*10\n",
        "print(array18)\n",
        "array19=array18.astype(np.int64,copy=False)\n",
        "print(array19)"
      ],
      "id": "5db64b6d",
      "execution_count": 50,
      "outputs": [
        {
          "output_type": "stream",
          "name": "stdout",
          "text": [
            "[2.01832929 8.08086936 8.05610893 2.12477917 5.24660209 1.66047133\n",
            " 6.16578168 5.56489173 5.08072256 1.64994922]\n",
            "[2 8 8 2 5 1 6 5 5 1]\n"
          ]
        }
      ]
    },
    {
      "cell_type": "markdown",
      "metadata": {
        "id": "0a532633"
      },
      "source": [
        "#### 54. How to read the following file? (★★☆)\n",
        "```\n",
        "1, 2, 3, 4, 5\n",
        "6,  ,  , 7, 8\n",
        " ,  , 9,10,11\n",
        "```"
      ],
      "id": "0a532633"
    },
    {
      "cell_type": "code",
      "metadata": {
        "id": "8af4f753",
        "colab": {
          "base_uri": "https://localhost:8080/"
        },
        "outputId": "6b1b5ea8-052a-426c-9830-efbb13961783"
      },
      "source": [
        "from io import StringIO\n",
        "string1=StringIO(\"\"\"1, 2, 3, 4, 5\\n\n",
        "6,  ,  , 7, 8\\n\n",
        " ,  , 9,10,11\\n\"\"\")\n",
        "array20=np.genfromtxt(string1,delimiter=\",\",dtype=np.int)\n",
        "print(array20)"
      ],
      "id": "8af4f753",
      "execution_count": 49,
      "outputs": [
        {
          "output_type": "stream",
          "name": "stdout",
          "text": [
            "[[ 1  2  3  4  5]\n",
            " [ 6 -1 -1  7  8]\n",
            " [-1 -1  9 10 11]]\n"
          ]
        },
        {
          "output_type": "stream",
          "name": "stderr",
          "text": [
            "/usr/local/lib/python3.7/dist-packages/ipykernel_launcher.py:5: DeprecationWarning: `np.int` is a deprecated alias for the builtin `int`. To silence this warning, use `int` by itself. Doing this will not modify any behavior and is safe. When replacing `np.int`, you may wish to use e.g. `np.int64` or `np.int32` to specify the precision. If you wish to review your current use, check the release note link for additional information.\n",
            "Deprecated in NumPy 1.20; for more details and guidance: https://numpy.org/devdocs/release/1.20.0-notes.html#deprecations\n",
            "  \"\"\"\n"
          ]
        }
      ]
    },
    {
      "cell_type": "markdown",
      "metadata": {
        "id": "f98713a6"
      },
      "source": [
        "#### 55. What is the equivalent of enumerate for numpy arrays? (★★☆)"
      ],
      "id": "f98713a6"
    },
    {
      "cell_type": "code",
      "metadata": {
        "id": "64795f84",
        "colab": {
          "base_uri": "https://localhost:8080/"
        },
        "outputId": "a3cdf068-46a1-4725-8100-d6c5137262cb"
      },
      "source": [
        "array21=np.arange(25).reshape(5,5)\n",
        "print(array21)\n",
        "\n",
        "for index, value in np.ndenumerate(array21):\n",
        "  print(index,value)\n"
      ],
      "id": "64795f84",
      "execution_count": 52,
      "outputs": [
        {
          "output_type": "stream",
          "name": "stdout",
          "text": [
            "[[ 0  1  2  3  4]\n",
            " [ 5  6  7  8  9]\n",
            " [10 11 12 13 14]\n",
            " [15 16 17 18 19]\n",
            " [20 21 22 23 24]]\n",
            "(0, 0) 0\n",
            "(0, 1) 1\n",
            "(0, 2) 2\n",
            "(0, 3) 3\n",
            "(0, 4) 4\n",
            "(1, 0) 5\n",
            "(1, 1) 6\n",
            "(1, 2) 7\n",
            "(1, 3) 8\n",
            "(1, 4) 9\n",
            "(2, 0) 10\n",
            "(2, 1) 11\n",
            "(2, 2) 12\n",
            "(2, 3) 13\n",
            "(2, 4) 14\n",
            "(3, 0) 15\n",
            "(3, 1) 16\n",
            "(3, 2) 17\n",
            "(3, 3) 18\n",
            "(3, 4) 19\n",
            "(4, 0) 20\n",
            "(4, 1) 21\n",
            "(4, 2) 22\n",
            "(4, 3) 23\n",
            "(4, 4) 24\n"
          ]
        }
      ]
    },
    {
      "cell_type": "markdown",
      "metadata": {
        "id": "1abc7cc8"
      },
      "source": [
        "#### 56. Generate a generic 2D Gaussian-like array (★★☆)"
      ],
      "id": "1abc7cc8"
    },
    {
      "cell_type": "code",
      "metadata": {
        "id": "42e3a5bc",
        "colab": {
          "base_uri": "https://localhost:8080/"
        },
        "outputId": "7e5019b4-95bc-4564-8466-4170577283f8"
      },
      "source": [
        "x,y=np.meshgrid(np.linspace(-1,1,10),np.linspace(-1,1,10))\n",
        "d=np.sqrt(x*x+y*y)\n",
        "sigma,mu=1.0,0.0\n",
        "G=np.exp(-((d-mu)**2)/(2*sigma**2))\n",
        "\n",
        "print(G)"
      ],
      "id": "42e3a5bc",
      "execution_count": 54,
      "outputs": [
        {
          "output_type": "stream",
          "name": "stdout",
          "text": [
            "[[0.36787944 0.44822088 0.51979489 0.57375342 0.60279818 0.60279818\n",
            "  0.57375342 0.51979489 0.44822088 0.36787944]\n",
            " [0.44822088 0.54610814 0.63331324 0.69905581 0.73444367 0.73444367\n",
            "  0.69905581 0.63331324 0.54610814 0.44822088]\n",
            " [0.51979489 0.63331324 0.73444367 0.81068432 0.85172308 0.85172308\n",
            "  0.81068432 0.73444367 0.63331324 0.51979489]\n",
            " [0.57375342 0.69905581 0.81068432 0.89483932 0.9401382  0.9401382\n",
            "  0.89483932 0.81068432 0.69905581 0.57375342]\n",
            " [0.60279818 0.73444367 0.85172308 0.9401382  0.98773022 0.98773022\n",
            "  0.9401382  0.85172308 0.73444367 0.60279818]\n",
            " [0.60279818 0.73444367 0.85172308 0.9401382  0.98773022 0.98773022\n",
            "  0.9401382  0.85172308 0.73444367 0.60279818]\n",
            " [0.57375342 0.69905581 0.81068432 0.89483932 0.9401382  0.9401382\n",
            "  0.89483932 0.81068432 0.69905581 0.57375342]\n",
            " [0.51979489 0.63331324 0.73444367 0.81068432 0.85172308 0.85172308\n",
            "  0.81068432 0.73444367 0.63331324 0.51979489]\n",
            " [0.44822088 0.54610814 0.63331324 0.69905581 0.73444367 0.73444367\n",
            "  0.69905581 0.63331324 0.54610814 0.44822088]\n",
            " [0.36787944 0.44822088 0.51979489 0.57375342 0.60279818 0.60279818\n",
            "  0.57375342 0.51979489 0.44822088 0.36787944]]\n"
          ]
        }
      ]
    },
    {
      "cell_type": "markdown",
      "metadata": {
        "id": "0cf413ee"
      },
      "source": [
        "#### 57. How to randomly place p elements in a 2D array? (★★☆)"
      ],
      "id": "0cf413ee"
    },
    {
      "cell_type": "code",
      "metadata": {
        "id": "dfc57e06",
        "colab": {
          "base_uri": "https://localhost:8080/"
        },
        "outputId": "726fd473-6957-4c76-ccba-fd20e0de2e47"
      },
      "source": [
        "n=10\n",
        "p=5\n",
        "array22=np.zeros((n,n))\n",
        "np.put(array22,np.random.choice(range(n*n),p,replace=False),1)\n",
        "print(array22)"
      ],
      "id": "dfc57e06",
      "execution_count": 55,
      "outputs": [
        {
          "output_type": "stream",
          "name": "stdout",
          "text": [
            "[[0. 0. 0. 0. 0. 0. 0. 0. 0. 0.]\n",
            " [0. 0. 0. 0. 0. 0. 0. 0. 0. 0.]\n",
            " [0. 0. 0. 1. 0. 0. 0. 1. 1. 0.]\n",
            " [0. 0. 0. 0. 0. 1. 0. 0. 0. 0.]\n",
            " [0. 0. 0. 0. 0. 0. 0. 0. 0. 0.]\n",
            " [0. 0. 1. 0. 0. 0. 0. 0. 0. 0.]\n",
            " [0. 0. 0. 0. 0. 0. 0. 0. 0. 0.]\n",
            " [0. 0. 0. 0. 0. 0. 0. 0. 0. 0.]\n",
            " [0. 0. 0. 0. 0. 0. 0. 0. 0. 0.]\n",
            " [0. 0. 0. 0. 0. 0. 0. 0. 0. 0.]]\n"
          ]
        }
      ]
    },
    {
      "cell_type": "markdown",
      "metadata": {
        "id": "215b6acc"
      },
      "source": [
        "#### 58. Subtract the mean of each row of a matrix (★★☆)"
      ],
      "id": "215b6acc"
    },
    {
      "cell_type": "code",
      "metadata": {
        "id": "dd1adef4",
        "colab": {
          "base_uri": "https://localhost:8080/"
        },
        "outputId": "ece9e45a-1e87-4f7c-a5e9-197521b5d881"
      },
      "source": [
        "array23=np.random.randint(0,10,100).reshape(10,10)\n",
        "print(array23)\n",
        "array24=array23-array23.mean(axis=1,keepdims=True)\n",
        "print(array24)"
      ],
      "id": "dd1adef4",
      "execution_count": 66,
      "outputs": [
        {
          "output_type": "stream",
          "name": "stdout",
          "text": [
            "[[8 3 3 2 4 6 3 9 3 8]\n",
            " [0 2 6 7 5 7 6 7 7 2]\n",
            " [9 3 9 6 1 7 4 7 8 5]\n",
            " [1 3 6 9 6 0 8 5 0 4]\n",
            " [8 4 7 9 8 6 8 3 8 0]\n",
            " [0 5 9 0 3 1 0 1 1 1]\n",
            " [9 4 7 3 6 5 2 3 0 9]\n",
            " [7 3 6 1 4 0 1 7 4 2]\n",
            " [1 7 8 4 0 7 3 2 2 9]\n",
            " [2 4 7 3 0 6 7 6 3 0]]\n",
            "[[ 3.1 -1.9 -1.9 -2.9 -0.9  1.1 -1.9  4.1 -1.9  3.1]\n",
            " [-4.9 -2.9  1.1  2.1  0.1  2.1  1.1  2.1  2.1 -2.9]\n",
            " [ 3.1 -2.9  3.1  0.1 -4.9  1.1 -1.9  1.1  2.1 -0.9]\n",
            " [-3.2 -1.2  1.8  4.8  1.8 -4.2  3.8  0.8 -4.2 -0.2]\n",
            " [ 1.9 -2.1  0.9  2.9  1.9 -0.1  1.9 -3.1  1.9 -6.1]\n",
            " [-2.1  2.9  6.9 -2.1  0.9 -1.1 -2.1 -1.1 -1.1 -1.1]\n",
            " [ 4.2 -0.8  2.2 -1.8  1.2  0.2 -2.8 -1.8 -4.8  4.2]\n",
            " [ 3.5 -0.5  2.5 -2.5  0.5 -3.5 -2.5  3.5  0.5 -1.5]\n",
            " [-3.3  2.7  3.7 -0.3 -4.3  2.7 -1.3 -2.3 -2.3  4.7]\n",
            " [-1.8  0.2  3.2 -0.8 -3.8  2.2  3.2  2.2 -0.8 -3.8]]\n"
          ]
        }
      ]
    },
    {
      "cell_type": "markdown",
      "metadata": {
        "id": "c0cf37e0"
      },
      "source": [
        "#### 59. How to sort an array by the nth column? (★★☆)"
      ],
      "id": "c0cf37e0"
    },
    {
      "cell_type": "code",
      "metadata": {
        "id": "9336ca5f",
        "colab": {
          "base_uri": "https://localhost:8080/"
        },
        "outputId": "8b2af088-b4b4-44e0-a4e1-85aba0964688"
      },
      "source": [
        "array25=np.random.randint(0,10,100).reshape(10,10)\n",
        "print(array25)\n",
        "print(\"\\n\")\n",
        "print(array25[array25[:,1].argsort()])"
      ],
      "id": "9336ca5f",
      "execution_count": 70,
      "outputs": [
        {
          "output_type": "stream",
          "name": "stdout",
          "text": [
            "[[2 2 3 1 2 7 3 8 5 0]\n",
            " [1 5 6 0 1 4 7 3 5 4]\n",
            " [8 3 4 1 5 4 2 6 1 1]\n",
            " [2 7 2 1 7 6 3 8 7 8]\n",
            " [1 6 7 6 2 5 8 6 7 7]\n",
            " [3 6 5 6 3 9 1 5 7 6]\n",
            " [5 2 2 9 4 8 9 7 9 8]\n",
            " [5 9 8 0 5 2 2 5 8 0]\n",
            " [9 9 2 4 8 5 7 5 0 3]\n",
            " [6 9 9 2 7 1 4 5 9 3]]\n",
            "\n",
            "\n",
            "[[2 2 3 1 2 7 3 8 5 0]\n",
            " [5 2 2 9 4 8 9 7 9 8]\n",
            " [8 3 4 1 5 4 2 6 1 1]\n",
            " [1 5 6 0 1 4 7 3 5 4]\n",
            " [1 6 7 6 2 5 8 6 7 7]\n",
            " [3 6 5 6 3 9 1 5 7 6]\n",
            " [2 7 2 1 7 6 3 8 7 8]\n",
            " [5 9 8 0 5 2 2 5 8 0]\n",
            " [9 9 2 4 8 5 7 5 0 3]\n",
            " [6 9 9 2 7 1 4 5 9 3]]\n"
          ]
        }
      ]
    },
    {
      "cell_type": "markdown",
      "metadata": {
        "id": "c17fb213"
      },
      "source": [
        "#### 60. How to tell if a given 2D array has null columns? (★★☆)"
      ],
      "id": "c17fb213"
    },
    {
      "cell_type": "code",
      "metadata": {
        "id": "7fdda78d",
        "colab": {
          "base_uri": "https://localhost:8080/"
        },
        "outputId": "6b55ace0-1552-4292-f751-862acbb78518"
      },
      "source": [
        "array26=np.random.randint(0,10,100).reshape(10,10)\n",
        "print(array26)\n",
        "\n",
        "print((~array26.any(axis=0)).any())"
      ],
      "id": "7fdda78d",
      "execution_count": 72,
      "outputs": [
        {
          "output_type": "stream",
          "name": "stdout",
          "text": [
            "[[7 5 3 9 1 9 1 7 4 9]\n",
            " [6 2 2 1 1 7 4 3 2 9]\n",
            " [8 3 8 3 2 9 8 5 0 0]\n",
            " [5 4 0 4 5 2 5 0 4 5]\n",
            " [3 0 0 5 3 8 4 0 5 9]\n",
            " [8 3 9 3 7 0 7 0 1 1]\n",
            " [7 4 3 7 0 2 7 6 3 3]\n",
            " [0 3 7 3 1 3 1 1 9 7]\n",
            " [6 2 9 0 4 7 6 4 0 2]\n",
            " [0 1 0 0 6 9 3 8 6 7]]\n",
            "False\n"
          ]
        }
      ]
    },
    {
      "cell_type": "markdown",
      "metadata": {
        "id": "8aaab886"
      },
      "source": [
        "#### 61. Find the nearest value from a given value in an array (★★☆)"
      ],
      "id": "8aaab886"
    },
    {
      "cell_type": "code",
      "metadata": {
        "id": "973f8079",
        "colab": {
          "base_uri": "https://localhost:8080/"
        },
        "outputId": "d5736bc2-2698-4772-ddc1-61e30212623d"
      },
      "source": [
        "num=0.52\n",
        "array27=np.random.random(10)\n",
        "print(array27)\n",
        "\n",
        "array28=np.abs(array27-num)\n",
        "print(array28)\n",
        "  #argmin()은 index를 return\n",
        "print(array27[array28.argmin()])"
      ],
      "id": "973f8079",
      "execution_count": 76,
      "outputs": [
        {
          "output_type": "stream",
          "name": "stdout",
          "text": [
            "[0.34269172 0.17884377 0.35412941 0.54080808 0.230045   0.75054511\n",
            " 0.41213608 0.86385434 0.35902548 0.36323721]\n",
            "[0.17730828 0.34115623 0.16587059 0.02080808 0.289955   0.23054511\n",
            " 0.10786392 0.34385434 0.16097452 0.15676279]\n",
            "0.5408080798240066\n"
          ]
        }
      ]
    },
    {
      "cell_type": "markdown",
      "metadata": {
        "id": "66a04e2e"
      },
      "source": [
        "#### 62. Considering two arrays with shape (1,3) and (3,1), how to compute their sum using an iterator? (★★☆)"
      ],
      "id": "66a04e2e"
    },
    {
      "cell_type": "code",
      "metadata": {
        "id": "4b356632",
        "colab": {
          "base_uri": "https://localhost:8080/"
        },
        "outputId": "8d453c49-a33c-4f46-98e9-811e1d83aed0"
      },
      "source": [
        "array29=np.arange(3).reshape(1,3)\n",
        "array30=np.arange(3).reshape(3,1)\n",
        "print(array29,array30)\n",
        "\n",
        "iter=np.nditer([array29,array30,None])\n",
        "\n",
        "for x,y,z in iter:\n",
        "  z[...]=x+y\n",
        "\n",
        "print(iter.operands[2])"
      ],
      "id": "4b356632",
      "execution_count": 81,
      "outputs": [
        {
          "output_type": "stream",
          "name": "stdout",
          "text": [
            "[[0 1 2]] [[0]\n",
            " [1]\n",
            " [2]]\n",
            "[[0 1 2]\n",
            " [1 2 3]\n",
            " [2 3 4]]\n"
          ]
        }
      ]
    },
    {
      "cell_type": "markdown",
      "metadata": {
        "id": "f4427f7f"
      },
      "source": [
        "#### 63. Create an array class that has a name attribute (★★☆)"
      ],
      "id": "f4427f7f"
    },
    {
      "cell_type": "code",
      "source": [
        "class NameArray(np.ndarray):\n",
        "  def __new__(cls,array,name=\"no name\"):\n",
        "    obj=np.asarray(array).view(cls)\n",
        "    obj.name=name\n",
        "    return obj\n",
        "  def __array_finalize__(self,obj):\n",
        "    if obj is None:\n",
        "      return\n",
        "    self.info=getattr(obj,'name','no name')\n",
        "data=NameArray(np.arange(10),'range_10')\n",
        "print(data.name)"
      ],
      "metadata": {
        "colab": {
          "base_uri": "https://localhost:8080/"
        },
        "id": "ZOD_MSUlL80B",
        "outputId": "7ff9d434-23d1-4331-9e56-d04e843bb8cd"
      },
      "id": "ZOD_MSUlL80B",
      "execution_count": 83,
      "outputs": [
        {
          "output_type": "stream",
          "name": "stdout",
          "text": [
            "range_10\n"
          ]
        }
      ]
    },
    {
      "cell_type": "markdown",
      "metadata": {
        "id": "58be9dd4"
      },
      "source": [
        "#### 64. Consider a given vector, how to add 1 to each element indexed by a second vector (be careful with repeated indices)? (★★★)"
      ],
      "id": "58be9dd4"
    },
    {
      "cell_type": "code",
      "metadata": {
        "id": "5c8bae42",
        "colab": {
          "base_uri": "https://localhost:8080/"
        },
        "outputId": "bdc1c9ac-3cb6-414e-dab0-b298ee5c440c"
      },
      "source": [
        "array31=np.zeros(10)\n",
        "array32=np.random.randint(0,len(array31),20)\n",
        "np.add.at(array31,array32,1)\n",
        "print(array32)\n",
        "print(array31)"
      ],
      "id": "5c8bae42",
      "execution_count": 87,
      "outputs": [
        {
          "output_type": "stream",
          "name": "stdout",
          "text": [
            "[8 9 1 0 0 5 2 3 3 6 1 7 4 5 0 7 4 5 3 2]\n",
            "[3. 2. 2. 3. 2. 3. 1. 2. 1. 1.]\n"
          ]
        }
      ]
    },
    {
      "cell_type": "markdown",
      "metadata": {
        "id": "7348abd0"
      },
      "source": [
        "#### 65. How to accumulate elements of a vector (X) to an array (F) based on an index list (I)? (★★★)"
      ],
      "id": "7348abd0"
    },
    {
      "cell_type": "code",
      "metadata": {
        "id": "b3e33a5a",
        "colab": {
          "base_uri": "https://localhost:8080/"
        },
        "outputId": "a1821245-b7aa-4ac9-e136-8d2bbd648655"
      },
      "source": [
        "array33=[1,2,3,4,5,6]\n",
        "array34=[1,5,6,4,2,3]\n",
        "array35=np.bincount(array34,array33)\n",
        "print(array35)\n"
      ],
      "id": "b3e33a5a",
      "execution_count": 92,
      "outputs": [
        {
          "output_type": "stream",
          "name": "stdout",
          "text": [
            "[0. 1. 5. 6. 4. 2. 3.]\n"
          ]
        }
      ]
    },
    {
      "cell_type": "markdown",
      "metadata": {
        "id": "538e651c"
      },
      "source": [
        "#### 66. Considering a (w,h,3) image of (dtype=ubyte), compute the number of unique colors (★★☆)"
      ],
      "id": "538e651c"
    },
    {
      "cell_type": "code",
      "metadata": {
        "id": "57f2f02f",
        "colab": {
          "base_uri": "https://localhost:8080/"
        },
        "outputId": "8b0183a6-3e9e-433a-f3ee-19535804467a"
      },
      "source": [
        "w,h=16,16\n",
        "I=np.random.randint(0,2,(h,w,3)).astype(np.ubyte)\n",
        "F=I[...,0]*(256*256)+I[...,1]*256+I[...,2]\n",
        "n=len(np.unique(F))\n",
        "print(n)\n",
        "print(np.unique(I))"
      ],
      "id": "57f2f02f",
      "execution_count": 95,
      "outputs": [
        {
          "output_type": "stream",
          "name": "stdout",
          "text": [
            "8\n",
            "[0 1]\n"
          ]
        }
      ]
    }
  ]
}