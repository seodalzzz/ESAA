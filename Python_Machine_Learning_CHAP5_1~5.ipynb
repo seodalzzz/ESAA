{
  "nbformat": 4,
  "nbformat_minor": 0,
  "metadata": {
    "colab": {
      "name": "Python Machine Learning CHAP5-1~5.ipynb",
      "provenance": [],
      "collapsed_sections": [],
      "authorship_tag": "ABX9TyMxhe+dUBqycs1zErDEkKse"
    },
    "kernelspec": {
      "name": "python3",
      "display_name": "Python 3"
    },
    "language_info": {
      "name": "python"
    }
  },
  "cells": [
    {
      "cell_type": "markdown",
      "source": [
        "#**CHAP5.회귀**"
      ],
      "metadata": {
        "id": "kdtJZEq6TpvA"
      }
    },
    {
      "cell_type": "markdown",
      "source": [
        "##**1.회귀 소개**\n",
        "  * 데이터 값이 평균과 같은 일정한 값으로 돌아가려는 경향을 이용한 통계학 기법\n",
        "  * 여러 개의 독립변수와 한 개의 종속변수 간의 상관관계를 모델링하는 기법을 통칭함\n",
        "\n",
        "  * 머신러닝 회귀 예측의 핵심은 주어진 피처와 결정 값 데이터 기반에서 학습을 통해 최적의 회귀 계수를 찾아내는 것\n",
        "\n",
        "  * 회귀 유형 구분\n",
        "    * 독립변수 개수 > 단일 회귀 / 다중 회귀\n",
        "    * 회귀 계수의 결합 : 선형 회귀 / 비선형 회귀\n",
        "  \n",
        "  * 지도학습\n",
        "    * 분류 : 예측값이 Categorical\n",
        "    * 회귀 : 예측 값이 연속값\n",
        "\n",
        "  * 선형 회귀 모형\n",
        "    * 일반 선형 회귀 : 예측값과 실제 값의 RSS를 최소화 할 수 있도록 회귀 계수를 최적화하며, 규제를 적용하지 않은 모델\n",
        "    * 릿지 : 선형 회귀에 L2 규제를 추가한 회귀 모델. L2규제는 상대적으로 큰 회귀 계수 값의 예측 영향도를 감소시키기 위해서 회귀 계수값을 더 작게 만드는 규제 모델\n",
        "    * 라쏘 : 선형 회귀에 L1 규제를 적용한 방식. L2 규제가 회귀 계수 값의 크기를 줄이는데 반해, L1 규제는 예측 영향력이 작은 피처의 회귀 계수를 0으로 만들어 회귀 예측 시 피처가 선택되지 않게 하는 것\n",
        "    * 엘라스틱넷 : L2,L1 규제를 함께 결합한 모델. 주로 피처가\n",
        "    * 로지스틱 회귀 : 분류에 사용되는 선형 모델"
      ],
      "metadata": {
        "id": "xUbqtq-vUsmQ"
      }
    },
    {
      "cell_type": "markdown",
      "source": [
        "##**2. 단순 선형 회귀를 통한 회귀 이해**\n",
        "\n",
        "* 단순 선형 회귀 : 독립변수도 하나, 종속변수도 하나인 선형 회귀\n",
        "\n",
        "* 잔차 : 실제 값과 회귀 모델의 차이에 따른 오류값\n",
        "  * 최적의 회귀 모델 : 잔차의 합이 최소가 되는 모델\n",
        "\n",
        "* RSS : 잔차 제곱 합\n",
        "  * RSS를 최소로 하는 회귀 계수를 학습을 통해 찾는 것이 머신러닝 기반 회귀의 핵심 사항임.\n",
        "  * 회귀에서 RSS는 비용이며 회귀 계수로 구성되는 RSS를 비용 함수라고 함."
      ],
      "metadata": {
        "id": "80S6L4kTXd08"
      }
    },
    {
      "cell_type": "markdown",
      "source": [
        "##**3.비용 최소화하기 - 경사 하강법(Gradient Descent) 소개**\n",
        "\n",
        "  * 고차원 방정식에 대한 문제를 해결해 주면서 비용 함수 RSS를 최소화 하는 방법을 직관적으로 제공\n",
        "  * 점진적으로 반복적인 계산을 통해 W 파라미터 값을 업데이트하면서 오류 값이 최소가 되는 W파라미터를 구하는 방식\n",
        "  * 비용 함수의 반환 값, 즉 예측값과 실제 값의 차이가 작아지는 방향성을 가지고 W파라미터를 지속해서 보정해 나감(W 파라미터를 업데이트)\n",
        "  * 최초 W에서부터 미분을 적용한 뒤 미분 값이 계속 감소하는 방향으로 순차적으로 W를 업데이트 > 미분된 1차함수의 기울기가 감소하지 않는 지점을 비용함수가 최저인 지점으로 간주하고 그때의 w를 반환\n",
        "\n",
        "  * 경사하강법의 일반적인 프로세스\n",
        "    * STEP1 : w1,w2를 임의의 값으로 설정하고 첫 비용 함수의 값을 계산\n",
        "    * STEP2 : 업데이트 된 w = 이전 w - 학습률*편미분값\n",
        "    * SETP3 : 비용 함수의 값이 감소했으면 다시 STEP2 반복, 더 이상 비용 함수의 값이 감소하지 않으면 그때의 w1,w2를 구하고 반복을 중지\n"
      ],
      "metadata": {
        "id": "1w3xrlWWYozk"
      }
    },
    {
      "cell_type": "code",
      "execution_count": 4,
      "metadata": {
        "colab": {
          "base_uri": "https://localhost:8080/",
          "height": 283
        },
        "id": "4E9b65DnTYbh",
        "outputId": "636364bd-3f23-4d14-dffa-b04615e5cb22"
      },
      "outputs": [
        {
          "output_type": "execute_result",
          "data": {
            "text/plain": [
              "<matplotlib.collections.PathCollection at 0x7f64e5efc390>"
            ]
          },
          "metadata": {},
          "execution_count": 4
        },
        {
          "output_type": "display_data",
          "data": {
            "text/plain": [
              "<Figure size 432x288 with 1 Axes>"
            ],
            "image/png": "[encoded data removed]"
          },
          "metadata": {
            "needs_background": "light"
          }
        }
      ],
      "source": [
        "import numpy as np\n",
        "import matplotlib.pyplot as plt\n",
        "%matplotlib inline\n",
        "\n",
        "np.random.seed(0)\n",
        "#y=4x+6 을 근사 (w1=4,w0=6). 임의의 값은 노이즈를 위해 만듦\n",
        "X=2*np.random.rand(100,1)\n",
        "y=6+4*X+np.random.randn(100,1)\n",
        "\n",
        "#X,y 데이터 세트 산점도로 시각화\n",
        "plt.scatter(X,y)"
      ]
    },
    {
      "cell_type": "markdown",
      "source": [
        "* 비용 함수 정의"
      ],
      "metadata": {
        "id": "oopfLJEfb_88"
      }
    },
    {
      "cell_type": "code",
      "source": [
        "\n",
        "def get_cost(y,y_pred):\n",
        "  N=len(y)\n",
        "  cost=np.sum(np.square(y-y_pred))/N\n",
        "  return cost"
      ],
      "metadata": {
        "id": "uLCsZbIkbwwf"
      },
      "execution_count": 5,
      "outputs": []
    },
    {
      "cell_type": "markdown",
      "source": [
        "* gradient_descent() : 경사 하강법 구현"
      ],
      "metadata": {
        "id": "8MmeRNpicCI4"
      }
    },
    {
      "cell_type": "code",
      "source": [
        "#w1과 w0을 업데이트할 w1_update,w0_update를 반환\n",
        "\n",
        "def get_weight_updates(w1,w0,X,y,learning_rate=0.01):\n",
        "  N=len(y)\n",
        "  #먼저 w1_updeat, w0_update를 각각 w1,w0의 shpae와 동일한 크기를 가진 0 값으로 초기화\n",
        "  w1_update=np.zeros_like(w1)\n",
        "  w2_update=np.zeros_like(w0)\n",
        "  #예측 배열 계산하고 예측과 실제 값의 차이 계산\n",
        "  y_pred=np.dot(X,w1.T)+w0\n",
        "  diff=y-y_pred\n",
        "\n",
        "  #w0_update를 dot 행렬 연산으로 구하기 위해 모두 1값을 가진 행렬 생성\n",
        "  w0_factors=np.ones((N,1))\n",
        "\n",
        "  #w1과 w0을 업데이트할 w1_update 와 w0_update 계산\n",
        "  w1_update = -(2/N)*learning_rate*(np.dot(X.T,diff))\n",
        "  w0_update=-(2/N)*learning_rate*(np.dot(w0_factors.T,diff))\n",
        "\n",
        "  return w1_update,w0_update"
      ],
      "metadata": {
        "id": "UqLNZK8ecJCV"
      },
      "execution_count": 6,
      "outputs": []
    },
    {
      "cell_type": "code",
      "source": [
        "#입력 인자 iters로 주어진 횟수만큼 반복적으로 w1과 w0를 업데이트\n",
        "\n",
        "def gradient_descent_steps(X,y, iters=10000):\n",
        "  #w0과 w1을 모두 0으로 초기화\n",
        "  w0=np.zeros((1,1))\n",
        "  w1=np.zeros((1,1))\n",
        "\n",
        "  #인자로 주어진 iters만큼 반복적으로 get_weight_updates()호출해 w1, w0 업데이트 수행\n",
        "  for ind in range(iters):\n",
        "    w1_update,w0_update=get_weight_updates(w1,w0,X,y,learning_rate=0.01)\n",
        "    w1=w1-w1_update\n",
        "    w0=w0-w0_update\n",
        "\n",
        "  return w1,w0"
      ],
      "metadata": {
        "id": "sCYtgiBMdCp-"
      },
      "execution_count": 7,
      "outputs": []
    },
    {
      "cell_type": "markdown",
      "source": [
        "* gradient_descent_steps()를 호출해 w1과 w0구하기\n",
        "\n",
        "* 최종적으로 RSS를 계산하는 get_cost() 함수를 생성하고 이를 이용해 경사 하강법의 예측 오류도 계산"
      ],
      "metadata": {
        "id": "fFjCN3W3dmoO"
      }
    },
    {
      "cell_type": "code",
      "source": [
        "def get_cost(y,y_pred):\n",
        "  N=len(y)\n",
        "  cost=np.sum(np.square(y-y_pred))/N\n",
        "  return cost\n",
        "\n",
        "\n",
        "w1,w0=gradient_descent_steps(X,y,iters=1000)\n",
        "print(\"w1:{0:.3f} w0:{1:.3f}\".format(w1[0,0],w0[0,0]))\n",
        "y_pred=w1[0,0]*X+w0\n",
        "print('Gradient Descent Total Cost:{0:.4f}'.format(get_cost(y,y_pred)))\n"
      ],
      "metadata": {
        "colab": {
          "base_uri": "https://localhost:8080/"
        },
        "id": "0XLOCza-dyKN",
        "outputId": "f4c4ee1a-e7ce-4c33-edbf-e3de8fdce090"
      },
      "execution_count": 8,
      "outputs": [
        {
          "output_type": "stream",
          "name": "stdout",
          "text": [
            "w1:4.022 w0:6.162\n",
            "Gradient Descent Total Cost:0.9935\n"
          ]
        }
      ]
    },
    {
      "cell_type": "code",
      "source": [
        "plt.scatter(X,y)\n",
        "plt.plot(X,y_pred)"
      ],
      "metadata": {
        "colab": {
          "base_uri": "https://localhost:8080/",
          "height": 283
        },
        "id": "rJLx8iXngizm",
        "outputId": "3feed61d-ce63-40ce-fa10-f5bf1c8418ce"
      },
      "execution_count": 9,
      "outputs": [
        {
          "output_type": "execute_result",
          "data": {
            "text/plain": [
              "[<matplotlib.lines.Line2D at 0x7f64e5e7cdd0>]"
            ]
          },
          "metadata": {},
          "execution_count": 9
        },
        {
          "output_type": "display_data",
          "data": {
            "text/plain": [
              "<Figure size 432x288 with 1 Axes>"
            ],
            "image/png": "[encoded data removed]"
          },
          "metadata": {
            "needs_background": "light"
          }
        }
      ]
    },
    {
      "cell_type": "markdown",
      "source": [
        "> 경사하강법을 통해 회귀선이 잘 만들어 짐"
      ],
      "metadata": {
        "id": "cDyqt3E0gw4F"
      }
    },
    {
      "cell_type": "markdown",
      "source": [
        "* 확률적 경사 하강법 : Stochastic Gradient Descent\n",
        "  * 경사하강법은 모든 학습 데이터에 대해 반복적으로 비용함수 최소화를 위한 값을 업데이트하기 때문에 수행 시간이 매우 오래 걸림\n",
        "  * 일부 데이터만 이용해 w가 업데이트 되는 값을 계산함"
      ],
      "metadata": {
        "id": "maz7erSGg3cH"
      }
    },
    {
      "cell_type": "markdown",
      "source": [
        "* stochastic_gradietn_descent_steps()\n",
        "  * (미니배치)확률적 경사 하강법"
      ],
      "metadata": {
        "id": "2BInGiNAhTwW"
      }
    },
    {
      "cell_type": "code",
      "source": [
        "def stochastic_gradient_descent_steps(X,y,batch_size=10,iters=1000):\n",
        "  w0=np.zeros((1,1))\n",
        "  w1=np.zeros((1,1))\n",
        "  prev_cost=100000\n",
        "  iter_index=0\n",
        "\n",
        "  for ind in range(iters):\n",
        "    np.random.seed(ind)\n",
        "    #전체 X,y데이터에서 랜덤하게 batch_size만큼 데이터를 추출해 sample_X, sample_y로 저장\n",
        "    stochastic_random_index=np.random.permutation(X.shape[0])\n",
        "    sample_X=X[stochastic_random_index[0:batch_size]]\n",
        "    sample_y=y[stochastic_random_index[0:batch_size]]\n",
        "    #랜덤하게 batch_size만큼 추출된 데이터 기반으로 w1_update, w0_update 계산 후 업데이트\n",
        "    w1_update,w0_update=get_weight_updates(w1,w0,sample_X,sample_y, learning_rate=0.01)\n",
        "    w1=w1-w1_update\n",
        "    w0=w0-w0_update\n",
        "\n",
        "  return w1,w0"
      ],
      "metadata": {
        "id": "gldFb_o2hbR4"
      },
      "execution_count": 10,
      "outputs": []
    },
    {
      "cell_type": "code",
      "source": [
        "w1,w0=stochastic_gradient_descent_steps(X,y,iters=1000)\n",
        "print(\"w1:\",round(w1[0,0],3), \"w0:\",round(w0[0,0],3))\n",
        "y_pred=w1[0,0]*X+w0\n",
        "print('Stochastic Gradient Descent Total Cost:{0:.4f}'.format(get_cost(y,y_pred)))"
      ],
      "metadata": {
        "colab": {
          "base_uri": "https://localhost:8080/"
        },
        "id": "-WUTo383jQBy",
        "outputId": "4e48cb76-f94d-48d5-80b8-3a93f4fad9b5"
      },
      "execution_count": 11,
      "outputs": [
        {
          "output_type": "stream",
          "name": "stdout",
          "text": [
            "w1: 4.028 w0: 6.156\n",
            "Stochastic Gradient Descent Total Cost:0.9937\n"
          ]
        }
      ]
    },
    {
      "cell_type": "markdown",
      "source": [
        "* 피처가 M개인 경우 회귀 계수 M+1개 > 선형대수로 계산"
      ],
      "metadata": {
        "id": "WT9vwo89oe_d"
      }
    },
    {
      "cell_type": "markdown",
      "source": [
        "##**4. 사이킷런 LinearRegression을 이용한 보스턴 주택 가격 예측**"
      ],
      "metadata": {
        "id": "Uo_3f1HG5UV5"
      }
    },
    {
      "cell_type": "markdown",
      "source": [
        "###1) LinearRegression 클래스 - Ordinary Least Squares\n",
        "\n",
        "* LinearRegression 클래스는 예측값과 실제 값의 RSS 를 최소화해 OLS 추정 방식으로 구현한 클래스\n",
        "\n",
        "* fit() 메서드로 X,y 배열을 입력받으면 회귀 계수인 W를 coef_속성에 저장함"
      ],
      "metadata": {
        "id": "t2ydGQra5dLj"
      }
    },
    {
      "cell_type": "markdown",
      "source": [
        "* 입력 파라미터 \n",
        "  * fit_intercept : 불린 값, 디폴트 True. intercept 값을 계산할 것인지 아닌지를 지정\n",
        "    * False 이면 절편 0\n",
        "  * normalize : 회귀를 수행하기 전에 입력 데이터 세트를 정규화 할 것 인지\n",
        "\n",
        "* 속성\n",
        "  * coef_ : fit()메서드를 수행했을 때 회귀 계수가 배열 형태로 저장\n",
        "  * intercept_ : intercept 값\n",
        "\n",
        "* 다중공선성 문제\n",
        "  * 피처 간의 상관관계가 매우 높은 경우 분산이 매우 커져서 오류에 매우 민감해짐\n",
        "  * 일반적으로 상관관계가 높은 피처가 많은 경우 독립적인 중요한 피처만 남기고 제거하거나 규제를 적용\n"
      ],
      "metadata": {
        "id": "tS0jVQK85zSM"
      }
    },
    {
      "cell_type": "markdown",
      "source": [
        "###2) 회귀 평가 지표"
      ],
      "metadata": {
        "id": "z_oGPvIT61wy"
      }
    },
    {
      "cell_type": "markdown",
      "source": [
        "* MAE (Mean Absolute Error)\n",
        "  * 실제 값과 예측 값의 차이를 절댓값으로 변환해 평균\n",
        "  * metrics.mean_absolute_error\n",
        "  * scoring 함수 적용 값 : neg_mean_absolute_error\n",
        "* MSE(Mean Sqaured Error)\n",
        "  * 실제 값과 예측 값의 차이를 제곱해 평균\n",
        "  * metrics.mean_squared_error\n",
        "  * scoring 함수 적용 값 : neg_mean_sqaured_error\n",
        "* RMSE\n",
        "  * MSE는 오류의 제곱을 구하므로 실제 오류 평균보다 더 커짐 > MSE에 루트\n",
        "* R^2\n",
        "  * 분산 기반으로 예측성능을 평가\n",
        "  * 실제 값의 분산 대비 예측값의 분산 비율을 지표로 하여 1에 가까울수록 예측 정확도가 높음\n",
        "  * metrics.r2_score\n",
        "  * scoring 함수 적용값 : r2_score\n",
        "\n",
        "* Scoring 함수가 score 값이 클수록 좋은 평가 결과로 자동 평가하는데, MAE와 MSE는 클수록 좋지 않은 것이므로 neg를 붙여 음수값으로 만들어 줌 > 작은 오류값이 더 큰 숫자로 인식\n",
        "  * 값이 커질수록 나쁜 모델임\n"
      ],
      "metadata": {
        "id": "aLGOLUad67Ek"
      }
    },
    {
      "cell_type": "markdown",
      "source": [
        "###3) LinearRegression을 이용해 보스턴 주택 가격 회귀 구현\n"
      ],
      "metadata": {
        "id": "H4tetFGzAV03"
      }
    },
    {
      "cell_type": "code",
      "source": [
        "import numpy as np\n",
        "import matplotlib.pyplot as plt\n",
        "import pandas as pd\n",
        "import seaborn as sns\n",
        "from scipy import stats\n",
        "from sklearn.datasets import load_boston\n",
        "%matplotlib inline\n"
      ],
      "metadata": {
        "id": "F4uQ6YnQAdns"
      },
      "execution_count": 14,
      "outputs": []
    },
    {
      "cell_type": "code",
      "source": [
        "#boston 데이터 세트 로드\n",
        "boston=load_boston()\n",
        "\n",
        "#boston 데이터 세트 DataFrame 변환\n",
        "bostonDF=pd.DataFrame(boston.data,columns=boston.feature_names)\n",
        "\n",
        "#boston 데이터 세트의 target 배열은 주택 가격임. 이를 PRICE 칼럼으로 DataFrame에 추가함\n",
        "bostonDF['PRICE']=boston.target\n",
        "print('Boston 데이터 세트 크기 :', bostonDF.shape)\n",
        "bostonDF.head()"
      ],
      "metadata": {
        "colab": {
          "base_uri": "https://localhost:8080/",
          "height": 942
        },
        "id": "S7w1_POWAoGm",
        "outputId": "5a415dce-9504-45c4-f3f2-a99bc8b9cfff"
      },
      "execution_count": 15,
      "outputs": [
        {
          "output_type": "stream",
          "name": "stdout",
          "text": [
            "Boston 데이터 세트 크기 : (506, 14)\n"
          ]
        },
        {
          "output_type": "stream",
          "name": "stderr",
          "text": [
            "/usr/local/lib/python3.7/dist-packages/sklearn/utils/deprecation.py:87: FutureWarning: Function load_boston is deprecated; `load_boston` is deprecated in 1.0 and will be removed in 1.2.\n",
            "\n",
            "    The Boston housing prices dataset has an ethical problem. You can refer to\n",
            "    the documentation of this function for further details.\n",
            "\n",
            "    The scikit-learn maintainers therefore strongly discourage the use of this\n",
            "    dataset unless the purpose of the code is to study and educate about\n",
            "    ethical issues in data science and machine learning.\n",
            "\n",
            "    In this special case, you can fetch the dataset from the original\n",
            "    source::\n",
            "\n",
            "        import pandas as pd\n",
            "        import numpy as np\n",
            "\n",
            "\n",
            "        data_url = \"http://lib.stat.cmu.edu/datasets/boston\"\n",
            "        raw_df = pd.read_csv(data_url, sep=\"\\s+\", skiprows=22, header=None)\n",
            "        data = np.hstack([raw_df.values[::2, :], raw_df.values[1::2, :2]])\n",
            "        target = raw_df.values[1::2, 2]\n",
            "\n",
            "    Alternative datasets include the California housing dataset (i.e.\n",
            "    :func:`~sklearn.datasets.fetch_california_housing`) and the Ames housing\n",
            "    dataset. You can load the datasets as follows::\n",
            "\n",
            "        from sklearn.datasets import fetch_california_housing\n",
            "        housing = fetch_california_housing()\n",
            "\n",
            "    for the California housing dataset and::\n",
            "\n",
            "        from sklearn.datasets import fetch_openml\n",
            "        housing = fetch_openml(name=\"house_prices\", as_frame=True)\n",
            "\n",
            "    for the Ames housing dataset.\n",
            "    \n",
            "  warnings.warn(msg, category=FutureWarning)\n"
          ]
        },
        {
          "output_type": "execute_result",
          "data": {
            "text/plain": [
              "      CRIM    ZN  INDUS  CHAS    NOX     RM   AGE     DIS  RAD    TAX  \\\n",
              "0  0.00632  18.0   2.31   0.0  0.538  6.575  65.2  4.0900  1.0  296.0   \n",
              "1  0.02731   0.0   7.07   0.0  0.469  6.421  78.9  4.9671  2.0  242.0   \n",
              "2  0.02729   0.0   7.07   0.0  0.469  7.185  61.1  4.9671  2.0  242.0   \n",
              "3  0.03237   0.0   2.18   0.0  0.458  6.998  45.8  6.0622  3.0  222.0   \n",
              "4  0.06905   0.0   2.18   0.0  0.458  7.147  54.2  6.0622  3.0  222.0   \n",
              "\n",
              "   PTRATIO       B  LSTAT  PRICE  \n",
              "0     15.3  396.90   4.98   24.0  \n",
              "1     17.8  396.90   9.14   21.6  \n",
              "2     17.8  392.83   4.03   34.7  \n",
              "3     18.7  394.63   2.94   33.4  \n",
              "4     18.7  396.90   5.33   36.2  "
            ],
            "text/html": [
              "\n",
              "  <div id=\"df-83b10ec3-c771-4562-bdd8-10be4f2f7038\">\n",
              "    <div class=\"colab-df-container\">\n",
              "      <div>\n",
              "<style scoped>\n",
              "    .dataframe tbody tr th:only-of-type {\n",
              "        vertical-align: middle;\n",
              "    }\n",
              "\n",
              "    .dataframe tbody tr th {\n",
              "        vertical-align: top;\n",
              "    }\n",
              "\n",
              "    .dataframe thead th {\n",
              "        text-align: right;\n",
              "    }\n",
              "</style>\n",
              "<table border=\"1\" class=\"dataframe\">\n",
              "  <thead>\n",
              "    <tr style=\"text-align: right;\">\n",
              "      <th></th>\n",
              "      <th>CRIM</th>\n",
              "      <th>ZN</th>\n",
              "      <th>INDUS</th>\n",
              "      <th>CHAS</th>\n",
              "      <th>NOX</th>\n",
              "      <th>RM</th>\n",
              "      <th>AGE</th>\n",
              "      <th>DIS</th>\n",
              "      <th>RAD</th>\n",
              "      <th>TAX</th>\n",
              "      <th>PTRATIO</th>\n",
              "      <th>B</th>\n",
              "      <th>LSTAT</th>\n",
              "      <th>PRICE</th>\n",
              "    </tr>\n",
              "  </thead>\n",
              "  <tbody>\n",
              "    <tr>\n",
              "      <th>0</th>\n",
              "      <td>0.00632</td>\n",
              "      <td>18.0</td>\n",
              "      <td>2.31</td>\n",
              "      <td>0.0</td>\n",
              "      <td>0.538</td>\n",
              "      <td>6.575</td>\n",
              "      <td>65.2</td>\n",
              "      <td>4.0900</td>\n",
              "      <td>1.0</td>\n",
              "      <td>296.0</td>\n",
              "      <td>15.3</td>\n",
              "      <td>396.90</td>\n",
              "      <td>4.98</td>\n",
              "      <td>24.0</td>\n",
              "    </tr>\n",
              "    <tr>\n",
              "      <th>1</th>\n",
              "      <td>0.02731</td>\n",
              "      <td>0.0</td>\n",
              "      <td>7.07</td>\n",
              "      <td>0.0</td>\n",
              "      <td>0.469</td>\n",
              "      <td>6.421</td>\n",
              "      <td>78.9</td>\n",
              "      <td>4.9671</td>\n",
              "      <td>2.0</td>\n",
              "      <td>242.0</td>\n",
              "      <td>17.8</td>\n",
              "      <td>396.90</td>\n",
              "      <td>9.14</td>\n",
              "      <td>21.6</td>\n",
              "    </tr>\n",
              "    <tr>\n",
              "      <th>2</th>\n",
              "      <td>0.02729</td>\n",
              "      <td>0.0</td>\n",
              "      <td>7.07</td>\n",
              "      <td>0.0</td>\n",
              "      <td>0.469</td>\n",
              "      <td>7.185</td>\n",
              "      <td>61.1</td>\n",
              "      <td>4.9671</td>\n",
              "      <td>2.0</td>\n",
              "      <td>242.0</td>\n",
              "      <td>17.8</td>\n",
              "      <td>392.83</td>\n",
              "      <td>4.03</td>\n",
              "      <td>34.7</td>\n",
              "    </tr>\n",
              "    <tr>\n",
              "      <th>3</th>\n",
              "      <td>0.03237</td>\n",
              "      <td>0.0</td>\n",
              "      <td>2.18</td>\n",
              "      <td>0.0</td>\n",
              "      <td>0.458</td>\n",
              "      <td>6.998</td>\n",
              "      <td>45.8</td>\n",
              "      <td>6.0622</td>\n",
              "      <td>3.0</td>\n",
              "      <td>222.0</td>\n",
              "      <td>18.7</td>\n",
              "      <td>394.63</td>\n",
              "      <td>2.94</td>\n",
              "      <td>33.4</td>\n",
              "    </tr>\n",
              "    <tr>\n",
              "      <th>4</th>\n",
              "      <td>0.06905</td>\n",
              "      <td>0.0</td>\n",
              "      <td>2.18</td>\n",
              "      <td>0.0</td>\n",
              "      <td>0.458</td>\n",
              "      <td>7.147</td>\n",
              "      <td>54.2</td>\n",
              "      <td>6.0622</td>\n",
              "      <td>3.0</td>\n",
              "      <td>222.0</td>\n",
              "      <td>18.7</td>\n",
              "      <td>396.90</td>\n",
              "      <td>5.33</td>\n",
              "      <td>36.2</td>\n",
              "    </tr>\n",
              "  </tbody>\n",
              "</table>\n",
              "</div>\n",
              "      <button class=\"colab-df-convert\" onclick=\"convertToInteractive('df-83b10ec3-c771-4562-bdd8-10be4f2f7038')\"\n",
              "              title=\"Convert this dataframe to an interactive table.\"\n",
              "              style=\"display:none;\">\n",
              "        \n",
              "  <svg xmlns=\"http://www.w3.org/2000/svg\" height=\"24px\"viewBox=\"0 0 24 24\"\n",
              "       width=\"24px\">\n",
              "    <path d=\"M0 0h24v24H0V0z\" fill=\"none\"/>\n",
              "    <path d=\"M18.56 5.44l.94 2.06.94-2.06 2.06-.94-2.06-.94-.94-2.06-.94 2.06-2.06.94zm-11 1L8.5 8.5l.94-2.06 2.06-.94-2.06-.94L8.5 2.5l-.94 2.06-2.06.94zm10 10l.94 2.06.94-2.06 2.06-.94-2.06-.94-.94-2.06-.94 2.06-2.06.94z\"/><path d=\"M17.41 7.96l-1.37-1.37c-.4-.4-.92-.59-1.43-.59-.52 0-1.04.2-1.43.59L10.3 9.45l-7.72 7.72c-.78.78-.78 2.05 0 2.83L4 21.41c.39.39.9.59 1.41.59.51 0 1.02-.2 1.41-.59l7.78-7.78 2.81-2.81c.8-.78.8-2.07 0-2.86zM5.41 20L4 18.59l7.72-7.72 1.47 1.35L5.41 20z\"/>\n",
              "  </svg>\n",
              "      </button>\n",
              "      \n",
              "  <style>\n",
              "    .colab-df-container {\n",
              "      display:flex;\n",
              "      flex-wrap:wrap;\n",
              "      gap: 12px;\n",
              "    }\n",
              "\n",
              "    .colab-df-convert {\n",
              "      background-color: #E8F0FE;\n",
              "      border: none;\n",
              "      border-radius: 50%;\n",
              "      cursor: pointer;\n",
              "      display: none;\n",
              "      fill: #1967D2;\n",
              "      height: 32px;\n",
              "      padding: 0 0 0 0;\n",
              "      width: 32px;\n",
              "    }\n",
              "\n",
              "    .colab-df-convert:hover {\n",
              "      background-color: #E2EBFA;\n",
              "      box-shadow: 0px 1px 2px rgba(60, 64, 67, 0.3), 0px 1px 3px 1px rgba(60, 64, 67, 0.15);\n",
              "      fill: #174EA6;\n",
              "    }\n",
              "\n",
              "    [theme=dark] .colab-df-convert {\n",
              "      background-color: #3B4455;\n",
              "      fill: #D2E3FC;\n",
              "    }\n",
              "\n",
              "    [theme=dark] .colab-df-convert:hover {\n",
              "      background-color: #434B5C;\n",
              "      box-shadow: 0px 1px 3px 1px rgba(0, 0, 0, 0.15);\n",
              "      filter: drop-shadow(0px 1px 2px rgba(0, 0, 0, 0.3));\n",
              "      fill: #FFFFFF;\n",
              "    }\n",
              "  </style>\n",
              "\n",
              "      <script>\n",
              "        const buttonEl =\n",
              "          document.querySelector('#df-83b10ec3-c771-4562-bdd8-10be4f2f7038 button.colab-df-convert');\n",
              "        buttonEl.style.display =\n",
              "          google.colab.kernel.accessAllowed ? 'block' : 'none';\n",
              "\n",
              "        async function convertToInteractive(key) {\n",
              "          const element = document.querySelector('#df-83b10ec3-c771-4562-bdd8-10be4f2f7038');\n",
              "          const dataTable =\n",
              "            await google.colab.kernel.invokeFunction('convertToInteractive',\n",
              "                                                     [key], {});\n",
              "          if (!dataTable) return;\n",
              "\n",
              "          const docLinkHtml = 'Like what you see? Visit the ' +\n",
              "            '<a target=\"_blank\" href=https://colab.research.google.com/notebooks/data_table.ipynb>data table notebook</a>'\n",
              "            + ' to learn more about interactive tables.';\n",
              "          element.innerHTML = '';\n",
              "          dataTable['output_type'] = 'display_data';\n",
              "          await google.colab.output.renderOutput(dataTable, element);\n",
              "          const docLink = document.createElement('div');\n",
              "          docLink.innerHTML = docLinkHtml;\n",
              "          element.appendChild(docLink);\n",
              "        }\n",
              "      </script>\n",
              "    </div>\n",
              "  </div>\n",
              "  "
            ]
          },
          "metadata": {},
          "execution_count": 15
        }
      ]
    },
    {
      "cell_type": "markdown",
      "source": [
        "* regplot()\n",
        "  * X,Y 축 값의 산점도와 함께 선형 회귀 직선을 그려줌"
      ],
      "metadata": {
        "id": "RSASSslCBzW8"
      }
    },
    {
      "cell_type": "code",
      "source": [
        "# 2개의 행과 4개의 열을 가진 subplots를 이용, axs 는 4*2개의 ax를 가짐\n",
        "fig, axs=plt.subplots(figsize=(16,8),ncols=4, nrows=2)\n",
        "lm_features=['RM','ZN','INDUS','NOX','AGE','PTRATIO','LSTAT','RAD']\n",
        "for i, feature in enumerate(lm_features):\n",
        "  row=int(i/4)\n",
        "  col=i%4\n",
        "  #시본의 regplot을 이용해 산점도와 선형 회귀 직선을 함께 표현\n",
        "  sns.regplot(x=feature, y='PRICE', data=bostonDF, ax=axs[row][col])"
      ],
      "metadata": {
        "colab": {
          "base_uri": "https://localhost:8080/",
          "height": 344
        },
        "id": "ZjJSf6PLB78M",
        "outputId": "88bbce78-6de1-48ff-932e-844ae54c71b4"
      },
      "execution_count": 17,
      "outputs": [
        {
          "output_type": "display_data",
          "data": {
            "text/plain": [
              "<Figure size 1152x576 with 8 Axes>"
            ],
            "image/png": "[encoded data removed]"
          },
          "metadata": {
            "needs_background": "light"
          }
        }
      ]
    },
    {
      "cell_type": "markdown",
      "source": [
        "* Linear Regression 클래스를 이용해 보스턴 주택 가격 회귀 모델 만들기"
      ],
      "metadata": {
        "id": "_xaVsA1KDF9_"
      }
    },
    {
      "cell_type": "code",
      "source": [
        "from sklearn.model_selection import train_test_split\n",
        "from sklearn.linear_model import LinearRegression\n",
        "from sklearn.metrics import mean_squared_error, r2_score\n",
        "\n",
        "y_target=bostonDF['PRICE']\n",
        "X_data=bostonDF.drop(['PRICE'],axis=1, inplace=False)\n",
        "\n",
        "X_train, X_test, y_train, y_test= train_test_split(X_data, y_target, test_size=0.3, random_state=156)\n",
        "\n",
        "#선형 회귀 OLS로 학습/예측/평가 수행\n",
        "lr=LinearRegression()\n",
        "lr.fit(X_train,y_train)\n",
        "y_preds=lr.predict(X_test)\n",
        "mse=mean_squared_error(y_test,y_preds)\n",
        "rmse=np.sqrt(mse)\n",
        "\n",
        "print('MSE :{0:.3f}, RMSE :{1:.3f}'.format(mse,rmse))\n",
        "print('Variance score : {0:.3f}'.format(r2_score(y_test, y_preds)))"
      ],
      "metadata": {
        "colab": {
          "base_uri": "https://localhost:8080/"
        },
        "id": "oAO5d7pEDMAZ",
        "outputId": "c9ce5b19-bddd-4466-a217-27b6aa08bc05"
      },
      "execution_count": 19,
      "outputs": [
        {
          "output_type": "stream",
          "name": "stdout",
          "text": [
            "MSE :17.297, RMSE :4.159\n",
            "Variance score : 0.757\n"
          ]
        }
      ]
    },
    {
      "cell_type": "code",
      "source": [
        "print('절편 값 : ', lr.intercept_)\n",
        "print('회귀 계수 값 : ', np.round(lr.coef_,1))"
      ],
      "metadata": {
        "colab": {
          "base_uri": "https://localhost:8080/"
        },
        "id": "Uh9Bdk7YEOrd",
        "outputId": "f693594c-8889-4f82-901d-318dd0b08330"
      },
      "execution_count": 20,
      "outputs": [
        {
          "output_type": "stream",
          "name": "stdout",
          "text": [
            "절편 값 :  40.995595172164755\n",
            "회귀 계수 값 :  [ -0.1   0.1   0.    3.  -19.8   3.4   0.   -1.7   0.4  -0.   -0.9   0.\n",
            "  -0.6]\n"
          ]
        }
      ]
    },
    {
      "cell_type": "markdown",
      "source": [
        "* coef_ 를 피처별 회귀 계수 값으로 다시 매핑하고 높은 값 순으로 출력"
      ],
      "metadata": {
        "id": "p-1mQQ27EX8T"
      }
    },
    {
      "cell_type": "code",
      "source": [
        "# 회귀 계수를 큰 값 순으로 정렬하기 위해 Series로 생성. 인덱스 칼럼명에 유의\n",
        "coeff=pd.Series(data=np.round(lr.coef_,1),index=X_data.columns)\n",
        "coeff.sort_values(ascending=False)"
      ],
      "metadata": {
        "colab": {
          "base_uri": "https://localhost:8080/"
        },
        "id": "fgIdgYQ-EcDa",
        "outputId": "91851b31-7266-458c-bfdb-4f7620033977"
      },
      "execution_count": 22,
      "outputs": [
        {
          "output_type": "execute_result",
          "data": {
            "text/plain": [
              "RM          3.4\n",
              "CHAS        3.0\n",
              "RAD         0.4\n",
              "ZN          0.1\n",
              "INDUS       0.0\n",
              "AGE         0.0\n",
              "TAX        -0.0\n",
              "B           0.0\n",
              "CRIM       -0.1\n",
              "LSTAT      -0.6\n",
              "PTRATIO    -0.9\n",
              "DIS        -1.7\n",
              "NOX       -19.8\n",
              "dtype: float64"
            ]
          },
          "metadata": {},
          "execution_count": 22
        }
      ]
    },
    {
      "cell_type": "markdown",
      "source": [
        "* 5개의 폴드 세트에서 교차 검증으로 MSE와 RMSE를 측정\n",
        "  * corss_val_score()는 RMSE를 제공하지 않으므로 MSE 수치 결과를 RMSE로 변환해야 함"
      ],
      "metadata": {
        "id": "HbTNyAVsEut_"
      }
    },
    {
      "cell_type": "code",
      "source": [
        "from sklearn.model_selection import cross_val_score\n",
        "\n",
        "y_target=bostonDF['PRICE']\n",
        "X_data=bostonDF.drop(['PRICE'],axis=1, inplace=False)\n",
        "lr=LinearRegression()\n",
        "\n",
        "#corss_val_score()로 5폴드 세트로 MSE를 구한 뒤 이를 기반으로 다시 RMSE 구함\n",
        "neg_mse_scores=cross_val_score(lr,X_data, y_target, scoring=\"neg_mean_squared_error\",cv=5)\n",
        "rmse_scores=np.sqrt(-1*neg_mse_scores)\n",
        "avg_rmse=np.mean(rmse_scores)\n",
        "\n",
        "#corss_val_score(scoring=\"neg_mean_squared_error\")로 반환된 값은 모두 음수\n",
        "print('5 folds의 개별 Negative MSE scores:',np.round(neg_mse_scores,2))\n",
        "print('5 folds의 개별 RMSE scores :',np.round(rmse_scores,2))\n",
        "print('5 folds의 평균 RMSE : {0:.3f}'.format(avg_rmse))"
      ],
      "metadata": {
        "colab": {
          "base_uri": "https://localhost:8080/"
        },
        "id": "OjvuPt6gE87w",
        "outputId": "9147bdca-e9dd-437d-8ef6-4c969bb7ab3b"
      },
      "execution_count": 24,
      "outputs": [
        {
          "output_type": "stream",
          "name": "stdout",
          "text": [
            "5 folds의 개별 Negative MSE scores: [-12.46 -26.05 -33.07 -80.76 -33.31]\n",
            "5 folds의 개별 RMSE scores : [3.53 5.1  5.75 8.99 5.77]\n",
            "5 folds의 평균 RMSE : 5.829\n"
          ]
        }
      ]
    },
    {
      "cell_type": "markdown",
      "source": [
        "##**5. 다항 회귀와 과(대)적합/과소적합 이해**\n",
        "\n",
        "* 다항 회귀 : 회귀가 독립 변순의 단항식이 아닌 2차, 3차 방정식과 같은 다항식으로 표현되는 것\n",
        "\n",
        "* 다항 회귀는 선형 회귀\n",
        "  * 회귀에서 선형/비선형회귀를 나누는 기준은 회귀 계수가 선형/비선형인지에 따른 것이지 독립변수의 선형/비선형 여부와는 무관함\n",
        "\n",
        "* 사이킷런은 다항 회귀를 위한 클래스를 명시적으로 제공하지 않음\n",
        "  * 비선형 함수를 선형 모델에 적용시키는 방법을 사용해 구현함\n",
        "  * PolynomialFeatures : degree 파라미터를 통해 입력 받은 단항식 피처를 degree에 해당하는 다항식 피처로 변환함\n",
        "  "
      ],
      "metadata": {
        "id": "VIVXRffypLz9"
      }
    },
    {
      "cell_type": "code",
      "source": [
        "from sklearn.preprocessing import PolynomialFeatures\n",
        "import numpy as np\n",
        "\n",
        "# 다항식으로 변환한 단항식 생성, [[0,1],[2,3]]의 2*2 행렬 생성\n",
        "X=np.arange(4).reshape(2,2)\n",
        "print('일차 단항식 계수 피처:\\n',X)\n",
        "\n",
        "#degree=2인 2차 다항식으로 변환하기 위해 PolynomialFeatures를 이용해 변환\n",
        "poly=PolynomialFeatures(degree=2)\n",
        "poly.fit(X)\n",
        "poly_ftr=poly.transform(X)\n",
        "print('변환된 2차 다항식 계수 피처:\\n',poly_ftr)"
      ],
      "metadata": {
        "id": "OHCxZ5CVwssZ"
      },
      "execution_count": null,
      "outputs": []
    },
    {
      "cell_type": "markdown",
      "source": [
        "* 3차 다항 회귀 함수를 임의로 설정하고 이의 회귀 계수를 예측"
      ],
      "metadata": {
        "id": "AOYpGaW7xPZ5"
      }
    },
    {
      "cell_type": "code",
      "source": [
        "def polynomial_func(X):\n",
        "  y=1+2*X[:,0]+3*X[:,0]**2+4*X[:,1]**3\n",
        "  return y\n",
        "\n",
        "X=np.arange(4).reshape(2,2)\n",
        "print('일차 단항식 곘루 feature:\\n',X)\n",
        "y=polynomial_func(X)\n",
        "print('삼차 다항식 결정값:\\n',y)"
      ],
      "metadata": {
        "id": "6cim-LySxSKJ"
      },
      "execution_count": null,
      "outputs": []
    },
    {
      "cell_type": "markdown",
      "source": [
        "* 일차 단항식 계수를 삼차 다항식 계수로 변환하고, 이를 선형 회귀에 적용하면 다항 회귀로 구현됨"
      ],
      "metadata": {
        "id": "hsP8w30BxmB1"
      }
    },
    {
      "cell_type": "code",
      "source": [
        "from sklearn.linear_model import LinearRegression\n",
        "# 3차 다항식 변환\n",
        "poly_ftr=PolynomialFeatures(degree=3).fit_transform(X)\n",
        "print('3차 다항식 계수 feature:\\n',poly_ftr)\n",
        "\n",
        "#Linear Regression에 3차 다항식 계수 feature와 3차 다항식 결정값으로 학습 후 회귀 계수 확인\n",
        "model=LinearRegression()\n",
        "model.fit(poly_ftr,y)\n",
        "print('Polynomial 회귀 계수\\n',np.round(model.coef_,2))\n",
        "print('Polynomial 회귀 Shape :',model.coef_.shape)"
      ],
      "metadata": {
        "id": "5RsKZ1Fyxp8M"
      },
      "execution_count": null,
      "outputs": []
    },
    {
      "cell_type": "markdown",
      "source": [
        "> 3차 다항식 Polynomial 변환 이후에는 다항식 계수 피처가 10개로 늘어남"
      ],
      "metadata": {
        "id": "TAbuytEaycdE"
      }
    },
    {
      "cell_type": "code",
      "source": [
        "from sklearn.preprocessing import PolynomialFeatures\n",
        "from sklearn.linear_model import LinearRegression\n",
        "from sklearn.pipeline import Pipeline\n",
        "import numpy as np\n",
        "\n",
        "def polynomial_func(X):\n",
        "  y=1+2*X[:,0]+3*X[:,0]**2+4*X[:,1]**3\n",
        "  return y\n",
        "\n",
        "#Pipeline 객체로 Streamline하게 Polynomial Feature 변환과 Linear Regression을 연결\n",
        "model=Pipeline([('poly',PolynomialFeatures(degree=3)),('linear',LinearRegression())])\n",
        "X=np.arange(4).reshape(2,2)\n",
        "y=polynomial_func(X)\n",
        "\n",
        "model=model.fit(X,y)\n",
        "print('Polynomial 회귀 계수\\n',np.round(model.named_steps['linear'].coef_,2))\n"
      ],
      "metadata": {
        "id": "N057PfiAykEl"
      },
      "execution_count": null,
      "outputs": []
    },
    {
      "cell_type": "markdown",
      "source": [
        "###1) 다항 회귀를 이용한 괄소적합 및 과적합 이해\n",
        "\n",
        "* 다항 회귀의 차수를 높이면 피처의 직선적 관계가 아닌 복잡한 다항 관계 모델링 가능\n",
        "* 다항 회귀의 차수가 높아질수록 학습 데이터에만 너무 맞춘 학습이이뤄져서 정작 테스트 데이터 환경에서는 오히려 예측정확도가 떨어짐\n",
        "\n"
      ],
      "metadata": {
        "id": "HqEnioL0zca0"
      }
    },
    {
      "cell_type": "markdown",
      "source": [
        "* 원래 데이터 세트는 피처 X와 target y가 노이즈가 포함된 다항식의 코사인 그래프 관계를 가지도록 만들어줌\n",
        "\n",
        "* 이에 기반해 다항 회귀의 차수를 변화시키면서 그에 따른 회귀 예측 곡선과 예측 정확도를 비교"
      ],
      "metadata": {
        "id": "ykX2S6Q9zueB"
      }
    },
    {
      "cell_type": "code",
      "source": [
        "import numpy as np\n",
        "import matplotlib.pyplot as plt\n",
        "from sklearn.pipeline import Pipeline\n",
        "from sklearn.preprocessing import PolynomialFeatures\n",
        "from sklearn.linear_model import LinearRegression\n",
        "from sklearn.model_selection import cross_val_score\n",
        "%matplotlib inline\n",
        "\n",
        "#임의의 값으로 구성된 X값에 대해 코사인 변환 값을 반환\n",
        "def true_fun(X):\n",
        "  return np.cos(1.5*np.pi*X)\n",
        "\n",
        "#X는 0부터 1까지 30개의 임의의 값을 순서대로 샘플링한 데이터\n",
        "np.random.seed(0)\n",
        "n_samples=30\n",
        "X=np.sort(np.random.rand(n_samples))\n",
        "\n",
        "#y값은 코사인 기반의 true_fun()에서 약간의 노이즈 변동값을 더한 값\n",
        "y=true_fun(X)+np.random.randn(n_samples)*0.1\n",
        "\n"
      ],
      "metadata": {
        "id": "RSOmGLzFz87x"
      },
      "execution_count": null,
      "outputs": []
    },
    {
      "cell_type": "markdown",
      "source": [
        "* 예측 결과를 비교할 다항식 차수를 각각 1,4,15로 변경하면서 예측 결과를 비교"
      ],
      "metadata": {
        "id": "XM8YrUnf0mLB"
      }
    },
    {
      "cell_type": "code",
      "source": [
        "plt.figure(figsize=(14,5))\n",
        "degrees=[1,4,15]\n",
        "\n",
        "#다항 회귀의 차수(degree)를 1,4,15로 각각 변화시키면서 비교\n",
        "for i in range(len(degrees)):\n",
        "  ax=plt.subplot(1,len(degrees),i+1)\n",
        "  plt.setp(ax,xticks=(),yticks=())\n",
        "\n",
        "  #개별 degree별로 Polynomial 변환\n",
        "  polynomial_features=PolynomialFeatures(degree=degrees[i], include_bias=False)\n",
        "  linear_regression=LinearRegression()\n",
        "  pipeline=Pipeline([('polynomial_featrues',polynomial_features),\n",
        "                     ('linear_regression', linear_regression)])\n",
        "  pipeline.fit(X.reshape(-1,1),y)\n",
        "\n",
        "  # 교차 검증으로 다항 회귀를 평가\n",
        "  scores=cross_val_score(pipeline,X.reshape(-1,1),y,scoring='neg_mean_squared_error',cv=10)\n",
        "  #Pipeline을 구성하는 세부 객체를 접근하는 named_seps['객체명']을 이용해 회귀 계수 추출\n",
        "  coefficients=pipeline.named_steps['linear_regression'].coef_\n",
        "  print('\\nDegree {0} 회귀 계수는 {1}입니다.'.format(degrees[i],np.round(coefficients,2)))\n",
        "  print('Degree {0} MSE는 {1} 입니다.'.format(degrees[i], -1*np.mean(scores)))\n",
        "\n",
        "  #0부터 1까지 테스트 데이터 세트를 100개로 나눠 예측 수행\n",
        "  #테스트 데이터 세트에 회귀 예측을 수행하고 예측 곡선과 실제 곡선을 그려서 비교\n",
        "  X_test=np.linspace(0,1,100)\n",
        "  #예측값 곡선\n",
        "  plt.plot(X_test, pipeline.predict(X_test[:,np.newaxis]), label=\"Model\")\n",
        "  plt.scatter(X,y,edgecolor='b',s=20,label=\"Samples\")\n",
        "\n",
        "  plt.xlabel(\"x\")\n",
        "  plt.ylabel(\"y\")\n",
        "  plt.xlim((0,1))\n",
        "  plt.ylim((-2,2))\n",
        "  plt.legend(loc=\"best\")\n",
        "  plt.title(\"Degree {}\\nMSE={:.2e}(+/- {:.2e})\".format(degrees[i],-scores.mean(),scores.std()))\n",
        "\n",
        "plt.show()\n",
        "\n"
      ],
      "metadata": {
        "id": "rR6o3VXk0tj8"
      },
      "execution_count": null,
      "outputs": []
    },
    {
      "cell_type": "markdown",
      "source": [
        "> 맨왼쪽의 Degree1 예측 곡선은 단순한 직선으로 단순 선형 회귀와 같음. 실제 데이터 세트인 코사인 데이터 세트를 직선으로 예측하기에는 너무 단순해 보임\n",
        "\n",
        "> 두번째 Degree4 예측 곡선은 실제 데이터 세트와 유사한 모습\n",
        "\n",
        "> 세번째 Degree15 예측 곡선은 MSE값이 매우 큼 (과적합)"
      ],
      "metadata": {
        "id": "HPjthNqE1zNx"
      }
    },
    {
      "cell_type": "markdown",
      "source": [
        "###2) 편향-분산 트레이드 오프 (Bias-Variance Trade off)\n",
        "\n",
        "* 고편향 : 매우 단순화된 모델로서 지나치게 한 반향성으로 치우침\n",
        "\n",
        "* 고분산 : 매우 복잡한 모델로서 지나치게 높은 변동성을 가짐\n",
        "\n",
        "* 저편향/저분산 : 예측 겨로가가 실제 결과에 매우 잘 근접하면서도 예측 변동이 크지 않고 특정 부분에 집중됨\n",
        "\n",
        "* 저편향/고분산 : 예측 결과가 실제 결과에 비교적 근접하지만, 예측 결과가 실제 결과를 중심으로 꽤 넓은 부분에 분포되어 있음\n",
        "\n",
        "* 고편향/저분산 : 정확한 결과에서 벗어나면서도 예측이 특정 부분에 집중됨\n",
        "\n",
        "* 고편향/고분산 : 정확한 예측 결과를 벗어나면서도 넓은 부분에 분포됨\n",
        "\n",
        "* 일반적으로 편향과 분산은 한 쪽이 높으면 한쪽이 낮아지는 경향\n",
        "\n",
        "* 편향을 낮추고 분산을 높이면서 전체 오류가 가장 낮아지는 골디락스 지점 > 이후로 분산을 지속적으로 높이면 전체 오류 값이 오히려 증가하면서 예측 성능은 다시 저하됨\n",
        "\n",
        "* 고편향/저분산에서 과소적합되기 쉬우며 저편향/고분산에서 과적합되기 쉬움\n",
        "\n",
        "* 편향과 분산이 서로 트레이트오프를 이루면서 오류 Cost 값이 최대로 낮아지는 모델을 구축하는 것이 가장 효율적인 머신러닝 예측 모델을 만드는 방법."
      ],
      "metadata": {
        "id": "KLXk_fHy4BL_"
      }
    }
  ]
}