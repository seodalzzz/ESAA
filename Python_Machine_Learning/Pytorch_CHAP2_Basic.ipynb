{
  "nbformat": 4,
  "nbformat_minor": 0,
  "metadata": {
    "colab": {
      "provenance": [],
      "toc_visible": true,
      "authorship_tag": "ABX9TyMtXfNEtMERV3ICfkwxIErX",
      "include_colab_link": true
    },
    "kernelspec": {
      "name": "python3",
      "display_name": "Python 3"
    },
    "language_info": {
      "name": "python"
    }
  },
  "cells": [
    {
      "cell_type": "markdown",
      "metadata": {
        "id": "view-in-github",
        "colab_type": "text"
      },
      "source": [
        "<a href=\"https://colab.research.google.com/github/seodalzzz/ESAA/blob/Python_Machine_Learning/Pytorch_CHAP2_Basic.ipynb\" target=\"_parent\"><img src=\"https://colab.research.google.com/assets/colab-badge.svg\" alt=\"Open In Colab\"/></a>"
      ]
    },
    {
      "cell_type": "markdown",
      "source": [
        "#**CHAP2 파이토치 기초**\n",
        "\n",
        "---\n",
        "https://wikidocs.net/57168\n",
        "---\n",
        "\n",
        "\n"
      ],
      "metadata": {
        "id": "QRGcmHyPJy7H"
      }
    },
    {
      "cell_type": "markdown",
      "source": [
        "##1.파이토치 패키지의 기본 구성"
      ],
      "metadata": {
        "id": "ycKiHE7-J5mJ"
      }
    },
    {
      "cell_type": "markdown",
      "source": [
        "###1) torch\n",
        "  * 메인 네임스페이스\n",
        "  * 텐서 등의 다양한 수학 함수 포함\n",
        "  * Numpy와 유사한 구조를 가짐"
      ],
      "metadata": {
        "id": "_F8FxgfKJ8Y0"
      }
    },
    {
      "cell_type": "markdown",
      "source": [
        "### 2) torch.autograd\n",
        "  * 자동 미분을 위한 함수들이 포함됨\n",
        "  * 자동 미분의 on/off 를 제어하는 콘텍스트 매니저(enable_grad/no_grad)나 자체 미분 가능 함수를 정의할 때 사용하는 기반 클래스인 'Function'등이 포함 됨"
      ],
      "metadata": {
        "id": "mpo3y36uKatL"
      }
    },
    {
      "cell_type": "markdown",
      "source": [
        "###3) torch.nn\n",
        "  * 신경망을 구축하기 위한 다양한 데이터구조나 레이어 등이 정의됨\n",
        "  * 레이어 (RNN, LSTM 등), 활성화 함수 (ReLU 등), Loss Function (MSE 등)"
      ],
      "metadata": {
        "id": "-pstDU_8KqUp"
      }
    },
    {
      "cell_type": "markdown",
      "source": [
        "###4) torch.optim\n",
        "  * SGD를 중심으로 한 파라미터 최적화 알고리즘 구현"
      ],
      "metadata": {
        "id": "jzFdcxK1LBhF"
      }
    },
    {
      "cell_type": "markdown",
      "source": [
        "###5) torch.utils.data\n",
        "  * SGD의 반복 연산을 실행할 때 사용하는 미니 배치용 유틸리티 함수가 포함됨"
      ],
      "metadata": {
        "id": "y2AU1gvKLGGh"
      }
    },
    {
      "cell_type": "markdown",
      "source": [
        "###6) torch.onnx\n",
        "  * ONNX의 포맷으로 모델을 export할 때 사용\n",
        "  * ONNX : 서로 다른 딥 러닝 프레임워크 간에 모델을 공유할 때 사용하는 포맷"
      ],
      "metadata": {
        "id": "F9f8B8S6LK-X"
      }
    },
    {
      "cell_type": "markdown",
      "source": [
        "##2.텐서 조작하기\n",
        "  * 벡터,  행렬, 텐서의 개념에 대해 이해\n",
        "  * Numpy와 파이토치로 벡터, 행렬, 텐서를 다루는 방법에 대해 이해"
      ],
      "metadata": {
        "id": "1Gf9NPW4LXwm"
      }
    },
    {
      "cell_type": "markdown",
      "source": [
        "###1) 벡터, 행렬 그리고 텐서\n",
        "  * 스칼라 : 차원이 없는 값\n",
        "  * 벡터 : 1차원으로 구성된 값\n",
        "  * 행렬 : 2차원으로 구성된 값\n",
        "  * 텐서 : 3차원으로 구성된 값\n",
        "  * 데이터 사이언스 분야 한정으로 3차원 이상의 텐서는 다차원 행렬 또는 배열로 간주 가능"
      ],
      "metadata": {
        "id": "HS3HyEplLjMi"
      }
    },
    {
      "cell_type": "markdown",
      "source": [
        "####(1) Pytorch Tensor Shape Convention\n",
        "  * 2D Tensor\n",
        "    * |t|=(Batch Size, dim)\n",
        "  * 3D Tensor - CV\n",
        "    * |t|=(batch size, width, height)\n",
        "  * 3D Tensor - NLP\n",
        "    * |t|=(batch size, length, dim) = (batch size, 문장 길이, 단어 벡터의 차원)\n"
      ],
      "metadata": {
        "id": "mkOA6ZO6Mo1d"
      }
    },
    {
      "cell_type": "markdown",
      "source": [
        "###2)넘파이로 텐서 만들기 (벡터와 행렬 만들기)\n",
        "\n"
      ],
      "metadata": {
        "id": "vDIRREKuNdzD"
      }
    },
    {
      "cell_type": "markdown",
      "source": [
        "* 넘파이 부분은 생략"
      ],
      "metadata": {
        "id": "1cK8ooWVOZEt"
      }
    },
    {
      "cell_type": "markdown",
      "source": [
        "###3) 파이토치 텐서 선언하기(PyTorch Tensor Allocation)"
      ],
      "metadata": {
        "id": "eDKRkb1EOcNK"
      }
    },
    {
      "cell_type": "code",
      "source": [
        "import torch"
      ],
      "metadata": {
        "id": "diajQnmwOie-"
      },
      "execution_count": 4,
      "outputs": []
    },
    {
      "cell_type": "markdown",
      "source": [
        "####(1) 1D with PyTorch"
      ],
      "metadata": {
        "id": "tRBKdcZiOk0W"
      }
    },
    {
      "cell_type": "code",
      "source": [
        "t = torch.FloatTensor([0., 1., 2., 3., 4., 5., 6.])\n",
        "print(t)"
      ],
      "metadata": {
        "colab": {
          "base_uri": "https://localhost:8080/"
        },
        "id": "fEQ9ms9AOnt9",
        "outputId": "c150cc15-fcdf-45f6-eea3-f235732b47d0"
      },
      "execution_count": 5,
      "outputs": [
        {
          "output_type": "stream",
          "name": "stdout",
          "text": [
            "tensor([0., 1., 2., 3., 4., 5., 6.])\n"
          ]
        }
      ]
    },
    {
      "cell_type": "code",
      "source": [
        "print(t.dim())  # rank. 즉, 차원\n",
        "print(t.shape)  # shape\n",
        "print(t.size()) # shape"
      ],
      "metadata": {
        "colab": {
          "base_uri": "https://localhost:8080/"
        },
        "id": "O4SjXgjxOt5D",
        "outputId": "fba2be68-bab2-43d2-fb49-6c37ce4e15b6"
      },
      "execution_count": 6,
      "outputs": [
        {
          "output_type": "stream",
          "name": "stdout",
          "text": [
            "1\n",
            "torch.Size([7])\n",
            "torch.Size([7])\n"
          ]
        }
      ]
    },
    {
      "cell_type": "code",
      "source": [
        "print(t[0], t[1], t[-1])  # 인덱스로 접근\n",
        "print(t[2:5], t[4:-1])    # 슬라이싱\n",
        "print(t[:2], t[3:])       # 슬라이싱"
      ],
      "metadata": {
        "colab": {
          "base_uri": "https://localhost:8080/"
        },
        "id": "uA6Yx6ZIOyin",
        "outputId": "3fa04815-db45-4b73-fdb3-362c892c6d7b"
      },
      "execution_count": 7,
      "outputs": [
        {
          "output_type": "stream",
          "name": "stdout",
          "text": [
            "tensor(0.) tensor(1.) tensor(6.)\n",
            "tensor([2., 3., 4.]) tensor([4., 5.])\n",
            "tensor([0., 1.]) tensor([3., 4., 5., 6.])\n"
          ]
        }
      ]
    },
    {
      "cell_type": "markdown",
      "source": [
        "####(2) 2D with Torch"
      ],
      "metadata": {
        "id": "hZlqi3kIPL0V"
      }
    },
    {
      "cell_type": "code",
      "source": [
        "t = torch.FloatTensor([[1., 2., 3.],\n",
        "                       [4., 5., 6.],\n",
        "                       [7., 8., 9.],\n",
        "                       [10., 11., 12.]\n",
        "                      ])\n",
        "print(t)"
      ],
      "metadata": {
        "colab": {
          "base_uri": "https://localhost:8080/"
        },
        "id": "1ACGHh2iPOi1",
        "outputId": "742df297-6f8c-4908-ea76-7cf66fc1c28c"
      },
      "execution_count": 8,
      "outputs": [
        {
          "output_type": "stream",
          "name": "stdout",
          "text": [
            "tensor([[ 1.,  2.,  3.],\n",
            "        [ 4.,  5.,  6.],\n",
            "        [ 7.,  8.,  9.],\n",
            "        [10., 11., 12.]])\n"
          ]
        }
      ]
    },
    {
      "cell_type": "code",
      "source": [
        "print(t.dim())  # rank. 즉, 차원\n",
        "print(t.size()) # shape"
      ],
      "metadata": {
        "colab": {
          "base_uri": "https://localhost:8080/"
        },
        "id": "4bTrzKvBPQ_s",
        "outputId": "790f7dd2-fa21-4b62-cd71-29c09009334d"
      },
      "execution_count": 9,
      "outputs": [
        {
          "output_type": "stream",
          "name": "stdout",
          "text": [
            "2\n",
            "torch.Size([4, 3])\n"
          ]
        }
      ]
    },
    {
      "cell_type": "code",
      "source": [
        "print(t[:, 1]) # 첫번째 차원을 전체 선택한 상황에서 두번째 차원의 첫번째 것만 가져온다.\n",
        "print(t[:, 1].size()) # ↑ 위의 경우의 크기"
      ],
      "metadata": {
        "colab": {
          "base_uri": "https://localhost:8080/"
        },
        "id": "MnzAttpwPTV1",
        "outputId": "a8391016-0fab-4dc5-d2b6-6e8c25fb62a4"
      },
      "execution_count": 10,
      "outputs": [
        {
          "output_type": "stream",
          "name": "stdout",
          "text": [
            "tensor([ 2.,  5.,  8., 11.])\n",
            "torch.Size([4])\n"
          ]
        }
      ]
    },
    {
      "cell_type": "code",
      "source": [
        "print(t[:, :-1]) # 첫번째 차원을 전체 선택한 상황에서 두번째 차원에서는 맨 마지막에서 첫번째를 제외하고 다 가져온다."
      ],
      "metadata": {
        "colab": {
          "base_uri": "https://localhost:8080/"
        },
        "id": "3sE9PEc1PX9u",
        "outputId": "8bc2db1e-d092-4f8f-9caa-3edd91ffbbd6"
      },
      "execution_count": 11,
      "outputs": [
        {
          "output_type": "stream",
          "name": "stdout",
          "text": [
            "tensor([[ 1.,  2.],\n",
            "        [ 4.,  5.],\n",
            "        [ 7.,  8.],\n",
            "        [10., 11.]])\n"
          ]
        }
      ]
    },
    {
      "cell_type": "markdown",
      "source": [
        "####(3) 브로드캐스팅\n",
        "  * 크기가 다른 행렬 또는 텐서에 대해서 사칙 연산을 수행할 필요가 있는 경우 자동으로 크기를 맞춰서 연산을 수행하도록 함"
      ],
      "metadata": {
        "id": "ZaL4J-KoPccL"
      }
    },
    {
      "cell_type": "code",
      "source": [
        "#크기가 같은 경우\n",
        "m1 = torch.FloatTensor([[3, 3]])\n",
        "m2 = torch.FloatTensor([[2, 2]])\n",
        "print(m1 + m2)"
      ],
      "metadata": {
        "colab": {
          "base_uri": "https://localhost:8080/"
        },
        "id": "yIMpOg6yQHUU",
        "outputId": "a5506d9a-9235-4d08-df73-bf9d3b8334da"
      },
      "execution_count": 13,
      "outputs": [
        {
          "output_type": "stream",
          "name": "stdout",
          "text": [
            "tensor([[5., 5.]])\n"
          ]
        }
      ]
    },
    {
      "cell_type": "code",
      "source": [
        "#크기가 다른 경우\n",
        "# Vector + scalar\n",
        "m1 = torch.FloatTensor([[1, 2]])\n",
        "m2 = torch.FloatTensor([3]) # [3] -> [3, 3]\n",
        "print(m1 + m2)"
      ],
      "metadata": {
        "colab": {
          "base_uri": "https://localhost:8080/"
        },
        "id": "_9PaPUuwQNo7",
        "outputId": "e27fcf01-c012-48cd-d89e-dcd7e0f0eccf"
      },
      "execution_count": 14,
      "outputs": [
        {
          "output_type": "stream",
          "name": "stdout",
          "text": [
            "tensor([[4., 5.]])\n"
          ]
        }
      ]
    },
    {
      "cell_type": "markdown",
      "source": [
        "* m2의 크기를 (1,2)로 변경하여 연산을 수행"
      ],
      "metadata": {
        "id": "u32-5gQ_QRxp"
      }
    },
    {
      "cell_type": "code",
      "source": [
        "# 벡터 간 연산에서 브로드캐스팅이 적용되는 경우\n",
        "# 2 x 1 Vector + 1 x 2 Vector\n",
        "m1 = torch.FloatTensor([[1, 2]])\n",
        "m2 = torch.FloatTensor([[3], [4]])\n",
        "print(m1 + m2)"
      ],
      "metadata": {
        "colab": {
          "base_uri": "https://localhost:8080/"
        },
        "id": "zbXxtdJdQWBB",
        "outputId": "ada0edcb-b956-4002-bc5e-21bdb915c2b0"
      },
      "execution_count": 15,
      "outputs": [
        {
          "output_type": "stream",
          "name": "stdout",
          "text": [
            "tensor([[4., 5.],\n",
            "        [5., 6.]])\n"
          ]
        }
      ]
    },
    {
      "cell_type": "markdown",
      "source": [
        "* 브로드캐스팅은 편리하지만 자동으로 실행되므로 주의해서 사용해야 함"
      ],
      "metadata": {
        "id": "vxpHsuvYQey9"
      }
    },
    {
      "cell_type": "markdown",
      "source": [
        "###(4) 자주 사용되는 기능들"
      ],
      "metadata": {
        "id": "Ei2K1ze-Qlw3"
      }
    },
    {
      "cell_type": "markdown",
      "source": [
        "##### -1- 행렬 곱셈(.matmul)과 곱셈(.mul)의 차이"
      ],
      "metadata": {
        "id": "UB5jkJttQ9H3"
      }
    },
    {
      "cell_type": "markdown",
      "source": [
        "* 파이토치 텐서의 행렬 곱셈 - matmul()"
      ],
      "metadata": {
        "id": "HXt1QWJUREf6"
      }
    },
    {
      "cell_type": "code",
      "source": [
        "m1 = torch.FloatTensor([[1, 2], [3, 4]])\n",
        "m2 = torch.FloatTensor([[1], [2]])\n",
        "print('Shape of Matrix 1: ', m1.shape) # 2 x 2\n",
        "print('Shape of Matrix 2: ', m2.shape) # 2 x 1\n",
        "print(m1.matmul(m2)) # 2 x 1"
      ],
      "metadata": {
        "colab": {
          "base_uri": "https://localhost:8080/"
        },
        "id": "BhEFwtQwRIQg",
        "outputId": "dc8a87b4-4fae-47fd-f752-79d6ee3fa85b"
      },
      "execution_count": 16,
      "outputs": [
        {
          "output_type": "stream",
          "name": "stdout",
          "text": [
            "Shape of Matrix 1:  torch.Size([2, 2])\n",
            "Shape of Matrix 2:  torch.Size([2, 1])\n",
            "tensor([[ 5.],\n",
            "        [11.]])\n"
          ]
        }
      ]
    },
    {
      "cell_type": "markdown",
      "source": [
        "* element-wise 곱셈 - *,mul()\n",
        "  * 서로 다른 크기의 행렬이 브로드캐스팅 된 후에 element-wize 곱셈이 수행됨"
      ],
      "metadata": {
        "id": "DlrofSMKRK5k"
      }
    },
    {
      "cell_type": "code",
      "source": [
        "m1 = torch.FloatTensor([[1, 2], [3, 4]])\n",
        "m2 = torch.FloatTensor([[1], [2]])\n",
        "print('Shape of Matrix 1: ', m1.shape) # 2 x 2\n",
        "print('Shape of Matrix 2: ', m2.shape) # 2 x 1\n",
        "print(m1 * m2) # 2 x 2\n",
        "print(m1.mul(m2))"
      ],
      "metadata": {
        "colab": {
          "base_uri": "https://localhost:8080/"
        },
        "id": "c4XxUFbfRU7V",
        "outputId": "70e0b322-b4c4-4096-cafe-a2ec9e0240fe"
      },
      "execution_count": 17,
      "outputs": [
        {
          "output_type": "stream",
          "name": "stdout",
          "text": [
            "Shape of Matrix 1:  torch.Size([2, 2])\n",
            "Shape of Matrix 2:  torch.Size([2, 1])\n",
            "tensor([[1., 2.],\n",
            "        [6., 8.]])\n",
            "tensor([[1., 2.],\n",
            "        [6., 8.]])\n"
          ]
        }
      ]
    },
    {
      "cell_type": "markdown",
      "source": [
        "##### -2- 평균"
      ],
      "metadata": {
        "id": "KH6zKv_vRW4A"
      }
    },
    {
      "cell_type": "code",
      "source": [
        "#1차원 벡터\n",
        "t = torch.FloatTensor([1, 2])\n",
        "print(t.mean())"
      ],
      "metadata": {
        "colab": {
          "base_uri": "https://localhost:8080/"
        },
        "id": "TPa2F-aZRadm",
        "outputId": "ec85c604-2a0e-446f-f553-4c55fd2abd9b"
      },
      "execution_count": 18,
      "outputs": [
        {
          "output_type": "stream",
          "name": "stdout",
          "text": [
            "tensor(1.5000)\n"
          ]
        }
      ]
    },
    {
      "cell_type": "code",
      "source": [
        "#2차원 행렬\n",
        "t = torch.FloatTensor([[1, 2], [3, 4]])\n",
        "print(t)"
      ],
      "metadata": {
        "colab": {
          "base_uri": "https://localhost:8080/"
        },
        "id": "tehEYIZrRfvD",
        "outputId": "b2efb3d1-0e3e-483d-ff3c-4adf765d103c"
      },
      "execution_count": 19,
      "outputs": [
        {
          "output_type": "stream",
          "name": "stdout",
          "text": [
            "tensor([[1., 2.],\n",
            "        [3., 4.]])\n"
          ]
        }
      ]
    },
    {
      "cell_type": "code",
      "source": [
        "print(t.mean())"
      ],
      "metadata": {
        "colab": {
          "base_uri": "https://localhost:8080/"
        },
        "id": "sX9P7O2hRjoM",
        "outputId": "ba9e9be1-af13-4508-caef-9d880c6700dc"
      },
      "execution_count": 20,
      "outputs": [
        {
          "output_type": "stream",
          "name": "stdout",
          "text": [
            "tensor(2.5000)\n"
          ]
        }
      ]
    },
    {
      "cell_type": "markdown",
      "source": [
        "* dim을 인자로 주는 경우 해당 차원을 없앤다는 의미\n",
        "  * dim=0 : 행 => 행을 지우고 열의 평균을 계산"
      ],
      "metadata": {
        "id": "P4AsXOSGRsR7"
      }
    },
    {
      "cell_type": "code",
      "source": [
        "# dim 을 인자로 주는 경우\n",
        "print(t.mean(dim=0))"
      ],
      "metadata": {
        "colab": {
          "base_uri": "https://localhost:8080/"
        },
        "id": "810Of8SMRnBj",
        "outputId": "0ea29cf0-2d53-4147-81d3-d361d378db0d"
      },
      "execution_count": 21,
      "outputs": [
        {
          "output_type": "stream",
          "name": "stdout",
          "text": [
            "tensor([2., 3.])\n"
          ]
        }
      ]
    },
    {
      "cell_type": "code",
      "source": [
        "print(t.mean(dim=1))"
      ],
      "metadata": {
        "colab": {
          "base_uri": "https://localhost:8080/"
        },
        "id": "GE0qobSxR6_h",
        "outputId": "fe4b3c40-7fe7-4878-d71d-216f997a59c6"
      },
      "execution_count": 22,
      "outputs": [
        {
          "output_type": "stream",
          "name": "stdout",
          "text": [
            "tensor([1.5000, 3.5000])\n"
          ]
        }
      ]
    },
    {
      "cell_type": "code",
      "source": [
        "#dim=-1 => 마지막 차원을 제거\n",
        "print(t.mean(dim=-1))"
      ],
      "metadata": {
        "colab": {
          "base_uri": "https://localhost:8080/"
        },
        "id": "goyWu6PSR8uO",
        "outputId": "d5e36781-de8d-449b-b82b-a2a18ad22cb0"
      },
      "execution_count": 23,
      "outputs": [
        {
          "output_type": "stream",
          "name": "stdout",
          "text": [
            "tensor([1.5000, 3.5000])\n"
          ]
        }
      ]
    },
    {
      "cell_type": "markdown",
      "source": [
        "#####-3- 덧셈"
      ],
      "metadata": {
        "id": "prz5qO_1SH2M"
      }
    },
    {
      "cell_type": "code",
      "source": [
        "t = torch.FloatTensor([[1, 2], [3, 4]])\n",
        "print(t)"
      ],
      "metadata": {
        "colab": {
          "base_uri": "https://localhost:8080/"
        },
        "id": "fqLF7le2SKpo",
        "outputId": "893d82a5-12b1-4885-f570-26c088bd11cd"
      },
      "execution_count": 24,
      "outputs": [
        {
          "output_type": "stream",
          "name": "stdout",
          "text": [
            "tensor([[1., 2.],\n",
            "        [3., 4.]])\n"
          ]
        }
      ]
    },
    {
      "cell_type": "code",
      "source": [
        "print(t.sum()) # 단순히 원소 전체의 덧셈을 수행\n",
        "print(t.sum(dim=0)) # 행을 제거\n",
        "print(t.sum(dim=1)) # 열을 제거\n",
        "print(t.sum(dim=-1)) # 열을 제거"
      ],
      "metadata": {
        "colab": {
          "base_uri": "https://localhost:8080/"
        },
        "id": "QMQMa8ijSLND",
        "outputId": "779a8586-bf82-41bd-8372-8d2bf0b92485"
      },
      "execution_count": 25,
      "outputs": [
        {
          "output_type": "stream",
          "name": "stdout",
          "text": [
            "tensor(10.)\n",
            "tensor([4., 6.])\n",
            "tensor([3., 7.])\n",
            "tensor([3., 7.])\n"
          ]
        }
      ]
    },
    {
      "cell_type": "markdown",
      "source": [
        "#####-4- Max와 ArgMax"
      ],
      "metadata": {
        "id": "h0IsFjY4SNPu"
      }
    },
    {
      "cell_type": "code",
      "source": [
        "t = torch.FloatTensor([[1, 2], [3, 4]])\n",
        "print(t)"
      ],
      "metadata": {
        "colab": {
          "base_uri": "https://localhost:8080/"
        },
        "id": "OYfT-yjRSRji",
        "outputId": "9b9ec2dc-f504-46db-92fe-3144968ae7f2"
      },
      "execution_count": 26,
      "outputs": [
        {
          "output_type": "stream",
          "name": "stdout",
          "text": [
            "tensor([[1., 2.],\n",
            "        [3., 4.]])\n"
          ]
        }
      ]
    },
    {
      "cell_type": "code",
      "source": [
        "print(t.max()) # Returns one value: max"
      ],
      "metadata": {
        "colab": {
          "base_uri": "https://localhost:8080/"
        },
        "id": "jo4hSRSvSSqh",
        "outputId": "4571d3a5-324b-4709-e692-1667651dc9ed"
      },
      "execution_count": 27,
      "outputs": [
        {
          "output_type": "stream",
          "name": "stdout",
          "text": [
            "tensor(4.)\n"
          ]
        }
      ]
    },
    {
      "cell_type": "markdown",
      "source": [
        "* max에 dim 인자를 주면 argmax도 함께 리턴"
      ],
      "metadata": {
        "id": "YWclJCWLSWlM"
      }
    },
    {
      "cell_type": "code",
      "source": [
        "print(t.max(dim=0)) # Returns two values: max and argmax"
      ],
      "metadata": {
        "colab": {
          "base_uri": "https://localhost:8080/"
        },
        "id": "yrm56QMvST-o",
        "outputId": "1fecc44c-45c4-4a81-de2e-e2a7598b53b8"
      },
      "execution_count": 28,
      "outputs": [
        {
          "output_type": "stream",
          "name": "stdout",
          "text": [
            "torch.return_types.max(\n",
            "values=tensor([3., 4.]),\n",
            "indices=tensor([1, 1]))\n"
          ]
        }
      ]
    },
    {
      "cell_type": "markdown",
      "source": [
        "* max 또는 argmax만 리턴받고 싶다면 리턴값에도 인덱스를 부여\n",
        "  * 인덱스 0 : max\n",
        "  * 인덱스 1 : argmax"
      ],
      "metadata": {
        "id": "k60OX9-cSdST"
      }
    },
    {
      "cell_type": "code",
      "source": [
        "print('Max: ', t.max(dim=0)[0])\n",
        "print('Argmax: ', t.max(dim=0)[1])"
      ],
      "metadata": {
        "colab": {
          "base_uri": "https://localhost:8080/"
        },
        "id": "GcaBkEDmSp1r",
        "outputId": "85845779-4bdf-43da-98c5-32434665bc43"
      },
      "execution_count": 29,
      "outputs": [
        {
          "output_type": "stream",
          "name": "stdout",
          "text": [
            "Max:  tensor([3., 4.])\n",
            "Argmax:  tensor([1, 1])\n"
          ]
        }
      ]
    },
    {
      "cell_type": "code",
      "source": [
        "print(t.max(dim=1))\n",
        "print(t.max(dim=-1))"
      ],
      "metadata": {
        "colab": {
          "base_uri": "https://localhost:8080/"
        },
        "id": "j5U9IUoLSrcE",
        "outputId": "09584a7c-303e-47ca-c173-110e2ce6da2c"
      },
      "execution_count": 30,
      "outputs": [
        {
          "output_type": "stream",
          "name": "stdout",
          "text": [
            "torch.return_types.max(\n",
            "values=tensor([2., 4.]),\n",
            "indices=tensor([1, 1]))\n",
            "torch.return_types.max(\n",
            "values=tensor([2., 4.]),\n",
            "indices=tensor([1, 1]))\n"
          ]
        }
      ]
    },
    {
      "cell_type": "markdown",
      "source": [
        "### 4) 뷰(View) - 원소의 수를 유지하면서 텐서의 크기 변경\n",
        "  * 넘파이에서의 reshape와 같은 역할\n",
        "  * 텐서의 크기(Shape)를 변경해주는 역할"
      ],
      "metadata": {
        "id": "9O30MA6KTndS"
      }
    },
    {
      "cell_type": "code",
      "source": [
        "t = np.array([[[0, 1, 2],\n",
        "               [3, 4, 5]],\n",
        "              [[6, 7, 8],\n",
        "               [9, 10, 11]]])\n",
        "ft = torch.FloatTensor(t)"
      ],
      "metadata": {
        "id": "lT0M2T9QT0KH"
      },
      "execution_count": 31,
      "outputs": []
    },
    {
      "cell_type": "code",
      "source": [
        "print(ft.shape)"
      ],
      "metadata": {
        "colab": {
          "base_uri": "https://localhost:8080/"
        },
        "id": "qbpq4oM2T2o5",
        "outputId": "b7e1cf26-9f07-470d-8b2a-2efb66740492"
      },
      "execution_count": 32,
      "outputs": [
        {
          "output_type": "stream",
          "name": "stdout",
          "text": [
            "torch.Size([2, 2, 3])\n"
          ]
        }
      ]
    },
    {
      "cell_type": "markdown",
      "source": [
        "#### (1) 3차원 텐서에서 2차원 텐서로 변경"
      ],
      "metadata": {
        "id": "jVSa757uT7MN"
      }
    },
    {
      "cell_type": "code",
      "source": [
        "print(ft.view([-1, 3])) # ft라는 텐서를 (?, 3)의 크기로 변경\n",
        "print(ft.view([-1, 3]).shape)"
      ],
      "metadata": {
        "colab": {
          "base_uri": "https://localhost:8080/"
        },
        "id": "Nbs6DZqIUAgs",
        "outputId": "4afe8035-318b-4cce-9a3a-9e298019124a"
      },
      "execution_count": 33,
      "outputs": [
        {
          "output_type": "stream",
          "name": "stdout",
          "text": [
            "tensor([[ 0.,  1.,  2.],\n",
            "        [ 3.,  4.,  5.],\n",
            "        [ 6.,  7.,  8.],\n",
            "        [ 9., 10., 11.]])\n",
            "torch.Size([4, 3])\n"
          ]
        }
      ]
    },
    {
      "cell_type": "markdown",
      "source": [
        "* view([-1,3])\n",
        "  * -1 : 첫번째 차원은 사용자가 잘 모르겠으니 파이토치에 맡기겠다\n",
        "  * 3 : 두번째 차원의 길이는 3을 가지도록 하라\n",
        "  * (2,2,3)->(2x2,3)->(4,3)\n",
        "\n",
        "* view는 기본적으로 변경 전과 변경 후의 텐서 안의 원소의 개수가 유지되어야 함\n",
        "* 파이토치의 view는 사이즈가 -1로 설정되면 다른 차원으로부터 해당 값을 유추"
      ],
      "metadata": {
        "id": "CMTa2i-xULeg"
      }
    },
    {
      "cell_type": "markdown",
      "source": [
        "####(2) 3차원 텐서의 크기 변경\n",
        "  * 3차원 텐서에서 3차원 텐서로 차원은 유지하되, 크기를 바꾸는 작업"
      ],
      "metadata": {
        "id": "d8Elft5qUkXp"
      }
    },
    {
      "cell_type": "code",
      "source": [
        "print(ft.view([-1, 1, 3]))\n",
        "print(ft.view([-1, 1, 3]).shape)"
      ],
      "metadata": {
        "colab": {
          "base_uri": "https://localhost:8080/"
        },
        "id": "dOoiSFPZUvaf",
        "outputId": "1dbc587a-5e84-4fbf-9e36-77da5aa6516d"
      },
      "execution_count": 34,
      "outputs": [
        {
          "output_type": "stream",
          "name": "stdout",
          "text": [
            "tensor([[[ 0.,  1.,  2.]],\n",
            "\n",
            "        [[ 3.,  4.,  5.]],\n",
            "\n",
            "        [[ 6.,  7.,  8.]],\n",
            "\n",
            "        [[ 9., 10., 11.]]])\n",
            "torch.Size([4, 1, 3])\n"
          ]
        }
      ]
    },
    {
      "cell_type": "markdown",
      "source": [
        "###5) 스퀴즈 - 1인 차원을 제거"
      ],
      "metadata": {
        "id": "7ULugk4KUw6I"
      }
    },
    {
      "cell_type": "code",
      "source": [
        "ft = torch.FloatTensor([[0], [1], [2]])\n",
        "print(ft)\n",
        "print(ft.shape)"
      ],
      "metadata": {
        "colab": {
          "base_uri": "https://localhost:8080/"
        },
        "id": "jSjHfYVnU2UI",
        "outputId": "418efe22-21b7-486f-e6f1-b386608b0b88"
      },
      "execution_count": 35,
      "outputs": [
        {
          "output_type": "stream",
          "name": "stdout",
          "text": [
            "tensor([[0.],\n",
            "        [1.],\n",
            "        [2.]])\n",
            "torch.Size([3, 1])\n"
          ]
        }
      ]
    },
    {
      "cell_type": "markdown",
      "source": [
        "* (3x1) 크기를 가지는 텐서 -> 두번째 차원이 1이므로 squeeze를 사용하면 (3,)의 크기를 가지는 텐서로 변경됨"
      ],
      "metadata": {
        "id": "KiFptIpfU33I"
      }
    },
    {
      "cell_type": "code",
      "source": [
        "print(ft.squeeze())\n",
        "print(ft.squeeze().shape)"
      ],
      "metadata": {
        "colab": {
          "base_uri": "https://localhost:8080/"
        },
        "id": "R1LHdDcyVDL5",
        "outputId": "dd2678e3-7983-40f2-bdad-ea4a8be10f17"
      },
      "execution_count": 36,
      "outputs": [
        {
          "output_type": "stream",
          "name": "stdout",
          "text": [
            "tensor([0., 1., 2.])\n",
            "torch.Size([3])\n"
          ]
        }
      ]
    },
    {
      "cell_type": "markdown",
      "source": [
        "###6) 언스퀴즈 - 특정 ㅜ이치에 1인 차원을 추가"
      ],
      "metadata": {
        "id": "6P6_29RyVFI8"
      }
    },
    {
      "cell_type": "code",
      "source": [
        "ft = torch.Tensor([0, 1, 2])\n",
        "print(ft.shape)"
      ],
      "metadata": {
        "colab": {
          "base_uri": "https://localhost:8080/"
        },
        "id": "JuqlFlNnVJVo",
        "outputId": "df9751cb-21f8-4da8-abc5-59541a31f9b5"
      },
      "execution_count": 37,
      "outputs": [
        {
          "output_type": "stream",
          "name": "stdout",
          "text": [
            "torch.Size([3])\n"
          ]
        }
      ]
    },
    {
      "cell_type": "code",
      "source": [
        "print(ft.unsqueeze(0)) # 인덱스가 0부터 시작하므로 0은 첫번째 차원을 의미한다.\n",
        "print(ft.unsqueeze(0).shape)"
      ],
      "metadata": {
        "colab": {
          "base_uri": "https://localhost:8080/"
        },
        "id": "BSHhR0YVVLLm",
        "outputId": "a055f00b-8950-4d39-c0b7-18675a686457"
      },
      "execution_count": 38,
      "outputs": [
        {
          "output_type": "stream",
          "name": "stdout",
          "text": [
            "tensor([[0., 1., 2.]])\n",
            "torch.Size([1, 3])\n"
          ]
        }
      ]
    },
    {
      "cell_type": "markdown",
      "source": [
        "* 언스퀴즈와 view가 동일한 결과가 됨"
      ],
      "metadata": {
        "id": "YfxndDfKVSCm"
      }
    },
    {
      "cell_type": "code",
      "source": [
        "print(ft.view(1, -1))\n",
        "print(ft.view(1, -1).shape)"
      ],
      "metadata": {
        "colab": {
          "base_uri": "https://localhost:8080/"
        },
        "id": "gQnq8SQEVRLa",
        "outputId": "9aeacd6a-515b-4437-cb11-812027438bf9"
      },
      "execution_count": 39,
      "outputs": [
        {
          "output_type": "stream",
          "name": "stdout",
          "text": [
            "tensor([[0., 1., 2.]])\n",
            "torch.Size([1, 3])\n"
          ]
        }
      ]
    },
    {
      "cell_type": "markdown",
      "source": [
        "* view(), squeeze(), unsqueeze()는 텐서의 우너소 수를 그대로 유지하면서 모양과 차원을 조절함\n",
        "\n"
      ],
      "metadata": {
        "id": "_YBCQx4yVg2i"
      }
    },
    {
      "cell_type": "markdown",
      "source": [
        "### 7) 타입 캐스팅\n",
        "* 자료형 변환"
      ],
      "metadata": {
        "id": "ZC3KhwqDVvHl"
      }
    },
    {
      "cell_type": "code",
      "source": [
        "# long 타입의 텐서 선언\n",
        "lt = torch.LongTensor([1, 2, 3, 4])\n",
        "print(lt)"
      ],
      "metadata": {
        "colab": {
          "base_uri": "https://localhost:8080/"
        },
        "id": "AMzEMcfnV9hH",
        "outputId": "f1acfe24-6f9c-4bcb-d8dc-b58c140b3e77"
      },
      "execution_count": 42,
      "outputs": [
        {
          "output_type": "stream",
          "name": "stdout",
          "text": [
            "tensor([1, 2, 3, 4])\n"
          ]
        }
      ]
    },
    {
      "cell_type": "code",
      "source": [
        "#float 형으로 변환\n",
        "print(lt.float())"
      ],
      "metadata": {
        "colab": {
          "base_uri": "https://localhost:8080/"
        },
        "id": "s7uLUmdBV_5F",
        "outputId": "8579b2d2-b530-44a0-8145-abad4109c822"
      },
      "execution_count": 43,
      "outputs": [
        {
          "output_type": "stream",
          "name": "stdout",
          "text": [
            "tensor([1., 2., 3., 4.])\n"
          ]
        }
      ]
    },
    {
      "cell_type": "code",
      "source": [
        "# byte 타입의 텐서 선언\n",
        "bt = torch.ByteTensor([True, False, False, True])\n",
        "print(bt)"
      ],
      "metadata": {
        "colab": {
          "base_uri": "https://localhost:8080/"
        },
        "id": "_NhgxQo7WGHZ",
        "outputId": "8c33a182-6f17-4774-ff45-9b6bbc646d93"
      },
      "execution_count": 44,
      "outputs": [
        {
          "output_type": "stream",
          "name": "stdout",
          "text": [
            "tensor([1, 0, 0, 1], dtype=torch.uint8)\n"
          ]
        }
      ]
    },
    {
      "cell_type": "code",
      "source": [
        "#long 형 / float 형 텐서로 변환\n",
        "print(bt.long())\n",
        "print(bt.float())"
      ],
      "metadata": {
        "colab": {
          "base_uri": "https://localhost:8080/"
        },
        "id": "8Km_71CtWKGL",
        "outputId": "4d67b405-c2bb-4f8e-ca00-8a5e0b17c713"
      },
      "execution_count": 45,
      "outputs": [
        {
          "output_type": "stream",
          "name": "stdout",
          "text": [
            "tensor([1, 0, 0, 1])\n",
            "tensor([1., 0., 0., 1.])\n"
          ]
        }
      ]
    },
    {
      "cell_type": "markdown",
      "source": [
        "### 8) 연결하기\n",
        "  * 두 텐서를 연결"
      ],
      "metadata": {
        "id": "foAJuFciWQwm"
      }
    },
    {
      "cell_type": "code",
      "source": [
        "x = torch.FloatTensor([[1, 2], [3, 4]])\n",
        "y = torch.FloatTensor([[5, 6], [7, 8]])"
      ],
      "metadata": {
        "id": "rVKh0WrDWWxg"
      },
      "execution_count": 46,
      "outputs": []
    },
    {
      "cell_type": "markdown",
      "source": [
        "* torch.cat\n",
        "  * 어느 차원을 늘릴 것인지를 인자로 줄 수 있음\n",
        "  * ex. dim=0 은 첫번째 차원을 늘리는 것"
      ],
      "metadata": {
        "id": "qcENDFROWaDJ"
      }
    },
    {
      "cell_type": "code",
      "source": [
        "print(torch.cat([x, y], dim=0))"
      ],
      "metadata": {
        "colab": {
          "base_uri": "https://localhost:8080/"
        },
        "id": "WuBakt7sWmUO",
        "outputId": "0507c23e-4ab5-431c-e5d1-c79ce4a8c5b6"
      },
      "execution_count": 47,
      "outputs": [
        {
          "output_type": "stream",
          "name": "stdout",
          "text": [
            "tensor([[1., 2.],\n",
            "        [3., 4.],\n",
            "        [5., 6.],\n",
            "        [7., 8.]])\n"
          ]
        }
      ]
    },
    {
      "cell_type": "markdown",
      "source": [
        "  * 두 개의 (2x2) -> (4x2)"
      ],
      "metadata": {
        "id": "7sIZxW_tWt1V"
      }
    },
    {
      "cell_type": "code",
      "source": [
        "print(torch.cat([x, y], dim=1))"
      ],
      "metadata": {
        "colab": {
          "base_uri": "https://localhost:8080/"
        },
        "id": "hrmFYys2W13f",
        "outputId": "ff881f99-b678-497a-8b95-927610c83172"
      },
      "execution_count": 48,
      "outputs": [
        {
          "output_type": "stream",
          "name": "stdout",
          "text": [
            "tensor([[1., 2., 5., 6.],\n",
            "        [3., 4., 7., 8.]])\n"
          ]
        }
      ]
    },
    {
      "cell_type": "markdown",
      "source": [
        "###9) 스택킹\n",
        "  * 영어로 쌓는다는 의미"
      ],
      "metadata": {
        "id": "40ZhDuhkXI_n"
      }
    },
    {
      "cell_type": "code",
      "source": [
        "x = torch.FloatTensor([1, 4])\n",
        "y = torch.FloatTensor([2, 5])\n",
        "z = torch.FloatTensor([3, 6])"
      ],
      "metadata": {
        "id": "r6ttT9pcXNzu"
      },
      "execution_count": 49,
      "outputs": []
    },
    {
      "cell_type": "code",
      "source": [
        "print(torch.stack([x, y, z]))"
      ],
      "metadata": {
        "colab": {
          "base_uri": "https://localhost:8080/"
        },
        "id": "0eSa_PTTXPHT",
        "outputId": "ccd22a26-fa8f-4200-c4c5-79d34b564795"
      },
      "execution_count": 50,
      "outputs": [
        {
          "output_type": "stream",
          "name": "stdout",
          "text": [
            "tensor([[1., 4.],\n",
            "        [2., 5.],\n",
            "        [3., 6.]])\n"
          ]
        }
      ]
    },
    {
      "cell_type": "code",
      "source": [
        "# 동일한 작업\n",
        "print(torch.cat([x.unsqueeze(0), y.unsqueeze(0), z.unsqueeze(0)], dim=0))"
      ],
      "metadata": {
        "colab": {
          "base_uri": "https://localhost:8080/"
        },
        "id": "_r0uXSKrXSoM",
        "outputId": "2452d538-bd7c-4a49-d222-fa7586cdb9c5"
      },
      "execution_count": 51,
      "outputs": [
        {
          "output_type": "stream",
          "name": "stdout",
          "text": [
            "tensor([[1., 4.],\n",
            "        [2., 5.],\n",
            "        [3., 6.]])\n"
          ]
        }
      ]
    },
    {
      "cell_type": "markdown",
      "source": [
        "* 스택킹에 dim 인자 주기"
      ],
      "metadata": {
        "id": "xleaaD2mXf0v"
      }
    },
    {
      "cell_type": "code",
      "source": [
        "# dim=1 : 두번째 차원이 증가하도록 쌓으라는 의미\n",
        "print(torch.stack([x, y, z], dim=1))"
      ],
      "metadata": {
        "colab": {
          "base_uri": "https://localhost:8080/"
        },
        "id": "3KZvdpQoXkUa",
        "outputId": "90234ec9-c2da-4e21-fcf8-15c09673807f"
      },
      "execution_count": 53,
      "outputs": [
        {
          "output_type": "stream",
          "name": "stdout",
          "text": [
            "tensor([[1., 2., 3.],\n",
            "        [4., 5., 6.]])\n"
          ]
        }
      ]
    },
    {
      "cell_type": "markdown",
      "source": [
        "###10) ones_like와 zeros_like - 0으로 채워진 텐서와 1로 채워진 텐서"
      ],
      "metadata": {
        "id": "6mRcAJj9Xs8Y"
      }
    },
    {
      "cell_type": "code",
      "source": [
        "x = torch.FloatTensor([[0, 1, 2], [2, 1, 0]])\n",
        "print(x)"
      ],
      "metadata": {
        "colab": {
          "base_uri": "https://localhost:8080/"
        },
        "id": "eVo0bE4mXxnz",
        "outputId": "78460bd8-6f21-4583-e81c-15f9461fc7a9"
      },
      "execution_count": 54,
      "outputs": [
        {
          "output_type": "stream",
          "name": "stdout",
          "text": [
            "tensor([[0., 1., 2.],\n",
            "        [2., 1., 0.]])\n"
          ]
        }
      ]
    },
    {
      "cell_type": "code",
      "source": [
        "print(torch.ones_like(x)) # 입력 텐서와 크기를 동일하게 하면서 값을 1로 채우기"
      ],
      "metadata": {
        "colab": {
          "base_uri": "https://localhost:8080/"
        },
        "id": "_PK3_5PMXzSh",
        "outputId": "e180f892-b2f1-4173-8f09-1351908691c1"
      },
      "execution_count": 55,
      "outputs": [
        {
          "output_type": "stream",
          "name": "stdout",
          "text": [
            "tensor([[1., 1., 1.],\n",
            "        [1., 1., 1.]])\n"
          ]
        }
      ]
    },
    {
      "cell_type": "code",
      "source": [
        "print(torch.zeros_like(x)) # 입력 텐서와 크기를 동일하게 하면서 값을 0으로 채우기"
      ],
      "metadata": {
        "colab": {
          "base_uri": "https://localhost:8080/"
        },
        "id": "JcqsJZ_5X1GH",
        "outputId": "6df1a4e3-a5e0-4d24-9863-1cdc443c2053"
      },
      "execution_count": 56,
      "outputs": [
        {
          "output_type": "stream",
          "name": "stdout",
          "text": [
            "tensor([[0., 0., 0.],\n",
            "        [0., 0., 0.]])\n"
          ]
        }
      ]
    },
    {
      "cell_type": "markdown",
      "source": [
        "###11) In-place Operation (덮어쓰기 연산)"
      ],
      "metadata": {
        "id": "oCxPGXe4X26g"
      }
    },
    {
      "cell_type": "code",
      "source": [
        "x = torch.FloatTensor([[1, 2], [3, 4]])"
      ],
      "metadata": {
        "id": "y5JDdZdRX6-3"
      },
      "execution_count": 57,
      "outputs": []
    },
    {
      "cell_type": "code",
      "source": [
        "print(x.mul(2.)) # 곱하기 2를 수행한 결과를 출력\n",
        "print(x) # 기존의 값 출력"
      ],
      "metadata": {
        "colab": {
          "base_uri": "https://localhost:8080/"
        },
        "id": "yz0VmqQ8X8et",
        "outputId": "ee937940-f54b-42e6-e45c-3597de55d304"
      },
      "execution_count": 58,
      "outputs": [
        {
          "output_type": "stream",
          "name": "stdout",
          "text": [
            "tensor([[2., 4.],\n",
            "        [6., 8.]])\n",
            "tensor([[1., 2.],\n",
            "        [3., 4.]])\n"
          ]
        }
      ]
    },
    {
      "cell_type": "markdown",
      "source": [
        "* 연산 뒤에 _를 붙이면 기존의 값을 덮어씀"
      ],
      "metadata": {
        "id": "gaPHyZ1YYATU"
      }
    },
    {
      "cell_type": "code",
      "source": [
        "print(x.mul_(2.))  # 곱하기 2를 수행한 결과를 변수 x에 값을 저장하면서 결과를 출력\n",
        "print(x) # 기존의 값 출력"
      ],
      "metadata": {
        "colab": {
          "base_uri": "https://localhost:8080/"
        },
        "id": "GQz0VHlOYEuw",
        "outputId": "9d19ab08-8e91-4fa4-b51d-512e83e54cfa"
      },
      "execution_count": 59,
      "outputs": [
        {
          "output_type": "stream",
          "name": "stdout",
          "text": [
            "tensor([[2., 4.],\n",
            "        [6., 8.]])\n",
            "tensor([[2., 4.],\n",
            "        [6., 8.]])\n"
          ]
        }
      ]
    }
  ]
}