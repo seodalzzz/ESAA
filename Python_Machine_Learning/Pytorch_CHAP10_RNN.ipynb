{
  "nbformat": 4,
  "nbformat_minor": 0,
  "metadata": {
    "colab": {
      "provenance": [],
      "authorship_tag": "ABX9TyPXqh8rtMFCP2TK15T8qw29"
    },
    "kernelspec": {
      "name": "python3",
      "display_name": "Python 3"
    },
    "language_info": {
      "name": "python"
    }
  },
  "cells": [
    {
      "cell_type": "markdown",
      "source": [
        "# **CHAP10. 순환신경망**\n",
        "https://wikidocs.net/60690\n",
        "\n",
        "---\n"
      ],
      "metadata": {
        "id": "RuMGcZkGRHe3"
      }
    },
    {
      "cell_type": "markdown",
      "source": [
        "## 1. 순환 신경망\n",
        "\n",
        "개념 내용 제외"
      ],
      "metadata": {
        "id": "1YXv0q7XRWOa"
      }
    },
    {
      "cell_type": "markdown",
      "source": [
        "### 1) 파이썬으로 RNN 구현하기"
      ],
      "metadata": {
        "id": "EekT9xo9SbBb"
      }
    },
    {
      "cell_type": "code",
      "execution_count": null,
      "metadata": {
        "id": "X1NmFikXRC2U"
      },
      "outputs": [],
      "source": [
        "import numpy as np\n",
        "\n",
        "timesteps = 10 # 시점의 수. NLP에서는 보통 문장의 길이가 된다.\n",
        "input_size = 4 # 입력의 차원. NLP에서는 보통 단어 벡터의 차원이 된다.\n",
        "hidden_size = 8 # 은닉 상태의 크기. 메모리 셀의 용량이다.\n",
        "\n",
        "inputs = np.random.random((timesteps, input_size)) # 입력에 해당되는 2D 텐서\n",
        "\n",
        "hidden_state_t = np.zeros((hidden_size,)) # 초기 은닉 상태는 0(벡터)로 초기화\n",
        "# 은닉 상태의 크기 hidden_size로 은닉 상태를 만듬."
      ]
    },
    {
      "cell_type": "code",
      "source": [
        "print(hidden_state_t)"
      ],
      "metadata": {
        "colab": {
          "base_uri": "https://localhost:8080/"
        },
        "id": "etLhoTBlSnID",
        "outputId": "e0f75d06-b1ef-4e01-d960-6fea5647059c"
      },
      "execution_count": null,
      "outputs": [
        {
          "output_type": "stream",
          "name": "stdout",
          "text": [
            "[0. 0. 0. 0. 0. 0. 0. 0.]\n"
          ]
        }
      ]
    },
    {
      "cell_type": "markdown",
      "source": [
        "* 가중치와 편향을 정의"
      ],
      "metadata": {
        "id": "IuH27n8aSruz"
      }
    },
    {
      "cell_type": "code",
      "source": [
        "Wx = np.random.random((hidden_size, input_size))  # (8, 4)크기의 2D 텐서 생성. 입력에 대한 가중치.\n",
        "Wh = np.random.random((hidden_size, hidden_size)) # (8, 8)크기의 2D 텐서 생성. 은닉 상태에 대한 가중치.\n",
        "b = np.random.random((hidden_size,)) # (8,)크기의 1D 텐서 생성. 이 값은 편향(bias)."
      ],
      "metadata": {
        "id": "dXZpdH5JSuBu"
      },
      "execution_count": null,
      "outputs": []
    },
    {
      "cell_type": "code",
      "source": [
        "print(np.shape(Wx))\n",
        "print(np.shape(Wh))\n",
        "print(np.shape(b))"
      ],
      "metadata": {
        "colab": {
          "base_uri": "https://localhost:8080/"
        },
        "id": "1F66B4KQSvKb",
        "outputId": "c2c027a1-3799-4b12-ef8c-00e093b74904"
      },
      "execution_count": null,
      "outputs": [
        {
          "output_type": "stream",
          "name": "stdout",
          "text": [
            "(8, 4)\n",
            "(8, 8)\n",
            "(8,)\n"
          ]
        }
      ]
    },
    {
      "cell_type": "markdown",
      "source": [
        "* 모든 시점의 은닉 상태를 출력한다고 가정하고 RNN층을 동작"
      ],
      "metadata": {
        "id": "AiNuLMMZS68H"
      }
    },
    {
      "cell_type": "code",
      "source": [
        "total_hidden_states = []\n",
        "\n",
        "# 메모리 셀 동작\n",
        "for input_t in inputs: # 각 시점에 따라서 입력값이 입력됨.\n",
        "  output_t = np.tanh(np.dot(Wx,input_t) + np.dot(Wh,hidden_state_t) + b) # Wx * Xt + Wh * Ht-1 + b(bias)\n",
        "  total_hidden_states.append(list(output_t)) # 각 시점의 은닉 상태의 값을 계속해서 축적\n",
        "  print(np.shape(total_hidden_states)) # 각 시점 t별 메모리 셀의 출력의 크기는 (timestep, output_dim)\n",
        "  hidden_state_t = output_t\n",
        "\n",
        "total_hidden_states = np.stack(total_hidden_states, axis = 0) \n",
        "# 출력 시 값을 깔끔하게 해준다.\n",
        "\n",
        "print(total_hidden_states) # (timesteps, output_dim)의 크기. 이 경우 (10, 8)의 크기를 가지는 메모리 셀의 2D 텐서를 출력."
      ],
      "metadata": {
        "colab": {
          "base_uri": "https://localhost:8080/"
        },
        "id": "mOy0NzmuS_8_",
        "outputId": "2c2f4801-6a16-45d0-f04d-eade1f9f7ef8"
      },
      "execution_count": null,
      "outputs": [
        {
          "output_type": "stream",
          "name": "stdout",
          "text": [
            "(1, 8)\n",
            "(2, 8)\n",
            "(3, 8)\n",
            "(4, 8)\n",
            "(5, 8)\n",
            "(6, 8)\n",
            "(7, 8)\n",
            "(8, 8)\n",
            "(9, 8)\n",
            "(10, 8)\n",
            "[[0.91368805 0.84200408 0.8868745  0.74067434 0.93773925 0.85055357\n",
            "  0.89314003 0.98043002]\n",
            " [0.99888997 0.99920562 0.99993828 0.99997888 0.99993155 0.99949108\n",
            "  0.99841118 0.99981491]\n",
            " [0.99924717 0.9996019  0.99998219 0.99999539 0.99996762 0.9998885\n",
            "  0.99944464 0.99975405]\n",
            " [0.99964112 0.99973444 0.99998313 0.99999633 0.99997602 0.99995237\n",
            "  0.99960398 0.99990114]\n",
            " [0.99903606 0.99945603 0.99992754 0.99998433 0.99990803 0.99979216\n",
            "  0.99919471 0.9996698 ]\n",
            " [0.99980561 0.99967867 0.99997593 0.99999577 0.9999706  0.99994151\n",
            "  0.99888532 0.9999395 ]\n",
            " [0.99934011 0.99949986 0.99995823 0.9999907  0.99994016 0.99979765\n",
            "  0.99881554 0.99978261]\n",
            " [0.99946126 0.99939901 0.99989955 0.99998319 0.99989431 0.99985569\n",
            "  0.9987323  0.99977576]\n",
            " [0.99979007 0.99982171 0.99994652 0.9999895  0.99995829 0.99988657\n",
            "  0.99932451 0.99997309]\n",
            " [0.99971206 0.99974296 0.99998135 0.99999579 0.99997486 0.99990506\n",
            "  0.9991964  0.9999379 ]]\n"
          ]
        }
      ]
    },
    {
      "cell_type": "markdown",
      "source": [
        "### 2) 파이토치의 nn.RNN()\n",
        "\n",
        "* 파이토치에서는 nn.RNN()을 통해서 RNN셀을 구현"
      ],
      "metadata": {
        "id": "zPcD2OGPTBIf"
      }
    },
    {
      "cell_type": "code",
      "source": [
        "import torch\n",
        "import torch.nn as nn"
      ],
      "metadata": {
        "id": "Pi79NjYEVpIn"
      },
      "execution_count": null,
      "outputs": []
    },
    {
      "cell_type": "markdown",
      "source": [
        "* 입력의 크기(매 시점마다 들어가는 입력의 크기)와 은닉 상태의 크기를 정의"
      ],
      "metadata": {
        "id": "9v1Z1cODVp-I"
      }
    },
    {
      "cell_type": "code",
      "source": [
        "input_size = 5 # 입력의 크기\n",
        "hidden_size = 8 # 은닉 상태의 크기"
      ],
      "metadata": {
        "id": "oRQEFm-RVwo9"
      },
      "execution_count": null,
      "outputs": []
    },
    {
      "cell_type": "markdown",
      "source": [
        "* 텐서를 정의"
      ],
      "metadata": {
        "id": "ztOHXFaFVyKe"
      }
    },
    {
      "cell_type": "code",
      "source": [
        "# (batch_size, time_steps, input_size)\n",
        "inputs = torch.Tensor(1, 10, 5)"
      ],
      "metadata": {
        "id": "ceePsS2dV0nw"
      },
      "execution_count": null,
      "outputs": []
    },
    {
      "cell_type": "markdown",
      "source": [
        "* RNN 셀 만들기"
      ],
      "metadata": {
        "id": "geIZ-hKLV1da"
      }
    },
    {
      "cell_type": "code",
      "source": [
        "cell = nn.RNN(input_size, hidden_size, batch_first=True)"
      ],
      "metadata": {
        "id": "ow-Tu_qVV48w"
      },
      "execution_count": null,
      "outputs": []
    },
    {
      "cell_type": "code",
      "source": [
        "outputs, _status = cell(inputs)"
      ],
      "metadata": {
        "id": "zYDwsP30V6QA"
      },
      "execution_count": null,
      "outputs": []
    },
    {
      "cell_type": "markdown",
      "source": [
        "* 첫번째 리턴값 : 모든 시점의 은닉 상태\n",
        "* 두번째 리턴값 : 마지막 시점의 은닉 상태"
      ],
      "metadata": {
        "id": "ZqTlPw66V7RO"
      }
    },
    {
      "cell_type": "code",
      "source": [
        "print(outputs.shape) # 모든 time-step의 hidden_state"
      ],
      "metadata": {
        "colab": {
          "base_uri": "https://localhost:8080/"
        },
        "id": "MncvvPZfWBDZ",
        "outputId": "3c252d56-fb3f-407f-8cce-1cfc1cb25f17"
      },
      "execution_count": null,
      "outputs": [
        {
          "output_type": "stream",
          "name": "stdout",
          "text": [
            "torch.Size([1, 10, 8])\n"
          ]
        }
      ]
    },
    {
      "cell_type": "code",
      "source": [
        "print(_status.shape) # 최종 time-step의 hidden_state"
      ],
      "metadata": {
        "colab": {
          "base_uri": "https://localhost:8080/"
        },
        "id": "_yzDHZW6WC-R",
        "outputId": "9b80fec9-ba9c-4e4d-ab8c-895ccafced1e"
      },
      "execution_count": null,
      "outputs": [
        {
          "output_type": "stream",
          "name": "stdout",
          "text": [
            "torch.Size([1, 1, 8])\n"
          ]
        }
      ]
    },
    {
      "cell_type": "markdown",
      "source": [
        "###3) 깊은 순환 신경망\n",
        "  * Deep Recurrent Neural Network"
      ],
      "metadata": {
        "id": "RMWQkvswWDw1"
      }
    },
    {
      "cell_type": "code",
      "source": [
        "# (batch_size, time_steps, input_size)\n",
        "inputs = torch.Tensor(1, 10, 5)"
      ],
      "metadata": {
        "id": "ewo6bLyCXPKk"
      },
      "execution_count": null,
      "outputs": []
    },
    {
      "cell_type": "code",
      "source": [
        "cell = nn.RNN(input_size = 5, hidden_size = 8, num_layers = 2, batch_first=True)"
      ],
      "metadata": {
        "id": "vPlNTXX7XQEF"
      },
      "execution_count": null,
      "outputs": []
    },
    {
      "cell_type": "code",
      "source": [
        "print(outputs.shape) # 모든 time-step의 hidden_state"
      ],
      "metadata": {
        "colab": {
          "base_uri": "https://localhost:8080/"
        },
        "id": "WF-EW-eUXRIK",
        "outputId": "42749b5c-efec-467f-83bc-ca57d58bdd47"
      },
      "execution_count": null,
      "outputs": [
        {
          "output_type": "stream",
          "name": "stdout",
          "text": [
            "torch.Size([1, 10, 8])\n"
          ]
        }
      ]
    },
    {
      "cell_type": "code",
      "source": [
        "print(_status.shape) # (층의 개수, 배치 크기, 은닉 상태의 크기)"
      ],
      "metadata": {
        "colab": {
          "base_uri": "https://localhost:8080/"
        },
        "id": "96uEG94uXTNw",
        "outputId": "8fb71eba-e971-4272-8eb9-bf05da470c5e"
      },
      "execution_count": null,
      "outputs": [
        {
          "output_type": "stream",
          "name": "stdout",
          "text": [
            "torch.Size([1, 1, 8])\n"
          ]
        }
      ]
    },
    {
      "cell_type": "markdown",
      "source": [
        "* 두번째 리턴값의 크기 : 층의 개수, 배치 크기 은닉 상태의 크기"
      ],
      "metadata": {
        "id": "woDyAnwWXU3h"
      }
    },
    {
      "cell_type": "markdown",
      "source": [
        "###4) 양방향 순환 신경망\n",
        "  * 시점 t에서의 출력값을 예측할 대 이전 시점의 데이터뿐만 아니라, 이후 데이터로도 예측할 수 있다는 아이디어에 기반\n",
        "  * 하나의 출력값을 예측하기 위해 기본적으로 두 개의 메모리셀을 사용"
      ],
      "metadata": {
        "id": "hmNBiewnXZmk"
      }
    },
    {
      "cell_type": "code",
      "source": [
        "# (batch_size, time_steps, input_size)\n",
        "inputs = torch.Tensor(1, 10, 5)"
      ],
      "metadata": {
        "id": "x_5RxsspXpBA"
      },
      "execution_count": null,
      "outputs": []
    },
    {
      "cell_type": "code",
      "source": [
        "cell = nn.RNN(input_size = 5, hidden_size = 8, num_layers = 2, batch_first=True, bidirectional = True)"
      ],
      "metadata": {
        "id": "Y9KhfxthXqtd"
      },
      "execution_count": null,
      "outputs": []
    },
    {
      "cell_type": "code",
      "source": [
        "outputs, _status = cell(inputs)"
      ],
      "metadata": {
        "id": "5LwJjUS3XsNG"
      },
      "execution_count": null,
      "outputs": []
    },
    {
      "cell_type": "code",
      "source": [
        "print(outputs.shape) # (배치 크기, 시퀀스 길이, 은닉 상태의 크기 x 2)"
      ],
      "metadata": {
        "colab": {
          "base_uri": "https://localhost:8080/"
        },
        "id": "oGtx2yY2XuJA",
        "outputId": "c8d2c13e-20b4-47d7-f9a0-7274edca2563"
      },
      "execution_count": null,
      "outputs": [
        {
          "output_type": "stream",
          "name": "stdout",
          "text": [
            "torch.Size([1, 10, 16])\n"
          ]
        }
      ]
    },
    {
      "cell_type": "markdown",
      "source": [
        "* 양방향 은닉 상태 값들이 연결되어 은닉 상태의 크기의 값이 두배가 됨"
      ],
      "metadata": {
        "id": "AijvvbXhXv-c"
      }
    },
    {
      "cell_type": "code",
      "source": [
        "print(_status.shape) # (층의 개수 x 2, 배치 크기, 은닉 상태의 크기)"
      ],
      "metadata": {
        "colab": {
          "base_uri": "https://localhost:8080/"
        },
        "id": "qQ5FAZK6X0wJ",
        "outputId": "954b62b9-e140-4204-fbe0-dd4b90b5ae94"
      },
      "execution_count": null,
      "outputs": [
        {
          "output_type": "stream",
          "name": "stdout",
          "text": [
            "torch.Size([4, 1, 8])\n"
          ]
        }
      ]
    },
    {
      "cell_type": "markdown",
      "source": [
        "## 2. 장단기 메모리 (LSTM)"
      ],
      "metadata": {
        "id": "tacil7fYX4Md"
      }
    },
    {
      "cell_type": "markdown",
      "source": [
        "### 1) Vanilla RNN의 한계\n",
        "  * 비교적 짧은 시퀀스에 대해서만 효과를 보임\n",
        "  * 시점이 길어질수록 앞의 정보가 뒤로 충분히 전달되지 못함\n",
        "  * 장기 의존성 문제 (The problem of long-term dependencies)"
      ],
      "metadata": {
        "id": "X0kU13VUYKlL"
      }
    },
    {
      "cell_type": "markdown",
      "source": [
        "###2) Vanilla RNN 내부 열어보기"
      ],
      "metadata": {
        "id": "VH6zl1NjYvtl"
      }
    },
    {
      "cell_type": "markdown",
      "source": [
        "###3) LSTM(Long Short-Term Memory)\n",
        "  * 은닉층의 메모리 셀에 입력 게이트, 망각 게이트, 출력 게이트를 추가하여 불필요한 기억을 지우고, 기억해야할 것들을 정함\n",
        "  * 입력 게이트, 삭제 게이트, 셀 상태(장기 상태), 출력 게이트와 은닉 상태(단기 상태)"
      ],
      "metadata": {
        "id": "wmC-46hxY0kb"
      }
    },
    {
      "cell_type": "markdown",
      "source": [
        "### 4) 파이토치의 nn.LSTM()"
      ],
      "metadata": {
        "id": "pF8PsdWlZOpo"
      }
    },
    {
      "cell_type": "markdown",
      "source": [
        "\n",
        "\n",
        "```\n",
        "nn.LSTM(input_dim, hidden_size, batch_fisrt=True)  \n",
        "```\n",
        "\n",
        "\n"
      ],
      "metadata": {
        "id": "T9fBvbhTZV6p"
      }
    },
    {
      "cell_type": "markdown",
      "source": [
        "## 3. 게이트 순환 유닛 (GRU)\n"
      ],
      "metadata": {
        "id": "z6cfGlxCZcwy"
      }
    },
    {
      "cell_type": "markdown",
      "source": [
        "### 1) 게이트 순환 유닛 (Gated Recurrent Unit, GRU)\n",
        "  * 장기의존성 문제에 대한 LSTM의 해결책을 유지하면서, 은닉 상태를 업데이트하는 계산을 줄임\n",
        "  * 업데이트 게이트, 리셋 게이트"
      ],
      "metadata": {
        "id": "mUlAcoVobA9R"
      }
    },
    {
      "cell_type": "markdown",
      "source": [
        "## 2) 파이토치의 nn.GRU()\n",
        "\n",
        "\n",
        "```\n",
        "nn.GRU(input_dim, hidden_size, batch_fisrt=True)  \n",
        "```\n",
        "\n"
      ],
      "metadata": {
        "id": "2GFNf3vba-lL"
      }
    },
    {
      "cell_type": "code",
      "source": [],
      "metadata": {
        "id": "_dGQSXHnb7Sm"
      },
      "execution_count": null,
      "outputs": []
    }
  ]
}