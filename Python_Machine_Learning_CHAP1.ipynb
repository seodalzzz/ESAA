{
  "nbformat": 4,
  "nbformat_minor": 0,
  "metadata": {
    "colab": {
      "name": "Python Machine Learning - CHAP1.ipynb",
      "provenance": [],
      "toc_visible": true,
      "collapsed_sections": [
        "5pW1bMDeci0c",
        "BAGhlKqJfbpV",
        "CnI8j9Vsfucc",
        "3PVuiv8MgUyx",
        "qxIJUIV9zxxp",
        "usN2OizoAkup",
        "tuadmuajDpf_",
        "12h5xDnVGXxL",
        "C5ffod-MP8ce",
        "F0xQpaCdLwZt",
        "6f_aFQYePd6J",
        "AL-6nIR4SI2-",
        "oyG15wwQUoCi",
        "qz4AtvVDU1i7",
        "aJTAShHOX2PC",
        "7QjS5mJGahGr",
        "0TCvDAzfalvM",
        "zY_5j5MybTzN"
      ],
      "authorship_tag": "ABX9TyNL0rnHmSXYUNa9YEv3tCjt",
      "include_colab_link": true
    },
    "kernelspec": {
      "name": "python3",
      "display_name": "Python 3"
    },
    "language_info": {
      "name": "python"
    }
  },
  "cells": [
    {
      "cell_type": "markdown",
      "metadata": {
        "id": "view-in-github",
        "colab_type": "text"
      },
      "source": [
        "<a href=\"https://colab.research.google.com/github/seodalzzz/ESAA/blob/main/Python_Machine_Learning_CHAP1.ipynb\" target=\"_parent\"><img src=\"https://colab.research.google.com/assets/colab-badge.svg\" alt=\"Open In Colab\"/></a>"
      ]
    },
    {
      "cell_type": "markdown",
      "source": [
        "#__CHAP1 파이썬 기반의 머신러닝과 생태계 이해__"
      ],
      "metadata": {
        "id": "zKc5DPqeiW4t"
      }
    },
    {
      "cell_type": "markdown",
      "source": [
        "## __1. 머신러닝의 개념__\n",
        "\n",
        "머신러닝(Machine Learning) : 애플리케이션을 수행하지 않고도 데이터를 기반으로 패턴을 학습하고 결과를 예측하는 알고리즘 기법\n",
        "\n",
        "머신러닝은 데이터를 기반으로 숨겨진 패턴을 인지해 여러 문제를 해결한다. 머신러닝 알고리즘은 데이터를 기반으로 통계적인 신뢰도를 강화하고 예측 오류를 최소화하기 위한 다양한 수학적 기법을 적용해 데이터 내의 패턴을 스스로 인지뢰고 신뢰도 있는 예측 결과를 도출해 낸다.\n"
      ],
      "metadata": {
        "id": "5pW1bMDeci0c"
      }
    },
    {
      "cell_type": "markdown",
      "source": [
        "###1) 머신러닝의 분류\n",
        "\n",
        "지도학습/비지도학습/강화학습\n",
        "\n",
        "* 지도학습 : 분류, 회귀, 추천시스템, 시각/음성감지/인지, 텍스트분석, NLP\n",
        "* 비지도학습 : 클러스터링, 차원 축소, 강화학습"
      ],
      "metadata": {
        "id": "BAGhlKqJfbpV"
      }
    },
    {
      "cell_type": "markdown",
      "source": [
        "###2) 데이터 전쟁\n",
        "머신러닝은 데이터에 매우 의존적임. 따라서 좋은 품직의 데이터를 갖추지 못한다면 머신런이의 수행 결과도 좋을 수 없음.\n",
        "\n",
        "데이터를 이해하고 효율적으로 가공, 처리, 추출해 최적의 데이터를 기반으로 알고리즘을 구동할 수 있도록 준비하는 능력이 중요함.\n"
      ],
      "metadata": {
        "id": "CnI8j9Vsfucc"
      }
    },
    {
      "cell_type": "markdown",
      "source": [
        "###3) 파이썬과 R 기반의 머신러닝 비교\n",
        "\n",
        "머신러닝 프로그램을 작성할 수 있는 대표적인 오픈 소스 프로그램 언어\n",
        "\n",
        "  * R\n",
        "   * 통계 전용 언어\n",
        "   * 오랜 기간동안 많은 R 사용자들이 생성하고 검증해온 다양하고 많은 통계 패키지 보유\n",
        "\n",
        "  *(2) Python\n",
        "    * 쉽고 뛰어난 개발 생산성으로 전 세계 개발자들이 파이썬을 선호함\n",
        "    * 오픈 소스 계열의 전폭적인 지지를 받고 있으며 많은 라이브러리로 인해 개발 시 높은 생산성을 보장해 줌\n",
        "    * 인터프리터 언어(Interpreter Language)의 특성 상 속도는 느리지만, 뛰어난 확장성, 유연성, 호환성으로 인해 서버, 네트워크, 시스템, IOT, 데스크톱까지 다양한 영역에서 사용되고 있음\n",
        "    * 머신러닝 애플리케이션과 결합한 다양한 애플리케이션 개발이 가능함\n",
        "    * 엔터프라이즈 아키미처로의 확장 및 마이크로서비스 기반의 실시간 연계 등 다양한 기업 환경으로의 확산이 가능함\n",
        "    * __딥러닝 프레임워크인 텐서플로, 케라스, 파이토치 등에서 파이썬 우선 전책으로 파이썬을 지원하고 있음__\n",
        "\n",
        "\n",
        "\n"
      ],
      "metadata": {
        "id": "3PVuiv8MgUyx"
      }
    },
    {
      "cell_type": "markdown",
      "source": [
        "##__2. 파이썬 머신러닝 생태계를 구성하는 주요 패키지__\n",
        "  * 머신러닝 패키지 : __사이킷런(Scikit-Learn)__, 텐서플로, 케라스\n",
        "  * 행렬/선형대수/통계 패키지 : __넘파이(Numpy)__\n",
        "    + 사이킷런을 비롯한 많은 머신러닝 패키지가 넘파이 기반으로되 되어 있음\n",
        "  * 데이터 핸들링 : __판다스__\n",
        "    + 대표적인 데이터 처리 패키지\n",
        "    + 2차원 데이터 처리에 특화되어 있음\n",
        "  * 시각화 : __맷플롯립__, 시본\n",
        "    + 시본을 사용하기 위해서는 맷플롯립을 어느정도 알고 있어야 함\n",
        "    \n",
        "  * 주피터 노트북 : 대표적인 아이파이썬(대화형 파이썬 툴) 지원 툴\n",
        "    + 중요 코드 단위로 설명ㅇ르 적고 코드를 수행해 그 결과를 볼수 있게 만들어 직관적으로 어떤 코드가 어떤 역할을 하는지 매우 쉽게 이해할 수 있도록 지원함\n",
        "  \n",
        "\n",
        "\n"
      ],
      "metadata": {
        "id": "BU97wExviKtg"
      }
    },
    {
      "cell_type": "markdown",
      "source": [
        "###1) 파이썬 머신러닝을 위한 S/W 설치\n",
        "  * Anaconda 설치 - https://www.anaconda.com/download/\n",
        "  * 주피터 노트북 접속\n",
        "  * 넘파이, 판다스, 맷플롯립, 시본, 사이킷런 모듈 임포트 및 오류 발생 확인 (설치 확인)\n",
        "  * Micro Soft visual studio build toos 2015 이상 버전 설치\n",
        "\n",
        " "
      ],
      "metadata": {
        "id": "zhxJXHdeltFi"
      }
    },
    {
      "cell_type": "markdown",
      "source": [
        "* 머신러닝 애플리케이션을 파이썬으로 개발한다면 대부분의 코드는 사이킷런의 머신러닝 알고리즘에 입력하기 위한 데이터의 추출/가공/변형, 원하는 차원 배열로의 변환을 포함해 머신러닝 알고리즘 처리 결과에 대한 다양한 가공 등으로 구성되며 이 같은 데이터 처리 부분은 넘파이와 판다스의 몫\n",
        "* 사이킷런이 넘파이 기반에서 작성됐기 때문에 넘파이읭 기본 프레임 워크를 이해하는 것이 중요"
      ],
      "metadata": {
        "id": "dGOLLyYLe6cK"
      }
    },
    {
      "cell_type": "markdown",
      "source": [
        "##__3. 넘파이__\n",
        " 머신러닝의 주요 알고리즘은 선형대수와 통계 등에 기반함.\n",
        "\n",
        " Numpy(Numerical Python)는 파이썬에서 선형대수 기반의 프로그램을 쉽게 만들 수 있도록 지원하는 대표적인 패키지\n",
        "\n",
        " 루프를 사용하징 않고 대량 데이터의 배열 연산을 가능하게 함. >> 빠른 배열 연산 속도\n",
        "\n",
        " C/C++과 같은 저수준 언어 기반의 호환 API를 제공함으로 수행 성능이 중요한 부분은 C/C++ 기반의 코드로 작성하고, 이를 넘파이에서 호출하는 방식으로 쉽게 통합 가능\n",
        "\n",
        " 다양한 데이터 핸들링 기능을 제공하지만 2차원 형태의 행렬 데이터에 대한 다양한 가공과 변환, 여러 통계용 함수의 적용 등에서 판다스의 편리성에는 미치지 못함\n",
        "\n",
        "__많은 머신러닝 알고리즘이 넘파이 기반으로 작성돼 있고, 이들 알고리즘의 입력 데이터와 출력 데이터를 넘파이 배열 타입으로 사용하기때문에 넘파이를 이해하는 것은 파이썬 기반의 머신러닝에서 매우 중요함.__\n",
        "\n",
        "\n",
        "\n"
      ],
      "metadata": {
        "id": "VLuKkJkMnDe1"
      }
    },
    {
      "cell_type": "markdown",
      "source": [
        "###1) 넘파이 ndarry 개요\n"
      ],
      "metadata": {
        "id": "td6WP_ilpZg_"
      }
    },
    {
      "cell_type": "code",
      "source": [
        "# 넘파이 모듈 임포트\n",
        "\n",
        "import numpy as np"
      ],
      "metadata": {
        "id": "YwaMQuwtpc1I"
      },
      "execution_count": 2,
      "outputs": []
    },
    {
      "cell_type": "markdown",
      "source": [
        "> import numpy만 해도 충분하지만, as np를 추가하여 약어로 모듈을 표현해주는 것이 관례임\n",
        "\n"
      ],
      "metadata": {
        "id": "qTtJNV_ipsTp"
      }
    },
    {
      "cell_type": "markdown",
      "source": [
        "\n",
        "* ndarry\n",
        "  + 넘파이의 기반 데이터 타입\n",
        "  + ndarry를 이용해 넘파이에서 다차원 배열을 쉽게 생성하고 다양한 연산을 수행할 수 있음\n",
        "\n"
      ],
      "metadata": {
        "id": "K-3oZLtvto6k"
      }
    },
    {
      "cell_type": "markdown",
      "source": [
        "\n",
        "+ array() : 파이썬의 리스트와 같은 다양한 인자를 입력받아서 ndarray로 변환\n",
        "  + 생성된 ndarray 배열의 shape 변수는 ndarray의 크기, 즉 행과 열의 수를 튜플 평태로 가지고 있으며 이를 통해 ndarray 배열의 차원까지 알 수 있음\n",
        "  + array() 함수의 인자로는 파이썬의 리스트 객체가 주로 사용됨. 리스는 []는 1차원이고, [[]]는 2차원과 같은 형태로 배열의 차원과 크기를 쉽게 표현할 수 있기 때문\n",
        "\n",
        "\n",
        "\n",
        "\n",
        "\n",
        "\n"
      ],
      "metadata": {
        "id": "v1hPt8sIvfo2"
      }
    },
    {
      "cell_type": "code",
      "source": [
        "# aray() 함수\n",
        "\n",
        "array1=np.array([1,2,3]) #1차원 array로 3개의 데이터를 가지고 있음\n",
        "print('array1 type : ',type(array1))\n",
        "print('array1 array 형태 :',array1.shape)\n",
        "\n",
        "array2=np.array([[1,2,3],[2,3,4]])\n",
        "print('array2 type : ', type(array2))\n",
        "print('arry2 형태 : ',array2.shape)\n",
        "\n",
        "array3=np.array([[1,2,3]]) #1개의 row와 3개의 col으로 구성된 2차원 데이터\n",
        "print('array3 type : ', type(array3))\n",
        "print('array3 형태 : ', array3.shape)\n"
      ],
      "metadata": {
        "colab": {
          "base_uri": "https://localhost:8080/"
        },
        "id": "I3gYbX5lusdL",
        "outputId": "0234cff7-f28a-400b-eb56-fdadd33569fe"
      },
      "execution_count": null,
      "outputs": [
        {
          "output_type": "stream",
          "name": "stdout",
          "text": [
            "array1 type :  <class 'numpy.ndarray'>\n",
            "array1 array 형태 : (3,)\n",
            "array2 type :  <class 'numpy.ndarray'>\n",
            "arry2 형태 :  (2, 3)\n",
            "array3 type :  <class 'numpy.ndarray'>\n",
            "array3 형태 :  (1, 3)\n"
          ]
        }
      ]
    },
    {
      "cell_type": "markdown",
      "source": [
        "\n",
        "\n",
        "\n",
        "> array1.shape // (3,) : 1차원 array로 3개의 데이터를 가지고 있음\n",
        "\n",
        "> array3.shape // (1,3) : 1개의 row, 3개의 col을 가진 2차원 데이터\n",
        "\n",
        "\n",
        "\n",
        "\n"
      ],
      "metadata": {
        "id": "4KKmHK_NycL-"
      }
    },
    {
      "cell_type": "code",
      "source": [
        "# 각 array의 차원을 ndarray.ndim을 이용해 확인\n",
        "\n",
        "print('array1 : {:0}차원, array2 : {:1}차원, array3 : {:2}차원'.format(array1.ndim,array2.ndim,array3.ndim))"
      ],
      "metadata": {
        "colab": {
          "base_uri": "https://localhost:8080/"
        },
        "id": "C3Nzrrugy6ZF",
        "outputId": "01bb3dd3-aa0f-44a4-e6f9-703854becce6"
      },
      "execution_count": null,
      "outputs": [
        {
          "output_type": "stream",
          "name": "stdout",
          "text": [
            "array1 : 1차원, array2 : 2차원, array3 :  2차원\n"
          ]
        }
      ]
    },
    {
      "cell_type": "markdown",
      "source": [
        "\n",
        "\n",
        "> array1은 1차원, array3은 2차원\n",
        "\n",
        "\n"
      ],
      "metadata": {
        "id": "9aL6yo_IzM0v"
      }
    },
    {
      "cell_type": "markdown",
      "source": [
        "###2) ndarray의 데이터 타입\n",
        "\n",
        "  + ndarray내의 데이터 값은 숫자 값, 문자열 값, bool 값 등이 모두 가능함\n",
        "  + 숫자형의 경우 int 형, unsigned int 형, float 형, complex 타입 제공\n",
        "  + ndarray내의 데이터 타입은 같은 데이터 타입만 가능함\n",
        "    + 만약 다른 데이터 유형이 섞여 있는 리스트를 ndarray로 변경하면 데이터 크기가 더 큰 데이터 타입으로 형 변환을 일괄 적용함\n",
        "\n"
      ],
      "metadata": {
        "id": "qxIJUIV9zxxp"
      }
    },
    {
      "cell_type": "code",
      "source": [
        "# dtype 속성으로 ndarray 내의 데이터 타입 확인하기\n",
        "list1=[1,2,3]\n",
        "print(type(list1))\n",
        "array1=np.array(list1)\n",
        "print(type(array1))\n",
        "print(array1,array1.dtype)"
      ],
      "metadata": {
        "colab": {
          "base_uri": "https://localhost:8080/"
        },
        "id": "AWZbofF40SFN",
        "outputId": "4643e671-6782-4c54-f9a7-8b01b82648f7"
      },
      "execution_count": null,
      "outputs": [
        {
          "output_type": "stream",
          "name": "stdout",
          "text": [
            "<class 'list'>\n",
            "<class 'numpy.ndarray'>\n",
            "[1 2 3] int64\n"
          ]
        }
      ]
    },
    {
      "cell_type": "markdown",
      "source": [
        "\n",
        "\n",
        "> list1을 array()함수를 이용하여 ndarray로 변환\n",
        "> 변경된 ndarray내의 데이터 값은 모두 int32형\n",
        "\n",
        "\n"
      ],
      "metadata": {
        "id": "2q_3BIHs0u26"
      }
    },
    {
      "cell_type": "code",
      "source": [
        "#int형과 string형이 섞여 있는 리스트를 ndarray로 변경\n",
        "list2=[1,2,'test']\n",
        "array2=np.array(list2)\n",
        "print(array2, array2.dtype)\n",
        "\n",
        "#int형과 float형이 섞여 있는 리스트를 ndarray로 변경\n",
        "list3=[1,2,3.0]\n",
        "array3=np.array(list3)\n",
        "print(array3,array3.dtype)\n"
      ],
      "metadata": {
        "colab": {
          "base_uri": "https://localhost:8080/"
        },
        "id": "RtMjrGco1bKb",
        "outputId": "cbdb204f-0dae-441e-ab4a-419c4038cab5"
      },
      "execution_count": null,
      "outputs": [
        {
          "output_type": "stream",
          "name": "stdout",
          "text": [
            "['1' '2' 'test'] <U21\n",
            "[1. 2. 3.] float64\n"
          ]
        }
      ]
    },
    {
      "cell_type": "markdown",
      "source": [
        "\n",
        "\n",
        "> int 형 값과 문자열이 섞여 있는 list2를 ndarray로 변환하면 숫자형 값 1,2,가 모두 문자열 '1','2'로 바뀜\n",
        "> int 형과 float형이 섞인 list3의 경우도 int 1,2가 모두 1,2 인 float 형으로 바뀜\n",
        "\n",
        "\n"
      ],
      "metadata": {
        "id": "Ok3LoaII2ASV"
      }
    },
    {
      "cell_type": "markdown",
      "source": [
        "* astype() : ndarray 내 데이터 값의 타입 변경 \n",
        "  + astype()에 인자로 원하는 타입을 문자열로 지정\n",
        "  + 대용량 데이터의 ndarray를 만들 때 많은 메모리가 사용되는데, 메모리를 절약해야 할 때 사용 (ex. int 형으로 충분한 경우인데 float형이 사용되고 있는 경우)\n"
      ],
      "metadata": {
        "id": "wJGiLecB2syf"
      }
    },
    {
      "cell_type": "code",
      "source": [
        "# int32형 데이터를 float64로 변환\n",
        "array_int=np.array([1,2,3])\n",
        "array_float=array_int.astype('float64')\n",
        "print(array_float,array_float.dtype)\n",
        "\n",
        "#float64형 ndarray를 다시 int32형으로 변경\n",
        "array_int1=array_float.astype('int32')\n",
        "print(array_int1,array_int1.dtype)\n",
        "\n",
        "array_float1=np.array([1.1,2.1,3.1])\n",
        "array_int2=array_float1.astype('int32')\n",
        "print(array_int2,array_int2.dtype)"
      ],
      "metadata": {
        "colab": {
          "base_uri": "https://localhost:8080/"
        },
        "id": "K00HAv1c3QpQ",
        "outputId": "b4094458-35ad-4cee-dc9b-a6fac5d44a0c"
      },
      "execution_count": null,
      "outputs": [
        {
          "output_type": "stream",
          "name": "stdout",
          "text": [
            "[1. 2. 3.] float64\n",
            "[1 2 3] int32\n",
            "[1 2 3] int32\n"
          ]
        }
      ]
    },
    {
      "cell_type": "markdown",
      "source": [
        "> float형을 int형으로 변환 할 때 소수점 이하의 자리는 모두 없어짐\n"
      ],
      "metadata": {
        "id": "Bf-WW3dr4-IK"
      }
    },
    {
      "cell_type": "markdown",
      "source": [
        "###3) ndarray를 편리하게 생성하기 - arange, zeros, ones\n",
        "  * 특정 크기와 차원을 가진 ndarray를 연속값이나 0 또는 1로 초기화해 생성해야 할 경우 사용\n",
        "  * 테스트용 데이터를 만들거나 대규모의 데이터를 일괄적으로 초기화해야 할 경우에 사용\n",
        "\n",
        "  * arange() : 0부터 함수인자 값 -1까지의 값을 순차적으로 ndarray의 데이터값으로 변환\n",
        "    + default 함수 인자 값은 stop 값이며 0부터 stop 값에 -1을 더한 값까지의 연속 숫자 값으로 구성된 1차원 array를 만듦\n",
        "    + range와 유사하게 start값도 부여해 0이 아닌 다른 값부터 시작한 연속 값을 부여할수도 있음\n",
        "\n",
        "  * zeros() : 함수 인자로 튜플 형태의 shape값을 입력하면 모든 값을 0으로 채운 해당 shape를 가진 ndarray를 반환\n",
        "    + 함수인자로 dtype을 정해주지 않으면 default로 float64 형의 데이터로 ndarray를 채움\n",
        "\n",
        "  * ones() : 함수인자로 튜플 형태의 shape 값을 입력하면 모든 값을 1로 채운 해당 shape를 가진 ndarray를 반환\n",
        "    + 함수인자로 dtype을 정해주지 않으면 default로 float64 형의 데이터로 ndarray를 채움\n",
        "\n",
        "    \n"
      ],
      "metadata": {
        "id": "usN2OizoAkup"
      }
    },
    {
      "cell_type": "code",
      "source": [
        "#arange()\n",
        "sequence_array=np.arange(10)\n",
        "print(sequence_array)\n",
        "print(sequence_array.dtype, sequence_array.shape)\n",
        "\n",
        "#zeros()\n",
        "zero_array=np.zeros((3,2),dtype='int32')\n",
        "print(zero_array)\n",
        "print(zero_array.dtype, zero_array)\n",
        "  \n",
        "#ones()\n",
        "one_array=np.ones((3,2))\n",
        "print(one_array)\n",
        "print(one_array.dtype,one_array.shape)"
      ],
      "metadata": {
        "colab": {
          "base_uri": "https://localhost:8080/"
        },
        "id": "Dx42wHGgBANF",
        "outputId": "ac74465d-11d0-4771-bc6e-8fd52f8da62d"
      },
      "execution_count": 9,
      "outputs": [
        {
          "output_type": "stream",
          "name": "stdout",
          "text": [
            "[0 1 2 3 4 5 6 7 8 9]\n",
            "int64 (10,)\n",
            "[[0 0]\n",
            " [0 0]\n",
            " [0 0]]\n",
            "int32 [[0 0]\n",
            " [0 0]\n",
            " [0 0]]\n",
            "[[1. 1.]\n",
            " [1. 1.]\n",
            " [1. 1.]]\n",
            "float64 (3, 2)\n"
          ]
        }
      ]
    },
    {
      "cell_type": "markdown",
      "source": [
        "###4) ndarray의 차원과 크기를 변경하는 reshape()\n",
        "\n",
        "  * reshape() : ndarray를 특정 차원 및 크기로 변환\n",
        "    * 변환을 원하는 크기를 함수 인자로 부여\n",
        "    * 지정된 사이즈로 변경이 불가능하면 오류 발생\n",
        "    * 인자로 -1을 사용할 경우 원래 ndarray와 호환되는 새로운 shape로 변환"
      ],
      "metadata": {
        "id": "tuadmuajDpf_"
      }
    },
    {
      "cell_type": "code",
      "source": [
        "#reshape()\n",
        "array1=np.arange(10)\n",
        "print('array1:\\n',array1)\n",
        "\n",
        "array2=array1.reshape(2,5)\n",
        "print('array2:\\n',array2)\n",
        "\n",
        "array3=array1.reshape(5,2)\n",
        "print('array3:\\n',array3)"
      ],
      "metadata": {
        "colab": {
          "base_uri": "https://localhost:8080/"
        },
        "id": "w0hceY_rD4Hz",
        "outputId": "6fe4e8f9-66f2-4498-d4db-6c28fec2cc2b"
      },
      "execution_count": 10,
      "outputs": [
        {
          "output_type": "stream",
          "name": "stdout",
          "text": [
            "array1:\n",
            " [0 1 2 3 4 5 6 7 8 9]\n",
            "array2:\n",
            " [[0 1 2 3 4]\n",
            " [5 6 7 8 9]]\n",
            "array3:\n",
            " [[0 1]\n",
            " [2 3]\n",
            " [4 5]\n",
            " [6 7]\n",
            " [8 9]]\n"
          ]
        }
      ]
    },
    {
      "cell_type": "markdown",
      "source": [
        "\n",
        "\n",
        "> arrya1을 (4,3) 형태로 reshape하려 하면 오류 발생\n",
        "\n"
      ],
      "metadata": {
        "id": "pALIXjxkEJ1J"
      }
    },
    {
      "cell_type": "code",
      "source": [
        "#reshape 인자로 -1 사용\n",
        "array1=np.arange(10)\n",
        "print(array1)\n",
        "array2=array1.reshape(-1,5)\n",
        "print('array2 shape:',array2.shape)\n",
        "array3=array1.reshape(5,-1)\n",
        "print('array3.shape:',array3.shape)\n"
      ],
      "metadata": {
        "colab": {
          "base_uri": "https://localhost:8080/"
        },
        "id": "bolKT1CDEcAV",
        "outputId": "8284a07b-6464-42f8-c4b0-b9be343b3946"
      },
      "execution_count": 13,
      "outputs": [
        {
          "output_type": "stream",
          "name": "stdout",
          "text": [
            "[0 1 2 3 4 5 6 7 8 9]\n",
            "array2 shape: (2, 5)\n",
            "array3.shape: (5, 2)\n"
          ]
        }
      ]
    },
    {
      "cell_type": "code",
      "source": [
        "#호환되지 않는 형태로는 변환 불가\n",
        "array1=np.arange(10)\n",
        "array4=array1.reshaep(-1,4)"
      ],
      "metadata": {
        "colab": {
          "base_uri": "https://localhost:8080/",
          "height": 211
        },
        "id": "lLOl3a-MFMBe",
        "outputId": "a011e374-25e1-407c-b847-da76a6a6bae6"
      },
      "execution_count": 14,
      "outputs": [
        {
          "output_type": "error",
          "ename": "AttributeError",
          "evalue": "ignored",
          "traceback": [
            "\u001b[0;31m---------------------------------------------------------------------------\u001b[0m",
            "\u001b[0;31mAttributeError\u001b[0m                            Traceback (most recent call last)",
            "\u001b[0;32m<ipython-input-14-835ce539924a>\u001b[0m in \u001b[0;36m<module>\u001b[0;34m()\u001b[0m\n\u001b[1;32m      1\u001b[0m \u001b[0;31m#호환되지 않는 형태로는 변환 불가\u001b[0m\u001b[0;34m\u001b[0m\u001b[0;34m\u001b[0m\u001b[0;34m\u001b[0m\u001b[0m\n\u001b[1;32m      2\u001b[0m \u001b[0marray1\u001b[0m\u001b[0;34m=\u001b[0m\u001b[0mnp\u001b[0m\u001b[0;34m.\u001b[0m\u001b[0marange\u001b[0m\u001b[0;34m(\u001b[0m\u001b[0;36m10\u001b[0m\u001b[0;34m)\u001b[0m\u001b[0;34m\u001b[0m\u001b[0;34m\u001b[0m\u001b[0m\n\u001b[0;32m----> 3\u001b[0;31m \u001b[0marray4\u001b[0m\u001b[0;34m=\u001b[0m\u001b[0marray1\u001b[0m\u001b[0;34m.\u001b[0m\u001b[0mreshaep\u001b[0m\u001b[0;34m(\u001b[0m\u001b[0;34m-\u001b[0m\u001b[0;36m1\u001b[0m\u001b[0;34m,\u001b[0m\u001b[0;36m4\u001b[0m\u001b[0;34m)\u001b[0m\u001b[0;34m\u001b[0m\u001b[0;34m\u001b[0m\u001b[0m\n\u001b[0m",
            "\u001b[0;31mAttributeError\u001b[0m: 'numpy.ndarray' object has no attribute 'reshaep'"
          ]
        }
      ]
    },
    {
      "cell_type": "code",
      "source": [
        "#reshape(-1,1)\n",
        "array1=np.arange(8)\n",
        "array3d=array1.reshape((2,2,2))\n",
        "print('array3d:\\n',array3d.tolist())\n",
        "\n",
        "#3차원 ndarray를 2차원 ndarray로 변환\n",
        "array5=array3d.reshape(-1,1)\n",
        "print('array5:\\n', array5.tolist())\n",
        "print('array5 shape:',array5.shape)\n",
        "\n",
        "#1차원 ndarray를 2차원 ndarray로 변환\n",
        "array6=array1.reshape(-1,1)\n",
        "print('array6:\\n',array6.tolist())\n",
        "print('array6 shape:\\n',array6.shape)"
      ],
      "metadata": {
        "colab": {
          "base_uri": "https://localhost:8080/"
        },
        "id": "L2BfD02-Frd7",
        "outputId": "370ce2ed-c432-4820-8f00-1041f4a8ea31"
      },
      "execution_count": 15,
      "outputs": [
        {
          "output_type": "stream",
          "name": "stdout",
          "text": [
            "array3d:\n",
            " [[[0, 1], [2, 3]], [[4, 5], [6, 7]]]\n",
            "array5:\n",
            " [[0], [1], [2], [3], [4], [5], [6], [7]]\n",
            "array5 shape: (8, 1)\n",
            "array6:\n",
            " [[0], [1], [2], [3], [4], [5], [6], [7]]\n",
            "array6 shape:\n",
            " (8, 1)\n"
          ]
        }
      ]
    },
    {
      "cell_type": "markdown",
      "source": [
        "> -1인자는 reshape(-1,1)과 같은 형태로 자주사용됨. reshape(-1,1)은 원본 ndarray가 어떤 형태라도 2차원이고, 여러개의 로우를 가지되 반드시 1개의 칼럼을 가진 ndarray로 변환됨을 보장\n",
        "\n",
        "> 여러 개의 넘파이 adarray는 stack이나 concat으로 결합할 때 각각의 ndarray 형태를 통일해 유용하게 사용됨"
      ],
      "metadata": {
        "id": "p2bmQwwpFSAP"
      }
    },
    {
      "cell_type": "markdown",
      "source": [
        "###5) 넘파이의 ndarray의 데이터 세트 선택하기 - 인덱싱(Indexing)\n",
        "  * 넘파이에서 ndarray 내의 일부 데이터 세트나 특정 데이터만을 선택\n",
        "  * 특정한 데이터만 추출 : 원하는 위치의 인덱스 값을 지정하면 해당 위치의 데이터가 반환\n",
        "  * 슬라이싱(Slicing) : 연속된 인덱스상의 ndarray를 추출\n",
        "    * :기호 사이에 시작 인덱스와 종료 인덱스를 표시하면 시작 인덱스에서 종료 인덱스 -1 위치에 있는 데이터의 ndarray를 반환\n",
        "  * 팬시 인덱싱(Fancy Indexing) : 일정한 인덱싱 집합을 리스트 또는 ndarray 형태로 지정해 해당 위치에 있는 데이터의 ndarray를 반환\n",
        "  * 불린 인덱싱 (Boolean Indexing) : 특정 조건에 해당하는지 여부인 True/False 값 인덱싱 집합을 기반으로 True에 해당하는 인덱스 위치에 있는 데이터의 ndarray를 반환\n",
        "\n"
      ],
      "metadata": {
        "id": "12h5xDnVGXxL"
      }
    },
    {
      "cell_type": "markdown",
      "source": [
        "####(1) 단일 값 추출\n",
        "  * 1개의 데이터값을 선택하려면 ndarray 객체에 해당하는 위치의 인덱스 값을 []안에 입력하면 됨\n",
        "  * 인덱스에 마이너스 기호를 이용하면 맨 뒤에서부터 데이터를 추출할 수 있음"
      ],
      "metadata": {
        "id": "C5ffod-MP8ce"
      }
    },
    {
      "cell_type": "code",
      "source": [
        "#단일 값 추출\n",
        "\n",
        "#1부터 9까지의 1차원 ndarray 생성\n",
        "array1=np.arange(1,10)\n",
        "print('array1:',array1)\n",
        "\n",
        "#index는 0부터 시작하므로 array1[2]는 세번째 index 위치의 데이터값을 의미\n",
        "value=array1[2]\n",
        "print('value:',value)\n",
        "print(type(value))"
      ],
      "metadata": {
        "colab": {
          "base_uri": "https://localhost:8080/"
        },
        "id": "tecmnFqZJMS-",
        "outputId": "14d321b9-8bc4-4aa8-9e17-5d2eeba88206"
      },
      "execution_count": 16,
      "outputs": [
        {
          "output_type": "stream",
          "name": "stdout",
          "text": [
            "array1: [1 2 3 4 5 6 7 8 9]\n",
            "value: 3\n",
            "<class 'numpy.int64'>\n"
          ]
        }
      ]
    },
    {
      "cell_type": "markdown",
      "source": [
        "> array1[2] 의 값은 더이상 ndarray 타입이 아니고 ndarray내의 데이터 값을 의미함\n"
      ],
      "metadata": {
        "id": "ff_KAHmlJm02"
      }
    },
    {
      "cell_type": "code",
      "source": [
        "#인덱스에 마이너스 값 이용\n",
        "print('맨뒤의 값 : ', array1[-1],'맨 뒤에서 두번째 값 : ',array1[-2])"
      ],
      "metadata": {
        "colab": {
          "base_uri": "https://localhost:8080/"
        },
        "id": "oB6TZeOxJ6JT",
        "outputId": "e4796739-f683-4bfd-a9dc-840e294cfb6a"
      },
      "execution_count": 18,
      "outputs": [
        {
          "output_type": "stream",
          "name": "stdout",
          "text": [
            "맨뒤의 값 :  9 맨 뒤에서 두번째 값 :  8\n"
          ]
        }
      ]
    },
    {
      "cell_type": "code",
      "source": [
        "#인덱스를 이용해 ndarray내의 데이터 값 수정하기\n",
        "array1[0]=9\n",
        "array1[8]=0\n",
        "print('array1:',array1)"
      ],
      "metadata": {
        "colab": {
          "base_uri": "https://localhost:8080/"
        },
        "id": "enJr16r6KFsn",
        "outputId": "fec73ffe-2fe9-4886-818e-2e16eb941226"
      },
      "execution_count": 19,
      "outputs": [
        {
          "output_type": "stream",
          "name": "stdout",
          "text": [
            "array1: [9 2 3 4 5 6 7 8 0]\n"
          ]
        }
      ]
    },
    {
      "cell_type": "code",
      "source": [
        "#다차원 ndarray에서 단일 값 추출\n",
        "array1d=np.arange(start=1,stop=10)\n",
        "array2d=array1d.reshape(3,3)\n",
        "print(array2d)\n",
        "\n",
        "print('(row=0, col=0) index 가리키는 값 : ',array2d[0,0])\n",
        "print('(row=0, col=1) index 가리키는 값 : ',array2d[0,1])\n",
        "print('(row=1, col=0) index 가리키는 값 : ',array2d[1,0])\n",
        "print('(row=2, col=2) index 가리키는 값 : ',array2d[2,2])"
      ],
      "metadata": {
        "colab": {
          "base_uri": "https://localhost:8080/"
        },
        "id": "u6WDY1jvKP1y",
        "outputId": "a7391058-4668-423f-9dd5-ef5ccf9490ff"
      },
      "execution_count": 20,
      "outputs": [
        {
          "output_type": "stream",
          "name": "stdout",
          "text": [
            "[[1 2 3]\n",
            " [4 5 6]\n",
            " [7 8 9]]\n",
            "(row=0, col=0) index 가리키는 값 :  1\n",
            "(row=0, col=1) index 가리키는 값 :  2\n",
            "(row=1, col=0) index 가리키는 값 :  4\n",
            "(row=2, col=2) index 가리키는 값 :  9\n"
          ]
        }
      ]
    },
    {
      "cell_type": "markdown",
      "source": [
        "> array2d[0,1]은 첫번째 로우, 두번째 칼럼 위치의 데이터인 2\n"
      ],
      "metadata": {
        "id": "TZfhcmyaK1rH"
      }
    },
    {
      "cell_type": "markdown",
      "source": [
        "  * [row=0, col=1] 인덱싱은 [axis0=0, axis1=1]이 정확한 표현임\n",
        "    * 일반적인 로우, 칼럼 형식은 넘파이에서는 사용되지 않음\n",
        "    * 다차원 ndarray의 경우 축(axis)에 따른 연산을 지원함\n",
        "    * 축 기반의 연산에서 axis가 생략되면 axis 0을 의미함\n"
      ],
      "metadata": {
        "id": "sgTmQsS4LMdc"
      }
    },
    {
      "cell_type": "markdown",
      "source": [
        "####(2) 슬라이싱\n",
        "  * ':' 기호를 이용해 연속한 데이터를 슬라이싱해서 추출\n",
        "  * ':' 기호 사이에 시작 인덱스와 종료 인덱스를 표시하면 시작 인텍스에서 종료 인덱스 -1의 위치에 있는 데이터의 ndarray 값을 반환\n",
        "  * 단일 데이터값 추출을 제외하고 슬라이싱, 팬시 인덱싱, 불린 인덱싱으로 추출된 데이터 세트는 모두 ndarray 타입\n",
        "\n"
      ],
      "metadata": {
        "id": "F0xQpaCdLwZt"
      }
    },
    {
      "cell_type": "code",
      "source": [
        "# 슬라이싱\n",
        "array1=np.arange(start=1,stop=10)\n",
        "array3=array1[0:3]\n",
        "print(array3)\n",
        "print(type(array3))\n"
      ],
      "metadata": {
        "colab": {
          "base_uri": "https://localhost:8080/"
        },
        "id": "U3SD2NfTMejW",
        "outputId": "98e958cf-1d90-4fc8-c7ea-1575a959d071"
      },
      "execution_count": 21,
      "outputs": [
        {
          "output_type": "stream",
          "name": "stdout",
          "text": [
            "[1 2 3]\n",
            "<class 'numpy.ndarray'>\n"
          ]
        }
      ]
    },
    {
      "cell_type": "markdown",
      "source": [
        "  * 슬라이싱 기호인 ':'사이의 시작, 종료 인덱스는 생략 가능\n",
        "    * 시작 인덱스 생략 > 맨 처음 인덱스인 0으로 간주\n",
        "    * 종료 인덱스 생략 > 맨 마지막 인덱스로 간주\n",
        "    * ':' 기호 앞 뒤에 시작/종료 인덱스 생략 > 맨 처음/맨 마지막 인덱스로 간주"
      ],
      "metadata": {
        "id": "6zdiJa9oNB6l"
      }
    },
    {
      "cell_type": "code",
      "source": [
        "# ':' 기호 사용하여 시작 인덱스와 종료 인덱스 설정\n",
        "array1=np.arange(start=1,stop=10)\n",
        "array4=array1[:3]\n",
        "print(array4)\n",
        "\n",
        "array5=array1[3:]\n",
        "print(array5)\n",
        "\n",
        "array6=array1[:]\n",
        "print(array6)\n"
      ],
      "metadata": {
        "colab": {
          "base_uri": "https://localhost:8080/"
        },
        "id": "Ho7HzwA_NDDt",
        "outputId": "dd4c3133-0c00-452a-abc9-ed8f70c2d418"
      },
      "execution_count": 22,
      "outputs": [
        {
          "output_type": "stream",
          "name": "stdout",
          "text": [
            "[1 2 3]\n",
            "[4 5 6 7 8 9]\n",
            "[1 2 3 4 5 6 7 8 9]\n"
          ]
        }
      ]
    },
    {
      "cell_type": "code",
      "source": [
        "# 2차원 ndarray에서의 슬라이싱\n",
        "array1d=np.arange(start=1,stop=10)\n",
        "array2d=array1d.reshape(3,3)\n",
        "print('array2d:n',array2d)\n",
        "\n",
        "print('array2d[0:2,0:2]\\n',array2d[0:2,0:2])\n",
        "print('array2d[1:3,0:3]\\n',array2d[1:3,0:3])\n",
        "print('array2d[1:3,:]\\n',array2d[1:3,:])\n",
        "print('array2d[:,:]\\n',array2d[:,:])\n",
        "print('array2d[:2,1:]\\n',array2d[:2,1:])\n",
        "print('array2d[:2,0]\\n',array2d[:2,0])"
      ],
      "metadata": {
        "colab": {
          "base_uri": "https://localhost:8080/"
        },
        "id": "eMa9vVW3NzB1",
        "outputId": "4095eeba-8d64-4654-d02b-360c7103eb4e"
      },
      "execution_count": 23,
      "outputs": [
        {
          "output_type": "stream",
          "name": "stdout",
          "text": [
            "array2d:n [[1 2 3]\n",
            " [4 5 6]\n",
            " [7 8 9]]\n",
            "array2d[0:2,0:2]\n",
            " [[1 2]\n",
            " [4 5]]\n",
            "array2d[1:3,0:3]\n",
            " [[4 5 6]\n",
            " [7 8 9]]\n",
            "array2d[1:3,:]\n",
            " [[4 5 6]\n",
            " [7 8 9]]\n",
            "array2d[:,:]\n",
            " [[1 2 3]\n",
            " [4 5 6]\n",
            " [7 8 9]]\n",
            "array2d[:2,1:]\n",
            " [[2 3]\n",
            " [5 6]]\n",
            "array2d[:2,0]\n",
            " [1 4]\n"
          ]
        }
      ]
    },
    {
      "cell_type": "markdown",
      "source": [
        "> array[:2,0]과 같이 로우나 칼럼 축 한쪽에만 슬라이싱을 적용하고, 다른 쪽 축에는 단일 값 인덱스를 적용해도 됨\n",
        "\n",
        "  * 2차원 ndarray에서 뒤에 오는 인덱스를 없애면 1차원 ndarray를 반환 \n",
        "\n",
        "    (ex.array2d[0]과 같이 2차원에서 뒤에 오는 인덱스를 없애면 로우 축(axis0)의 첫번째 로우 ndarray)를 반환)"
      ],
      "metadata": {
        "id": "aKlOofhDOaMu"
      }
    },
    {
      "cell_type": "code",
      "source": [
        "# n차원 ndarray에서 마지막 인덱스 지정 생략\n",
        "print(array2d[0])\n",
        "print(array2d[1])\n",
        "print('array2d[0] shape : ', array2d[0].shape,'array2d[1] shape : ',array2d[1].shape)"
      ],
      "metadata": {
        "colab": {
          "base_uri": "https://localhost:8080/"
        },
        "id": "7h9XiETCO8oI",
        "outputId": "3c829d3c-8993-4f47-bf1f-6ee082e3d8bc"
      },
      "execution_count": 24,
      "outputs": [
        {
          "output_type": "stream",
          "name": "stdout",
          "text": [
            "[1 2 3]\n",
            "[4 5 6]\n",
            "array2d[0] shape :  (3,) array2d[1] shape :  (3,)\n"
          ]
        }
      ]
    },
    {
      "cell_type": "markdown",
      "source": [
        "####(3) 팬시 인덱싱\n",
        "  * 리스트나 ndarray로 인덱스 집합을 지정하면 해당 위치의 인덱스에 해당하는 ndarray를 반환하는 인덱싱 방식\n"
      ],
      "metadata": {
        "id": "6f_aFQYePd6J"
      }
    },
    {
      "cell_type": "code",
      "source": [
        "# 팬시 인덱싱\n",
        "array1d=np.arange(start=1,stop=10)\n",
        "array2d=array1d.reshape(3,3)\n",
        "\n",
        "array3=array2d[[0,1],2]\n",
        "print('array2d[[0,1],2] => ', array3.tolist())\n",
        "\n",
        "array4=array2d[[0,1],0:2]\n",
        "print('array2d[[0:1],0:2] => ',array4.tolist())\n",
        "\n",
        "array5=array2d[[0,1]]\n",
        "print('array2d[[0,1]] => ',array5.tolist())"
      ],
      "metadata": {
        "colab": {
          "base_uri": "https://localhost:8080/"
        },
        "id": "kVO7rCshQCJW",
        "outputId": "49659c39-d3d2-460d-f9a1-10f9342922a8"
      },
      "execution_count": 26,
      "outputs": [
        {
          "output_type": "stream",
          "name": "stdout",
          "text": [
            "array2d[[0,1],2] =>  [3, 6]\n",
            "array2d[[0:1],0:2] =>  [[1, 2], [4, 5]]\n",
            "array2d[[0,1]] =>  [[1, 2, 3], [4, 5, 6]]\n"
          ]
        }
      ]
    },
    {
      "cell_type": "markdown",
      "source": [
        "> array2d[[0,1],2] 로우 축에 팬시 인덱싱인 [0,1]을, 칼럼 축에는 단일 값 인덱싱 2를 적용\n",
        "\n",
        "> array2d[[0,1],0:2]는 ((0,0),(0,1)),((1,0),(1,1))이 적용"
      ],
      "metadata": {
        "id": "vPjOmIYGRwDs"
      }
    },
    {
      "cell_type": "markdown",
      "source": [
        "####(4) 불린 인덱싱\n",
        "  * 조건 필터링과 검색 가능\n",
        "  * for loop / if else 문을 간단하게 구현 가능\n",
        "  *ndarray의 인덱스를 지정하는 []내에 조건문을 그대로 기재하기만 하면 됨"
      ],
      "metadata": {
        "id": "AL-6nIR4SI2-"
      }
    },
    {
      "cell_type": "code",
      "source": [
        "# 불린 인덱싱\n",
        "array1d=np.arange(start=1,stop=10)\n",
        "# []안에 array1d>5 Boolean indexing을 적용\n",
        "array3=array1d[array1d>5]\n",
        "print('array1d > 5 불린 인덱싱 결과 값 : ', array3)"
      ],
      "metadata": {
        "colab": {
          "base_uri": "https://localhost:8080/"
        },
        "id": "WgoShCwLS-K9",
        "outputId": "4db157f2-1fc0-4995-90bb-665f1eae1479"
      },
      "execution_count": 27,
      "outputs": [
        {
          "output_type": "stream",
          "name": "stdout",
          "text": [
            "array1d > 5 불린 인덱싱 결과 값 :  [6 7 8 9]\n"
          ]
        }
      ]
    },
    {
      "cell_type": "code",
      "source": [
        "# 불린 인덱싱의 조건 필터링 과정\n",
        "array1d>5\n",
        "\n",
        "boolean_indexes=np.array([False,False,False,False,False,True,True,True,True])\n",
        "array3=array1d[boolean_indexes]\n",
        "print('불린 인덱스로 필터링 결과 : ',array3)\n",
        "\n",
        "indexes=np.array([5,6,7,8])\n",
        "array4=array1d[indexes]\n",
        "print('일반 인덱스로 필터링 결과 : ',array4)"
      ],
      "metadata": {
        "colab": {
          "base_uri": "https://localhost:8080/"
        },
        "id": "-DGpsK_JTSDP",
        "outputId": "13df5b98-f1b1-4bce-bfee-4ebb0a772123"
      },
      "execution_count": 30,
      "outputs": [
        {
          "output_type": "stream",
          "name": "stdout",
          "text": [
            "불린 인덱스로 필터링 결과 :  [6 7 8 9]\n",
            "일반 인덱스로 필터링 결과 :  [6 7 8 9]\n"
          ]
        }
      ]
    },
    {
      "cell_type": "markdown",
      "source": [
        "> 5보다 큰 데이터가 있는 위치는 True 값이, 그렇지 않은 경우는 False 값이 반환됨\n",
        "\n",
        "> 조건으로 반환된 이 ndarray 객체를 인덱싱을 지정하는 []내에 입력하면 False값은 무시하고 True 값이 있는 위치 인덱스 값으로 자동 변환해 해당하는 인덱스 위치의 데이터만 반환"
      ],
      "metadata": {
        "id": "_Lme-Ib6TcQ7"
      }
    },
    {
      "cell_type": "markdown",
      "source": [
        "  * 불린 인덱싱이 동작하는 단계 순차적 도식화\n",
        "\n",
        "     step1 : array1d>5 와 같이 ndarray의 필터링 조건을 [] 안에 기재\n",
        "\n",
        "     step2 : False 값은 무시하고 True 값에 해당하는 인덱스값만 저장 (유의해야 할 사항은 True 값 자체인 1을 저장하는 것이 아니라 True 값을 가진 인덱스를 저장한다는 것)\n",
        "     \n",
        "     step3 : 저장된 인덱스 데이터 세트로 ndarray 조회 "
      ],
      "metadata": {
        "id": "GXo8YfSXUIlO"
      }
    },
    {
      "cell_type": "markdown",
      "source": [
        "### 6) 행렬의 정렬 - sort()와 argsort()"
      ],
      "metadata": {
        "id": "oyG15wwQUoCi"
      }
    },
    {
      "cell_type": "markdown",
      "source": [
        "####(1) 행렬 정렬\n",
        "  * np.sort() :  넘파이에서 sort()를 호출하는 방식\n",
        "    * 원 행렬은 그대로 유지한 채 원 행렬의 정렬된 행렬을 반환\n",
        "  \n",
        "  * ndarray.sort() : 행렬 자체에서 sort()를 호출하는 방식\n",
        "    * 원 행렬 자체를 정렬한 형태로 변환, 반환 값은 None"
      ],
      "metadata": {
        "id": "qz4AtvVDU1i7"
      }
    },
    {
      "cell_type": "code",
      "source": [
        "org_array=np.array([3,1,9,5])\n",
        "print('원본 행렬 : ',org_array)\n",
        "\n",
        "#np.sort()로 정렬\n",
        "sort_array1=np.sort(org_array)\n",
        "print('np.sort() 호출 후 반환된 정렬 행렬 : ', sort_array1)\n",
        "print('np.sort() 호출 후 원본 행렬 : ', org_array)\n",
        "\n",
        "#ndarray.sort()로 정렬\n",
        "sort_array2=org_array.sort()\n",
        "print('org_array.sort() 호출 후 반환된 행렬 : ',sort_array2)\n",
        "print('org_array.sort() 호출 후 원본 행렬 : ',org_array)\n"
      ],
      "metadata": {
        "colab": {
          "base_uri": "https://localhost:8080/"
        },
        "id": "oZNt6s5lVyWb",
        "outputId": "fd5445d8-40aa-4e66-886d-956c1f581539"
      },
      "execution_count": 32,
      "outputs": [
        {
          "output_type": "stream",
          "name": "stdout",
          "text": [
            "원본 행렬 :  [3 1 9 5]\n",
            "np.sort() 호출 후 반환된 정렬 행렬 :  [1 3 5 9]\n",
            "np.sort() 호출 후 원본 행렬 :  [3 1 9 5]\n",
            "org_array.sort() 호출 후 반환된 행렬 :  None\n",
            "org_array.sort() 호출 후 원본 행렬 :  [1 3 5 9]\n"
          ]
        }
      ]
    },
    {
      "cell_type": "markdown",
      "source": [
        "> 원본 행렬에 대해서 np.sort()는 원본 행렬을 변경하지 않고 정렬된 형태로 반환했으며, ndarray.sort()는 원본 행렬 자체를 정렬한 값으로 변환함"
      ],
      "metadata": {
        "id": "dsZPh1HHWaN4"
      }
    },
    {
      "cell_type": "markdown",
      "source": [
        "  * np.sort()나 ndarray.sort() 모두 깁ㄴ적으로 오름차순으로 행렬 내 원소를 정렬함\n",
        "  * 내림차순으로 정렬하기 위해서는 [::-1] 을 적용\n",
        "  "
      ],
      "metadata": {
        "id": "6m8-vG9TWkSy"
      }
    },
    {
      "cell_type": "code",
      "source": [
        "# 내림차순 정렬\n",
        "sort_array1_desc=np.sort(org_array[::-1])\n",
        "print('내림차순으로 정렬 : ',sort_array1_desc)"
      ],
      "metadata": {
        "colab": {
          "base_uri": "https://localhost:8080/"
        },
        "id": "tGzQxKxmWuaD",
        "outputId": "1ad25d41-8ab7-4533-f6dd-90ea489ef71f"
      },
      "execution_count": 33,
      "outputs": [
        {
          "output_type": "stream",
          "name": "stdout",
          "text": [
            "내림차순으로 정렬 :  [1 3 5 9]\n"
          ]
        }
      ]
    },
    {
      "cell_type": "markdown",
      "source": [
        "  * 행렬이 2차원 이상일 경우에 axis 축 값 설정을 통해 로우방향, 또는 칼럼 방향으로 정렬을 수행할 수 있음"
      ],
      "metadata": {
        "id": "7pu55BpgW7KS"
      }
    },
    {
      "cell_type": "code",
      "source": [
        "array2d=np.array([[8,12],\n",
        "                  [7,1]])\n",
        "\n",
        "sort_array2d_axis0=np.sort(array2d,axis=0)\n",
        "print('로우방향으로 정렬 : \\n' , sort_array2d_axis0) \n",
        "#세로 방향으로 정렬, 같은 열에 있는 데이터들끼리 정렬\n",
        "\n",
        "sort_array2d_axis1=np.sort(array2d,axis=1)\n",
        "print('칼럼 방향으로 정렬 : \\n', sort_array2d_axis1)\n",
        "#가로 방향으로 정렬, 같은 행에 있는 데이터들끼리 정렬"
      ],
      "metadata": {
        "colab": {
          "base_uri": "https://localhost:8080/"
        },
        "id": "RTDgs87XXC-Y",
        "outputId": "c0698d20-65e4-45f0-8613-1837cf530faa"
      },
      "execution_count": 36,
      "outputs": [
        {
          "output_type": "stream",
          "name": "stdout",
          "text": [
            "로우방향으로 정렬 : \n",
            " [[ 7  1]\n",
            " [ 8 12]]\n",
            "칼럼 방향으로 정렬 : \n",
            " [[ 8 12]\n",
            " [ 1  7]]\n"
          ]
        }
      ]
    },
    {
      "cell_type": "markdown",
      "source": [
        "####(2) 정렬된 행렬의 인덱스를 반환하기\n",
        "\n",
        "  * np.argsort() : 정렬된 행렬의 원본 행렬 인덱스를 ndarray 형으로 반환\n",
        "\n",
        "    * 원본 행렬이 정렬되었을 때 기존 원본 행렬의 원소에 대한 인덱스를 피룡로 할 때 사용\n"
      ],
      "metadata": {
        "id": "aJTAShHOX2PC"
      }
    },
    {
      "cell_type": "code",
      "source": [
        "org_array=np.array([3,1,9,5])\n",
        "sort_indices=np.argsort(org_array)\n",
        "print(type(sort_indices))\n",
        "print('행렬 정렬 시 원본 행렬의 인덱스 : ', sort_indices)"
      ],
      "metadata": {
        "colab": {
          "base_uri": "https://localhost:8080/"
        },
        "id": "Y80WpzcoYIpr",
        "outputId": "f5437042-27d5-4411-a1f7-2bb75f4705a2"
      },
      "execution_count": 37,
      "outputs": [
        {
          "output_type": "stream",
          "name": "stdout",
          "text": [
            "<class 'numpy.ndarray'>\n",
            "행렬 정렬 시 원본 행렬의 인덱스 :  [1 0 3 2]\n"
          ]
        }
      ]
    },
    {
      "cell_type": "markdown",
      "source": [
        "  * 내림차순으로 정렬 시에 원본 행렬의 인덱스를 구하는 것도 np.argsort()[::-1]과 같이 적용하면 됨\n",
        "  "
      ],
      "metadata": {
        "id": "MzmqmILvYcTT"
      }
    },
    {
      "cell_type": "code",
      "source": [
        "# np.argsort()[::-1]\n",
        "org_array=np.array([3,1,9,5])\n",
        "sort_indices_desc=np.argsort(org_array)[::-1]\n",
        "print('행렬 내림차순 정렬 시 원본 행렬의 인덱스 : ', sort_indices_desc)\n"
      ],
      "metadata": {
        "colab": {
          "base_uri": "https://localhost:8080/"
        },
        "id": "kCHvHSzBYkDD",
        "outputId": "702d76cd-8be6-45ac-bf87-6c6b0a827362"
      },
      "execution_count": 39,
      "outputs": [
        {
          "output_type": "stream",
          "name": "stdout",
          "text": [
            "행렬 내림차순 정렬 시 원본 행렬의 인덱스 :  [2 3 0 1]\n"
          ]
        }
      ]
    },
    {
      "cell_type": "markdown",
      "source": [
        "\n",
        "  * 넘파이의 ndarray는  RDBMS 의 TABLE 칼럼이나 뒤에 소개할 판다스 DataFrame 칼럼과 같은 메타 데이터를 가질 수 없음. 따라서 실제 값과 그 값이 뜻하는 메타 데이터를 별도의 ndarray로 각각 가져야만 함\n",
        "    * ex. 학생의 이름과 시험 성적을 ndarray 형태의 데이터로 가지려면 학생 ndarray와 성적 ndarray를 각각 가져야 함\n",
        "    * 이 때 시험 성적순으로 학생 이름을 출력하고자 한다면 np.argsort(성적)을 이용해 반환된 인덱스를 학생 ndarray에 팬시 인덱스로 적용해 추출할 수 있음."
      ],
      "metadata": {
        "id": "xxe39agQY4E1"
      }
    },
    {
      "cell_type": "code",
      "source": [
        "import numpy as np\n",
        "\n",
        "name_array=np.array(['John','Mike','Sarah','Kate','Samuel'])\n",
        "score_array=np.array([78,95,84,98,88])\n",
        "\n",
        "sort_indices_asc=np.argsort(score_array)\n",
        "print('성적 오름차순 정렬 시 score_array의 인덱스 : ',sort_indices_asc)\n",
        "print('성적 오름차순으로 name_array의 이름 출력 : ', name_array[sort_indices_asc])"
      ],
      "metadata": {
        "colab": {
          "base_uri": "https://localhost:8080/"
        },
        "id": "oXq3WFP1Zkyg",
        "outputId": "aa8e8b74-b364-4909-b13a-0126ed8dfc9a"
      },
      "execution_count": 43,
      "outputs": [
        {
          "output_type": "stream",
          "name": "stdout",
          "text": [
            "성적 오름차순 정렬 시 score_array의 인덱스 :  [0 2 4 1 3]\n",
            "성적 오름차순으로 name_array의 이름 출력 :  ['John' 'Sarah' 'Samuel' 'Mike' 'Kate']\n"
          ]
        }
      ]
    },
    {
      "cell_type": "markdown",
      "source": [
        "###7) 선형대수 연산 - 행렬 내적과 전치 행렬 구하기"
      ],
      "metadata": {
        "id": "7QjS5mJGahGr"
      }
    },
    {
      "cell_type": "markdown",
      "source": [
        "####(1) 행렬 내적(행렬 곱)\n",
        "  * 행렬 내적 = 행렬 곱\n",
        "  * np.dot()\n",
        "  * 행렬의 내적은 왼쪽 행렬의 행과 오른쪽 행렬의 열의 원소들을 순차적으로 곱한 뒤 그 결과를 모두 더한 값\n",
        "  * 왼쪽 행렬의 열 개수와 오른쪽 행렬의 행 개수가 동일해야 내적 연산이 가능함\n",
        "  "
      ],
      "metadata": {
        "id": "0TCvDAzfalvM"
      }
    },
    {
      "cell_type": "code",
      "source": [
        "# 행렬 내적\n",
        "A=np.array([[1,2,3],\n",
        "            [4,5,6]])\n",
        "B=np.array([[7,8],\n",
        "            [9,10],\n",
        "            [11,12]])\n",
        "\n",
        "dot_product=np.dot(A,B)\n",
        "print('행렬 내적 결과 : \\n', dot_product)\n"
      ],
      "metadata": {
        "colab": {
          "base_uri": "https://localhost:8080/"
        },
        "id": "3LS7yaeza88V",
        "outputId": "e2af5a7a-5196-451d-863c-c7935efcebe8"
      },
      "execution_count": 44,
      "outputs": [
        {
          "output_type": "stream",
          "name": "stdout",
          "text": [
            "행렬 내적 결과 : \n",
            " [[ 58  64]\n",
            " [139 154]]\n"
          ]
        }
      ]
    },
    {
      "cell_type": "markdown",
      "source": [
        "####(2) 전치 행렬\n",
        "  * 원 행렬에서 행과 열 위치를 교환한 원소로 구성한 행렬\n",
        "  * transpose()\n",
        "  "
      ],
      "metadata": {
        "id": "zY_5j5MybTzN"
      }
    },
    {
      "cell_type": "code",
      "source": [
        "# 전치 행렬\n",
        "A=np.array([[1,2],\n",
        "            [3,4]])\n",
        "transpose_mat=np.transpose(A)\n",
        "print('A의 전치행렬 : \\n',transpose_mat)"
      ],
      "metadata": {
        "colab": {
          "base_uri": "https://localhost:8080/"
        },
        "id": "EzZT2Y62bfxQ",
        "outputId": "4419a5b4-0df1-4821-dd31-983eff0f9016"
      },
      "execution_count": 46,
      "outputs": [
        {
          "output_type": "stream",
          "name": "stdout",
          "text": [
            "A의 전치행렬 : \n",
            " [[1 3]\n",
            " [2 4]]\n"
          ]
        }
      ]
    }
  ]
}