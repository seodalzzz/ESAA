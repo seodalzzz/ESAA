{
  "nbformat": 4,
  "nbformat_minor": 0,
  "metadata": {
    "colab": {
      "provenance": [],
      "toc_visible": true,
      "authorship_tag": "ABX9TyNBlDKUa1jT0ice2JZ8aqSJ",
      "include_colab_link": true
    },
    "kernelspec": {
      "name": "python3",
      "display_name": "Python 3"
    },
    "language_info": {
      "name": "python"
    }
  },
  "cells": [
    {
      "cell_type": "markdown",
      "metadata": {
        "id": "view-in-github",
        "colab_type": "text"
      },
      "source": [
        "<a href=\"https://colab.research.google.com/github/seodalzzz/ESAA/blob/Python_Machine_Learning/Pytorch_CHAP3_LinearRegression.ipynb\" target=\"_parent\"><img src=\"https://colab.research.google.com/assets/colab-badge.svg\" alt=\"Open In Colab\"/></a>"
      ]
    },
    {
      "cell_type": "markdown",
      "source": [
        "# **CHAP1. 선형회귀(Linear Rgerssion)**"
      ],
      "metadata": {
        "id": "FZ0W-iKmZTed"
      }
    },
    {
      "cell_type": "markdown",
      "source": [
        "이론적인 내용은 생략\n",
        "\n",
        "---"
      ],
      "metadata": {
        "id": "dLRaO-R0Z3TL"
      }
    },
    {
      "cell_type": "markdown",
      "source": [
        "## 1.선형회귀 - 파이토치로 선형회귀 구현하기"
      ],
      "metadata": {
        "id": "7XHAPD0SZ7tD"
      }
    },
    {
      "cell_type": "markdown",
      "source": [
        "###1) 기본 셋팅"
      ],
      "metadata": {
        "id": "AAb6pbqkZ_5X"
      }
    },
    {
      "cell_type": "code",
      "source": [
        "import torch\n",
        "import torch.nn as nn\n",
        "import torch.nn.functional as F\n",
        "import torch.optim as optim"
      ],
      "metadata": {
        "id": "8A92KkYDaB8g"
      },
      "execution_count": 1,
      "outputs": []
    },
    {
      "cell_type": "code",
      "source": [
        "# 현재 실습하고 있는 파이썬 코드를 재실행해도 다음에도 같은 결과가 나오도록 랜덤 시드(random seed)를 줍니다.\n",
        "torch.manual_seed(1)"
      ],
      "metadata": {
        "colab": {
          "base_uri": "https://localhost:8080/"
        },
        "id": "sSCwL0RMaDnN",
        "outputId": "91d09991-c174-4d4a-a204-58fee393ff02"
      },
      "execution_count": 2,
      "outputs": [
        {
          "output_type": "execute_result",
          "data": {
            "text/plain": [
              "<torch._C.Generator at 0x7ff296f662f0>"
            ]
          },
          "metadata": {},
          "execution_count": 2
        }
      ]
    },
    {
      "cell_type": "markdown",
      "source": [
        "###2) 변수 선언"
      ],
      "metadata": {
        "id": "fX3BJ2WDaE1a"
      }
    },
    {
      "cell_type": "code",
      "source": [
        "x_train = torch.FloatTensor([[1], [2], [3]])\n",
        "y_train = torch.FloatTensor([[2], [4], [6]])"
      ],
      "metadata": {
        "id": "psHQjLBdaHbQ"
      },
      "execution_count": 3,
      "outputs": []
    },
    {
      "cell_type": "code",
      "execution_count": 4,
      "metadata": {
        "colab": {
          "base_uri": "https://localhost:8080/"
        },
        "id": "4tzvO5TEZNfo",
        "outputId": "7a8b55e1-0596-423c-d8a2-70e63f6e519c"
      },
      "outputs": [
        {
          "output_type": "stream",
          "name": "stdout",
          "text": [
            "tensor([[1.],\n",
            "        [2.],\n",
            "        [3.]])\n",
            "torch.Size([3, 1])\n"
          ]
        }
      ],
      "source": [
        "print(x_train)\n",
        "print(x_train.shape)"
      ]
    },
    {
      "cell_type": "code",
      "source": [
        "print(y_train)\n",
        "print(y_train.shape)"
      ],
      "metadata": {
        "colab": {
          "base_uri": "https://localhost:8080/"
        },
        "id": "6B26OTgVaLb-",
        "outputId": "0e85d266-28f6-41ce-df57-383b0a3f7027"
      },
      "execution_count": 5,
      "outputs": [
        {
          "output_type": "stream",
          "name": "stdout",
          "text": [
            "tensor([[2.],\n",
            "        [4.],\n",
            "        [6.]])\n",
            "torch.Size([3, 1])\n"
          ]
        }
      ]
    },
    {
      "cell_type": "markdown",
      "source": [
        "###3) 가중치와 편향의 초기화\n",
        "  * 선형회귀의 목표는 가장 잘 맞는 직선을 정의하는 가중치를 찾는 것\n",
        "  * 가중치 W를 0으로 초기화하고, 이 값을 출력"
      ],
      "metadata": {
        "id": "s70ijqafaMt0"
      }
    },
    {
      "cell_type": "code",
      "source": [
        "# 가중치 W를 0으로 초기화하고 학습을 통해 값이 변경되는 변수임을 명시함.\n",
        "W = torch.zeros(1, requires_grad=True) \n",
        "# 가중치 W를 출력\n",
        "print(W) "
      ],
      "metadata": {
        "colab": {
          "base_uri": "https://localhost:8080/"
        },
        "id": "yhetpT83aXYk",
        "outputId": "49ac5820-bfa2-4ceb-b1d2-f6ae8d20c338"
      },
      "execution_count": 6,
      "outputs": [
        {
          "output_type": "stream",
          "name": "stdout",
          "text": [
            "tensor([0.], requires_grad=True)\n"
          ]
        }
      ]
    },
    {
      "cell_type": "markdown",
      "source": [
        "  * requires_grad = True\n",
        "    * 해당 변수가 학습을 통해 계속 값이 변경되는 변수임을 의미"
      ],
      "metadata": {
        "id": "XuF4Zf6PabXj"
      }
    },
    {
      "cell_type": "markdown",
      "source": [
        "* 편향 b도 0으로 초기화하고, 학습을 통해 값이 변경되는 변수임을 명시"
      ],
      "metadata": {
        "id": "kyJoJbeJajqU"
      }
    },
    {
      "cell_type": "code",
      "source": [
        "b = torch.zeros(1, requires_grad=True)\n",
        "print(b)"
      ],
      "metadata": {
        "colab": {
          "base_uri": "https://localhost:8080/"
        },
        "id": "1ASNZXPxaakf",
        "outputId": "42d28453-6fba-465f-abf7-dd2d016f87a8"
      },
      "execution_count": 7,
      "outputs": [
        {
          "output_type": "stream",
          "name": "stdout",
          "text": [
            "tensor([0.], requires_grad=True)\n"
          ]
        }
      ]
    },
    {
      "cell_type": "markdown",
      "source": [
        "###4) 가설 세우기"
      ],
      "metadata": {
        "id": "Shz7KbYoap9L"
      }
    },
    {
      "cell_type": "code",
      "source": [
        "hypothesis = x_train * W + b\n",
        "print(hypothesis)"
      ],
      "metadata": {
        "colab": {
          "base_uri": "https://localhost:8080/"
        },
        "id": "-r46ohgtatoQ",
        "outputId": "fc555f60-4d86-46dd-df52-3c0a155bc6a4"
      },
      "execution_count": 8,
      "outputs": [
        {
          "output_type": "stream",
          "name": "stdout",
          "text": [
            "tensor([[0.],\n",
            "        [0.],\n",
            "        [0.]], grad_fn=<AddBackward0>)\n"
          ]
        }
      ]
    },
    {
      "cell_type": "markdown",
      "source": [
        "###5) 비용 함수 선언하기\n",
        "  * 평균 제곱 오차 사용"
      ],
      "metadata": {
        "id": "wUEhWx8yauc4"
      }
    },
    {
      "cell_type": "code",
      "source": [
        "# 앞서 배운 torch.mean으로 평균을 구한다.\n",
        "cost = torch.mean((hypothesis - y_train) ** 2) \n",
        "print(cost)"
      ],
      "metadata": {
        "colab": {
          "base_uri": "https://localhost:8080/"
        },
        "id": "xMCbfxxUazbL",
        "outputId": "f90093a5-bf1f-41e4-d39f-3e105ee4849a"
      },
      "execution_count": 9,
      "outputs": [
        {
          "output_type": "stream",
          "name": "stdout",
          "text": [
            "tensor(18.6667, grad_fn=<MeanBackward0>)\n"
          ]
        }
      ]
    },
    {
      "cell_type": "markdown",
      "source": [
        "###6) 경사 하강법 구현하기\n"
      ],
      "metadata": {
        "id": "ywzDEhwDa2LE"
      }
    },
    {
      "cell_type": "code",
      "source": [
        "optimizer = optim.SGD([W, b], lr=0.01)"
      ],
      "metadata": {
        "id": "o4zfhHVoa5pc"
      },
      "execution_count": 10,
      "outputs": []
    },
    {
      "cell_type": "markdown",
      "source": [
        "  * optimizer.zero_grad()\n",
        "    * 미분을 통해 얻은 기울기를 0으로 초기화\n",
        "    * 기울기를 초기화해야만 새로운 가중치 편향에 대해서 새로운 기울기를 구할 수 있음\n",
        "  * cost.backword()\n",
        "    * 가중치 W와 편향 b에 대한 기울기가 계산됨\n",
        "  * optimizer.step()\n",
        "    * 인수로 들어갔던 W와 b에서 리턴되는 변수들의 기울기에 학습률을 곱하여 빼줌으로서 업데이트"
      ],
      "metadata": {
        "id": "JDYXD-Iwa70p"
      }
    },
    {
      "cell_type": "code",
      "source": [
        "# gradient를 0으로 초기화\n",
        "optimizer.zero_grad() \n",
        "# 비용 함수를 미분하여 gradient 계산\n",
        "cost.backward() \n",
        "# W와 b를 업데이트\n",
        "optimizer.step() "
      ],
      "metadata": {
        "id": "NlZJchIIbanF"
      },
      "execution_count": 11,
      "outputs": []
    },
    {
      "cell_type": "markdown",
      "source": [
        "###7) 전체 코드"
      ],
      "metadata": {
        "id": "_JX6vEs_bdOn"
      }
    },
    {
      "cell_type": "code",
      "source": [
        "# 데이터\n",
        "x_train = torch.FloatTensor([[1], [2], [3]])\n",
        "y_train = torch.FloatTensor([[2], [4], [6]])\n",
        "# 모델 초기화\n",
        "W = torch.zeros(1, requires_grad=True)\n",
        "b = torch.zeros(1, requires_grad=True)\n",
        "# optimizer 설정\n",
        "optimizer = optim.SGD([W, b], lr=0.01)\n",
        "\n",
        "nb_epochs = 1999 # 원하는만큼 경사 하강법을 반복\n",
        "for epoch in range(nb_epochs + 1):\n",
        "\n",
        "    # H(x) 계산\n",
        "    hypothesis = x_train * W + b\n",
        "\n",
        "    # cost 계산\n",
        "    cost = torch.mean((hypothesis - y_train) ** 2)\n",
        "\n",
        "    # cost로 H(x) 개선\n",
        "    optimizer.zero_grad()\n",
        "    cost.backward()\n",
        "    optimizer.step()\n",
        "\n",
        "    # 100번마다 로그 출력\n",
        "    if epoch % 100 == 0:\n",
        "        print('Epoch {:4d}/{} W: {:.3f}, b: {:.3f} Cost: {:.6f}'.format(\n",
        "            epoch, nb_epochs, W.item(), b.item(), cost.item()\n",
        "        ))"
      ],
      "metadata": {
        "colab": {
          "base_uri": "https://localhost:8080/"
        },
        "id": "M4Oq6eb-bgCX",
        "outputId": "2675b8fa-96d8-4de9-8764-6b7a72c7729a"
      },
      "execution_count": 12,
      "outputs": [
        {
          "output_type": "stream",
          "name": "stdout",
          "text": [
            "Epoch    0/1999 W: 0.187, b: 0.080 Cost: 18.666666\n",
            "Epoch  100/1999 W: 1.746, b: 0.578 Cost: 0.048171\n",
            "Epoch  200/1999 W: 1.800, b: 0.454 Cost: 0.029767\n",
            "Epoch  300/1999 W: 1.843, b: 0.357 Cost: 0.018394\n",
            "Epoch  400/1999 W: 1.876, b: 0.281 Cost: 0.011366\n",
            "Epoch  500/1999 W: 1.903, b: 0.221 Cost: 0.007024\n",
            "Epoch  600/1999 W: 1.924, b: 0.174 Cost: 0.004340\n",
            "Epoch  700/1999 W: 1.940, b: 0.136 Cost: 0.002682\n",
            "Epoch  800/1999 W: 1.953, b: 0.107 Cost: 0.001657\n",
            "Epoch  900/1999 W: 1.963, b: 0.084 Cost: 0.001024\n",
            "Epoch 1000/1999 W: 1.971, b: 0.066 Cost: 0.000633\n",
            "Epoch 1100/1999 W: 1.977, b: 0.052 Cost: 0.000391\n",
            "Epoch 1200/1999 W: 1.982, b: 0.041 Cost: 0.000242\n",
            "Epoch 1300/1999 W: 1.986, b: 0.032 Cost: 0.000149\n",
            "Epoch 1400/1999 W: 1.989, b: 0.025 Cost: 0.000092\n",
            "Epoch 1500/1999 W: 1.991, b: 0.020 Cost: 0.000057\n",
            "Epoch 1600/1999 W: 1.993, b: 0.016 Cost: 0.000035\n",
            "Epoch 1700/1999 W: 1.995, b: 0.012 Cost: 0.000022\n",
            "Epoch 1800/1999 W: 1.996, b: 0.010 Cost: 0.000013\n",
            "Epoch 1900/1999 W: 1.997, b: 0.008 Cost: 0.000008\n"
          ]
        }
      ]
    },
    {
      "cell_type": "markdown",
      "source": [
        "* 에포크 : 전체 훈련 데이터가 학습에 한 번 사용된 주기"
      ],
      "metadata": {
        "id": "QmuklJJ-bhnr"
      }
    },
    {
      "cell_type": "markdown",
      "source": [
        "###8) optimizer.zero_grad()가 필요한 이유"
      ],
      "metadata": {
        "id": "kAdPoUc3bn7c"
      }
    },
    {
      "cell_type": "markdown",
      "source": [
        "* 파이토치는 미분을 통해 얻은 기울기를 이전에 계산된 기울기 값에 누적시킴"
      ],
      "metadata": {
        "id": "xLgy-1lQbtAd"
      }
    },
    {
      "cell_type": "code",
      "source": [
        "import torch\n",
        "w = torch.tensor(2.0, requires_grad=True)\n",
        "\n",
        "nb_epochs = 20\n",
        "for epoch in range(nb_epochs + 1):\n",
        "\n",
        "  z = 2*w\n",
        "\n",
        "  z.backward()\n",
        "  print('수식을 w로 미분한 값 : {}'.format(w.grad))"
      ],
      "metadata": {
        "colab": {
          "base_uri": "https://localhost:8080/"
        },
        "id": "2JAy9IPscWSY",
        "outputId": "1cee823e-c91e-4e7b-959c-42b4c98d3c77"
      },
      "execution_count": 13,
      "outputs": [
        {
          "output_type": "stream",
          "name": "stdout",
          "text": [
            "수식을 w로 미분한 값 : 2.0\n",
            "수식을 w로 미분한 값 : 4.0\n",
            "수식을 w로 미분한 값 : 6.0\n",
            "수식을 w로 미분한 값 : 8.0\n",
            "수식을 w로 미분한 값 : 10.0\n",
            "수식을 w로 미분한 값 : 12.0\n",
            "수식을 w로 미분한 값 : 14.0\n",
            "수식을 w로 미분한 값 : 16.0\n",
            "수식을 w로 미분한 값 : 18.0\n",
            "수식을 w로 미분한 값 : 20.0\n",
            "수식을 w로 미분한 값 : 22.0\n",
            "수식을 w로 미분한 값 : 24.0\n",
            "수식을 w로 미분한 값 : 26.0\n",
            "수식을 w로 미분한 값 : 28.0\n",
            "수식을 w로 미분한 값 : 30.0\n",
            "수식을 w로 미분한 값 : 32.0\n",
            "수식을 w로 미분한 값 : 34.0\n",
            "수식을 w로 미분한 값 : 36.0\n",
            "수식을 w로 미분한 값 : 38.0\n",
            "수식을 w로 미분한 값 : 40.0\n",
            "수식을 w로 미분한 값 : 42.0\n"
          ]
        }
      ]
    },
    {
      "cell_type": "markdown",
      "source": [
        "## 2.자동 미분"
      ],
      "metadata": {
        "id": "h3j-MY8gcndK"
      }
    },
    {
      "cell_type": "markdown",
      "source": [
        "### 1) 자동 미분 실습하기\n",
        "  * 2w^2+5 라는 식을 세워보고, w에 대해 미분"
      ],
      "metadata": {
        "id": "4q0tmEOGcyZ2"
      }
    },
    {
      "cell_type": "code",
      "source": [
        "import torch"
      ],
      "metadata": {
        "id": "r_aSckBUdjXG"
      },
      "execution_count": 14,
      "outputs": []
    },
    {
      "cell_type": "markdown",
      "source": [
        "* 값이 2인 임의의 스칼라 텐서 w를 선언\n",
        "* required_grad=True : 텐서에 대한 기울기를 w.grad에 저장"
      ],
      "metadata": {
        "id": "Q33Eg2mgdvXB"
      }
    },
    {
      "cell_type": "code",
      "source": [
        "w = torch.tensor(2.0, requires_grad=True)"
      ],
      "metadata": {
        "id": "MRVLS_J5duc9"
      },
      "execution_count": 15,
      "outputs": []
    },
    {
      "cell_type": "markdown",
      "source": [
        "* 수식을 저장"
      ],
      "metadata": {
        "id": "Cgno6RLNduw7"
      }
    },
    {
      "cell_type": "code",
      "source": [
        "y = w**2\n",
        "z = 2*y + 5"
      ],
      "metadata": {
        "id": "YWkySqKpd7U4"
      },
      "execution_count": 16,
      "outputs": []
    },
    {
      "cell_type": "markdown",
      "source": [
        "* .backword()\n",
        "  * 해당 수식의 w에 대한 기울기를 계산"
      ],
      "metadata": {
        "id": "HLt48Y-Ad8XW"
      }
    },
    {
      "cell_type": "code",
      "source": [
        "z.backward()"
      ],
      "metadata": {
        "id": "MNGwBUWmd_-i"
      },
      "execution_count": 17,
      "outputs": []
    },
    {
      "cell_type": "markdown",
      "source": [
        "* w.grad를 출력하면 w가 속한 수식을 w로 미분한 값이 저장된 것을 확인할 수 있음"
      ],
      "metadata": {
        "id": "3CkiNPWfeBC2"
      }
    },
    {
      "cell_type": "code",
      "source": [
        "print('수식을 w로 미분한 값 : {}'.format(w.grad))"
      ],
      "metadata": {
        "colab": {
          "base_uri": "https://localhost:8080/"
        },
        "id": "d830exI7eHxT",
        "outputId": "2a29f2b4-01bf-449d-e85e-9f1ef5484160"
      },
      "execution_count": 18,
      "outputs": [
        {
          "output_type": "stream",
          "name": "stdout",
          "text": [
            "수식을 w로 미분한 값 : 8.0\n"
          ]
        }
      ]
    },
    {
      "cell_type": "markdown",
      "source": [
        "## 3.다중 선형 회귀"
      ],
      "metadata": {
        "id": "iGq5gJIaeJBr"
      }
    },
    {
      "cell_type": "markdown",
      "source": [
        "### 1)파이토치로 구현하기"
      ],
      "metadata": {
        "id": "r8KUto36eOoA"
      }
    },
    {
      "cell_type": "code",
      "source": [
        "import torch\n",
        "import torch.nn as nn\n",
        "import torch.nn.functional as F\n",
        "import torch.optim as optim"
      ],
      "metadata": {
        "id": "ZVj_qw2QeRUO"
      },
      "execution_count": 19,
      "outputs": []
    },
    {
      "cell_type": "code",
      "source": [
        "torch.manual_seed(1)"
      ],
      "metadata": {
        "colab": {
          "base_uri": "https://localhost:8080/"
        },
        "id": "hucNXTIgeSv4",
        "outputId": "b02f7719-fed4-4005-c887-73d9467005d5"
      },
      "execution_count": 20,
      "outputs": [
        {
          "output_type": "execute_result",
          "data": {
            "text/plain": [
              "<torch._C.Generator at 0x7ff296f662f0>"
            ]
          },
          "metadata": {},
          "execution_count": 20
        }
      ]
    },
    {
      "cell_type": "markdown",
      "source": [
        "* 훈련 데이터 선언\n",
        "  * x가 3개"
      ],
      "metadata": {
        "id": "AEG0Ngo3eVpw"
      }
    },
    {
      "cell_type": "code",
      "source": [
        "# 훈련 데이터\n",
        "x1_train = torch.FloatTensor([[73], [93], [89], [96], [73]])\n",
        "x2_train = torch.FloatTensor([[80], [88], [91], [98], [66]])\n",
        "x3_train = torch.FloatTensor([[75], [93], [90], [100], [70]])\n",
        "y_train = torch.FloatTensor([[152], [185], [180], [196], [142]])"
      ],
      "metadata": {
        "id": "12d8LBaUeYR-"
      },
      "execution_count": 21,
      "outputs": []
    },
    {
      "cell_type": "markdown",
      "source": [
        "* 가중치 w와 편향 b를 선언\n",
        "  * w도 3개 선언"
      ],
      "metadata": {
        "id": "FmArdaETecoc"
      }
    },
    {
      "cell_type": "code",
      "source": [
        "# 가중치 w와 편향 b 초기화\n",
        "w1 = torch.zeros(1, requires_grad=True)\n",
        "w2 = torch.zeros(1, requires_grad=True)\n",
        "w3 = torch.zeros(1, requires_grad=True)\n",
        "b = torch.zeros(1, requires_grad=True)"
      ],
      "metadata": {
        "id": "5775QSM7ekjS"
      },
      "execution_count": 22,
      "outputs": []
    },
    {
      "cell_type": "markdown",
      "source": [
        "* 가설, 비용함수, 옵티마이저를 선언한 후에 경사하강법을 1000회 반복"
      ],
      "metadata": {
        "id": "6kIKM8eQelxC"
      }
    },
    {
      "cell_type": "code",
      "source": [
        "# optimizer 설정\n",
        "optimizer = optim.SGD([w1, w2, w3, b], lr=1e-5)\n",
        "\n",
        "nb_epochs = 1000\n",
        "for epoch in range(nb_epochs + 1):\n",
        "\n",
        "    # H(x) 계산\n",
        "    hypothesis = x1_train * w1 + x2_train * w2 + x3_train * w3 + b\n",
        "\n",
        "    # cost 계산\n",
        "    cost = torch.mean((hypothesis - y_train) ** 2)\n",
        "\n",
        "    # cost로 H(x) 개선\n",
        "    optimizer.zero_grad()\n",
        "    cost.backward()\n",
        "    optimizer.step()\n",
        "\n",
        "    # 100번마다 로그 출력\n",
        "    if epoch % 100 == 0:\n",
        "        print('Epoch {:4d}/{} w1: {:.3f} w2: {:.3f} w3: {:.3f} b: {:.3f} Cost: {:.6f}'.format(\n",
        "            epoch, nb_epochs, w1.item(), w2.item(), w3.item(), b.item(), cost.item()\n",
        "        ))"
      ],
      "metadata": {
        "colab": {
          "base_uri": "https://localhost:8080/"
        },
        "id": "-dEuJNg7erfR",
        "outputId": "19a52dd2-2147-4512-df2c-f6b6c919b9dc"
      },
      "execution_count": 23,
      "outputs": [
        {
          "output_type": "stream",
          "name": "stdout",
          "text": [
            "Epoch    0/1000 w1: 0.294 w2: 0.294 w3: 0.297 b: 0.003 Cost: 29661.800781\n",
            "Epoch  100/1000 w1: 0.674 w2: 0.661 w3: 0.676 b: 0.008 Cost: 1.563628\n",
            "Epoch  200/1000 w1: 0.679 w2: 0.655 w3: 0.677 b: 0.008 Cost: 1.497595\n",
            "Epoch  300/1000 w1: 0.684 w2: 0.649 w3: 0.677 b: 0.008 Cost: 1.435044\n",
            "Epoch  400/1000 w1: 0.689 w2: 0.643 w3: 0.678 b: 0.008 Cost: 1.375726\n",
            "Epoch  500/1000 w1: 0.694 w2: 0.638 w3: 0.678 b: 0.009 Cost: 1.319507\n",
            "Epoch  600/1000 w1: 0.699 w2: 0.633 w3: 0.679 b: 0.009 Cost: 1.266222\n",
            "Epoch  700/1000 w1: 0.704 w2: 0.627 w3: 0.679 b: 0.009 Cost: 1.215703\n",
            "Epoch  800/1000 w1: 0.709 w2: 0.622 w3: 0.679 b: 0.009 Cost: 1.167810\n",
            "Epoch  900/1000 w1: 0.713 w2: 0.617 w3: 0.680 b: 0.009 Cost: 1.122429\n",
            "Epoch 1000/1000 w1: 0.718 w2: 0.613 w3: 0.680 b: 0.009 Cost: 1.079390\n"
          ]
        }
      ]
    },
    {
      "cell_type": "markdown",
      "source": [
        "### 2)행렬 연산을 고려하여 파이토치로 구현하기"
      ],
      "metadata": {
        "id": "UXaNkmbney4p"
      }
    },
    {
      "cell_type": "markdown",
      "source": [
        "* 행렬 연산을 고려하여 파이토치로 재구현\n",
        "* 훈련데이터를 행렬로 선언"
      ],
      "metadata": {
        "id": "W_wa9xoye6_g"
      }
    },
    {
      "cell_type": "code",
      "source": [
        "x_train  =  torch.FloatTensor([[73,  80,  75], \n",
        "                               [93,  88,  93], \n",
        "                               [89,  91,  80], \n",
        "                               [96,  98,  100],   \n",
        "                               [73,  66,  70]])  \n",
        "y_train  =  torch.FloatTensor([[152],  [185],  [180],  [196],  [142]])"
      ],
      "metadata": {
        "id": "rQGqASc5fA2O"
      },
      "execution_count": 24,
      "outputs": []
    },
    {
      "cell_type": "code",
      "source": [
        "print(x_train.shape)\n",
        "print(y_train.shape)"
      ],
      "metadata": {
        "colab": {
          "base_uri": "https://localhost:8080/"
        },
        "id": "kQrPc3MSfCqD",
        "outputId": "e2251c71-3363-4781-f040-910ceab03755"
      },
      "execution_count": 25,
      "outputs": [
        {
          "output_type": "stream",
          "name": "stdout",
          "text": [
            "torch.Size([5, 3])\n",
            "torch.Size([5, 1])\n"
          ]
        }
      ]
    },
    {
      "cell_type": "code",
      "source": [
        "# 가중치와 편향 선언\n",
        "W = torch.zeros((3, 1), requires_grad=True)\n",
        "b = torch.zeros(1, requires_grad=True)"
      ],
      "metadata": {
        "id": "r5sJrAEOfEef"
      },
      "execution_count": 26,
      "outputs": []
    },
    {
      "cell_type": "code",
      "source": [
        "hypothesis = x_train.matmul(W) + b"
      ],
      "metadata": {
        "id": "HvnpZVyzfFkh"
      },
      "execution_count": 27,
      "outputs": []
    },
    {
      "cell_type": "code",
      "source": [
        "x_train  =  torch.FloatTensor([[73,  80,  75], \n",
        "                               [93,  88,  93], \n",
        "                               [89,  91,  80], \n",
        "                               [96,  98,  100],   \n",
        "                               [73,  66,  70]])  \n",
        "y_train  =  torch.FloatTensor([[152],  [185],  [180],  [196],  [142]])\n",
        "\n",
        "# 모델 초기화\n",
        "W = torch.zeros((3, 1), requires_grad=True)\n",
        "b = torch.zeros(1, requires_grad=True)\n",
        "# optimizer 설정\n",
        "optimizer = optim.SGD([W, b], lr=1e-5)\n",
        "\n",
        "nb_epochs = 20\n",
        "for epoch in range(nb_epochs + 1):\n",
        "\n",
        "    # H(x) 계산\n",
        "    # 편향 b는 브로드 캐스팅되어 각 샘플에 더해집니다.\n",
        "    hypothesis = x_train.matmul(W) + b\n",
        "\n",
        "    # cost 계산\n",
        "    cost = torch.mean((hypothesis - y_train) ** 2)\n",
        "\n",
        "    # cost로 H(x) 개선\n",
        "    optimizer.zero_grad()\n",
        "    cost.backward()\n",
        "    optimizer.step()\n",
        "\n",
        "    print('Epoch {:4d}/{} hypothesis: {} Cost: {:.6f}'.format(\n",
        "        epoch, nb_epochs, hypothesis.squeeze().detach(), cost.item()\n",
        "    ))"
      ],
      "metadata": {
        "colab": {
          "base_uri": "https://localhost:8080/"
        },
        "id": "Cz3bF2evfH5j",
        "outputId": "237b7845-6363-4201-8b87-4f185ec363c5"
      },
      "execution_count": 28,
      "outputs": [
        {
          "output_type": "stream",
          "name": "stdout",
          "text": [
            "Epoch    0/20 hypothesis: tensor([0., 0., 0., 0., 0.]) Cost: 29661.800781\n",
            "Epoch    1/20 hypothesis: tensor([66.7178, 80.1701, 76.1025, 86.0194, 61.1565]) Cost: 9537.694336\n",
            "Epoch    2/20 hypothesis: tensor([104.5421, 125.6208, 119.2478, 134.7862,  95.8280]) Cost: 3069.590088\n",
            "Epoch    3/20 hypothesis: tensor([125.9858, 151.3882, 143.7087, 162.4333, 115.4844]) Cost: 990.670288\n",
            "Epoch    4/20 hypothesis: tensor([138.1429, 165.9963, 157.5768, 178.1071, 126.6283]) Cost: 322.481873\n",
            "Epoch    5/20 hypothesis: tensor([145.0350, 174.2780, 165.4395, 186.9928, 132.9461]) Cost: 107.717064\n",
            "Epoch    6/20 hypothesis: tensor([148.9423, 178.9730, 169.8976, 192.0301, 136.5279]) Cost: 38.687496\n",
            "Epoch    7/20 hypothesis: tensor([151.1574, 181.6346, 172.4254, 194.8856, 138.5585]) Cost: 16.499043\n",
            "Epoch    8/20 hypothesis: tensor([152.4131, 183.1435, 173.8590, 196.5043, 139.7097]) Cost: 9.365656\n",
            "Epoch    9/20 hypothesis: tensor([153.1250, 183.9988, 174.6723, 197.4217, 140.3625]) Cost: 7.071114\n",
            "Epoch   10/20 hypothesis: tensor([153.5285, 184.4835, 175.1338, 197.9415, 140.7325]) Cost: 6.331847\n",
            "Epoch   11/20 hypothesis: tensor([153.7572, 184.7582, 175.3958, 198.2360, 140.9424]) Cost: 6.092532\n",
            "Epoch   12/20 hypothesis: tensor([153.8868, 184.9138, 175.5449, 198.4026, 141.0613]) Cost: 6.013817\n",
            "Epoch   13/20 hypothesis: tensor([153.9602, 185.0019, 175.6299, 198.4969, 141.1288]) Cost: 5.986785\n",
            "Epoch   14/20 hypothesis: tensor([154.0017, 185.0517, 175.6785, 198.5500, 141.1671]) Cost: 5.976325\n",
            "Epoch   15/20 hypothesis: tensor([154.0252, 185.0798, 175.7065, 198.5800, 141.1888]) Cost: 5.971208\n",
            "Epoch   16/20 hypothesis: tensor([154.0385, 185.0956, 175.7229, 198.5966, 141.2012]) Cost: 5.967835\n",
            "Epoch   17/20 hypothesis: tensor([154.0459, 185.1045, 175.7326, 198.6059, 141.2082]) Cost: 5.964969\n",
            "Epoch   18/20 hypothesis: tensor([154.0501, 185.1094, 175.7386, 198.6108, 141.2122]) Cost: 5.962291\n",
            "Epoch   19/20 hypothesis: tensor([154.0524, 185.1120, 175.7424, 198.6134, 141.2145]) Cost: 5.959664\n",
            "Epoch   20/20 hypothesis: tensor([154.0536, 185.1134, 175.7451, 198.6145, 141.2158]) Cost: 5.957089\n"
          ]
        }
      ]
    },
    {
      "cell_type": "markdown",
      "source": [
        "## 4.nn,Module로 구현하는 선형 회귀"
      ],
      "metadata": {
        "id": "hM96xsIRfLN8"
      }
    },
    {
      "cell_type": "markdown",
      "source": [
        "* 가설, 비용함수 등을 직접 정의하지 않고 파이토치에서 이미 구현되어져 제공되고 있는 함수들을 불러오는 것으로 더 쉽게 선형 회귀 모델을 구현"
      ],
      "metadata": {
        "id": "iiSiUJaQfeTD"
      }
    },
    {
      "cell_type": "markdown",
      "source": [
        "* nn.Linear() : 선형 회귀 모델\n",
        "* nn.functional.mse_loss() : 평균 제곱 오차"
      ],
      "metadata": {
        "id": "h7F2NmkDfnNs"
      }
    },
    {
      "cell_type": "markdown",
      "source": [
        "### 1)단순 선형 회귀 구현하기"
      ],
      "metadata": {
        "id": "sfZW_YrPfztr"
      }
    },
    {
      "cell_type": "code",
      "source": [
        "import torch\n",
        "import torch.nn as nn\n",
        "import torch.nn.functional as F"
      ],
      "metadata": {
        "id": "bvYmN2tlf2no"
      },
      "execution_count": 30,
      "outputs": []
    },
    {
      "cell_type": "code",
      "source": [
        "torch.manual_seed(1)"
      ],
      "metadata": {
        "colab": {
          "base_uri": "https://localhost:8080/"
        },
        "id": "65zIb3eDf3Xb",
        "outputId": "16610b4c-dd60-488c-a70b-024057485596"
      },
      "execution_count": 31,
      "outputs": [
        {
          "output_type": "execute_result",
          "data": {
            "text/plain": [
              "<torch._C.Generator at 0x7ff296f662f0>"
            ]
          },
          "metadata": {},
          "execution_count": 31
        }
      ]
    },
    {
      "cell_type": "markdown",
      "source": [
        "* 데이터 선언"
      ],
      "metadata": {
        "id": "yFjSxdAbf5NP"
      }
    },
    {
      "cell_type": "code",
      "source": [
        "# 데이터\n",
        "x_train = torch.FloatTensor([[1], [2], [3]])\n",
        "y_train = torch.FloatTensor([[2], [4], [6]])"
      ],
      "metadata": {
        "id": "TY_nJopCf8Wc"
      },
      "execution_count": 32,
      "outputs": []
    },
    {
      "cell_type": "markdown",
      "source": [
        "* 선형 회귀 모델 구현"
      ],
      "metadata": {
        "id": "JStVA-Pff9h7"
      }
    },
    {
      "cell_type": "code",
      "source": [
        "# 모델을 선언 및 초기화. 단순 선형 회귀이므로 input_dim=1, output_dim=1.\n",
        "model = nn.Linear(1,1)"
      ],
      "metadata": {
        "id": "FX6xIlRPgCrK"
      },
      "execution_count": 33,
      "outputs": []
    },
    {
      "cell_type": "code",
      "source": [
        "print(list(model.parameters()))"
      ],
      "metadata": {
        "colab": {
          "base_uri": "https://localhost:8080/"
        },
        "id": "ZCjerddGgFUs",
        "outputId": "de2b58b7-bb28-4a7e-cb0b-33dfff2094d6"
      },
      "execution_count": 34,
      "outputs": [
        {
          "output_type": "stream",
          "name": "stdout",
          "text": [
            "[Parameter containing:\n",
            "tensor([[0.5153]], requires_grad=True), Parameter containing:\n",
            "tensor([-0.4414], requires_grad=True)]\n"
          ]
        }
      ]
    },
    {
      "cell_type": "markdown",
      "source": [
        "* 현재 랜덤 초기화 된 가중치, 편향 값"
      ],
      "metadata": {
        "id": "4uA77z67gIvk"
      }
    },
    {
      "cell_type": "markdown",
      "source": [
        "* 옵티마이저 정의\n",
        "  * model.parameters()를 사용하여 W와 b를 전달"
      ],
      "metadata": {
        "id": "T0QDSHzugNTW"
      }
    },
    {
      "cell_type": "code",
      "source": [
        "# optimizer 설정. 경사 하강법 SGD를 사용하고 learning rate를 의미하는 lr은 0.01\n",
        "optimizer = torch.optim.SGD(model.parameters(), lr=0.01) "
      ],
      "metadata": {
        "id": "TgSc-NcAgTCz"
      },
      "execution_count": 35,
      "outputs": []
    },
    {
      "cell_type": "code",
      "source": [
        "# 전체 훈련 데이터에 대해 경사 하강법을 2,000회 반복\n",
        "nb_epochs = 2000\n",
        "for epoch in range(nb_epochs+1):\n",
        "\n",
        "    # H(x) 계산\n",
        "    prediction = model(x_train)\n",
        "\n",
        "    # cost 계산\n",
        "    cost = F.mse_loss(prediction, y_train) # <== 파이토치에서 제공하는 평균 제곱 오차 함수\n",
        "\n",
        "    # cost로 H(x) 개선하는 부분\n",
        "    # gradient를 0으로 초기화\n",
        "    optimizer.zero_grad()\n",
        "    # 비용 함수를 미분하여 gradient 계산\n",
        "    cost.backward() # backward 연산\n",
        "    # W와 b를 업데이트\n",
        "    optimizer.step()\n",
        "\n",
        "    if epoch % 100 == 0:\n",
        "    # 100번마다 로그 출력\n",
        "      print('Epoch {:4d}/{} Cost: {:.6f}'.format(\n",
        "          epoch, nb_epochs, cost.item()\n",
        "      ))"
      ],
      "metadata": {
        "colab": {
          "base_uri": "https://localhost:8080/"
        },
        "id": "ymHSktregUzi",
        "outputId": "57e20356-c080-4b78-d9fc-bad51ded1cd4"
      },
      "execution_count": 36,
      "outputs": [
        {
          "output_type": "stream",
          "name": "stdout",
          "text": [
            "Epoch    0/2000 Cost: 13.103541\n",
            "Epoch  100/2000 Cost: 0.002791\n",
            "Epoch  200/2000 Cost: 0.001724\n",
            "Epoch  300/2000 Cost: 0.001066\n",
            "Epoch  400/2000 Cost: 0.000658\n",
            "Epoch  500/2000 Cost: 0.000407\n",
            "Epoch  600/2000 Cost: 0.000251\n",
            "Epoch  700/2000 Cost: 0.000155\n",
            "Epoch  800/2000 Cost: 0.000096\n",
            "Epoch  900/2000 Cost: 0.000059\n",
            "Epoch 1000/2000 Cost: 0.000037\n",
            "Epoch 1100/2000 Cost: 0.000023\n",
            "Epoch 1200/2000 Cost: 0.000014\n",
            "Epoch 1300/2000 Cost: 0.000009\n",
            "Epoch 1400/2000 Cost: 0.000005\n",
            "Epoch 1500/2000 Cost: 0.000003\n",
            "Epoch 1600/2000 Cost: 0.000002\n",
            "Epoch 1700/2000 Cost: 0.000001\n",
            "Epoch 1800/2000 Cost: 0.000001\n",
            "Epoch 1900/2000 Cost: 0.000000\n",
            "Epoch 2000/2000 Cost: 0.000000\n"
          ]
        }
      ]
    },
    {
      "cell_type": "markdown",
      "source": [
        "* x에 임의의 값 4를 넣어 모델이 예측하는 y의 값을 예측"
      ],
      "metadata": {
        "id": "So538bMKgW9Q"
      }
    },
    {
      "cell_type": "code",
      "source": [
        "# 임의의 입력 4를 선언\n",
        "new_var =  torch.FloatTensor([[4.0]]) \n",
        "# 입력한 값 4에 대해서 예측값 y를 리턴받아서 pred_y에 저장\n",
        "pred_y = model(new_var) # forward 연산\n",
        "# y = 2x 이므로 입력이 4라면 y가 8에 가까운 값이 나와야 제대로 학습이 된 것\n",
        "print(\"훈련 후 입력이 4일 때의 예측값 :\", pred_y) "
      ],
      "metadata": {
        "colab": {
          "base_uri": "https://localhost:8080/"
        },
        "id": "puNYF16bgawu",
        "outputId": "4c00e4c8-eb15-4f01-c07d-2118a84f6913"
      },
      "execution_count": 37,
      "outputs": [
        {
          "output_type": "stream",
          "name": "stdout",
          "text": [
            "훈련 후 입력이 4일 때의 예측값 : tensor([[7.9989]], grad_fn=<AddmmBackward0>)\n"
          ]
        }
      ]
    },
    {
      "cell_type": "markdown",
      "source": [
        "* 문제의 정답 : y=2x"
      ],
      "metadata": {
        "id": "KPicOEk8gdRz"
      }
    },
    {
      "cell_type": "markdown",
      "source": [
        "* 학습 후의 가중치, 편향 출력"
      ],
      "metadata": {
        "id": "NHHFHDTYgf9l"
      }
    },
    {
      "cell_type": "code",
      "source": [
        "print(list(model.parameters()))"
      ],
      "metadata": {
        "colab": {
          "base_uri": "https://localhost:8080/"
        },
        "id": "lDHfGaEeginu",
        "outputId": "1132686c-6412-42d5-f082-5a26ba02df14"
      },
      "execution_count": 38,
      "outputs": [
        {
          "output_type": "stream",
          "name": "stdout",
          "text": [
            "[Parameter containing:\n",
            "tensor([[1.9994]], requires_grad=True), Parameter containing:\n",
            "tensor([0.0014], requires_grad=True)]\n"
          ]
        }
      ]
    },
    {
      "cell_type": "markdown",
      "source": [
        "* forward 연산 : H(x) 식에 입력 x로부터 예측된 y를 얻는 것\n",
        "* backworkd 연산 : 학습 과정에서 비용 함수를 미분하여 기울기를 구하는 것"
      ],
      "metadata": {
        "id": "HIx_7kwbglpP"
      }
    },
    {
      "cell_type": "markdown",
      "source": [
        "###2) 다중 선형 회귀 구현하기\n",
        "  * nn.Linear()와 nn.functional.mse_loss()로 다중 선형 회귀를 구현\n",
        "  * nn.Linear()의 인자값과 학습률만 조절"
      ],
      "metadata": {
        "id": "Jx6nHqCIhEK4"
      }
    },
    {
      "cell_type": "code",
      "source": [
        "import torch\n",
        "import torch.nn as nn\n",
        "import torch.nn.functional as F"
      ],
      "metadata": {
        "id": "8ds2f6lmhQF8"
      },
      "execution_count": 39,
      "outputs": []
    },
    {
      "cell_type": "code",
      "source": [
        "torch.manual_seed(1)"
      ],
      "metadata": {
        "colab": {
          "base_uri": "https://localhost:8080/"
        },
        "id": "LhV-V4ndhRJZ",
        "outputId": "940daa9c-509a-4018-b77f-9a1d150014b3"
      },
      "execution_count": 40,
      "outputs": [
        {
          "output_type": "execute_result",
          "data": {
            "text/plain": [
              "<torch._C.Generator at 0x7ff296f662f0>"
            ]
          },
          "metadata": {},
          "execution_count": 40
        }
      ]
    },
    {
      "cell_type": "markdown",
      "source": [
        "* 데이터 선언"
      ],
      "metadata": {
        "id": "0APo1j_lhSH-"
      }
    },
    {
      "cell_type": "code",
      "source": [
        "# 데이터\n",
        "x_train = torch.FloatTensor([[73, 80, 75],\n",
        "                             [93, 88, 93],\n",
        "                             [89, 91, 90],\n",
        "                             [96, 98, 100],\n",
        "                             [73, 66, 70]])\n",
        "y_train = torch.FloatTensor([[152], [185], [180], [196], [142]])"
      ],
      "metadata": {
        "id": "TiqjUjgghUTA"
      },
      "execution_count": 41,
      "outputs": []
    },
    {
      "cell_type": "markdown",
      "source": [
        "* 선형 회귀 모델을 구현"
      ],
      "metadata": {
        "id": "iwVd0GdThVKG"
      }
    },
    {
      "cell_type": "code",
      "source": [
        "# 모델을 선언 및 초기화. 다중 선형 회귀이므로 input_dim=3, output_dim=1.\n",
        "model = nn.Linear(3,1)"
      ],
      "metadata": {
        "id": "nTi7Hv5ghXgh"
      },
      "execution_count": 42,
      "outputs": []
    },
    {
      "cell_type": "markdown",
      "source": [
        "* model에는 3개의 가중치 w와 편향 b가 저장되어 있음\n",
        "  * 현재는 랜덤초기화된 상태"
      ],
      "metadata": {
        "id": "2GNingLLhZ37"
      }
    },
    {
      "cell_type": "code",
      "source": [
        "print(list(model.parameters()))"
      ],
      "metadata": {
        "colab": {
          "base_uri": "https://localhost:8080/"
        },
        "id": "Tidereojhf2Y",
        "outputId": "0dfa545d-ce14-4cb8-e9bd-b05cbd6c9467"
      },
      "execution_count": 43,
      "outputs": [
        {
          "output_type": "stream",
          "name": "stdout",
          "text": [
            "[Parameter containing:\n",
            "tensor([[ 0.2975, -0.2548, -0.1119]], requires_grad=True), Parameter containing:\n",
            "tensor([0.2710], requires_grad=True)]\n"
          ]
        }
      ]
    },
    {
      "cell_type": "markdown",
      "source": [
        "* 옵티마이저 정의"
      ],
      "metadata": {
        "id": "TOw0e7QRhlEq"
      }
    },
    {
      "cell_type": "code",
      "source": [
        "optimizer = torch.optim.SGD(model.parameters(), lr=1e-5) "
      ],
      "metadata": {
        "id": "nlce6fQ9hpz9"
      },
      "execution_count": 44,
      "outputs": []
    },
    {
      "cell_type": "code",
      "source": [
        "nb_epochs = 2000\n",
        "for epoch in range(nb_epochs+1):\n",
        "\n",
        "    # H(x) 계산\n",
        "    prediction = model(x_train)\n",
        "    # model(x_train)은 model.forward(x_train)와 동일함.\n",
        "\n",
        "    # cost 계산\n",
        "    cost = F.mse_loss(prediction, y_train) # <== 파이토치에서 제공하는 평균 제곱 오차 함수\n",
        "\n",
        "    # cost로 H(x) 개선하는 부분\n",
        "    # gradient를 0으로 초기화\n",
        "    optimizer.zero_grad()\n",
        "    # 비용 함수를 미분하여 gradient 계산\n",
        "    cost.backward()\n",
        "    # W와 b를 업데이트\n",
        "    optimizer.step()\n",
        "\n",
        "    if epoch % 100 == 0:\n",
        "    # 100번마다 로그 출력\n",
        "      print('Epoch {:4d}/{} Cost: {:.6f}'.format(\n",
        "          epoch, nb_epochs, cost.item()\n",
        "      ))"
      ],
      "metadata": {
        "colab": {
          "base_uri": "https://localhost:8080/"
        },
        "id": "ubNdIPFehrXn",
        "outputId": "56042325-5953-4f0f-9fa6-4064215ab1ba"
      },
      "execution_count": 45,
      "outputs": [
        {
          "output_type": "stream",
          "name": "stdout",
          "text": [
            "Epoch    0/2000 Cost: 31667.597656\n",
            "Epoch  100/2000 Cost: 0.225993\n",
            "Epoch  200/2000 Cost: 0.223911\n",
            "Epoch  300/2000 Cost: 0.221941\n",
            "Epoch  400/2000 Cost: 0.220059\n",
            "Epoch  500/2000 Cost: 0.218271\n",
            "Epoch  600/2000 Cost: 0.216575\n",
            "Epoch  700/2000 Cost: 0.214950\n",
            "Epoch  800/2000 Cost: 0.213413\n",
            "Epoch  900/2000 Cost: 0.211952\n",
            "Epoch 1000/2000 Cost: 0.210560\n",
            "Epoch 1100/2000 Cost: 0.209232\n",
            "Epoch 1200/2000 Cost: 0.207967\n",
            "Epoch 1300/2000 Cost: 0.206761\n",
            "Epoch 1400/2000 Cost: 0.205619\n",
            "Epoch 1500/2000 Cost: 0.204522\n",
            "Epoch 1600/2000 Cost: 0.203484\n",
            "Epoch 1700/2000 Cost: 0.202485\n",
            "Epoch 1800/2000 Cost: 0.201542\n",
            "Epoch 1900/2000 Cost: 0.200635\n",
            "Epoch 2000/2000 Cost: 0.199769\n"
          ]
        }
      ]
    },
    {
      "cell_type": "markdown",
      "source": [
        "* 임의의 입력에 대해 예측값 확인"
      ],
      "metadata": {
        "id": "fzKmfGiihspf"
      }
    },
    {
      "cell_type": "code",
      "source": [
        "# 임의의 입력 [73, 80, 75]를 선언\n",
        "new_var =  torch.FloatTensor([[73, 80, 75]]) \n",
        "# 입력한 값 [73, 80, 75]에 대해서 예측값 y를 리턴받아서 pred_y에 저장\n",
        "pred_y = model(new_var) \n",
        "print(\"훈련 후 입력이 73, 80, 75일 때의 예측값 :\", pred_y) "
      ],
      "metadata": {
        "colab": {
          "base_uri": "https://localhost:8080/"
        },
        "id": "PPOIsEjmhv7x",
        "outputId": "9f74e071-0b88-4540-bc84-c1d7b2427050"
      },
      "execution_count": 46,
      "outputs": [
        {
          "output_type": "stream",
          "name": "stdout",
          "text": [
            "훈련 후 입력이 73, 80, 75일 때의 예측값 : tensor([[151.2305]], grad_fn=<AddmmBackward0>)\n"
          ]
        }
      ]
    },
    {
      "cell_type": "markdown",
      "source": [
        "* w,b 확인"
      ],
      "metadata": {
        "id": "uWLdAFjGhyD8"
      }
    },
    {
      "cell_type": "code",
      "source": [
        "print(list(model.parameters()))"
      ],
      "metadata": {
        "colab": {
          "base_uri": "https://localhost:8080/"
        },
        "id": "BAqVYwEFhzVs",
        "outputId": "653258b1-fb15-4ad3-ccaf-5d80afca73f4"
      },
      "execution_count": 47,
      "outputs": [
        {
          "output_type": "stream",
          "name": "stdout",
          "text": [
            "[Parameter containing:\n",
            "tensor([[0.9778, 0.4539, 0.5768]], requires_grad=True), Parameter containing:\n",
            "tensor([0.2802], requires_grad=True)]\n"
          ]
        }
      ]
    },
    {
      "cell_type": "markdown",
      "source": [
        "## 5.클래스로 파이토치 모델 구현하기"
      ],
      "metadata": {
        "id": "LRcG-haEh2rO"
      }
    },
    {
      "cell_type": "markdown",
      "source": [
        "###1) 모델을 클래스로 구현하기"
      ],
      "metadata": {
        "id": "OtzzT17lh6j9"
      }
    },
    {
      "cell_type": "markdown",
      "source": [
        "* 단순 선형 회귀를 클래스로 구현"
      ],
      "metadata": {
        "id": "Jt-WcyOWiGXg"
      }
    },
    {
      "cell_type": "code",
      "source": [
        "class LinearRegressionModel(nn.Module): # torch.nn.Module을 상속받는 파이썬 클래스\n",
        "    def __init__(self): #\n",
        "        super().__init__()\n",
        "        self.linear = nn.Linear(1, 1) # 단순 선형 회귀이므로 input_dim=1, output_dim=1.\n",
        "\n",
        "    def forward(self, x):\n",
        "        return self.linear(x)"
      ],
      "metadata": {
        "id": "a8fir1HliAbf"
      },
      "execution_count": 48,
      "outputs": []
    },
    {
      "cell_type": "code",
      "source": [
        "model = LinearRegressionModel()"
      ],
      "metadata": {
        "id": "SiuWyeQ1iJ4g"
      },
      "execution_count": 49,
      "outputs": []
    },
    {
      "cell_type": "markdown",
      "source": [
        "* 다중 선형 회귀를 클래스로 구현 "
      ],
      "metadata": {
        "id": "42XjpkO8iWS0"
      }
    },
    {
      "cell_type": "code",
      "source": [
        "class MultivariateLinearRegressionModel(nn.Module):\n",
        "    def __init__(self):\n",
        "        super().__init__()\n",
        "        self.linear = nn.Linear(3, 1) # 다중 선형 회귀이므로 input_dim=3, output_dim=1.\n",
        "\n",
        "    def forward(self, x):\n",
        "        return self.linear(x)"
      ],
      "metadata": {
        "id": "REJLMGG5iYJF"
      },
      "execution_count": 50,
      "outputs": []
    },
    {
      "cell_type": "code",
      "source": [
        "model = MultivariateLinearRegressionModel()"
      ],
      "metadata": {
        "id": "45NQvmUSiZqH"
      },
      "execution_count": 51,
      "outputs": []
    },
    {
      "cell_type": "markdown",
      "source": [
        "###2) 단순 선형 회귀 클래스로 구현하기"
      ],
      "metadata": {
        "id": "uP4ZG5_Pib90"
      }
    },
    {
      "cell_type": "code",
      "source": [
        "import torch\n",
        "import torch.nn as nn\n",
        "import torch.nn.functional as F"
      ],
      "metadata": {
        "id": "ySdra1mpigTU"
      },
      "execution_count": 52,
      "outputs": []
    },
    {
      "cell_type": "code",
      "source": [
        "torch.manual_seed(1)"
      ],
      "metadata": {
        "colab": {
          "base_uri": "https://localhost:8080/"
        },
        "id": "mtzx6MRLigt0",
        "outputId": "784938a7-05da-4837-b0ba-256916017c65"
      },
      "execution_count": 53,
      "outputs": [
        {
          "output_type": "execute_result",
          "data": {
            "text/plain": [
              "<torch._C.Generator at 0x7ff296f662f0>"
            ]
          },
          "metadata": {},
          "execution_count": 53
        }
      ]
    },
    {
      "cell_type": "code",
      "source": [
        "# 데이터\n",
        "x_train = torch.FloatTensor([[1], [2], [3]])\n",
        "y_train = torch.FloatTensor([[2], [4], [6]])"
      ],
      "metadata": {
        "id": "q7ViO95DiiQV"
      },
      "execution_count": 54,
      "outputs": []
    },
    {
      "cell_type": "code",
      "source": [
        "class LinearRegressionModel(nn.Module):\n",
        "    def __init__(self):\n",
        "        super().__init__()\n",
        "        self.linear = nn.Linear(1, 1)\n",
        "\n",
        "    def forward(self, x):\n",
        "        return self.linear(x)"
      ],
      "metadata": {
        "id": "CSgKT00oijTL"
      },
      "execution_count": 55,
      "outputs": []
    },
    {
      "cell_type": "code",
      "source": [
        "model = LinearRegressionModel()"
      ],
      "metadata": {
        "id": "lfxyYYLjikWY"
      },
      "execution_count": 56,
      "outputs": []
    },
    {
      "cell_type": "code",
      "source": [
        "# optimizer 설정. 경사 하강법 SGD를 사용하고 learning rate를 의미하는 lr은 0.01\n",
        "optimizer = torch.optim.SGD(model.parameters(), lr=0.01) "
      ],
      "metadata": {
        "id": "hsinESahil5c"
      },
      "execution_count": 57,
      "outputs": []
    },
    {
      "cell_type": "code",
      "source": [
        "# 전체 훈련 데이터에 대해 경사 하강법을 2,000회 반복\n",
        "nb_epochs = 2000\n",
        "for epoch in range(nb_epochs+1):\n",
        "\n",
        "    # H(x) 계산\n",
        "    prediction = model(x_train)\n",
        "\n",
        "    # cost 계산\n",
        "    cost = F.mse_loss(prediction, y_train) # <== 파이토치에서 제공하는 평균 제곱 오차 함수\n",
        "\n",
        "    # cost로 H(x) 개선하는 부분\n",
        "    # gradient를 0으로 초기화\n",
        "    optimizer.zero_grad()\n",
        "    # 비용 함수를 미분하여 gradient 계산\n",
        "    cost.backward() # backward 연산\n",
        "    # W와 b를 업데이트\n",
        "    optimizer.step()\n",
        "\n",
        "    if epoch % 100 == 0:\n",
        "    # 100번마다 로그 출력\n",
        "      print('Epoch {:4d}/{} Cost: {:.6f}'.format(\n",
        "          epoch, nb_epochs, cost.item()\n",
        "      ))"
      ],
      "metadata": {
        "colab": {
          "base_uri": "https://localhost:8080/"
        },
        "id": "MoPJABJVint-",
        "outputId": "e55c7c67-3ef1-4c6b-ed80-b2fc28816445"
      },
      "execution_count": 58,
      "outputs": [
        {
          "output_type": "stream",
          "name": "stdout",
          "text": [
            "Epoch    0/2000 Cost: 13.103541\n",
            "Epoch  100/2000 Cost: 0.002791\n",
            "Epoch  200/2000 Cost: 0.001724\n",
            "Epoch  300/2000 Cost: 0.001066\n",
            "Epoch  400/2000 Cost: 0.000658\n",
            "Epoch  500/2000 Cost: 0.000407\n",
            "Epoch  600/2000 Cost: 0.000251\n",
            "Epoch  700/2000 Cost: 0.000155\n",
            "Epoch  800/2000 Cost: 0.000096\n",
            "Epoch  900/2000 Cost: 0.000059\n",
            "Epoch 1000/2000 Cost: 0.000037\n",
            "Epoch 1100/2000 Cost: 0.000023\n",
            "Epoch 1200/2000 Cost: 0.000014\n",
            "Epoch 1300/2000 Cost: 0.000009\n",
            "Epoch 1400/2000 Cost: 0.000005\n",
            "Epoch 1500/2000 Cost: 0.000003\n",
            "Epoch 1600/2000 Cost: 0.000002\n",
            "Epoch 1700/2000 Cost: 0.000001\n",
            "Epoch 1800/2000 Cost: 0.000001\n",
            "Epoch 1900/2000 Cost: 0.000000\n",
            "Epoch 2000/2000 Cost: 0.000000\n"
          ]
        }
      ]
    },
    {
      "cell_type": "markdown",
      "source": [
        "###3) 다중 선형 회귀 클래스로 구현하기"
      ],
      "metadata": {
        "id": "cIs7CvOyiotp"
      }
    },
    {
      "cell_type": "code",
      "source": [
        "import torch\n",
        "import torch.nn as nn\n",
        "import torch.nn.functional as F"
      ],
      "metadata": {
        "id": "dyIeAMoSi7zT"
      },
      "execution_count": 59,
      "outputs": []
    },
    {
      "cell_type": "code",
      "source": [
        "torch.manual_seed(1)"
      ],
      "metadata": {
        "colab": {
          "base_uri": "https://localhost:8080/"
        },
        "id": "LnwABlwRi9XT",
        "outputId": "fff6d1ab-67f9-42a0-ce96-198e36184568"
      },
      "execution_count": 60,
      "outputs": [
        {
          "output_type": "execute_result",
          "data": {
            "text/plain": [
              "<torch._C.Generator at 0x7ff296f662f0>"
            ]
          },
          "metadata": {},
          "execution_count": 60
        }
      ]
    },
    {
      "cell_type": "code",
      "source": [
        "# 데이터\n",
        "x_train = torch.FloatTensor([[73, 80, 75],\n",
        "                             [93, 88, 93],\n",
        "                             [89, 91, 90],\n",
        "                             [96, 98, 100],\n",
        "                             [73, 66, 70]])\n",
        "y_train = torch.FloatTensor([[152], [185], [180], [196], [142]])"
      ],
      "metadata": {
        "id": "OMUKRdXKi-3l"
      },
      "execution_count": 61,
      "outputs": []
    },
    {
      "cell_type": "code",
      "source": [
        "class MultivariateLinearRegressionModel(nn.Module):\n",
        "    def __init__(self):\n",
        "        super().__init__()\n",
        "        self.linear = nn.Linear(3, 1) # 다중 선형 회귀이므로 input_dim=3, output_dim=1.\n",
        "\n",
        "    def forward(self, x):\n",
        "        return self.linear(x)"
      ],
      "metadata": {
        "id": "T3C1bDxKjAKn"
      },
      "execution_count": 62,
      "outputs": []
    },
    {
      "cell_type": "code",
      "source": [
        "model = MultivariateLinearRegressionModel()"
      ],
      "metadata": {
        "id": "KXxjl8GUjBdQ"
      },
      "execution_count": 63,
      "outputs": []
    },
    {
      "cell_type": "code",
      "source": [
        "optimizer = torch.optim.SGD(model.parameters(), lr=1e-5) "
      ],
      "metadata": {
        "id": "UyGc_8I_jCZm"
      },
      "execution_count": 64,
      "outputs": []
    },
    {
      "cell_type": "code",
      "source": [
        "nb_epochs = 2000\n",
        "for epoch in range(nb_epochs+1):\n",
        "\n",
        "    # H(x) 계산\n",
        "    prediction = model(x_train)\n",
        "    # model(x_train)은 model.forward(x_train)와 동일함.\n",
        "\n",
        "    # cost 계산\n",
        "    cost = F.mse_loss(prediction, y_train) # <== 파이토치에서 제공하는 평균 제곱 오차 함수\n",
        "\n",
        "    # cost로 H(x) 개선하는 부분\n",
        "    # gradient를 0으로 초기화\n",
        "    optimizer.zero_grad()\n",
        "    # 비용 함수를 미분하여 gradient 계산\n",
        "    cost.backward()\n",
        "    # W와 b를 업데이트\n",
        "    optimizer.step()\n",
        "\n",
        "    if epoch % 100 == 0:\n",
        "    # 100번마다 로그 출력\n",
        "      print('Epoch {:4d}/{} Cost: {:.6f}'.format(\n",
        "          epoch, nb_epochs, cost.item()\n",
        "      ))"
      ],
      "metadata": {
        "colab": {
          "base_uri": "https://localhost:8080/"
        },
        "id": "_Pl9AJxrjDxI",
        "outputId": "bc6bbb26-596b-4ded-9b7a-82536842c2e9"
      },
      "execution_count": 65,
      "outputs": [
        {
          "output_type": "stream",
          "name": "stdout",
          "text": [
            "Epoch    0/2000 Cost: 31667.597656\n",
            "Epoch  100/2000 Cost: 0.225993\n",
            "Epoch  200/2000 Cost: 0.223911\n",
            "Epoch  300/2000 Cost: 0.221941\n",
            "Epoch  400/2000 Cost: 0.220059\n",
            "Epoch  500/2000 Cost: 0.218271\n",
            "Epoch  600/2000 Cost: 0.216575\n",
            "Epoch  700/2000 Cost: 0.214950\n",
            "Epoch  800/2000 Cost: 0.213413\n",
            "Epoch  900/2000 Cost: 0.211952\n",
            "Epoch 1000/2000 Cost: 0.210560\n",
            "Epoch 1100/2000 Cost: 0.209232\n",
            "Epoch 1200/2000 Cost: 0.207967\n",
            "Epoch 1300/2000 Cost: 0.206761\n",
            "Epoch 1400/2000 Cost: 0.205619\n",
            "Epoch 1500/2000 Cost: 0.204522\n",
            "Epoch 1600/2000 Cost: 0.203484\n",
            "Epoch 1700/2000 Cost: 0.202485\n",
            "Epoch 1800/2000 Cost: 0.201542\n",
            "Epoch 1900/2000 Cost: 0.200635\n",
            "Epoch 2000/2000 Cost: 0.199769\n"
          ]
        }
      ]
    },
    {
      "cell_type": "markdown",
      "source": [
        "## 6.미니 배치와 데이터 로드"
      ],
      "metadata": {
        "id": "CXSZWM_gjFrw"
      }
    },
    {
      "cell_type": "markdown",
      "source": [
        "###1)데이터 로드하기\n",
        "  * DataSet을 정의하고, 이를 DataLoader에 전달"
      ],
      "metadata": {
        "id": "VDce9ypIjNNp"
      }
    },
    {
      "cell_type": "code",
      "source": [
        "import torch\n",
        "import torch.nn as nn\n",
        "import torch.nn.functional as F"
      ],
      "metadata": {
        "id": "5brEpXRkjYGg"
      },
      "execution_count": 66,
      "outputs": []
    },
    {
      "cell_type": "markdown",
      "source": [
        "* TensorDataset과 DataLoader를 임포트 "
      ],
      "metadata": {
        "id": "1GrdO3fJjZ3F"
      }
    },
    {
      "cell_type": "code",
      "source": [
        "from torch.utils.data import TensorDataset # 텐서데이터셋\n",
        "from torch.utils.data import DataLoader # 데이터로더"
      ],
      "metadata": {
        "id": "XHjc18dRjdNu"
      },
      "execution_count": 67,
      "outputs": []
    },
    {
      "cell_type": "markdown",
      "source": [
        "* TensorDataset은 기본적으로 텐서를 입력으로 받음"
      ],
      "metadata": {
        "id": "8hids7mvje7E"
      }
    },
    {
      "cell_type": "code",
      "source": [
        "x_train  =  torch.FloatTensor([[73,  80,  75], \n",
        "                               [93,  88,  93], \n",
        "                               [89,  91,  90], \n",
        "                               [96,  98,  100],   \n",
        "                               [73,  66,  70]])  \n",
        "y_train  =  torch.FloatTensor([[152],  [185],  [180],  [196],  [142]])"
      ],
      "metadata": {
        "id": "ryy0OmYJjjae"
      },
      "execution_count": 68,
      "outputs": []
    },
    {
      "cell_type": "code",
      "source": [
        "dataset = TensorDataset(x_train, y_train)"
      ],
      "metadata": {
        "id": "NMRqKiW5jlGH"
      },
      "execution_count": 69,
      "outputs": []
    },
    {
      "cell_type": "code",
      "source": [
        "dataloader = DataLoader(dataset, batch_size=2, shuffle=True)"
      ],
      "metadata": {
        "id": "KMhffz_ajp4l"
      },
      "execution_count": 70,
      "outputs": []
    },
    {
      "cell_type": "markdown",
      "source": [
        "* 모델과 옵티마이저를 설계"
      ],
      "metadata": {
        "id": "IOldefpYjrHr"
      }
    },
    {
      "cell_type": "code",
      "source": [
        "model = nn.Linear(3,1)\n",
        "optimizer = torch.optim.SGD(model.parameters(), lr=1e-5) "
      ],
      "metadata": {
        "id": "rcSxe_32juKe"
      },
      "execution_count": 71,
      "outputs": []
    },
    {
      "cell_type": "markdown",
      "source": [
        "* 훈련 진행"
      ],
      "metadata": {
        "id": "8fC67xQdjuxH"
      }
    },
    {
      "cell_type": "code",
      "source": [
        "nb_epochs = 20\n",
        "for epoch in range(nb_epochs + 1):\n",
        "  for batch_idx, samples in enumerate(dataloader):\n",
        "    # print(batch_idx)\n",
        "    # print(samples)\n",
        "    x_train, y_train = samples\n",
        "    # H(x) 계산\n",
        "    prediction = model(x_train)\n",
        "\n",
        "    # cost 계산\n",
        "    cost = F.mse_loss(prediction, y_train)\n",
        "\n",
        "    # cost로 H(x) 계산\n",
        "    optimizer.zero_grad()\n",
        "    cost.backward()\n",
        "    optimizer.step()\n",
        "\n",
        "    print('Epoch {:4d}/{} Batch {}/{} Cost: {:.6f}'.format(\n",
        "        epoch, nb_epochs, batch_idx+1, len(dataloader),\n",
        "        cost.item()\n",
        "        ))"
      ],
      "metadata": {
        "colab": {
          "base_uri": "https://localhost:8080/"
        },
        "id": "wD6rWXTRjxw2",
        "outputId": "77a63060-5088-4b1d-af80-095791d2f111"
      },
      "execution_count": 72,
      "outputs": [
        {
          "output_type": "stream",
          "name": "stdout",
          "text": [
            "Epoch    0/20 Batch 1/3 Cost: 40394.078125\n",
            "Epoch    0/20 Batch 2/3 Cost: 10625.847656\n",
            "Epoch    0/20 Batch 3/3 Cost: 5451.569824\n",
            "Epoch    1/20 Batch 1/3 Cost: 937.502686\n",
            "Epoch    1/20 Batch 2/3 Cost: 265.944641\n",
            "Epoch    1/20 Batch 3/3 Cost: 244.422516\n",
            "Epoch    2/20 Batch 1/3 Cost: 3.523124\n",
            "Epoch    2/20 Batch 2/3 Cost: 55.838848\n",
            "Epoch    2/20 Batch 3/3 Cost: 2.371109\n",
            "Epoch    3/20 Batch 1/3 Cost: 21.615038\n",
            "Epoch    3/20 Batch 2/3 Cost: 1.536160\n",
            "Epoch    3/20 Batch 3/3 Cost: 23.620941\n",
            "Epoch    4/20 Batch 1/3 Cost: 12.848326\n",
            "Epoch    4/20 Batch 2/3 Cost: 17.578579\n",
            "Epoch    4/20 Batch 3/3 Cost: 18.382185\n",
            "Epoch    5/20 Batch 1/3 Cost: 11.401794\n",
            "Epoch    5/20 Batch 2/3 Cost: 20.961008\n",
            "Epoch    5/20 Batch 3/3 Cost: 28.939528\n",
            "Epoch    6/20 Batch 1/3 Cost: 14.807928\n",
            "Epoch    6/20 Batch 2/3 Cost: 2.599214\n",
            "Epoch    6/20 Batch 3/3 Cost: 33.501408\n",
            "Epoch    7/20 Batch 1/3 Cost: 16.869902\n",
            "Epoch    7/20 Batch 2/3 Cost: 24.529007\n",
            "Epoch    7/20 Batch 3/3 Cost: 10.461083\n",
            "Epoch    8/20 Batch 1/3 Cost: 8.686938\n",
            "Epoch    8/20 Batch 2/3 Cost: 30.927563\n",
            "Epoch    8/20 Batch 3/3 Cost: 7.897373\n",
            "Epoch    9/20 Batch 1/3 Cost: 7.612912\n",
            "Epoch    9/20 Batch 2/3 Cost: 18.703302\n",
            "Epoch    9/20 Batch 3/3 Cost: 16.064274\n",
            "Epoch   10/20 Batch 1/3 Cost: 12.797729\n",
            "Epoch   10/20 Batch 2/3 Cost: 8.214152\n",
            "Epoch   10/20 Batch 3/3 Cost: 23.461618\n",
            "Epoch   11/20 Batch 1/3 Cost: 16.458567\n",
            "Epoch   11/20 Batch 2/3 Cost: 8.302089\n",
            "Epoch   11/20 Batch 3/3 Cost: 18.300760\n",
            "Epoch   12/20 Batch 1/3 Cost: 3.977037\n",
            "Epoch   12/20 Batch 2/3 Cost: 16.020422\n",
            "Epoch   12/20 Batch 3/3 Cost: 29.221930\n",
            "Epoch   13/20 Batch 1/3 Cost: 13.251001\n",
            "Epoch   13/20 Batch 2/3 Cost: 15.146610\n",
            "Epoch   13/20 Batch 3/3 Cost: 6.902967\n",
            "Epoch   14/20 Batch 1/3 Cost: 20.339699\n",
            "Epoch   14/20 Batch 2/3 Cost: 8.538606\n",
            "Epoch   14/20 Batch 3/3 Cost: 4.506875\n",
            "Epoch   15/20 Batch 1/3 Cost: 9.943653\n",
            "Epoch   15/20 Batch 2/3 Cost: 13.766188\n",
            "Epoch   15/20 Batch 3/3 Cost: 19.031033\n",
            "Epoch   16/20 Batch 1/3 Cost: 29.411713\n",
            "Epoch   16/20 Batch 2/3 Cost: 15.633725\n",
            "Epoch   16/20 Batch 3/3 Cost: 1.366826\n",
            "Epoch   17/20 Batch 1/3 Cost: 29.227428\n",
            "Epoch   17/20 Batch 2/3 Cost: 8.651312\n",
            "Epoch   17/20 Batch 3/3 Cost: 12.546141\n",
            "Epoch   18/20 Batch 1/3 Cost: 2.676948\n",
            "Epoch   18/20 Batch 2/3 Cost: 23.020742\n",
            "Epoch   18/20 Batch 3/3 Cost: 20.121801\n",
            "Epoch   19/20 Batch 1/3 Cost: 18.024099\n",
            "Epoch   19/20 Batch 2/3 Cost: 9.444228\n",
            "Epoch   19/20 Batch 3/3 Cost: 23.168087\n",
            "Epoch   20/20 Batch 1/3 Cost: 21.232851\n",
            "Epoch   20/20 Batch 2/3 Cost: 11.280956\n",
            "Epoch   20/20 Batch 3/3 Cost: 14.621032\n"
          ]
        }
      ]
    },
    {
      "cell_type": "markdown",
      "source": [
        "* 모델의 입력으로 임의의 값을 넣어 예측값을 확인"
      ],
      "metadata": {
        "id": "etCpuum4j2fj"
      }
    },
    {
      "cell_type": "code",
      "source": [
        "# 임의의 입력 [73, 80, 75]를 선언\n",
        "new_var =  torch.FloatTensor([[73, 80, 75]]) \n",
        "# 입력한 값 [73, 80, 75]에 대해서 예측값 y를 리턴받아서 pred_y에 저장\n",
        "pred_y = model(new_var) \n",
        "print(\"훈련 후 입력이 73, 80, 75일 때의 예측값 :\", pred_y) "
      ],
      "metadata": {
        "colab": {
          "base_uri": "https://localhost:8080/"
        },
        "id": "Fj6C9ztvj6Ew",
        "outputId": "ff54d35d-a877-4633-f9f0-d7b0e9806a7b"
      },
      "execution_count": 73,
      "outputs": [
        {
          "output_type": "stream",
          "name": "stdout",
          "text": [
            "훈련 후 입력이 73, 80, 75일 때의 예측값 : tensor([[157.2804]], grad_fn=<AddmmBackward0>)\n"
          ]
        }
      ]
    },
    {
      "cell_type": "markdown",
      "source": [
        "## 7.커스텀 데이터 셋\n",
        "  * 파이토치에서는 데이터셋을 좀 더 쉽게 다룰 수 있도록 유용한 도구로서 torch.utils.data.Dataset과 torch.utils.data.DataLoader를 제공함\n",
        "  * 이를 사용하면 미니 배치 학습, 데이터 셔플, 병렬 처리까지 간단히 수행할 수 있음\n",
        "  * Dataset을 정의하고 이를 DataLoader에 전달하여 사용"
      ],
      "metadata": {
        "id": "eVAjnY0wj9-Q"
      }
    },
    {
      "cell_type": "markdown",
      "source": [
        "###1)커스텀데이터셋\n",
        "  * torch.utils.data.Dataset을 상속받아 직접 커스텀 데이터 셋을 만드는 경우\n",
        "    * torch.utils.data.Dataset : 파이토치에서 데이터셋을 제공하는 추상 클래스\n",
        "      * Dataset을 상속받아 메소드들을 오버라이드 하여 커스텀 데이터셋을 만듦\n",
        "\n",
        "```\n",
        "class CustomDataset(torch.utils.data.Dataset): \n",
        "  def __init__(self):\n",
        "  데이터셋의 전처리를 해주는 부분\n",
        "\n",
        "  def __len__(self):\n",
        "  데이터셋의 길이. 즉, 총 샘플의 수를 적어주는 부분\n",
        "\n",
        "  def __getitem__(self, idx): \n",
        "  데이터셋에서 특정 1개의 샘플을 가져오는 함수\n",
        "\n",
        "```\n",
        "\n",
        "* len : len(dataset)을 했을 때 데이터셋의 크기를 리턴할 len\n",
        "* get_item : dataset[i] 을 했을 때 i번째 샘플을 가져오도록 하는 인덱싱을 위한 get_item"
      ],
      "metadata": {
        "id": "iXE5vkU0kTf8"
      }
    },
    {
      "cell_type": "markdown",
      "source": [
        "###2)커스텀 데이터셋으로 선형 회귀 구현하기"
      ],
      "metadata": {
        "id": "iUaLfEnmk4Hd"
      }
    },
    {
      "cell_type": "code",
      "source": [
        "import torch\n",
        "import torch.nn.functional as F\n",
        "from torch.utils.data import Dataset\n",
        "from torch.utils.data import DataLoader"
      ],
      "metadata": {
        "id": "KFr5bEeTk6_n"
      },
      "execution_count": 74,
      "outputs": []
    },
    {
      "cell_type": "code",
      "source": [
        "# Dataset 상속\n",
        "class CustomDataset(Dataset): \n",
        "  def __init__(self):\n",
        "    self.x_data = [[73, 80, 75],\n",
        "                   [93, 88, 93],\n",
        "                   [89, 91, 90],\n",
        "                   [96, 98, 100],\n",
        "                   [73, 66, 70]]\n",
        "    self.y_data = [[152], [185], [180], [196], [142]]\n",
        "\n",
        "  # 총 데이터의 개수를 리턴\n",
        "  def __len__(self): \n",
        "    return len(self.x_data)\n",
        "\n",
        "  # 인덱스를 입력받아 그에 맵핑되는 입출력 데이터를 파이토치의 Tensor 형태로 리턴\n",
        "  def __getitem__(self, idx): \n",
        "    x = torch.FloatTensor(self.x_data[idx])\n",
        "    y = torch.FloatTensor(self.y_data[idx])\n",
        "    return x, y"
      ],
      "metadata": {
        "id": "amI6Wpx5k80T"
      },
      "execution_count": 75,
      "outputs": []
    },
    {
      "cell_type": "code",
      "source": [
        "dataset = CustomDataset()\n",
        "dataloader = DataLoader(dataset, batch_size=2, shuffle=True)"
      ],
      "metadata": {
        "id": "bHxk-FETk-al"
      },
      "execution_count": 76,
      "outputs": []
    },
    {
      "cell_type": "code",
      "source": [
        "model = torch.nn.Linear(3,1)\n",
        "optimizer = torch.optim.SGD(model.parameters(), lr=1e-5) "
      ],
      "metadata": {
        "id": "OKh8tHW1k_Oc"
      },
      "execution_count": 77,
      "outputs": []
    },
    {
      "cell_type": "code",
      "source": [
        "nb_epochs = 20\n",
        "for epoch in range(nb_epochs + 1):\n",
        "  for batch_idx, samples in enumerate(dataloader):\n",
        "    # print(batch_idx)\n",
        "    # print(samples)\n",
        "    x_train, y_train = samples\n",
        "    # H(x) 계산\n",
        "    prediction = model(x_train)\n",
        "\n",
        "    # cost 계산\n",
        "    cost = F.mse_loss(prediction, y_train)\n",
        "\n",
        "    # cost로 H(x) 계산\n",
        "    optimizer.zero_grad()\n",
        "    cost.backward()\n",
        "    optimizer.step()\n",
        "\n",
        "    print('Epoch {:4d}/{} Batch {}/{} Cost: {:.6f}'.format(\n",
        "        epoch, nb_epochs, batch_idx+1, len(dataloader),\n",
        "        cost.item()\n",
        "        ))"
      ],
      "metadata": {
        "id": "MzBaop9WlAn1",
        "outputId": "ae4b871b-02bb-4ca9-86ad-f655ac35473a",
        "colab": {
          "base_uri": "https://localhost:8080/"
        }
      },
      "execution_count": 78,
      "outputs": [
        {
          "output_type": "stream",
          "name": "stdout",
          "text": [
            "Epoch    0/20 Batch 1/3 Cost: 40548.742188\n",
            "Epoch    0/20 Batch 2/3 Cost: 7291.494629\n",
            "Epoch    0/20 Batch 3/3 Cost: 1811.472290\n",
            "Epoch    1/20 Batch 1/3 Cost: 1189.893066\n",
            "Epoch    1/20 Batch 2/3 Cost: 401.466431\n",
            "Epoch    1/20 Batch 3/3 Cost: 98.862206\n",
            "Epoch    2/20 Batch 1/3 Cost: 59.924492\n",
            "Epoch    2/20 Batch 2/3 Cost: 5.559007\n",
            "Epoch    2/20 Batch 3/3 Cost: 0.005015\n",
            "Epoch    3/20 Batch 1/3 Cost: 7.238708\n",
            "Epoch    3/20 Batch 2/3 Cost: 0.579787\n",
            "Epoch    3/20 Batch 3/3 Cost: 9.432348\n",
            "Epoch    4/20 Batch 1/3 Cost: 2.596285\n",
            "Epoch    4/20 Batch 2/3 Cost: 6.112614\n",
            "Epoch    4/20 Batch 3/3 Cost: 0.173577\n",
            "Epoch    5/20 Batch 1/3 Cost: 0.585848\n",
            "Epoch    5/20 Batch 2/3 Cost: 3.764531\n",
            "Epoch    5/20 Batch 3/3 Cost: 4.496256\n",
            "Epoch    6/20 Batch 1/3 Cost: 1.750809\n",
            "Epoch    6/20 Batch 2/3 Cost: 2.692096\n",
            "Epoch    6/20 Batch 3/3 Cost: 4.092447\n",
            "Epoch    7/20 Batch 1/3 Cost: 0.873122\n",
            "Epoch    7/20 Batch 2/3 Cost: 3.545633\n",
            "Epoch    7/20 Batch 3/3 Cost: 4.466667\n",
            "Epoch    8/20 Batch 1/3 Cost: 2.943422\n",
            "Epoch    8/20 Batch 2/3 Cost: 2.787029\n",
            "Epoch    8/20 Batch 3/3 Cost: 3.619434\n",
            "Epoch    9/20 Batch 1/3 Cost: 3.126629\n",
            "Epoch    9/20 Batch 2/3 Cost: 3.285140\n",
            "Epoch    9/20 Batch 3/3 Cost: 3.671642\n",
            "Epoch   10/20 Batch 1/3 Cost: 4.018428\n",
            "Epoch   10/20 Batch 2/3 Cost: 3.578519\n",
            "Epoch   10/20 Batch 3/3 Cost: 4.788361\n",
            "Epoch   11/20 Batch 1/3 Cost: 2.840890\n",
            "Epoch   11/20 Batch 2/3 Cost: 1.529948\n",
            "Epoch   11/20 Batch 3/3 Cost: 5.260715\n",
            "Epoch   12/20 Batch 1/3 Cost: 2.605295\n",
            "Epoch   12/20 Batch 2/3 Cost: 2.249573\n",
            "Epoch   12/20 Batch 3/3 Cost: 4.657314\n",
            "Epoch   13/20 Batch 1/3 Cost: 2.926564\n",
            "Epoch   13/20 Batch 2/3 Cost: 1.515777\n",
            "Epoch   13/20 Batch 3/3 Cost: 4.302320\n",
            "Epoch   14/20 Batch 1/3 Cost: 0.500350\n",
            "Epoch   14/20 Batch 2/3 Cost: 6.037333\n",
            "Epoch   14/20 Batch 3/3 Cost: 4.123126\n",
            "Epoch   15/20 Batch 1/3 Cost: 1.343163\n",
            "Epoch   15/20 Batch 2/3 Cost: 3.552392\n",
            "Epoch   15/20 Batch 3/3 Cost: 4.573134\n",
            "Epoch   16/20 Batch 1/3 Cost: 3.172132\n",
            "Epoch   16/20 Batch 2/3 Cost: 3.901104\n",
            "Epoch   16/20 Batch 3/3 Cost: 5.279982\n",
            "Epoch   17/20 Batch 1/3 Cost: 2.121084\n",
            "Epoch   17/20 Batch 2/3 Cost: 3.004867\n",
            "Epoch   17/20 Batch 3/3 Cost: 5.418177\n",
            "Epoch   18/20 Batch 1/3 Cost: 2.273882\n",
            "Epoch   18/20 Batch 2/3 Cost: 2.860928\n",
            "Epoch   18/20 Batch 3/3 Cost: 3.722516\n",
            "Epoch   19/20 Batch 1/3 Cost: 3.066788\n",
            "Epoch   19/20 Batch 2/3 Cost: 3.034832\n",
            "Epoch   19/20 Batch 3/3 Cost: 0.832834\n",
            "Epoch   20/20 Batch 1/3 Cost: 2.018387\n",
            "Epoch   20/20 Batch 2/3 Cost: 6.400998\n",
            "Epoch   20/20 Batch 3/3 Cost: 0.817560\n"
          ]
        }
      ]
    },
    {
      "cell_type": "code",
      "source": [
        "# 임의의 입력 [73, 80, 75]를 선언\n",
        "new_var =  torch.FloatTensor([[73, 80, 75]]) \n",
        "# 입력한 값 [73, 80, 75]에 대해서 예측값 y를 리턴받아서 pred_y에 저장\n",
        "pred_y = model(new_var) \n",
        "print(\"훈련 후 입력이 73, 80, 75일 때의 예측값 :\", pred_y) "
      ],
      "metadata": {
        "id": "qc6pMUgslCUt",
        "outputId": "5281b73c-6ef0-492c-ad82-812318040b76",
        "colab": {
          "base_uri": "https://localhost:8080/"
        }
      },
      "execution_count": 79,
      "outputs": [
        {
          "output_type": "stream",
          "name": "stdout",
          "text": [
            "훈련 후 입력이 73, 80, 75일 때의 예측값 : tensor([[153.5625]], grad_fn=<AddmmBackward0>)\n"
          ]
        }
      ]
    }
  ]
}