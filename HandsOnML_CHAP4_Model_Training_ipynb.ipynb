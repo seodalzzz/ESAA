{
  "nbformat": 4,
  "nbformat_minor": 0,
  "metadata": {
    "colab": {
      "provenance": [],
      "collapsed_sections": [],
      "authorship_tag": "ABX9TyPMntslSzHn/PKibgRjPMSV",
      "include_colab_link": true
    },
    "kernelspec": {
      "name": "python3",
      "display_name": "Python 3"
    },
    "language_info": {
      "name": "python"
    }
  },
  "cells": [
    {
      "cell_type": "markdown",
      "metadata": {
        "id": "view-in-github",
        "colab_type": "text"
      },
      "source": [
        "<a href=\"https://colab.research.google.com/github/seodalzzz/ESAA/blob/HandsOn_Machine_Learning/HandsOnML_CHAP4_Model_Training_ipynb.ipynb\" target=\"_parent\"><img src=\"https://colab.research.google.com/assets/colab-badge.svg\" alt=\"Open In Colab\"/></a>"
      ]
    },
    {
      "cell_type": "markdown",
      "source": [
        "#**CHAP4. 모델 훈련**\n"
      ],
      "metadata": {
        "id": "1BNC1aH5BSwj"
      }
    },
    {
      "cell_type": "code",
      "source": [
        "import matplotlib.pyplot as plt"
      ],
      "metadata": {
        "id": "QmYsaqxiIubC"
      },
      "execution_count": 1,
      "outputs": []
    },
    {
      "cell_type": "markdown",
      "source": [
        "모델을 훈련하는 두가지 방법\n",
        "- best parameter를 해석적으로 구하기\n",
        "- 경사하강법 이용"
      ],
      "metadata": {
        "id": "3UVUXpTICafo"
      }
    },
    {
      "cell_type": "markdown",
      "source": [
        "##**1. 선형 회귀**\n"
      ],
      "metadata": {
        "id": "A_FXoSbHCrcY"
      }
    },
    {
      "cell_type": "markdown",
      "source": [
        "* 모델을 훈련시킨다 = 모델이 훈련세트에 가장 잘 맞도록 모델 파라미터를 설정한다\n",
        "\n",
        "* Minimize RMSE(평균 제곱근 오차)\n",
        "  * RMSE를 최소화하는 파라미터 찾기"
      ],
      "metadata": {
        "id": "G5jjCfXTGG8M"
      }
    },
    {
      "cell_type": "markdown",
      "source": [
        "###1) 정규방정식\n",
        "비용함수를 최소화하는 파라미터를 찾기 위한 해석적인 방법"
      ],
      "metadata": {
        "id": "n2Cm6Kz5GjbO"
      }
    },
    {
      "cell_type": "markdown",
      "source": [
        "![image.png](data:image/png;base64,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)"
      ],
      "metadata": {
        "id": "hZZlfVFFGrHU"
      }
    },
    {
      "cell_type": "markdown",
      "source": [
        "* Theta hat : 비용 함수를 최소화하는 theta\n",
        "\n",
        "* 공식 test"
      ],
      "metadata": {
        "id": "xxqIUhwZHhz-"
      }
    },
    {
      "cell_type": "code",
      "source": [
        "import numpy as np\n",
        "\n",
        "X=2*np.random.rand(100,1)\n",
        "y=4+3*X+np.random.randn(100,1)"
      ],
      "metadata": {
        "id": "Bhpj5Zu6HpPy"
      },
      "execution_count": 2,
      "outputs": []
    },
    {
      "cell_type": "code",
      "source": [
        "X_b=np.c_[np.ones((100,1)),X]\n",
        "theta_best=np.linalg.inv(X_b.T.dot(X_b)).dot(X_b.T).dot(y)"
      ],
      "metadata": {
        "id": "s-7fjLwyHw3v"
      },
      "execution_count": 3,
      "outputs": []
    },
    {
      "cell_type": "code",
      "source": [
        "theta_best"
      ],
      "metadata": {
        "colab": {
          "base_uri": "https://localhost:8080/"
        },
        "id": "jAKbAYcYIDs-",
        "outputId": "b26f7b70-8005-4a22-910c-8b7f57177c2d"
      },
      "execution_count": 4,
      "outputs": [
        {
          "output_type": "execute_result",
          "data": {
            "text/plain": [
              "array([[3.43995756],\n",
              "       [3.24142268]])"
            ]
          },
          "metadata": {},
          "execution_count": 4
        }
      ]
    },
    {
      "cell_type": "markdown",
      "source": [
        "> random noise 때문에 원래 함수의 파라미터를 정확하게 재현하지 못함"
      ],
      "metadata": {
        "id": "v5Qej0QQINJ_"
      }
    },
    {
      "cell_type": "code",
      "source": [
        "X_new=np.array([[0],[2]])\n",
        "X_new_b=np.c_[np.ones((2,1)),X_new] # 모든 샘플에 X0=1을 추가\n",
        "y_predict=X_new_b.dot(theta_best)\n",
        "y_predict"
      ],
      "metadata": {
        "colab": {
          "base_uri": "https://localhost:8080/"
        },
        "id": "8RwCpR-aISkd",
        "outputId": "22d7d2ec-14a1-404a-dd59-1184f89bc54f"
      },
      "execution_count": 5,
      "outputs": [
        {
          "output_type": "execute_result",
          "data": {
            "text/plain": [
              "array([[3.43995756],\n",
              "       [9.92280293]])"
            ]
          },
          "metadata": {},
          "execution_count": 5
        }
      ]
    },
    {
      "cell_type": "code",
      "source": [
        "plt.plot(X_new,y_predict,\"-r\")\n",
        "plt.plot(X,y,\"b.\")\n",
        "plt.axis([0,2,0,15])\n",
        "plt.show()"
      ],
      "metadata": {
        "colab": {
          "base_uri": "https://localhost:8080/",
          "height": 265
        },
        "id": "mPyMq326InHw",
        "outputId": "8d69516e-1270-4035-f710-e0777e2751eb"
      },
      "execution_count": 6,
      "outputs": [
        {
          "output_type": "display_data",
          "data": {
            "text/plain": [
              "<Figure size 432x288 with 1 Axes>"
            ],
            "image/png": "[encoded data removed]"
          },
          "metadata": {
            "needs_background": "light"
          }
        }
      ]
    },
    {
      "cell_type": "markdown",
      "source": [
        "* 사이킷런에서 선형 회귀 수행"
      ],
      "metadata": {
        "id": "WzS1LXG9I3KR"
      }
    },
    {
      "cell_type": "code",
      "source": [
        "from sklearn.linear_model import LinearRegression\n",
        "lin_reg=LinearRegression()\n",
        "lin_reg.fit(X,y)\n",
        "print(lin_reg.intercept_,lin_reg.coef_)\n",
        "print(lin_reg.predict(X_new))\n"
      ],
      "metadata": {
        "colab": {
          "base_uri": "https://localhost:8080/"
        },
        "id": "2NX1qpVzI6bW",
        "outputId": "2ef36e7b-c678-4f39-bfb3-23263e82f2b3"
      },
      "execution_count": 7,
      "outputs": [
        {
          "output_type": "stream",
          "name": "stdout",
          "text": [
            "[3.43995756] [[3.24142268]]\n",
            "[[3.43995756]\n",
            " [9.92280293]]\n"
          ]
        }
      ]
    },
    {
      "cell_type": "markdown",
      "source": [
        "* LinearRegression 클래스는 scipy.linalg.lstsq() 함수를 기반으로 함\n",
        "  * thetahat=(유사역행렬(무어-펜로즈역행렬)과 y의 행렬곱)을 구함"
      ],
      "metadata": {
        "id": "r1iiyzJeJcYg"
      }
    },
    {
      "cell_type": "code",
      "source": [
        "theta_Best_svd, residuals,rank,s=np.linalg.lstsq(X_b,y,rcond=1e-6)\n",
        "theta_Best_svd"
      ],
      "metadata": {
        "colab": {
          "base_uri": "https://localhost:8080/"
        },
        "id": "9EFRTkuyJNFr",
        "outputId": "455c6aa3-0b76-450b-f772-0d8dcaeb8bd8"
      },
      "execution_count": 8,
      "outputs": [
        {
          "output_type": "execute_result",
          "data": {
            "text/plain": [
              "array([[3.43995756],\n",
              "       [3.24142268]])"
            ]
          },
          "metadata": {},
          "execution_count": 8
        }
      ]
    },
    {
      "cell_type": "code",
      "source": [
        "# 무어-펜로즈 역행렬 계산\n",
        "np.linalg.pinv(X_b).dot(y)"
      ],
      "metadata": {
        "colab": {
          "base_uri": "https://localhost:8080/"
        },
        "id": "YRRLopeRJvs2",
        "outputId": "9115785c-2724-44c8-c5e5-e571fa53e5b0"
      },
      "execution_count": 9,
      "outputs": [
        {
          "output_type": "execute_result",
          "data": {
            "text/plain": [
              "array([[3.43995756],\n",
              "       [3.24142268]])"
            ]
          },
          "metadata": {},
          "execution_count": 9
        }
      ]
    },
    {
      "cell_type": "markdown",
      "source": [
        "* 유사역행렬은 SVD를 통해 구해짐\n",
        "  * m<n이거나 어떤 특성이 중복되어 행렬 t(X)X의 역행렬이 없다면 정규방정식이 작동하지 않음 > 유사역행렬이 더 용이함"
      ],
      "metadata": {
        "id": "cVVzRAzAJ5Fm"
      }
    },
    {
      "cell_type": "markdown",
      "source": [
        "###2) 계산 복잡도"
      ],
      "metadata": {
        "id": "b0nhvSBuKqBL"
      }
    },
    {
      "cell_type": "markdown",
      "source": [
        "* 정규방정식은 (n+1)*(n+1) 행렬(t(X)X)의 역행렬을 계산해야 함\n",
        "\n",
        "* 사이킷런의 LinearRegression 클래스가 사용하는 SVD방법은 O(n^2)"
      ],
      "metadata": {
        "id": "VPvxMsRWKryd"
      }
    },
    {
      "cell_type": "markdown",
      "source": [
        "##**2.경사하강법**\n"
      ],
      "metadata": {
        "id": "ldz1cQHA6S2s"
      }
    },
    {
      "cell_type": "markdown",
      "source": [
        "비용 함수를 최소화하기 위해 반복해서 파라미터를 조정해가는 것\n",
        "\n",
        "파라미터 벡터에 대해 비용함수의 현재 그래디언트를 계산 > 그래디언트가 감소하는 방향으로 진행 > 그래디언트가 0이 되면 최솟값에 도달한 것\n",
        "\n",
        "임의의 파라미터 벡터로 시작해서 한번에 조금씩 비용함수가 감소되는 방향으로 진행하여 알고리즘이 최솟값에 수렴할때까지 점진적으로 향상시킴\n",
        "\n",
        "학습률 파라미터 설정 필요 \n",
        "\n",
        "문제점\n",
        "  * global minimum이 아닌 local minimum에 수렴할 수 있음\n",
        "  * 기울기가 0에 가까운 지역이 존재한다면 global minimum에 도달하기까지 시간이 오래걸리거나 도달하지 못할 수 있음\n",
        "\n",
        "선형 회귀를 위한 MSE 비용 함수는 볼록함수 > 하나의 global minimum만 존재\n",
        "\n",
        "모델 훈련은 파라미터공간에서 비용 함수를 최소화하는 모델 파라미터의 조합을 찾는 것"
      ],
      "metadata": {
        "id": "5SUJe1l66XEO"
      }
    },
    {
      "cell_type": "markdown",
      "source": [
        "###1) 배치 경사 하강법\n"
      ],
      "metadata": {
        "id": "jJjvi3rd7lJp"
      }
    },
    {
      "cell_type": "markdown",
      "source": [
        "경사 하강법을 구현하려면 각 모델 파라미터에 대해 비용 함수의 그래디언트를 계산해야 함 (편도함수 계산 필요)\n",
        "\n",
        "편도함수를 각각 계산하는 대신 그래디언트 벡터를 이용해 한꺼번에 계산 가능\n",
        "![image.png](data:image/png;base64,iVBORw0KGgoAAAANSUhEUgAAAZcAAADhCAYAAAAEavhlAAAAAXNSR0IArs4c6QAAAARnQU1BAACxjwv8YQUAAAAJcEhZcwAAEnQAABJ0Ad5mH3gAAJABSURBVHhe7V0FgFXF9z4vt9hdulsaQcFASlAQVMKiFEFCRTCwULG7sBBsAVtUQEIpQQQRKaW7uzfYej3/8537ZnksC6Ls46/7m28Z7n1zp2fu+eZMXZtikIGBgYGBQQHCHr4aGBgYGBgUGAy5GBgYGBgUOAy5GBgYGBgUOAy5GBgYGBgUOAy5GBgYGBgUOAy5GBgYGBgUOAy5GBgYGBgUOAy5GBgYGBgUOAy5GBgYGBgUOAy5GBgYGBgUOAy5GBgYGBgUOAy5GBgYGBgUOAy5GBgYGBgUOMypyAYnAE1CN4vIK0wgEKCYmBiy2/9ZvyRvuP80HIMTEQwGaffu3VSsWDFKSEigUChENptNjC5n3BsYnA2YN9vgBEDwQzBpA0LZv38/jRw5kjZu3ChC7EyAMPUVYWuiMTgzgDjS0tLo6aefpuXLl+d2BmC8Xq/Umylrg7MFQy4GFiBzwiYUZFJRIQqygTBaunQpPfjgg9SiRQuqWbPm3xJQcJufAbHoHnWkvcEZgMuzTt26dP/999P7779PEyZMEGuH3SFla7REg7MJMyxmYCFMLEAoFKScoJ/sLgetWPInPTp0KL399ttUq1YtIQQYp9NpOf4LaNKAH1zRe9b3QORwjXZnhOA/QxCaIDoEXMZpKan0wH33U7++fanVZZdx1Vpl63A45GpgEG0YcjGwoFsBXxULKJ8K0r79+2lA/1tp2LBhVK9ePSEGCH4Qy+kKKDQvGK2pAFu3bqV58+bRkSNHqFGjRtSqVSt5DsH3d8I2OB4gFxlw5M4BdwFo35691L9fPxr57rtUuUplcrlcUn+mfA3OBkwX0cACyxvwi+IrhsNsIUXDXn6ZunbtSnXq1BGB5Ha7T1tjiYTP5xOCwdj/lClTqHv37jRr1iwhmJtuuokeeeQR8vv94k7Pxxj8fdi5jhx8xTAYSKRchfI08K476cUXX5DyRfkbGJwtGHIxEGhiCaFTy0Jq9cpVtGfHLrrhhhvkOQCC0eZ0AVKBRgLBdvjwYVq4cCGNGzeORo0aRV999RXNnz+fNmzYQNOmTftHxGVwDNBW7Da7GMvCRm3bXUF+1mTmzp37t+rNwOBMYcjF4DiAZEJMCKNZ+N98Y08qUqSI2P9TwQR/0EZAHFjCPGTIECpfvrz0rOPi4qhatWoyn7No0SJxawTgGSI8vGmVI//gcu7Tpy+NHTtW7M0ouMHZgiEXA4FiAoDBeP3Bg/tp/Ya1dGnrFtIbPuNJ4LDf5ORkSoiPl2Ebp8OJfrYQT6WK5alsmZKUk53Bdkb4FSScXHcXXXQRpaSk0LatW7l8reXlmJ8xJW0QTRhyMRDIxDuEjt9Pq1etpLIVylGRYolMDFYv+J+Si0zmYwUTe4dQ83i8tJi1lJEj3qXhw0fSzz/PpszMdIqNcZDPkxX2ZfCPgCrCG62ritnDabOL9lmzVm1a+Ptv0nnAasAgmMVoMQZRhCEXA4EmEAxXzfppFnXu3EmGsQoCdu49g2RSU1Pp7rvvpk8++YQuv+wy6tatK5ONh958801KT0vnXrbbyLsCBuqUuZ06cX3OmDHD6iRIIRsd0SC6MORiIBANgzULrNhas2Y1Va9ePXcnPuz/McKkBfLo0aMHxcfH0YiRI6luvTpUukwp6tSpgyxFXrZ8JSUmFZV0GBQMUO6oOywtL1GiBO3Zs1fm0wSmnA2iDEMuBrmA1pKRcZR27dot5KL3REhv9wyA4bZ33n2H/vzzT7rjjoHWfgsH9stgLoeoatWq1PDchuwOmhMW0xoUFFB3oJHy5crL/Mu+PXvkt97MamAQLRhyMbAgoyXHzhSLccfkEgtI5kxw9GgGjR83nlpdeinVrl1b7KywQzI9sGb1Gjr33AYcv9XTNjhz6LrT9ZdctCiVKl2G9u7bx3ZwYLkzMIgWDLkYSE8Wa4cwUnKIiaCYPY4bhovlj7VKDOZMsH7DetqyYQM1qnsuxTo5XA4vyC0vwGQS9Cv64/el1OSSphRwWBP/hR2RJK4Pk4wcDtS/T2a0XxhtlxewO6adhMjFWqLb5SavN8gP7Uw4cGOI3CB6MORiIFBMJRBDB1MOUbmSpVgo2cmmmFzOuIt7TChe0Kgxh8k2LPC0WPtt/gKqWrU6leQ4YX/G0f0HoUkiP0Ta63KE0aQfSTAwkdCdAthjxR4M/2B7He7/YGEbnDUYcjEIwxI0WdlHKSkpgWx26yDJM4eNihcvTknJRWn3/n0UZHbxenMoGAjQ9u3b6NvvvqUbuncjJ+ZhIDD/BwSePg4nOztbVssBkWWNexhoHjjZQN9rc/ToUTlCPycnR451AfSzSGA4DH71PiX8yRAn31v7jAwMogdDLgYCEWi2EDeIILncOEKEhV1BcAujZo0a1PfWfvT5N1/T6nVrKS0tnX7/bQE9+/QzNPi+eykhKVGWK7vsZ7hZ8wwBLQACOr/rmUKHhXJGHvFdnFdeeUWIIlLDgBsdZySx4B4GwHE5zz33HB04cEDsQDJwD7d5gbClbtk4nA42Tjkehm3CLgwMogNDLgZhQAiFKDbOzcKHhRuGUApCzocF3hNPPUV33XsPffblFzTmkzF0mAXj66+9RtWZeDhCEXYSXej0hZ4WmtqcKaR3H0FuCDOv3T+FDgsksG3bNiGWXr16yakFkWmPjA9aCT769cUXX8hKO/iFady4MXXq1EkO/Dx48GBuuKdaeAE3IBW4Q/A6DgODaMEcuW8gfVg/944p5KfFKxfSe088R6PGTyK3O4EFFiSR5e6fAM3LF/BDmpEfPW+ODEE6oaXAAdsjfiyTZcf80y5DcqcDCEpAC+7cpow4ZPiH72HC1voGzjSZwY9e/ox7GGgCmzdvlqEnfMMmKSkpV3Bjd3tIWYGi/y/xhgtI4uff+IUhPtxr4Bn2mBxJOUK39OpNzz7zDJ13/vniH+euWeRgYy3F0ljWrVsnbrA/yOF20ooVK+n2226jp5ikEQGimjxpEhPP5/T111/nDn3h5Go4kPh0+cCwn0G33U79bulLTVo0lwNKkWtDMgbRgiEXAwYLIiaAgM1BK1YtpxEvPUujP/2KbK4EFlphJ2eIyEZWUOIMTRdDRpjDACF88MEHtAffkI9LpnvuG0zFyxYjG2fADgWdpWso6CE/a0YeX4BGjx5Ne3Zuo2JFi9Jttw8SDQIEsnjxYlq9ejVVrFhRwsdnATIzM0XTgOCe+P0EmjJ9Nh06eICKxznokmZNyR1flJycqS07ttPOPbuoetVq9PTjT0p4Irsxj85XCPS33nuHFs+ZR59++im5cQIC26FsQgpDYUEubzf9/vtiuv3W/tTp6vb09LPPU4jz0OGajrRj/UZa/NsCKl6+NLFL8nk9dE2HDjTgjtvp+uuuFZJyOHGqwjFyQRo4aPLbQ3T3oIF0a49e1LB5cyHwGCTOjF0YRAsgF4P/dYRUwJujcnx+tWDJQtW7+zXKn5OpAoHw438pmFgUk4ry+/2KCUalp6ergQMHqhi7W02dOJnT71XBkI9zF1ShYEj5crLF7dQZs1R8kWRVvVo1tW7N6twwZs2ape6++27FZCLG4/GolJQU1aVLF7Vhwwb57eEwtu89oM674GJ1RasWKi3loEo/mqGyMrPUwUOH1PsffajqNzhX+b0+FfAH5BrkcsX1SGqqql67lhrz8Sgub5/Y+bxexRqS8ng96mhmutq4aZOqUaOOatvmCg4zQ9zlcDi33X2nctrtauEvc5XX71E+zrvPH1RPPvW0uujCC1VW1lHl8+SgKgVMLJz/gFxDgZDyBDmMO25Ti3/5VcLzsB0Xi4FB1GD6LQYC6WHzfzExsZYFw4ZJ/XzA7eY4cypEuol0q+3zM6dCXrforWMYCcBZaKVKlaKWrVvTx598QiywLS2Jg0SodruLsrO9NH/+QmpycVOKiytCZcqUkxMDoAHhu/MNGzaUMAEMGcXGxtK9994rbgAHawJFiyazKUolSxaXQyFRZpgsT0pMpJu696Au198gH1zjFMpCBdxjLPD78ePpyIEDdF7D83LzieEsaBd2h5O8gSANHnwPHdi7i5556imZfmL5zxpXkNJS08Qdvt6JEw9sMuKlqGGjRrRy9RpauuRPfn6implbVvyH+oTB3Fo4egODqMGQi4EAssYas3eJwLNs8geElf5qpDZ6hVOkyRVsYaPd4V6Ho03e3/kZHa6OC+mFAangCnuQwD0P3Etz5s+TyXDxF8S4lKJA0E9btmyhatWqUP1z63M+7ezeKW4weX7o0CEZFkM4KAPY49qkSROqVKmSZcfpRFwILzY2TibJbRwOZD2IzMUkMeSBB8jGRCBDXjB8D6pZvGgxJccXkW/YACALOEJegGnTZ9K8uXOpVctmTHL1yQ2i57hwJM/GDRvETbkKFdifNa8TDAWpVu2aFAj5aeGCX5lwsBT5WL1JOuUG/9ieicXp5DhBdsecGRhEBYZcDAQQQ2GZyb37nLAQlUcnQAt2CF8IYm1gDztt9G9A2wGwh3ttB6MFLBBpn5/R/nG1BLQlqPEMBNC81aVUreY58sXLEGsD0GxwxDzLfZo2bQq1aNmUicbD/n0cjk/8Q1vBd08wOQ5NBct8Eb4W0LjiFpqIZWezwhWBThwe9u1spyWLFrFGFB8mFxgmD3buY/JatXIllSpWnGLi4mRJsBWmZbDY4dPPPpP0du3SheKYMPHNFYSxbfsO2rp1q2hJJUuWFPd2W4Dzqig+0U2xRWJo1eplnEdrz0tesHOG1CgFAz4hQ6lwA4MowkzoGzBYYEMIc494x/Yt9OAdd9C4SVPIEQMhafWSI5GVlSUT4hDwmEiHwT02BWpENisIfmgUMuHMwhlGC1UIcGgN2uB3fk0SbiPtoU10YSGMcEMYP+JE5nC6PnjvfbrjvsH0xRef0VuvvErTp06jsuXLC7McObSX3n//A3roscfpyWeepqnfT6SFvy2guMRE+YDZwYOH6L7776cpkyazEC9BHTp0oH59+7IWcZ6sZkP8GHryclxdrruODm7fSq+8Nowc8fEU8Ado3DffUcvmzan7jTda2gzIj8nBrwKUw5pey4ubUBGbg37+fSHFxMZykpksOV/wu2jJYup4TUcK5XioQ7t2VLNOXcpmwnEzUS1duoTmzp5NDWvXlc8VxyQlkIO1kIAtRPtTDlLLS1tS6fgkmjfvV4qNS0ZhSVp1eaH+vOSn+++5h7p36ESXtL+SGd5BMVy3pntpEC2YpmXAYCHDQg9j8S4WijlZHjmh+JgucTwgNLFyCsIrISFB5jnw6eIaNWqcYM455xyqXLkylS1bVo59x1wFlvaiF57IQh2798uUKSPDTnBbs2ZNOdwyr8GS4Dp16oipW7culS5dmlPNfyw/ZZiIsxBk7cHJqXbaFXViYggyYU6eOEmEq50F8dRpU6ndFW2RVcoJeCytg1Ua+A/xHw53/OCDD+nrb77lOOqJFtOeBfGwV18lr8fDYUBoc1z81tgd1v36DRtp5crltHH9BkpLTyOvLLu2BDpIFVd8sEuBDPgvJyuTsIdIhsv4KcoQ8zg/zZhO3qyjVK1KFapTrz75gyEqXaY0xSbESPg46a3z1R0poUiiEBxiwLJt8IfiPKA+ENfJIBsnuQOAnfkAU49cDQyiBm7cBgYqEAgqT8CrduzaolpddKHyZGYpP1YahZ9HgrUUWZ2FFVYwgUDg2MqkfIx+Dn+RBs8if2t3pzKID3FjhRV+qxDHq/wqGPKqPbu3qucef0R5/dnK4/eoW/v3VRdf0FgdOXRApaQcUoPvG6iys1NUhi9N9bv3VlWzThWVemif8ngz2U+OysrOVJlZWcrnDygvx/Hbb7+ptm3aqLiYGPXxBx8qv8erghylh9Pd+frr1PUdOylfdrbK8bLJyVFbtmxRY8eOlfTJyjKvR1aM+XxeddSTpZq2aqqqly2r0lNSxZ7JT/KN+Fq0aK7i3E414o3XOB4PP+Oy5WerNqxTZcqXUyWTiqpVS5ZxRXFuuQxCQR/fetUWrq+kEonqhmuvVj5vBteOVWORZRti42X3tw/opxbPmc317FfZPs6IWS1mEEUYzcXgOMgcBiZ8gZN0bmXMn91heEt65+Hf+hlMJPBMu9PIew+j3Z3KIE4Mr2E4DKM6ViLRD1eU48mxpjkQJpsbunWlbTt30PLlK+jnWbOpadNm4g9usj0Z5PP7KBDI4fCwoROT3Q6KcbtkdRa0lAsuuIA+++xzGRYbPWoUZWVli9YGw8RGAb+f04N0WXmpwlrHNddcI9oI3GDehRlQNBcMq118SRPK9HrowN69GI9mdxwOx3Uw5TDt3ruHkuLjqVnzZhQIBcgXns/5dPQYSj10hDp07EB16tcVrUfCJWgtNvL7/JSRliEnHdj4dyR0uVpQHB6Xlfy2Nn+etIINDAoAhlwMjiEsjGR1Va5QOhFwo+dNtNDHvSWwLOjfeU1e95H3f9+ACNGEcbVRTo6XSpcuy7+s4aKLmjShMmXL0ogRI2j61Kl09VWdOG8cHzmYHIK5k/Eg0+zMTPpjyWK+x9ARUw0LYqStWLFi1K9fPzkDDGTCsQp5CLmw4UTk5oG1BCkXrKTDM9jJEBbC4qJp0aIFeQM+Wr9mDdlAUkH2z0nfe3AfHTh0gBJi4qhc2XJkZ5IDT2zbtp3GffMNValYke5/8EGysT3i43/8nHNpc9LeXXvIwRZt2lxB2DCqcVw5WRb8n0UquMXVwCCaMORicAzhjiz2Voh0PkvyB8I60pw+kEAQC4Sqk7KzvBQfnyRzEHgSn5BAN958E/3441SqWaMWuRxxbIv9Kk4K+om8Hh8TgZ+JJESZmRk0YvjbcuQLNAotgLVWgklz7OI/Zm8tL0ZyQ9AIGLCHxoKDJWfOnBnOC3vg5yDsy1pfRmUqlKc1q1bJ/AfCwlyMM8ZJsXGxFB8bK6dDQ5vBcTxvvfUmHU1Np2eeeprq1a9PXpymDD8cKnRLHCczc/pMqlqlqpw3hqNjTgVoPZImK7kGBlGFIRcDgeJevAgt7g3jeBRLPP81IEzRY0dvHau9YHAPA0GN3wEOGxsJtTtcMfQkV/avtQAYHMWv3WB5Lp5Di8gPEJbQPjCRDzd+f5A2bNnKgpeFv81BfiaPrtd3o3Nq1qDrunSV4TAW82RnhcGf7qWQ307ZXgwXOdjYacWqNbR6zTpOh5VWpGfjpk00fcYMuu+BBwklFAyxZ7Z3O520e/9+OpySwkRlLYlGWlP49/PPP08ZGRlMIBwOKIg1DjtrWAnueHrs0Sfo20kT6UjmUQ6LU8NprlmpGtWtVZf2s3Z08HAKl42iaT/8SGO/+ooee+Jxuq5rFyEVp8vJGWCtCYTIefZkZ9OyP5fRLbf0paTk4mR3gDhPrLeQLUQO9udkEs7xBcnOeQUdy/dzDAyiBMfTjPC9wf8w0HsPcS8de1w+H/0J3Xb77eRwW99YORXQE4ZQ1QbEsIp75vhOCVaSYV8IhorgDiGhd697z0IcEJYsrNesWUMrVqyg4tgHEosztzDMhL0cmA+xhnfyAgSgr/PmzaU33niDVqxcKbvYsbossUgiazLx1KhRI6pbr57MjyxdupRGfTyKlixaQslJyZSZlU2lSpWmypWrUKVKlembb76l/QcOSB6QJiz9fXDIg1ShQgUhs7kcz5scz8oVK0XD+G3BAlmCjbTPnz+fxowZI/nBicfYk4Kd+9ivgnxiuXPtWrXpl3nzRENBmrCKCxsva5xTgyb/8ANNnjKFxo8fT4sWLqRXX3mVevbsKWGAvHRZAyiNadOm0a7du+npZ57hvGEVmDVcmRcgVPw/5fspMn9UpWo1Kc/8lpkbGBQUzD4XA0EQWofDJrvUO7VuSwuXLCVXQqyM558KkaSyZMkSuuOOO+R3WlqaLCt+9dVXqcnFF+cKV/TAQQb4DbNz50567bXXZJky7CEw3xr+FjVv2lyGpLDZEESTH8khHh0W4oeWBOGKK5Y6AxDKcKOvcAeNSi8KgJ3eg4Nw8BvPETbCiouLE78gDAhkPEMYOBUA0PHLQgGkk93iCr8IE/dwg6vOM8hvyJAhMpeDeRg8Q3w4in/ZsmWyLLt+/foSN8LV8SBMpANxgPS+/fZbeuGFF2RJN8LFc+tU5OOhh8Nu69OX+rCW0/zSS2WqCkugEbeBQTRgyMVAgKEWkMv+/fuoy5Ud6beFi8gVH/OX5ILmAy0FPffXX3+dbrnlFrrkkkvkN04p3rljJ02b/AMlFysqq5ywEoqZgoWporWsGdx1110yjNS0aVMJ6+57B9NRJqZPR42RFVaOGLd1PDz38POmBAJZN19cNdlAyMLADr81cWjgXgt7CGoAfmEH4a0FOuwA7U6HEekXRKOJRSPSnYa2AxAHFgi89957shEUJByZFxCEzgfs9VWncSFrNZjTGTx48HGfAwCQ17xAuDC39e1PfXr3lhMMZKjMbpGfgUE0YOZcDAQQUNAUICy1lnA6YgdCC8IvNTWVhg8fTm3bthWB17x5c/roo4+ofr16NG/OHHZoucUKL8yl7Nmzm/r3708333yzuEUYENI169SmaVOn0cH9B/m31Qs/2dwABKOVbstAsEKjQDj4rcPU99rAnb6P9IurPqcMBnbaRPrXBm5wsKUOQxv9PD87GIQHTe3hhx+m6tWrix3SCVJB/HAfmW6dT9zjisn7Rx99NPczATpcmPyB8gsPLcLIMBlmkE69AMDA4ExgyMUAUh//kWJZg95xTCyEOthAnp4Ay7X1HybSYVq1aiXDMyLAGBB6ELyDBg2iTRs2SEPDvA4IBsNWTz35lMSFuQn4gcHyYHyPBXMZ1m54xHKMWPDbsjt96PQAOh5tp686zEh7fQ/oe+QpPzeRbk8F7QcGcYJMQCLaDuFraDf6CuAKg+Ey2ZEf9vdXYF/hO3YbDu/vlaKBwd+HIRcDS+ZwTxbAVw9tLuzfwJ6O/AHRhGWwLKW4AYW1BxdrDSzwUg4foTmsqWDoBhpKqbKlyO5mUnExcUF4snBb9PvvNOn78XRrv77cU3cLyWDlVCAYoq1rNlK5kqXIHR8r8wKQnU5IQsSXB1q4wkgawibSPtJEItL+VH4iTV5/f9doQMPQmpK+6jToKxBpB6O1KNzrMHDV4Wt/JwJ1G6IiCYnk93EPgguWXVuPDAyiBEMuBrmA/MYqJi2kTip+hFesXrS1J8RGqSmpNHToUJnQx4nCGzZupIcefog2bNgo8y3MIBIgtJIPP/iQklnLufa6a4VYICQljLQ0Wrd+HVWrXo0FYUKeeCxj8Pdh1Sc0nlgu76AcqomiZNqyHBgYRAGmdf0PI1dY88XalY/j9rNl+S7AykT+YH+WuGI3fJOSmkIDbrtNTlbG53u7du1KvW6+mR577DH5xnv6kVQZ3Wf9hVZhee8vv1ByUiL9MGUKfTJmjMzNYAnvyy+/THv37qUWLVrKJ4BBPEijvhr8M2C4E6865lh83pxw/UEtlMcGBlGBIReDXEDWuJyuiEltyz4vhFhYA5GNkSyy3njzDVq/dh0Nvucea28Ljiax26l0qdLUtUtXql27FsszdssBzv/9N/Lk5FDPm26i2nVqyx4UrC7DFyDXchg4tfeqq64SMsGqqkhiMQTzzyDH5MhVkcMltceG7ZRhF4PowZCLgQAb6gDsicCKMeBk4/IinljQY94FGw5xNP2NN/agipUqCSkpEV4QZjZZclupYiUhHGwmnD37Z/kccM9evejSS1vJyiccoV+uXDlZBt2wYQMhGo5AjjvBMmcQDKCvBn8XVj1KZ4EJ5hhJG7I2iB4MuRiIiAnJJC9RLCaM2UASiRDKR/5AxGPnvd1hpz+WLqWUIynUpk1b2ceCQETrYbLC53kPHjxIteo1kClln9dDWzZtkl3qpUqXFTvMwcD9zOnTae/OnfTgQw9x4DZauWo5ffnFpzRhwgTZKa/87C4sJJEkkY/5pM0gH3BhsQ5I3pCfFDoOXIwYBc3lGAODKMCQy/8wINTDNxSyO8nBP+OcDkpJPSpy22bPX/rI1xMxMcyPt27aTMWSi8rHu0AKCEu0l5Ci5cuWU4UKFcmZUIRCrLkEsLudNZFatWuTKzae/Ozf7nLJly0/GzOGrmrbltq0u4L8QT+NHfsV3dijG11//bX085xfKD0lVYKXVWoGfwvQJfHVSluMk7JT0q19Q+F6MjCIFgy5GJwAa/iJhfjJBDnb4ywr7CLHUSX4zHEmEwS8QGBhvuXw4cOidWA+Be7hFmd5JcTHy9coMcuMvSz4HgkWAWRlZ9OzLzwvS2sXL1pMyclJssrMHeOmKlWr0qRJk0xP+5+CCw5Fhz016Wlplt2p6tfAoABgyMXgBOjhMD13cgJEg2BycNjlW/Y4x+uXn38WAgEx7dixg5544gkaMGCApdEwZLMgqx6tWremtevWUXZWNs4eou++/ZamTJlCn3/5JVWtXl2Iaf2GDRQfn5A7mV+5ciVa9uefEo7B34fUIv+H8kT54rfRAA2iDUMuBgIZKZErtAkcuX8q2OQQShicFvzuu+/KoZV9+/aR867efPNNGjhwYO6ZWTIXA18cNs4SczPR3D/4Xnr04UeEND7++GPCyjGMe2EuB5JQhCALQOu4fU6T3yf+serM4J8AX9q0Nl3i3oExRgODKMIcXGkgRILd8XabosOH9sv5YIsXLaLY2AQW6CyM8sgh7FcRkY//uPkE/NZ3WHbu2kUJRRLk3CyQA8gAwMZM7IeBW+yFCXq8tG/ffkoqmixDX2iC0IJw/AuoY+KEcbRqxZ/03LPPkTcQom+/m0D+o5nUb8Bt8jVGhI0ESOhGRv41uG6zbQF6+cXnqFH5atShN47cscvnl/UqQQODgobRXAzCsPoYtpCdQn4W8Xy1LKxLJGCFp5GPXDFuqlGzhiwp1jvuAU0y+CqLtR6N5KTjKtWrCbkgWvSmsYlTetbstn27K2nvvoPkxYetWAAuXrSQmrVqKRHqOCPjNvgLcGGhXA+mp/PVSUEKcMcAa/WsOjcwiAYMuRhEAIt9mQJkc502JwKu5I8FFgy0Dg0hEixTZlLRxBIZmksTD/7xFTpQ7rH4GEJjN9iI2anTNfTW8Lfpo48+pstat6YatWrCgzXMxm5yAzQ4LVj1hfPJ3FxfXAdiaQrQIHow5GJwxtAkkksm4Xtt8kJrNrhioh8GAClp07lzZ1kQ0KNHD7ruuuvELQB/Bn8XmKvCPJmTcjKzWWExzGwQfRhyMTgBFiGcvvDJSyyRJhL6d35u9D3C0aSDuZtSpUrJb006+ZGVwV8BZYv6sVNsHM6N4zJngjGDYgbRhHlTDU4AiyL+n0XPaUifvCShcSr7yCsQ6fZ0jMHfRLgec7w+JmgX/7TRSQ8lNTAoIBhyMcgF5j8gcywBbnq2hQUyCsaV6VDWUfuil4Ko5amBQXRgyMVAlhTjg1zozQadNop1u60fZplqoYDC9/KZVRICTChFE8jm91PI5sUTy4GBQRRgyMVAADGD/SZYuSWA9mJkTyEBhhP5ZbfbKSc725ofE73FVLBB9GDIxUAQHgkjh9P6fK5laRGO2Wf7XwfXYYiofPny8o0csWELU68G0YQhFwMLYTmjP/QFYN+JJhcjiP67kI+FoeNgd8j3cVCX+kgeA4NowbQwgxMQ445B1zaXUAy5/NfBZMLkEgwF5fTp3Kl8UVcNDKIDQy4GgjCNkMOmKDmpiHzGWLq7+J+F0JnsL9HkBKNPOs5rYK+fGRQssIESpRob5yKnk+tUqtK8+gbRhWlhBsIh8gEp9HBVkFw4q9Jho1AB9GzzkgV+Y9HAsbH/E4nGIArgunQwsYTIJ0QTUphXM6+/QfRgWpfBccCJxwePHCkwIY9w/Fj6yloJrjAY91+0aJF8JOyXX36hjIwMo7WcBbjdbil7DIudebfBwODUMORiAIVFDquEaFcOB9lEdZF/Zwy9q16TR2pqKvXt25fuv/9+euutt6hfv37UrVs3OnDggCGXqAKVTEIuUre5y5ENDKIDQy4Gx8AkgM+EZeR4mAyC3DjOXPjkna/58MMP5XsxP/74I82bN4++//57Kl68OH3++edCQDAG0YAt90uhqBMDg2jDkIvBcYBot7uYVliDKQhNIm8YnTp1ov79+1NycjLFxsZSvXr1aOTIkbRixQpKT0832kvUoOSbOVK64TI2JW0QTRhyMRAEoTGwtLGzAPL5WX/BPQ6lKgAJhN6y1l4aNmwoBGLn3jP20fj8PkoumkxVKlekjWtXkyvi2zAGBQQu76AKUWbIw9egtRJQPhdt6MUgejBvsoGMwWNIDGRiZ3njZ3KRI9rDPdwzHUYBuWCsHwSDCf2UlBSaMGECjftuHM2fP5+yc7Kodu2a5MnJOXb8jEGBQWqP6zAtI4McrvCHwvh/oyUaRBOGXAwEEDgQNiE2uBbkuLzX65UjZbD8+LvvvqM+ffoI0TRt1oyysrLotddeo00bN1FsjBsy0KCAEe4ikD9grdazULB1bGCQF4ZcDAQy8e5gbQVXFvzSqw0LnzPt4cbFxYn2grmVF198kZ5//nm6pnNnqlSxInXs1JF69uxJP/00i5KSkjlK0ySjA0XFihWLIBcDg+jCvMkGuQCVSG+WuUThyH0hGOvZmQDEsnHjRnr11Vepd+/edN5555GDNRmni43DSVWrVqXLLmtF1c+pbsVvUKCQEuWqxJCjfFKay9jqL5iyNogeDLkYCCyZzloLjB17U+TnGcPSgIiGDx8uw2P4Nr4FtsQjjmjfvn1kszsoLpY1nDPUkv4rOF1tEO4ijUZeu7zPjwPIBBdlkxV6KHtxWwD1a2BwMhhyMRDBo+whWYfsVrEUQ/Esj+z80zqi5YzAgi3b76c//viD2rdpSzXPqSEnLwMgkqAvQAvmLaCrruxAIbuTnTvkWWHGSUngL3Ayf38VntQvCIa10Tg3kwtbKPkQ3D9Lh4HB6cCQi4EgJEtTGSyocnduF1DPNi0tjQ4ePkTJRYuSy8HkwXFgkyaEYlp6Om3evJkuvPAiIbT/JYGHBQ75AeWiDYYU9T2AoS29GfJkbvIDNNLsnGxyO11WEYt765mBQTRgyMVAYGkTEFRQNo6xihZYpxJcf4WkxEQqU7qMTCZDW4FQDXEvGsNkoz7+mDp06EDx8fHWSrWwn8IMn88XLoNQ7tJrTQ7a4Dme4R7lpt3jXvuHwX2kfb7gQkWNFi9ajGLcbr5nCxQ0h21gEC0YcjEQWGLdRi63g2JiYmQ3NzQJCDd5fgaCKC4+ju666y5atWolrVq5UkglNTWFXn/tNSpVurRsrISAdNjRvy6c0NoFrkB2djaNGzeOpk6dmksiAK74rQke7jEJrzeh4nlmZiZ9+eWXtGnTJvkNYnGwRgiTHxASCCU5IZGys7L5h50cbMziCYNowpCLwQmAyLHIxRI+EGBnIojQw77pppvo3nvvk4n9xx9/nEaNGkVNmzalm3v2FMGJ8C3B++8TeMh/pDlTQMNAGYDE27dvf0LZ4jfiQbmBiHE0zo4dO6R8cLJxImuCrVq1omeeeYa2bNkipKJJ66TgZONUhAC0mzPPgoHBX8LGjdg0tf9xoAEEgwEKKRtlZ2TS9Z2uoUlTJlJ8Ujw/sXrDmgD+LjDU5cchmBBubNDc8DVErFqSb/Wj+SHc8BVxYL/N6UC3XJwkwDoBKRv/z/eicQWVlWaQVTjZ8tlmxMF/cjAnHrEJhpQIaP0qQKhj8jvgD8iSaZfbFR6ys46twco2jkoMvkVPTsRnHXGD4T7ONT/k3zaEaUUegDbCESINLz3/AsUnxNPdgwezVuLmQCzBL9+1Z+cBTlvA56eRb4+gsWO/IXdMLO3bd4C63nAtPffsM+RkUkIsK5Yvp2effZbGjB5NRYokclhY3u2S+CIR4rJARkePHkXZrDHePfheCnHabE4uaxRAlAHiQ9lq0kQ54art8Nug8MGQi4EgyII0wMIm/Wga9ejQmb6fOIGKlCjGksGR+/L/E3LRjUt8HvfjzCFNF3KTr4GAj6bOnErrt20mX06A+tx8C5UrXcYSnhD6zATKH2ThzYKN/c79ZS6tWraYhXICNWnRgurXq09ej4cys7Jozpw5lHI4hX97afvOnZRcLJkGDBxIpUqWpHVr1tKkaVMp5AtQvN0JSqNYJuHkxCTKyvLSkcOHqWixInRjzy5UvGgpjtrNxBSSs9t8TFob1q+nAb170/eTJ1P5ypU5JVj+zWkKBDmNAbAMpWdl0n33DKZ1q9fQJx+PpgrVatKrbwyn4S89S7/OnU0NLmhCCoTGJHT3oDupUsVK9Mgjj3B5hChGlhofDyFGZq0vRn9FKUf20L0P3MO2TEKyadZyEy2gjjDMBwOSwZAeyBtDfUWLFhV7ELt0NAwKFUyXweAYIKjxxxKnoGQOwskN67gfBQHQBPQJaBMuatH8cioSU4yefPwpevfddzkujixCegZZuwiwED98+Ag9/PBD9OQTTzEpJFKVylVEs8hmcsEJAvXr16c+/fvTnYPvoRdeelFIZuH838jBArpmjZrUp88ttHT5Evro4w+pw9VX04039qTOna+lzp06U9Wq1eidd96nwwdxwrN1zL3OuIM1ng8+/EA2kZYtU0aELUhHhrQ4neBKDIMNffgRmjZtunyeoG69uhQfH0cXNG7MRGWj336dJ2HZ2A9C7da9O41ijQTntYWL40SAWDlwp9PB6WECw++TOo4OMMeEzyuMGDFCvuPTtWtXGdbDSdhGcymcMLVqIMDHowAIHTmaneWOVmrzKrd6mONsmsg4I+9lbApSltMfF1uEzqt3HpPMpTR+/Dg6dPCgpNdyizzapIf866/zqXy58nJCwPmNGlOReOzrIRo/8Xs6yj3r2rVqySnCPhbENu7d33TjTeRnggkxMeFEgRKlSlKZimUoPjGOKlWuSMWSi1FSUhKVK1+Guna7gXr16s099BxOklMEJwQ60nA04yhN/fFHatW6tQy36WEirRFCw/nyiy/pi88+p359+tC5DRqIZoQhP+YlORsslUnE4bDIH/6q1ThH0jx58iRQjoSTFzJ0x6HY2Z8MvYk5vk6jCXxpFGRfu3Zteuihh2Qo7/3335evkA4ePJhycnIkPZHG4L8PQy4GuYDQxhAFhJbX5+WXHALMeqYFoIYe6oDRwiCvgIg0GnntTvVc2+sr0ochFVxhBDY7hdCKOXks9ykzPZWGPHi/pHf6tGkUZPdIIwQ3coDJ9L1799JNN93Iz/zk4R41dq5zxmnztq20afMmyjyaQTFOFzmZGLCqqk7dOnR91y4yZCXDN3YmBBdRli+bNZ6ACHtFHE8ohwkrRIPvvZManNuA022VG/w4mKTmzp0re35KlSwlZI5n1hJwjp/vU1JT6Z2RIyk+JoZ6sEYCYkGc0Fiw0g7X2Di3RTbsHn9FixenevXr0dQffhDyyw/It41JOC4uljKzjvI9l53SGlX0gRMYrrjiCmrAZIm5NhBu9erVZQUhVsthwYJuS7rjYPDfhyEXgzAgCa076W2zUD4ZIAA0qUSafwodHsypcBypCERsIuUUsgU53QE6mrqPKpYvS+3atZcVaTjqH8SCCXoI9KVLl1KJEiUooUgC2xN5udesibN+g3NpOQu6uwbdSWmHj5AtyPnS+QQZOFl9gFv+54hxsIiH+LfSFAx6yevNoImTviOXy0buGCwfZvHP7jHJjzD27NkjV8QdLmrRpgCEMZG1D6z+atbkEqpZs2bYb5D8TIgLFiwQt8WKFxW/WKqAf3EJ8VS+ciUmn9Wi1ZwcNtlL5JNOg14JeHaEODSWxjKsZxeDuFEOZcuWlc6CHP8TtjMoPDAT+gaWcA5CVAYpNecodWx3Jf345ThKqlSeXBiPYeDltwSSpbUsW7ZMjsvHHIEmh7xNKVJg4Kr9YzIX7nWY6NnrzYCAdpc3PPzW4WAZb/PmzSk+IYFTjWd+soV89NarL1GH67pQypEM6nZ9Fxr14Si64sorKchB2tnNS6+8TDf16kVrVq+mG7t2o6WLF1Pteg34uaJsJpoH77+fPh3zCZUtU5Y6d76Gbu3Tlxqcdx6zCdMIh2GzOymH/HTPfQNpytjx9NXnX7JwP0fmY9av/pNWr1hKQx9/huzuhLDo5jRzvjCn8+STT9I777xDs6f/QBdd0oyfYQ4EpEfyTRsMl61jkripWw/qwpqSl/04mNA2bthML73wPAW8WTTnlzl07nkXktPGflljCrDfAXfcRjPGT6JfZs+heuc15ERKxLkIsZYS4PTNmDmLFvwyjZ5/7mmyOYqwOwcUo6gCdarrFUD9gWBwHTZsmJyUvXDhQiEavU9Ht4t/CyLb3b8pXWcC5AdAfnTeChqGXAxECGKyW4X8dNhzlDpc2Z5+/noKxVUoS3oNj+5xAiAC/Wli2EF44HmkEIkEyCOy16r3ZeAeGwDRBDU5naw56rhBTNjrge/uDxnyICUlJzMpchpYgNqVl4a99Cz16jeAihUtSVe3u5rKlSpLoz/9VD6StXHDapo+cwYNuvsumj17NnW/oTv9+ecfVLNWXY7AEoQgS3zf/9NPv6Bf5syhokxePW+6kZ549imKT0xgdw7yMxENGnQbTR77LfW6pTeVqlCVyO+kdSsWU+Xypem5l16mkCteNA1beH4jyBrIgNtvp/Hjx9OMaZOoSZPmnGZr+TOWUP847Qe6qUdPcjHTdLzqaorFZwqQZZuTfpv/K+3esZVq1axBc+cvoITEokJmIa4cvy1Edw4cSBO/GktzOb0NL7hQ8hIJaCo+rpofZkynhXOm0SsvvUAhewITS/TJRdeprld9v3//ftYu21G3bt3oiSeekLYBoJ51Xf9/QqcXwL1O078hbQWByPwBUckXR2LwP44Qm0AwpHx+r9p79KA694L6Kn3nHpUTCCgmEhXgKwteyzGDiSDXXj+D3ckMnuc12h7+I91E+os0kX6O2XPc/BfgNPlDQeUP5KhnnxyisnPSOS8+NfLtEapsqdJqw9r1ypfjVY8/8rBau2alyvFmqR9+nKTiY9z8bK1igss1Ho9HMcGo9PQMNXPmLHV568tVQmyseuD+e1VGJofL4eQEPOrGm7up2lUrqAN7tisvx5XjDai9u3erR+67R+Vkpik/p88HE/DLcz/n84mnnlQxHOe0qd8rvy+b8x7kuHzy/J7771ZMuqp9m7Yq/UiqCsAe6cjIVG3YLs7lVE88MkQFEZaf8+4PcZhBlenzqN59+6jyZUqrnVs2W5WZByFOh4fr9/Px49R99w9iv5wPThdbnRWgjpEXlC+umZmZql+/fuq2225TaWlp8hzQbeDfgGNtzGrrSDvuCxOQH50v/S5HmjPNr5lzMRCg38J9RhnCwSQzluzqvgy3k/CdBfRy8mojf8foMADtXyPSXV6TX1ysb7BRrAWwCRJ5PQFyOWI5zUTNLm0hK76mz5xO+/btob179tA559Rgf/jc8rEjVgDkEUbnKTYmhlq2bEnfjPuWOlxzDY0aPYaOpqfDoTXfgY2JQU6D9UuOrileohQ99PjjrCW5WVPBRsxjc0iIC3M9GB7bsX17OG70iDk+vl/0+yJy8PWiCy+iBNaWUOLI2R9//inzRGXLlqG+/frBC6eP/fI/pDc7I4tWLFtGFSpWpJKlSyGqEwHnbDIzs7iMMGmO0BF/9MFkIelkQSX3MJ+yJpnMGucrr7wi80DaHQC3+v7/GyxgxUBTR7oKE3R+0A51HeGKvDLh5NbZmcCQy78cqORIczaABudKiBMBp4VtpCDGfaTRdnkR+TwS2j4/kxf52R9zf6w8IOR9viBlHM1hosGmSTvVqF2bOl7bmb748nMWaGOoT59+LPCxQgvE6GRPWCZsvVgIb/HixblzPxD4uCYkJ1H/O26XYbUAv3Q2DOkpFn5cJn4mLiwzRvIw9IRNiQlJRcmHl5Xt2VbCRvnBD1ZMJSYl0b79B4QMUZ2IF/dBJvMYh4vaXHaZZcd+fUxOw99+W/bZ3HrrbVSlShVOMl5Zfo4iYXfpaam0ZtVqurjJxeR0n7g7H7BKz0ZFOS8Y9pPwOY1nA1Y9cXtyueT6ww8/0KpVq+T4GyFR5D0sxLSQ+zcA6dBpwzCszkdhgc6Pzicg7Z7bF4atYYf7M4EhF4Nc6NcaDSvAAg2vEu4L6qWPptjAi+LJwYqtgHUAJkdmZ4F27Q3X07r16+m33+ZTs+bNj+uN8eslGhoAUnn/g/dlkQLy6uceK/a4BDjvIITiJYpbu99RKBy+O9bFwj8g7hTbwQ8Ef4Dj9Xh99Nnnn7GdNa8kz/jvnHPOodatLqU/lv7BvUOQkvUMRAbhi2W62G0fQphsv/D332nmjBnUokULumPgHUJA7FSe4cga+E9PTZPFDV26dJHfkr48QOzMquwP5fT/88qjDc2bN4+WLFlCr7/+unUKdrhdYUUfroDkoYCBkK3QGcf9ODlAwph7wyZPpAmCVqexwKHTxEbfni0gT9Ke+L3AvqPVq1dLveD3mdaFIZcCB5oGeoUYAmDh4/fyy5PNjdUjAgyVhso7FbBsFqu3cLaVnwWVjwU9zpqCfTSAJgRhhYlqDM24lYN86LWw1Pyr9wl5wYuIHdhapcZQAvKphxS0sMTxJ37knw2G3+AXBn5g4AeCBvdag9CNPz/wYy4jdgOCYL9HM9IoPTuTa4BfDi53N+ep+UWXULmy5enm3n3IzwIWGgjyK8NDfOMPcnpRzqxp7N67l36e87OkDe9ViO0CnK+P332P7h98PxUrVlIm5u0cnV256Gi2lw6nHqUQp8ERnrx3sN/x345joZ/BAcAOL5nNWtrN6Rk08E5au34zHTqUwklGuaA8QqyVVKWcgJ827dxGIaedtm/fTg/eex81qFeX3n3vHYpNSKSgjeuF84qjbuwcV9Dvo6+//poub9OGLmnanMktf80FTRJp8Hkzyckam0255ffJyrWggfrEcmOtsWBIFQbCC0uvv/jii7BLayhKCzUt9NAm0L7QzqRtcDl5Oe/4DcLF0UV+fj/QZuAfbrAxE8/hN8eTQx+N+piefOopGjliBL39+htyIvUbb7xBW7duFfdoax4ft2P2d+jAQXp86KPyZdSkYkVz0wF3Ej/aOceHdxLaLOKEX3REvPwMHRSEJ/bh9owr/GmD/Mim2LQ02rhhg5zph2XiHm636LCcLaAecCYd9mq1bn2pEOrIke9y+nG2nvUOw2i5pd/J04HjaUb43qCAEVkJaEx6g6K+nhTsDU9lAyBXpl5dhd7TmaqqJwPmB4J2FvRMZpO+m0Bdu3SnuCJFIII4fivO/NKMPMJeX5G+nTt30sGDB1kYFxN7bEQM4jmHI24UQkU2rZcW+UMPcd26deIeu91hj7B0nPnFbZWSlYZ169bSmDFjaOkfS+nIkSNUrVo1GdePY20AG/batG0rwxsQOhiawenMeOmxNwTaQvmKFURD+QwryzjcOO5ZQyB+9NFHcnrzDTfckJtOzBn8PPtneTHXs2DAFUISy5vxbNq0afI5Z+xV0eWiTeXKlTnc/VJG2Puh20KlSpVo2vRpNHPmTFq0aJHs0bnwwgtlZ3upUqUsdxH1D60IghFHxGDlHvIKwF1eYJMoiwVatnIZHdyzl65sf5UMG6Je8y/XggPyj/ro1auXrC7EKj0cA4M6wBXlW6ZMGbosPByYt7w0UFdHjx6VkxO83EZzQDbc6YKWimN18H4cPnxY6gH1tmvXLom3XLlylMluMeSJOHZs2UqbNm6STbH4SF2NGjVy2ynaZMbRDCEWHE/TkrVMtDF0RNA2ESZWuWG/0sEDB2j37t1yYgP2LUEAr1y1Up4dYDfoHEATRVsGdH5Qf3CLdvg2E92LL71Iw996i37k8qhQoQJV4XaLOkS+oo1jZYwOnPW+NW3aTFY0bt26jS686KLj2sgx99b9XyGqS5F1Q4mM4lS/8z4D8mZCh6nvNSLdnSz8v8LfcRuJ49OIirI0E4SFRoSd2Tj9tkWLljL8kZ8AiITWUDzsFy/gRVzJGG/Hibf6xODj4zxzBNBj4qAx6Xtduw70/fiJVKxcKSRGGp0WanmBlxo9MVwheHG0x08//ST5btKkiRzv0bJ5C2JdRT6ti5cGX1RG2UALgNBA7xufQQahrF+/nh588EE5ih5uQAhAfvmFewAvK+KGUCnChIj0QNiWLl3aiifsDnkAyWNoBi8+hLYnx0NFiyZT2QrlLc2Ke7u7d+xid1lCMBD6GMJBnemwIMBw7D3CQFzIA6B3n2v3cXFxuX5gj3tcISQffvhhyeM111wj9gCGJCAEAexmB/noNgkCAxAWwk5NTSX0C6+88koxOgwMkeUF2hP3O2n0F2No96bN9PQTz7IWxELZiaXIBduO8gLp+vXXX+U8MZQ35lkAXCH8cWJBnz59RPCjbHQ9R9Y38ox6w7lvs3+ezQq1Teqpdq3aNGL427JQArnftn2bHC+D4bdbbrlFljq35U5FJmsuqKN41kR633gTPfTgELrgkotFs0H70nWDt/aVl1+mbVxG73/wASeCLXAeG2soeIcfe+yx3A4QHt3YvQc98eSTVLFyJcrxemjFypV0S6/eyDQ999xzEj+ISwN5QjpwDtyAAQMoIzODhj76mBw/dGv//hymjZYtXy7HEv2VjPgrSBrDZajbxskBjQTvCGu3vgAT4w7q1q07jR37NdWuXUtcICxt9O+/BEccFbCwEcMvvhh+CU9Y9ob7SKPd4x7ucdXAM/zWzxGWNvid1y3c6ec6Pp0G/Rv3Oh4djr7CRLrXdtpvpIG9BlcS/0a8XuXxZKvhw99UX3/9pfJ6rSWukeFr/7DD8kwWemrVqlWKXyTFqr5itVvt37tPDb77HvXHkqWSnrzxIq9njpAsjc0J5KjD6WmqVZOWKuNwOqfLSltk/vIC6WCVXx04cED1799f3XnnnWrWrFmKe++qR48eiolR7dy+Q8LJ9nH+uXwC4bxlZGSoIUOGqPvvv1+xoBE33377rWKtQ3EPMDfuk+VRtwlt4D5vGeE30hdpr8MVE04Llgp7An7l4TT6PJxOtosMO9I/fuu6xFXb4ap/5zU6TtzDDZOhYmGpWPDKb4Sv/ep8aDv9HPlg0lZZWVnqzTffVKwJyDO4h4Hf/BAKcP1yuX/4+cfquWefUCH24+E8slYcdnF2oPOGeousU9ijbPQzQLvRZY987tixQzW+oLFyul3K4XSqevXqqd27ditvdo5iLUbcPfDAA+q+++6TtqXrPYfrNIvfv63bt6lWzVuoA3v2HVfG2mzfuUNVqlxZTfvhRy4zrnc2Pi43PIP7OXPmqOLFiysmI+Xi+Pv2vkVlZWZJ2rI9OepQyhF1UZOLFff8xY/Ol84b7PCedOzYUXGnRW3atEl52U0Wp7PnzTerpMQktWTBQmmTZwpdfkjDtm3bRLasXLlScedF8oE2hGXg3HlVP/00k+1/53zkSBqzuTy7deuhBgwYKLIIaY/My+ki6roXJ0YOrkOvbO3atdIzw1EWmDxiIUQ///wzzZgxgyZPniy99LFjxxILGDn/KRKcVgkLV85o7m9A/46Efs4VL1cuNLHjAhf3sNd+Iq94DoPnuAK46rgA7QZG+42EfoYe+Zo1a+i6667L7ZUhHBg850qTHv53331HrVu3lt4WVhTdeuut8m15pBPHkvMLQ0OHDqVtrKrCLjKOgoJMgvMfhqxYt5BeW+RqrJMBeUIvCx+z6tmzJ7HQkwnoyy+/XIaprrrqKvryiy+kZ4mysvJu1QcmdjEOj9NxdY8WQ0mHDh2S4Qe4R/j5lbEGnmuDMtZj+biHQdrQO8VV1wHuc/2xJijPcLXj6HdXrnaZ64YNwtVhwmg3uOpwYbR9fgbP4Rb1hjShXjFkB+gw4QZuER8M7PS9/g0N6e6776a6deuKnQ4fYeQLdDK5DFHGWVmZUp44OBN2ZxNIH0ze+oSdLhtcI6Ht4ad8+fI0cuQ78k5w4uVLnG+99SYcSV7+/PNP0Syg0UGDg19tEAY0zrLlyokGFRk2rsD06dNlbgRDqkih9qvrrlmzZtJW8Rt1iHmbCePHyz27pNGjR9NlrS+TNo9wddgwSD/cvfbaazL0yZ0qqlK1KtuzXywtd9hEW8bKv9N47U4LiBMGGiI2q1566aWiIUJz13WA4esbb7yRNmzYkJtWtDHII8hjlJnkj+3/LqI354ICDV+hBmLMGpNpWRnpLDgO0OHDKSJEDh7YL8MZcs8ZhVD/+OOPpSIxJKEzpQsKv71+L30/cTItXLyEli1bTjX4BY2JccsyUTQ6y0AA4yVy0fgJE1g1n0sLcT4TC040Ujuru1u2bKUff/iRdu3cSbt37xEywFh4vXrWS7ucVdQPP/pIiPHPP/6g3xf8JuPhi5cs5uti2X+AcVucnQT3SBv3u2QvA8jx3sGDZfdx+fIVRHChAUq6uEEhhT4ml6GsxmPc/OVXXqHHn3xCxlxfffVVSmJVuSkLacy7JCclU44fu+Lfpms6dSLuNZGdVWeUrQxrcGC6sfxd5DYaxaTHAUE7xpxLp45XU0xCnDzXRkPHJLvPWaXGyqcKFSpyfVWUhoiXCkCacHz9lKlTqH37duSU+mF/XBboXDzFZQMywjwE9tagXLhnJy/pRRdcKJ8/zi9+jchnkc/zu897jQTsmFM5L9YellwXEU7z85cXp4oDZYFy0fWkyQBEoUkF0FftDr8jw8vvXpd35LPjwGGhG7Jt105ayW22Y4eO/ItzikUI7OdUbSe/5/it4zqVX43IdOFe/44MI9INoMPV9rrsyleoIO8aOqV4hnmc6tWqU7lyZemB+++XvTMlwweDIgh0GkSAcxiff/YZ1apRU4aZYS/LusNxo6P3+OOPUREmYAxZaXIC8D/uET/aM+KE0MVvyIP27drR6rWradqM6fTySy/LPB/ca8P/yVzRau5IgVQqch7eevMtrnd+h7kOsAjg7beH04G9+6hPr1uoVp06VqRh6HRo6LL5K8AfOnMYHsY9yBOLazqzDLnooovlI3hxcTEsiw/Sww8P5YDFk/jFd40+/+xTOpdlYWN+F6UMwysNOVfHpe+k4IRGBVC5WchawwwBv3rk0aHKzersu28OUwE/q6Gsqvv8rPay6hlgtQuqFwwLbFbHBoj6zwUTDs1S8/AcaluWJ1tt3b1H3TPkMeWOTVTvjnyXVclj6jaGpuAOu583bt6mSpcpryqVK6v+WLRAHdq/V/lYjf39z6Wq1y23qE0bNipfjkd5srLVls2bVKuWzdW+fXtE1U1JTVOr1qxTNaufo65ud4XasG6N2rZ1s9rKZuPG9equu+5STZs2FRUc8QIYfkhnNfepZ59WTZpcoFJTj8hOap+X04chmPDO62xW05958XmVVCRefTL6Y7HLYrNoxXKVmFxMde/UmVVtqNysXrPfNZu3qHKVK6ppkyeqIJeNx8cGeeUywjATygrmWBkcP2QUaVj7katOMwA7JjDFjUp1ad9B7du2k1V2q07gNhLY2R2A3yDnKYBhG4/Kws51j1fU/vnz58uw2K5du1RGZoZ66703VEr6QdlBj+GD7fsPqIu43K656irl57Lycvl7PYgroL76eqxyOZxq2qQfVAhlxmV3LJXRxdmKB21Tm7z1EA2EQvzecByTZ85Sjzx4L7efdBXiugpxReq2ottEZNvANe993vag/Z/MaP/aaETa5TU6Lu0XadIG8aempqqrr75aMSnLEBV3TlS7NpepqZMncVvKYYOhQgxdWu5h8I526NBBcUeRZY71HuK9wTMW7mr/wYOqSqUKqnOHq5SP3zu/z3NC2lFfkEusHamy5cspB8fvcjhUw3r11Y3duqtNW7eozOys3HrVQK5xkkKffv1UrMutnnzsMWnzOEXCw243s78yZcqo5KQktX3rNpGHkXFrRKbldA3yh/RwB16xpqvinQ7VsgnLrLQMtg+o9z4YoSZ8/7XIQD+7E/dsVq5epYomJarHhjzAdvwsyHli2YY2c7ovykn06IIBeoJgTG4U1L9/fypTtgyN+fRzOeY8FPBLr5tdCFtyYYr5jHsXWLMf2cvTQFiwx2GKFcuUoXO4p1yVtZuvP/+csjNZ3edeM5cnG4vdsZT0B9Zwzq1Tl0qWKEGVq1Sh5OLFKMB6J1bjYCIUvWYAMWG1BiYXs5m1EReGEbCaJJnVcKw6qcpaBdxAo8IEO5Q+DP9EphO3KUcO09dffSUTeolFisBW0s11IpPa6DFh/8JrL79Cl7H/Gzi/3BTEDcoEpXLg4H5iEmQ7aDqK1fmyVKtubdHqJG9Yfst+AKQVdlDpsQwSk58w0AJhh6E3XPEb99yAjkuzIPwbYaGHgjrL6yQX/AD+cw0XOOL7mLW8O++8Uw4ixGoZrHT6/vsJZOfn0Fq4ejkCO02fNpXWYPKzXx/xj4lljAVA42Nioti4WKpRqyaXQrhHy27OBk6nM1YQkHoOm7MFtCks2YWGiDLFlzmlPbJhISRtAyudtMFKKFyxQgpDntDo0VvHUBTc5wXsEBag24WG/n0yu0j7vEC4Vpu03n0ACyYwPIVFG7BHOjFx3pbfNwtWmDjJQMuVSZMmyfAQNBKswAxyUAHW5xRrMCF2dzQ7k9LSj1JyUiJrNc7cNOm49T00zqpVq9JTTz1NrliXnJa9dv06WXxRpXxFcmKEIsKPBkZGsMwX8eODcyhTrPbbsXMHffnll7LIA6sWMWQHv3j/dNpRBrp885YX7rU7mLzPdDpKlixJN910E3F/nv5cvowWL1pIAb9HvozatGkLS4vFH7uHPyyMwdAt6j0yL3/nHYle6+ZUyFAHFwrUWAjlTh0709p1G1ilnU3YF8BNhwsEcyDWclvMyQAXX3yxXPNWEH6jgWGtPgZYHCEfvT7sZdq9b69skqMQhKZ1Ai2uu3ZsYyKy0RVt2sgSWzvHAcGOVwMvzSIuYHzaNrICsQQRqreA68nptEshIw8yBMUG7lH5sMfnZXFFhUhlsp8N6zfKUSP1WL2VNHNhWEd2sPrNhJeaniYn5OKQwqFDH5HNeUgXcrtqxUpZnZKcnMRCl6uHA8Qa9NjYGCpZphStXLOa9u/dSzEuN2FPCjuQpCLt2C+ABoTxVYyj4tq9e3e6+eabZT4Ey0FhsPwzshECIBRZySWGG3comJtf4Hj3nFeUGecsyP0T1sxo2Ksv0zffjJVhLnyno1+/frKnAZ/9XbxwAac3hsNyMMl56eMPPySny0G///47vfraMHr62WfpkaFD6YEHh9D348ZTwwYNqUy5Mih+q0yxeu745P6noYlFC8uzA5QjasyqU5wSjQ6Nrles0kPbQDtBe+nbt690FLCqDSsAn3rqKXrhhRfogw8+yH1f4Ff71+9E5LuEZ/o+0r2+B/K60UaHpd1pWYAyw3PMN2EeEu8lZAeWf89gI27wnofd44pwGjVqJO0eHUYZDuP2bmciQOjo8LGWTjmebFmRCSJGmIBOMwzCgsGzXr1upk7XXiuHjrIGQ++/9x5tWrue30krfXnNTz/NlNMUkF7sr8H72b17D+rG8gbzMKxd0NUdOsgQKfY96TitTt6xcoPRv7VBmnDVZa/TDeg0wx4rE4uWKClDdGNGfUwrl/1JZUqVoeLFiosbDcgBkXdcLhJeOJ5jiLw/BdhTVMAZkKExDIthKATX5SuWq0rly6tLmzVVR1OPqADUsEBI5XitAwNxkN2aNWtENcMqBS7YcGgR4O4WhtJC/Ozl559WWzZvUL1691LXX9tZeTI4TLb38nMM1Xw44nW1buVq9dTjT6sGtWur1MMHuJPNanAooIY+/aRKSCyi7h98r9q+ZavKzsziNOQonzeH1VJrBY4PajPnoXnTpuq2vn04vVh9glVfOWrDhnWKexziDnFyxYrBgYUfjhqj4uPi1OwZUxUHhsKQFTtQxzH09OW3Y1WRhAR11eVtVFYWq6esdqJ8PF6v6tbjJsXkqR4YdAeHlSNDSUFOT3bQrwY8dI8qWixRLZ73qwpB9WY1VZcH0rB//35R+2GYqBX3NBX3jhT3QuVZSkqKrBDhXlJuujUk7Rwe0tD96s5q6/pNyhfkfHH+8YwbWdglR4nVcCgLjtfDZfTdd9+p0qVKqtmzZlnlxmlDfcJs37ZFPfPUAxwX8hhQfyxfpYqVKKFuuOEaNW/eHLVkyWK1iM2CxYvVg488qtwOl3r26We4jL2inlt1beXT4J8BbR51O3HiD+rRe+9RQe9RlRP0yoGZqFuUNQxWsGHVIlYS4f3TRtclhoRgUL9oO2gTum3gOfzi/cUqNt0OsUIJBnbLli1Tf/zxh6xcWrBggfrpp5/UzJkzZfUSVs1hOBX2f/75p+Ies9UG0M7DccBEtq+pU6eqpKQkGRpzsny98Pzz1K7t260hJ25rMDpv8AO/MPiNIXs5VJSvWfx+bdq5TZUoXlTd1K2L8nkge44NbeGK/Oq4YXJYVjzw0BAVEx+n7E6Hcrtc6tqrO6isoxlW+OweBn6zc7LVlZ07KqfbrZ7jtp2ZflRlZ2SqtPQ0tWb9OlWxciXFGo2aMX2G4k6wtHnEhbJHOTz44IOyCg4rMW+//XaRk7feemuuwTTCK6+8IkN/8KfLSqf9WJo96vY775LhxKJxsapti2Zq1fKl7McrQ/Z4zySfXC47du1SpUuWULf36cV2LA9lWAzChk047L9C1LtO1gocp9zX4d7G1R070R9Ll9LPzOTHhnXsMnnOGZPVM5wu6R1wAcnzSDCHyjp3LgZW7YOUVDSRuvTsQb/8+gttwBp0zEiz/yNYcbR3D51Tq4b0TLiZ6ADIycHec/fdsiLiI+5FX9qypUy840BBLjmJVzM+gB7OypWraPr0GbJmH2ve8S0K3YsCtHv8YTe+C0M9EQQPe7jMYk3pzbfeEtV8/+59dOvtt1H/22+XXuLAgQNpzuzZ8gXESy6xtDeUhZVr1gDdTsrxeq0DFFlbgJaEvAKIG8fQYxgPCwxwhfqO4Tt8KwN7AbA3A+ou9l9E5u+fQPKOj2lxvj4eNZq1jXOpabOmub1NXFGH+LTvhY0bSzkhqUv/+EOGMHv37i37YBqe15AaNjyPzjvvfNqyZbOkscsNN8gEO3rWWFnGDTocq8E/BV705CKJ5MnKkd94h1B3up4ADDdBC480esEB3mH81u8ygHqObENYFTpo0CDRejC8jCsLQ9nrBC0Dw8jQgqDdYrMphoOwmAXDp9jUisn4l156SfaqYPUo2lh+bRRtCUNhb7/9tmwgxYQ1hl2xzwQLY1j0sSsYS8sAEI5ul3BrZ20YKyNt/B7hzIYyJUrLwiCMaGBYHNqD9oN0RKaFBTV9N/ZbykxJo+eeeZZcMTFy2sOMWbPoC84ToN3CP/ZSQeZBI8DGWLx/KNOYmFhatHChLGbCRt1LLmki8bDwljziHuV9wQUXyLCbXoUJg/07MG3atBE5du6550pedZojoesJI0k333KLfAMJiwhiWEbVrFWbn3GcYbeWf5Sx9R5Xr34O2x4f3mmDA4gKWDAIe+qeL/YRoLewfOUqVTQ5SbVp2Yw1iYOitWRketStfftJrwbsCubnl8DqJaG3wX4x+YWeOljVF95HMvyN19WRI4dVSnq6Or/x+Wpg/97ca2H25l7F+G++UlMnfieawpPPPqdqnFNZHT60i3sF6FVYvRb00KZNnaY6d75GJSYWVSVKllLPPvOkysnmMLzZHCf3eDjNrVq1Vhc1bqwmfT9RTZpomRu7d1dffvqZTL4F5Oh3ybSkdcR776oE7tFMmjCOewPck+AwZK8Bs/5vfyxl7aOYSoyNU/fffY96fdhr6qVXX1XD3n5Tde5ynYpxuVW1cuXVhtWrLO0Ak2mcB2gRT7/6nIqJc6nvv/1KhTiPVtjoIVlayN69e6WXuGHDBrVx40Yx69evV5s3b5ZJSGgzWFsPTQbuUT8WoFVxz47LN8fjU12vuk5tWr2O8+Llujs2wZsL+OU4c/g5enxlK5RVDz8wmNNr9RBhUIeovw/ff1+tYM0EdplcVk89/7wqXixZrVmxjHufOcoLjY3r/A/u1ZYuU0b16d1TebjHtmPvHvXNt1+o2wf0URmpKdKbOyEdBqcFvDcouwW/zld39OnNPXPuXbPmgncJ7QB1c/jwYdljNGnSJDZT1Pjx36sJE9DWp6ixX3+rxo79Rn3yySdq9OjRoqHAn25D2uC31g600e60QTrymshnuJ7Mn34GzbtLly6ynwpp//zzz0VzwN4TjBh89cWXsncJn0fQYcEdrpJWfg9FI+ar7LnCc3Z3512DVK2a56htWzYpb1h78fI7qONFGNAmFi1apLpy/CmHj8jv2wbcrtwxbsVEoJjo1G+//SbtXxsmD5XIMg97ZCDjsCfHw+8GRhFatW4l2tf06dPFbX6Lc/Tvk9khfTCRz8Vw/pAvLB4SuclaURprVu3atVNxbpf69OOPZCEU9nTpckA+kY7ZP/+sShUtpn6Y8L3IOC9rLhjFwUIehH06iJrmIn14YcvwPAl6C8yQ53CPGl/c+33REpr/228y6b508ULpKYB9MbHEhcR+ORDuXaxbs4Zm/zRLjnpQOOZcgDFA4h6GhxLiEik+Np66dutGU6ZOp0MHD5EnO4tWsCbUtGUr7qHZKSk5iZicOLgA++QeNNKkghTjdlCbtpfRl199SdNnTKNLml7CvadhNPbrrzh+9OsQH7vl3kOVqtXo6quvpg5Xd6D27drTsFeHSRpYLodTZEHmV1hHx/lAhw8fAXuzLXrtIdFWNm3cSD7uGdWrU4sef/YJuvvOe2jwPYPp1ttul2+r47vuV7ZvR1WqcY+Bq4f7XjKnARzas497Mg4qWqK4dEWljMRYvRUsNcQu5kcffVR2E+OKOSFcda8RY+fYR4QyjoSVVysfMEHu2Wg7QPfELPA9P7LbFR0+coDS01NlKahVb1a9Iz1YVnz4SArVrXcee8EOd87/5g1UqkRJ1qbKsX+24/KD+y8//5yKJMTTkEeGSDvBGWQJ8TG0e99OKTfRWKUsDf4+rLrDx+DwCQKr/cPWssf7yQQviymw9wzzl0uWYKn9Elq5agXt279PjlZBPUG70b34vAY9Z/S0Iw3sIg385jWRz3CFv8jnAAs+aV8s/ES7wX4w9OQRL47aue7669FI5Td2x+M9Yyl4XB51OmFlLUXmcsCV7aBVdO3ejVLS0lgr2svyKjypz88RLwtUcQeNCe8QduYXSUoUu8eGPiqnBQBYNIBRDWhx2h+umOjH6AHmnkXf5/iw9WHJ4iUy/4LPO0heOW2INzK9uhxOZhdZfvq5lWvrXWYq4HQomaMtwppo31v6UIlSpal1myvYreUf5SDu2S38L1+2jMqXK0+XNGnKdrDndxppQ8A68L8CB3bWAMbzMHvOnj1LJXLP/vrrrlUpKanqlt591G/zfrXGdcOaS2Zaunr37RHqrdfeUBPHjVcvsvbh5141mDYQgraTpp5/+kmrt8x2W3fsUKVKFlfvDH9TzZ42VY186w1mXI/KZjZ+cdgwVaZsSbVv33bWMnKYgZml/Vnce0HvBPNBWcrrz1GHjhxSjRqdpy5v1UJlZqRwerJYYwip1pe3UTf1uNHayc3ph8nJyuYedbo1Rio9BmSQO/Xc0//511+4N5Kohr38kgpy+kISH7Qgn+p/523KyVrofYNu5/CPsqaFsVCf2rBti6pQuaIqWayoWrZooRUP95TQs/dy/rB7vGevG1X5cqXV6hV/qBD3qDgDHLbVe9G9KpSdvureFnok+I17GP0stwfC1xC0Iw4rk591vrKTWrdsJYdrLYmEOQ5cJtBc0JtZsX6lSi6epF596dnjNBfM7wwdOlStXM7heDh93DPK5jgefuwRdV6D+tzrOyjuoN1g7B27rdF7yxHN068yuawPsqZ5xZUtVRr3qpEHmNPtNRkcgx49+O3XueqWm7pz3WfnaqUoU91bxftnacHQatBG+DfXsYe1eGjP2i1Mvu2iAIF61gbxIm1o1++++67q2bOn3GPkAfYw0MxLlSrF2otLxbC5md9XfHTNk2NpHsifTm9kG4KdjiMzJ0u1vqy1emzoI6z1IM/87qHHzmWC+KDxX3nllWrMmDESp36/cP/VV19Bjst8BuZPnmcNHXHCQCusWLGiYmKROVC4x+hCjRo1FJOknEYBu7zpPCPgHeV8YTtBNoeZA+0FpxiwwXLnHt24HUB2YUQAWly4DBA/5m7atm3L8nek8mdj/gojJ/wOww2byPI7FaKmuZwUoSBdfHETqlO/Af0062d6883XKS7GLWOKoFmwOmeGxo8bT5s2bJQxXLD6tB+nSm9A02ZaWioxwTDLBqX3i55wq8suo1GjRtMnn3xKV7S7Uk6Q5WLg3g5rLawZBQPW6rSsrAxasGA+P8OqFGtJNFAksYh80jaVw8Zpp+hZS6+Zw+BClytHKAa9BFdsjNhhdRffyD3iq39ufVkaifOymPisHhR741dc5nXQS6pduyb3AtivpCFAI4e/Laex3j5gANVv2CDcQ7DmaeQUWC6Tg/sOUMN69Vn7qynLJ9EvQ48CQO9D92gie36w18+1nX4O9xZw5bxy2lm0kM3FvRy3m9Odf/OAshbieG0hG9WoUl2+QTL3198oC0vMOa845wu9O2xWq1WnNqcVvjht/P8lXPdHUlK4h5ci+ca3+DEej/F2jCVbLll75Ui4w8c9ap/YoGyPpdfg78PqnaPMpa3iT5qz1WbQPtAuxCUXs5zOIMWN1Z5cc3yPutV1gPuzBRa2Mi+BEx2ggetz5HQbRp6wRBqHRLpZlsTwe4nVY09zG4Q/JgFxhzSjHcl7HIbOD3rubpeLtfyh9PuCBXLmGZOKyIe01DSZH8IcElY4os1iYziAMCGvmBxkJRrmqLDcGHNBmBNiUhJ7zCPBDUYPsFoM2xSwYx4bhjFXirwUdBvXIaGuJ34/UbYIIL1YEt2pUyd5JvFxvChjXS6YU0Z6erAsRCCykpXdQZL8HcL4O24LACy0WB93u2OoR8+bWWD66YP336dBAwfIZCGWviETqDgMVd1972DJ3JHUVBHkONANw03cC6ajR9NYAOHDR1woHDJ2fV/epi2tXb+Rqp5TgypXrcrPIHCtE4mZeLlgrcaQcTSdHnv0SfJ5+UVjN7CHcEXZ4nnLFs1l0gvpBawPQlmNExUGg8KH0MdxNt+Pn8COwssE+Rkm7G6+uac8y8rMDBMUC0iWsg6HdRRJhQqVOQyXkMiyZX/SV59/KRPfQx5+iAO3VFBMEkoKOG4cB7/8z2XUu1dvEbxYVKpTg7TBoFFrIYH0aeAZfuc1kUD6hGwpSBmeTBkywGm6+cEaTuB42LidMfTqK8Oobv361Kt3bxmSwAQuDmXEMRgIASerOvHyOpzUlgkEX1S8h+v23nvvlSE6LG/Fy4byQ9tAY8YxLMi7L8fLwiEo9S7lGyEYDE4Xx9oIOikAOlRSx3wF9HMMk+BdsJGT31UXu7OMw24Nc6Hd6I4KEO36gNBDujAchQ4oTuzFsTkgF3kf+RlkB5Ymg1BWrlhBq1atpj+ZAAbddSclJiXK5DkQmddI6N9B7vg2a96MOnTsSC++8CITCxYHkey7at68Ob333nuyOx8Lb0AoAMoE/nHQKJ7hCBpcQUI49gnDiHCDpflYcozTQdBJxkGeWMSA/ScoT210eGeMiCBw3Evfvn1kEc2WzZtlURLeTcCSWRa54B4HomKRxYgRI2R/HzqZ1tJt/OM/lgn4Oy1w4zhrwOSzj1XPHFZVt+7crc6pWVsNuO025c3KFJUNu9GxJBeqb8umzWRZ4+Ili9Wjjz2qBg4aJMtkraXNHjXv159Ur57XssqWLjtsM7K9avfePapO7dpq9YqVorJmsWqbzWrtbQPvUCVKlFA7tm3jMDLVzj1bVbkypdSC3+ZLWmTIJser/li2XLVv31bt2rGFVcZMVlWzVVpmljq/UWPV9JJL1N7de6whMRyUx/7Wb9ygWl96qZo362cV8mLoC4cf+lSWL0dt2rRBnVu3jpo+9UdLveb85fj86i3OW1xMrHri4Ufkm+yL//xTNbrgQnVJk0vUhvXrZSl0Tg7Hzfn0+DkuNkc5He9/Mkq1v7yNSt9/kMPyyIF3mGCDBs2NQlRpmPyA55HmBLBV0BtSmZz2A5501bLtpWrjmnXYgJ9vuAhBgoE/VqmtiXmPOnTooAyHYcIXar5etqpjxAQjhlewlDs17YhMzGJoA6q4qN5ssIQ86A2qbA53z77d6qKLzldHDhyWOsbzk+XR4OTgYpd6X7jgV3VNhytVwIdhMU/+bYEB6xDa1XHm+DYUaaIFHb7VLqw2gvca93pIKoD3gO9hcC+77zFBzSbkD8o7iTaD5/mlV//G1Yv3lNtxZka6+mTUx+rpp59Ue/bvkXaMsCONbotIi06bHtqCfeRVu9duMMSm3epnBd6ukS/kKeBXG7duUfXPra+SEoqoi1jWTJzwvRy4qQ9oxUQ/0rB9+3ZZ9oxFQUijLjOkDJsWpKjw4zSr/Cx/zwW9Y6unkFgkgdKZJXv17iVnAcnkLhMiJhtffPEFurbzNTKhhHOrcAw2lg7jS35w9Ou8ufTRR6No56795OCecwXuDSRCJeWe+yVNm8pSXC4UOrD/AL3NPYR5v/zCPWw37eXeTlxcPNWpXY/KV6jIDP2RLM3FsrsNG9bTnJ/nyAR4ufIVZdhnxYpV9OEH79NmVrkx5PMnaxgbNm6keb/Oo5k/zZSz0lzM7HcMGkix8XHsR3Evj1VIzmNyclGqWrUaffLZZ9ShQ0dRu/kJlSxeTDSaSVOm0G+/LaAPuDfU5vLL6J133rHOPONygEKJIQwUlgqEyJORRU8NfYxefOklqnJOdelJcN1ZbgTHJgBPB/m5Y+khE37ZnPivv/uOrr/0CipWuiQco9ry9SM28gw5w0bPOOlFogcGoA50L1f7hh08QUNBHtBTA3T60RFGXwqLI7GI46uvvqabet4kww1wD3e612xw+kDvdOfunbRw7q/UvVsPCrEmcso2A+u8Jg/gN9+2xPUEE3mvf2v3+nd+yOsGv3VaWQjn9u7RlnDV7Q3Ab/5n9bbxG6MAHE5kXvVVQ/9mocnZhFbupHr1z5Wh9vS0dDmdA4A7HQ6MDlcbpEOnWdtFusUVaYYmhWeAfq7dFhR06UJDTSqSyHXenc5v1IjuYK2rEWuAGAVCm4gEDovFCALyq/Oj06dTlpvE00hqVL/nkheIilk+V6BgDBL3IiSRCqeDDh05TN26dKGP3vtAyGT16tX0yNBHZA4G39fgQIg1EhlnRSXhCtVTVwwKRVckM68ch6IbIxom/GDYCuAeiaQHw3A4dgECDO7gBmEwm0v4Ojxc8VtDC06EF9lY4A5AfJ988omo9DiwDu7QuDBMh4P3cMUaduxH0f71i6LDwGds3xk5khqe24A6XtNZCBjQla+BeP8xOCr5WiSHcSTkpeuvu5Y+fe4NqtKwjkWWEcMn+cEijGNDGDAoJ904I/OkyxN1gvvI+gJgh3uc0oqjgHCqNIZD7rjjDms/A9pLRL4NTgNcv0FbiH5f+Bu99fzL9C2/S0En9q5g+KvggfrU7TcvdD0Dut61e9xro5/nNZHP0Hb0e5P3mYa2AyLv84Num3CniQu/0d60/V+FEeku0i3Cg0F69fuiAXfRatM6XhgdB95TpDOy/PS7mze/Z5Kus04uOtG4IsO4lyrgK3qsmFvo37cvTfxuPCSonCyM4yiw4Q7CX8JhD/Cn/QM6TP07Mh5tB/cozMhnQKSfSOQNKze9EX41Iu31FQYEh48XoVeAo2VAXNotoMOEW13R+jf8juWee/Vq1agZa2QoD5zmnBc6rDNBUJY7K0oJemWs+IuXhlOF+jWF+CPTmx+Q1rzQ+UeetF/81nWgf0cC7vAcwBX51341qcAe9wanDxSzkMvv8+ntl4fRN9+MowC3I2t7wJm3nbzQ9ayBexgttAC0AdjhGtnJ0B1BGPzWRreDk0H7AXQcwF/5i4ROM/xEpl+H8XfCyutW5wPAs7x5+jthnw4iy0DfR8ap7yN/62tkWvS7+k9wVsnlpOAkIBUBFRKt5KnHn6C6NWvRocOHZecqVosdJ5S5J/1fAIpWv1hIN4QlJt1z83ESwJ82fq/PEgKoZPaTH7mcKdAApOfCN2lMLjdcfx2NevY1qty4PjnCreNMGpnB/y9QhX7uuv06/xf69N336ZMxn5HP4SQXtyvrfLqCRWS7x722A3RPGISiOwsa+hmup3o/DP4b+JdIDKshoaGh54IVRxgXxHcVZHORboRocP+xRqdfsMgho9MFuxb3yL+MB0eRVKEN4vVHDG6ni+IS4uU30q4Fg8F/F6hDr98nS9/ld5RfI8SHDklkm4cd3gf9nuMKIoGBWxCOaWuFB/8ScuEGxe0PPXQMw2D4C2fwFCteXCbmZE4myi9DtKBfHGheuOLlOR2CgRsW6/LFQLyE+GJi9N47ThMLHWULyZlLbuyml4lQixjNC//fBqoPLQ5tCYtesHjf2qEfPSBOfBXy5ZdfpmuvuUYW1uDDd1iCiyFuLOeFVo6l+tj3gfcdi3awv0z885/Bfxv/DnIJ926EWNwxspnJ4WK13e2STVEYCpKjsNFz/w+RDPIEQkEvDVdrL89fFzn8SXkwMWFVh5PLAdrL6fj9JxDBQ35+nf2EA8dLxiUR93Gx80fijFa8BmcHqF8Xqyru+DhyYmoNdRq2jwYsDQWfJa5A9evWo2V//EG1a9Wg9999R94BLNCYPWsWpaWk0KgPPqLYuDg5EuqHKVPIk20drHlssMzgv4p/ndT4D3HH2QUKJpqFI4c1QEu0JlR93Ku0NtQZFBaEsEnWj3q1NItoAe0GHRLsTMdOd4w+rF2zlmrUrCFD3fFMJlUqVZad4lWqVaXbbr+d3duocaNG4c3LBoUBRnoYCPBBLrvNAcnAAkgRhuZDbPSwWGEbGtNzYSczhQmSHzboNMTFJ+BW7qMFKUNuT9DYf5w6VT7IB40FR8RnZGXSvF/mUnpKKhXhtGA3PD5RMWPGTLrwwotkaNygcMCQi4EFFjbWOWU2EQpOfDmykAlZDU0genIZE8nYc6XX/+M37gsNwkQiJAOtBb0GsbAu0QCGsLOzc2j1qlVUq1ZN6tO3jxwlsn3HDvm0bqXyFahjh47ibjVrNXv27Karrr46Yml09MjP4OzAkIuBgPu1lvDhK85cC0G4RrF3+2+A1l5AJCBUXLFcHChM80y6FmWBxlkgTa0VYQMsPr714JAhlJSYxG1M0ZQff6T4uHh6/LHHKTE5WeYSJ02eRPXq1aPatWqJP4PCAUMuBlYP1uYUMsE0S0wshEOQhVLhnFaF8AOpgEAg8DAnkJ2VLUIYPWcocDjKp9CAs4I8OQOK/MGQ7G1B7kRRLUBYnRPriiOVfvhhMtWuU4datmrFBYvvEoVozpyfqW3bNtSgUSPZNH00O4tmzphBl192uayItI6h5ToqTOX/PwpDLgYMljJCLHZ+wRW5nPhUcybbYm+OJYyjOUb//wGtmSBfU378ga6+6iqaNfOn8NBY4SIX1Bxy4+YOBPa52NBniGp1QhsMMJHMoRYtW8g5ezhaCMff4yNet/TpI3MrIPZVq1fTrp075UNaE77/Xk6/BgpXa/vfhCEXgxMQE+OWOYjC/Iqjd6172gf276eVK1fK10sB8Gg0jkX5/wRIFHnCQbBgT8l/+FlBA2Hv2LGD9u7dK5P4IHIYHNhat05datqsmWwvQJrwJVo8Q/njMw0YngQKW2fmfxH/juNfDP5/wS0Ak7x++UCUogcH3Ek39+pJjZs1YYGEl93ar1NYgCYPDUU2p9ptlJGZSVs2bBTBJ3uKXDjHjE1hEXBY+cfqyqLFC+iN51+ib8ZNIL/dwRpqwZ4thnIFKaBsM7lM8WnkSpUqWcTG7SebOyyY90mIjZM2h6XRQfaDeZmKFSqIG71jHzAE89+G0VwMjgPeZ2tnPs5D03aF7yVHnmAwDFOkSCI1aNBQ9l/gI2VA7oqqQgY5ip4FOgR7tACSwB6XypUrC+Fo0kng8o1nYkFvFvMtaGA4aqgKu4PGAlLRiywM/vsw5GIgkNeZ/9MvPk5JLuybKCHEXCzcMD+AEyDQ40YJYL6lUPaaRZ7rVYFWXUcDOnzEBcLAVZZ9o3z5mdzzFSSEMtcaC4B7wBDMfx+GXAxk1ZCfjc1PFAzZ6BDliOQJhPDCHxNGhQ0yec+Czs559Pq88j0h9Oyd4R3mhQXKhoXmNrIrB2Vme0nZrTP8okWfmlS00VoJzjaDwTl7OOIJZYzjjfAs0g/sC1P5/6/C1KABg3uT/AdhI0eE8F9CAj7MVgh773mAXjQ+GIdxf3wcTuZh0Lvna6FBuBpBMNg5z5JbrAq6dlFu+nomxqBwwJCLgUApa8gCWoqbe/A+r6fAhc+/DbrHPG7cOGrdujVNnDhR7FEGhVnIGfFtcDZgyMVAIOSC1WJ8zcnOlCWihVW+6h5y5DAM9lno3fkyJ1CYNBfBMa0Ag5yFmTwN/h0w5GIgcNpZyDrs5GCZ4/P45JgQcE1hReQ8Ej6jjT0YuELoYo6gUAvfcN4LcfUa/AtgyMVAIMIU0gbDYjF2csW4rQeFEJpY9BV5xwfqoMEUSlLhfFp/+G4P8sdajPxvYBA9GHIxYEDMWMft42wQl9vJwjaOQiFrpZg2hQkgERgMf0WSjf5dmEgGGig2K9qdLop3xJAN02shrlPDLgZRhCEXAwbIg4WqzDPYyO2OtfZ8sFTSxKIFcGFBZH40ocBAeyl0+Q2ziN1pI4ebX3mZWxMrA4OowZCLQRgQOJA4dnI6XOTzevm+cO5SByK1lv3799NHH30kx5VgUj8QPjyx8ADkoihIAcoJZJOy49gbO3OMUV0MogdDLgYWbNb+Du7bUmxsAsXExsguaqCwbWrTQ14gFtxPnjyZBg8eTKNHjxY7TOgXutVinGW7m8gV72RiYc0syMRq1BeDKMKQi4EAS5EtmWungD9IIRY+9sK8XIyhSfPKK6+kfv36UZs2beQ3iAVLlAsTMOwpfw6uW2WdRGxgEE2YFmYgcJJLNBVZTZSDE5IhZEE4hW/oRGssmlyqVatGI0aMoAsuuCD3qJLCNOeC0S/UK3QVfNMFOQPRGBhEE4ZcDFjs2Mih3CyEMCjGwsiryIMDBVlzKYzkgjxFkgvIBOdd5Z6BFd5YWZjgYEYJsjZqC/INdxyU3VqObGAQLRhyMRBg/N1u5/4tC9UYd4z03M2YfOECCBNDfqCVwqSZGfw7YcjFQIBerNZSsKHQ4/FKT94IocIB1CKMNwdfGOVug6lXgyjDkIuBQBOL/M//2e38n5E/hQOoSiYT1K1eBVgYhzsN/l0w5GIg0D1bAd+IMDICqFBA1yV25YeCOIUAmgvsww4MDKIAQy4GFrGAR7g14IrvymMzoRwRYiTQfx+oW5uD7NlEqelectrwKWezWswgujDkYiDQFKKvehOhyCWjwfynIdXH/9mVnesXHwoLf4XSVKtBFGHIxUCgh0mgqch+F9nrYREM7IwG8x+GVJ1Vf7rT4MDKQLkzMIgODLkYCLRygmWquPd4PLJ0FcuTDQoHoIE6nEwqfDVdBYNow5CLgUBrJzA22Z2P/dwGhQ6mUg3OEgy5GAiEWIIhClKIcvxecjqwxwU9XCONCgugsWCxBurUdB4Mog1DLgYCCBxbKEheJpejjhDF2t2kIobEzKT+fxnYkY/v9MTId3pwSKkdx+6HnxoYRAOGXAwsQNKAQLhniwl9t9tt2RkUEiiuWptM5FvgyjX1axBFGHIxEKA3S2xwVSpADgd6u7g/s8GTyLkcbTAko1ctATJEE35mED1gLg2LNIwWanA2YMjFgIFJfEtxQW82KSmRfH58ibJgoMkkEAjIFUMzXq+Xdu7cSfv27ZPf1nCNIZioIMwlOCtO5l34z5SzQbRhyMXAAgQQtwYQjFOWq8KyYHZxg1BEqLEBiSxbtoy6du1KzZo1o4svvpjuu+8+IRk5FcAIvQKHLlKcF2cROOrVlLNBdGHI5XSA9zBs8F7mmkL0fjqUXY7bd3OebNleCkCbKaDmAVLRQ1/r1q2jl19+mbp0uYG+/fYbGj78bdq1ezc9/dRTFAqwthTeuGlQgECd8n9eu5/syse/g1yzDrE3MIgWDLmcBvAOaiM9fG3YxuoJ/rffUmughIWNzU4uvnP5OT8OJzcOZ9hFwSE1NZVeeOEF6tGtG11wQSPq2KkTjR49hosySMuXLubY/9tl+W8FyjXoCpLLYZG8dZicgUH0YMjlNKAJ5FSmMMHlKlhSQfnoYbEWLVpQzZo1rS8+sqaEryMmJCTQLbf0obVr14obgyiA6wBDkjKhL8NjYXsDgyjBkMtpAW+iokDAzy8oJqUxAR3IJZXCJhCxqgjQZ4sVBCDYUE6ajDG5v2HDRtq3d6/8rlCxAmVlZYVdGxQkpHVy2Ye4Prn0j7VXQzAGUYQhl9MAhGwg4CO/30szZ06nn3+eJQQD4EUtDOSCLOi8WCu7juWvIIBwMGEPAnn//fdp4MCBNGfOHJo+Ywa99957tHPHTolXEmJQoLA4xPqMdcAfEAtTzAbRhiGX0wRW2mzbtpV27txBaWmpTDiW8C00YIEDIQSDIStoaSyC8OSMoQkK5DJkyBD6dd6vNOz11+j222+nfv36UocOHejNN98sMCIzOB66VLGJEhokN17RFk15G0QThlxOAxC4eCerVTuHWrW6jDp1uobc7jgZvy4UQAYpJAuPsY6IvCGy+bF8WB78I+ghQ1y9TCoBW4hefPEZWvDzz/T6sGGUXKwEOZwucrCAq1yxIvXo3oOqVK1FYYXQoEChyA+K4XoNhrhe5B9rqFbFGxhEBYZcTgN2m11687GxcVSzZi05o0n3+gpf74/zg55tAUp5h8NJW7dvpTFjxlDnTh2pTNkyFLKi4WfWrvFDhw5TuQoVjbiLErA4DAeTOuxubrPWsfsGBtGEIZfTgB5CwCS0Pj6jsA8r4BPH/L/14wwgZcRlNX/+fEpLS6frr7+e7EzUJOETBVglzM7OpvXr1tH55zU0Qi9KwJ6lEDO6DcvLwTSolvAzA4NowJDLaUALPByfoXebA3rop1CA84I/LFQAsUCjCIUJ4EwgZcTFNX3GdIqLjaXkokVFqqEM9Y78WT/9RK1at4YlnBZ6oA1h7gMGHRZ9j7LI26bwG+4j/ejf8IsyxFXb5Y9w3Qbt5PPCDV77QtR2Df6VMORyGoAghMaijbYrVIBg4z/kz+VyUZB/YxHDP8Wx8rGxUAtRpYqVKDYulmJiYsQ2yIIQbnDsy/r166lDx46Wn/8BdtGEgqsmj8hrJMFoQoEB8Aznsvl8PnGPK6DDPBUwvCuLAPEtfYXyt+wNDKIBQy6nAQg9bTS5ACIMCwtY8EBvgNaC4/ZBCBEy7oyAYurcsTMFA4rWrlsnghCB79+/n9544w0mlg4Sp0M0wzOLNFI463v5DStc5Nb6s34f7yb3t4Rw/PNjBg8sk/9zy3d+9mL4GYggKzOT5s2bR14mCNjiWV5/YQu5oGxgB23l2+++o7379lrDl2wHoolsm8cDbvCyO5hgnMfisoI1MIgKDLn8TUQSTeEC8gOCcTCxKLIp/g1zhkAxIZQWlzSjp595jl4d/jaNGjOavvtmLA0fPpz69OlD9c89l+xOh8g6u+OfNclIgQyT7xCREBc/CxstYHOv8BP+Df86DPwGGWATYlD8sW+QLz9n52yHoI/FG+k3L+Aexbpnzx568fkXqFTxEqLNKS4oPEO70vGBhEMhP2snHvJ5/RTwc0wcrNvtoPMubExPP/ssbdm8mfweL9cX0nCSOG0hcvJzh3KSLYbd4Id58w2iDNPEDAQQaGL4z+awBD13c+XZmQBhokeNj1RhX8vYsWOpdevW1KJ5C3rppZeoQYMGIlCxGg/HkpwJEFckIKC1nbU73RqO8wcwb2ERgRAKnoMQ2IUQCIaX2F8kUejysQoGl3B58TNJdTgeQHc8Iv1FGmhsgwcPpp49e1LtOnXEDlqjE+XO9xqZrNm8+sqr1K5de2rRoiU99tjjsvgBwdeoXp0eefhhCSctLU3ixF9+sJLDWje0Uzn6BfHBJn/3BgYFAcfTjPC9wf8wIHAC4a7G/F/mUpkyZahO/XoiNEVwhQXmPwHIRQ/Z4ByxUqVKUbFixcQO4ernZxIP0p+SkiKnLgMej4fi4+NFwAO42qB3cPiKtTOcQODNyaKj6WnsL5WKJBYhvxzrE6RDBw/R7FmzaOvWrfTrr7/SqlWr5Dw0p8PJWl2QNm3aRAcPHeJQbXTo8CE6eOAAHeLfW7ZsoSNHjgh5gCzj4uKsIUAG0geDIa3HH32MzmVt7drrrhNNDaQCIOeIH2b16tV04403cnkQPf/881QsuQS9+MILVLx4UbqkaRMOy0ZFixajIymHady48dTh6qslfCw6yQumSSZBOx05lEo/TPmeet3SW7qVdju+7xJ2ZGBQwDCai4FINRy3Lzfhnq3Mf5xkmOXvIJI8IHD1vf6tzZkQCwC/OHH5l19+ke/EPPHEE0IwiEeIhYPGFzaRJdx/MuYzqlu3Lt1+W39asWwZZXs95GNymTf/Vxr90cd0SZNL5JDNK6+8kpYsWSJalqzM8vlp9uzZ9Mzzz1HD88+j5559ln75eQ4tXbpUPn72+eefU5cuXWjSpEkSt04b7lGuK1asoJnTZ9C1115LCmUd1tYwIGml00abN2+m3r17U8WKFent4cOpfr16dDWTR/HiJWju3HmSDiEk9np9l640Z+4cISMn4jum+BwH5NkV/liYVc3m1TeILkwLMxBgSCioghjSJ6/fJ3tRTiKn/pWA4K5WrRrddNNNVK5cOfrmm29o+fLlIrC1YLeEPJNQSjrNnPETpaenU9s2l1PHjp0olrWMzOwsepFJpFu3rlS6dGnRPBAWlHuEAxMbE0MDBgygQYMGiftbb7uNCeo2uvnmm+k61kTwrZr7779fzlDTZIGrEDaX6YQJE6gMhw3iYF1Gnlt/Fglh2Ouee+4RLeyVV16hhCJFxG9MjFtW8UGbQtiY8wHBlCpTmqpUrUrvjBxJocDJOwMcBGs1Llk4YVXsf6l2Df6LMORikAsbPhjGMscRY2eiwYelIPJOBIQdBKae09CCF/ew0/faRD7X/vPaR/7WRoclhp9jw6XchyfTcc/WYEZJNydalule26kTtby0JX32+WdiH+SePjrsivPnD/lp1Z8r6ArWSEqVKUv+rBwhVnjfs28f7d27R+aHWN/hnj6G6hQVK1aU+t7an9yxsRwRvzJMVna3S3xlZ2YKMXDS5CgbpjG6pXcvatu2Ddtae6NkkQI/8/h8NGPmDKpXszrFxrJ/JIrTjnzKkBxnBhrPogW/U+cOHalShYocAhMQE2IWk06OJ4d8Xh8prCfmNNrYfQKnqeH5F9Avc+ey5oahOquMI4HFGaIgIflcZgHuPFgFd6JbA4OCgiEXAwFkj4sc+GQYxcRjn4vP+jol/iAEI2AJ9WOEoIF7CEpNOpHP9b1+jnsM7+Cq3Ua6078FHH0gfByNfg6C4R9iJ8Atu8vxealEseKsfXShWT/Por27d8onz/DdGAThDXhpzYo/qG37K4QkWE2T1VtIJXKZlppKI1kLOHo0nePxUzDgE41OvkEDomBygSYUQBo4QB8LfKQDSUGaDh3YzySjqH79+kIKcCuaE//t2rObdu/dTaWKJbEdazJ4zpGDkrwcx8HDh+i1YcPIyeXdp1dv0UysJeE2WrduvZxwUL5MGdGobDg2h8OE24qVqtG+/ftp06a1nIP8wETEbgOuoJQF0hcK+jndx+rOwKCgYcjF4ASAS/AhLxHY+QACPhAIsAA+KkNLMLjH6ia9qQ+AO21AUPqK4SEQBMKAH8yVYCIck+LYVHngwAHWIPbK9fDhwzLhDndHM45KPBD8iDPIPXgQAv5jHqQgC9zsgJ+crFW0veIKjssuw1Acq2gPEOOYjC9ZsiRrDjGcHiZUt1vIBWmrUf0c6tKlK33w4Qd09VVX0bjvxotAd4JQOBQ70s+EgJVmLtYcsMcEGoVVTKy1cZ4+/WSMpA2/I0kZ95iTwZCWnFLAz6GNASBbl91JM6dPlw2l5ctXoCTWlg5x3vcfOEzbt++mH3/4kdkrQBde3IjiE1kFEYCyiIqWKEp+LssDXGYnA9zBiPbH8dr1/IuBQZTAmnW4hRv8TwPCPggJbQ/R8y88Ro0bNKLOV3Ul5eDmwTIIvW8NuJ0yZYpsgASZ4BmuIAsA+zZwr4kEz3EvQ0R8j7kDAJoLhrEiNR3tD/bwC7cgBghPuefEoEcf446hl158kZo0bSpaB4a2fBzOqjWr6Oi+A9Sq7eU0+L7BtGLhEpoxYybFJhYhFVA0/KO3qUu7a8ldohS1uOQCGtKvH932yMNMTnYmhyB5M7Pp4w8+kLxhJRjmce656y669bZbrfkKm4tC3PP/fdFCate2DTVueB5d1f5Kcscn0+rlS2n9utU0dcZ0Kl6yFLu1CA0CHTQwcfJk6nlTD3p56MN072OPkk85yM36IuAlP11zdUeaO/tn0bzKVShPNqeDvCE7pR1Oo5SDe8nJdfPl159Tuw7tuSwTEDKBXr+aMIXuuLknvffGS9Rn4L1gMglTQ0iMiXDTgd10d7eb6ftpk1k7jQ0fYmn6lwbRgSEXA0EkuTz9zCN04XmN6boO3SmEDXeMvOSCiWf00EEAIAeQC+xBGIAmCxCF7iHro19AMjDaXgO/dXPUQ2dwhzAxXxEXFysT2S4nkwy7LVG8ODlY4AcRDIZ4+N+CX+dRIMdDLdtdTvPn/0Y9u3Sjz8Z8Qq2vbEfbt+6gr7//ih66cwilcpjNLm5Md/fsSYMef1wEMoIJMYlhzgVaxuSJk2jM6FG0c8d2urV/X5nst7nihciWLF4kiwE++/QTWRDg8yvKzkinV196nh5ksipVthyHY+URxIJcTWXNpFuXG+jxe+6kR194nsnFSTHkFPJZv3UDXXlZWwpwPr/99juqWbsWBVHkDjdNYA3qkfvuoaoVK9C8BfOpeJkyEjbZ/AQ9cfRX39F9/fvR5K8/o3bXdj+BXIJcNph72rB/F5NLT/p+6hSKKxJPDiZKQy4G0YJpWQZhQPxZRjq6LNhPBghMvZIKq6rKli1LVapUkV5+rVq1xNSpU0eW+uKK+QrYVa1aVQxWSmEfDfzC4B5hRNoh7AoVKog9PoF8zjnVqXz58rl2pdgNhnYwpAVRCmqAkpVzKJUSE4pIGhue15CqVqtKX371pRDUjGnTqD1rGS4XTgaWnFhahd0iQBv37mUyn4m0cuUqNOjOu2jKDz9Qu3ZX0CejP6H58+aKloTyET4D0bE25WbSLJKQwOkvTQPuuIOSkpIs0gVhC0kiMhvVq1eP4hPiZWgPJIp4sNwbK/PwyWcMDZbjvJ1/3vlUmsuiDJdB0RLF6Jd5szk8G3Xu3JHzXY4VIkvb0fW1e/cuTkuAipcoblnngZVVm2hmfnymW+jRwCC6MORiwIKG/2wQm15uEEFy2bBZUFHIjmGu/MWQHuqC0VqN/p0XkW4A/VuHAeSn6eh7mUSXazgcfix+QQqcPoSMnnmI87D/6EGyxzB5hGyUmFSUevXvT9Nmz6aVy5bT3l3b6Ny6DcjDvpxOG7k4jEyfhxxMEnYW8jm+HPJ4c1gJ4nyzBsPBU6mKZei1d4dTcumitGrVCo6H3XJ8SBNKJicrW9xB6VMOO9WqV5/iEpJkWTDmrZBOXLGyq0rFSlS1UhVasXY9+XJ8MrkOYgtw4nM8Pgpw2BWZfOMSEzhvHCCT0sZ1a2n+3LlUtlwFGnj3vazJWEvEQQ9B1nw4Ukrft59KFytJJUtV5icnAoNzYESXGyvX8DVKaDIOtrPK2cAgGsB7YmAgAksLdSgt6G3b7PkTixb62mg7TRCAvgIne6bt8jMAtCd9DxqRPx2nlot4DDdMLPje4qH0/eSO5Z592L79VVeJZtG3Tx9qfEEjDpTTwoJbPivAgh1r0EAOwMxZP8lSYQAbEiHfsTw4njWhMuXKskBnh1w2uWniS052thU/R4j/oaTAfhNrIlh5pvMDDQbk2KlTZ9q6fSeTGFbKwTECIkpNSxNZX616NZlTwnJhnAbw1ptvUkZmJt11zz1UsXJlDosTIOkFrTIx+QJ0eP8BurDxRVSuQiUrsDywSg7JxNE3fqto0JcwMIgiDLkYMCyBJOPvLHSC3OsGwWBfSH7CKi8wCY9hJwhRXPXkPgwIQs+f4HnkcJv+rQWw/g1/kX5OBu3eMlgU4KcDB/aycLaW/gKlS5Wmyy67DJmjDp2vYY0FJwODPKx8SS+erwhrIxMCNikGOA/WlzKhpdjk9OLsLC917nydaBQgN8QJjxkZGXKPISeEgWeZWVn04osvksvlFjsYaDDIE3bve5kQFi1cxBHwP/br9XioRLGikkYJC0Rkd9CkyZNo4vff0+C776E7Bt4hS6GlXFCunDak89DBgzR71my6877B5Iq15rROBErDKiv4x9CfgUG0YcjFIAyIWAw14dwt64ubYfl8SmiBCqMJAffinwE7uMFV3wP6CncgJP0c95pc8ro9EQjXcuvJ8dC6tRtp4cJl9NuC3+WcL9hjpdlVrL0MGnQnRwZisVF6ymGa/dNPsjdk5eo1tHvPHomzQcMG9NXXX9PUadPo0JFDlJ5xlFavWEkvPvMCvfjCy1SuYhVZxbZmzWpa+Pvvoll8++238vvggYN05NBhOSrmgQfup3Xr11EMVpcxdPlgHgbzULfePoC+GTeeScYrYcS6ndTskoupTu3asuR40aJF9OFHH9KQIUPo/nvvo0eHPirDYL4QEzbyxHWF1XMo64kTvqcrrmhLTVs0Z72Ny0xiPBGaQB04fZqvSI9YGhhECWa1mIEIJKwoYqkj8wMPPTiELmh8AXXr2hUbXsSNJou8QPOBYNbksn37djkCBftScHDkwIEDqVGjRvIcbmU5b9gfAL9w++mnn9K2bdtEE8DZYDgxGCvFMGEOt/nFHwxaK9TwhcWjRzNo1qxZnBcWuoEgJRcrRpde1ppiYmLhkPxeH7m5Z49w5s39hZavWEHlypWX+MuULknNW7aEOkM7t22nlX8up8TkIlSyVEnat/cgNW50AZUuU1bizMnOoZ9mzRRtIxa79LncoA2Vr1pNJviPpqezlpPNGlMpaty4sXxKAHlHvFYZEB3NyKInHn+MLr20JV133TVszxpfwE+r1qyn118ZRtmZGVStenW6sVcvanz++TKEZ+O0YYguxumiAOcl6LDRlk2b6fFHhtLbI0ZQ6QplOQ6HPM+PM6Ahrd67he7u0YsmT5tO8XGJ1lyQHhM0MChgGHIxEHIRIQ1ByQLqIe4x4+DG6669NpdcIBhh8kL8sYGQXrt2LffaH6DY2FgRpliqvHv3bho1ahS14J41ht1E0GLYCgKT7zds2CCHTGLoqnv37jIs1aNHD/riiy/ooosuOiW5hLgnH5Sd5lg9hfRZQ09IMqeKcLwK8iT70zmN+JSA5IDtIIiRb7R+HPWCyXTFD2V2gsNQLPAxfBTAEGEQ31CJkV35LNMl/QhDPPNVNlayWwSI8OVbL/xMyATuw2mX32zv5zAzWCsa9uqr1O6KNnTZ5a2tYS6OR69Yk42OLr76MUTGgXCcIBds6MTigN+XLqHPmZDvGXSXLFsOsRvkJ87ltvJ4HBTnIUSr9myh+3v3pclTp5HbFSdzO9aBpQYGBQ/TsgxYGLEgJAy3MEI2ETyKJSp61CJs/wKYY8G+l48++kg2H06ePFnOyPrpp59oyEND6K0Rb7IrFvocD5bMypAX/2FH/q233irDVv3796ciiYl0HvfUk5OT6duxY2UXPKBPDs4LEITLFSuroFxuBzldNoqJdZKTf0NDcjMxxTIp4D6GCQ+/QVYutsP8haUZOcnBAjnGHUsxHFaMK4bdxlNsTDw/i6G4uHhKKML3HH5cLJYdu0RTcXI4Tg7Xyf4czhhyOTgsHWYMx81aklzhJmyPYTF5zv6LJicxqT7Ofl105Egal7ddwsDiA/jDJ6Hd/AxEDWLD3p4Yfu7zemVoLCczi1564UWqU6+u7B+K5TzkTyxcfkxGoFuUuQNkLYsfvFy/1nMDg2jAkIuBhQhBEx8XRx6Pl+8glP4aIrDZPPfcczKnoDUZCNP+/ftRpYoV5NgVRIHeO8jI6/fTU089Jb8xyS0CmN3DEYQghpYQzqkhIVq3+eDUT0/E8W5P0/ffjYSBoTTkG3uFWrZsKd+2wW9oOCcMJITD11GgTIFWl14q+2k0TpUM0aI4bJxqEB8TJ1oMmOX0atfA4J/BkIuBQMs0WVXEPyDs9dlXpwIEFwwEY5Ei1uZFaCaYmNfkcPElF1JWdqa0NgxdxbCAmz51On31xZeyEiqGe9wi6UKKcnI8Mn+CcAordJnpe5QTSAPXv8o3SByAO7jPb7jwRHCYysaao52crCE5+WpF/9f1a2DwT2HIxSAClmCDoAuGJ+kx0QwhpoVhXmhhCCEHjWTq1Kny5UTMo7z99tsyp5KUxKTDgizoD4iQO3o0k94Z+R5Vr15NhsQgMHFcPULaunWLLK8FUZ2e4PzvQQ+PIX+4R/5RjrjH9WRlDeC5HmqD+9MDyIXIn+OjgMeXexKzoRaDaMKQi8EJSGTBju+yo3urBd7JAEGI5zjtd+jQoTIR37dvX3r88cfla4tTpkymyZMnytEkEKaYxVm0cDEtWbyE2l/RTvaQgEwOssEczNxf5rL2kkOXX355OIbCB5SXNigTmEg7mPyQ181f1Y0GFhWg3LFc25/jJYcrhv1hccNf+zUw+Kcw5GJgARJILopq1K5Je/ftk1VN6N5qYaaBHq90rmHY3stazrPPPEOrV62kkSNHUOXKlUTzqFq1Gg0aOIg8WTkyJKNYoHlDQRrz6adyfP2BvftoxFvDadiwYfT8Cy/Qw489KvM2OD+s8QUXWPGE4wKJafNfhy7PyDKNtIu0PxVO5S6/8so4kkoVq1Rhf+GFEv/9ojT4F8OQiwEDgyTce+Y/7EyvVrM6rduwnqwDF08hxPgxTiSeM38ejf3iS7rt1v5UvHgx7onroR7MwyRRm9ZtqFyJshy2gw6kptDiJYvowkbn0/C3R9ATTz1JL776Mg17603qd8ftskflKnwlsnRpzXeFDro8NZGciiQiEele+zktvyAZCtGWteup1nnnhve28Kt/On4NDP4hDLkYCCKFVllsGORrypEj0vM95UQzEww2L+Jb79irgqEa2ZeBRypE+/fvl0MZYxISZML+wP4DcuZWzVo1KSExgVwxMbnDM7/N+5Ww4757t+4crBUv9n+IOcW8j0H+QJkFWKvUdbhm9Wo5mVn2/PBzQy0G0YQhFwMLIA+QC//Fx8dRqVKlaPWaNbLyK69gh7CHgIIJqSCtWrmCKpQvT8nJSUJCcGqdNUa0ePFSurBJE/AKeIj2H9hPAW8OtWzRnFufXfZsIPzdu3bRp2PGUPt27WR5LpbLwh7xY3FB5Oozg9OD7hCg3HDMP75y2aBhQ9njI/VtYBBFGHIxOAGYYG7Tpg3N+uknGULJV2sBc4QJx+fzU4mSJWXDIXrKcI4hMWgt60SgnU/oK+NcK5z2i9OIK1QoJ8NesEP4X3/5pQzMvfjiSyL4tPajCQVucG8I5u8DHQOs2sOGTMxnieZiuMUgyjDkYnACIIyaN2tOK1euFILA70jNRYaxLAYhfNcEHwM7fOgweTye3H0YmZkZNGLECOpwdQdZnaSJoUb16pSUWEROLoZ/aCa//PKLHAA5csRIOuecc9jaRrt375Gd/ikpKbSLtZrZs2eL9mLw9wEeGTduHHXo0MGqNqzaQ51ajw0MogJDLgbHAQ0CGkTpMqWp7rn1ZRkxjoGBMIJw93r9Vs8XGo0DG/NsNPjOuyjb56U333qbDjHJTJs2nR5++GG64oo2VL9+XYp1uskdg70ZTERVq1Kryy6jD8aModWrVtEHH3xAb731Fr333nvUqnUrOdfXj6NKOOy3Xn2NViz+g0aPGk0vPPMsHTpwUMjMSMW/BuoLZA7yxvluy5Yto47XXkOhMKnj/DKjvBhEE+bgSoMTAKGEo+X37t1DAwfeIQRQsSI+VGWNhOE8rshhKwgwaBg//PCDHDyJzxB37dqVSpQoIUJOn4QMtxg2w8nHU6ZMoQMHDlCDBg2oefPmcoIyhuPwXRQvu0s5fJjaN7uUHnvicWp9VXu6tfctNGHiRIoLuzOS8dRAuaOsYR555BH5zPSAAQOk7KT8DAyiDEMuBidAEwZWe33xxWcyKf/6628wqbhZc+AeL8smB3rAYbcQYPpe7xpHs9JNCwcrAviNcEFcIBzs6Mc10q3cc9ifffIpTZ8wiT778gtasGwpfTXmUxrN2g5cYXe6IZdTA3UBM378ePrmm29oDJcd6gEm3zk0A4MChunCGJwACB/du+3arRslJSXKsBVIAavDIgG3eqe4HOMSvtc9ZE02AIgDzzCxDOAKO7iRgytxJAqzB46UX7R4EQ26806KZU3lu/HjqH379vLlRSMWTw6UJchbE8uqVato9OjR9Oabb4pmqDVIA4OzAUMuBvlCk0ZcXKwc5YIvO44aNZq1FGg0xyu7IBF9Vhb8aXLJe/5VJOmI9sHQ52qJ0dTBwR9NS6MLL76YcrweWVWGLzbKU3ZncHKAXKBJ7tmzR4bDXnjhBRmmNDA42zDDYgb5wmoWGK6yesGZmdn08cejZLlxr143izZzzN0xgCQi7fBb41RNTdzxY+xpwT4afMbXbbNTwG6jnFCA4hQTEhOVPUxiRoU5EShfDDUuXryYvvrqK+rTp49smtTEH0nkBgbRhiEXg1MCzQMGBIPVYjt27JDhlerVq4ddFCwgHAHECRGIZbPyCQCsboJgxCo1IxzzBeoIH21bvXo11a9fX0hFkwnKE+QCkjHlZ3A2YMjF4KTQTQNXCC4NPbQVDWBYB8jbLCOFohGO+QNlhhOlQSK4h8E96g7lh6sejjQwiDYMuRicFJFNQ5OL7glHS8DnbY74HRmXIZaTA2UVaTDflbf8AFOGBmcDhlwMDAwMDAocZrWYgYGBgUGBw5CLgYGBgUGBw5CLgYGBgUGBw5CLgYGBgUGBw5CLgYGBgUGBw5CLgYGBgUGBw5CLgYGBgUGBw5CLgYGBgUGBw5CLgYGBgUGBw5CLgYGBgUGBw5CLgYGBgUEBg+j/AF+kWsPJdA8fAAAAAElFTkSuQmCC)"
      ],
      "metadata": {
        "id": "xeg_3Egv8Dk_"
      }
    },
    {
      "cell_type": "markdown",
      "source": [
        "배치 경사 하강법 : 매 경사 하강법 스텝에서 전체 훈련 세트 X에 대해 계산\n",
        "\n",
        "위로 향하는 그래디언트 벡터가 구해지면 반대 방향인 아래로 가야 함\n",
        "![image.png](data:image/png;base64,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)"
      ],
      "metadata": {
        "id": "9ASbF0YM8jjo"
      }
    },
    {
      "cell_type": "code",
      "source": [
        "eta=0.1\n",
        "n_iterations=1000\n",
        "m=100\n",
        "\n",
        "theta=np.random.randn(2,1)\n",
        "\n",
        "for iteration in range(n_iterations):\n",
        "  gradients=2/m*X_b.T.dot(X_b.dot(theta)-y)\n",
        "  theta=theta-eta*gradients"
      ],
      "metadata": {
        "id": "aS5w9qPF6VQf"
      },
      "execution_count": 10,
      "outputs": []
    },
    {
      "cell_type": "code",
      "source": [
        "theta"
      ],
      "metadata": {
        "colab": {
          "base_uri": "https://localhost:8080/"
        },
        "id": "7K5JubVU9QYH",
        "outputId": "8685c69e-b970-4abc-d429-4d77434c9e82"
      },
      "execution_count": 11,
      "outputs": [
        {
          "output_type": "execute_result",
          "data": {
            "text/plain": [
              "array([[3.43995756],\n",
              "       [3.24142268]])"
            ]
          },
          "metadata": {},
          "execution_count": 11
        }
      ]
    },
    {
      "cell_type": "markdown",
      "source": [
        "적절한 학습률을 찾기 위해 그리드 탐색을 이용\n",
        "  * 너무 오래 걸리는 모델을 막기 위해 반복 횟수 제한 필요\n",
        "  * 반복 횟수를 아주 크게 지정하고 그래디언트 벡터가 아주 작아지면 알고리즘을 중지"
      ],
      "metadata": {
        "id": "dcaGuvBF9YSS"
      }
    },
    {
      "cell_type": "markdown",
      "source": [
        "###2) 확률적 경사 하강법"
      ],
      "metadata": {
        "id": "J1nwFo2U9qHN"
      }
    },
    {
      "cell_type": "markdown",
      "source": [
        "배치 경사 하강법은 매 스텝에서 전체 훈련 세트를 사용해 그래디언트를 계산하기 때문에 훈련 세트가 커지면 매우 느려짐\n",
        "\n",
        "확률적 경사 하강법은 매 스텝에서 한 개의 샘플을 무작위로 선택 > 하나의 샘플에 대한 그래디언트를 계산\n",
        "\n",
        "장점\n",
        "  * 빠르고 매우 큰 훈련세트도 훈련시킬 수 있음 (메모리 절약 가능)\n",
        "  * 비용 함수가 매우 불규칙할 경우 local minimum을 건너뛰도록 도와 배치 경사 하강법보다 global minimum을 찾을 가능성이 높음\n",
        "\n",
        "단점\n",
        "  * 무작위적이기 때문에 비용 함수가 위아래로 요동치면서 평균적으로 감소함 > 알고리즘이 멈출 때 좋은 파라미터가 구해지겠지만 최적치는 아님\n",
        "\n",
        "학습률을 점진적으로 감소시키기\n",
        "  * 시작할 때는 큰 학습률  > local minimum에 빠지지 않고 수렴이 빠름\n",
        "  * 점차 학습률을 줄임 > 알고리즘이 global minimum에 수렴하게 함\n",
        "\n",
        "학습 스케줄 : 매 반복에서 학습률을 결정하는 함수\n",
        "  * 학습률이 너무 빨리 줄어들면 지역 최솟값에 갇히거나 최솟값까지 가는 중간에 멈출 수 있음\n",
        "  * 학습률이 너무 천천히 줄어들면 오랫동안 최솟값 주변을 맴돌거나 훈련을 너무 일찍 중지할 수 있음\n",
        "\n"
      ],
      "metadata": {
        "id": "vN00UIw19wA7"
      }
    },
    {
      "cell_type": "code",
      "source": [
        "n_epochs=50\n",
        "t0,t1=5,50\n",
        "\n",
        "def learning_schedule(t):\n",
        "  return t0/(t+t1)\n",
        "\n",
        "theta=np.random.randn(2,1)\n",
        "\n",
        "for epoch in range(n_epochs):\n",
        "  for i in range(m):\n",
        "    random_index=np.random.randint(m)\n",
        "    xi=X_b[random_index:random_index+1]\n",
        "    yi=y[random_index:random_index+1]\n",
        "    gradients=2*xi.T.dot(xi.dot(theta)-yi)\n",
        "    eta=learning_schedule(epoch*m+i)\n",
        "    theta=theta-eta*gradients\n"
      ],
      "metadata": {
        "id": "g4cK-Lnz_E-q"
      },
      "execution_count": 12,
      "outputs": []
    },
    {
      "cell_type": "code",
      "source": [
        "theta"
      ],
      "metadata": {
        "colab": {
          "base_uri": "https://localhost:8080/"
        },
        "id": "C06oJoK3_pDH",
        "outputId": "6066592e-7a98-4b08-80d1-0fc71a3144d3"
      },
      "execution_count": 13,
      "outputs": [
        {
          "output_type": "execute_result",
          "data": {
            "text/plain": [
              "array([[3.51696892],\n",
              "       [3.14249225]])"
            ]
          },
          "metadata": {},
          "execution_count": 13
        }
      ]
    },
    {
      "cell_type": "markdown",
      "source": [
        "사이킷런 : SGDRegressor 클래스 사용"
      ],
      "metadata": {
        "id": "kXQxQwWT_1Vc"
      }
    },
    {
      "cell_type": "code",
      "source": [
        "from sklearn.linear_model import SGDRegressor\n",
        "\n",
        "sgd_reg=SGDRegressor(max_iter=1000, tol=1e-3, penalty=None, eta0=0.1)\n",
        "sgd_reg.fit(X,y.ravel())"
      ],
      "metadata": {
        "colab": {
          "base_uri": "https://localhost:8080/"
        },
        "id": "7B8JWrpbAAAD",
        "outputId": "c8f09191-708b-4b3a-f7fd-ea7fc9439752"
      },
      "execution_count": 14,
      "outputs": [
        {
          "output_type": "execute_result",
          "data": {
            "text/plain": [
              "SGDRegressor(eta0=0.1, penalty=None)"
            ]
          },
          "metadata": {},
          "execution_count": 14
        }
      ]
    },
    {
      "cell_type": "code",
      "source": [
        "sgd_reg.intercept_, sgd_reg.coef_"
      ],
      "metadata": {
        "colab": {
          "base_uri": "https://localhost:8080/"
        },
        "id": "MpYWhpBUAc9m",
        "outputId": "ce81fbdb-d421-4b38-b9bb-14f8bf1d80ae"
      },
      "execution_count": 15,
      "outputs": [
        {
          "output_type": "execute_result",
          "data": {
            "text/plain": [
              "(array([3.47522514]), array([3.35186783]))"
            ]
          },
          "metadata": {},
          "execution_count": 15
        }
      ]
    },
    {
      "cell_type": "markdown",
      "source": [
        "###3) 미니배치 경사 하강법"
      ],
      "metadata": {
        "id": "dTo3ZEQPAgv4"
      }
    },
    {
      "cell_type": "markdown",
      "source": [
        "미니배치라 부르는 임의의 작은 샘플 세트에 대해 그래디언트를 계산\n",
        "\n",
        "확률적 경사 하강법에 비해 미니배치 경사 하강법의 주요 장점은 행렬 연산에 최적화된 하드웨어, 특히 GPU를 사용해서 얻는 성능 향상\n",
        "\n",
        "미니배치를 어느정도 크게 하면 파라미터 공간에서 SGD보다 덜 불규칙하게 움직임"
      ],
      "metadata": {
        "id": "oZkB8OsrAi1a"
      }
    },
    {
      "cell_type": "markdown",
      "source": [
        "##**3. 다항 회귀**"
      ],
      "metadata": {
        "id": "BIxJ-1CNBBHU"
      }
    },
    {
      "cell_type": "markdown",
      "source": [
        "비선형 데이터를 학습하는 데 선형 모델을 사용\n",
        "  * 각 특성의 거듭제곱을 새로운 특성으로 추가하고, 확장된 특성을 포함한 데이터셋에 선형 모델을 훈련"
      ],
      "metadata": {
        "id": "26nXKTZZBEI3"
      }
    },
    {
      "cell_type": "code",
      "source": [
        "# 비선형 데이터 생성\n",
        "m=100\n",
        "X=6*np.random.rand(m,1)-3\n",
        "y=0.5*X**2+X+2+np.random.randn(m,1)"
      ],
      "metadata": {
        "id": "6etFMtG4BmFb"
      },
      "execution_count": 16,
      "outputs": []
    },
    {
      "cell_type": "markdown",
      "source": [
        "* PolynomialFeatures 사용\n",
        "  * 주어진 차수까지 feature 간의 모든 교차항을 추가 > 특성 사이의 관계를 찾을 수 있음\n",
        "  * 특성이 n개인 배열을 특성이 (n+d)!/d!n! 인배열로 변환함"
      ],
      "metadata": {
        "id": "Mx0G6JkQCEgL"
      }
    },
    {
      "cell_type": "code",
      "source": [
        "from sklearn.preprocessing import PolynomialFeatures\n",
        "poly_features=PolynomialFeatures(degree=2, include_bias=False)\n",
        "X_poly=poly_features.fit_transform(X)\n",
        "print(X[0])\n",
        "print(X_poly[0])"
      ],
      "metadata": {
        "colab": {
          "base_uri": "https://localhost:8080/"
        },
        "id": "6mYD6KguBwyP",
        "outputId": "ccaa8859-251f-4e02-a979-d12725bb7381"
      },
      "execution_count": 17,
      "outputs": [
        {
          "output_type": "stream",
          "name": "stdout",
          "text": [
            "[-2.24960779]\n",
            "[-2.24960779  5.06073519]\n"
          ]
        }
      ]
    },
    {
      "cell_type": "markdown",
      "source": [
        "> X_poly는 원래 특성 X와 이 특성의 제곱을 포함함"
      ],
      "metadata": {
        "id": "Di-Plh8ICQ9r"
      }
    },
    {
      "cell_type": "code",
      "source": [
        "lin_reg=LinearRegression()\n",
        "lin_reg.fit(X_poly,y)\n",
        "lin_reg.intercept_, lin_reg.coef_"
      ],
      "metadata": {
        "colab": {
          "base_uri": "https://localhost:8080/"
        },
        "id": "QLiwyEO9CVTt",
        "outputId": "ec22aeaa-3e9c-4e5b-eb81-c91cc5e1248d"
      },
      "execution_count": 18,
      "outputs": [
        {
          "output_type": "execute_result",
          "data": {
            "text/plain": [
              "(array([1.99897824]), array([[0.98819236, 0.49391994]]))"
            ]
          },
          "metadata": {},
          "execution_count": 18
        }
      ]
    },
    {
      "cell_type": "markdown",
      "source": [
        "##**4. 학습 곡선**\n"
      ],
      "metadata": {
        "id": "lCYeR-DACrtX"
      }
    },
    {
      "cell_type": "markdown",
      "source": [
        "고차 다항 회귀를 적용하면 보통의 선형 회귀에서보다 훨씬 더 훈련데이터에 잘 맞추려 함 >> overfitting\n",
        "\n",
        "어떻게 모델이 데이터에 과대적합 또는 과소적합되었는지 알 수 있을까?\n",
        "\n",
        "* 교차검증 이용\n",
        "  * 훈련 데이터에서 성능이 좋지만 교차검증 점수가 나쁘다면 과대적합\n",
        "  * 훈련데이터, 교차검증 점수가 모두 나쁘다면 과소적합\n",
        "\n",
        "* 학습 곡선\n",
        "  * 훈련 세트와 검증 세트의 모델 성능을 훈련 세트 크기의 함수로 나타낸 그래프\n",
        "  * 훈련 세트에서 크기가 다른 서브 세트를 만들어 모델을 여러번 훈련\n"
      ],
      "metadata": {
        "id": "MqLXX3GIDPaF"
      }
    },
    {
      "cell_type": "code",
      "source": [
        "from sklearn.metrics import mean_squared_error\n",
        "from sklearn.model_selection import train_test_split\n",
        "\n",
        "def plot_learning_curves(model,X,y):\n",
        "  X_train,X_val,y_train,y_val=train_test_split(X,y,test_size=0.2)\n",
        "  train_errors,val_errors=[],[]\n",
        "  for m in range(1, len(X_train)):\n",
        "    model.fit(X_train[:m], y_train[:m])\n",
        "    y_train_predict=model.predict(X_train[:m])\n",
        "    y_val_predict=model.predict(X_val)\n",
        "    train_errors.append(mean_squared_error(y_train[:m], y_train_predict))\n",
        "    val_errors.append(mean_squared_error(y_val, y_val_predict))\n",
        "  plt.plot(np.sqrt(train_errors),\"r-+\", linewidth=2, label=\"훈련세트\")\n",
        "  plt.plot(np.sqrt(val_errors), \"b-\", linewidth=3, label=\"검증세트\")"
      ],
      "metadata": {
        "id": "A6W95lCrEBe1"
      },
      "execution_count": 19,
      "outputs": []
    },
    {
      "cell_type": "code",
      "source": [
        "lin_reg=LinearRegression()\n",
        "plot_learning_curves(lin_reg,X,y)"
      ],
      "metadata": {
        "colab": {
          "base_uri": "https://localhost:8080/",
          "height": 265
        },
        "id": "dRSIUBF3zFMw",
        "outputId": "a07fb30f-e2a6-4011-b71b-44de54ab3391"
      },
      "execution_count": 20,
      "outputs": [
        {
          "output_type": "display_data",
          "data": {
            "text/plain": [
              "<Figure size 432x288 with 1 Axes>"
            ],
            "image/png": "[encoded data removed]"
          },
          "metadata": {
            "needs_background": "light"
          }
        }
      ]
    },
    {
      "cell_type": "markdown",
      "source": [
        "> 과소적합\n",
        "\n",
        "> 모델이 훈련 데이터에 과소적합되어있다면 훈련 샘플을 더 추가해도 효과X > 더 복잡한 모델을 사용하거나 더 나은 피처를 선택해야 함"
      ],
      "metadata": {
        "id": "k9SeGmsHzaV8"
      }
    },
    {
      "cell_type": "code",
      "source": [
        "from sklearn.pipeline import Pipeline\n",
        "polynomial_regression=Pipeline([\n",
        "    (\"poly_features\",PolynomialFeatures(degree=10,include_bias=False)),\n",
        "    (\"lin_reg\", LinearRegression()),\n",
        "\n",
        "])\n",
        "\n",
        "plot_learning_curves(polynomial_regression,X,y)"
      ],
      "metadata": {
        "colab": {
          "base_uri": "https://localhost:8080/",
          "height": 265
        },
        "id": "dRisImfLzjoD",
        "outputId": "c938146c-10e4-4761-be9e-ae92c7ee4b8f"
      },
      "execution_count": 21,
      "outputs": [
        {
          "output_type": "display_data",
          "data": {
            "text/plain": [
              "<Figure size 432x288 with 1 Axes>"
            ],
            "image/png": "[encoded data removed]"
          },
          "metadata": {
            "needs_background": "light"
          }
        }
      ]
    },
    {
      "cell_type": "markdown",
      "source": [
        "> 훈련데이터의 오차가 선형 회귀 모델보다 훨씬 낮음\n",
        "\n",
        "> 과대적합을 개선하는 방법은 검증 오차가 훈련 오차에 근접할 때까지 더 많은 훈련 데이터를 추가"
      ],
      "metadata": {
        "id": "zCNJYN3T0ApV"
      }
    },
    {
      "cell_type": "markdown",
      "source": [
        "* 편향/분산 트레이드오프\n",
        "\n",
        "모델의 일반화 오차는 세가지 다른 종류의 오차의 합으로 표현할 수 있다\n",
        "  * 편향 : 잘못된 가정으로 인한 것. 편향이 큰 모델은 훈련 데이터에 과소적합되기 쉬움\n",
        "\n",
        "  * 분산 : 훈련 데이터에 있는 작은 변동에 모델이 과도하게 민감하기 때문에 나타남 . 자유도가 높은 모델이 높은 분산을 가지기 쉬워 훈련 데이터에 과대적합되는 경향이 있음\n",
        "\n",
        "  * 줄일 수 없는 오차 : 데이터 자체에 있는 잡음 때문에 발생 \n",
        "\n",
        "모델의 복잡도가 커지면 통상적으로 분산이 늘어나고 편향은 줄어듦."
      ],
      "metadata": {
        "id": "I7aunk7U0TS2"
      }
    },
    {
      "cell_type": "markdown",
      "source": [
        "##**5. 규제가 있는 선형 모델**\n"
      ],
      "metadata": {
        "id": "OwA-_vOX003j"
      }
    },
    {
      "cell_type": "markdown",
      "source": [
        "모델을 규제하여 과대적합을 감소시킴 (자유도 줄이기)\n",
        "\n",
        "선형 회귀 모델에서는 모델의 가중치를 제한하여 모델을 규제 "
      ],
      "metadata": {
        "id": "W0BqB51q04c3"
      }
    },
    {
      "cell_type": "markdown",
      "source": [
        "###1) 릿지 회귀"
      ],
      "metadata": {
        "id": "3TvjFgQ-1VC9"
      }
    },
    {
      "cell_type": "markdown",
      "source": [
        "규제가 추가된 선형 회귀\n",
        "\n",
        "비용함수에 규제항 추가 > 모델의 가중치가 가능한 한 작게 유지됨\n",
        "\n",
        "loss(theta)=MSE(theta)+alpha*0.5*sum(theta^2)\n",
        "\n",
        "규제항은 훈련시에만 적용\n",
        "\n",
        "+@ 일반적으로 훈련에서 사용하는 성능 지표는 미분가능해야하기 때문에 훈련과 테스트에서 사용되는 성능지표가 다름\n",
        "\n",
        "릿지 회귀는 입력 특성의 스케일에 민감하기 때문에 수행 전에 데이터의 스케일을 맞추는 것이 중요함"
      ],
      "metadata": {
        "id": "UkKo-QlS1W_V"
      }
    },
    {
      "cell_type": "code",
      "source": [
        "#정규방정식을 사용한 릿지 회귀\n",
        "from sklearn.linear_model import Ridge\n",
        "ridge_reg=Ridge(alpha=1, solver=\"cholesky\")\n",
        "ridge_reg.fit(X,y)\n",
        "ridge_reg.predict([[1.5]])\n"
      ],
      "metadata": {
        "colab": {
          "base_uri": "https://localhost:8080/"
        },
        "id": "bjOY3Vxb2lEm",
        "outputId": "541327a6-1539-4197-e815-a69718144b45"
      },
      "execution_count": 22,
      "outputs": [
        {
          "output_type": "execute_result",
          "data": {
            "text/plain": [
              "array([[5.05631326]])"
            ]
          },
          "metadata": {},
          "execution_count": 22
        }
      ]
    },
    {
      "cell_type": "code",
      "source": [
        "#SGD 사용한 릿지 회귀\n",
        "sgd_reg=SGDRegressor(penalty=\"l2\")\n",
        "sgd_reg.fit(X,y.ravel())\n",
        "sgd_reg.predict([[1.5]])"
      ],
      "metadata": {
        "colab": {
          "base_uri": "https://localhost:8080/"
        },
        "id": "ffyWNp3-252V",
        "outputId": "42bde460-e50d-45f7-e767-26b7961dec8b"
      },
      "execution_count": 23,
      "outputs": [
        {
          "output_type": "execute_result",
          "data": {
            "text/plain": [
              "array([5.0526342])"
            ]
          },
          "metadata": {},
          "execution_count": 23
        }
      ]
    },
    {
      "cell_type": "markdown",
      "source": [
        "###2)라쏘회귀"
      ],
      "metadata": {
        "id": "xyHIKjJd3Lr3"
      }
    },
    {
      "cell_type": "markdown",
      "source": [
        "비용 함수에 규제항을 더함\n",
        "\n",
        "loss(theta)=MSE(theta)+alpha*sum(abs(theta))\n",
        "\n",
        "덜 중요한 특성의 가중치를 제거하려고 노력함 > 자동으로 특성 선택을 하고 희소 모델을 만듦.\n",
        "\n",
        "라쏘의 비용함수는 theta=0 일때 미분 불가능 > 서브그래디언트 벡터 사용"
      ],
      "metadata": {
        "id": "-rT2RTJh3NSR"
      }
    },
    {
      "cell_type": "code",
      "source": [
        "from sklearn.linear_model import Lasso\n",
        "lasso_reg=Lasso(alpha=0.1)\n",
        "lasso_reg.fit(X,y)\n",
        "lasso_reg.predict([[1.5]])"
      ],
      "metadata": {
        "colab": {
          "base_uri": "https://localhost:8080/"
        },
        "id": "e3765UBi4eWe",
        "outputId": "897044f4-cca7-4b10-ba5c-6e03dd2cebb6"
      },
      "execution_count": 24,
      "outputs": [
        {
          "output_type": "execute_result",
          "data": {
            "text/plain": [
              "array([5.01395602])"
            ]
          },
          "metadata": {},
          "execution_count": 24
        }
      ]
    },
    {
      "cell_type": "markdown",
      "source": [
        "Lasso 대신 SGDRegressor(penalty=\"l1\") 을 사용할 수도 있음"
      ],
      "metadata": {
        "id": "iLGHI0OP4sQJ"
      }
    },
    {
      "cell_type": "markdown",
      "source": [
        "###3) 엘라스틱넷\n",
        "\n",
        "릿지 회귀와 라쏘 회귀의 절충안\n",
        "\n",
        "릿지와 라쏘의 규제항을 더해 규제항으로 사용, 혼합 정도는 혼합 비율을 사용하여 조절\n",
        "\n",
        "일반적으로 평범한 선형회귀보다는 규제를 적용하는 것이 좋음\n",
        "  * 릿지가 기본이 되지만 쓰이는 항이 몇개뿐이라고 의심되면 라쏘나 엘라스틱넷 사용\n",
        "  * 특성 수가 훈련 샘플 수보다 많거나 특성 몇개의 상관관계가 뚜렷할 경우 보통 라쏘가 문제를 일으키므로 엘라스틱넷 사용"
      ],
      "metadata": {
        "id": "M2fRrBD_4xiz"
      }
    },
    {
      "cell_type": "code",
      "source": [
        "from sklearn.linear_model import ElasticNet\n",
        "elastic_net=ElasticNet(alpha=0.1, l1_ratio=0.5)\n",
        "elastic_net.fit(X,y)\n",
        "elastic_net.predict([[1.5]])"
      ],
      "metadata": {
        "colab": {
          "base_uri": "https://localhost:8080/"
        },
        "id": "1aNyKrmL5f-g",
        "outputId": "24bf026e-c18e-470f-a0e4-23e5c8f71fc9"
      },
      "execution_count": 25,
      "outputs": [
        {
          "output_type": "execute_result",
          "data": {
            "text/plain": [
              "array([5.01523172])"
            ]
          },
          "metadata": {},
          "execution_count": 25
        }
      ]
    },
    {
      "cell_type": "markdown",
      "source": [
        "###4) 조기종료\n",
        "\n",
        "조기종료 : 검증 에러가 최솟값에 도달하면 훈련을 중지\n",
        "\n",
        "SGD나 미니배치 경사 하강법에서는 곡선이 그리 매끄럽지 않아 최솟값에 도달했는지 확인하기 어려울 수 있음. > 검증 에러가 일정 시간동안 최솟값보다 클 때 학습을 멈추고 검증 에러가 최소였을 때의 모델 파라미터로 되돌림"
      ],
      "metadata": {
        "id": "0KavCZt95scF"
      }
    },
    {
      "cell_type": "code",
      "source": [
        "from sklearn.base import clone\n",
        "from sklearn.preprocessing import StandardScaler\n",
        "\n",
        "#데이터 준비\n",
        "poly_scaler=Pipeline([\n",
        "    (\"poly_features\",PolynomialFeatures(degree=90, include_bias=False)),\n",
        "    (\"std_scaler\",StandardScaler())\n",
        "])\n",
        "X_train_poly_sclaed=poly_scaler.fit_transform(X_train)\n",
        "X_val_poly_scaled=poly_scaler.transform(X_val)\n",
        "\n",
        "sgd_reg=SGDRegressor(max_iter=1,tol=-np.infty, warm_Start=True, penalty=None, learning_rate=\"constant\", eta0=0.0005)\n",
        "\n",
        "minimum_val_error=float(\"inf\")\n",
        "best_epoch=None\n",
        "best_model=None\n",
        "for epoch in range(1000):\n",
        "  sgd_reg.fit(X_train_poly_scaled, y_train)\n",
        "  y_val_predict=sgd_reg.predict(X_val_poly_scaled)\n",
        "  val_error=mean_squared_error(y_val,y_val_predict)\n",
        "  if val_error<minimum_val_error:\n",
        "    minimum_val_error=val_error\n",
        "    best_epoch=epoch\n",
        "    best_model=clone(sgd_reg)\n"
      ],
      "metadata": {
        "colab": {
          "base_uri": "https://localhost:8080/",
          "height": 245
        },
        "id": "_PUYVtvT6iIV",
        "outputId": "75c4e7e7-9407-404b-dbf4-5b112c868a22"
      },
      "execution_count": 26,
      "outputs": [
        {
          "output_type": "error",
          "ename": "NameError",
          "evalue": "ignored",
          "traceback": [
            "\u001b[0;31m---------------------------------------------------------------------------\u001b[0m",
            "\u001b[0;31mNameError\u001b[0m                                 Traceback (most recent call last)",
            "\u001b[0;32m<ipython-input-26-f12af358f033>\u001b[0m in \u001b[0;36m<module>\u001b[0;34m\u001b[0m\n\u001b[1;32m      7\u001b[0m     \u001b[0;34m(\u001b[0m\u001b[0;34m\"std_scaler\"\u001b[0m\u001b[0;34m,\u001b[0m\u001b[0mStandardScaler\u001b[0m\u001b[0;34m(\u001b[0m\u001b[0;34m)\u001b[0m\u001b[0;34m)\u001b[0m\u001b[0;34m\u001b[0m\u001b[0;34m\u001b[0m\u001b[0m\n\u001b[1;32m      8\u001b[0m ])\n\u001b[0;32m----> 9\u001b[0;31m \u001b[0mX_train_poly_sclaed\u001b[0m\u001b[0;34m=\u001b[0m\u001b[0mpoly_scaler\u001b[0m\u001b[0;34m.\u001b[0m\u001b[0mfit_transform\u001b[0m\u001b[0;34m(\u001b[0m\u001b[0mX_train\u001b[0m\u001b[0;34m)\u001b[0m\u001b[0;34m\u001b[0m\u001b[0;34m\u001b[0m\u001b[0m\n\u001b[0m\u001b[1;32m     10\u001b[0m \u001b[0mX_val_poly_scaled\u001b[0m\u001b[0;34m=\u001b[0m\u001b[0mpoly_scaler\u001b[0m\u001b[0;34m.\u001b[0m\u001b[0mtransform\u001b[0m\u001b[0;34m(\u001b[0m\u001b[0mX_val\u001b[0m\u001b[0;34m)\u001b[0m\u001b[0;34m\u001b[0m\u001b[0;34m\u001b[0m\u001b[0m\n\u001b[1;32m     11\u001b[0m \u001b[0;34m\u001b[0m\u001b[0m\n",
            "\u001b[0;31mNameError\u001b[0m: name 'X_train' is not defined"
          ]
        }
      ]
    },
    {
      "cell_type": "markdown",
      "source": [
        "##**6. 로지스틱 회귀**"
      ],
      "metadata": {
        "id": "TExCPf8l8fiw"
      }
    },
    {
      "cell_type": "markdown",
      "source": [
        "샘플이 특정 클래스에 속할 확률을 추정하는데 사용\n",
        "\n",
        "어떤 클래스에 대한 샘플의 추정 확률이 50%가 넘으면 모델은 그 샘플이 해당 클래스에 속한다고 예측"
      ],
      "metadata": {
        "id": "nkiu35Vb8k0H"
      }
    },
    {
      "cell_type": "markdown",
      "source": [
        "###1) 확률 추정\n",
        "\n",
        "입력 특성의 가중치 합을 계산 > 결괏값의 로지스틱을 출력\n",
        "\n",
        "시그모이드 함수\n",
        "  * f(x)=1/(1+exp(-x))"
      ],
      "metadata": {
        "id": "aEBkiVF79K0n"
      }
    },
    {
      "cell_type": "markdown",
      "source": [
        "###2) 훈련과 비용 함수\n",
        "\n",
        "양성 샘플에 대해서는 높은 확률을 추정하고 음성 샘플에 대해서는 낮은 확률을 추정하는 모델의 파라미터 벡터 찾기"
      ],
      "metadata": {
        "id": "W_GV0qrz9kyw"
      }
    },
    {
      "cell_type": "markdown",
      "source": [
        "###3) 결정 경계\n"
      ],
      "metadata": {
        "id": "phJZU_jVkUc9"
      }
    },
    {
      "cell_type": "code",
      "source": [
        "# 꽃잎의 너비를 기반으로 Iris 종을 감지하는 분류기\n",
        "from sklearn import datasets\n",
        "iris=datasets.load_iris()\n",
        "list(iris.keys())"
      ],
      "metadata": {
        "colab": {
          "base_uri": "https://localhost:8080/"
        },
        "id": "LouNOfjzkXPY",
        "outputId": "c72a7078-c657-4a41-da35-a2bdf619a6ad"
      },
      "execution_count": 27,
      "outputs": [
        {
          "output_type": "execute_result",
          "data": {
            "text/plain": [
              "['data',\n",
              " 'target',\n",
              " 'frame',\n",
              " 'target_names',\n",
              " 'DESCR',\n",
              " 'feature_names',\n",
              " 'filename',\n",
              " 'data_module']"
            ]
          },
          "metadata": {},
          "execution_count": 27
        }
      ]
    },
    {
      "cell_type": "code",
      "source": [
        "X=iris[\"data\"][:,3:]\n",
        "y=(iris[\"target\"]==2).astype(np.int)"
      ],
      "metadata": {
        "colab": {
          "base_uri": "https://localhost:8080/"
        },
        "id": "sF79pVd4kf9V",
        "outputId": "4a97c066-f14d-4226-faca-5c0e729a1ad3"
      },
      "execution_count": 28,
      "outputs": [
        {
          "output_type": "stream",
          "name": "stderr",
          "text": [
            "/usr/local/lib/python3.7/dist-packages/ipykernel_launcher.py:2: DeprecationWarning: `np.int` is a deprecated alias for the builtin `int`. To silence this warning, use `int` by itself. Doing this will not modify any behavior and is safe. When replacing `np.int`, you may wish to use e.g. `np.int64` or `np.int32` to specify the precision. If you wish to review your current use, check the release note link for additional information.\n",
            "Deprecated in NumPy 1.20; for more details and guidance: https://numpy.org/devdocs/release/1.20.0-notes.html#deprecations\n",
            "  \n"
          ]
        }
      ]
    },
    {
      "cell_type": "code",
      "source": [
        "from sklearn.linear_model import LogisticRegression\n",
        "log_reg=LogisticRegression()\n",
        "log_reg.fit(X,y)"
      ],
      "metadata": {
        "colab": {
          "base_uri": "https://localhost:8080/"
        },
        "id": "p66q9MGWklsl",
        "outputId": "76a71960-cf88-47ea-b3bf-73ccd1868996"
      },
      "execution_count": 30,
      "outputs": [
        {
          "output_type": "execute_result",
          "data": {
            "text/plain": [
              "LogisticRegression()"
            ]
          },
          "metadata": {},
          "execution_count": 30
        }
      ]
    },
    {
      "cell_type": "code",
      "source": [
        "X_new=np.linspace(0,3,1000).reshape(-1,1)\n",
        "y_proba=log_reg.predict_proba(X_new)\n",
        "plt.plot(X_new, y_proba[:,1],\"g-\",label=\"Iris virginica\")\n",
        "plt.plot(X_new,y_proba[:,0], \"b--\", label=\"Not Iris virginica\")"
      ],
      "metadata": {
        "colab": {
          "base_uri": "https://localhost:8080/",
          "height": 283
        },
        "id": "a4igU3O-kx8Z",
        "outputId": "9896f345-af3e-4fd0-cc48-151fd4f6c307"
      },
      "execution_count": 31,
      "outputs": [
        {
          "output_type": "execute_result",
          "data": {
            "text/plain": [
              "[<matplotlib.lines.Line2D at 0x7f325456dc10>]"
            ]
          },
          "metadata": {},
          "execution_count": 31
        },
        {
          "output_type": "display_data",
          "data": {
            "text/plain": [
              "<Figure size 432x288 with 1 Axes>"
            ],
            "image/png": "[encoded data removed]"
          },
          "metadata": {
            "needs_background": "light"
          }
        }
      ]
    },
    {
      "cell_type": "code",
      "source": [
        "log_reg.predict([[1.7],[1.5]])"
      ],
      "metadata": {
        "colab": {
          "base_uri": "https://localhost:8080/"
        },
        "id": "tICEjWfplkaP",
        "outputId": "d71719f4-b442-43e9-b322-60376d1a2949"
      },
      "execution_count": 32,
      "outputs": [
        {
          "output_type": "execute_result",
          "data": {
            "text/plain": [
              "array([1, 0])"
            ]
          },
          "metadata": {},
          "execution_count": 32
        }
      ]
    },
    {
      "cell_type": "markdown",
      "source": [
        "로지스틱 회귀 모델도 l1, l2 패널티를 사용하여 규제 가능"
      ],
      "metadata": {
        "id": "qBzocmCAls7w"
      }
    },
    {
      "cell_type": "markdown",
      "source": [
        "###4) 소프트맥스 회귀"
      ],
      "metadata": {
        "id": "FzYY0ul3lx_y"
      }
    },
    {
      "cell_type": "markdown",
      "source": [
        "로지스틱 회귀 모델은 다중 클래스를 지원하도록 일반화될 수 있음\n",
        "\n",
        "샘플 x가 주어지면 먼저 소프트맥스 회귀 모델이 각 클래스 k에 대한 점수 s(x)를 계산하고 그 점수에 소프트맥스 함수를 적용하여 각 클래스의 확률을 추정함\n",
        "\n",
        "각 클래스는 개별 파라미터 벡터를 가짐\n",
        "\n",
        "소프트맥스 회귀 분류기는 추정 확률이 가장 높은 클래스를 선택함\n",
        "\n",
        "소프트맥스 회귀 분류기는 한번에 하나의 클래스만 예측함 (다중출력X)\n",
        "\n"
      ],
      "metadata": {
        "id": "ItCDi4Ail1na"
      }
    },
    {
      "cell_type": "code",
      "source": [
        "X=iris[\"data\"][:,(2,3)]\n",
        "y=iris[\"target\"]\n",
        "\n",
        "softmax_reg=LogisticRegression(multi_class=\"multinomial\",solver=\"lbfgs\",C=10)\n",
        "softmax_reg.fit(X,y)"
      ],
      "metadata": {
        "colab": {
          "base_uri": "https://localhost:8080/"
        },
        "id": "DIOcl4joml8o",
        "outputId": "d9314c55-e6dd-4253-fae4-590e97e3cfa9"
      },
      "execution_count": 33,
      "outputs": [
        {
          "output_type": "execute_result",
          "data": {
            "text/plain": [
              "LogisticRegression(C=10, multi_class='multinomial')"
            ]
          },
          "metadata": {},
          "execution_count": 33
        }
      ]
    },
    {
      "cell_type": "code",
      "source": [
        "softmax_reg.predict([[5,2]])\n"
      ],
      "metadata": {
        "colab": {
          "base_uri": "https://localhost:8080/"
        },
        "id": "hQw_dceEm2bB",
        "outputId": "40319820-604a-47a9-aed0-d0270ca1f658"
      },
      "execution_count": 35,
      "outputs": [
        {
          "output_type": "execute_result",
          "data": {
            "text/plain": [
              "array([2])"
            ]
          },
          "metadata": {},
          "execution_count": 35
        }
      ]
    },
    {
      "cell_type": "code",
      "source": [
        "softmax_reg.predict_proba([[5,2]])"
      ],
      "metadata": {
        "colab": {
          "base_uri": "https://localhost:8080/"
        },
        "id": "wEFdgWcOm-DU",
        "outputId": "f61a086d-7786-4cc2-d168-4ecd77932e63"
      },
      "execution_count": 36,
      "outputs": [
        {
          "output_type": "execute_result",
          "data": {
            "text/plain": [
              "array([[6.38014896e-07, 5.74929995e-02, 9.42506362e-01]])"
            ]
          },
          "metadata": {},
          "execution_count": 36
        }
      ]
    },
    {
      "cell_type": "markdown",
      "source": [
        "추정 확률 50% 이하인 클래스를 예측할 수도 있음"
      ],
      "metadata": {
        "id": "tq8cR1konIig"
      }
    }
  ]
}