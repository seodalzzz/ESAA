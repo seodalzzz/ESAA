{
  "nbformat": 4,
  "nbformat_minor": 0,
  "metadata": {
    "colab": {
      "name": "Python Machine Learning CHAP5-1~3,5.ipynb",
      "provenance": [],
      "collapsed_sections": [],
      "authorship_tag": "ABX9TyP7M86TELh7jcO6jtPe/sce"
    },
    "kernelspec": {
      "name": "python3",
      "display_name": "Python 3"
    },
    "language_info": {
      "name": "python"
    }
  },
  "cells": [
    {
      "cell_type": "markdown",
      "source": [
        "#**CHAP5.회귀**"
      ],
      "metadata": {
        "id": "kdtJZEq6TpvA"
      }
    },
    {
      "cell_type": "markdown",
      "source": [
        "##**1.회귀 소개**\n",
        "  * 데이터 값이 평균과 같은 일정한 값으로 돌아가려는 경향을 이용한 통계학 기법\n",
        "  * 여러 개의 독립변수와 한 개의 종속변수 간의 상관관계를 모델링하는 기법을 통칭함\n",
        "\n",
        "  * 머신러닝 회귀 예측의 핵심은 주어진 피처와 결정 값 데이터 기반에서 학습을 통해 최적의 회귀 계수를 찾아내는 것\n",
        "\n",
        "  * 회귀 유형 구분\n",
        "    * 독립변수 개수 > 단일 회귀 / 다중 회귀\n",
        "    * 회귀 계수의 결합 : 선형 회귀 / 비선형 회귀\n",
        "  \n",
        "  * 지도학습\n",
        "    * 분류 : 예측값이 Categorical\n",
        "    * 회귀 : 예측 값이 연속값\n",
        "\n",
        "  * 선형 회귀 모형\n",
        "    * 일반 선형 회귀 : 예측값과 실제 값의 RSS를 최소화 할 수 있도록 회귀 계수를 최적화하며, 규제를 적용하지 않은 모델\n",
        "    * 릿지 : 선형 회귀에 L2 규제를 추가한 회귀 모델. L2규제는 상대적으로 큰 회귀 계수 값의 예측 영향도를 감소시키기 위해서 회귀 계수값을 더 작게 만드는 규제 모델\n",
        "    * 라쏘 : 선형 회귀에 L1 규제를 적용한 방식. L2 규제가 회귀 계수 값의 크기를 줄이는데 반해, L1 규제는 예측 영향력이 작은 피처의 회귀 계수를 0으로 만들어 회귀 예측 시 피처가 선택되지 않게 하는 것\n",
        "    * 엘라스틱넷 : L2,L1 규제를 함께 결합한 모델. 주로 피처가\n",
        "    * 로지스틱 회귀 : 분류에 사용되는 선형 모델"
      ],
      "metadata": {
        "id": "xUbqtq-vUsmQ"
      }
    },
    {
      "cell_type": "markdown",
      "source": [
        "##**2. 단순 선형 회귀를 통한 회귀 이해**\n",
        "\n",
        "* 단순 선형 회귀 : 독립변수도 하나, 종속변수도 하나인 선형 회귀\n",
        "\n",
        "* 잔차 : 실제 값과 회귀 모델의 차이에 따른 오류값\n",
        "  * 최적의 회귀 모델 : 잔차의 합이 최소가 되는 모델\n",
        "\n",
        "* RSS : 잔차 제곱 합\n",
        "  * RSS를 최소로 하는 회귀 계수를 학습을 통해 찾는 것이 머신러닝 기반 회귀의 핵심 사항임.\n",
        "  * 회귀에서 RSS는 비용이며 회귀 계수로 구성되는 RSS를 비용 함수라고 함."
      ],
      "metadata": {
        "id": "80S6L4kTXd08"
      }
    },
    {
      "cell_type": "markdown",
      "source": [
        "##**3.비용 최소화하기 - 경사 하강법(Gradient Descent) 소개**\n",
        "\n",
        "  * 고차원 방정식에 대한 문제를 해결해 주면서 비용 함수 RSS를 최소화 하는 방법을 직관적으로 제공\n",
        "  * 점진적으로 반복적인 계산을 통해 W 파라미터 값을 업데이트하면서 오류 값이 최소가 되는 W파라미터를 구하는 방식\n",
        "  * 비용 함수의 반환 값, 즉 예측값과 실제 값의 차이가 작아지는 방향성을 가지고 W파라미터를 지속해서 보정해 나감(W 파라미터를 업데이트)\n",
        "  * 최초 W에서부터 미분을 적용한 뒤 미분 값이 계속 감소하는 방향으로 순차적으로 W를 업데이트 > 미분된 1차함수의 기울기가 감소하지 않는 지점을 비용함수가 최저인 지점으로 간주하고 그때의 w를 반환\n",
        "\n",
        "  * 경사하강법의 일반적인 프로세스\n",
        "    * STEP1 : w1,w2를 임의의 값으로 설정하고 첫 비용 함수의 값을 계산\n",
        "    * STEP2 : 업데이트 된 w = 이전 w - 학습률*편미분값\n",
        "    * SETP3 : 비용 함수의 값이 감소했으면 다시 STEP2 반복, 더 이상 비용 함수의 값이 감소하지 않으면 그때의 w1,w2를 구하고 반복을 중지\n"
      ],
      "metadata": {
        "id": "1w3xrlWWYozk"
      }
    },
    {
      "cell_type": "code",
      "execution_count": 20,
      "metadata": {
        "colab": {
          "base_uri": "https://localhost:8080/",
          "height": 283
        },
        "id": "4E9b65DnTYbh",
        "outputId": "90304537-4d8c-44d4-da8c-5a6d39f59979"
      },
      "outputs": [
        {
          "output_type": "execute_result",
          "data": {
            "text/plain": [
              "<matplotlib.collections.PathCollection at 0x7fd737a2df50>"
            ]
          },
          "metadata": {},
          "execution_count": 20
        },
        {
          "output_type": "display_data",
          "data": {
            "text/plain": [
              "<Figure size 432x288 with 1 Axes>"
            ],
            "image/png": "[encoded data removed]"
          },
          "metadata": {
            "needs_background": "light"
          }
        }
      ],
      "source": [
        "import numpy as np\n",
        "import matplotlib.pyplot as plt\n",
        "%matplotlib inline\n",
        "\n",
        "np.random.seed(0)\n",
        "#y=4x+6 을 근사 (w1=4,w0=6). 임의의 값은 노이즈를 위해 만듦\n",
        "X=2*np.random.rand(100,1)\n",
        "y=6+4*X+np.random.randn(100,1)\n",
        "\n",
        "#X,y 데이터 세트 산점도로 시각화\n",
        "plt.scatter(X,y)"
      ]
    },
    {
      "cell_type": "markdown",
      "source": [
        "* 비용 함수 정의"
      ],
      "metadata": {
        "id": "oopfLJEfb_88"
      }
    },
    {
      "cell_type": "code",
      "source": [
        "\n",
        "def get_cost(y,y_pred):\n",
        "  N=len(y)\n",
        "  cost=np.sum(np.square(y-y_pred))/N\n",
        "  return cost"
      ],
      "metadata": {
        "id": "uLCsZbIkbwwf"
      },
      "execution_count": 21,
      "outputs": []
    },
    {
      "cell_type": "markdown",
      "source": [
        "* gradient_descent() : 경사 하강법 구현"
      ],
      "metadata": {
        "id": "8MmeRNpicCI4"
      }
    },
    {
      "cell_type": "code",
      "source": [
        "#w1과 w0을 업데이트할 w1_update,w0_update를 반환\n",
        "\n",
        "def get_weight_updates(w1,w0,X,y,learning_rate=0.01):\n",
        "  N=len(y)\n",
        "  #먼저 w1_updeat, w0_update를 각각 w1,w0의 shpae와 동일한 크기를 가진 0 값으로 초기화\n",
        "  w1_update=np.zeros_like(w1)\n",
        "  w2_update=np.zeros_like(w0)\n",
        "  #예측 배열 계산하고 예측과 실제 값의 차이 계산\n",
        "  y_pred=np.dot(X,w1.T)+w0\n",
        "  diff=y-y_pred\n",
        "\n",
        "  #w0_update를 dot 행렬 연산으로 구하기 위해 모두 1값을 가진 행렬 생성\n",
        "  w0_factors=np.ones((N,1))\n",
        "\n",
        "  #w1과 w0을 업데이트할 w1_update 와 w0_update 계산\n",
        "  w1_update = -(2/N)*learning_rate*(np.dot(X.T,diff))\n",
        "  w0_update=-(2/N)*learning_rate*(np.dot(w0_factors.T,diff))\n",
        "\n",
        "  return w1_update,w0_update"
      ],
      "metadata": {
        "id": "UqLNZK8ecJCV"
      },
      "execution_count": 22,
      "outputs": []
    },
    {
      "cell_type": "code",
      "source": [
        "#입력 인자 iters로 주어진 횟수만큼 반복적으로 w1과 w0를 업데이트\n",
        "\n",
        "def gradient_descent_steps(X,y, iters=10000):\n",
        "  #w0과 w1을 모두 0으로 초기화\n",
        "  w0=np.zeros((1,1))\n",
        "  w1=np.zeros((1,1))\n",
        "\n",
        "  #인자로 주어진 iters만큼 반복적으로 get_weight_updates()호출해 w1, w0 업데이트 수행\n",
        "  for ind in range(iters):\n",
        "    w1_update,w0_update=get_weight_updates(w1,w0,X,y,learning_rate=0.01)\n",
        "    w1=w1-w1_update\n",
        "    w0=w0-w0_update\n",
        "\n",
        "  return w1,w0"
      ],
      "metadata": {
        "id": "sCYtgiBMdCp-"
      },
      "execution_count": 23,
      "outputs": []
    },
    {
      "cell_type": "markdown",
      "source": [
        "* gradient_descent_steps()를 호출해 w1과 w0구하기\n",
        "\n",
        "* 최종적으로 RSS를 계산하는 get_cost() 함수를 생성하고 이를 이용해 경사 하강법의 예측 오류도 계산"
      ],
      "metadata": {
        "id": "fFjCN3W3dmoO"
      }
    },
    {
      "cell_type": "code",
      "source": [
        "def get_cost(y,y_pred):\n",
        "  N=len(y)\n",
        "  cost=np.sum(np.square(y-y_pred))/N\n",
        "  return cost\n",
        "\n",
        "\n",
        "w1,w0=gradient_descent_steps(X,y,iters=1000)\n",
        "print(\"w1:{0:.3f} w0:{1:.3f}\".format(w1[0,0],w0[0,0]))\n",
        "y_pred=w1[0,0]*X+w0\n",
        "print('Gradient Descent Total Cost:{0:.4f}'.format(get_cost(y,y_pred)))\n"
      ],
      "metadata": {
        "colab": {
          "base_uri": "https://localhost:8080/"
        },
        "id": "0XLOCza-dyKN",
        "outputId": "d3f681cb-37c6-461d-b90d-10997df001b1"
      },
      "execution_count": 24,
      "outputs": [
        {
          "output_type": "stream",
          "name": "stdout",
          "text": [
            "w1:4.022 w0:6.162\n",
            "Gradient Descent Total Cost:0.9935\n"
          ]
        }
      ]
    },
    {
      "cell_type": "code",
      "source": [
        "plt.scatter(X,y)\n",
        "plt.plot(X,y_pred)"
      ],
      "metadata": {
        "colab": {
          "base_uri": "https://localhost:8080/",
          "height": 283
        },
        "id": "rJLx8iXngizm",
        "outputId": "32b6b8bc-917f-42d8-96ad-cc49bfebf596"
      },
      "execution_count": 25,
      "outputs": [
        {
          "output_type": "execute_result",
          "data": {
            "text/plain": [
              "[<matplotlib.lines.Line2D at 0x7fd737bde990>]"
            ]
          },
          "metadata": {},
          "execution_count": 25
        },
        {
          "output_type": "display_data",
          "data": {
            "text/plain": [
              "<Figure size 432x288 with 1 Axes>"
            ],
            "image/png": "[encoded data removed]"
          },
          "metadata": {
            "needs_background": "light"
          }
        }
      ]
    },
    {
      "cell_type": "markdown",
      "source": [
        "> 경사하강법을 통해 회귀선이 잘 만들어 짐"
      ],
      "metadata": {
        "id": "cDyqt3E0gw4F"
      }
    },
    {
      "cell_type": "markdown",
      "source": [
        "* 확률적 경사 하강법 : Stochastic Gradient Descent\n",
        "  * 경사하강법은 모든 학습 데이터에 대해 반복적으로 비용함수 최소화를 위한 값을 업데이트하기 때문에 수행 시간이 매우 오래 걸림\n",
        "  * 일부 데이터만 이용해 w가 업데이트 되는 값을 계산함"
      ],
      "metadata": {
        "id": "maz7erSGg3cH"
      }
    },
    {
      "cell_type": "markdown",
      "source": [
        "* stochastic_gradietn_descent_steps()\n",
        "  * (미니배치)확률적 경사 하강법"
      ],
      "metadata": {
        "id": "2BInGiNAhTwW"
      }
    },
    {
      "cell_type": "code",
      "source": [
        "def stochastic_gradient_descent_steps(X,y,batch_size=10,iters=1000):\n",
        "  w0=np.zeros((1,1))\n",
        "  w1=np.zeros((1,1))\n",
        "  prev_cost=100000\n",
        "  iter_index=0\n",
        "\n",
        "  for ind in range(iters):\n",
        "    np.random.seed(ind)\n",
        "    #전체 X,y데이터에서 랜덤하게 batch_size만큼 데이터를 추출해 sample_X, sample_y로 저장\n",
        "    stochastic_random_index=np.random.permutation(X.shape[0])\n",
        "    sample_X=X[stochastic_random_index[0:batch_size]]\n",
        "    sample_y=y[stochastic_random_index[0:batch_size]]\n",
        "    #랜덤하게 batch_size만큼 추출된 데이터 기반으로 w1_update, w0_update 계산 후 업데이트\n",
        "    w1_update,w0_update=get_weight_updates(w1,w0,sample_X,sample_y, learning_rate=0.01)\n",
        "    w1=w1-w1_update\n",
        "    w0=w0-w0_update\n",
        "\n",
        "  return w1,w0"
      ],
      "metadata": {
        "id": "gldFb_o2hbR4"
      },
      "execution_count": 26,
      "outputs": []
    },
    {
      "cell_type": "code",
      "source": [
        "w1,w0=stochastic_gradient_descent_steps(X,y,iters=1000)\n",
        "print(\"w1:\",round(w1[0,0],3), \"w0:\",round(w0[0,0],3))\n",
        "y_pred=w1[0,0]*X+w0\n",
        "print('Stochastic Gradient Descent Total Cost:{0:.4f}'.format(get_cost(y,y_pred)))"
      ],
      "metadata": {
        "colab": {
          "base_uri": "https://localhost:8080/"
        },
        "id": "-WUTo383jQBy",
        "outputId": "edec7858-8e3e-415c-f8fd-41a7a69d2991"
      },
      "execution_count": 27,
      "outputs": [
        {
          "output_type": "stream",
          "name": "stdout",
          "text": [
            "w1: 4.028 w0: 6.156\n",
            "Stochastic Gradient Descent Total Cost:0.9937\n"
          ]
        }
      ]
    },
    {
      "cell_type": "markdown",
      "source": [
        "* 피처가 M개인 경우 회귀 계수 M+1개 > 선형대수로 계산"
      ],
      "metadata": {
        "id": "WT9vwo89oe_d"
      }
    },
    {
      "cell_type": "markdown",
      "source": [
        "##**5. 다항 회귀와 과(대)적합/과소적합 이해**\n",
        "\n",
        "* 다항 회귀 : 회귀가 독립 변순의 단항식이 아닌 2차, 3차 방정식과 같은 다항식으로 표현되는 것\n",
        "\n",
        "* 다항 회귀는 선형 회귀\n",
        "  * 회귀에서 선형/비선형회귀를 나누는 기준은 회귀 계수가 선형/비선형인지에 따른 것이지 독립변수의 선형/비선형 여부와는 무관함\n",
        "\n",
        "* 사이킷런은 다항 회귀를 위한 클래스를 명시적으로 제공하지 않음\n",
        "  * 비선형 함수를 선형 모델에 적용시키는 방법을 사용해 구현함\n",
        "  * PolynomialFeatures : degree 파라미터를 통해 입력 받은 단항식 피처를 degree에 해당하는 다항식 피처로 변환함\n",
        "  "
      ],
      "metadata": {
        "id": "VIVXRffypLz9"
      }
    },
    {
      "cell_type": "code",
      "source": [
        "from sklearn.preprocessing import PolynomialFeatures\n",
        "import numpy as np\n",
        "\n",
        "# 다항식으로 변환한 단항식 생성, [[0,1],[2,3]]의 2*2 행렬 생성\n",
        "X=np.arange(4).reshape(2,2)\n",
        "print('일차 단항식 계수 피처:\\n',X)\n",
        "\n",
        "#degree=2인2차 다항식으로 변환하기 위해 PolynomialFeatures를 이용해 변환\n",
        "poly=PolynomialFeatures(degree=2)\n",
        "poly.fit(X)\n",
        "poly_ftr=poly.transform(X)\n",
        "print('변환된 2차 다항식 계수 피처:\\n',poly_ftr)"
      ],
      "metadata": {
        "colab": {
          "base_uri": "https://localhost:8080/"
        },
        "id": "OHCxZ5CVwssZ",
        "outputId": "76380aa4-747e-451c-d895-ff0f14c53a3d"
      },
      "execution_count": 29,
      "outputs": [
        {
          "output_type": "stream",
          "name": "stdout",
          "text": [
            "일차 단항식 계수 피처:\n",
            " [[0 1]\n",
            " [2 3]]\n",
            "변환된 2차 다항식 계수 피처:\n",
            " [[1. 0. 1. 0. 0. 1.]\n",
            " [1. 2. 3. 4. 6. 9.]]\n"
          ]
        }
      ]
    },
    {
      "cell_type": "markdown",
      "source": [
        "* 3차 다항 회귀 함수를 임의로 설정하고 이의 회귀 계수를 예측"
      ],
      "metadata": {
        "id": "AOYpGaW7xPZ5"
      }
    },
    {
      "cell_type": "code",
      "source": [
        "def polynomial_func(X):\n",
        "  y=1+2*X[:,0]+3*X[:,0]**2+4*X[:,1]**3\n",
        "  return y\n",
        "\n",
        "X=np.arange(4).reshape(2,2)\n",
        "print('일차 단항식 곘루 feature:\\n',X)\n",
        "y=polynomial_func(X)\n",
        "print('삼차 다항식 결정값:\\n',y)"
      ],
      "metadata": {
        "colab": {
          "base_uri": "https://localhost:8080/"
        },
        "id": "6cim-LySxSKJ",
        "outputId": "c2bcc493-9cc8-40b7-c769-92c88c0593b8"
      },
      "execution_count": 30,
      "outputs": [
        {
          "output_type": "stream",
          "name": "stdout",
          "text": [
            "일차 단항식 곘루 feature:\n",
            " [[0 1]\n",
            " [2 3]]\n",
            "삼차 다항식 결정값:\n",
            " [  5 125]\n"
          ]
        }
      ]
    },
    {
      "cell_type": "markdown",
      "source": [
        "* 일차 단항식 계수를 삼차 다항식 계수로 변환하고, 이를 선형 회귀에 적용하면 다항 회귀로 구현됨"
      ],
      "metadata": {
        "id": "hsP8w30BxmB1"
      }
    },
    {
      "cell_type": "code",
      "source": [
        "from sklearn.linear_model import LinearRegression\n",
        "# 3차 다항식 변환\n",
        "poly_ftr=PolynomialFeatures(degree=3).fit_transform(X)\n",
        "print('3차 다항식 계수 feature:\\n',poly_ftr)\n",
        "\n",
        "#Linear Regression에 3차 다항식 계수 feature와 3차 다항식 결정값으로 학습 후 회귀 계수 확인\n",
        "model=LinearRegression()\n",
        "model.fit(poly_ftr,y)\n",
        "print('Polynomial 회귀 계수\\n',np.round(model.coef_,2))\n",
        "print('Polynomial 회귀 Shape :',model.coef_.shape)"
      ],
      "metadata": {
        "colab": {
          "base_uri": "https://localhost:8080/"
        },
        "id": "5RsKZ1Fyxp8M",
        "outputId": "867ed406-e76f-4e17-bce0-4c020aee8ee9"
      },
      "execution_count": 33,
      "outputs": [
        {
          "output_type": "stream",
          "name": "stdout",
          "text": [
            "3차 다항식 계수 feature:\n",
            " [[ 1.  0.  1.  0.  0.  1.  0.  0.  0.  1.]\n",
            " [ 1.  2.  3.  4.  6.  9.  8. 12. 18. 27.]]\n",
            "Polynomial 회귀 계수\n",
            " [0.   0.18 0.18 0.36 0.54 0.72 0.72 1.08 1.62 2.34]\n",
            "Polynomial 회귀 Shape : (10,)\n"
          ]
        }
      ]
    },
    {
      "cell_type": "markdown",
      "source": [
        "> 3차 다항식 Polynomial 변환 이후에는 다항식 계수 피처가 10개로 늘어남"
      ],
      "metadata": {
        "id": "TAbuytEaycdE"
      }
    },
    {
      "cell_type": "code",
      "source": [
        "from sklearn.preprocessing import PolynomialFeatures\n",
        "from sklearn.linear_model import LinearRegression\n",
        "from sklearn.pipeline import Pipeline\n",
        "import numpy as np\n",
        "\n",
        "def polynomial_func(X):\n",
        "  y=1+2*X[:,0]+3*X[:,0]**2+4*X[:,1]**3\n",
        "  return y\n",
        "\n",
        "#Pipeline 객체로 Streamline하게 Polynomial Feature 변환과 Linear Regression을 연결\n",
        "model=Pipeline([('poly',PolynomialFeatures(degree=3)),('linear',LinearRegression())])\n",
        "X=np.arange(4).reshape(2,2)\n",
        "y=polynomial_func(X)\n",
        "\n",
        "model=model.fit(X,y)\n",
        "print('Polynomial 회귀 계수\\n',np.round(model.named_steps['linear'].coef_,2))\n"
      ],
      "metadata": {
        "colab": {
          "base_uri": "https://localhost:8080/"
        },
        "id": "N057PfiAykEl",
        "outputId": "edc655f2-d420-4a13-a760-cd0d661f74a9"
      },
      "execution_count": 37,
      "outputs": [
        {
          "output_type": "stream",
          "name": "stdout",
          "text": [
            "Polynomial 회귀 계수\n",
            " [0.   0.18 0.18 0.36 0.54 0.72 0.72 1.08 1.62 2.34]\n"
          ]
        }
      ]
    },
    {
      "cell_type": "markdown",
      "source": [
        "###1) 다항 회귀를 이용한 괄소적합 및 과적합 이해\n",
        "\n",
        "* 다항 회귀의 차수를 높이면 피처의 직선적 관계가 아닌 복잡한 다항 관계 모델링 가능\n",
        "* 다항 회귀의 차수가 높아질수록 학습 데이터에만 너무 맞춘 학습이이뤄져서 정작 테스트 데이터 환경에서는 오히려 예측정확도가 떨어짐\n",
        "\n"
      ],
      "metadata": {
        "id": "HqEnioL0zca0"
      }
    },
    {
      "cell_type": "markdown",
      "source": [
        "* 원래 데이터 세트는 피처 X와 target y가 노이즈가 포함된 다항식의 코사인 그래프 관계를 가지도록 만들어줌\n",
        "\n",
        "* 이에 기반해 다항 회귀의 차수를 변화시키면서 그에 따른 회귀 예측 곡선과 예측 정확도를 비교"
      ],
      "metadata": {
        "id": "ykX2S6Q9zueB"
      }
    },
    {
      "cell_type": "code",
      "source": [
        "import numpy as np\n",
        "import matplotlib.pyplot as plt\n",
        "from sklearn.pipeline import Pipeline\n",
        "from sklearn.preprocessing import PolynomialFeatures\n",
        "from sklearn.linear_model import LinearRegression\n",
        "from sklearn.model_selection import cross_val_score\n",
        "%matplotlib inline\n",
        "\n",
        "#임의의 값으로 구성된 X값에 대해 코사인 변환 값을 반환\n",
        "def true_fun(X):\n",
        "  return np.cos(1.5*np.pi*X)\n",
        "\n",
        "#X는 0부터 1까지 30개의 임의의 값을 순서대로 샘플링한 데이터\n",
        "np.random.seed(0)\n",
        "n_samples=30\n",
        "X=np.sort(np.random.rand(n_samples))\n",
        "\n",
        "#y값은 코사인 기반의 true_fun()에서 약간의 노이즈 변동값을 더한 값\n",
        "y=true_fun(X)+np.random.randn(n_samples)*0.1\n",
        "\n"
      ],
      "metadata": {
        "id": "RSOmGLzFz87x"
      },
      "execution_count": 38,
      "outputs": []
    },
    {
      "cell_type": "markdown",
      "source": [
        "* 예측 결과를 비교할 다항식 차수를 각각 1,4,15로 변경하면서 예측 결과를 비교"
      ],
      "metadata": {
        "id": "XM8YrUnf0mLB"
      }
    },
    {
      "cell_type": "code",
      "source": [
        "plt.figure(figsize=(14,5))\n",
        "degrees=[1,4,15]\n",
        "\n",
        "#다항 회귀의 차수(degree)를 1,4,15로 각각 변화시키면서 비교\n",
        "for i in range(len(degrees)):\n",
        "  ax=plt.subplot(1,len(degrees),i+1)\n",
        "  plt.setp(ax,xticks=(),yticks=())\n",
        "\n",
        "  #개별 degree별로 Polynomial 변환\n",
        "  polynomial_features=PolynomialFeatures(degree=degrees[i], include_bias=False)\n",
        "  linear_regression=LinearRegression()\n",
        "  pipeline=Pipeline([('polynomial_featrues',polynomial_features),\n",
        "                     ('linear_regression', linear_regression)])\n",
        "  pipeline.fit(X.reshape(-1,1),y)\n",
        "\n",
        "  # 교차 검증으로 다항 회귀를 평가\n",
        "  scores=cross_val_score(pipeline,X.reshape(-1,1),y,scoring='neg_mean_squared_error',cv=10)\n",
        "  #Pipeline을 구성하는 세부 객체를 접근하는 named_seps['객체명']을 이용해 회귀 계수 추출\n",
        "  coefficients=pipeline.named_steps['linear_regression'].coef_\n",
        "  print('\\nDegree {0} 회귀 계수는 {1}입니다.'.format(degrees[i],np.round(coefficients,2)))\n",
        "  print('Degree {0} MSE는 {1} 입니다.'.format(degrees[i], -1*np.mean(scores)))\n",
        "\n",
        "  #0부터 1까지 테스트 데이터 세트를 100개로 나눠 예측 수행\n",
        "  #테스트 데이터 세트에 회귀 예측을 수행하고 예측 곡선과 실제 곡선을 그려서 비교\n",
        "  X_test=np.linspace(0,1,100)\n",
        "  #예측값 곡선\n",
        "  plt.plot(X_test, pipeline.predict(X_test[:,np.newaxis]), label=\"Model\")\n",
        "  plt.scatter(X,y,edgecolor='b',s=20,label=\"Samples\")\n",
        "\n",
        "  plt.xlabel(\"x\")\n",
        "  plt.ylabel(\"y\")\n",
        "  plt.xlim((0,1))\n",
        "  plt.ylim((-2,2))\n",
        "  plt.legend(loc=\"best\")\n",
        "  plt.title(\"Degree {}\\nMSE={:.2e}(+/- {:.2e})\".format(degrees[i],-scores.mean(),scores.std()))\n",
        "\n",
        "plt.show()\n",
        "\n"
      ],
      "metadata": {
        "colab": {
          "base_uri": "https://localhost:8080/",
          "height": 499
        },
        "id": "rR6o3VXk0tj8",
        "outputId": "83972dfa-fc73-4856-b997-68f4bc7248f4"
      },
      "execution_count": 40,
      "outputs": [
        {
          "output_type": "stream",
          "name": "stdout",
          "text": [
            "\n",
            "Degree 1 회귀 계수는 [-1.61]입니다.\n",
            "Degree 1 MSE는 0.4077289625098685 입니다.\n",
            "\n",
            "Degree 4 회귀 계수는 [  0.47 -17.79  23.59  -7.26]입니다.\n",
            "Degree 4 MSE는 0.043208749872320706 입니다.\n",
            "\n",
            "Degree 15 회귀 계수는 [-2.98291000e+03  1.03898770e+05 -1.87415056e+06  2.03715126e+07\n",
            " -1.44872551e+08  7.09311979e+08 -2.47064676e+09  6.24558367e+09\n",
            " -1.15676035e+10  1.56894317e+10 -1.54005437e+10  1.06456871e+10\n",
            " -4.91375763e+09  1.35919168e+09 -1.70380199e+08]입니다.\n",
            "Degree 15 MSE는 180526263.3177066 입니다.\n"
          ]
        },
        {
          "output_type": "display_data",
          "data": {
            "text/plain": [
              "<Figure size 1008x360 with 3 Axes>"
            ],
            "image/png": "[encoded data removed]"
          },
          "metadata": {}
        }
      ]
    },
    {
      "cell_type": "markdown",
      "source": [
        "> 맨왼쪽의 Degree1 예측 곡선은 단순한 직선으로 단순 선형 회귀와 같음. 실제 데이터 세트인 코사인 데이터 세트를 직선으로 예측하기에는 너무 단순해 보임\n",
        "\n",
        "> 두번째 Degree4 예측 곡선은 실제 데이터 세트와 유사한 모습\n",
        "\n",
        "> 세번째 Degree15 예측 곡선은 MSE값이 매우 큼 (과적합)"
      ],
      "metadata": {
        "id": "HPjthNqE1zNx"
      }
    },
    {
      "cell_type": "markdown",
      "source": [
        "###2) 편향-분산 트레이드 오프 (Bias-Variance Trade off)\n",
        "\n",
        "* 고편향 : 매우 단순화된 모델로서 지나치게 한 반향성으로 치우침\n",
        "\n",
        "* 고분산 : 매우 복잡한 모델로서 지나치게 높은 변동성을 가짐\n",
        "\n",
        "* 저편향/저분산 : 예측 겨로가가 실제 결과에 매우 잘 근접하면서도 예측 변동이 크지 않고 특정 부분에 집중됨\n",
        "\n",
        "* 저편향/고분산 : 예측 결과가 실제 결과에 비교적 근접하지만, 예측 결과가 실제 결과를 중심으로 꽤 넓은 부분에 분포되어 있음\n",
        "\n",
        "* 고편향/저분산 : 정확한 결과에서 벗어나면서도 예측이 특정 부분에 집중됨\n",
        "\n",
        "* 고편향/고분산 : 정확한 예측 결과를 벗어나면서도 넓은 부분에 분포됨\n",
        "\n",
        "* 일반적으로 편향과 분산은 한 쪽이 높으면 한쪽이 낮아지는 경향\n",
        "\n",
        "* 편향을 낮추고 분산을 높이면서 전체 오류가 가장 낮아지는 골디락스 지점 > 이후로 분산을 지속적으로 높이면 전체 오류 값이 오히려 증가하면서 예측 성능은 다시 저하됨\n",
        "\n",
        "* 고편향/저분산에서 과소적합되기 쉬우며 저편향/고분산에서 과적합되기 쉬움\n",
        "\n",
        "* 편향과 분산이 서로 트레이트오프를 이루면서 오류 Cost 값이 최대로 낮아지는 모델을 구축하는 것이 가장 효율적인 머신러닝 예측 모델을 만드는 방법."
      ],
      "metadata": {
        "id": "KLXk_fHy4BL_"
      }
    }
  ]
}