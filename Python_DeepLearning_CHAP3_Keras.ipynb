{
  "nbformat": 4,
  "nbformat_minor": 0,
  "metadata": {
    "colab": {
      "provenance": [],
      "authorship_tag": "ABX9TyM31PJOwp8Y8Zf3upCoL3E4"
    },
    "kernelspec": {
      "name": "python3",
      "display_name": "Python 3"
    },
    "language_info": {
      "name": "python"
    }
  },
  "cells": [
    {
      "cell_type": "markdown",
      "source": [
        "# **CHAP3 Keras**"
      ],
      "metadata": {
        "id": "bM2ZdH6wTbvf"
      }
    },
    {
      "cell_type": "markdown",
      "source": [
        "## **1. 딥러닝 준비**"
      ],
      "metadata": {
        "id": "b7G09zsJTSJH"
      }
    },
    {
      "cell_type": "markdown",
      "source": [
        "* 케라스 : 프랑스 엔지니어인 프랑소와 숄레가 만든 고수준의 딥러닝 라이브러리\n",
        "  * GPU연산을 수행하는 기능을 직접 실행하지 않고 텐서플로, CNTK, Theano, MXNet 등의 백엔드 엔진을 지정하여 사용"
      ],
      "metadata": {
        "id": "5TASOsxPTY1K"
      }
    },
    {
      "cell_type": "markdown",
      "source": [
        "### 1) 주요 용어"
      ],
      "metadata": {
        "id": "-xKXFjPST0sI"
      }
    },
    {
      "cell_type": "markdown",
      "source": [
        "#### (1) 하이퍼파라미터\n",
        "  * 머신러닝 모델을 훈련할 떄 사용자가 직접 설정해주는 설정값\n",
        "  * 사용자가 설정하는 하이퍼 파라미터에 따라 모델의 성능 및 결과가 달라짐\n",
        "  * 하이퍼 파라미터 튜닝 : 하이퍼파라미터의 값을 조절\n",
        "  * 딥러닝 프로젝트를 실행하는 초기 단계에 많은 시간을 튜닝에 투자하는 것 보다 마지막 단계에 진행하는 것을 추천\n"
      ],
      "metadata": {
        "id": "7UM__uDDT34k"
      }
    },
    {
      "cell_type": "markdown",
      "source": [
        "#### (2) 과소적합vs과대적합\n",
        "  * train set / test set\n",
        "  * 예측할 데이터가 모델이 학습한 데이터와 다른 분포를 갖거나, 혹은 학습한 데이터가 특정 레이블에 편향된 데이터로 이루어져 있을 경우 모델의 성능이 떨어질 수 있음\n",
        "  * 과소적합 : 모델이 충분히 학습되지 않아 모델의 성능이 떨어짐\n",
        "  * 과대적합 : 학습 데이터를 지나치게 반복 학습하게 되어 과하게 적합된 상태 > 노이즈까지 학습\n",
        "  * 과소적합과 과대적합 문제를 최소화하면서 정확도를 가장 높일 수 있도록 해야 함"
      ],
      "metadata": {
        "id": "vyRrM7A7UcUm"
      }
    },
    {
      "cell_type": "markdown",
      "source": [
        "#### (3) 에포크\n",
        "  * 딥러닝 모델이 반복 훈련을 할 떄 데이터셋을 전부 학습에 사용하는 1회의 훈련 루프\n"
      ],
      "metadata": {
        "id": "m9Wlq6jGVC6w"
      }
    },
    {
      "cell_type": "markdown",
      "source": [
        "#### (4) 손실 함수\n",
        "  * 예측 값과 정잡 값의 오차\n",
        "  * 사용자가 정의\n",
        "  * 클래스 및 함수 형태로 정의되어 있는 손실함수를 지정하여 사용"
      ],
      "metadata": {
        "id": "Lc86LTfEVPXB"
      }
    },
    {
      "cell_type": "code",
      "execution_count": 1,
      "metadata": {
        "colab": {
          "base_uri": "https://localhost:8080/"
        },
        "id": "rPgeGOwLTIuN",
        "outputId": "2a6af161-a804-4e9b-9ecb-0fcae7bd0f34"
      },
      "outputs": [
        {
          "output_type": "execute_result",
          "data": {
            "text/plain": [
              "<function keras.losses.binary_crossentropy(y_true, y_pred, from_logits=False, label_smoothing=0.0, axis=-1)>"
            ]
          },
          "metadata": {},
          "execution_count": 1
        }
      ],
      "source": [
        "import tensorflow as tf\n",
        "\n",
        "tf.keras.losses.BinaryCrossentropy()\n",
        "tf.keras.losses.binary_crossentropy"
      ]
    },
    {
      "cell_type": "markdown",
      "source": [
        "#### (5) 경사하강법\n",
        "  * 딥러닝 모델을 훈련할 때, 모델 내부의 가중치에 대한 미분 값을 구하고 목적 함수 값이 낮아지는 방향으로 차감하면서 결국 최소 함수 값을 갖도록 하는 방법\n",
        "  * 경사하강법 구현(Numpy)"
      ],
      "metadata": {
        "id": "ZgfQW80WVs9v"
      }
    },
    {
      "cell_type": "code",
      "source": [
        "import numpy as np\n",
        "import matplotlib.pyplot as plt\n",
        "\n",
        "def make_linear(w=0.5, b=0.8, size=50, noise=1.0):\n",
        "  x=np.random.rand(size)\n",
        "  y=w*x+b\n",
        "  noise=np.random.uniform(-abs(noise), abs(noise), size=y.shape)\n",
        "  yy=y+noise\n",
        "  plt.figure(figsize=(10,7))\n",
        "  plt.plot(x,y,color='r', label=f'y={w}*w+{b}')\n",
        "  plt.scatter(x,yy,label='data')\n",
        "  plt.legend(fontsize=20)\n",
        "  plt.show()\n",
        "  print(f'w:{w}, b:{b}')\n",
        "  return x,yy\n",
        "\n",
        "x,y=make_linear(w=0.3, b=0.5, size=100, noise=0.01)"
      ],
      "metadata": {
        "colab": {
          "base_uri": "https://localhost:8080/",
          "height": 446
        },
        "id": "nwgnle-NVkPM",
        "outputId": "4f98f19e-9e3b-40ab-e9d9-d28cd64d52f8"
      },
      "execution_count": 2,
      "outputs": [
        {
          "output_type": "display_data",
          "data": {
            "text/plain": [
              "<Figure size 720x504 with 1 Axes>"
            ],
            "image/png": "[encoded data removed]"
          },
          "metadata": {
            "needs_background": "light"
          }
        },
        {
          "output_type": "stream",
          "name": "stdout",
          "text": [
            "w:0.3, b:0.5\n"
          ]
        }
      ]
    },
    {
      "cell_type": "code",
      "source": [
        "num_epoch=1000\n",
        "learning_rate=0.005\n",
        "errors=[]\n",
        "w=np.random.uniform(low=0.0, high=1.0)\n",
        "b=np.random.uniform(low=0.0, high=1.0)\n",
        "for epoch in range(num_epoch):\n",
        "  y_hat=w*x+b\n",
        "  error=0.5*((y_hat-y)**2).sum()\n",
        "  if error<0.005:\n",
        "    break\n",
        "  w=w-learning_rate*((y_hat-y)*x).sum()\n",
        "  b=b-learning_rate*(y_hat-y).sum()\n",
        "\n",
        "  errors.append(error)\n",
        "\n",
        "  if epoch%5==0:\n",
        "    print(\"{0:2}w={1:5f},b={2:5f}error={3:5f}\".format(epoch,w,b,error))\n",
        "\n",
        "print(\"------\"*15)\n",
        "print(\"{0:2} w={1:1f}, b{2:1f} error={3:5f}\".format(epoch,w,b,error))\n"
      ],
      "metadata": {
        "colab": {
          "base_uri": "https://localhost:8080/"
        },
        "id": "km5NvMaYXz2S",
        "outputId": "da70e6d7-9d76-4e7a-a7bb-98041947bf9a"
      },
      "execution_count": 3,
      "outputs": [
        {
          "output_type": "stream",
          "name": "stdout",
          "text": [
            " 0w=0.573039,b=0.210338error=7.843986\n",
            " 5w=0.579151,b=0.340164error=0.373720\n",
            "10w=0.535998,b=0.365509error=0.267972\n",
            "15w=0.499233,b=0.386532error=0.192365\n",
            "20w=0.468118,b=0.404322error=0.138214\n",
            "25w=0.441785,b=0.419377error=0.099429\n",
            "30w=0.419499,b=0.432119error=0.071650\n",
            "35w=0.400639,b=0.442902error=0.051754\n",
            "40w=0.384677,b=0.452028error=0.037504\n",
            "45w=0.371169,b=0.459751error=0.027298\n",
            "50w=0.359737,b=0.466287error=0.019988\n",
            "55w=0.350062,b=0.471819error=0.014753\n",
            "60w=0.341874,b=0.476500error=0.011003\n",
            "65w=0.334944,b=0.480462error=0.008317\n",
            "70w=0.329080,b=0.483815error=0.006393\n",
            "75w=0.324116,b=0.486652error=0.005016\n",
            "------------------------------------------------------------------------------------------\n",
            "76 w=0.324116, b0.486652 error=0.004791\n"
          ]
        }
      ]
    },
    {
      "cell_type": "code",
      "source": [
        "plt.figure(figsize=(10,7))\n",
        "plt.plot(errors)\n",
        "plt.xlabel(\"Epochs\")\n",
        "plt.ylabel(\"Error\")\n",
        "plt.show()"
      ],
      "metadata": {
        "colab": {
          "base_uri": "https://localhost:8080/",
          "height": 442
        },
        "id": "NQ6hCOJKY2-j",
        "outputId": "532e7baa-9234-4429-aab4-3466feac1d52"
      },
      "execution_count": 4,
      "outputs": [
        {
          "output_type": "display_data",
          "data": {
            "text/plain": [
              "<Figure size 720x504 with 1 Axes>"
            ],
            "image/png": "[encoded data removed]"
          },
          "metadata": {
            "needs_background": "light"
          }
        }
      ]
    },
    {
      "cell_type": "markdown",
      "source": [
        "* 가중치가 난수 값에 의하여 다르게 초기화되기 때문에 매번 실행할 때마다 수렴하는 속도는 차이가 있음"
      ],
      "metadata": {
        "id": "hKXhtlYFZJ2v"
      }
    },
    {
      "cell_type": "markdown",
      "source": [
        "### 2) 딥러닝 프로세스**"
      ],
      "metadata": {
        "id": "O9KIIJ_EZQrt"
      }
    },
    {
      "cell_type": "markdown",
      "source": [
        "#### (1) 데이터 전처리\n",
        "  * 데이터를 모델에 주입하기 전에 데이터를 가공하는 단계\n",
        "  * 전처리 단계에서 데이터셋의 형태나 차원을 미리 구상해야 다음 단계에서 모델을 설계할 때 입력한 데이터셋의 형태를 올바르게 정의할 수 있다.\n",
        "  * 전처리 단계에서 처리한 데이터셋의 형태와 다음 단계에서 생성할 모델이 입력받을 데이터셋의 형태가 다르다면 에러가 발생할 수 있다."
      ],
      "metadata": {
        "id": "1d8HqOTgZUG8"
      }
    },
    {
      "cell_type": "markdown",
      "source": [
        "#### (2) 모델 생성\n",
        "  * 모델의 구조를 정의하고 생성하는 단계\n",
        "  * 순차적인 구조의 모델 : Sequential API\n",
        "  * 다중 입력 및 출력을 가지고 복잡한 구조를 갖는 모델 : Functional API, Model Subclassing"
      ],
      "metadata": {
        "id": "vSeLcfLDbIey"
      }
    },
    {
      "cell_type": "markdown",
      "source": [
        "#### (3) 모델 컴파일\n",
        "  * 생성된 모델 훈련에 사용할 손실함수, 옵티마이저, 평가지표 등을 정의\n",
        "  * 모델 인스턴스에 compile() 메소드를 적용하고, 여러가지 속성 값을 설정"
      ],
      "metadata": {
        "id": "sLQohGw7bbBm"
      }
    },
    {
      "cell_type": "markdown",
      "source": [
        "#### (4) 모델 훈련\n",
        "  * 모델을 훈련하는 단계\n",
        "  * fit() 함수에 모델 훈련에 필요한 정보를 매개변수(파라미터)로 전달\n",
        "  * 훈련 데이터셋, 검증 데이터셋, epoch, 배치크기 및 콜백 함수 등을 지정\n",
        "\n"
      ],
      "metadata": {
        "id": "nzpNe0BVbohk"
      }
    },
    {
      "cell_type": "markdown",
      "source": [
        "#### (5) 모델 검증\n",
        "  * 훈련이 완료된 모델을 검증\n",
        "  * 훈련에 사용하지 않은 검증 데이터셋을 모델에 입력하고 모델의 예측 값을 정답과 비교하여 평가지표를 계산\n",
        "  * 검증 결과를 바탕으로 다시 모델 생성 단계로 돌아가 모델을 수정하고, 컴파일 및 훈련 과정을 거쳐 재평가 하는 과정을 목표 성능에 도달할 때까지 반복"
      ],
      "metadata": {
        "id": "035-4PDQb6bC"
      }
    },
    {
      "cell_type": "markdown",
      "source": [
        "#### (6) 모델 예측\n",
        "  * 훈련과 검증이 완료된 모델로 테스트셋에 대하여 모델이 예측하고 그 결과를 반환"
      ],
      "metadata": {
        "id": "-TMudcT8cWnG"
      }
    },
    {
      "cell_type": "markdown",
      "source": [
        "## **2. 단순 신경망 훈련**"
      ],
      "metadata": {
        "id": "lBon-_3ycgZN"
      }
    },
    {
      "cell_type": "markdown",
      "source": [
        "### 1) 선형 회귀"
      ],
      "metadata": {
        "id": "QSHHiiEZc0lj"
      }
    },
    {
      "cell_type": "markdown",
      "source": [
        "  * 회귀 분석 : 하나 이상의  독립변수들이 종속변수에 미치는 영향을 추정하는 통계 기법\n",
        "  * 단순 선형 회귀 : 하나의 X가 하나의 Y에 미치는 영향을 추정"
      ],
      "metadata": {
        "id": "NFsp31dzc5RT"
      }
    },
    {
      "cell_type": "markdown",
      "source": [
        "### 2) 뉴런\n",
        "  * 인공 신경망 모델을 구성하는 하나의 신경\n",
        "  * 노드\n",
        "  * 신경망은 여러 개의 레이어를 가지며 1개의 레이어는 1개 이상의 뉴런으로 구성됨\n",
        "  * 뉴런의 내부에는 가중치가 존재하고 모델이 훈련을 진행하면서 오차 역전파를 통해 뉴런의 가중치가 업데이트 됨\n",
        "  * 역전파 알고리즘 : 신경망 모델의 파라미터들에 대한 그래디언트를 계산하는 방법. 신경망을 구성하는 각 레이어와 관련된 손실함수를 미분한 결과인 그래디언트를  출력층에서 입력층 순으로 역으로 계산하고 저장함."
      ],
      "metadata": {
        "id": "p2eD_3UEdKmz"
      }
    },
    {
      "cell_type": "markdown",
      "source": [
        "### 3) Dense 레이어"
      ],
      "metadata": {
        "id": "ZliGpZeOduuQ"
      }
    },
    {
      "cell_type": "markdown",
      "source": [
        "  * 심층 신경망 모델을 구성하는 가장 기본 레이어\n",
        "  * 각 레이어와 레이어 사이에 모든 뉴런이 서로 연결되어 있기 때문에 Fully connected Layer라고 부르기도 함\n",
        "  * Dense 레이어를 구성하는 노드 개수와 활성화 함수를 지정할 수 있음\n",
        "  * 텐서플로의 layer모듈에 있는 Dense 레이어로 쉽게 구현 가능"
      ],
      "metadata": {
        "id": "NcFoNMJ2dxtP"
      }
    },
    {
      "cell_type": "code",
      "source": [
        "import tensorflow as tf\n",
        "\n",
        "tf.keras.layers.Dense(10)\n",
        "tf.keras.layers.Dense(10,activation='relu')"
      ],
      "metadata": {
        "colab": {
          "base_uri": "https://localhost:8080/"
        },
        "id": "71c_xwnaeNZ3",
        "outputId": "b8dce0ac-4caa-44b9-c227-fe3ec0245b72"
      },
      "execution_count": 5,
      "outputs": [
        {
          "output_type": "execute_result",
          "data": {
            "text/plain": [
              "<keras.layers.core.dense.Dense at 0x7fccb524dd50>"
            ]
          },
          "metadata": {},
          "execution_count": 5
        }
      ]
    },
    {
      "cell_type": "markdown",
      "source": [
        "### 4) 데이터셋 만들기\n",
        "  * 단순선형회귀 모형을 지도학습 방식으로 훈련"
      ],
      "metadata": {
        "id": "S2XQfmfMeUGq"
      }
    },
    {
      "cell_type": "code",
      "source": [
        "x=np.arange(1,6)\n",
        "\n",
        "y=3*x+2\n",
        "print(x)\n",
        "print(y)"
      ],
      "metadata": {
        "colab": {
          "base_uri": "https://localhost:8080/"
        },
        "id": "r4pomg4aecrt",
        "outputId": "92aea0be-71ed-4e08-b8af-a7b5c2cf1d5b"
      },
      "execution_count": 6,
      "outputs": [
        {
          "output_type": "stream",
          "name": "stdout",
          "text": [
            "[1 2 3 4 5]\n",
            "[ 5  8 11 14 17]\n"
          ]
        }
      ]
    },
    {
      "cell_type": "code",
      "source": [
        "import matplotlib.pyplot as plt\n",
        "\n",
        "plt.plot(x,y)\n",
        "plt.title('y=3x+2')\n",
        "plt.show()"
      ],
      "metadata": {
        "colab": {
          "base_uri": "https://localhost:8080/",
          "height": 0
        },
        "id": "WXp_T9hdejpK",
        "outputId": "4cacb7b1-0bb0-43a8-988e-1b42275e0f9c"
      },
      "execution_count": 7,
      "outputs": [
        {
          "output_type": "display_data",
          "data": {
            "text/plain": [
              "<Figure size 432x288 with 1 Axes>"
            ],
            "image/png": "[encoded data removed]"
          },
          "metadata": {
            "needs_background": "light"
          }
        }
      ]
    },
    {
      "cell_type": "markdown",
      "source": [
        "### 5) Sequential API\n",
        "  * 층을 이어 붙이듯 시퀀스에 맞게 일렬로 연결하는 방식\n",
        "  * 입력 레이어부터 출력 레이어까지 순서를 가짐\n",
        "  * 입력 데이터는 시퀀스의 가장 앞에 위치한 층에 투입되고, 순서대로 각 층을 하나씩 통과하면서 딥러닝 연산을 수행\n",
        "  * 다중 입력이나 다중 출력을 갖는 복잡한 구조를 만들 수 없음"
      ],
      "metadata": {
        "id": "acTwRehuesg7"
      }
    },
    {
      "cell_type": "markdown",
      "source": [
        "#### (1) 모델 구조\n",
        "\n",
        "  * 리스트형 정의로 Sequential 클래스 함수에 파이썬 리스트 형태로 여러 개의 층을 입력\n",
        "    * 대괄호 안에 쉼표로 구분하여 층을 쌓음"
      ],
      "metadata": {
        "id": "nLRxEuWJe_dY"
      }
    },
    {
      "cell_type": "code",
      "source": [
        "#Dense 레이어 3개를 갖는 모델을 생성\n",
        "import tensorflow as tf\n",
        "\n",
        "model=tf.keras.Sequential([\n",
        "    tf.keras.layers.Dense(10),\n",
        "    tf.keras.layers.Dense(5),\n",
        "    tf.keras.layers.Dense(1) \n",
        "])"
      ],
      "metadata": {
        "id": "9iShOk9sfh9o"
      },
      "execution_count": 8,
      "outputs": []
    },
    {
      "cell_type": "markdown",
      "source": [
        "  * add 함수로 레이어 추가로 Sequential 클래스 객체를 먼저 만든 뒤에, 생성된 모델 인스턴스에 층을 추가\n",
        "    * add() 메소드 함수를 사용하여 1개의 층을 추가\n",
        "    * 여러 개의 층을 추가하기 위해서는 add함수를 반복"
      ],
      "metadata": {
        "id": "x0PKaxf-fwax"
      }
    },
    {
      "cell_type": "code",
      "source": [
        "model=tf.keras.Sequential()\n",
        "model.add(tf.keras.layers.Dense(10))\n",
        "model.add(tf.keras.layers.Dense(5))\n",
        "model.add(tf.keras.layers.Dense(1))"
      ],
      "metadata": {
        "id": "SG2kK47xgFKd"
      },
      "execution_count": 9,
      "outputs": []
    },
    {
      "cell_type": "markdown",
      "source": [
        "#### (2) 입력 데이터 형태\n",
        "  * Sequential API를 사용하여 모델을 구성할 때 반드시 첫째 층은 input_shape 매개변수를 지정해야 함 => 주입할 데이터셋의 shape을 튜플 혹은 리스트로 지정"
      ],
      "metadata": {
        "id": "05RAMIFYgNc5"
      }
    },
    {
      "cell_type": "code",
      "source": [
        "import tensorflow as tf\n",
        "model=tf.keras.Sequential([\n",
        "    tf.keras.layers.Dense(10,input_shape=[4]),\n",
        "    tf.keras.layers.Dense(5),\n",
        "    tf.keras.layers.Dense(1)\n",
        "])"
      ],
      "metadata": {
        "id": "3YuIWisFgdKa"
      },
      "execution_count": 10,
      "outputs": []
    },
    {
      "cell_type": "markdown",
      "source": [
        "#### (3) 단순선형회귀 모델의 정의\n",
        "  * 단순 선형 회귀 모델을 만들기 위해서는 1개읜 뉴런을 가지는 Dense 레이어 한개를 사용\n",
        "  * 입력 데이터는 x값을 나타내는 입력변수 1개만 존재 "
      ],
      "metadata": {
        "id": "2AWxZ9nwgvl8"
      }
    },
    {
      "cell_type": "code",
      "source": [
        "model=tf.keras.Sequential([\n",
        "    tf.keras.layers.Dense(1, input_shape=[1])\n",
        "])"
      ],
      "metadata": {
        "id": "cm8G3Ijxg_XM"
      },
      "execution_count": 11,
      "outputs": []
    },
    {
      "cell_type": "markdown",
      "source": [
        "### 6) 모델 요약\n",
        "  * model.summary()로 모델 요약 확인 가능\n",
        "  * 모델의 구조 확인 가능, 층별 노드의 개수 표기, 업데이트할 파라미터의 개수 표기\n",
        "  * Total params : 모델 내부에 존재하느 모든 파라미터의 합계\n",
        "  * Trainable params : 모델 훈련 시 업데이트할 파라미터의 총 개수\n",
        "  * Non-trainable params : 훈련 시 업데이트하지 않을 파라미터의 총 개수\n",
        "  "
      ],
      "metadata": {
        "id": "T7D95_juhHMH"
      }
    },
    {
      "cell_type": "markdown",
      "source": [
        "### 7) 컴파일\n"
      ],
      "metadata": {
        "id": "anhfCdlfht56"
      }
    },
    {
      "cell_type": "markdown",
      "source": [
        "  * 모델의 훈련 과정에서 적용할 옵티마이저, 손실함수, 평가지표 등을 정의함\n",
        "  * 클래스 인스턴스로 지정\n",
        "    * 학습률, 모멘텀 등의 하이퍼 파라미터를 사용자가 직접 지정\n",
        "  * 문자열로 지정\n",
        "    * 기본값으로 설정된 하이퍼 파라미터를 사용, 수정은 어려움"
      ],
      "metadata": {
        "id": "4mUnr55hhv1Q"
      }
    },
    {
      "cell_type": "code",
      "source": [
        "# 긴 문자열 지정\n",
        "model.compile(optimizer='sgd', loss='mean_squared_error', metrics=['mean_squared_error', 'mean_absolute_error'])"
      ],
      "metadata": {
        "id": "LwdvqfV5iEhy"
      },
      "execution_count": 12,
      "outputs": []
    },
    {
      "cell_type": "code",
      "source": [
        "# 짧은 문자열 지정 \n",
        "model.compile(optimizer='sgd',loss='mse', metrics=['mse','mae'])"
      ],
      "metadata": {
        "id": "gJnAXg_MiOpl"
      },
      "execution_count": 13,
      "outputs": []
    },
    {
      "cell_type": "code",
      "source": [
        "# 클래스 인스턴스 지정\n",
        "model.compile(optimizer=tf.keras.optimizers.SGD(lr=0.005),\n",
        "              loss=tf.keras.losses.MeanAbsoluteError(),\n",
        "              metrics=[tf.keras.metrics.MeanAbsoluteError(),\n",
        "                       tf.keras.metrics.MeanSquaredError()])"
      ],
      "metadata": {
        "colab": {
          "base_uri": "https://localhost:8080/"
        },
        "id": "yqILDANZib2g",
        "outputId": "2a6c2851-7366-4350-cd11-e27b658f048a"
      },
      "execution_count": 14,
      "outputs": [
        {
          "output_type": "stream",
          "name": "stderr",
          "text": [
            "/usr/local/lib/python3.7/dist-packages/keras/optimizers/optimizer_v2/gradient_descent.py:108: UserWarning: The `lr` argument is deprecated, use `learning_rate` instead.\n",
            "  super(SGD, self).__init__(name, **kwargs)\n"
          ]
        }
      ]
    },
    {
      "cell_type": "code",
      "source": [
        "model.compile(optimizer='sgd',loss='mse',metrics=['mae'])"
      ],
      "metadata": {
        "id": "0etgeAmfiv9F"
      },
      "execution_count": 15,
      "outputs": []
    },
    {
      "cell_type": "markdown",
      "source": [
        "### 8) 훈련\n",
        "  * 생성한 모델 인스턴스에 fit()메소드를 적용\n",
        "  * 훈련 : 가중치를 업데이트\n",
        "  * fit()\n",
        "    *  훈련용 데이터셋의 입력(x)와 정답에 해당하는 출력(y), 반복 훈련할 epoch 수를 지정\n",
        "    * 매 epoch가 끝날 때마다 훈련 데이터셋에 대한 손실과 평가지표를 출력 (안하려면 verbos=0)\n",
        "    * 검증 데이터셋 옵션을 지정했다면 검증 셋에 대한 손실과 평가지표도 함께 출력"
      ],
      "metadata": {
        "id": "crGiGH4si41J"
      }
    },
    {
      "cell_type": "code",
      "source": [
        "model.fit(x,y,epochs=5)"
      ],
      "metadata": {
        "colab": {
          "base_uri": "https://localhost:8080/"
        },
        "id": "lNM0DIj7jglR",
        "outputId": "45159ba1-9cc0-47ae-aa4d-1948bb47d37c"
      },
      "execution_count": 16,
      "outputs": [
        {
          "output_type": "stream",
          "name": "stdout",
          "text": [
            "Epoch 1/5\n",
            "1/1 [==============================] - 1s 922ms/step - loss: 80.8959 - mae: 8.4626\n",
            "Epoch 2/5\n",
            "1/1 [==============================] - 0s 15ms/step - loss: 47.2690 - mae: 6.5115\n",
            "Epoch 3/5\n",
            "1/1 [==============================] - 0s 14ms/step - loss: 27.6721 - mae: 5.0220\n",
            "Epoch 4/5\n",
            "1/1 [==============================] - 0s 16ms/step - loss: 16.2512 - mae: 3.8847\n",
            "Epoch 5/5\n",
            "1/1 [==============================] - 0s 16ms/step - loss: 9.5947 - mae: 3.0164\n"
          ]
        },
        {
          "output_type": "execute_result",
          "data": {
            "text/plain": [
              "<keras.callbacks.History at 0x7fccb4911590>"
            ]
          },
          "metadata": {},
          "execution_count": 16
        }
      ]
    },
    {
      "cell_type": "markdown",
      "source": [
        "> 모델의 예측오차가 점점 줄어듦\n",
        "\n",
        "> 반복 훈련 횟수가 충분하지 않아 학습이 덜 됨 (과소적합)"
      ],
      "metadata": {
        "id": "zzGitnvFjkEo"
      }
    },
    {
      "cell_type": "markdown",
      "source": [
        "*  epoch에 120을 지정하여 충분히 훈련\n",
        "* fit() 메소드가 반환하는 history 변수는 epoch 별 훈련 손실과 평가지표가 딕셔너리 형태로 저장됨"
      ],
      "metadata": {
        "id": "uwe6J0TNxCJ2"
      }
    },
    {
      "cell_type": "code",
      "source": [
        "model=tf.keras.Sequential([\n",
        "    tf.keras.layers.Dense(1, input_shape=[1])\n",
        "])\n",
        "\n",
        "model.compile(optimizer='sgd',loss='mse',metrics=['mae'])\n",
        "\n",
        "history=model.fit(x,y,epochs=1200)"
      ],
      "metadata": {
        "colab": {
          "base_uri": "https://localhost:8080/"
        },
        "id": "1MHbv0xxxFhM",
        "outputId": "6ce07f70-b43f-460e-ad88-0d4330638535"
      },
      "execution_count": 17,
      "outputs": [
        {
          "output_type": "stream",
          "name": "stdout",
          "text": [
            "Epoch 1/1200\n",
            "1/1 [==============================] - 1s 611ms/step - loss: 200.0732 - mae: 13.1347\n",
            "Epoch 2/1200\n",
            "1/1 [==============================] - 0s 14ms/step - loss: 116.6536 - mae: 10.0624\n",
            "Epoch 3/1200\n",
            "1/1 [==============================] - 0s 17ms/step - loss: 68.0404 - mae: 7.7169\n",
            "Epoch 4/1200\n",
            "1/1 [==============================] - 0s 19ms/step - loss: 39.7107 - mae: 5.9263\n",
            "Epoch 5/1200\n",
            "1/1 [==============================] - 0s 11ms/step - loss: 23.2011 - mae: 4.5593\n",
            "Epoch 6/1200\n",
            "1/1 [==============================] - 0s 10ms/step - loss: 13.5797 - mae: 3.5156\n",
            "Epoch 7/1200\n",
            "1/1 [==============================] - 0s 12ms/step - loss: 7.9724 - mae: 2.7187\n",
            "Epoch 8/1200\n",
            "1/1 [==============================] - 0s 9ms/step - loss: 4.7044 - mae: 2.1103\n",
            "Epoch 9/1200\n",
            "1/1 [==============================] - 0s 11ms/step - loss: 2.7996 - mae: 1.6457\n",
            "Epoch 10/1200\n",
            "1/1 [==============================] - 0s 13ms/step - loss: 1.6891 - mae: 1.2909\n",
            "Epoch 11/1200\n",
            "1/1 [==============================] - 0s 16ms/step - loss: 1.0416 - mae: 1.0200\n",
            "Epoch 12/1200\n",
            "1/1 [==============================] - 0s 35ms/step - loss: 0.6639 - mae: 0.8131\n",
            "Epoch 13/1200\n",
            "1/1 [==============================] - 0s 58ms/step - loss: 0.4434 - mae: 0.6550\n",
            "Epoch 14/1200\n",
            "1/1 [==============================] - 0s 12ms/step - loss: 0.3145 - mae: 0.5342\n",
            "Epoch 15/1200\n",
            "1/1 [==============================] - 0s 12ms/step - loss: 0.2390 - mae: 0.4418\n",
            "Epoch 16/1200\n",
            "1/1 [==============================] - 0s 10ms/step - loss: 0.1947 - mae: 0.3712\n",
            "Epoch 17/1200\n",
            "1/1 [==============================] - 0s 15ms/step - loss: 0.1685 - mae: 0.3377\n",
            "Epoch 18/1200\n",
            "1/1 [==============================] - 0s 14ms/step - loss: 0.1528 - mae: 0.3222\n",
            "Epoch 19/1200\n",
            "1/1 [==============================] - 0s 15ms/step - loss: 0.1433 - mae: 0.3101\n",
            "Epoch 20/1200\n",
            "1/1 [==============================] - 0s 12ms/step - loss: 0.1374 - mae: 0.3007\n",
            "Epoch 21/1200\n",
            "1/1 [==============================] - 0s 15ms/step - loss: 0.1336 - mae: 0.2992\n",
            "Epoch 22/1200\n",
            "1/1 [==============================] - 0s 15ms/step - loss: 0.1310 - mae: 0.3004\n",
            "Epoch 23/1200\n",
            "1/1 [==============================] - 0s 17ms/step - loss: 0.1292 - mae: 0.3011\n",
            "Epoch 24/1200\n",
            "1/1 [==============================] - 0s 15ms/step - loss: 0.1277 - mae: 0.3015\n",
            "Epoch 25/1200\n",
            "1/1 [==============================] - 0s 13ms/step - loss: 0.1265 - mae: 0.3014\n",
            "Epoch 26/1200\n",
            "1/1 [==============================] - 0s 13ms/step - loss: 0.1255 - mae: 0.3012\n",
            "Epoch 27/1200\n",
            "1/1 [==============================] - 0s 16ms/step - loss: 0.1245 - mae: 0.3008\n",
            "Epoch 28/1200\n",
            "1/1 [==============================] - 0s 11ms/step - loss: 0.1236 - mae: 0.3002\n",
            "Epoch 29/1200\n",
            "1/1 [==============================] - 0s 14ms/step - loss: 0.1228 - mae: 0.2995\n",
            "Epoch 30/1200\n",
            "1/1 [==============================] - 0s 18ms/step - loss: 0.1219 - mae: 0.2988\n",
            "Epoch 31/1200\n",
            "1/1 [==============================] - 0s 14ms/step - loss: 0.1211 - mae: 0.2980\n",
            "Epoch 32/1200\n",
            "1/1 [==============================] - 0s 20ms/step - loss: 0.1202 - mae: 0.2971\n",
            "Epoch 33/1200\n",
            "1/1 [==============================] - 0s 11ms/step - loss: 0.1194 - mae: 0.2962\n",
            "Epoch 34/1200\n",
            "1/1 [==============================] - 0s 16ms/step - loss: 0.1186 - mae: 0.2953\n",
            "Epoch 35/1200\n",
            "1/1 [==============================] - 0s 13ms/step - loss: 0.1178 - mae: 0.2944\n",
            "Epoch 36/1200\n",
            "1/1 [==============================] - 0s 10ms/step - loss: 0.1170 - mae: 0.2934\n",
            "Epoch 37/1200\n",
            "1/1 [==============================] - 0s 11ms/step - loss: 0.1162 - mae: 0.2925\n",
            "Epoch 38/1200\n",
            "1/1 [==============================] - 0s 7ms/step - loss: 0.1154 - mae: 0.2915\n",
            "Epoch 39/1200\n",
            "1/1 [==============================] - 0s 7ms/step - loss: 0.1147 - mae: 0.2906\n",
            "Epoch 40/1200\n",
            "1/1 [==============================] - 0s 10ms/step - loss: 0.1139 - mae: 0.2896\n",
            "Epoch 41/1200\n",
            "1/1 [==============================] - 0s 12ms/step - loss: 0.1131 - mae: 0.2886\n",
            "Epoch 42/1200\n",
            "1/1 [==============================] - 0s 21ms/step - loss: 0.1124 - mae: 0.2877\n",
            "Epoch 43/1200\n",
            "1/1 [==============================] - 0s 17ms/step - loss: 0.1116 - mae: 0.2867\n",
            "Epoch 44/1200\n",
            "1/1 [==============================] - 0s 21ms/step - loss: 0.1108 - mae: 0.2857\n",
            "Epoch 45/1200\n",
            "1/1 [==============================] - 0s 13ms/step - loss: 0.1101 - mae: 0.2848\n",
            "Epoch 46/1200\n",
            "1/1 [==============================] - 0s 7ms/step - loss: 0.1094 - mae: 0.2838\n",
            "Epoch 47/1200\n",
            "1/1 [==============================] - 0s 19ms/step - loss: 0.1086 - mae: 0.2829\n",
            "Epoch 48/1200\n",
            "1/1 [==============================] - 0s 24ms/step - loss: 0.1079 - mae: 0.2819\n",
            "Epoch 49/1200\n",
            "1/1 [==============================] - 0s 32ms/step - loss: 0.1072 - mae: 0.2810\n",
            "Epoch 50/1200\n",
            "1/1 [==============================] - 0s 13ms/step - loss: 0.1064 - mae: 0.2800\n",
            "Epoch 51/1200\n",
            "1/1 [==============================] - 0s 8ms/step - loss: 0.1057 - mae: 0.2791\n",
            "Epoch 52/1200\n",
            "1/1 [==============================] - 0s 7ms/step - loss: 0.1050 - mae: 0.2781\n",
            "Epoch 53/1200\n",
            "1/1 [==============================] - 0s 9ms/step - loss: 0.1043 - mae: 0.2772\n",
            "Epoch 54/1200\n",
            "1/1 [==============================] - 0s 7ms/step - loss: 0.1036 - mae: 0.2762\n",
            "Epoch 55/1200\n",
            "1/1 [==============================] - 0s 7ms/step - loss: 0.1029 - mae: 0.2753\n",
            "Epoch 56/1200\n",
            "1/1 [==============================] - 0s 7ms/step - loss: 0.1022 - mae: 0.2744\n",
            "Epoch 57/1200\n",
            "1/1 [==============================] - 0s 8ms/step - loss: 0.1015 - mae: 0.2735\n",
            "Epoch 58/1200\n",
            "1/1 [==============================] - 0s 13ms/step - loss: 0.1008 - mae: 0.2725\n",
            "Epoch 59/1200\n",
            "1/1 [==============================] - 0s 12ms/step - loss: 0.1001 - mae: 0.2716\n",
            "Epoch 60/1200\n",
            "1/1 [==============================] - 0s 15ms/step - loss: 0.0995 - mae: 0.2707\n",
            "Epoch 61/1200\n",
            "1/1 [==============================] - 0s 17ms/step - loss: 0.0988 - mae: 0.2698\n",
            "Epoch 62/1200\n",
            "1/1 [==============================] - 0s 18ms/step - loss: 0.0981 - mae: 0.2689\n",
            "Epoch 63/1200\n",
            "1/1 [==============================] - 0s 13ms/step - loss: 0.0975 - mae: 0.2680\n",
            "Epoch 64/1200\n",
            "1/1 [==============================] - 0s 11ms/step - loss: 0.0968 - mae: 0.2670\n",
            "Epoch 65/1200\n",
            "1/1 [==============================] - 0s 18ms/step - loss: 0.0961 - mae: 0.2661\n",
            "Epoch 66/1200\n",
            "1/1 [==============================] - 0s 12ms/step - loss: 0.0955 - mae: 0.2652\n",
            "Epoch 67/1200\n",
            "1/1 [==============================] - 0s 15ms/step - loss: 0.0949 - mae: 0.2643\n",
            "Epoch 68/1200\n",
            "1/1 [==============================] - 0s 15ms/step - loss: 0.0942 - mae: 0.2635\n",
            "Epoch 69/1200\n",
            "1/1 [==============================] - 0s 15ms/step - loss: 0.0936 - mae: 0.2626\n",
            "Epoch 70/1200\n",
            "1/1 [==============================] - 0s 28ms/step - loss: 0.0929 - mae: 0.2617\n",
            "Epoch 71/1200\n",
            "1/1 [==============================] - 0s 14ms/step - loss: 0.0923 - mae: 0.2608\n",
            "Epoch 72/1200\n",
            "1/1 [==============================] - 0s 11ms/step - loss: 0.0917 - mae: 0.2599\n",
            "Epoch 73/1200\n",
            "1/1 [==============================] - 0s 18ms/step - loss: 0.0911 - mae: 0.2590\n",
            "Epoch 74/1200\n",
            "1/1 [==============================] - 0s 15ms/step - loss: 0.0905 - mae: 0.2582\n",
            "Epoch 75/1200\n",
            "1/1 [==============================] - 0s 12ms/step - loss: 0.0898 - mae: 0.2573\n",
            "Epoch 76/1200\n",
            "1/1 [==============================] - 0s 11ms/step - loss: 0.0892 - mae: 0.2564\n",
            "Epoch 77/1200\n",
            "1/1 [==============================] - 0s 13ms/step - loss: 0.0886 - mae: 0.2555\n",
            "Epoch 78/1200\n",
            "1/1 [==============================] - 0s 15ms/step - loss: 0.0880 - mae: 0.2547\n",
            "Epoch 79/1200\n",
            "1/1 [==============================] - 0s 11ms/step - loss: 0.0874 - mae: 0.2538\n",
            "Epoch 80/1200\n",
            "1/1 [==============================] - 0s 16ms/step - loss: 0.0869 - mae: 0.2530\n",
            "Epoch 81/1200\n",
            "1/1 [==============================] - 0s 12ms/step - loss: 0.0863 - mae: 0.2521\n",
            "Epoch 82/1200\n",
            "1/1 [==============================] - 0s 19ms/step - loss: 0.0857 - mae: 0.2513\n",
            "Epoch 83/1200\n",
            "1/1 [==============================] - 0s 16ms/step - loss: 0.0851 - mae: 0.2504\n",
            "Epoch 84/1200\n",
            "1/1 [==============================] - 0s 19ms/step - loss: 0.0845 - mae: 0.2496\n",
            "Epoch 85/1200\n",
            "1/1 [==============================] - 0s 13ms/step - loss: 0.0840 - mae: 0.2487\n",
            "Epoch 86/1200\n",
            "1/1 [==============================] - 0s 13ms/step - loss: 0.0834 - mae: 0.2479\n",
            "Epoch 87/1200\n",
            "1/1 [==============================] - 0s 19ms/step - loss: 0.0828 - mae: 0.2470\n",
            "Epoch 88/1200\n",
            "1/1 [==============================] - 0s 10ms/step - loss: 0.0823 - mae: 0.2462\n",
            "Epoch 89/1200\n",
            "1/1 [==============================] - 0s 10ms/step - loss: 0.0817 - mae: 0.2454\n",
            "Epoch 90/1200\n",
            "1/1 [==============================] - 0s 17ms/step - loss: 0.0812 - mae: 0.2445\n",
            "Epoch 91/1200\n",
            "1/1 [==============================] - 0s 15ms/step - loss: 0.0806 - mae: 0.2437\n",
            "Epoch 92/1200\n",
            "1/1 [==============================] - 0s 22ms/step - loss: 0.0801 - mae: 0.2429\n",
            "Epoch 93/1200\n",
            "1/1 [==============================] - 0s 14ms/step - loss: 0.0795 - mae: 0.2421\n",
            "Epoch 94/1200\n",
            "1/1 [==============================] - 0s 21ms/step - loss: 0.0790 - mae: 0.2412\n",
            "Epoch 95/1200\n",
            "1/1 [==============================] - 0s 18ms/step - loss: 0.0785 - mae: 0.2404\n",
            "Epoch 96/1200\n",
            "1/1 [==============================] - 0s 12ms/step - loss: 0.0779 - mae: 0.2396\n",
            "Epoch 97/1200\n",
            "1/1 [==============================] - 0s 9ms/step - loss: 0.0774 - mae: 0.2388\n",
            "Epoch 98/1200\n",
            "1/1 [==============================] - 0s 11ms/step - loss: 0.0769 - mae: 0.2380\n",
            "Epoch 99/1200\n",
            "1/1 [==============================] - 0s 13ms/step - loss: 0.0764 - mae: 0.2372\n",
            "Epoch 100/1200\n",
            "1/1 [==============================] - 0s 26ms/step - loss: 0.0759 - mae: 0.2364\n",
            "Epoch 101/1200\n",
            "1/1 [==============================] - 0s 11ms/step - loss: 0.0753 - mae: 0.2356\n",
            "Epoch 102/1200\n",
            "1/1 [==============================] - 0s 14ms/step - loss: 0.0748 - mae: 0.2348\n",
            "Epoch 103/1200\n",
            "1/1 [==============================] - 0s 21ms/step - loss: 0.0743 - mae: 0.2340\n",
            "Epoch 104/1200\n",
            "1/1 [==============================] - 0s 19ms/step - loss: 0.0738 - mae: 0.2332\n",
            "Epoch 105/1200\n",
            "1/1 [==============================] - 0s 15ms/step - loss: 0.0733 - mae: 0.2324\n",
            "Epoch 106/1200\n",
            "1/1 [==============================] - 0s 11ms/step - loss: 0.0728 - mae: 0.2316\n",
            "Epoch 107/1200\n",
            "1/1 [==============================] - 0s 10ms/step - loss: 0.0723 - mae: 0.2309\n",
            "Epoch 108/1200\n",
            "1/1 [==============================] - 0s 65ms/step - loss: 0.0719 - mae: 0.2301\n",
            "Epoch 109/1200\n",
            "1/1 [==============================] - 0s 30ms/step - loss: 0.0714 - mae: 0.2293\n",
            "Epoch 110/1200\n",
            "1/1 [==============================] - 0s 25ms/step - loss: 0.0709 - mae: 0.2285\n",
            "Epoch 111/1200\n",
            "1/1 [==============================] - 0s 21ms/step - loss: 0.0704 - mae: 0.2277\n",
            "Epoch 112/1200\n",
            "1/1 [==============================] - 0s 39ms/step - loss: 0.0699 - mae: 0.2270\n",
            "Epoch 113/1200\n",
            "1/1 [==============================] - 0s 27ms/step - loss: 0.0695 - mae: 0.2262\n",
            "Epoch 114/1200\n",
            "1/1 [==============================] - 0s 41ms/step - loss: 0.0690 - mae: 0.2254\n",
            "Epoch 115/1200\n",
            "1/1 [==============================] - 0s 43ms/step - loss: 0.0685 - mae: 0.2247\n",
            "Epoch 116/1200\n",
            "1/1 [==============================] - 0s 15ms/step - loss: 0.0681 - mae: 0.2239\n",
            "Epoch 117/1200\n",
            "1/1 [==============================] - 0s 22ms/step - loss: 0.0676 - mae: 0.2232\n",
            "Epoch 118/1200\n",
            "1/1 [==============================] - 0s 13ms/step - loss: 0.0671 - mae: 0.2224\n",
            "Epoch 119/1200\n",
            "1/1 [==============================] - 0s 21ms/step - loss: 0.0667 - mae: 0.2217\n",
            "Epoch 120/1200\n",
            "1/1 [==============================] - 0s 42ms/step - loss: 0.0662 - mae: 0.2209\n",
            "Epoch 121/1200\n",
            "1/1 [==============================] - 0s 38ms/step - loss: 0.0658 - mae: 0.2202\n",
            "Epoch 122/1200\n",
            "1/1 [==============================] - 0s 26ms/step - loss: 0.0654 - mae: 0.2194\n",
            "Epoch 123/1200\n",
            "1/1 [==============================] - 0s 19ms/step - loss: 0.0649 - mae: 0.2187\n",
            "Epoch 124/1200\n",
            "1/1 [==============================] - 0s 26ms/step - loss: 0.0645 - mae: 0.2179\n",
            "Epoch 125/1200\n",
            "1/1 [==============================] - 0s 29ms/step - loss: 0.0640 - mae: 0.2172\n",
            "Epoch 126/1200\n",
            "1/1 [==============================] - 0s 7ms/step - loss: 0.0636 - mae: 0.2165\n",
            "Epoch 127/1200\n",
            "1/1 [==============================] - 0s 12ms/step - loss: 0.0632 - mae: 0.2157\n",
            "Epoch 128/1200\n",
            "1/1 [==============================] - 0s 12ms/step - loss: 0.0627 - mae: 0.2150\n",
            "Epoch 129/1200\n",
            "1/1 [==============================] - 0s 36ms/step - loss: 0.0623 - mae: 0.2143\n",
            "Epoch 130/1200\n",
            "1/1 [==============================] - 0s 23ms/step - loss: 0.0619 - mae: 0.2136\n",
            "Epoch 131/1200\n",
            "1/1 [==============================] - 0s 23ms/step - loss: 0.0615 - mae: 0.2128\n",
            "Epoch 132/1200\n",
            "1/1 [==============================] - 0s 28ms/step - loss: 0.0611 - mae: 0.2121\n",
            "Epoch 133/1200\n",
            "1/1 [==============================] - 0s 18ms/step - loss: 0.0607 - mae: 0.2114\n",
            "Epoch 134/1200\n",
            "1/1 [==============================] - 0s 60ms/step - loss: 0.0603 - mae: 0.2107\n",
            "Epoch 135/1200\n",
            "1/1 [==============================] - 0s 15ms/step - loss: 0.0598 - mae: 0.2100\n",
            "Epoch 136/1200\n",
            "1/1 [==============================] - 0s 29ms/step - loss: 0.0594 - mae: 0.2093\n",
            "Epoch 137/1200\n",
            "1/1 [==============================] - 0s 10ms/step - loss: 0.0590 - mae: 0.2086\n",
            "Epoch 138/1200\n",
            "1/1 [==============================] - 0s 9ms/step - loss: 0.0586 - mae: 0.2078\n",
            "Epoch 139/1200\n",
            "1/1 [==============================] - 0s 7ms/step - loss: 0.0582 - mae: 0.2071\n",
            "Epoch 140/1200\n",
            "1/1 [==============================] - 0s 7ms/step - loss: 0.0579 - mae: 0.2064\n",
            "Epoch 141/1200\n",
            "1/1 [==============================] - 0s 9ms/step - loss: 0.0575 - mae: 0.2057\n",
            "Epoch 142/1200\n",
            "1/1 [==============================] - 0s 13ms/step - loss: 0.0571 - mae: 0.2051\n",
            "Epoch 143/1200\n",
            "1/1 [==============================] - 0s 7ms/step - loss: 0.0567 - mae: 0.2044\n",
            "Epoch 144/1200\n",
            "1/1 [==============================] - 0s 11ms/step - loss: 0.0563 - mae: 0.2037\n",
            "Epoch 145/1200\n",
            "1/1 [==============================] - 0s 7ms/step - loss: 0.0559 - mae: 0.2030\n",
            "Epoch 146/1200\n",
            "1/1 [==============================] - 0s 9ms/step - loss: 0.0555 - mae: 0.2023\n",
            "Epoch 147/1200\n",
            "1/1 [==============================] - 0s 25ms/step - loss: 0.0552 - mae: 0.2016\n",
            "Epoch 148/1200\n",
            "1/1 [==============================] - 0s 8ms/step - loss: 0.0548 - mae: 0.2009\n",
            "Epoch 149/1200\n",
            "1/1 [==============================] - 0s 7ms/step - loss: 0.0544 - mae: 0.2002\n",
            "Epoch 150/1200\n",
            "1/1 [==============================] - 0s 7ms/step - loss: 0.0541 - mae: 0.1996\n",
            "Epoch 151/1200\n",
            "1/1 [==============================] - 0s 14ms/step - loss: 0.0537 - mae: 0.1989\n",
            "Epoch 152/1200\n",
            "1/1 [==============================] - 0s 10ms/step - loss: 0.0533 - mae: 0.1982\n",
            "Epoch 153/1200\n",
            "1/1 [==============================] - 0s 8ms/step - loss: 0.0530 - mae: 0.1976\n",
            "Epoch 154/1200\n",
            "1/1 [==============================] - 0s 10ms/step - loss: 0.0526 - mae: 0.1969\n",
            "Epoch 155/1200\n",
            "1/1 [==============================] - 0s 10ms/step - loss: 0.0523 - mae: 0.1962\n",
            "Epoch 156/1200\n",
            "1/1 [==============================] - 0s 7ms/step - loss: 0.0519 - mae: 0.1956\n",
            "Epoch 157/1200\n",
            "1/1 [==============================] - 0s 9ms/step - loss: 0.0516 - mae: 0.1949\n",
            "Epoch 158/1200\n",
            "1/1 [==============================] - 0s 8ms/step - loss: 0.0512 - mae: 0.1942\n",
            "Epoch 159/1200\n",
            "1/1 [==============================] - 0s 9ms/step - loss: 0.0509 - mae: 0.1936\n",
            "Epoch 160/1200\n",
            "1/1 [==============================] - 0s 11ms/step - loss: 0.0505 - mae: 0.1929\n",
            "Epoch 161/1200\n",
            "1/1 [==============================] - 0s 10ms/step - loss: 0.0502 - mae: 0.1923\n",
            "Epoch 162/1200\n",
            "1/1 [==============================] - 0s 8ms/step - loss: 0.0498 - mae: 0.1916\n",
            "Epoch 163/1200\n",
            "1/1 [==============================] - 0s 7ms/step - loss: 0.0495 - mae: 0.1910\n",
            "Epoch 164/1200\n",
            "1/1 [==============================] - 0s 7ms/step - loss: 0.0492 - mae: 0.1903\n",
            "Epoch 165/1200\n",
            "1/1 [==============================] - 0s 7ms/step - loss: 0.0488 - mae: 0.1897\n",
            "Epoch 166/1200\n",
            "1/1 [==============================] - 0s 9ms/step - loss: 0.0485 - mae: 0.1890\n",
            "Epoch 167/1200\n",
            "1/1 [==============================] - 0s 10ms/step - loss: 0.0482 - mae: 0.1884\n",
            "Epoch 168/1200\n",
            "1/1 [==============================] - 0s 14ms/step - loss: 0.0479 - mae: 0.1878\n",
            "Epoch 169/1200\n",
            "1/1 [==============================] - 0s 31ms/step - loss: 0.0475 - mae: 0.1871\n",
            "Epoch 170/1200\n",
            "1/1 [==============================] - 0s 82ms/step - loss: 0.0472 - mae: 0.1865\n",
            "Epoch 171/1200\n",
            "1/1 [==============================] - 0s 36ms/step - loss: 0.0469 - mae: 0.1859\n",
            "Epoch 172/1200\n",
            "1/1 [==============================] - 0s 34ms/step - loss: 0.0466 - mae: 0.1852\n",
            "Epoch 173/1200\n",
            "1/1 [==============================] - 0s 18ms/step - loss: 0.0463 - mae: 0.1846\n",
            "Epoch 174/1200\n",
            "1/1 [==============================] - 0s 13ms/step - loss: 0.0460 - mae: 0.1840\n",
            "Epoch 175/1200\n",
            "1/1 [==============================] - 0s 18ms/step - loss: 0.0456 - mae: 0.1834\n",
            "Epoch 176/1200\n",
            "1/1 [==============================] - 0s 51ms/step - loss: 0.0453 - mae: 0.1827\n",
            "Epoch 177/1200\n",
            "1/1 [==============================] - 0s 40ms/step - loss: 0.0450 - mae: 0.1821\n",
            "Epoch 178/1200\n",
            "1/1 [==============================] - 0s 24ms/step - loss: 0.0447 - mae: 0.1815\n",
            "Epoch 179/1200\n",
            "1/1 [==============================] - 0s 41ms/step - loss: 0.0444 - mae: 0.1809\n",
            "Epoch 180/1200\n",
            "1/1 [==============================] - 0s 32ms/step - loss: 0.0441 - mae: 0.1803\n",
            "Epoch 181/1200\n",
            "1/1 [==============================] - 0s 93ms/step - loss: 0.0438 - mae: 0.1797\n",
            "Epoch 182/1200\n",
            "1/1 [==============================] - 0s 19ms/step - loss: 0.0435 - mae: 0.1791\n",
            "Epoch 183/1200\n",
            "1/1 [==============================] - 0s 72ms/step - loss: 0.0432 - mae: 0.1785\n",
            "Epoch 184/1200\n",
            "1/1 [==============================] - 0s 19ms/step - loss: 0.0429 - mae: 0.1779\n",
            "Epoch 185/1200\n",
            "1/1 [==============================] - 0s 41ms/step - loss: 0.0427 - mae: 0.1773\n",
            "Epoch 186/1200\n",
            "1/1 [==============================] - 0s 22ms/step - loss: 0.0424 - mae: 0.1767\n",
            "Epoch 187/1200\n",
            "1/1 [==============================] - 0s 53ms/step - loss: 0.0421 - mae: 0.1761\n",
            "Epoch 188/1200\n",
            "1/1 [==============================] - 0s 52ms/step - loss: 0.0418 - mae: 0.1755\n",
            "Epoch 189/1200\n",
            "1/1 [==============================] - 0s 37ms/step - loss: 0.0415 - mae: 0.1749\n",
            "Epoch 190/1200\n",
            "1/1 [==============================] - 0s 33ms/step - loss: 0.0412 - mae: 0.1743\n",
            "Epoch 191/1200\n",
            "1/1 [==============================] - 0s 24ms/step - loss: 0.0410 - mae: 0.1737\n",
            "Epoch 192/1200\n",
            "1/1 [==============================] - 0s 15ms/step - loss: 0.0407 - mae: 0.1731\n",
            "Epoch 193/1200\n",
            "1/1 [==============================] - 0s 25ms/step - loss: 0.0404 - mae: 0.1725\n",
            "Epoch 194/1200\n",
            "1/1 [==============================] - 0s 43ms/step - loss: 0.0401 - mae: 0.1719\n",
            "Epoch 195/1200\n",
            "1/1 [==============================] - 0s 44ms/step - loss: 0.0399 - mae: 0.1714\n",
            "Epoch 196/1200\n",
            "1/1 [==============================] - 0s 34ms/step - loss: 0.0396 - mae: 0.1708\n",
            "Epoch 197/1200\n",
            "1/1 [==============================] - 0s 26ms/step - loss: 0.0393 - mae: 0.1702\n",
            "Epoch 198/1200\n",
            "1/1 [==============================] - 0s 30ms/step - loss: 0.0391 - mae: 0.1696\n",
            "Epoch 199/1200\n",
            "1/1 [==============================] - 0s 19ms/step - loss: 0.0388 - mae: 0.1691\n",
            "Epoch 200/1200\n",
            "1/1 [==============================] - 0s 26ms/step - loss: 0.0385 - mae: 0.1685\n",
            "Epoch 201/1200\n",
            "1/1 [==============================] - 0s 14ms/step - loss: 0.0383 - mae: 0.1679\n",
            "Epoch 202/1200\n",
            "1/1 [==============================] - 0s 47ms/step - loss: 0.0380 - mae: 0.1673\n",
            "Epoch 203/1200\n",
            "1/1 [==============================] - 0s 16ms/step - loss: 0.0378 - mae: 0.1668\n",
            "Epoch 204/1200\n",
            "1/1 [==============================] - 0s 38ms/step - loss: 0.0375 - mae: 0.1662\n",
            "Epoch 205/1200\n",
            "1/1 [==============================] - 0s 6ms/step - loss: 0.0372 - mae: 0.1657\n",
            "Epoch 206/1200\n",
            "1/1 [==============================] - 0s 7ms/step - loss: 0.0370 - mae: 0.1651\n",
            "Epoch 207/1200\n",
            "1/1 [==============================] - 0s 7ms/step - loss: 0.0367 - mae: 0.1645\n",
            "Epoch 208/1200\n",
            "1/1 [==============================] - 0s 7ms/step - loss: 0.0365 - mae: 0.1640\n",
            "Epoch 209/1200\n",
            "1/1 [==============================] - 0s 9ms/step - loss: 0.0363 - mae: 0.1634\n",
            "Epoch 210/1200\n",
            "1/1 [==============================] - 0s 9ms/step - loss: 0.0360 - mae: 0.1629\n",
            "Epoch 211/1200\n",
            "1/1 [==============================] - 0s 13ms/step - loss: 0.0358 - mae: 0.1623\n",
            "Epoch 212/1200\n",
            "1/1 [==============================] - 0s 7ms/step - loss: 0.0355 - mae: 0.1618\n",
            "Epoch 213/1200\n",
            "1/1 [==============================] - 0s 12ms/step - loss: 0.0353 - mae: 0.1612\n",
            "Epoch 214/1200\n",
            "1/1 [==============================] - 0s 8ms/step - loss: 0.0350 - mae: 0.1607\n",
            "Epoch 215/1200\n",
            "1/1 [==============================] - 0s 8ms/step - loss: 0.0348 - mae: 0.1601\n",
            "Epoch 216/1200\n",
            "1/1 [==============================] - 0s 20ms/step - loss: 0.0346 - mae: 0.1596\n",
            "Epoch 217/1200\n",
            "1/1 [==============================] - 0s 13ms/step - loss: 0.0343 - mae: 0.1591\n",
            "Epoch 218/1200\n",
            "1/1 [==============================] - 0s 11ms/step - loss: 0.0341 - mae: 0.1585\n",
            "Epoch 219/1200\n",
            "1/1 [==============================] - 0s 10ms/step - loss: 0.0339 - mae: 0.1580\n",
            "Epoch 220/1200\n",
            "1/1 [==============================] - 0s 18ms/step - loss: 0.0336 - mae: 0.1574\n",
            "Epoch 221/1200\n",
            "1/1 [==============================] - 0s 59ms/step - loss: 0.0334 - mae: 0.1569\n",
            "Epoch 222/1200\n",
            "1/1 [==============================] - 0s 48ms/step - loss: 0.0332 - mae: 0.1564\n",
            "Epoch 223/1200\n",
            "1/1 [==============================] - 0s 37ms/step - loss: 0.0330 - mae: 0.1559\n",
            "Epoch 224/1200\n",
            "1/1 [==============================] - 0s 28ms/step - loss: 0.0327 - mae: 0.1553\n",
            "Epoch 225/1200\n",
            "1/1 [==============================] - 0s 30ms/step - loss: 0.0325 - mae: 0.1548\n",
            "Epoch 226/1200\n",
            "1/1 [==============================] - 0s 29ms/step - loss: 0.0323 - mae: 0.1543\n",
            "Epoch 227/1200\n",
            "1/1 [==============================] - 0s 17ms/step - loss: 0.0321 - mae: 0.1538\n",
            "Epoch 228/1200\n",
            "1/1 [==============================] - 0s 16ms/step - loss: 0.0319 - mae: 0.1532\n",
            "Epoch 229/1200\n",
            "1/1 [==============================] - 0s 95ms/step - loss: 0.0317 - mae: 0.1527\n",
            "Epoch 230/1200\n",
            "1/1 [==============================] - 0s 40ms/step - loss: 0.0314 - mae: 0.1522\n",
            "Epoch 231/1200\n",
            "1/1 [==============================] - 0s 19ms/step - loss: 0.0312 - mae: 0.1517\n",
            "Epoch 232/1200\n",
            "1/1 [==============================] - 0s 28ms/step - loss: 0.0310 - mae: 0.1512\n",
            "Epoch 233/1200\n",
            "1/1 [==============================] - 0s 23ms/step - loss: 0.0308 - mae: 0.1507\n",
            "Epoch 234/1200\n",
            "1/1 [==============================] - 0s 35ms/step - loss: 0.0306 - mae: 0.1502\n",
            "Epoch 235/1200\n",
            "1/1 [==============================] - 0s 26ms/step - loss: 0.0304 - mae: 0.1496\n",
            "Epoch 236/1200\n",
            "1/1 [==============================] - 0s 47ms/step - loss: 0.0302 - mae: 0.1491\n",
            "Epoch 237/1200\n",
            "1/1 [==============================] - 0s 35ms/step - loss: 0.0300 - mae: 0.1486\n",
            "Epoch 238/1200\n",
            "1/1 [==============================] - 0s 26ms/step - loss: 0.0298 - mae: 0.1481\n",
            "Epoch 239/1200\n",
            "1/1 [==============================] - 0s 14ms/step - loss: 0.0296 - mae: 0.1476\n",
            "Epoch 240/1200\n",
            "1/1 [==============================] - 0s 21ms/step - loss: 0.0294 - mae: 0.1471\n",
            "Epoch 241/1200\n",
            "1/1 [==============================] - 0s 21ms/step - loss: 0.0292 - mae: 0.1466\n",
            "Epoch 242/1200\n",
            "1/1 [==============================] - 0s 23ms/step - loss: 0.0290 - mae: 0.1461\n",
            "Epoch 243/1200\n",
            "1/1 [==============================] - 0s 21ms/step - loss: 0.0288 - mae: 0.1456\n",
            "Epoch 244/1200\n",
            "1/1 [==============================] - 0s 19ms/step - loss: 0.0286 - mae: 0.1452\n",
            "Epoch 245/1200\n",
            "1/1 [==============================] - 0s 16ms/step - loss: 0.0284 - mae: 0.1447\n",
            "Epoch 246/1200\n",
            "1/1 [==============================] - 0s 36ms/step - loss: 0.0282 - mae: 0.1442\n",
            "Epoch 247/1200\n",
            "1/1 [==============================] - 0s 14ms/step - loss: 0.0280 - mae: 0.1437\n",
            "Epoch 248/1200\n",
            "1/1 [==============================] - 0s 8ms/step - loss: 0.0278 - mae: 0.1432\n",
            "Epoch 249/1200\n",
            "1/1 [==============================] - 0s 26ms/step - loss: 0.0276 - mae: 0.1427\n",
            "Epoch 250/1200\n",
            "1/1 [==============================] - 0s 17ms/step - loss: 0.0275 - mae: 0.1422\n",
            "Epoch 251/1200\n",
            "1/1 [==============================] - 0s 11ms/step - loss: 0.0273 - mae: 0.1418\n",
            "Epoch 252/1200\n",
            "1/1 [==============================] - 0s 20ms/step - loss: 0.0271 - mae: 0.1413\n",
            "Epoch 253/1200\n",
            "1/1 [==============================] - 0s 11ms/step - loss: 0.0269 - mae: 0.1408\n",
            "Epoch 254/1200\n",
            "1/1 [==============================] - 0s 10ms/step - loss: 0.0267 - mae: 0.1403\n",
            "Epoch 255/1200\n",
            "1/1 [==============================] - 0s 11ms/step - loss: 0.0265 - mae: 0.1398\n",
            "Epoch 256/1200\n",
            "1/1 [==============================] - 0s 10ms/step - loss: 0.0264 - mae: 0.1394\n",
            "Epoch 257/1200\n",
            "1/1 [==============================] - 0s 15ms/step - loss: 0.0262 - mae: 0.1389\n",
            "Epoch 258/1200\n",
            "1/1 [==============================] - 0s 9ms/step - loss: 0.0260 - mae: 0.1384\n",
            "Epoch 259/1200\n",
            "1/1 [==============================] - 0s 13ms/step - loss: 0.0258 - mae: 0.1380\n",
            "Epoch 260/1200\n",
            "1/1 [==============================] - 0s 26ms/step - loss: 0.0257 - mae: 0.1375\n",
            "Epoch 261/1200\n",
            "1/1 [==============================] - 0s 17ms/step - loss: 0.0255 - mae: 0.1370\n",
            "Epoch 262/1200\n",
            "1/1 [==============================] - 0s 47ms/step - loss: 0.0253 - mae: 0.1366\n",
            "Epoch 263/1200\n",
            "1/1 [==============================] - 0s 21ms/step - loss: 0.0251 - mae: 0.1361\n",
            "Epoch 264/1200\n",
            "1/1 [==============================] - 0s 18ms/step - loss: 0.0250 - mae: 0.1357\n",
            "Epoch 265/1200\n",
            "1/1 [==============================] - 0s 37ms/step - loss: 0.0248 - mae: 0.1352\n",
            "Epoch 266/1200\n",
            "1/1 [==============================] - 0s 14ms/step - loss: 0.0246 - mae: 0.1347\n",
            "Epoch 267/1200\n",
            "1/1 [==============================] - 0s 15ms/step - loss: 0.0245 - mae: 0.1343\n",
            "Epoch 268/1200\n",
            "1/1 [==============================] - 0s 14ms/step - loss: 0.0243 - mae: 0.1338\n",
            "Epoch 269/1200\n",
            "1/1 [==============================] - 0s 20ms/step - loss: 0.0241 - mae: 0.1334\n",
            "Epoch 270/1200\n",
            "1/1 [==============================] - 0s 17ms/step - loss: 0.0240 - mae: 0.1329\n",
            "Epoch 271/1200\n",
            "1/1 [==============================] - 0s 18ms/step - loss: 0.0238 - mae: 0.1325\n",
            "Epoch 272/1200\n",
            "1/1 [==============================] - 0s 10ms/step - loss: 0.0237 - mae: 0.1320\n",
            "Epoch 273/1200\n",
            "1/1 [==============================] - 0s 10ms/step - loss: 0.0235 - mae: 0.1316\n",
            "Epoch 274/1200\n",
            "1/1 [==============================] - 0s 14ms/step - loss: 0.0233 - mae: 0.1311\n",
            "Epoch 275/1200\n",
            "1/1 [==============================] - 0s 8ms/step - loss: 0.0232 - mae: 0.1307\n",
            "Epoch 276/1200\n",
            "1/1 [==============================] - 0s 27ms/step - loss: 0.0230 - mae: 0.1302\n",
            "Epoch 277/1200\n",
            "1/1 [==============================] - 0s 15ms/step - loss: 0.0229 - mae: 0.1298\n",
            "Epoch 278/1200\n",
            "1/1 [==============================] - 0s 20ms/step - loss: 0.0227 - mae: 0.1294\n",
            "Epoch 279/1200\n",
            "1/1 [==============================] - 0s 32ms/step - loss: 0.0226 - mae: 0.1289\n",
            "Epoch 280/1200\n",
            "1/1 [==============================] - 0s 10ms/step - loss: 0.0224 - mae: 0.1285\n",
            "Epoch 281/1200\n",
            "1/1 [==============================] - 0s 35ms/step - loss: 0.0223 - mae: 0.1281\n",
            "Epoch 282/1200\n",
            "1/1 [==============================] - 0s 14ms/step - loss: 0.0221 - mae: 0.1276\n",
            "Epoch 283/1200\n",
            "1/1 [==============================] - 0s 15ms/step - loss: 0.0220 - mae: 0.1272\n",
            "Epoch 284/1200\n",
            "1/1 [==============================] - 0s 12ms/step - loss: 0.0218 - mae: 0.1268\n",
            "Epoch 285/1200\n",
            "1/1 [==============================] - 0s 29ms/step - loss: 0.0217 - mae: 0.1263\n",
            "Epoch 286/1200\n",
            "1/1 [==============================] - 0s 9ms/step - loss: 0.0215 - mae: 0.1259\n",
            "Epoch 287/1200\n",
            "1/1 [==============================] - 0s 10ms/step - loss: 0.0214 - mae: 0.1255\n",
            "Epoch 288/1200\n",
            "1/1 [==============================] - 0s 22ms/step - loss: 0.0212 - mae: 0.1251\n",
            "Epoch 289/1200\n",
            "1/1 [==============================] - 0s 23ms/step - loss: 0.0211 - mae: 0.1246\n",
            "Epoch 290/1200\n",
            "1/1 [==============================] - 0s 19ms/step - loss: 0.0209 - mae: 0.1242\n",
            "Epoch 291/1200\n",
            "1/1 [==============================] - 0s 26ms/step - loss: 0.0208 - mae: 0.1238\n",
            "Epoch 292/1200\n",
            "1/1 [==============================] - 0s 25ms/step - loss: 0.0207 - mae: 0.1234\n",
            "Epoch 293/1200\n",
            "1/1 [==============================] - 0s 22ms/step - loss: 0.0205 - mae: 0.1230\n",
            "Epoch 294/1200\n",
            "1/1 [==============================] - 0s 36ms/step - loss: 0.0204 - mae: 0.1225\n",
            "Epoch 295/1200\n",
            "1/1 [==============================] - 0s 23ms/step - loss: 0.0202 - mae: 0.1221\n",
            "Epoch 296/1200\n",
            "1/1 [==============================] - 0s 6ms/step - loss: 0.0201 - mae: 0.1217\n",
            "Epoch 297/1200\n",
            "1/1 [==============================] - 0s 10ms/step - loss: 0.0200 - mae: 0.1213\n",
            "Epoch 298/1200\n",
            "1/1 [==============================] - 0s 6ms/step - loss: 0.0198 - mae: 0.1209\n",
            "Epoch 299/1200\n",
            "1/1 [==============================] - 0s 14ms/step - loss: 0.0197 - mae: 0.1205\n",
            "Epoch 300/1200\n",
            "1/1 [==============================] - 0s 31ms/step - loss: 0.0196 - mae: 0.1201\n",
            "Epoch 301/1200\n",
            "1/1 [==============================] - 0s 19ms/step - loss: 0.0194 - mae: 0.1197\n",
            "Epoch 302/1200\n",
            "1/1 [==============================] - 0s 14ms/step - loss: 0.0193 - mae: 0.1193\n",
            "Epoch 303/1200\n",
            "1/1 [==============================] - 0s 19ms/step - loss: 0.0192 - mae: 0.1189\n",
            "Epoch 304/1200\n",
            "1/1 [==============================] - 0s 15ms/step - loss: 0.0190 - mae: 0.1185\n",
            "Epoch 305/1200\n",
            "1/1 [==============================] - 0s 17ms/step - loss: 0.0189 - mae: 0.1181\n",
            "Epoch 306/1200\n",
            "1/1 [==============================] - 0s 11ms/step - loss: 0.0188 - mae: 0.1177\n",
            "Epoch 307/1200\n",
            "1/1 [==============================] - 0s 9ms/step - loss: 0.0187 - mae: 0.1173\n",
            "Epoch 308/1200\n",
            "1/1 [==============================] - 0s 24ms/step - loss: 0.0185 - mae: 0.1169\n",
            "Epoch 309/1200\n",
            "1/1 [==============================] - 0s 9ms/step - loss: 0.0184 - mae: 0.1165\n",
            "Epoch 310/1200\n",
            "1/1 [==============================] - 0s 7ms/step - loss: 0.0183 - mae: 0.1161\n",
            "Epoch 311/1200\n",
            "1/1 [==============================] - 0s 18ms/step - loss: 0.0182 - mae: 0.1157\n",
            "Epoch 312/1200\n",
            "1/1 [==============================] - 0s 18ms/step - loss: 0.0180 - mae: 0.1153\n",
            "Epoch 313/1200\n",
            "1/1 [==============================] - 0s 12ms/step - loss: 0.0179 - mae: 0.1149\n",
            "Epoch 314/1200\n",
            "1/1 [==============================] - 0s 19ms/step - loss: 0.0178 - mae: 0.1145\n",
            "Epoch 315/1200\n",
            "1/1 [==============================] - 0s 60ms/step - loss: 0.0177 - mae: 0.1141\n",
            "Epoch 316/1200\n",
            "1/1 [==============================] - 0s 79ms/step - loss: 0.0176 - mae: 0.1137\n",
            "Epoch 317/1200\n",
            "1/1 [==============================] - 0s 18ms/step - loss: 0.0174 - mae: 0.1134\n",
            "Epoch 318/1200\n",
            "1/1 [==============================] - 0s 27ms/step - loss: 0.0173 - mae: 0.1130\n",
            "Epoch 319/1200\n",
            "1/1 [==============================] - 0s 21ms/step - loss: 0.0172 - mae: 0.1126\n",
            "Epoch 320/1200\n",
            "1/1 [==============================] - 0s 12ms/step - loss: 0.0171 - mae: 0.1122\n",
            "Epoch 321/1200\n",
            "1/1 [==============================] - 0s 7ms/step - loss: 0.0170 - mae: 0.1118\n",
            "Epoch 322/1200\n",
            "1/1 [==============================] - 0s 10ms/step - loss: 0.0169 - mae: 0.1115\n",
            "Epoch 323/1200\n",
            "1/1 [==============================] - 0s 10ms/step - loss: 0.0167 - mae: 0.1111\n",
            "Epoch 324/1200\n",
            "1/1 [==============================] - 0s 11ms/step - loss: 0.0166 - mae: 0.1107\n",
            "Epoch 325/1200\n",
            "1/1 [==============================] - 0s 12ms/step - loss: 0.0165 - mae: 0.1103\n",
            "Epoch 326/1200\n",
            "1/1 [==============================] - 0s 7ms/step - loss: 0.0164 - mae: 0.1100\n",
            "Epoch 327/1200\n",
            "1/1 [==============================] - 0s 10ms/step - loss: 0.0163 - mae: 0.1096\n",
            "Epoch 328/1200\n",
            "1/1 [==============================] - 0s 16ms/step - loss: 0.0162 - mae: 0.1092\n",
            "Epoch 329/1200\n",
            "1/1 [==============================] - 0s 14ms/step - loss: 0.0161 - mae: 0.1088\n",
            "Epoch 330/1200\n",
            "1/1 [==============================] - 0s 16ms/step - loss: 0.0160 - mae: 0.1085\n",
            "Epoch 331/1200\n",
            "1/1 [==============================] - 0s 11ms/step - loss: 0.0159 - mae: 0.1081\n",
            "Epoch 332/1200\n",
            "1/1 [==============================] - 0s 11ms/step - loss: 0.0158 - mae: 0.1077\n",
            "Epoch 333/1200\n",
            "1/1 [==============================] - 0s 18ms/step - loss: 0.0157 - mae: 0.1074\n",
            "Epoch 334/1200\n",
            "1/1 [==============================] - 0s 22ms/step - loss: 0.0155 - mae: 0.1070\n",
            "Epoch 335/1200\n",
            "1/1 [==============================] - 0s 15ms/step - loss: 0.0154 - mae: 0.1067\n",
            "Epoch 336/1200\n",
            "1/1 [==============================] - 0s 17ms/step - loss: 0.0153 - mae: 0.1063\n",
            "Epoch 337/1200\n",
            "1/1 [==============================] - 0s 23ms/step - loss: 0.0152 - mae: 0.1059\n",
            "Epoch 338/1200\n",
            "1/1 [==============================] - 0s 18ms/step - loss: 0.0151 - mae: 0.1056\n",
            "Epoch 339/1200\n",
            "1/1 [==============================] - 0s 19ms/step - loss: 0.0150 - mae: 0.1052\n",
            "Epoch 340/1200\n",
            "1/1 [==============================] - 0s 28ms/step - loss: 0.0149 - mae: 0.1049\n",
            "Epoch 341/1200\n",
            "1/1 [==============================] - 0s 24ms/step - loss: 0.0148 - mae: 0.1045\n",
            "Epoch 342/1200\n",
            "1/1 [==============================] - 0s 21ms/step - loss: 0.0147 - mae: 0.1042\n",
            "Epoch 343/1200\n",
            "1/1 [==============================] - 0s 14ms/step - loss: 0.0146 - mae: 0.1038\n",
            "Epoch 344/1200\n",
            "1/1 [==============================] - 0s 29ms/step - loss: 0.0145 - mae: 0.1035\n",
            "Epoch 345/1200\n",
            "1/1 [==============================] - 0s 17ms/step - loss: 0.0144 - mae: 0.1031\n",
            "Epoch 346/1200\n",
            "1/1 [==============================] - 0s 36ms/step - loss: 0.0143 - mae: 0.1028\n",
            "Epoch 347/1200\n",
            "1/1 [==============================] - 0s 25ms/step - loss: 0.0142 - mae: 0.1024\n",
            "Epoch 348/1200\n",
            "1/1 [==============================] - 0s 16ms/step - loss: 0.0141 - mae: 0.1021\n",
            "Epoch 349/1200\n",
            "1/1 [==============================] - 0s 10ms/step - loss: 0.0140 - mae: 0.1017\n",
            "Epoch 350/1200\n",
            "1/1 [==============================] - 0s 17ms/step - loss: 0.0139 - mae: 0.1014\n",
            "Epoch 351/1200\n",
            "1/1 [==============================] - 0s 16ms/step - loss: 0.0139 - mae: 0.1010\n",
            "Epoch 352/1200\n",
            "1/1 [==============================] - 0s 14ms/step - loss: 0.0138 - mae: 0.1007\n",
            "Epoch 353/1200\n",
            "1/1 [==============================] - 0s 13ms/step - loss: 0.0137 - mae: 0.1004\n",
            "Epoch 354/1200\n",
            "1/1 [==============================] - 0s 9ms/step - loss: 0.0136 - mae: 0.1000\n",
            "Epoch 355/1200\n",
            "1/1 [==============================] - 0s 10ms/step - loss: 0.0135 - mae: 0.0997\n",
            "Epoch 356/1200\n",
            "1/1 [==============================] - 0s 10ms/step - loss: 0.0134 - mae: 0.0993\n",
            "Epoch 357/1200\n",
            "1/1 [==============================] - 0s 16ms/step - loss: 0.0133 - mae: 0.0990\n",
            "Epoch 358/1200\n",
            "1/1 [==============================] - 0s 10ms/step - loss: 0.0132 - mae: 0.0987\n",
            "Epoch 359/1200\n",
            "1/1 [==============================] - 0s 30ms/step - loss: 0.0131 - mae: 0.0983\n",
            "Epoch 360/1200\n",
            "1/1 [==============================] - 0s 54ms/step - loss: 0.0130 - mae: 0.0980\n",
            "Epoch 361/1200\n",
            "1/1 [==============================] - 0s 30ms/step - loss: 0.0129 - mae: 0.0977\n",
            "Epoch 362/1200\n",
            "1/1 [==============================] - 0s 19ms/step - loss: 0.0129 - mae: 0.0973\n",
            "Epoch 363/1200\n",
            "1/1 [==============================] - 0s 12ms/step - loss: 0.0128 - mae: 0.0970\n",
            "Epoch 364/1200\n",
            "1/1 [==============================] - 0s 8ms/step - loss: 0.0127 - mae: 0.0967\n",
            "Epoch 365/1200\n",
            "1/1 [==============================] - 0s 8ms/step - loss: 0.0126 - mae: 0.0964\n",
            "Epoch 366/1200\n",
            "1/1 [==============================] - 0s 17ms/step - loss: 0.0125 - mae: 0.0960\n",
            "Epoch 367/1200\n",
            "1/1 [==============================] - 0s 38ms/step - loss: 0.0124 - mae: 0.0957\n",
            "Epoch 368/1200\n",
            "1/1 [==============================] - 0s 10ms/step - loss: 0.0123 - mae: 0.0954\n",
            "Epoch 369/1200\n",
            "1/1 [==============================] - 0s 13ms/step - loss: 0.0123 - mae: 0.0951\n",
            "Epoch 370/1200\n",
            "1/1 [==============================] - 0s 24ms/step - loss: 0.0122 - mae: 0.0947\n",
            "Epoch 371/1200\n",
            "1/1 [==============================] - 0s 13ms/step - loss: 0.0121 - mae: 0.0944\n",
            "Epoch 372/1200\n",
            "1/1 [==============================] - 0s 31ms/step - loss: 0.0120 - mae: 0.0941\n",
            "Epoch 373/1200\n",
            "1/1 [==============================] - 0s 71ms/step - loss: 0.0119 - mae: 0.0938\n",
            "Epoch 374/1200\n",
            "1/1 [==============================] - 0s 19ms/step - loss: 0.0119 - mae: 0.0935\n",
            "Epoch 375/1200\n",
            "1/1 [==============================] - 0s 13ms/step - loss: 0.0118 - mae: 0.0931\n",
            "Epoch 376/1200\n",
            "1/1 [==============================] - 0s 19ms/step - loss: 0.0117 - mae: 0.0928\n",
            "Epoch 377/1200\n",
            "1/1 [==============================] - 0s 23ms/step - loss: 0.0116 - mae: 0.0925\n",
            "Epoch 378/1200\n",
            "1/1 [==============================] - 0s 13ms/step - loss: 0.0115 - mae: 0.0922\n",
            "Epoch 379/1200\n",
            "1/1 [==============================] - 0s 19ms/step - loss: 0.0115 - mae: 0.0919\n",
            "Epoch 380/1200\n",
            "1/1 [==============================] - 0s 21ms/step - loss: 0.0114 - mae: 0.0916\n",
            "Epoch 381/1200\n",
            "1/1 [==============================] - 0s 12ms/step - loss: 0.0113 - mae: 0.0913\n",
            "Epoch 382/1200\n",
            "1/1 [==============================] - 0s 14ms/step - loss: 0.0112 - mae: 0.0910\n",
            "Epoch 383/1200\n",
            "1/1 [==============================] - 0s 28ms/step - loss: 0.0112 - mae: 0.0907\n",
            "Epoch 384/1200\n",
            "1/1 [==============================] - 0s 21ms/step - loss: 0.0111 - mae: 0.0903\n",
            "Epoch 385/1200\n",
            "1/1 [==============================] - 0s 25ms/step - loss: 0.0110 - mae: 0.0900\n",
            "Epoch 386/1200\n",
            "1/1 [==============================] - 0s 24ms/step - loss: 0.0109 - mae: 0.0897\n",
            "Epoch 387/1200\n",
            "1/1 [==============================] - 0s 26ms/step - loss: 0.0109 - mae: 0.0894\n",
            "Epoch 388/1200\n",
            "1/1 [==============================] - 0s 26ms/step - loss: 0.0108 - mae: 0.0891\n",
            "Epoch 389/1200\n",
            "1/1 [==============================] - 0s 19ms/step - loss: 0.0107 - mae: 0.0888\n",
            "Epoch 390/1200\n",
            "1/1 [==============================] - 0s 23ms/step - loss: 0.0106 - mae: 0.0885\n",
            "Epoch 391/1200\n",
            "1/1 [==============================] - 0s 24ms/step - loss: 0.0106 - mae: 0.0882\n",
            "Epoch 392/1200\n",
            "1/1 [==============================] - 0s 19ms/step - loss: 0.0105 - mae: 0.0879\n",
            "Epoch 393/1200\n",
            "1/1 [==============================] - 0s 60ms/step - loss: 0.0104 - mae: 0.0876\n",
            "Epoch 394/1200\n",
            "1/1 [==============================] - 0s 62ms/step - loss: 0.0104 - mae: 0.0873\n",
            "Epoch 395/1200\n",
            "1/1 [==============================] - 0s 36ms/step - loss: 0.0103 - mae: 0.0870\n",
            "Epoch 396/1200\n",
            "1/1 [==============================] - 0s 10ms/step - loss: 0.0102 - mae: 0.0868\n",
            "Epoch 397/1200\n",
            "1/1 [==============================] - 0s 9ms/step - loss: 0.0101 - mae: 0.0865\n",
            "Epoch 398/1200\n",
            "1/1 [==============================] - 0s 78ms/step - loss: 0.0101 - mae: 0.0862\n",
            "Epoch 399/1200\n",
            "1/1 [==============================] - 0s 26ms/step - loss: 0.0100 - mae: 0.0859\n",
            "Epoch 400/1200\n",
            "1/1 [==============================] - 0s 22ms/step - loss: 0.0099 - mae: 0.0856\n",
            "Epoch 401/1200\n",
            "1/1 [==============================] - 0s 24ms/step - loss: 0.0099 - mae: 0.0853\n",
            "Epoch 402/1200\n",
            "1/1 [==============================] - 0s 27ms/step - loss: 0.0098 - mae: 0.0850\n",
            "Epoch 403/1200\n",
            "1/1 [==============================] - 0s 23ms/step - loss: 0.0097 - mae: 0.0847\n",
            "Epoch 404/1200\n",
            "1/1 [==============================] - 0s 46ms/step - loss: 0.0097 - mae: 0.0844\n",
            "Epoch 405/1200\n",
            "1/1 [==============================] - 0s 14ms/step - loss: 0.0096 - mae: 0.0841\n",
            "Epoch 406/1200\n",
            "1/1 [==============================] - 0s 36ms/step - loss: 0.0095 - mae: 0.0839\n",
            "Epoch 407/1200\n",
            "1/1 [==============================] - 0s 25ms/step - loss: 0.0095 - mae: 0.0836\n",
            "Epoch 408/1200\n",
            "1/1 [==============================] - 0s 22ms/step - loss: 0.0094 - mae: 0.0833\n",
            "Epoch 409/1200\n",
            "1/1 [==============================] - 0s 29ms/step - loss: 0.0094 - mae: 0.0830\n",
            "Epoch 410/1200\n",
            "1/1 [==============================] - 0s 66ms/step - loss: 0.0093 - mae: 0.0827\n",
            "Epoch 411/1200\n",
            "1/1 [==============================] - 0s 32ms/step - loss: 0.0092 - mae: 0.0825\n",
            "Epoch 412/1200\n",
            "1/1 [==============================] - 0s 21ms/step - loss: 0.0092 - mae: 0.0822\n",
            "Epoch 413/1200\n",
            "1/1 [==============================] - 0s 15ms/step - loss: 0.0091 - mae: 0.0819\n",
            "Epoch 414/1200\n",
            "1/1 [==============================] - 0s 21ms/step - loss: 0.0090 - mae: 0.0816\n",
            "Epoch 415/1200\n",
            "1/1 [==============================] - 0s 23ms/step - loss: 0.0090 - mae: 0.0813\n",
            "Epoch 416/1200\n",
            "1/1 [==============================] - 0s 26ms/step - loss: 0.0089 - mae: 0.0811\n",
            "Epoch 417/1200\n",
            "1/1 [==============================] - 0s 22ms/step - loss: 0.0089 - mae: 0.0808\n",
            "Epoch 418/1200\n",
            "1/1 [==============================] - 0s 8ms/step - loss: 0.0088 - mae: 0.0805\n",
            "Epoch 419/1200\n",
            "1/1 [==============================] - 0s 22ms/step - loss: 0.0087 - mae: 0.0803\n",
            "Epoch 420/1200\n",
            "1/1 [==============================] - 0s 24ms/step - loss: 0.0087 - mae: 0.0800\n",
            "Epoch 421/1200\n",
            "1/1 [==============================] - 0s 11ms/step - loss: 0.0086 - mae: 0.0797\n",
            "Epoch 422/1200\n",
            "1/1 [==============================] - 0s 13ms/step - loss: 0.0086 - mae: 0.0794\n",
            "Epoch 423/1200\n",
            "1/1 [==============================] - 0s 31ms/step - loss: 0.0085 - mae: 0.0792\n",
            "Epoch 424/1200\n",
            "1/1 [==============================] - 0s 11ms/step - loss: 0.0085 - mae: 0.0789\n",
            "Epoch 425/1200\n",
            "1/1 [==============================] - 0s 35ms/step - loss: 0.0084 - mae: 0.0786\n",
            "Epoch 426/1200\n",
            "1/1 [==============================] - 0s 29ms/step - loss: 0.0083 - mae: 0.0784\n",
            "Epoch 427/1200\n",
            "1/1 [==============================] - 0s 22ms/step - loss: 0.0083 - mae: 0.0781\n",
            "Epoch 428/1200\n",
            "1/1 [==============================] - 0s 52ms/step - loss: 0.0082 - mae: 0.0778\n",
            "Epoch 429/1200\n",
            "1/1 [==============================] - 0s 11ms/step - loss: 0.0082 - mae: 0.0776\n",
            "Epoch 430/1200\n",
            "1/1 [==============================] - 0s 12ms/step - loss: 0.0081 - mae: 0.0773\n",
            "Epoch 431/1200\n",
            "1/1 [==============================] - 0s 35ms/step - loss: 0.0081 - mae: 0.0771\n",
            "Epoch 432/1200\n",
            "1/1 [==============================] - 0s 27ms/step - loss: 0.0080 - mae: 0.0768\n",
            "Epoch 433/1200\n",
            "1/1 [==============================] - 0s 46ms/step - loss: 0.0080 - mae: 0.0765\n",
            "Epoch 434/1200\n",
            "1/1 [==============================] - 0s 42ms/step - loss: 0.0079 - mae: 0.0763\n",
            "Epoch 435/1200\n",
            "1/1 [==============================] - 0s 43ms/step - loss: 0.0078 - mae: 0.0760\n",
            "Epoch 436/1200\n",
            "1/1 [==============================] - 0s 23ms/step - loss: 0.0078 - mae: 0.0758\n",
            "Epoch 437/1200\n",
            "1/1 [==============================] - 0s 9ms/step - loss: 0.0077 - mae: 0.0755\n",
            "Epoch 438/1200\n",
            "1/1 [==============================] - 0s 22ms/step - loss: 0.0077 - mae: 0.0752\n",
            "Epoch 439/1200\n",
            "1/1 [==============================] - 0s 27ms/step - loss: 0.0076 - mae: 0.0750\n",
            "Epoch 440/1200\n",
            "1/1 [==============================] - 0s 39ms/step - loss: 0.0076 - mae: 0.0747\n",
            "Epoch 441/1200\n",
            "1/1 [==============================] - 0s 49ms/step - loss: 0.0075 - mae: 0.0745\n",
            "Epoch 442/1200\n",
            "1/1 [==============================] - 0s 16ms/step - loss: 0.0075 - mae: 0.0742\n",
            "Epoch 443/1200\n",
            "1/1 [==============================] - 0s 46ms/step - loss: 0.0074 - mae: 0.0740\n",
            "Epoch 444/1200\n",
            "1/1 [==============================] - 0s 20ms/step - loss: 0.0074 - mae: 0.0737\n",
            "Epoch 445/1200\n",
            "1/1 [==============================] - 0s 22ms/step - loss: 0.0073 - mae: 0.0735\n",
            "Epoch 446/1200\n",
            "1/1 [==============================] - 0s 17ms/step - loss: 0.0073 - mae: 0.0732\n",
            "Epoch 447/1200\n",
            "1/1 [==============================] - 0s 26ms/step - loss: 0.0072 - mae: 0.0730\n",
            "Epoch 448/1200\n",
            "1/1 [==============================] - 0s 14ms/step - loss: 0.0072 - mae: 0.0727\n",
            "Epoch 449/1200\n",
            "1/1 [==============================] - 0s 18ms/step - loss: 0.0071 - mae: 0.0725\n",
            "Epoch 450/1200\n",
            "1/1 [==============================] - 0s 20ms/step - loss: 0.0071 - mae: 0.0723\n",
            "Epoch 451/1200\n",
            "1/1 [==============================] - 0s 18ms/step - loss: 0.0070 - mae: 0.0720\n",
            "Epoch 452/1200\n",
            "1/1 [==============================] - 0s 21ms/step - loss: 0.0070 - mae: 0.0718\n",
            "Epoch 453/1200\n",
            "1/1 [==============================] - 0s 26ms/step - loss: 0.0069 - mae: 0.0715\n",
            "Epoch 454/1200\n",
            "1/1 [==============================] - 0s 17ms/step - loss: 0.0069 - mae: 0.0713\n",
            "Epoch 455/1200\n",
            "1/1 [==============================] - 0s 27ms/step - loss: 0.0068 - mae: 0.0710\n",
            "Epoch 456/1200\n",
            "1/1 [==============================] - 0s 45ms/step - loss: 0.0068 - mae: 0.0708\n",
            "Epoch 457/1200\n",
            "1/1 [==============================] - 0s 20ms/step - loss: 0.0068 - mae: 0.0706\n",
            "Epoch 458/1200\n",
            "1/1 [==============================] - 0s 7ms/step - loss: 0.0067 - mae: 0.0703\n",
            "Epoch 459/1200\n",
            "1/1 [==============================] - 0s 23ms/step - loss: 0.0067 - mae: 0.0701\n",
            "Epoch 460/1200\n",
            "1/1 [==============================] - 0s 23ms/step - loss: 0.0066 - mae: 0.0698\n",
            "Epoch 461/1200\n",
            "1/1 [==============================] - 0s 20ms/step - loss: 0.0066 - mae: 0.0696\n",
            "Epoch 462/1200\n",
            "1/1 [==============================] - 0s 31ms/step - loss: 0.0065 - mae: 0.0694\n",
            "Epoch 463/1200\n",
            "1/1 [==============================] - 0s 7ms/step - loss: 0.0065 - mae: 0.0691\n",
            "Epoch 464/1200\n",
            "1/1 [==============================] - 0s 9ms/step - loss: 0.0064 - mae: 0.0689\n",
            "Epoch 465/1200\n",
            "1/1 [==============================] - 0s 22ms/step - loss: 0.0064 - mae: 0.0687\n",
            "Epoch 466/1200\n",
            "1/1 [==============================] - 0s 71ms/step - loss: 0.0064 - mae: 0.0684\n",
            "Epoch 467/1200\n",
            "1/1 [==============================] - 0s 25ms/step - loss: 0.0063 - mae: 0.0682\n",
            "Epoch 468/1200\n",
            "1/1 [==============================] - 0s 27ms/step - loss: 0.0063 - mae: 0.0680\n",
            "Epoch 469/1200\n",
            "1/1 [==============================] - 0s 23ms/step - loss: 0.0062 - mae: 0.0677\n",
            "Epoch 470/1200\n",
            "1/1 [==============================] - 0s 38ms/step - loss: 0.0062 - mae: 0.0675\n",
            "Epoch 471/1200\n",
            "1/1 [==============================] - 0s 42ms/step - loss: 0.0061 - mae: 0.0673\n",
            "Epoch 472/1200\n",
            "1/1 [==============================] - 0s 18ms/step - loss: 0.0061 - mae: 0.0671\n",
            "Epoch 473/1200\n",
            "1/1 [==============================] - 0s 16ms/step - loss: 0.0061 - mae: 0.0668\n",
            "Epoch 474/1200\n",
            "1/1 [==============================] - 0s 21ms/step - loss: 0.0060 - mae: 0.0666\n",
            "Epoch 475/1200\n",
            "1/1 [==============================] - 0s 37ms/step - loss: 0.0060 - mae: 0.0664\n",
            "Epoch 476/1200\n",
            "1/1 [==============================] - 0s 38ms/step - loss: 0.0059 - mae: 0.0662\n",
            "Epoch 477/1200\n",
            "1/1 [==============================] - 0s 14ms/step - loss: 0.0059 - mae: 0.0659\n",
            "Epoch 478/1200\n",
            "1/1 [==============================] - 0s 10ms/step - loss: 0.0059 - mae: 0.0657\n",
            "Epoch 479/1200\n",
            "1/1 [==============================] - 0s 11ms/step - loss: 0.0058 - mae: 0.0655\n",
            "Epoch 480/1200\n",
            "1/1 [==============================] - 0s 9ms/step - loss: 0.0058 - mae: 0.0653\n",
            "Epoch 481/1200\n",
            "1/1 [==============================] - 0s 11ms/step - loss: 0.0057 - mae: 0.0651\n",
            "Epoch 482/1200\n",
            "1/1 [==============================] - 0s 10ms/step - loss: 0.0057 - mae: 0.0648\n",
            "Epoch 483/1200\n",
            "1/1 [==============================] - 0s 11ms/step - loss: 0.0057 - mae: 0.0646\n",
            "Epoch 484/1200\n",
            "1/1 [==============================] - 0s 11ms/step - loss: 0.0056 - mae: 0.0644\n",
            "Epoch 485/1200\n",
            "1/1 [==============================] - 0s 12ms/step - loss: 0.0056 - mae: 0.0642\n",
            "Epoch 486/1200\n",
            "1/1 [==============================] - 0s 10ms/step - loss: 0.0056 - mae: 0.0640\n",
            "Epoch 487/1200\n",
            "1/1 [==============================] - 0s 11ms/step - loss: 0.0055 - mae: 0.0637\n",
            "Epoch 488/1200\n",
            "1/1 [==============================] - 0s 8ms/step - loss: 0.0055 - mae: 0.0635\n",
            "Epoch 489/1200\n",
            "1/1 [==============================] - 0s 11ms/step - loss: 0.0054 - mae: 0.0633\n",
            "Epoch 490/1200\n",
            "1/1 [==============================] - 0s 45ms/step - loss: 0.0054 - mae: 0.0631\n",
            "Epoch 491/1200\n",
            "1/1 [==============================] - 0s 22ms/step - loss: 0.0054 - mae: 0.0629\n",
            "Epoch 492/1200\n",
            "1/1 [==============================] - 0s 18ms/step - loss: 0.0053 - mae: 0.0627\n",
            "Epoch 493/1200\n",
            "1/1 [==============================] - 0s 20ms/step - loss: 0.0053 - mae: 0.0625\n",
            "Epoch 494/1200\n",
            "1/1 [==============================] - 0s 18ms/step - loss: 0.0053 - mae: 0.0622\n",
            "Epoch 495/1200\n",
            "1/1 [==============================] - 0s 13ms/step - loss: 0.0052 - mae: 0.0620\n",
            "Epoch 496/1200\n",
            "1/1 [==============================] - 0s 10ms/step - loss: 0.0052 - mae: 0.0618\n",
            "Epoch 497/1200\n",
            "1/1 [==============================] - 0s 11ms/step - loss: 0.0052 - mae: 0.0616\n",
            "Epoch 498/1200\n",
            "1/1 [==============================] - 0s 7ms/step - loss: 0.0051 - mae: 0.0614\n",
            "Epoch 499/1200\n",
            "1/1 [==============================] - 0s 15ms/step - loss: 0.0051 - mae: 0.0612\n",
            "Epoch 500/1200\n",
            "1/1 [==============================] - 0s 13ms/step - loss: 0.0051 - mae: 0.0610\n",
            "Epoch 501/1200\n",
            "1/1 [==============================] - 0s 7ms/step - loss: 0.0050 - mae: 0.0608\n",
            "Epoch 502/1200\n",
            "1/1 [==============================] - 0s 9ms/step - loss: 0.0050 - mae: 0.0606\n",
            "Epoch 503/1200\n",
            "1/1 [==============================] - 0s 9ms/step - loss: 0.0049 - mae: 0.0604\n",
            "Epoch 504/1200\n",
            "1/1 [==============================] - 0s 7ms/step - loss: 0.0049 - mae: 0.0602\n",
            "Epoch 505/1200\n",
            "1/1 [==============================] - 0s 7ms/step - loss: 0.0049 - mae: 0.0600\n",
            "Epoch 506/1200\n",
            "1/1 [==============================] - 0s 9ms/step - loss: 0.0048 - mae: 0.0598\n",
            "Epoch 507/1200\n",
            "1/1 [==============================] - 0s 24ms/step - loss: 0.0048 - mae: 0.0596\n",
            "Epoch 508/1200\n",
            "1/1 [==============================] - 0s 25ms/step - loss: 0.0048 - mae: 0.0594\n",
            "Epoch 509/1200\n",
            "1/1 [==============================] - 0s 12ms/step - loss: 0.0048 - mae: 0.0592\n",
            "Epoch 510/1200\n",
            "1/1 [==============================] - 0s 19ms/step - loss: 0.0047 - mae: 0.0590\n",
            "Epoch 511/1200\n",
            "1/1 [==============================] - 0s 16ms/step - loss: 0.0047 - mae: 0.0588\n",
            "Epoch 512/1200\n",
            "1/1 [==============================] - 0s 27ms/step - loss: 0.0047 - mae: 0.0586\n",
            "Epoch 513/1200\n",
            "1/1 [==============================] - 0s 17ms/step - loss: 0.0046 - mae: 0.0584\n",
            "Epoch 514/1200\n",
            "1/1 [==============================] - 0s 15ms/step - loss: 0.0046 - mae: 0.0582\n",
            "Epoch 515/1200\n",
            "1/1 [==============================] - 0s 15ms/step - loss: 0.0046 - mae: 0.0580\n",
            "Epoch 516/1200\n",
            "1/1 [==============================] - 0s 9ms/step - loss: 0.0045 - mae: 0.0578\n",
            "Epoch 517/1200\n",
            "1/1 [==============================] - 0s 15ms/step - loss: 0.0045 - mae: 0.0576\n",
            "Epoch 518/1200\n",
            "1/1 [==============================] - 0s 8ms/step - loss: 0.0045 - mae: 0.0574\n",
            "Epoch 519/1200\n",
            "1/1 [==============================] - 0s 13ms/step - loss: 0.0044 - mae: 0.0572\n",
            "Epoch 520/1200\n",
            "1/1 [==============================] - 0s 11ms/step - loss: 0.0044 - mae: 0.0570\n",
            "Epoch 521/1200\n",
            "1/1 [==============================] - 0s 12ms/step - loss: 0.0044 - mae: 0.0568\n",
            "Epoch 522/1200\n",
            "1/1 [==============================] - 0s 12ms/step - loss: 0.0044 - mae: 0.0566\n",
            "Epoch 523/1200\n",
            "1/1 [==============================] - 0s 12ms/step - loss: 0.0043 - mae: 0.0564\n",
            "Epoch 524/1200\n",
            "1/1 [==============================] - 0s 23ms/step - loss: 0.0043 - mae: 0.0562\n",
            "Epoch 525/1200\n",
            "1/1 [==============================] - 0s 27ms/step - loss: 0.0043 - mae: 0.0560\n",
            "Epoch 526/1200\n",
            "1/1 [==============================] - 0s 15ms/step - loss: 0.0042 - mae: 0.0559\n",
            "Epoch 527/1200\n",
            "1/1 [==============================] - 0s 12ms/step - loss: 0.0042 - mae: 0.0557\n",
            "Epoch 528/1200\n",
            "1/1 [==============================] - 0s 10ms/step - loss: 0.0042 - mae: 0.0555\n",
            "Epoch 529/1200\n",
            "1/1 [==============================] - 0s 15ms/step - loss: 0.0041 - mae: 0.0553\n",
            "Epoch 530/1200\n",
            "1/1 [==============================] - 0s 21ms/step - loss: 0.0041 - mae: 0.0551\n",
            "Epoch 531/1200\n",
            "1/1 [==============================] - 0s 25ms/step - loss: 0.0041 - mae: 0.0549\n",
            "Epoch 532/1200\n",
            "1/1 [==============================] - 0s 13ms/step - loss: 0.0041 - mae: 0.0547\n",
            "Epoch 533/1200\n",
            "1/1 [==============================] - 0s 21ms/step - loss: 0.0040 - mae: 0.0545\n",
            "Epoch 534/1200\n",
            "1/1 [==============================] - 0s 8ms/step - loss: 0.0040 - mae: 0.0544\n",
            "Epoch 535/1200\n",
            "1/1 [==============================] - 0s 12ms/step - loss: 0.0040 - mae: 0.0542\n",
            "Epoch 536/1200\n",
            "1/1 [==============================] - 0s 14ms/step - loss: 0.0040 - mae: 0.0540\n",
            "Epoch 537/1200\n",
            "1/1 [==============================] - 0s 13ms/step - loss: 0.0039 - mae: 0.0538\n",
            "Epoch 538/1200\n",
            "1/1 [==============================] - 0s 18ms/step - loss: 0.0039 - mae: 0.0536\n",
            "Epoch 539/1200\n",
            "1/1 [==============================] - 0s 7ms/step - loss: 0.0039 - mae: 0.0534\n",
            "Epoch 540/1200\n",
            "1/1 [==============================] - 0s 24ms/step - loss: 0.0039 - mae: 0.0533\n",
            "Epoch 541/1200\n",
            "1/1 [==============================] - 0s 49ms/step - loss: 0.0038 - mae: 0.0531\n",
            "Epoch 542/1200\n",
            "1/1 [==============================] - 0s 40ms/step - loss: 0.0038 - mae: 0.0529\n",
            "Epoch 543/1200\n",
            "1/1 [==============================] - 0s 49ms/step - loss: 0.0038 - mae: 0.0527\n",
            "Epoch 544/1200\n",
            "1/1 [==============================] - 0s 20ms/step - loss: 0.0037 - mae: 0.0526\n",
            "Epoch 545/1200\n",
            "1/1 [==============================] - 0s 20ms/step - loss: 0.0037 - mae: 0.0524\n",
            "Epoch 546/1200\n",
            "1/1 [==============================] - 0s 21ms/step - loss: 0.0037 - mae: 0.0522\n",
            "Epoch 547/1200\n",
            "1/1 [==============================] - 0s 15ms/step - loss: 0.0037 - mae: 0.0520\n",
            "Epoch 548/1200\n",
            "1/1 [==============================] - 0s 21ms/step - loss: 0.0036 - mae: 0.0518\n",
            "Epoch 549/1200\n",
            "1/1 [==============================] - 0s 23ms/step - loss: 0.0036 - mae: 0.0517\n",
            "Epoch 550/1200\n",
            "1/1 [==============================] - 0s 13ms/step - loss: 0.0036 - mae: 0.0515\n",
            "Epoch 551/1200\n",
            "1/1 [==============================] - 0s 20ms/step - loss: 0.0036 - mae: 0.0513\n",
            "Epoch 552/1200\n",
            "1/1 [==============================] - 0s 17ms/step - loss: 0.0036 - mae: 0.0511\n",
            "Epoch 553/1200\n",
            "1/1 [==============================] - 0s 16ms/step - loss: 0.0035 - mae: 0.0510\n",
            "Epoch 554/1200\n",
            "1/1 [==============================] - 0s 32ms/step - loss: 0.0035 - mae: 0.0508\n",
            "Epoch 555/1200\n",
            "1/1 [==============================] - 0s 23ms/step - loss: 0.0035 - mae: 0.0506\n",
            "Epoch 556/1200\n",
            "1/1 [==============================] - 0s 21ms/step - loss: 0.0035 - mae: 0.0505\n",
            "Epoch 557/1200\n",
            "1/1 [==============================] - 0s 24ms/step - loss: 0.0034 - mae: 0.0503\n",
            "Epoch 558/1200\n",
            "1/1 [==============================] - 0s 22ms/step - loss: 0.0034 - mae: 0.0501\n",
            "Epoch 559/1200\n",
            "1/1 [==============================] - 0s 18ms/step - loss: 0.0034 - mae: 0.0499\n",
            "Epoch 560/1200\n",
            "1/1 [==============================] - 0s 13ms/step - loss: 0.0034 - mae: 0.0498\n",
            "Epoch 561/1200\n",
            "1/1 [==============================] - 0s 24ms/step - loss: 0.0033 - mae: 0.0496\n",
            "Epoch 562/1200\n",
            "1/1 [==============================] - 0s 46ms/step - loss: 0.0033 - mae: 0.0494\n",
            "Epoch 563/1200\n",
            "1/1 [==============================] - 0s 28ms/step - loss: 0.0033 - mae: 0.0493\n",
            "Epoch 564/1200\n",
            "1/1 [==============================] - 0s 12ms/step - loss: 0.0033 - mae: 0.0491\n",
            "Epoch 565/1200\n",
            "1/1 [==============================] - 0s 26ms/step - loss: 0.0033 - mae: 0.0489\n",
            "Epoch 566/1200\n",
            "1/1 [==============================] - 0s 9ms/step - loss: 0.0032 - mae: 0.0488\n",
            "Epoch 567/1200\n",
            "1/1 [==============================] - 0s 10ms/step - loss: 0.0032 - mae: 0.0486\n",
            "Epoch 568/1200\n",
            "1/1 [==============================] - 0s 12ms/step - loss: 0.0032 - mae: 0.0484\n",
            "Epoch 569/1200\n",
            "1/1 [==============================] - 0s 10ms/step - loss: 0.0032 - mae: 0.0483\n",
            "Epoch 570/1200\n",
            "1/1 [==============================] - 0s 8ms/step - loss: 0.0031 - mae: 0.0481\n",
            "Epoch 571/1200\n",
            "1/1 [==============================] - 0s 10ms/step - loss: 0.0031 - mae: 0.0480\n",
            "Epoch 572/1200\n",
            "1/1 [==============================] - 0s 11ms/step - loss: 0.0031 - mae: 0.0478\n",
            "Epoch 573/1200\n",
            "1/1 [==============================] - 0s 14ms/step - loss: 0.0031 - mae: 0.0476\n",
            "Epoch 574/1200\n",
            "1/1 [==============================] - 0s 11ms/step - loss: 0.0031 - mae: 0.0475\n",
            "Epoch 575/1200\n",
            "1/1 [==============================] - 0s 11ms/step - loss: 0.0030 - mae: 0.0473\n",
            "Epoch 576/1200\n",
            "1/1 [==============================] - 0s 11ms/step - loss: 0.0030 - mae: 0.0472\n",
            "Epoch 577/1200\n",
            "1/1 [==============================] - 0s 10ms/step - loss: 0.0030 - mae: 0.0470\n",
            "Epoch 578/1200\n",
            "1/1 [==============================] - 0s 11ms/step - loss: 0.0030 - mae: 0.0468\n",
            "Epoch 579/1200\n",
            "1/1 [==============================] - 0s 7ms/step - loss: 0.0030 - mae: 0.0467\n",
            "Epoch 580/1200\n",
            "1/1 [==============================] - 0s 8ms/step - loss: 0.0029 - mae: 0.0465\n",
            "Epoch 581/1200\n",
            "1/1 [==============================] - 0s 23ms/step - loss: 0.0029 - mae: 0.0464\n",
            "Epoch 582/1200\n",
            "1/1 [==============================] - 0s 20ms/step - loss: 0.0029 - mae: 0.0462\n",
            "Epoch 583/1200\n",
            "1/1 [==============================] - 0s 13ms/step - loss: 0.0029 - mae: 0.0460\n",
            "Epoch 584/1200\n",
            "1/1 [==============================] - 0s 17ms/step - loss: 0.0029 - mae: 0.0459\n",
            "Epoch 585/1200\n",
            "1/1 [==============================] - 0s 29ms/step - loss: 0.0028 - mae: 0.0457\n",
            "Epoch 586/1200\n",
            "1/1 [==============================] - 0s 7ms/step - loss: 0.0028 - mae: 0.0456\n",
            "Epoch 587/1200\n",
            "1/1 [==============================] - 0s 8ms/step - loss: 0.0028 - mae: 0.0454\n",
            "Epoch 588/1200\n",
            "1/1 [==============================] - 0s 7ms/step - loss: 0.0028 - mae: 0.0453\n",
            "Epoch 589/1200\n",
            "1/1 [==============================] - 0s 7ms/step - loss: 0.0028 - mae: 0.0451\n",
            "Epoch 590/1200\n",
            "1/1 [==============================] - 0s 7ms/step - loss: 0.0027 - mae: 0.0450\n",
            "Epoch 591/1200\n",
            "1/1 [==============================] - 0s 7ms/step - loss: 0.0027 - mae: 0.0448\n",
            "Epoch 592/1200\n",
            "1/1 [==============================] - 0s 7ms/step - loss: 0.0027 - mae: 0.0447\n",
            "Epoch 593/1200\n",
            "1/1 [==============================] - 0s 9ms/step - loss: 0.0027 - mae: 0.0445\n",
            "Epoch 594/1200\n",
            "1/1 [==============================] - 0s 9ms/step - loss: 0.0027 - mae: 0.0444\n",
            "Epoch 595/1200\n",
            "1/1 [==============================] - 0s 8ms/step - loss: 0.0027 - mae: 0.0442\n",
            "Epoch 596/1200\n",
            "1/1 [==============================] - 0s 6ms/step - loss: 0.0026 - mae: 0.0441\n",
            "Epoch 597/1200\n",
            "1/1 [==============================] - 0s 7ms/step - loss: 0.0026 - mae: 0.0439\n",
            "Epoch 598/1200\n",
            "1/1 [==============================] - 0s 7ms/step - loss: 0.0026 - mae: 0.0438\n",
            "Epoch 599/1200\n",
            "1/1 [==============================] - 0s 7ms/step - loss: 0.0026 - mae: 0.0436\n",
            "Epoch 600/1200\n",
            "1/1 [==============================] - 0s 9ms/step - loss: 0.0026 - mae: 0.0435\n",
            "Epoch 601/1200\n",
            "1/1 [==============================] - 0s 6ms/step - loss: 0.0025 - mae: 0.0433\n",
            "Epoch 602/1200\n",
            "1/1 [==============================] - 0s 7ms/step - loss: 0.0025 - mae: 0.0432\n",
            "Epoch 603/1200\n",
            "1/1 [==============================] - 0s 7ms/step - loss: 0.0025 - mae: 0.0430\n",
            "Epoch 604/1200\n",
            "1/1 [==============================] - 0s 7ms/step - loss: 0.0025 - mae: 0.0429\n",
            "Epoch 605/1200\n",
            "1/1 [==============================] - 0s 7ms/step - loss: 0.0025 - mae: 0.0427\n",
            "Epoch 606/1200\n",
            "1/1 [==============================] - 0s 22ms/step - loss: 0.0025 - mae: 0.0426\n",
            "Epoch 607/1200\n",
            "1/1 [==============================] - 0s 14ms/step - loss: 0.0024 - mae: 0.0425\n",
            "Epoch 608/1200\n",
            "1/1 [==============================] - 0s 13ms/step - loss: 0.0024 - mae: 0.0423\n",
            "Epoch 609/1200\n",
            "1/1 [==============================] - 0s 23ms/step - loss: 0.0024 - mae: 0.0422\n",
            "Epoch 610/1200\n",
            "1/1 [==============================] - 0s 29ms/step - loss: 0.0024 - mae: 0.0420\n",
            "Epoch 611/1200\n",
            "1/1 [==============================] - 0s 18ms/step - loss: 0.0024 - mae: 0.0419\n",
            "Epoch 612/1200\n",
            "1/1 [==============================] - 0s 21ms/step - loss: 0.0024 - mae: 0.0417\n",
            "Epoch 613/1200\n",
            "1/1 [==============================] - 0s 25ms/step - loss: 0.0023 - mae: 0.0416\n",
            "Epoch 614/1200\n",
            "1/1 [==============================] - 0s 9ms/step - loss: 0.0023 - mae: 0.0415\n",
            "Epoch 615/1200\n",
            "1/1 [==============================] - 0s 15ms/step - loss: 0.0023 - mae: 0.0413\n",
            "Epoch 616/1200\n",
            "1/1 [==============================] - 0s 20ms/step - loss: 0.0023 - mae: 0.0412\n",
            "Epoch 617/1200\n",
            "1/1 [==============================] - 0s 11ms/step - loss: 0.0023 - mae: 0.0410\n",
            "Epoch 618/1200\n",
            "1/1 [==============================] - 0s 10ms/step - loss: 0.0023 - mae: 0.0409\n",
            "Epoch 619/1200\n",
            "1/1 [==============================] - 0s 7ms/step - loss: 0.0023 - mae: 0.0408\n",
            "Epoch 620/1200\n",
            "1/1 [==============================] - 0s 8ms/step - loss: 0.0022 - mae: 0.0406\n",
            "Epoch 621/1200\n",
            "1/1 [==============================] - 0s 8ms/step - loss: 0.0022 - mae: 0.0405\n",
            "Epoch 622/1200\n",
            "1/1 [==============================] - 0s 10ms/step - loss: 0.0022 - mae: 0.0404\n",
            "Epoch 623/1200\n",
            "1/1 [==============================] - 0s 12ms/step - loss: 0.0022 - mae: 0.0402\n",
            "Epoch 624/1200\n",
            "1/1 [==============================] - 0s 13ms/step - loss: 0.0022 - mae: 0.0401\n",
            "Epoch 625/1200\n",
            "1/1 [==============================] - 0s 7ms/step - loss: 0.0022 - mae: 0.0399\n",
            "Epoch 626/1200\n",
            "1/1 [==============================] - 0s 10ms/step - loss: 0.0022 - mae: 0.0398\n",
            "Epoch 627/1200\n",
            "1/1 [==============================] - 0s 9ms/step - loss: 0.0021 - mae: 0.0397\n",
            "Epoch 628/1200\n",
            "1/1 [==============================] - 0s 12ms/step - loss: 0.0021 - mae: 0.0395\n",
            "Epoch 629/1200\n",
            "1/1 [==============================] - 0s 9ms/step - loss: 0.0021 - mae: 0.0394\n",
            "Epoch 630/1200\n",
            "1/1 [==============================] - 0s 16ms/step - loss: 0.0021 - mae: 0.0393\n",
            "Epoch 631/1200\n",
            "1/1 [==============================] - 0s 19ms/step - loss: 0.0021 - mae: 0.0391\n",
            "Epoch 632/1200\n",
            "1/1 [==============================] - 0s 25ms/step - loss: 0.0021 - mae: 0.0390\n",
            "Epoch 633/1200\n",
            "1/1 [==============================] - 0s 14ms/step - loss: 0.0021 - mae: 0.0389\n",
            "Epoch 634/1200\n",
            "1/1 [==============================] - 0s 13ms/step - loss: 0.0020 - mae: 0.0387\n",
            "Epoch 635/1200\n",
            "1/1 [==============================] - 0s 13ms/step - loss: 0.0020 - mae: 0.0386\n",
            "Epoch 636/1200\n",
            "1/1 [==============================] - 0s 12ms/step - loss: 0.0020 - mae: 0.0385\n",
            "Epoch 637/1200\n",
            "1/1 [==============================] - 0s 28ms/step - loss: 0.0020 - mae: 0.0384\n",
            "Epoch 638/1200\n",
            "1/1 [==============================] - 0s 19ms/step - loss: 0.0020 - mae: 0.0382\n",
            "Epoch 639/1200\n",
            "1/1 [==============================] - 0s 15ms/step - loss: 0.0020 - mae: 0.0381\n",
            "Epoch 640/1200\n",
            "1/1 [==============================] - 0s 22ms/step - loss: 0.0020 - mae: 0.0380\n",
            "Epoch 641/1200\n",
            "1/1 [==============================] - 0s 17ms/step - loss: 0.0019 - mae: 0.0378\n",
            "Epoch 642/1200\n",
            "1/1 [==============================] - 0s 15ms/step - loss: 0.0019 - mae: 0.0377\n",
            "Epoch 643/1200\n",
            "1/1 [==============================] - 0s 13ms/step - loss: 0.0019 - mae: 0.0376\n",
            "Epoch 644/1200\n",
            "1/1 [==============================] - 0s 28ms/step - loss: 0.0019 - mae: 0.0375\n",
            "Epoch 645/1200\n",
            "1/1 [==============================] - 0s 38ms/step - loss: 0.0019 - mae: 0.0373\n",
            "Epoch 646/1200\n",
            "1/1 [==============================] - 0s 20ms/step - loss: 0.0019 - mae: 0.0372\n",
            "Epoch 647/1200\n",
            "1/1 [==============================] - 0s 22ms/step - loss: 0.0019 - mae: 0.0371\n",
            "Epoch 648/1200\n",
            "1/1 [==============================] - 0s 19ms/step - loss: 0.0019 - mae: 0.0370\n",
            "Epoch 649/1200\n",
            "1/1 [==============================] - 0s 23ms/step - loss: 0.0018 - mae: 0.0368\n",
            "Epoch 650/1200\n",
            "1/1 [==============================] - 0s 21ms/step - loss: 0.0018 - mae: 0.0367\n",
            "Epoch 651/1200\n",
            "1/1 [==============================] - 0s 18ms/step - loss: 0.0018 - mae: 0.0366\n",
            "Epoch 652/1200\n",
            "1/1 [==============================] - 0s 19ms/step - loss: 0.0018 - mae: 0.0365\n",
            "Epoch 653/1200\n",
            "1/1 [==============================] - 0s 41ms/step - loss: 0.0018 - mae: 0.0363\n",
            "Epoch 654/1200\n",
            "1/1 [==============================] - 0s 58ms/step - loss: 0.0018 - mae: 0.0362\n",
            "Epoch 655/1200\n",
            "1/1 [==============================] - 0s 14ms/step - loss: 0.0018 - mae: 0.0361\n",
            "Epoch 656/1200\n",
            "1/1 [==============================] - 0s 18ms/step - loss: 0.0018 - mae: 0.0360\n",
            "Epoch 657/1200\n",
            "1/1 [==============================] - 0s 15ms/step - loss: 0.0017 - mae: 0.0358\n",
            "Epoch 658/1200\n",
            "1/1 [==============================] - 0s 9ms/step - loss: 0.0017 - mae: 0.0357\n",
            "Epoch 659/1200\n",
            "1/1 [==============================] - 0s 36ms/step - loss: 0.0017 - mae: 0.0356\n",
            "Epoch 660/1200\n",
            "1/1 [==============================] - 0s 20ms/step - loss: 0.0017 - mae: 0.0355\n",
            "Epoch 661/1200\n",
            "1/1 [==============================] - 0s 13ms/step - loss: 0.0017 - mae: 0.0354\n",
            "Epoch 662/1200\n",
            "1/1 [==============================] - 0s 26ms/step - loss: 0.0017 - mae: 0.0352\n",
            "Epoch 663/1200\n",
            "1/1 [==============================] - 0s 55ms/step - loss: 0.0017 - mae: 0.0351\n",
            "Epoch 664/1200\n",
            "1/1 [==============================] - 0s 23ms/step - loss: 0.0017 - mae: 0.0350\n",
            "Epoch 665/1200\n",
            "1/1 [==============================] - 0s 57ms/step - loss: 0.0017 - mae: 0.0349\n",
            "Epoch 666/1200\n",
            "1/1 [==============================] - 0s 48ms/step - loss: 0.0016 - mae: 0.0348\n",
            "Epoch 667/1200\n",
            "1/1 [==============================] - 0s 49ms/step - loss: 0.0016 - mae: 0.0346\n",
            "Epoch 668/1200\n",
            "1/1 [==============================] - 0s 16ms/step - loss: 0.0016 - mae: 0.0345\n",
            "Epoch 669/1200\n",
            "1/1 [==============================] - 0s 26ms/step - loss: 0.0016 - mae: 0.0344\n",
            "Epoch 670/1200\n",
            "1/1 [==============================] - 0s 19ms/step - loss: 0.0016 - mae: 0.0343\n",
            "Epoch 671/1200\n",
            "1/1 [==============================] - 0s 33ms/step - loss: 0.0016 - mae: 0.0342\n",
            "Epoch 672/1200\n",
            "1/1 [==============================] - 0s 23ms/step - loss: 0.0016 - mae: 0.0341\n",
            "Epoch 673/1200\n",
            "1/1 [==============================] - 0s 40ms/step - loss: 0.0016 - mae: 0.0340\n",
            "Epoch 674/1200\n",
            "1/1 [==============================] - 0s 43ms/step - loss: 0.0016 - mae: 0.0338\n",
            "Epoch 675/1200\n",
            "1/1 [==============================] - 0s 36ms/step - loss: 0.0015 - mae: 0.0337\n",
            "Epoch 676/1200\n",
            "1/1 [==============================] - 0s 37ms/step - loss: 0.0015 - mae: 0.0336\n",
            "Epoch 677/1200\n",
            "1/1 [==============================] - 0s 59ms/step - loss: 0.0015 - mae: 0.0335\n",
            "Epoch 678/1200\n",
            "1/1 [==============================] - 0s 27ms/step - loss: 0.0015 - mae: 0.0334\n",
            "Epoch 679/1200\n",
            "1/1 [==============================] - 0s 22ms/step - loss: 0.0015 - mae: 0.0333\n",
            "Epoch 680/1200\n",
            "1/1 [==============================] - 0s 33ms/step - loss: 0.0015 - mae: 0.0332\n",
            "Epoch 681/1200\n",
            "1/1 [==============================] - 0s 20ms/step - loss: 0.0015 - mae: 0.0330\n",
            "Epoch 682/1200\n",
            "1/1 [==============================] - 0s 13ms/step - loss: 0.0015 - mae: 0.0329\n",
            "Epoch 683/1200\n",
            "1/1 [==============================] - 0s 24ms/step - loss: 0.0015 - mae: 0.0328\n",
            "Epoch 684/1200\n",
            "1/1 [==============================] - 0s 34ms/step - loss: 0.0015 - mae: 0.0327\n",
            "Epoch 685/1200\n",
            "1/1 [==============================] - 0s 22ms/step - loss: 0.0014 - mae: 0.0326\n",
            "Epoch 686/1200\n",
            "1/1 [==============================] - 0s 57ms/step - loss: 0.0014 - mae: 0.0325\n",
            "Epoch 687/1200\n",
            "1/1 [==============================] - 0s 9ms/step - loss: 0.0014 - mae: 0.0324\n",
            "Epoch 688/1200\n",
            "1/1 [==============================] - 0s 7ms/step - loss: 0.0014 - mae: 0.0323\n",
            "Epoch 689/1200\n",
            "1/1 [==============================] - 0s 8ms/step - loss: 0.0014 - mae: 0.0322\n",
            "Epoch 690/1200\n",
            "1/1 [==============================] - 0s 8ms/step - loss: 0.0014 - mae: 0.0321\n",
            "Epoch 691/1200\n",
            "1/1 [==============================] - 0s 9ms/step - loss: 0.0014 - mae: 0.0319\n",
            "Epoch 692/1200\n",
            "1/1 [==============================] - 0s 18ms/step - loss: 0.0014 - mae: 0.0318\n",
            "Epoch 693/1200\n",
            "1/1 [==============================] - 0s 15ms/step - loss: 0.0014 - mae: 0.0317\n",
            "Epoch 694/1200\n",
            "1/1 [==============================] - 0s 29ms/step - loss: 0.0014 - mae: 0.0316\n",
            "Epoch 695/1200\n",
            "1/1 [==============================] - 0s 15ms/step - loss: 0.0013 - mae: 0.0315\n",
            "Epoch 696/1200\n",
            "1/1 [==============================] - 0s 31ms/step - loss: 0.0013 - mae: 0.0314\n",
            "Epoch 697/1200\n",
            "1/1 [==============================] - 0s 16ms/step - loss: 0.0013 - mae: 0.0313\n",
            "Epoch 698/1200\n",
            "1/1 [==============================] - 0s 21ms/step - loss: 0.0013 - mae: 0.0312\n",
            "Epoch 699/1200\n",
            "1/1 [==============================] - 0s 20ms/step - loss: 0.0013 - mae: 0.0311\n",
            "Epoch 700/1200\n",
            "1/1 [==============================] - 0s 15ms/step - loss: 0.0013 - mae: 0.0310\n",
            "Epoch 701/1200\n",
            "1/1 [==============================] - 0s 20ms/step - loss: 0.0013 - mae: 0.0309\n",
            "Epoch 702/1200\n",
            "1/1 [==============================] - 0s 22ms/step - loss: 0.0013 - mae: 0.0308\n",
            "Epoch 703/1200\n",
            "1/1 [==============================] - 0s 59ms/step - loss: 0.0013 - mae: 0.0307\n",
            "Epoch 704/1200\n",
            "1/1 [==============================] - 0s 33ms/step - loss: 0.0013 - mae: 0.0306\n",
            "Epoch 705/1200\n",
            "1/1 [==============================] - 0s 33ms/step - loss: 0.0013 - mae: 0.0305\n",
            "Epoch 706/1200\n",
            "1/1 [==============================] - 0s 28ms/step - loss: 0.0013 - mae: 0.0304\n",
            "Epoch 707/1200\n",
            "1/1 [==============================] - 0s 33ms/step - loss: 0.0012 - mae: 0.0303\n",
            "Epoch 708/1200\n",
            "1/1 [==============================] - 0s 26ms/step - loss: 0.0012 - mae: 0.0302\n",
            "Epoch 709/1200\n",
            "1/1 [==============================] - 0s 55ms/step - loss: 0.0012 - mae: 0.0301\n",
            "Epoch 710/1200\n",
            "1/1 [==============================] - 0s 35ms/step - loss: 0.0012 - mae: 0.0300\n",
            "Epoch 711/1200\n",
            "1/1 [==============================] - 0s 37ms/step - loss: 0.0012 - mae: 0.0299\n",
            "Epoch 712/1200\n",
            "1/1 [==============================] - 0s 36ms/step - loss: 0.0012 - mae: 0.0298\n",
            "Epoch 713/1200\n",
            "1/1 [==============================] - 0s 27ms/step - loss: 0.0012 - mae: 0.0297\n",
            "Epoch 714/1200\n",
            "1/1 [==============================] - 0s 29ms/step - loss: 0.0012 - mae: 0.0295\n",
            "Epoch 715/1200\n",
            "1/1 [==============================] - 0s 37ms/step - loss: 0.0012 - mae: 0.0295\n",
            "Epoch 716/1200\n",
            "1/1 [==============================] - 0s 30ms/step - loss: 0.0012 - mae: 0.0294\n",
            "Epoch 717/1200\n",
            "1/1 [==============================] - 0s 28ms/step - loss: 0.0012 - mae: 0.0293\n",
            "Epoch 718/1200\n",
            "1/1 [==============================] - 0s 31ms/step - loss: 0.0012 - mae: 0.0292\n",
            "Epoch 719/1200\n",
            "1/1 [==============================] - 0s 29ms/step - loss: 0.0011 - mae: 0.0291\n",
            "Epoch 720/1200\n",
            "1/1 [==============================] - 0s 17ms/step - loss: 0.0011 - mae: 0.0290\n",
            "Epoch 721/1200\n",
            "1/1 [==============================] - 0s 15ms/step - loss: 0.0011 - mae: 0.0289\n",
            "Epoch 722/1200\n",
            "1/1 [==============================] - 0s 25ms/step - loss: 0.0011 - mae: 0.0288\n",
            "Epoch 723/1200\n",
            "1/1 [==============================] - 0s 10ms/step - loss: 0.0011 - mae: 0.0287\n",
            "Epoch 724/1200\n",
            "1/1 [==============================] - 0s 15ms/step - loss: 0.0011 - mae: 0.0286\n",
            "Epoch 725/1200\n",
            "1/1 [==============================] - 0s 16ms/step - loss: 0.0011 - mae: 0.0285\n",
            "Epoch 726/1200\n",
            "1/1 [==============================] - 0s 16ms/step - loss: 0.0011 - mae: 0.0284\n",
            "Epoch 727/1200\n",
            "1/1 [==============================] - 0s 17ms/step - loss: 0.0011 - mae: 0.0283\n",
            "Epoch 728/1200\n",
            "1/1 [==============================] - 0s 9ms/step - loss: 0.0011 - mae: 0.0282\n",
            "Epoch 729/1200\n",
            "1/1 [==============================] - 0s 7ms/step - loss: 0.0011 - mae: 0.0281\n",
            "Epoch 730/1200\n",
            "1/1 [==============================] - 0s 8ms/step - loss: 0.0011 - mae: 0.0280\n",
            "Epoch 731/1200\n",
            "1/1 [==============================] - 0s 7ms/step - loss: 0.0011 - mae: 0.0279\n",
            "Epoch 732/1200\n",
            "1/1 [==============================] - 0s 8ms/step - loss: 0.0010 - mae: 0.0278\n",
            "Epoch 733/1200\n",
            "1/1 [==============================] - 0s 22ms/step - loss: 0.0010 - mae: 0.0277\n",
            "Epoch 734/1200\n",
            "1/1 [==============================] - 0s 14ms/step - loss: 0.0010 - mae: 0.0276\n",
            "Epoch 735/1200\n",
            "1/1 [==============================] - 0s 17ms/step - loss: 0.0010 - mae: 0.0275\n",
            "Epoch 736/1200\n",
            "1/1 [==============================] - 0s 23ms/step - loss: 0.0010 - mae: 0.0274\n",
            "Epoch 737/1200\n",
            "1/1 [==============================] - 0s 12ms/step - loss: 0.0010 - mae: 0.0273\n",
            "Epoch 738/1200\n",
            "1/1 [==============================] - 0s 18ms/step - loss: 0.0010 - mae: 0.0272\n",
            "Epoch 739/1200\n",
            "1/1 [==============================] - 0s 16ms/step - loss: 0.0010 - mae: 0.0272\n",
            "Epoch 740/1200\n",
            "1/1 [==============================] - 0s 13ms/step - loss: 9.9387e-04 - mae: 0.0271\n",
            "Epoch 741/1200\n",
            "1/1 [==============================] - 0s 13ms/step - loss: 9.8714e-04 - mae: 0.0270\n",
            "Epoch 742/1200\n",
            "1/1 [==============================] - 0s 22ms/step - loss: 9.8048e-04 - mae: 0.0269\n",
            "Epoch 743/1200\n",
            "1/1 [==============================] - 0s 38ms/step - loss: 9.7389e-04 - mae: 0.0268\n",
            "Epoch 744/1200\n",
            "1/1 [==============================] - 0s 104ms/step - loss: 9.6729e-04 - mae: 0.0267\n",
            "Epoch 745/1200\n",
            "1/1 [==============================] - 0s 24ms/step - loss: 9.6079e-04 - mae: 0.0266\n",
            "Epoch 746/1200\n",
            "1/1 [==============================] - 0s 33ms/step - loss: 9.5431e-04 - mae: 0.0265\n",
            "Epoch 747/1200\n",
            "1/1 [==============================] - 0s 14ms/step - loss: 9.4786e-04 - mae: 0.0264\n",
            "Epoch 748/1200\n",
            "1/1 [==============================] - 0s 14ms/step - loss: 9.4144e-04 - mae: 0.0263\n",
            "Epoch 749/1200\n",
            "1/1 [==============================] - 0s 14ms/step - loss: 9.3508e-04 - mae: 0.0262\n",
            "Epoch 750/1200\n",
            "1/1 [==============================] - 0s 20ms/step - loss: 9.2878e-04 - mae: 0.0262\n",
            "Epoch 751/1200\n",
            "1/1 [==============================] - 0s 12ms/step - loss: 9.2251e-04 - mae: 0.0261\n",
            "Epoch 752/1200\n",
            "1/1 [==============================] - 0s 7ms/step - loss: 9.1628e-04 - mae: 0.0260\n",
            "Epoch 753/1200\n",
            "1/1 [==============================] - 0s 8ms/step - loss: 9.1011e-04 - mae: 0.0259\n",
            "Epoch 754/1200\n",
            "1/1 [==============================] - 0s 8ms/step - loss: 9.0394e-04 - mae: 0.0258\n",
            "Epoch 755/1200\n",
            "1/1 [==============================] - 0s 8ms/step - loss: 8.9785e-04 - mae: 0.0257\n",
            "Epoch 756/1200\n",
            "1/1 [==============================] - 0s 8ms/step - loss: 8.9179e-04 - mae: 0.0256\n",
            "Epoch 757/1200\n",
            "1/1 [==============================] - 0s 10ms/step - loss: 8.8575e-04 - mae: 0.0255\n",
            "Epoch 758/1200\n",
            "1/1 [==============================] - 0s 7ms/step - loss: 8.7980e-04 - mae: 0.0255\n",
            "Epoch 759/1200\n",
            "1/1 [==============================] - 0s 8ms/step - loss: 8.7384e-04 - mae: 0.0254\n",
            "Epoch 760/1200\n",
            "1/1 [==============================] - 0s 9ms/step - loss: 8.6795e-04 - mae: 0.0253\n",
            "Epoch 761/1200\n",
            "1/1 [==============================] - 0s 9ms/step - loss: 8.6209e-04 - mae: 0.0252\n",
            "Epoch 762/1200\n",
            "1/1 [==============================] - 0s 19ms/step - loss: 8.5626e-04 - mae: 0.0251\n",
            "Epoch 763/1200\n",
            "1/1 [==============================] - 0s 24ms/step - loss: 8.5049e-04 - mae: 0.0250\n",
            "Epoch 764/1200\n",
            "1/1 [==============================] - 0s 13ms/step - loss: 8.4474e-04 - mae: 0.0249\n",
            "Epoch 765/1200\n",
            "1/1 [==============================] - 0s 10ms/step - loss: 8.3905e-04 - mae: 0.0249\n",
            "Epoch 766/1200\n",
            "1/1 [==============================] - 0s 10ms/step - loss: 8.3337e-04 - mae: 0.0248\n",
            "Epoch 767/1200\n",
            "1/1 [==============================] - 0s 13ms/step - loss: 8.2775e-04 - mae: 0.0247\n",
            "Epoch 768/1200\n",
            "1/1 [==============================] - 0s 13ms/step - loss: 8.2216e-04 - mae: 0.0246\n",
            "Epoch 769/1200\n",
            "1/1 [==============================] - 0s 12ms/step - loss: 8.1661e-04 - mae: 0.0245\n",
            "Epoch 770/1200\n",
            "1/1 [==============================] - 0s 16ms/step - loss: 8.1109e-04 - mae: 0.0244\n",
            "Epoch 771/1200\n",
            "1/1 [==============================] - 0s 15ms/step - loss: 8.0562e-04 - mae: 0.0244\n",
            "Epoch 772/1200\n",
            "1/1 [==============================] - 0s 13ms/step - loss: 8.0019e-04 - mae: 0.0243\n",
            "Epoch 773/1200\n",
            "1/1 [==============================] - 0s 18ms/step - loss: 7.9479e-04 - mae: 0.0242\n",
            "Epoch 774/1200\n",
            "1/1 [==============================] - 0s 10ms/step - loss: 7.8941e-04 - mae: 0.0241\n",
            "Epoch 775/1200\n",
            "1/1 [==============================] - 0s 9ms/step - loss: 7.8409e-04 - mae: 0.0240\n",
            "Epoch 776/1200\n",
            "1/1 [==============================] - 0s 13ms/step - loss: 7.7878e-04 - mae: 0.0240\n",
            "Epoch 777/1200\n",
            "1/1 [==============================] - 0s 18ms/step - loss: 7.7355e-04 - mae: 0.0239\n",
            "Epoch 778/1200\n",
            "1/1 [==============================] - 0s 10ms/step - loss: 7.6832e-04 - mae: 0.0238\n",
            "Epoch 779/1200\n",
            "1/1 [==============================] - 0s 12ms/step - loss: 7.6313e-04 - mae: 0.0237\n",
            "Epoch 780/1200\n",
            "1/1 [==============================] - 0s 21ms/step - loss: 7.5798e-04 - mae: 0.0236\n",
            "Epoch 781/1200\n",
            "1/1 [==============================] - 0s 17ms/step - loss: 7.5287e-04 - mae: 0.0236\n",
            "Epoch 782/1200\n",
            "1/1 [==============================] - 0s 12ms/step - loss: 7.4779e-04 - mae: 0.0235\n",
            "Epoch 783/1200\n",
            "1/1 [==============================] - 0s 11ms/step - loss: 7.4274e-04 - mae: 0.0234\n",
            "Epoch 784/1200\n",
            "1/1 [==============================] - 0s 16ms/step - loss: 7.3772e-04 - mae: 0.0233\n",
            "Epoch 785/1200\n",
            "1/1 [==============================] - 0s 18ms/step - loss: 7.3274e-04 - mae: 0.0232\n",
            "Epoch 786/1200\n",
            "1/1 [==============================] - 0s 14ms/step - loss: 7.2778e-04 - mae: 0.0232\n",
            "Epoch 787/1200\n",
            "1/1 [==============================] - 0s 21ms/step - loss: 7.2288e-04 - mae: 0.0231\n",
            "Epoch 788/1200\n",
            "1/1 [==============================] - 0s 11ms/step - loss: 7.1800e-04 - mae: 0.0230\n",
            "Epoch 789/1200\n",
            "1/1 [==============================] - 0s 7ms/step - loss: 7.1315e-04 - mae: 0.0229\n",
            "Epoch 790/1200\n",
            "1/1 [==============================] - 0s 13ms/step - loss: 7.0834e-04 - mae: 0.0228\n",
            "Epoch 791/1200\n",
            "1/1 [==============================] - 0s 8ms/step - loss: 7.0357e-04 - mae: 0.0228\n",
            "Epoch 792/1200\n",
            "1/1 [==============================] - 0s 7ms/step - loss: 6.9881e-04 - mae: 0.0227\n",
            "Epoch 793/1200\n",
            "1/1 [==============================] - 0s 7ms/step - loss: 6.9409e-04 - mae: 0.0226\n",
            "Epoch 794/1200\n",
            "1/1 [==============================] - 0s 7ms/step - loss: 6.8941e-04 - mae: 0.0225\n",
            "Epoch 795/1200\n",
            "1/1 [==============================] - 0s 7ms/step - loss: 6.8477e-04 - mae: 0.0225\n",
            "Epoch 796/1200\n",
            "1/1 [==============================] - 0s 8ms/step - loss: 6.8014e-04 - mae: 0.0224\n",
            "Epoch 797/1200\n",
            "1/1 [==============================] - 0s 8ms/step - loss: 6.7554e-04 - mae: 0.0223\n",
            "Epoch 798/1200\n",
            "1/1 [==============================] - 0s 10ms/step - loss: 6.7098e-04 - mae: 0.0222\n",
            "Epoch 799/1200\n",
            "1/1 [==============================] - 0s 8ms/step - loss: 6.6644e-04 - mae: 0.0222\n",
            "Epoch 800/1200\n",
            "1/1 [==============================] - 0s 6ms/step - loss: 6.6195e-04 - mae: 0.0221\n",
            "Epoch 801/1200\n",
            "1/1 [==============================] - 0s 8ms/step - loss: 6.5749e-04 - mae: 0.0220\n",
            "Epoch 802/1200\n",
            "1/1 [==============================] - 0s 8ms/step - loss: 6.5304e-04 - mae: 0.0219\n",
            "Epoch 803/1200\n",
            "1/1 [==============================] - 0s 8ms/step - loss: 6.4863e-04 - mae: 0.0219\n",
            "Epoch 804/1200\n",
            "1/1 [==============================] - 0s 7ms/step - loss: 6.4426e-04 - mae: 0.0218\n",
            "Epoch 805/1200\n",
            "1/1 [==============================] - 0s 7ms/step - loss: 6.3991e-04 - mae: 0.0217\n",
            "Epoch 806/1200\n",
            "1/1 [==============================] - 0s 9ms/step - loss: 6.3560e-04 - mae: 0.0216\n",
            "Epoch 807/1200\n",
            "1/1 [==============================] - 0s 7ms/step - loss: 6.3130e-04 - mae: 0.0216\n",
            "Epoch 808/1200\n",
            "1/1 [==============================] - 0s 12ms/step - loss: 6.2703e-04 - mae: 0.0215\n",
            "Epoch 809/1200\n",
            "1/1 [==============================] - 0s 60ms/step - loss: 6.2280e-04 - mae: 0.0214\n",
            "Epoch 810/1200\n",
            "1/1 [==============================] - 0s 128ms/step - loss: 6.1860e-04 - mae: 0.0213\n",
            "Epoch 811/1200\n",
            "1/1 [==============================] - 0s 118ms/step - loss: 6.1442e-04 - mae: 0.0213\n",
            "Epoch 812/1200\n",
            "1/1 [==============================] - 0s 110ms/step - loss: 6.1029e-04 - mae: 0.0212\n",
            "Epoch 813/1200\n",
            "1/1 [==============================] - 0s 48ms/step - loss: 6.0615e-04 - mae: 0.0211\n",
            "Epoch 814/1200\n",
            "1/1 [==============================] - 0s 8ms/step - loss: 6.0207e-04 - mae: 0.0211\n",
            "Epoch 815/1200\n",
            "1/1 [==============================] - 0s 13ms/step - loss: 5.9801e-04 - mae: 0.0210\n",
            "Epoch 816/1200\n",
            "1/1 [==============================] - 0s 15ms/step - loss: 5.9396e-04 - mae: 0.0209\n",
            "Epoch 817/1200\n",
            "1/1 [==============================] - 0s 9ms/step - loss: 5.8996e-04 - mae: 0.0208\n",
            "Epoch 818/1200\n",
            "1/1 [==============================] - 0s 12ms/step - loss: 5.8596e-04 - mae: 0.0208\n",
            "Epoch 819/1200\n",
            "1/1 [==============================] - 0s 19ms/step - loss: 5.8202e-04 - mae: 0.0207\n",
            "Epoch 820/1200\n",
            "1/1 [==============================] - 0s 19ms/step - loss: 5.7808e-04 - mae: 0.0206\n",
            "Epoch 821/1200\n",
            "1/1 [==============================] - 0s 20ms/step - loss: 5.7418e-04 - mae: 0.0206\n",
            "Epoch 822/1200\n",
            "1/1 [==============================] - 0s 16ms/step - loss: 5.7032e-04 - mae: 0.0205\n",
            "Epoch 823/1200\n",
            "1/1 [==============================] - 0s 9ms/step - loss: 5.6645e-04 - mae: 0.0204\n",
            "Epoch 824/1200\n",
            "1/1 [==============================] - 0s 7ms/step - loss: 5.6263e-04 - mae: 0.0204\n",
            "Epoch 825/1200\n",
            "1/1 [==============================] - 0s 7ms/step - loss: 5.5883e-04 - mae: 0.0203\n",
            "Epoch 826/1200\n",
            "1/1 [==============================] - 0s 8ms/step - loss: 5.5507e-04 - mae: 0.0202\n",
            "Epoch 827/1200\n",
            "1/1 [==============================] - 0s 7ms/step - loss: 5.5130e-04 - mae: 0.0202\n",
            "Epoch 828/1200\n",
            "1/1 [==============================] - 0s 11ms/step - loss: 5.4759e-04 - mae: 0.0201\n",
            "Epoch 829/1200\n",
            "1/1 [==============================] - 0s 7ms/step - loss: 5.4391e-04 - mae: 0.0200\n",
            "Epoch 830/1200\n",
            "1/1 [==============================] - 0s 7ms/step - loss: 5.4024e-04 - mae: 0.0200\n",
            "Epoch 831/1200\n",
            "1/1 [==============================] - 0s 19ms/step - loss: 5.3659e-04 - mae: 0.0199\n",
            "Epoch 832/1200\n",
            "1/1 [==============================] - 0s 45ms/step - loss: 5.3295e-04 - mae: 0.0198\n",
            "Epoch 833/1200\n",
            "1/1 [==============================] - 0s 35ms/step - loss: 5.2935e-04 - mae: 0.0197\n",
            "Epoch 834/1200\n",
            "1/1 [==============================] - 0s 24ms/step - loss: 5.2578e-04 - mae: 0.0197\n",
            "Epoch 835/1200\n",
            "1/1 [==============================] - 0s 18ms/step - loss: 5.2224e-04 - mae: 0.0196\n",
            "Epoch 836/1200\n",
            "1/1 [==============================] - 0s 22ms/step - loss: 5.1872e-04 - mae: 0.0195\n",
            "Epoch 837/1200\n",
            "1/1 [==============================] - 0s 29ms/step - loss: 5.1521e-04 - mae: 0.0195\n",
            "Epoch 838/1200\n",
            "1/1 [==============================] - 0s 26ms/step - loss: 5.1175e-04 - mae: 0.0194\n",
            "Epoch 839/1200\n",
            "1/1 [==============================] - 0s 39ms/step - loss: 5.0829e-04 - mae: 0.0194\n",
            "Epoch 840/1200\n",
            "1/1 [==============================] - 0s 11ms/step - loss: 5.0485e-04 - mae: 0.0193\n",
            "Epoch 841/1200\n",
            "1/1 [==============================] - 0s 13ms/step - loss: 5.0143e-04 - mae: 0.0192\n",
            "Epoch 842/1200\n",
            "1/1 [==============================] - 0s 23ms/step - loss: 4.9806e-04 - mae: 0.0192\n",
            "Epoch 843/1200\n",
            "1/1 [==============================] - 0s 45ms/step - loss: 4.9469e-04 - mae: 0.0191\n",
            "Epoch 844/1200\n",
            "1/1 [==============================] - 0s 24ms/step - loss: 4.9134e-04 - mae: 0.0190\n",
            "Epoch 845/1200\n",
            "1/1 [==============================] - 0s 19ms/step - loss: 4.8803e-04 - mae: 0.0190\n",
            "Epoch 846/1200\n",
            "1/1 [==============================] - 0s 50ms/step - loss: 4.8474e-04 - mae: 0.0189\n",
            "Epoch 847/1200\n",
            "1/1 [==============================] - 0s 32ms/step - loss: 4.8148e-04 - mae: 0.0188\n",
            "Epoch 848/1200\n",
            "1/1 [==============================] - 0s 23ms/step - loss: 4.7821e-04 - mae: 0.0188\n",
            "Epoch 849/1200\n",
            "1/1 [==============================] - 0s 15ms/step - loss: 4.7499e-04 - mae: 0.0187\n",
            "Epoch 850/1200\n",
            "1/1 [==============================] - 0s 17ms/step - loss: 4.7179e-04 - mae: 0.0186\n",
            "Epoch 851/1200\n",
            "1/1 [==============================] - 0s 39ms/step - loss: 4.6859e-04 - mae: 0.0186\n",
            "Epoch 852/1200\n",
            "1/1 [==============================] - 0s 16ms/step - loss: 4.6544e-04 - mae: 0.0185\n",
            "Epoch 853/1200\n",
            "1/1 [==============================] - 0s 13ms/step - loss: 4.6229e-04 - mae: 0.0185\n",
            "Epoch 854/1200\n",
            "1/1 [==============================] - 0s 58ms/step - loss: 4.5916e-04 - mae: 0.0184\n",
            "Epoch 855/1200\n",
            "1/1 [==============================] - 0s 12ms/step - loss: 4.5607e-04 - mae: 0.0183\n",
            "Epoch 856/1200\n",
            "1/1 [==============================] - 0s 16ms/step - loss: 4.5299e-04 - mae: 0.0183\n",
            "Epoch 857/1200\n",
            "1/1 [==============================] - 0s 32ms/step - loss: 4.4994e-04 - mae: 0.0182\n",
            "Epoch 858/1200\n",
            "1/1 [==============================] - 0s 16ms/step - loss: 4.4690e-04 - mae: 0.0181\n",
            "Epoch 859/1200\n",
            "1/1 [==============================] - 0s 63ms/step - loss: 4.4388e-04 - mae: 0.0181\n",
            "Epoch 860/1200\n",
            "1/1 [==============================] - 0s 31ms/step - loss: 4.4088e-04 - mae: 0.0180\n",
            "Epoch 861/1200\n",
            "1/1 [==============================] - 0s 12ms/step - loss: 4.3791e-04 - mae: 0.0180\n",
            "Epoch 862/1200\n",
            "1/1 [==============================] - 0s 11ms/step - loss: 4.3495e-04 - mae: 0.0179\n",
            "Epoch 863/1200\n",
            "1/1 [==============================] - 0s 15ms/step - loss: 4.3202e-04 - mae: 0.0178\n",
            "Epoch 864/1200\n",
            "1/1 [==============================] - 0s 16ms/step - loss: 4.2910e-04 - mae: 0.0178\n",
            "Epoch 865/1200\n",
            "1/1 [==============================] - 0s 25ms/step - loss: 4.2619e-04 - mae: 0.0177\n",
            "Epoch 866/1200\n",
            "1/1 [==============================] - 0s 13ms/step - loss: 4.2333e-04 - mae: 0.0177\n",
            "Epoch 867/1200\n",
            "1/1 [==============================] - 0s 28ms/step - loss: 4.2047e-04 - mae: 0.0176\n",
            "Epoch 868/1200\n",
            "1/1 [==============================] - 0s 17ms/step - loss: 4.1763e-04 - mae: 0.0175\n",
            "Epoch 869/1200\n",
            "1/1 [==============================] - 0s 30ms/step - loss: 4.1481e-04 - mae: 0.0175\n",
            "Epoch 870/1200\n",
            "1/1 [==============================] - 0s 25ms/step - loss: 4.1201e-04 - mae: 0.0174\n",
            "Epoch 871/1200\n",
            "1/1 [==============================] - 0s 21ms/step - loss: 4.0923e-04 - mae: 0.0174\n",
            "Epoch 872/1200\n",
            "1/1 [==============================] - 0s 18ms/step - loss: 4.0647e-04 - mae: 0.0173\n",
            "Epoch 873/1200\n",
            "1/1 [==============================] - 0s 31ms/step - loss: 4.0372e-04 - mae: 0.0172\n",
            "Epoch 874/1200\n",
            "1/1 [==============================] - 0s 17ms/step - loss: 4.0100e-04 - mae: 0.0172\n",
            "Epoch 875/1200\n",
            "1/1 [==============================] - 0s 14ms/step - loss: 3.9829e-04 - mae: 0.0171\n",
            "Epoch 876/1200\n",
            "1/1 [==============================] - 0s 23ms/step - loss: 3.9560e-04 - mae: 0.0171\n",
            "Epoch 877/1200\n",
            "1/1 [==============================] - 0s 14ms/step - loss: 3.9293e-04 - mae: 0.0170\n",
            "Epoch 878/1200\n",
            "1/1 [==============================] - 0s 55ms/step - loss: 3.9028e-04 - mae: 0.0170\n",
            "Epoch 879/1200\n",
            "1/1 [==============================] - 0s 13ms/step - loss: 3.8765e-04 - mae: 0.0169\n",
            "Epoch 880/1200\n",
            "1/1 [==============================] - 0s 37ms/step - loss: 3.8503e-04 - mae: 0.0168\n",
            "Epoch 881/1200\n",
            "1/1 [==============================] - 0s 42ms/step - loss: 3.8242e-04 - mae: 0.0168\n",
            "Epoch 882/1200\n",
            "1/1 [==============================] - 0s 78ms/step - loss: 3.7985e-04 - mae: 0.0167\n",
            "Epoch 883/1200\n",
            "1/1 [==============================] - 0s 31ms/step - loss: 3.7728e-04 - mae: 0.0167\n",
            "Epoch 884/1200\n",
            "1/1 [==============================] - 0s 35ms/step - loss: 3.7473e-04 - mae: 0.0166\n",
            "Epoch 885/1200\n",
            "1/1 [==============================] - 0s 22ms/step - loss: 3.7220e-04 - mae: 0.0166\n",
            "Epoch 886/1200\n",
            "1/1 [==============================] - 0s 21ms/step - loss: 3.6971e-04 - mae: 0.0165\n",
            "Epoch 887/1200\n",
            "1/1 [==============================] - 0s 13ms/step - loss: 3.6720e-04 - mae: 0.0164\n",
            "Epoch 888/1200\n",
            "1/1 [==============================] - 0s 18ms/step - loss: 3.6472e-04 - mae: 0.0164\n",
            "Epoch 889/1200\n",
            "1/1 [==============================] - 0s 29ms/step - loss: 3.6225e-04 - mae: 0.0163\n",
            "Epoch 890/1200\n",
            "1/1 [==============================] - 0s 14ms/step - loss: 3.5982e-04 - mae: 0.0163\n",
            "Epoch 891/1200\n",
            "1/1 [==============================] - 0s 20ms/step - loss: 3.5740e-04 - mae: 0.0162\n",
            "Epoch 892/1200\n",
            "1/1 [==============================] - 0s 19ms/step - loss: 3.5497e-04 - mae: 0.0162\n",
            "Epoch 893/1200\n",
            "1/1 [==============================] - 0s 14ms/step - loss: 3.5257e-04 - mae: 0.0161\n",
            "Epoch 894/1200\n",
            "1/1 [==============================] - 0s 30ms/step - loss: 3.5019e-04 - mae: 0.0161\n",
            "Epoch 895/1200\n",
            "1/1 [==============================] - 0s 20ms/step - loss: 3.4784e-04 - mae: 0.0160\n",
            "Epoch 896/1200\n",
            "1/1 [==============================] - 0s 22ms/step - loss: 3.4550e-04 - mae: 0.0160\n",
            "Epoch 897/1200\n",
            "1/1 [==============================] - 0s 20ms/step - loss: 3.4316e-04 - mae: 0.0159\n",
            "Epoch 898/1200\n",
            "1/1 [==============================] - 0s 17ms/step - loss: 3.4084e-04 - mae: 0.0158\n",
            "Epoch 899/1200\n",
            "1/1 [==============================] - 0s 12ms/step - loss: 3.3854e-04 - mae: 0.0158\n",
            "Epoch 900/1200\n",
            "1/1 [==============================] - 0s 18ms/step - loss: 3.3627e-04 - mae: 0.0157\n",
            "Epoch 901/1200\n",
            "1/1 [==============================] - 0s 19ms/step - loss: 3.3398e-04 - mae: 0.0157\n",
            "Epoch 902/1200\n",
            "1/1 [==============================] - 0s 44ms/step - loss: 3.3173e-04 - mae: 0.0156\n",
            "Epoch 903/1200\n",
            "1/1 [==============================] - 0s 16ms/step - loss: 3.2948e-04 - mae: 0.0156\n",
            "Epoch 904/1200\n",
            "1/1 [==============================] - 0s 28ms/step - loss: 3.2727e-04 - mae: 0.0155\n",
            "Epoch 905/1200\n",
            "1/1 [==============================] - 0s 24ms/step - loss: 3.2505e-04 - mae: 0.0155\n",
            "Epoch 906/1200\n",
            "1/1 [==============================] - 0s 25ms/step - loss: 3.2285e-04 - mae: 0.0154\n",
            "Epoch 907/1200\n",
            "1/1 [==============================] - 0s 31ms/step - loss: 3.2068e-04 - mae: 0.0154\n",
            "Epoch 908/1200\n",
            "1/1 [==============================] - 0s 13ms/step - loss: 3.1851e-04 - mae: 0.0153\n",
            "Epoch 909/1200\n",
            "1/1 [==============================] - 0s 32ms/step - loss: 3.1637e-04 - mae: 0.0153\n",
            "Epoch 910/1200\n",
            "1/1 [==============================] - 0s 22ms/step - loss: 3.1423e-04 - mae: 0.0152\n",
            "Epoch 911/1200\n",
            "1/1 [==============================] - 0s 14ms/step - loss: 3.1211e-04 - mae: 0.0152\n",
            "Epoch 912/1200\n",
            "1/1 [==============================] - 0s 25ms/step - loss: 3.1000e-04 - mae: 0.0151\n",
            "Epoch 913/1200\n",
            "1/1 [==============================] - 0s 14ms/step - loss: 3.0792e-04 - mae: 0.0151\n",
            "Epoch 914/1200\n",
            "1/1 [==============================] - 0s 35ms/step - loss: 3.0583e-04 - mae: 0.0150\n",
            "Epoch 915/1200\n",
            "1/1 [==============================] - 0s 20ms/step - loss: 3.0377e-04 - mae: 0.0150\n",
            "Epoch 916/1200\n",
            "1/1 [==============================] - 0s 19ms/step - loss: 3.0173e-04 - mae: 0.0149\n",
            "Epoch 917/1200\n",
            "1/1 [==============================] - 0s 15ms/step - loss: 2.9968e-04 - mae: 0.0149\n",
            "Epoch 918/1200\n",
            "1/1 [==============================] - 0s 26ms/step - loss: 2.9766e-04 - mae: 0.0148\n",
            "Epoch 919/1200\n",
            "1/1 [==============================] - 0s 20ms/step - loss: 2.9566e-04 - mae: 0.0148\n",
            "Epoch 920/1200\n",
            "1/1 [==============================] - 0s 13ms/step - loss: 2.9365e-04 - mae: 0.0147\n",
            "Epoch 921/1200\n",
            "1/1 [==============================] - 0s 18ms/step - loss: 2.9166e-04 - mae: 0.0147\n",
            "Epoch 922/1200\n",
            "1/1 [==============================] - 0s 33ms/step - loss: 2.8970e-04 - mae: 0.0146\n",
            "Epoch 923/1200\n",
            "1/1 [==============================] - 0s 63ms/step - loss: 2.8775e-04 - mae: 0.0146\n",
            "Epoch 924/1200\n",
            "1/1 [==============================] - 0s 12ms/step - loss: 2.8581e-04 - mae: 0.0145\n",
            "Epoch 925/1200\n",
            "1/1 [==============================] - 0s 70ms/step - loss: 2.8387e-04 - mae: 0.0145\n",
            "Epoch 926/1200\n",
            "1/1 [==============================] - 0s 28ms/step - loss: 2.8196e-04 - mae: 0.0144\n",
            "Epoch 927/1200\n",
            "1/1 [==============================] - 0s 11ms/step - loss: 2.8006e-04 - mae: 0.0144\n",
            "Epoch 928/1200\n",
            "1/1 [==============================] - 0s 21ms/step - loss: 2.7816e-04 - mae: 0.0143\n",
            "Epoch 929/1200\n",
            "1/1 [==============================] - 0s 14ms/step - loss: 2.7629e-04 - mae: 0.0143\n",
            "Epoch 930/1200\n",
            "1/1 [==============================] - 0s 16ms/step - loss: 2.7443e-04 - mae: 0.0142\n",
            "Epoch 931/1200\n",
            "1/1 [==============================] - 0s 15ms/step - loss: 2.7257e-04 - mae: 0.0142\n",
            "Epoch 932/1200\n",
            "1/1 [==============================] - 0s 20ms/step - loss: 2.7073e-04 - mae: 0.0141\n",
            "Epoch 933/1200\n",
            "1/1 [==============================] - 0s 23ms/step - loss: 2.6890e-04 - mae: 0.0141\n",
            "Epoch 934/1200\n",
            "1/1 [==============================] - 0s 34ms/step - loss: 2.6709e-04 - mae: 0.0140\n",
            "Epoch 935/1200\n",
            "1/1 [==============================] - 0s 15ms/step - loss: 2.6528e-04 - mae: 0.0140\n",
            "Epoch 936/1200\n",
            "1/1 [==============================] - 0s 19ms/step - loss: 2.6349e-04 - mae: 0.0139\n",
            "Epoch 937/1200\n",
            "1/1 [==============================] - 0s 22ms/step - loss: 2.6171e-04 - mae: 0.0139\n",
            "Epoch 938/1200\n",
            "1/1 [==============================] - 0s 12ms/step - loss: 2.5995e-04 - mae: 0.0138\n",
            "Epoch 939/1200\n",
            "1/1 [==============================] - 0s 14ms/step - loss: 2.5820e-04 - mae: 0.0138\n",
            "Epoch 940/1200\n",
            "1/1 [==============================] - 0s 10ms/step - loss: 2.5645e-04 - mae: 0.0137\n",
            "Epoch 941/1200\n",
            "1/1 [==============================] - 0s 19ms/step - loss: 2.5472e-04 - mae: 0.0137\n",
            "Epoch 942/1200\n",
            "1/1 [==============================] - 0s 20ms/step - loss: 2.5300e-04 - mae: 0.0137\n",
            "Epoch 943/1200\n",
            "1/1 [==============================] - 0s 15ms/step - loss: 2.5129e-04 - mae: 0.0136\n",
            "Epoch 944/1200\n",
            "1/1 [==============================] - 0s 21ms/step - loss: 2.4960e-04 - mae: 0.0136\n",
            "Epoch 945/1200\n",
            "1/1 [==============================] - 0s 18ms/step - loss: 2.4792e-04 - mae: 0.0135\n",
            "Epoch 946/1200\n",
            "1/1 [==============================] - 0s 13ms/step - loss: 2.4623e-04 - mae: 0.0135\n",
            "Epoch 947/1200\n",
            "1/1 [==============================] - 0s 15ms/step - loss: 2.4458e-04 - mae: 0.0134\n",
            "Epoch 948/1200\n",
            "1/1 [==============================] - 0s 16ms/step - loss: 2.4291e-04 - mae: 0.0134\n",
            "Epoch 949/1200\n",
            "1/1 [==============================] - 0s 32ms/step - loss: 2.4129e-04 - mae: 0.0133\n",
            "Epoch 950/1200\n",
            "1/1 [==============================] - 0s 13ms/step - loss: 2.3965e-04 - mae: 0.0133\n",
            "Epoch 951/1200\n",
            "1/1 [==============================] - 0s 21ms/step - loss: 2.3803e-04 - mae: 0.0132\n",
            "Epoch 952/1200\n",
            "1/1 [==============================] - 0s 18ms/step - loss: 2.3644e-04 - mae: 0.0132\n",
            "Epoch 953/1200\n",
            "1/1 [==============================] - 0s 19ms/step - loss: 2.3483e-04 - mae: 0.0132\n",
            "Epoch 954/1200\n",
            "1/1 [==============================] - 0s 20ms/step - loss: 2.3325e-04 - mae: 0.0131\n",
            "Epoch 955/1200\n",
            "1/1 [==============================] - 0s 17ms/step - loss: 2.3168e-04 - mae: 0.0131\n",
            "Epoch 956/1200\n",
            "1/1 [==============================] - 0s 14ms/step - loss: 2.3011e-04 - mae: 0.0130\n",
            "Epoch 957/1200\n",
            "1/1 [==============================] - 0s 14ms/step - loss: 2.2856e-04 - mae: 0.0130\n",
            "Epoch 958/1200\n",
            "1/1 [==============================] - 0s 28ms/step - loss: 2.2702e-04 - mae: 0.0129\n",
            "Epoch 959/1200\n",
            "1/1 [==============================] - 0s 14ms/step - loss: 2.2547e-04 - mae: 0.0129\n",
            "Epoch 960/1200\n",
            "1/1 [==============================] - 0s 8ms/step - loss: 2.2396e-04 - mae: 0.0128\n",
            "Epoch 961/1200\n",
            "1/1 [==============================] - 0s 26ms/step - loss: 2.2244e-04 - mae: 0.0128\n",
            "Epoch 962/1200\n",
            "1/1 [==============================] - 0s 15ms/step - loss: 2.2094e-04 - mae: 0.0128\n",
            "Epoch 963/1200\n",
            "1/1 [==============================] - 0s 15ms/step - loss: 2.1946e-04 - mae: 0.0127\n",
            "Epoch 964/1200\n",
            "1/1 [==============================] - 0s 18ms/step - loss: 2.1797e-04 - mae: 0.0127\n",
            "Epoch 965/1200\n",
            "1/1 [==============================] - 0s 12ms/step - loss: 2.1650e-04 - mae: 0.0126\n",
            "Epoch 966/1200\n",
            "1/1 [==============================] - 0s 12ms/step - loss: 2.1504e-04 - mae: 0.0126\n",
            "Epoch 967/1200\n",
            "1/1 [==============================] - 0s 8ms/step - loss: 2.1359e-04 - mae: 0.0125\n",
            "Epoch 968/1200\n",
            "1/1 [==============================] - 0s 11ms/step - loss: 2.1215e-04 - mae: 0.0125\n",
            "Epoch 969/1200\n",
            "1/1 [==============================] - 0s 8ms/step - loss: 2.1071e-04 - mae: 0.0125\n",
            "Epoch 970/1200\n",
            "1/1 [==============================] - 0s 12ms/step - loss: 2.0929e-04 - mae: 0.0124\n",
            "Epoch 971/1200\n",
            "1/1 [==============================] - 0s 13ms/step - loss: 2.0788e-04 - mae: 0.0124\n",
            "Epoch 972/1200\n",
            "1/1 [==============================] - 0s 14ms/step - loss: 2.0648e-04 - mae: 0.0123\n",
            "Epoch 973/1200\n",
            "1/1 [==============================] - 0s 8ms/step - loss: 2.0508e-04 - mae: 0.0123\n",
            "Epoch 974/1200\n",
            "1/1 [==============================] - 0s 11ms/step - loss: 2.0370e-04 - mae: 0.0123\n",
            "Epoch 975/1200\n",
            "1/1 [==============================] - 0s 12ms/step - loss: 2.0232e-04 - mae: 0.0122\n",
            "Epoch 976/1200\n",
            "1/1 [==============================] - 0s 14ms/step - loss: 2.0095e-04 - mae: 0.0122\n",
            "Epoch 977/1200\n",
            "1/1 [==============================] - 0s 12ms/step - loss: 1.9960e-04 - mae: 0.0121\n",
            "Epoch 978/1200\n",
            "1/1 [==============================] - 0s 14ms/step - loss: 1.9826e-04 - mae: 0.0121\n",
            "Epoch 979/1200\n",
            "1/1 [==============================] - 0s 21ms/step - loss: 1.9691e-04 - mae: 0.0120\n",
            "Epoch 980/1200\n",
            "1/1 [==============================] - 0s 11ms/step - loss: 1.9559e-04 - mae: 0.0120\n",
            "Epoch 981/1200\n",
            "1/1 [==============================] - 0s 8ms/step - loss: 1.9426e-04 - mae: 0.0120\n",
            "Epoch 982/1200\n",
            "1/1 [==============================] - 0s 16ms/step - loss: 1.9295e-04 - mae: 0.0119\n",
            "Epoch 983/1200\n",
            "1/1 [==============================] - 0s 8ms/step - loss: 1.9164e-04 - mae: 0.0119\n",
            "Epoch 984/1200\n",
            "1/1 [==============================] - 0s 24ms/step - loss: 1.9036e-04 - mae: 0.0118\n",
            "Epoch 985/1200\n",
            "1/1 [==============================] - 0s 9ms/step - loss: 1.8907e-04 - mae: 0.0118\n",
            "Epoch 986/1200\n",
            "1/1 [==============================] - 0s 9ms/step - loss: 1.8779e-04 - mae: 0.0118\n",
            "Epoch 987/1200\n",
            "1/1 [==============================] - 0s 14ms/step - loss: 1.8653e-04 - mae: 0.0117\n",
            "Epoch 988/1200\n",
            "1/1 [==============================] - 0s 7ms/step - loss: 1.8527e-04 - mae: 0.0117\n",
            "Epoch 989/1200\n",
            "1/1 [==============================] - 0s 14ms/step - loss: 1.8402e-04 - mae: 0.0116\n",
            "Epoch 990/1200\n",
            "1/1 [==============================] - 0s 13ms/step - loss: 1.8278e-04 - mae: 0.0116\n",
            "Epoch 991/1200\n",
            "1/1 [==============================] - 0s 13ms/step - loss: 1.8154e-04 - mae: 0.0116\n",
            "Epoch 992/1200\n",
            "1/1 [==============================] - 0s 10ms/step - loss: 1.8032e-04 - mae: 0.0115\n",
            "Epoch 993/1200\n",
            "1/1 [==============================] - 0s 32ms/step - loss: 1.7910e-04 - mae: 0.0115\n",
            "Epoch 994/1200\n",
            "1/1 [==============================] - 0s 23ms/step - loss: 1.7789e-04 - mae: 0.0114\n",
            "Epoch 995/1200\n",
            "1/1 [==============================] - 0s 11ms/step - loss: 1.7669e-04 - mae: 0.0114\n",
            "Epoch 996/1200\n",
            "1/1 [==============================] - 0s 14ms/step - loss: 1.7549e-04 - mae: 0.0114\n",
            "Epoch 997/1200\n",
            "1/1 [==============================] - 0s 7ms/step - loss: 1.7430e-04 - mae: 0.0113\n",
            "Epoch 998/1200\n",
            "1/1 [==============================] - 0s 9ms/step - loss: 1.7313e-04 - mae: 0.0113\n",
            "Epoch 999/1200\n",
            "1/1 [==============================] - 0s 11ms/step - loss: 1.7196e-04 - mae: 0.0113\n",
            "Epoch 1000/1200\n",
            "1/1 [==============================] - 0s 13ms/step - loss: 1.7080e-04 - mae: 0.0112\n",
            "Epoch 1001/1200\n",
            "1/1 [==============================] - 0s 13ms/step - loss: 1.6965e-04 - mae: 0.0112\n",
            "Epoch 1002/1200\n",
            "1/1 [==============================] - 0s 16ms/step - loss: 1.6850e-04 - mae: 0.0111\n",
            "Epoch 1003/1200\n",
            "1/1 [==============================] - 0s 10ms/step - loss: 1.6736e-04 - mae: 0.0111\n",
            "Epoch 1004/1200\n",
            "1/1 [==============================] - 0s 14ms/step - loss: 1.6624e-04 - mae: 0.0111\n",
            "Epoch 1005/1200\n",
            "1/1 [==============================] - 0s 16ms/step - loss: 1.6512e-04 - mae: 0.0110\n",
            "Epoch 1006/1200\n",
            "1/1 [==============================] - 0s 12ms/step - loss: 1.6400e-04 - mae: 0.0110\n",
            "Epoch 1007/1200\n",
            "1/1 [==============================] - 0s 28ms/step - loss: 1.6289e-04 - mae: 0.0110\n",
            "Epoch 1008/1200\n",
            "1/1 [==============================] - 0s 18ms/step - loss: 1.6180e-04 - mae: 0.0109\n",
            "Epoch 1009/1200\n",
            "1/1 [==============================] - 0s 13ms/step - loss: 1.6071e-04 - mae: 0.0109\n",
            "Epoch 1010/1200\n",
            "1/1 [==============================] - 0s 8ms/step - loss: 1.5962e-04 - mae: 0.0108\n",
            "Epoch 1011/1200\n",
            "1/1 [==============================] - 0s 12ms/step - loss: 1.5854e-04 - mae: 0.0108\n",
            "Epoch 1012/1200\n",
            "1/1 [==============================] - 0s 10ms/step - loss: 1.5747e-04 - mae: 0.0108\n",
            "Epoch 1013/1200\n",
            "1/1 [==============================] - 0s 9ms/step - loss: 1.5641e-04 - mae: 0.0107\n",
            "Epoch 1014/1200\n",
            "1/1 [==============================] - 0s 10ms/step - loss: 1.5536e-04 - mae: 0.0107\n",
            "Epoch 1015/1200\n",
            "1/1 [==============================] - 0s 21ms/step - loss: 1.5430e-04 - mae: 0.0107\n",
            "Epoch 1016/1200\n",
            "1/1 [==============================] - 0s 11ms/step - loss: 1.5326e-04 - mae: 0.0106\n",
            "Epoch 1017/1200\n",
            "1/1 [==============================] - 0s 14ms/step - loss: 1.5223e-04 - mae: 0.0106\n",
            "Epoch 1018/1200\n",
            "1/1 [==============================] - 0s 14ms/step - loss: 1.5120e-04 - mae: 0.0106\n",
            "Epoch 1019/1200\n",
            "1/1 [==============================] - 0s 17ms/step - loss: 1.5017e-04 - mae: 0.0105\n",
            "Epoch 1020/1200\n",
            "1/1 [==============================] - 0s 15ms/step - loss: 1.4916e-04 - mae: 0.0105\n",
            "Epoch 1021/1200\n",
            "1/1 [==============================] - 0s 54ms/step - loss: 1.4816e-04 - mae: 0.0104\n",
            "Epoch 1022/1200\n",
            "1/1 [==============================] - 0s 124ms/step - loss: 1.4715e-04 - mae: 0.0104\n",
            "Epoch 1023/1200\n",
            "1/1 [==============================] - 0s 16ms/step - loss: 1.4616e-04 - mae: 0.0104\n",
            "Epoch 1024/1200\n",
            "1/1 [==============================] - 0s 13ms/step - loss: 1.4517e-04 - mae: 0.0103\n",
            "Epoch 1025/1200\n",
            "1/1 [==============================] - 0s 11ms/step - loss: 1.4419e-04 - mae: 0.0103\n",
            "Epoch 1026/1200\n",
            "1/1 [==============================] - 0s 26ms/step - loss: 1.4322e-04 - mae: 0.0103\n",
            "Epoch 1027/1200\n",
            "1/1 [==============================] - 0s 11ms/step - loss: 1.4226e-04 - mae: 0.0102\n",
            "Epoch 1028/1200\n",
            "1/1 [==============================] - 0s 7ms/step - loss: 1.4129e-04 - mae: 0.0102\n",
            "Epoch 1029/1200\n",
            "1/1 [==============================] - 0s 13ms/step - loss: 1.4034e-04 - mae: 0.0102\n",
            "Epoch 1030/1200\n",
            "1/1 [==============================] - 0s 20ms/step - loss: 1.3939e-04 - mae: 0.0101\n",
            "Epoch 1031/1200\n",
            "1/1 [==============================] - 0s 15ms/step - loss: 1.3845e-04 - mae: 0.0101\n",
            "Epoch 1032/1200\n",
            "1/1 [==============================] - 0s 11ms/step - loss: 1.3752e-04 - mae: 0.0101\n",
            "Epoch 1033/1200\n",
            "1/1 [==============================] - 0s 17ms/step - loss: 1.3658e-04 - mae: 0.0100\n",
            "Epoch 1034/1200\n",
            "1/1 [==============================] - 0s 19ms/step - loss: 1.3566e-04 - mae: 0.0100\n",
            "Epoch 1035/1200\n",
            "1/1 [==============================] - 0s 17ms/step - loss: 1.3475e-04 - mae: 0.0100\n",
            "Epoch 1036/1200\n",
            "1/1 [==============================] - 0s 22ms/step - loss: 1.3384e-04 - mae: 0.0099\n",
            "Epoch 1037/1200\n",
            "1/1 [==============================] - 0s 15ms/step - loss: 1.3294e-04 - mae: 0.0099\n",
            "Epoch 1038/1200\n",
            "1/1 [==============================] - 0s 16ms/step - loss: 1.3204e-04 - mae: 0.0099\n",
            "Epoch 1039/1200\n",
            "1/1 [==============================] - 0s 29ms/step - loss: 1.3115e-04 - mae: 0.0098\n",
            "Epoch 1040/1200\n",
            "1/1 [==============================] - 0s 19ms/step - loss: 1.3026e-04 - mae: 0.0098\n",
            "Epoch 1041/1200\n",
            "1/1 [==============================] - 0s 19ms/step - loss: 1.2939e-04 - mae: 0.0098\n",
            "Epoch 1042/1200\n",
            "1/1 [==============================] - 0s 12ms/step - loss: 1.2851e-04 - mae: 0.0097\n",
            "Epoch 1043/1200\n",
            "1/1 [==============================] - 0s 13ms/step - loss: 1.2764e-04 - mae: 0.0097\n",
            "Epoch 1044/1200\n",
            "1/1 [==============================] - 0s 19ms/step - loss: 1.2678e-04 - mae: 0.0097\n",
            "Epoch 1045/1200\n",
            "1/1 [==============================] - 0s 13ms/step - loss: 1.2592e-04 - mae: 0.0096\n",
            "Epoch 1046/1200\n",
            "1/1 [==============================] - 0s 10ms/step - loss: 1.2507e-04 - mae: 0.0096\n",
            "Epoch 1047/1200\n",
            "1/1 [==============================] - 0s 11ms/step - loss: 1.2423e-04 - mae: 0.0096\n",
            "Epoch 1048/1200\n",
            "1/1 [==============================] - 0s 16ms/step - loss: 1.2339e-04 - mae: 0.0095\n",
            "Epoch 1049/1200\n",
            "1/1 [==============================] - 0s 14ms/step - loss: 1.2255e-04 - mae: 0.0095\n",
            "Epoch 1050/1200\n",
            "1/1 [==============================] - 0s 28ms/step - loss: 1.2173e-04 - mae: 0.0095\n",
            "Epoch 1051/1200\n",
            "1/1 [==============================] - 0s 11ms/step - loss: 1.2091e-04 - mae: 0.0094\n",
            "Epoch 1052/1200\n",
            "1/1 [==============================] - 0s 11ms/step - loss: 1.2009e-04 - mae: 0.0094\n",
            "Epoch 1053/1200\n",
            "1/1 [==============================] - 0s 18ms/step - loss: 1.1928e-04 - mae: 0.0094\n",
            "Epoch 1054/1200\n",
            "1/1 [==============================] - 0s 11ms/step - loss: 1.1848e-04 - mae: 0.0093\n",
            "Epoch 1055/1200\n",
            "1/1 [==============================] - 0s 7ms/step - loss: 1.1768e-04 - mae: 0.0093\n",
            "Epoch 1056/1200\n",
            "1/1 [==============================] - 0s 13ms/step - loss: 1.1689e-04 - mae: 0.0093\n",
            "Epoch 1057/1200\n",
            "1/1 [==============================] - 0s 17ms/step - loss: 1.1610e-04 - mae: 0.0092\n",
            "Epoch 1058/1200\n",
            "1/1 [==============================] - 0s 8ms/step - loss: 1.1531e-04 - mae: 0.0092\n",
            "Epoch 1059/1200\n",
            "1/1 [==============================] - 0s 12ms/step - loss: 1.1453e-04 - mae: 0.0092\n",
            "Epoch 1060/1200\n",
            "1/1 [==============================] - 0s 20ms/step - loss: 1.1375e-04 - mae: 0.0092\n",
            "Epoch 1061/1200\n",
            "1/1 [==============================] - 0s 12ms/step - loss: 1.1299e-04 - mae: 0.0091\n",
            "Epoch 1062/1200\n",
            "1/1 [==============================] - 0s 27ms/step - loss: 1.1222e-04 - mae: 0.0091\n",
            "Epoch 1063/1200\n",
            "1/1 [==============================] - 0s 16ms/step - loss: 1.1147e-04 - mae: 0.0091\n",
            "Epoch 1064/1200\n",
            "1/1 [==============================] - 0s 12ms/step - loss: 1.1072e-04 - mae: 0.0090\n",
            "Epoch 1065/1200\n",
            "1/1 [==============================] - 0s 13ms/step - loss: 1.0997e-04 - mae: 0.0090\n",
            "Epoch 1066/1200\n",
            "1/1 [==============================] - 0s 13ms/step - loss: 1.0923e-04 - mae: 0.0090\n",
            "Epoch 1067/1200\n",
            "1/1 [==============================] - 0s 10ms/step - loss: 1.0849e-04 - mae: 0.0089\n",
            "Epoch 1068/1200\n",
            "1/1 [==============================] - 0s 21ms/step - loss: 1.0776e-04 - mae: 0.0089\n",
            "Epoch 1069/1200\n",
            "1/1 [==============================] - 0s 8ms/step - loss: 1.0704e-04 - mae: 0.0089\n",
            "Epoch 1070/1200\n",
            "1/1 [==============================] - 0s 13ms/step - loss: 1.0631e-04 - mae: 0.0088\n",
            "Epoch 1071/1200\n",
            "1/1 [==============================] - 0s 11ms/step - loss: 1.0559e-04 - mae: 0.0088\n",
            "Epoch 1072/1200\n",
            "1/1 [==============================] - 0s 11ms/step - loss: 1.0488e-04 - mae: 0.0088\n",
            "Epoch 1073/1200\n",
            "1/1 [==============================] - 0s 12ms/step - loss: 1.0417e-04 - mae: 0.0088\n",
            "Epoch 1074/1200\n",
            "1/1 [==============================] - 0s 14ms/step - loss: 1.0347e-04 - mae: 0.0087\n",
            "Epoch 1075/1200\n",
            "1/1 [==============================] - 0s 12ms/step - loss: 1.0277e-04 - mae: 0.0087\n",
            "Epoch 1076/1200\n",
            "1/1 [==============================] - 0s 11ms/step - loss: 1.0208e-04 - mae: 0.0087\n",
            "Epoch 1077/1200\n",
            "1/1 [==============================] - 0s 17ms/step - loss: 1.0139e-04 - mae: 0.0086\n",
            "Epoch 1078/1200\n",
            "1/1 [==============================] - 0s 9ms/step - loss: 1.0070e-04 - mae: 0.0086\n",
            "Epoch 1079/1200\n",
            "1/1 [==============================] - 0s 39ms/step - loss: 1.0002e-04 - mae: 0.0086\n",
            "Epoch 1080/1200\n",
            "1/1 [==============================] - 0s 29ms/step - loss: 9.9349e-05 - mae: 0.0086\n",
            "Epoch 1081/1200\n",
            "1/1 [==============================] - 0s 33ms/step - loss: 9.8677e-05 - mae: 0.0085\n",
            "Epoch 1082/1200\n",
            "1/1 [==============================] - 0s 20ms/step - loss: 9.8011e-05 - mae: 0.0085\n",
            "Epoch 1083/1200\n",
            "1/1 [==============================] - 0s 17ms/step - loss: 9.7354e-05 - mae: 0.0085\n",
            "Epoch 1084/1200\n",
            "1/1 [==============================] - 0s 21ms/step - loss: 9.6697e-05 - mae: 0.0084\n",
            "Epoch 1085/1200\n",
            "1/1 [==============================] - 0s 21ms/step - loss: 9.6044e-05 - mae: 0.0084\n",
            "Epoch 1086/1200\n",
            "1/1 [==============================] - 0s 56ms/step - loss: 9.5393e-05 - mae: 0.0084\n",
            "Epoch 1087/1200\n",
            "1/1 [==============================] - 0s 16ms/step - loss: 9.4745e-05 - mae: 0.0084\n",
            "Epoch 1088/1200\n",
            "1/1 [==============================] - 0s 57ms/step - loss: 9.4113e-05 - mae: 0.0083\n",
            "Epoch 1089/1200\n",
            "1/1 [==============================] - 0s 92ms/step - loss: 9.3473e-05 - mae: 0.0083\n",
            "Epoch 1090/1200\n",
            "1/1 [==============================] - 0s 12ms/step - loss: 9.2846e-05 - mae: 0.0083\n",
            "Epoch 1091/1200\n",
            "1/1 [==============================] - 0s 17ms/step - loss: 9.2212e-05 - mae: 0.0082\n",
            "Epoch 1092/1200\n",
            "1/1 [==============================] - 0s 14ms/step - loss: 9.1593e-05 - mae: 0.0082\n",
            "Epoch 1093/1200\n",
            "1/1 [==============================] - 0s 24ms/step - loss: 9.0973e-05 - mae: 0.0082\n",
            "Epoch 1094/1200\n",
            "1/1 [==============================] - 0s 78ms/step - loss: 9.0358e-05 - mae: 0.0082\n",
            "Epoch 1095/1200\n",
            "1/1 [==============================] - 0s 34ms/step - loss: 8.9755e-05 - mae: 0.0081\n",
            "Epoch 1096/1200\n",
            "1/1 [==============================] - 0s 25ms/step - loss: 8.9149e-05 - mae: 0.0081\n",
            "Epoch 1097/1200\n",
            "1/1 [==============================] - 0s 11ms/step - loss: 8.8546e-05 - mae: 0.0081\n",
            "Epoch 1098/1200\n",
            "1/1 [==============================] - 0s 15ms/step - loss: 8.7944e-05 - mae: 0.0080\n",
            "Epoch 1099/1200\n",
            "1/1 [==============================] - 0s 18ms/step - loss: 8.7355e-05 - mae: 0.0080\n",
            "Epoch 1100/1200\n",
            "1/1 [==============================] - 0s 17ms/step - loss: 8.6759e-05 - mae: 0.0080\n",
            "Epoch 1101/1200\n",
            "1/1 [==============================] - 0s 15ms/step - loss: 8.6180e-05 - mae: 0.0080\n",
            "Epoch 1102/1200\n",
            "1/1 [==============================] - 0s 56ms/step - loss: 8.5594e-05 - mae: 0.0079\n",
            "Epoch 1103/1200\n",
            "1/1 [==============================] - 0s 9ms/step - loss: 8.5021e-05 - mae: 0.0079\n",
            "Epoch 1104/1200\n",
            "1/1 [==============================] - 0s 13ms/step - loss: 8.4446e-05 - mae: 0.0079\n",
            "Epoch 1105/1200\n",
            "1/1 [==============================] - 0s 16ms/step - loss: 8.3874e-05 - mae: 0.0079\n",
            "Epoch 1106/1200\n",
            "1/1 [==============================] - 0s 20ms/step - loss: 8.3313e-05 - mae: 0.0078\n",
            "Epoch 1107/1200\n",
            "1/1 [==============================] - 0s 18ms/step - loss: 8.2739e-05 - mae: 0.0078\n",
            "Epoch 1108/1200\n",
            "1/1 [==============================] - 0s 26ms/step - loss: 8.2187e-05 - mae: 0.0078\n",
            "Epoch 1109/1200\n",
            "1/1 [==============================] - 0s 27ms/step - loss: 8.1631e-05 - mae: 0.0078\n",
            "Epoch 1110/1200\n",
            "1/1 [==============================] - 0s 16ms/step - loss: 8.1084e-05 - mae: 0.0077\n",
            "Epoch 1111/1200\n",
            "1/1 [==============================] - 0s 16ms/step - loss: 8.0532e-05 - mae: 0.0077\n",
            "Epoch 1112/1200\n",
            "1/1 [==============================] - 0s 17ms/step - loss: 7.9985e-05 - mae: 0.0077\n",
            "Epoch 1113/1200\n",
            "1/1 [==============================] - 0s 7ms/step - loss: 7.9444e-05 - mae: 0.0077\n",
            "Epoch 1114/1200\n",
            "1/1 [==============================] - 0s 62ms/step - loss: 7.8917e-05 - mae: 0.0076\n",
            "Epoch 1115/1200\n",
            "1/1 [==============================] - 0s 21ms/step - loss: 7.8378e-05 - mae: 0.0076\n",
            "Epoch 1116/1200\n",
            "1/1 [==============================] - 0s 21ms/step - loss: 7.7845e-05 - mae: 0.0076\n",
            "Epoch 1117/1200\n",
            "1/1 [==============================] - 0s 18ms/step - loss: 7.7321e-05 - mae: 0.0075\n",
            "Epoch 1118/1200\n",
            "1/1 [==============================] - 0s 16ms/step - loss: 7.6798e-05 - mae: 0.0075\n",
            "Epoch 1119/1200\n",
            "1/1 [==============================] - 0s 18ms/step - loss: 7.6282e-05 - mae: 0.0075\n",
            "Epoch 1120/1200\n",
            "1/1 [==============================] - 0s 15ms/step - loss: 7.5771e-05 - mae: 0.0075\n",
            "Epoch 1121/1200\n",
            "1/1 [==============================] - 0s 13ms/step - loss: 7.5258e-05 - mae: 0.0074\n",
            "Epoch 1122/1200\n",
            "1/1 [==============================] - 0s 22ms/step - loss: 7.4749e-05 - mae: 0.0074\n",
            "Epoch 1123/1200\n",
            "1/1 [==============================] - 0s 15ms/step - loss: 7.4245e-05 - mae: 0.0074\n",
            "Epoch 1124/1200\n",
            "1/1 [==============================] - 0s 14ms/step - loss: 7.3739e-05 - mae: 0.0074\n",
            "Epoch 1125/1200\n",
            "1/1 [==============================] - 0s 14ms/step - loss: 7.3241e-05 - mae: 0.0073\n",
            "Epoch 1126/1200\n",
            "1/1 [==============================] - 0s 10ms/step - loss: 7.2743e-05 - mae: 0.0073\n",
            "Epoch 1127/1200\n",
            "1/1 [==============================] - 0s 15ms/step - loss: 7.2260e-05 - mae: 0.0073\n",
            "Epoch 1128/1200\n",
            "1/1 [==============================] - 0s 11ms/step - loss: 7.1768e-05 - mae: 0.0073\n",
            "Epoch 1129/1200\n",
            "1/1 [==============================] - 0s 11ms/step - loss: 7.1288e-05 - mae: 0.0072\n",
            "Epoch 1130/1200\n",
            "1/1 [==============================] - 0s 9ms/step - loss: 7.0804e-05 - mae: 0.0072\n",
            "Epoch 1131/1200\n",
            "1/1 [==============================] - 0s 41ms/step - loss: 7.0325e-05 - mae: 0.0072\n",
            "Epoch 1132/1200\n",
            "1/1 [==============================] - 0s 53ms/step - loss: 6.9856e-05 - mae: 0.0072\n",
            "Epoch 1133/1200\n",
            "1/1 [==============================] - 0s 20ms/step - loss: 6.9378e-05 - mae: 0.0071\n",
            "Epoch 1134/1200\n",
            "1/1 [==============================] - 0s 11ms/step - loss: 6.8913e-05 - mae: 0.0071\n",
            "Epoch 1135/1200\n",
            "1/1 [==============================] - 0s 16ms/step - loss: 6.8448e-05 - mae: 0.0071\n",
            "Epoch 1136/1200\n",
            "1/1 [==============================] - 0s 12ms/step - loss: 6.7982e-05 - mae: 0.0071\n",
            "Epoch 1137/1200\n",
            "1/1 [==============================] - 0s 12ms/step - loss: 6.7525e-05 - mae: 0.0071\n",
            "Epoch 1138/1200\n",
            "1/1 [==============================] - 0s 15ms/step - loss: 6.7070e-05 - mae: 0.0070\n",
            "Epoch 1139/1200\n",
            "1/1 [==============================] - 0s 13ms/step - loss: 6.6618e-05 - mae: 0.0070\n",
            "Epoch 1140/1200\n",
            "1/1 [==============================] - 0s 10ms/step - loss: 6.6169e-05 - mae: 0.0070\n",
            "Epoch 1141/1200\n",
            "1/1 [==============================] - 0s 10ms/step - loss: 6.5722e-05 - mae: 0.0070\n",
            "Epoch 1142/1200\n",
            "1/1 [==============================] - 0s 17ms/step - loss: 6.5276e-05 - mae: 0.0069\n",
            "Epoch 1143/1200\n",
            "1/1 [==============================] - 0s 19ms/step - loss: 6.4840e-05 - mae: 0.0069\n",
            "Epoch 1144/1200\n",
            "1/1 [==============================] - 0s 9ms/step - loss: 6.4400e-05 - mae: 0.0069\n",
            "Epoch 1145/1200\n",
            "1/1 [==============================] - 0s 11ms/step - loss: 6.3964e-05 - mae: 0.0069\n",
            "Epoch 1146/1200\n",
            "1/1 [==============================] - 0s 11ms/step - loss: 6.3530e-05 - mae: 0.0068\n",
            "Epoch 1147/1200\n",
            "1/1 [==============================] - 0s 12ms/step - loss: 6.3105e-05 - mae: 0.0068\n",
            "Epoch 1148/1200\n",
            "1/1 [==============================] - 0s 14ms/step - loss: 6.2679e-05 - mae: 0.0068\n",
            "Epoch 1149/1200\n",
            "1/1 [==============================] - 0s 8ms/step - loss: 6.2255e-05 - mae: 0.0068\n",
            "Epoch 1150/1200\n",
            "1/1 [==============================] - 0s 27ms/step - loss: 6.1832e-05 - mae: 0.0067\n",
            "Epoch 1151/1200\n",
            "1/1 [==============================] - 0s 16ms/step - loss: 6.1415e-05 - mae: 0.0067\n",
            "Epoch 1152/1200\n",
            "1/1 [==============================] - 0s 12ms/step - loss: 6.0998e-05 - mae: 0.0067\n",
            "Epoch 1153/1200\n",
            "1/1 [==============================] - 0s 14ms/step - loss: 6.0588e-05 - mae: 0.0067\n",
            "Epoch 1154/1200\n",
            "1/1 [==============================] - 0s 39ms/step - loss: 6.0179e-05 - mae: 0.0067\n",
            "Epoch 1155/1200\n",
            "1/1 [==============================] - 0s 21ms/step - loss: 5.9774e-05 - mae: 0.0066\n",
            "Epoch 1156/1200\n",
            "1/1 [==============================] - 0s 27ms/step - loss: 5.9374e-05 - mae: 0.0066\n",
            "Epoch 1157/1200\n",
            "1/1 [==============================] - 0s 25ms/step - loss: 5.8974e-05 - mae: 0.0066\n",
            "Epoch 1158/1200\n",
            "1/1 [==============================] - 0s 12ms/step - loss: 5.8572e-05 - mae: 0.0066\n",
            "Epoch 1159/1200\n",
            "1/1 [==============================] - 0s 13ms/step - loss: 5.8177e-05 - mae: 0.0065\n",
            "Epoch 1160/1200\n",
            "1/1 [==============================] - 0s 10ms/step - loss: 5.7784e-05 - mae: 0.0065\n",
            "Epoch 1161/1200\n",
            "1/1 [==============================] - 0s 14ms/step - loss: 5.7397e-05 - mae: 0.0065\n",
            "Epoch 1162/1200\n",
            "1/1 [==============================] - 0s 16ms/step - loss: 5.7010e-05 - mae: 0.0065\n",
            "Epoch 1163/1200\n",
            "1/1 [==============================] - 0s 20ms/step - loss: 5.6621e-05 - mae: 0.0065\n",
            "Epoch 1164/1200\n",
            "1/1 [==============================] - 0s 15ms/step - loss: 5.6238e-05 - mae: 0.0064\n",
            "Epoch 1165/1200\n",
            "1/1 [==============================] - 0s 14ms/step - loss: 5.5859e-05 - mae: 0.0064\n",
            "Epoch 1166/1200\n",
            "1/1 [==============================] - 0s 96ms/step - loss: 5.5482e-05 - mae: 0.0064\n",
            "Epoch 1167/1200\n",
            "1/1 [==============================] - 0s 57ms/step - loss: 5.5110e-05 - mae: 0.0064\n",
            "Epoch 1168/1200\n",
            "1/1 [==============================] - 0s 32ms/step - loss: 5.4737e-05 - mae: 0.0064\n",
            "Epoch 1169/1200\n",
            "1/1 [==============================] - 0s 13ms/step - loss: 5.4367e-05 - mae: 0.0063\n",
            "Epoch 1170/1200\n",
            "1/1 [==============================] - 0s 17ms/step - loss: 5.3998e-05 - mae: 0.0063\n",
            "Epoch 1171/1200\n",
            "1/1 [==============================] - 0s 36ms/step - loss: 5.3633e-05 - mae: 0.0063\n",
            "Epoch 1172/1200\n",
            "1/1 [==============================] - 0s 38ms/step - loss: 5.3274e-05 - mae: 0.0063\n",
            "Epoch 1173/1200\n",
            "1/1 [==============================] - 0s 37ms/step - loss: 5.2912e-05 - mae: 0.0062\n",
            "Epoch 1174/1200\n",
            "1/1 [==============================] - 0s 16ms/step - loss: 5.2559e-05 - mae: 0.0062\n",
            "Epoch 1175/1200\n",
            "1/1 [==============================] - 0s 38ms/step - loss: 5.2202e-05 - mae: 0.0062\n",
            "Epoch 1176/1200\n",
            "1/1 [==============================] - 0s 24ms/step - loss: 5.1851e-05 - mae: 0.0062\n",
            "Epoch 1177/1200\n",
            "1/1 [==============================] - 0s 15ms/step - loss: 5.1502e-05 - mae: 0.0062\n",
            "Epoch 1178/1200\n",
            "1/1 [==============================] - 0s 11ms/step - loss: 5.1149e-05 - mae: 0.0061\n",
            "Epoch 1179/1200\n",
            "1/1 [==============================] - 0s 23ms/step - loss: 5.0809e-05 - mae: 0.0061\n",
            "Epoch 1180/1200\n",
            "1/1 [==============================] - 0s 19ms/step - loss: 5.0462e-05 - mae: 0.0061\n",
            "Epoch 1181/1200\n",
            "1/1 [==============================] - 0s 26ms/step - loss: 5.0124e-05 - mae: 0.0061\n",
            "Epoch 1182/1200\n",
            "1/1 [==============================] - 0s 15ms/step - loss: 4.9786e-05 - mae: 0.0061\n",
            "Epoch 1183/1200\n",
            "1/1 [==============================] - 0s 13ms/step - loss: 4.9446e-05 - mae: 0.0060\n",
            "Epoch 1184/1200\n",
            "1/1 [==============================] - 0s 18ms/step - loss: 4.9117e-05 - mae: 0.0060\n",
            "Epoch 1185/1200\n",
            "1/1 [==============================] - 0s 14ms/step - loss: 4.8784e-05 - mae: 0.0060\n",
            "Epoch 1186/1200\n",
            "1/1 [==============================] - 0s 23ms/step - loss: 4.8455e-05 - mae: 0.0060\n",
            "Epoch 1187/1200\n",
            "1/1 [==============================] - 0s 19ms/step - loss: 4.8126e-05 - mae: 0.0060\n",
            "Epoch 1188/1200\n",
            "1/1 [==============================] - 0s 15ms/step - loss: 4.7803e-05 - mae: 0.0059\n",
            "Epoch 1189/1200\n",
            "1/1 [==============================] - 0s 12ms/step - loss: 4.7480e-05 - mae: 0.0059\n",
            "Epoch 1190/1200\n",
            "1/1 [==============================] - 0s 10ms/step - loss: 4.7156e-05 - mae: 0.0059\n",
            "Epoch 1191/1200\n",
            "1/1 [==============================] - 0s 14ms/step - loss: 4.6838e-05 - mae: 0.0059\n",
            "Epoch 1192/1200\n",
            "1/1 [==============================] - 0s 25ms/step - loss: 4.6527e-05 - mae: 0.0059\n",
            "Epoch 1193/1200\n",
            "1/1 [==============================] - 0s 8ms/step - loss: 4.6213e-05 - mae: 0.0058\n",
            "Epoch 1194/1200\n",
            "1/1 [==============================] - 0s 15ms/step - loss: 4.5896e-05 - mae: 0.0058\n",
            "Epoch 1195/1200\n",
            "1/1 [==============================] - 0s 23ms/step - loss: 4.5590e-05 - mae: 0.0058\n",
            "Epoch 1196/1200\n",
            "1/1 [==============================] - 0s 16ms/step - loss: 4.5283e-05 - mae: 0.0058\n",
            "Epoch 1197/1200\n",
            "1/1 [==============================] - 0s 20ms/step - loss: 4.4980e-05 - mae: 0.0058\n",
            "Epoch 1198/1200\n",
            "1/1 [==============================] - 0s 14ms/step - loss: 4.4669e-05 - mae: 0.0057\n",
            "Epoch 1199/1200\n",
            "1/1 [==============================] - 0s 23ms/step - loss: 4.4371e-05 - mae: 0.0057\n",
            "Epoch 1200/1200\n",
            "1/1 [==============================] - 0s 9ms/step - loss: 4.4074e-05 - mae: 0.0057\n"
          ]
        }
      ]
    },
    {
      "cell_type": "code",
      "source": [
        "import matplotlib.pyplot as plt\n",
        "\n",
        "plt.plot(history.history['loss'], label='loss')\n",
        "plt.plot(history.history['mae'], label='mae')\n",
        "plt.xlim(-1,20)\n",
        "plt.title('Loss')\n",
        "plt.legend()\n",
        "plt.show"
      ],
      "metadata": {
        "colab": {
          "base_uri": "https://localhost:8080/",
          "height": 0
        },
        "id": "Mgti1L-IxX6A",
        "outputId": "17b7f37f-6068-4949-8921-031268eebec0"
      },
      "execution_count": 18,
      "outputs": [
        {
          "output_type": "execute_result",
          "data": {
            "text/plain": [
              "<function matplotlib.pyplot.show(*args, **kw)>"
            ]
          },
          "metadata": {},
          "execution_count": 18
        },
        {
          "output_type": "display_data",
          "data": {
            "text/plain": [
              "<Figure size 432x288 with 1 Axes>"
            ],
            "image/png": "[encoded data removed]"
          },
          "metadata": {
            "needs_background": "light"
          }
        }
      ]
    },
    {
      "cell_type": "markdown",
      "source": [
        "### 9) 검증\n",
        "  * evaluate() 메소드\n",
        "  * 검증 데이터셋을 입력하여 검증"
      ],
      "metadata": {
        "id": "zvsF_YrPyGFO"
      }
    },
    {
      "cell_type": "code",
      "source": [
        "model.evaluate(x,y)"
      ],
      "metadata": {
        "colab": {
          "base_uri": "https://localhost:8080/"
        },
        "id": "WW6OFPCJyWa1",
        "outputId": "4f80a7d6-cabf-4f50-a6fd-8d9bf3fb288e"
      },
      "execution_count": 19,
      "outputs": [
        {
          "output_type": "stream",
          "name": "stdout",
          "text": [
            "1/1 [==============================] - 0s 484ms/step - loss: 4.3774e-05 - mae: 0.0057\n"
          ]
        },
        {
          "output_type": "execute_result",
          "data": {
            "text/plain": [
              "[4.377369623398408e-05, 0.005678844638168812]"
            ]
          },
          "metadata": {},
          "execution_count": 19
        }
      ]
    },
    {
      "cell_type": "markdown",
      "source": [
        "### 10) 예측\n",
        "* 훈련이 완료된 모델 인스턴스의 predict() 메소드에 새로운 입력 데이터를 넣어주면 모델의 예측값을 얻을 수 있음"
      ],
      "metadata": {
        "id": "ojXcuDieyY_y"
      }
    },
    {
      "cell_type": "code",
      "source": [
        "model.predict([10])"
      ],
      "metadata": {
        "colab": {
          "base_uri": "https://localhost:8080/"
        },
        "id": "lsWq4C61yg_K",
        "outputId": "9e24d39e-5797-4588-9fa5-750a796bbdd6"
      },
      "execution_count": 20,
      "outputs": [
        {
          "output_type": "stream",
          "name": "stdout",
          "text": [
            "1/1 [==============================] - 0s 447ms/step\n"
          ]
        },
        {
          "output_type": "execute_result",
          "data": {
            "text/plain": [
              "array([[32.027447]], dtype=float32)"
            ]
          },
          "metadata": {},
          "execution_count": 20
        }
      ]
    },
    {
      "cell_type": "markdown",
      "source": [
        "## **3. 심층 신경망으로 이미지 분류**\n",
        "\n",
        "* 딥러닝 모델\n"
      ],
      "metadata": {
        "id": "fQoiEKvGyY6Z"
      }
    },
    {
      "cell_type": "markdown",
      "source": [
        "### 1) 케라스 내장 데이터셋 로드\n",
        "  * load_data() > 케라스 내장 데이터셋 사용\n",
        "    * 훈련 데이터셋과 검증 데이터셋을 구분하여 제공함"
      ],
      "metadata": {
        "id": "AcniGvpOyrdN"
      }
    },
    {
      "cell_type": "code",
      "source": [
        "import tensorflow as tf\n",
        "mnist=tf.keras.datasets.mnist"
      ],
      "metadata": {
        "id": "XCsyomsKy2FR"
      },
      "execution_count": 21,
      "outputs": []
    },
    {
      "cell_type": "code",
      "source": [
        "(x_train,y_train),(x_test,y_test)=mnist.load_data()"
      ],
      "metadata": {
        "colab": {
          "base_uri": "https://localhost:8080/"
        },
        "id": "VxCVyV1oy8CW",
        "outputId": "2e8c5b71-f188-4bce-bcb3-afe6ec9dba2b"
      },
      "execution_count": 22,
      "outputs": [
        {
          "output_type": "stream",
          "name": "stdout",
          "text": [
            "Downloading data from https://storage.googleapis.com/tensorflow/tf-keras-datasets/mnist.npz\n",
            "11490434/11490434 [==============================] - 0s 0us/step\n"
          ]
        }
      ]
    },
    {
      "cell_type": "code",
      "source": [
        "print('train set:',x_train.shape, y_train.shape)\n",
        "print('test set :',x_test.shape, y_test.shape)\n"
      ],
      "metadata": {
        "colab": {
          "base_uri": "https://localhost:8080/"
        },
        "id": "JMafdOeBzDTZ",
        "outputId": "829dd188-8531-489e-b626-2800281f5927"
      },
      "execution_count": 23,
      "outputs": [
        {
          "output_type": "stream",
          "name": "stdout",
          "text": [
            "train set: (60000, 28, 28) (60000,)\n",
            "test set : (10000, 28, 28) (10000,)\n"
          ]
        }
      ]
    },
    {
      "cell_type": "code",
      "source": [
        "import matplotlib.pyplot as plt\n",
        "\n",
        "fig,axes=plt.subplots(3,5)\n",
        "fig.set_size_inches(8,5)\n",
        "for i in range(15):\n",
        "  ax=axes[i//5,i%5]\n",
        "  ax.imshow(x_train[i],cmap='gray')\n",
        "  ax.axis('off')\n",
        "  ax.set_title(str(y_train[i]))\n",
        "\n",
        "plt.tight_layout()\n",
        "plt.show()"
      ],
      "metadata": {
        "colab": {
          "base_uri": "https://localhost:8080/",
          "height": 371
        },
        "id": "OyBhAXCjzPHD",
        "outputId": "fe7e9b2d-26d6-4204-9d6b-7a2e656c7826"
      },
      "execution_count": 24,
      "outputs": [
        {
          "output_type": "display_data",
          "data": {
            "text/plain": [
              "<Figure size 576x360 with 15 Axes>"
            ],
            "image/png": "[encoded data removed]"
          },
          "metadata": {
            "needs_background": "light"
          }
        }
      ]
    },
    {
      "cell_type": "markdown",
      "source": [
        "### 2) 데이터 전처리 \n",
        "  * 이미지 데이터에 대하여 정규화를 통해 데이터의 범위를 조절"
      ],
      "metadata": {
        "id": "_qbtcV-Hzp5p"
      }
    },
    {
      "cell_type": "code",
      "source": [
        "x_train[0, 10:15, 10:15]"
      ],
      "metadata": {
        "colab": {
          "base_uri": "https://localhost:8080/"
        },
        "id": "-LieClSyzvlP",
        "outputId": "6284bb4a-9a60-4d4d-cc67-559007a82597"
      },
      "execution_count": 25,
      "outputs": [
        {
          "output_type": "execute_result",
          "data": {
            "text/plain": [
              "array([[  1, 154, 253,  90,   0],\n",
              "       [  0, 139, 253, 190,   2],\n",
              "       [  0,  11, 190, 253,  70],\n",
              "       [  0,   0,  35, 241, 225],\n",
              "       [  0,   0,   0,  81, 240]], dtype=uint8)"
            ]
          },
          "metadata": {},
          "execution_count": 25
        }
      ]
    },
    {
      "cell_type": "markdown",
      "source": [
        "* 0~255 범위\n",
        "* 정규화"
      ],
      "metadata": {
        "id": "5dACRuno0MrM"
      }
    },
    {
      "cell_type": "code",
      "source": [
        "print(f'정규화전 ] 최소값: {x_train.min()}, 최대값:{x_train.max()}')\n",
        "\n",
        "x_train=x_train/x_train.max()\n",
        "print(f'정규화후 ] 최소값: {x_train.min()}, 최대값:{x_train.max()}')"
      ],
      "metadata": {
        "colab": {
          "base_uri": "https://localhost:8080/"
        },
        "id": "f8fMlBJ00Pxq",
        "outputId": "224fe0bd-af12-4cdb-984f-32b3b5f9e8a6"
      },
      "execution_count": 26,
      "outputs": [
        {
          "output_type": "stream",
          "name": "stdout",
          "text": [
            "정규화전 ] 최소값: 0, 최대값:255\n",
            "정규화후 ] 최소값: 0.0, 최대값:1.0\n"
          ]
        }
      ]
    },
    {
      "cell_type": "code",
      "source": [
        "x_test=x_test/x_test.max()"
      ],
      "metadata": {
        "id": "ARd74pJ60oQa"
      },
      "execution_count": 27,
      "outputs": []
    },
    {
      "cell_type": "code",
      "source": [
        "x_train[0, 10:15, 10:15]"
      ],
      "metadata": {
        "colab": {
          "base_uri": "https://localhost:8080/"
        },
        "id": "36HbuHdo0rku",
        "outputId": "bb6eb9d7-479f-45d4-f874-85013ab3a167"
      },
      "execution_count": 28,
      "outputs": [
        {
          "output_type": "execute_result",
          "data": {
            "text/plain": [
              "array([[0.00392157, 0.60392157, 0.99215686, 0.35294118, 0.        ],\n",
              "       [0.        , 0.54509804, 0.99215686, 0.74509804, 0.00784314],\n",
              "       [0.        , 0.04313725, 0.74509804, 0.99215686, 0.2745098 ],\n",
              "       [0.        , 0.        , 0.1372549 , 0.94509804, 0.88235294],\n",
              "       [0.        , 0.        , 0.        , 0.31764706, 0.94117647]])"
            ]
          },
          "metadata": {},
          "execution_count": 28
        }
      ]
    },
    {
      "cell_type": "markdown",
      "source": [
        "### 3) Flatten 레이어\n",
        "\n",
        "* 정규화를 하더라도 개별 데이터 값의 범위는 축소되지만, 원본 배열의 형태는 그대로 유지됨\n",
        "\n",
        "* 2차원 입력은 Dense 레이어에 입력값으로 넣을 수 없음\n",
        "\n",
        "* Dense 레이어에는 입력값으로 반드시 1차원 배열이 들어가야 함.\n",
        "\n",
        "* 이미지 데이터를 1차원으로 전처리하여 주입"
      ],
      "metadata": {
        "id": "8FkRfMcr0x0H"
      }
    },
    {
      "cell_type": "code",
      "source": [
        "print(f'변경 전 shape : {x_train.shape}')\n",
        "print(f'1d으로 변경 후 : {x_train.reshape(60000,-1).shape}')"
      ],
      "metadata": {
        "colab": {
          "base_uri": "https://localhost:8080/"
        },
        "id": "4gcArYgI1CBu",
        "outputId": "635b518c-bd6c-4e76-c3c1-ce36dd64a937"
      },
      "execution_count": 29,
      "outputs": [
        {
          "output_type": "stream",
          "name": "stdout",
          "text": [
            "변경 전 shape : (60000, 28, 28)\n",
            "1d으로 변경 후 : (60000, 784)\n"
          ]
        }
      ]
    },
    {
      "cell_type": "markdown",
      "source": [
        "* Flatten 레이어 사용"
      ],
      "metadata": {
        "id": "fZdxupvZ1NbV"
      }
    },
    {
      "cell_type": "code",
      "source": [
        "print(f'변경 전 shape : {x_train.shape}')\n",
        "\n",
        "print(f'Flaten 적용 후 : {tf.keras.layers.Flatten()(x_train).shape}')"
      ],
      "metadata": {
        "colab": {
          "base_uri": "https://localhost:8080/"
        },
        "id": "Kq5xSIyY1QH_",
        "outputId": "4ce0758d-c3c4-4f30-f0f7-2fe98090f0fe"
      },
      "execution_count": 30,
      "outputs": [
        {
          "output_type": "stream",
          "name": "stdout",
          "text": [
            "변경 전 shape : (60000, 28, 28)\n",
            "Flaten 적용 후 : (60000, 784)\n"
          ]
        }
      ]
    },
    {
      "cell_type": "markdown",
      "source": [
        "### 4) 활성화 함수\n",
        "  * 입력을 비선형 출력으로 변환해주는 함수\n",
        "  * 비선형성을 추가하지 않고 선형 함수로만 층을 구성한다면 모델을 깊게 구성하더라도 결국은 선형함수로 표현됨.\n",
        "  * 시그모이드, 하이퍼볼릭 탄젠트, ReLu, Leaky ReLu"
      ],
      "metadata": {
        "id": "rkrgatZu1XYP"
      }
    },
    {
      "cell_type": "markdown",
      "source": [
        "* Dense 레이어에 ReLu 활성화 함수를 적용하기 위해서는 activation 매개변수에 relu 문자열을 대입하면 됨"
      ],
      "metadata": {
        "id": "2NNu0Waz2kkH"
      }
    },
    {
      "cell_type": "code",
      "source": [
        "tf.keras.layers.Dense(128, activation='relu')"
      ],
      "metadata": {
        "colab": {
          "base_uri": "https://localhost:8080/"
        },
        "id": "DLm8AJfL2jz1",
        "outputId": "dd79a6a4-ef53-4d37-a28c-a6aa7e207f4e"
      },
      "execution_count": 31,
      "outputs": [
        {
          "output_type": "execute_result",
          "data": {
            "text/plain": [
              "<keras.layers.core.dense.Dense at 0x7fccb0c76990>"
            ]
          },
          "metadata": {},
          "execution_count": 31
        }
      ]
    },
    {
      "cell_type": "markdown",
      "source": [
        "* 별도의 층으로 적용하는 경우 Dense 레이어 다음에 배치 정규화를 적용한 후 활성화 함수를 적용하고자 할 때 많이 사용됨"
      ],
      "metadata": {
        "id": "4iY1827i2v5U"
      }
    },
    {
      "cell_type": "code",
      "source": [
        "model=tf.keras.Sequential([\n",
        "    tf.keras.layers.Dense(128),\n",
        "    tf.keras.layers.Activation('relu')\n",
        "])"
      ],
      "metadata": {
        "id": "S2iEHul721gk"
      },
      "execution_count": 32,
      "outputs": []
    },
    {
      "cell_type": "markdown",
      "source": [
        "### 5) 입력과 출력\n",
        "\n",
        "* 딥러닝 모델을 만들 때는 첫번째 레이어에 입력 데이터의 형태를 나타내는 input_shape 매개변수를 지정하는 것이 일반적\n",
        "\n",
        "* 분류 모델의 가장 마지막 레이어는 출력층\n",
        "* 출력 층의 노드 개수는 반드시 분류해야 할 클래스의 갯수와 동일해야 함"
      ],
      "metadata": {
        "id": "Q0QPoPlX2-38"
      }
    },
    {
      "cell_type": "code",
      "source": [
        "model=tf.keras.Sequential([\n",
        "    tf.keras.layers.Flatten(input_shape=(28,28)),\n",
        "    tf.keras.layers.Dense(256, activation='relu'),\n",
        "    tf.keras.layers.Dense(64, activation='relu'),\n",
        "    tf.keras.layers.Dense(32, activation='relu'),\n",
        "\n",
        "    tf.keras.layers.Dense(10,activation='softmax')\n",
        "])"
      ],
      "metadata": {
        "id": "2RYGk2o34Ld9"
      },
      "execution_count": 33,
      "outputs": []
    },
    {
      "cell_type": "markdown",
      "source": [
        "* 다중 분류 문제는 softmax 활성화 함수를 적용\n",
        "* 이중 분류 문제는 sigmoid 활성화 함수를 적용"
      ],
      "metadata": {
        "id": "KLTlQreC4hru"
      }
    },
    {
      "cell_type": "code",
      "source": [
        "tf.keras.layers.Dense(1,activation='sigmoid')\n",
        "tf.keras.layers.Dense(10, activation='softmax')"
      ],
      "metadata": {
        "colab": {
          "base_uri": "https://localhost:8080/"
        },
        "id": "tszGanio4pUo",
        "outputId": "8b8ab559-aa67-401b-d5d7-3169bfbb81e9"
      },
      "execution_count": 34,
      "outputs": [
        {
          "output_type": "execute_result",
          "data": {
            "text/plain": [
              "<keras.layers.core.dense.Dense at 0x7fccb0c81510>"
            ]
          },
          "metadata": {},
          "execution_count": 34
        }
      ]
    },
    {
      "cell_type": "markdown",
      "source": [
        "### 6) 손실함수\n",
        "  * 분류 모델의 손실함수는 출력층에 따라 올바른 손실함수를 설정해야만 모델이 정상적으로 훈련 가능\n",
        "  * 이진분류 => binary_crossentropy\n",
        "  * 다중분류 => categorical_crossentropy,\n",
        "  * 출력벡터가 원핫 벡터 =>  sparse_categorical_crossentropy\n",
        "\n"
      ],
      "metadata": {
        "id": "OLeVK_Zm4xlv"
      }
    },
    {
      "cell_type": "code",
      "source": [
        "model.compile(loss='binary_corssentropy')\n",
        "\n",
        "model.compile(loss='categorical_crossentropy')\n",
        "model.compile(loss='sparse_categorical_crossentropy')"
      ],
      "metadata": {
        "id": "Qd8-gOsx5EhD"
      },
      "execution_count": 35,
      "outputs": []
    },
    {
      "cell_type": "markdown",
      "source": [
        "### 7) 옵티마이저"
      ],
      "metadata": {
        "id": "g8zOt7dV5Wk9"
      }
    },
    {
      "cell_type": "markdown",
      "source": [
        "* 손실을 낮추기 위해서 신경망의 가중치와 학습률과 같은 속성을 변경하는 데 사용되는 최적화 방법\n",
        "  * Adam, SGD, Adagrad, Nadam, RMSprop, Adadelta, Ftrl\n",
        "* 옵티마이저는 클래스 인스턴스로 지정하거나 문자열로 지정"
      ],
      "metadata": {
        "id": "3NUhQIYQ5Yem"
      }
    },
    {
      "cell_type": "code",
      "source": [
        "adam=tf.keras.optimizers.Adam(lr=0.001)\n",
        "model.compile(optimizer=adam)\n",
        "\n",
        "model.compile(optimizer='adam')"
      ],
      "metadata": {
        "colab": {
          "base_uri": "https://localhost:8080/"
        },
        "id": "8B66-jxo5oYZ",
        "outputId": "f9c95954-3ee1-4f33-81e8-802ebdbe820c"
      },
      "execution_count": 36,
      "outputs": [
        {
          "output_type": "stream",
          "name": "stderr",
          "text": [
            "/usr/local/lib/python3.7/dist-packages/keras/optimizers/optimizer_v2/adam.py:110: UserWarning: The `lr` argument is deprecated, use `learning_rate` instead.\n",
            "  super(Adam, self).__init__(name, **kwargs)\n"
          ]
        }
      ]
    },
    {
      "cell_type": "markdown",
      "source": [
        "### 8) 평가지표\n",
        "\n",
        "* 분류모델 : accuracy, auc, precision, recall\n",
        "* 모델 컴파일 단계에서 metrics 매개변수에 파이썬 리스트 형태로 하나 이상의 평가지표를 지정하여 여러 지표들을 동시에 참고 가능\n",
        "* 클래스 인스턴스로 지정하거나 문자열로 지정"
      ],
      "metadata": {
        "id": "GnUrt0Ky5wVk"
      }
    },
    {
      "cell_type": "code",
      "source": [
        "acc=tf.keras.metrics.SparseCategoricalAccuracy()\n",
        "\n",
        "model.compile(optimizer='adam', loss='sparse_categorical_crossentropy', metrics=[acc])"
      ],
      "metadata": {
        "id": "SaGfyh665-1M"
      },
      "execution_count": 37,
      "outputs": []
    },
    {
      "cell_type": "code",
      "source": [
        "model.compile(optimizer='adam', loss='sparse_categorical_crossentropy', metrics=['accuracy'])"
      ],
      "metadata": {
        "id": "lxxGkoaK6Lag"
      },
      "execution_count": 38,
      "outputs": []
    },
    {
      "cell_type": "markdown",
      "source": [
        "### 9) 훈련\n",
        "* 모델을 훈련할 때 검증 셋을 추가 지정하면, 매 epoch마다 훈련 손실과 검증 손실, 각 셋에 대한 평가 지표를 나란히 출력\n",
        "* validation_data 매개변수에 투플 형식의 검증셋을 지정"
      ],
      "metadata": {
        "id": "7e57mzfp6bi4"
      }
    },
    {
      "cell_type": "code",
      "source": [
        "model.fit(x_train, y_train, validation_data=(x_test,y_test), epochs=10)"
      ],
      "metadata": {
        "colab": {
          "base_uri": "https://localhost:8080/"
        },
        "id": "tOQgjr5K6nmU",
        "outputId": "869e3e29-aa1a-41d6-c4e1-fc12616ef74a"
      },
      "execution_count": 39,
      "outputs": [
        {
          "output_type": "stream",
          "name": "stdout",
          "text": [
            "Epoch 1/10\n",
            "1875/1875 [==============================] - 20s 10ms/step - loss: 0.2268 - accuracy: 0.9328 - val_loss: 0.1174 - val_accuracy: 0.9616\n",
            "Epoch 2/10\n",
            "1875/1875 [==============================] - 14s 7ms/step - loss: 0.0931 - accuracy: 0.9713 - val_loss: 0.1101 - val_accuracy: 0.9650\n",
            "Epoch 3/10\n",
            "1875/1875 [==============================] - 18s 9ms/step - loss: 0.0658 - accuracy: 0.9792 - val_loss: 0.0852 - val_accuracy: 0.9741\n",
            "Epoch 4/10\n",
            "1875/1875 [==============================] - 16s 8ms/step - loss: 0.0496 - accuracy: 0.9843 - val_loss: 0.0853 - val_accuracy: 0.9734\n",
            "Epoch 5/10\n",
            "1875/1875 [==============================] - 13s 7ms/step - loss: 0.0410 - accuracy: 0.9864 - val_loss: 0.0871 - val_accuracy: 0.9746\n",
            "Epoch 6/10\n",
            "1875/1875 [==============================] - 12s 6ms/step - loss: 0.0306 - accuracy: 0.9897 - val_loss: 0.0764 - val_accuracy: 0.9805\n",
            "Epoch 7/10\n",
            "1875/1875 [==============================] - 13s 7ms/step - loss: 0.0278 - accuracy: 0.9909 - val_loss: 0.0843 - val_accuracy: 0.9800\n",
            "Epoch 8/10\n",
            "1875/1875 [==============================] - 14s 8ms/step - loss: 0.0230 - accuracy: 0.9922 - val_loss: 0.0939 - val_accuracy: 0.9770\n",
            "Epoch 9/10\n",
            "1875/1875 [==============================] - 12s 7ms/step - loss: 0.0212 - accuracy: 0.9930 - val_loss: 0.0878 - val_accuracy: 0.9785\n",
            "Epoch 10/10\n",
            "1875/1875 [==============================] - 13s 7ms/step - loss: 0.0209 - accuracy: 0.9931 - val_loss: 0.0886 - val_accuracy: 0.9791\n"
          ]
        },
        {
          "output_type": "execute_result",
          "data": {
            "text/plain": [
              "<keras.callbacks.History at 0x7fccb48ebb90>"
            ]
          },
          "metadata": {},
          "execution_count": 39
        }
      ]
    },
    {
      "cell_type": "markdown",
      "source": [
        "### 10) 평가\n",
        "* 훈련 종료 후 evaluate() 메소드로 모델 성능을 검증하고 평가 결과를 확인할 수 있음"
      ],
      "metadata": {
        "id": "L4ItfECi6tEu"
      }
    },
    {
      "cell_type": "code",
      "source": [
        "test_loss, test_acc=model.evaluate(x_test,y_test)\n",
        "print('검증 셋 정확도:', test_acc)"
      ],
      "metadata": {
        "colab": {
          "base_uri": "https://localhost:8080/"
        },
        "id": "0g0bwitB6zCF",
        "outputId": "e5edea3c-55e1-40c5-f068-27fec22ebe5f"
      },
      "execution_count": 40,
      "outputs": [
        {
          "output_type": "stream",
          "name": "stdout",
          "text": [
            "313/313 [==============================] - 1s 5ms/step - loss: 0.0886 - accuracy: 0.9791\n",
            "검증 셋 정확도: 0.9790999889373779\n"
          ]
        }
      ]
    },
    {
      "cell_type": "markdown",
      "source": [
        "### 11) 예측\n",
        "\n",
        "* 훈련된 모델로 새로운 이미지에 대한 분류 값을 예측하는 작업 수행\n",
        "* predict()"
      ],
      "metadata": {
        "id": "7P4rMmYB669T"
      }
    },
    {
      "cell_type": "code",
      "source": [
        "predictions=model.predict(x_test)\n",
        "\n",
        "predictions[0]"
      ],
      "metadata": {
        "colab": {
          "base_uri": "https://localhost:8080/"
        },
        "id": "wri2k-SV7CKS",
        "outputId": "8a601c9b-196b-4219-a7cc-461176ac0066"
      },
      "execution_count": 41,
      "outputs": [
        {
          "output_type": "stream",
          "name": "stdout",
          "text": [
            "313/313 [==============================] - 1s 4ms/step\n"
          ]
        },
        {
          "output_type": "execute_result",
          "data": {
            "text/plain": [
              "array([1.1857269e-09, 3.2691123e-08, 1.4599809e-08, 1.5888310e-09,\n",
              "       1.1760485e-09, 2.3068369e-13, 4.3558603e-17, 9.9999994e-01,\n",
              "       2.0302929e-10, 3.8878579e-08], dtype=float32)"
            ]
          },
          "metadata": {},
          "execution_count": 41
        }
      ]
    },
    {
      "cell_type": "markdown",
      "source": [
        "* softmax 활성화 함수를 거친 10개의 출력 값은 순차적으로 0~9까지의 10개의 개별 클래스에 대한 분류 확률 값을 나탸냄\n",
        "* 가장 높은 확률값을 가진 클래스가 최종 예측된 클래스"
      ],
      "metadata": {
        "id": "ZcLaX_zs7LiL"
      }
    },
    {
      "cell_type": "code",
      "source": [
        "import numpy as np\n",
        "\n",
        "print(np.argmax(predictions[0]))\n",
        "print(np.argmax(predictions[:10],axis=1))"
      ],
      "metadata": {
        "colab": {
          "base_uri": "https://localhost:8080/"
        },
        "id": "md2H3pC47GyB",
        "outputId": "fa87a011-c00b-4272-b82e-43c665119df1"
      },
      "execution_count": 42,
      "outputs": [
        {
          "output_type": "stream",
          "name": "stdout",
          "text": [
            "7\n",
            "[7 2 1 0 4 1 4 9 5 9]\n"
          ]
        }
      ]
    },
    {
      "cell_type": "markdown",
      "source": [
        "* 시각화 코드"
      ],
      "metadata": {
        "id": "E4-R7Ii97Yif"
      }
    },
    {
      "cell_type": "code",
      "source": [
        "import matplotlib.pyplot as plt\n",
        "\n",
        "def get_one_result(idx):\n",
        "  img, y_true, y_pred, confidence=x_test[idx],y_test[idx],np.argmax(predictions[idx]), 100*np.max(predictions[idx])\n",
        "  return img, y_true, y_pred, confidence\n",
        "\n",
        "fig,axes=plt.subplots(3,5)\n",
        "fig.set_size_inches(12,10)\n",
        "for i in range(15):\n",
        "  ax=axes[i//5,i%5]\n",
        "  img,y_true, y_pred, confidence=get_one_result(i)\n",
        "  ax.imshow(img, cmap='gray')\n",
        "  ax.set_xticks([])\n",
        "  ax.set_yticks([])\n",
        "  ax.set_title(f'True:{y_true}')\n",
        "  ax.set_xlabel(f'Prediction:{y_pred}\\n Confidence:({confidence:2f}%)')\n",
        "plt.tight_layout()\n",
        "plt.show()"
      ],
      "metadata": {
        "colab": {
          "base_uri": "https://localhost:8080/",
          "height": 595
        },
        "id": "93PInPIq7YJ9",
        "outputId": "dabccf6c-7436-43b3-b2f2-e955667ef034"
      },
      "execution_count": 43,
      "outputs": [
        {
          "output_type": "display_data",
          "data": {
            "text/plain": [
              "<Figure size 864x720 with 15 Axes>"
            ],
            "image/png": "[encoded data removed]"
          },
          "metadata": {}
        }
      ]
    },
    {
      "cell_type": "markdown",
      "source": [
        "## **4. 모델 세부 설정**"
      ],
      "metadata": {
        "id": "4fXI3G_k8Jxc"
      }
    },
    {
      "cell_type": "code",
      "source": [
        "import tensorflow as tf\n",
        "\n",
        "mnist=tf.keras.datasets.mnist\n",
        "\n",
        "(x_train,y_train),(x_test,y_test)=mnist.load_data()\n",
        "\n",
        "print('train set:', x_train.shape, y_train.shape)\n",
        "print('test set: ',x_test.shape, y_test.shape)\n",
        "\n",
        "x_train=x_train/x_train.max()\n",
        "x_test=x_test/x_test.max()"
      ],
      "metadata": {
        "colab": {
          "base_uri": "https://localhost:8080/"
        },
        "id": "-zcRDVij8N8-",
        "outputId": "58efb721-8f58-4a76-9f3c-03d77f166e00"
      },
      "execution_count": 44,
      "outputs": [
        {
          "output_type": "stream",
          "name": "stdout",
          "text": [
            "train set: (60000, 28, 28) (60000,)\n",
            "test set:  (10000, 28, 28) (10000,)\n"
          ]
        }
      ]
    },
    {
      "cell_type": "markdown",
      "source": [
        "### 1) 초기값 설정\n",
        "\n",
        "* Dense 레이어는 기본 초기화 방법으로 Glorot Uniform 초기화"
      ],
      "metadata": {
        "id": "IaAuVvmY8nfI"
      }
    },
    {
      "cell_type": "code",
      "source": [
        "dense=tf.keras.layers.Dense(256, activation='relu')\n",
        "dense.get_config()['kernel_initializer']\n",
        "\n"
      ],
      "metadata": {
        "colab": {
          "base_uri": "https://localhost:8080/"
        },
        "id": "cEFb6g7w8uiI",
        "outputId": "5df55454-bd73-4976-a881-4a7624ca3e7e"
      },
      "execution_count": 45,
      "outputs": [
        {
          "output_type": "execute_result",
          "data": {
            "text/plain": [
              "{'class_name': 'GlorotUniform', 'config': {'seed': None}}"
            ]
          },
          "metadata": {},
          "execution_count": 45
        }
      ]
    },
    {
      "cell_type": "markdown",
      "source": [
        "* 초기화 방법 변경 : kernel_initializer 매개변수 설정"
      ],
      "metadata": {
        "id": "LSAVcsCl825n"
      }
    },
    {
      "cell_type": "code",
      "source": [
        "#문자열 초기화\n",
        "dense=tf.keras.layers.Dense(256, kernel_initializer='he_normal', activation='relu')\n",
        "print(dense.get_config()['kernel_initializer'])\n",
        "\n",
        "#클래스 인스턴스 초기화\n",
        "he_normal=tf.keras.initializers.HeNormal()\n",
        "dense=tf.keras.layers.Dense(256, kernel_initializer=he_normal, activation='relu')\n",
        "print(dense.get_config()['kernel_initializer'])"
      ],
      "metadata": {
        "colab": {
          "base_uri": "https://localhost:8080/"
        },
        "id": "XGzcrHem87KE",
        "outputId": "9c16f771-b4d6-4a55-cc2d-0e2a639a5b87"
      },
      "execution_count": 46,
      "outputs": [
        {
          "output_type": "stream",
          "name": "stdout",
          "text": [
            "{'class_name': 'HeNormal', 'config': {'seed': None}}\n",
            "{'class_name': 'HeNormal', 'config': {'seed': None}}\n"
          ]
        }
      ]
    },
    {
      "cell_type": "markdown",
      "source": [
        "### 2) 규제(Regularization)"
      ],
      "metadata": {
        "id": "Vrz-9CcT9ooO"
      }
    },
    {
      "cell_type": "markdown",
      "source": [
        "* 모델의 과대적합을 해소하기 위해 L1, L2 규제를 적용\n",
        "* 텐서플로 케라스 레이어는 기본값으로 규제를 적용하지 않음\n"
      ],
      "metadata": {
        "id": "WfsCap-Z9sNp"
      }
    },
    {
      "cell_type": "code",
      "source": [
        "#기본값\n",
        "dense=tf.keras.layers.Dense(256, activation='relu')\n",
        "dense.get_config()"
      ],
      "metadata": {
        "colab": {
          "base_uri": "https://localhost:8080/"
        },
        "id": "9s4Q0apb90UP",
        "outputId": "ad6ffa10-6104-4f5d-a368-9c4f44604e5c"
      },
      "execution_count": 47,
      "outputs": [
        {
          "output_type": "execute_result",
          "data": {
            "text/plain": [
              "{'name': 'dense_24',\n",
              " 'trainable': True,\n",
              " 'dtype': 'float32',\n",
              " 'units': 256,\n",
              " 'activation': 'relu',\n",
              " 'use_bias': True,\n",
              " 'kernel_initializer': {'class_name': 'GlorotUniform',\n",
              "  'config': {'seed': None}},\n",
              " 'bias_initializer': {'class_name': 'Zeros', 'config': {}},\n",
              " 'kernel_regularizer': None,\n",
              " 'bias_regularizer': None,\n",
              " 'activity_regularizer': None,\n",
              " 'kernel_constraint': None,\n",
              " 'bias_constraint': None}"
            ]
          },
          "metadata": {},
          "execution_count": 47
        }
      ]
    },
    {
      "cell_type": "markdown",
      "source": [
        "* 모델을 구성하는 레이어마다 규제를 적용할 수 있음"
      ],
      "metadata": {
        "id": "CVDXQJnO9772"
      }
    },
    {
      "cell_type": "code",
      "source": [
        "#L1규제 적용\n",
        "dense=tf.keras.layers.Dense(256, kernel_regularizer='l1', activation='relu')\n",
        "print(dense.get_config()['kernel_regularizer'])\n",
        "\n",
        "#클래스 인스턴스 적용, alpha=0.1변경\n",
        "regularizer=tf.keras.regularizers.l1(l1=0.1)\n",
        "dense=tf.keras.layers.Dense(256, kernel_regularizer=regularizer, activation='relu')\n",
        "print(dense.get_config()['kernel_regularizer'])"
      ],
      "metadata": {
        "colab": {
          "base_uri": "https://localhost:8080/"
        },
        "id": "RBPFRr3x9_8i",
        "outputId": "b9d82a05-c110-4d92-e4af-87777cd589ed"
      },
      "execution_count": 48,
      "outputs": [
        {
          "output_type": "stream",
          "name": "stdout",
          "text": [
            "{'class_name': 'L1', 'config': {'l1': 0.009999999776482582}}\n",
            "{'class_name': 'L1', 'config': {'l1': 0.10000000149011612}}\n"
          ]
        }
      ]
    },
    {
      "cell_type": "markdown",
      "source": [
        "### 3) 드롭아웃\n",
        "* 딥러닝 모델의 가장 큰 난제 : 과대적합\n",
        "* 과대적합 문제를 해결하기 위해 노드 일부의 신호를 임의로 삭제 > 모델이 학습하는 가중치 파라미터의 개수가 현저히 줄어들게 됨\n",
        "\n",
        "* 모델이 훈련할 때는 드롭아웃이 적용되어 노드 중 일부만 훈련하게 되지만, 예측할 때는 모든 노드들이 활용됨\n",
        "\n",
        "* Dropout 레이어 함수에 입력하는 숫자는 노드에서 제거되는 비율을 의미"
      ],
      "metadata": {
        "id": "MqZ8hVvo-htQ"
      }
    },
    {
      "cell_type": "code",
      "source": [
        "tf.keras.layers.Dropout(0.25)"
      ],
      "metadata": {
        "colab": {
          "base_uri": "https://localhost:8080/"
        },
        "id": "9MSlBKoi-6xb",
        "outputId": "ea1f5451-d522-4afd-c726-4b8e23895821"
      },
      "execution_count": 49,
      "outputs": [
        {
          "output_type": "execute_result",
          "data": {
            "text/plain": [
              "<keras.layers.regularization.dropout.Dropout at 0x7fccad095510>"
            ]
          },
          "metadata": {},
          "execution_count": 49
        }
      ]
    },
    {
      "cell_type": "markdown",
      "source": [
        "### 4) 배치 정규화\n",
        "* 각 층에서 활성화 함수를 통과하기 전 미니 배치의 스케일을 정규화 함\n",
        "  * 다음 층으로 데이터가 전달되기 전에 스케일을 조정하기 때문에 보다 안정적인 훈련이 가능하고 성능을 향상시킬 수 있음\n",
        "\n",
        "* 케라스에서는 클래스 인스턴스를 생성해 추가해주면 됨"
      ],
      "metadata": {
        "id": "QPf3Pf2G-9Q4"
      }
    },
    {
      "cell_type": "code",
      "source": [
        "model_a=tf.keras.Sequential([\n",
        "    tf.keras.layers.Flatten(input_shape=(28,28)),\n",
        "    tf.keras.layers.Dense(64, activation='relu'),\n",
        "    tf.keras.layers.Dense(32, activation='relu'),\n",
        "    tf.keras.layers.Dense(10, activation='softmax')\n",
        "])\n",
        "\n",
        "model_a.summary()"
      ],
      "metadata": {
        "colab": {
          "base_uri": "https://localhost:8080/"
        },
        "id": "KIpshS5J_NvO",
        "outputId": "db49cc34-135e-498e-94b6-8249b1006999"
      },
      "execution_count": 50,
      "outputs": [
        {
          "output_type": "stream",
          "name": "stdout",
          "text": [
            "Model: \"sequential_7\"\n",
            "_________________________________________________________________\n",
            " Layer (type)                Output Shape              Param #   \n",
            "=================================================================\n",
            " flatten_2 (Flatten)         (None, 784)               0         \n",
            "                                                                 \n",
            " dense_27 (Dense)            (None, 64)                50240     \n",
            "                                                                 \n",
            " dense_28 (Dense)            (None, 32)                2080      \n",
            "                                                                 \n",
            " dense_29 (Dense)            (None, 10)                330       \n",
            "                                                                 \n",
            "=================================================================\n",
            "Total params: 52,650\n",
            "Trainable params: 52,650\n",
            "Non-trainable params: 0\n",
            "_________________________________________________________________\n"
          ]
        }
      ]
    },
    {
      "cell_type": "code",
      "source": [
        "model_b=tf.keras.Sequential([\n",
        "    tf.keras.layers.Flatten(input_shape=(28,28)),\n",
        "    tf.keras.layers.Dense(64),\n",
        "    tf.keras.layers.BatchNormalization(),\n",
        "    tf.keras.layers.Activation('relu'),\n",
        "    tf.keras.layers.Dense(32),\n",
        "    tf.keras.layers.BatchNormalization(),\n",
        "    tf.keras.layers.Activation('relu'),\n",
        "    tf.keras.layers.Dense(10, activation='softmax')\n",
        "])\n",
        "\n",
        "model_b.summary()"
      ],
      "metadata": {
        "colab": {
          "base_uri": "https://localhost:8080/"
        },
        "id": "cL7nBPJc_geH",
        "outputId": "1c00f9c3-f565-4c0f-a783-ea9c4ccb3c84"
      },
      "execution_count": 51,
      "outputs": [
        {
          "output_type": "stream",
          "name": "stdout",
          "text": [
            "Model: \"sequential_8\"\n",
            "_________________________________________________________________\n",
            " Layer (type)                Output Shape              Param #   \n",
            "=================================================================\n",
            " flatten_3 (Flatten)         (None, 784)               0         \n",
            "                                                                 \n",
            " dense_30 (Dense)            (None, 64)                50240     \n",
            "                                                                 \n",
            " batch_normalization (BatchN  (None, 64)               256       \n",
            " ormalization)                                                   \n",
            "                                                                 \n",
            " activation_1 (Activation)   (None, 64)                0         \n",
            "                                                                 \n",
            " dense_31 (Dense)            (None, 32)                2080      \n",
            "                                                                 \n",
            " batch_normalization_1 (Batc  (None, 32)               128       \n",
            " hNormalization)                                                 \n",
            "                                                                 \n",
            " activation_2 (Activation)   (None, 32)                0         \n",
            "                                                                 \n",
            " dense_32 (Dense)            (None, 10)                330       \n",
            "                                                                 \n",
            "=================================================================\n",
            "Total params: 53,034\n",
            "Trainable params: 52,842\n",
            "Non-trainable params: 192\n",
            "_________________________________________________________________\n"
          ]
        }
      ]
    },
    {
      "cell_type": "markdown",
      "source": [
        "> 배치 정규화만 추가하였도 안정적이고 빠르게 수렴함"
      ],
      "metadata": {
        "id": "yWHJVHgO_xf5"
      }
    },
    {
      "cell_type": "markdown",
      "source": [
        "### 5) 활성화 함수\n",
        "\n",
        "* 클래스 인스턴스로 선언하여 하이퍼파라미터 값을 변경하여 적용할 수 있음"
      ],
      "metadata": {
        "id": "IVktliqb_26i"
      }
    },
    {
      "cell_type": "code",
      "source": [
        "tf.keras.layers.LeakyReLU()\n",
        "\n",
        "tf.keras.layers.LeakyReLU(alpha=0.2)"
      ],
      "metadata": {
        "colab": {
          "base_uri": "https://localhost:8080/"
        },
        "id": "bmaZA_zo_-A6",
        "outputId": "8cc40ab6-70a1-4749-ebaa-41b7edb34eb1"
      },
      "execution_count": 52,
      "outputs": [
        {
          "output_type": "execute_result",
          "data": {
            "text/plain": [
              "<keras.layers.activation.leaky_relu.LeakyReLU at 0x7fcca71ccbd0>"
            ]
          },
          "metadata": {},
          "execution_count": 52
        }
      ]
    },
    {
      "cell_type": "code",
      "source": [
        "model_c=tf.keras.Sequential([\n",
        "    tf.keras.layers.Flatten(input_shape=(28,28)),\n",
        "    tf.keras.layers.Dense(64),\n",
        "    tf.keras.layers.BatchNormalization(),\n",
        "    tf.keras.layers.LeakyReLU(alpha=0.2),\n",
        "    tf.keras.layers.Dense(32),\n",
        "    tf.keras.layers.BatchNormalization(),\n",
        "    tf.keras.layers.LeakyReLU(alpha=0.2),\n",
        "    tf.keras.layers.Dense(10, activation='softmax')\n",
        "])\n",
        "\n",
        "model_c.summary()"
      ],
      "metadata": {
        "colab": {
          "base_uri": "https://localhost:8080/"
        },
        "id": "ea4_HDCwADV1",
        "outputId": "d77b4bbb-3a44-479d-cba3-b2c192456e56"
      },
      "execution_count": 53,
      "outputs": [
        {
          "output_type": "stream",
          "name": "stdout",
          "text": [
            "Model: \"sequential_9\"\n",
            "_________________________________________________________________\n",
            " Layer (type)                Output Shape              Param #   \n",
            "=================================================================\n",
            " flatten_4 (Flatten)         (None, 784)               0         \n",
            "                                                                 \n",
            " dense_33 (Dense)            (None, 64)                50240     \n",
            "                                                                 \n",
            " batch_normalization_2 (Batc  (None, 64)               256       \n",
            " hNormalization)                                                 \n",
            "                                                                 \n",
            " leaky_re_lu_2 (LeakyReLU)   (None, 64)                0         \n",
            "                                                                 \n",
            " dense_34 (Dense)            (None, 32)                2080      \n",
            "                                                                 \n",
            " batch_normalization_3 (Batc  (None, 32)               128       \n",
            " hNormalization)                                                 \n",
            "                                                                 \n",
            " leaky_re_lu_3 (LeakyReLU)   (None, 32)                0         \n",
            "                                                                 \n",
            " dense_35 (Dense)            (None, 10)                330       \n",
            "                                                                 \n",
            "=================================================================\n",
            "Total params: 53,034\n",
            "Trainable params: 52,842\n",
            "Non-trainable params: 192\n",
            "_________________________________________________________________\n"
          ]
        }
      ]
    },
    {
      "cell_type": "markdown",
      "source": [
        "* model a,b,c 총3개의 모델을 동일한 조건으로 10번의 epoch 동안 훈련한 후에 수렴 속도를 확인"
      ],
      "metadata": {
        "id": "Upq3CcuwAMtC"
      }
    },
    {
      "cell_type": "code",
      "source": [
        "model_a.compile(optimizer='adam', loss='sparse_categorical_crossentropy', metrics=['accuracy'])\n",
        "model_b.compile(optimizer='adam', loss='sparse_categorical_crossentropy', metrics=['accuracy'])\n",
        "model_c.compile(optimizer='adam', loss='sparse_categorical_crossentropy', metrics=['accuracy'])\n",
        "\n",
        "history_a=model_a.fit(x_train,y_train, validation_data=(x_test,y_test), epochs=10)\n",
        "history_b=model_b.fit(x_train,y_train, validation_data=(x_test,y_test), epochs=10)\n",
        "history_c=model_c.fit(x_train,y_train, validation_data=(x_test,y_test), epochs=10)"
      ],
      "metadata": {
        "colab": {
          "base_uri": "https://localhost:8080/"
        },
        "id": "7BvPwrDDAT7b",
        "outputId": "c2148443-692c-476c-fa67-2e6834920165"
      },
      "execution_count": 54,
      "outputs": [
        {
          "output_type": "stream",
          "name": "stdout",
          "text": [
            "Epoch 1/10\n",
            "1875/1875 [==============================] - 10s 5ms/step - loss: 0.3000 - accuracy: 0.9143 - val_loss: 0.1592 - val_accuracy: 0.9535\n",
            "Epoch 2/10\n",
            "1875/1875 [==============================] - 10s 5ms/step - loss: 0.1388 - accuracy: 0.9583 - val_loss: 0.1211 - val_accuracy: 0.9640\n",
            "Epoch 3/10\n",
            "1875/1875 [==============================] - 7s 4ms/step - loss: 0.1024 - accuracy: 0.9692 - val_loss: 0.1042 - val_accuracy: 0.9691\n",
            "Epoch 4/10\n",
            "1875/1875 [==============================] - 7s 4ms/step - loss: 0.0789 - accuracy: 0.9758 - val_loss: 0.0955 - val_accuracy: 0.9711\n",
            "Epoch 5/10\n",
            "1875/1875 [==============================] - 7s 4ms/step - loss: 0.0662 - accuracy: 0.9791 - val_loss: 0.0935 - val_accuracy: 0.9715\n",
            "Epoch 6/10\n",
            "1875/1875 [==============================] - 6s 3ms/step - loss: 0.0547 - accuracy: 0.9826 - val_loss: 0.0968 - val_accuracy: 0.9704\n",
            "Epoch 7/10\n",
            "1875/1875 [==============================] - 6s 3ms/step - loss: 0.0474 - accuracy: 0.9853 - val_loss: 0.1023 - val_accuracy: 0.9696\n",
            "Epoch 8/10\n",
            "1875/1875 [==============================] - 6s 3ms/step - loss: 0.0391 - accuracy: 0.9876 - val_loss: 0.0931 - val_accuracy: 0.9750\n",
            "Epoch 9/10\n",
            "1875/1875 [==============================] - 6s 3ms/step - loss: 0.0358 - accuracy: 0.9881 - val_loss: 0.1080 - val_accuracy: 0.9710\n",
            "Epoch 10/10\n",
            "1875/1875 [==============================] - 6s 3ms/step - loss: 0.0313 - accuracy: 0.9898 - val_loss: 0.1015 - val_accuracy: 0.9735\n",
            "Epoch 1/10\n",
            "1875/1875 [==============================] - 9s 4ms/step - loss: 0.3147 - accuracy: 0.9140 - val_loss: 0.1292 - val_accuracy: 0.9600\n",
            "Epoch 2/10\n",
            "1875/1875 [==============================] - 7s 4ms/step - loss: 0.1392 - accuracy: 0.9578 - val_loss: 0.1081 - val_accuracy: 0.9680\n",
            "Epoch 3/10\n",
            "1875/1875 [==============================] - 7s 4ms/step - loss: 0.1072 - accuracy: 0.9667 - val_loss: 0.0936 - val_accuracy: 0.9728\n",
            "Epoch 4/10\n",
            "1875/1875 [==============================] - 7s 4ms/step - loss: 0.0919 - accuracy: 0.9711 - val_loss: 0.0830 - val_accuracy: 0.9756\n",
            "Epoch 5/10\n",
            "1875/1875 [==============================] - 7s 4ms/step - loss: 0.0796 - accuracy: 0.9752 - val_loss: 0.0789 - val_accuracy: 0.9765\n",
            "Epoch 6/10\n",
            "1875/1875 [==============================] - 8s 4ms/step - loss: 0.0713 - accuracy: 0.9774 - val_loss: 0.0805 - val_accuracy: 0.9766\n",
            "Epoch 7/10\n",
            "1875/1875 [==============================] - 8s 4ms/step - loss: 0.0663 - accuracy: 0.9788 - val_loss: 0.0829 - val_accuracy: 0.9754\n",
            "Epoch 8/10\n",
            "1875/1875 [==============================] - 8s 4ms/step - loss: 0.0606 - accuracy: 0.9800 - val_loss: 0.0789 - val_accuracy: 0.9771\n",
            "Epoch 9/10\n",
            "1875/1875 [==============================] - 12s 6ms/step - loss: 0.0550 - accuracy: 0.9815 - val_loss: 0.0734 - val_accuracy: 0.9788\n",
            "Epoch 10/10\n",
            "1875/1875 [==============================] - 10s 5ms/step - loss: 0.0510 - accuracy: 0.9832 - val_loss: 0.0810 - val_accuracy: 0.9769\n",
            "Epoch 1/10\n",
            "1875/1875 [==============================] - 9s 5ms/step - loss: 0.3294 - accuracy: 0.9078 - val_loss: 0.1538 - val_accuracy: 0.9531\n",
            "Epoch 2/10\n",
            "1875/1875 [==============================] - 12s 6ms/step - loss: 0.1589 - accuracy: 0.9531 - val_loss: 0.1091 - val_accuracy: 0.9668\n",
            "Epoch 3/10\n",
            "1875/1875 [==============================] - 10s 5ms/step - loss: 0.1263 - accuracy: 0.9609 - val_loss: 0.1027 - val_accuracy: 0.9682\n",
            "Epoch 4/10\n",
            "1875/1875 [==============================] - 11s 6ms/step - loss: 0.1103 - accuracy: 0.9660 - val_loss: 0.0893 - val_accuracy: 0.9733\n",
            "Epoch 5/10\n",
            "1875/1875 [==============================] - 9s 5ms/step - loss: 0.0932 - accuracy: 0.9703 - val_loss: 0.0911 - val_accuracy: 0.9724\n",
            "Epoch 6/10\n",
            "1875/1875 [==============================] - 12s 7ms/step - loss: 0.0847 - accuracy: 0.9726 - val_loss: 0.0895 - val_accuracy: 0.9733\n",
            "Epoch 7/10\n",
            "1875/1875 [==============================] - 10s 5ms/step - loss: 0.0781 - accuracy: 0.9746 - val_loss: 0.0828 - val_accuracy: 0.9748\n",
            "Epoch 8/10\n",
            "1875/1875 [==============================] - 11s 6ms/step - loss: 0.0730 - accuracy: 0.9765 - val_loss: 0.0860 - val_accuracy: 0.9746\n",
            "Epoch 9/10\n",
            "1875/1875 [==============================] - 10s 5ms/step - loss: 0.0674 - accuracy: 0.9785 - val_loss: 0.0885 - val_accuracy: 0.9748\n",
            "Epoch 10/10\n",
            "1875/1875 [==============================] - 10s 5ms/step - loss: 0.0643 - accuracy: 0.9789 - val_loss: 0.0828 - val_accuracy: 0.9754\n"
          ]
        }
      ]
    },
    {
      "cell_type": "code",
      "source": [
        "import matplotlib.pyplot as plt\n",
        "import numpy as np\n",
        "\n",
        "plt.figure(figsize=(12,9))\n",
        "plt.plot(np.arange(1,11), history_a.history['val_loss'], color='navy', linestyle=':')\n",
        "plt.plot(np.arange(1,11), history_b.history['val_loss'], color='tomato', linestyle='-.')\n",
        "plt.plot(np.arange(1,11), history_c.history['val_loss'], color='green', linestyle='-')\n",
        "\n",
        "plt.title('Losses',fontsize=20)\n",
        "plt.xlabel('epochs')\n",
        "plt.ylabel('Losses')\n",
        "plt.legend(['ReLu','BatchNorm+ReLU','batchnorm_LeakyReLU'],fontsize=12)\n",
        "plt.show()"
      ],
      "metadata": {
        "colab": {
          "base_uri": "https://localhost:8080/",
          "height": 572
        },
        "id": "3TG8_o8tA_de",
        "outputId": "6f3febb0-ceb8-4fed-d310-c1c0c2e8bc21"
      },
      "execution_count": 55,
      "outputs": [
        {
          "output_type": "display_data",
          "data": {
            "text/plain": [
              "<Figure size 864x648 with 1 Axes>"
            ],
            "image/png": "[encoded data removed]"
          },
          "metadata": {
            "needs_background": "light"
          }
        }
      ]
    },
    {
      "cell_type": "markdown",
      "source": [
        "## **6. 모델 저장 및 불러오기**"
      ],
      "metadata": {
        "id": "41SHrb1TOqeH"
      }
    },
    {
      "cell_type": "markdown",
      "source": [
        "* 예제 실습을 위해 mnist 데이터셋을 불러오고, 앞에서 사용한 신경망 모델을 활용하여 모델 훈련을 먼저 완료한다."
      ],
      "metadata": {
        "id": "Evf3Cn82OuAM"
      }
    },
    {
      "cell_type": "code",
      "source": [
        "import tensorflow as tf\n",
        "\n",
        "# 케라스의 내장 데이터셋에서 mnist 데이터셋을 로드\n",
        "mnist = tf.keras.datasets.mnist\n",
        "\n",
        "# load_data()로 데이터셋을 로드 합니다.\n",
        "(x_train, y_train), (x_test, y_test) = mnist.load_data()\n",
        "\n",
        "# 데이터 정규화\n",
        "x_train = x_train / x_train.max()\n",
        "x_test = x_test / x_test.max()"
      ],
      "metadata": {
        "id": "inHJq64EV1me"
      },
      "execution_count": 56,
      "outputs": []
    },
    {
      "cell_type": "code",
      "source": [
        "model = tf.keras.Sequential([\n",
        "    tf.keras.layers.Flatten(input_shape=(28, 28)), \n",
        "    tf.keras.layers.Dense(256, activation='relu'), \n",
        "    tf.keras.layers.Dense(64, activation='relu'), \n",
        "    tf.keras.layers.Dense(32, activation='relu'), \n",
        "    tf.keras.layers.Dense(10, activation='softmax'), # 노드는 10개가 되어야 한다.\n",
        "])\n",
        "\n",
        "model.compile(optimizer='adam', loss='sparse_categorical_crossentropy', metrics=['accuracy'])\n",
        "\n",
        "model.fit(x_train, y_train,\n",
        "            validation_data=(x_test, y_test), \n",
        "            epochs=10, \n",
        "            )"
      ],
      "metadata": {
        "colab": {
          "base_uri": "https://localhost:8080/"
        },
        "id": "w4YYrujwV32_",
        "outputId": "5cc49b8c-b6d7-4c13-f486-2cdbdea7406f"
      },
      "execution_count": 57,
      "outputs": [
        {
          "output_type": "stream",
          "name": "stdout",
          "text": [
            "Epoch 1/10\n",
            "1875/1875 [==============================] - 14s 7ms/step - loss: 0.2283 - accuracy: 0.9313 - val_loss: 0.1123 - val_accuracy: 0.9655\n",
            "Epoch 2/10\n",
            "1875/1875 [==============================] - 10s 5ms/step - loss: 0.0935 - accuracy: 0.9719 - val_loss: 0.0963 - val_accuracy: 0.9693\n",
            "Epoch 3/10\n",
            "1875/1875 [==============================] - 10s 5ms/step - loss: 0.0648 - accuracy: 0.9797 - val_loss: 0.0785 - val_accuracy: 0.9756\n",
            "Epoch 4/10\n",
            "1875/1875 [==============================] - 10s 5ms/step - loss: 0.0490 - accuracy: 0.9841 - val_loss: 0.0751 - val_accuracy: 0.9781\n",
            "Epoch 5/10\n",
            "1875/1875 [==============================] - 10s 5ms/step - loss: 0.0408 - accuracy: 0.9874 - val_loss: 0.0773 - val_accuracy: 0.9772\n",
            "Epoch 6/10\n",
            "1875/1875 [==============================] - 10s 5ms/step - loss: 0.0322 - accuracy: 0.9903 - val_loss: 0.0760 - val_accuracy: 0.9800\n",
            "Epoch 7/10\n",
            "1875/1875 [==============================] - 10s 5ms/step - loss: 0.0298 - accuracy: 0.9906 - val_loss: 0.0837 - val_accuracy: 0.9782\n",
            "Epoch 8/10\n",
            "1875/1875 [==============================] - 11s 6ms/step - loss: 0.0258 - accuracy: 0.9919 - val_loss: 0.0792 - val_accuracy: 0.9798\n",
            "Epoch 9/10\n",
            "1875/1875 [==============================] - 9s 5ms/step - loss: 0.0203 - accuracy: 0.9935 - val_loss: 0.0976 - val_accuracy: 0.9783\n",
            "Epoch 10/10\n",
            "1875/1875 [==============================] - 10s 5ms/step - loss: 0.0215 - accuracy: 0.9930 - val_loss: 0.0941 - val_accuracy: 0.9793\n"
          ]
        },
        {
          "output_type": "execute_result",
          "data": {
            "text/plain": [
              "<keras.callbacks.History at 0x7fcca3d64590>"
            ]
          },
          "metadata": {},
          "execution_count": 57
        }
      ]
    },
    {
      "cell_type": "markdown",
      "source": [
        "### 1) 모델을 파일로 저장"
      ],
      "metadata": {
        "id": "SOLti5k5PMiL"
      }
    },
    {
      "cell_type": "markdown",
      "source": [
        "\n",
        "* save()\n",
        "  * 훈련을 종료하여 가중치가 업데이트된 모델 인스턴스를 저장할 수 있다.\n",
        "  * 저장할 파일의 디렉토리를 포함하는 파일명을 매개변수로 지정\n",
        "  * HDF5 포맷: 모델을 저장할 파일명이 .h5확장자를 포함 / 대용량의 데이터를 저장하기 위한 파일 형식\n",
        "  "
      ],
      "metadata": {
        "id": "bn8n-1P4PPz_"
      }
    },
    {
      "cell_type": "code",
      "source": [
        "# 모델을 h5 포맷으로 저장\n",
        "model.save('h5-model.h5')\n"
      ],
      "metadata": {
        "id": "ovndt3tYPfcr"
      },
      "execution_count": 58,
      "outputs": []
    },
    {
      "cell_type": "markdown",
      "source": [
        "### 2) 저장된 모델 복원"
      ],
      "metadata": {
        "id": "XwMoKODUPvOk"
      }
    },
    {
      "cell_type": "markdown",
      "source": [
        "* tensorflow.keras.models.load_model()\n",
        "  * 저장된 HDF5 포맷의 모델을 복원하여 summary()를 확인하면 모델 구조가 그대로 복원되어 있음"
      ],
      "metadata": {
        "id": "Okvb0_7jPyoe"
      }
    },
    {
      "cell_type": "code",
      "source": [
        "h5_model=tf.keras.models.load_model('h5-model.h5')\n",
        "h5_model.summary()"
      ],
      "metadata": {
        "colab": {
          "base_uri": "https://localhost:8080/"
        },
        "id": "DkUFLN5RP6m0",
        "outputId": "b8a9a9e4-790d-410e-f497-2e7357422701"
      },
      "execution_count": 59,
      "outputs": [
        {
          "output_type": "stream",
          "name": "stdout",
          "text": [
            "Model: \"sequential_10\"\n",
            "_________________________________________________________________\n",
            " Layer (type)                Output Shape              Param #   \n",
            "=================================================================\n",
            " flatten_5 (Flatten)         (None, 784)               0         \n",
            "                                                                 \n",
            " dense_36 (Dense)            (None, 256)               200960    \n",
            "                                                                 \n",
            " dense_37 (Dense)            (None, 64)                16448     \n",
            "                                                                 \n",
            " dense_38 (Dense)            (None, 32)                2080      \n",
            "                                                                 \n",
            " dense_39 (Dense)            (None, 10)                330       \n",
            "                                                                 \n",
            "=================================================================\n",
            "Total params: 219,818\n",
            "Trainable params: 219,818\n",
            "Non-trainable params: 0\n",
            "_________________________________________________________________\n"
          ]
        }
      ]
    },
    {
      "cell_type": "markdown",
      "source": [
        "* 복원한 모델을 검증하여 복원이 잘 되었는지 확인"
      ],
      "metadata": {
        "id": "KGyEgxHpQDSa"
      }
    },
    {
      "cell_type": "code",
      "source": [
        "loss,acc=h5_model.evaluate(x_test,y_test,verbose=0)\n",
        "print(f'h5 model] loss:{loss:5f},acc:{acc:5f}')"
      ],
      "metadata": {
        "colab": {
          "base_uri": "https://localhost:8080/"
        },
        "id": "nOpHJNENQHgQ",
        "outputId": "4612109f-6851-4a71-e83d-c09ce067e5b3"
      },
      "execution_count": 60,
      "outputs": [
        {
          "output_type": "stream",
          "name": "stdout",
          "text": [
            "h5 model] loss:0.094054,acc:0.979300\n"
          ]
        }
      ]
    },
    {
      "cell_type": "markdown",
      "source": [
        "* SavedModel 포맷\n",
        "  * h5 확장자를 생략하면 SavedModel 포맷으로 저장됨\n",
        "  * 텐서플로2에서 기본으로 지원하는 파일 포맷\n",
        "  * HDF5와 같은 방식으로 복원"
      ],
      "metadata": {
        "id": "oAQ_JWunQT1f"
      }
    },
    {
      "cell_type": "code",
      "source": [
        "model.save('saved-model')"
      ],
      "metadata": {
        "id": "wmx6dlUlQgPK"
      },
      "execution_count": 61,
      "outputs": []
    },
    {
      "cell_type": "code",
      "source": [
        "saved_model=tf.keras.models.load_model('saved-model')\n",
        "saved_model.summary()"
      ],
      "metadata": {
        "colab": {
          "base_uri": "https://localhost:8080/"
        },
        "id": "FNmJ2HxUQjO6",
        "outputId": "7a6a5344-688a-4a67-fa87-ce12c23719ae"
      },
      "execution_count": 62,
      "outputs": [
        {
          "output_type": "stream",
          "name": "stdout",
          "text": [
            "Model: \"sequential_10\"\n",
            "_________________________________________________________________\n",
            " Layer (type)                Output Shape              Param #   \n",
            "=================================================================\n",
            " flatten_5 (Flatten)         (None, 784)               0         \n",
            "                                                                 \n",
            " dense_36 (Dense)            (None, 256)               200960    \n",
            "                                                                 \n",
            " dense_37 (Dense)            (None, 64)                16448     \n",
            "                                                                 \n",
            " dense_38 (Dense)            (None, 32)                2080      \n",
            "                                                                 \n",
            " dense_39 (Dense)            (None, 10)                330       \n",
            "                                                                 \n",
            "=================================================================\n",
            "Total params: 219,818\n",
            "Trainable params: 219,818\n",
            "Non-trainable params: 0\n",
            "_________________________________________________________________\n"
          ]
        }
      ]
    },
    {
      "cell_type": "code",
      "source": [
        "loss,acc=loss,acc=h5_model.evaluate(x_test,y_test,verbose=0)\n",
        "print(f'h5 model] loss:{loss:5f},acc:{acc:5f}')\n",
        "\n",
        "loss,acc=saved_model.evaluate(x_test,y_test,verbose=0)\n",
        "print(f'saved_model] loss:{loss:5f},acc:{acc:5f}')"
      ],
      "metadata": {
        "colab": {
          "base_uri": "https://localhost:8080/"
        },
        "id": "8c0BRt87Qo1o",
        "outputId": "2b5212aa-5c2e-4814-9d9a-2bfc7aab78cc"
      },
      "execution_count": 63,
      "outputs": [
        {
          "output_type": "stream",
          "name": "stdout",
          "text": [
            "h5 model] loss:0.094054,acc:0.979300\n",
            "saved_model] loss:0.094054,acc:0.979300\n"
          ]
        }
      ]
    },
    {
      "cell_type": "markdown",
      "source": [
        "## **7. 복잡한 모델 생성**"
      ],
      "metadata": {
        "id": "IMRxv4EeRP-A"
      }
    },
    {
      "cell_type": "markdown",
      "source": [
        "### 1) 함수형 API (Functional API)"
      ],
      "metadata": {
        "id": "boubYL-CRT1u"
      }
    },
    {
      "cell_type": "markdown",
      "source": [
        "* Sequential API와 다르게 복잡한 구조의 모델을 정의할 수 있음\n",
        "* Sequential API는 단방향의 Sequential 모델만 구현할 수 있음"
      ],
      "metadata": {
        "id": "RUqWul0NRZXR"
      }
    },
    {
      "cell_type": "markdown",
      "source": [
        "* 기존에 Sequential API로 구현한 mnist 분류기를 함수형 API로 동일하게 구현"
      ],
      "metadata": {
        "id": "D1y2NoBvRsHk"
      }
    },
    {
      "cell_type": "code",
      "source": [
        "import tensorflow as tf\n",
        "\n",
        "mnist = tf.keras.datasets.mnist\n",
        "\n",
        "(x_train, y_train), (x_test, y_test) = mnist.load_data()\n",
        "\n",
        "x_train = x_train / x_train.max()\n",
        "x_test = x_test / x_test.max()"
      ],
      "metadata": {
        "id": "MzMd1w32Ry74"
      },
      "execution_count": 64,
      "outputs": []
    },
    {
      "cell_type": "code",
      "source": [
        "model = tf.keras.Sequential([\n",
        "    tf.keras.layers.Flatten(input_shape=(28, 28)), \n",
        "    tf.keras.layers.Dense(256, activation='relu'), \n",
        "    tf.keras.layers.Dense(64, activation='relu'), \n",
        "    tf.keras.layers.Dense(32, activation='relu'), \n",
        "    tf.keras.layers.Dense(10, activation='softmax'), \n",
        "])"
      ],
      "metadata": {
        "id": "ljnIsjE_Scg6"
      },
      "execution_count": 65,
      "outputs": []
    },
    {
      "cell_type": "markdown",
      "source": [
        "* 함수형 API를 사용하기 우해 Input 레이어 정의\n",
        "  * 데이터의 입력 shape 정의\n",
        "* 레이어마다 반환되는 출력값을 변수에 저장한 뒤 다음 레이어의 입력으로 연결\n",
        "* 여러 개의 레이어를 마치 체인 구조로 입출력을 계속 연결할 수 있음\n",
        "* 레이어마다 name 매개변수로 이름 부여\n",
        "  * 모든 인스턴스에 대하여 summary()로 요약 출력할 때 이름이 함께 출력됨 "
      ],
      "metadata": {
        "id": "z6w02iPPSOhU"
      }
    },
    {
      "cell_type": "code",
      "source": [
        "input_layer = tf.keras.Input(shape=(28, 28), name='InputLayer')\n",
        "\n",
        "x1 = tf.keras.layers.Flatten(name='Flatten')(input_layer)\n",
        "x2 = tf.keras.layers.Dense(256, activation='relu', name='Dense1')(x1)\n",
        "x3 = tf.keras.layers.Dense(64, activation='relu', name='Dense2')(x2)\n",
        "x4 = tf.keras.layers.Dense(10, activation='softmax', name='OutputLayer')(x3)"
      ],
      "metadata": {
        "id": "ZrcyWc7aSqpF"
      },
      "execution_count": 66,
      "outputs": []
    },
    {
      "cell_type": "markdown",
      "source": [
        "* 체인 방식으로 연결한 후에 tf.keras.Model()에 입력 레이어와 출력 레이어를 정의해 모델을 생성"
      ],
      "metadata": {
        "id": "UUu4kFGoSv5X"
      }
    },
    {
      "cell_type": "code",
      "source": [
        "# 모델 생성\n",
        "func_model = tf.keras.Model(inputs=input_layer, outputs=x4, name='FunctionalModel')\n",
        "\n",
        "# 모델 요약\n",
        "func_model.summary()"
      ],
      "metadata": {
        "colab": {
          "base_uri": "https://localhost:8080/"
        },
        "id": "mYokqGAqS_I_",
        "outputId": "ee178c50-afcc-473d-afc9-d06c6e6bc843"
      },
      "execution_count": 67,
      "outputs": [
        {
          "output_type": "stream",
          "name": "stdout",
          "text": [
            "Model: \"FunctionalModel\"\n",
            "_________________________________________________________________\n",
            " Layer (type)                Output Shape              Param #   \n",
            "=================================================================\n",
            " InputLayer (InputLayer)     [(None, 28, 28)]          0         \n",
            "                                                                 \n",
            " Flatten (Flatten)           (None, 784)               0         \n",
            "                                                                 \n",
            " Dense1 (Dense)              (None, 256)               200960    \n",
            "                                                                 \n",
            " Dense2 (Dense)              (None, 64)                16448     \n",
            "                                                                 \n",
            " OutputLayer (Dense)         (None, 10)                650       \n",
            "                                                                 \n",
            "=================================================================\n",
            "Total params: 218,058\n",
            "Trainable params: 218,058\n",
            "Non-trainable params: 0\n",
            "_________________________________________________________________\n"
          ]
        }
      ]
    },
    {
      "cell_type": "markdown",
      "source": [
        "* plot_model()\n",
        "  * summary()로는 복잡한 모델의 구조도 시각화하기 어려움\n",
        "  * plot_model()에 모델을 지정하면 구조도 출력\n",
        "  * show_shapes=True로 지정하면 데이터의 입출력 shape를 출력\n",
        "  * show_layer_names=True로 지정하면 레이어의 이름을 출력\n",
        "  * to_file 매개변수에 파일명을 입력하면 이미지 파일로 저장"
      ],
      "metadata": {
        "id": "5aIvqzHDTDVC"
      }
    },
    {
      "cell_type": "code",
      "source": [
        "from tensorflow.keras.utils import plot_model\n",
        "\n",
        "# 구조도 시각화\n",
        "plot_model(func_model, show_shapes=True, show_layer_names=True, to_file='model.png')"
      ],
      "metadata": {
        "colab": {
          "base_uri": "https://localhost:8080/",
          "height": 533
        },
        "id": "MVcURTKpTL5e",
        "outputId": "bed433cf-4122-4806-b3a3-c64d0e7c22d6"
      },
      "execution_count": 71,
      "outputs": [
        {
          "output_type": "execute_result",
          "data": {
            "image/png": "[encoded data removed]",
            "text/plain": [
              "<IPython.core.display.Image object>"
            ]
          },
          "metadata": {},
          "execution_count": 71
        }
      ]
    },
    {
      "cell_type": "markdown",
      "source": [
        "* 모델 훈련\n",
        "  * Sequential API로 생성한 모델과 같은 방식으로 훈련\n",
        "  * 생성된 모델 인스턴스에 compile() 메소드로 모델을 컴파일하고 fit()메소드로 모델을 훈련\n",
        "  * 훈련이 완료된 뒤 evaluate() 메소드로 검증"
      ],
      "metadata": {
        "id": "QtoPZVVbTkmr"
      }
    },
    {
      "cell_type": "code",
      "source": [
        "func_model.compile(optimizer='adam', loss='sparse_categorical_crossentropy', metrics=['accuracy'])\n",
        "\n",
        "func_model.fit(x_train, y_train, epochs=3)\n",
        "\n",
        "loss, acc = func_model.evaluate(x_test, y_test, verbose=0)\n",
        "print(f'Functional Model] loss: {loss:.5f}, acc: {acc:.5f}')"
      ],
      "metadata": {
        "colab": {
          "base_uri": "https://localhost:8080/"
        },
        "id": "yqRkHWGvTzJi",
        "outputId": "1f0022d5-0e5b-4f98-8441-e7d623455600"
      },
      "execution_count": 72,
      "outputs": [
        {
          "output_type": "stream",
          "name": "stdout",
          "text": [
            "Epoch 1/3\n",
            "1875/1875 [==============================] - 9s 5ms/step - loss: 0.2124 - accuracy: 0.9368\n",
            "Epoch 2/3\n",
            "1875/1875 [==============================] - 8s 5ms/step - loss: 0.0912 - accuracy: 0.9720\n",
            "Epoch 3/3\n",
            "1875/1875 [==============================] - 8s 4ms/step - loss: 0.0621 - accuracy: 0.9805\n",
            "Functional Model] loss: 0.07768, acc: 0.97660\n"
          ]
        }
      ]
    },
    {
      "cell_type": "markdown",
      "source": [
        "### 2) 모델 서브클래싱"
      ],
      "metadata": {
        "id": "A1s36cMUT3XD"
      }
    },
    {
      "cell_type": "markdown",
      "source": [
        "* 텐서플로 케라스는 Model 클래스를 제공하고 이를 기반으로 딥러닝 모델을 구현\n",
        "  * 모델 클래스를 직접 상속받아 사용자가 직접 서브클래스로 딥러닝 모델을 만들 수 도 있음\n",
        "  * 객체지향이나 파이썬 클래스 개념을 잘 이해하고 있으면 추천하는 방법"
      ],
      "metadata": {
        "id": "wvOe04cPT6xk"
      }
    },
    {
      "cell_type": "markdown",
      "source": [
        "* tf.keras.Model을 상속받아 생성하고자 하는 모델 클래스를 구현\n",
        "  * 모델의 \\__init()\\__ 함수에 레이어를 정의하고 레이어의 하이퍼파라미터를 정의"
      ],
      "metadata": {
        "id": "apu2sPTQUJIn"
      }
    },
    {
      "cell_type": "code",
      "source": [
        "class MyModel(tf.keras.Model):\n",
        "    \n",
        "    def __init__(self):\n",
        "        super(MyModel, self).__init__()\n",
        "        # 초기값 설정\n",
        "        self.flatten = tf.keras.layers.Flatten()\n",
        "        self.dense1 = tf.keras.layers.Dense(256, activation='relu')\n",
        "        self.dense2 = tf.keras.layers.Dense(64, activation='relu')\n",
        "        self.dense3 = tf.keras.layers.Dense(10, activation='softmax')\n",
        "        \n",
        "    # class overiding\n",
        "    # 학습용 함수 정의\n",
        "    # x는 input\n",
        "    def call(self, x):\n",
        "        x = self.flatten(x)\n",
        "        x = self.dense1(x)\n",
        "        x = self.dense2(x)\n",
        "        x = self.dense3(x)\n",
        "        return x"
      ],
      "metadata": {
        "id": "rS3pX1PmURu4"
      },
      "execution_count": 73,
      "outputs": []
    },
    {
      "cell_type": "markdown",
      "source": [
        "* call() 함수 오버라이딩 구현\n",
        "  * forward propagation 을 정의하고 함수형 API와 같은 방식으로 모든 레이어를 체인처럼 연결\n",
        "  "
      ],
      "metadata": {
        "id": "Ut2EeqS3Ucfo"
      }
    },
    {
      "cell_type": "code",
      "source": [
        "# 모델 생성\n",
        "mymodel = MyModel()\n",
        "\n",
        "# 모델의 이름 설정\n",
        "mymodel._name = 'subclass_model'\n",
        "\n",
        "# 모델 input 정의\n",
        "mymodel(tf.keras.layers.Input(shape=(28, 28)))\n",
        "\n",
        "# 모델 요약\n",
        "mymodel.summary()"
      ],
      "metadata": {
        "colab": {
          "base_uri": "https://localhost:8080/"
        },
        "id": "wAN3-nSNUaot",
        "outputId": "4a7ee1c8-8bd5-4a42-af9f-c1b0f0278fef"
      },
      "execution_count": 74,
      "outputs": [
        {
          "output_type": "stream",
          "name": "stdout",
          "text": [
            "Model: \"subclass_model\"\n",
            "_________________________________________________________________\n",
            " Layer (type)                Output Shape              Param #   \n",
            "=================================================================\n",
            " flatten_7 (Flatten)         multiple                  0         \n",
            "                                                                 \n",
            " dense_44 (Dense)            multiple                  200960    \n",
            "                                                                 \n",
            " dense_45 (Dense)            multiple                  16448     \n",
            "                                                                 \n",
            " dense_46 (Dense)            multiple                  650       \n",
            "                                                                 \n",
            "=================================================================\n",
            "Total params: 218,058\n",
            "Trainable params: 218,058\n",
            "Non-trainable params: 0\n",
            "_________________________________________________________________\n"
          ]
        }
      ]
    },
    {
      "cell_type": "markdown",
      "source": [
        "* 생성자로 객체를 생성해 저장한 mymodel 변수에 바로 summary()로 요약 출력하는 것은 불가능\n",
        "  * input_shape이 정의되지 않았기 때문에 전체 모델의 구조를 생성해내지 못하기 때문\n",
        "  * mymodel에 input 레이어와 함께 shape를 정의해주면 summary()로 모델 요약 확인 가능"
      ],
      "metadata": {
        "id": "ZDUT_f5wUn2X"
      }
    },
    {
      "cell_type": "code",
      "source": [
        "mymodel.compile(optimizer='adam', loss='sparse_categorical_crossentropy', metrics=['accuracy'])\n",
        "mymodel.fit(x_train, y_train, epochs=3)\n",
        "\n",
        "loss, acc = mymodel.evaluate(x_test, y_test, verbose=0)\n",
        "print(f'Subclassing Model] loss: {loss:.5f}, acc: {acc:.5f}')"
      ],
      "metadata": {
        "colab": {
          "base_uri": "https://localhost:8080/"
        },
        "id": "08gGDrEbU9xn",
        "outputId": "a0e26afd-d8cf-4115-8b85-0156c055a0b2"
      },
      "execution_count": 75,
      "outputs": [
        {
          "output_type": "stream",
          "name": "stdout",
          "text": [
            "Epoch 1/3\n",
            "1875/1875 [==============================] - 9s 5ms/step - loss: 0.2119 - accuracy: 0.9379\n",
            "Epoch 2/3\n",
            "1875/1875 [==============================] - 9s 5ms/step - loss: 0.0877 - accuracy: 0.9733\n",
            "Epoch 3/3\n",
            "1875/1875 [==============================] - 9s 5ms/step - loss: 0.0609 - accuracy: 0.9810\n",
            "Subclassing Model] loss: 0.07426, acc: 0.97610\n"
          ]
        }
      ]
    },
    {
      "cell_type": "markdown",
      "source": [
        "* Model Subclassing으로 생성된 모델의 훈련도 동일하게 compile()메소드로 컴파일 후 fit() 메소드로 훈련"
      ],
      "metadata": {
        "id": "bV6czqIjVBr1"
      }
    },
    {
      "cell_type": "markdown",
      "source": [
        "### 3) 서브클래싱 모델 파라미터를 활용한 생성"
      ],
      "metadata": {
        "id": "K_cxRJivVIQz"
      }
    },
    {
      "cell_type": "markdown",
      "source": [
        "* Model Subclassing으로 생성하는 것의 장점 :  생성자 파라미터로 모델 내부 레이어의 하이퍼파라미터를 지정할 수 있음"
      ],
      "metadata": {
        "id": "Nlio-gJ3VLwh"
      }
    },
    {
      "cell_type": "markdown",
      "source": [
        "* 모델의 생성자 파라미터를 추가하여 동적으로 레이어의 유닛 개수를 초기화하는 예제"
      ],
      "metadata": {
        "id": "zR87vpFpVTNR"
      }
    },
    {
      "cell_type": "code",
      "source": [
        "class MyModel(tf.keras.Model):\n",
        "    \n",
        "    # 생성자 parameter 추가\n",
        "    def __init__(self, units, num_classes):\n",
        "        super(MyModel, self).__init__()\n",
        "        # 초기값 설정\n",
        "        self.flatten = tf.keras.layers.Flatten()\n",
        "        self.dense1 = tf.keras.layers.Dense(units, activation='relu')\n",
        "        self.dense2 = tf.keras.layers.Dense(units/4, activation='relu')\n",
        "        self.dense3 = tf.keras.layers.Dense(num_classes, activation='softmax')\n",
        "        \n",
        "    # class overiding\n",
        "    # 학습용 함수 정의\n",
        "    # x는 input\n",
        "    def call(self, x):\n",
        "        x = self.flatten(x)\n",
        "        x = self.dense1(x)\n",
        "        x = self.dense2(x)\n",
        "        x = self.dense3(x)\n",
        "        return x"
      ],
      "metadata": {
        "id": "_FJ_mNnFVYgg"
      },
      "execution_count": 76,
      "outputs": []
    },
    {
      "cell_type": "markdown",
      "source": [
        "* 모델의 생성자 파라미터로 기준이 되는 unit의 개수를 입력받아 Dense 레이어의 유닛 개수를 계산하여 설정"
      ],
      "metadata": {
        "id": "a7cswj7tVZ8m"
      }
    },
    {
      "cell_type": "code",
      "source": [
        "mymodel = MyModel(256, 10)\n",
        "\n",
        "mymodel(tf.keras.layers.Input(shape=(28, 28)))\n",
        "\n",
        "mymodel.summary()"
      ],
      "metadata": {
        "colab": {
          "base_uri": "https://localhost:8080/"
        },
        "id": "Rl7fQvt-Vfm4",
        "outputId": "adfc9ec6-0ba3-40a6-e473-519b6c369d2d"
      },
      "execution_count": 77,
      "outputs": [
        {
          "output_type": "stream",
          "name": "stdout",
          "text": [
            "Model: \"my_model_1\"\n",
            "_________________________________________________________________\n",
            " Layer (type)                Output Shape              Param #   \n",
            "=================================================================\n",
            " flatten_8 (Flatten)         multiple                  0         \n",
            "                                                                 \n",
            " dense_47 (Dense)            multiple                  200960    \n",
            "                                                                 \n",
            " dense_48 (Dense)            multiple                  16448     \n",
            "                                                                 \n",
            " dense_49 (Dense)            multiple                  650       \n",
            "                                                                 \n",
            "=================================================================\n",
            "Total params: 218,058\n",
            "Trainable params: 218,058\n",
            "Non-trainable params: 0\n",
            "_________________________________________________________________\n"
          ]
        }
      ]
    },
    {
      "cell_type": "markdown",
      "source": [
        "* summary()로 요약한 결과를 확인해보면 동적으로 설정한 레이어의 파라미터가 초기화 되었음을 알 수 있음"
      ],
      "metadata": {
        "id": "KNo7FIb_VjDx"
      }
    },
    {
      "cell_type": "code",
      "source": [
        "# 컴파일\n",
        "mymodel.compile(optimizer='adam', loss='sparse_categorical_crossentropy', metrics=['accuracy'])\n",
        "\n",
        "# 훈련\n",
        "mymodel.fit(x_train, y_train, epochs=3)\n",
        "\n",
        "# 검증\n",
        "loss, acc = mymodel.evaluate(x_test, y_test, verbose=0)\n",
        "print(f'Subclassing Model w. parameters] loss: {loss:.5f}, acc: {acc:.5f}')"
      ],
      "metadata": {
        "colab": {
          "base_uri": "https://localhost:8080/"
        },
        "id": "m4Q4c0gPVo_0",
        "outputId": "7b363d3a-74d9-4f5f-f976-7a7d9d888bcb"
      },
      "execution_count": 78,
      "outputs": [
        {
          "output_type": "stream",
          "name": "stdout",
          "text": [
            "Epoch 1/3\n",
            "1875/1875 [==============================] - 9s 4ms/step - loss: 0.2090 - accuracy: 0.9373\n",
            "Epoch 2/3\n",
            "1875/1875 [==============================] - 8s 4ms/step - loss: 0.0860 - accuracy: 0.9730\n",
            "Epoch 3/3\n",
            "1875/1875 [==============================] - 8s 4ms/step - loss: 0.0599 - accuracy: 0.9809\n",
            "Subclassing Model w. parameters] loss: 0.08038, acc: 0.97430\n"
          ]
        }
      ]
    },
    {
      "cell_type": "markdown",
      "source": [
        "* 이렇게 생성한 모델도 동일하게 훈련 및 검증 가능"
      ],
      "metadata": {
        "id": "8qJD3o8pVrvi"
      }
    }
  ]
}