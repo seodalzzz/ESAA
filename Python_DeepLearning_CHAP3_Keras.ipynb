{
  "nbformat": 4,
  "nbformat_minor": 0,
  "metadata": {
    "colab": {
      "provenance": [],
      "authorship_tag": "ABX9TyP3UqrRlVW+jf0TDpwYGlZZ"
    },
    "kernelspec": {
      "name": "python3",
      "display_name": "Python 3"
    },
    "language_info": {
      "name": "python"
    }
  },
  "cells": [
    {
      "cell_type": "markdown",
      "source": [
        "# **CHAP3 Keras**"
      ],
      "metadata": {
        "id": "bM2ZdH6wTbvf"
      }
    },
    {
      "cell_type": "markdown",
      "source": [
        "## **1. 딥러닝 준비**"
      ],
      "metadata": {
        "id": "b7G09zsJTSJH"
      }
    },
    {
      "cell_type": "markdown",
      "source": [
        "* 케라스 : 프랑스 엔지니어인 프랑소와 숄레가 만든 고수준의 딥러닝 라이브러리\n",
        "  * GPU연산을 수행하는 기능을 직접 실행하지 않고 텐서플로, CNTK, Theano, MXNet 등의 백엔드 엔진을 지정하여 사용"
      ],
      "metadata": {
        "id": "5TASOsxPTY1K"
      }
    },
    {
      "cell_type": "markdown",
      "source": [
        "### 1) 주요 용어"
      ],
      "metadata": {
        "id": "-xKXFjPST0sI"
      }
    },
    {
      "cell_type": "markdown",
      "source": [
        "#### (1) 하이퍼파라미터\n",
        "  * 머신러닝 모델을 훈련할 떄 사용자가 직접 설정해주는 설정값\n",
        "  * 사용자가 설정하는 하이퍼 파라미터에 따라 모델의 성능 및 결과가 달라짐\n",
        "  * 하이퍼 파라미터 튜닝 : 하이퍼파라미터의 값을 조절\n",
        "  * 딥러닝 프로젝트를 실행하는 초기 단계에 많은 시간을 튜닝에 투자하는 것 보다 마지막 단계에 진행하는 것을 추천\n"
      ],
      "metadata": {
        "id": "7UM__uDDT34k"
      }
    },
    {
      "cell_type": "markdown",
      "source": [
        "#### (2) 과소적합vs과대적합\n",
        "  * train set / test set\n",
        "  * 예측할 데이터가 모델이 학습한 데이터와 다른 분포를 갖거나, 혹은 학습한 데이터가 특정 레이블에 편향된 데이터로 이루어져 있을 경우 모델의 성능이 떨어질 수 있음\n",
        "  * 과소적합 : 모델이 충분히 학습되지 않아 모델의 성능이 떨어짐\n",
        "  * 과대적합 : 학습 데이터를 지나치게 반복 학습하게 되어 과하게 적합된 상태 > 노이즈까지 학습\n",
        "  * 과소적합과 과대적합 문제를 최소화하면서 정확도를 가장 높일 수 있도록 해야 함"
      ],
      "metadata": {
        "id": "vyRrM7A7UcUm"
      }
    },
    {
      "cell_type": "markdown",
      "source": [
        "#### (3) 에포크\n",
        "  * 딥러닝 모델이 반복 훈련을 할 떄 데이터셋을 전부 학습에 사용하는 1회의 훈련 루프\n"
      ],
      "metadata": {
        "id": "m9Wlq6jGVC6w"
      }
    },
    {
      "cell_type": "markdown",
      "source": [
        "#### (4) 손실 함수\n",
        "  * 예측 값과 정잡 값의 오차\n",
        "  * 사용자가 정의\n",
        "  * 클래스 및 함수 형태로 정의되어 있는 손실함수를 지정하여 사용"
      ],
      "metadata": {
        "id": "Lc86LTfEVPXB"
      }
    },
    {
      "cell_type": "code",
      "execution_count": 86,
      "metadata": {
        "colab": {
          "base_uri": "https://localhost:8080/"
        },
        "id": "rPgeGOwLTIuN",
        "outputId": "5268e77a-9051-4cc2-9b4b-990e1b6c03b7"
      },
      "outputs": [
        {
          "output_type": "execute_result",
          "data": {
            "text/plain": [
              "<function keras.losses.binary_crossentropy(y_true, y_pred, from_logits=False, label_smoothing=0.0, axis=-1)>"
            ]
          },
          "metadata": {},
          "execution_count": 86
        }
      ],
      "source": [
        "import tensorflow as tf\n",
        "\n",
        "tf.keras.losses.BinaryCrossentropy()\n",
        "tf.keras.losses.binary_crossentropy"
      ]
    },
    {
      "cell_type": "markdown",
      "source": [
        "#### (5) 경사하강법\n",
        "  * 딥러닝 모델을 훈련할 때, 모델 내부의 가중치에 대한 미분 값을 구하고 목적 함수 값이 낮아지는 방향으로 차감하면서 결국 최소 함수 값을 갖도록 하는 방법\n",
        "  * 경사하강법 구현(Numpy)"
      ],
      "metadata": {
        "id": "ZgfQW80WVs9v"
      }
    },
    {
      "cell_type": "code",
      "source": [
        "import numpy as np\n",
        "import matplotlib.pyplot as plt\n",
        "\n",
        "def make_linear(w=0.5, b=0.8, size=50, noise=1.0):\n",
        "  x=np.random.rand(size)\n",
        "  y=w*x+b\n",
        "  noise=np.random.uniform(-abs(noise), abs(noise), size=y.shape)\n",
        "  yy=y+noise\n",
        "  plt.figure(figsize=(10,7))\n",
        "  plt.plot(x,y,color='r', label=f'y={w}*w+{b}')\n",
        "  plt.scatter(x,yy,label='data')\n",
        "  plt.legend(fontsize=20)\n",
        "  plt.show()\n",
        "  print(f'w:{w}, b:{b}')\n",
        "  return x,yy\n",
        "\n",
        "x,y=make_linear(w=0.3, b=0.5, size=100, noise=0.01)"
      ],
      "metadata": {
        "colab": {
          "base_uri": "https://localhost:8080/",
          "height": 446
        },
        "id": "nwgnle-NVkPM",
        "outputId": "ebd29fae-d3ad-4193-b22c-e085b3eb76b3"
      },
      "execution_count": 87,
      "outputs": [
        {
          "output_type": "display_data",
          "data": {
            "text/plain": [
              "<Figure size 720x504 with 1 Axes>"
            ],
            "image/png": "[encoded data removed]"
          },
          "metadata": {
            "needs_background": "light"
          }
        },
        {
          "output_type": "stream",
          "name": "stdout",
          "text": [
            "w:0.3, b:0.5\n"
          ]
        }
      ]
    },
    {
      "cell_type": "code",
      "source": [
        "num_epoch=1000\n",
        "learning_rate=0.005\n",
        "errors=[]\n",
        "w=np.random.uniform(low=0.0, high=1.0)\n",
        "b=np.random.uniform(low=0.0, high=1.0)\n",
        "for epoch in range(num_epoch):\n",
        "  y_hat=w*x+b\n",
        "  error=0.5*((y_hat-y)**2).sum()\n",
        "  if error<0.005:\n",
        "    break\n",
        "  w=w-learning_rate*((y_hat-y)*x).sum()\n",
        "  b=b-learning_rate*(y_hat-y).sum()\n",
        "\n",
        "  errors.append(error)\n",
        "\n",
        "  if epoch%5==0:\n",
        "    print(\"{0:2}w={1:5f},b={2:5f}error={3:5f}\".format(epoch,w,b,error))\n",
        "\n",
        "print(\"------\"*15)\n",
        "print(\"{0:2} w={1:1f}, b{2:1f} error={3:5f}\".format(epoch,w,b,error))\n"
      ],
      "metadata": {
        "colab": {
          "base_uri": "https://localhost:8080/"
        },
        "id": "km5NvMaYXz2S",
        "outputId": "d0f1c199-970e-4e26-f455-1213dd8a8496"
      },
      "execution_count": 88,
      "outputs": [
        {
          "output_type": "stream",
          "name": "stdout",
          "text": [
            " 0w=0.807938,b=0.449194error=16.547537\n",
            " 5w=0.657845,b=0.316114error=0.566575\n",
            "10w=0.602729,b=0.343009error=0.407350\n",
            "15w=0.556525,b=0.366857error=0.293464\n",
            "20w=0.517346,b=0.387090error=0.211557\n",
            "25w=0.484120,b=0.404249error=0.152651\n",
            "30w=0.455942,b=0.418800error=0.110285\n",
            "35w=0.432046,b=0.431141error=0.079816\n",
            "40w=0.411781,b=0.441606error=0.057903\n",
            "45w=0.394594,b=0.450481error=0.042143\n",
            "50w=0.380020,b=0.458008error=0.030808\n",
            "55w=0.367660,b=0.464391error=0.022657\n",
            "60w=0.357178,b=0.469804error=0.016794\n",
            "65w=0.348288,b=0.474394error=0.012577\n",
            "70w=0.340750,b=0.478287error=0.009545\n",
            "75w=0.334356,b=0.481589error=0.007364\n",
            "80w=0.328935,b=0.484389error=0.005796\n",
            "------------------------------------------------------------------------------------------\n",
            "84 w=0.326085, b0.485860 error=0.004864\n"
          ]
        }
      ]
    },
    {
      "cell_type": "code",
      "source": [
        "plt.figure(figsize=(10,7))\n",
        "plt.plot(errors)\n",
        "plt.xlabel(\"Epochs\")\n",
        "plt.ylabel(\"Error\")\n",
        "plt.show()"
      ],
      "metadata": {
        "colab": {
          "base_uri": "https://localhost:8080/",
          "height": 442
        },
        "id": "NQ6hCOJKY2-j",
        "outputId": "0e4d7a4e-b47f-426c-e3db-67c73077fed1"
      },
      "execution_count": 89,
      "outputs": [
        {
          "output_type": "display_data",
          "data": {
            "text/plain": [
              "<Figure size 720x504 with 1 Axes>"
            ],
            "image/png": "[encoded data removed]"
          },
          "metadata": {
            "needs_background": "light"
          }
        }
      ]
    },
    {
      "cell_type": "markdown",
      "source": [
        "* 가중치가 난수 값에 의하여 다르게 초기화되기 때문에 매번 실행할 때마다 수렴하는 속도는 차이가 있음"
      ],
      "metadata": {
        "id": "hKXhtlYFZJ2v"
      }
    },
    {
      "cell_type": "markdown",
      "source": [
        "### 2) 딥러닝 프로세스**"
      ],
      "metadata": {
        "id": "O9KIIJ_EZQrt"
      }
    },
    {
      "cell_type": "markdown",
      "source": [
        "#### (1) 데이터 전처리\n",
        "  * 데이터를 모델에 주입하기 전에 데이터를 가공하는 단계\n",
        "  * 전처리 단계에서 데이터셋의 형태나 차원을 미리 구상해야 다음 단계에서 모델을 설계할 때 입력한 데이터셋의 형태를 올바르게 정의할 수 있다.\n",
        "  * 전처리 단계에서 처리한 데이터셋의 형태와 다음 단계에서 생성할 모델이 입력받을 데이터셋의 형태가 다르다면 에러가 발생할 수 있다."
      ],
      "metadata": {
        "id": "1d8HqOTgZUG8"
      }
    },
    {
      "cell_type": "markdown",
      "source": [
        "#### (2) 모델 생성\n",
        "  * 모델의 구조를 정의하고 생성하는 단계\n",
        "  * 순차적인 구조의 모델 : Sequential API\n",
        "  * 다중 입력 및 출력을 가지고 복잡한 구조를 갖는 모델 : Functional API, Model Subclassing"
      ],
      "metadata": {
        "id": "vSeLcfLDbIey"
      }
    },
    {
      "cell_type": "markdown",
      "source": [
        "#### (3) 모델 컴파일\n",
        "  * 생성된 모델 훈련에 사용할 손실함수, 옵티마이저, 평가지표 등을 정의\n",
        "  * 모델 인스턴스에 compile() 메소드를 적용하고, 여러가지 속성 값을 설정"
      ],
      "metadata": {
        "id": "sLQohGw7bbBm"
      }
    },
    {
      "cell_type": "markdown",
      "source": [
        "#### (4) 모델 훈련\n",
        "  * 모델을 훈련하는 단계\n",
        "  * fit() 함수에 모델 훈련에 필요한 정보를 매개변수(파라미터)로 전달\n",
        "  * 훈련 데이터셋, 검증 데이터셋, epoch, 배치크기 및 콜백 함수 등을 지정\n",
        "\n"
      ],
      "metadata": {
        "id": "nzpNe0BVbohk"
      }
    },
    {
      "cell_type": "markdown",
      "source": [
        "#### (5) 모델 검증\n",
        "  * 훈련이 완료된 모델을 검증\n",
        "  * 훈련에 사용하지 않은 검증 데이터셋을 모델에 입력하고 모델의 예측 값을 정답과 비교하여 평가지표를 계산\n",
        "  * 검증 결과를 바탕으로 다시 모델 생성 단계로 돌아가 모델을 수정하고, 컴파일 및 훈련 과정을 거쳐 재평가 하는 과정을 목표 성능에 도달할 때까지 반복"
      ],
      "metadata": {
        "id": "035-4PDQb6bC"
      }
    },
    {
      "cell_type": "markdown",
      "source": [
        "#### (6) 모델 예측\n",
        "  * 훈련과 검증이 완료된 모델로 테스트셋에 대하여 모델이 예측하고 그 결과를 반환"
      ],
      "metadata": {
        "id": "-TMudcT8cWnG"
      }
    },
    {
      "cell_type": "markdown",
      "source": [
        "## **2. 단순 신경망 훈련**"
      ],
      "metadata": {
        "id": "lBon-_3ycgZN"
      }
    },
    {
      "cell_type": "markdown",
      "source": [
        "### 1) 선형 회귀"
      ],
      "metadata": {
        "id": "QSHHiiEZc0lj"
      }
    },
    {
      "cell_type": "markdown",
      "source": [
        "  * 회귀 분석 : 하나 이상의  독립변수들이 종속변수에 미치는 영향을 추정하는 통계 기법\n",
        "  * 단순 선형 회귀 : 하나의 X가 하나의 Y에 미치는 영향을 추정"
      ],
      "metadata": {
        "id": "NFsp31dzc5RT"
      }
    },
    {
      "cell_type": "markdown",
      "source": [
        "### 2) 뉴런\n",
        "  * 인공 신경망 모델을 구성하는 하나의 신경\n",
        "  * 노드\n",
        "  * 신경망은 여러 개의 레이어를 가지며 1개의 레이어는 1개 이상의 뉴런으로 구성됨\n",
        "  * 뉴런의 내부에는 가중치가 존재하고 모델이 훈련을 진행하면서 오차 역전파를 통해 뉴런의 가중치가 업데이트 됨\n",
        "  * 역전파 알고리즘 : 신경망 모델의 파라미터들에 대한 그래디언트를 계산하는 방법. 신경망을 구성하는 각 레이어와 관련된 손실함수를 미분한 결과인 그래디언트를  출력층에서 입력층 순으로 역으로 계산하고 저장함."
      ],
      "metadata": {
        "id": "p2eD_3UEdKmz"
      }
    },
    {
      "cell_type": "markdown",
      "source": [
        "### 3) Dense 레이어"
      ],
      "metadata": {
        "id": "ZliGpZeOduuQ"
      }
    },
    {
      "cell_type": "markdown",
      "source": [
        "  * 심층 신경망 모델을 구성하는 가장 기본 레이어\n",
        "  * 각 레이어와 레이어 사이에 모든 뉴런이 서로 연결되어 있기 때문에 Fully connected Layer라고 부르기도 함\n",
        "  * Dense 레이어를 구성하는 노드 개수와 활성화 함수를 지정할 수 있음\n",
        "  * 텐서플로의 layer모듈에 있는 Dense 레이어로 쉽게 구현 가능"
      ],
      "metadata": {
        "id": "NcFoNMJ2dxtP"
      }
    },
    {
      "cell_type": "code",
      "source": [
        "import tensorflow as tf\n",
        "\n",
        "tf.keras.layers.Dense(10)\n",
        "tf.keras.layers.Dense(10,activation='relu')"
      ],
      "metadata": {
        "colab": {
          "base_uri": "https://localhost:8080/"
        },
        "id": "71c_xwnaeNZ3",
        "outputId": "77d7bd68-62a1-4518-db28-289fef4f8870"
      },
      "execution_count": 90,
      "outputs": [
        {
          "output_type": "execute_result",
          "data": {
            "text/plain": [
              "<keras.layers.core.dense.Dense at 0x7ff0d89b2a10>"
            ]
          },
          "metadata": {},
          "execution_count": 90
        }
      ]
    },
    {
      "cell_type": "markdown",
      "source": [
        "### 4) 데이터셋 만들기\n",
        "  * 단순선형회귀 모형을 지도학습 방식으로 훈련"
      ],
      "metadata": {
        "id": "S2XQfmfMeUGq"
      }
    },
    {
      "cell_type": "code",
      "source": [
        "x=np.arange(1,6)\n",
        "\n",
        "y=3*x+2\n",
        "print(x)\n",
        "print(y)"
      ],
      "metadata": {
        "colab": {
          "base_uri": "https://localhost:8080/"
        },
        "id": "r4pomg4aecrt",
        "outputId": "c8543f22-8ac9-4fb7-9100-5ec2f8e4eb27"
      },
      "execution_count": 91,
      "outputs": [
        {
          "output_type": "stream",
          "name": "stdout",
          "text": [
            "[1 2 3 4 5]\n",
            "[ 5  8 11 14 17]\n"
          ]
        }
      ]
    },
    {
      "cell_type": "code",
      "source": [
        "import matplotlib.pyplot as plt\n",
        "\n",
        "plt.plot(x,y)\n",
        "plt.title('y=3x+2')\n",
        "plt.show()"
      ],
      "metadata": {
        "colab": {
          "base_uri": "https://localhost:8080/",
          "height": 281
        },
        "id": "WXp_T9hdejpK",
        "outputId": "c1c4aa5e-d06d-4376-b793-329a508d1a75"
      },
      "execution_count": 92,
      "outputs": [
        {
          "output_type": "display_data",
          "data": {
            "text/plain": [
              "<Figure size 432x288 with 1 Axes>"
            ],
            "image/png": "[encoded data removed]"
          },
          "metadata": {
            "needs_background": "light"
          }
        }
      ]
    },
    {
      "cell_type": "markdown",
      "source": [
        "### 5) Sequential API\n",
        "  * 층을 이어 붙이듯 시퀀스에 맞게 일렬로 연결하는 방식\n",
        "  * 입력 레이어부터 출력 레이어까지 순서를 가짐\n",
        "  * 입력 데이터는 시퀀스의 가장 앞에 위치한 층에 투입되고, 순서대로 각 층을 하나씩 통과하면서 딥러닝 연산을 수행\n",
        "  * 다중 입력이나 다중 출력을 갖는 복잡한 구조를 만들 수 없음"
      ],
      "metadata": {
        "id": "acTwRehuesg7"
      }
    },
    {
      "cell_type": "markdown",
      "source": [
        "#### (1) 모델 구조\n",
        "\n",
        "  * 리스트형 정의로 Sequential 클래스 함수에 파이썬 리스트 형태로 여러 개의 층을 입력\n",
        "    * 대괄호 안에 쉼표로 구분하여 층을 쌓음"
      ],
      "metadata": {
        "id": "nLRxEuWJe_dY"
      }
    },
    {
      "cell_type": "code",
      "source": [
        "#Dense 레이어 3개를 갖는 모델을 생성\n",
        "import tensorflow as tf\n",
        "\n",
        "model=tf.keras.Sequential([\n",
        "    tf.keras.layers.Dense(10),\n",
        "    tf.keras.layers.Dense(5),\n",
        "    tf.keras.layers.Dense(1) \n",
        "])"
      ],
      "metadata": {
        "id": "9iShOk9sfh9o"
      },
      "execution_count": 93,
      "outputs": []
    },
    {
      "cell_type": "markdown",
      "source": [
        "  * add 함수로 레이어 추가로 Sequential 클래스 객체를 먼저 만든 뒤에, 생성된 모델 인스턴스에 층을 추가\n",
        "    * add() 메소드 함수를 사용하여 1개의 층을 추가\n",
        "    * 여러 개의 층을 추가하기 위해서는 add함수를 반복"
      ],
      "metadata": {
        "id": "x0PKaxf-fwax"
      }
    },
    {
      "cell_type": "code",
      "source": [
        "model=tf.keras.Sequential()\n",
        "model.add(tf.keras.layers.Dense(10))\n",
        "model.add(tf.keras.layers.Dense(5))\n",
        "model.add(tf.keras.layers.Dense(1))"
      ],
      "metadata": {
        "id": "SG2kK47xgFKd"
      },
      "execution_count": 94,
      "outputs": []
    },
    {
      "cell_type": "markdown",
      "source": [
        "#### (2) 입력 데이터 형태\n",
        "  * Sequential API를 사용하여 모델을 구성할 때 반드시 첫째 층은 input_shape 매개변수를 지정해야 함 => 주입할 데이터셋의 shape을 튜플 혹은 리스트로 지정"
      ],
      "metadata": {
        "id": "05RAMIFYgNc5"
      }
    },
    {
      "cell_type": "code",
      "source": [
        "import tensorflow as tf\n",
        "model=tf.keras.Sequential([\n",
        "    tf.keras.layers.Dense(10,input_shape=[4]),\n",
        "    tf.keras.layers.Dense(5),\n",
        "    tf.keras.layers.Dense(1)\n",
        "])"
      ],
      "metadata": {
        "id": "3YuIWisFgdKa"
      },
      "execution_count": 95,
      "outputs": []
    },
    {
      "cell_type": "markdown",
      "source": [
        "#### (3) 단순선형회귀 모델의 정의\n",
        "  * 단순 선형 회귀 모델을 만들기 위해서는 1개읜 뉴런을 가지는 Dense 레이어 한개를 사용\n",
        "  * 입력 데이터는 x값을 나타내는 입력변수 1개만 존재 "
      ],
      "metadata": {
        "id": "2AWxZ9nwgvl8"
      }
    },
    {
      "cell_type": "code",
      "source": [
        "model=tf.keras.Sequential([\n",
        "    tf.keras.layers.Dense(1, input_shape=[1])\n",
        "])"
      ],
      "metadata": {
        "id": "cm8G3Ijxg_XM"
      },
      "execution_count": 98,
      "outputs": []
    },
    {
      "cell_type": "markdown",
      "source": [
        "### 6) 모델 요약\n",
        "  * model.summary()로 모델 요약 확인 가능\n",
        "  * 모델의 구조 확인 가능, 층별 노드의 개수 표기, 업데이트할 파라미터의 개수 표기\n",
        "  * Total params : 모델 내부에 존재하느 모든 파라미터의 합계\n",
        "  * Trainable params : 모델 훈련 시 업데이트할 파라미터의 총 개수\n",
        "  * Non-trainable params : 훈련 시 업데이트하지 않을 파라미터의 총 개수\n",
        "  "
      ],
      "metadata": {
        "id": "T7D95_juhHMH"
      }
    },
    {
      "cell_type": "markdown",
      "source": [
        "### 7) 컴파일\n"
      ],
      "metadata": {
        "id": "anhfCdlfht56"
      }
    },
    {
      "cell_type": "markdown",
      "source": [
        "  * 모델의 훈련 과정에서 적용할 옵티마이저, 손실함수, 평가지표 등을 정의함\n",
        "  * 클래스 인스턴스로 지정\n",
        "    * 학습률, 모멘텀 등의 하이퍼 파라미터를 사용자가 직접 지정\n",
        "  * 문자열로 지정\n",
        "    * 기본값으로 설정된 하이퍼 파라미터를 사용, 수정은 어려움"
      ],
      "metadata": {
        "id": "4mUnr55hhv1Q"
      }
    },
    {
      "cell_type": "code",
      "source": [
        "# 긴 문자열 지정\n",
        "model.compile(optimizer='sgd', loss='mean_squared_error', metrics=['mean_squared_error', 'mean_absolute_error'])"
      ],
      "metadata": {
        "id": "LwdvqfV5iEhy"
      },
      "execution_count": 99,
      "outputs": []
    },
    {
      "cell_type": "code",
      "source": [
        "# 짧은 문자열 지정 \n",
        "model.compile(optimizer='sgd',loss='mse', metrics=['mse','mae'])"
      ],
      "metadata": {
        "id": "gJnAXg_MiOpl"
      },
      "execution_count": 100,
      "outputs": []
    },
    {
      "cell_type": "code",
      "source": [
        "# 클래스 인스턴스 지정\n",
        "model.compile(optimizer=tf.keras.optimizers.SGD(lr=0.005),\n",
        "              loss=tf.keras.losses.MeanAbsoluteError(),\n",
        "              metrics=[tf.keras.metrics.MeanAbsoluteError(),\n",
        "                       tf.keras.metrics.MeanSquaredError()])"
      ],
      "metadata": {
        "colab": {
          "base_uri": "https://localhost:8080/"
        },
        "id": "yqILDANZib2g",
        "outputId": "cf075b63-bbf2-4a83-847e-73f6c4b78c69"
      },
      "execution_count": 101,
      "outputs": [
        {
          "output_type": "stream",
          "name": "stderr",
          "text": [
            "/usr/local/lib/python3.7/dist-packages/keras/optimizers/optimizer_v2/gradient_descent.py:108: UserWarning: The `lr` argument is deprecated, use `learning_rate` instead.\n",
            "  super(SGD, self).__init__(name, **kwargs)\n"
          ]
        }
      ]
    },
    {
      "cell_type": "code",
      "source": [
        "model.compile(optimizer='sgd',loss='mse',metrics=['mae'])"
      ],
      "metadata": {
        "id": "0etgeAmfiv9F"
      },
      "execution_count": 102,
      "outputs": []
    },
    {
      "cell_type": "markdown",
      "source": [
        "### 8) 훈련\n",
        "  * 생성한 모델 인스턴스에 fit()메소드를 적용\n",
        "  * 훈련 : 가중치를 업데이트\n",
        "  * fit()\n",
        "    *  훈련용 데이터셋의 입력(x)와 정답에 해당하는 출력(y), 반복 훈련할 epoch 수를 지정\n",
        "    * 매 epoch가 끝날 때마다 훈련 데이터셋에 대한 손실과 평가지표를 출력 (안하려면 verbos=0)\n",
        "    * 검증 데이터셋 옵션을 지정했다면 검증 셋에 대한 손실과 평가지표도 함께 출력"
      ],
      "metadata": {
        "id": "crGiGH4si41J"
      }
    },
    {
      "cell_type": "code",
      "source": [
        "model.fit(x,y,epochs=5)"
      ],
      "metadata": {
        "colab": {
          "base_uri": "https://localhost:8080/"
        },
        "id": "lNM0DIj7jglR",
        "outputId": "ab86629f-b878-4336-e442-71faade3684d"
      },
      "execution_count": 103,
      "outputs": [
        {
          "output_type": "stream",
          "name": "stdout",
          "text": [
            "Epoch 1/5\n",
            "1/1 [==============================] - 0s 264ms/step - loss: 114.6969 - mae: 10.0201\n",
            "Epoch 2/5\n",
            "1/1 [==============================] - 0s 9ms/step - loss: 66.9419 - mae: 7.6953\n",
            "Epoch 3/5\n",
            "1/1 [==============================] - 0s 6ms/step - loss: 39.1120 - mae: 5.9204\n",
            "Epoch 4/5\n",
            "1/1 [==============================] - 0s 5ms/step - loss: 22.8934 - mae: 4.5653\n",
            "Epoch 5/5\n",
            "1/1 [==============================] - 0s 8ms/step - loss: 13.4413 - mae: 3.5307\n"
          ]
        },
        {
          "output_type": "execute_result",
          "data": {
            "text/plain": [
              "<keras.callbacks.History at 0x7ff0d55e6e10>"
            ]
          },
          "metadata": {},
          "execution_count": 103
        }
      ]
    },
    {
      "cell_type": "markdown",
      "source": [
        "> 모델의 예측오차가 점점 줄어듦\n",
        "\n",
        "> 반복 훈련 횟수가 충분하지 않아 학습이 덜 됨 (과소적합)"
      ],
      "metadata": {
        "id": "zzGitnvFjkEo"
      }
    },
    {
      "cell_type": "markdown",
      "source": [
        "*  epoch에 120을 지정하여 충분히 훈련\n",
        "* fit() 메소드가 반환하는 history 변수는 epoch 별 훈련 손실과 평가지표가 딕셔너리 형태로 저장됨"
      ],
      "metadata": {
        "id": "uwe6J0TNxCJ2"
      }
    },
    {
      "cell_type": "code",
      "source": [
        "model=tf.keras.Sequential([\n",
        "    tf.keras.layers.Dense(1, input_shape=[1])\n",
        "])\n",
        "\n",
        "model.compile(optimizer='sgd',loss='mse',metrics=['mae'])\n",
        "\n",
        "history=model.fit(x,y,epochs=1200)"
      ],
      "metadata": {
        "colab": {
          "base_uri": "https://localhost:8080/"
        },
        "id": "1MHbv0xxxFhM",
        "outputId": "3ab1c5d4-ced5-4509-839a-332ab0428393"
      },
      "execution_count": 104,
      "outputs": [
        {
          "output_type": "stream",
          "name": "stdout",
          "text": [
            "Epoch 1/1200\n",
            "1/1 [==============================] - 1s 927ms/step - loss: 123.1898 - mae: 10.3735\n",
            "Epoch 2/1200\n",
            "1/1 [==============================] - 0s 6ms/step - loss: 71.8859 - mae: 7.9638\n",
            "Epoch 3/1200\n",
            "1/1 [==============================] - 0s 8ms/step - loss: 41.9879 - mae: 6.1242\n",
            "Epoch 4/1200\n",
            "1/1 [==============================] - 0s 7ms/step - loss: 24.5642 - mae: 4.7197\n",
            "Epoch 5/1200\n",
            "1/1 [==============================] - 0s 7ms/step - loss: 14.4099 - mae: 3.6474\n",
            "Epoch 6/1200\n",
            "1/1 [==============================] - 0s 7ms/step - loss: 8.4918 - mae: 2.8287\n",
            "Epoch 7/1200\n",
            "1/1 [==============================] - 0s 5ms/step - loss: 5.0424 - mae: 2.2035\n",
            "Epoch 8/1200\n",
            "1/1 [==============================] - 0s 8ms/step - loss: 3.0316 - mae: 1.7262\n",
            "Epoch 9/1200\n",
            "1/1 [==============================] - 0s 8ms/step - loss: 1.8592 - mae: 1.3616\n",
            "Epoch 10/1200\n",
            "1/1 [==============================] - 0s 5ms/step - loss: 1.1753 - mae: 1.0831\n",
            "Epoch 11/1200\n",
            "1/1 [==============================] - 0s 5ms/step - loss: 0.7762 - mae: 0.8704\n",
            "Epoch 12/1200\n",
            "1/1 [==============================] - 0s 5ms/step - loss: 0.5430 - mae: 0.7079\n",
            "Epoch 13/1200\n",
            "1/1 [==============================] - 0s 7ms/step - loss: 0.4065 - mae: 0.5837\n",
            "Epoch 14/1200\n",
            "1/1 [==============================] - 0s 6ms/step - loss: 0.3263 - mae: 0.4887\n",
            "Epoch 15/1200\n",
            "1/1 [==============================] - 0s 6ms/step - loss: 0.2790 - mae: 0.4337\n",
            "Epoch 16/1200\n",
            "1/1 [==============================] - 0s 5ms/step - loss: 0.2508 - mae: 0.4130\n",
            "Epoch 17/1200\n",
            "1/1 [==============================] - 0s 5ms/step - loss: 0.2338 - mae: 0.3968\n",
            "Epoch 18/1200\n",
            "1/1 [==============================] - 0s 5ms/step - loss: 0.2233 - mae: 0.3843\n",
            "Epoch 19/1200\n",
            "1/1 [==============================] - 0s 6ms/step - loss: 0.2166 - mae: 0.3795\n",
            "Epoch 20/1200\n",
            "1/1 [==============================] - 0s 12ms/step - loss: 0.2121 - mae: 0.3812\n",
            "Epoch 21/1200\n",
            "1/1 [==============================] - 0s 12ms/step - loss: 0.2089 - mae: 0.3823\n",
            "Epoch 22/1200\n",
            "1/1 [==============================] - 0s 6ms/step - loss: 0.2065 - mae: 0.3828\n",
            "Epoch 23/1200\n",
            "1/1 [==============================] - 0s 9ms/step - loss: 0.2045 - mae: 0.3829\n",
            "Epoch 24/1200\n",
            "1/1 [==============================] - 0s 6ms/step - loss: 0.2027 - mae: 0.3826\n",
            "Epoch 25/1200\n",
            "1/1 [==============================] - 0s 7ms/step - loss: 0.2012 - mae: 0.3821\n",
            "Epoch 26/1200\n",
            "1/1 [==============================] - 0s 5ms/step - loss: 0.1997 - mae: 0.3814\n",
            "Epoch 27/1200\n",
            "1/1 [==============================] - 0s 5ms/step - loss: 0.1983 - mae: 0.3806\n",
            "Epoch 28/1200\n",
            "1/1 [==============================] - 0s 4ms/step - loss: 0.1969 - mae: 0.3796\n",
            "Epoch 29/1200\n",
            "1/1 [==============================] - 0s 4ms/step - loss: 0.1955 - mae: 0.3786\n",
            "Epoch 30/1200\n",
            "1/1 [==============================] - 0s 5ms/step - loss: 0.1942 - mae: 0.3776\n",
            "Epoch 31/1200\n",
            "1/1 [==============================] - 0s 5ms/step - loss: 0.1929 - mae: 0.3764\n",
            "Epoch 32/1200\n",
            "1/1 [==============================] - 0s 7ms/step - loss: 0.1916 - mae: 0.3753\n",
            "Epoch 33/1200\n",
            "1/1 [==============================] - 0s 4ms/step - loss: 0.1903 - mae: 0.3741\n",
            "Epoch 34/1200\n",
            "1/1 [==============================] - 0s 4ms/step - loss: 0.1890 - mae: 0.3729\n",
            "Epoch 35/1200\n",
            "1/1 [==============================] - 0s 4ms/step - loss: 0.1877 - mae: 0.3717\n",
            "Epoch 36/1200\n",
            "1/1 [==============================] - 0s 4ms/step - loss: 0.1865 - mae: 0.3705\n",
            "Epoch 37/1200\n",
            "1/1 [==============================] - 0s 4ms/step - loss: 0.1852 - mae: 0.3693\n",
            "Epoch 38/1200\n",
            "1/1 [==============================] - 0s 4ms/step - loss: 0.1839 - mae: 0.3680\n",
            "Epoch 39/1200\n",
            "1/1 [==============================] - 0s 4ms/step - loss: 0.1827 - mae: 0.3668\n",
            "Epoch 40/1200\n",
            "1/1 [==============================] - 0s 4ms/step - loss: 0.1815 - mae: 0.3656\n",
            "Epoch 41/1200\n",
            "1/1 [==============================] - 0s 5ms/step - loss: 0.1802 - mae: 0.3644\n",
            "Epoch 42/1200\n",
            "1/1 [==============================] - 0s 13ms/step - loss: 0.1790 - mae: 0.3631\n",
            "Epoch 43/1200\n",
            "1/1 [==============================] - 0s 5ms/step - loss: 0.1778 - mae: 0.3619\n",
            "Epoch 44/1200\n",
            "1/1 [==============================] - 0s 14ms/step - loss: 0.1766 - mae: 0.3607\n",
            "Epoch 45/1200\n",
            "1/1 [==============================] - 0s 9ms/step - loss: 0.1754 - mae: 0.3595\n",
            "Epoch 46/1200\n",
            "1/1 [==============================] - 0s 8ms/step - loss: 0.1742 - mae: 0.3583\n",
            "Epoch 47/1200\n",
            "1/1 [==============================] - 0s 9ms/step - loss: 0.1731 - mae: 0.3571\n",
            "Epoch 48/1200\n",
            "1/1 [==============================] - 0s 11ms/step - loss: 0.1719 - mae: 0.3559\n",
            "Epoch 49/1200\n",
            "1/1 [==============================] - 0s 8ms/step - loss: 0.1707 - mae: 0.3547\n",
            "Epoch 50/1200\n",
            "1/1 [==============================] - 0s 15ms/step - loss: 0.1696 - mae: 0.3535\n",
            "Epoch 51/1200\n",
            "1/1 [==============================] - 0s 10ms/step - loss: 0.1684 - mae: 0.3523\n",
            "Epoch 52/1200\n",
            "1/1 [==============================] - 0s 9ms/step - loss: 0.1673 - mae: 0.3511\n",
            "Epoch 53/1200\n",
            "1/1 [==============================] - 0s 6ms/step - loss: 0.1662 - mae: 0.3499\n",
            "Epoch 54/1200\n",
            "1/1 [==============================] - 0s 8ms/step - loss: 0.1650 - mae: 0.3487\n",
            "Epoch 55/1200\n",
            "1/1 [==============================] - 0s 11ms/step - loss: 0.1639 - mae: 0.3475\n",
            "Epoch 56/1200\n",
            "1/1 [==============================] - 0s 15ms/step - loss: 0.1628 - mae: 0.3464\n",
            "Epoch 57/1200\n",
            "1/1 [==============================] - 0s 12ms/step - loss: 0.1617 - mae: 0.3452\n",
            "Epoch 58/1200\n",
            "1/1 [==============================] - 0s 8ms/step - loss: 0.1606 - mae: 0.3440\n",
            "Epoch 59/1200\n",
            "1/1 [==============================] - 0s 6ms/step - loss: 0.1596 - mae: 0.3428\n",
            "Epoch 60/1200\n",
            "1/1 [==============================] - 0s 12ms/step - loss: 0.1585 - mae: 0.3417\n",
            "Epoch 61/1200\n",
            "1/1 [==============================] - 0s 5ms/step - loss: 0.1574 - mae: 0.3405\n",
            "Epoch 62/1200\n",
            "1/1 [==============================] - 0s 9ms/step - loss: 0.1563 - mae: 0.3394\n",
            "Epoch 63/1200\n",
            "1/1 [==============================] - 0s 6ms/step - loss: 0.1553 - mae: 0.3382\n",
            "Epoch 64/1200\n",
            "1/1 [==============================] - 0s 8ms/step - loss: 0.1542 - mae: 0.3371\n",
            "Epoch 65/1200\n",
            "1/1 [==============================] - 0s 7ms/step - loss: 0.1532 - mae: 0.3360\n",
            "Epoch 66/1200\n",
            "1/1 [==============================] - 0s 9ms/step - loss: 0.1522 - mae: 0.3348\n",
            "Epoch 67/1200\n",
            "1/1 [==============================] - 0s 9ms/step - loss: 0.1511 - mae: 0.3337\n",
            "Epoch 68/1200\n",
            "1/1 [==============================] - 0s 8ms/step - loss: 0.1501 - mae: 0.3326\n",
            "Epoch 69/1200\n",
            "1/1 [==============================] - 0s 8ms/step - loss: 0.1491 - mae: 0.3314\n",
            "Epoch 70/1200\n",
            "1/1 [==============================] - 0s 15ms/step - loss: 0.1481 - mae: 0.3303\n",
            "Epoch 71/1200\n",
            "1/1 [==============================] - 0s 6ms/step - loss: 0.1471 - mae: 0.3292\n",
            "Epoch 72/1200\n",
            "1/1 [==============================] - 0s 7ms/step - loss: 0.1461 - mae: 0.3281\n",
            "Epoch 73/1200\n",
            "1/1 [==============================] - 0s 27ms/step - loss: 0.1451 - mae: 0.3270\n",
            "Epoch 74/1200\n",
            "1/1 [==============================] - 0s 8ms/step - loss: 0.1441 - mae: 0.3259\n",
            "Epoch 75/1200\n",
            "1/1 [==============================] - 0s 7ms/step - loss: 0.1432 - mae: 0.3248\n",
            "Epoch 76/1200\n",
            "1/1 [==============================] - 0s 11ms/step - loss: 0.1422 - mae: 0.3237\n",
            "Epoch 77/1200\n",
            "1/1 [==============================] - 0s 7ms/step - loss: 0.1412 - mae: 0.3226\n",
            "Epoch 78/1200\n",
            "1/1 [==============================] - 0s 7ms/step - loss: 0.1403 - mae: 0.3215\n",
            "Epoch 79/1200\n",
            "1/1 [==============================] - 0s 36ms/step - loss: 0.1393 - mae: 0.3204\n",
            "Epoch 80/1200\n",
            "1/1 [==============================] - 0s 19ms/step - loss: 0.1384 - mae: 0.3193\n",
            "Epoch 81/1200\n",
            "1/1 [==============================] - 0s 9ms/step - loss: 0.1375 - mae: 0.3182\n",
            "Epoch 82/1200\n",
            "1/1 [==============================] - 0s 13ms/step - loss: 0.1365 - mae: 0.3172\n",
            "Epoch 83/1200\n",
            "1/1 [==============================] - 0s 16ms/step - loss: 0.1356 - mae: 0.3161\n",
            "Epoch 84/1200\n",
            "1/1 [==============================] - 0s 12ms/step - loss: 0.1347 - mae: 0.3150\n",
            "Epoch 85/1200\n",
            "1/1 [==============================] - 0s 12ms/step - loss: 0.1338 - mae: 0.3140\n",
            "Epoch 86/1200\n",
            "1/1 [==============================] - 0s 7ms/step - loss: 0.1329 - mae: 0.3129\n",
            "Epoch 87/1200\n",
            "1/1 [==============================] - 0s 6ms/step - loss: 0.1320 - mae: 0.3118\n",
            "Epoch 88/1200\n",
            "1/1 [==============================] - 0s 7ms/step - loss: 0.1311 - mae: 0.3108\n",
            "Epoch 89/1200\n",
            "1/1 [==============================] - 0s 11ms/step - loss: 0.1302 - mae: 0.3097\n",
            "Epoch 90/1200\n",
            "1/1 [==============================] - 0s 8ms/step - loss: 0.1293 - mae: 0.3087\n",
            "Epoch 91/1200\n",
            "1/1 [==============================] - 0s 6ms/step - loss: 0.1285 - mae: 0.3076\n",
            "Epoch 92/1200\n",
            "1/1 [==============================] - 0s 7ms/step - loss: 0.1276 - mae: 0.3066\n",
            "Epoch 93/1200\n",
            "1/1 [==============================] - 0s 5ms/step - loss: 0.1267 - mae: 0.3056\n",
            "Epoch 94/1200\n",
            "1/1 [==============================] - 0s 5ms/step - loss: 0.1259 - mae: 0.3045\n",
            "Epoch 95/1200\n",
            "1/1 [==============================] - 0s 6ms/step - loss: 0.1250 - mae: 0.3035\n",
            "Epoch 96/1200\n",
            "1/1 [==============================] - 0s 6ms/step - loss: 0.1242 - mae: 0.3025\n",
            "Epoch 97/1200\n",
            "1/1 [==============================] - 0s 6ms/step - loss: 0.1233 - mae: 0.3014\n",
            "Epoch 98/1200\n",
            "1/1 [==============================] - 0s 6ms/step - loss: 0.1225 - mae: 0.3004\n",
            "Epoch 99/1200\n",
            "1/1 [==============================] - 0s 6ms/step - loss: 0.1217 - mae: 0.2994\n",
            "Epoch 100/1200\n",
            "1/1 [==============================] - 0s 7ms/step - loss: 0.1209 - mae: 0.2984\n",
            "Epoch 101/1200\n",
            "1/1 [==============================] - 0s 6ms/step - loss: 0.1200 - mae: 0.2974\n",
            "Epoch 102/1200\n",
            "1/1 [==============================] - 0s 6ms/step - loss: 0.1192 - mae: 0.2964\n",
            "Epoch 103/1200\n",
            "1/1 [==============================] - 0s 7ms/step - loss: 0.1184 - mae: 0.2954\n",
            "Epoch 104/1200\n",
            "1/1 [==============================] - 0s 9ms/step - loss: 0.1176 - mae: 0.2944\n",
            "Epoch 105/1200\n",
            "1/1 [==============================] - 0s 5ms/step - loss: 0.1168 - mae: 0.2934\n",
            "Epoch 106/1200\n",
            "1/1 [==============================] - 0s 12ms/step - loss: 0.1161 - mae: 0.2924\n",
            "Epoch 107/1200\n",
            "1/1 [==============================] - 0s 9ms/step - loss: 0.1153 - mae: 0.2914\n",
            "Epoch 108/1200\n",
            "1/1 [==============================] - 0s 7ms/step - loss: 0.1145 - mae: 0.2904\n",
            "Epoch 109/1200\n",
            "1/1 [==============================] - 0s 6ms/step - loss: 0.1137 - mae: 0.2894\n",
            "Epoch 110/1200\n",
            "1/1 [==============================] - 0s 8ms/step - loss: 0.1129 - mae: 0.2885\n",
            "Epoch 111/1200\n",
            "1/1 [==============================] - 0s 19ms/step - loss: 0.1122 - mae: 0.2875\n",
            "Epoch 112/1200\n",
            "1/1 [==============================] - 0s 8ms/step - loss: 0.1114 - mae: 0.2865\n",
            "Epoch 113/1200\n",
            "1/1 [==============================] - 0s 9ms/step - loss: 0.1107 - mae: 0.2855\n",
            "Epoch 114/1200\n",
            "1/1 [==============================] - 0s 11ms/step - loss: 0.1099 - mae: 0.2846\n",
            "Epoch 115/1200\n",
            "1/1 [==============================] - 0s 10ms/step - loss: 0.1092 - mae: 0.2836\n",
            "Epoch 116/1200\n",
            "1/1 [==============================] - 0s 14ms/step - loss: 0.1085 - mae: 0.2827\n",
            "Epoch 117/1200\n",
            "1/1 [==============================] - 0s 10ms/step - loss: 0.1077 - mae: 0.2817\n",
            "Epoch 118/1200\n",
            "1/1 [==============================] - 0s 15ms/step - loss: 0.1070 - mae: 0.2808\n",
            "Epoch 119/1200\n",
            "1/1 [==============================] - 0s 6ms/step - loss: 0.1063 - mae: 0.2798\n",
            "Epoch 120/1200\n",
            "1/1 [==============================] - 0s 9ms/step - loss: 0.1056 - mae: 0.2789\n",
            "Epoch 121/1200\n",
            "1/1 [==============================] - 0s 8ms/step - loss: 0.1048 - mae: 0.2779\n",
            "Epoch 122/1200\n",
            "1/1 [==============================] - 0s 13ms/step - loss: 0.1041 - mae: 0.2770\n",
            "Epoch 123/1200\n",
            "1/1 [==============================] - 0s 18ms/step - loss: 0.1034 - mae: 0.2760\n",
            "Epoch 124/1200\n",
            "1/1 [==============================] - 0s 23ms/step - loss: 0.1027 - mae: 0.2751\n",
            "Epoch 125/1200\n",
            "1/1 [==============================] - 0s 145ms/step - loss: 0.1020 - mae: 0.2742\n",
            "Epoch 126/1200\n",
            "1/1 [==============================] - 0s 10ms/step - loss: 0.1013 - mae: 0.2732\n",
            "Epoch 127/1200\n",
            "1/1 [==============================] - 0s 12ms/step - loss: 0.1007 - mae: 0.2723\n",
            "Epoch 128/1200\n",
            "1/1 [==============================] - 0s 10ms/step - loss: 0.1000 - mae: 0.2714\n",
            "Epoch 129/1200\n",
            "1/1 [==============================] - 0s 12ms/step - loss: 0.0993 - mae: 0.2705\n",
            "Epoch 130/1200\n",
            "1/1 [==============================] - 0s 14ms/step - loss: 0.0986 - mae: 0.2696\n",
            "Epoch 131/1200\n",
            "1/1 [==============================] - 0s 10ms/step - loss: 0.0980 - mae: 0.2687\n",
            "Epoch 132/1200\n",
            "1/1 [==============================] - 0s 16ms/step - loss: 0.0973 - mae: 0.2678\n",
            "Epoch 133/1200\n",
            "1/1 [==============================] - 0s 12ms/step - loss: 0.0967 - mae: 0.2668\n",
            "Epoch 134/1200\n",
            "1/1 [==============================] - 0s 23ms/step - loss: 0.0960 - mae: 0.2659\n",
            "Epoch 135/1200\n",
            "1/1 [==============================] - 0s 13ms/step - loss: 0.0954 - mae: 0.2650\n",
            "Epoch 136/1200\n",
            "1/1 [==============================] - 0s 13ms/step - loss: 0.0947 - mae: 0.2641\n",
            "Epoch 137/1200\n",
            "1/1 [==============================] - 0s 9ms/step - loss: 0.0941 - mae: 0.2633\n",
            "Epoch 138/1200\n",
            "1/1 [==============================] - 0s 15ms/step - loss: 0.0934 - mae: 0.2624\n",
            "Epoch 139/1200\n",
            "1/1 [==============================] - 0s 21ms/step - loss: 0.0928 - mae: 0.2615\n",
            "Epoch 140/1200\n",
            "1/1 [==============================] - 0s 10ms/step - loss: 0.0922 - mae: 0.2606\n",
            "Epoch 141/1200\n",
            "1/1 [==============================] - 0s 11ms/step - loss: 0.0916 - mae: 0.2597\n",
            "Epoch 142/1200\n",
            "1/1 [==============================] - 0s 17ms/step - loss: 0.0909 - mae: 0.2588\n",
            "Epoch 143/1200\n",
            "1/1 [==============================] - 0s 16ms/step - loss: 0.0903 - mae: 0.2580\n",
            "Epoch 144/1200\n",
            "1/1 [==============================] - 0s 13ms/step - loss: 0.0897 - mae: 0.2571\n",
            "Epoch 145/1200\n",
            "1/1 [==============================] - 0s 17ms/step - loss: 0.0891 - mae: 0.2562\n",
            "Epoch 146/1200\n",
            "1/1 [==============================] - 0s 10ms/step - loss: 0.0885 - mae: 0.2554\n",
            "Epoch 147/1200\n",
            "1/1 [==============================] - 0s 13ms/step - loss: 0.0879 - mae: 0.2545\n",
            "Epoch 148/1200\n",
            "1/1 [==============================] - 0s 9ms/step - loss: 0.0873 - mae: 0.2536\n",
            "Epoch 149/1200\n",
            "1/1 [==============================] - 0s 8ms/step - loss: 0.0867 - mae: 0.2528\n",
            "Epoch 150/1200\n",
            "1/1 [==============================] - 0s 9ms/step - loss: 0.0861 - mae: 0.2519\n",
            "Epoch 151/1200\n",
            "1/1 [==============================] - 0s 12ms/step - loss: 0.0856 - mae: 0.2511\n",
            "Epoch 152/1200\n",
            "1/1 [==============================] - 0s 10ms/step - loss: 0.0850 - mae: 0.2502\n",
            "Epoch 153/1200\n",
            "1/1 [==============================] - 0s 18ms/step - loss: 0.0844 - mae: 0.2494\n",
            "Epoch 154/1200\n",
            "1/1 [==============================] - 0s 13ms/step - loss: 0.0838 - mae: 0.2485\n",
            "Epoch 155/1200\n",
            "1/1 [==============================] - 0s 12ms/step - loss: 0.0833 - mae: 0.2477\n",
            "Epoch 156/1200\n",
            "1/1 [==============================] - 0s 11ms/step - loss: 0.0827 - mae: 0.2469\n",
            "Epoch 157/1200\n",
            "1/1 [==============================] - 0s 16ms/step - loss: 0.0822 - mae: 0.2460\n",
            "Epoch 158/1200\n",
            "1/1 [==============================] - 0s 9ms/step - loss: 0.0816 - mae: 0.2452\n",
            "Epoch 159/1200\n",
            "1/1 [==============================] - 0s 11ms/step - loss: 0.0810 - mae: 0.2444\n",
            "Epoch 160/1200\n",
            "1/1 [==============================] - 0s 8ms/step - loss: 0.0805 - mae: 0.2435\n",
            "Epoch 161/1200\n",
            "1/1 [==============================] - 0s 15ms/step - loss: 0.0800 - mae: 0.2427\n",
            "Epoch 162/1200\n",
            "1/1 [==============================] - 0s 8ms/step - loss: 0.0794 - mae: 0.2419\n",
            "Epoch 163/1200\n",
            "1/1 [==============================] - 0s 14ms/step - loss: 0.0789 - mae: 0.2411\n",
            "Epoch 164/1200\n",
            "1/1 [==============================] - 0s 15ms/step - loss: 0.0783 - mae: 0.2403\n",
            "Epoch 165/1200\n",
            "1/1 [==============================] - 0s 19ms/step - loss: 0.0778 - mae: 0.2394\n",
            "Epoch 166/1200\n",
            "1/1 [==============================] - 0s 16ms/step - loss: 0.0773 - mae: 0.2386\n",
            "Epoch 167/1200\n",
            "1/1 [==============================] - 0s 12ms/step - loss: 0.0768 - mae: 0.2378\n",
            "Epoch 168/1200\n",
            "1/1 [==============================] - 0s 14ms/step - loss: 0.0763 - mae: 0.2370\n",
            "Epoch 169/1200\n",
            "1/1 [==============================] - 0s 11ms/step - loss: 0.0757 - mae: 0.2362\n",
            "Epoch 170/1200\n",
            "1/1 [==============================] - 0s 24ms/step - loss: 0.0752 - mae: 0.2354\n",
            "Epoch 171/1200\n",
            "1/1 [==============================] - 0s 14ms/step - loss: 0.0747 - mae: 0.2346\n",
            "Epoch 172/1200\n",
            "1/1 [==============================] - 0s 6ms/step - loss: 0.0742 - mae: 0.2338\n",
            "Epoch 173/1200\n",
            "1/1 [==============================] - 0s 6ms/step - loss: 0.0737 - mae: 0.2330\n",
            "Epoch 174/1200\n",
            "1/1 [==============================] - 0s 5ms/step - loss: 0.0732 - mae: 0.2323\n",
            "Epoch 175/1200\n",
            "1/1 [==============================] - 0s 5ms/step - loss: 0.0727 - mae: 0.2315\n",
            "Epoch 176/1200\n",
            "1/1 [==============================] - 0s 13ms/step - loss: 0.0722 - mae: 0.2307\n",
            "Epoch 177/1200\n",
            "1/1 [==============================] - 0s 10ms/step - loss: 0.0717 - mae: 0.2299\n",
            "Epoch 178/1200\n",
            "1/1 [==============================] - 0s 10ms/step - loss: 0.0713 - mae: 0.2291\n",
            "Epoch 179/1200\n",
            "1/1 [==============================] - 0s 15ms/step - loss: 0.0708 - mae: 0.2284\n",
            "Epoch 180/1200\n",
            "1/1 [==============================] - 0s 39ms/step - loss: 0.0703 - mae: 0.2276\n",
            "Epoch 181/1200\n",
            "1/1 [==============================] - 0s 16ms/step - loss: 0.0698 - mae: 0.2268\n",
            "Epoch 182/1200\n",
            "1/1 [==============================] - 0s 19ms/step - loss: 0.0694 - mae: 0.2260\n",
            "Epoch 183/1200\n",
            "1/1 [==============================] - 0s 7ms/step - loss: 0.0689 - mae: 0.2253\n",
            "Epoch 184/1200\n",
            "1/1 [==============================] - 0s 5ms/step - loss: 0.0684 - mae: 0.2245\n",
            "Epoch 185/1200\n",
            "1/1 [==============================] - 0s 5ms/step - loss: 0.0680 - mae: 0.2238\n",
            "Epoch 186/1200\n",
            "1/1 [==============================] - 0s 5ms/step - loss: 0.0675 - mae: 0.2230\n",
            "Epoch 187/1200\n",
            "1/1 [==============================] - 0s 5ms/step - loss: 0.0670 - mae: 0.2222\n",
            "Epoch 188/1200\n",
            "1/1 [==============================] - 0s 10ms/step - loss: 0.0666 - mae: 0.2215\n",
            "Epoch 189/1200\n",
            "1/1 [==============================] - 0s 20ms/step - loss: 0.0661 - mae: 0.2207\n",
            "Epoch 190/1200\n",
            "1/1 [==============================] - 0s 22ms/step - loss: 0.0657 - mae: 0.2200\n",
            "Epoch 191/1200\n",
            "1/1 [==============================] - 0s 10ms/step - loss: 0.0653 - mae: 0.2193\n",
            "Epoch 192/1200\n",
            "1/1 [==============================] - 0s 26ms/step - loss: 0.0648 - mae: 0.2185\n",
            "Epoch 193/1200\n",
            "1/1 [==============================] - 0s 15ms/step - loss: 0.0644 - mae: 0.2178\n",
            "Epoch 194/1200\n",
            "1/1 [==============================] - 0s 9ms/step - loss: 0.0639 - mae: 0.2170\n",
            "Epoch 195/1200\n",
            "1/1 [==============================] - 0s 15ms/step - loss: 0.0635 - mae: 0.2163\n",
            "Epoch 196/1200\n",
            "1/1 [==============================] - 0s 13ms/step - loss: 0.0631 - mae: 0.2156\n",
            "Epoch 197/1200\n",
            "1/1 [==============================] - 0s 18ms/step - loss: 0.0627 - mae: 0.2148\n",
            "Epoch 198/1200\n",
            "1/1 [==============================] - 0s 9ms/step - loss: 0.0622 - mae: 0.2141\n",
            "Epoch 199/1200\n",
            "1/1 [==============================] - 0s 22ms/step - loss: 0.0618 - mae: 0.2134\n",
            "Epoch 200/1200\n",
            "1/1 [==============================] - 0s 10ms/step - loss: 0.0614 - mae: 0.2127\n",
            "Epoch 201/1200\n",
            "1/1 [==============================] - 0s 11ms/step - loss: 0.0610 - mae: 0.2120\n",
            "Epoch 202/1200\n",
            "1/1 [==============================] - 0s 19ms/step - loss: 0.0606 - mae: 0.2112\n",
            "Epoch 203/1200\n",
            "1/1 [==============================] - 0s 11ms/step - loss: 0.0602 - mae: 0.2105\n",
            "Epoch 204/1200\n",
            "1/1 [==============================] - 0s 11ms/step - loss: 0.0598 - mae: 0.2098\n",
            "Epoch 205/1200\n",
            "1/1 [==============================] - 0s 50ms/step - loss: 0.0594 - mae: 0.2091\n",
            "Epoch 206/1200\n",
            "1/1 [==============================] - 0s 37ms/step - loss: 0.0590 - mae: 0.2084\n",
            "Epoch 207/1200\n",
            "1/1 [==============================] - 0s 6ms/step - loss: 0.0586 - mae: 0.2077\n",
            "Epoch 208/1200\n",
            "1/1 [==============================] - 0s 7ms/step - loss: 0.0582 - mae: 0.2070\n",
            "Epoch 209/1200\n",
            "1/1 [==============================] - 0s 8ms/step - loss: 0.0578 - mae: 0.2063\n",
            "Epoch 210/1200\n",
            "1/1 [==============================] - 0s 11ms/step - loss: 0.0574 - mae: 0.2056\n",
            "Epoch 211/1200\n",
            "1/1 [==============================] - 0s 10ms/step - loss: 0.0570 - mae: 0.2049\n",
            "Epoch 212/1200\n",
            "1/1 [==============================] - 0s 13ms/step - loss: 0.0566 - mae: 0.2042\n",
            "Epoch 213/1200\n",
            "1/1 [==============================] - 0s 20ms/step - loss: 0.0562 - mae: 0.2035\n",
            "Epoch 214/1200\n",
            "1/1 [==============================] - 0s 10ms/step - loss: 0.0558 - mae: 0.2028\n",
            "Epoch 215/1200\n",
            "1/1 [==============================] - 0s 11ms/step - loss: 0.0555 - mae: 0.2021\n",
            "Epoch 216/1200\n",
            "1/1 [==============================] - 0s 9ms/step - loss: 0.0551 - mae: 0.2015\n",
            "Epoch 217/1200\n",
            "1/1 [==============================] - 0s 6ms/step - loss: 0.0547 - mae: 0.2008\n",
            "Epoch 218/1200\n",
            "1/1 [==============================] - 0s 7ms/step - loss: 0.0543 - mae: 0.2001\n",
            "Epoch 219/1200\n",
            "1/1 [==============================] - 0s 6ms/step - loss: 0.0540 - mae: 0.1994\n",
            "Epoch 220/1200\n",
            "1/1 [==============================] - 0s 7ms/step - loss: 0.0536 - mae: 0.1987\n",
            "Epoch 221/1200\n",
            "1/1 [==============================] - 0s 11ms/step - loss: 0.0533 - mae: 0.1981\n",
            "Epoch 222/1200\n",
            "1/1 [==============================] - 0s 8ms/step - loss: 0.0529 - mae: 0.1974\n",
            "Epoch 223/1200\n",
            "1/1 [==============================] - 0s 8ms/step - loss: 0.0525 - mae: 0.1967\n",
            "Epoch 224/1200\n",
            "1/1 [==============================] - 0s 22ms/step - loss: 0.0522 - mae: 0.1961\n",
            "Epoch 225/1200\n",
            "1/1 [==============================] - 0s 12ms/step - loss: 0.0518 - mae: 0.1954\n",
            "Epoch 226/1200\n",
            "1/1 [==============================] - 0s 8ms/step - loss: 0.0515 - mae: 0.1947\n",
            "Epoch 227/1200\n",
            "1/1 [==============================] - 0s 8ms/step - loss: 0.0511 - mae: 0.1941\n",
            "Epoch 228/1200\n",
            "1/1 [==============================] - 0s 22ms/step - loss: 0.0508 - mae: 0.1934\n",
            "Epoch 229/1200\n",
            "1/1 [==============================] - 0s 9ms/step - loss: 0.0504 - mae: 0.1928\n",
            "Epoch 230/1200\n",
            "1/1 [==============================] - 0s 15ms/step - loss: 0.0501 - mae: 0.1921\n",
            "Epoch 231/1200\n",
            "1/1 [==============================] - 0s 11ms/step - loss: 0.0498 - mae: 0.1915\n",
            "Epoch 232/1200\n",
            "1/1 [==============================] - 0s 6ms/step - loss: 0.0494 - mae: 0.1908\n",
            "Epoch 233/1200\n",
            "1/1 [==============================] - 0s 8ms/step - loss: 0.0491 - mae: 0.1902\n",
            "Epoch 234/1200\n",
            "1/1 [==============================] - 0s 8ms/step - loss: 0.0488 - mae: 0.1895\n",
            "Epoch 235/1200\n",
            "1/1 [==============================] - 0s 9ms/step - loss: 0.0484 - mae: 0.1889\n",
            "Epoch 236/1200\n",
            "1/1 [==============================] - 0s 7ms/step - loss: 0.0481 - mae: 0.1883\n",
            "Epoch 237/1200\n",
            "1/1 [==============================] - 0s 22ms/step - loss: 0.0478 - mae: 0.1876\n",
            "Epoch 238/1200\n",
            "1/1 [==============================] - 0s 10ms/step - loss: 0.0475 - mae: 0.1870\n",
            "Epoch 239/1200\n",
            "1/1 [==============================] - 0s 15ms/step - loss: 0.0471 - mae: 0.1864\n",
            "Epoch 240/1200\n",
            "1/1 [==============================] - 0s 16ms/step - loss: 0.0468 - mae: 0.1857\n",
            "Epoch 241/1200\n",
            "1/1 [==============================] - 0s 12ms/step - loss: 0.0465 - mae: 0.1851\n",
            "Epoch 242/1200\n",
            "1/1 [==============================] - 0s 8ms/step - loss: 0.0462 - mae: 0.1845\n",
            "Epoch 243/1200\n",
            "1/1 [==============================] - 0s 11ms/step - loss: 0.0459 - mae: 0.1839\n",
            "Epoch 244/1200\n",
            "1/1 [==============================] - 0s 25ms/step - loss: 0.0456 - mae: 0.1832\n",
            "Epoch 245/1200\n",
            "1/1 [==============================] - 0s 16ms/step - loss: 0.0453 - mae: 0.1826\n",
            "Epoch 246/1200\n",
            "1/1 [==============================] - 0s 23ms/step - loss: 0.0450 - mae: 0.1820\n",
            "Epoch 247/1200\n",
            "1/1 [==============================] - 0s 12ms/step - loss: 0.0447 - mae: 0.1814\n",
            "Epoch 248/1200\n",
            "1/1 [==============================] - 0s 14ms/step - loss: 0.0444 - mae: 0.1808\n",
            "Epoch 249/1200\n",
            "1/1 [==============================] - 0s 65ms/step - loss: 0.0441 - mae: 0.1802\n",
            "Epoch 250/1200\n",
            "1/1 [==============================] - 0s 13ms/step - loss: 0.0438 - mae: 0.1795\n",
            "Epoch 251/1200\n",
            "1/1 [==============================] - 0s 9ms/step - loss: 0.0435 - mae: 0.1789\n",
            "Epoch 252/1200\n",
            "1/1 [==============================] - 0s 20ms/step - loss: 0.0432 - mae: 0.1783\n",
            "Epoch 253/1200\n",
            "1/1 [==============================] - 0s 16ms/step - loss: 0.0429 - mae: 0.1777\n",
            "Epoch 254/1200\n",
            "1/1 [==============================] - 0s 12ms/step - loss: 0.0426 - mae: 0.1771\n",
            "Epoch 255/1200\n",
            "1/1 [==============================] - 0s 16ms/step - loss: 0.0423 - mae: 0.1765\n",
            "Epoch 256/1200\n",
            "1/1 [==============================] - 0s 9ms/step - loss: 0.0420 - mae: 0.1759\n",
            "Epoch 257/1200\n",
            "1/1 [==============================] - 0s 13ms/step - loss: 0.0417 - mae: 0.1753\n",
            "Epoch 258/1200\n",
            "1/1 [==============================] - 0s 24ms/step - loss: 0.0414 - mae: 0.1747\n",
            "Epoch 259/1200\n",
            "1/1 [==============================] - 0s 9ms/step - loss: 0.0412 - mae: 0.1742\n",
            "Epoch 260/1200\n",
            "1/1 [==============================] - 0s 9ms/step - loss: 0.0409 - mae: 0.1736\n",
            "Epoch 261/1200\n",
            "1/1 [==============================] - 0s 11ms/step - loss: 0.0406 - mae: 0.1730\n",
            "Epoch 262/1200\n",
            "1/1 [==============================] - 0s 5ms/step - loss: 0.0403 - mae: 0.1724\n",
            "Epoch 263/1200\n",
            "1/1 [==============================] - 0s 5ms/step - loss: 0.0401 - mae: 0.1718\n",
            "Epoch 264/1200\n",
            "1/1 [==============================] - 0s 4ms/step - loss: 0.0398 - mae: 0.1712\n",
            "Epoch 265/1200\n",
            "1/1 [==============================] - 0s 4ms/step - loss: 0.0395 - mae: 0.1707\n",
            "Epoch 266/1200\n",
            "1/1 [==============================] - 0s 5ms/step - loss: 0.0393 - mae: 0.1701\n",
            "Epoch 267/1200\n",
            "1/1 [==============================] - 0s 7ms/step - loss: 0.0390 - mae: 0.1695\n",
            "Epoch 268/1200\n",
            "1/1 [==============================] - 0s 5ms/step - loss: 0.0387 - mae: 0.1689\n",
            "Epoch 269/1200\n",
            "1/1 [==============================] - 0s 5ms/step - loss: 0.0385 - mae: 0.1684\n",
            "Epoch 270/1200\n",
            "1/1 [==============================] - 0s 5ms/step - loss: 0.0382 - mae: 0.1678\n",
            "Epoch 271/1200\n",
            "1/1 [==============================] - 0s 5ms/step - loss: 0.0380 - mae: 0.1672\n",
            "Epoch 272/1200\n",
            "1/1 [==============================] - 0s 4ms/step - loss: 0.0377 - mae: 0.1667\n",
            "Epoch 273/1200\n",
            "1/1 [==============================] - 0s 4ms/step - loss: 0.0374 - mae: 0.1661\n",
            "Epoch 274/1200\n",
            "1/1 [==============================] - 0s 4ms/step - loss: 0.0372 - mae: 0.1655\n",
            "Epoch 275/1200\n",
            "1/1 [==============================] - 0s 4ms/step - loss: 0.0369 - mae: 0.1650\n",
            "Epoch 276/1200\n",
            "1/1 [==============================] - 0s 4ms/step - loss: 0.0367 - mae: 0.1644\n",
            "Epoch 277/1200\n",
            "1/1 [==============================] - 0s 4ms/step - loss: 0.0364 - mae: 0.1639\n",
            "Epoch 278/1200\n",
            "1/1 [==============================] - 0s 4ms/step - loss: 0.0362 - mae: 0.1633\n",
            "Epoch 279/1200\n",
            "1/1 [==============================] - 0s 4ms/step - loss: 0.0360 - mae: 0.1628\n",
            "Epoch 280/1200\n",
            "1/1 [==============================] - 0s 5ms/step - loss: 0.0357 - mae: 0.1622\n",
            "Epoch 281/1200\n",
            "1/1 [==============================] - 0s 12ms/step - loss: 0.0355 - mae: 0.1617\n",
            "Epoch 282/1200\n",
            "1/1 [==============================] - 0s 9ms/step - loss: 0.0352 - mae: 0.1611\n",
            "Epoch 283/1200\n",
            "1/1 [==============================] - 0s 25ms/step - loss: 0.0350 - mae: 0.1606\n",
            "Epoch 284/1200\n",
            "1/1 [==============================] - 0s 33ms/step - loss: 0.0348 - mae: 0.1600\n",
            "Epoch 285/1200\n",
            "1/1 [==============================] - 0s 12ms/step - loss: 0.0345 - mae: 0.1595\n",
            "Epoch 286/1200\n",
            "1/1 [==============================] - 0s 53ms/step - loss: 0.0343 - mae: 0.1589\n",
            "Epoch 287/1200\n",
            "1/1 [==============================] - 0s 25ms/step - loss: 0.0341 - mae: 0.1584\n",
            "Epoch 288/1200\n",
            "1/1 [==============================] - 0s 9ms/step - loss: 0.0338 - mae: 0.1579\n",
            "Epoch 289/1200\n",
            "1/1 [==============================] - 0s 14ms/step - loss: 0.0336 - mae: 0.1573\n",
            "Epoch 290/1200\n",
            "1/1 [==============================] - 0s 5ms/step - loss: 0.0334 - mae: 0.1568\n",
            "Epoch 291/1200\n",
            "1/1 [==============================] - 0s 5ms/step - loss: 0.0331 - mae: 0.1563\n",
            "Epoch 292/1200\n",
            "1/1 [==============================] - 0s 6ms/step - loss: 0.0329 - mae: 0.1557\n",
            "Epoch 293/1200\n",
            "1/1 [==============================] - 0s 7ms/step - loss: 0.0327 - mae: 0.1552\n",
            "Epoch 294/1200\n",
            "1/1 [==============================] - 0s 7ms/step - loss: 0.0325 - mae: 0.1547\n",
            "Epoch 295/1200\n",
            "1/1 [==============================] - 0s 12ms/step - loss: 0.0323 - mae: 0.1542\n",
            "Epoch 296/1200\n",
            "1/1 [==============================] - 0s 5ms/step - loss: 0.0320 - mae: 0.1536\n",
            "Epoch 297/1200\n",
            "1/1 [==============================] - 0s 5ms/step - loss: 0.0318 - mae: 0.1531\n",
            "Epoch 298/1200\n",
            "1/1 [==============================] - 0s 44ms/step - loss: 0.0316 - mae: 0.1526\n",
            "Epoch 299/1200\n",
            "1/1 [==============================] - 0s 8ms/step - loss: 0.0314 - mae: 0.1521\n",
            "Epoch 300/1200\n",
            "1/1 [==============================] - 0s 5ms/step - loss: 0.0312 - mae: 0.1516\n",
            "Epoch 301/1200\n",
            "1/1 [==============================] - 0s 7ms/step - loss: 0.0310 - mae: 0.1511\n",
            "Epoch 302/1200\n",
            "1/1 [==============================] - 0s 10ms/step - loss: 0.0308 - mae: 0.1506\n",
            "Epoch 303/1200\n",
            "1/1 [==============================] - 0s 64ms/step - loss: 0.0306 - mae: 0.1500\n",
            "Epoch 304/1200\n",
            "1/1 [==============================] - 0s 36ms/step - loss: 0.0304 - mae: 0.1495\n",
            "Epoch 305/1200\n",
            "1/1 [==============================] - 0s 10ms/step - loss: 0.0301 - mae: 0.1490\n",
            "Epoch 306/1200\n",
            "1/1 [==============================] - 0s 7ms/step - loss: 0.0299 - mae: 0.1485\n",
            "Epoch 307/1200\n",
            "1/1 [==============================] - 0s 6ms/step - loss: 0.0297 - mae: 0.1480\n",
            "Epoch 308/1200\n",
            "1/1 [==============================] - 0s 6ms/step - loss: 0.0295 - mae: 0.1475\n",
            "Epoch 309/1200\n",
            "1/1 [==============================] - 0s 5ms/step - loss: 0.0293 - mae: 0.1470\n",
            "Epoch 310/1200\n",
            "1/1 [==============================] - 0s 5ms/step - loss: 0.0291 - mae: 0.1465\n",
            "Epoch 311/1200\n",
            "1/1 [==============================] - 0s 5ms/step - loss: 0.0289 - mae: 0.1460\n",
            "Epoch 312/1200\n",
            "1/1 [==============================] - 0s 7ms/step - loss: 0.0288 - mae: 0.1455\n",
            "Epoch 313/1200\n",
            "1/1 [==============================] - 0s 5ms/step - loss: 0.0286 - mae: 0.1450\n",
            "Epoch 314/1200\n",
            "1/1 [==============================] - 0s 6ms/step - loss: 0.0284 - mae: 0.1446\n",
            "Epoch 315/1200\n",
            "1/1 [==============================] - 0s 6ms/step - loss: 0.0282 - mae: 0.1441\n",
            "Epoch 316/1200\n",
            "1/1 [==============================] - 0s 7ms/step - loss: 0.0280 - mae: 0.1436\n",
            "Epoch 317/1200\n",
            "1/1 [==============================] - 0s 6ms/step - loss: 0.0278 - mae: 0.1431\n",
            "Epoch 318/1200\n",
            "1/1 [==============================] - 0s 5ms/step - loss: 0.0276 - mae: 0.1426\n",
            "Epoch 319/1200\n",
            "1/1 [==============================] - 0s 4ms/step - loss: 0.0274 - mae: 0.1421\n",
            "Epoch 320/1200\n",
            "1/1 [==============================] - 0s 4ms/step - loss: 0.0272 - mae: 0.1417\n",
            "Epoch 321/1200\n",
            "1/1 [==============================] - 0s 5ms/step - loss: 0.0271 - mae: 0.1412\n",
            "Epoch 322/1200\n",
            "1/1 [==============================] - 0s 5ms/step - loss: 0.0269 - mae: 0.1407\n",
            "Epoch 323/1200\n",
            "1/1 [==============================] - 0s 4ms/step - loss: 0.0267 - mae: 0.1402\n",
            "Epoch 324/1200\n",
            "1/1 [==============================] - 0s 4ms/step - loss: 0.0265 - mae: 0.1397\n",
            "Epoch 325/1200\n",
            "1/1 [==============================] - 0s 4ms/step - loss: 0.0263 - mae: 0.1393\n",
            "Epoch 326/1200\n",
            "1/1 [==============================] - 0s 4ms/step - loss: 0.0262 - mae: 0.1388\n",
            "Epoch 327/1200\n",
            "1/1 [==============================] - 0s 4ms/step - loss: 0.0260 - mae: 0.1383\n",
            "Epoch 328/1200\n",
            "1/1 [==============================] - 0s 4ms/step - loss: 0.0258 - mae: 0.1379\n",
            "Epoch 329/1200\n",
            "1/1 [==============================] - 0s 4ms/step - loss: 0.0256 - mae: 0.1374\n",
            "Epoch 330/1200\n",
            "1/1 [==============================] - 0s 5ms/step - loss: 0.0255 - mae: 0.1369\n",
            "Epoch 331/1200\n",
            "1/1 [==============================] - 0s 4ms/step - loss: 0.0253 - mae: 0.1365\n",
            "Epoch 332/1200\n",
            "1/1 [==============================] - 0s 4ms/step - loss: 0.0251 - mae: 0.1360\n",
            "Epoch 333/1200\n",
            "1/1 [==============================] - 0s 4ms/step - loss: 0.0249 - mae: 0.1355\n",
            "Epoch 334/1200\n",
            "1/1 [==============================] - 0s 4ms/step - loss: 0.0248 - mae: 0.1351\n",
            "Epoch 335/1200\n",
            "1/1 [==============================] - 0s 5ms/step - loss: 0.0246 - mae: 0.1346\n",
            "Epoch 336/1200\n",
            "1/1 [==============================] - 0s 6ms/step - loss: 0.0244 - mae: 0.1342\n",
            "Epoch 337/1200\n",
            "1/1 [==============================] - 0s 5ms/step - loss: 0.0243 - mae: 0.1337\n",
            "Epoch 338/1200\n",
            "1/1 [==============================] - 0s 5ms/step - loss: 0.0241 - mae: 0.1333\n",
            "Epoch 339/1200\n",
            "1/1 [==============================] - 0s 4ms/step - loss: 0.0239 - mae: 0.1328\n",
            "Epoch 340/1200\n",
            "1/1 [==============================] - 0s 5ms/step - loss: 0.0238 - mae: 0.1324\n",
            "Epoch 341/1200\n",
            "1/1 [==============================] - 0s 5ms/step - loss: 0.0236 - mae: 0.1319\n",
            "Epoch 342/1200\n",
            "1/1 [==============================] - 0s 5ms/step - loss: 0.0235 - mae: 0.1315\n",
            "Epoch 343/1200\n",
            "1/1 [==============================] - 0s 5ms/step - loss: 0.0233 - mae: 0.1310\n",
            "Epoch 344/1200\n",
            "1/1 [==============================] - 0s 5ms/step - loss: 0.0231 - mae: 0.1306\n",
            "Epoch 345/1200\n",
            "1/1 [==============================] - 0s 5ms/step - loss: 0.0230 - mae: 0.1302\n",
            "Epoch 346/1200\n",
            "1/1 [==============================] - 0s 5ms/step - loss: 0.0228 - mae: 0.1297\n",
            "Epoch 347/1200\n",
            "1/1 [==============================] - 0s 5ms/step - loss: 0.0227 - mae: 0.1293\n",
            "Epoch 348/1200\n",
            "1/1 [==============================] - 0s 5ms/step - loss: 0.0225 - mae: 0.1288\n",
            "Epoch 349/1200\n",
            "1/1 [==============================] - 0s 5ms/step - loss: 0.0224 - mae: 0.1284\n",
            "Epoch 350/1200\n",
            "1/1 [==============================] - 0s 5ms/step - loss: 0.0222 - mae: 0.1280\n",
            "Epoch 351/1200\n",
            "1/1 [==============================] - 0s 5ms/step - loss: 0.0221 - mae: 0.1275\n",
            "Epoch 352/1200\n",
            "1/1 [==============================] - 0s 5ms/step - loss: 0.0219 - mae: 0.1271\n",
            "Epoch 353/1200\n",
            "1/1 [==============================] - 0s 4ms/step - loss: 0.0218 - mae: 0.1267\n",
            "Epoch 354/1200\n",
            "1/1 [==============================] - 0s 5ms/step - loss: 0.0216 - mae: 0.1262\n",
            "Epoch 355/1200\n",
            "1/1 [==============================] - 0s 4ms/step - loss: 0.0215 - mae: 0.1258\n",
            "Epoch 356/1200\n",
            "1/1 [==============================] - 0s 4ms/step - loss: 0.0213 - mae: 0.1254\n",
            "Epoch 357/1200\n",
            "1/1 [==============================] - 0s 4ms/step - loss: 0.0212 - mae: 0.1250\n",
            "Epoch 358/1200\n",
            "1/1 [==============================] - 0s 4ms/step - loss: 0.0211 - mae: 0.1245\n",
            "Epoch 359/1200\n",
            "1/1 [==============================] - 0s 7ms/step - loss: 0.0209 - mae: 0.1241\n",
            "Epoch 360/1200\n",
            "1/1 [==============================] - 0s 6ms/step - loss: 0.0208 - mae: 0.1237\n",
            "Epoch 361/1200\n",
            "1/1 [==============================] - 0s 6ms/step - loss: 0.0206 - mae: 0.1233\n",
            "Epoch 362/1200\n",
            "1/1 [==============================] - 0s 6ms/step - loss: 0.0205 - mae: 0.1229\n",
            "Epoch 363/1200\n",
            "1/1 [==============================] - 0s 6ms/step - loss: 0.0204 - mae: 0.1225\n",
            "Epoch 364/1200\n",
            "1/1 [==============================] - 0s 6ms/step - loss: 0.0202 - mae: 0.1220\n",
            "Epoch 365/1200\n",
            "1/1 [==============================] - 0s 6ms/step - loss: 0.0201 - mae: 0.1216\n",
            "Epoch 366/1200\n",
            "1/1 [==============================] - 0s 6ms/step - loss: 0.0199 - mae: 0.1212\n",
            "Epoch 367/1200\n",
            "1/1 [==============================] - 0s 6ms/step - loss: 0.0198 - mae: 0.1208\n",
            "Epoch 368/1200\n",
            "1/1 [==============================] - 0s 5ms/step - loss: 0.0197 - mae: 0.1204\n",
            "Epoch 369/1200\n",
            "1/1 [==============================] - 0s 5ms/step - loss: 0.0195 - mae: 0.1200\n",
            "Epoch 370/1200\n",
            "1/1 [==============================] - 0s 6ms/step - loss: 0.0194 - mae: 0.1196\n",
            "Epoch 371/1200\n",
            "1/1 [==============================] - 0s 6ms/step - loss: 0.0193 - mae: 0.1192\n",
            "Epoch 372/1200\n",
            "1/1 [==============================] - 0s 6ms/step - loss: 0.0192 - mae: 0.1188\n",
            "Epoch 373/1200\n",
            "1/1 [==============================] - 0s 5ms/step - loss: 0.0190 - mae: 0.1184\n",
            "Epoch 374/1200\n",
            "1/1 [==============================] - 0s 12ms/step - loss: 0.0189 - mae: 0.1180\n",
            "Epoch 375/1200\n",
            "1/1 [==============================] - 0s 5ms/step - loss: 0.0188 - mae: 0.1176\n",
            "Epoch 376/1200\n",
            "1/1 [==============================] - 0s 6ms/step - loss: 0.0186 - mae: 0.1172\n",
            "Epoch 377/1200\n",
            "1/1 [==============================] - 0s 5ms/step - loss: 0.0185 - mae: 0.1168\n",
            "Epoch 378/1200\n",
            "1/1 [==============================] - 0s 5ms/step - loss: 0.0184 - mae: 0.1164\n",
            "Epoch 379/1200\n",
            "1/1 [==============================] - 0s 5ms/step - loss: 0.0183 - mae: 0.1160\n",
            "Epoch 380/1200\n",
            "1/1 [==============================] - 0s 4ms/step - loss: 0.0181 - mae: 0.1156\n",
            "Epoch 381/1200\n",
            "1/1 [==============================] - 0s 5ms/step - loss: 0.0180 - mae: 0.1152\n",
            "Epoch 382/1200\n",
            "1/1 [==============================] - 0s 5ms/step - loss: 0.0179 - mae: 0.1148\n",
            "Epoch 383/1200\n",
            "1/1 [==============================] - 0s 5ms/step - loss: 0.0178 - mae: 0.1144\n",
            "Epoch 384/1200\n",
            "1/1 [==============================] - 0s 5ms/step - loss: 0.0177 - mae: 0.1140\n",
            "Epoch 385/1200\n",
            "1/1 [==============================] - 0s 4ms/step - loss: 0.0175 - mae: 0.1137\n",
            "Epoch 386/1200\n",
            "1/1 [==============================] - 0s 4ms/step - loss: 0.0174 - mae: 0.1133\n",
            "Epoch 387/1200\n",
            "1/1 [==============================] - 0s 4ms/step - loss: 0.0173 - mae: 0.1129\n",
            "Epoch 388/1200\n",
            "1/1 [==============================] - 0s 4ms/step - loss: 0.0172 - mae: 0.1125\n",
            "Epoch 389/1200\n",
            "1/1 [==============================] - 0s 4ms/step - loss: 0.0171 - mae: 0.1121\n",
            "Epoch 390/1200\n",
            "1/1 [==============================] - 0s 5ms/step - loss: 0.0170 - mae: 0.1118\n",
            "Epoch 391/1200\n",
            "1/1 [==============================] - 0s 4ms/step - loss: 0.0168 - mae: 0.1114\n",
            "Epoch 392/1200\n",
            "1/1 [==============================] - 0s 4ms/step - loss: 0.0167 - mae: 0.1110\n",
            "Epoch 393/1200\n",
            "1/1 [==============================] - 0s 4ms/step - loss: 0.0166 - mae: 0.1106\n",
            "Epoch 394/1200\n",
            "1/1 [==============================] - 0s 4ms/step - loss: 0.0165 - mae: 0.1102\n",
            "Epoch 395/1200\n",
            "1/1 [==============================] - 0s 4ms/step - loss: 0.0164 - mae: 0.1099\n",
            "Epoch 396/1200\n",
            "1/1 [==============================] - 0s 4ms/step - loss: 0.0163 - mae: 0.1095\n",
            "Epoch 397/1200\n",
            "1/1 [==============================] - 0s 4ms/step - loss: 0.0162 - mae: 0.1091\n",
            "Epoch 398/1200\n",
            "1/1 [==============================] - 0s 4ms/step - loss: 0.0161 - mae: 0.1088\n",
            "Epoch 399/1200\n",
            "1/1 [==============================] - 0s 4ms/step - loss: 0.0159 - mae: 0.1084\n",
            "Epoch 400/1200\n",
            "1/1 [==============================] - 0s 4ms/step - loss: 0.0158 - mae: 0.1080\n",
            "Epoch 401/1200\n",
            "1/1 [==============================] - 0s 4ms/step - loss: 0.0157 - mae: 0.1077\n",
            "Epoch 402/1200\n",
            "1/1 [==============================] - 0s 4ms/step - loss: 0.0156 - mae: 0.1073\n",
            "Epoch 403/1200\n",
            "1/1 [==============================] - 0s 4ms/step - loss: 0.0155 - mae: 0.1069\n",
            "Epoch 404/1200\n",
            "1/1 [==============================] - 0s 5ms/step - loss: 0.0154 - mae: 0.1066\n",
            "Epoch 405/1200\n",
            "1/1 [==============================] - 0s 8ms/step - loss: 0.0153 - mae: 0.1062\n",
            "Epoch 406/1200\n",
            "1/1 [==============================] - 0s 5ms/step - loss: 0.0152 - mae: 0.1059\n",
            "Epoch 407/1200\n",
            "1/1 [==============================] - 0s 8ms/step - loss: 0.0151 - mae: 0.1055\n",
            "Epoch 408/1200\n",
            "1/1 [==============================] - 0s 5ms/step - loss: 0.0150 - mae: 0.1051\n",
            "Epoch 409/1200\n",
            "1/1 [==============================] - 0s 4ms/step - loss: 0.0149 - mae: 0.1048\n",
            "Epoch 410/1200\n",
            "1/1 [==============================] - 0s 4ms/step - loss: 0.0148 - mae: 0.1044\n",
            "Epoch 411/1200\n",
            "1/1 [==============================] - 0s 4ms/step - loss: 0.0147 - mae: 0.1041\n",
            "Epoch 412/1200\n",
            "1/1 [==============================] - 0s 5ms/step - loss: 0.0146 - mae: 0.1037\n",
            "Epoch 413/1200\n",
            "1/1 [==============================] - 0s 5ms/step - loss: 0.0145 - mae: 0.1034\n",
            "Epoch 414/1200\n",
            "1/1 [==============================] - 0s 5ms/step - loss: 0.0144 - mae: 0.1030\n",
            "Epoch 415/1200\n",
            "1/1 [==============================] - 0s 5ms/step - loss: 0.0143 - mae: 0.1027\n",
            "Epoch 416/1200\n",
            "1/1 [==============================] - 0s 5ms/step - loss: 0.0142 - mae: 0.1023\n",
            "Epoch 417/1200\n",
            "1/1 [==============================] - 0s 5ms/step - loss: 0.0141 - mae: 0.1020\n",
            "Epoch 418/1200\n",
            "1/1 [==============================] - 0s 5ms/step - loss: 0.0140 - mae: 0.1016\n",
            "Epoch 419/1200\n",
            "1/1 [==============================] - 0s 5ms/step - loss: 0.0139 - mae: 0.1013\n",
            "Epoch 420/1200\n",
            "1/1 [==============================] - 0s 5ms/step - loss: 0.0138 - mae: 0.1010\n",
            "Epoch 421/1200\n",
            "1/1 [==============================] - 0s 5ms/step - loss: 0.0137 - mae: 0.1006\n",
            "Epoch 422/1200\n",
            "1/1 [==============================] - 0s 5ms/step - loss: 0.0136 - mae: 0.1003\n",
            "Epoch 423/1200\n",
            "1/1 [==============================] - 0s 5ms/step - loss: 0.0136 - mae: 0.0999\n",
            "Epoch 424/1200\n",
            "1/1 [==============================] - 0s 4ms/step - loss: 0.0135 - mae: 0.0996\n",
            "Epoch 425/1200\n",
            "1/1 [==============================] - 0s 4ms/step - loss: 0.0134 - mae: 0.0993\n",
            "Epoch 426/1200\n",
            "1/1 [==============================] - 0s 7ms/step - loss: 0.0133 - mae: 0.0989\n",
            "Epoch 427/1200\n",
            "1/1 [==============================] - 0s 6ms/step - loss: 0.0132 - mae: 0.0986\n",
            "Epoch 428/1200\n",
            "1/1 [==============================] - 0s 5ms/step - loss: 0.0131 - mae: 0.0983\n",
            "Epoch 429/1200\n",
            "1/1 [==============================] - 0s 5ms/step - loss: 0.0130 - mae: 0.0979\n",
            "Epoch 430/1200\n",
            "1/1 [==============================] - 0s 4ms/step - loss: 0.0129 - mae: 0.0976\n",
            "Epoch 431/1200\n",
            "1/1 [==============================] - 0s 5ms/step - loss: 0.0128 - mae: 0.0973\n",
            "Epoch 432/1200\n",
            "1/1 [==============================] - 0s 5ms/step - loss: 0.0128 - mae: 0.0969\n",
            "Epoch 433/1200\n",
            "1/1 [==============================] - 0s 5ms/step - loss: 0.0127 - mae: 0.0966\n",
            "Epoch 434/1200\n",
            "1/1 [==============================] - 0s 5ms/step - loss: 0.0126 - mae: 0.0963\n",
            "Epoch 435/1200\n",
            "1/1 [==============================] - 0s 5ms/step - loss: 0.0125 - mae: 0.0960\n",
            "Epoch 436/1200\n",
            "1/1 [==============================] - 0s 5ms/step - loss: 0.0124 - mae: 0.0956\n",
            "Epoch 437/1200\n",
            "1/1 [==============================] - 0s 5ms/step - loss: 0.0123 - mae: 0.0953\n",
            "Epoch 438/1200\n",
            "1/1 [==============================] - 0s 5ms/step - loss: 0.0122 - mae: 0.0950\n",
            "Epoch 439/1200\n",
            "1/1 [==============================] - 0s 5ms/step - loss: 0.0122 - mae: 0.0947\n",
            "Epoch 440/1200\n",
            "1/1 [==============================] - 0s 5ms/step - loss: 0.0121 - mae: 0.0943\n",
            "Epoch 441/1200\n",
            "1/1 [==============================] - 0s 6ms/step - loss: 0.0120 - mae: 0.0940\n",
            "Epoch 442/1200\n",
            "1/1 [==============================] - 0s 5ms/step - loss: 0.0119 - mae: 0.0937\n",
            "Epoch 443/1200\n",
            "1/1 [==============================] - 0s 5ms/step - loss: 0.0118 - mae: 0.0934\n",
            "Epoch 444/1200\n",
            "1/1 [==============================] - 0s 5ms/step - loss: 0.0118 - mae: 0.0931\n",
            "Epoch 445/1200\n",
            "1/1 [==============================] - 0s 5ms/step - loss: 0.0117 - mae: 0.0928\n",
            "Epoch 446/1200\n",
            "1/1 [==============================] - 0s 5ms/step - loss: 0.0116 - mae: 0.0924\n",
            "Epoch 447/1200\n",
            "1/1 [==============================] - 0s 5ms/step - loss: 0.0115 - mae: 0.0921\n",
            "Epoch 448/1200\n",
            "1/1 [==============================] - 0s 6ms/step - loss: 0.0114 - mae: 0.0918\n",
            "Epoch 449/1200\n",
            "1/1 [==============================] - 0s 5ms/step - loss: 0.0114 - mae: 0.0915\n",
            "Epoch 450/1200\n",
            "1/1 [==============================] - 0s 5ms/step - loss: 0.0113 - mae: 0.0912\n",
            "Epoch 451/1200\n",
            "1/1 [==============================] - 0s 5ms/step - loss: 0.0112 - mae: 0.0909\n",
            "Epoch 452/1200\n",
            "1/1 [==============================] - 0s 6ms/step - loss: 0.0111 - mae: 0.0906\n",
            "Epoch 453/1200\n",
            "1/1 [==============================] - 0s 5ms/step - loss: 0.0111 - mae: 0.0903\n",
            "Epoch 454/1200\n",
            "1/1 [==============================] - 0s 6ms/step - loss: 0.0110 - mae: 0.0900\n",
            "Epoch 455/1200\n",
            "1/1 [==============================] - 0s 6ms/step - loss: 0.0109 - mae: 0.0897\n",
            "Epoch 456/1200\n",
            "1/1 [==============================] - 0s 5ms/step - loss: 0.0108 - mae: 0.0894\n",
            "Epoch 457/1200\n",
            "1/1 [==============================] - 0s 4ms/step - loss: 0.0108 - mae: 0.0891\n",
            "Epoch 458/1200\n",
            "1/1 [==============================] - 0s 4ms/step - loss: 0.0107 - mae: 0.0888\n",
            "Epoch 459/1200\n",
            "1/1 [==============================] - 0s 4ms/step - loss: 0.0106 - mae: 0.0885\n",
            "Epoch 460/1200\n",
            "1/1 [==============================] - 0s 4ms/step - loss: 0.0106 - mae: 0.0882\n",
            "Epoch 461/1200\n",
            "1/1 [==============================] - 0s 8ms/step - loss: 0.0105 - mae: 0.0879\n",
            "Epoch 462/1200\n",
            "1/1 [==============================] - 0s 5ms/step - loss: 0.0104 - mae: 0.0876\n",
            "Epoch 463/1200\n",
            "1/1 [==============================] - 0s 4ms/step - loss: 0.0103 - mae: 0.0873\n",
            "Epoch 464/1200\n",
            "1/1 [==============================] - 0s 5ms/step - loss: 0.0103 - mae: 0.0870\n",
            "Epoch 465/1200\n",
            "1/1 [==============================] - 0s 5ms/step - loss: 0.0102 - mae: 0.0867\n",
            "Epoch 466/1200\n",
            "1/1 [==============================] - 0s 5ms/step - loss: 0.0101 - mae: 0.0864\n",
            "Epoch 467/1200\n",
            "1/1 [==============================] - 0s 5ms/step - loss: 0.0101 - mae: 0.0861\n",
            "Epoch 468/1200\n",
            "1/1 [==============================] - 0s 5ms/step - loss: 0.0100 - mae: 0.0858\n",
            "Epoch 469/1200\n",
            "1/1 [==============================] - 0s 9ms/step - loss: 0.0099 - mae: 0.0855\n",
            "Epoch 470/1200\n",
            "1/1 [==============================] - 0s 5ms/step - loss: 0.0099 - mae: 0.0852\n",
            "Epoch 471/1200\n",
            "1/1 [==============================] - 0s 5ms/step - loss: 0.0098 - mae: 0.0849\n",
            "Epoch 472/1200\n",
            "1/1 [==============================] - 0s 6ms/step - loss: 0.0097 - mae: 0.0847\n",
            "Epoch 473/1200\n",
            "1/1 [==============================] - 0s 5ms/step - loss: 0.0097 - mae: 0.0844\n",
            "Epoch 474/1200\n",
            "1/1 [==============================] - 0s 5ms/step - loss: 0.0096 - mae: 0.0841\n",
            "Epoch 475/1200\n",
            "1/1 [==============================] - 0s 11ms/step - loss: 0.0095 - mae: 0.0838\n",
            "Epoch 476/1200\n",
            "1/1 [==============================] - 0s 6ms/step - loss: 0.0095 - mae: 0.0835\n",
            "Epoch 477/1200\n",
            "1/1 [==============================] - 0s 5ms/step - loss: 0.0094 - mae: 0.0832\n",
            "Epoch 478/1200\n",
            "1/1 [==============================] - 0s 9ms/step - loss: 0.0093 - mae: 0.0830\n",
            "Epoch 479/1200\n",
            "1/1 [==============================] - 0s 7ms/step - loss: 0.0093 - mae: 0.0827\n",
            "Epoch 480/1200\n",
            "1/1 [==============================] - 0s 9ms/step - loss: 0.0092 - mae: 0.0824\n",
            "Epoch 481/1200\n",
            "1/1 [==============================] - 0s 4ms/step - loss: 0.0092 - mae: 0.0821\n",
            "Epoch 482/1200\n",
            "1/1 [==============================] - 0s 4ms/step - loss: 0.0091 - mae: 0.0818\n",
            "Epoch 483/1200\n",
            "1/1 [==============================] - 0s 4ms/step - loss: 0.0090 - mae: 0.0816\n",
            "Epoch 484/1200\n",
            "1/1 [==============================] - 0s 4ms/step - loss: 0.0090 - mae: 0.0813\n",
            "Epoch 485/1200\n",
            "1/1 [==============================] - 0s 5ms/step - loss: 0.0089 - mae: 0.0810\n",
            "Epoch 486/1200\n",
            "1/1 [==============================] - 0s 5ms/step - loss: 0.0088 - mae: 0.0807\n",
            "Epoch 487/1200\n",
            "1/1 [==============================] - 0s 4ms/step - loss: 0.0088 - mae: 0.0805\n",
            "Epoch 488/1200\n",
            "1/1 [==============================] - 0s 5ms/step - loss: 0.0087 - mae: 0.0802\n",
            "Epoch 489/1200\n",
            "1/1 [==============================] - 0s 4ms/step - loss: 0.0087 - mae: 0.0799\n",
            "Epoch 490/1200\n",
            "1/1 [==============================] - 0s 5ms/step - loss: 0.0086 - mae: 0.0796\n",
            "Epoch 491/1200\n",
            "1/1 [==============================] - 0s 5ms/step - loss: 0.0086 - mae: 0.0794\n",
            "Epoch 492/1200\n",
            "1/1 [==============================] - 0s 5ms/step - loss: 0.0085 - mae: 0.0791\n",
            "Epoch 493/1200\n",
            "1/1 [==============================] - 0s 5ms/step - loss: 0.0084 - mae: 0.0788\n",
            "Epoch 494/1200\n",
            "1/1 [==============================] - 0s 5ms/step - loss: 0.0084 - mae: 0.0786\n",
            "Epoch 495/1200\n",
            "1/1 [==============================] - 0s 5ms/step - loss: 0.0083 - mae: 0.0783\n",
            "Epoch 496/1200\n",
            "1/1 [==============================] - 0s 5ms/step - loss: 0.0083 - mae: 0.0780\n",
            "Epoch 497/1200\n",
            "1/1 [==============================] - 0s 7ms/step - loss: 0.0082 - mae: 0.0778\n",
            "Epoch 498/1200\n",
            "1/1 [==============================] - 0s 5ms/step - loss: 0.0082 - mae: 0.0775\n",
            "Epoch 499/1200\n",
            "1/1 [==============================] - 0s 8ms/step - loss: 0.0081 - mae: 0.0773\n",
            "Epoch 500/1200\n",
            "1/1 [==============================] - 0s 5ms/step - loss: 0.0080 - mae: 0.0770\n",
            "Epoch 501/1200\n",
            "1/1 [==============================] - 0s 5ms/step - loss: 0.0080 - mae: 0.0767\n",
            "Epoch 502/1200\n",
            "1/1 [==============================] - 0s 5ms/step - loss: 0.0079 - mae: 0.0765\n",
            "Epoch 503/1200\n",
            "1/1 [==============================] - 0s 5ms/step - loss: 0.0079 - mae: 0.0762\n",
            "Epoch 504/1200\n",
            "1/1 [==============================] - 0s 7ms/step - loss: 0.0078 - mae: 0.0760\n",
            "Epoch 505/1200\n",
            "1/1 [==============================] - 0s 4ms/step - loss: 0.0078 - mae: 0.0757\n",
            "Epoch 506/1200\n",
            "1/1 [==============================] - 0s 5ms/step - loss: 0.0077 - mae: 0.0754\n",
            "Epoch 507/1200\n",
            "1/1 [==============================] - 0s 5ms/step - loss: 0.0077 - mae: 0.0752\n",
            "Epoch 508/1200\n",
            "1/1 [==============================] - 0s 4ms/step - loss: 0.0076 - mae: 0.0749\n",
            "Epoch 509/1200\n",
            "1/1 [==============================] - 0s 9ms/step - loss: 0.0076 - mae: 0.0747\n",
            "Epoch 510/1200\n",
            "1/1 [==============================] - 0s 5ms/step - loss: 0.0075 - mae: 0.0744\n",
            "Epoch 511/1200\n",
            "1/1 [==============================] - 0s 5ms/step - loss: 0.0075 - mae: 0.0742\n",
            "Epoch 512/1200\n",
            "1/1 [==============================] - 0s 5ms/step - loss: 0.0074 - mae: 0.0739\n",
            "Epoch 513/1200\n",
            "1/1 [==============================] - 0s 5ms/step - loss: 0.0074 - mae: 0.0737\n",
            "Epoch 514/1200\n",
            "1/1 [==============================] - 0s 5ms/step - loss: 0.0073 - mae: 0.0734\n",
            "Epoch 515/1200\n",
            "1/1 [==============================] - 0s 4ms/step - loss: 0.0073 - mae: 0.0732\n",
            "Epoch 516/1200\n",
            "1/1 [==============================] - 0s 4ms/step - loss: 0.0072 - mae: 0.0729\n",
            "Epoch 517/1200\n",
            "1/1 [==============================] - 0s 5ms/step - loss: 0.0072 - mae: 0.0727\n",
            "Epoch 518/1200\n",
            "1/1 [==============================] - 0s 5ms/step - loss: 0.0071 - mae: 0.0724\n",
            "Epoch 519/1200\n",
            "1/1 [==============================] - 0s 6ms/step - loss: 0.0071 - mae: 0.0722\n",
            "Epoch 520/1200\n",
            "1/1 [==============================] - 0s 5ms/step - loss: 0.0070 - mae: 0.0720\n",
            "Epoch 521/1200\n",
            "1/1 [==============================] - 0s 4ms/step - loss: 0.0070 - mae: 0.0717\n",
            "Epoch 522/1200\n",
            "1/1 [==============================] - 0s 5ms/step - loss: 0.0069 - mae: 0.0715\n",
            "Epoch 523/1200\n",
            "1/1 [==============================] - 0s 5ms/step - loss: 0.0069 - mae: 0.0712\n",
            "Epoch 524/1200\n",
            "1/1 [==============================] - 0s 5ms/step - loss: 0.0068 - mae: 0.0710\n",
            "Epoch 525/1200\n",
            "1/1 [==============================] - 0s 5ms/step - loss: 0.0068 - mae: 0.0707\n",
            "Epoch 526/1200\n",
            "1/1 [==============================] - 0s 5ms/step - loss: 0.0067 - mae: 0.0705\n",
            "Epoch 527/1200\n",
            "1/1 [==============================] - 0s 9ms/step - loss: 0.0067 - mae: 0.0703\n",
            "Epoch 528/1200\n",
            "1/1 [==============================] - 0s 6ms/step - loss: 0.0067 - mae: 0.0700\n",
            "Epoch 529/1200\n",
            "1/1 [==============================] - 0s 5ms/step - loss: 0.0066 - mae: 0.0698\n",
            "Epoch 530/1200\n",
            "1/1 [==============================] - 0s 6ms/step - loss: 0.0066 - mae: 0.0696\n",
            "Epoch 531/1200\n",
            "1/1 [==============================] - 0s 5ms/step - loss: 0.0065 - mae: 0.0693\n",
            "Epoch 532/1200\n",
            "1/1 [==============================] - 0s 5ms/step - loss: 0.0065 - mae: 0.0691\n",
            "Epoch 533/1200\n",
            "1/1 [==============================] - 0s 5ms/step - loss: 0.0064 - mae: 0.0689\n",
            "Epoch 534/1200\n",
            "1/1 [==============================] - 0s 5ms/step - loss: 0.0064 - mae: 0.0686\n",
            "Epoch 535/1200\n",
            "1/1 [==============================] - 0s 5ms/step - loss: 0.0063 - mae: 0.0684\n",
            "Epoch 536/1200\n",
            "1/1 [==============================] - 0s 5ms/step - loss: 0.0063 - mae: 0.0682\n",
            "Epoch 537/1200\n",
            "1/1 [==============================] - 0s 5ms/step - loss: 0.0063 - mae: 0.0679\n",
            "Epoch 538/1200\n",
            "1/1 [==============================] - 0s 5ms/step - loss: 0.0062 - mae: 0.0677\n",
            "Epoch 539/1200\n",
            "1/1 [==============================] - 0s 6ms/step - loss: 0.0062 - mae: 0.0675\n",
            "Epoch 540/1200\n",
            "1/1 [==============================] - 0s 5ms/step - loss: 0.0061 - mae: 0.0672\n",
            "Epoch 541/1200\n",
            "1/1 [==============================] - 0s 5ms/step - loss: 0.0061 - mae: 0.0670\n",
            "Epoch 542/1200\n",
            "1/1 [==============================] - 0s 6ms/step - loss: 0.0061 - mae: 0.0668\n",
            "Epoch 543/1200\n",
            "1/1 [==============================] - 0s 6ms/step - loss: 0.0060 - mae: 0.0666\n",
            "Epoch 544/1200\n",
            "1/1 [==============================] - 0s 5ms/step - loss: 0.0060 - mae: 0.0663\n",
            "Epoch 545/1200\n",
            "1/1 [==============================] - 0s 6ms/step - loss: 0.0059 - mae: 0.0661\n",
            "Epoch 546/1200\n",
            "1/1 [==============================] - 0s 5ms/step - loss: 0.0059 - mae: 0.0659\n",
            "Epoch 547/1200\n",
            "1/1 [==============================] - 0s 5ms/step - loss: 0.0059 - mae: 0.0657\n",
            "Epoch 548/1200\n",
            "1/1 [==============================] - 0s 171ms/step - loss: 0.0058 - mae: 0.0654\n",
            "Epoch 549/1200\n",
            "1/1 [==============================] - 0s 4ms/step - loss: 0.0058 - mae: 0.0652\n",
            "Epoch 550/1200\n",
            "1/1 [==============================] - 0s 4ms/step - loss: 0.0057 - mae: 0.0650\n",
            "Epoch 551/1200\n",
            "1/1 [==============================] - 0s 4ms/step - loss: 0.0057 - mae: 0.0648\n",
            "Epoch 552/1200\n",
            "1/1 [==============================] - 0s 6ms/step - loss: 0.0057 - mae: 0.0646\n",
            "Epoch 553/1200\n",
            "1/1 [==============================] - 0s 5ms/step - loss: 0.0056 - mae: 0.0643\n",
            "Epoch 554/1200\n",
            "1/1 [==============================] - 0s 6ms/step - loss: 0.0056 - mae: 0.0641\n",
            "Epoch 555/1200\n",
            "1/1 [==============================] - 0s 6ms/step - loss: 0.0055 - mae: 0.0639\n",
            "Epoch 556/1200\n",
            "1/1 [==============================] - 0s 6ms/step - loss: 0.0055 - mae: 0.0637\n",
            "Epoch 557/1200\n",
            "1/1 [==============================] - 0s 6ms/step - loss: 0.0055 - mae: 0.0635\n",
            "Epoch 558/1200\n",
            "1/1 [==============================] - 0s 6ms/step - loss: 0.0054 - mae: 0.0633\n",
            "Epoch 559/1200\n",
            "1/1 [==============================] - 0s 13ms/step - loss: 0.0054 - mae: 0.0631\n",
            "Epoch 560/1200\n",
            "1/1 [==============================] - 0s 5ms/step - loss: 0.0054 - mae: 0.0628\n",
            "Epoch 561/1200\n",
            "1/1 [==============================] - 0s 5ms/step - loss: 0.0053 - mae: 0.0626\n",
            "Epoch 562/1200\n",
            "1/1 [==============================] - 0s 6ms/step - loss: 0.0053 - mae: 0.0624\n",
            "Epoch 563/1200\n",
            "1/1 [==============================] - 0s 6ms/step - loss: 0.0053 - mae: 0.0622\n",
            "Epoch 564/1200\n",
            "1/1 [==============================] - 0s 6ms/step - loss: 0.0052 - mae: 0.0620\n",
            "Epoch 565/1200\n",
            "1/1 [==============================] - 0s 7ms/step - loss: 0.0052 - mae: 0.0618\n",
            "Epoch 566/1200\n",
            "1/1 [==============================] - 0s 6ms/step - loss: 0.0051 - mae: 0.0616\n",
            "Epoch 567/1200\n",
            "1/1 [==============================] - 0s 8ms/step - loss: 0.0051 - mae: 0.0614\n",
            "Epoch 568/1200\n",
            "1/1 [==============================] - 0s 6ms/step - loss: 0.0051 - mae: 0.0612\n",
            "Epoch 569/1200\n",
            "1/1 [==============================] - 0s 6ms/step - loss: 0.0050 - mae: 0.0610\n",
            "Epoch 570/1200\n",
            "1/1 [==============================] - 0s 6ms/step - loss: 0.0050 - mae: 0.0607\n",
            "Epoch 571/1200\n",
            "1/1 [==============================] - 0s 6ms/step - loss: 0.0050 - mae: 0.0605\n",
            "Epoch 572/1200\n",
            "1/1 [==============================] - 0s 13ms/step - loss: 0.0049 - mae: 0.0603\n",
            "Epoch 573/1200\n",
            "1/1 [==============================] - 0s 6ms/step - loss: 0.0049 - mae: 0.0601\n",
            "Epoch 574/1200\n",
            "1/1 [==============================] - 0s 6ms/step - loss: 0.0049 - mae: 0.0599\n",
            "Epoch 575/1200\n",
            "1/1 [==============================] - 0s 6ms/step - loss: 0.0048 - mae: 0.0597\n",
            "Epoch 576/1200\n",
            "1/1 [==============================] - 0s 6ms/step - loss: 0.0048 - mae: 0.0595\n",
            "Epoch 577/1200\n",
            "1/1 [==============================] - 0s 6ms/step - loss: 0.0048 - mae: 0.0593\n",
            "Epoch 578/1200\n",
            "1/1 [==============================] - 0s 6ms/step - loss: 0.0047 - mae: 0.0591\n",
            "Epoch 579/1200\n",
            "1/1 [==============================] - 0s 7ms/step - loss: 0.0047 - mae: 0.0589\n",
            "Epoch 580/1200\n",
            "1/1 [==============================] - 0s 12ms/step - loss: 0.0047 - mae: 0.0587\n",
            "Epoch 581/1200\n",
            "1/1 [==============================] - 0s 6ms/step - loss: 0.0046 - mae: 0.0585\n",
            "Epoch 582/1200\n",
            "1/1 [==============================] - 0s 6ms/step - loss: 0.0046 - mae: 0.0583\n",
            "Epoch 583/1200\n",
            "1/1 [==============================] - 0s 6ms/step - loss: 0.0046 - mae: 0.0581\n",
            "Epoch 584/1200\n",
            "1/1 [==============================] - 0s 6ms/step - loss: 0.0046 - mae: 0.0579\n",
            "Epoch 585/1200\n",
            "1/1 [==============================] - 0s 7ms/step - loss: 0.0045 - mae: 0.0577\n",
            "Epoch 586/1200\n",
            "1/1 [==============================] - 0s 6ms/step - loss: 0.0045 - mae: 0.0575\n",
            "Epoch 587/1200\n",
            "1/1 [==============================] - 0s 6ms/step - loss: 0.0045 - mae: 0.0573\n",
            "Epoch 588/1200\n",
            "1/1 [==============================] - 0s 6ms/step - loss: 0.0044 - mae: 0.0572\n",
            "Epoch 589/1200\n",
            "1/1 [==============================] - 0s 6ms/step - loss: 0.0044 - mae: 0.0570\n",
            "Epoch 590/1200\n",
            "1/1 [==============================] - 0s 5ms/step - loss: 0.0044 - mae: 0.0568\n",
            "Epoch 591/1200\n",
            "1/1 [==============================] - 0s 5ms/step - loss: 0.0043 - mae: 0.0566\n",
            "Epoch 592/1200\n",
            "1/1 [==============================] - 0s 4ms/step - loss: 0.0043 - mae: 0.0564\n",
            "Epoch 593/1200\n",
            "1/1 [==============================] - 0s 6ms/step - loss: 0.0043 - mae: 0.0562\n",
            "Epoch 594/1200\n",
            "1/1 [==============================] - 0s 6ms/step - loss: 0.0043 - mae: 0.0560\n",
            "Epoch 595/1200\n",
            "1/1 [==============================] - 0s 5ms/step - loss: 0.0042 - mae: 0.0558\n",
            "Epoch 596/1200\n",
            "1/1 [==============================] - 0s 6ms/step - loss: 0.0042 - mae: 0.0556\n",
            "Epoch 597/1200\n",
            "1/1 [==============================] - 0s 6ms/step - loss: 0.0042 - mae: 0.0554\n",
            "Epoch 598/1200\n",
            "1/1 [==============================] - 0s 7ms/step - loss: 0.0041 - mae: 0.0552\n",
            "Epoch 599/1200\n",
            "1/1 [==============================] - 0s 6ms/step - loss: 0.0041 - mae: 0.0551\n",
            "Epoch 600/1200\n",
            "1/1 [==============================] - 0s 7ms/step - loss: 0.0041 - mae: 0.0549\n",
            "Epoch 601/1200\n",
            "1/1 [==============================] - 0s 11ms/step - loss: 0.0041 - mae: 0.0547\n",
            "Epoch 602/1200\n",
            "1/1 [==============================] - 0s 4ms/step - loss: 0.0040 - mae: 0.0545\n",
            "Epoch 603/1200\n",
            "1/1 [==============================] - 0s 4ms/step - loss: 0.0040 - mae: 0.0543\n",
            "Epoch 604/1200\n",
            "1/1 [==============================] - 0s 5ms/step - loss: 0.0040 - mae: 0.0541\n",
            "Epoch 605/1200\n",
            "1/1 [==============================] - 0s 7ms/step - loss: 0.0040 - mae: 0.0540\n",
            "Epoch 606/1200\n",
            "1/1 [==============================] - 0s 5ms/step - loss: 0.0039 - mae: 0.0538\n",
            "Epoch 607/1200\n",
            "1/1 [==============================] - 0s 5ms/step - loss: 0.0039 - mae: 0.0536\n",
            "Epoch 608/1200\n",
            "1/1 [==============================] - 0s 8ms/step - loss: 0.0039 - mae: 0.0534\n",
            "Epoch 609/1200\n",
            "1/1 [==============================] - 0s 9ms/step - loss: 0.0038 - mae: 0.0532\n",
            "Epoch 610/1200\n",
            "1/1 [==============================] - 0s 8ms/step - loss: 0.0038 - mae: 0.0530\n",
            "Epoch 611/1200\n",
            "1/1 [==============================] - 0s 6ms/step - loss: 0.0038 - mae: 0.0529\n",
            "Epoch 612/1200\n",
            "1/1 [==============================] - 0s 6ms/step - loss: 0.0038 - mae: 0.0527\n",
            "Epoch 613/1200\n",
            "1/1 [==============================] - 0s 6ms/step - loss: 0.0037 - mae: 0.0525\n",
            "Epoch 614/1200\n",
            "1/1 [==============================] - 0s 6ms/step - loss: 0.0037 - mae: 0.0523\n",
            "Epoch 615/1200\n",
            "1/1 [==============================] - 0s 8ms/step - loss: 0.0037 - mae: 0.0522\n",
            "Epoch 616/1200\n",
            "1/1 [==============================] - 0s 5ms/step - loss: 0.0037 - mae: 0.0520\n",
            "Epoch 617/1200\n",
            "1/1 [==============================] - 0s 5ms/step - loss: 0.0036 - mae: 0.0518\n",
            "Epoch 618/1200\n",
            "1/1 [==============================] - 0s 5ms/step - loss: 0.0036 - mae: 0.0516\n",
            "Epoch 619/1200\n",
            "1/1 [==============================] - 0s 5ms/step - loss: 0.0036 - mae: 0.0515\n",
            "Epoch 620/1200\n",
            "1/1 [==============================] - 0s 5ms/step - loss: 0.0036 - mae: 0.0513\n",
            "Epoch 621/1200\n",
            "1/1 [==============================] - 0s 5ms/step - loss: 0.0035 - mae: 0.0511\n",
            "Epoch 622/1200\n",
            "1/1 [==============================] - 0s 5ms/step - loss: 0.0035 - mae: 0.0509\n",
            "Epoch 623/1200\n",
            "1/1 [==============================] - 0s 10ms/step - loss: 0.0035 - mae: 0.0508\n",
            "Epoch 624/1200\n",
            "1/1 [==============================] - 0s 5ms/step - loss: 0.0035 - mae: 0.0506\n",
            "Epoch 625/1200\n",
            "1/1 [==============================] - 0s 5ms/step - loss: 0.0035 - mae: 0.0504\n",
            "Epoch 626/1200\n",
            "1/1 [==============================] - 0s 5ms/step - loss: 0.0034 - mae: 0.0503\n",
            "Epoch 627/1200\n",
            "1/1 [==============================] - 0s 11ms/step - loss: 0.0034 - mae: 0.0501\n",
            "Epoch 628/1200\n",
            "1/1 [==============================] - 0s 7ms/step - loss: 0.0034 - mae: 0.0499\n",
            "Epoch 629/1200\n",
            "1/1 [==============================] - 0s 6ms/step - loss: 0.0034 - mae: 0.0497\n",
            "Epoch 630/1200\n",
            "1/1 [==============================] - 0s 5ms/step - loss: 0.0033 - mae: 0.0496\n",
            "Epoch 631/1200\n",
            "1/1 [==============================] - 0s 145ms/step - loss: 0.0033 - mae: 0.0494\n",
            "Epoch 632/1200\n",
            "1/1 [==============================] - 0s 111ms/step - loss: 0.0033 - mae: 0.0492\n",
            "Epoch 633/1200\n",
            "1/1 [==============================] - 0s 8ms/step - loss: 0.0033 - mae: 0.0491\n",
            "Epoch 634/1200\n",
            "1/1 [==============================] - 0s 8ms/step - loss: 0.0032 - mae: 0.0489\n",
            "Epoch 635/1200\n",
            "1/1 [==============================] - 0s 9ms/step - loss: 0.0032 - mae: 0.0487\n",
            "Epoch 636/1200\n",
            "1/1 [==============================] - 0s 7ms/step - loss: 0.0032 - mae: 0.0486\n",
            "Epoch 637/1200\n",
            "1/1 [==============================] - 0s 6ms/step - loss: 0.0032 - mae: 0.0484\n",
            "Epoch 638/1200\n",
            "1/1 [==============================] - 0s 8ms/step - loss: 0.0032 - mae: 0.0483\n",
            "Epoch 639/1200\n",
            "1/1 [==============================] - 0s 9ms/step - loss: 0.0031 - mae: 0.0481\n",
            "Epoch 640/1200\n",
            "1/1 [==============================] - 0s 9ms/step - loss: 0.0031 - mae: 0.0479\n",
            "Epoch 641/1200\n",
            "1/1 [==============================] - 0s 10ms/step - loss: 0.0031 - mae: 0.0478\n",
            "Epoch 642/1200\n",
            "1/1 [==============================] - 0s 7ms/step - loss: 0.0031 - mae: 0.0476\n",
            "Epoch 643/1200\n",
            "1/1 [==============================] - 0s 9ms/step - loss: 0.0031 - mae: 0.0474\n",
            "Epoch 644/1200\n",
            "1/1 [==============================] - 0s 10ms/step - loss: 0.0030 - mae: 0.0473\n",
            "Epoch 645/1200\n",
            "1/1 [==============================] - 0s 8ms/step - loss: 0.0030 - mae: 0.0471\n",
            "Epoch 646/1200\n",
            "1/1 [==============================] - 0s 9ms/step - loss: 0.0030 - mae: 0.0470\n",
            "Epoch 647/1200\n",
            "1/1 [==============================] - 0s 10ms/step - loss: 0.0030 - mae: 0.0468\n",
            "Epoch 648/1200\n",
            "1/1 [==============================] - 0s 8ms/step - loss: 0.0030 - mae: 0.0466\n",
            "Epoch 649/1200\n",
            "1/1 [==============================] - 0s 7ms/step - loss: 0.0029 - mae: 0.0465\n",
            "Epoch 650/1200\n",
            "1/1 [==============================] - 0s 10ms/step - loss: 0.0029 - mae: 0.0463\n",
            "Epoch 651/1200\n",
            "1/1 [==============================] - 0s 7ms/step - loss: 0.0029 - mae: 0.0462\n",
            "Epoch 652/1200\n",
            "1/1 [==============================] - 0s 7ms/step - loss: 0.0029 - mae: 0.0460\n",
            "Epoch 653/1200\n",
            "1/1 [==============================] - 0s 7ms/step - loss: 0.0029 - mae: 0.0459\n",
            "Epoch 654/1200\n",
            "1/1 [==============================] - 0s 6ms/step - loss: 0.0028 - mae: 0.0457\n",
            "Epoch 655/1200\n",
            "1/1 [==============================] - 0s 7ms/step - loss: 0.0028 - mae: 0.0456\n",
            "Epoch 656/1200\n",
            "1/1 [==============================] - 0s 10ms/step - loss: 0.0028 - mae: 0.0454\n",
            "Epoch 657/1200\n",
            "1/1 [==============================] - 0s 10ms/step - loss: 0.0028 - mae: 0.0452\n",
            "Epoch 658/1200\n",
            "1/1 [==============================] - 0s 8ms/step - loss: 0.0028 - mae: 0.0451\n",
            "Epoch 659/1200\n",
            "1/1 [==============================] - 0s 9ms/step - loss: 0.0027 - mae: 0.0449\n",
            "Epoch 660/1200\n",
            "1/1 [==============================] - 0s 9ms/step - loss: 0.0027 - mae: 0.0448\n",
            "Epoch 661/1200\n",
            "1/1 [==============================] - 0s 7ms/step - loss: 0.0027 - mae: 0.0446\n",
            "Epoch 662/1200\n",
            "1/1 [==============================] - 0s 11ms/step - loss: 0.0027 - mae: 0.0445\n",
            "Epoch 663/1200\n",
            "1/1 [==============================] - 0s 8ms/step - loss: 0.0027 - mae: 0.0443\n",
            "Epoch 664/1200\n",
            "1/1 [==============================] - 0s 7ms/step - loss: 0.0026 - mae: 0.0442\n",
            "Epoch 665/1200\n",
            "1/1 [==============================] - 0s 8ms/step - loss: 0.0026 - mae: 0.0440\n",
            "Epoch 666/1200\n",
            "1/1 [==============================] - 0s 9ms/step - loss: 0.0026 - mae: 0.0439\n",
            "Epoch 667/1200\n",
            "1/1 [==============================] - 0s 7ms/step - loss: 0.0026 - mae: 0.0437\n",
            "Epoch 668/1200\n",
            "1/1 [==============================] - 0s 9ms/step - loss: 0.0026 - mae: 0.0436\n",
            "Epoch 669/1200\n",
            "1/1 [==============================] - 0s 7ms/step - loss: 0.0026 - mae: 0.0434\n",
            "Epoch 670/1200\n",
            "1/1 [==============================] - 0s 8ms/step - loss: 0.0025 - mae: 0.0433\n",
            "Epoch 671/1200\n",
            "1/1 [==============================] - 0s 9ms/step - loss: 0.0025 - mae: 0.0431\n",
            "Epoch 672/1200\n",
            "1/1 [==============================] - 0s 8ms/step - loss: 0.0025 - mae: 0.0430\n",
            "Epoch 673/1200\n",
            "1/1 [==============================] - 0s 10ms/step - loss: 0.0025 - mae: 0.0429\n",
            "Epoch 674/1200\n",
            "1/1 [==============================] - 0s 8ms/step - loss: 0.0025 - mae: 0.0427\n",
            "Epoch 675/1200\n",
            "1/1 [==============================] - 0s 9ms/step - loss: 0.0025 - mae: 0.0426\n",
            "Epoch 676/1200\n",
            "1/1 [==============================] - 0s 9ms/step - loss: 0.0024 - mae: 0.0424\n",
            "Epoch 677/1200\n",
            "1/1 [==============================] - 0s 6ms/step - loss: 0.0024 - mae: 0.0423\n",
            "Epoch 678/1200\n",
            "1/1 [==============================] - 0s 10ms/step - loss: 0.0024 - mae: 0.0421\n",
            "Epoch 679/1200\n",
            "1/1 [==============================] - 0s 8ms/step - loss: 0.0024 - mae: 0.0420\n",
            "Epoch 680/1200\n",
            "1/1 [==============================] - 0s 8ms/step - loss: 0.0024 - mae: 0.0419\n",
            "Epoch 681/1200\n",
            "1/1 [==============================] - 0s 8ms/step - loss: 0.0024 - mae: 0.0417\n",
            "Epoch 682/1200\n",
            "1/1 [==============================] - 0s 7ms/step - loss: 0.0023 - mae: 0.0416\n",
            "Epoch 683/1200\n",
            "1/1 [==============================] - 0s 10ms/step - loss: 0.0023 - mae: 0.0414\n",
            "Epoch 684/1200\n",
            "1/1 [==============================] - 0s 9ms/step - loss: 0.0023 - mae: 0.0413\n",
            "Epoch 685/1200\n",
            "1/1 [==============================] - 0s 12ms/step - loss: 0.0023 - mae: 0.0411\n",
            "Epoch 686/1200\n",
            "1/1 [==============================] - 0s 7ms/step - loss: 0.0023 - mae: 0.0410\n",
            "Epoch 687/1200\n",
            "1/1 [==============================] - 0s 7ms/step - loss: 0.0023 - mae: 0.0409\n",
            "Epoch 688/1200\n",
            "1/1 [==============================] - 0s 6ms/step - loss: 0.0023 - mae: 0.0407\n",
            "Epoch 689/1200\n",
            "1/1 [==============================] - 0s 9ms/step - loss: 0.0022 - mae: 0.0406\n",
            "Epoch 690/1200\n",
            "1/1 [==============================] - 0s 10ms/step - loss: 0.0022 - mae: 0.0405\n",
            "Epoch 691/1200\n",
            "1/1 [==============================] - 0s 9ms/step - loss: 0.0022 - mae: 0.0403\n",
            "Epoch 692/1200\n",
            "1/1 [==============================] - 0s 8ms/step - loss: 0.0022 - mae: 0.0402\n",
            "Epoch 693/1200\n",
            "1/1 [==============================] - 0s 8ms/step - loss: 0.0022 - mae: 0.0400\n",
            "Epoch 694/1200\n",
            "1/1 [==============================] - 0s 8ms/step - loss: 0.0022 - mae: 0.0399\n",
            "Epoch 695/1200\n",
            "1/1 [==============================] - 0s 7ms/step - loss: 0.0021 - mae: 0.0398\n",
            "Epoch 696/1200\n",
            "1/1 [==============================] - 0s 8ms/step - loss: 0.0021 - mae: 0.0396\n",
            "Epoch 697/1200\n",
            "1/1 [==============================] - 0s 9ms/step - loss: 0.0021 - mae: 0.0395\n",
            "Epoch 698/1200\n",
            "1/1 [==============================] - 0s 9ms/step - loss: 0.0021 - mae: 0.0394\n",
            "Epoch 699/1200\n",
            "1/1 [==============================] - 0s 7ms/step - loss: 0.0021 - mae: 0.0392\n",
            "Epoch 700/1200\n",
            "1/1 [==============================] - 0s 10ms/step - loss: 0.0021 - mae: 0.0391\n",
            "Epoch 701/1200\n",
            "1/1 [==============================] - 0s 9ms/step - loss: 0.0021 - mae: 0.0390\n",
            "Epoch 702/1200\n",
            "1/1 [==============================] - 0s 8ms/step - loss: 0.0020 - mae: 0.0388\n",
            "Epoch 703/1200\n",
            "1/1 [==============================] - 0s 6ms/step - loss: 0.0020 - mae: 0.0387\n",
            "Epoch 704/1200\n",
            "1/1 [==============================] - 0s 8ms/step - loss: 0.0020 - mae: 0.0386\n",
            "Epoch 705/1200\n",
            "1/1 [==============================] - 0s 7ms/step - loss: 0.0020 - mae: 0.0385\n",
            "Epoch 706/1200\n",
            "1/1 [==============================] - 0s 8ms/step - loss: 0.0020 - mae: 0.0383\n",
            "Epoch 707/1200\n",
            "1/1 [==============================] - 0s 8ms/step - loss: 0.0020 - mae: 0.0382\n",
            "Epoch 708/1200\n",
            "1/1 [==============================] - 0s 7ms/step - loss: 0.0020 - mae: 0.0381\n",
            "Epoch 709/1200\n",
            "1/1 [==============================] - 0s 8ms/step - loss: 0.0020 - mae: 0.0379\n",
            "Epoch 710/1200\n",
            "1/1 [==============================] - 0s 7ms/step - loss: 0.0019 - mae: 0.0378\n",
            "Epoch 711/1200\n",
            "1/1 [==============================] - 0s 10ms/step - loss: 0.0019 - mae: 0.0377\n",
            "Epoch 712/1200\n",
            "1/1 [==============================] - 0s 7ms/step - loss: 0.0019 - mae: 0.0376\n",
            "Epoch 713/1200\n",
            "1/1 [==============================] - 0s 9ms/step - loss: 0.0019 - mae: 0.0374\n",
            "Epoch 714/1200\n",
            "1/1 [==============================] - 0s 8ms/step - loss: 0.0019 - mae: 0.0373\n",
            "Epoch 715/1200\n",
            "1/1 [==============================] - 0s 7ms/step - loss: 0.0019 - mae: 0.0372\n",
            "Epoch 716/1200\n",
            "1/1 [==============================] - 0s 7ms/step - loss: 0.0019 - mae: 0.0370\n",
            "Epoch 717/1200\n",
            "1/1 [==============================] - 0s 9ms/step - loss: 0.0019 - mae: 0.0369\n",
            "Epoch 718/1200\n",
            "1/1 [==============================] - 0s 7ms/step - loss: 0.0018 - mae: 0.0368\n",
            "Epoch 719/1200\n",
            "1/1 [==============================] - 0s 8ms/step - loss: 0.0018 - mae: 0.0367\n",
            "Epoch 720/1200\n",
            "1/1 [==============================] - 0s 6ms/step - loss: 0.0018 - mae: 0.0366\n",
            "Epoch 721/1200\n",
            "1/1 [==============================] - 0s 7ms/step - loss: 0.0018 - mae: 0.0364\n",
            "Epoch 722/1200\n",
            "1/1 [==============================] - 0s 7ms/step - loss: 0.0018 - mae: 0.0363\n",
            "Epoch 723/1200\n",
            "1/1 [==============================] - 0s 7ms/step - loss: 0.0018 - mae: 0.0362\n",
            "Epoch 724/1200\n",
            "1/1 [==============================] - 0s 8ms/step - loss: 0.0018 - mae: 0.0361\n",
            "Epoch 725/1200\n",
            "1/1 [==============================] - 0s 7ms/step - loss: 0.0018 - mae: 0.0359\n",
            "Epoch 726/1200\n",
            "1/1 [==============================] - 0s 7ms/step - loss: 0.0017 - mae: 0.0358\n",
            "Epoch 727/1200\n",
            "1/1 [==============================] - 0s 7ms/step - loss: 0.0017 - mae: 0.0357\n",
            "Epoch 728/1200\n",
            "1/1 [==============================] - 0s 7ms/step - loss: 0.0017 - mae: 0.0356\n",
            "Epoch 729/1200\n",
            "1/1 [==============================] - 0s 8ms/step - loss: 0.0017 - mae: 0.0355\n",
            "Epoch 730/1200\n",
            "1/1 [==============================] - 0s 8ms/step - loss: 0.0017 - mae: 0.0353\n",
            "Epoch 731/1200\n",
            "1/1 [==============================] - 0s 7ms/step - loss: 0.0017 - mae: 0.0352\n",
            "Epoch 732/1200\n",
            "1/1 [==============================] - 0s 7ms/step - loss: 0.0017 - mae: 0.0351\n",
            "Epoch 733/1200\n",
            "1/1 [==============================] - 0s 7ms/step - loss: 0.0017 - mae: 0.0350\n",
            "Epoch 734/1200\n",
            "1/1 [==============================] - 0s 7ms/step - loss: 0.0016 - mae: 0.0349\n",
            "Epoch 735/1200\n",
            "1/1 [==============================] - 0s 7ms/step - loss: 0.0016 - mae: 0.0347\n",
            "Epoch 736/1200\n",
            "1/1 [==============================] - 0s 8ms/step - loss: 0.0016 - mae: 0.0346\n",
            "Epoch 737/1200\n",
            "1/1 [==============================] - 0s 8ms/step - loss: 0.0016 - mae: 0.0345\n",
            "Epoch 738/1200\n",
            "1/1 [==============================] - 0s 9ms/step - loss: 0.0016 - mae: 0.0344\n",
            "Epoch 739/1200\n",
            "1/1 [==============================] - 0s 7ms/step - loss: 0.0016 - mae: 0.0343\n",
            "Epoch 740/1200\n",
            "1/1 [==============================] - 0s 6ms/step - loss: 0.0016 - mae: 0.0342\n",
            "Epoch 741/1200\n",
            "1/1 [==============================] - 0s 10ms/step - loss: 0.0016 - mae: 0.0340\n",
            "Epoch 742/1200\n",
            "1/1 [==============================] - 0s 9ms/step - loss: 0.0016 - mae: 0.0339\n",
            "Epoch 743/1200\n",
            "1/1 [==============================] - 0s 7ms/step - loss: 0.0016 - mae: 0.0338\n",
            "Epoch 744/1200\n",
            "1/1 [==============================] - 0s 7ms/step - loss: 0.0015 - mae: 0.0337\n",
            "Epoch 745/1200\n",
            "1/1 [==============================] - 0s 8ms/step - loss: 0.0015 - mae: 0.0336\n",
            "Epoch 746/1200\n",
            "1/1 [==============================] - 0s 7ms/step - loss: 0.0015 - mae: 0.0335\n",
            "Epoch 747/1200\n",
            "1/1 [==============================] - 0s 6ms/step - loss: 0.0015 - mae: 0.0334\n",
            "Epoch 748/1200\n",
            "1/1 [==============================] - 0s 7ms/step - loss: 0.0015 - mae: 0.0332\n",
            "Epoch 749/1200\n",
            "1/1 [==============================] - 0s 7ms/step - loss: 0.0015 - mae: 0.0331\n",
            "Epoch 750/1200\n",
            "1/1 [==============================] - 0s 6ms/step - loss: 0.0015 - mae: 0.0330\n",
            "Epoch 751/1200\n",
            "1/1 [==============================] - 0s 9ms/step - loss: 0.0015 - mae: 0.0329\n",
            "Epoch 752/1200\n",
            "1/1 [==============================] - 0s 6ms/step - loss: 0.0015 - mae: 0.0328\n",
            "Epoch 753/1200\n",
            "1/1 [==============================] - 0s 7ms/step - loss: 0.0015 - mae: 0.0327\n",
            "Epoch 754/1200\n",
            "1/1 [==============================] - 0s 7ms/step - loss: 0.0014 - mae: 0.0326\n",
            "Epoch 755/1200\n",
            "1/1 [==============================] - 0s 8ms/step - loss: 0.0014 - mae: 0.0325\n",
            "Epoch 756/1200\n",
            "1/1 [==============================] - 0s 6ms/step - loss: 0.0014 - mae: 0.0324\n",
            "Epoch 757/1200\n",
            "1/1 [==============================] - 0s 8ms/step - loss: 0.0014 - mae: 0.0322\n",
            "Epoch 758/1200\n",
            "1/1 [==============================] - 0s 7ms/step - loss: 0.0014 - mae: 0.0321\n",
            "Epoch 759/1200\n",
            "1/1 [==============================] - 0s 7ms/step - loss: 0.0014 - mae: 0.0320\n",
            "Epoch 760/1200\n",
            "1/1 [==============================] - 0s 7ms/step - loss: 0.0014 - mae: 0.0319\n",
            "Epoch 761/1200\n",
            "1/1 [==============================] - 0s 7ms/step - loss: 0.0014 - mae: 0.0318\n",
            "Epoch 762/1200\n",
            "1/1 [==============================] - 0s 7ms/step - loss: 0.0014 - mae: 0.0317\n",
            "Epoch 763/1200\n",
            "1/1 [==============================] - 0s 6ms/step - loss: 0.0014 - mae: 0.0316\n",
            "Epoch 764/1200\n",
            "1/1 [==============================] - 0s 9ms/step - loss: 0.0013 - mae: 0.0315\n",
            "Epoch 765/1200\n",
            "1/1 [==============================] - 0s 11ms/step - loss: 0.0013 - mae: 0.0314\n",
            "Epoch 766/1200\n",
            "1/1 [==============================] - 0s 8ms/step - loss: 0.0013 - mae: 0.0313\n",
            "Epoch 767/1200\n",
            "1/1 [==============================] - 0s 8ms/step - loss: 0.0013 - mae: 0.0312\n",
            "Epoch 768/1200\n",
            "1/1 [==============================] - 0s 11ms/step - loss: 0.0013 - mae: 0.0311\n",
            "Epoch 769/1200\n",
            "1/1 [==============================] - 0s 8ms/step - loss: 0.0013 - mae: 0.0310\n",
            "Epoch 770/1200\n",
            "1/1 [==============================] - 0s 12ms/step - loss: 0.0013 - mae: 0.0309\n",
            "Epoch 771/1200\n",
            "1/1 [==============================] - 0s 10ms/step - loss: 0.0013 - mae: 0.0308\n",
            "Epoch 772/1200\n",
            "1/1 [==============================] - 0s 8ms/step - loss: 0.0013 - mae: 0.0306\n",
            "Epoch 773/1200\n",
            "1/1 [==============================] - 0s 12ms/step - loss: 0.0013 - mae: 0.0305\n",
            "Epoch 774/1200\n",
            "1/1 [==============================] - 0s 6ms/step - loss: 0.0013 - mae: 0.0304\n",
            "Epoch 775/1200\n",
            "1/1 [==============================] - 0s 4ms/step - loss: 0.0012 - mae: 0.0303\n",
            "Epoch 776/1200\n",
            "1/1 [==============================] - 0s 5ms/step - loss: 0.0012 - mae: 0.0302\n",
            "Epoch 777/1200\n",
            "1/1 [==============================] - 0s 5ms/step - loss: 0.0012 - mae: 0.0301\n",
            "Epoch 778/1200\n",
            "1/1 [==============================] - 0s 6ms/step - loss: 0.0012 - mae: 0.0300\n",
            "Epoch 779/1200\n",
            "1/1 [==============================] - 0s 5ms/step - loss: 0.0012 - mae: 0.0299\n",
            "Epoch 780/1200\n",
            "1/1 [==============================] - 0s 7ms/step - loss: 0.0012 - mae: 0.0298\n",
            "Epoch 781/1200\n",
            "1/1 [==============================] - 0s 8ms/step - loss: 0.0012 - mae: 0.0297\n",
            "Epoch 782/1200\n",
            "1/1 [==============================] - 0s 5ms/step - loss: 0.0012 - mae: 0.0296\n",
            "Epoch 783/1200\n",
            "1/1 [==============================] - 0s 4ms/step - loss: 0.0012 - mae: 0.0295\n",
            "Epoch 784/1200\n",
            "1/1 [==============================] - 0s 5ms/step - loss: 0.0012 - mae: 0.0294\n",
            "Epoch 785/1200\n",
            "1/1 [==============================] - 0s 9ms/step - loss: 0.0012 - mae: 0.0293\n",
            "Epoch 786/1200\n",
            "1/1 [==============================] - 0s 7ms/step - loss: 0.0012 - mae: 0.0292\n",
            "Epoch 787/1200\n",
            "1/1 [==============================] - 0s 9ms/step - loss: 0.0012 - mae: 0.0291\n",
            "Epoch 788/1200\n",
            "1/1 [==============================] - 0s 8ms/step - loss: 0.0011 - mae: 0.0290\n",
            "Epoch 789/1200\n",
            "1/1 [==============================] - 0s 8ms/step - loss: 0.0011 - mae: 0.0289\n",
            "Epoch 790/1200\n",
            "1/1 [==============================] - 0s 6ms/step - loss: 0.0011 - mae: 0.0288\n",
            "Epoch 791/1200\n",
            "1/1 [==============================] - 0s 5ms/step - loss: 0.0011 - mae: 0.0287\n",
            "Epoch 792/1200\n",
            "1/1 [==============================] - 0s 5ms/step - loss: 0.0011 - mae: 0.0286\n",
            "Epoch 793/1200\n",
            "1/1 [==============================] - 0s 6ms/step - loss: 0.0011 - mae: 0.0285\n",
            "Epoch 794/1200\n",
            "1/1 [==============================] - 0s 6ms/step - loss: 0.0011 - mae: 0.0284\n",
            "Epoch 795/1200\n",
            "1/1 [==============================] - 0s 5ms/step - loss: 0.0011 - mae: 0.0284\n",
            "Epoch 796/1200\n",
            "1/1 [==============================] - 0s 6ms/step - loss: 0.0011 - mae: 0.0283\n",
            "Epoch 797/1200\n",
            "1/1 [==============================] - 0s 5ms/step - loss: 0.0011 - mae: 0.0282\n",
            "Epoch 798/1200\n",
            "1/1 [==============================] - 0s 6ms/step - loss: 0.0011 - mae: 0.0281\n",
            "Epoch 799/1200\n",
            "1/1 [==============================] - 0s 5ms/step - loss: 0.0011 - mae: 0.0280\n",
            "Epoch 800/1200\n",
            "1/1 [==============================] - 0s 6ms/step - loss: 0.0011 - mae: 0.0279\n",
            "Epoch 801/1200\n",
            "1/1 [==============================] - 0s 4ms/step - loss: 0.0010 - mae: 0.0278\n",
            "Epoch 802/1200\n",
            "1/1 [==============================] - 0s 6ms/step - loss: 0.0010 - mae: 0.0277\n",
            "Epoch 803/1200\n",
            "1/1 [==============================] - 0s 5ms/step - loss: 0.0010 - mae: 0.0276\n",
            "Epoch 804/1200\n",
            "1/1 [==============================] - 0s 4ms/step - loss: 0.0010 - mae: 0.0275\n",
            "Epoch 805/1200\n",
            "1/1 [==============================] - 0s 5ms/step - loss: 0.0010 - mae: 0.0274\n",
            "Epoch 806/1200\n",
            "1/1 [==============================] - 0s 5ms/step - loss: 0.0010 - mae: 0.0273\n",
            "Epoch 807/1200\n",
            "1/1 [==============================] - 0s 6ms/step - loss: 0.0010 - mae: 0.0272\n",
            "Epoch 808/1200\n",
            "1/1 [==============================] - 0s 5ms/step - loss: 9.9910e-04 - mae: 0.0271\n",
            "Epoch 809/1200\n",
            "1/1 [==============================] - 0s 5ms/step - loss: 9.9238e-04 - mae: 0.0270\n",
            "Epoch 810/1200\n",
            "1/1 [==============================] - 0s 5ms/step - loss: 9.8567e-04 - mae: 0.0269\n",
            "Epoch 811/1200\n",
            "1/1 [==============================] - 0s 7ms/step - loss: 9.7902e-04 - mae: 0.0269\n",
            "Epoch 812/1200\n",
            "1/1 [==============================] - 0s 5ms/step - loss: 9.7241e-04 - mae: 0.0268\n",
            "Epoch 813/1200\n",
            "1/1 [==============================] - 0s 4ms/step - loss: 9.6584e-04 - mae: 0.0267\n",
            "Epoch 814/1200\n",
            "1/1 [==============================] - 0s 4ms/step - loss: 9.5933e-04 - mae: 0.0266\n",
            "Epoch 815/1200\n",
            "1/1 [==============================] - 0s 3ms/step - loss: 9.5284e-04 - mae: 0.0265\n",
            "Epoch 816/1200\n",
            "1/1 [==============================] - 0s 4ms/step - loss: 9.4642e-04 - mae: 0.0264\n",
            "Epoch 817/1200\n",
            "1/1 [==============================] - 0s 5ms/step - loss: 9.4002e-04 - mae: 0.0263\n",
            "Epoch 818/1200\n",
            "1/1 [==============================] - 0s 8ms/step - loss: 9.3371e-04 - mae: 0.0262\n",
            "Epoch 819/1200\n",
            "1/1 [==============================] - 0s 6ms/step - loss: 9.2741e-04 - mae: 0.0261\n",
            "Epoch 820/1200\n",
            "1/1 [==============================] - 0s 5ms/step - loss: 9.2112e-04 - mae: 0.0260\n",
            "Epoch 821/1200\n",
            "1/1 [==============================] - 0s 5ms/step - loss: 9.1491e-04 - mae: 0.0260\n",
            "Epoch 822/1200\n",
            "1/1 [==============================] - 0s 6ms/step - loss: 9.0873e-04 - mae: 0.0259\n",
            "Epoch 823/1200\n",
            "1/1 [==============================] - 0s 8ms/step - loss: 9.0259e-04 - mae: 0.0258\n",
            "Epoch 824/1200\n",
            "1/1 [==============================] - 0s 10ms/step - loss: 8.9650e-04 - mae: 0.0257\n",
            "Epoch 825/1200\n",
            "1/1 [==============================] - 0s 5ms/step - loss: 8.9045e-04 - mae: 0.0256\n",
            "Epoch 826/1200\n",
            "1/1 [==============================] - 0s 5ms/step - loss: 8.8445e-04 - mae: 0.0255\n",
            "Epoch 827/1200\n",
            "1/1 [==============================] - 0s 5ms/step - loss: 8.7845e-04 - mae: 0.0254\n",
            "Epoch 828/1200\n",
            "1/1 [==============================] - 0s 4ms/step - loss: 8.7254e-04 - mae: 0.0254\n",
            "Epoch 829/1200\n",
            "1/1 [==============================] - 0s 7ms/step - loss: 8.6666e-04 - mae: 0.0253\n",
            "Epoch 830/1200\n",
            "1/1 [==============================] - 0s 7ms/step - loss: 8.6081e-04 - mae: 0.0252\n",
            "Epoch 831/1200\n",
            "1/1 [==============================] - 0s 6ms/step - loss: 8.5499e-04 - mae: 0.0251\n",
            "Epoch 832/1200\n",
            "1/1 [==============================] - 0s 7ms/step - loss: 8.4922e-04 - mae: 0.0250\n",
            "Epoch 833/1200\n",
            "1/1 [==============================] - 0s 6ms/step - loss: 8.4349e-04 - mae: 0.0249\n",
            "Epoch 834/1200\n",
            "1/1 [==============================] - 0s 7ms/step - loss: 8.3778e-04 - mae: 0.0248\n",
            "Epoch 835/1200\n",
            "1/1 [==============================] - 0s 6ms/step - loss: 8.3215e-04 - mae: 0.0248\n",
            "Epoch 836/1200\n",
            "1/1 [==============================] - 0s 4ms/step - loss: 8.2652e-04 - mae: 0.0247\n",
            "Epoch 837/1200\n",
            "1/1 [==============================] - 0s 5ms/step - loss: 8.2094e-04 - mae: 0.0246\n",
            "Epoch 838/1200\n",
            "1/1 [==============================] - 0s 11ms/step - loss: 8.1540e-04 - mae: 0.0245\n",
            "Epoch 839/1200\n",
            "1/1 [==============================] - 0s 5ms/step - loss: 8.0991e-04 - mae: 0.0244\n",
            "Epoch 840/1200\n",
            "1/1 [==============================] - 0s 4ms/step - loss: 8.0443e-04 - mae: 0.0243\n",
            "Epoch 841/1200\n",
            "1/1 [==============================] - 0s 5ms/step - loss: 7.9901e-04 - mae: 0.0243\n",
            "Epoch 842/1200\n",
            "1/1 [==============================] - 0s 5ms/step - loss: 7.9361e-04 - mae: 0.0242\n",
            "Epoch 843/1200\n",
            "1/1 [==============================] - 0s 7ms/step - loss: 7.8826e-04 - mae: 0.0241\n",
            "Epoch 844/1200\n",
            "1/1 [==============================] - 0s 8ms/step - loss: 7.8292e-04 - mae: 0.0240\n",
            "Epoch 845/1200\n",
            "1/1 [==============================] - 0s 4ms/step - loss: 7.7764e-04 - mae: 0.0239\n",
            "Epoch 846/1200\n",
            "1/1 [==============================] - 0s 5ms/step - loss: 7.7238e-04 - mae: 0.0239\n",
            "Epoch 847/1200\n",
            "1/1 [==============================] - 0s 4ms/step - loss: 7.6718e-04 - mae: 0.0238\n",
            "Epoch 848/1200\n",
            "1/1 [==============================] - 0s 5ms/step - loss: 7.6198e-04 - mae: 0.0237\n",
            "Epoch 849/1200\n",
            "1/1 [==============================] - 0s 5ms/step - loss: 7.5685e-04 - mae: 0.0236\n",
            "Epoch 850/1200\n",
            "1/1 [==============================] - 0s 6ms/step - loss: 7.5173e-04 - mae: 0.0235\n",
            "Epoch 851/1200\n",
            "1/1 [==============================] - 0s 5ms/step - loss: 7.4667e-04 - mae: 0.0235\n",
            "Epoch 852/1200\n",
            "1/1 [==============================] - 0s 10ms/step - loss: 7.4163e-04 - mae: 0.0234\n",
            "Epoch 853/1200\n",
            "1/1 [==============================] - 0s 7ms/step - loss: 7.3661e-04 - mae: 0.0233\n",
            "Epoch 854/1200\n",
            "1/1 [==============================] - 0s 7ms/step - loss: 7.3165e-04 - mae: 0.0232\n",
            "Epoch 855/1200\n",
            "1/1 [==============================] - 0s 6ms/step - loss: 7.2672e-04 - mae: 0.0231\n",
            "Epoch 856/1200\n",
            "1/1 [==============================] - 0s 6ms/step - loss: 7.2182e-04 - mae: 0.0231\n",
            "Epoch 857/1200\n",
            "1/1 [==============================] - 0s 5ms/step - loss: 7.1694e-04 - mae: 0.0230\n",
            "Epoch 858/1200\n",
            "1/1 [==============================] - 0s 5ms/step - loss: 7.1208e-04 - mae: 0.0229\n",
            "Epoch 859/1200\n",
            "1/1 [==============================] - 0s 6ms/step - loss: 7.0729e-04 - mae: 0.0228\n",
            "Epoch 860/1200\n",
            "1/1 [==============================] - 0s 4ms/step - loss: 7.0251e-04 - mae: 0.0227\n",
            "Epoch 861/1200\n",
            "1/1 [==============================] - 0s 4ms/step - loss: 6.9775e-04 - mae: 0.0227\n",
            "Epoch 862/1200\n",
            "1/1 [==============================] - 0s 4ms/step - loss: 6.9307e-04 - mae: 0.0226\n",
            "Epoch 863/1200\n",
            "1/1 [==============================] - 0s 7ms/step - loss: 6.8839e-04 - mae: 0.0225\n",
            "Epoch 864/1200\n",
            "1/1 [==============================] - 0s 4ms/step - loss: 6.8374e-04 - mae: 0.0224\n",
            "Epoch 865/1200\n",
            "1/1 [==============================] - 0s 4ms/step - loss: 6.7911e-04 - mae: 0.0224\n",
            "Epoch 866/1200\n",
            "1/1 [==============================] - 0s 4ms/step - loss: 6.7452e-04 - mae: 0.0223\n",
            "Epoch 867/1200\n",
            "1/1 [==============================] - 0s 5ms/step - loss: 6.6997e-04 - mae: 0.0222\n",
            "Epoch 868/1200\n",
            "1/1 [==============================] - 0s 4ms/step - loss: 6.6546e-04 - mae: 0.0221\n",
            "Epoch 869/1200\n",
            "1/1 [==============================] - 0s 6ms/step - loss: 6.6096e-04 - mae: 0.0221\n",
            "Epoch 870/1200\n",
            "1/1 [==============================] - 0s 6ms/step - loss: 6.5650e-04 - mae: 0.0220\n",
            "Epoch 871/1200\n",
            "1/1 [==============================] - 0s 8ms/step - loss: 6.5208e-04 - mae: 0.0219\n",
            "Epoch 872/1200\n",
            "1/1 [==============================] - 0s 7ms/step - loss: 6.4767e-04 - mae: 0.0218\n",
            "Epoch 873/1200\n",
            "1/1 [==============================] - 0s 11ms/step - loss: 6.4329e-04 - mae: 0.0218\n",
            "Epoch 874/1200\n",
            "1/1 [==============================] - 0s 28ms/step - loss: 6.3896e-04 - mae: 0.0217\n",
            "Epoch 875/1200\n",
            "1/1 [==============================] - 0s 187ms/step - loss: 6.3464e-04 - mae: 0.0216\n",
            "Epoch 876/1200\n",
            "1/1 [==============================] - 0s 6ms/step - loss: 6.3036e-04 - mae: 0.0215\n",
            "Epoch 877/1200\n",
            "1/1 [==============================] - 0s 7ms/step - loss: 6.2610e-04 - mae: 0.0215\n",
            "Epoch 878/1200\n",
            "1/1 [==============================] - 0s 6ms/step - loss: 6.2187e-04 - mae: 0.0214\n",
            "Epoch 879/1200\n",
            "1/1 [==============================] - 0s 8ms/step - loss: 6.1768e-04 - mae: 0.0213\n",
            "Epoch 880/1200\n",
            "1/1 [==============================] - 0s 9ms/step - loss: 6.1351e-04 - mae: 0.0213\n",
            "Epoch 881/1200\n",
            "1/1 [==============================] - 0s 17ms/step - loss: 6.0936e-04 - mae: 0.0212\n",
            "Epoch 882/1200\n",
            "1/1 [==============================] - 0s 4ms/step - loss: 6.0525e-04 - mae: 0.0211\n",
            "Epoch 883/1200\n",
            "1/1 [==============================] - 0s 4ms/step - loss: 6.0117e-04 - mae: 0.0210\n",
            "Epoch 884/1200\n",
            "1/1 [==============================] - 0s 4ms/step - loss: 5.9712e-04 - mae: 0.0210\n",
            "Epoch 885/1200\n",
            "1/1 [==============================] - 0s 5ms/step - loss: 5.9308e-04 - mae: 0.0209\n",
            "Epoch 886/1200\n",
            "1/1 [==============================] - 0s 4ms/step - loss: 5.8908e-04 - mae: 0.0208\n",
            "Epoch 887/1200\n",
            "1/1 [==============================] - 0s 4ms/step - loss: 5.8510e-04 - mae: 0.0208\n",
            "Epoch 888/1200\n",
            "1/1 [==============================] - 0s 4ms/step - loss: 5.8116e-04 - mae: 0.0207\n",
            "Epoch 889/1200\n",
            "1/1 [==============================] - 0s 4ms/step - loss: 5.7723e-04 - mae: 0.0206\n",
            "Epoch 890/1200\n",
            "1/1 [==============================] - 0s 3ms/step - loss: 5.7333e-04 - mae: 0.0206\n",
            "Epoch 891/1200\n",
            "1/1 [==============================] - 0s 6ms/step - loss: 5.6946e-04 - mae: 0.0205\n",
            "Epoch 892/1200\n",
            "1/1 [==============================] - 0s 4ms/step - loss: 5.6560e-04 - mae: 0.0204\n",
            "Epoch 893/1200\n",
            "1/1 [==============================] - 0s 4ms/step - loss: 5.6181e-04 - mae: 0.0203\n",
            "Epoch 894/1200\n",
            "1/1 [==============================] - 0s 9ms/step - loss: 5.5801e-04 - mae: 0.0203\n",
            "Epoch 895/1200\n",
            "1/1 [==============================] - 0s 5ms/step - loss: 5.5424e-04 - mae: 0.0202\n",
            "Epoch 896/1200\n",
            "1/1 [==============================] - 0s 5ms/step - loss: 5.5049e-04 - mae: 0.0201\n",
            "Epoch 897/1200\n",
            "1/1 [==============================] - 0s 4ms/step - loss: 5.4676e-04 - mae: 0.0201\n",
            "Epoch 898/1200\n",
            "1/1 [==============================] - 0s 4ms/step - loss: 5.4309e-04 - mae: 0.0200\n",
            "Epoch 899/1200\n",
            "1/1 [==============================] - 0s 4ms/step - loss: 5.3942e-04 - mae: 0.0199\n",
            "Epoch 900/1200\n",
            "1/1 [==============================] - 0s 8ms/step - loss: 5.3578e-04 - mae: 0.0199\n",
            "Epoch 901/1200\n",
            "1/1 [==============================] - 0s 4ms/step - loss: 5.3216e-04 - mae: 0.0198\n",
            "Epoch 902/1200\n",
            "1/1 [==============================] - 0s 4ms/step - loss: 5.2856e-04 - mae: 0.0197\n",
            "Epoch 903/1200\n",
            "1/1 [==============================] - 0s 4ms/step - loss: 5.2500e-04 - mae: 0.0197\n",
            "Epoch 904/1200\n",
            "1/1 [==============================] - 0s 4ms/step - loss: 5.2147e-04 - mae: 0.0196\n",
            "Epoch 905/1200\n",
            "1/1 [==============================] - 0s 4ms/step - loss: 5.1794e-04 - mae: 0.0195\n",
            "Epoch 906/1200\n",
            "1/1 [==============================] - 0s 5ms/step - loss: 5.1444e-04 - mae: 0.0195\n",
            "Epoch 907/1200\n",
            "1/1 [==============================] - 0s 4ms/step - loss: 5.1095e-04 - mae: 0.0194\n",
            "Epoch 908/1200\n",
            "1/1 [==============================] - 0s 4ms/step - loss: 5.0751e-04 - mae: 0.0193\n",
            "Epoch 909/1200\n",
            "1/1 [==============================] - 0s 13ms/step - loss: 5.0409e-04 - mae: 0.0193\n",
            "Epoch 910/1200\n",
            "1/1 [==============================] - 0s 4ms/step - loss: 5.0069e-04 - mae: 0.0192\n",
            "Epoch 911/1200\n",
            "1/1 [==============================] - 0s 4ms/step - loss: 4.9731e-04 - mae: 0.0191\n",
            "Epoch 912/1200\n",
            "1/1 [==============================] - 0s 4ms/step - loss: 4.9395e-04 - mae: 0.0191\n",
            "Epoch 913/1200\n",
            "1/1 [==============================] - 0s 4ms/step - loss: 4.9063e-04 - mae: 0.0190\n",
            "Epoch 914/1200\n",
            "1/1 [==============================] - 0s 8ms/step - loss: 4.8731e-04 - mae: 0.0189\n",
            "Epoch 915/1200\n",
            "1/1 [==============================] - 0s 6ms/step - loss: 4.8402e-04 - mae: 0.0189\n",
            "Epoch 916/1200\n",
            "1/1 [==============================] - 0s 5ms/step - loss: 4.8074e-04 - mae: 0.0188\n",
            "Epoch 917/1200\n",
            "1/1 [==============================] - 0s 5ms/step - loss: 4.7749e-04 - mae: 0.0188\n",
            "Epoch 918/1200\n",
            "1/1 [==============================] - 0s 4ms/step - loss: 4.7429e-04 - mae: 0.0187\n",
            "Epoch 919/1200\n",
            "1/1 [==============================] - 0s 4ms/step - loss: 4.7109e-04 - mae: 0.0186\n",
            "Epoch 920/1200\n",
            "1/1 [==============================] - 0s 5ms/step - loss: 4.6791e-04 - mae: 0.0186\n",
            "Epoch 921/1200\n",
            "1/1 [==============================] - 0s 7ms/step - loss: 4.6474e-04 - mae: 0.0185\n",
            "Epoch 922/1200\n",
            "1/1 [==============================] - 0s 5ms/step - loss: 4.6160e-04 - mae: 0.0184\n",
            "Epoch 923/1200\n",
            "1/1 [==============================] - 0s 9ms/step - loss: 4.5850e-04 - mae: 0.0184\n",
            "Epoch 924/1200\n",
            "1/1 [==============================] - 0s 8ms/step - loss: 4.5539e-04 - mae: 0.0183\n",
            "Epoch 925/1200\n",
            "1/1 [==============================] - 0s 10ms/step - loss: 4.5231e-04 - mae: 0.0183\n",
            "Epoch 926/1200\n",
            "1/1 [==============================] - 0s 8ms/step - loss: 4.4928e-04 - mae: 0.0182\n",
            "Epoch 927/1200\n",
            "1/1 [==============================] - 0s 11ms/step - loss: 4.4624e-04 - mae: 0.0181\n",
            "Epoch 928/1200\n",
            "1/1 [==============================] - 0s 5ms/step - loss: 4.4321e-04 - mae: 0.0181\n",
            "Epoch 929/1200\n",
            "1/1 [==============================] - 0s 136ms/step - loss: 4.4024e-04 - mae: 0.0180\n",
            "Epoch 930/1200\n",
            "1/1 [==============================] - 0s 8ms/step - loss: 4.3725e-04 - mae: 0.0179\n",
            "Epoch 931/1200\n",
            "1/1 [==============================] - 0s 7ms/step - loss: 4.3430e-04 - mae: 0.0179\n",
            "Epoch 932/1200\n",
            "1/1 [==============================] - 0s 11ms/step - loss: 4.3137e-04 - mae: 0.0178\n",
            "Epoch 933/1200\n",
            "1/1 [==============================] - 0s 9ms/step - loss: 4.2847e-04 - mae: 0.0178\n",
            "Epoch 934/1200\n",
            "1/1 [==============================] - 0s 7ms/step - loss: 4.2557e-04 - mae: 0.0177\n",
            "Epoch 935/1200\n",
            "1/1 [==============================] - 0s 7ms/step - loss: 4.2270e-04 - mae: 0.0176\n",
            "Epoch 936/1200\n",
            "1/1 [==============================] - 0s 6ms/step - loss: 4.1983e-04 - mae: 0.0176\n",
            "Epoch 937/1200\n",
            "1/1 [==============================] - 0s 6ms/step - loss: 4.1702e-04 - mae: 0.0175\n",
            "Epoch 938/1200\n",
            "1/1 [==============================] - 0s 7ms/step - loss: 4.1420e-04 - mae: 0.0175\n",
            "Epoch 939/1200\n",
            "1/1 [==============================] - 0s 7ms/step - loss: 4.1139e-04 - mae: 0.0174\n",
            "Epoch 940/1200\n",
            "1/1 [==============================] - 0s 6ms/step - loss: 4.0862e-04 - mae: 0.0174\n",
            "Epoch 941/1200\n",
            "1/1 [==============================] - 0s 8ms/step - loss: 4.0587e-04 - mae: 0.0173\n",
            "Epoch 942/1200\n",
            "1/1 [==============================] - 0s 7ms/step - loss: 4.0312e-04 - mae: 0.0172\n",
            "Epoch 943/1200\n",
            "1/1 [==============================] - 0s 8ms/step - loss: 4.0040e-04 - mae: 0.0172\n",
            "Epoch 944/1200\n",
            "1/1 [==============================] - 0s 8ms/step - loss: 3.9770e-04 - mae: 0.0171\n",
            "Epoch 945/1200\n",
            "1/1 [==============================] - 0s 8ms/step - loss: 3.9501e-04 - mae: 0.0171\n",
            "Epoch 946/1200\n",
            "1/1 [==============================] - 0s 10ms/step - loss: 3.9234e-04 - mae: 0.0170\n",
            "Epoch 947/1200\n",
            "1/1 [==============================] - 0s 32ms/step - loss: 3.8970e-04 - mae: 0.0169\n",
            "Epoch 948/1200\n",
            "1/1 [==============================] - 0s 10ms/step - loss: 3.8706e-04 - mae: 0.0169\n",
            "Epoch 949/1200\n",
            "1/1 [==============================] - 0s 26ms/step - loss: 3.8445e-04 - mae: 0.0168\n",
            "Epoch 950/1200\n",
            "1/1 [==============================] - 0s 16ms/step - loss: 3.8187e-04 - mae: 0.0168\n",
            "Epoch 951/1200\n",
            "1/1 [==============================] - 0s 20ms/step - loss: 3.7928e-04 - mae: 0.0167\n",
            "Epoch 952/1200\n",
            "1/1 [==============================] - 0s 17ms/step - loss: 3.7671e-04 - mae: 0.0167\n",
            "Epoch 953/1200\n",
            "1/1 [==============================] - 0s 17ms/step - loss: 3.7418e-04 - mae: 0.0166\n",
            "Epoch 954/1200\n",
            "1/1 [==============================] - 0s 12ms/step - loss: 3.7165e-04 - mae: 0.0165\n",
            "Epoch 955/1200\n",
            "1/1 [==============================] - 0s 13ms/step - loss: 3.6915e-04 - mae: 0.0165\n",
            "Epoch 956/1200\n",
            "1/1 [==============================] - 0s 10ms/step - loss: 3.6666e-04 - mae: 0.0164\n",
            "Epoch 957/1200\n",
            "1/1 [==============================] - 0s 20ms/step - loss: 3.6418e-04 - mae: 0.0164\n",
            "Epoch 958/1200\n",
            "1/1 [==============================] - 0s 13ms/step - loss: 3.6172e-04 - mae: 0.0163\n",
            "Epoch 959/1200\n",
            "1/1 [==============================] - 0s 16ms/step - loss: 3.5927e-04 - mae: 0.0163\n",
            "Epoch 960/1200\n",
            "1/1 [==============================] - 0s 19ms/step - loss: 3.5685e-04 - mae: 0.0162\n",
            "Epoch 961/1200\n",
            "1/1 [==============================] - 0s 26ms/step - loss: 3.5443e-04 - mae: 0.0162\n",
            "Epoch 962/1200\n",
            "1/1 [==============================] - 0s 19ms/step - loss: 3.5204e-04 - mae: 0.0161\n",
            "Epoch 963/1200\n",
            "1/1 [==============================] - 0s 23ms/step - loss: 3.4966e-04 - mae: 0.0160\n",
            "Epoch 964/1200\n",
            "1/1 [==============================] - 0s 26ms/step - loss: 3.4732e-04 - mae: 0.0160\n",
            "Epoch 965/1200\n",
            "1/1 [==============================] - 0s 17ms/step - loss: 3.4497e-04 - mae: 0.0159\n",
            "Epoch 966/1200\n",
            "1/1 [==============================] - 0s 17ms/step - loss: 3.4264e-04 - mae: 0.0159\n",
            "Epoch 967/1200\n",
            "1/1 [==============================] - 0s 21ms/step - loss: 3.4033e-04 - mae: 0.0158\n",
            "Epoch 968/1200\n",
            "1/1 [==============================] - 0s 13ms/step - loss: 3.3802e-04 - mae: 0.0158\n",
            "Epoch 969/1200\n",
            "1/1 [==============================] - 0s 11ms/step - loss: 3.3575e-04 - mae: 0.0157\n",
            "Epoch 970/1200\n",
            "1/1 [==============================] - 0s 22ms/step - loss: 3.3348e-04 - mae: 0.0157\n",
            "Epoch 971/1200\n",
            "1/1 [==============================] - 0s 22ms/step - loss: 3.3123e-04 - mae: 0.0156\n",
            "Epoch 972/1200\n",
            "1/1 [==============================] - 0s 47ms/step - loss: 3.2900e-04 - mae: 0.0156\n",
            "Epoch 973/1200\n",
            "1/1 [==============================] - 0s 12ms/step - loss: 3.2678e-04 - mae: 0.0155\n",
            "Epoch 974/1200\n",
            "1/1 [==============================] - 0s 8ms/step - loss: 3.2456e-04 - mae: 0.0155\n",
            "Epoch 975/1200\n",
            "1/1 [==============================] - 0s 16ms/step - loss: 3.2237e-04 - mae: 0.0154\n",
            "Epoch 976/1200\n",
            "1/1 [==============================] - 0s 18ms/step - loss: 3.2020e-04 - mae: 0.0154\n",
            "Epoch 977/1200\n",
            "1/1 [==============================] - 0s 27ms/step - loss: 3.1804e-04 - mae: 0.0153\n",
            "Epoch 978/1200\n",
            "1/1 [==============================] - 0s 23ms/step - loss: 3.1590e-04 - mae: 0.0153\n",
            "Epoch 979/1200\n",
            "1/1 [==============================] - 0s 32ms/step - loss: 3.1374e-04 - mae: 0.0152\n",
            "Epoch 980/1200\n",
            "1/1 [==============================] - 0s 19ms/step - loss: 3.1164e-04 - mae: 0.0152\n",
            "Epoch 981/1200\n",
            "1/1 [==============================] - 0s 17ms/step - loss: 3.0953e-04 - mae: 0.0151\n",
            "Epoch 982/1200\n",
            "1/1 [==============================] - 0s 36ms/step - loss: 3.0745e-04 - mae: 0.0150\n",
            "Epoch 983/1200\n",
            "1/1 [==============================] - 0s 23ms/step - loss: 3.0537e-04 - mae: 0.0150\n",
            "Epoch 984/1200\n",
            "1/1 [==============================] - 0s 36ms/step - loss: 3.0331e-04 - mae: 0.0149\n",
            "Epoch 985/1200\n",
            "1/1 [==============================] - 0s 44ms/step - loss: 3.0125e-04 - mae: 0.0149\n",
            "Epoch 986/1200\n",
            "1/1 [==============================] - 0s 23ms/step - loss: 2.9923e-04 - mae: 0.0148\n",
            "Epoch 987/1200\n",
            "1/1 [==============================] - 0s 13ms/step - loss: 2.9720e-04 - mae: 0.0148\n",
            "Epoch 988/1200\n",
            "1/1 [==============================] - 0s 12ms/step - loss: 2.9519e-04 - mae: 0.0147\n",
            "Epoch 989/1200\n",
            "1/1 [==============================] - 0s 18ms/step - loss: 2.9320e-04 - mae: 0.0147\n",
            "Epoch 990/1200\n",
            "1/1 [==============================] - 0s 19ms/step - loss: 2.9124e-04 - mae: 0.0146\n",
            "Epoch 991/1200\n",
            "1/1 [==============================] - 0s 14ms/step - loss: 2.8926e-04 - mae: 0.0146\n",
            "Epoch 992/1200\n",
            "1/1 [==============================] - 0s 16ms/step - loss: 2.8732e-04 - mae: 0.0145\n",
            "Epoch 993/1200\n",
            "1/1 [==============================] - 0s 23ms/step - loss: 2.8537e-04 - mae: 0.0145\n",
            "Epoch 994/1200\n",
            "1/1 [==============================] - 0s 27ms/step - loss: 2.8344e-04 - mae: 0.0145\n",
            "Epoch 995/1200\n",
            "1/1 [==============================] - 0s 25ms/step - loss: 2.8152e-04 - mae: 0.0144\n",
            "Epoch 996/1200\n",
            "1/1 [==============================] - 0s 16ms/step - loss: 2.7963e-04 - mae: 0.0144\n",
            "Epoch 997/1200\n",
            "1/1 [==============================] - 0s 29ms/step - loss: 2.7774e-04 - mae: 0.0143\n",
            "Epoch 998/1200\n",
            "1/1 [==============================] - 0s 99ms/step - loss: 2.7587e-04 - mae: 0.0143\n",
            "Epoch 999/1200\n",
            "1/1 [==============================] - 0s 12ms/step - loss: 2.7400e-04 - mae: 0.0142\n",
            "Epoch 1000/1200\n",
            "1/1 [==============================] - 0s 9ms/step - loss: 2.7216e-04 - mae: 0.0142\n",
            "Epoch 1001/1200\n",
            "1/1 [==============================] - 0s 8ms/step - loss: 2.7032e-04 - mae: 0.0141\n",
            "Epoch 1002/1200\n",
            "1/1 [==============================] - 0s 9ms/step - loss: 2.6849e-04 - mae: 0.0141\n",
            "Epoch 1003/1200\n",
            "1/1 [==============================] - 0s 9ms/step - loss: 2.6667e-04 - mae: 0.0140\n",
            "Epoch 1004/1200\n",
            "1/1 [==============================] - 0s 8ms/step - loss: 2.6488e-04 - mae: 0.0140\n",
            "Epoch 1005/1200\n",
            "1/1 [==============================] - 0s 10ms/step - loss: 2.6308e-04 - mae: 0.0139\n",
            "Epoch 1006/1200\n",
            "1/1 [==============================] - 0s 8ms/step - loss: 2.6132e-04 - mae: 0.0139\n",
            "Epoch 1007/1200\n",
            "1/1 [==============================] - 0s 9ms/step - loss: 2.5955e-04 - mae: 0.0138\n",
            "Epoch 1008/1200\n",
            "1/1 [==============================] - 0s 9ms/step - loss: 2.5779e-04 - mae: 0.0138\n",
            "Epoch 1009/1200\n",
            "1/1 [==============================] - 0s 9ms/step - loss: 2.5607e-04 - mae: 0.0137\n",
            "Epoch 1010/1200\n",
            "1/1 [==============================] - 0s 7ms/step - loss: 2.5433e-04 - mae: 0.0137\n",
            "Epoch 1011/1200\n",
            "1/1 [==============================] - 0s 10ms/step - loss: 2.5261e-04 - mae: 0.0136\n",
            "Epoch 1012/1200\n",
            "1/1 [==============================] - 0s 9ms/step - loss: 2.5091e-04 - mae: 0.0136\n",
            "Epoch 1013/1200\n",
            "1/1 [==============================] - 0s 8ms/step - loss: 2.4921e-04 - mae: 0.0135\n",
            "Epoch 1014/1200\n",
            "1/1 [==============================] - 0s 9ms/step - loss: 2.4754e-04 - mae: 0.0135\n",
            "Epoch 1015/1200\n",
            "1/1 [==============================] - 0s 8ms/step - loss: 2.4585e-04 - mae: 0.0135\n",
            "Epoch 1016/1200\n",
            "1/1 [==============================] - 0s 8ms/step - loss: 2.4419e-04 - mae: 0.0134\n",
            "Epoch 1017/1200\n",
            "1/1 [==============================] - 0s 8ms/step - loss: 2.4254e-04 - mae: 0.0134\n",
            "Epoch 1018/1200\n",
            "1/1 [==============================] - 0s 10ms/step - loss: 2.4092e-04 - mae: 0.0133\n",
            "Epoch 1019/1200\n",
            "1/1 [==============================] - 0s 8ms/step - loss: 2.3929e-04 - mae: 0.0133\n",
            "Epoch 1020/1200\n",
            "1/1 [==============================] - 0s 8ms/step - loss: 2.3767e-04 - mae: 0.0132\n",
            "Epoch 1021/1200\n",
            "1/1 [==============================] - 0s 8ms/step - loss: 2.3607e-04 - mae: 0.0132\n",
            "Epoch 1022/1200\n",
            "1/1 [==============================] - 0s 10ms/step - loss: 2.3448e-04 - mae: 0.0131\n",
            "Epoch 1023/1200\n",
            "1/1 [==============================] - 0s 10ms/step - loss: 2.3289e-04 - mae: 0.0131\n",
            "Epoch 1024/1200\n",
            "1/1 [==============================] - 0s 7ms/step - loss: 2.3132e-04 - mae: 0.0131\n",
            "Epoch 1025/1200\n",
            "1/1 [==============================] - 0s 9ms/step - loss: 2.2976e-04 - mae: 0.0130\n",
            "Epoch 1026/1200\n",
            "1/1 [==============================] - 0s 14ms/step - loss: 2.2821e-04 - mae: 0.0130\n",
            "Epoch 1027/1200\n",
            "1/1 [==============================] - 0s 6ms/step - loss: 2.2666e-04 - mae: 0.0129\n",
            "Epoch 1028/1200\n",
            "1/1 [==============================] - 0s 9ms/step - loss: 2.2513e-04 - mae: 0.0129\n",
            "Epoch 1029/1200\n",
            "1/1 [==============================] - 0s 7ms/step - loss: 2.2361e-04 - mae: 0.0128\n",
            "Epoch 1030/1200\n",
            "1/1 [==============================] - 0s 12ms/step - loss: 2.2212e-04 - mae: 0.0128\n",
            "Epoch 1031/1200\n",
            "1/1 [==============================] - 0s 8ms/step - loss: 2.2060e-04 - mae: 0.0127\n",
            "Epoch 1032/1200\n",
            "1/1 [==============================] - 0s 8ms/step - loss: 2.1913e-04 - mae: 0.0127\n",
            "Epoch 1033/1200\n",
            "1/1 [==============================] - 0s 8ms/step - loss: 2.1764e-04 - mae: 0.0127\n",
            "Epoch 1034/1200\n",
            "1/1 [==============================] - 0s 9ms/step - loss: 2.1616e-04 - mae: 0.0126\n",
            "Epoch 1035/1200\n",
            "1/1 [==============================] - 0s 7ms/step - loss: 2.1471e-04 - mae: 0.0126\n",
            "Epoch 1036/1200\n",
            "1/1 [==============================] - 0s 12ms/step - loss: 2.1327e-04 - mae: 0.0125\n",
            "Epoch 1037/1200\n",
            "1/1 [==============================] - 0s 7ms/step - loss: 2.1183e-04 - mae: 0.0125\n",
            "Epoch 1038/1200\n",
            "1/1 [==============================] - 0s 8ms/step - loss: 2.1039e-04 - mae: 0.0124\n",
            "Epoch 1039/1200\n",
            "1/1 [==============================] - 0s 10ms/step - loss: 2.0897e-04 - mae: 0.0124\n",
            "Epoch 1040/1200\n",
            "1/1 [==============================] - 0s 10ms/step - loss: 2.0757e-04 - mae: 0.0124\n",
            "Epoch 1041/1200\n",
            "1/1 [==============================] - 0s 7ms/step - loss: 2.0615e-04 - mae: 0.0123\n",
            "Epoch 1042/1200\n",
            "1/1 [==============================] - 0s 8ms/step - loss: 2.0477e-04 - mae: 0.0123\n",
            "Epoch 1043/1200\n",
            "1/1 [==============================] - 0s 9ms/step - loss: 2.0338e-04 - mae: 0.0122\n",
            "Epoch 1044/1200\n",
            "1/1 [==============================] - 0s 7ms/step - loss: 2.0201e-04 - mae: 0.0122\n",
            "Epoch 1045/1200\n",
            "1/1 [==============================] - 0s 10ms/step - loss: 2.0065e-04 - mae: 0.0122\n",
            "Epoch 1046/1200\n",
            "1/1 [==============================] - 0s 7ms/step - loss: 1.9930e-04 - mae: 0.0121\n",
            "Epoch 1047/1200\n",
            "1/1 [==============================] - 0s 9ms/step - loss: 1.9795e-04 - mae: 0.0121\n",
            "Epoch 1048/1200\n",
            "1/1 [==============================] - 0s 10ms/step - loss: 1.9662e-04 - mae: 0.0120\n",
            "Epoch 1049/1200\n",
            "1/1 [==============================] - 0s 9ms/step - loss: 1.9529e-04 - mae: 0.0120\n",
            "Epoch 1050/1200\n",
            "1/1 [==============================] - 0s 10ms/step - loss: 1.9397e-04 - mae: 0.0120\n",
            "Epoch 1051/1200\n",
            "1/1 [==============================] - 0s 19ms/step - loss: 1.9266e-04 - mae: 0.0119\n",
            "Epoch 1052/1200\n",
            "1/1 [==============================] - 0s 8ms/step - loss: 1.9135e-04 - mae: 0.0119\n",
            "Epoch 1053/1200\n",
            "1/1 [==============================] - 0s 10ms/step - loss: 1.9007e-04 - mae: 0.0118\n",
            "Epoch 1054/1200\n",
            "1/1 [==============================] - 0s 10ms/step - loss: 1.8879e-04 - mae: 0.0118\n",
            "Epoch 1055/1200\n",
            "1/1 [==============================] - 0s 7ms/step - loss: 1.8751e-04 - mae: 0.0118\n",
            "Epoch 1056/1200\n",
            "1/1 [==============================] - 0s 8ms/step - loss: 1.8624e-04 - mae: 0.0117\n",
            "Epoch 1057/1200\n",
            "1/1 [==============================] - 0s 8ms/step - loss: 1.8499e-04 - mae: 0.0117\n",
            "Epoch 1058/1200\n",
            "1/1 [==============================] - 0s 9ms/step - loss: 1.8374e-04 - mae: 0.0116\n",
            "Epoch 1059/1200\n",
            "1/1 [==============================] - 0s 8ms/step - loss: 1.8250e-04 - mae: 0.0116\n",
            "Epoch 1060/1200\n",
            "1/1 [==============================] - 0s 10ms/step - loss: 1.8127e-04 - mae: 0.0116\n",
            "Epoch 1061/1200\n",
            "1/1 [==============================] - 0s 8ms/step - loss: 1.8004e-04 - mae: 0.0115\n",
            "Epoch 1062/1200\n",
            "1/1 [==============================] - 0s 7ms/step - loss: 1.7883e-04 - mae: 0.0115\n",
            "Epoch 1063/1200\n",
            "1/1 [==============================] - 0s 7ms/step - loss: 1.7762e-04 - mae: 0.0114\n",
            "Epoch 1064/1200\n",
            "1/1 [==============================] - 0s 7ms/step - loss: 1.7642e-04 - mae: 0.0114\n",
            "Epoch 1065/1200\n",
            "1/1 [==============================] - 0s 7ms/step - loss: 1.7523e-04 - mae: 0.0114\n",
            "Epoch 1066/1200\n",
            "1/1 [==============================] - 0s 8ms/step - loss: 1.7405e-04 - mae: 0.0113\n",
            "Epoch 1067/1200\n",
            "1/1 [==============================] - 0s 7ms/step - loss: 1.7287e-04 - mae: 0.0113\n",
            "Epoch 1068/1200\n",
            "1/1 [==============================] - 0s 7ms/step - loss: 1.7170e-04 - mae: 0.0112\n",
            "Epoch 1069/1200\n",
            "1/1 [==============================] - 0s 11ms/step - loss: 1.7055e-04 - mae: 0.0112\n",
            "Epoch 1070/1200\n",
            "1/1 [==============================] - 0s 8ms/step - loss: 1.6939e-04 - mae: 0.0112\n",
            "Epoch 1071/1200\n",
            "1/1 [==============================] - 0s 7ms/step - loss: 1.6825e-04 - mae: 0.0111\n",
            "Epoch 1072/1200\n",
            "1/1 [==============================] - 0s 7ms/step - loss: 1.6712e-04 - mae: 0.0111\n",
            "Epoch 1073/1200\n",
            "1/1 [==============================] - 0s 7ms/step - loss: 1.6599e-04 - mae: 0.0111\n",
            "Epoch 1074/1200\n",
            "1/1 [==============================] - 0s 9ms/step - loss: 1.6487e-04 - mae: 0.0110\n",
            "Epoch 1075/1200\n",
            "1/1 [==============================] - 0s 7ms/step - loss: 1.6376e-04 - mae: 0.0110\n",
            "Epoch 1076/1200\n",
            "1/1 [==============================] - 0s 8ms/step - loss: 1.6264e-04 - mae: 0.0109\n",
            "Epoch 1077/1200\n",
            "1/1 [==============================] - 0s 7ms/step - loss: 1.6155e-04 - mae: 0.0109\n",
            "Epoch 1078/1200\n",
            "1/1 [==============================] - 0s 9ms/step - loss: 1.6046e-04 - mae: 0.0109\n",
            "Epoch 1079/1200\n",
            "1/1 [==============================] - 0s 8ms/step - loss: 1.5937e-04 - mae: 0.0108\n",
            "Epoch 1080/1200\n",
            "1/1 [==============================] - 0s 8ms/step - loss: 1.5830e-04 - mae: 0.0108\n",
            "Epoch 1081/1200\n",
            "1/1 [==============================] - 0s 10ms/step - loss: 1.5724e-04 - mae: 0.0108\n",
            "Epoch 1082/1200\n",
            "1/1 [==============================] - 0s 8ms/step - loss: 1.5618e-04 - mae: 0.0107\n",
            "Epoch 1083/1200\n",
            "1/1 [==============================] - 0s 9ms/step - loss: 1.5512e-04 - mae: 0.0107\n",
            "Epoch 1084/1200\n",
            "1/1 [==============================] - 0s 8ms/step - loss: 1.5407e-04 - mae: 0.0107\n",
            "Epoch 1085/1200\n",
            "1/1 [==============================] - 0s 7ms/step - loss: 1.5304e-04 - mae: 0.0106\n",
            "Epoch 1086/1200\n",
            "1/1 [==============================] - 0s 8ms/step - loss: 1.5200e-04 - mae: 0.0106\n",
            "Epoch 1087/1200\n",
            "1/1 [==============================] - 0s 7ms/step - loss: 1.5097e-04 - mae: 0.0105\n",
            "Epoch 1088/1200\n",
            "1/1 [==============================] - 0s 8ms/step - loss: 1.4995e-04 - mae: 0.0105\n",
            "Epoch 1089/1200\n",
            "1/1 [==============================] - 0s 7ms/step - loss: 1.4894e-04 - mae: 0.0105\n",
            "Epoch 1090/1200\n",
            "1/1 [==============================] - 0s 8ms/step - loss: 1.4794e-04 - mae: 0.0104\n",
            "Epoch 1091/1200\n",
            "1/1 [==============================] - 0s 9ms/step - loss: 1.4694e-04 - mae: 0.0104\n",
            "Epoch 1092/1200\n",
            "1/1 [==============================] - 0s 7ms/step - loss: 1.4595e-04 - mae: 0.0104\n",
            "Epoch 1093/1200\n",
            "1/1 [==============================] - 0s 6ms/step - loss: 1.4496e-04 - mae: 0.0103\n",
            "Epoch 1094/1200\n",
            "1/1 [==============================] - 0s 11ms/step - loss: 1.4398e-04 - mae: 0.0103\n",
            "Epoch 1095/1200\n",
            "1/1 [==============================] - 0s 8ms/step - loss: 1.4302e-04 - mae: 0.0103\n",
            "Epoch 1096/1200\n",
            "1/1 [==============================] - 0s 7ms/step - loss: 1.4205e-04 - mae: 0.0102\n",
            "Epoch 1097/1200\n",
            "1/1 [==============================] - 0s 9ms/step - loss: 1.4108e-04 - mae: 0.0102\n",
            "Epoch 1098/1200\n",
            "1/1 [==============================] - 0s 9ms/step - loss: 1.4014e-04 - mae: 0.0102\n",
            "Epoch 1099/1200\n",
            "1/1 [==============================] - 0s 12ms/step - loss: 1.3919e-04 - mae: 0.0101\n",
            "Epoch 1100/1200\n",
            "1/1 [==============================] - 0s 9ms/step - loss: 1.3824e-04 - mae: 0.0101\n",
            "Epoch 1101/1200\n",
            "1/1 [==============================] - 0s 7ms/step - loss: 1.3731e-04 - mae: 0.0101\n",
            "Epoch 1102/1200\n",
            "1/1 [==============================] - 0s 7ms/step - loss: 1.3639e-04 - mae: 0.0100\n",
            "Epoch 1103/1200\n",
            "1/1 [==============================] - 0s 11ms/step - loss: 1.3547e-04 - mae: 0.0100\n",
            "Epoch 1104/1200\n",
            "1/1 [==============================] - 0s 9ms/step - loss: 1.3455e-04 - mae: 0.0100\n",
            "Epoch 1105/1200\n",
            "1/1 [==============================] - 0s 10ms/step - loss: 1.3364e-04 - mae: 0.0099\n",
            "Epoch 1106/1200\n",
            "1/1 [==============================] - 0s 8ms/step - loss: 1.3275e-04 - mae: 0.0099\n",
            "Epoch 1107/1200\n",
            "1/1 [==============================] - 0s 7ms/step - loss: 1.3184e-04 - mae: 0.0099\n",
            "Epoch 1108/1200\n",
            "1/1 [==============================] - 0s 8ms/step - loss: 1.3095e-04 - mae: 0.0098\n",
            "Epoch 1109/1200\n",
            "1/1 [==============================] - 0s 7ms/step - loss: 1.3007e-04 - mae: 0.0098\n",
            "Epoch 1110/1200\n",
            "1/1 [==============================] - 0s 5ms/step - loss: 1.2919e-04 - mae: 0.0098\n",
            "Epoch 1111/1200\n",
            "1/1 [==============================] - 0s 8ms/step - loss: 1.2832e-04 - mae: 0.0097\n",
            "Epoch 1112/1200\n",
            "1/1 [==============================] - 0s 9ms/step - loss: 1.2746e-04 - mae: 0.0097\n",
            "Epoch 1113/1200\n",
            "1/1 [==============================] - 0s 7ms/step - loss: 1.2660e-04 - mae: 0.0097\n",
            "Epoch 1114/1200\n",
            "1/1 [==============================] - 0s 10ms/step - loss: 1.2574e-04 - mae: 0.0096\n",
            "Epoch 1115/1200\n",
            "1/1 [==============================] - 0s 9ms/step - loss: 1.2490e-04 - mae: 0.0096\n",
            "Epoch 1116/1200\n",
            "1/1 [==============================] - 0s 6ms/step - loss: 1.2404e-04 - mae: 0.0096\n",
            "Epoch 1117/1200\n",
            "1/1 [==============================] - 0s 8ms/step - loss: 1.2321e-04 - mae: 0.0095\n",
            "Epoch 1118/1200\n",
            "1/1 [==============================] - 0s 8ms/step - loss: 1.2238e-04 - mae: 0.0095\n",
            "Epoch 1119/1200\n",
            "1/1 [==============================] - 0s 9ms/step - loss: 1.2156e-04 - mae: 0.0095\n",
            "Epoch 1120/1200\n",
            "1/1 [==============================] - 0s 9ms/step - loss: 1.2073e-04 - mae: 0.0094\n",
            "Epoch 1121/1200\n",
            "1/1 [==============================] - 0s 10ms/step - loss: 1.1992e-04 - mae: 0.0094\n",
            "Epoch 1122/1200\n",
            "1/1 [==============================] - 0s 8ms/step - loss: 1.1911e-04 - mae: 0.0094\n",
            "Epoch 1123/1200\n",
            "1/1 [==============================] - 0s 9ms/step - loss: 1.1831e-04 - mae: 0.0093\n",
            "Epoch 1124/1200\n",
            "1/1 [==============================] - 0s 11ms/step - loss: 1.1751e-04 - mae: 0.0093\n",
            "Epoch 1125/1200\n",
            "1/1 [==============================] - 0s 8ms/step - loss: 1.1671e-04 - mae: 0.0093\n",
            "Epoch 1126/1200\n",
            "1/1 [==============================] - 0s 12ms/step - loss: 1.1593e-04 - mae: 0.0092\n",
            "Epoch 1127/1200\n",
            "1/1 [==============================] - 0s 8ms/step - loss: 1.1514e-04 - mae: 0.0092\n",
            "Epoch 1128/1200\n",
            "1/1 [==============================] - 0s 7ms/step - loss: 1.1436e-04 - mae: 0.0092\n",
            "Epoch 1129/1200\n",
            "1/1 [==============================] - 0s 8ms/step - loss: 1.1360e-04 - mae: 0.0091\n",
            "Epoch 1130/1200\n",
            "1/1 [==============================] - 0s 7ms/step - loss: 1.1283e-04 - mae: 0.0091\n",
            "Epoch 1131/1200\n",
            "1/1 [==============================] - 0s 9ms/step - loss: 1.1207e-04 - mae: 0.0091\n",
            "Epoch 1132/1200\n",
            "1/1 [==============================] - 0s 8ms/step - loss: 1.1130e-04 - mae: 0.0091\n",
            "Epoch 1133/1200\n",
            "1/1 [==============================] - 0s 8ms/step - loss: 1.1056e-04 - mae: 0.0090\n",
            "Epoch 1134/1200\n",
            "1/1 [==============================] - 0s 12ms/step - loss: 1.0981e-04 - mae: 0.0090\n",
            "Epoch 1135/1200\n",
            "1/1 [==============================] - 0s 8ms/step - loss: 1.0907e-04 - mae: 0.0090\n",
            "Epoch 1136/1200\n",
            "1/1 [==============================] - 0s 12ms/step - loss: 1.0834e-04 - mae: 0.0089\n",
            "Epoch 1137/1200\n",
            "1/1 [==============================] - 0s 9ms/step - loss: 1.0760e-04 - mae: 0.0089\n",
            "Epoch 1138/1200\n",
            "1/1 [==============================] - 0s 8ms/step - loss: 1.0688e-04 - mae: 0.0089\n",
            "Epoch 1139/1200\n",
            "1/1 [==============================] - 0s 9ms/step - loss: 1.0616e-04 - mae: 0.0088\n",
            "Epoch 1140/1200\n",
            "1/1 [==============================] - 0s 7ms/step - loss: 1.0544e-04 - mae: 0.0088\n",
            "Epoch 1141/1200\n",
            "1/1 [==============================] - 0s 9ms/step - loss: 1.0472e-04 - mae: 0.0088\n",
            "Epoch 1142/1200\n",
            "1/1 [==============================] - 0s 7ms/step - loss: 1.0402e-04 - mae: 0.0088\n",
            "Epoch 1143/1200\n",
            "1/1 [==============================] - 0s 10ms/step - loss: 1.0332e-04 - mae: 0.0087\n",
            "Epoch 1144/1200\n",
            "1/1 [==============================] - 0s 7ms/step - loss: 1.0262e-04 - mae: 0.0087\n",
            "Epoch 1145/1200\n",
            "1/1 [==============================] - 0s 7ms/step - loss: 1.0193e-04 - mae: 0.0087\n",
            "Epoch 1146/1200\n",
            "1/1 [==============================] - 0s 7ms/step - loss: 1.0124e-04 - mae: 0.0086\n",
            "Epoch 1147/1200\n",
            "1/1 [==============================] - 0s 9ms/step - loss: 1.0055e-04 - mae: 0.0086\n",
            "Epoch 1148/1200\n",
            "1/1 [==============================] - 0s 8ms/step - loss: 9.9880e-05 - mae: 0.0086\n",
            "Epoch 1149/1200\n",
            "1/1 [==============================] - 0s 8ms/step - loss: 9.9198e-05 - mae: 0.0085\n",
            "Epoch 1150/1200\n",
            "1/1 [==============================] - 0s 9ms/step - loss: 9.8540e-05 - mae: 0.0085\n",
            "Epoch 1151/1200\n",
            "1/1 [==============================] - 0s 8ms/step - loss: 9.7870e-05 - mae: 0.0085\n",
            "Epoch 1152/1200\n",
            "1/1 [==============================] - 0s 8ms/step - loss: 9.7206e-05 - mae: 0.0085\n",
            "Epoch 1153/1200\n",
            "1/1 [==============================] - 0s 8ms/step - loss: 9.6551e-05 - mae: 0.0084\n",
            "Epoch 1154/1200\n",
            "1/1 [==============================] - 0s 7ms/step - loss: 9.5898e-05 - mae: 0.0084\n",
            "Epoch 1155/1200\n",
            "1/1 [==============================] - 0s 7ms/step - loss: 9.5247e-05 - mae: 0.0084\n",
            "Epoch 1156/1200\n",
            "1/1 [==============================] - 0s 9ms/step - loss: 9.4610e-05 - mae: 0.0083\n",
            "Epoch 1157/1200\n",
            "1/1 [==============================] - 0s 8ms/step - loss: 9.3967e-05 - mae: 0.0083\n",
            "Epoch 1158/1200\n",
            "1/1 [==============================] - 0s 9ms/step - loss: 9.3338e-05 - mae: 0.0083\n",
            "Epoch 1159/1200\n",
            "1/1 [==============================] - 0s 9ms/step - loss: 9.2709e-05 - mae: 0.0083\n",
            "Epoch 1160/1200\n",
            "1/1 [==============================] - 0s 8ms/step - loss: 9.2079e-05 - mae: 0.0082\n",
            "Epoch 1161/1200\n",
            "1/1 [==============================] - 0s 6ms/step - loss: 9.1458e-05 - mae: 0.0082\n",
            "Epoch 1162/1200\n",
            "1/1 [==============================] - 0s 8ms/step - loss: 9.0837e-05 - mae: 0.0082\n",
            "Epoch 1163/1200\n",
            "1/1 [==============================] - 0s 6ms/step - loss: 9.0225e-05 - mae: 0.0082\n",
            "Epoch 1164/1200\n",
            "1/1 [==============================] - 0s 7ms/step - loss: 8.9618e-05 - mae: 0.0081\n",
            "Epoch 1165/1200\n",
            "1/1 [==============================] - 0s 10ms/step - loss: 8.9014e-05 - mae: 0.0081\n",
            "Epoch 1166/1200\n",
            "1/1 [==============================] - 0s 9ms/step - loss: 8.8413e-05 - mae: 0.0081\n",
            "Epoch 1167/1200\n",
            "1/1 [==============================] - 0s 9ms/step - loss: 8.7819e-05 - mae: 0.0080\n",
            "Epoch 1168/1200\n",
            "1/1 [==============================] - 0s 8ms/step - loss: 8.7223e-05 - mae: 0.0080\n",
            "Epoch 1169/1200\n",
            "1/1 [==============================] - 0s 9ms/step - loss: 8.6634e-05 - mae: 0.0080\n",
            "Epoch 1170/1200\n",
            "1/1 [==============================] - 0s 10ms/step - loss: 8.6049e-05 - mae: 0.0080\n",
            "Epoch 1171/1200\n",
            "1/1 [==============================] - 0s 8ms/step - loss: 8.5472e-05 - mae: 0.0079\n",
            "Epoch 1172/1200\n",
            "1/1 [==============================] - 0s 10ms/step - loss: 8.4888e-05 - mae: 0.0079\n",
            "Epoch 1173/1200\n",
            "1/1 [==============================] - 0s 7ms/step - loss: 8.4320e-05 - mae: 0.0079\n",
            "Epoch 1174/1200\n",
            "1/1 [==============================] - 0s 9ms/step - loss: 8.3752e-05 - mae: 0.0079\n",
            "Epoch 1175/1200\n",
            "1/1 [==============================] - 0s 7ms/step - loss: 8.3185e-05 - mae: 0.0078\n",
            "Epoch 1176/1200\n",
            "1/1 [==============================] - 0s 7ms/step - loss: 8.2629e-05 - mae: 0.0078\n",
            "Epoch 1177/1200\n",
            "1/1 [==============================] - 0s 8ms/step - loss: 8.2065e-05 - mae: 0.0078\n",
            "Epoch 1178/1200\n",
            "1/1 [==============================] - 0s 9ms/step - loss: 8.1510e-05 - mae: 0.0077\n",
            "Epoch 1179/1200\n",
            "1/1 [==============================] - 0s 7ms/step - loss: 8.0962e-05 - mae: 0.0077\n",
            "Epoch 1180/1200\n",
            "1/1 [==============================] - 0s 8ms/step - loss: 8.0419e-05 - mae: 0.0077\n",
            "Epoch 1181/1200\n",
            "1/1 [==============================] - 0s 6ms/step - loss: 7.9875e-05 - mae: 0.0077\n",
            "Epoch 1182/1200\n",
            "1/1 [==============================] - 0s 9ms/step - loss: 7.9336e-05 - mae: 0.0076\n",
            "Epoch 1183/1200\n",
            "1/1 [==============================] - 0s 7ms/step - loss: 7.8800e-05 - mae: 0.0076\n",
            "Epoch 1184/1200\n",
            "1/1 [==============================] - 0s 8ms/step - loss: 7.8264e-05 - mae: 0.0076\n",
            "Epoch 1185/1200\n",
            "1/1 [==============================] - 0s 5ms/step - loss: 7.7737e-05 - mae: 0.0076\n",
            "Epoch 1186/1200\n",
            "1/1 [==============================] - 0s 6ms/step - loss: 7.7212e-05 - mae: 0.0075\n",
            "Epoch 1187/1200\n",
            "1/1 [==============================] - 0s 5ms/step - loss: 7.6690e-05 - mae: 0.0075\n",
            "Epoch 1188/1200\n",
            "1/1 [==============================] - 0s 5ms/step - loss: 7.6176e-05 - mae: 0.0075\n",
            "Epoch 1189/1200\n",
            "1/1 [==============================] - 0s 5ms/step - loss: 7.5666e-05 - mae: 0.0075\n",
            "Epoch 1190/1200\n",
            "1/1 [==============================] - 0s 5ms/step - loss: 7.5155e-05 - mae: 0.0074\n",
            "Epoch 1191/1200\n",
            "1/1 [==============================] - 0s 6ms/step - loss: 7.4648e-05 - mae: 0.0074\n",
            "Epoch 1192/1200\n",
            "1/1 [==============================] - 0s 6ms/step - loss: 7.4144e-05 - mae: 0.0074\n",
            "Epoch 1193/1200\n",
            "1/1 [==============================] - 0s 6ms/step - loss: 7.3641e-05 - mae: 0.0074\n",
            "Epoch 1194/1200\n",
            "1/1 [==============================] - 0s 6ms/step - loss: 7.3144e-05 - mae: 0.0073\n",
            "Epoch 1195/1200\n",
            "1/1 [==============================] - 0s 6ms/step - loss: 7.2646e-05 - mae: 0.0073\n",
            "Epoch 1196/1200\n",
            "1/1 [==============================] - 0s 5ms/step - loss: 7.2157e-05 - mae: 0.0073\n",
            "Epoch 1197/1200\n",
            "1/1 [==============================] - 0s 6ms/step - loss: 7.1667e-05 - mae: 0.0073\n",
            "Epoch 1198/1200\n",
            "1/1 [==============================] - 0s 5ms/step - loss: 7.1186e-05 - mae: 0.0072\n",
            "Epoch 1199/1200\n",
            "1/1 [==============================] - 0s 5ms/step - loss: 7.0704e-05 - mae: 0.0072\n",
            "Epoch 1200/1200\n",
            "1/1 [==============================] - 0s 5ms/step - loss: 7.0230e-05 - mae: 0.0072\n"
          ]
        }
      ]
    },
    {
      "cell_type": "code",
      "source": [
        "import matplotlib.pyplot as plt\n",
        "\n",
        "plt.plot(history.history['loss'], label='loss')\n",
        "plt.plot(history.history['mae'], label='mae')\n",
        "plt.xlim(-1,20)\n",
        "plt.title('Loss')\n",
        "plt.legend()\n",
        "plt.show"
      ],
      "metadata": {
        "colab": {
          "base_uri": "https://localhost:8080/",
          "height": 299
        },
        "id": "Mgti1L-IxX6A",
        "outputId": "8b4e0d8b-fa9d-479b-c461-022530628e07"
      },
      "execution_count": 105,
      "outputs": [
        {
          "output_type": "execute_result",
          "data": {
            "text/plain": [
              "<function matplotlib.pyplot.show(*args, **kw)>"
            ]
          },
          "metadata": {},
          "execution_count": 105
        },
        {
          "output_type": "display_data",
          "data": {
            "text/plain": [
              "<Figure size 432x288 with 1 Axes>"
            ],
            "image/png": "[encoded data removed]"
          },
          "metadata": {
            "needs_background": "light"
          }
        }
      ]
    },
    {
      "cell_type": "markdown",
      "source": [
        "### 9) 검증\n",
        "  * evaluate() 메소드\n",
        "  * 검증 데이터셋을 입력하여 검증"
      ],
      "metadata": {
        "id": "zvsF_YrPyGFO"
      }
    },
    {
      "cell_type": "code",
      "source": [
        "model.evaluate(x,y)"
      ],
      "metadata": {
        "colab": {
          "base_uri": "https://localhost:8080/"
        },
        "id": "WW6OFPCJyWa1",
        "outputId": "105962a8-cd4a-4f18-d111-b7d913d63200"
      },
      "execution_count": 106,
      "outputs": [
        {
          "output_type": "stream",
          "name": "stdout",
          "text": [
            "1/1 [==============================] - 0s 151ms/step - loss: 6.9756e-05 - mae: 0.0072\n"
          ]
        },
        {
          "output_type": "execute_result",
          "data": {
            "text/plain": [
              "[6.975578435231e-05, 0.007168769836425781]"
            ]
          },
          "metadata": {},
          "execution_count": 106
        }
      ]
    },
    {
      "cell_type": "markdown",
      "source": [
        "### 10) 예측\n",
        "* 훈련이 완료된 모델 인스턴스의 predict() 메소드에 새로운 입력 데이터를 넣어주면 모델의 예측값을 얻을 수 있음"
      ],
      "metadata": {
        "id": "ojXcuDieyY_y"
      }
    },
    {
      "cell_type": "code",
      "source": [
        "model.predict([10])"
      ],
      "metadata": {
        "colab": {
          "base_uri": "https://localhost:8080/"
        },
        "id": "lsWq4C61yg_K",
        "outputId": "1b13606a-cc29-4968-f1bb-4842f5304d24"
      },
      "execution_count": 107,
      "outputs": [
        {
          "output_type": "stream",
          "name": "stdout",
          "text": [
            "1/1 [==============================] - 0s 76ms/step\n"
          ]
        },
        {
          "output_type": "execute_result",
          "data": {
            "text/plain": [
              "array([[32.03465]], dtype=float32)"
            ]
          },
          "metadata": {},
          "execution_count": 107
        }
      ]
    },
    {
      "cell_type": "markdown",
      "source": [
        "## **3. 심층 신경망으로 이미지 분류**\n",
        "\n",
        "* 딥러닝 모델\n"
      ],
      "metadata": {
        "id": "fQoiEKvGyY6Z"
      }
    },
    {
      "cell_type": "markdown",
      "source": [
        "### 1) 케라스 내장 데이터셋 로드\n",
        "  * load_data() > 케라스 내장 데이터셋 사용\n",
        "    * 훈련 데이터셋과 검증 데이터셋을 구분하여 제공함"
      ],
      "metadata": {
        "id": "AcniGvpOyrdN"
      }
    },
    {
      "cell_type": "code",
      "source": [
        "import tensorflow as tf\n",
        "mnist=tf.keras.datasets.mnist"
      ],
      "metadata": {
        "id": "XCsyomsKy2FR"
      },
      "execution_count": 19,
      "outputs": []
    },
    {
      "cell_type": "code",
      "source": [
        "(x_train,y_train),(x_test,y_test)=mnist.load_data()"
      ],
      "metadata": {
        "colab": {
          "base_uri": "https://localhost:8080/"
        },
        "id": "VxCVyV1oy8CW",
        "outputId": "f9f7ee49-99cd-44ea-d091-f361be28d532"
      },
      "execution_count": 20,
      "outputs": [
        {
          "output_type": "stream",
          "name": "stdout",
          "text": [
            "Downloading data from https://storage.googleapis.com/tensorflow/tf-keras-datasets/mnist.npz\n",
            "11490434/11490434 [==============================] - 0s 0us/step\n"
          ]
        }
      ]
    },
    {
      "cell_type": "code",
      "source": [
        "print('train set:',x_train.shape, y_train.shape)\n",
        "print('test set :',x_test.shape, y_test.shape)\n"
      ],
      "metadata": {
        "colab": {
          "base_uri": "https://localhost:8080/"
        },
        "id": "JMafdOeBzDTZ",
        "outputId": "b2033219-1d2e-46a4-e5c1-d1988ae2a6fc"
      },
      "execution_count": 21,
      "outputs": [
        {
          "output_type": "stream",
          "name": "stdout",
          "text": [
            "train set: (60000, 28, 28) (60000,)\n",
            "test set : (10000, 28, 28) (10000,)\n"
          ]
        }
      ]
    },
    {
      "cell_type": "code",
      "source": [
        "import matplotlib.pyplot as plt\n",
        "\n",
        "fig,axes=plt.subplots(3,5)\n",
        "fig.set_size_inches(8,5)\n",
        "for i in range(15):\n",
        "  ax=axes[i//5,i%5]\n",
        "  ax.imshow(x_train[i],cmap='gray')\n",
        "  ax.axis('off')\n",
        "  ax.set_title(str(y_train[i]))\n",
        "\n",
        "plt.tight_layout()\n",
        "plt.show()"
      ],
      "metadata": {
        "colab": {
          "base_uri": "https://localhost:8080/",
          "height": 371
        },
        "id": "OyBhAXCjzPHD",
        "outputId": "e9b49225-edfe-4a72-d622-a5fef6d68cdf"
      },
      "execution_count": 26,
      "outputs": [
        {
          "output_type": "display_data",
          "data": {
            "text/plain": [
              "<Figure size 576x360 with 15 Axes>"
            ],
            "image/png": "[encoded data removed]"
          },
          "metadata": {
            "needs_background": "light"
          }
        }
      ]
    },
    {
      "cell_type": "markdown",
      "source": [
        "### 2) 데이터 전처리 \n",
        "  * 이미지 데이터에 대하여 정규화를 통해 데이터의 범위를 조절"
      ],
      "metadata": {
        "id": "_qbtcV-Hzp5p"
      }
    },
    {
      "cell_type": "code",
      "source": [
        "x_train[0, 10:15, 10:15]"
      ],
      "metadata": {
        "colab": {
          "base_uri": "https://localhost:8080/"
        },
        "id": "-LieClSyzvlP",
        "outputId": "279dd404-5ff1-45cf-ab1a-d38b37c7d465"
      },
      "execution_count": 27,
      "outputs": [
        {
          "output_type": "execute_result",
          "data": {
            "text/plain": [
              "array([[  1, 154, 253,  90,   0],\n",
              "       [  0, 139, 253, 190,   2],\n",
              "       [  0,  11, 190, 253,  70],\n",
              "       [  0,   0,  35, 241, 225],\n",
              "       [  0,   0,   0,  81, 240]], dtype=uint8)"
            ]
          },
          "metadata": {},
          "execution_count": 27
        }
      ]
    },
    {
      "cell_type": "markdown",
      "source": [
        "* 0~255 범위\n",
        "* 정규화"
      ],
      "metadata": {
        "id": "5dACRuno0MrM"
      }
    },
    {
      "cell_type": "code",
      "source": [
        "print(f'정규화전 ] 최소값: {x_train.min()}, 최대값:{x_train.max()}')\n",
        "\n",
        "x_train=x_train/x_train.max()\n",
        "print(f'정규화후 ] 최소값: {x_train.min()}, 최대값:{x_train.max()}')"
      ],
      "metadata": {
        "colab": {
          "base_uri": "https://localhost:8080/"
        },
        "id": "f8fMlBJ00Pxq",
        "outputId": "e8330cfd-74ec-4e00-95b4-f16db5555680"
      },
      "execution_count": 28,
      "outputs": [
        {
          "output_type": "stream",
          "name": "stdout",
          "text": [
            "정규화전 ] 최소값: 0, 최대값:255\n",
            "정규화후 ] 최소값: 0.0, 최대값:1.0\n"
          ]
        }
      ]
    },
    {
      "cell_type": "code",
      "source": [
        "x_test=x_test/x_test.max()"
      ],
      "metadata": {
        "id": "ARd74pJ60oQa"
      },
      "execution_count": 29,
      "outputs": []
    },
    {
      "cell_type": "code",
      "source": [
        "x_train[0, 10:15, 10:15]"
      ],
      "metadata": {
        "colab": {
          "base_uri": "https://localhost:8080/"
        },
        "id": "36HbuHdo0rku",
        "outputId": "fd26425c-90d0-4382-c943-1920c9253aeb"
      },
      "execution_count": 31,
      "outputs": [
        {
          "output_type": "execute_result",
          "data": {
            "text/plain": [
              "array([[0.00392157, 0.60392157, 0.99215686, 0.35294118, 0.        ],\n",
              "       [0.        , 0.54509804, 0.99215686, 0.74509804, 0.00784314],\n",
              "       [0.        , 0.04313725, 0.74509804, 0.99215686, 0.2745098 ],\n",
              "       [0.        , 0.        , 0.1372549 , 0.94509804, 0.88235294],\n",
              "       [0.        , 0.        , 0.        , 0.31764706, 0.94117647]])"
            ]
          },
          "metadata": {},
          "execution_count": 31
        }
      ]
    },
    {
      "cell_type": "markdown",
      "source": [
        "### 3) Flatten 레이어\n",
        "\n",
        "* 정규화를 하더라도 개별 데이터 값의 범위는 축소되지만, 원본 배열의 형태는 그대로 유지됨\n",
        "\n",
        "* 2차원 입력은 Dense 레이어에 입력값으로 넣을 수 없음\n",
        "\n",
        "* Dense 레이어에는 입력값으로 반드시 1차원 배열이 들어가야 함.\n",
        "\n",
        "* 이미지 데이터를 1차원으로 전처리하여 주입"
      ],
      "metadata": {
        "id": "8FkRfMcr0x0H"
      }
    },
    {
      "cell_type": "code",
      "source": [
        "print(f'변경 전 shape : {x_train.shape}')\n",
        "print(f'1d으로 변경 후 : {x_train.reshape(60000,-1).shape}')"
      ],
      "metadata": {
        "colab": {
          "base_uri": "https://localhost:8080/"
        },
        "id": "4gcArYgI1CBu",
        "outputId": "501f8d52-76f1-4a8b-82b7-3e532e07f9ef"
      },
      "execution_count": 32,
      "outputs": [
        {
          "output_type": "stream",
          "name": "stdout",
          "text": [
            "변경 전 shape : (60000, 28, 28)\n",
            "1d으로 변경 후 : (60000, 784)\n"
          ]
        }
      ]
    },
    {
      "cell_type": "markdown",
      "source": [
        "* Flatten 레이어 사용"
      ],
      "metadata": {
        "id": "fZdxupvZ1NbV"
      }
    },
    {
      "cell_type": "code",
      "source": [
        "print(f'변경 전 shape : {x_train.shape}')\n",
        "\n",
        "print(f'Flaten 적용 후 : {tf.keras.layers.Flatten()(x_train).shape}')"
      ],
      "metadata": {
        "colab": {
          "base_uri": "https://localhost:8080/"
        },
        "id": "Kq5xSIyY1QH_",
        "outputId": "a63a6154-0f37-455e-80f3-80be7ad0b07f"
      },
      "execution_count": 33,
      "outputs": [
        {
          "output_type": "stream",
          "name": "stdout",
          "text": [
            "변경 전 shape : (60000, 28, 28)\n",
            "Flaten 적용 후 : (60000, 784)\n"
          ]
        }
      ]
    },
    {
      "cell_type": "markdown",
      "source": [
        "### 4) 활성화 함수\n",
        "  * 입력을 비선형 출력으로 변환해주는 함수\n",
        "  * 비선형성을 추가하지 않고 선형 함수로만 층을 구성한다면 모델을 깊게 구성하더라도 결국은 선형함수로 표현됨.\n",
        "  * 시그모이드, 하이퍼볼릭 탄젠트, ReLu, Leaky ReLu"
      ],
      "metadata": {
        "id": "rkrgatZu1XYP"
      }
    },
    {
      "cell_type": "markdown",
      "source": [
        "* Dense 레이어에 ReLu 활성화 함수를 적용하기 위해서는 activation 매개변수에 relu 문자열을 대입하면 됨"
      ],
      "metadata": {
        "id": "2NNu0Waz2kkH"
      }
    },
    {
      "cell_type": "code",
      "source": [
        "tf.keras.layers.Dense(128, activation='relu')"
      ],
      "metadata": {
        "colab": {
          "base_uri": "https://localhost:8080/"
        },
        "id": "DLm8AJfL2jz1",
        "outputId": "e75b6124-c532-4118-9974-f0fa7cc5b0ca"
      },
      "execution_count": 34,
      "outputs": [
        {
          "output_type": "execute_result",
          "data": {
            "text/plain": [
              "<keras.layers.core.dense.Dense at 0x7ff0dc346750>"
            ]
          },
          "metadata": {},
          "execution_count": 34
        }
      ]
    },
    {
      "cell_type": "markdown",
      "source": [
        "* 별도의 층으로 적용하는 경우 Dense 레이어 다음에 배치 정규화를 적용한 후 활성화 함수를 적용하고자 할 때 많이 사용됨"
      ],
      "metadata": {
        "id": "4iY1827i2v5U"
      }
    },
    {
      "cell_type": "code",
      "source": [
        "model=tf.keras.Sequential([\n",
        "    tf.keras.layers.Dense(128),\n",
        "    tf.keras.layers.Activation('relu')\n",
        "])"
      ],
      "metadata": {
        "id": "S2iEHul721gk"
      },
      "execution_count": 36,
      "outputs": []
    },
    {
      "cell_type": "markdown",
      "source": [
        "### 5) 입력과 출력\n",
        "\n",
        "* 딥러닝 모델을 만들 때는 첫번째 레이어에 입력 데이터의 형태를 나타내는 input_shape 매개변수를 지정하는 것이 일반적\n",
        "\n",
        "* 분류 모델의 가장 마지막 레이어는 출력층\n",
        "* 출력 층의 노드 개수는 반드시 분류해야 할 클래스의 갯수와 동일해야 함"
      ],
      "metadata": {
        "id": "Q0QPoPlX2-38"
      }
    },
    {
      "cell_type": "code",
      "source": [
        "model=tf.keras.Sequential([\n",
        "    tf.keras.layers.Flatten(input_shape=(28,28)),\n",
        "    tf.keras.layers.Dense(256, activation='relu'),\n",
        "    tf.keras.layers.Dense(64, activation='relu'),\n",
        "    tf.keras.layers.Dense(32, activation='relu'),\n",
        "\n",
        "    tf.keras.layers.Dense(10,activation='softmax')\n",
        "])"
      ],
      "metadata": {
        "id": "2RYGk2o34Ld9"
      },
      "execution_count": 38,
      "outputs": []
    },
    {
      "cell_type": "markdown",
      "source": [
        "* 다중 분류 문제는 softmax 활성화 함수를 적용\n",
        "* 이중 분류 문제는 sigmoid 활성화 함수를 적용"
      ],
      "metadata": {
        "id": "KLTlQreC4hru"
      }
    },
    {
      "cell_type": "code",
      "source": [
        "tf.keras.layers.Dense(1,activation='sigmoid')\n",
        "tf.keras.layers.Dense(10, activation='softmax')"
      ],
      "metadata": {
        "colab": {
          "base_uri": "https://localhost:8080/"
        },
        "id": "tszGanio4pUo",
        "outputId": "0a3e1078-5467-4861-fd12-a1bb774463a5"
      },
      "execution_count": 40,
      "outputs": [
        {
          "output_type": "execute_result",
          "data": {
            "text/plain": [
              "<keras.layers.core.dense.Dense at 0x7ff0d8df0f10>"
            ]
          },
          "metadata": {},
          "execution_count": 40
        }
      ]
    },
    {
      "cell_type": "markdown",
      "source": [
        "### 6) 손실함수\n",
        "  * 분류 모델의 손실함수는 출력층에 따라 올바른 손실함수를 설정해야만 모델이 정상적으로 훈련 가능\n",
        "  * 이진분류 => binary_crossentropy\n",
        "  * 다중분류 => categorical_crossentropy,\n",
        "  * 출력벡터가 원핫 벡터 =>  sparse_categorical_crossentropy\n",
        "\n"
      ],
      "metadata": {
        "id": "OLeVK_Zm4xlv"
      }
    },
    {
      "cell_type": "code",
      "source": [
        "model.compile(loss='binary_corssentropy')\n",
        "\n",
        "model.compile(loss='categorical_crossentropy')\n",
        "model.compile(loss='sparse_categorical_crossentropy')"
      ],
      "metadata": {
        "id": "Qd8-gOsx5EhD"
      },
      "execution_count": 41,
      "outputs": []
    },
    {
      "cell_type": "markdown",
      "source": [
        "### 7) 옵티마이저"
      ],
      "metadata": {
        "id": "g8zOt7dV5Wk9"
      }
    },
    {
      "cell_type": "markdown",
      "source": [
        "* 손실을 낮추기 위해서 신경망의 가중치와 학습률과 같은 속성을 변경하는 데 사용되는 최적화 방법\n",
        "  * Adam, SGD, Adagrad, Nadam, RMSprop, Adadelta, Ftrl\n",
        "* 옵티마이저는 클래스 인스턴스로 지정하거나 문자열로 지정"
      ],
      "metadata": {
        "id": "3NUhQIYQ5Yem"
      }
    },
    {
      "cell_type": "code",
      "source": [
        "adam=tf.keras.optimizers.Adam(lr=0.001)\n",
        "model.compile(optimizer=adam)\n",
        "\n",
        "model.compile(optimizer='adam')"
      ],
      "metadata": {
        "colab": {
          "base_uri": "https://localhost:8080/"
        },
        "id": "8B66-jxo5oYZ",
        "outputId": "b5186d62-965a-4688-f9d3-8089d6c47341"
      },
      "execution_count": 84,
      "outputs": [
        {
          "output_type": "stream",
          "name": "stderr",
          "text": [
            "/usr/local/lib/python3.7/dist-packages/keras/optimizers/optimizer_v2/adam.py:110: UserWarning: The `lr` argument is deprecated, use `learning_rate` instead.\n",
            "  super(Adam, self).__init__(name, **kwargs)\n"
          ]
        }
      ]
    },
    {
      "cell_type": "markdown",
      "source": [
        "### 8) 평가지표\n",
        "\n",
        "* 분류모델 : accuracy, auc, precision, recall\n",
        "* 모델 컴파일 단계에서 metrics 매개변수에 파이썬 리스트 형태로 하나 이상의 평가지표를 지정하여 여러 지표들을 동시에 참고 가능\n",
        "* 클래스 인스턴스로 지정하거나 문자열로 지정"
      ],
      "metadata": {
        "id": "GnUrt0Ky5wVk"
      }
    },
    {
      "cell_type": "code",
      "source": [
        "acc=tf.keras.metrics.SparseCategoricalAccuracy()\n",
        "\n",
        "model.compile(optimizer='adam', loss='sparse_categorical_crossentropy', metrics=[acc])"
      ],
      "metadata": {
        "id": "SaGfyh665-1M"
      },
      "execution_count": 45,
      "outputs": []
    },
    {
      "cell_type": "code",
      "source": [
        "model.compile(optimizer='adam', loss='sparse_categorical_crossentropy', metrics=['accuracy'])"
      ],
      "metadata": {
        "id": "lxxGkoaK6Lag"
      },
      "execution_count": 47,
      "outputs": []
    },
    {
      "cell_type": "markdown",
      "source": [
        "### 9) 훈련\n",
        "* 모델을 훈련할 때 검증 셋을 추가 지정하면, 매 epoch마다 훈련 손실과 검증 손실, 각 셋에 대한 평가 지표를 나란히 출력\n",
        "* validation_data 매개변수에 투플 형식의 검증셋을 지정"
      ],
      "metadata": {
        "id": "7e57mzfp6bi4"
      }
    },
    {
      "cell_type": "code",
      "source": [
        "model.fit(x_train, y_train, validation_data=(x_test,y_test), epochs=10)"
      ],
      "metadata": {
        "colab": {
          "base_uri": "https://localhost:8080/"
        },
        "id": "tOQgjr5K6nmU",
        "outputId": "16f89ee2-5f95-4472-d235-f9a42f15ebe8"
      },
      "execution_count": 48,
      "outputs": [
        {
          "output_type": "stream",
          "name": "stdout",
          "text": [
            "Epoch 1/10\n",
            "1875/1875 [==============================] - 7s 3ms/step - loss: 0.2247 - accuracy: 0.9335 - val_loss: 0.1234 - val_accuracy: 0.9619\n",
            "Epoch 2/10\n",
            "1875/1875 [==============================] - 6s 3ms/step - loss: 0.0921 - accuracy: 0.9717 - val_loss: 0.0774 - val_accuracy: 0.9770\n",
            "Epoch 3/10\n",
            "1875/1875 [==============================] - 7s 4ms/step - loss: 0.0636 - accuracy: 0.9796 - val_loss: 0.0938 - val_accuracy: 0.9722\n",
            "Epoch 4/10\n",
            "1875/1875 [==============================] - 7s 4ms/step - loss: 0.0501 - accuracy: 0.9843 - val_loss: 0.0743 - val_accuracy: 0.9776\n",
            "Epoch 5/10\n",
            "1875/1875 [==============================] - 7s 4ms/step - loss: 0.0396 - accuracy: 0.9872 - val_loss: 0.0679 - val_accuracy: 0.9794\n",
            "Epoch 6/10\n",
            "1875/1875 [==============================] - 8s 4ms/step - loss: 0.0325 - accuracy: 0.9899 - val_loss: 0.0759 - val_accuracy: 0.9771\n",
            "Epoch 7/10\n",
            "1875/1875 [==============================] - 8s 4ms/step - loss: 0.0272 - accuracy: 0.9911 - val_loss: 0.0856 - val_accuracy: 0.9768\n",
            "Epoch 8/10\n",
            "1875/1875 [==============================] - 6s 3ms/step - loss: 0.0239 - accuracy: 0.9921 - val_loss: 0.1109 - val_accuracy: 0.9742\n",
            "Epoch 9/10\n",
            "1875/1875 [==============================] - 6s 3ms/step - loss: 0.0234 - accuracy: 0.9922 - val_loss: 0.0834 - val_accuracy: 0.9801\n",
            "Epoch 10/10\n",
            "1875/1875 [==============================] - 7s 4ms/step - loss: 0.0203 - accuracy: 0.9934 - val_loss: 0.1016 - val_accuracy: 0.9744\n"
          ]
        },
        {
          "output_type": "execute_result",
          "data": {
            "text/plain": [
              "<keras.callbacks.History at 0x7ff0dc296610>"
            ]
          },
          "metadata": {},
          "execution_count": 48
        }
      ]
    },
    {
      "cell_type": "markdown",
      "source": [
        "### 10) 평가\n",
        "* 훈련 종료 후 evaluate() 메소드로 모델 성능을 검증하고 평가 결과를 확인할 수 있음"
      ],
      "metadata": {
        "id": "L4ItfECi6tEu"
      }
    },
    {
      "cell_type": "code",
      "source": [
        "test_loss, test_acc=model.evaluate(x_test,y_test)\n",
        "print('검증 셋 정확도:', test_acc)"
      ],
      "metadata": {
        "colab": {
          "base_uri": "https://localhost:8080/"
        },
        "id": "0g0bwitB6zCF",
        "outputId": "62480b2a-f313-454c-9e52-93861e453a1c"
      },
      "execution_count": 49,
      "outputs": [
        {
          "output_type": "stream",
          "name": "stdout",
          "text": [
            "313/313 [==============================] - 1s 2ms/step - loss: 0.1016 - accuracy: 0.9744\n",
            "검증 셋 정확도: 0.974399983882904\n"
          ]
        }
      ]
    },
    {
      "cell_type": "markdown",
      "source": [
        "### 11) 예측\n",
        "\n",
        "* 훈련된 모델로 새로운 이미지에 대한 분류 값을 예측하는 작업 수행\n",
        "* predict()"
      ],
      "metadata": {
        "id": "7P4rMmYB669T"
      }
    },
    {
      "cell_type": "code",
      "source": [
        "predictions=model.predict(x_test)\n",
        "\n",
        "predictions[0]"
      ],
      "metadata": {
        "colab": {
          "base_uri": "https://localhost:8080/"
        },
        "id": "wri2k-SV7CKS",
        "outputId": "7791ed5c-0547-4046-f229-afae30827468"
      },
      "execution_count": 50,
      "outputs": [
        {
          "output_type": "stream",
          "name": "stdout",
          "text": [
            "313/313 [==============================] - 0s 1ms/step\n"
          ]
        },
        {
          "output_type": "execute_result",
          "data": {
            "text/plain": [
              "array([1.6312729e-11, 1.2676436e-07, 2.6303347e-08, 1.9938478e-09,\n",
              "       2.0380846e-09, 5.4323296e-10, 1.4436973e-13, 9.9999982e-01,\n",
              "       3.0499951e-09, 2.9167456e-08], dtype=float32)"
            ]
          },
          "metadata": {},
          "execution_count": 50
        }
      ]
    },
    {
      "cell_type": "markdown",
      "source": [
        "* softmax 활성화 함수를 거친 10개의 출력 값은 순차적으로 0~9까지의 10개의 개별 클래스에 대한 분류 확률 값을 나탸냄\n",
        "* 가장 높은 확률값을 가진 클래스가 최종 예측된 클래스"
      ],
      "metadata": {
        "id": "ZcLaX_zs7LiL"
      }
    },
    {
      "cell_type": "code",
      "source": [
        "import numpy as np\n",
        "\n",
        "print(np.argmax(predictions[0]))\n",
        "print(np.argmax(predictions[:10],axis=1))"
      ],
      "metadata": {
        "colab": {
          "base_uri": "https://localhost:8080/"
        },
        "id": "md2H3pC47GyB",
        "outputId": "1dcd87b1-2adc-42fb-b799-47bdcb6c1fb8"
      },
      "execution_count": 51,
      "outputs": [
        {
          "output_type": "stream",
          "name": "stdout",
          "text": [
            "7\n",
            "[7 2 1 0 4 1 4 9 5 9]\n"
          ]
        }
      ]
    },
    {
      "cell_type": "markdown",
      "source": [
        "* 시각화 코드"
      ],
      "metadata": {
        "id": "E4-R7Ii97Yif"
      }
    },
    {
      "cell_type": "code",
      "source": [
        "import matplotlib.pyplot as plt\n",
        "\n",
        "def get_one_result(idx):\n",
        "  img, y_true, y_pred, confidence=x_test[idx],y_test[idx],np.argmax(predictions[idx]), 100*np.max(predictions[idx])\n",
        "  return img, y_true, y_pred, confidence\n",
        "\n",
        "fig,axes=plt.subplots(3,5)\n",
        "fig.set_size_inches(12,10)\n",
        "for i in range(15):\n",
        "  ax=axes[i//5,i%5]\n",
        "  img,y_true, y_pred, confidence=get_one_result(i)\n",
        "  ax.imshow(img, cmap='gray')\n",
        "  ax.set_xticks([])\n",
        "  ax.set_yticks([])\n",
        "  ax.set_title(f'True:{y_true}')\n",
        "  ax.set_xlabel(f'Prediction:{y_pred}\\n Confidence:({confidence:2f}%)')\n",
        "plt.tight_layout()\n",
        "plt.show()"
      ],
      "metadata": {
        "colab": {
          "base_uri": "https://localhost:8080/",
          "height": 683
        },
        "id": "93PInPIq7YJ9",
        "outputId": "c47366f5-da6d-490a-8d54-6318a1bce987"
      },
      "execution_count": 53,
      "outputs": [
        {
          "output_type": "display_data",
          "data": {
            "text/plain": [
              "<Figure size 864x720 with 15 Axes>"
            ],
            "image/png": "[encoded data removed]"
          },
          "metadata": {}
        }
      ]
    },
    {
      "cell_type": "markdown",
      "source": [
        "## **4. 모델 세부 설정**"
      ],
      "metadata": {
        "id": "4fXI3G_k8Jxc"
      }
    },
    {
      "cell_type": "code",
      "source": [
        "import tensorflow as tf\n",
        "\n",
        "mnist=tf.keras.datasets.mnist\n",
        "\n",
        "(x_train,y_train),(x_test,y_test)=mnist.load_data()\n",
        "\n",
        "print('train set:', x_train.shape, y_train.shape)\n",
        "print('test set: ',x_test.shape, y_test.shape)\n",
        "\n",
        "x_train=x_train/x_train.max()\n",
        "x_test=x_test/x_test.max()"
      ],
      "metadata": {
        "colab": {
          "base_uri": "https://localhost:8080/"
        },
        "id": "-zcRDVij8N8-",
        "outputId": "d1942f2e-a65a-4fc7-e185-5f029b9f4524"
      },
      "execution_count": 54,
      "outputs": [
        {
          "output_type": "stream",
          "name": "stdout",
          "text": [
            "train set: (60000, 28, 28) (60000,)\n",
            "test set:  (10000, 28, 28) (10000,)\n"
          ]
        }
      ]
    },
    {
      "cell_type": "markdown",
      "source": [
        "### 1) 초기값 설정\n",
        "\n",
        "* Dense 레이어는 기본 초기화 방법으로 Glorot Uniform 초기화"
      ],
      "metadata": {
        "id": "IaAuVvmY8nfI"
      }
    },
    {
      "cell_type": "code",
      "source": [
        "dense=tf.keras.layers.Dense(256, activation='relu')\n",
        "dense.get_config()['kernel_initializer']\n",
        "\n"
      ],
      "metadata": {
        "colab": {
          "base_uri": "https://localhost:8080/"
        },
        "id": "cEFb6g7w8uiI",
        "outputId": "601ece02-c4bd-436b-e7df-dd4511f9481e"
      },
      "execution_count": 55,
      "outputs": [
        {
          "output_type": "execute_result",
          "data": {
            "text/plain": [
              "{'class_name': 'GlorotUniform', 'config': {'seed': None}}"
            ]
          },
          "metadata": {},
          "execution_count": 55
        }
      ]
    },
    {
      "cell_type": "markdown",
      "source": [
        "* 초기화 방법 변경 : kernel_initializer 매개변수 설정"
      ],
      "metadata": {
        "id": "LSAVcsCl825n"
      }
    },
    {
      "cell_type": "code",
      "source": [
        "#문자열 초기화\n",
        "dense=tf.keras.layers.Dense(256, kernel_initializer='he_normal', activation='relu')\n",
        "print(dense.get_config()['kernel_initializer'])\n",
        "\n",
        "#클래스 인스턴스 초기화\n",
        "he_normal=tf.keras.initializers.HeNormal()\n",
        "dense=tf.keras.layers.Dense(256, kernel_initializer=he_normal, activation='relu')\n",
        "print(dense.get_config()['kernel_initializer'])"
      ],
      "metadata": {
        "colab": {
          "base_uri": "https://localhost:8080/"
        },
        "id": "XGzcrHem87KE",
        "outputId": "c167bc11-be97-458f-d184-d941cba1ffb2"
      },
      "execution_count": 61,
      "outputs": [
        {
          "output_type": "stream",
          "name": "stdout",
          "text": [
            "{'class_name': 'HeNormal', 'config': {'seed': None}}\n",
            "{'class_name': 'HeNormal', 'config': {'seed': None}}\n"
          ]
        }
      ]
    },
    {
      "cell_type": "markdown",
      "source": [
        "### 2) 규제(Regularization)"
      ],
      "metadata": {
        "id": "Vrz-9CcT9ooO"
      }
    },
    {
      "cell_type": "markdown",
      "source": [
        "* 모델의 과대적합을 해소하기 위해 L1, L2 규제를 적용\n",
        "* 텐서플로 케라스 레이어는 기본값으로 규제를 적용하지 않음\n"
      ],
      "metadata": {
        "id": "WfsCap-Z9sNp"
      }
    },
    {
      "cell_type": "code",
      "source": [
        "#기본값\n",
        "dense=tf.keras.layers.Dense(256, activation='relu')\n",
        "dense.get_config()"
      ],
      "metadata": {
        "colab": {
          "base_uri": "https://localhost:8080/"
        },
        "id": "9s4Q0apb90UP",
        "outputId": "b96e2776-780f-4e2f-e37e-c6cfd241f4ab"
      },
      "execution_count": 83,
      "outputs": [
        {
          "output_type": "execute_result",
          "data": {
            "text/plain": [
              "{'name': 'dense_33',\n",
              " 'trainable': True,\n",
              " 'dtype': 'float32',\n",
              " 'units': 256,\n",
              " 'activation': 'relu',\n",
              " 'use_bias': True,\n",
              " 'kernel_initializer': {'class_name': 'GlorotUniform',\n",
              "  'config': {'seed': None}},\n",
              " 'bias_initializer': {'class_name': 'Zeros', 'config': {}},\n",
              " 'kernel_regularizer': None,\n",
              " 'bias_regularizer': None,\n",
              " 'activity_regularizer': None,\n",
              " 'kernel_constraint': None,\n",
              " 'bias_constraint': None}"
            ]
          },
          "metadata": {},
          "execution_count": 83
        }
      ]
    },
    {
      "cell_type": "markdown",
      "source": [
        "* 모델을 구성하는 레이어마다 규제를 적용할 수 있음"
      ],
      "metadata": {
        "id": "CVDXQJnO9772"
      }
    },
    {
      "cell_type": "code",
      "source": [
        "#L1규제 적용\n",
        "dense=tf.keras.layers.Dense(256, kernel_regularizer='l1', activation='relu')\n",
        "print(dense.get_config()['kernel_regularizer'])\n",
        "\n",
        "#클래스 인스턴스 적용, alpha=0.1변경\n",
        "regularizer=tf.keras.regularizers.l1(l1=0.1)\n",
        "dense=tf.keras.layers.Dense(256, kernel_regularizer=regularizer, activation='relu')\n",
        "print(dense.get_config()['kernel_regularizer'])"
      ],
      "metadata": {
        "colab": {
          "base_uri": "https://localhost:8080/"
        },
        "id": "RBPFRr3x9_8i",
        "outputId": "9a6939cd-0fcf-40f4-df6a-1d5d6ae9f9fc"
      },
      "execution_count": 62,
      "outputs": [
        {
          "output_type": "stream",
          "name": "stdout",
          "text": [
            "{'class_name': 'L1', 'config': {'l1': 0.009999999776482582}}\n",
            "{'class_name': 'L1', 'config': {'l1': 0.10000000149011612}}\n"
          ]
        }
      ]
    },
    {
      "cell_type": "markdown",
      "source": [
        "### 3) 드롭아웃\n",
        "* 딥러닝 모델의 가장 큰 난제 : 과대적합\n",
        "* 과대적합 문제를 해결하기 위해 노드 일부의 신호를 임의로 삭제 > 모델이 학습하는 가중치 파라미터의 개수가 현저히 줄어들게 됨\n",
        "\n",
        "* 모델이 훈련할 때는 드롭아웃이 적용되어 노드 중 일부만 훈련하게 되지만, 예측할 때는 모든 노드들이 활용됨\n",
        "\n",
        "* Dropout 레이어 함수에 입력하는 숫자는 노드에서 제거되는 비율을 의미"
      ],
      "metadata": {
        "id": "MqZ8hVvo-htQ"
      }
    },
    {
      "cell_type": "code",
      "source": [
        "tf.keras.layers.Dropout(0.25)"
      ],
      "metadata": {
        "colab": {
          "base_uri": "https://localhost:8080/"
        },
        "id": "9MSlBKoi-6xb",
        "outputId": "02434631-ea61-4c3f-c3aa-f45fef05101e"
      },
      "execution_count": 63,
      "outputs": [
        {
          "output_type": "execute_result",
          "data": {
            "text/plain": [
              "<keras.layers.regularization.dropout.Dropout at 0x7ff0d3d11f10>"
            ]
          },
          "metadata": {},
          "execution_count": 63
        }
      ]
    },
    {
      "cell_type": "markdown",
      "source": [
        "### 4) 배치 정규화\n",
        "* 각 층에서 활성화 함수를 통과하기 전 미니 배치의 스케일을 정규화 함\n",
        "  * 다음 층으로 데이터가 전달되기 전에 스케일을 조정하기 때문에 보다 안정적인 훈련이 가능하고 성능을 향상시킬 수 있음\n",
        "\n",
        "* 케라스에서는 클래스 인스턴스를 생성해 추가해주면 됨"
      ],
      "metadata": {
        "id": "QPf3Pf2G-9Q4"
      }
    },
    {
      "cell_type": "code",
      "source": [
        "model_a=tf.keras.Sequential([\n",
        "    tf.keras.layers.Flatten(input_shape=(28,28)),\n",
        "    tf.keras.layers.Dense(64, activation='relu'),\n",
        "    tf.keras.layers.Dense(32, activation='relu'),\n",
        "    tf.keras.layers.Dense(10, activation='softmax')\n",
        "])\n",
        "\n",
        "model_a.summary()"
      ],
      "metadata": {
        "colab": {
          "base_uri": "https://localhost:8080/"
        },
        "id": "KIpshS5J_NvO",
        "outputId": "b5ab6557-d635-4ac8-f242-dcd9a5679920"
      },
      "execution_count": 65,
      "outputs": [
        {
          "output_type": "stream",
          "name": "stdout",
          "text": [
            "Model: \"sequential_3\"\n",
            "_________________________________________________________________\n",
            " Layer (type)                Output Shape              Param #   \n",
            "=================================================================\n",
            " flatten_2 (Flatten)         (None, 784)               0         \n",
            "                                                                 \n",
            " dense_19 (Dense)            (None, 64)                50240     \n",
            "                                                                 \n",
            " dense_20 (Dense)            (None, 32)                2080      \n",
            "                                                                 \n",
            " dense_21 (Dense)            (None, 10)                330       \n",
            "                                                                 \n",
            "=================================================================\n",
            "Total params: 52,650\n",
            "Trainable params: 52,650\n",
            "Non-trainable params: 0\n",
            "_________________________________________________________________\n"
          ]
        }
      ]
    },
    {
      "cell_type": "code",
      "source": [
        "model_b=tf.keras.Sequential([\n",
        "    tf.keras.layers.Flatten(input_shape=(28,28)),\n",
        "    tf.keras.layers.Dense(64),\n",
        "    tf.keras.layers.BatchNormalization(),\n",
        "    tf.keras.layers.Activation('relu'),\n",
        "    tf.keras.layers.Dense(32),\n",
        "    tf.keras.layers.BatchNormalization(),\n",
        "    tf.keras.layers.Activation('relu'),\n",
        "    tf.keras.layers.Dense(10, activation='softmax')\n",
        "])\n",
        "\n",
        "model_b.summary()"
      ],
      "metadata": {
        "colab": {
          "base_uri": "https://localhost:8080/"
        },
        "id": "cL7nBPJc_geH",
        "outputId": "ed3aa168-1d43-418f-bc3a-88ff9b5644ae"
      },
      "execution_count": 67,
      "outputs": [
        {
          "output_type": "stream",
          "name": "stdout",
          "text": [
            "Model: \"sequential_5\"\n",
            "_________________________________________________________________\n",
            " Layer (type)                Output Shape              Param #   \n",
            "=================================================================\n",
            " flatten_4 (Flatten)         (None, 784)               0         \n",
            "                                                                 \n",
            " dense_25 (Dense)            (None, 64)                50240     \n",
            "                                                                 \n",
            " batch_normalization_2 (Batc  (None, 64)               256       \n",
            " hNormalization)                                                 \n",
            "                                                                 \n",
            " activation_3 (Activation)   (None, 64)                0         \n",
            "                                                                 \n",
            " dense_26 (Dense)            (None, 32)                2080      \n",
            "                                                                 \n",
            " batch_normalization_3 (Batc  (None, 32)               128       \n",
            " hNormalization)                                                 \n",
            "                                                                 \n",
            " activation_4 (Activation)   (None, 32)                0         \n",
            "                                                                 \n",
            " dense_27 (Dense)            (None, 10)                330       \n",
            "                                                                 \n",
            "=================================================================\n",
            "Total params: 53,034\n",
            "Trainable params: 52,842\n",
            "Non-trainable params: 192\n",
            "_________________________________________________________________\n"
          ]
        }
      ]
    },
    {
      "cell_type": "markdown",
      "source": [
        "> 배치 정규화만 추가하였도 안정적이고 빠르게 수렴함"
      ],
      "metadata": {
        "id": "yWHJVHgO_xf5"
      }
    },
    {
      "cell_type": "markdown",
      "source": [
        "### 5) 활성화 함수\n",
        "\n",
        "* 클래스 인스턴스로 선언하여 하이퍼파라미터 값을 변경하여 적용할 수 있음"
      ],
      "metadata": {
        "id": "IVktliqb_26i"
      }
    },
    {
      "cell_type": "code",
      "source": [
        "tf.keras.layers.LeakyReLU()\n",
        "\n",
        "tf.keras.layers.LeakyReLU(alpha=0.2)"
      ],
      "metadata": {
        "colab": {
          "base_uri": "https://localhost:8080/"
        },
        "id": "bmaZA_zo_-A6",
        "outputId": "12725063-734d-439f-96b2-1f11070e40dd"
      },
      "execution_count": 76,
      "outputs": [
        {
          "output_type": "execute_result",
          "data": {
            "text/plain": [
              "<keras.layers.activation.leaky_relu.LeakyReLU at 0x7ff0d8bcdad0>"
            ]
          },
          "metadata": {},
          "execution_count": 76
        }
      ]
    },
    {
      "cell_type": "code",
      "source": [
        "model_c=tf.keras.Sequential([\n",
        "    tf.keras.layers.Flatten(input_shape=(28,28)),\n",
        "    tf.keras.layers.Dense(64),\n",
        "    tf.keras.layers.BatchNormalization(),\n",
        "    tf.keras.layers.LeakyReLU(alpha=0.2),\n",
        "    tf.keras.layers.Dense(32),\n",
        "    tf.keras.layers.BatchNormalization(),\n",
        "    tf.keras.layers.LeakyReLU(alpha=0.2),\n",
        "    tf.keras.layers.Dense(10, activation='softmax')\n",
        "])\n",
        "\n",
        "model_c.summary()"
      ],
      "metadata": {
        "colab": {
          "base_uri": "https://localhost:8080/"
        },
        "id": "ea4_HDCwADV1",
        "outputId": "b6ec768c-11dd-4dc6-f6b7-0c1ab57b47bf"
      },
      "execution_count": 75,
      "outputs": [
        {
          "output_type": "stream",
          "name": "stdout",
          "text": [
            "Model: \"sequential_6\"\n",
            "_________________________________________________________________\n",
            " Layer (type)                Output Shape              Param #   \n",
            "=================================================================\n",
            " flatten_7 (Flatten)         (None, 784)               0         \n",
            "                                                                 \n",
            " dense_30 (Dense)            (None, 64)                50240     \n",
            "                                                                 \n",
            " batch_normalization_6 (Batc  (None, 64)               256       \n",
            " hNormalization)                                                 \n",
            "                                                                 \n",
            " leaky_re_lu_1 (LeakyReLU)   (None, 64)                0         \n",
            "                                                                 \n",
            " dense_31 (Dense)            (None, 32)                2080      \n",
            "                                                                 \n",
            " batch_normalization_7 (Batc  (None, 32)               128       \n",
            " hNormalization)                                                 \n",
            "                                                                 \n",
            " leaky_re_lu_2 (LeakyReLU)   (None, 32)                0         \n",
            "                                                                 \n",
            " dense_32 (Dense)            (None, 10)                330       \n",
            "                                                                 \n",
            "=================================================================\n",
            "Total params: 53,034\n",
            "Trainable params: 52,842\n",
            "Non-trainable params: 192\n",
            "_________________________________________________________________\n"
          ]
        }
      ]
    },
    {
      "cell_type": "markdown",
      "source": [
        "* model a,b,c 총3개의 모델을 동일한 조건으로 10번의 epoch 동안 훈련한 후에 수렴 속도를 확인"
      ],
      "metadata": {
        "id": "Upq3CcuwAMtC"
      }
    },
    {
      "cell_type": "code",
      "source": [
        "model_a.compile(optimizer='adam', loss='sparse_categorical_crossentropy', metrics=['accuracy'])\n",
        "model_b.compile(optimizer='adam', loss='sparse_categorical_crossentropy', metrics=['accuracy'])\n",
        "model_c.compile(optimizer='adam', loss='sparse_categorical_crossentropy', metrics=['accuracy'])\n",
        "\n",
        "history_a=model_a.fit(x_train,y_train, validation_data=(x_test,y_test), epochs=10)\n",
        "history_b=model_b.fit(x_train,y_train, validation_data=(x_test,y_test), epochs=10)\n",
        "history_c=model_c.fit(x_train,y_train, validation_data=(x_test,y_test), epochs=10)"
      ],
      "metadata": {
        "colab": {
          "base_uri": "https://localhost:8080/"
        },
        "id": "7BvPwrDDAT7b",
        "outputId": "71199981-2371-4dae-fe6d-f5c157dd2980"
      },
      "execution_count": 77,
      "outputs": [
        {
          "output_type": "stream",
          "name": "stdout",
          "text": [
            "Epoch 1/10\n",
            "1875/1875 [==============================] - 4s 2ms/step - loss: 0.2850 - accuracy: 0.9193 - val_loss: 0.1542 - val_accuracy: 0.9554\n",
            "Epoch 2/10\n",
            "1875/1875 [==============================] - 5s 2ms/step - loss: 0.1310 - accuracy: 0.9615 - val_loss: 0.1087 - val_accuracy: 0.9663\n",
            "Epoch 3/10\n",
            "1875/1875 [==============================] - 5s 3ms/step - loss: 0.0958 - accuracy: 0.9713 - val_loss: 0.1032 - val_accuracy: 0.9684\n",
            "Epoch 4/10\n",
            "1875/1875 [==============================] - 6s 3ms/step - loss: 0.0763 - accuracy: 0.9769 - val_loss: 0.0888 - val_accuracy: 0.9732\n",
            "Epoch 5/10\n",
            "1875/1875 [==============================] - 6s 3ms/step - loss: 0.0621 - accuracy: 0.9805 - val_loss: 0.0870 - val_accuracy: 0.9743\n",
            "Epoch 6/10\n",
            "1875/1875 [==============================] - 5s 3ms/step - loss: 0.0513 - accuracy: 0.9839 - val_loss: 0.0952 - val_accuracy: 0.9723\n",
            "Epoch 7/10\n",
            "1875/1875 [==============================] - 7s 4ms/step - loss: 0.0444 - accuracy: 0.9862 - val_loss: 0.0855 - val_accuracy: 0.9758\n",
            "Epoch 8/10\n",
            "1875/1875 [==============================] - 7s 4ms/step - loss: 0.0389 - accuracy: 0.9874 - val_loss: 0.0856 - val_accuracy: 0.9767\n",
            "Epoch 9/10\n",
            "1875/1875 [==============================] - 6s 3ms/step - loss: 0.0340 - accuracy: 0.9889 - val_loss: 0.0853 - val_accuracy: 0.9763\n",
            "Epoch 10/10\n",
            "1875/1875 [==============================] - 6s 3ms/step - loss: 0.0289 - accuracy: 0.9905 - val_loss: 0.0892 - val_accuracy: 0.9762\n",
            "Epoch 1/10\n",
            "1875/1875 [==============================] - 7s 3ms/step - loss: 0.3147 - accuracy: 0.9128 - val_loss: 0.1385 - val_accuracy: 0.9573\n",
            "Epoch 2/10\n",
            "1875/1875 [==============================] - 5s 2ms/step - loss: 0.1422 - accuracy: 0.9572 - val_loss: 0.1011 - val_accuracy: 0.9687\n",
            "Epoch 3/10\n",
            "1875/1875 [==============================] - 5s 3ms/step - loss: 0.1098 - accuracy: 0.9661 - val_loss: 0.0912 - val_accuracy: 0.9719\n",
            "Epoch 4/10\n",
            "1875/1875 [==============================] - 5s 3ms/step - loss: 0.0917 - accuracy: 0.9715 - val_loss: 0.0779 - val_accuracy: 0.9752\n",
            "Epoch 5/10\n",
            "1875/1875 [==============================] - 8s 4ms/step - loss: 0.0807 - accuracy: 0.9741 - val_loss: 0.0797 - val_accuracy: 0.9754\n",
            "Epoch 6/10\n",
            "1875/1875 [==============================] - 5s 3ms/step - loss: 0.0747 - accuracy: 0.9758 - val_loss: 0.0798 - val_accuracy: 0.9762\n",
            "Epoch 7/10\n",
            "1875/1875 [==============================] - 6s 3ms/step - loss: 0.0663 - accuracy: 0.9785 - val_loss: 0.0792 - val_accuracy: 0.9753\n",
            "Epoch 8/10\n",
            "1875/1875 [==============================] - 7s 4ms/step - loss: 0.0627 - accuracy: 0.9800 - val_loss: 0.0713 - val_accuracy: 0.9790\n",
            "Epoch 9/10\n",
            "1875/1875 [==============================] - 7s 4ms/step - loss: 0.0582 - accuracy: 0.9812 - val_loss: 0.0702 - val_accuracy: 0.9780\n",
            "Epoch 10/10\n",
            "1875/1875 [==============================] - 7s 4ms/step - loss: 0.0555 - accuracy: 0.9818 - val_loss: 0.0750 - val_accuracy: 0.9781\n",
            "Epoch 1/10\n",
            "1875/1875 [==============================] - 8s 3ms/step - loss: 0.3241 - accuracy: 0.9086 - val_loss: 0.1490 - val_accuracy: 0.9556\n",
            "Epoch 2/10\n",
            "1875/1875 [==============================] - 5s 3ms/step - loss: 0.1593 - accuracy: 0.9511 - val_loss: 0.1096 - val_accuracy: 0.9665\n",
            "Epoch 3/10\n",
            "1875/1875 [==============================] - 6s 3ms/step - loss: 0.1250 - accuracy: 0.9607 - val_loss: 0.1043 - val_accuracy: 0.9684\n",
            "Epoch 4/10\n",
            "1875/1875 [==============================] - 5s 3ms/step - loss: 0.1063 - accuracy: 0.9661 - val_loss: 0.0950 - val_accuracy: 0.9716\n",
            "Epoch 5/10\n",
            "1875/1875 [==============================] - 7s 4ms/step - loss: 0.0945 - accuracy: 0.9700 - val_loss: 0.0913 - val_accuracy: 0.9722\n",
            "Epoch 6/10\n",
            "1875/1875 [==============================] - 6s 3ms/step - loss: 0.0867 - accuracy: 0.9721 - val_loss: 0.0940 - val_accuracy: 0.9724\n",
            "Epoch 7/10\n",
            "1875/1875 [==============================] - 5s 2ms/step - loss: 0.0802 - accuracy: 0.9742 - val_loss: 0.0912 - val_accuracy: 0.9716\n",
            "Epoch 8/10\n",
            "1875/1875 [==============================] - 8s 4ms/step - loss: 0.0728 - accuracy: 0.9758 - val_loss: 0.0866 - val_accuracy: 0.9723\n",
            "Epoch 9/10\n",
            "1875/1875 [==============================] - 6s 3ms/step - loss: 0.0690 - accuracy: 0.9770 - val_loss: 0.0987 - val_accuracy: 0.9691\n",
            "Epoch 10/10\n",
            "1875/1875 [==============================] - 4s 2ms/step - loss: 0.0648 - accuracy: 0.9787 - val_loss: 0.0950 - val_accuracy: 0.9711\n"
          ]
        }
      ]
    },
    {
      "cell_type": "code",
      "source": [
        "import matplotlib.pyplot as plt\n",
        "import numpy as np\n",
        "\n",
        "plt.figure(figsize=(12,9))\n",
        "plt.plot(np.arange(1,11), history_a.history['val_loss'], color='navy', linestyle=':')\n",
        "plt.plot(np.arange(1,11), history_b.history['val_loss'], color='tomato', linestyle='-.')\n",
        "plt.plot(np.arange(1,11), history_c.history['val_loss'], color='green', linestyle='-')\n",
        "\n",
        "plt.title('Losses',fontsize=20)\n",
        "plt.xlabel('epochs')\n",
        "plt.ylabel('Losses')\n",
        "plt.legend(['ReLu','BatchNorm+ReLU','batchnorm_LeakyReLU'],fontsize=12)\n",
        "plt.show()"
      ],
      "metadata": {
        "colab": {
          "base_uri": "https://localhost:8080/",
          "height": 572
        },
        "id": "3TG8_o8tA_de",
        "outputId": "41887925-6bb9-4c50-daff-8c2fedb8d9a7"
      },
      "execution_count": 81,
      "outputs": [
        {
          "output_type": "display_data",
          "data": {
            "text/plain": [
              "<Figure size 864x648 with 1 Axes>"
            ],
            "image/png": "[encoded data removed]"
          },
          "metadata": {
            "needs_background": "light"
          }
        }
      ]
    }
  ]
}