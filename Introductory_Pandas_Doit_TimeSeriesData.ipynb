{
  "nbformat": 4,
  "nbformat_minor": 0,
  "metadata": {
    "colab": {
      "name": "Introductory_Pandas_Doit_TimeSeriesData.ipynb",
      "provenance": [],
      "authorship_tag": "ABX9TyMuJlymSZQXiFUSEHMc2r4G",
      "include_colab_link": true
    },
    "kernelspec": {
      "name": "python3",
      "display_name": "Python 3"
    },
    "language_info": {
      "name": "python"
    }
  },
  "cells": [
    {
      "cell_type": "markdown",
      "metadata": {
        "id": "view-in-github",
        "colab_type": "text"
      },
      "source": [
        "<a href=\"https://colab.research.google.com/github/seodalzzz/ESAA/blob/Python_Machine_Learning/Introductory_Pandas_Doit_TimeSeriesData.ipynb\" target=\"_parent\"><img src=\"https://colab.research.google.com/assets/colab-badge.svg\" alt=\"Open In Colab\"/></a>"
      ]
    },
    {
      "cell_type": "code",
      "source": [
        "import pandas as pd"
      ],
      "metadata": {
        "id": "MWGgsby2Ga9w"
      },
      "execution_count": 8,
      "outputs": []
    },
    {
      "cell_type": "markdown",
      "source": [
        "#__12. 시계열 데이터__\n",
        "\n",
        "일정 시간 간격으로 어떤 값을 기록한 데이터에서는 시계열 데이터가 매우 중요함."
      ],
      "metadata": {
        "id": "-Wzb5AkvDac_"
      }
    },
    {
      "cell_type": "markdown",
      "source": [
        "##__12-1. datetime 오브젝트__\n",
        "\n",
        "datetime 라이브러리 : 날짜와 시간을 처리하는 등의 다양한 기능을 제공하는 파이썬 라이브러리\n",
        "  * date 오브젝트 : 날짜를 처리\n",
        "  * tiem 오브젝트 : 시간을 처리\n",
        "  * datetime 오브젝트 : 날짜와 시간을 모두 처리"
      ],
      "metadata": {
        "id": "7hhjBeo7Dp69"
      }
    },
    {
      "cell_type": "markdown",
      "source": [
        "###__1) datetime 오브젝트 사용하기__\n",
        "\n",
        "####(1) datetime 오브젝트를 사용하기 위해 라이브러리 불러오기"
      ],
      "metadata": {
        "id": "i0VhVSQ4D_PR"
      }
    },
    {
      "cell_type": "code",
      "execution_count": 1,
      "metadata": {
        "id": "UAe4ZxZ1DPm4"
      },
      "outputs": [],
      "source": [
        "from datetime import datetime"
      ]
    },
    {
      "cell_type": "markdown",
      "source": [
        "####(2) now, today 메서드를 이용해 현재 시간 출력"
      ],
      "metadata": {
        "id": "ondTUbBdEPyA"
      }
    },
    {
      "cell_type": "code",
      "source": [
        "now1=datetime.now()\n",
        "print(now1)"
      ],
      "metadata": {
        "colab": {
          "base_uri": "https://localhost:8080/"
        },
        "id": "5kilFbWhET-i",
        "outputId": "a3f2ffc4-50c2-44ca-d551-3115079c40a7"
      },
      "execution_count": 22,
      "outputs": [
        {
          "output_type": "stream",
          "name": "stdout",
          "text": [
            "2022-04-11 05:41:34.824014\n"
          ]
        }
      ]
    },
    {
      "cell_type": "code",
      "source": [
        "now2=datetime.today()\n",
        "print(now2)"
      ],
      "metadata": {
        "colab": {
          "base_uri": "https://localhost:8080/"
        },
        "id": "LY4cSu0wEZ50",
        "outputId": "e9af2c5f-f42d-4604-d4ce-6ea38d88f2a9"
      },
      "execution_count": 3,
      "outputs": [
        {
          "output_type": "stream",
          "name": "stdout",
          "text": [
            "2022-04-11 05:21:23.355959\n"
          ]
        }
      ]
    },
    {
      "cell_type": "markdown",
      "source": [
        "####(3) datetime 오브젝트를 생성할 때 시간을 직접 입력하여 인자로 전달\n",
        "  * 입력한 시간을 바탕으로 datetime 오브젝트가 생성 됨"
      ],
      "metadata": {
        "id": "0-2Aw4wcEdeM"
      }
    },
    {
      "cell_type": "code",
      "source": [
        "t1=datetime.now()\n",
        "t2=datetime(1970,1,1)\n",
        "t3=datetime(1970,12,12,13,24,24)\n",
        "\n",
        "print(t1)\n",
        "print(t2)\n",
        "print(t3)\n"
      ],
      "metadata": {
        "colab": {
          "base_uri": "https://localhost:8080/"
        },
        "id": "U4X_r808Ep5U",
        "outputId": "48118ef2-0dcb-4395-8466-5e9f804b855f"
      },
      "execution_count": 4,
      "outputs": [
        {
          "output_type": "stream",
          "name": "stdout",
          "text": [
            "2022-04-11 05:22:54.121947\n",
            "1970-01-01 00:00:00\n",
            "1970-12-12 13:24:24\n"
          ]
        }
      ]
    },
    {
      "cell_type": "markdown",
      "source": [
        "####(4) datetime 오브젝트를 이용하여 시간 계산"
      ],
      "metadata": {
        "id": "wHwfKIZIE0GI"
      }
    },
    {
      "cell_type": "code",
      "source": [
        "# 두 datetime 오브젝트의 차이를 구함\n",
        "\n",
        "diff1=t1-t2\n",
        "print(diff1)\n",
        "print(type(diff1))"
      ],
      "metadata": {
        "colab": {
          "base_uri": "https://localhost:8080/"
        },
        "id": "GTRMRFQNE5xM",
        "outputId": "14136629-6dfa-46d5-dbfb-61dea7448aad"
      },
      "execution_count": 5,
      "outputs": [
        {
          "output_type": "stream",
          "name": "stdout",
          "text": [
            "19093 days, 5:22:54.121947\n",
            "<class 'datetime.timedelta'>\n"
          ]
        }
      ]
    },
    {
      "cell_type": "code",
      "source": [
        "diff2=t2-t1\n",
        "\n",
        "print(diff2)\n",
        "print(type(diff2))"
      ],
      "metadata": {
        "colab": {
          "base_uri": "https://localhost:8080/"
        },
        "id": "DKXWlKcMFBjp",
        "outputId": "3c77f7df-e523-4142-aebc-3546ea6eb70a"
      },
      "execution_count": 6,
      "outputs": [
        {
          "output_type": "stream",
          "name": "stdout",
          "text": [
            "-19094 days, 18:37:05.878053\n",
            "<class 'datetime.timedelta'>\n"
          ]
        }
      ]
    },
    {
      "cell_type": "markdown",
      "source": [
        "###__2) 테슬라 주식 데이터로 시간 계산하기__\n",
        "\n",
        "pandas-datareader 라이브러리를 이용하여 주식 데이터 불러오기"
      ],
      "metadata": {
        "id": "VhUtLrLUFmdZ"
      }
    },
    {
      "cell_type": "code",
      "source": [
        "pip install pandas-datareader"
      ],
      "metadata": {
        "colab": {
          "base_uri": "https://localhost:8080/"
        },
        "id": "G3nloyhYFtsn",
        "outputId": "4fc8c364-a2c6-426e-a9b9-71d029141197"
      },
      "execution_count": 45,
      "outputs": [
        {
          "output_type": "stream",
          "name": "stdout",
          "text": [
            "Requirement already satisfied: pandas-datareader in /usr/local/lib/python3.7/dist-packages (0.9.0)\n",
            "Requirement already satisfied: lxml in /usr/local/lib/python3.7/dist-packages (from pandas-datareader) (4.2.6)\n",
            "Requirement already satisfied: pandas>=0.23 in /usr/local/lib/python3.7/dist-packages (from pandas-datareader) (1.3.5)\n",
            "Requirement already satisfied: requests>=2.19.0 in /usr/local/lib/python3.7/dist-packages (from pandas-datareader) (2.23.0)\n",
            "Requirement already satisfied: python-dateutil>=2.7.3 in /usr/local/lib/python3.7/dist-packages (from pandas>=0.23->pandas-datareader) (2.8.2)\n",
            "Requirement already satisfied: numpy>=1.17.3 in /usr/local/lib/python3.7/dist-packages (from pandas>=0.23->pandas-datareader) (1.21.5)\n",
            "Requirement already satisfied: pytz>=2017.3 in /usr/local/lib/python3.7/dist-packages (from pandas>=0.23->pandas-datareader) (2018.9)\n",
            "Requirement already satisfied: six>=1.5 in /usr/local/lib/python3.7/dist-packages (from python-dateutil>=2.7.3->pandas>=0.23->pandas-datareader) (1.15.0)\n",
            "Requirement already satisfied: idna<3,>=2.5 in /usr/local/lib/python3.7/dist-packages (from requests>=2.19.0->pandas-datareader) (2.10)\n",
            "Requirement already satisfied: certifi>=2017.4.17 in /usr/local/lib/python3.7/dist-packages (from requests>=2.19.0->pandas-datareader) (2021.10.8)\n",
            "Requirement already satisfied: chardet<4,>=3.0.2 in /usr/local/lib/python3.7/dist-packages (from requests>=2.19.0->pandas-datareader) (3.0.4)\n",
            "Requirement already satisfied: urllib3!=1.25.0,!=1.25.1,<1.26,>=1.21.1 in /usr/local/lib/python3.7/dist-packages (from requests>=2.19.0->pandas-datareader) (1.24.3)\n"
          ]
        }
      ]
    },
    {
      "cell_type": "markdown",
      "source": [
        "####(1) 테슬라의 주식 데이터 내려받아 data 폴더 안에 저장"
      ],
      "metadata": {
        "id": "usGDUkYoGI9x"
      }
    },
    {
      "cell_type": "code",
      "source": [
        "pd.core.common.is_list_like=pd.api.types.is_list_like\n",
        "import pandas_datareader as pdr\n",
        "\n",
        "#tesla에는 데이터 프레임이 저장됨\n",
        "tesla=pdr.get_data_quandl('TSLA',api_key='Z8WaLfsmb9PvXEyqnE6E')\n",
        "\n",
        "#tesla에 저장된 데이터 프레임을 파일로 저장\n",
        "tesla.to_csv('tesla_stock_quandl.csv')\n"
      ],
      "metadata": {
        "id": "IBpztuMBGTSW"
      },
      "execution_count": 19,
      "outputs": []
    },
    {
      "cell_type": "markdown",
      "source": [
        "####(2) tesla 데이터프레임 확인\n",
        "  * Date 열은 문자열로 저장되어 있음"
      ],
      "metadata": {
        "id": "I0fP2KR4H9sq"
      }
    },
    {
      "cell_type": "code",
      "source": [
        "print(tesla.head())"
      ],
      "metadata": {
        "colab": {
          "base_uri": "https://localhost:8080/"
        },
        "id": "kRaWhZaSIJL7",
        "outputId": "afbb5683-b5e5-43ba-b7cd-d65bdee7fa3c"
      },
      "execution_count": 23,
      "outputs": [
        {
          "output_type": "stream",
          "name": "stdout",
          "text": [
            "        Date    Open    High     Low   Close      Volume  ExDividend  \\\n",
            "0 2018-03-27  304.00  304.27  277.18  279.18  13696168.0         0.0   \n",
            "1 2018-03-26  307.34  307.59  291.36  304.18   8324639.0         0.0   \n",
            "2 2018-03-23  311.25  311.61  300.45  301.54   6600538.0         0.0   \n",
            "3 2018-03-22  313.89  318.82  308.18  309.10   4914307.0         0.0   \n",
            "4 2018-03-21  310.25  322.44  310.19  316.53   5927881.0         0.0   \n",
            "\n",
            "   SplitRatio  AdjOpen  AdjHigh  AdjLow  AdjClose   AdjVolume  \n",
            "0         1.0   304.00   304.27  277.18    279.18  13696168.0  \n",
            "1         1.0   307.34   307.59  291.36    304.18   8324639.0  \n",
            "2         1.0   311.25   311.61  300.45    301.54   6600538.0  \n",
            "3         1.0   313.89   318.82  308.18    309.10   4914307.0  \n",
            "4         1.0   310.25   322.44  310.19    316.53   5927881.0  \n"
          ]
        }
      ]
    },
    {
      "cell_type": "markdown",
      "source": [
        "####(3) Date 열을 Datetime 형으로 자료형 변환\n",
        "  * read_csv 메서드로 데이터 집합을 불러올 때 parse_dates 인자에 Date 열을 전달"
      ],
      "metadata": {
        "id": "g7lakdc8IMGT"
      }
    },
    {
      "cell_type": "code",
      "source": [
        "tesla=pd.read_csv('tesla_stock_quandl.csv',parse_dates=[0])\n",
        "print(tesla.info())"
      ],
      "metadata": {
        "colab": {
          "base_uri": "https://localhost:8080/"
        },
        "id": "-JzvvXDBIcWQ",
        "outputId": "47557622-3dd0-4efc-9501-d62ad5aabf75"
      },
      "execution_count": 20,
      "outputs": [
        {
          "output_type": "stream",
          "name": "stdout",
          "text": [
            "<class 'pandas.core.frame.DataFrame'>\n",
            "RangeIndex: 240 entries, 0 to 239\n",
            "Data columns (total 13 columns):\n",
            " #   Column      Non-Null Count  Dtype         \n",
            "---  ------      --------------  -----         \n",
            " 0   Date        240 non-null    datetime64[ns]\n",
            " 1   Open        240 non-null    float64       \n",
            " 2   High        240 non-null    float64       \n",
            " 3   Low         240 non-null    float64       \n",
            " 4   Close       240 non-null    float64       \n",
            " 5   Volume      240 non-null    float64       \n",
            " 6   ExDividend  240 non-null    float64       \n",
            " 7   SplitRatio  240 non-null    float64       \n",
            " 8   AdjOpen     240 non-null    float64       \n",
            " 9   AdjHigh     240 non-null    float64       \n",
            " 10  AdjLow      240 non-null    float64       \n",
            " 11  AdjClose    240 non-null    float64       \n",
            " 12  AdjVolume   240 non-null    float64       \n",
            "dtypes: datetime64[ns](1), float64(12)\n",
            "memory usage: 24.5 KB\n",
            "None\n"
          ]
        }
      ]
    },
    {
      "cell_type": "markdown",
      "source": [
        "####(4) Date 열의 자료형이 datetime 오브젝트로 변환됨.\n",
        "  * dt 접근자 사용 가능\n"
      ],
      "metadata": {
        "id": "13az4hHaIvLP"
      }
    },
    {
      "cell_type": "code",
      "source": [
        "print(tesla.loc[(tesla.Date.dt.year==2010)&(tesla.Date.dt.month==6)])"
      ],
      "metadata": {
        "colab": {
          "base_uri": "https://localhost:8080/"
        },
        "id": "UsMrMHM2I3eG",
        "outputId": "1e5e474c-b235-4bd0-a0ac-c2c357180f28"
      },
      "execution_count": 21,
      "outputs": [
        {
          "output_type": "stream",
          "name": "stdout",
          "text": [
            "Empty DataFrame\n",
            "Columns: [Date, Open, High, Low, Close, Volume, ExDividend, SplitRatio, AdjOpen, AdjHigh, AdjLow, AdjClose, AdjVolume]\n",
            "Index: []\n"
          ]
        }
      ]
    },
    {
      "cell_type": "markdown",
      "source": [
        "###__3_datetime 오브젝트와 인덱스 - DatetimeIndex__\n",
        "\n",
        "지금까지의 실습은 대부분데이터프레임의 행 번호를 인덱스로 사용했지만 datetime 오브젝트를 데이터 프레임의 인덱스로 설정하면 원하는 시간의 데이터를 바로 추출할 수 있음"
      ],
      "metadata": {
        "id": "QaVbTMSyJOjT"
      }
    },
    {
      "cell_type": "markdown",
      "source": [
        "###__datetime 오브젝트를 인덱스로 설정해 데이터 추출하기__\n"
      ],
      "metadata": {
        "id": "tpPbLhYMJnCk"
      }
    },
    {
      "cell_type": "markdown",
      "source": [
        "####(1) Date 열을 tesla 데이터프레임의 인덱스로 지정"
      ],
      "metadata": {
        "id": "8l1SthJXJroV"
      }
    },
    {
      "cell_type": "code",
      "source": [
        "tesla.index=tesla['Date']\n",
        "print(tesla.index)"
      ],
      "metadata": {
        "colab": {
          "base_uri": "https://localhost:8080/"
        },
        "id": "ZFJbUIqeJ5Bi",
        "outputId": "558895a3-f1a9-4367-a8c5-e4879dffff12"
      },
      "execution_count": 29,
      "outputs": [
        {
          "output_type": "stream",
          "name": "stdout",
          "text": [
            "DatetimeIndex(['2018-03-27', '2018-03-26', '2018-03-23', '2018-03-22',\n",
            "               '2018-03-21', '2018-03-20', '2018-03-19', '2018-03-16',\n",
            "               '2018-03-15', '2018-03-14',\n",
            "               ...\n",
            "               '2017-04-26', '2017-04-25', '2017-04-24', '2017-04-21',\n",
            "               '2017-04-20', '2017-04-19', '2017-04-18', '2017-04-17',\n",
            "               '2017-04-13', '2017-04-12'],\n",
            "              dtype='datetime64[ns]', name='Date', length=240, freq=None)\n"
          ]
        }
      ]
    },
    {
      "cell_type": "markdown",
      "source": [
        "####(2) datetime 오브젝트를 인덱스로 저장 후 원하는 시간의 데이터를 바로 추출"
      ],
      "metadata": {
        "id": "Aj7jPVE3KDy3"
      }
    },
    {
      "cell_type": "code",
      "source": [
        "print(tesla['2018'].iloc[:5,:5])"
      ],
      "metadata": {
        "colab": {
          "base_uri": "https://localhost:8080/"
        },
        "id": "qc_jeK-AKWDK",
        "outputId": "96b48d16-02ff-40ba-851a-2c2048be9a6c"
      },
      "execution_count": 34,
      "outputs": [
        {
          "output_type": "stream",
          "name": "stdout",
          "text": [
            "                 Date    Open    High     Low   Close\n",
            "Date                                                 \n",
            "2018-03-27 2018-03-27  304.00  304.27  277.18  279.18\n",
            "2018-03-26 2018-03-26  307.34  307.59  291.36  304.18\n",
            "2018-03-23 2018-03-23  311.25  311.61  300.45  301.54\n",
            "2018-03-22 2018-03-22  313.89  318.82  308.18  309.10\n",
            "2018-03-21 2018-03-21  310.25  322.44  310.19  316.53\n"
          ]
        },
        {
          "output_type": "stream",
          "name": "stderr",
          "text": [
            "/usr/local/lib/python3.7/dist-packages/ipykernel_launcher.py:1: FutureWarning: Indexing a DataFrame with a datetimelike index using a single string to slice the rows, like `frame[string]`, is deprecated and will be removed in a future version. Use `frame.loc[string]` instead.\n",
            "  \"\"\"Entry point for launching an IPython kernel.\n"
          ]
        }
      ]
    },
    {
      "cell_type": "markdown",
      "source": [
        "####(3) 2018년 3월의 데이터 **추출**"
      ],
      "metadata": {
        "id": "oVrFH9tsLBpI"
      }
    },
    {
      "cell_type": "code",
      "source": [
        "print(tesla['2018-03'].iloc[:,:5])"
      ],
      "metadata": {
        "colab": {
          "base_uri": "https://localhost:8080/"
        },
        "id": "Y1qhTzB0LFHB",
        "outputId": "5024630e-29ce-4879-d75b-c9d8f9c2f8ba"
      },
      "execution_count": 37,
      "outputs": [
        {
          "output_type": "stream",
          "name": "stdout",
          "text": [
            "                 Date    Open    High       Low   Close\n",
            "Date                                                   \n",
            "2018-03-27 2018-03-27  304.00  304.27  277.1800  279.18\n",
            "2018-03-26 2018-03-26  307.34  307.59  291.3600  304.18\n",
            "2018-03-23 2018-03-23  311.25  311.61  300.4500  301.54\n",
            "2018-03-22 2018-03-22  313.89  318.82  308.1800  309.10\n",
            "2018-03-21 2018-03-21  310.25  322.44  310.1900  316.53\n",
            "2018-03-20 2018-03-20  314.87  316.25  308.7600  310.55\n",
            "2018-03-19 2018-03-19  316.50  320.75  309.6700  313.56\n",
            "2018-03-16 2018-03-16  325.96  327.40  319.0700  321.35\n",
            "2018-03-15 2018-03-15  329.38  332.85  321.1000  325.60\n",
            "2018-03-14 2018-03-14  336.76  339.81  323.9300  326.63\n",
            "2018-03-13 2018-03-13  344.92  345.12  336.2635  341.84\n",
            "2018-03-12 2018-03-12  328.61  347.21  326.5000  345.51\n",
            "2018-03-09 2018-03-09  324.10  328.49  322.3700  327.17\n",
            "2018-03-08 2018-03-08  332.86  333.30  326.2740  329.10\n",
            "2018-03-07 2018-03-07  325.44  332.50  321.7400  332.30\n",
            "2018-03-06 2018-03-06  333.75  336.37  327.0300  328.20\n",
            "2018-03-05 2018-03-05  332.39  337.75  329.2929  333.35\n",
            "2018-03-02 2018-03-02  326.98  335.22  322.9700  335.12\n",
            "2018-03-01 2018-03-01  345.01  348.67  330.0700  330.93\n"
          ]
        },
        {
          "output_type": "stream",
          "name": "stderr",
          "text": [
            "/usr/local/lib/python3.7/dist-packages/ipykernel_launcher.py:1: FutureWarning: Indexing a DataFrame with a datetimelike index using a single string to slice the rows, like `frame[string]`, is deprecated and will be removed in a future version. Use `frame.loc[string]` instead.\n",
            "  \"\"\"Entry point for launching an IPython kernel.\n"
          ]
        }
      ]
    },
    {
      "cell_type": "markdown",
      "source": [
        "###__4) 시간 간격과 인덱스 - TimedeltaIndex__\n",
        "\n",
        "시간 간격을 인덱스로 지정하여 데이터를 추출\n",
        "  * ex. 주식 데이터에서 최초 5일간 수집된 데이터만 살펴보고 싶은 경우"
      ],
      "metadata": {
        "id": "gfIV0Kp9LnU2"
      }
    },
    {
      "cell_type": "markdown",
      "source": [
        "###__시간 간격을 인덱스로 지정해 데이터 추출하기__\n"
      ],
      "metadata": {
        "id": "VDnaJz9eL_5K"
      }
    },
    {
      "cell_type": "markdown",
      "source": [
        "####(1) Date 열에서 Date 열의 최솟값을 빼면 데이터를 수집한 이후에 시간이 얼마나 흘렀는지 알 수 있음"
      ],
      "metadata": {
        "id": "c8YAEbvJMGoP"
      }
    },
    {
      "cell_type": "code",
      "source": [
        "tesla['ref_date']=tesla['Date'] - tesla['Date'].min()\n",
        "print(tesla.head())"
      ],
      "metadata": {
        "colab": {
          "base_uri": "https://localhost:8080/"
        },
        "id": "7pa2xu_LMMjX",
        "outputId": "9cc5dee7-ca71-4d49-fd61-b8bd15de6c79"
      },
      "execution_count": 39,
      "outputs": [
        {
          "output_type": "stream",
          "name": "stdout",
          "text": [
            "                 Date    Open    High     Low   Close      Volume  ExDividend  \\\n",
            "Date                                                                            \n",
            "2018-03-27 2018-03-27  304.00  304.27  277.18  279.18  13696168.0         0.0   \n",
            "2018-03-26 2018-03-26  307.34  307.59  291.36  304.18   8324639.0         0.0   \n",
            "2018-03-23 2018-03-23  311.25  311.61  300.45  301.54   6600538.0         0.0   \n",
            "2018-03-22 2018-03-22  313.89  318.82  308.18  309.10   4914307.0         0.0   \n",
            "2018-03-21 2018-03-21  310.25  322.44  310.19  316.53   5927881.0         0.0   \n",
            "\n",
            "            SplitRatio  AdjOpen  AdjHigh  AdjLow  AdjClose   AdjVolume  \\\n",
            "Date                                                                     \n",
            "2018-03-27         1.0   304.00   304.27  277.18    279.18  13696168.0   \n",
            "2018-03-26         1.0   307.34   307.59  291.36    304.18   8324639.0   \n",
            "2018-03-23         1.0   311.25   311.61  300.45    301.54   6600538.0   \n",
            "2018-03-22         1.0   313.89   318.82  308.18    309.10   4914307.0   \n",
            "2018-03-21         1.0   310.25   322.44  310.19    316.53   5927881.0   \n",
            "\n",
            "           ref_date  \n",
            "Date                 \n",
            "2018-03-27 349 days  \n",
            "2018-03-26 348 days  \n",
            "2018-03-23 345 days  \n",
            "2018-03-22 344 days  \n",
            "2018-03-21 343 days  \n"
          ]
        }
      ]
    },
    {
      "cell_type": "markdown",
      "source": [
        "####(2) ref_date 열을인덱스로 지정"
      ],
      "metadata": {
        "id": "M36zUb5EMejM"
      }
    },
    {
      "cell_type": "code",
      "source": [
        "tesla.index=tesla['ref_date']\n",
        "print(tesla.iloc[:5,:5])"
      ],
      "metadata": {
        "colab": {
          "base_uri": "https://localhost:8080/"
        },
        "id": "iZTmqhSIMvYB",
        "outputId": "4e40ff4f-68a9-4d41-c3b1-b36d83e4d003"
      },
      "execution_count": 40,
      "outputs": [
        {
          "output_type": "stream",
          "name": "stdout",
          "text": [
            "               Date    Open    High     Low   Close\n",
            "ref_date                                           \n",
            "349 days 2018-03-27  304.00  304.27  277.18  279.18\n",
            "348 days 2018-03-26  307.34  307.59  291.36  304.18\n",
            "345 days 2018-03-23  311.25  311.61  300.45  301.54\n",
            "344 days 2018-03-22  313.89  318.82  308.18  309.10\n",
            "343 days 2018-03-21  310.25  322.44  310.19  316.53\n"
          ]
        }
      ]
    },
    {
      "cell_type": "markdown",
      "source": [
        "####(3) 데이터를 수집한 이후 최초 5일의 데이터를 추출"
      ],
      "metadata": {
        "id": "DT50fZYGM1bt"
      }
    },
    {
      "cell_type": "code",
      "source": [
        "print(tesla['5 days':].iloc[:5,:5])"
      ],
      "metadata": {
        "colab": {
          "base_uri": "https://localhost:8080/"
        },
        "id": "MRakkNpiM4X8",
        "outputId": "14f9820e-0f69-4152-86da-84cf298b650d"
      },
      "execution_count": 41,
      "outputs": [
        {
          "output_type": "stream",
          "name": "stdout",
          "text": [
            "               Date    Open      High     Low   Close\n",
            "ref_date                                             \n",
            "5 days   2017-04-17  302.70  304.0000  298.68  301.44\n",
            "1 days   2017-04-13  296.70  307.3900  295.30  304.00\n",
            "0 days   2017-04-12  306.34  308.4481  296.32  296.84\n"
          ]
        }
      ]
    },
    {
      "cell_type": "markdown",
      "source": [
        "###__5) 시간 범위와 인덱스__\n",
        "\n",
        "앞서 사용한 주식 데이터는 특정 일에 누락된 데이터가 없음. >>  만약 특정 일에 누락된 데이터도 포함시켜 데이터를 살펴보려면 임의로 시간 범위를 생성하여 인덱스로 지정"
      ],
      "metadata": {
        "id": "68ZzQdZjM-qU"
      }
    },
    {
      "cell_type": "markdown",
      "source": [
        "###__시간 범위 생성해 인덱스로 지정하기__\n"
      ],
      "metadata": {
        "id": "aqicaIpaNMi5"
      }
    },
    {
      "cell_type": "markdown",
      "source": [
        "####(1) 에볼라 데이터 누락 확인 - 2015년1월1일"
      ],
      "metadata": {
        "id": "qcrvcBh_NQto"
      }
    },
    {
      "cell_type": "code",
      "source": [
        "ebola=pd.read_csv('country_timeseries.csv',parse_dates=[0])\n",
        "print(ebola.iloc[:5,:5])"
      ],
      "metadata": {
        "colab": {
          "base_uri": "https://localhost:8080/"
        },
        "id": "sxbT0HfzNXBN",
        "outputId": "76f8061a-cb6c-4b74-fdea-5e5fcf671110"
      },
      "execution_count": 48,
      "outputs": [
        {
          "output_type": "stream",
          "name": "stdout",
          "text": [
            "        Date  Day  Cases_Guinea  Cases_Liberia  Cases_SierraLeone\n",
            "0 2015-01-05  289        2776.0            NaN            10030.0\n",
            "1 2015-01-04  288        2775.0            NaN             9780.0\n",
            "2 2015-01-03  287        2769.0         8166.0             9722.0\n",
            "3 2015-01-02  286           NaN         8157.0                NaN\n",
            "4 2014-12-31  284        2730.0         8115.0             9633.0\n"
          ]
        }
      ]
    },
    {
      "cell_type": "markdown",
      "source": [
        "####(2) 에볼라 데이터 누락 확인 - 2014년3월23일"
      ],
      "metadata": {
        "id": "hPMU-pYLcuaG"
      }
    },
    {
      "cell_type": "code",
      "source": [
        "print(ebola.iloc[-5:,:5])"
      ],
      "metadata": {
        "colab": {
          "base_uri": "https://localhost:8080/"
        },
        "id": "wtYYIFrFczKQ",
        "outputId": "1e66fc70-b11e-4aab-9d86-152f335634cd"
      },
      "execution_count": 49,
      "outputs": [
        {
          "output_type": "stream",
          "name": "stdout",
          "text": [
            "          Date  Day  Cases_Guinea  Cases_Liberia  Cases_SierraLeone\n",
            "117 2014-03-27    5         103.0            8.0                6.0\n",
            "118 2014-03-26    4          86.0            NaN                NaN\n",
            "119 2014-03-25    3          86.0            NaN                NaN\n",
            "120 2014-03-24    2          86.0            NaN                NaN\n",
            "121 2014-03-22    0          49.0            NaN                NaN\n"
          ]
        }
      ]
    },
    {
      "cell_type": "markdown",
      "source": [
        "####(3) date_range 메서드를 사용하여 2014년 12월 31일부터 2015년 1월 5일 사이의 시간 인덱스 생성"
      ],
      "metadata": {
        "id": "VTH8cRpJc4Sw"
      }
    },
    {
      "cell_type": "code",
      "source": [
        "head_range=pd.date_range(start='2014-12-31',end='2015-01-05')\n",
        "print(head_range)"
      ],
      "metadata": {
        "colab": {
          "base_uri": "https://localhost:8080/"
        },
        "id": "AXnjEREhdA9Z",
        "outputId": "4d6d6e28-e301-4a17-d22f-694e913c895f"
      },
      "execution_count": 50,
      "outputs": [
        {
          "output_type": "stream",
          "name": "stdout",
          "text": [
            "DatetimeIndex(['2014-12-31', '2015-01-01', '2015-01-02', '2015-01-03',\n",
            "               '2015-01-04', '2015-01-05'],\n",
            "              dtype='datetime64[ns]', freq='D')\n"
          ]
        }
      ]
    },
    {
      "cell_type": "markdown",
      "source": [
        "####(6) 원본 데이터 손상을 방지하기 위해 ebola 데이터프레임의 앞쪽 5개의 데이터를 추출하여 새로운 데이터프레임 만들기\n",
        "  * Date 열을 인덱스로 먼저 지정해야 함"
      ],
      "metadata": {
        "id": "i0uh-BTFdHex"
      }
    },
    {
      "cell_type": "code",
      "source": [
        "ebola_5=ebola.head()\n",
        "ebola_5.index=ebola_5['Date']\n",
        "ebola_5.reindex(head_range)\n",
        "print(ebola_5.iloc[:5,:5])"
      ],
      "metadata": {
        "colab": {
          "base_uri": "https://localhost:8080/"
        },
        "id": "upRV1M7GdRlT",
        "outputId": "08735064-cede-4d5b-b154-9ea038e2d169"
      },
      "execution_count": 53,
      "outputs": [
        {
          "output_type": "stream",
          "name": "stdout",
          "text": [
            "                 Date  Day  Cases_Guinea  Cases_Liberia  Cases_SierraLeone\n",
            "Date                                                                      \n",
            "2015-01-05 2015-01-05  289        2776.0            NaN            10030.0\n",
            "2015-01-04 2015-01-04  288        2775.0            NaN             9780.0\n",
            "2015-01-03 2015-01-03  287        2769.0         8166.0             9722.0\n",
            "2015-01-02 2015-01-02  286           NaN         8157.0                NaN\n",
            "2014-12-31 2014-12-31  284        2730.0         8115.0             9633.0\n"
          ]
        }
      ]
    },
    {
      "cell_type": "markdown",
      "source": [
        "* 시간 범위를 index로 설정하면 DatetimeIndex 자료형이 만들어 짐.\n",
        "* DatetimeIndex의 freq 속성 값을 지정하면 시간 간격을 조절하여 DatetimeIndex를 만들 수 있음"
      ],
      "metadata": {
        "id": "-opF6RmCerT2"
      }
    }
  ]
}