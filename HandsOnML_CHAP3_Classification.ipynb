{
  "nbformat": 4,
  "nbformat_minor": 0,
  "metadata": {
    "colab": {
      "provenance": [],
      "collapsed_sections": [],
      "authorship_tag": "ABX9TyMGwWeEpXpv3iTtT3B3UMdo"
    },
    "kernelspec": {
      "name": "python3",
      "display_name": "Python 3"
    },
    "language_info": {
      "name": "python"
    }
  },
  "cells": [
    {
      "cell_type": "markdown",
      "source": [
        "#__CHAP 3. 분류__"
      ],
      "metadata": {
        "id": "-M9dxvePMh6p"
      }
    },
    {
      "cell_type": "code",
      "source": [
        "import matplotlib as mpl\n",
        "import matplotlib.pyplot as plt\n",
        "import numpy as np"
      ],
      "metadata": {
        "id": "tyF-oEjiWHGw"
      },
      "execution_count": 27,
      "outputs": []
    },
    {
      "cell_type": "markdown",
      "source": [
        "##__1. MNIST__\n",
        "* MNIST 데이터셋 : 고등학생과 미국 인구조사국 직원들이 손으로 쓴 70,000개의 작은 숫자 이미지 데이터\n",
        "  * 각 숫자에는 어떤 숫자인지 레이블이 존재"
      ],
      "metadata": {
        "id": "0mDqZLeXNNWm"
      }
    },
    {
      "cell_type": "code",
      "execution_count": 3,
      "metadata": {
        "colab": {
          "base_uri": "https://localhost:8080/"
        },
        "id": "6ezqjR_bMWvl",
        "outputId": "c88df824-d3c4-4562-c4d1-3287ea0124a9"
      },
      "outputs": [
        {
          "output_type": "execute_result",
          "data": {
            "text/plain": [
              "dict_keys(['data', 'target', 'frame', 'categories', 'feature_names', 'target_names', 'DESCR', 'details', 'url'])"
            ]
          },
          "metadata": {},
          "execution_count": 3
        }
      ],
      "source": [
        "# sklearn으로 MNIST 데이터셋 내려받기\n",
        "from sklearn.datasets import fetch_openml\n",
        "mnist=fetch_openml('mnist_784', version=1)\n",
        "mnist.keys()"
      ]
    },
    {
      "cell_type": "markdown",
      "source": [
        "* 데이터셋을 설명하는 DESCR 키\n",
        "* 샘플이 하나의 행, 특성이 하나의 열로 구성된 배열을 가진 data 키\n",
        "* 레이블 배열을 담은 target 키"
      ],
      "metadata": {
        "id": "s-vqzHf5NtJy"
      }
    },
    {
      "cell_type": "code",
      "source": [
        "X, y = mnist[\"data\"], mnist[\"target\"]\n",
        "X=X.to_numpy()\n",
        "print(X.shape)\n",
        "print(y.shape)"
      ],
      "metadata": {
        "colab": {
          "base_uri": "https://localhost:8080/"
        },
        "id": "C9IoaxzhN8uC",
        "outputId": "9bc38725-277a-408c-b331-94d0c9ad1ef1"
      },
      "execution_count": 30,
      "outputs": [
        {
          "output_type": "stream",
          "name": "stdout",
          "text": [
            "(70000, 784)\n",
            "(70000,)\n"
          ]
        }
      ]
    },
    {
      "cell_type": "markdown",
      "source": [
        "* 70000개 이미지, 784개 특성 (28*28)\n",
        "  * 각 특성은 0~225 까지의 픽셀 강도(진하기)를 표현\n",
        "  "
      ],
      "metadata": {
        "id": "PeUIFlmYO2Qf"
      }
    },
    {
      "cell_type": "code",
      "source": [
        "X"
      ],
      "metadata": {
        "colab": {
          "base_uri": "https://localhost:8080/"
        },
        "id": "CC3iRT4oQjq6",
        "outputId": "76291788-aa30-4e9c-867f-14424b476845"
      },
      "execution_count": 31,
      "outputs": [
        {
          "output_type": "execute_result",
          "data": {
            "text/plain": [
              "array([[0., 0., 0., ..., 0., 0., 0.],\n",
              "       [0., 0., 0., ..., 0., 0., 0.],\n",
              "       [0., 0., 0., ..., 0., 0., 0.],\n",
              "       ...,\n",
              "       [0., 0., 0., ..., 0., 0., 0.],\n",
              "       [0., 0., 0., ..., 0., 0., 0.],\n",
              "       [0., 0., 0., ..., 0., 0., 0.]])"
            ]
          },
          "metadata": {},
          "execution_count": 31
        }
      ]
    },
    {
      "cell_type": "code",
      "source": [
        "# 이미지 하나 확인\n",
        "# 샘플의 특성 벡터를 추출해서 28*28 배열로 크기를 바꾸고 맷플롯립의 imshow()함수 사용\n",
        "\n",
        "some_digit=X[0]\n",
        "some_digit_image = some_digit.reshape(28,28)\n",
        "\n",
        "plt.imshow(some_digit_image, cmap=\"binary\")\n",
        "plt.axis(\"off\")\n",
        "plt.show()"
      ],
      "metadata": {
        "colab": {
          "base_uri": "https://localhost:8080/",
          "height": 248
        },
        "id": "nAIGj8S2PICu",
        "outputId": "5da82083-f4fc-4dbe-d9c8-9ce1c9e3dc26"
      },
      "execution_count": 33,
      "outputs": [
        {
          "output_type": "display_data",
          "data": {
            "text/plain": [
              "<Figure size 432x288 with 1 Axes>"
            ],
            "image/png": "[encoded data removed]"
          },
          "metadata": {
            "needs_background": "light"
          }
        }
      ]
    },
    {
      "cell_type": "code",
      "source": [
        "y[0]\n",
        "y=y.astype(np.uint8)"
      ],
      "metadata": {
        "id": "43eO8G64V7ng"
      },
      "execution_count": 34,
      "outputs": []
    },
    {
      "cell_type": "code",
      "source": [
        "# 테스트 데이터 세트 분리\n",
        "X_train, X_test, y_train, y_test = X[:60000],X[60000:],y[:60000],y[60000:]"
      ],
      "metadata": {
        "id": "QIvZMlsIWR31"
      },
      "execution_count": 36,
      "outputs": []
    },
    {
      "cell_type": "markdown",
      "source": [
        "##__2. 이진 분류기 훈련__"
      ],
      "metadata": {
        "id": "cH3K8OQtWqRV"
      }
    },
    {
      "cell_type": "markdown",
      "source": [
        "* 5-감지기 : 5와 5가 아닌 숫자를 분류하는 이진 분류기"
      ],
      "metadata": {
        "id": "P_QPzw9XWv9w"
      }
    },
    {
      "cell_type": "code",
      "source": [
        "y_train_5=(y_train==5)\n",
        "y_test_5=(y_test==5)"
      ],
      "metadata": {
        "id": "vsiiiuE_W1Yh"
      },
      "execution_count": 37,
      "outputs": []
    },
    {
      "cell_type": "markdown",
      "source": [
        " * SGDClassifier 클래스 사용"
      ],
      "metadata": {
        "id": "uW5mTEh3Yx24"
      }
    },
    {
      "cell_type": "code",
      "source": [
        "from sklearn.linear_model import SGDClassifier\n",
        "\n",
        "sgd_clf=SGDClassifier(random_state=42)\n",
        "sgd_clf.fit(X_train, y_train_5)"
      ],
      "metadata": {
        "colab": {
          "base_uri": "https://localhost:8080/"
        },
        "id": "lGc6NEcFY6aJ",
        "outputId": "aa2fdd4a-1a15-4fbe-f116-81b997c7e316"
      },
      "execution_count": 39,
      "outputs": [
        {
          "output_type": "execute_result",
          "data": {
            "text/plain": [
              "SGDClassifier(random_state=42)"
            ]
          },
          "metadata": {},
          "execution_count": 39
        }
      ]
    },
    {
      "cell_type": "code",
      "source": [
        "#모델을 사용해 숫자 5의 이미지를 감지\n",
        "sgd_clf.predict([some_digit])"
      ],
      "metadata": {
        "colab": {
          "base_uri": "https://localhost:8080/"
        },
        "id": "6g9RJTvKZHy1",
        "outputId": "46526425-c535-4f8c-b01d-e0d0740f5783"
      },
      "execution_count": 40,
      "outputs": [
        {
          "output_type": "execute_result",
          "data": {
            "text/plain": [
              "array([ True])"
            ]
          },
          "metadata": {},
          "execution_count": 40
        }
      ]
    },
    {
      "cell_type": "markdown",
      "source": [
        "##__3. 성능 측정__\n"
      ],
      "metadata": {
        "id": "Os_fC5Q2ZQIM"
      }
    },
    {
      "cell_type": "markdown",
      "source": [
        "###1) 교차 검증을 사용한 정확도 측정\n"
      ],
      "metadata": {
        "id": "V-TA1sdrZWvs"
      }
    },
    {
      "cell_type": "markdown",
      "source": [
        "* 사이킷런이 제공하는 기능보다 교차 검증 과정을 더 많이 제어해야 할 경우 직접 교차검증을 구현\n",
        "* StratifiedKFold는 클래스별 비율이 유지되도록 폴드를 만들기 위해 계층적 샘플링을 수행함"
      ],
      "metadata": {
        "id": "fKkpCObcZe2G"
      }
    },
    {
      "cell_type": "code",
      "source": [
        "# 교차검증 구현\n",
        "from sklearn.model_selection import StratifiedKFold\n",
        "from sklearn.base import clone\n",
        "\n",
        "skfolds=StratifiedKFold(n_splits=3)\n",
        "\n",
        "for train_index, test_index in skfolds.split(X_train, y_train_5):\n",
        "  clone_clf=clone(sgd_clf)\n",
        "  X_train_folds=X_train[train_index]\n",
        "  y_train_folds=y_train_5[train_index]\n",
        "  X_test_fold=X_train[test_index]\n",
        "  y_test_fold=y_train_5[test_index]\n",
        "\n",
        "  clone_clf.fit(X_train_folds,y_train_folds)\n",
        "  y_pred=clone_clf.predict(X_test_fold)\n",
        "  n_correct=sum(y_pred==y_test_fold)\n",
        "  print(n_correct /len(y_pred))"
      ],
      "metadata": {
        "colab": {
          "base_uri": "https://localhost:8080/"
        },
        "id": "3EMtzqYrZds0",
        "outputId": "e7f52623-d54b-4de5-feb2-65a0bbf45417"
      },
      "execution_count": 43,
      "outputs": [
        {
          "output_type": "stream",
          "name": "stdout",
          "text": [
            "0.95035\n",
            "0.96035\n",
            "0.9604\n"
          ]
        }
      ]
    },
    {
      "cell_type": "markdown",
      "source": [
        "* cross_val_score() 함수로 폴드가 3개인 k-fold 교차 검증을 사용해 SGDClassifier 모델을 평가\n",
        "* k-fold 교차 검증은 훈련 세트를 k개의 폴드로 나누어 각 폴드에 대해 예측을 만들고 평가하기 위해 나머지 폴드로 훈련시킨 모델을 사용"
      ],
      "metadata": {
        "id": "sGlWkec3brY7"
      }
    },
    {
      "cell_type": "code",
      "source": [
        "from sklearn.model_selection import cross_val_score\n",
        "cross_val_score(sgd_clf,X_train, y_train_5, cv=3, scoring=\"accuracy\")"
      ],
      "metadata": {
        "colab": {
          "base_uri": "https://localhost:8080/"
        },
        "id": "0qP_psQfcFHO",
        "outputId": "ebc75ea9-6f9b-421f-8d1c-97c470bd4b36"
      },
      "execution_count": 45,
      "outputs": [
        {
          "output_type": "execute_result",
          "data": {
            "text/plain": [
              "array([0.95035, 0.96035, 0.9604 ])"
            ]
          },
          "metadata": {},
          "execution_count": 45
        }
      ]
    },
    {
      "cell_type": "markdown",
      "source": [
        "> 모든 교차 검증 폴드에 대해 정확도가 95% 이상"
      ],
      "metadata": {
        "id": "erA0RkbudEM3"
      }
    },
    {
      "cell_type": "markdown",
      "source": [
        "* 모든 이미지를 무조건 '5 아님' 클래스로 분류하는 더미 분류기"
      ],
      "metadata": {
        "id": "6vLG7TLKdIPu"
      }
    },
    {
      "cell_type": "code",
      "source": [
        "from sklearn.base import BaseEstimator\n",
        "\n",
        "class Never5Classifier(BaseEstimator):\n",
        "  def fit(self, X, y=None):\n",
        "    return self\n",
        "  def predict(self,X):\n",
        "    return np.zeros((len(X),1), dtype=bool)"
      ],
      "metadata": {
        "id": "IhC9Y4mrdBP5"
      },
      "execution_count": 46,
      "outputs": []
    },
    {
      "cell_type": "code",
      "source": [
        "never_5_clf=Never5Classifier()\n",
        "cross_val_score(never_5_clf,X_train,y_train_5,cv=3, scoring=\"accuracy\")"
      ],
      "metadata": {
        "colab": {
          "base_uri": "https://localhost:8080/"
        },
        "id": "pNxTo-_-dhWy",
        "outputId": "3e8a0374-f3c0-4aae-cff3-f639c4eab112"
      },
      "execution_count": 47,
      "outputs": [
        {
          "output_type": "execute_result",
          "data": {
            "text/plain": [
              "array([0.91125, 0.90855, 0.90915])"
            ]
          },
          "metadata": {},
          "execution_count": 47
        }
      ]
    },
    {
      "cell_type": "markdown",
      "source": [
        "> 이미지의 10% 정도만 숫자 5이기 때문에 무조건 '5 아님'으로 예측하면 정확히 맞출 확률이 90%\n",
        "\n",
        "* 특히 불균형한 데이터셋을 다룰 때 정확도를 분류기의 성능 측정 지표로 선호하지 않음"
      ],
      "metadata": {
        "id": "MNaNcf8cd2v2"
      }
    },
    {
      "cell_type": "markdown",
      "source": [
        "###2) 오차 행렬\n",
        "\n",
        "* 클래스 A의 샘플이 클래스 B로 분류된 횟수 측정\n",
        "\n",
        "* 실제 타깃과 비교할 수 있도록 먼저 예측값을 만들어야 함\n",
        "  * 테스트세트는 여기서 사용하면 안됨 >> cross_val_predict() 함수 사용\n",
        "\n",
        "* cross_val_predict()\n",
        "  * cross_val_score() 함수처럼 k-fold 교차 검증을 수행하지만 평가 점수를 반환하지 않고 각 테스트 폴드에서 얻은 예측을 반환"
      ],
      "metadata": {
        "id": "9mXkfLjeeN5-"
      }
    },
    {
      "cell_type": "code",
      "source": [
        "from  sklearn.model_selection import cross_val_predict\n",
        "\n",
        "y_train_pred=cross_val_predict(sgd_clf, X_train, y_train_5, cv=3)\n",
        "\n",
        "from sklearn.metrics import confusion_matrix\n",
        "confusion_matrix(y_train_5,y_train_pred)"
      ],
      "metadata": {
        "colab": {
          "base_uri": "https://localhost:8080/"
        },
        "id": "WD1UhCAgemV6",
        "outputId": "f6c8f7d6-1913-4dc5-99c9-f414c9181356"
      },
      "execution_count": 48,
      "outputs": [
        {
          "output_type": "execute_result",
          "data": {
            "text/plain": [
              "array([[53892,   687],\n",
              "       [ 1891,  3530]])"
            ]
          },
          "metadata": {},
          "execution_count": 48
        }
      ]
    },
    {
      "cell_type": "markdown",
      "source": [
        "* 오차 행렬의 행 : 실제 클래스\n",
        "* 오차 행렬을 열 : 예측한 클래스"
      ],
      "metadata": {
        "id": "nX4y7IXMfPQs"
      }
    },
    {
      "cell_type": "code",
      "source": [
        "#완벽한 분류기일 경우\n",
        "y_train_perfect_predictions=y_train_5\n",
        "confusion_matrix(y_train_5,y_train_perfect_predictions)"
      ],
      "metadata": {
        "colab": {
          "base_uri": "https://localhost:8080/"
        },
        "id": "FumxnS1KfYhv",
        "outputId": "0b49116b-49fc-4840-d722-1f342462f7c2"
      },
      "execution_count": 49,
      "outputs": [
        {
          "output_type": "execute_result",
          "data": {
            "text/plain": [
              "array([[54579,     0],\n",
              "       [    0,  5421]])"
            ]
          },
          "metadata": {},
          "execution_count": 49
        }
      ]
    },
    {
      "cell_type": "markdown",
      "source": [
        "* 정밀도 : 양성 예측의 정확도\n",
        "  * 정밀도 = (실제양성&예측양성)/(예측양성)\n",
        "  * 예측 양성이 실제 양성일 확률\n",
        "\n",
        "* 재현율(민감도) : 분류기가 정확하게 감지한 양성 샘플의 비율\n",
        "  * 재현율 = (실제양성&예측양성)/(실제양성) \n",
        "  * 실제 양성을 양성으로 예측할 확률"
      ],
      "metadata": {
        "id": "qsMWzmlSflai"
      }
    },
    {
      "cell_type": "markdown",
      "source": [
        "###3) 정밀도와 재현율"
      ],
      "metadata": {
        "id": "AI4XR8IPhXLW"
      }
    },
    {
      "cell_type": "code",
      "source": [
        "from sklearn.metrics import precision_score, recall_score\n",
        "print(precision_score(y_train_5, y_train_pred))\n",
        "print(recall_score(y_train_5, y_train_pred))"
      ],
      "metadata": {
        "colab": {
          "base_uri": "https://localhost:8080/"
        },
        "id": "c0xEMfZzhaIo",
        "outputId": "48c6b4a1-a261-450e-80a9-0170c8ba57bf"
      },
      "execution_count": 50,
      "outputs": [
        {
          "output_type": "stream",
          "name": "stdout",
          "text": [
            "0.8370879772350012\n",
            "0.6511713705958311\n"
          ]
        }
      ]
    },
    {
      "cell_type": "markdown",
      "source": [
        "> 5로 판별된 이미지 중 83%만 정확함\n",
        "\n",
        "> 전체 5 이미지 중에서 65%만 감지함"
      ],
      "metadata": {
        "id": "aaLxniEuifWZ"
      }
    },
    {
      "cell_type": "markdown",
      "source": [
        "* F1-score\n",
        "  * 정밀도와 재현율의 조화평균\n",
        "  * F1-score=2/((1/정밀도)+(1/재현율))"
      ],
      "metadata": {
        "id": "uF-56Ox-iv1X"
      }
    },
    {
      "cell_type": "code",
      "source": [
        "from sklearn.metrics import f1_score\n",
        "f1_score(y_train_5, y_train_pred)\n"
      ],
      "metadata": {
        "colab": {
          "base_uri": "https://localhost:8080/"
        },
        "id": "y_xayH1Ki8PT",
        "outputId": "f252096e-a818-4558-e7f6-2de12f520a23"
      },
      "execution_count": 51,
      "outputs": [
        {
          "output_type": "execute_result",
          "data": {
            "text/plain": [
              "0.7325171197343846"
            ]
          },
          "metadata": {},
          "execution_count": 51
        }
      ]
    },
    {
      "cell_type": "markdown",
      "source": [
        "* 정밀도와 재현율이 비슷한 분류기에서는 F1 점수가 높음\n",
        "\n",
        "* 상황에 따라 정밀도가 중요할 수 도 있고 재현율이 중요할수도 있음"
      ],
      "metadata": {
        "id": "EIkp1x95jD-r"
      }
    },
    {
      "cell_type": "markdown",
      "source": [
        "###4) 정밀도/재현율 트레이드오프"
      ],
      "metadata": {
        "id": "PDH7AmrUjZ4A"
      }
    },
    {
      "cell_type": "markdown",
      "source": [
        "* SGDClassifier는 결정 함수를 사용하여 각 샘플의 점수를 계산 > 점수가 임곗값보다 크면 양성으로 분류\n",
        "  * 임곗값이 커지면 \n",
        "    - 실제양성을 음성으로 예측할 확률이 높아짐 > 재현율 감소\n",
        "    - 실제음성을 음성으로 예측할 확률이 높아짐 > 정밀도 증가\n",
        "  * 임곗값이 작아지면\n",
        "    - 실제음성을 양성으로 예측할 확률이 높아짐 > 정밀도 감소\n",
        "    - 실제양성을 양성으로 예측할 확률이 높아짐 > 재현율 증가\n"
      ],
      "metadata": {
        "id": "F8VfztpKjew1"
      }
    },
    {
      "cell_type": "markdown",
      "source": [
        "* 사이킷런에서 임곗값을 직접 지정할 수는 없지만 예측에 사용한 점수는 확인할 수 있음\n",
        "  * 분류기의 predict() 대신 decision_function() 메서드를 호출 > 점수를 기반으로 원하는 임곗값을 정해 예측을 만들 수 있음"
      ],
      "metadata": {
        "id": "9Ig1R-7qk0A7"
      }
    },
    {
      "cell_type": "code",
      "source": [
        "y_scores=sgd_clf.decision_function([some_digit])\n",
        "print(y_scores)\n",
        "threshold=0\n",
        "y_some_digit_pred=(y_scores>threshold)\n",
        "print(y_some_digit_pred)"
      ],
      "metadata": {
        "colab": {
          "base_uri": "https://localhost:8080/"
        },
        "id": "5O8-Rns2lIOO",
        "outputId": "6aa2993d-6dfc-4bd1-bbef-2787a623ef6b"
      },
      "execution_count": 55,
      "outputs": [
        {
          "output_type": "stream",
          "name": "stdout",
          "text": [
            "[2164.22030239]\n",
            "[ True]\n"
          ]
        }
      ]
    },
    {
      "cell_type": "markdown",
      "source": [
        "> SGDClassifier의 임곗값이 0 >> predict()와 같은 결과"
      ],
      "metadata": {
        "id": "dvxSGyjKl7ee"
      }
    },
    {
      "cell_type": "code",
      "source": [
        "threshold=8000\n",
        "y_some_digit_pred=(y_scores>threshold)\n",
        "print(y_some_digit_pred)"
      ],
      "metadata": {
        "colab": {
          "base_uri": "https://localhost:8080/"
        },
        "id": "Lk8Geb1Dl-31",
        "outputId": "285a4f69-ab5f-4555-f306-f6496476295c"
      },
      "execution_count": 57,
      "outputs": [
        {
          "output_type": "stream",
          "name": "stdout",
          "text": [
            "[False]\n"
          ]
        }
      ]
    },
    {
      "cell_type": "markdown",
      "source": [
        "> 임곗값을 높이면 재현율이 줄어듦"
      ],
      "metadata": {
        "id": "k5zR-FkgmIAr"
      }
    },
    {
      "cell_type": "markdown",
      "source": [
        "* 적절한 임곗값 알아보기\n",
        "  * 모든 샘플에 대한 결정 점수를 구해 모든 임곗값에 대해 정밀도와 재현율을 계산"
      ],
      "metadata": {
        "id": "jDmIMw3XmeTC"
      }
    },
    {
      "cell_type": "code",
      "source": [
        "y_scores=cross_val_predict(sgd_clf, X_train, y_train_5, cv=3, method=\"decision_function\")"
      ],
      "metadata": {
        "id": "lzjimOpRmnc-"
      },
      "execution_count": 58,
      "outputs": []
    },
    {
      "cell_type": "code",
      "source": [
        "from sklearn.metrics import precision_recall_curve\n",
        "\n",
        "precisions, recalls, thresholds = precision_recall_curve(y_train_5, y_scores)"
      ],
      "metadata": {
        "id": "szI94zvTm5Dj"
      },
      "execution_count": 59,
      "outputs": []
    },
    {
      "cell_type": "code",
      "source": [
        "#맷플롯립으로 함수의 정밀도와 재현율 그래프 그리기\n",
        "def plot_precision_recall_vs_threshold(precisions,recalls,thresholds):\n",
        "  plt.plot(thresholds, precisions[:-1], \"b--\",label=\"정밀도\")\n",
        "  plt.plot(thresholds, recalls[:-1],\"g-\",label=\"재현율\")\n",
        "  [...]\n",
        "\n",
        "plot_precision_recall_vs_threshold(precisions, recalls, thresholds)\n",
        "plt.show()"
      ],
      "metadata": {
        "colab": {
          "base_uri": "https://localhost:8080/",
          "height": 265
        },
        "id": "z8SY1Q1TnDb7",
        "outputId": "07f70f73-9aa9-4ec4-8d27-910946ade892"
      },
      "execution_count": 62,
      "outputs": [
        {
          "output_type": "display_data",
          "data": {
            "text/plain": [
              "<Figure size 432x288 with 1 Axes>"
            ],
            "image/png": "[encoded data removed]"
          },
          "metadata": {
            "needs_background": "light"
          }
        }
      ]
    },
    {
      "cell_type": "markdown",
      "source": [
        "> 정밀도는 임곗값이 증가함에 따라 낮아질수도 있음"
      ],
      "metadata": {
        "id": "M9r2B_YLo3BK"
      }
    },
    {
      "cell_type": "markdown",
      "source": [
        "* 재현율에 대한 정밀도 곡선 그리기\n",
        "  * 정밀도가 급격하게 줄어드는 하강점 직전을 정밀도/재현율 트레이드오프로 선택"
      ],
      "metadata": {
        "id": "bTN_1Zj-pH2W"
      }
    },
    {
      "cell_type": "code",
      "source": [
        "# 정밀도 목푯값에 따른 임곗값 찾기 (90% 정밀도)\n",
        "threshold_90_precision=thresholds[np.argmax(precisions>=0.90)]\n",
        "print(threshold_90_precision)"
      ],
      "metadata": {
        "colab": {
          "base_uri": "https://localhost:8080/"
        },
        "id": "XKEUHt8zplb3",
        "outputId": "dfacfc76-ef79-46cc-bf89-903bdacfe115"
      },
      "execution_count": 64,
      "outputs": [
        {
          "output_type": "stream",
          "name": "stdout",
          "text": [
            "3370.0194991439557\n"
          ]
        }
      ]
    },
    {
      "cell_type": "markdown",
      "source": [
        "* 훈련 세트에 대한 예측 만들기"
      ],
      "metadata": {
        "id": "EgmsrzVzp0U4"
      }
    },
    {
      "cell_type": "code",
      "source": [
        "y_train_pred_90=(y_scores>=threshold_90_precision)\n",
        "print(precision_score(y_train_5, y_train_pred_90))\n",
        "print(recall_score(y_train_5, y_train_pred_90))"
      ],
      "metadata": {
        "colab": {
          "base_uri": "https://localhost:8080/"
        },
        "id": "4CS8bkg4p58q",
        "outputId": "7f732a47-5da5-486b-80e3-c75bf2ac7d09"
      },
      "execution_count": 66,
      "outputs": [
        {
          "output_type": "stream",
          "name": "stdout",
          "text": [
            "0.9000345901072293\n",
            "0.4799852425751706\n"
          ]
        }
      ]
    },
    {
      "cell_type": "markdown",
      "source": [
        "* 재현율이 너무 낮다면 높은 정밀도의 분류기는 전혀 유용하지 않음"
      ],
      "metadata": {
        "id": "HU6HltnrqnGv"
      }
    },
    {
      "cell_type": "markdown",
      "source": [
        "###5) ROC 곡선\n",
        "\n",
        "* 거짓 양성 비율에 대한 진짜 양성 비율의 곡선"
      ],
      "metadata": {
        "id": "f53tlRcsqq-v"
      }
    },
    {
      "cell_type": "code",
      "source": [
        "from sklearn.metrics import roc_curve\n",
        "\n",
        "fpr, tpr, thresholds = roc_curve(y_train_5, y_scores)\n"
      ],
      "metadata": {
        "id": "QH-y0otMrBf0"
      },
      "execution_count": 67,
      "outputs": []
    },
    {
      "cell_type": "code",
      "source": [
        "def plot_roc_curve(fpr,tpr,label=None):\n",
        "  plt.plot(fpr,tpr,linewidth=2, label=label)\n",
        "  plt.plot([0,1],[0,1],'k--')\n",
        "  [...]\n",
        "\n",
        "plot_roc_curve(fpr,tpr)\n",
        "plt.show()"
      ],
      "metadata": {
        "colab": {
          "base_uri": "https://localhost:8080/",
          "height": 265
        },
        "id": "b8KAZVLsrIdx",
        "outputId": "21dcad30-87b5-48b7-e3de-3ae1fc9d74a2"
      },
      "execution_count": 68,
      "outputs": [
        {
          "output_type": "display_data",
          "data": {
            "text/plain": [
              "<Figure size 432x288 with 1 Axes>"
            ],
            "image/png": "[encoded data removed]"
          },
          "metadata": {
            "needs_background": "light"
          }
        }
      ]
    },
    {
      "cell_type": "markdown",
      "source": [
        "* 재현율(tpr)이 높을수록 분류기가 만드는 거짓 양성(fpr)이 늘어남\n",
        "\n",
        "* 점선 : 완전한 랜덤 분류기의 ROC곡선\n",
        "  * 좋은 부류기는 점선에서 최대한 멀리 떨어져 있어야 함\n",
        "\n",
        "* 곡선 아래의 면적 AUC 로 분류기를 비교\n",
        "  * 완벽한 분류기는 ROC의 AUC가 1"
      ],
      "metadata": {
        "id": "MAe7WnuSrX-5"
      }
    },
    {
      "cell_type": "code",
      "source": [
        "from sklearn.metrics import roc_auc_score\n",
        "roc_auc_score(y_train_5, y_scores)"
      ],
      "metadata": {
        "colab": {
          "base_uri": "https://localhost:8080/"
        },
        "id": "_DD4RKRwrzhM",
        "outputId": "08abd38e-5822-4aa2-f98f-e254ce559e71"
      },
      "execution_count": 69,
      "outputs": [
        {
          "output_type": "execute_result",
          "data": {
            "text/plain": [
              "0.9604938554008616"
            ]
          },
          "metadata": {},
          "execution_count": 69
        }
      ]
    },
    {
      "cell_type": "markdown",
      "source": [
        "* 양성 클래스가 드물거나 거짓 음성보다 거짓 양성이 더 중요할 때 PR곡선을 사용하고 그렇지 않으면 ROC 곡선을 사용함"
      ],
      "metadata": {
        "id": "fwDIcycBr8ji"
      }
    },
    {
      "cell_type": "markdown",
      "source": [
        "* RandomForestClassifier를 훈련시켜 SGDClassifier의 ROC곡선과 AUC 점수를 비교\n",
        "  * predict_proba() 사용하여 결정 점수 구하기 \n",
        "\n",
        "* predict_proba() : 샘플이 행, 클래스가 열이고 샘플이 주어진 클래스에 속할 확률을 담은 배열을 반환\n"
      ],
      "metadata": {
        "id": "00gHzuEisIBR"
      }
    },
    {
      "cell_type": "code",
      "source": [
        "from sklearn.ensemble import RandomForestClassifier\n",
        "\n",
        "forest_clf = RandomForestClassifier(random_state=42)\n",
        "y_probas_forest = cross_val_predict(forest_clf, X_train, y_train_5, cv=3, method=\"predict_proba\")"
      ],
      "metadata": {
        "id": "b0cnSY2btVeV"
      },
      "execution_count": 70,
      "outputs": []
    },
    {
      "cell_type": "markdown",
      "source": [
        "* roc_curve() 함수에 점수 대신 클래스 확률을 전달"
      ],
      "metadata": {
        "id": "B6kBNrgstoA2"
      }
    },
    {
      "cell_type": "code",
      "source": [
        "y_scores_forest = y_probas_forest[:,1]\n",
        "fpr_forest, tpr_forest, thresholds_forest = roc_curve(y_train_5, y_scores_forest)\n",
        "\n",
        "plt.plot(fpr,tpr,\"b:\",label=\"SGD\")\n",
        "plot_roc_curve(fpr_forest, tpr_forest,\"랜덤포레스트\")\n",
        "plt.legend(loc=\"lower right\")\n",
        "plt.show()"
      ],
      "metadata": {
        "colab": {
          "base_uri": "https://localhost:8080/",
          "height": 701
        },
        "id": "2FW_IIJyt7GU",
        "outputId": "4d1eb91d-1233-425f-cb44-299f145f59a0"
      },
      "execution_count": 71,
      "outputs": [
        {
          "output_type": "stream",
          "name": "stderr",
          "text": [
            "/usr/local/lib/python3.7/dist-packages/matplotlib/backends/backend_agg.py:214: RuntimeWarning: Glyph 47004 missing from current font.\n",
            "  font.set_text(s, 0.0, flags=flags)\n",
            "/usr/local/lib/python3.7/dist-packages/matplotlib/backends/backend_agg.py:214: RuntimeWarning: Glyph 45924 missing from current font.\n",
            "  font.set_text(s, 0.0, flags=flags)\n",
            "/usr/local/lib/python3.7/dist-packages/matplotlib/backends/backend_agg.py:214: RuntimeWarning: Glyph 54252 missing from current font.\n",
            "  font.set_text(s, 0.0, flags=flags)\n",
            "/usr/local/lib/python3.7/dist-packages/matplotlib/backends/backend_agg.py:214: RuntimeWarning: Glyph 47112 missing from current font.\n",
            "  font.set_text(s, 0.0, flags=flags)\n",
            "/usr/local/lib/python3.7/dist-packages/matplotlib/backends/backend_agg.py:214: RuntimeWarning: Glyph 49828 missing from current font.\n",
            "  font.set_text(s, 0.0, flags=flags)\n",
            "/usr/local/lib/python3.7/dist-packages/matplotlib/backends/backend_agg.py:214: RuntimeWarning: Glyph 53944 missing from current font.\n",
            "  font.set_text(s, 0.0, flags=flags)\n",
            "/usr/local/lib/python3.7/dist-packages/matplotlib/backends/backend_agg.py:183: RuntimeWarning: Glyph 47004 missing from current font.\n",
            "  font.set_text(s, 0, flags=flags)\n",
            "/usr/local/lib/python3.7/dist-packages/matplotlib/backends/backend_agg.py:183: RuntimeWarning: Glyph 45924 missing from current font.\n",
            "  font.set_text(s, 0, flags=flags)\n",
            "/usr/local/lib/python3.7/dist-packages/matplotlib/backends/backend_agg.py:183: RuntimeWarning: Glyph 54252 missing from current font.\n",
            "  font.set_text(s, 0, flags=flags)\n",
            "/usr/local/lib/python3.7/dist-packages/matplotlib/backends/backend_agg.py:183: RuntimeWarning: Glyph 47112 missing from current font.\n",
            "  font.set_text(s, 0, flags=flags)\n",
            "/usr/local/lib/python3.7/dist-packages/matplotlib/backends/backend_agg.py:183: RuntimeWarning: Glyph 49828 missing from current font.\n",
            "  font.set_text(s, 0, flags=flags)\n",
            "/usr/local/lib/python3.7/dist-packages/matplotlib/backends/backend_agg.py:183: RuntimeWarning: Glyph 53944 missing from current font.\n",
            "  font.set_text(s, 0, flags=flags)\n"
          ]
        },
        {
          "output_type": "display_data",
          "data": {
            "text/plain": [
              "<Figure size 432x288 with 1 Axes>"
            ],
            "image/png": "[encoded data removed]"
          },
          "metadata": {
            "needs_background": "light"
          }
        }
      ]
    },
    {
      "cell_type": "markdown",
      "source": [
        "> 랜덤포레스트가 SGD보다 더 좋아 보임"
      ],
      "metadata": {
        "id": "bwqh_YgAuU8T"
      }
    },
    {
      "cell_type": "code",
      "source": [
        "roc_auc_score(y_train_5, y_scores_forest)"
      ],
      "metadata": {
        "colab": {
          "base_uri": "https://localhost:8080/"
        },
        "id": "5Dnw5Te7uXxS",
        "outputId": "581af2bf-473a-470c-a433-e1f9fd7e81ab"
      },
      "execution_count": 72,
      "outputs": [
        {
          "output_type": "execute_result",
          "data": {
            "text/plain": [
              "0.9983436731328145"
            ]
          },
          "metadata": {},
          "execution_count": 72
        }
      ]
    },
    {
      "cell_type": "markdown",
      "source": [
        "* 이진 분류기를 훈련시키는 방법 / 작업에 맞는 적절한 지표 선택 / 교차 검증을 사용한 평가 / 요구 사항에 맞는 정밀도,재현율 트레이드 오프 선택 / ROC 곡선과 AUC 점수를 사용한 여러 모델의 비교"
      ],
      "metadata": {
        "id": "3-5E6qwMudjZ"
      }
    },
    {
      "cell_type": "markdown",
      "source": [
        "##__4. 다중 분류__"
      ],
      "metadata": {
        "id": "c98g0Vcau1Ut"
      }
    },
    {
      "cell_type": "markdown",
      "source": [
        "* 둘 이상의 클래스를 구별\n",
        "\n",
        "* SGD분류기, 랜덤 포레스트 분류기, 나이브 베이즈 분류기와 같은 일부 알고리즘은 여러 개의 클래스를 직접 처리 가능\n",
        "* 로지스틱 회귀나 서포트 벡터 머신 분류기와 같은 알고리즘은 이진 분류만 가능함 (여러 개의 이진 분류기로 다중 분류 가능)\n",
        "\n",
        "  * OvR(OvA) 전략\n",
        "    * 각 클래스 하나씩만 분류하는 여러 개의 이진 분류기를 훈련시켜 각 분류기의 결정 점수 중에서 점수가 가장 높은 것을 예측 클래스로 선택\n",
        "  * OvO 전략\n",
        "    * 각 클래스의 조합마다 이진 분류기를 훈련시켜 가장 많이 양성으로 분류된 클래스를 선택 \n",
        "\n",
        "* SVM 같은 일부 알고리즘은 훈련 세트의 크기에 민감 > OvO선호\n",
        "\n",
        "* 다중 클래스 분류 작업에 이진 분류 알고리즘을 선택하면 사이킷런이 알고리즘에 따라 자동으로 OvR또는 OvO를 실행"
      ],
      "metadata": {
        "id": "4R-j8cPKu8Ze"
      }
    },
    {
      "cell_type": "code",
      "source": [
        "from sklearn.svm import SVC\n",
        "svm_clf = SVC()\n",
        "svm_clf.fit(X_train, y_train)\n",
        "svm_clf.predict([some_digit])"
      ],
      "metadata": {
        "colab": {
          "base_uri": "https://localhost:8080/"
        },
        "id": "meXehXcCwR-m",
        "outputId": "0abbf947-e3fe-4ff9-8e27-4ccf9ef47193"
      },
      "execution_count": 73,
      "outputs": [
        {
          "output_type": "execute_result",
          "data": {
            "text/plain": [
              "array([5], dtype=uint8)"
            ]
          },
          "metadata": {},
          "execution_count": 73
        }
      ]
    },
    {
      "cell_type": "code",
      "source": [
        "some_digit_scores=svm_clf.decision_function([some_digit])\n",
        "some_digit_scores"
      ],
      "metadata": {
        "colab": {
          "base_uri": "https://localhost:8080/"
        },
        "id": "wsBzlLaowfrt",
        "outputId": "1a2e25ab-9858-4a93-8e84-7e3390a30030"
      },
      "execution_count": 74,
      "outputs": [
        {
          "output_type": "execute_result",
          "data": {
            "text/plain": [
              "array([[ 1.72501977,  2.72809088,  7.2510018 ,  8.3076379 , -0.31087254,\n",
              "         9.3132482 ,  1.70975103,  2.76765202,  6.23049537,  4.84771048]])"
            ]
          },
          "metadata": {},
          "execution_count": 74
        }
      ]
    },
    {
      "cell_type": "markdown",
      "source": [
        "> 샘플 당 10개의 결정 점수를 반환"
      ],
      "metadata": {
        "id": "ia4sqoC8wmTo"
      }
    },
    {
      "cell_type": "code",
      "source": [
        "print(np.argmax(some_digit_scores))\n",
        "print(svm_clf.classes_)\n",
        "print(svm_clf.classes_[5])"
      ],
      "metadata": {
        "colab": {
          "base_uri": "https://localhost:8080/"
        },
        "id": "JZ22HzqOwp7_",
        "outputId": "6089a7c9-14fb-4c80-ec73-b9f970a4a785"
      },
      "execution_count": 77,
      "outputs": [
        {
          "output_type": "stream",
          "name": "stdout",
          "text": [
            "5\n",
            "[0 1 2 3 4 5 6 7 8 9]\n",
            "5\n"
          ]
        }
      ]
    },
    {
      "cell_type": "markdown",
      "source": [
        "* 사이킷런에서 OvO나 OvR을 사용하도록 강제하려면 OneVsOneClassifier나 OneVsRestClassifier를 이진 분류기 인스턴스를 만들어 객체를 생성할때 전달"
      ],
      "metadata": {
        "id": "iP3u47E2w5ZY"
      }
    },
    {
      "cell_type": "code",
      "source": [
        "# SVC 기반으로 OvR 전략을 사용하는 다중 분류기 만들기\n",
        "from sklearn.multiclass import OneVsRestClassifier\n",
        "ovr_clf=OneVsRestClassifier(SVC())\n",
        "ovr_clf.fit(X_train,y_train)\n",
        "print(ovr_clf.predict([some_digit]))\n",
        "print(len(ovr_clf.estimators_))"
      ],
      "metadata": {
        "colab": {
          "base_uri": "https://localhost:8080/"
        },
        "id": "GLxIbhIsxHgi",
        "outputId": "cd60095c-42aa-40c5-c7ad-76c17b05c09d"
      },
      "execution_count": 78,
      "outputs": [
        {
          "output_type": "stream",
          "name": "stdout",
          "text": [
            "[5]\n",
            "10\n"
          ]
        }
      ]
    },
    {
      "cell_type": "code",
      "source": [
        "#SGDClassifier\n",
        "sgd_clf.fit(X_train,y_train)\n",
        "sgd_clf.predict([some_digit])"
      ],
      "metadata": {
        "id": "iq-0jsexxgRc"
      },
      "execution_count": null,
      "outputs": []
    },
    {
      "cell_type": "code",
      "source": [
        "sgd_clf.decision_function([some_digit])"
      ],
      "metadata": {
        "id": "zHOeCzmax-5F"
      },
      "execution_count": null,
      "outputs": []
    },
    {
      "cell_type": "markdown",
      "source": [
        "> 클래스마다 부여한 점수 확인 가능"
      ],
      "metadata": {
        "id": "kod1jNxAyEsW"
      }
    },
    {
      "cell_type": "markdown",
      "source": [
        "* 분류기 평가\n",
        "  * 일반적으로 교차검증 사용"
      ],
      "metadata": {
        "id": "QHa3BscIyKCf"
      }
    },
    {
      "cell_type": "code",
      "source": [
        "cross_val_score(sgd_clf,X_train,y_train, cv=3, scoring=\"accuracy\")"
      ],
      "metadata": {
        "id": "xKq0Ux57yP5U"
      },
      "execution_count": null,
      "outputs": []
    },
    {
      "cell_type": "code",
      "source": [
        "# 입력 스케일을 조정해 정확도 높이기\n",
        "from sklearn.preprocessing import StandardScaler\n",
        "scaler=StandardScaler()\n",
        "X_train_scaled=scaler.fit_transform(X_train.astype(np.float64))\n",
        "cross_val_score(sgd_clf, X_train_scaled, y_train, cv=3, scoring=\"accuracy\")"
      ],
      "metadata": {
        "id": "gtNYcjkoyaVz"
      },
      "execution_count": null,
      "outputs": []
    },
    {
      "cell_type": "markdown",
      "source": [
        "##__5. 에러 분석__"
      ],
      "metadata": {
        "id": "0LU1HqikywK4"
      }
    },
    {
      "cell_type": "markdown",
      "source": [
        "* 가능성이 높은 모델을 하나 찾았다고 가정하고 에러의 종류를 분석하여 이 모델의 성능을 향상시킬 방법 찾기"
      ],
      "metadata": {
        "id": "8H5Y9oOAy292"
      }
    },
    {
      "cell_type": "markdown",
      "source": [
        "* 오차 행렬"
      ],
      "metadata": {
        "id": "KgSI2qC3zCFu"
      }
    },
    {
      "cell_type": "code",
      "source": [
        "y_train_pred=cross_val_predict(sgd_clf, X_train_scaled, y_train, cv=3)\n",
        "conf_mx=confusion_matrix(y_train,y_train_pred)\n",
        "conf_mx"
      ],
      "metadata": {
        "id": "BdchhUIMzD8c"
      },
      "execution_count": null,
      "outputs": []
    },
    {
      "cell_type": "code",
      "source": [
        "# 오차 행렬을 matshow()를 이용하여 이미지로 표현\n",
        "plt.matshow(conf_mx, cmap=plt.cm.gray)\n",
        "plt.show()"
      ],
      "metadata": {
        "id": "NjcNPjH2zPk3"
      },
      "execution_count": null,
      "outputs": []
    },
    {
      "cell_type": "markdown",
      "source": [
        "* 에러의 비율 비교\n",
        "  * 오차 행렬의 각 값을 대응되는 클래스의 이미지 갯수로 나누기"
      ],
      "metadata": {
        "id": "GpPD4kw3zcGb"
      }
    },
    {
      "cell_type": "code",
      "source": [
        "row_sums=conf_mx.sum(axis=1, keepdims=True)\n",
        "norm_conf_mx=conf_mx/row_sums"
      ],
      "metadata": {
        "id": "fRPFwNM_zknd"
      },
      "execution_count": null,
      "outputs": []
    },
    {
      "cell_type": "code",
      "source": [
        "# 주대각선만 0으로 채워 그래프 그리기\n",
        "np.fill_diagonal(norm_conf_mx,0)\n",
        "plt.matshow(norm_conf_mx, cmap=plt.cm.gray)\n",
        "plt.show()"
      ],
      "metadata": {
        "id": "8M7wFESBztVe"
      },
      "execution_count": null,
      "outputs": []
    },
    {
      "cell_type": "markdown",
      "source": [
        "* 오차 행렬을 분석하면 분류기의 성능 향상 방안에 대한 통찰을 얻을 수 있음\n",
        "  * ex. 잘못 분류하는 경우가 많은 클래스에 대해 해당 클래스의 훈련 데이터를 더 많이 모아 분류기를 학습"
      ],
      "metadata": {
        "id": "OQQAs0RC0FpL"
      }
    },
    {
      "cell_type": "markdown",
      "source": [
        "* 개개의 에러를 분석해보면 분류기가 무슨 일을 하고, 왜 잘못되었는지에 대한 통찰을 얻을 수 있지만 더 어렵고 시간이 오래 걸림\n",
        "  * 3과 5의 샘플"
      ],
      "metadata": {
        "id": "PYWmQv9Q0dRA"
      }
    },
    {
      "cell_type": "code",
      "source": [
        "cl_a, cl_b=3,5\n",
        "X_aa=X_train[(y_train==cl_a)& (y_train_pred==cl_a)]\n",
        "X_ab=X_train[(y_train==cl_a)& (y_train_pred==cl_b)]\n",
        "X_ba=X_train[(y_train==cl_b)& (y_train_pred==cl_a)]\n",
        "X_bb=X_train[(y_train==cl_b)& (y_train_pred==cl_b)]\n",
        "\n",
        "plt.figure(figsize=(8,8))\n",
        "plt.subplot(221); plot_digits(X_aa[:25],images_per_row=5)\n",
        "plt.subplot(222); plot_digits(X_ab[:25],images_per_row=5)\n",
        "plt.subplot(223); plot_digits(X_ba[:25],images_per_row=5)\n",
        "plt.subplot(224); plot_digits(X_bb[:25],images_per_row=5)\n",
        "plt.show()"
      ],
      "metadata": {
        "id": "GhUb2YEF0px8"
      },
      "execution_count": null,
      "outputs": []
    },
    {
      "cell_type": "markdown",
      "source": [
        "> 선형 분류기는 클래스마다 픽셀에 가중치를 할당하고 새로운 이미지에 대해 단순히 픽셀 강도의 가중치 합을 클래스의 점수로 계산함 > 3과 5는 몇 개의 픽셀만 다르기 때문에 모델이 쉽게 혼동하게 됨"
      ],
      "metadata": {
        "id": "6UNBo-ID1rMl"
      }
    },
    {
      "cell_type": "markdown",
      "source": [
        "###__6. 다중 레이블 분류__\n"
      ],
      "metadata": {
        "id": "dBmV64q82Af4"
      }
    },
    {
      "cell_type": "markdown",
      "source": [
        "* 분류기가 샘플마다 여러 개의 클래스를 출력\n",
        "  * ex. 앨리스, 밥, 찰리에 대한 얼굴 인식 분류기 > 사진에 앨리스, 찰리가 있다면 [1,0,1] 출력\n",
        "\n",
        "* 다중 레이블 분류\n",
        "  * 여러 개의 이진 꼬리표를 출력하는 분류 시스템"
      ],
      "metadata": {
        "id": "Z56J1CmZ2Frh"
      }
    },
    {
      "cell_type": "markdown",
      "source": [
        "* 각 숫자 이미지에 두 개의 타깃 레이블이 담긴 y_multilabel 배열\n",
        "  * 숫자가 7,8,9의 큰 값인지\n",
        "  * 숫자가 홀수인지"
      ],
      "metadata": {
        "id": "UjPtlp6G3C4g"
      }
    },
    {
      "cell_type": "code",
      "source": [
        "from sklearn.neighbors import KNeighborsClassifier\n",
        "\n",
        "y_train_large=(y_train>=7)\n",
        "y_train_odd=(y_train%2==1)\n",
        "y_multilabel=np.c_[y_train_large,y_train_odd]\n",
        "\n",
        "knn_clf=KNeighborsClassifier()\n",
        "knn_clf.fit(X_train, y_multilabel)"
      ],
      "metadata": {
        "id": "_GFKdNyn2mia"
      },
      "execution_count": null,
      "outputs": []
    },
    {
      "cell_type": "code",
      "source": [
        "knn_clf.predict([some_digit])"
      ],
      "metadata": {
        "id": "ckVvFuCo3Sxd"
      },
      "execution_count": null,
      "outputs": []
    },
    {
      "cell_type": "code",
      "source": [
        "# F1-score의 평균을 이용하여 다중 레이블 분류기를 평가 \n",
        "y_train_knn_pred=cross_val_predict(knn_clf, X_train, y_multilabel, cv=3)\n",
        "f1_score(y_multilabel,y_train_knn_pred, average=\"macro\")"
      ],
      "metadata": {
        "id": "vDJ6VVL-3aYs"
      },
      "execution_count": null,
      "outputs": []
    },
    {
      "cell_type": "markdown",
      "source": [
        "* average=\"weighted\" >> 특정 클래스의 지지도를 분류기의 점수에 가중치로 반영"
      ],
      "metadata": {
        "id": "PQzQ7GY237vi"
      }
    },
    {
      "cell_type": "markdown",
      "source": [
        "##__7. 다중 출력 분류__"
      ],
      "metadata": {
        "id": "_-F8_giN4F0b"
      }
    },
    {
      "cell_type": "markdown",
      "source": [
        "* 다중 레이블 분류에서 한 레이블이 다중 클래스가 될 수 있도록 일반화 한 것"
      ],
      "metadata": {
        "id": "7qRg3N2h4Lpk"
      }
    },
    {
      "cell_type": "markdown",
      "source": [
        "* 이미지에서 잡음을 제거하는 시스템\n",
        "  * 잡음이 많은 숫자 이미지를 입력으로 받고 깨끗한 숫자 이미지를 MNIST 이미지처럼 픽셀의 강도를 담은 배열로 출력\n",
        "  * 분류기의 출력이 다중 레이블(픽셀당 한 레이블)이고 각 레이블은 값을 여러 개 가짐(0~255)"
      ],
      "metadata": {
        "id": "ZWALDzgh4dbJ"
      }
    },
    {
      "cell_type": "code",
      "source": [
        "#MNIST 이미지에서 추출한 훈련 세트와 테스트 세트에 잡음을 추가\n",
        "noise=np.random.randint(0,100,(len(X_train),784))\n",
        "X_train_mod=X_train+noise\n",
        "noise=np.random.randint(0,100,(len(X_test),784))\n",
        "X_test_mod=X_test+noise\n",
        "y_train_mod=X_train\n",
        "y_test_mod=X_test"
      ],
      "metadata": {
        "id": "mMRNHT1z4vrX"
      },
      "execution_count": null,
      "outputs": []
    },
    {
      "cell_type": "code",
      "source": [
        "# 분류기를 훈련시켜 이미지를 깨끗하게 만들기\n",
        "knn_clf.fit(X_train_mod, y_train_mod)\n",
        "clean_digit=knn_clf.predict([X_Test_mod[some_index]])\n",
        "plot_digit(clean_digit)"
      ],
      "metadata": {
        "id": "ONO3_g7U5K6c"
      },
      "execution_count": null,
      "outputs": []
    }
  ]
}