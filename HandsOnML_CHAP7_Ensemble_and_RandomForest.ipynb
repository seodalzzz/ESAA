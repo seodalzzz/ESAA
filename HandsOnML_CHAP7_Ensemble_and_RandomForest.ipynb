{
  "nbformat": 4,
  "nbformat_minor": 0,
  "metadata": {
    "colab": {
      "provenance": [],
      "authorship_tag": "ABX9TyPntFRMzRqtUdYwlWNSv5Sq"
    },
    "kernelspec": {
      "name": "python3",
      "display_name": "Python 3"
    },
    "language_info": {
      "name": "python"
    }
  },
  "cells": [
    {
      "cell_type": "markdown",
      "source": [
        "#**CHAP7. 앙상블 학습과 랜덤 포레스트**"
      ],
      "metadata": {
        "id": "Dp-69LsI3TWv"
      }
    },
    {
      "cell_type": "markdown",
      "source": [
        "##**1. 투표 기반 분류기**\n",
        "* 여러 개 분류기의 예측을 모아서 가장 많이 선택된 클래스를 예측 (다수결 투표, 직접 투표 분류기)\n",
        "* 앙상블 방법은 예측기가 가능한 한 서로 독립적일 때 최고의 성능을 발휘함\n",
        "  * 각각 다른 알고리즘으로 분류기를 학습시키면 매우 다른 종류의 오차를 만들 가능성이 높기 때문에 앙상블 모델의 정확도를 향상시킬 수 있음\n"
      ],
      "metadata": {
        "id": "oEu9VSIN4B5r"
      }
    },
    {
      "cell_type": "code",
      "source": [
        "from sklearn.datasets import make_moons\n",
        "from sklearn.pipeline import Pipeline\n",
        "from sklearn.preprocessing import PolynomialFeatures\n",
        "from sklearn.model_selection import train_test_split\n",
        "\n",
        "X,y=make_moons(n_samples=100, noise=0.15)\n",
        "X_train,X_test,y_train,y_test=train_test_split(X,y, test_size=0.3)\n"
      ],
      "metadata": {
        "id": "Q37y-SEE5Yjp"
      },
      "execution_count": 3,
      "outputs": []
    },
    {
      "cell_type": "code",
      "execution_count": 4,
      "metadata": {
        "colab": {
          "base_uri": "https://localhost:8080/"
        },
        "id": "dZec-wLG28Ce",
        "outputId": "660aee78-8f89-4bea-966d-8688b76ae3d1"
      },
      "outputs": [
        {
          "output_type": "execute_result",
          "data": {
            "text/plain": [
              "VotingClassifier(estimators=[('lr', LogisticRegression()),\n",
              "                             ('rf', RandomForestClassifier()), ('svc', SVC())])"
            ]
          },
          "metadata": {},
          "execution_count": 4
        }
      ],
      "source": [
        "# 투표 기반 분류기\n",
        "from sklearn.ensemble import RandomForestClassifier\n",
        "from sklearn.ensemble import VotingClassifier\n",
        "from sklearn.linear_model import LogisticRegression\n",
        "from sklearn.svm import SVC\n",
        "\n",
        "log_clf=LogisticRegression()\n",
        "rnd_clf=RandomForestClassifier()\n",
        "svm_clf=SVC()\n",
        "\n",
        "voting_clf=VotingClassifier(\n",
        "    estimators=[('lr', log_clf),('rf',rnd_clf),('svc',svm_clf)],\n",
        "    voting='hard'\n",
        ")\n",
        "voting_clf.fit(X_train,y_train)"
      ]
    },
    {
      "cell_type": "code",
      "source": [
        "from sklearn.metrics import accuracy_score\n",
        "\n",
        "for clf in (log_clf, rnd_clf, svm_clf, voting_clf):\n",
        "  clf.fit(X_train,y_train)\n",
        "  y_pred=clf.predict(X_test)\n",
        "  print(clf.__class__.__name__, accuracy_score(y_test,y_pred))"
      ],
      "metadata": {
        "colab": {
          "base_uri": "https://localhost:8080/"
        },
        "id": "gH9JNnz_6dID",
        "outputId": "3473f015-88a8-4c17-ebd6-fb69a1cefa4f"
      },
      "execution_count": 5,
      "outputs": [
        {
          "output_type": "stream",
          "name": "stdout",
          "text": [
            "LogisticRegression 0.9\n",
            "RandomForestClassifier 1.0\n",
            "SVC 1.0\n",
            "VotingClassifier 1.0\n"
          ]
        }
      ]
    },
    {
      "cell_type": "markdown",
      "source": [
        "> 투표 기반 분류기가 개별 분류기보다 성능이 조금 더 높음"
      ],
      "metadata": {
        "id": "dmjc300d6wQR"
      }
    },
    {
      "cell_type": "markdown",
      "source": [
        "* 모든 분류기가 클래스의 확률을 예측할 수 있으면 (=predict_proba()메서드가 있으면) 개별 분류기의 예측을 평균내어 확률이 가장 높은 클래스를 예측할 수 있음  > 간접 투표\n",
        "  * 확률이 높은 투표에 비중\n",
        "  * voting='soft'"
      ],
      "metadata": {
        "id": "fl6KiKN763fP"
      }
    },
    {
      "cell_type": "markdown",
      "source": [
        "##**2. 배깅과 페이스팅**"
      ],
      "metadata": {
        "id": "0b7yQnwt7JME"
      }
    },
    {
      "cell_type": "markdown",
      "source": [
        "* 배깅과 페이스팅\n",
        "  * 같은 알고리즘을 사용하고 훈련 세트의 서브셋을 무작위로 구성하여 분류기를 각각 다르게 학습시킴\n",
        "  * 배깅: 중복 허용 샘플링 / 페이스팅 : 중복 비허용 샘플링 \n",
        "  * 투표 결과 수집함수는 분류일때는 mode (다수결), 회귀일때는 평균\n",
        "  * 병렬 학습 가능"
      ],
      "metadata": {
        "id": "-1vpBeP57N0G"
      }
    },
    {
      "cell_type": "markdown",
      "source": [
        "###1) 사이킷런의 배깅과 페이스팅\n"
      ],
      "metadata": {
        "id": "oNJLBZd_8dl9"
      }
    },
    {
      "cell_type": "code",
      "source": [
        "from sklearn.ensemble import BaggingClassifier\n",
        "from sklearn.tree import DecisionTreeClassifier\n",
        "\n",
        "bag_clf=BaggingClassifier(\n",
        "    DecisionTreeClassifier(),n_estimators=500, max_samples=50, bootstrap=True, n_jobs=-1\n",
        ")\n",
        "bag_clf.fit(X_train,y_train)\n",
        "y_pred=bag_clf.predict(X_test)\n",
        "\n"
      ],
      "metadata": {
        "id": "oTNIjikx8hNn"
      },
      "execution_count": 6,
      "outputs": []
    },
    {
      "cell_type": "markdown",
      "source": [
        "* 앙상블의 예측이 결정트리 하나의 예측보다 일반화가 훨씬 잘 됨\n",
        "\n",
        "* 앙상블은 비슷한 편향에서 더 작은 분산을 만듦"
      ],
      "metadata": {
        "id": "vMI3fql99JWs"
      }
    },
    {
      "cell_type": "markdown",
      "source": [
        "###2) oob 평가\n"
      ],
      "metadata": {
        "id": "m1OgUB6l9WBx"
      }
    },
    {
      "cell_type": "markdown",
      "source": [
        "* 배깅을 사용하면 어떤 샘플은 여러 번 샘플링되고 또 다른 어떤 샘플은 전혀 샘플링되지 않을 수 있음\n",
        "\n",
        "* oob 샘플 : 훈련에 전혀 선택되지 않은 샘플\n",
        "\n",
        "* 예측기가 훈련되는 동안 oob샘플을 전혀 사용하지 않으므로 별도의 검증 세트를 사용하지 않고 oob샘플을 사용해 평가할 수 있음"
      ],
      "metadata": {
        "id": "jWgMpgpw9YpG"
      }
    },
    {
      "cell_type": "code",
      "source": [
        "bag_clf=BaggingClassifier(\n",
        "    DecisionTreeClassifier(),n_estimators=500, bootstrap=True, n_jobs=-1, oob_score=True\n",
        ")\n",
        "\n",
        "bag_clf.fit(X_train,y_train)\n",
        "bag_clf.oob_score_"
      ],
      "metadata": {
        "colab": {
          "base_uri": "https://localhost:8080/"
        },
        "id": "HoHyWgkU9vYj",
        "outputId": "7cab18b5-b4c4-4270-fd1d-52fd62d1c17b"
      },
      "execution_count": 7,
      "outputs": [
        {
          "output_type": "execute_result",
          "data": {
            "text/plain": [
              "0.9285714285714286"
            ]
          },
          "metadata": {},
          "execution_count": 7
        }
      ]
    },
    {
      "cell_type": "code",
      "source": [
        "y_pred=bag_clf.predict(X_test)\n",
        "accuracy_score(y_test,y_pred)"
      ],
      "metadata": {
        "colab": {
          "base_uri": "https://localhost:8080/"
        },
        "id": "IDDGdLrz99ac",
        "outputId": "7ee6039e-cdb8-42ba-d657-8af57abdb44c"
      },
      "execution_count": 8,
      "outputs": [
        {
          "output_type": "execute_result",
          "data": {
            "text/plain": [
              "1.0"
            ]
          },
          "metadata": {},
          "execution_count": 8
        }
      ]
    },
    {
      "cell_type": "code",
      "source": [
        "# oob샘플에 대한 결정함수의 값\n",
        "bag_clf.oob_decision_function_"
      ],
      "metadata": {
        "colab": {
          "base_uri": "https://localhost:8080/"
        },
        "id": "uDE_Fj2G-Gxg",
        "outputId": "e03cc4a7-b804-4fa7-af96-e555257fcdec"
      },
      "execution_count": 9,
      "outputs": [
        {
          "output_type": "execute_result",
          "data": {
            "text/plain": [
              "array([[1.        , 0.        ],\n",
              "       [1.        , 0.        ],\n",
              "       [1.        , 0.        ],\n",
              "       [0.47395833, 0.52604167],\n",
              "       [1.        , 0.        ],\n",
              "       [0.96954315, 0.03045685],\n",
              "       [0.80102041, 0.19897959],\n",
              "       [0.85164835, 0.14835165],\n",
              "       [1.        , 0.        ],\n",
              "       [0.02994012, 0.97005988],\n",
              "       [0.4591195 , 0.5408805 ],\n",
              "       [0.        , 1.        ],\n",
              "       [0.84699454, 0.15300546],\n",
              "       [0.01515152, 0.98484848],\n",
              "       [0.32934132, 0.67065868],\n",
              "       [0.02061856, 0.97938144],\n",
              "       [0.        , 1.        ],\n",
              "       [0.        , 1.        ],\n",
              "       [0.97849462, 0.02150538],\n",
              "       [0.14438503, 0.85561497],\n",
              "       [0.96756757, 0.03243243],\n",
              "       [0.56284153, 0.43715847],\n",
              "       [0.96969697, 0.03030303],\n",
              "       [1.        , 0.        ],\n",
              "       [0.        , 1.        ],\n",
              "       [1.        , 0.        ],\n",
              "       [0.25405405, 0.74594595],\n",
              "       [1.        , 0.        ],\n",
              "       [1.        , 0.        ],\n",
              "       [0.        , 1.        ],\n",
              "       [0.        , 1.        ],\n",
              "       [0.99468085, 0.00531915],\n",
              "       [0.        , 1.        ],\n",
              "       [0.95555556, 0.04444444],\n",
              "       [0.        , 1.        ],\n",
              "       [0.        , 1.        ],\n",
              "       [0.49450549, 0.50549451],\n",
              "       [0.        , 1.        ],\n",
              "       [0.51898734, 0.48101266],\n",
              "       [0.52840909, 0.47159091],\n",
              "       [0.        , 1.        ],\n",
              "       [0.19047619, 0.80952381],\n",
              "       [1.        , 0.        ],\n",
              "       [0.59659091, 0.40340909],\n",
              "       [0.02197802, 0.97802198],\n",
              "       [1.        , 0.        ],\n",
              "       [1.        , 0.        ],\n",
              "       [0.        , 1.        ],\n",
              "       [0.12903226, 0.87096774],\n",
              "       [1.        , 0.        ],\n",
              "       [0.91578947, 0.08421053],\n",
              "       [0.97311828, 0.02688172],\n",
              "       [0.        , 1.        ],\n",
              "       [0.73369565, 0.26630435],\n",
              "       [0.07731959, 0.92268041],\n",
              "       [0.96875   , 0.03125   ],\n",
              "       [0.64171123, 0.35828877],\n",
              "       [0.19774011, 0.80225989],\n",
              "       [0.31609195, 0.68390805],\n",
              "       [1.        , 0.        ],\n",
              "       [0.96428571, 0.03571429],\n",
              "       [0.0718232 , 0.9281768 ],\n",
              "       [0.        , 1.        ],\n",
              "       [0.        , 1.        ],\n",
              "       [0.01522843, 0.98477157],\n",
              "       [0.97191011, 0.02808989],\n",
              "       [0.20942408, 0.79057592],\n",
              "       [0.02840909, 0.97159091],\n",
              "       [0.        , 1.        ],\n",
              "       [0.28229665, 0.71770335]])"
            ]
          },
          "metadata": {},
          "execution_count": 9
        }
      ]
    },
    {
      "cell_type": "markdown",
      "source": [
        "##**3.랜덤 패치와 랜덤 서브스페이스**\n"
      ],
      "metadata": {
        "id": "R8TenMnI-WmD"
      }
    },
    {
      "cell_type": "markdown",
      "source": [
        "* BaggingClassifier는 피처 샘플링도 지원\n",
        "  * max_features, boostrap_features\n",
        "  * 각 예측기는 무작위로 선택한 입력 특성의 일부분으로 훈련됨\n",
        "\n",
        "* 랜덤패치방식 : 피처와 샘플을 모두 샘플링\n",
        "* 랜덤서브스페이스방식 : 샘플을 모두 사용하고 피처는 샘플링\n",
        "\n",
        "* 피처 샘플링은 더 다양한 예측기를 만들며 편향을 늘리는 대신 분산을 낮춤"
      ],
      "metadata": {
        "id": "yKHa7tsR-ZRH"
      }
    },
    {
      "cell_type": "markdown",
      "source": [
        "##**4. 랜덤포레스트**\n"
      ],
      "metadata": {
        "id": "Yf2Vqize-0Mr"
      }
    },
    {
      "cell_type": "markdown",
      "source": [
        "* 배깅 방법을 적용한 결정트리앙상블\n",
        "\n",
        "* max_samples를 훈련 세트의 크기로 지정\n",
        "\n",
        "* RandomForestClassifier는 DecisionTreeClassifier의 매개변수와 BaggingClassifier의 매개변수를 모두 가지고 있음\n",
        "\n",
        "* 랜덤포레스트 알고리즘은 트리의 노드르 분할 할 때 전체 특성 중에서 최선의 특성을 찾는 대신 무작위로 선택한 특성 후보 중에서 최선의 특성을 선택함\n",
        "  * 트리를 다양하게 만들어 편향을 손해보는 대신 분산을 낮추어 전체적으로 더 나은 모델을 만듦"
      ],
      "metadata": {
        "id": "l6bwGUEw-78W"
      }
    },
    {
      "cell_type": "code",
      "source": [
        "from sklearn.ensemble import RandomForestClassifier\n",
        "rnd_clf=RandomForestClassifier(n_estimators=500, max_leaf_nodes=16, n_jobs=-1)\n",
        "rnd_clf.fit(X_train,y_train)\n",
        "\n",
        "y_pred_rf=rnd_clf.predict(X_test)"
      ],
      "metadata": {
        "id": "c3VPuhNx_Dp6"
      },
      "execution_count": 10,
      "outputs": []
    },
    {
      "cell_type": "code",
      "source": [
        "bag_clf=BaggingClassifier(\n",
        "    DecisionTreeClassifier(max_features=\"auto\",max_leaf_nodes=16), n_estimators=500, max_samples=1.0, bootstrap=True, n_jobs=-1\n",
        ")"
      ],
      "metadata": {
        "id": "YTlg26JH_0LL"
      },
      "execution_count": 11,
      "outputs": []
    },
    {
      "cell_type": "markdown",
      "source": [
        "###1) 엑스트라 트리\n"
      ],
      "metadata": {
        "id": "wL_LGh9ZAZme"
      }
    },
    {
      "cell_type": "markdown",
      "source": [
        "* 후보 피처를 사용해 무작위로 분할한 다음 그 중에서 최상의 분할을 선택\n",
        "\n",
        "* 익스트림 랜덤 트리 앙상블 (엑스트라 트리)\n"
      ],
      "metadata": {
        "id": "hzXFIK8yAcSd"
      }
    },
    {
      "cell_type": "markdown",
      "source": [
        "* RandomForest와 ExtraTree 중에 뭐가 더 나을지는 해봐야 알 수 있음 (교차검증으로 비교)"
      ],
      "metadata": {
        "id": "k2EV5lgTAnYQ"
      }
    },
    {
      "cell_type": "markdown",
      "source": [
        "###2) 특성 중요도(피처 중요도)"
      ],
      "metadata": {
        "id": "JazbHanVAxUO"
      }
    },
    {
      "cell_type": "markdown",
      "source": [
        "* 랜덤포레스트의 장점 : 특성 중요도를 측정하기 쉬움\n",
        "* 사이킷런은 어떤 특성을 사용한 노드가 평균적으로 불순도를 얼마나 감소시키는지로 특성 중요도를 측정"
      ],
      "metadata": {
        "id": "-1u5pMmgA0MS"
      }
    },
    {
      "cell_type": "code",
      "source": [
        "from sklearn.datasets import load_iris\n",
        "iris=load_iris()\n",
        "rnd_clf=RandomForestClassifier(n_estimators=500, n_jobs=-1)\n",
        "rnd_clf.fit(iris[\"data\"], iris['target'])\n",
        "for name, score in zip(iris['feature_names'], rnd_clf.feature_importances_):\n",
        "  print(name,score)"
      ],
      "metadata": {
        "colab": {
          "base_uri": "https://localhost:8080/"
        },
        "id": "Zh3cp1muBHq_",
        "outputId": "4518771b-553c-4e31-ff35-3e0d09ad6e24"
      },
      "execution_count": 12,
      "outputs": [
        {
          "output_type": "stream",
          "name": "stdout",
          "text": [
            "sepal length (cm) 0.10234729295977063\n",
            "sepal width (cm) 0.023589449968693724\n",
            "petal length (cm) 0.42585812671949247\n",
            "petal width (cm) 0.44820513035204324\n"
          ]
        }
      ]
    },
    {
      "cell_type": "markdown",
      "source": [
        "##**5.부스팅**\n"
      ],
      "metadata": {
        "id": "KzrD_dUqBa1A"
      }
    },
    {
      "cell_type": "markdown",
      "source": [
        "* 약한 학습기를 여러개 연결하여 강한 학습기를 만드는 앙상블 방법\n",
        "\n",
        "* 앞의 모델을 보완해나가면서 일련의 예측기를 학습시킴"
      ],
      "metadata": {
        "id": "pIE7ej8IBcpP"
      }
    },
    {
      "cell_type": "markdown",
      "source": [
        "###1) 에이다부스트\n"
      ],
      "metadata": {
        "id": "rdHfp98IBwyU"
      }
    },
    {
      "cell_type": "markdown",
      "source": [
        "* 이전 모델이 과소적합했던 훈련샘플의 가중치를 높임 >> 학습하기 어려운 샘플에 점점 더 맞춰짐\n",
        "\n",
        "* 연속된 학습 기법은 병렬화를 할 수 없음\n",
        "\n",
        "* 모든 예측기의 예측을 계산하고 예측기 가중치를 더해 예측 결과를 만듦 > 가중치 합이 가장 큰 클래스가 예측 결과가 됨"
      ],
      "metadata": {
        "id": "h9MVuy8_ByPu"
      }
    },
    {
      "cell_type": "code",
      "source": [
        "from sklearn.ensemble import AdaBoostClassifier\n",
        "\n",
        "ada_clf=AdaBoostClassifier(\n",
        "    DecisionTreeClassifier(max_depth=3),n_estimators=200, algorithm=\"SAMME.R\", learning_rate=0.5\n",
        ")\n",
        "\n",
        "ada_clf.fit(X_train, y_train)"
      ],
      "metadata": {
        "colab": {
          "base_uri": "https://localhost:8080/"
        },
        "id": "ZY0AZojUDc6G",
        "outputId": "413e9216-1969-448c-f0aa-656ceee21a42"
      },
      "execution_count": 13,
      "outputs": [
        {
          "output_type": "execute_result",
          "data": {
            "text/plain": [
              "AdaBoostClassifier(base_estimator=DecisionTreeClassifier(max_depth=3),\n",
              "                   learning_rate=0.5, n_estimators=200)"
            ]
          },
          "metadata": {},
          "execution_count": 13
        }
      ]
    },
    {
      "cell_type": "markdown",
      "source": [
        "###2) 그래디언트 부스팅"
      ],
      "metadata": {
        "id": "ZE1yRhvzDsdv"
      }
    },
    {
      "cell_type": "markdown",
      "source": [
        "* 앙상블에 이전까지의 오차를 보정하도록 예측기를 순차적으로 추가함\n",
        "* 이전 예측기가 만든 잔여 오차에 새로운 예측기를 학습시킴"
      ],
      "metadata": {
        "id": "v67H8SO8DyKw"
      }
    },
    {
      "cell_type": "code",
      "source": [
        "from sklearn.tree import DecisionTreeRegressor\n",
        "\n",
        "tree_reg1=DecisionTreeRegressor(max_depth=2)\n",
        "tree_reg1.fit(X,y)"
      ],
      "metadata": {
        "colab": {
          "base_uri": "https://localhost:8080/"
        },
        "id": "9mDQe3afD_DD",
        "outputId": "96978da7-d0d0-45ed-e343-d3dff9c95e9d"
      },
      "execution_count": 14,
      "outputs": [
        {
          "output_type": "execute_result",
          "data": {
            "text/plain": [
              "DecisionTreeRegressor(max_depth=2)"
            ]
          },
          "metadata": {},
          "execution_count": 14
        }
      ]
    },
    {
      "cell_type": "code",
      "source": [
        "#첫번째 예측기에서 생긴 잔여 오차에 두번째 DecisionTreeRegressor를 훈련시킴\n",
        "y2=y-tree_reg1.predict(X)\n",
        "tree_reg2=DecisionTreeRegressor(max_depth=2)\n",
        "tree_reg2.fit(X,y2)"
      ],
      "metadata": {
        "colab": {
          "base_uri": "https://localhost:8080/"
        },
        "id": "gCMQet09EHBo",
        "outputId": "e0cc7b1f-d755-4e68-c63d-4c3d552bd8a2"
      },
      "execution_count": 15,
      "outputs": [
        {
          "output_type": "execute_result",
          "data": {
            "text/plain": [
              "DecisionTreeRegressor(max_depth=2)"
            ]
          },
          "metadata": {},
          "execution_count": 15
        }
      ]
    },
    {
      "cell_type": "code",
      "source": [
        "# 두번째 예측기에서 생긴 잔여 오차에 세번째 회귀 모델을 훈련시킴\n",
        "y3=y2-tree_reg2.predict(X)\n",
        "tree_reg3=DecisionTreeRegressor(max_depth=2)\n",
        "tree_reg3.fit(X,y3)"
      ],
      "metadata": {
        "colab": {
          "base_uri": "https://localhost:8080/"
        },
        "id": "tjtBf85nEcue",
        "outputId": "608df4fd-8f50-4207-c5f9-3fed4aded4f3"
      },
      "execution_count": 16,
      "outputs": [
        {
          "output_type": "execute_result",
          "data": {
            "text/plain": [
              "DecisionTreeRegressor(max_depth=2)"
            ]
          },
          "metadata": {},
          "execution_count": 16
        }
      ]
    },
    {
      "cell_type": "code",
      "source": [
        "# 모든 트리의 예측을 더해 새로운 샘플에 대한 예측 만들기\n",
        "y_pred=sum(tree.predict(X) for tree in (tree_reg1, tree_reg2, tree_reg3))"
      ],
      "metadata": {
        "id": "_aQDBj-HEq7q"
      },
      "execution_count": 17,
      "outputs": []
    },
    {
      "cell_type": "markdown",
      "source": [
        "사이킷런의 GradientBoostingRegressor사용"
      ],
      "metadata": {
        "id": "bW2OzKAJFQrE"
      }
    },
    {
      "cell_type": "code",
      "source": [
        "from sklearn.ensemble import GradientBoostingRegressor\n",
        "\n",
        "gbrt=GradientBoostingRegressor(max_depth=2, n_estimators=3, learning_rate=1.0)\n",
        "gbrt.fit(X,y)"
      ],
      "metadata": {
        "colab": {
          "base_uri": "https://localhost:8080/"
        },
        "id": "kOvAtCNbFPUl",
        "outputId": "1c7898d0-293d-4636-cec7-44a1182b811c"
      },
      "execution_count": 18,
      "outputs": [
        {
          "output_type": "execute_result",
          "data": {
            "text/plain": [
              "GradientBoostingRegressor(learning_rate=1.0, max_depth=2, n_estimators=3)"
            ]
          },
          "metadata": {},
          "execution_count": 18
        }
      ]
    },
    {
      "cell_type": "code",
      "source": [
        "import numpy as np\n",
        "from sklearn.model_selection import train_test_split\n",
        "from sklearn.metrics import mean_squared_error\n",
        "\n",
        "X_train,X_val,y_train,y_val=train_test_split(X,y)\n",
        "\n",
        "gbrt=GradientBoostingRegressor(max_depth=2, n_estimators=120)\n",
        "gbrt.fit(X_train, y_train)\n",
        "\n",
        "errors=[mean_squared_error(y_val,y_pred)\n",
        "for y_pred in gbrt.staged_predict(X_val)]\n",
        "\n",
        "bst_n_estimators=np.argmin(errors)+1\n",
        "\n",
        "gbrt_best = GradientBoostingRegressor(max_depth=2, n_estimators=bst_n_estimators)\n",
        "gbrt_best.fit(X_train,y_train)"
      ],
      "metadata": {
        "colab": {
          "base_uri": "https://localhost:8080/"
        },
        "id": "HDLPArM5FuNK",
        "outputId": "bae10c36-672f-40ad-f91e-35796d17549c"
      },
      "execution_count": 19,
      "outputs": [
        {
          "output_type": "execute_result",
          "data": {
            "text/plain": [
              "GradientBoostingRegressor(max_depth=2)"
            ]
          },
          "metadata": {},
          "execution_count": 19
        }
      ]
    },
    {
      "cell_type": "code",
      "source": [
        "gbrt=GradientBoostingRegressor(max_depth=2, warm_start=True)\n",
        "\n",
        "min_val_error=float('inf')\n",
        "error_going_up=0\n",
        "\n",
        "for n_estimators in range(1,120):\n",
        "  gbrt.n_estimators=n_estimators\n",
        "  gbrt.fit(X_train,y_train)\n",
        "  y_pred=gbrt.predict(X_val)\n",
        "  val_error=mean_squared_error(y_val,y_pred)\n",
        "  if val_error < min_val_error:\n",
        "    min_val_error=val_error\n",
        "    error_goin_up=0\n",
        "  else:\n",
        "    error_going_up +=1\n",
        "    if error_going_up==5:\n",
        "      break\n"
      ],
      "metadata": {
        "id": "oDzzETPQqtGg"
      },
      "execution_count": 22,
      "outputs": []
    },
    {
      "cell_type": "markdown",
      "source": [
        "* 무작위로 선택된 훈련샘플로 학습 > 확률적 그래디언트 부스팅 (XGBoost)"
      ],
      "metadata": {
        "id": "-AoJOvHyrOzc"
      }
    },
    {
      "cell_type": "code",
      "source": [
        "import xgboost\n",
        "xgb_reg=xgboost.XGBRegressor()\n",
        "xgb_reg.fit(X_train,y_train)\n",
        "y_pred=xgb_reg.predict(X_val)"
      ],
      "metadata": {
        "colab": {
          "base_uri": "https://localhost:8080/"
        },
        "id": "R7SDhR8NrVbm",
        "outputId": "2e42d61e-3752-44b6-f53c-c5336a32c3c9"
      },
      "execution_count": 23,
      "outputs": [
        {
          "output_type": "stream",
          "name": "stdout",
          "text": [
            "[07:24:12] WARNING: /workspace/src/objective/regression_obj.cu:152: reg:linear is now deprecated in favor of reg:squarederror.\n"
          ]
        }
      ]
    },
    {
      "cell_type": "code",
      "source": [
        "xgb_reg.fit(X_train,y_train, eval_set=[(X_val,y_val)], early_stopping_rounds=2)\n",
        "y_pred=xgb_reg.predict(X_val)"
      ],
      "metadata": {
        "colab": {
          "base_uri": "https://localhost:8080/"
        },
        "id": "YQQbDwWArdhJ",
        "outputId": "0c059218-a844-48ed-bcea-e7036ac01a24"
      },
      "execution_count": 24,
      "outputs": [
        {
          "output_type": "stream",
          "name": "stdout",
          "text": [
            "[07:24:48] WARNING: /workspace/src/objective/regression_obj.cu:152: reg:linear is now deprecated in favor of reg:squarederror.\n",
            "[0]\tvalidation_0-rmse:0.467074\n",
            "Will train until validation_0-rmse hasn't improved in 2 rounds.\n",
            "[1]\tvalidation_0-rmse:0.438712\n",
            "[2]\tvalidation_0-rmse:0.414482\n",
            "[3]\tvalidation_0-rmse:0.393967\n",
            "[4]\tvalidation_0-rmse:0.376765\n",
            "[5]\tvalidation_0-rmse:0.364486\n",
            "[6]\tvalidation_0-rmse:0.353693\n",
            "[7]\tvalidation_0-rmse:0.34528\n",
            "[8]\tvalidation_0-rmse:0.341425\n",
            "[9]\tvalidation_0-rmse:0.335924\n",
            "[10]\tvalidation_0-rmse:0.334351\n",
            "[11]\tvalidation_0-rmse:0.330551\n",
            "[12]\tvalidation_0-rmse:0.31965\n",
            "[13]\tvalidation_0-rmse:0.310539\n",
            "[14]\tvalidation_0-rmse:0.30862\n",
            "[15]\tvalidation_0-rmse:0.300743\n",
            "[16]\tvalidation_0-rmse:0.29788\n",
            "[17]\tvalidation_0-rmse:0.291228\n",
            "[18]\tvalidation_0-rmse:0.288816\n",
            "[19]\tvalidation_0-rmse:0.285037\n",
            "[20]\tvalidation_0-rmse:0.281936\n",
            "[21]\tvalidation_0-rmse:0.277414\n",
            "[22]\tvalidation_0-rmse:0.275758\n",
            "[23]\tvalidation_0-rmse:0.273735\n",
            "[24]\tvalidation_0-rmse:0.270319\n",
            "[25]\tvalidation_0-rmse:0.26751\n",
            "[26]\tvalidation_0-rmse:0.26538\n",
            "[27]\tvalidation_0-rmse:0.264234\n",
            "[28]\tvalidation_0-rmse:0.262193\n",
            "[29]\tvalidation_0-rmse:0.261307\n",
            "[30]\tvalidation_0-rmse:0.260489\n",
            "[31]\tvalidation_0-rmse:0.25894\n",
            "[32]\tvalidation_0-rmse:0.258293\n",
            "[33]\tvalidation_0-rmse:0.256757\n",
            "[34]\tvalidation_0-rmse:0.255651\n",
            "[35]\tvalidation_0-rmse:0.25462\n",
            "[36]\tvalidation_0-rmse:0.254358\n",
            "[37]\tvalidation_0-rmse:0.253742\n",
            "[38]\tvalidation_0-rmse:0.252973\n",
            "[39]\tvalidation_0-rmse:0.251757\n",
            "[40]\tvalidation_0-rmse:0.251132\n",
            "[41]\tvalidation_0-rmse:0.250764\n",
            "[42]\tvalidation_0-rmse:0.24972\n",
            "[43]\tvalidation_0-rmse:0.249236\n",
            "[44]\tvalidation_0-rmse:0.248286\n",
            "[45]\tvalidation_0-rmse:0.246316\n",
            "[46]\tvalidation_0-rmse:0.246296\n",
            "[47]\tvalidation_0-rmse:0.245819\n",
            "[48]\tvalidation_0-rmse:0.245607\n",
            "[49]\tvalidation_0-rmse:0.245443\n",
            "[50]\tvalidation_0-rmse:0.242551\n",
            "[51]\tvalidation_0-rmse:0.244026\n",
            "[52]\tvalidation_0-rmse:0.245422\n",
            "Stopping. Best iteration:\n",
            "[50]\tvalidation_0-rmse:0.242551\n",
            "\n"
          ]
        }
      ]
    },
    {
      "cell_type": "markdown",
      "source": [
        "##**6.스태킹**"
      ],
      "metadata": {
        "id": "UJ08_ViurzRJ"
      }
    },
    {
      "cell_type": "markdown",
      "source": [
        "* 앙상블에 속한 모든 예측기의 예측을 취합하는 모델을 훈련\n",
        "\n",
        "* 각 예측기는 가각 다른 값을 예측하고 마지막 예측기(블렌더)가 이 예측을 입력으로 받아 최종 예측을 만듦\n",
        "\n",
        "* 블렌더를 학습시키는 일반적인 방법 : 홀드 아웃\n",
        "\n",
        "* 블렌더를 여러 개 훈련시키는 것도 가능\n",
        "\n",
        "* 사이킷런은 스태킹을 직접 지원하지는 않음 (직접 구현)"
      ],
      "metadata": {
        "id": "GDMfuih5rOvh"
      }
    }
  ]
}