{
  "nbformat": 4,
  "nbformat_minor": 0,
  "metadata": {
    "colab": {
      "name": "Python Machine Learning - CHAP2,CHAP3.ipynb",
      "provenance": [],
      "collapsed_sections": [],
      "authorship_tag": "ABX9TyPz1IcRc3cbeDg1U4Ex5UP/",
      "include_colab_link": true
    },
    "kernelspec": {
      "name": "python3",
      "display_name": "Python 3"
    },
    "language_info": {
      "name": "python"
    }
  },
  "cells": [
    {
      "cell_type": "markdown",
      "metadata": {
        "id": "view-in-github",
        "colab_type": "text"
      },
      "source": [
        "<a href=\"https://colab.research.google.com/github/seodalzzz/ESAA/blob/Python_Machine_Learning/Python_Machine_Learning_CHAP2%2CCHAP3.ipynb\" target=\"_parent\"><img src=\"https://colab.research.google.com/assets/colab-badge.svg\" alt=\"Open In Colab\"/></a>"
      ]
    },
    {
      "cell_type": "markdown",
      "source": [
        "#__CHAP2. 사이킷런으로 시작하는 머신러닝__"
      ],
      "metadata": {
        "id": "hkbgTkFW-4Xq"
      }
    },
    {
      "cell_type": "markdown",
      "source": [
        "##__1. 사이킷런 소개와 특징__\n",
        "\n",
        "사이킷런(scikit-learn)\n",
        "  * 파이썬 머신러닝 라이브러리 중 가장 많이 사용되는 라이브러리\n",
        "  * 파이썬 기반의 머신러닝을 위한 가장 쉽고 효율적인 개발 라이브러리를 제공함\n",
        "\n",
        "사이킷런의 특징\n",
        "  * 파이썬 기반의 다른 머신러닝 패키지도 사이킷런 스타일의 API를 지향할 정도로 쉽고 가장 파이썬스러운 API를 제공함\n",
        "  * 머신러닝을 위한 매우 다양한 알고리즘과 개발을 위한 편리한 프레임워크와 API를 제공함\n",
        "  * 오랜 기간 실전 환경에서 검증됐으며, 매우 많은 환경에서 사용되는 성숙한 라이브러리\n"
      ],
      "metadata": {
        "id": "ivIkx4AW-_RX"
      }
    },
    {
      "cell_type": "code",
      "source": [
        "#conda를 이용해 사이킷런 구동에 필요한 넘파이나 사이파이 등의 다양한 라이브러리를 동시에 설치\n",
        "#conda install scikit-learn\n",
        "\n",
        "#pip를 이용한 설치\n",
        "#pip install scikit-learn\n"
      ],
      "metadata": {
        "id": "AMldJ0xY_gNy"
      },
      "execution_count": 155,
      "outputs": []
    },
    {
      "cell_type": "code",
      "source": [
        "#사이킷런 버전 확인\n",
        "import sklearn\n",
        "\n",
        "print(sklearn.__version__)"
      ],
      "metadata": {
        "colab": {
          "base_uri": "https://localhost:8080/"
        },
        "id": "TBY0nwcn_xzB",
        "outputId": "91180d67-7640-4794-e937-4667686bb2eb"
      },
      "execution_count": 156,
      "outputs": [
        {
          "output_type": "stream",
          "name": "stdout",
          "text": [
            "1.0.2\n"
          ]
        }
      ]
    },
    {
      "cell_type": "markdown",
      "source": [
        "##__2. 첫 번째 머신러닝 만들어 보기 - 붓꽃 품종 예측하기__\n",
        "\n",
        "붓꽃 데이터 세트로 붓꽃의 품종을 분류(Classification)\n",
        "  * 꽃잎의 길이와 너비, 꽃받침의 길이와 너비 피처(Feature)를 기반으로 꽃의 품종을 예측"
      ],
      "metadata": {
        "id": "jCHkURUiAGl8"
      }
    },
    {
      "cell_type": "markdown",
      "source": [
        "분류(Classification)는 대표적인 지도학습의 예\n",
        "  * 지도학습\n",
        "    * 학습을 위한 다양한 피처와 분류 결정값인 레이블 데이터로 모델을 학습한 뒤, 별도의 테스트 데이터 셋에서 미지의 레이블을 예측함.\n",
        "    * 명확한 정답이 주어진 데이터를 먼저 학습한 뒤 미지의 정답을 예측하는 방식\n",
        "    * 학습 데이터 세트로 학습 / 테스트 데이터 세트로 성능을 평가\n",
        "\n",
        "  * sklearn.datasets : 사이킷런에서 자체적으로 제공하는 데이터 세트를 생성하는 모듈의 모임\n",
        "  * sklearn.tree : 트리기반 ML 알고리즘을 구현한 클래스의 모임\n",
        "  * sklearn.model_selection : 학습 데이터와 검증 데이터, 예측 데이터로 데이터를 분리하거나 최적의 하이퍼 파라미터로 평가하기 위한 다양한 모듈의 모임\n",
        "    * 하이퍼 파라미터 : 머신러닝 알고리즘별로 최적의 학습을 위해 직접 입력하는 파라미터 > 하이퍼 파라미터를 통해 머신러닝 알고리즘의 성능을 튜닝할 수 있음\n",
        "    "
      ],
      "metadata": {
        "id": "cZ_wyJYjAbV9"
      }
    },
    {
      "cell_type": "code",
      "source": [
        "from sklearn.datasets import load_iris\n",
        "from sklearn.tree import DecisionTreeClassifier\n",
        "from sklearn.model_selection import train_test_split"
      ],
      "metadata": {
        "id": "ei-anFKLCGxA"
      },
      "execution_count": 157,
      "outputs": []
    },
    {
      "cell_type": "code",
      "source": [
        "import pandas as pd\n",
        "\n",
        "#붓꽃 데이터 세트 로딩\n",
        "iris=load_iris()\n",
        "\n",
        "#iris.data는 iris 데이터 세트에서 피처만으로 된 데이터를 numpy로 가지고 있음\n",
        "iris_data=iris.data\n",
        "\n",
        "#iris.target은 붓꽃 데이터 세트에서 레이블(결정 값) 데이터를 numpy로 가지고 있음\n",
        "iris_label=iris.target\n",
        "print('rirs target값 : ',iris_label)\n",
        "print('iris target명 : ',iris.target_names)\n",
        "\n",
        "#붓꽃 데이터 세트를 자세히 보기 위해 DataFrame으로 변환\n",
        "iris_df=pd.DataFrame(data=iris_data, columns=iris.feature_names)\n",
        "iris_df['label']=iris.target\n",
        "iris_df.head(3)"
      ],
      "metadata": {
        "colab": {
          "base_uri": "https://localhost:8080/",
          "height": 334
        },
        "id": "jSITWAKHBNdw",
        "outputId": "e27dabed-4a5b-40e3-8eaf-5f54053e116e"
      },
      "execution_count": 158,
      "outputs": [
        {
          "output_type": "stream",
          "name": "stdout",
          "text": [
            "rirs target값 :  [0 0 0 0 0 0 0 0 0 0 0 0 0 0 0 0 0 0 0 0 0 0 0 0 0 0 0 0 0 0 0 0 0 0 0 0 0\n",
            " 0 0 0 0 0 0 0 0 0 0 0 0 0 1 1 1 1 1 1 1 1 1 1 1 1 1 1 1 1 1 1 1 1 1 1 1 1\n",
            " 1 1 1 1 1 1 1 1 1 1 1 1 1 1 1 1 1 1 1 1 1 1 1 1 1 1 2 2 2 2 2 2 2 2 2 2 2\n",
            " 2 2 2 2 2 2 2 2 2 2 2 2 2 2 2 2 2 2 2 2 2 2 2 2 2 2 2 2 2 2 2 2 2 2 2 2 2\n",
            " 2 2]\n",
            "iris target명 :  ['setosa' 'versicolor' 'virginica']\n"
          ]
        },
        {
          "output_type": "execute_result",
          "data": {
            "text/plain": [
              "   sepal length (cm)  sepal width (cm)  petal length (cm)  petal width (cm)  \\\n",
              "0                5.1               3.5                1.4               0.2   \n",
              "1                4.9               3.0                1.4               0.2   \n",
              "2                4.7               3.2                1.3               0.2   \n",
              "\n",
              "   label  \n",
              "0      0  \n",
              "1      0  \n",
              "2      0  "
            ],
            "text/html": [
              "\n",
              "  <div id=\"df-d2099441-d86a-4950-86b7-b6a911a0f412\">\n",
              "    <div class=\"colab-df-container\">\n",
              "      <div>\n",
              "<style scoped>\n",
              "    .dataframe tbody tr th:only-of-type {\n",
              "        vertical-align: middle;\n",
              "    }\n",
              "\n",
              "    .dataframe tbody tr th {\n",
              "        vertical-align: top;\n",
              "    }\n",
              "\n",
              "    .dataframe thead th {\n",
              "        text-align: right;\n",
              "    }\n",
              "</style>\n",
              "<table border=\"1\" class=\"dataframe\">\n",
              "  <thead>\n",
              "    <tr style=\"text-align: right;\">\n",
              "      <th></th>\n",
              "      <th>sepal length (cm)</th>\n",
              "      <th>sepal width (cm)</th>\n",
              "      <th>petal length (cm)</th>\n",
              "      <th>petal width (cm)</th>\n",
              "      <th>label</th>\n",
              "    </tr>\n",
              "  </thead>\n",
              "  <tbody>\n",
              "    <tr>\n",
              "      <th>0</th>\n",
              "      <td>5.1</td>\n",
              "      <td>3.5</td>\n",
              "      <td>1.4</td>\n",
              "      <td>0.2</td>\n",
              "      <td>0</td>\n",
              "    </tr>\n",
              "    <tr>\n",
              "      <th>1</th>\n",
              "      <td>4.9</td>\n",
              "      <td>3.0</td>\n",
              "      <td>1.4</td>\n",
              "      <td>0.2</td>\n",
              "      <td>0</td>\n",
              "    </tr>\n",
              "    <tr>\n",
              "      <th>2</th>\n",
              "      <td>4.7</td>\n",
              "      <td>3.2</td>\n",
              "      <td>1.3</td>\n",
              "      <td>0.2</td>\n",
              "      <td>0</td>\n",
              "    </tr>\n",
              "  </tbody>\n",
              "</table>\n",
              "</div>\n",
              "      <button class=\"colab-df-convert\" onclick=\"convertToInteractive('df-d2099441-d86a-4950-86b7-b6a911a0f412')\"\n",
              "              title=\"Convert this dataframe to an interactive table.\"\n",
              "              style=\"display:none;\">\n",
              "        \n",
              "  <svg xmlns=\"http://www.w3.org/2000/svg\" height=\"24px\"viewBox=\"0 0 24 24\"\n",
              "       width=\"24px\">\n",
              "    <path d=\"M0 0h24v24H0V0z\" fill=\"none\"/>\n",
              "    <path d=\"M18.56 5.44l.94 2.06.94-2.06 2.06-.94-2.06-.94-.94-2.06-.94 2.06-2.06.94zm-11 1L8.5 8.5l.94-2.06 2.06-.94-2.06-.94L8.5 2.5l-.94 2.06-2.06.94zm10 10l.94 2.06.94-2.06 2.06-.94-2.06-.94-.94-2.06-.94 2.06-2.06.94z\"/><path d=\"M17.41 7.96l-1.37-1.37c-.4-.4-.92-.59-1.43-.59-.52 0-1.04.2-1.43.59L10.3 9.45l-7.72 7.72c-.78.78-.78 2.05 0 2.83L4 21.41c.39.39.9.59 1.41.59.51 0 1.02-.2 1.41-.59l7.78-7.78 2.81-2.81c.8-.78.8-2.07 0-2.86zM5.41 20L4 18.59l7.72-7.72 1.47 1.35L5.41 20z\"/>\n",
              "  </svg>\n",
              "      </button>\n",
              "      \n",
              "  <style>\n",
              "    .colab-df-container {\n",
              "      display:flex;\n",
              "      flex-wrap:wrap;\n",
              "      gap: 12px;\n",
              "    }\n",
              "\n",
              "    .colab-df-convert {\n",
              "      background-color: #E8F0FE;\n",
              "      border: none;\n",
              "      border-radius: 50%;\n",
              "      cursor: pointer;\n",
              "      display: none;\n",
              "      fill: #1967D2;\n",
              "      height: 32px;\n",
              "      padding: 0 0 0 0;\n",
              "      width: 32px;\n",
              "    }\n",
              "\n",
              "    .colab-df-convert:hover {\n",
              "      background-color: #E2EBFA;\n",
              "      box-shadow: 0px 1px 2px rgba(60, 64, 67, 0.3), 0px 1px 3px 1px rgba(60, 64, 67, 0.15);\n",
              "      fill: #174EA6;\n",
              "    }\n",
              "\n",
              "    [theme=dark] .colab-df-convert {\n",
              "      background-color: #3B4455;\n",
              "      fill: #D2E3FC;\n",
              "    }\n",
              "\n",
              "    [theme=dark] .colab-df-convert:hover {\n",
              "      background-color: #434B5C;\n",
              "      box-shadow: 0px 1px 3px 1px rgba(0, 0, 0, 0.15);\n",
              "      filter: drop-shadow(0px 1px 2px rgba(0, 0, 0, 0.3));\n",
              "      fill: #FFFFFF;\n",
              "    }\n",
              "  </style>\n",
              "\n",
              "      <script>\n",
              "        const buttonEl =\n",
              "          document.querySelector('#df-d2099441-d86a-4950-86b7-b6a911a0f412 button.colab-df-convert');\n",
              "        buttonEl.style.display =\n",
              "          google.colab.kernel.accessAllowed ? 'block' : 'none';\n",
              "\n",
              "        async function convertToInteractive(key) {\n",
              "          const element = document.querySelector('#df-d2099441-d86a-4950-86b7-b6a911a0f412');\n",
              "          const dataTable =\n",
              "            await google.colab.kernel.invokeFunction('convertToInteractive',\n",
              "                                                     [key], {});\n",
              "          if (!dataTable) return;\n",
              "\n",
              "          const docLinkHtml = 'Like what you see? Visit the ' +\n",
              "            '<a target=\"_blank\" href=https://colab.research.google.com/notebooks/data_table.ipynb>data table notebook</a>'\n",
              "            + ' to learn more about interactive tables.';\n",
              "          element.innerHTML = '';\n",
              "          dataTable['output_type'] = 'display_data';\n",
              "          await google.colab.output.renderOutput(dataTable, element);\n",
              "          const docLink = document.createElement('div');\n",
              "          docLink.innerHTML = docLinkHtml;\n",
              "          element.appendChild(docLink);\n",
              "        }\n",
              "      </script>\n",
              "    </div>\n",
              "  </div>\n",
              "  "
            ]
          },
          "metadata": {},
          "execution_count": 158
        }
      ]
    },
    {
      "cell_type": "markdown",
      "source": [
        "> 피처에는 sepla'length, sepal width, petal length, petal width가 있음\n",
        "\n",
        "> 레이블은 0,1,2 세 가지 값으로 돼 있으며 0이 Setosa 품종, 1이 versicolor 품종, 2가 virginica 품종을 의미함\n"
      ],
      "metadata": {
        "id": "pq7n1zGNCVHZ"
      }
    },
    {
      "cell_type": "markdown",
      "source": [
        "  * 학습용 데이터와 테스트용 데이터를 분리\n",
        "    * 학습 데이터로 학습된 모델이 얼마나 뛰어난 성능을 가지는지 평가하려면 테스트 데이터 세트가 필요함\n",
        "\n",
        "  * train_test_split() : 학습 데이터와 테스트 데이터를 test_size 파라미터 입력 값의 비율로 분할\n",
        "  "
      ],
      "metadata": {
        "id": "KnsabhISCj_4"
      }
    },
    {
      "cell_type": "code",
      "source": [
        "X_train,X_test,y_train,y_test = train_test_split(iris_data, iris_label, test_size=0.2, random_state=11)"
      ],
      "metadata": {
        "id": "VIA98mFzCyn7"
      },
      "execution_count": 159,
      "outputs": []
    },
    {
      "cell_type": "markdown",
      "source": [
        "> iris_data : 피처 데이터 세트 / iris_labe : 레이블 데이터 세트\n",
        "\n",
        "iris_data : 피처 데이터 세트 / iris_labe : 레이블 데이터 세트\n",
        "\n",
        "> test_size : 전체 데이터 세트 중 테스트 데이터 세트의 비율\n",
        "\n",
        "> random_state : 호출할 때마다 같은 학습/테스트용 데이터 세트를 생성하기 위해 주어지는 난수 발생 값\n",
        "  * teset_train_split()은 호출 시 무작위로 데이터를 분리하므로 random_state를 지정하지 않으면 수행할 때마다 다른 학습/테스트용 데이터를 만들 수 있음\n",
        "\n",
        "> X_train : 학습용 피처 데이터 세트 / X_test : 테스트용 피처 데이터 세트 / y_train : 학습용 레이블 데이터 세트 / y_test : 테스트용 레이블 데이터 세트"
      ],
      "metadata": {
        "id": "SOI4QGlODCKD"
      }
    },
    {
      "cell_type": "markdown",
      "source": [
        "  * 의사결정트리를 이용해 학습과 예측 수행\n",
        "    * 예측은 반드시 학습 데이터가 아닌 다른 데이터를 이용해야 하며, 일반적으로 테스트 데이터 세트를 이용함\n",
        "      * DecisionTreeClassifier 객체의 predict() 메서드에 테스트용 피처 데이터 세트를 입력해 호출하면 학습된 모델 기반에서 테스트 데이터 세트에 대한 예측값을 반환"
      ],
      "metadata": {
        "id": "aC5VGXf6Ed7W"
      }
    },
    {
      "cell_type": "code",
      "source": [
        "#DecisionTreeClassifier 객체 생성\n",
        "dt_clf=DecisionTreeClassifier(random_state=11)\n",
        "\n",
        "# 학습 수행\n",
        "dt_clf.fit(X_train,y_train)"
      ],
      "metadata": {
        "colab": {
          "base_uri": "https://localhost:8080/"
        },
        "id": "mDn-poWlEkwU",
        "outputId": "6e1c4978-a64f-4825-f360-ffa456de5613"
      },
      "execution_count": 160,
      "outputs": [
        {
          "output_type": "execute_result",
          "data": {
            "text/plain": [
              "DecisionTreeClassifier(random_state=11)"
            ]
          },
          "metadata": {},
          "execution_count": 160
        }
      ]
    },
    {
      "cell_type": "code",
      "source": [
        "# 학습이 완료된 DecisionTreeClassifier 객체에서 테스트 데이터 세트로 예측 수행\n",
        "pred=dt_clf.predict(X_test)"
      ],
      "metadata": {
        "id": "8C2YFUJOE2Ub"
      },
      "execution_count": 161,
      "outputs": []
    },
    {
      "cell_type": "markdown",
      "source": [
        "  * 예측 결과를 기반으로 의사 결정 트리 기반의 DecisionTreeClassifier의 예측 성능을 평가\n",
        "    * 정확도 : 예측 결과가 실제 레이블 값과 얼마나 정확하게 맞는지를 평가하는 지표\n",
        "  \n",
        "  * accuracy_socre() : 정확도 측정 함수\n",
        "    * 첫번째 파라미터 : 실제 레이블 데이터 세트\n",
        "    * 두번째 파리미터 : 예측 레이블 데이터 세트"
      ],
      "metadata": {
        "id": "E6SDBJ7wFQBb"
      }
    },
    {
      "cell_type": "code",
      "source": [
        "#예측 붓꽃 품종과 실제 테스트 데이터 세트의 붓꽃 품종이 얼마나 일치하는지 확인\n",
        "from sklearn.metrics import accuracy_score\n",
        "\n",
        "print('예측 정확도 :  {0:4f}'.format(accuracy_score(y_test,pred)))"
      ],
      "metadata": {
        "colab": {
          "base_uri": "https://localhost:8080/"
        },
        "id": "-GNo2wWVFb5v",
        "outputId": "8b80404c-ad03-4db0-98d0-2d8a8ae3894b"
      },
      "execution_count": 162,
      "outputs": [
        {
          "output_type": "stream",
          "name": "stdout",
          "text": [
            "예측 정확도 :  0.933333\n"
          ]
        }
      ]
    },
    {
      "cell_type": "markdown",
      "source": [
        "<붓꽃 데이터 세트로 분류를 예측한 프로세스>\n",
        "\n",
        "\n",
        "  1. 데이터 세트 분리 : 데이터를 학습 데이터와 테스트 데이터로 분리\n",
        "  2. 모델 학습 : 학습 데이터를 기반으로 ML알고리즘을 적용해 모델을 학습\n",
        "  3. 예측 수행 : 학습된 ML 모델을 이용해 테스트 데이터의 분류를 예측\n",
        "  4. 평가 : 예측된 결과값과 테스트 데이터의 실제 결과값을 비교해 ML 모델 성능을 평가\n",
        "\n"
      ],
      "metadata": {
        "id": "PrtfEU8kFa7S"
      }
    },
    {
      "cell_type": "markdown",
      "source": [
        "##__3. 사이킷런의 기반 프레임워크 익히기__\n"
      ],
      "metadata": {
        "id": "ZGyCHO6kGSts"
      }
    },
    {
      "cell_type": "markdown",
      "source": [
        "###1) Estimator 이해 및 fit(), predict()메서드\n",
        "  * fit() : ML 모델 학습\n",
        "  * predict() : 학습된 모델의 예측\n",
        "  * 분류와 회귀의 다양한 알고리즘을 구현한 모든 사이킷런 클래스는 fit()과 predict()만을 이용해 간단하게 학습과 예측 결과반환\n",
        "  * Classifier : 분류 알고리즘을 구현한 클래스 / Regresser : 회귀 알고리즘을 구현한 클래스\n",
        "  * Estimator 클래스 : Classifier 클래스 + Regresser 클래스 =  지도학습의 모든 알고리즘을 구현한 클래스\n",
        "  * 사이킷런에서 비지도학습인 차원 축소, 클러스터링, 피처 추출 등을 구현한 클래스 역시 대부분 fit()과 transform()을 적용\n",
        "    * 비지도학습과 피처 추출에서의 fit()은 학습을 의미하는 것이 아니라 입력 데이터의 형태에 맞춰 데이터를 변환하기 위한 사전 구조를 맞추는 작업 >\n",
        "    * fit()으로 변환을 위한 사전 구조를 맞추면 이후 입력 데이터의 차원 변환, 클러스터링, 피처 추출 등의 실제 작업은 transform()으로 수행함.\n",
        "    * fit_transform()도 제공\n"
      ],
      "metadata": {
        "id": "EfNDtP2yGWqD"
      }
    },
    {
      "cell_type": "markdown",
      "source": [
        "###2) 사이킷런의 주요 모듈\n",
        "  * 예제 데이터\n",
        "    * sklearn.datasets : 사이킷런에 내장되어 예제로 제공하는 데이터 세트\n",
        "  * 피처 처리\n",
        "    * sklearn.preprocessing : 데이터 전처리에 필요한 다양한 가공 기능 제공(문자열을 숫자형 코드 값으로 인코딩, 정규화, 스케일링 등)\n",
        "    * sklearn.feature_selection : 알고리즘에 큰 영향을 미치는 피처를 우선순위대로 셀렉션 작업을 수행하는 다양한 기능 제공\n",
        "    * sklearn.feature_extraction : 텍스트 데이터나 이미지 데이터의 벡터화된 피처를 추출하는데 사용됨. 예를 들어 텍스트 데이터에서 Count Vectorizer나 Tf-Idf Vectorizer 등을 생성하는 기능 제공 텍스트 데이터의 피처 추출은 sklearn.feature_extraction.text 모듈에, 이미지 데이터의 피처 추출은 sklearn_feature_extraction.image 모듈에 지원 API가 있음\n",
        "  * 피처 처리 & 차원 축소\n",
        "    * sklean.decomposition : 차원 축소와 관련한 알고리즘을 지원하는 모듈. PCA,NMF,Trncated SVD 등을 통해 차원 축소 기능을 수행할 수 있음\n",
        "  * 데이터 분리, 검증 & 파라미터 튜닝\n",
        "    * sklearn.model_selection : 교차 검증을 위한 학습용/테스트용 분리, 그리드 전체 서치로 최적 파라미터 추출 등의 API 제공\n",
        "  * 평가\n",
        "    * sklean.metrics : 분류, 회귀, 클러스터링, 페어와이즈에 대한 다양한 성능 측정 방법 제공. Accuracy, Precision, Recall, ROC-AUC, RMSE 등 제공\n",
        "  * ML 알고리즘\n",
        "    * skleanr.ensemble : 앙상블 알고리즘 제공. 랜덤 포레스트, 에이다 부스트, 그래디언트 부스팅 등을 제공\n",
        "    * sklearn.linear_model : 주로 선형 회귀, 릿지, 라쏘 및 로지스틱 회귀 등 회귀 관련 알고리즘을 지원. 또한 SGD 관련 알고리즘도 제공\n",
        "    * sklearn.naive_bayes : 나이브 베이즈 알고리즘 제공. 가우시안 NB, 다항분포 NB 등\n",
        "    * sklearn.neighbors : 최근접 이웃 알고리즘 제공, K-NN 등\n",
        "    * sklearn.svm : 서포트 벡터 머신 알고리즘 제공\n",
        "    * sklearn.tree : 의사 결정 트리 알고리즘 제공\n",
        "    * sklearn.cluster : 비지도 클러스터링 알고리즘 제공 (K-평균, 계층형, DBSCAN 등)\n",
        "  * 유틸리티\n",
        "    * sklearn.pipelien : 피처 처리 등의 변환과 ML알고리즘 학습, 예측 등을 함께 묶어서 실행할 수 있는 유틸리티 제공\n",
        "    \n"
      ],
      "metadata": {
        "id": "sI3rEAkXHrM_"
      }
    },
    {
      "cell_type": "markdown",
      "source": [
        "  * 일반적으로 머신러닝 모델을 구축하는 주요 프로세스는 피처의 가공, 변경, 추출을 수행하는 피처 처리(Feature processing), ML 알고리즘 학습/예측 수행, 모델 평가의 단계를 반복적으로 수행하는 것"
      ],
      "metadata": {
        "id": "NknRUuqtKAzX"
      }
    },
    {
      "cell_type": "markdown",
      "source": [
        "###4) 내장된 예제 데이터 세트\n",
        "  * 분류와 회귀 연습용 예제 데이터\n",
        "    * datasets.load_boston() : 회귀 용도, 미국 보스턴의 집 피처들과 가격에 대한 데이터 세트\n",
        "    * datasets.load_breast_cancer() : 분류 용도, 위스콘신 유방암 피처들과 악성/음성 레이블 데이터 세트\n",
        "    * datasets.load_diabetes() : 회귀 용도, 당뇨 데이터 세트\n",
        "    * datasets.load_digits() : 분류 용도, 0에서 9까지 숫자의 이미지 픽셀 데이터 세트\n",
        "    * datasets.load_iris() : 분류 용도, 붓꽃에 대한 피처를 가진 데이터 세트\n",
        "  * fetch계열의 데이터 : 인터넷에서 내려받아 홈 디렉터리 아래의 scikit_learn_data 라는 서브 디렉터리에 저정한 후 추후 불러들이는 데이터\n",
        "    * fetch_covtype() : 회귀 분석용 토지 조사 자료\n",
        "    * fetch_20newsgroups() : 뉴스 그룹 텍스트 자료\n",
        "    * fetch_lfw_people() : 얼굴 이미지 자료\n",
        "    * fetch_olivetti_faces() : 얼굴 이미지 자료\n",
        "    * fetch_lfw_pairs() : 얼굴 이미지 자료\n",
        "    * fetch_rcv1() : 로이터 뉴스 말뭉치\n",
        "    * fetch_mldata() : ML 웹사이트에서 다운로드\n",
        "\n",
        "  * 분류와 클러스터링을 위한 표본 데이터 생성기\n",
        "    * datasets.make_classifiactions() : 분류를 위한 데이터 세트를 만듦. 특히 높은 상관도, 불필요한 속성 등의 노이즈 효과를 위한 데이터를 무작위로 생성해 줌\n",
        "    * datasets.make_blobs() : 클러스터링을 위한 데이터 세트를 무작위로 생성해 줌. 군집 비정 개수에 따라 여러 가지 클러스터링을 위한 데이터 세트르 쉽게 만들어 줌\n",
        "\n",
        "  * 분류나 회귀를 위한 연습용 예제 데이터 세트는 딕셔너리 형태로 되어 있음\n",
        "    * data : 피처의 데이터 세트\n",
        "    * target : 분류 시 레이블 값, 회귀일 때는 숫자 결과값 데이터 세트\n",
        "    * target_names : 개별 레이블의 이름\n",
        "    * feature_names : 피처의 이름\n",
        "    * DESCR : 데이터 세트에 대한 설명과 각 피처의 설명\n",
        "    * data, target은 ndarray, target_names, feature_names는 ndarray 또는 list, DESCR 은 string\n",
        "\n",
        "  "
      ],
      "metadata": {
        "id": "u4ogWg4FKQg0"
      }
    },
    {
      "cell_type": "markdown",
      "source": [
        "  * 피처의 데이터 값을 반환받기 위해서는 내장 데이터 세트 API를 호출한 뒤에 그 Key 값을 지정하면 됨"
      ],
      "metadata": {
        "id": "aRPZGTp_MXSV"
      }
    },
    {
      "cell_type": "code",
      "source": [
        "# 붓꽃 데이터 세트 생성\n",
        "from sklearn.datasets import load_iris\n",
        "\n",
        "iris_data=load_iris()\n",
        "print(type(iris_data))\n"
      ],
      "metadata": {
        "colab": {
          "base_uri": "https://localhost:8080/"
        },
        "id": "MK5ZGmF8Md9H",
        "outputId": "a1af17db-a2b9-4a99-c838-2caffd1b640c"
      },
      "execution_count": 163,
      "outputs": [
        {
          "output_type": "stream",
          "name": "stdout",
          "text": [
            "<class 'sklearn.utils.Bunch'>\n"
          ]
        }
      ]
    },
    {
      "cell_type": "markdown",
      "source": [
        "> load_iris() API의 반환 결과는 sklearn.utils.Bunch 클래스\n",
        "  * Bunch 클래스는 파이썬 딕셔너리 자료형과 유사"
      ],
      "metadata": {
        "id": "5TNxap_gMosS"
      }
    },
    {
      "cell_type": "code",
      "source": [
        "#load_iris() 데이터 세트의 key값을 확인\n",
        "keys=iris_data.keys()\n",
        "print('붓꽃 데이터 세트의 키들 : ',keys)"
      ],
      "metadata": {
        "colab": {
          "base_uri": "https://localhost:8080/"
        },
        "id": "8KCAYGihMzxX",
        "outputId": "ca39525f-21d3-4bca-8a4e-0d46ab42bd8f"
      },
      "execution_count": 164,
      "outputs": [
        {
          "output_type": "stream",
          "name": "stdout",
          "text": [
            "붓꽃 데이터 세트의 키들 :  dict_keys(['data', 'target', 'frame', 'target_names', 'DESCR', 'feature_names', 'filename', 'data_module'])\n"
          ]
        }
      ]
    },
    {
      "cell_type": "markdown",
      "source": [
        "> data : 피처들의 데이터 값\n",
        "  * 데이터 세트가 딕셔너리 형태이기 때문에 피처 데이터 값을 추출하기 위해서는 데이터 세트.data 또는 데이터세트['data']를 이용하면 됨"
      ],
      "metadata": {
        "id": "sBvdyQOhNBA7"
      }
    },
    {
      "cell_type": "code",
      "source": [
        "print('\\n feature_names의 type : ',type(iris_data.feature_names))\n",
        "print(' feature_names의 shape : ', len(iris_data.feature_names))\n",
        "print(iris_data.feature_names)\n",
        "\n",
        "print('\\n target_names의 type : ',type(iris_data.target_names))\n",
        "print(' target_names의 shape : ', len(iris_data.target_names))\n",
        "print(iris_data.target_names)\n",
        "\n",
        "print('\\n data의 type : ',type(iris_data.data))\n",
        "print(' data의 shape : ', len(iris_data.data))\n",
        "print(iris_data.data)\n",
        "\n",
        "print('\\n target의 type : ',type(iris_data.target))\n",
        "print(' target의 shape : ', len(iris_data.target))\n",
        "print(iris_data.target)\n"
      ],
      "metadata": {
        "colab": {
          "base_uri": "https://localhost:8080/"
        },
        "id": "RAeX7dXPN0Xu",
        "outputId": "61269466-0e73-4cb9-fbee-4d37b2f71703"
      },
      "execution_count": 165,
      "outputs": [
        {
          "output_type": "stream",
          "name": "stdout",
          "text": [
            "\n",
            " feature_names의 type :  <class 'list'>\n",
            " feature_names의 shape :  4\n",
            "['sepal length (cm)', 'sepal width (cm)', 'petal length (cm)', 'petal width (cm)']\n",
            "\n",
            " target_names의 type :  <class 'numpy.ndarray'>\n",
            " target_names의 shape :  3\n",
            "['setosa' 'versicolor' 'virginica']\n",
            "\n",
            " data의 type :  <class 'numpy.ndarray'>\n",
            " data의 shape :  150\n",
            "[[5.1 3.5 1.4 0.2]\n",
            " [4.9 3.  1.4 0.2]\n",
            " [4.7 3.2 1.3 0.2]\n",
            " [4.6 3.1 1.5 0.2]\n",
            " [5.  3.6 1.4 0.2]\n",
            " [5.4 3.9 1.7 0.4]\n",
            " [4.6 3.4 1.4 0.3]\n",
            " [5.  3.4 1.5 0.2]\n",
            " [4.4 2.9 1.4 0.2]\n",
            " [4.9 3.1 1.5 0.1]\n",
            " [5.4 3.7 1.5 0.2]\n",
            " [4.8 3.4 1.6 0.2]\n",
            " [4.8 3.  1.4 0.1]\n",
            " [4.3 3.  1.1 0.1]\n",
            " [5.8 4.  1.2 0.2]\n",
            " [5.7 4.4 1.5 0.4]\n",
            " [5.4 3.9 1.3 0.4]\n",
            " [5.1 3.5 1.4 0.3]\n",
            " [5.7 3.8 1.7 0.3]\n",
            " [5.1 3.8 1.5 0.3]\n",
            " [5.4 3.4 1.7 0.2]\n",
            " [5.1 3.7 1.5 0.4]\n",
            " [4.6 3.6 1.  0.2]\n",
            " [5.1 3.3 1.7 0.5]\n",
            " [4.8 3.4 1.9 0.2]\n",
            " [5.  3.  1.6 0.2]\n",
            " [5.  3.4 1.6 0.4]\n",
            " [5.2 3.5 1.5 0.2]\n",
            " [5.2 3.4 1.4 0.2]\n",
            " [4.7 3.2 1.6 0.2]\n",
            " [4.8 3.1 1.6 0.2]\n",
            " [5.4 3.4 1.5 0.4]\n",
            " [5.2 4.1 1.5 0.1]\n",
            " [5.5 4.2 1.4 0.2]\n",
            " [4.9 3.1 1.5 0.2]\n",
            " [5.  3.2 1.2 0.2]\n",
            " [5.5 3.5 1.3 0.2]\n",
            " [4.9 3.6 1.4 0.1]\n",
            " [4.4 3.  1.3 0.2]\n",
            " [5.1 3.4 1.5 0.2]\n",
            " [5.  3.5 1.3 0.3]\n",
            " [4.5 2.3 1.3 0.3]\n",
            " [4.4 3.2 1.3 0.2]\n",
            " [5.  3.5 1.6 0.6]\n",
            " [5.1 3.8 1.9 0.4]\n",
            " [4.8 3.  1.4 0.3]\n",
            " [5.1 3.8 1.6 0.2]\n",
            " [4.6 3.2 1.4 0.2]\n",
            " [5.3 3.7 1.5 0.2]\n",
            " [5.  3.3 1.4 0.2]\n",
            " [7.  3.2 4.7 1.4]\n",
            " [6.4 3.2 4.5 1.5]\n",
            " [6.9 3.1 4.9 1.5]\n",
            " [5.5 2.3 4.  1.3]\n",
            " [6.5 2.8 4.6 1.5]\n",
            " [5.7 2.8 4.5 1.3]\n",
            " [6.3 3.3 4.7 1.6]\n",
            " [4.9 2.4 3.3 1. ]\n",
            " [6.6 2.9 4.6 1.3]\n",
            " [5.2 2.7 3.9 1.4]\n",
            " [5.  2.  3.5 1. ]\n",
            " [5.9 3.  4.2 1.5]\n",
            " [6.  2.2 4.  1. ]\n",
            " [6.1 2.9 4.7 1.4]\n",
            " [5.6 2.9 3.6 1.3]\n",
            " [6.7 3.1 4.4 1.4]\n",
            " [5.6 3.  4.5 1.5]\n",
            " [5.8 2.7 4.1 1. ]\n",
            " [6.2 2.2 4.5 1.5]\n",
            " [5.6 2.5 3.9 1.1]\n",
            " [5.9 3.2 4.8 1.8]\n",
            " [6.1 2.8 4.  1.3]\n",
            " [6.3 2.5 4.9 1.5]\n",
            " [6.1 2.8 4.7 1.2]\n",
            " [6.4 2.9 4.3 1.3]\n",
            " [6.6 3.  4.4 1.4]\n",
            " [6.8 2.8 4.8 1.4]\n",
            " [6.7 3.  5.  1.7]\n",
            " [6.  2.9 4.5 1.5]\n",
            " [5.7 2.6 3.5 1. ]\n",
            " [5.5 2.4 3.8 1.1]\n",
            " [5.5 2.4 3.7 1. ]\n",
            " [5.8 2.7 3.9 1.2]\n",
            " [6.  2.7 5.1 1.6]\n",
            " [5.4 3.  4.5 1.5]\n",
            " [6.  3.4 4.5 1.6]\n",
            " [6.7 3.1 4.7 1.5]\n",
            " [6.3 2.3 4.4 1.3]\n",
            " [5.6 3.  4.1 1.3]\n",
            " [5.5 2.5 4.  1.3]\n",
            " [5.5 2.6 4.4 1.2]\n",
            " [6.1 3.  4.6 1.4]\n",
            " [5.8 2.6 4.  1.2]\n",
            " [5.  2.3 3.3 1. ]\n",
            " [5.6 2.7 4.2 1.3]\n",
            " [5.7 3.  4.2 1.2]\n",
            " [5.7 2.9 4.2 1.3]\n",
            " [6.2 2.9 4.3 1.3]\n",
            " [5.1 2.5 3.  1.1]\n",
            " [5.7 2.8 4.1 1.3]\n",
            " [6.3 3.3 6.  2.5]\n",
            " [5.8 2.7 5.1 1.9]\n",
            " [7.1 3.  5.9 2.1]\n",
            " [6.3 2.9 5.6 1.8]\n",
            " [6.5 3.  5.8 2.2]\n",
            " [7.6 3.  6.6 2.1]\n",
            " [4.9 2.5 4.5 1.7]\n",
            " [7.3 2.9 6.3 1.8]\n",
            " [6.7 2.5 5.8 1.8]\n",
            " [7.2 3.6 6.1 2.5]\n",
            " [6.5 3.2 5.1 2. ]\n",
            " [6.4 2.7 5.3 1.9]\n",
            " [6.8 3.  5.5 2.1]\n",
            " [5.7 2.5 5.  2. ]\n",
            " [5.8 2.8 5.1 2.4]\n",
            " [6.4 3.2 5.3 2.3]\n",
            " [6.5 3.  5.5 1.8]\n",
            " [7.7 3.8 6.7 2.2]\n",
            " [7.7 2.6 6.9 2.3]\n",
            " [6.  2.2 5.  1.5]\n",
            " [6.9 3.2 5.7 2.3]\n",
            " [5.6 2.8 4.9 2. ]\n",
            " [7.7 2.8 6.7 2. ]\n",
            " [6.3 2.7 4.9 1.8]\n",
            " [6.7 3.3 5.7 2.1]\n",
            " [7.2 3.2 6.  1.8]\n",
            " [6.2 2.8 4.8 1.8]\n",
            " [6.1 3.  4.9 1.8]\n",
            " [6.4 2.8 5.6 2.1]\n",
            " [7.2 3.  5.8 1.6]\n",
            " [7.4 2.8 6.1 1.9]\n",
            " [7.9 3.8 6.4 2. ]\n",
            " [6.4 2.8 5.6 2.2]\n",
            " [6.3 2.8 5.1 1.5]\n",
            " [6.1 2.6 5.6 1.4]\n",
            " [7.7 3.  6.1 2.3]\n",
            " [6.3 3.4 5.6 2.4]\n",
            " [6.4 3.1 5.5 1.8]\n",
            " [6.  3.  4.8 1.8]\n",
            " [6.9 3.1 5.4 2.1]\n",
            " [6.7 3.1 5.6 2.4]\n",
            " [6.9 3.1 5.1 2.3]\n",
            " [5.8 2.7 5.1 1.9]\n",
            " [6.8 3.2 5.9 2.3]\n",
            " [6.7 3.3 5.7 2.5]\n",
            " [6.7 3.  5.2 2.3]\n",
            " [6.3 2.5 5.  1.9]\n",
            " [6.5 3.  5.2 2. ]\n",
            " [6.2 3.4 5.4 2.3]\n",
            " [5.9 3.  5.1 1.8]]\n",
            "\n",
            " target의 type :  <class 'numpy.ndarray'>\n",
            " target의 shape :  150\n",
            "[0 0 0 0 0 0 0 0 0 0 0 0 0 0 0 0 0 0 0 0 0 0 0 0 0 0 0 0 0 0 0 0 0 0 0 0 0\n",
            " 0 0 0 0 0 0 0 0 0 0 0 0 0 1 1 1 1 1 1 1 1 1 1 1 1 1 1 1 1 1 1 1 1 1 1 1 1\n",
            " 1 1 1 1 1 1 1 1 1 1 1 1 1 1 1 1 1 1 1 1 1 1 1 1 1 1 2 2 2 2 2 2 2 2 2 2 2\n",
            " 2 2 2 2 2 2 2 2 2 2 2 2 2 2 2 2 2 2 2 2 2 2 2 2 2 2 2 2 2 2 2 2 2 2 2 2 2\n",
            " 2 2]\n"
          ]
        }
      ]
    },
    {
      "cell_type": "markdown",
      "source": [
        "##4. Model Selection 모듈 소개\n",
        "\n",
        "  * 사이킷런의 model_selection 모듈은 학습 데이터와 테스트 데이터 세트를 분리하거나 교차 검증 분할 및 평가, 그리고 Estimator의 하이퍼 파라미터를 튜닝하기 위한 다양한 함수와 클래스를 제공"
      ],
      "metadata": {
        "id": "_fZh7thxMoo9"
      }
    },
    {
      "cell_type": "markdown",
      "source": [
        "###1) 학습/테스트 데이터 세트 분리 - train_test_split()\n",
        "\n",
        "  * 먼저 테스트 데이터 세트를 이용하지 않고 학습 데이터 세트로만 학습한 경우 생기는 문제점"
      ],
      "metadata": {
        "id": "G2dWl-vCOvV9"
      }
    },
    {
      "cell_type": "code",
      "source": [
        "from sklearn.datasets import load_iris\n",
        "from sklearn.tree import DecisionTreeClassifier\n",
        "from sklearn.metrics import accuracy_score\n",
        "\n",
        "iris=load_iris()\n",
        "dt_clf=DecisionTreeClassifier()\n",
        "train_data=iris.data\n",
        "train_label=iris.target\n",
        "dt_clf.fit(train_data,train_label)\n",
        "\n",
        "#학습 데이터 세트로 예측 수행\n",
        "pred=dt_clf.predict(train_data)\n",
        "print('예측 정확도:',accuracy_score(train_label,pred))"
      ],
      "metadata": {
        "colab": {
          "base_uri": "https://localhost:8080/"
        },
        "id": "GQwCveuSO8j0",
        "outputId": "4de3b829-c505-4ca4-fef3-2f239c69a367"
      },
      "execution_count": 166,
      "outputs": [
        {
          "output_type": "stream",
          "name": "stdout",
          "text": [
            "예측 정확도: 1.0\n"
          ]
        }
      ]
    },
    {
      "cell_type": "markdown",
      "source": [
        "> 예측 정확도가 100%\n"
      ],
      "metadata": {
        "id": "ocZIk6BfPsVL"
      }
    },
    {
      "cell_type": "markdown",
      "source": [
        "  * train_test_split() : 원본 데이터 세트에서 학습 및 테스트 데이터 세트를 분리\n",
        "    * 첫번째 파라미터 : 피처 데이터 세트, 두번째 파라미터 : 레이블 데이터 세트\n",
        "    * test_size : 전체 데이터에서 테스트 데이터 세트 크기를 얼마로 샘플링할 것인가를 정함 / default : 0.25\n",
        "    * train_size : 전체 데이터에서 학습용 데이터 세트를 크기를 얼마로 샘플링 할 것인가를 결정 / 잘 사용되지 않음\n",
        "    * shuffle : 데이터를 분리하기 전에 데이터를 미리 섞을지 결정 / default : True / 데이터를 분산시켜서 좀 더 효율적인 학습 및 테스트 데이터 세트를 만드는 데 사용\n",
        "    * random_state : 호출할 때마다 동일한 학습/테스트용 데이터 세트를 생성하기 위해 주어지는 난수 값\n",
        "    * train_test_split()의 반환 값은 튜플 형태. 순차적으로 학습용 데이터의 피처 데이터 세트, 테스트용 데이터의 피처 데이터 세트, 학습용 데이터의 레이블 데이터 세트, 테스트용 데이터의 레이블 데이터 세트가 반환됨\n",
        "\n"
      ],
      "metadata": {
        "id": "0U9UbojkPy9z"
      }
    },
    {
      "cell_type": "code",
      "source": [
        "from sklearn.tree import DecisionTreeClassifier\n",
        "from sklearn.metrics import accuracy_score\n",
        "from sklearn.datasets import load_iris\n",
        "from sklearn.model_selection import train_test_split\n",
        "\n",
        "dt_clf=DecisionTreeClassifier()\n",
        "iris_Data=load_iris()\n",
        "X_train,X_test,y_train,y_test=train_test_split(iris_data.data,iris_data.target, test_size=0.3,random_state=121)"
      ],
      "metadata": {
        "id": "sRMorfbSQx_e"
      },
      "execution_count": 167,
      "outputs": []
    },
    {
      "cell_type": "code",
      "source": [
        "dt_clf.fit(X_train,y_train)\n",
        "pred=dt_clf.predict(X_test)\n",
        "print('예측정확도 : {0:.4f}'.format(accuracy_score(y_test,pred)))"
      ],
      "metadata": {
        "colab": {
          "base_uri": "https://localhost:8080/"
        },
        "id": "zvu_f1VWRwAP",
        "outputId": "db772bad-5954-48c2-afb6-b0c9f639aad7"
      },
      "execution_count": 168,
      "outputs": [
        {
          "output_type": "stream",
          "name": "stdout",
          "text": [
            "예측정확도 : 0.9556\n"
          ]
        }
      ]
    },
    {
      "cell_type": "markdown",
      "source": [
        "> 붓꽃 데이터는 150개의 데이터로 데이터 양이 크지 않아 전체의 30% 정도인 테스트 데이터는 45개 정도 밖에 되지 않으므로 이를 통해 알고리즘의 예측 성능을 판단하기에는 적절하지 않음"
      ],
      "metadata": {
        "id": "j3kuKZsOSK6I"
      }
    },
    {
      "cell_type": "markdown",
      "source": [
        "###2) 교차 검증\n",
        "\n",
        "* 과적합 : 모델이 학습 데이터에만 과도하게 최적화되어 실제 예측을 다른 데이터로 수행할 경우에는 예측 성능이 과도하게 떨어지는 것\n",
        "\n",
        "* 고정된 학습 데이터와 테스트 데이터로 평가를 하다 보면 테스트 데이터에만 과적합되는 학습 모델이 만들어져 다른 테스트용 데이터가 들어올 경우에는 성능이 저하됨 >> 교차검증\n",
        "\n",
        "* 교차검증\n",
        "  * 별도의 여러 세트로 구성된 학습 데이터 세트와 검증 데이터 세트에서 학습과 평가를 수행하는 것\n",
        "  * 각 세트에서 수행한 평가 결과에 따라 하이퍼 파라미터 튜닝 등의 모델 최적화를 쉽게 할 수 있음\n",
        "\n",
        "* 대부분의 ML 모델의 성능 평가는 교차 검증 기반으로 1차 평가를 한 뒤에 최종적으로 테스트 데이터세트에 적용해 평가하는 프로세스\n",
        "\n",
        "* ML에 사용되는 데이터 세트를 세분화해서 학습, 검증, 테스트 데이터 세트로 나눌 수 있음. 테스트 데이터 세트 외에 별도의 검증 데이터 세트를 둬서 최종 평가 이전에 학습된 모델을 다양하게 평가하는 데 사용"
      ],
      "metadata": {
        "id": "3x6G9DizSVQo"
      }
    },
    {
      "cell_type": "markdown",
      "source": [
        "####(1) K 폴드 교차 검증\n",
        "\n",
        "* 가장 보편적으로 사용되는 교차 검증 기법\n",
        "* K 개의 데이터 폴드 세트를 만들어서 K번 만큼 각 폴드 세트에 학습과 검증 평가를 반복적으로 수행\n",
        "\n",
        "* K=5\n",
        "  * 5개의 폴드된 데이터 세트를 학습과 검증을 위한 데이터 세트로 변경하면서 5변 평가를 수행한 뒤, 이 5개의 평가를 평균한 결과를 가지고 예측 성능을 평가\n",
        "\n",
        "    (1) 데이터 세트를 5등분\n",
        "\n",
        "    (2) 처음부터 4개 등분을 학습 데이터 세트, 마지막 5번째 등분 하나를 검증 데이터 세트로 설정\n",
        "\n",
        "    (3) 학습 데이터 세트에서 학습 수행, 검증 데이터 세트에서 평가 수행\n",
        "\n",
        "    (4) 두번째 반복에서는 4번째 등분을 검증 데이터 세트로 사용\n",
        "\n",
        "    (5) 학습 데이터 세트와 검증 데이터 세트를 점진적으로 변경하면서 마지막 5번째까지 학습과 검증을 수행\n",
        "\n",
        "    (6) 5개의 예측 평가를 구했으면 이를 평균해서 K폴드 평가 결과로 반영\n",
        "\n",
        "* 사이킷런에서는 K폴드 교차 검증 프로세스를 구현하기 위해 KFold, StratifiedKFold 클래스를 제공함\n",
        "\n"
      ],
      "metadata": {
        "id": "4QsDPSG1Vscn"
      }
    },
    {
      "cell_type": "code",
      "source": [
        "from sklearn.tree import DecisionTreeClassifier\n",
        "from sklearn.metrics import accuracy_score\n",
        "from sklearn.model_selection import KFold\n",
        "import numpy as np\n",
        "\n",
        "iris=load_iris()\n",
        "features=iris.data\n",
        "label=iris.target\n",
        "dt_clf=DecisionTreeClassifier(random_state=156)\n",
        "\n",
        "#5개의 폴드 세트로 분리하는 KFold 객체와 폴드 세트 별 정확도를 담을 리스트 객체 생성\n",
        "kfold=KFold(n_splits=5)\n",
        "cv_accuracy=[]\n",
        "print('붓꽃 데이터 세트 크기 : ', features.shape[0])"
      ],
      "metadata": {
        "colab": {
          "base_uri": "https://localhost:8080/"
        },
        "id": "QTZl7orkXKXC",
        "outputId": "e57fdf2e-cbe8-4cf0-9f3e-5dbbec8ef404"
      },
      "execution_count": 169,
      "outputs": [
        {
          "output_type": "stream",
          "name": "stdout",
          "text": [
            "붓꽃 데이터 세트 크기 :  150\n"
          ]
        }
      ]
    },
    {
      "cell_type": "markdown",
      "source": [
        "* KFold 객체의 split() : 데이터 세트 분리\n",
        "  * 학습용/검증용 데이터로 분할할 수 있는 인덱스를 반환\n",
        "  * 실제로 학습용/검증용 데이터 추출은 반환된 인덱스를 기반으로 개발 코드에서 직접 수행해야 함"
      ],
      "metadata": {
        "id": "2-7lECiFXxvJ"
      }
    },
    {
      "cell_type": "code",
      "source": [
        "n_iter=0\n",
        "\n",
        "#KFold 객체의 split()를 호출하면 폴드 별 학습용, 검증용 테스트의 로우 인덱스를 array로 반환\n",
        "for train_index, test_index in kfold.split(features):\n",
        "  #kfold.split()으로 반환된 인덱스를 이용해 학습용, 검증용 테스트 데이터 추출\n",
        "  X_train,X_test=features[train_index],features[test_index]\n",
        "  y_train,y_test=label[train_index],label[test_index]\n",
        "  #학습 및 예측\n",
        "  dt_clf.fit(X_train,y_train)\n",
        "  pred=dt_clf.predict(X_test)\n",
        "  n_iter+=1\n",
        "  #반복시마다 정확도 측정\n",
        "  accuracy=np.round(accuracy_score(y_test,pred),4)\n",
        "  train_size=X_train.shape[0]\n",
        "  test_size=X_test.shape[0]\n",
        "  print('\\{0} 교차 검증 정확도 : {1}, 학습 데이터 크기: {2}, 검증 데이터 크기:{3}'.format(n_iter,accuracy,train_size,test_size))\n",
        "  print('\\{0} 검증 세트 인덱스:{1}'.format(n_iter,test_index))\n",
        "  cv_accuracy.append(accuracy)\n",
        "\n",
        "#개별 iteration별 정확도를 합하여 평균 정확도 계산\n",
        "print('\\n## 평균 검증 정확도 : ', np.mean(cv_accuracy))"
      ],
      "metadata": {
        "colab": {
          "base_uri": "https://localhost:8080/"
        },
        "id": "4tDRdoCyXvuA",
        "outputId": "11f82f9e-86ef-4aa4-8e66-6e1e85f1f65a"
      },
      "execution_count": 170,
      "outputs": [
        {
          "output_type": "stream",
          "name": "stdout",
          "text": [
            "\\1 교차 검증 정확도 : 1.0, 학습 데이터 크기: 120, 검증 데이터 크기:30\n",
            "\\1 검증 세트 인덱스:[ 0  1  2  3  4  5  6  7  8  9 10 11 12 13 14 15 16 17 18 19 20 21 22 23\n",
            " 24 25 26 27 28 29]\n",
            "\\2 교차 검증 정확도 : 0.9667, 학습 데이터 크기: 120, 검증 데이터 크기:30\n",
            "\\2 검증 세트 인덱스:[30 31 32 33 34 35 36 37 38 39 40 41 42 43 44 45 46 47 48 49 50 51 52 53\n",
            " 54 55 56 57 58 59]\n",
            "\\3 교차 검증 정확도 : 0.8667, 학습 데이터 크기: 120, 검증 데이터 크기:30\n",
            "\\3 검증 세트 인덱스:[60 61 62 63 64 65 66 67 68 69 70 71 72 73 74 75 76 77 78 79 80 81 82 83\n",
            " 84 85 86 87 88 89]\n",
            "\\4 교차 검증 정확도 : 0.9333, 학습 데이터 크기: 120, 검증 데이터 크기:30\n",
            "\\4 검증 세트 인덱스:[ 90  91  92  93  94  95  96  97  98  99 100 101 102 103 104 105 106 107\n",
            " 108 109 110 111 112 113 114 115 116 117 118 119]\n",
            "\\5 교차 검증 정확도 : 0.7333, 학습 데이터 크기: 120, 검증 데이터 크기:30\n",
            "\\5 검증 세트 인덱스:[120 121 122 123 124 125 126 127 128 129 130 131 132 133 134 135 136 137\n",
            " 138 139 140 141 142 143 144 145 146 147 148 149]\n",
            "\n",
            "## 평균 검증 정확도 :  0.9\n"
          ]
        }
      ]
    },
    {
      "cell_type": "markdown",
      "source": [
        "####(2) Stratified K 폴드\n",
        "\n",
        "* 불균형한 분포도를 가진 레이블 데이터 집합을 위한 K폴드 방식\n",
        "  * 불균형한 분포도를 가진 레이블 데이터 집합 : 특정 레이블 값이 특이하게 많거나 매우 적어서 값의 분포가 한쪽으로 치우치는 것\n",
        "\n",
        "* ex. 대출사기 데이터 예측\n",
        "  * 대출사기 : 1, 정상대출 : 0\n",
        "  * 데이터 1억건 중 1000건의 대출사기\n",
        "  * 작은 비율로 1 레이블 값이 있다면 K폴드로 랜덤하게 학습 및 테스트 세트의 인덱스를 고르더라도 레이블 값인 0과 1의 비율을 제대로 반영하지 못하는 경우가 쉽게 발생함. 즉, 레이블 값으로 1이 특정 개별 반복별 학습/테스트 데이터 세트에는 상대적으로 많이 들어 있고, 다른 반복 학습/테스트 데이터 세트에는 그렇지 못한 결과가 발생\n",
        "  * 원본 데이터와 유사한 대출 사기 레이블 값의 분포를 학습/테스트 세트에도 유지하는 것이 매우 중요\n",
        "\n",
        "* Stratified K폴드는 이처럼 K폴드가 레이블 데이터 집합이 원본 데이터 집합의 레이블 분포를 학습 및 테스트 세트에 제대로 분배하지 못하는 경우의 문제를 해결해 줌.\n",
        "\n",
        "* 원본 데이터의 레이블 분포를 먼저 고려한 뒤 이 분포와 동일하게 학습과 검증 데이터 세트를 분배"
      ],
      "metadata": {
        "id": "xiWaNlyWXp5k"
      }
    },
    {
      "cell_type": "code",
      "source": [
        "# K폴드의 문제점 확인\n",
        "import pandas as pd\n",
        "iris= load_iris()\n",
        "iris_df=pd.DataFrame(data=iris.data,columns=iris.feature_names)\n",
        "iris_df['label']=iris.target\n",
        "iris_df['label'].value_counts()"
      ],
      "metadata": {
        "colab": {
          "base_uri": "https://localhost:8080/"
        },
        "id": "72PAuOdFdL6z",
        "outputId": "8240a02e-f194-4ed5-9d8f-8036e8762b82"
      },
      "execution_count": 171,
      "outputs": [
        {
          "output_type": "execute_result",
          "data": {
            "text/plain": [
              "0    50\n",
              "1    50\n",
              "2    50\n",
              "Name: label, dtype: int64"
            ]
          },
          "metadata": {},
          "execution_count": 171
        }
      ]
    },
    {
      "cell_type": "markdown",
      "source": [
        "> 레이블 값은 0,1,2 모두 50개로 동일"
      ],
      "metadata": {
        "id": "rsv4tEFfej7n"
      }
    },
    {
      "cell_type": "code",
      "source": [
        "# 3개의 폴드 세트를 KFold로 생성하고, 각 교차 검증시마다 생성되는 학습/검증 레이블 데이터 값의 분포도를 확인\n",
        "kfold=KFold(n_splits=3)\n",
        "n_iter=0\n",
        "for train_index,test_index in kfold.split(iris_df):\n",
        "  n_iter+=1\n",
        "  label_train=iris_df['label'].iloc[train_index]\n",
        "  label_test=iris_df['label'].iloc[test_index]\n",
        "  print('## 교차 검증: {0}'.format(n_iter))\n",
        "  print('학습 레이블 데이터 분포:\\n',label_train.value_counts())\n",
        "  print('검증 레이블 데이터 분포:\\n',label_test.value_counts(),iris_df['label'].value_counts)\n"
      ],
      "metadata": {
        "colab": {
          "base_uri": "https://localhost:8080/"
        },
        "id": "vkNXV8Y-eoOQ",
        "outputId": "85c38366-9083-4892-865c-c2e8ae363edc"
      },
      "execution_count": 172,
      "outputs": [
        {
          "output_type": "stream",
          "name": "stdout",
          "text": [
            "## 교차 검증: 1\n",
            "학습 레이블 데이터 분포:\n",
            " 1    50\n",
            "2    50\n",
            "Name: label, dtype: int64\n",
            "검증 레이블 데이터 분포:\n",
            " 0    50\n",
            "Name: label, dtype: int64 <bound method IndexOpsMixin.value_counts of 0      0\n",
            "1      0\n",
            "2      0\n",
            "3      0\n",
            "4      0\n",
            "      ..\n",
            "145    2\n",
            "146    2\n",
            "147    2\n",
            "148    2\n",
            "149    2\n",
            "Name: label, Length: 150, dtype: int64>\n",
            "## 교차 검증: 2\n",
            "학습 레이블 데이터 분포:\n",
            " 0    50\n",
            "2    50\n",
            "Name: label, dtype: int64\n",
            "검증 레이블 데이터 분포:\n",
            " 1    50\n",
            "Name: label, dtype: int64 <bound method IndexOpsMixin.value_counts of 0      0\n",
            "1      0\n",
            "2      0\n",
            "3      0\n",
            "4      0\n",
            "      ..\n",
            "145    2\n",
            "146    2\n",
            "147    2\n",
            "148    2\n",
            "149    2\n",
            "Name: label, Length: 150, dtype: int64>\n",
            "## 교차 검증: 3\n",
            "학습 레이블 데이터 분포:\n",
            " 0    50\n",
            "1    50\n",
            "Name: label, dtype: int64\n",
            "검증 레이블 데이터 분포:\n",
            " 2    50\n",
            "Name: label, dtype: int64 <bound method IndexOpsMixin.value_counts of 0      0\n",
            "1      0\n",
            "2      0\n",
            "3      0\n",
            "4      0\n",
            "      ..\n",
            "145    2\n",
            "146    2\n",
            "147    2\n",
            "148    2\n",
            "149    2\n",
            "Name: label, Length: 150, dtype: int64>\n"
          ]
        }
      ]
    },
    {
      "cell_type": "markdown",
      "source": [
        "> 첫번째 교차검증에서 학습레이블에는 1,2밖에 없고 검증레이블에는 0밖에 없음. > 학습레이블에 0이 없기 때문에 0의 경우는 전혀 학습하지 못하고, 검증레이블에는 0밖에 없기 때문에 학습 모델은 절대 0을 예측하지 못함.\n"
      ],
      "metadata": {
        "id": "ybmCou8JuZl7"
      }
    },
    {
      "cell_type": "markdown",
      "source": [
        "* StratifiedKFold는 레이블 데이터 분포도에 따라 학습/검증 데이터를 나누기 때문에 split()메서드에 인자로 피처 데이터 세트 뿐 아니라 레이블 데이터 세트도 반드시 필요함."
      ],
      "metadata": {
        "id": "Oex9tlOkurZk"
      }
    },
    {
      "cell_type": "code",
      "source": [
        "from sklearn.model_selection import StratifiedKFold\n",
        "\n",
        "skf=StratifiedKFold(n_splits=3)\n",
        "n_iter=0\n",
        "\n",
        "for train_index, test_index in skf.split(iris_df, iris_df['label']):\n",
        "  n_iter+=1\n",
        "  label_train=iris_df['label'].iloc[train_index]\n",
        "  label_test=iris_df['label'].iloc[test_index]\n",
        "  print('## 교차 검증: {0}'.format(n_iter))\n",
        "  print('학습 레이블 데이터 분포:\\n', label_train.value_counts())\n",
        "  print('검증 레이블 데이터 분포:\\n', label_test.value_counts())"
      ],
      "metadata": {
        "colab": {
          "base_uri": "https://localhost:8080/"
        },
        "id": "JLpDLSSYu2r9",
        "outputId": "2802d10e-44de-4b3c-ca89-63c372adb56c"
      },
      "execution_count": 173,
      "outputs": [
        {
          "output_type": "stream",
          "name": "stdout",
          "text": [
            "## 교차 검증: 1\n",
            "학습 레이블 데이터 분포:\n",
            " 2    34\n",
            "0    33\n",
            "1    33\n",
            "Name: label, dtype: int64\n",
            "검증 레이블 데이터 분포:\n",
            " 0    17\n",
            "1    17\n",
            "2    16\n",
            "Name: label, dtype: int64\n",
            "## 교차 검증: 2\n",
            "학습 레이블 데이터 분포:\n",
            " 1    34\n",
            "0    33\n",
            "2    33\n",
            "Name: label, dtype: int64\n",
            "검증 레이블 데이터 분포:\n",
            " 0    17\n",
            "2    17\n",
            "1    16\n",
            "Name: label, dtype: int64\n",
            "## 교차 검증: 3\n",
            "학습 레이블 데이터 분포:\n",
            " 0    34\n",
            "1    33\n",
            "2    33\n",
            "Name: label, dtype: int64\n",
            "검증 레이블 데이터 분포:\n",
            " 1    17\n",
            "2    17\n",
            "0    16\n",
            "Name: label, dtype: int64\n"
          ]
        }
      ]
    },
    {
      "cell_type": "markdown",
      "source": [
        "> 학습 레이블과 검증 레이블 데이터 값의 분포도가 동일하게 할당됨"
      ],
      "metadata": {
        "id": "72GYFMpEv1no"
      }
    },
    {
      "cell_type": "code",
      "source": [
        "df_clf=DecisionTreeClassifier(random_state=156)\n",
        "\n",
        "skfold=StratifiedKFold(n_splits=3)\n",
        "n_iter=0\n",
        "cv_accuracy=[]\n",
        "\n",
        "#StratifiedKFold의 split() 호출시 반드시 레이블 데이터 세트도 추가 입력 필요\n",
        "for train_index, test_index in skfold.split(features,label):\n",
        "  #split()으로 반환된 인덱스를 이용해 학습용, 검증용 테스트 데이터 추출\n",
        "  X_train,X_test=features[train_index], features[test_index]\n",
        "  y_train,y_test=label[train_index],label[test_index]\n",
        "\n",
        "  #학습 및 예측\n",
        "  dt_clf.fit(X_train,y_train)\n",
        "  pred=dt_clf.predict(X_test)\n",
        "\n",
        "  #반복 시마다 정확도 측정\n",
        "  n_iter+=1\n",
        "  accuracy=np.round(accuracy_score(y_test,pred),4)\n",
        "  train_size=X_train.shape[0]\n",
        "  test_size=X_test.shape[0]\n",
        "  print('\\n#{0} 교차 검증 정확도 : {1}, 학습 데이터 크기 : {2}, 검증 데이터 크기 : {3}'.format(n_iter,accuracy,train_size,test_size))\n",
        "  print('#{0} 검증 세트 인덱스 : {1}'.format(n_iter,test_index))\n",
        "  cv_accuracy.append(accuracy)\n",
        "\n",
        "#교차 검증별 정확도 및 평균 정확도 계산\n",
        "print('\\n## 교차 검증별 정확도:', np.round(cv_accuracy,4))\n",
        "print(\"## 평균 검증 정확도: \",np.mean(cv_accuracy))"
      ],
      "metadata": {
        "colab": {
          "base_uri": "https://localhost:8080/"
        },
        "id": "wPW-X73kwkmb",
        "outputId": "ae6308d9-acf9-4970-d86a-920901390e03"
      },
      "execution_count": 174,
      "outputs": [
        {
          "output_type": "stream",
          "name": "stdout",
          "text": [
            "\n",
            "#1 교차 검증 정확도 : 0.98, 학습 데이터 크기 : 100, 검증 데이터 크기 : 50\n",
            "#1 검증 세트 인덱스 : [  0   1   2   3   4   5   6   7   8   9  10  11  12  13  14  15  16  50\n",
            "  51  52  53  54  55  56  57  58  59  60  61  62  63  64  65  66 100 101\n",
            " 102 103 104 105 106 107 108 109 110 111 112 113 114 115]\n",
            "\n",
            "#2 교차 검증 정확도 : 0.94, 학습 데이터 크기 : 100, 검증 데이터 크기 : 50\n",
            "#2 검증 세트 인덱스 : [ 17  18  19  20  21  22  23  24  25  26  27  28  29  30  31  32  33  67\n",
            "  68  69  70  71  72  73  74  75  76  77  78  79  80  81  82 116 117 118\n",
            " 119 120 121 122 123 124 125 126 127 128 129 130 131 132]\n",
            "\n",
            "#3 교차 검증 정확도 : 0.98, 학습 데이터 크기 : 100, 검증 데이터 크기 : 50\n",
            "#3 검증 세트 인덱스 : [ 34  35  36  37  38  39  40  41  42  43  44  45  46  47  48  49  83  84\n",
            "  85  86  87  88  89  90  91  92  93  94  95  96  97  98  99 133 134 135\n",
            " 136 137 138 139 140 141 142 143 144 145 146 147 148 149]\n",
            "\n",
            "## 교차 검증별 정확도: [0.98 0.94 0.98]\n",
            "## 평균 검증 정확도:  0.9666666666666667\n"
          ]
        }
      ]
    },
    {
      "cell_type": "markdown",
      "source": [
        "* 일반적으로 분류에서의 교차 검증은 K폴드가 아니라 Stratified K 폴드로 분할되어야 함"
      ],
      "metadata": {
        "id": "q4WDUJgFy9Y8"
      }
    },
    {
      "cell_type": "markdown",
      "source": [
        "####(3) 교차 검증을 보다 간편하게 - cross_val_score()\n",
        "\n",
        "* KFold로 데이터 학습 및 예측 과정\n",
        "  * 폴드 세트를 설정\n",
        "  * for 루프에서 반복으로 학습 및 테스트 데이터의 인덱스를 추출\n",
        "  * 바복적으로 학습과 예측을 수행하고 예측 성능을 반환\n",
        "\n",
        "* cross_val_score()는 이러한 일련의 과정을 한꺼번에 수행\n",
        "\n",
        "* corss_val_score(estimator, X, y=None, scoring=None, cv=None, n_jobs=1, verbose=0, fit_params=None, pre_dispatch='2*n_jobs')\n",
        "  * estimator : Classifier / Regresser\n",
        "  * X : 피처 데이터 세트\n",
        "  * y : 레이블 데이터 세트\n",
        "  * scoring : 예측 성능 평가 지표\n",
        "  * cv : 교차 검증 폴드 수\n",
        "\n",
        "* cross_val_score는 scoring 파라미터로 지정된 성능 지표 측정값을 배열 형태로 반환\n",
        "\n",
        "* cross_val_score()에 classifier가 입력되면 Stratified K폴드 방식으로 레이블 값의 분포에 따라 학습/테스트 세트를 분할 / Regresser의 경우에는 K폴드 방식으로 분할\n",
        "\n"
      ],
      "metadata": {
        "id": "2_-Tg-w0zKa5"
      }
    },
    {
      "cell_type": "code",
      "source": [
        "from sklearn.tree import DecisionTreeClassifier\n",
        "from sklearn.model_selection import cross_val_score, cross_validate\n",
        "from sklearn.datasets import load_iris\n",
        "\n",
        "iris_data=load_iris()\n",
        "dt_clf=DecisionTreeClassifier(random_state=156)\n",
        "\n",
        "data=iris_data.data\n",
        "label=iris_data.target\n",
        "\n",
        "#성능 지표는 정확도(accuracy), 교차 검증 세트는 3개\n",
        "scores=cross_val_score(dt_clf, data, label, scoring='accuracy', cv=3)\n",
        "print('교차 검증별 정확도 : ',np.round(scores,4))\n",
        "print('평균 검증 정확도 : ',np.round(np.mean(scores),4))"
      ],
      "metadata": {
        "colab": {
          "base_uri": "https://localhost:8080/"
        },
        "id": "xRVdHwpQ0OZ8",
        "outputId": "ef30b028-5b2a-42ed-d6f7-84e9df3b3555"
      },
      "execution_count": 175,
      "outputs": [
        {
          "output_type": "stream",
          "name": "stdout",
          "text": [
            "교차 검증별 정확도 :  [0.98 0.94 0.98]\n",
            "평균 검증 정확도 :  0.9667\n"
          ]
        }
      ]
    },
    {
      "cell_type": "markdown",
      "source": [
        "* corss_validate()\n",
        "  * 여러 개의 평가 지표 반환\n",
        "  * 학습 데이터에 대한 성능 평가 지표와 수행 시간도 함께 제공"
      ],
      "metadata": {
        "id": "FooBfLVi096n"
      }
    },
    {
      "cell_type": "markdown",
      "source": [
        "###3) GridSearchCV - 교차 검증과 최적 하이퍼 파라미터 튜닝을 한번에 \n",
        "\n",
        "* 하이퍼 파라미터는 머신러닝 알고리즘을 구성하는 주요 구성 요소이며, 이 값을 조정해 알고리즘의 예측 성능을 개선할 수 있음\n",
        "\n",
        "* 사이킷런은 GridSearchCV API를 이용해 Classifier나 Regressor와 같은 알고리즘에 사용되는 하이퍼 파라미터를 순차적으로 입력하면서 편리하게 최적의 파라미터를 도출할 수 있는 방안을 제공\n",
        "\n",
        "* 예를 들어 결정 트리 알고리즘의 여러 하이퍼 파라미터를 순차적으로 변경하면서 최고 성능을 가지는 파라미터 조합을 찾고자 한다면 다음과 같이 파라미터의 집합을 만들고 이를 순차적으로 적용하면서 최적화를 수행할 수 있음\n",
        "  * for 루프로 모든 파라미터를 번갈아 입력하면서 학습시키는 방법을 좀 더 유연하게 API레벨에서 제공한 것\n"
      ],
      "metadata": {
        "id": "BYQJERZm2JEA"
      }
    },
    {
      "cell_type": "code",
      "source": [
        "grid_parameters={'max_depth': [1,2,3], 'min_samples_split':[2,3]}"
      ],
      "metadata": {
        "id": "9OZwUc7I205T"
      },
      "execution_count": 176,
      "outputs": []
    },
    {
      "cell_type": "markdown",
      "source": [
        "* GridSearch는 교차 검증을 기반으로 하이퍼 파라미터의 최적 값을 찾게 해줌. > 데이터 세트를 corss-validation을 위한 학습/테스트 세트로 자동으로 분할한 뒤에 하이퍼 파라미터 그리드에 기술된 모든 파라미터를 순차적으로 적용해 최적의 파라미터를 찾을 수 있음\n",
        "\n",
        "* GridSearch는 사용자가 튜닝하고자 하는 여러 종류의 하이퍼 파라미터를 다양하게 테스트하면서 최적의 파라미터를 편리하게 찾게 해주지만 동시에 순차적으로 파라미터를 테스트하므로 수행시간이 상대적으로 오래 걸리는 것에 유념해야 함\n",
        "\n",
        "* GridSearchCV 클래스의 생성자 파라미터\n",
        "  * estimator : classifier, regressor, pipline\n",
        "  * param_grid : key + 리스트 값을 가지는 딕셔너리가 주어짐. esitmator의 튜닝을 위해 파라미터명과 사용될 여러 파라미터 값을 지정\n",
        "  * scoring : 예측 성능을 측정할 평가 방법을 지정. 보통은 사이킷런의 성능 평가 지표를 지정하는 문자열(예 : 정확도의 경우 'accuracy')로 지정하나 별도의 성능 평가 지표 함수도 지정 가능\n",
        "  * cv : 교차 검증을 위해 분할되는 학습/테스트 세트의 개수 지정\n",
        "  * refit : True > 가장 최적의 하이퍼 파라미터를 찾은 뒤 입력된 estimator 객체를 해당 하이퍼 파라미터로 재학습 (default=True)"
      ],
      "metadata": {
        "id": "LSk6piGb3VJA"
      }
    },
    {
      "cell_type": "code",
      "source": [
        "# 결정 트리 알고리즘의 여러가지 최적화 파라미터를 순차적으로 적용해 붓꽃 데이터를 예측 분석하는데 GridSearchCV를 이용\n",
        "# 파라미터 : max_depth, min_samples_split\n",
        "\n",
        "from sklearn.datasets import load_iris\n",
        "from sklearn.tree import DecisionTreeClassifier\n",
        "from sklearn.model_selection import GridSearchCV\n",
        "\n",
        "#데이터를 로딩하고 학습 데이터와 테스트 데이터 분리\n",
        "iris=load_iris()\n",
        "X_train, X_test, y_train, y_test = train_test_split(iris_data.data, iris_data.target, test_size=0.2, random_state=121)\n",
        "dtree=DecisionTreeClassifier()\n",
        "\n",
        "##파라미터를 딕셔너리 형태로 설정\n",
        "parameters={'max_depth':[1,2,3], 'min_samples_split':[2,3]}"
      ],
      "metadata": {
        "id": "teDd6jug4O9T"
      },
      "execution_count": 177,
      "outputs": []
    },
    {
      "cell_type": "code",
      "source": [
        "import pandas as pd\n",
        "\n",
        "#param_grid의 하이퍼 파라미터를 3개의 train, test set fold 로 나누어 테스트 수행 설정\n",
        "### refit=True가 default. True이면 가장 좋은 파라미터 설정으로 재학습시킴\n",
        "\n",
        "grid_dtree=GridSearchCV(dtree,param_grid=parameters,cv=3, refit=True)\n",
        "\n",
        "#붓꽃 학습 데이터로 param_grid의 하이퍼 파리미터를 순차적으로 학습/평가\n",
        "grid_dtree.fit(X_train, y_train)\n",
        "\n",
        "#GridSearchCV 결과를 추출해 DataFrame으로 변환\n",
        "scores_df=pd.DataFrame(grid_dtree.cv_results_)\n",
        "scores_df[['params','mean_test_score','rank_test_score','split0_test_score','split1_test_score','split2_test_score']]\n"
      ],
      "metadata": {
        "id": "w1wy7Dvy7PvL",
        "colab": {
          "base_uri": "https://localhost:8080/",
          "height": 510
        },
        "outputId": "32dc6f7e-d7f5-4811-e94a-e8b454b2c45d"
      },
      "execution_count": 178,
      "outputs": [
        {
          "output_type": "execute_result",
          "data": {
            "text/plain": [
              "                                     params  mean_test_score  rank_test_score  \\\n",
              "0  {'max_depth': 1, 'min_samples_split': 2}         0.700000                5   \n",
              "1  {'max_depth': 1, 'min_samples_split': 3}         0.700000                5   \n",
              "2  {'max_depth': 2, 'min_samples_split': 2}         0.958333                3   \n",
              "3  {'max_depth': 2, 'min_samples_split': 3}         0.958333                3   \n",
              "4  {'max_depth': 3, 'min_samples_split': 2}         0.975000                1   \n",
              "5  {'max_depth': 3, 'min_samples_split': 3}         0.975000                1   \n",
              "\n",
              "   split0_test_score  split1_test_score  split2_test_score  \n",
              "0              0.700                0.7               0.70  \n",
              "1              0.700                0.7               0.70  \n",
              "2              0.925                1.0               0.95  \n",
              "3              0.925                1.0               0.95  \n",
              "4              0.975                1.0               0.95  \n",
              "5              0.975                1.0               0.95  "
            ],
            "text/html": [
              "\n",
              "  <div id=\"df-db74b2c8-d921-40ef-bdd8-a5845048deae\">\n",
              "    <div class=\"colab-df-container\">\n",
              "      <div>\n",
              "<style scoped>\n",
              "    .dataframe tbody tr th:only-of-type {\n",
              "        vertical-align: middle;\n",
              "    }\n",
              "\n",
              "    .dataframe tbody tr th {\n",
              "        vertical-align: top;\n",
              "    }\n",
              "\n",
              "    .dataframe thead th {\n",
              "        text-align: right;\n",
              "    }\n",
              "</style>\n",
              "<table border=\"1\" class=\"dataframe\">\n",
              "  <thead>\n",
              "    <tr style=\"text-align: right;\">\n",
              "      <th></th>\n",
              "      <th>params</th>\n",
              "      <th>mean_test_score</th>\n",
              "      <th>rank_test_score</th>\n",
              "      <th>split0_test_score</th>\n",
              "      <th>split1_test_score</th>\n",
              "      <th>split2_test_score</th>\n",
              "    </tr>\n",
              "  </thead>\n",
              "  <tbody>\n",
              "    <tr>\n",
              "      <th>0</th>\n",
              "      <td>{'max_depth': 1, 'min_samples_split': 2}</td>\n",
              "      <td>0.700000</td>\n",
              "      <td>5</td>\n",
              "      <td>0.700</td>\n",
              "      <td>0.7</td>\n",
              "      <td>0.70</td>\n",
              "    </tr>\n",
              "    <tr>\n",
              "      <th>1</th>\n",
              "      <td>{'max_depth': 1, 'min_samples_split': 3}</td>\n",
              "      <td>0.700000</td>\n",
              "      <td>5</td>\n",
              "      <td>0.700</td>\n",
              "      <td>0.7</td>\n",
              "      <td>0.70</td>\n",
              "    </tr>\n",
              "    <tr>\n",
              "      <th>2</th>\n",
              "      <td>{'max_depth': 2, 'min_samples_split': 2}</td>\n",
              "      <td>0.958333</td>\n",
              "      <td>3</td>\n",
              "      <td>0.925</td>\n",
              "      <td>1.0</td>\n",
              "      <td>0.95</td>\n",
              "    </tr>\n",
              "    <tr>\n",
              "      <th>3</th>\n",
              "      <td>{'max_depth': 2, 'min_samples_split': 3}</td>\n",
              "      <td>0.958333</td>\n",
              "      <td>3</td>\n",
              "      <td>0.925</td>\n",
              "      <td>1.0</td>\n",
              "      <td>0.95</td>\n",
              "    </tr>\n",
              "    <tr>\n",
              "      <th>4</th>\n",
              "      <td>{'max_depth': 3, 'min_samples_split': 2}</td>\n",
              "      <td>0.975000</td>\n",
              "      <td>1</td>\n",
              "      <td>0.975</td>\n",
              "      <td>1.0</td>\n",
              "      <td>0.95</td>\n",
              "    </tr>\n",
              "    <tr>\n",
              "      <th>5</th>\n",
              "      <td>{'max_depth': 3, 'min_samples_split': 3}</td>\n",
              "      <td>0.975000</td>\n",
              "      <td>1</td>\n",
              "      <td>0.975</td>\n",
              "      <td>1.0</td>\n",
              "      <td>0.95</td>\n",
              "    </tr>\n",
              "  </tbody>\n",
              "</table>\n",
              "</div>\n",
              "      <button class=\"colab-df-convert\" onclick=\"convertToInteractive('df-db74b2c8-d921-40ef-bdd8-a5845048deae')\"\n",
              "              title=\"Convert this dataframe to an interactive table.\"\n",
              "              style=\"display:none;\">\n",
              "        \n",
              "  <svg xmlns=\"http://www.w3.org/2000/svg\" height=\"24px\"viewBox=\"0 0 24 24\"\n",
              "       width=\"24px\">\n",
              "    <path d=\"M0 0h24v24H0V0z\" fill=\"none\"/>\n",
              "    <path d=\"M18.56 5.44l.94 2.06.94-2.06 2.06-.94-2.06-.94-.94-2.06-.94 2.06-2.06.94zm-11 1L8.5 8.5l.94-2.06 2.06-.94-2.06-.94L8.5 2.5l-.94 2.06-2.06.94zm10 10l.94 2.06.94-2.06 2.06-.94-2.06-.94-.94-2.06-.94 2.06-2.06.94z\"/><path d=\"M17.41 7.96l-1.37-1.37c-.4-.4-.92-.59-1.43-.59-.52 0-1.04.2-1.43.59L10.3 9.45l-7.72 7.72c-.78.78-.78 2.05 0 2.83L4 21.41c.39.39.9.59 1.41.59.51 0 1.02-.2 1.41-.59l7.78-7.78 2.81-2.81c.8-.78.8-2.07 0-2.86zM5.41 20L4 18.59l7.72-7.72 1.47 1.35L5.41 20z\"/>\n",
              "  </svg>\n",
              "      </button>\n",
              "      \n",
              "  <style>\n",
              "    .colab-df-container {\n",
              "      display:flex;\n",
              "      flex-wrap:wrap;\n",
              "      gap: 12px;\n",
              "    }\n",
              "\n",
              "    .colab-df-convert {\n",
              "      background-color: #E8F0FE;\n",
              "      border: none;\n",
              "      border-radius: 50%;\n",
              "      cursor: pointer;\n",
              "      display: none;\n",
              "      fill: #1967D2;\n",
              "      height: 32px;\n",
              "      padding: 0 0 0 0;\n",
              "      width: 32px;\n",
              "    }\n",
              "\n",
              "    .colab-df-convert:hover {\n",
              "      background-color: #E2EBFA;\n",
              "      box-shadow: 0px 1px 2px rgba(60, 64, 67, 0.3), 0px 1px 3px 1px rgba(60, 64, 67, 0.15);\n",
              "      fill: #174EA6;\n",
              "    }\n",
              "\n",
              "    [theme=dark] .colab-df-convert {\n",
              "      background-color: #3B4455;\n",
              "      fill: #D2E3FC;\n",
              "    }\n",
              "\n",
              "    [theme=dark] .colab-df-convert:hover {\n",
              "      background-color: #434B5C;\n",
              "      box-shadow: 0px 1px 3px 1px rgba(0, 0, 0, 0.15);\n",
              "      filter: drop-shadow(0px 1px 2px rgba(0, 0, 0, 0.3));\n",
              "      fill: #FFFFFF;\n",
              "    }\n",
              "  </style>\n",
              "\n",
              "      <script>\n",
              "        const buttonEl =\n",
              "          document.querySelector('#df-db74b2c8-d921-40ef-bdd8-a5845048deae button.colab-df-convert');\n",
              "        buttonEl.style.display =\n",
              "          google.colab.kernel.accessAllowed ? 'block' : 'none';\n",
              "\n",
              "        async function convertToInteractive(key) {\n",
              "          const element = document.querySelector('#df-db74b2c8-d921-40ef-bdd8-a5845048deae');\n",
              "          const dataTable =\n",
              "            await google.colab.kernel.invokeFunction('convertToInteractive',\n",
              "                                                     [key], {});\n",
              "          if (!dataTable) return;\n",
              "\n",
              "          const docLinkHtml = 'Like what you see? Visit the ' +\n",
              "            '<a target=\"_blank\" href=https://colab.research.google.com/notebooks/data_table.ipynb>data table notebook</a>'\n",
              "            + ' to learn more about interactive tables.';\n",
              "          element.innerHTML = '';\n",
              "          dataTable['output_type'] = 'display_data';\n",
              "          await google.colab.output.renderOutput(dataTable, element);\n",
              "          const docLink = document.createElement('div');\n",
              "          docLink.innerHTML = docLinkHtml;\n",
              "          element.appendChild(docLink);\n",
              "        }\n",
              "      </script>\n",
              "    </div>\n",
              "  </div>\n",
              "  "
            ]
          },
          "metadata": {},
          "execution_count": 178
        }
      ]
    },
    {
      "cell_type": "markdown",
      "source": [
        "* params : 수행할 때마다 적용된 개별 하이퍼 파라미터 값\n",
        "* rank_test_score : 하이퍼 파라미터별로 성능이 좋은 score 순위. 1이 가장 뛰어난 순위, 이때의 파라미터가 최적의 하이퍼 파라미터\n",
        "* mean_test_score : 개별 하이퍼 파라미터별로 CV의 폴딩 테스트 세트에 대해 총 수행한 평가 평균값\n",
        "\n",
        "\n"
      ],
      "metadata": {
        "id": "BmAZm1AbBNRP"
      }
    },
    {
      "cell_type": "markdown",
      "source": [
        "* GridSearchCV 객체의 fit()을 수행하면 최고 성능을 나타낸 하이퍼 파라미터의 값과 그때의 평가 결과 값이 각각 best_params_, best_score_ 속성에 기록됨."
      ],
      "metadata": {
        "id": "e5IYh5GPBvvR"
      }
    },
    {
      "cell_type": "code",
      "source": [
        "print('GridSearchCV 최적 파라미터 : ', grid_dtree.best_params_)\n",
        "print('GridSearchCV 최고 정확도:{0:.4f}'.format(grid_dtree.best_score_))\n"
      ],
      "metadata": {
        "colab": {
          "base_uri": "https://localhost:8080/"
        },
        "id": "imb6w-AoB9zK",
        "outputId": "895b74c3-0a99-4013-8258-362e95466037"
      },
      "execution_count": 179,
      "outputs": [
        {
          "output_type": "stream",
          "name": "stdout",
          "text": [
            "GridSearchCV 최적 파라미터 :  {'max_depth': 3, 'min_samples_split': 2}\n",
            "GridSearchCV 최고 정확도:0.9750\n"
          ]
        }
      ]
    },
    {
      "cell_type": "code",
      "source": [
        "# GridSearchCV의 refit으로 이미 학습된 estimator 반환\n",
        "estimator=grid_dtree.best_estimator_\n",
        "\n",
        "#GridSearchCV의 best_estimator는 이미 최적 학습이 됐으므로 별도 학습이 필요 없음\n",
        "pred=estimator.predict(X_test)\n",
        "print('테스트 데이터 세트 정확도: {0:4f}'.format(accuracy_score(y_test,pred)))"
      ],
      "metadata": {
        "colab": {
          "base_uri": "https://localhost:8080/"
        },
        "id": "IsyIg2L_CP6c",
        "outputId": "87c02397-fd85-4831-de60-9b56b20b015d"
      },
      "execution_count": 180,
      "outputs": [
        {
          "output_type": "stream",
          "name": "stdout",
          "text": [
            "테스트 데이터 세트 정확도: 0.966667\n"
          ]
        }
      ]
    },
    {
      "cell_type": "markdown",
      "source": [
        "* 일반적으로 학습 데이터를 GridSearchCV를 이용해 최적 하이퍼 파라미터 튜닝을 수행한 뒤에 별도의 테스트 세트에서 이를 평가하는 것이 일반적인 머신러닝 모델 적용 방법임."
      ],
      "metadata": {
        "id": "p1LDnhKYC8Pq"
      }
    },
    {
      "cell_type": "markdown",
      "source": [
        "##__5. 데이터 전처리__\n",
        "\n",
        "* ML알고리즘은 데이터에 기반하고 있기 때문에 어떤 데이터를 입력으로 가지느냐에 따라 결과도 크게 달라질 수 있음.\n",
        "\n",
        "* 사이킷런의 ML 알고리즘 적용 전에 데이터에 대해 처리해야 할 기본사항\n",
        "  * 결손값 NaN, Null 값은 허용되지 않음 > 고정된 다른 값으로 변환해야 함\n",
        "    * 어떤 피처가 Null 값이 대부분이라면 해당 피처는 드롭\n",
        "    * 상황에 따라 다르게 대처\n",
        "  * 문자열 값을 입력값으로 허용하지 않음\n",
        "    * 모든 문자열 숫자 형으로 변환되어야 함\n",
        "    * 문자열 값 : 카테고리형 피처, 텍스트형 피처\n",
        "    * 카테고리형 피처는 코드 값으로 표현\n",
        "    * 텍스트형 피처는 벡터화하거나 불필요한 피처라고 판단되면 삭제 (ex. 이름이나 주민번호와 같은 식별자 피처)\n",
        "\n",
        "    "
      ],
      "metadata": {
        "id": "t419FPjvDENT"
      }
    },
    {
      "cell_type": "markdown",
      "source": [
        "###1) 데이터 인코딩\n"
      ],
      "metadata": {
        "id": "gIRB3z4bJtL_"
      }
    },
    {
      "cell_type": "markdown",
      "source": [
        "####(1) 레이블 인코딩\n",
        "  * 카테고리 피처를 코드형 숫자 값으로 변환하는 것\n",
        "  * LabelEncoder 클래스로 구현\n",
        "  * LabelEncoder를 객체로 생성한 후 fit()과 transform()을 호출해 레이블 인코딩을 수행\n"
      ],
      "metadata": {
        "id": "aQ_iyqv2E5mG"
      }
    },
    {
      "cell_type": "code",
      "source": [
        "from sklearn.preprocessing import LabelEncoder\n",
        "\n",
        "items=['TV','냉장고','전자레인지','컴퓨터','선풍기','선풍기','믹서','믹서']\n",
        "\n",
        "#LabelEncoder를 객체로 생성한 후, fit()과 transform()으로 레이블 인코딩 수행\n",
        "encoder=LabelEncoder()\n",
        "encoder.fit(items)\n",
        "labels=encoder.transform(items)\n",
        "print('인코딩 변환값:', labels)\n",
        "\n"
      ],
      "metadata": {
        "colab": {
          "base_uri": "https://localhost:8080/"
        },
        "id": "ibyVVjtoFH3X",
        "outputId": "7a7b9be1-1e41-42c0-ba6d-048168cabb50"
      },
      "execution_count": 181,
      "outputs": [
        {
          "output_type": "stream",
          "name": "stdout",
          "text": [
            "인코딩 변환값: [0 1 4 5 3 3 2 2]\n"
          ]
        }
      ]
    },
    {
      "cell_type": "code",
      "source": [
        "# 어떤 문자열 값이 어떤 숫자값으로 인코딩 됐는지 확인\n",
        "print('인코딩 클래스:', encoder.classes_)"
      ],
      "metadata": {
        "colab": {
          "base_uri": "https://localhost:8080/"
        },
        "id": "G9nUjrPjF1_a",
        "outputId": "0dab4d07-e768-45dd-e9ea-dc616cd99a96"
      },
      "execution_count": 182,
      "outputs": [
        {
          "output_type": "stream",
          "name": "stdout",
          "text": [
            "인코딩 클래스: ['TV' '냉장고' '믹서' '선풍기' '전자레인지' '컴퓨터']\n"
          ]
        }
      ]
    },
    {
      "cell_type": "markdown",
      "source": [
        "> 0번부터 순서대로 변환된 인코딩 값에 대한 원본값을 가지고 있음"
      ],
      "metadata": {
        "id": "X9Rf1uNcF9FS"
      }
    },
    {
      "cell_type": "markdown",
      "source": [
        "* inverse_transform() : 인코딩 된 값을 다시 디코딩\n"
      ],
      "metadata": {
        "id": "hBOK2WFfGCcJ"
      }
    },
    {
      "cell_type": "code",
      "source": [
        "print('디코딩 원본값 : ', encoder.inverse_transform([4,5,2,0,1,1,3,3]))"
      ],
      "metadata": {
        "colab": {
          "base_uri": "https://localhost:8080/"
        },
        "id": "yMT8NP7UGGtx",
        "outputId": "a9b5321a-7f54-4f77-d098-1ff19985b21e"
      },
      "execution_count": 183,
      "outputs": [
        {
          "output_type": "stream",
          "name": "stdout",
          "text": [
            "디코딩 원본값 :  ['전자레인지' '컴퓨터' '믹서' 'TV' '냉장고' '냉장고' '선풍기' '선풍기']\n"
          ]
        }
      ]
    },
    {
      "cell_type": "markdown",
      "source": [
        "* 레이블 인코딩은 간단하게 문자열 값을 숫자형 카테고리 값으로 변환\n",
        "\n",
        "* 숫자 값의 경우 크고 작음에 대한 특성이 작용함 > 레이블 인코딩이 일괄적인 숫자 값으로 변환되면서 몇몇 ML알고리즘에는 레이블 인코딩을 적용할 경우 예측 성능이 떨어지는 경우가 발생할 수 있음\n",
        "\n",
        "* 레이블 인코딩은 선형 회귀와 같은 ML 알고리즘에는 적용하지 않아야 함\n",
        "  * 트리 계열의 ML 알고리즘은 숫자의 특성을 반영하지 않으므로 레이블 인코딩도 별 문제가 없음\n",
        "  "
      ],
      "metadata": {
        "id": "4QZc3pYyGRFC"
      }
    },
    {
      "cell_type": "markdown",
      "source": [
        "####(2) 원-핫 인코딩(One-Hot Encoding)\n",
        "\n",
        "* 피처 값의 유형에 따라 새로운 피처를 추가해 고유 값에 해당하는 칼럼에만 1을 표시하고 나머지 칼럼에는 0을 표시\n",
        "* 행 형태로 돼 있는 피처의 고유 갑을 열 형태로 차원을 변환한 뒤, 고유 값에 해당하는 칼럼에만 1을 표시하고 나머지 칼럼에는 0을 표시"
      ],
      "metadata": {
        "id": "qw6Y-xtUGzyE"
      }
    },
    {
      "cell_type": "markdown",
      "source": [
        "* OneHotEncoder 클래스\n",
        "  * OneHotEncoder로 변환하기 전에 모든 문자여 값이 숫자형 값으로 변환되어야 함\n",
        "  * 입력 값으로 2차원 데이터가 필요함"
      ],
      "metadata": {
        "id": "TxI2SVr6HfZr"
      }
    },
    {
      "cell_type": "code",
      "source": [
        "from sklearn.preprocessing import OneHotEncoder\n",
        "import numpy as np\n",
        "\n",
        "items=['TV','냉장고','전자레인지','컴퓨터','선풍기','선풍기','믹서','믹서']\n",
        "\n",
        "#먼저 숫자 값으로 변환을 위해 LabelEncoder로 변환\n",
        "encoder=LabelEncoder()\n",
        "encoder.fit(items)\n",
        "labels=encoder.transform(items)\n",
        "\n",
        "#2차원 데이터로 변환\n",
        "labels=labels.reshape(-1,1)\n",
        "\n",
        "#원-핫 인코딩을 적용합니다.\n",
        "oh_encoder=OneHotEncoder()\n",
        "oh_encoder.fit(labels)\n",
        "oh_labels=oh_encoder.transform(labels)\n",
        "print('원-핫 인코딩 데이터')\n",
        "print(oh_labels.toarray())\n",
        "print('원-핫 인코딩 데이터 차원')\n",
        "print(oh_labels.shape)"
      ],
      "metadata": {
        "colab": {
          "base_uri": "https://localhost:8080/"
        },
        "id": "6Wrm2RBuHsAF",
        "outputId": "13d2cd51-909b-42a6-9ba0-8129f6657789"
      },
      "execution_count": 184,
      "outputs": [
        {
          "output_type": "stream",
          "name": "stdout",
          "text": [
            "원-핫 인코딩 데이터\n",
            "[[1. 0. 0. 0. 0. 0.]\n",
            " [0. 1. 0. 0. 0. 0.]\n",
            " [0. 0. 0. 0. 1. 0.]\n",
            " [0. 0. 0. 0. 0. 1.]\n",
            " [0. 0. 0. 1. 0. 0.]\n",
            " [0. 0. 0. 1. 0. 0.]\n",
            " [0. 0. 1. 0. 0. 0.]\n",
            " [0. 0. 1. 0. 0. 0.]]\n",
            "원-핫 인코딩 데이터 차원\n",
            "(8, 6)\n"
          ]
        }
      ]
    },
    {
      "cell_type": "markdown",
      "source": [
        "* pandas의 get_dummies() : 원-핫 인코딩을 지원하는 API\n",
        "  * 사이킷런의 OneHotEncoder와 다르게 문자열 카테고리 값을 숫자형으로 변환할 필요 없이 바로 변환 가능"
      ],
      "metadata": {
        "id": "lGSEYh-_JEqr"
      }
    },
    {
      "cell_type": "code",
      "source": [
        "import pandas as pd\n",
        "\n",
        "df=pd.DataFrame({'item':['TV','냉장고','전자레인지','컴퓨터','선풍기','선풍기','믹서','믹서']})\n",
        "pd.get_dummies(df)"
      ],
      "metadata": {
        "colab": {
          "base_uri": "https://localhost:8080/",
          "height": 300
        },
        "id": "c_RoHRhbJTPL",
        "outputId": "94d0d66b-03f8-46b7-cc69-6fa6d1e7791f"
      },
      "execution_count": 185,
      "outputs": [
        {
          "output_type": "execute_result",
          "data": {
            "text/plain": [
              "   item_TV  item_냉장고  item_믹서  item_선풍기  item_전자레인지  item_컴퓨터\n",
              "0        1         0        0         0           0         0\n",
              "1        0         1        0         0           0         0\n",
              "2        0         0        0         0           1         0\n",
              "3        0         0        0         0           0         1\n",
              "4        0         0        0         1           0         0\n",
              "5        0         0        0         1           0         0\n",
              "6        0         0        1         0           0         0\n",
              "7        0         0        1         0           0         0"
            ],
            "text/html": [
              "\n",
              "  <div id=\"df-61a6d4cb-abee-4e8d-9cf7-6dd375601505\">\n",
              "    <div class=\"colab-df-container\">\n",
              "      <div>\n",
              "<style scoped>\n",
              "    .dataframe tbody tr th:only-of-type {\n",
              "        vertical-align: middle;\n",
              "    }\n",
              "\n",
              "    .dataframe tbody tr th {\n",
              "        vertical-align: top;\n",
              "    }\n",
              "\n",
              "    .dataframe thead th {\n",
              "        text-align: right;\n",
              "    }\n",
              "</style>\n",
              "<table border=\"1\" class=\"dataframe\">\n",
              "  <thead>\n",
              "    <tr style=\"text-align: right;\">\n",
              "      <th></th>\n",
              "      <th>item_TV</th>\n",
              "      <th>item_냉장고</th>\n",
              "      <th>item_믹서</th>\n",
              "      <th>item_선풍기</th>\n",
              "      <th>item_전자레인지</th>\n",
              "      <th>item_컴퓨터</th>\n",
              "    </tr>\n",
              "  </thead>\n",
              "  <tbody>\n",
              "    <tr>\n",
              "      <th>0</th>\n",
              "      <td>1</td>\n",
              "      <td>0</td>\n",
              "      <td>0</td>\n",
              "      <td>0</td>\n",
              "      <td>0</td>\n",
              "      <td>0</td>\n",
              "    </tr>\n",
              "    <tr>\n",
              "      <th>1</th>\n",
              "      <td>0</td>\n",
              "      <td>1</td>\n",
              "      <td>0</td>\n",
              "      <td>0</td>\n",
              "      <td>0</td>\n",
              "      <td>0</td>\n",
              "    </tr>\n",
              "    <tr>\n",
              "      <th>2</th>\n",
              "      <td>0</td>\n",
              "      <td>0</td>\n",
              "      <td>0</td>\n",
              "      <td>0</td>\n",
              "      <td>1</td>\n",
              "      <td>0</td>\n",
              "    </tr>\n",
              "    <tr>\n",
              "      <th>3</th>\n",
              "      <td>0</td>\n",
              "      <td>0</td>\n",
              "      <td>0</td>\n",
              "      <td>0</td>\n",
              "      <td>0</td>\n",
              "      <td>1</td>\n",
              "    </tr>\n",
              "    <tr>\n",
              "      <th>4</th>\n",
              "      <td>0</td>\n",
              "      <td>0</td>\n",
              "      <td>0</td>\n",
              "      <td>1</td>\n",
              "      <td>0</td>\n",
              "      <td>0</td>\n",
              "    </tr>\n",
              "    <tr>\n",
              "      <th>5</th>\n",
              "      <td>0</td>\n",
              "      <td>0</td>\n",
              "      <td>0</td>\n",
              "      <td>1</td>\n",
              "      <td>0</td>\n",
              "      <td>0</td>\n",
              "    </tr>\n",
              "    <tr>\n",
              "      <th>6</th>\n",
              "      <td>0</td>\n",
              "      <td>0</td>\n",
              "      <td>1</td>\n",
              "      <td>0</td>\n",
              "      <td>0</td>\n",
              "      <td>0</td>\n",
              "    </tr>\n",
              "    <tr>\n",
              "      <th>7</th>\n",
              "      <td>0</td>\n",
              "      <td>0</td>\n",
              "      <td>1</td>\n",
              "      <td>0</td>\n",
              "      <td>0</td>\n",
              "      <td>0</td>\n",
              "    </tr>\n",
              "  </tbody>\n",
              "</table>\n",
              "</div>\n",
              "      <button class=\"colab-df-convert\" onclick=\"convertToInteractive('df-61a6d4cb-abee-4e8d-9cf7-6dd375601505')\"\n",
              "              title=\"Convert this dataframe to an interactive table.\"\n",
              "              style=\"display:none;\">\n",
              "        \n",
              "  <svg xmlns=\"http://www.w3.org/2000/svg\" height=\"24px\"viewBox=\"0 0 24 24\"\n",
              "       width=\"24px\">\n",
              "    <path d=\"M0 0h24v24H0V0z\" fill=\"none\"/>\n",
              "    <path d=\"M18.56 5.44l.94 2.06.94-2.06 2.06-.94-2.06-.94-.94-2.06-.94 2.06-2.06.94zm-11 1L8.5 8.5l.94-2.06 2.06-.94-2.06-.94L8.5 2.5l-.94 2.06-2.06.94zm10 10l.94 2.06.94-2.06 2.06-.94-2.06-.94-.94-2.06-.94 2.06-2.06.94z\"/><path d=\"M17.41 7.96l-1.37-1.37c-.4-.4-.92-.59-1.43-.59-.52 0-1.04.2-1.43.59L10.3 9.45l-7.72 7.72c-.78.78-.78 2.05 0 2.83L4 21.41c.39.39.9.59 1.41.59.51 0 1.02-.2 1.41-.59l7.78-7.78 2.81-2.81c.8-.78.8-2.07 0-2.86zM5.41 20L4 18.59l7.72-7.72 1.47 1.35L5.41 20z\"/>\n",
              "  </svg>\n",
              "      </button>\n",
              "      \n",
              "  <style>\n",
              "    .colab-df-container {\n",
              "      display:flex;\n",
              "      flex-wrap:wrap;\n",
              "      gap: 12px;\n",
              "    }\n",
              "\n",
              "    .colab-df-convert {\n",
              "      background-color: #E8F0FE;\n",
              "      border: none;\n",
              "      border-radius: 50%;\n",
              "      cursor: pointer;\n",
              "      display: none;\n",
              "      fill: #1967D2;\n",
              "      height: 32px;\n",
              "      padding: 0 0 0 0;\n",
              "      width: 32px;\n",
              "    }\n",
              "\n",
              "    .colab-df-convert:hover {\n",
              "      background-color: #E2EBFA;\n",
              "      box-shadow: 0px 1px 2px rgba(60, 64, 67, 0.3), 0px 1px 3px 1px rgba(60, 64, 67, 0.15);\n",
              "      fill: #174EA6;\n",
              "    }\n",
              "\n",
              "    [theme=dark] .colab-df-convert {\n",
              "      background-color: #3B4455;\n",
              "      fill: #D2E3FC;\n",
              "    }\n",
              "\n",
              "    [theme=dark] .colab-df-convert:hover {\n",
              "      background-color: #434B5C;\n",
              "      box-shadow: 0px 1px 3px 1px rgba(0, 0, 0, 0.15);\n",
              "      filter: drop-shadow(0px 1px 2px rgba(0, 0, 0, 0.3));\n",
              "      fill: #FFFFFF;\n",
              "    }\n",
              "  </style>\n",
              "\n",
              "      <script>\n",
              "        const buttonEl =\n",
              "          document.querySelector('#df-61a6d4cb-abee-4e8d-9cf7-6dd375601505 button.colab-df-convert');\n",
              "        buttonEl.style.display =\n",
              "          google.colab.kernel.accessAllowed ? 'block' : 'none';\n",
              "\n",
              "        async function convertToInteractive(key) {\n",
              "          const element = document.querySelector('#df-61a6d4cb-abee-4e8d-9cf7-6dd375601505');\n",
              "          const dataTable =\n",
              "            await google.colab.kernel.invokeFunction('convertToInteractive',\n",
              "                                                     [key], {});\n",
              "          if (!dataTable) return;\n",
              "\n",
              "          const docLinkHtml = 'Like what you see? Visit the ' +\n",
              "            '<a target=\"_blank\" href=https://colab.research.google.com/notebooks/data_table.ipynb>data table notebook</a>'\n",
              "            + ' to learn more about interactive tables.';\n",
              "          element.innerHTML = '';\n",
              "          dataTable['output_type'] = 'display_data';\n",
              "          await google.colab.output.renderOutput(dataTable, element);\n",
              "          const docLink = document.createElement('div');\n",
              "          docLink.innerHTML = docLinkHtml;\n",
              "          element.appendChild(docLink);\n",
              "        }\n",
              "      </script>\n",
              "    </div>\n",
              "  </div>\n",
              "  "
            ]
          },
          "metadata": {},
          "execution_count": 185
        }
      ]
    },
    {
      "cell_type": "markdown",
      "source": [
        "###2) 피처 스케일링과 정규화\n",
        "  * 피처 스케일링 : 서로 다른 변수의 값 범위를 일정한 수준으로 맞추는 작업\n",
        "    * 표준화(Standardization), 정규화(Normalization)\n",
        "\n",
        "  * 표준화 : 데이터의 피처 각각이 평균이 0이고 분산이 1인 가우시안 정규 분포를 가진 값으로 변환하는 것\n",
        "  xi_new=(xi-mena(x)/stdev(x))\n",
        "\n",
        "  * 정규화 : 서로 다른 피처의 크기를 통일하기 위해 크기를 변환해주는 개념\n",
        "    * 변수를 모두 동일한 크기 단위로 비교하기 위해 값을 모두 최소0~최대1의 값으로 변환하는 것\n",
        "    * 개별 데이터의 크기를 모두 똑같은 단위로 변경하는 것\n",
        "    * 원래 값에서 피처 x의 최솟값을 뺀 값을 피처 x의 최댓값과 최솟값의 차이로 나눈 값으로 변환\n",
        "    * xi_new=(xi-min(x))/(max(x)-min(x))\n",
        "\n",
        "* 사이킷런의 전처리에서 제공하는 Normalization과 일반적인 정규화의 차이\n",
        "  * 사이킷런의 Normalization 모듈 : 선형대수에서의 정규화 개념 적용, 개별 벡터의 크기를 맞추기 위해 변환\n",
        "    * 개별 벡터를 모든 피처 벡터의 크기로 나누어 줌"
      ],
      "metadata": {
        "id": "9zsWXrddJjeT"
      }
    },
    {
      "cell_type": "markdown",
      "source": [
        "###3) StandardScaler\n",
        "* 표준화를 지원하기 위한 클래스\n",
        "* 개별 피처를 평균이 0이고 분산이 1인 값으로 변환\n",
        "* SVM, 선형 회귀, 로지스틱 회귀의 경우 데이터가 가우시안 분포를 가지고 있다고 가정하고 구현되었기 때문에 사전에 표준화를 적용하는 것은 예측 성능 향상에 중요한 요소가 될 수 있음\n"
      ],
      "metadata": {
        "id": "qXXkMHdHLHjn"
      }
    },
    {
      "cell_type": "code",
      "source": [
        "from sklearn.datasets import load_iris\n",
        "import pandas as pd\n",
        "\n",
        "#붓꽃 데이터 세트를 로딩하고 DataFrame으로 변환\n",
        "iris=load_iris()\n",
        "iris_Data=iris.data\n",
        "iris_df=pd.DataFrame(data=iris_Data, columns=iris.feature_names)\n",
        "\n",
        "print('feature 들의 평균값')\n",
        "print(iris_df.mean())\n",
        "print('\\nfeature 들의 분산 값')\n",
        "print(iris_df.var())"
      ],
      "metadata": {
        "colab": {
          "base_uri": "https://localhost:8080/"
        },
        "id": "JkPi-2w7LrJC",
        "outputId": "cba92476-ae74-4021-965b-9f29fd02d2a3"
      },
      "execution_count": 186,
      "outputs": [
        {
          "output_type": "stream",
          "name": "stdout",
          "text": [
            "feature 들의 평균값\n",
            "sepal length (cm)    5.843333\n",
            "sepal width (cm)     3.057333\n",
            "petal length (cm)    3.758000\n",
            "petal width (cm)     1.199333\n",
            "dtype: float64\n",
            "\n",
            "feature 들의 분산 값\n",
            "sepal length (cm)    0.685694\n",
            "sepal width (cm)     0.189979\n",
            "petal length (cm)    3.116278\n",
            "petal width (cm)     0.581006\n",
            "dtype: float64\n"
          ]
        }
      ]
    },
    {
      "cell_type": "code",
      "source": [
        "#StandardScaler를 이용해 각 피처를 한번에 표준화해 변환\n",
        "\n",
        "from sklearn.preprocessing import StandardScaler\n",
        "\n",
        "#StandardScaler 객체 생성\n",
        "scaler=StandardScaler()\n",
        "#StandardScaler로 데이터 세트 변환. fit()과 transform() 호출\n",
        "scaler.fit(iris_df)\n",
        "iris_scaled=scaler.transform(iris_df)\n",
        "\n",
        "#transform() 시 스케일 변환된 데이터 세트가 NumPy ndarray로 반환돼 이를 DataFrame으로 변환\n",
        "iris_df_scaled=pd.DataFrame(data=iris_scaled,columns=iris.feature_names)\n",
        "print('feature 들의 평균 값')\n",
        "print(iris_df_scaled.mean())\n",
        "print('\\n feature 들의 분산 값')\n",
        "print(iris_df_scaled.var())"
      ],
      "metadata": {
        "colab": {
          "base_uri": "https://localhost:8080/"
        },
        "id": "mwjtXcVlMDoK",
        "outputId": "54009d5a-f5a3-4040-9f21-6b1372b816bf"
      },
      "execution_count": 187,
      "outputs": [
        {
          "output_type": "stream",
          "name": "stdout",
          "text": [
            "feature 들의 평균 값\n",
            "sepal length (cm)   -1.690315e-15\n",
            "sepal width (cm)    -1.842970e-15\n",
            "petal length (cm)   -1.698641e-15\n",
            "petal width (cm)    -1.409243e-15\n",
            "dtype: float64\n",
            "\n",
            " feature 들의 분산 값\n",
            "sepal length (cm)    1.006711\n",
            "sepal width (cm)     1.006711\n",
            "petal length (cm)    1.006711\n",
            "petal width (cm)     1.006711\n",
            "dtype: float64\n"
          ]
        }
      ]
    },
    {
      "cell_type": "markdown",
      "source": [
        "###4) MinMaxScaler\n",
        "* 데이터값을 0과 1 사이의 범위 값으로 변환함\n",
        "* 음수값이 있으면 -1과 1 사이의 값으로 변환\n",
        "* 데이터의 분포가 가우시안 분포가 아닌 경우에 Min, Max Scale을 적용 가능"
      ],
      "metadata": {
        "id": "59kRvYXzRlRE"
      }
    },
    {
      "cell_type": "code",
      "source": [
        "from sklearn.preprocessing import MinMaxScaler\n",
        "\n",
        "#MinMaxScaler 객체 생성\n",
        "scaler=MinMaxScaler()\n",
        "\n",
        "#MinMaxScaler로 데이터 세트 변환. fit()과 transform()호출\n",
        "scaler.fit(iris_df)\n",
        "iris_scaled=scaler.transform(iris_df)\n",
        "\n",
        "#transform()시 스케일 변환된 데이터 세트가 NumPy ndarray로 반환돼 이를 DataFrame으로 변환\n",
        "iris_df_scaled=pd.DataFrame(data=iris_scaled, columns=iris.feature_names)\n",
        "print('featrue 들의 최솟값')\n",
        "print(iris_df_scaled.min())\n",
        "print('\\nfeature들의 최댓값')\n",
        "print(iris_df_scaled.max())"
      ],
      "metadata": {
        "colab": {
          "base_uri": "https://localhost:8080/"
        },
        "id": "ORXbK8ByWeLI",
        "outputId": "f41136a9-d44c-40b4-acc3-21dc276ad196"
      },
      "execution_count": 188,
      "outputs": [
        {
          "output_type": "stream",
          "name": "stdout",
          "text": [
            "featrue 들의 최솟값\n",
            "sepal length (cm)    0.0\n",
            "sepal width (cm)     0.0\n",
            "petal length (cm)    0.0\n",
            "petal width (cm)     0.0\n",
            "dtype: float64\n",
            "\n",
            "feature들의 최댓값\n",
            "sepal length (cm)    1.0\n",
            "sepal width (cm)     1.0\n",
            "petal length (cm)    1.0\n",
            "petal width (cm)     1.0\n",
            "dtype: float64\n"
          ]
        }
      ]
    },
    {
      "cell_type": "markdown",
      "source": [
        "###5) 학습 데이터와 테스트 데이터의 스케일링 변환 시 유의점\n",
        "\n",
        "* StandardScaler나 MinMaxScaler와 같은 Scaler 객체를 이용해 데이터의 스케일링 변환 시 fit(), transform(), fit_transform()메소드를 이용함\n",
        "  * fit() : 데이터 변환을 위한 기준 정보 설정 (ex. 최댓값/최솟값 설정)\n",
        "  * transform() : 설정된 정보를 이용해 데이터를 반환\n",
        "  * fit_transform() : fit()과 transform()을 한번에 적용\n",
        "\n",
        "* Scaler 객체를 이용해 학습 데이터 세트로 fit()과 transform()을 적용하면 테스트 데이터 세트로는 다시 fit()을 수행하지 않고 학습 데이터 세트로 fit()을 수행한 결과를 이용해 transform()변환을 적용해야 함. 즉, 학습 데이터로 fit()이 적용된 스케일링 기준 정보를 그대로 테스트 데이터에 적용해야 함.\n",
        "  * 그렇지 않고 테스트 데이터로 다시 새로운 스케일링 기준 정보를 만들면 학습 데이터와 테스트 데이터의 스케일링 기준 정보가 서로 달라져 올바른 예측 결과를 도출하지 못할 수 있음."
      ],
      "metadata": {
        "id": "Y39dHlF5XRJK"
      }
    },
    {
      "cell_type": "code",
      "source": [
        "from sklearn.preprocessing import MinMaxScaler\n",
        "import numpy as np\n",
        "\n",
        "#학습데이터는 0부터 10 까지, 테스트 데이터느 0부터 5까지 값을 가지는 데이터 세트로 생성\n",
        "#Scaler 클래스의 fit(), trnasform()은 2차원 이상 데이터만 가능하므로 reshape(-1,1)로 차원 변경\n",
        "train_array=np.arange(0,11).reshape(-1,1)\n",
        "test_array=np.arange(0,6).reshape(-1,1)"
      ],
      "metadata": {
        "id": "vbzrRuo8Yisc"
      },
      "execution_count": 189,
      "outputs": []
    },
    {
      "cell_type": "code",
      "source": [
        "#MinMaxScaler 객체에 별도의 feature_range 파라미터 값을 지정하지 않으면 0-1 값으로 변환\n",
        "scaler=MinMaxScaler()\n",
        "\n",
        "#fit()하게 되면 train_array 데이터의 최솟값이 0, 최댓값이 10으로 설정\n",
        "scaler.fit(train_array)\n",
        "\n",
        "# 1/10 scale로 train_array 데이터 변환함. 원본 10->1로 변환됨.\n",
        "train_scaled=scaler.transform(train_array)\n",
        "\n",
        "print('원본 train_array 데이터 : ',np.round(train_array.reshape(-1),2))\n",
        "print('Scale된 train_array 데이터 : ',np.round(train_scaled.reshape(-1),2))"
      ],
      "metadata": {
        "colab": {
          "base_uri": "https://localhost:8080/"
        },
        "id": "mE9syBmDY9Mr",
        "outputId": "f75d65bf-5d86-49a7-d285-82285a9dd99c"
      },
      "execution_count": 190,
      "outputs": [
        {
          "output_type": "stream",
          "name": "stdout",
          "text": [
            "원본 train_array 데이터 :  [ 0  1  2  3  4  5  6  7  8  9 10]\n",
            "Scale된 train_array 데이터 :  [0.  0.1 0.2 0.3 0.4 0.5 0.6 0.7 0.8 0.9 1. ]\n"
          ]
        }
      ]
    },
    {
      "cell_type": "code",
      "source": [
        "# MinMaxScaler에 test_array를 fit()하게 되면 원본 데이터의 최솟값이 0, 최댓값이 5로 설정됨\n",
        "scaler.fit(test_array)\n",
        "\n",
        "#1/5 scale로 test_array 데이터 변환. 원본 5->1로 변환\n",
        "test_scaled=scaler.transform(test_array)\n",
        "\n",
        "#test_array의 scale 변환 출력\n",
        "print('원본 test_array 데이터:',np.round(test_array.reshape(-1),2))\n",
        "print('Scaled된 test_array 데이터:',np.round(test_scaled.reshape(-1),2))"
      ],
      "metadata": {
        "colab": {
          "base_uri": "https://localhost:8080/"
        },
        "id": "Rd3KoVbiY9bi",
        "outputId": "46f5b1c2-8aa7-46ef-fe17-5e33fedc8599"
      },
      "execution_count": 191,
      "outputs": [
        {
          "output_type": "stream",
          "name": "stdout",
          "text": [
            "원본 test_array 데이터: [0 1 2 3 4 5]\n",
            "Scaled된 test_array 데이터: [0.  0.2 0.4 0.6 0.8 1. ]\n"
          ]
        }
      ]
    },
    {
      "cell_type": "markdown",
      "source": [
        "> 학습 데이터와 테스트 데이터의 스케일링이 맞지 않음. >> 학습 데이터와 테스트 데이터의 서로 다른 원본값이 동일한 값으로 변환되는 결과 초래\n",
        "\n",
        "* 머신러닝 모델은 학습 데이터를 기반으로 학습되기 때문에 반드시 테스트 데이터는 학습 데이터의 스케일링 기준에 따라야 하며, 테스트 데이터의 1값은 학습 데이터와 동일하게 0.1로 변환되어야 함.\n",
        "\n",
        "* 위와 같은 이유로 테스트데이터에 다시 fit()을 적용하면 안되며 학습 데이터로 이미 fit()이 적용된 Scaler 객체를 이용해 transform()으로 변환해야 함."
      ],
      "metadata": {
        "id": "6oarYCjxaO9D"
      }
    },
    {
      "cell_type": "code",
      "source": [
        "scaler=MinMaxScaler()\n",
        "scaler.fit(train_array)\n",
        "train_Scaled=scaler.transform(train_array)\n",
        "print('원본 train_array 데이터: ', np.round(train_array.reshape(-1),2))\n",
        "print('scale된 train_array 데이터: ', np.round(train_scaled.reshape(-1),2))\n",
        "\n",
        "#test_array에 Scale 변환을 할 때는 반드시 fit()을 호출하지 않고 transform()만으로 변환해야 함\n",
        "test_scaled=scaler.transform(test_array)\n",
        "print('\\n원본 test_array 데이터 : ',np.round(test_array.reshape(-1),2))\n",
        "print('scale된 test_array 데이터 : ',np.round(test_scaled.reshape(-1),2))"
      ],
      "metadata": {
        "colab": {
          "base_uri": "https://localhost:8080/"
        },
        "id": "2xM8mN-Eapys",
        "outputId": "91b1e65b-45f7-479f-f340-3fbff0b800ba"
      },
      "execution_count": 192,
      "outputs": [
        {
          "output_type": "stream",
          "name": "stdout",
          "text": [
            "원본 train_array 데이터:  [ 0  1  2  3  4  5  6  7  8  9 10]\n",
            "scale된 train_array 데이터:  [0.  0.1 0.2 0.3 0.4 0.5 0.6 0.7 0.8 0.9 1. ]\n",
            "\n",
            "원본 test_array 데이터 :  [0 1 2 3 4 5]\n",
            "scale된 test_array 데이터 :  [0.  0.1 0.2 0.3 0.4 0.5]\n"
          ]
        }
      ]
    },
    {
      "cell_type": "markdown",
      "source": [
        "* fit_transform()을 할 때도 마찬가지 > 테스트 데이터에서는 절대 사용하면 안됨\n",
        "\n",
        "* 학습과 테스트 데이터에 fit()과 transform()을 적용할 때 주의 사항이 발생하므로 학습과 테스트 데이터 세트로 분리하기 전에 먼저 전체 데이터 세트에 스케일링을 적용한 뒤 학습과 테스트 데이터 세트로 분리하는 것이 더 바람직함.\n",
        "\n",
        "* 스케일링 변환시 유의사항 정리\n",
        "  * 가능하다면 전체 데이터의 스케일링 변환을 적용한 뒤 학습과 테스트 데이터로 분리\n",
        "  * 여의치 않다면 테스트 데이터 변환시에는 fit()이나 fit_transform()을 적용하지 않고 학습 데이터로 이미 fit()된 scaler 객체를 이용해 transform()으로 변환\n",
        "  "
      ],
      "metadata": {
        "id": "bqDMddGBbWc7"
      }
    },
    {
      "cell_type": "markdown",
      "source": [
        "##__6. 사이킷런으로 수행하는 타이타닉 생존자 예측__\n",
        "\n",
        "* 타이타닉 데이터\n",
        "  * Passengerid : 탑승자 데이터 일련번호\n",
        "  * survived : 생존 여부, 0=사망, 1=생존\n",
        "  * pclass : 티켓의 선실 등급, 1=일등석, 2=이등석, 3=삼등석\n",
        "  * sex : 탑승자 성별\n",
        "  * name : 탑승자 이름\n",
        "  * Age : 탑승자 나이\n",
        "  * sibsp : 같이 탑승한 형제자매 또는 배우자 인원수\n",
        "  * parch : 같이 탑승한 부모님 또는 어린이 인원수\n",
        "  * ticket : 티켓번호\n",
        "  * fare : 요금\n",
        "  * cabin : 선실번호\n",
        "  * embarked : 중간 정착 항구 /C=Cherbourg,Q=Queenstown,S=Southampton\n",
        "\n",
        "  "
      ],
      "metadata": {
        "id": "lv6DvIBdb-EE"
      }
    },
    {
      "cell_type": "code",
      "source": [
        "import numpy as np\n",
        "import pandas as pd\n",
        "import matplotlib.pyplot as plt\n",
        "import seaborn as sns\n",
        "%matplotlib inline\n",
        "\n",
        "titanic_df=pd.read_csv('train.csv')\n",
        "titanic_df.head(3)"
      ],
      "metadata": {
        "colab": {
          "base_uri": "https://localhost:8080/",
          "height": 364
        },
        "id": "Vej-bJFPdK3t",
        "outputId": "ebfb2e2d-8580-4ccc-94b0-308afac4fdc7"
      },
      "execution_count": 193,
      "outputs": [
        {
          "output_type": "execute_result",
          "data": {
            "text/plain": [
              "   PassengerId  Survived  Pclass  \\\n",
              "0            1         0       3   \n",
              "1            2         1       1   \n",
              "2            3         1       3   \n",
              "\n",
              "                                                Name     Sex   Age  SibSp  \\\n",
              "0                            Braund, Mr. Owen Harris    male  22.0      1   \n",
              "1  Cumings, Mrs. John Bradley (Florence Briggs Th...  female  38.0      1   \n",
              "2                             Heikkinen, Miss. Laina  female  26.0      0   \n",
              "\n",
              "   Parch            Ticket     Fare Cabin Embarked  \n",
              "0      0         A/5 21171   7.2500   NaN        S  \n",
              "1      0          PC 17599  71.2833   C85        C  \n",
              "2      0  STON/O2. 3101282   7.9250   NaN        S  "
            ],
            "text/html": [
              "\n",
              "  <div id=\"df-60dfe53b-ede8-4e2d-a8c3-0ed2aee832b6\">\n",
              "    <div class=\"colab-df-container\">\n",
              "      <div>\n",
              "<style scoped>\n",
              "    .dataframe tbody tr th:only-of-type {\n",
              "        vertical-align: middle;\n",
              "    }\n",
              "\n",
              "    .dataframe tbody tr th {\n",
              "        vertical-align: top;\n",
              "    }\n",
              "\n",
              "    .dataframe thead th {\n",
              "        text-align: right;\n",
              "    }\n",
              "</style>\n",
              "<table border=\"1\" class=\"dataframe\">\n",
              "  <thead>\n",
              "    <tr style=\"text-align: right;\">\n",
              "      <th></th>\n",
              "      <th>PassengerId</th>\n",
              "      <th>Survived</th>\n",
              "      <th>Pclass</th>\n",
              "      <th>Name</th>\n",
              "      <th>Sex</th>\n",
              "      <th>Age</th>\n",
              "      <th>SibSp</th>\n",
              "      <th>Parch</th>\n",
              "      <th>Ticket</th>\n",
              "      <th>Fare</th>\n",
              "      <th>Cabin</th>\n",
              "      <th>Embarked</th>\n",
              "    </tr>\n",
              "  </thead>\n",
              "  <tbody>\n",
              "    <tr>\n",
              "      <th>0</th>\n",
              "      <td>1</td>\n",
              "      <td>0</td>\n",
              "      <td>3</td>\n",
              "      <td>Braund, Mr. Owen Harris</td>\n",
              "      <td>male</td>\n",
              "      <td>22.0</td>\n",
              "      <td>1</td>\n",
              "      <td>0</td>\n",
              "      <td>A/5 21171</td>\n",
              "      <td>7.2500</td>\n",
              "      <td>NaN</td>\n",
              "      <td>S</td>\n",
              "    </tr>\n",
              "    <tr>\n",
              "      <th>1</th>\n",
              "      <td>2</td>\n",
              "      <td>1</td>\n",
              "      <td>1</td>\n",
              "      <td>Cumings, Mrs. John Bradley (Florence Briggs Th...</td>\n",
              "      <td>female</td>\n",
              "      <td>38.0</td>\n",
              "      <td>1</td>\n",
              "      <td>0</td>\n",
              "      <td>PC 17599</td>\n",
              "      <td>71.2833</td>\n",
              "      <td>C85</td>\n",
              "      <td>C</td>\n",
              "    </tr>\n",
              "    <tr>\n",
              "      <th>2</th>\n",
              "      <td>3</td>\n",
              "      <td>1</td>\n",
              "      <td>3</td>\n",
              "      <td>Heikkinen, Miss. Laina</td>\n",
              "      <td>female</td>\n",
              "      <td>26.0</td>\n",
              "      <td>0</td>\n",
              "      <td>0</td>\n",
              "      <td>STON/O2. 3101282</td>\n",
              "      <td>7.9250</td>\n",
              "      <td>NaN</td>\n",
              "      <td>S</td>\n",
              "    </tr>\n",
              "  </tbody>\n",
              "</table>\n",
              "</div>\n",
              "      <button class=\"colab-df-convert\" onclick=\"convertToInteractive('df-60dfe53b-ede8-4e2d-a8c3-0ed2aee832b6')\"\n",
              "              title=\"Convert this dataframe to an interactive table.\"\n",
              "              style=\"display:none;\">\n",
              "        \n",
              "  <svg xmlns=\"http://www.w3.org/2000/svg\" height=\"24px\"viewBox=\"0 0 24 24\"\n",
              "       width=\"24px\">\n",
              "    <path d=\"M0 0h24v24H0V0z\" fill=\"none\"/>\n",
              "    <path d=\"M18.56 5.44l.94 2.06.94-2.06 2.06-.94-2.06-.94-.94-2.06-.94 2.06-2.06.94zm-11 1L8.5 8.5l.94-2.06 2.06-.94-2.06-.94L8.5 2.5l-.94 2.06-2.06.94zm10 10l.94 2.06.94-2.06 2.06-.94-2.06-.94-.94-2.06-.94 2.06-2.06.94z\"/><path d=\"M17.41 7.96l-1.37-1.37c-.4-.4-.92-.59-1.43-.59-.52 0-1.04.2-1.43.59L10.3 9.45l-7.72 7.72c-.78.78-.78 2.05 0 2.83L4 21.41c.39.39.9.59 1.41.59.51 0 1.02-.2 1.41-.59l7.78-7.78 2.81-2.81c.8-.78.8-2.07 0-2.86zM5.41 20L4 18.59l7.72-7.72 1.47 1.35L5.41 20z\"/>\n",
              "  </svg>\n",
              "      </button>\n",
              "      \n",
              "  <style>\n",
              "    .colab-df-container {\n",
              "      display:flex;\n",
              "      flex-wrap:wrap;\n",
              "      gap: 12px;\n",
              "    }\n",
              "\n",
              "    .colab-df-convert {\n",
              "      background-color: #E8F0FE;\n",
              "      border: none;\n",
              "      border-radius: 50%;\n",
              "      cursor: pointer;\n",
              "      display: none;\n",
              "      fill: #1967D2;\n",
              "      height: 32px;\n",
              "      padding: 0 0 0 0;\n",
              "      width: 32px;\n",
              "    }\n",
              "\n",
              "    .colab-df-convert:hover {\n",
              "      background-color: #E2EBFA;\n",
              "      box-shadow: 0px 1px 2px rgba(60, 64, 67, 0.3), 0px 1px 3px 1px rgba(60, 64, 67, 0.15);\n",
              "      fill: #174EA6;\n",
              "    }\n",
              "\n",
              "    [theme=dark] .colab-df-convert {\n",
              "      background-color: #3B4455;\n",
              "      fill: #D2E3FC;\n",
              "    }\n",
              "\n",
              "    [theme=dark] .colab-df-convert:hover {\n",
              "      background-color: #434B5C;\n",
              "      box-shadow: 0px 1px 3px 1px rgba(0, 0, 0, 0.15);\n",
              "      filter: drop-shadow(0px 1px 2px rgba(0, 0, 0, 0.3));\n",
              "      fill: #FFFFFF;\n",
              "    }\n",
              "  </style>\n",
              "\n",
              "      <script>\n",
              "        const buttonEl =\n",
              "          document.querySelector('#df-60dfe53b-ede8-4e2d-a8c3-0ed2aee832b6 button.colab-df-convert');\n",
              "        buttonEl.style.display =\n",
              "          google.colab.kernel.accessAllowed ? 'block' : 'none';\n",
              "\n",
              "        async function convertToInteractive(key) {\n",
              "          const element = document.querySelector('#df-60dfe53b-ede8-4e2d-a8c3-0ed2aee832b6');\n",
              "          const dataTable =\n",
              "            await google.colab.kernel.invokeFunction('convertToInteractive',\n",
              "                                                     [key], {});\n",
              "          if (!dataTable) return;\n",
              "\n",
              "          const docLinkHtml = 'Like what you see? Visit the ' +\n",
              "            '<a target=\"_blank\" href=https://colab.research.google.com/notebooks/data_table.ipynb>data table notebook</a>'\n",
              "            + ' to learn more about interactive tables.';\n",
              "          element.innerHTML = '';\n",
              "          dataTable['output_type'] = 'display_data';\n",
              "          await google.colab.output.renderOutput(dataTable, element);\n",
              "          const docLink = document.createElement('div');\n",
              "          docLink.innerHTML = docLinkHtml;\n",
              "          element.appendChild(docLink);\n",
              "        }\n",
              "      </script>\n",
              "    </div>\n",
              "  </div>\n",
              "  "
            ]
          },
          "metadata": {},
          "execution_count": 193
        }
      ]
    },
    {
      "cell_type": "code",
      "source": [
        "print('\\n ### 학습 데이터 정보 ###\\n')\n",
        "print(titanic_df.info())"
      ],
      "metadata": {
        "colab": {
          "base_uri": "https://localhost:8080/"
        },
        "id": "Ib5AOMzedbvt",
        "outputId": "f29c32ce-cacd-48c2-9309-5d9cf6782c16"
      },
      "execution_count": 194,
      "outputs": [
        {
          "output_type": "stream",
          "name": "stdout",
          "text": [
            "\n",
            " ### 학습 데이터 정보 ###\n",
            "\n",
            "<class 'pandas.core.frame.DataFrame'>\n",
            "RangeIndex: 891 entries, 0 to 890\n",
            "Data columns (total 12 columns):\n",
            " #   Column       Non-Null Count  Dtype  \n",
            "---  ------       --------------  -----  \n",
            " 0   PassengerId  891 non-null    int64  \n",
            " 1   Survived     891 non-null    int64  \n",
            " 2   Pclass       891 non-null    int64  \n",
            " 3   Name         891 non-null    object \n",
            " 4   Sex          891 non-null    object \n",
            " 5   Age          714 non-null    float64\n",
            " 6   SibSp        891 non-null    int64  \n",
            " 7   Parch        891 non-null    int64  \n",
            " 8   Ticket       891 non-null    object \n",
            " 9   Fare         891 non-null    float64\n",
            " 10  Cabin        204 non-null    object \n",
            " 11  Embarked     889 non-null    object \n",
            "dtypes: float64(2), int64(5), object(5)\n",
            "memory usage: 83.7+ KB\n",
            "None\n"
          ]
        }
      ]
    },
    {
      "cell_type": "markdown",
      "source": [
        "* Null 값 처리 필요\n",
        "  * fillna()함수를 이용해 Null 값을 평균 또는 고정 값으로 변경"
      ],
      "metadata": {
        "id": "k0Akb4kGdmvV"
      }
    },
    {
      "cell_type": "code",
      "source": [
        "titanic_df['Age'].fillna(titanic_df['Age'].mean(),inplace=True)\n",
        "titanic_df['Cabin'].fillna('N',inplace=True)\n",
        "titanic_df['Embarked'].fillna('N',inplace=True)\n",
        "print('데이터 세트 Null 값 개수',titanic_df.isnull().sum().sum())"
      ],
      "metadata": {
        "colab": {
          "base_uri": "https://localhost:8080/"
        },
        "id": "4jcLVpR3dmVE",
        "outputId": "11359279-f104-4051-db20-e236dc5ce4a5"
      },
      "execution_count": 195,
      "outputs": [
        {
          "output_type": "stream",
          "name": "stdout",
          "text": [
            "데이터 세트 Null 값 개수 0\n"
          ]
        }
      ]
    },
    {
      "cell_type": "code",
      "source": [
        "print('Sex 값 분포 :\\n',titanic_df['Sex'].value_counts())\n",
        "print('\\n Cabin값 분포:\\n',titanic_df['Cabin'].value_counts())\n",
        "print('\\n Embarked 값 분포:\\n',titanic_df['Embarked'].value_counts())\n"
      ],
      "metadata": {
        "colab": {
          "base_uri": "https://localhost:8080/"
        },
        "id": "X3gETdwQeKU0",
        "outputId": "a5ad1cf6-ade9-4065-cf27-b225eb267981"
      },
      "execution_count": 196,
      "outputs": [
        {
          "output_type": "stream",
          "name": "stdout",
          "text": [
            "Sex 값 분포 :\n",
            " male      577\n",
            "female    314\n",
            "Name: Sex, dtype: int64\n",
            "\n",
            " Cabin값 분포:\n",
            " N              687\n",
            "C23 C25 C27      4\n",
            "G6               4\n",
            "B96 B98          4\n",
            "C22 C26          3\n",
            "              ... \n",
            "E34              1\n",
            "C7               1\n",
            "C54              1\n",
            "E36              1\n",
            "C148             1\n",
            "Name: Cabin, Length: 148, dtype: int64\n",
            "\n",
            " Embarked 값 분포:\n",
            " S    644\n",
            "C    168\n",
            "Q     77\n",
            "N      2\n",
            "Name: Embarked, dtype: int64\n"
          ]
        }
      ]
    },
    {
      "cell_type": "markdown",
      "source": [
        "> Cabin의 경우 속성 값이 제대로 정리되어 있지 않음\n",
        "\n",
        "> 선실 번호 중 선실 등급을 나타내는 가장 앞 알파벳만 추출(부자와 가난한 사람 구분)\n"
      ],
      "metadata": {
        "id": "ARBKkD4aegbl"
      }
    },
    {
      "cell_type": "code",
      "source": [
        "titanic_df['Cabin']=titanic_df['Cabin'].str[:1]\n",
        "print(titanic_df['Cabin'].head(3))"
      ],
      "metadata": {
        "colab": {
          "base_uri": "https://localhost:8080/"
        },
        "id": "Kb3se9-Les37",
        "outputId": "0afe301e-7329-4e3b-dab7-884c27827d56"
      },
      "execution_count": 197,
      "outputs": [
        {
          "output_type": "stream",
          "name": "stdout",
          "text": [
            "0    N\n",
            "1    C\n",
            "2    N\n",
            "Name: Cabin, dtype: object\n"
          ]
        }
      ]
    },
    {
      "cell_type": "code",
      "source": [
        "# 성별에 따른 생존자 수 비교\n",
        "titanic_df.groupby(['Sex','Survived'])['Survived'].count()"
      ],
      "metadata": {
        "colab": {
          "base_uri": "https://localhost:8080/"
        },
        "id": "rTf9N4-BfCdC",
        "outputId": "10b8d346-166c-4d02-af94-f86a16a1a93a"
      },
      "execution_count": 198,
      "outputs": [
        {
          "output_type": "execute_result",
          "data": {
            "text/plain": [
              "Sex     Survived\n",
              "female  0            81\n",
              "        1           233\n",
              "male    0           468\n",
              "        1           109\n",
              "Name: Survived, dtype: int64"
            ]
          },
          "metadata": {},
          "execution_count": 198
        }
      ]
    },
    {
      "cell_type": "markdown",
      "source": [
        "> 여자는 74.2%가 생존했지만, 남자는 18.8%가 생존함.\n",
        "\n",
        "* Survived 칼럼은 레이블로서 결정 클래스 값\n"
      ],
      "metadata": {
        "id": "hbe3vDnTfOcH"
      }
    },
    {
      "cell_type": "code",
      "source": [
        "sns.barplot(x='Sex',y='Survived',data=titanic_df)"
      ],
      "metadata": {
        "colab": {
          "base_uri": "https://localhost:8080/",
          "height": 297
        },
        "id": "8oKemH-AfODt",
        "outputId": "249273dc-f534-4dfa-b11e-27cf840e2432"
      },
      "execution_count": 199,
      "outputs": [
        {
          "output_type": "execute_result",
          "data": {
            "text/plain": [
              "<matplotlib.axes._subplots.AxesSubplot at 0x7f266aee3490>"
            ]
          },
          "metadata": {},
          "execution_count": 199
        },
        {
          "output_type": "display_data",
          "data": {
            "text/plain": [
              "<Figure size 432x288 with 1 Axes>"
            ],
            "image/png": "[encoded data removed]"
          },
          "metadata": {
            "needs_background": "light"
          }
        }
      ]
    },
    {
      "cell_type": "markdown",
      "source": [
        "* 객실 등급 변수를 이용하여 부자와 가난한 사람 간의 생존 확률 비교\n"
      ],
      "metadata": {
        "id": "o4ChUUDafhrc"
      }
    },
    {
      "cell_type": "code",
      "source": [
        "sns.barplot(x='Pclass',y='Survived',hue='Sex',data=titanic_df)"
      ],
      "metadata": {
        "colab": {
          "base_uri": "https://localhost:8080/",
          "height": 297
        },
        "id": "0jTw3GTGfvfm",
        "outputId": "6702d630-d8ab-449d-f8d4-fb717529e021"
      },
      "execution_count": 200,
      "outputs": [
        {
          "output_type": "execute_result",
          "data": {
            "text/plain": [
              "<matplotlib.axes._subplots.AxesSubplot at 0x7f266b62ebd0>"
            ]
          },
          "metadata": {},
          "execution_count": 200
        },
        {
          "output_type": "display_data",
          "data": {
            "text/plain": [
              "<Figure size 432x288 with 1 Axes>"
            ],
            "image/png": "[encoded data removed]"
          },
          "metadata": {
            "needs_background": "light"
          }
        }
      ]
    },
    {
      "cell_type": "markdown",
      "source": [
        "> 여성의 경우 선실 등급에 따른 생존 확률의 차이는 크지 않음 BUT 삼등실의 경우 생존 확률이 상대적으로 많이 떨어짐\n",
        "\n",
        "> 남성의 경우 일등실의 생존 확률이 이,삼등실의 생존확률보다 월등히 높음."
      ],
      "metadata": {
        "id": "2MmW59hZf3JX"
      }
    },
    {
      "cell_type": "markdown",
      "source": [
        "  * Age에 따른 생존확률\n",
        "    * Age의 값 종류가 많기 때문에 범위별로 분류해 카테고리값을 할당\n",
        "    * 0~5세 : Baby\n",
        "    * 6~12세 : Child\n",
        "    * 13~18세 : Teenager\n",
        "    * 19~25세 : Student\n",
        "    * 26~35세 : Young Adult\n",
        "    * 36~60세 : Adult\n",
        "    * 61세 이상 : Elderly\n",
        "    * -1이하의 오류값 : Unknown\n",
        "    "
      ],
      "metadata": {
        "id": "d7IHY-H0Pg23"
      }
    },
    {
      "cell_type": "code",
      "source": [
        "#입력 Age에 따라 구분 값을 반환하는 함수 설정. DataFrame의 apply lambda 식에 사용\n",
        "def get_category(age):\n",
        "  cat=''\n",
        "  if age<= -1 : cat='Unknown'\n",
        "  elif age<=5 : cat='Baby'\n",
        "  elif age<=12:cat='Child'\n",
        "  elif age<=18: cat='Teenager'\n",
        "  elif age<=25:cat='Student'\n",
        "  elif age<=35: cat='Young Adult'\n",
        "  elif age<=60 : cat='Adult'\n",
        "  else: cat='Elderly'\n",
        "\n",
        "  return cat\n",
        "\n",
        "#막대그래프의 크기 figure를 더 크게 설정\n",
        "plt.figure(figsize=(10,6))\n",
        "\n",
        "#x축의 값을 순차적으로 표시하기 위한 설정\n",
        "group_names=['Unknown','Baby','Child','Teenager','Student','Young Adult', 'Adult','Elderly']\n",
        "\n",
        "#lambda 식에 위에서 생성한 get_category() 함수를 반환값으로 지정\n",
        "#get_category(X)는 입력값으로 'Age'값을 받아서 해당하는 cat 반환\n",
        "titanic_df['Age_cat']=titanic_df['Age'].apply(lambda x: get_category(x))\n",
        "sns.barplot(x='Age_cat',y='Survived',hue='Sex',data=titanic_df, order=group_names)\n",
        "titanic_df.drop('Age_cat',axis=1,inplace=True)"
      ],
      "metadata": {
        "colab": {
          "base_uri": "https://localhost:8080/",
          "height": 389
        },
        "id": "jDHqKOyyQAyb",
        "outputId": "4dead459-94ab-4dfc-f75c-15f938adc457"
      },
      "execution_count": 201,
      "outputs": [
        {
          "output_type": "display_data",
          "data": {
            "text/plain": [
              "<Figure size 720x432 with 1 Axes>"
            ],
            "image/png": "[encoded data removed]"
          },
          "metadata": {
            "needs_background": "light"
          }
        }
      ]
    },
    {
      "cell_type": "markdown",
      "source": [
        "  > 여자 Baby의 경우 비교적 생존 확률이 높음.\n",
        "\n",
        "  > 여자 Child의 경우 다른 연령대에 비해 생존 확률이 낮음\n",
        "  \n",
        "  > 여자 Elderly의 경우 생존 확률이 매우 높음\n"
      ],
      "metadata": {
        "id": "vPvz_ymDRwIo"
      }
    },
    {
      "cell_type": "markdown",
      "source": [
        "  * 문자열 카테고리 피처를 숫자형 카테고리 피처로 변환\n",
        "    * LabelEncoder() : 카테고리 값의 유형 수에 따라 0~(카테고리 유형 수 -1) 까지의 숫자 값으로 변환"
      ],
      "metadata": {
        "id": "muP1K_ptR6hd"
      }
    },
    {
      "cell_type": "code",
      "source": [
        "from sklearn import preprocessing\n",
        "\n",
        "def encode_features(dataDF):\n",
        "  features=['Cabin','Sex','Embarked']\n",
        "  for feature in features:\n",
        "    le=preprocessing.LabelEncoder()\n",
        "    le=le.fit(dataDF[feature])\n",
        "    dataDF[feature]=le.transform(dataDF[feature])\n",
        "\n",
        "  return dataDF\n",
        "\n",
        "titanic_df=encode_features(titanic_df)\n",
        "titanic_df.head()"
      ],
      "metadata": {
        "colab": {
          "base_uri": "https://localhost:8080/",
          "height": 548
        },
        "id": "igpD8oKjSMSm",
        "outputId": "8d633b61-1683-4e94-fd2c-4f40de9a1ef6"
      },
      "execution_count": 202,
      "outputs": [
        {
          "output_type": "execute_result",
          "data": {
            "text/plain": [
              "   PassengerId  Survived  Pclass  \\\n",
              "0            1         0       3   \n",
              "1            2         1       1   \n",
              "2            3         1       3   \n",
              "3            4         1       1   \n",
              "4            5         0       3   \n",
              "\n",
              "                                                Name  Sex   Age  SibSp  Parch  \\\n",
              "0                            Braund, Mr. Owen Harris    1  22.0      1      0   \n",
              "1  Cumings, Mrs. John Bradley (Florence Briggs Th...    0  38.0      1      0   \n",
              "2                             Heikkinen, Miss. Laina    0  26.0      0      0   \n",
              "3       Futrelle, Mrs. Jacques Heath (Lily May Peel)    0  35.0      1      0   \n",
              "4                           Allen, Mr. William Henry    1  35.0      0      0   \n",
              "\n",
              "             Ticket     Fare  Cabin  Embarked  \n",
              "0         A/5 21171   7.2500      7         3  \n",
              "1          PC 17599  71.2833      2         0  \n",
              "2  STON/O2. 3101282   7.9250      7         3  \n",
              "3            113803  53.1000      2         3  \n",
              "4            373450   8.0500      7         3  "
            ],
            "text/html": [
              "\n",
              "  <div id=\"df-91a14e0a-eb11-4bfb-98de-8b5140c451b7\">\n",
              "    <div class=\"colab-df-container\">\n",
              "      <div>\n",
              "<style scoped>\n",
              "    .dataframe tbody tr th:only-of-type {\n",
              "        vertical-align: middle;\n",
              "    }\n",
              "\n",
              "    .dataframe tbody tr th {\n",
              "        vertical-align: top;\n",
              "    }\n",
              "\n",
              "    .dataframe thead th {\n",
              "        text-align: right;\n",
              "    }\n",
              "</style>\n",
              "<table border=\"1\" class=\"dataframe\">\n",
              "  <thead>\n",
              "    <tr style=\"text-align: right;\">\n",
              "      <th></th>\n",
              "      <th>PassengerId</th>\n",
              "      <th>Survived</th>\n",
              "      <th>Pclass</th>\n",
              "      <th>Name</th>\n",
              "      <th>Sex</th>\n",
              "      <th>Age</th>\n",
              "      <th>SibSp</th>\n",
              "      <th>Parch</th>\n",
              "      <th>Ticket</th>\n",
              "      <th>Fare</th>\n",
              "      <th>Cabin</th>\n",
              "      <th>Embarked</th>\n",
              "    </tr>\n",
              "  </thead>\n",
              "  <tbody>\n",
              "    <tr>\n",
              "      <th>0</th>\n",
              "      <td>1</td>\n",
              "      <td>0</td>\n",
              "      <td>3</td>\n",
              "      <td>Braund, Mr. Owen Harris</td>\n",
              "      <td>1</td>\n",
              "      <td>22.0</td>\n",
              "      <td>1</td>\n",
              "      <td>0</td>\n",
              "      <td>A/5 21171</td>\n",
              "      <td>7.2500</td>\n",
              "      <td>7</td>\n",
              "      <td>3</td>\n",
              "    </tr>\n",
              "    <tr>\n",
              "      <th>1</th>\n",
              "      <td>2</td>\n",
              "      <td>1</td>\n",
              "      <td>1</td>\n",
              "      <td>Cumings, Mrs. John Bradley (Florence Briggs Th...</td>\n",
              "      <td>0</td>\n",
              "      <td>38.0</td>\n",
              "      <td>1</td>\n",
              "      <td>0</td>\n",
              "      <td>PC 17599</td>\n",
              "      <td>71.2833</td>\n",
              "      <td>2</td>\n",
              "      <td>0</td>\n",
              "    </tr>\n",
              "    <tr>\n",
              "      <th>2</th>\n",
              "      <td>3</td>\n",
              "      <td>1</td>\n",
              "      <td>3</td>\n",
              "      <td>Heikkinen, Miss. Laina</td>\n",
              "      <td>0</td>\n",
              "      <td>26.0</td>\n",
              "      <td>0</td>\n",
              "      <td>0</td>\n",
              "      <td>STON/O2. 3101282</td>\n",
              "      <td>7.9250</td>\n",
              "      <td>7</td>\n",
              "      <td>3</td>\n",
              "    </tr>\n",
              "    <tr>\n",
              "      <th>3</th>\n",
              "      <td>4</td>\n",
              "      <td>1</td>\n",
              "      <td>1</td>\n",
              "      <td>Futrelle, Mrs. Jacques Heath (Lily May Peel)</td>\n",
              "      <td>0</td>\n",
              "      <td>35.0</td>\n",
              "      <td>1</td>\n",
              "      <td>0</td>\n",
              "      <td>113803</td>\n",
              "      <td>53.1000</td>\n",
              "      <td>2</td>\n",
              "      <td>3</td>\n",
              "    </tr>\n",
              "    <tr>\n",
              "      <th>4</th>\n",
              "      <td>5</td>\n",
              "      <td>0</td>\n",
              "      <td>3</td>\n",
              "      <td>Allen, Mr. William Henry</td>\n",
              "      <td>1</td>\n",
              "      <td>35.0</td>\n",
              "      <td>0</td>\n",
              "      <td>0</td>\n",
              "      <td>373450</td>\n",
              "      <td>8.0500</td>\n",
              "      <td>7</td>\n",
              "      <td>3</td>\n",
              "    </tr>\n",
              "  </tbody>\n",
              "</table>\n",
              "</div>\n",
              "      <button class=\"colab-df-convert\" onclick=\"convertToInteractive('df-91a14e0a-eb11-4bfb-98de-8b5140c451b7')\"\n",
              "              title=\"Convert this dataframe to an interactive table.\"\n",
              "              style=\"display:none;\">\n",
              "        \n",
              "  <svg xmlns=\"http://www.w3.org/2000/svg\" height=\"24px\"viewBox=\"0 0 24 24\"\n",
              "       width=\"24px\">\n",
              "    <path d=\"M0 0h24v24H0V0z\" fill=\"none\"/>\n",
              "    <path d=\"M18.56 5.44l.94 2.06.94-2.06 2.06-.94-2.06-.94-.94-2.06-.94 2.06-2.06.94zm-11 1L8.5 8.5l.94-2.06 2.06-.94-2.06-.94L8.5 2.5l-.94 2.06-2.06.94zm10 10l.94 2.06.94-2.06 2.06-.94-2.06-.94-.94-2.06-.94 2.06-2.06.94z\"/><path d=\"M17.41 7.96l-1.37-1.37c-.4-.4-.92-.59-1.43-.59-.52 0-1.04.2-1.43.59L10.3 9.45l-7.72 7.72c-.78.78-.78 2.05 0 2.83L4 21.41c.39.39.9.59 1.41.59.51 0 1.02-.2 1.41-.59l7.78-7.78 2.81-2.81c.8-.78.8-2.07 0-2.86zM5.41 20L4 18.59l7.72-7.72 1.47 1.35L5.41 20z\"/>\n",
              "  </svg>\n",
              "      </button>\n",
              "      \n",
              "  <style>\n",
              "    .colab-df-container {\n",
              "      display:flex;\n",
              "      flex-wrap:wrap;\n",
              "      gap: 12px;\n",
              "    }\n",
              "\n",
              "    .colab-df-convert {\n",
              "      background-color: #E8F0FE;\n",
              "      border: none;\n",
              "      border-radius: 50%;\n",
              "      cursor: pointer;\n",
              "      display: none;\n",
              "      fill: #1967D2;\n",
              "      height: 32px;\n",
              "      padding: 0 0 0 0;\n",
              "      width: 32px;\n",
              "    }\n",
              "\n",
              "    .colab-df-convert:hover {\n",
              "      background-color: #E2EBFA;\n",
              "      box-shadow: 0px 1px 2px rgba(60, 64, 67, 0.3), 0px 1px 3px 1px rgba(60, 64, 67, 0.15);\n",
              "      fill: #174EA6;\n",
              "    }\n",
              "\n",
              "    [theme=dark] .colab-df-convert {\n",
              "      background-color: #3B4455;\n",
              "      fill: #D2E3FC;\n",
              "    }\n",
              "\n",
              "    [theme=dark] .colab-df-convert:hover {\n",
              "      background-color: #434B5C;\n",
              "      box-shadow: 0px 1px 3px 1px rgba(0, 0, 0, 0.15);\n",
              "      filter: drop-shadow(0px 1px 2px rgba(0, 0, 0, 0.3));\n",
              "      fill: #FFFFFF;\n",
              "    }\n",
              "  </style>\n",
              "\n",
              "      <script>\n",
              "        const buttonEl =\n",
              "          document.querySelector('#df-91a14e0a-eb11-4bfb-98de-8b5140c451b7 button.colab-df-convert');\n",
              "        buttonEl.style.display =\n",
              "          google.colab.kernel.accessAllowed ? 'block' : 'none';\n",
              "\n",
              "        async function convertToInteractive(key) {\n",
              "          const element = document.querySelector('#df-91a14e0a-eb11-4bfb-98de-8b5140c451b7');\n",
              "          const dataTable =\n",
              "            await google.colab.kernel.invokeFunction('convertToInteractive',\n",
              "                                                     [key], {});\n",
              "          if (!dataTable) return;\n",
              "\n",
              "          const docLinkHtml = 'Like what you see? Visit the ' +\n",
              "            '<a target=\"_blank\" href=https://colab.research.google.com/notebooks/data_table.ipynb>data table notebook</a>'\n",
              "            + ' to learn more about interactive tables.';\n",
              "          element.innerHTML = '';\n",
              "          dataTable['output_type'] = 'display_data';\n",
              "          await google.colab.output.renderOutput(dataTable, element);\n",
              "          const docLink = document.createElement('div');\n",
              "          docLink.innerHTML = docLinkHtml;\n",
              "          element.appendChild(docLink);\n",
              "        }\n",
              "      </script>\n",
              "    </div>\n",
              "  </div>\n",
              "  "
            ]
          },
          "metadata": {},
          "execution_count": 202
        }
      ]
    },
    {
      "cell_type": "markdown",
      "source": [
        "  * 지금까지 피처를 가공한 내역을 정리하고 이를 함수로 만들어 쉽게 재사용할 수 있도록 만들기\n",
        "  * transform_features()"
      ],
      "metadata": {
        "id": "Hb84hXcFSpNX"
      }
    },
    {
      "cell_type": "code",
      "source": [
        "#Null 처리 함수\n",
        "def fillna(df):\n",
        "  df['Age'].fillna(df['Age'].mean(),inplace=True)\n",
        "  df['Cabin'].fillna('N',inplace=True)\n",
        "  df['Embarked'].fillna('N',inplace=True)\n",
        "  df['Fare'].fillna(0,inplace=True)\n",
        "  return df\n",
        "\n",
        "#머신러닝 알고리즘에 불필요한 속성 제거\n",
        "def drop_features(df):\n",
        "  df.drop(['PassengerId','Name','Ticket'],axis=1,inplace=True)\n",
        "  return df\n",
        "\n",
        "#레이블 인코딩 수행\n",
        "def format_features(df):\n",
        "  df['Cabin']=df['Cabin'].str[:1]\n",
        "  features = ['Cabin','Sex','Embarked']\n",
        "  for feature in features:\n",
        "    le=LabelEncoder()\n",
        "    le=le.fit(df[feature])\n",
        "    df[feature]=le.transform(df[feature])\n",
        "  return df\n",
        "\n",
        "#앞에서 설정한 데이터 전처리 함수 호출\n",
        "def transform_features(df):\n",
        "  df=fillna(df)\n",
        "  df=drop_features(df)\n",
        "  df=format_features(df)\n",
        "  return df"
      ],
      "metadata": {
        "id": "1oGpRFOMSzR_"
      },
      "execution_count": 203,
      "outputs": []
    },
    {
      "cell_type": "markdown",
      "source": [
        "  * 데이터 전처리를 수행하는 transform_features() 함수를 이용해 다시 원본 데이터 가공"
      ],
      "metadata": {
        "id": "ING1Pj91Tx8N"
      }
    },
    {
      "cell_type": "code",
      "source": [
        "# 원본 데이터를 재로딩하고, 피처 데이터 세트와 레이블 데이터 세트 추출\n",
        "titanic_df=pd.read_csv('train.csv')\n",
        "y_titanic_df=titanic_df['Survived']\n",
        "X_titanic_df=titanic_df.drop('Survived',axis=1)\n",
        "\n",
        "X_titanic_df=transform_features(X_titanic_df)\n"
      ],
      "metadata": {
        "id": "29OyfiOPT7bg"
      },
      "execution_count": 204,
      "outputs": []
    },
    {
      "cell_type": "code",
      "source": [
        "#내려받은 학습 데이터 세트를 기반으로 별도의 테스트 데이터 세트 추출\n",
        "from sklearn.model_selection import train_test_split\n",
        "X_train,X_test, y_train, y_test=train_test_split(X_titanic_df,y_titanic_df, test_size=0.2, random_state=11)"
      ],
      "metadata": {
        "id": "Kf9QvNbDUWbC"
      },
      "execution_count": 205,
      "outputs": []
    },
    {
      "cell_type": "markdown",
      "source": [
        "  * ML알고리즘을 이용해 타이타닉 생존자를 예측\n",
        "  * 사이킷런 클래스를 이용해 train_test_split()으로 분리한 학습 데이터와 테스트 데이터를 기반으로 머신러닝 모덱을 학습(fit)하고 예측(predict)\n",
        "  * 예측 성능은 정확도로 평가 accuracy_score() 사용"
      ],
      "metadata": {
        "id": "HJL3UWfwWymz"
      }
    },
    {
      "cell_type": "code",
      "source": [
        "from sklearn.tree import DecisionTreeClassifier\n",
        "from sklearn.ensemble import RandomForestClassifier\n",
        "from sklearn.linear_model import LogisticRegression\n",
        "from sklearn.metrics import accuracy_score\n",
        "\n",
        "#결정트리, Random Forest, 로지스틱 회귀를 위한 사이킷런 Classifier 클래스 생성\n",
        "dt_clf=DecisionTreeClassifier(random_state=11)\n",
        "rf_clf=RandomForestClassifier(random_state=11)\n",
        "lr_clf=LogisticRegression()\n",
        "\n",
        "#DecisionTreeClassifier 학습/예측/평가\n",
        "dt_clf.fit(X_train,y_train)\n",
        "dt_pred=dt_clf.predict(X_test)\n",
        "print('DecisionTreeClasifier 정확도 : {0:.4f}'.format(accuracy_score(y_test,dt_pred)))\n",
        "\n",
        "#RandomFroestClassifier 학습/예측/평가\n",
        "rf_clf.fit(X_train,y_train)\n",
        "rf_pred=rf_clf.predict(X_test)\n",
        "print('RandomForestClassifier 정확도 : {0:.4f}'.format(accuracy_score(y_test,rf_pred)))\n",
        "\n",
        "#LogistcRegression 학습/예측/평가\n",
        "lr_clf.fit(X_train,y_train)\n",
        "lr_pred=lr_clf.predict(X_test)\n",
        "print('LogisticRegression 정확도 : {0:.4f}'.format(accuracy_score(y_test,lr_pred)))"
      ],
      "metadata": {
        "colab": {
          "base_uri": "https://localhost:8080/"
        },
        "id": "KV6HlAggXE52",
        "outputId": "55cc1cf2-ec10-4e61-8ab8-465b4cfbfad2"
      },
      "execution_count": 206,
      "outputs": [
        {
          "output_type": "stream",
          "name": "stdout",
          "text": [
            "DecisionTreeClasifier 정확도 : 0.7877\n",
            "RandomForestClassifier 정확도 : 0.8547\n",
            "LogisticRegression 정확도 : 0.8492\n"
          ]
        },
        {
          "output_type": "stream",
          "name": "stderr",
          "text": [
            "/usr/local/lib/python3.7/dist-packages/sklearn/linear_model/_logistic.py:818: ConvergenceWarning: lbfgs failed to converge (status=1):\n",
            "STOP: TOTAL NO. of ITERATIONS REACHED LIMIT.\n",
            "\n",
            "Increase the number of iterations (max_iter) or scale the data as shown in:\n",
            "    https://scikit-learn.org/stable/modules/preprocessing.html\n",
            "Please also refer to the documentation for alternative solver options:\n",
            "    https://scikit-learn.org/stable/modules/linear_model.html#logistic-regression\n",
            "  extra_warning_msg=_LOGISTIC_SOLVER_CONVERGENCE_MSG,\n"
          ]
        }
      ]
    },
    {
      "cell_type": "markdown",
      "source": [
        "> 3개의 알고리즘 중 LogisticRegression이 타 알고리즘에 비해 높은 정확도를 나타냄\n",
        "\n",
        "> 아직 최적화 작업을 수행하지 않았고, 데이터 양도 충분하지 않기 때문에 어떤 알고리즘이 가장 성능이 좋다고 평가할 수는 없음"
      ],
      "metadata": {
        "id": "YGhBWFJQYHSt"
      }
    },
    {
      "cell_type": "markdown",
      "source": [
        "  * 교차 검증으로 결정 트리 모델을 평가\n",
        "  * model_selection패키지의 KFold클래스, cross_val_score(), GridSearchCV 클래스 사용"
      ],
      "metadata": {
        "id": "VcFVTGC4YSOA"
      }
    },
    {
      "cell_type": "code",
      "source": [
        "from sklearn.model_selection import KFold\n",
        "\n",
        "def exec_kfold(clf,folds=5):\n",
        "  #폴드 세트를 5개인 KFold 객체를 생성, 폴드 수 만큼 예측 결과 저장을 위한 리스트 객체 생성\n",
        "  kfold=KFold(n_splits=folds)\n",
        "\n",
        "  scores=[]\n",
        "\n",
        "  #KFold 교차검증 수행\n",
        "  for iter_count, (train_index,test_index) in enumerate(kfold.split(X_titanic_df)):\n",
        "    #X_titanic_df 데이터에서 교차 검증별로 학습과 검증 데이터를 가리키는 index 생성\n",
        "    X_train, X_test=X_titanic_df.values[train_index], X_titanic_df.values[test_index]\n",
        "    y_train,y_test=y_titanic_df.values[train_index],y_titanic_df.values[test_index]\n",
        "    #Classifier 학습,예측,정확도 계산\n",
        "    clf.fit(X_train,y_train)\n",
        "    predictions=clf.predict(X_test)\n",
        "    accuracy=accuracy_score(y_test,predictions)\n",
        "    scores.append(accuracy)\n",
        "    print('교차 검증 {0} 정확도: {1:4f}'.format(iter_count,accuracy))\n",
        "\n",
        "  #5개 fold 에서의 평균 정확도 계산\n",
        "  mean_score=np.mean(scores)\n",
        "  print('평균 정확도: {0:4f}'.format(mean_score))\n",
        "\n",
        "#exec_kfold 호출\n",
        "exec_kfold(dt_clf,folds=5)\n",
        "\n"
      ],
      "metadata": {
        "colab": {
          "base_uri": "https://localhost:8080/"
        },
        "id": "zX9AGQxaYbj_",
        "outputId": "0c4c8fb9-cd9f-4640-b040-cc60fcf6c2ce"
      },
      "execution_count": 207,
      "outputs": [
        {
          "output_type": "stream",
          "name": "stdout",
          "text": [
            "교차 검증 0 정확도: 0.754190\n",
            "교차 검증 1 정확도: 0.780899\n",
            "교차 검증 2 정확도: 0.786517\n",
            "교차 검증 3 정확도: 0.769663\n",
            "교차 검증 4 정확도: 0.820225\n",
            "평균 정확도: 0.782299\n"
          ]
        }
      ]
    },
    {
      "cell_type": "markdown",
      "source": [
        "  * cross_val_score() API를 이용해 교차검증 수행"
      ],
      "metadata": {
        "id": "BQ-40g5kZpC4"
      }
    },
    {
      "cell_type": "code",
      "source": [
        "from sklearn.model_selection import cross_val_score\n",
        "\n",
        "scores=cross_val_score(dt_clf,X_titanic_df,y_titanic_df,cv=5)\n",
        "for iter_count, accuracy in enumerate(scores):\n",
        "  print('교차 검증 {0} 정확도: {1:4f}'.format(iter_count,accuracy))\n",
        "\n",
        "print('평균 정확도: {0:.4f}'.format(np.mean(scores)))"
      ],
      "metadata": {
        "colab": {
          "base_uri": "https://localhost:8080/"
        },
        "id": "QnBeNzH0ZvU_",
        "outputId": "fa9b48a9-40b3-430c-de73-e9c7a334b6d2"
      },
      "execution_count": 208,
      "outputs": [
        {
          "output_type": "stream",
          "name": "stdout",
          "text": [
            "교차 검증 0 정확도: 0.743017\n",
            "교차 검증 1 정확도: 0.775281\n",
            "교차 검증 2 정확도: 0.792135\n",
            "교차 검증 3 정확도: 0.786517\n",
            "교차 검증 4 정확도: 0.842697\n",
            "평균 정확도: 0.7879\n"
          ]
        }
      ]
    },
    {
      "cell_type": "markdown",
      "source": [
        "> cross_val_score()와 KFold의 정확도가 다른 이유 : cross_val_score()가 StratifiedKFold를 이용해 폴드 세트를 분할하기 때문"
      ],
      "metadata": {
        "id": "z2wcyOYSaQ7d"
      }
    },
    {
      "cell_type": "markdown",
      "source": [
        "  * GridSearchCV를 이용해 DicisionTreeClassifier의 최적 하이퍼 파라미터를 찾고 예측 성능을 측정"
      ],
      "metadata": {
        "id": "I3PURdLYaaf_"
      }
    },
    {
      "cell_type": "code",
      "source": [
        "from sklearn.model_selection import GridSearchCV\n",
        "\n",
        "parameters={'max_depth':[2,3,5,10],'min_samples_split':[2,3,5],'min_samples_leaf':[1,5,8]}\n",
        "\n",
        "grid_dclf=GridSearchCV(dt_clf,param_grid=parameters, scoring='accuracy', cv=5)\n",
        "grid_dclf.fit(X_train,y_train)\n",
        "\n",
        "print('GridSearchCV 최적 하이퍼 파라미터 : ', grid_dclf.best_params_)\n",
        "print('GridSearchCV 최고 정확도 : {0:.4f}'.format(grid_dclf.best_score_))\n",
        "best_dclf=grid_dclf.best_estimator_\n",
        "\n",
        "#GridSearchCV의 최적 하이퍼 파라미터로 학습된 Estimator로 예측 및 평가 수행\n",
        "dpredictions=best_dclf.predict(X_test)\n",
        "accuracy=accuracy_score(y_test,dpredictions)\n",
        "print('테스트 세트에서의 DecisionTreeClassifier 정확도 : {0:.4f}'.format(accuracy))"
      ],
      "metadata": {
        "colab": {
          "base_uri": "https://localhost:8080/"
        },
        "id": "MARL4prqaisG",
        "outputId": "ac04de6a-d691-4cd4-9892-52597c2f30c0"
      },
      "execution_count": 209,
      "outputs": [
        {
          "output_type": "stream",
          "name": "stdout",
          "text": [
            "GridSearchCV 최적 하이퍼 파라미터 :  {'max_depth': 3, 'min_samples_leaf': 5, 'min_samples_split': 2}\n",
            "GridSearchCV 최고 정확도 : 0.7992\n",
            "테스트 세트에서의 DecisionTreeClassifier 정확도 : 0.8715\n"
          ]
        }
      ]
    },
    {
      "cell_type": "markdown",
      "source": [
        "> 최적화된 하이퍼 파라미터로 DecisionTreeClassifier를 학습시킨 뒤 예측 정확도가 향상됨"
      ],
      "metadata": {
        "id": "-gSqHzI_bmsu"
      }
    },
    {
      "cell_type": "markdown",
      "source": [
        "##__7. 정리__\n",
        "\n",
        "* 사이킷런은 매우 많은 머신러닝 알고리즘을 제공할 뿐만 아니라, 쉽고 직관적인 API프레임워크, 편리하고 다양한 모듈 지원 등으로 파이썬 계열의 대표적인 머신러닝 패키지로 자리잡았음.\n",
        "\n",
        "* 머신러닝 애플리케이션은 데이터의 가공 및 변환 과정의 전처리 작업, 데이터를 학습 데이터와 테스트 데이터로 분리하는 데이터 세트 분리 작업을 거친 후에 학습 데이터를 기반으로 머신러닝 알고리즘을 적용해 모델을 학습시킴. 그리고 학습된 모델을 기반으로 테스트 데이터에 대한 예측을 수행하고, 이렇게 예측된 결괏값을 실제 결괏값과 비교해 머신러닝 모델에 대한 평가를 수행하는 방식으로 구성됨.\n",
        "\n",
        "* 데이터의 전처리 : 오류데이터의 보정, 결손값 처리등의 데이터 클렌징 작업, 레이블 인코딩이나 원-핫 인코딩과 같은 인코딩 작업, 데이터의 스케일링/정규화 작업 등으로 머신러닝 알고리즘이 최적으로 수행될 수 있게 데이터를 사전 처리하는 것\n",
        "\n",
        "* 머신러닝 모델은 학습 데이터 세트로 학습한 뒤 반드시 별도의 테스트 데이터 세트로 평가되어야 함. 테스트 데이터의 건수 부족이나 고정된 테스트 데이터 세트를 이용한 반복적인 모델의 학습과 평가는 해당 테스트 데이터 세트에만 치우친 빈약한 머신러닝 모델을 만들 가능성이 높음.\n"
      ],
      "metadata": {
        "id": "pIUtMbPabtB2"
      }
    },
    {
      "cell_type": "markdown",
      "source": [
        "#**CHAP3 평가**"
      ],
      "metadata": {
        "id": "Jfaj6cwVK31l"
      }
    },
    {
      "cell_type": "markdown",
      "source": [
        "머신러닝은 데이터 가공/변환, 모델 학습/예측. 평가의 프로세스로 구성됨\n",
        "\n",
        "* 분류의 성능 평가 지표\n",
        "  * 정확도\n",
        "  * 오차 행렬\n",
        "  * 정밀도\n",
        "  * 재현율\n",
        "  * F1스코어\n",
        "  * ROC AUC\n",
        "\n",
        "분류는 결정 클래스 값 종류의 유형에 따라 긍정/부정과 같은 2개의 결괏값만을 가지는 이진 분류와 여러 개의 결정 클래스 값을 가지는 멀티 분류로 나뉠 수 있음."
      ],
      "metadata": {
        "id": "akaA0w6yLAR1"
      }
    },
    {
      "cell_type": "markdown",
      "source": [
        "##**1. 정확도(Accuracy)**\n"
      ],
      "metadata": {
        "id": "g_GpV0UELiDn"
      }
    },
    {
      "cell_type": "markdown",
      "source": [
        "* 정확도는 실제 데이터에서 예측 데이터가 얼마나 같은지를 판단하는 지표\n",
        "* **정확도(Accuracy)=예측 결과가 동일한 데이터 건수 / 전체 예측 데이터 건수**\n",
        "\n",
        "* 정확도의 ML 모델 성능 왜곡\n",
        "  * 타이타닉 예제에서, 예측 정확도가 보통 80%.\n",
        "  * 탑승객이 남자인 경우보다 여자인 경우에 생존 확률이 높기 때문에 별다른 알고리즘의 적용 없이 무조건 성별이 여자인 경우 생존으로, 남자인 경우 사망으로 예측 결과를 예측해도 비슷한 수치가 나옴.\n",
        "  => 성별 조건 하나만을 가지고 결정하는 별거 아닌 알고리즘도 높은 정확도를 보임\n"
      ],
      "metadata": {
        "id": "yOX_CaJMLn-2"
      }
    },
    {
      "cell_type": "code",
      "source": [
        "# 성별에 따라 생존자를 예측하는 단순한 Classifier\n",
        "from sklearn.base import BaseEstimator\n",
        "\n",
        "class MyDummyClassifier(BaseEstimator):\n",
        "  #fit()메서드는 아무것도 학습하지 않음\n",
        "  def fit(self,X,y=None):\n",
        "    pass\n",
        "  #predict()메서드는 단순히 Sex 피처가 1이면 0, 그렇지 않으면 1로 예측함\n",
        "  def predict(self, X):\n",
        "    pred=np.zeros((X.shape[0],1))\n",
        "    for i in range(X.shape[0]):\n",
        "      if X['Sex'].iloc[i]==1:\n",
        "        pred[i]=0\n",
        "      else:\n",
        "        pred[i]=1\n",
        "\n",
        "    return pred"
      ],
      "metadata": {
        "id": "1DM7GJ0CMVvO"
      },
      "execution_count": 210,
      "outputs": []
    },
    {
      "cell_type": "code",
      "execution_count": 211,
      "metadata": {
        "colab": {
          "base_uri": "https://localhost:8080/"
        },
        "id": "9WplJkcrKyfk",
        "outputId": "2000cb4c-4d7a-4299-d6b5-cd4defaaa467"
      },
      "outputs": [
        {
          "output_type": "stream",
          "name": "stdout",
          "text": [
            "Dummy Classifier의 정확도는 : 0.7877\n"
          ]
        }
      ],
      "source": [
        "#MyDummyClassifier로 타이타닉 생존자 예측 수행\n",
        "import pandas as pd\n",
        "from sklearn.model_selection import train_test_split\n",
        "from sklearn.metrics import accuracy_score\n",
        "from sklearn import preprocessing\n",
        "\n",
        "#원본 데이터를 재로딩, 데이터 가공, 학습 데이터/테스트 데이터 분할\n",
        "titanic_df=pd.read_csv('train.csv')\n",
        "y_titanic_df=titanic_df['Survived']\n",
        "X_titanic_df=titanic_df.drop('Survived',axis=1)\n",
        "X_titanic_df=transform_features(X_titanic_df)\n",
        "X_train,X_test,y_train,y_test=train_test_split(X_titanic_df,y_titanic_df,test_size=0.2,random_state=0)\n",
        "\n",
        "#위에서 생성한 Dummy Classifier를 이용해 학습/예측/평가 수행\n",
        "myclf=MyDummyClassifier()\n",
        "myclf.fit(X_train,y_train)\n",
        "\n",
        "mypredictions=myclf.predict(X_test)\n",
        "print('Dummy Classifier의 정확도는 : {0:.4f}'.format(accuracy_score(y_test,mypredictions)))\n"
      ]
    },
    {
      "cell_type": "markdown",
      "source": [
        "> 단순한 알고리즘으로 예측을 하더라도 데이터의 구성애 따라 정확도 결과가 꽤 높은 수치가 나올 수 있음."
      ],
      "metadata": {
        "id": "ezNd5y71PpSp"
      }
    },
    {
      "cell_type": "markdown",
      "source": [
        "* 정확도는 불균형한 레이블 값 분포에서 ML모델의 성능을 판단할 경우, 적합한 평가 지표가 아님.\n",
        "  * ex. 100개의 데이터가 있고 이 중에 90개의 데이터 레이블이 0, 10개의 데이터 레이블이 1이라면 무조건 0으로 예측 결과를 반환하는 ML 모델의 경우라도 정확도가 90%가 됨"
      ],
      "metadata": {
        "id": "-FTWgA6QPw-h"
      }
    },
    {
      "cell_type": "markdown",
      "source": [
        "* MNIST 데이터\n",
        "  * 0부터 9까지 숫자 이미지의 픽셀 정보 > 숫자 digit을 예측\n",
        "  * 사이킷런은 load_digits() API를 통해 MNIST 데이터 세트를 제공함.\n",
        "  * 레이블 값이 7인 것만 True, 나머지 값은 모두 False로 변환해 이진 분류 문제로 변환 > 전체 데이터의 10%만 True, 나머지 90%는 False"
      ],
      "metadata": {
        "id": "CGEbA5U_QC6W"
      }
    },
    {
      "cell_type": "code",
      "source": [
        "from sklearn.datasets import load_digits\n",
        "from sklearn.model_selection import train_test_split\n",
        "from sklearn.base import BaseEstimator\n",
        "from sklearn.metrics import accuracy_score\n",
        "import numpy as np\n",
        "import pandas as pd\n",
        "\n",
        "class MyFakeClassifier(BaseEstimator):\n",
        "  def fit(self,X,y):\n",
        "    pass\n",
        "\n",
        "  #입력값으로 들어오는 X 데이터 세트의 크기만큼 모두 0값으로 만들어서 반환\n",
        "  def predict(self,X):\n",
        "    return np.zeros((len(X),1),dtype=bool)\n",
        "\n",
        "#사이킷런의 내장 데이터 세트인 load_digits()를 이용해 빠진 MNIST데이터 로딩\n",
        "digits=load_digits()\n",
        "\n",
        "#digits 번호가 7번이면 True이고 이를 astype(int)로 변환, 7번이 아니면 False이고 0으로 변환\n",
        "y=(digits.target==7).astype(int)\n",
        "X_train,X_test,y_train,y_test=train_test_split(digits.data,y,random_state=11)"
      ],
      "metadata": {
        "id": "oVDcDbkSQkhb"
      },
      "execution_count": 212,
      "outputs": []
    },
    {
      "cell_type": "code",
      "source": [
        "#불균형한 레이블 데이터 분포도 확인\n",
        "print('레이블 테스트 세트 크기 :',y_test.shape)\n",
        "print('테스트 세트 레이블 0과 1의 분포도')\n",
        "print(pd.Series(y_test).value_counts())\n",
        "\n",
        "#Dummy Classifier로 학습/예측/정확도 평가\n",
        "fakeclf=MyFakeClassifier()\n",
        "fakeclf.fit(X_train,y_train)\n",
        "fakepred=fakeclf.predict(X_test)\n",
        "print('모든 예측을 0으로 하여도 정확도는 :{:.3f}'.format(accuracy_score(y_test,fakepred)))"
      ],
      "metadata": {
        "colab": {
          "base_uri": "https://localhost:8080/"
        },
        "id": "7lFnc_GvRdMz",
        "outputId": "9eac9106-7af9-413d-cf27-4aeedf95c40a"
      },
      "execution_count": 213,
      "outputs": [
        {
          "output_type": "stream",
          "name": "stdout",
          "text": [
            "레이블 테스트 세트 크기 : (450,)\n",
            "테스트 세트 레이블 0과 1의 분포도\n",
            "0    405\n",
            "1     45\n",
            "dtype: int64\n",
            "모든 예측을 0으로 하여도 정확도는 :0.900\n"
          ]
        }
      ]
    },
    {
      "cell_type": "markdown",
      "source": [
        "* 정확도 평가 지표는 불균형한 레이블 데이터 세트에서는 성능 수치로 사용하면 안됨"
      ],
      "metadata": {
        "id": "TqTc8cbqSKuB"
      }
    },
    {
      "cell_type": "markdown",
      "source": [
        "##**2. 오차 행렬**\n"
      ],
      "metadata": {
        "id": "DVib4UVISPDk"
      }
    },
    {
      "cell_type": "markdown",
      "source": [
        "* 학습된 분류 모델이 예측을 수행하면서 얼마나 헷갈리고(confused) 있는지도 함께 보여주는 지표\n",
        "* 이진 분류의 예측 오류가 얼마인지와 더불어 어떠한 유형의 예측 오류가 발생하고 있는지를 함께 나타내는 지표\n",
        "\n",
        "* 4분면 행렬에서 실제 레이블 클래스 값과 예측 클래스 값이 어떠한 유형을 가지고 매핑되는지 나타냄.\n",
        "* 4분면의 왼쪽, 오른쪽을 예측된 클래스 값 기준으로 Negative와 Positive로 분류\n",
        "* 4분면의 위, 아래를 실제 클래스 값 기준으로 Negative와 Positive로 분류\n",
        "=> TN/FP/TP/FN\n",
        "![image.png](data:image/png;base64,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)"
      ],
      "metadata": {
        "id": "2R7ZKGldSTbW"
      }
    },
    {
      "cell_type": "markdown",
      "source": [
        "* 분류\n",
        "  * TN : 예측 값을 Negative 값 0으로 예측하고 실제 값 역시 Negative 값 0\n",
        "  * FP : 예측 값을 Positive 값 0으로 예측했는데 실제 값은 Negative 값 1\n",
        "  * FN : 예측 값을 Negative 값 0으로 예측했는데 실제 값은 Positive 값 1\n",
        "  * TP : 예측 값을 Positive 값 1로 예측했는데 실제 값 역시 Positive 값 1\n",
        "\n",
        "* 사이킷런은 오차 행렬을 구하기 위해 confusion_matrix() API를 제공함."
      ],
      "metadata": {
        "id": "VZpeocK0TDVW"
      }
    },
    {
      "cell_type": "code",
      "source": [
        "from sklearn.metrics import confusion_matrix\n",
        "\n",
        "confusion_matrix(y_test,fakepred)\n"
      ],
      "metadata": {
        "colab": {
          "base_uri": "https://localhost:8080/"
        },
        "id": "-k4ksnJuSTGV",
        "outputId": "94c92b26-80f3-4cd5-cec5-492aa7e8f9eb"
      },
      "execution_count": 214,
      "outputs": [
        {
          "output_type": "execute_result",
          "data": {
            "text/plain": [
              "array([[405,   0],\n",
              "       [ 45,   0]])"
            ]
          },
          "metadata": {},
          "execution_count": 214
        }
      ]
    },
    {
      "cell_type": "markdown",
      "source": [
        "* TP,TN,FP,TN 값은 Classifier 성능의 여러 면모를 판단할 수 있는 기반 정보를 제공함. 이 값을 조합해 Classifier의 성능을 측정할 수 있는 주요 지표인 정확도,정밀도,재현율 값을 알 수 있음.\n",
        "\n",
        "* 정확도는 예측값과 실제 값이 얼마나 동일한가에 대한 비율만으로 결정됨. > 오차 행렬에서 True에 해당하는 값인 TN과 TP에 좌우됨\n",
        "\n",
        "* 정확도=예측 결과와 실제 값이 동일한 건수 / 전체 데이터 수 = (TN+TP)/(TN+FP+FN+TP)\n",
        "\n"
      ],
      "metadata": {
        "id": "WHvUhkcVUZa6"
      }
    },
    {
      "cell_type": "markdown",
      "source": [
        "##**3. 정밀도와 재현율**\n"
      ],
      "metadata": {
        "id": "bfff8F3GWSZG"
      }
    },
    {
      "cell_type": "markdown",
      "source": [
        "* 정밀도와 재현율은 Positive 데이터 세트의 예측 성능에 좀 더 초점을 맞춘 평가 지표\n",
        "\n",
        "* 정밀도=TP/(FP+TP)\n",
        "* 재현율=TP/(FN+TP)\n",
        "\n",
        "* 정밀도 : 예측을 Positive로 한 대상 중에 예측과 실제 값이 positive로 일치한 데이터의 비율\n",
        "  * positive 예측 성능을 더욱 정밀하게 측정하기 위한 평가 지표로 양성 예측도라고도 부름\n",
        "\n",
        "* 재현율 : 실제 값이 Positive인 대상 중에 예측과 실제 값이 Positive로 일치한 데이터의 비율\n",
        "  * 민감도 또는 TPR로도 불림\n",
        "\n",
        "* 정밀도와 재현율 지표 중에 이진 분류 모델의 업무 특성에 따라서 특정 평가 지표가 더 중요한 지표로 간주될 수 있음\n",
        "  * 재현율이 중요 지표인 경우 : 실제 positive 양성 데이터를 Negative로 잘못 판단하게 되면 업무상 큰 영향이 발생하는 경우\n",
        "    * ex. 실제 positive 암환자를 negative로 잘못 판단하는 경우 / 보험사기와 같은 금융 사기 적발 모델\n",
        "  * 정밀도가 중요 지표인 경우 : 실제 Negative인 데이터 예측을 Positive로 잘못 판단하는 경우\n",
        "    * ex. 스팸메일 여부를 판단하는 경우\n",
        "\n",
        "* 재현율을 FN(실제 positive, 예측 negative)를 낮추는데, 정밀도는 FP(실제 negative, 예측 positive)를 낮추는데 초점을 맞춤\n"
      ],
      "metadata": {
        "id": "pVS1CA5bW5Mk"
      }
    },
    {
      "cell_type": "code",
      "source": [
        "from sklearn.metrics import accuracy_score,precision_score,recall_score, confusion_matrix\n",
        "\n",
        "def get_clf_eval(y_test,pred):\n",
        "  confusion=confusion_matrix(y_test,pred)\n",
        "  accuracy=accuracy_score(y_test,pred)\n",
        "  precision=precision_score(y_test,pred)\n",
        "  recall=recall_score(y_test,pred)\n",
        "  print('오차 행렬')\n",
        "  print(confusion)\n",
        "  print('정확도:{0:.4f},정밀도:{1:.4f},재현율:{2:.4f}'.format(accuracy,precision,recall))\n",
        "  "
      ],
      "metadata": {
        "id": "qUkin3_2lntH"
      },
      "execution_count": 215,
      "outputs": []
    },
    {
      "cell_type": "code",
      "source": [
        "#로지스틱 회귀 기반으로 타이타닉 생존자를 예측\n",
        "import pandas as pd\n",
        "from sklearn.model_selection import train_test_split\n",
        "from sklearn.linear_model import LogisticRegression\n",
        "\n",
        "#원본 데이터를 재로딩, 데이터 가공, 학습 데이터/ 테스트 데이터 분할\n",
        "titanic_df=pd.read_csv('train.csv')\n",
        "y_titanic_df=titanic_df['Survived']\n",
        "X_titanic_df=titanic_df.drop('Survived',axis=1)\n",
        "X_titanic_df=transform_features(X_titanic_df)\n",
        "\n",
        "X_train,X_test,y_train,y_test=train_test_split(X_titanic_df,y_titanic_df,test_size=0.20,random_state=11)\n",
        "lr_clf=LogisticRegression()\n",
        "\n",
        "lr_clf.fit(X_train,y_train)\n",
        "pred=lr_clf.predict(X_test)\n",
        "get_clf_eval(y_test,pred)\n",
        "                                               "
      ],
      "metadata": {
        "colab": {
          "base_uri": "https://localhost:8080/"
        },
        "id": "ow-oSHijmNnc",
        "outputId": "a7c309af-cf95-4854-a390-649fcf284139"
      },
      "execution_count": 216,
      "outputs": [
        {
          "output_type": "stream",
          "name": "stdout",
          "text": [
            "오차 행렬\n",
            "[[104  14]\n",
            " [ 13  48]]\n",
            "정확도:0.8492,정밀도:0.7742,재현율:0.7869\n"
          ]
        },
        {
          "output_type": "stream",
          "name": "stderr",
          "text": [
            "/usr/local/lib/python3.7/dist-packages/sklearn/linear_model/_logistic.py:818: ConvergenceWarning: lbfgs failed to converge (status=1):\n",
            "STOP: TOTAL NO. of ITERATIONS REACHED LIMIT.\n",
            "\n",
            "Increase the number of iterations (max_iter) or scale the data as shown in:\n",
            "    https://scikit-learn.org/stable/modules/preprocessing.html\n",
            "Please also refer to the documentation for alternative solver options:\n",
            "    https://scikit-learn.org/stable/modules/linear_model.html#logistic-regression\n",
            "  extra_warning_msg=_LOGISTIC_SOLVER_CONVERGENCE_MSG,\n"
          ]
        }
      ]
    },
    {
      "cell_type": "markdown",
      "source": [
        "###1) 정밀도/재현율 트레이드 오프\n"
      ],
      "metadata": {
        "id": "g0enuSnYnEKS"
      }
    },
    {
      "cell_type": "markdown",
      "source": [
        "* 분류하려는 업무의 특성상 정밀도 또는 재현율이 특별히 강조되어야 할 경우 분류의 결정 임곗값을 조정해 정밀도 또는 재현율의 수치를 높일 수 있음.\n",
        "* 정밀도/재현율의 트레이드 오프 : 정밀도와 재현율은 상호 보완적인 평가 지표이기 때문에 어느 한쪽을 강제로 높이면 다른 하나의 수치는 떨어지기 쉬움\n",
        "\n",
        "* 사이킷런의 분류 알고리즘은 예측 데이터가 특정 레이블에 속하는지를 계산하기 위해 먼저 개별 레이블별로 결정 확률을 구함 > 확률이 큰 레이블 값으로 예측\n",
        "\n",
        "* 일반적으로 이진 분류에서는 임곗값을 0.5로 설정하고 이 기준값보다 확률이 크면 positive, 작으면 negative로 결정함.\n",
        "\n",
        "* predict_proba() : 개별 데이터 별로 예측 확률을 반환\n",
        "  * 입력 파라미터 : predict()메서드와 동일하게 보통 테스트 피처 데이터 세트를 입력\n",
        "  * 반환 값 : 개별 클래스의 예측 확률을 ndarray n*m(m:입력 값의 레코드 수 , n:클래스 값 유형) 형태로 반환 > 각 열은 개별 클래스의 예측 확률\n"
      ],
      "metadata": {
        "id": "WlSwMbZCnI2u"
      }
    },
    {
      "cell_type": "code",
      "source": [
        "pred_proba=lr_clf.predict_proba(X_test)\n",
        "pred=lr_clf.predict(X_test)\n",
        "print('pred_proba()결과 Shape:{0}'.format(pred_proba.shape))\n",
        "print('pred_proba array에서 앞 3개만 샘플로 추출 \\n : ', pred_proba[:3])\n",
        "\n",
        "#예측 확률 array와 예측 결괏값 array를 병합(concatenate)해 예측 확률과 결괏값을 한눈에 확인\n",
        "pred_proba_result=np.concatenate([pred_proba,pred.reshape(-1,1)],axis=1)\n",
        "print('두 개의 class 중에서 더 큰 확률을 클래스 값으로 예측 \\n',pred_proba_result[:3])"
      ],
      "metadata": {
        "colab": {
          "base_uri": "https://localhost:8080/"
        },
        "id": "k5Hos-1-oHA_",
        "outputId": "6f0cd118-7a0b-401e-ecd5-d65bfcc58942"
      },
      "execution_count": 217,
      "outputs": [
        {
          "output_type": "stream",
          "name": "stdout",
          "text": [
            "pred_proba()결과 Shape:(179, 2)\n",
            "pred_proba array에서 앞 3개만 샘플로 추출 \n",
            " :  [[0.46191519 0.53808481]\n",
            " [0.878675   0.121325  ]\n",
            " [0.87716185 0.12283815]]\n",
            "두 개의 class 중에서 더 큰 확률을 클래스 값으로 예측 \n",
            " [[0.46191519 0.53808481 1.        ]\n",
            " [0.878675   0.121325   0.        ]\n",
            " [0.87716185 0.12283815 0.        ]]\n"
          ]
        }
      ]
    },
    {
      "cell_type": "markdown",
      "source": [
        "* predict()메서드는 predict_proba() 메서드에 기반해 생성된 API\n",
        "  * preidct()는 predict_proba() 호출 결과로 반환된 배열에서 분류 결정 임곗값보다 큰 값이 들어있는 칼럼의 위치를 받아서 최종적으로 예측 클래스를 결정하는 API"
      ],
      "metadata": {
        "id": "5DOFwKRrou2O"
      }
    },
    {
      "cell_type": "code",
      "source": [
        "from sklearn.preprocessing import Binarizer\n",
        "\n",
        "X=[[1,-1,2],[2,0,0],[0,1.1,1.2]]\n",
        "\n",
        "#X의 개별 원소들이 threshold 값보다 같거나 작으면 0을, 크면 1을 반환\n",
        "binarizer=Binarizer(threshold=1.1)\n",
        "print(binarizer.fit_transform(X))"
      ],
      "metadata": {
        "colab": {
          "base_uri": "https://localhost:8080/"
        },
        "id": "CQrar0oLpC03",
        "outputId": "df7f59ad-9b15-4cd1-e613-8e788c218163"
      },
      "execution_count": 218,
      "outputs": [
        {
          "output_type": "stream",
          "name": "stdout",
          "text": [
            "[[0. 0. 1.]\n",
            " [1. 0. 0.]\n",
            " [0. 0. 1.]]\n"
          ]
        }
      ]
    },
    {
      "cell_type": "markdown",
      "source": [
        "* predict_proba() 메서드로 구한 각 클래스별 예측 확률 값인 pred_proba 객체 변수에 분류 결정 임곗값을 0.5로 지정한 Binarizer 클래스를 적용해 최종 예측값을 구하는 방식"
      ],
      "metadata": {
        "id": "ZTx_1ChSpZKy"
      }
    },
    {
      "cell_type": "code",
      "source": [
        "from sklearn.preprocessing import Binarizer\n",
        "\n",
        "#Binarizer의 threshold 설정값. 분류 결정 임곗값임\n",
        "custom_threshold=0.5\n",
        "\n",
        "#predict_proba() 반환값의 두 번째 칼럼, 즉 Positive 클래스 칼럼 하나만 추출해 Binarizer를 적용\n",
        "pred_proba_1=pred_proba[:,1].reshape(-1,1)\n",
        "\n",
        "binarizer=Binarizer(threshold=custom_threshold).fit(pred_proba_1)\n",
        "custom_predict=binarizer.transform(pred_proba_1)\n",
        "\n",
        "get_clf_eval(y_test, custom_predict)"
      ],
      "metadata": {
        "colab": {
          "base_uri": "https://localhost:8080/"
        },
        "id": "r3UZTipNplYY",
        "outputId": "a32fd6f5-5126-4299-d3c1-4c259408b487"
      },
      "execution_count": 219,
      "outputs": [
        {
          "output_type": "stream",
          "name": "stdout",
          "text": [
            "오차 행렬\n",
            "[[104  14]\n",
            " [ 13  48]]\n",
            "정확도:0.8492,정밀도:0.7742,재현율:0.7869\n"
          ]
        }
      ]
    },
    {
      "cell_type": "code",
      "source": [
        "#Binarizer의 threshold값을 0.4로 설정, 즉 분류 결정 임곗값을 0.5에서 0.4로 낮춤\n",
        "custom_threshold=0.4\n",
        "pred_proba_1=pred_proba[:,1].reshape(-1,1)\n",
        "binarizer=Binarizer(threshold=custom_threshold).fit(pred_proba_1)\n",
        "custom_predict=binarizer.transform(pred_proba_1)\n",
        "\n",
        "get_clf_eval(y_test,custom_predict)"
      ],
      "metadata": {
        "colab": {
          "base_uri": "https://localhost:8080/"
        },
        "id": "z_SoeKC9qKx-",
        "outputId": "00f0cabb-20d4-4269-d6bc-c3c429114dc7"
      },
      "execution_count": 220,
      "outputs": [
        {
          "output_type": "stream",
          "name": "stdout",
          "text": [
            "오차 행렬\n",
            "[[98 20]\n",
            " [10 51]]\n",
            "정확도:0.8324,정밀도:0.7183,재현율:0.8361\n"
          ]
        }
      ]
    },
    {
      "cell_type": "markdown",
      "source": [
        "> 임곗값을 낮추면 재현율 값이 올라가고 정밀도가 떨어짐\n",
        "\n",
        "> 분류 결정 임곗값은 positive 예측값을 결정하는 확률의 기준 > 임곗값을 낮출수록 True 값이 많아지게 됨 > 재현율 값이 높아짐 ( 양성 예측을 많이 하다 보니 실제 양성을 음성으로 예측하는 횟수가 상대적으로 줄어들기 때문1.0)"
      ],
      "metadata": {
        "id": "lr_ay1JrqKS5"
      }
    },
    {
      "cell_type": "code",
      "source": [
        "#임곗값을 0.4에서부터 0.6까지 0.05씩 증가시키며 평가 지표를 조사\n",
        "\n",
        "#테스트를 수행할 모든 임곗값을 리스트 객체로 저장\n",
        "thresholds=[0.4,0.45,0.50,0.55,0.60]\n",
        "\n",
        "def get_eval_by_threshold(y_test, pred_proba_c1,thresholds):\n",
        "  #threshold list 객체 내의 값을 차례로 iteration 하면서 Evaluation 수행\n",
        "  \n",
        "  for custom_threshold in thresholds:\n",
        "    binarizer=Binarizer(threshold=custom_threshold).fit(pred_proba_c1)\n",
        "    custom_preidct=binarizer.transform(pred_proba_c1)\n",
        "    print('임곗값:',custom_threshold)\n",
        "    get_clf_eval(y_test,custom_predict)\n",
        "\n",
        "get_eval_by_threshold(y_test,pred_proba[:,1].reshape(-1,1),thresholds)"
      ],
      "metadata": {
        "colab": {
          "base_uri": "https://localhost:8080/"
        },
        "id": "GjM5NLl-rOAu",
        "outputId": "95ceecc3-8a39-4e9c-a8b8-762753d2fa75"
      },
      "execution_count": 221,
      "outputs": [
        {
          "output_type": "stream",
          "name": "stdout",
          "text": [
            "임곗값: 0.4\n",
            "오차 행렬\n",
            "[[98 20]\n",
            " [10 51]]\n",
            "정확도:0.8324,정밀도:0.7183,재현율:0.8361\n",
            "임곗값: 0.45\n",
            "오차 행렬\n",
            "[[98 20]\n",
            " [10 51]]\n",
            "정확도:0.8324,정밀도:0.7183,재현율:0.8361\n",
            "임곗값: 0.5\n",
            "오차 행렬\n",
            "[[98 20]\n",
            " [10 51]]\n",
            "정확도:0.8324,정밀도:0.7183,재현율:0.8361\n",
            "임곗값: 0.55\n",
            "오차 행렬\n",
            "[[98 20]\n",
            " [10 51]]\n",
            "정확도:0.8324,정밀도:0.7183,재현율:0.8361\n",
            "임곗값: 0.6\n",
            "오차 행렬\n",
            "[[98 20]\n",
            " [10 51]]\n",
            "정확도:0.8324,정밀도:0.7183,재현율:0.8361\n"
          ]
        }
      ]
    },
    {
      "cell_type": "markdown",
      "source": [
        "* prediction_recall_curve()\n",
        "  * 일반적으로 0.11~0.95 정도의 임곗값을 담은 넘파이 ndarray와 이 임곗값에 해당하는 정밀도 및 재현율 값을 담은 넘파이 ndarray를 반환함."
      ],
      "metadata": {
        "id": "WtZD2sk8sEqo"
      }
    },
    {
      "cell_type": "code",
      "source": [
        "from sklearn.metrics import precision_recall_curve\n",
        "#레이블 값이 1일때의 예측 확률을 추출\n",
        "pred_proba_class1=lr_clf.predict_proba(X_test)[:,1]\n",
        "\n",
        "#실제값 데이터 세트와 레이블 값이 1일 때의 예측 확률을 precision_recall_curve 인자로 입력\n",
        "precisions, recalls, thresholds=precision_recall_curve(y_test,pred_proba_class1)\n",
        "print('반환된 분류 결정 임곗값 배열의 Shape:', thresholds.shape)\n",
        "\n",
        "#반환된 임계값 배열 로우가 147건이므로 샘플로 10건만 추출하되, 임곗값을 15 step으로 추출\n",
        "thr_index=np.arange(0,thresholds.shape[0],15)\n",
        "print('샘플 추출을 위한 임계값 배열의 index 10개:',thr_index)\n",
        "print('샘플용 10개의 임계값:',np.round(thresholds[thr_index],2))\n",
        "\n",
        "#15 step 단위로 추출된 임계값에 따른 정밀도와 재현율 값\n",
        "print('샘플 임계값별 정밀도:',np.round(precisions[thr_index],3))\n",
        "print('샘플 임계값별 재현율:',np.round(recalls[thr_index],3))\n"
      ],
      "metadata": {
        "id": "j7YLEcHlsrwB",
        "colab": {
          "base_uri": "https://localhost:8080/"
        },
        "outputId": "1c6e4cb1-8907-4544-bd6f-2a362fc63f9e"
      },
      "execution_count": 222,
      "outputs": [
        {
          "output_type": "stream",
          "name": "stdout",
          "text": [
            "반환된 분류 결정 임곗값 배열의 Shape: (143,)\n",
            "샘플 추출을 위한 임계값 배열의 index 10개: [  0  15  30  45  60  75  90 105 120 135]\n",
            "샘플용 10개의 임계값: [0.1  0.12 0.14 0.19 0.28 0.4  0.56 0.67 0.82 0.95]\n",
            "샘플 임계값별 정밀도: [0.389 0.44  0.466 0.539 0.647 0.729 0.836 0.949 0.958 1.   ]\n",
            "샘플 임계값별 재현율: [1.    0.967 0.902 0.902 0.902 0.836 0.754 0.607 0.377 0.148]\n"
          ]
        }
      ]
    },
    {
      "cell_type": "markdown",
      "source": [
        "> 추출된 임곗값 샘플 10개에 해당하는 정밀도 값과 재현율 값을 살펴보면 임곗값이 증가할수록 정밀도 값은 동시에 높아지나 재현율 값은 낮아짐을 알 수 있음"
      ],
      "metadata": {
        "id": "QLuLf41orNfz"
      }
    },
    {
      "cell_type": "code",
      "source": [
        "# precision_recall_curve() API는 정밀도와 재현율의 임곗값에 따른 값 변화를 곡선형태의 그래프로 시각화 가능\n",
        "import matplotlib.pyplot as plt\n",
        "import matplotlib.ticker as ticker\n",
        "%matplotlib inline\n",
        "\n",
        "def precision_recall_curve_plot(y_test, pred_proba_c1):\n",
        "   #threshold ndarray와 이 threshold에 따른 정밀도, 재현율 ndarray 추출\n",
        "   precision, recalss, thresholds=precision_recall_curve(y_test,pred_proba_c1)\n",
        "\n",
        "   #x축을 threshold 값으로, y축은 정밀도, 재현율 값으로 각각 Plot 수행. 정밀도는 점선으로 표시\n",
        "   plt.figure(figsize=(8,6))\n",
        "   threshold_boundary=thresholds.shape[0]\n",
        "   plt.plot(thresholds,precisions[0:threshold_boundary],linestyle='-',label='precision')\n",
        "   plt.plot(thresholds,recalls[0:threshold_boundary],label='recall')\n",
        "\n",
        "   #threshold 값 x축의 Scale을 0.1 단위로 변경\n",
        "   start,end=plt.xlim()\n",
        "   plt.xticks(np.round(np.arange(start,end,0.1),2))\n",
        "\n",
        "   #x축, y축 label과 legend, 그리고 grid 설정\n",
        "   plt.xlabel('Threshold value'); plt.ylabel('Precision and Recall value')\n",
        "   plt.legend()\n",
        "   plt.grid()\n",
        "   plt.show()\n",
        "\n",
        "precision_recall_curve_plot(y_test,lr_clf.predict_proba(X_test)[:,1])"
      ],
      "metadata": {
        "id": "1h-uqQzxzpGO",
        "colab": {
          "base_uri": "https://localhost:8080/",
          "height": 388
        },
        "outputId": "03515c7d-392e-42d5-fa7d-b68af19b9e12"
      },
      "execution_count": 223,
      "outputs": [
        {
          "output_type": "display_data",
          "data": {
            "text/plain": [
              "<Figure size 576x432 with 1 Axes>"
            ],
            "image/png": "[encoded data removed]"
          },
          "metadata": {
            "needs_background": "light"
          }
        }
      ]
    },
    {
      "cell_type": "markdown",
      "source": [
        "> 임곗값이 낮을수록 많은 수의 양성 예측으로 인해 재현율 값이 극도로 높아지고 정밀도 값이 극도로 낮아짐\n"
      ],
      "metadata": {
        "id": "uUNUw0-o1FG3"
      }
    },
    {
      "cell_type": "markdown",
      "source": [
        "##2) 정밀도와 재현율의 맹점"
      ],
      "metadata": {
        "id": "Ik_lHl-p1Myy"
      }
    },
    {
      "cell_type": "markdown",
      "source": [
        "* positive 예측의 임곗값을 변경함에 따라 정밀도와 재현율의 수치가 변경됨.\n",
        "\n",
        "* 임곗값의 이러한 변경은 업무 환경에 맞게 두 개의 수치를 상호 보완할 수 있는 수준에서 적용되어야 함 (단순히 하나의 수치를 높이기 위한 수단으로 사용해서는 안됨)\n",
        "\n"
      ],
      "metadata": {
        "id": "wTHf-AdWzn1P"
      }
    },
    {
      "cell_type": "markdown",
      "source": [
        "* 정밀도가 100%가 되는 방법\n",
        "  * 확실한 기준이 되는 경우만 positive로 예측하고 나머지는 모두 negative로 예측\n",
        "\n",
        "* 재현율이 100%가 되는 방법\n",
        "  * 모든 환자를 positive로 예측\n",
        "\n",
        "* 정밀도 또는 재현율 중 하나만 스코어가 좋고 다른 하나는 스코어가 나쁜 분류는 성능이 좋지 않은 분류로 간주할 수 있음\n"
      ],
      "metadata": {
        "id": "415wkMsx1hj6"
      }
    },
    {
      "cell_type": "markdown",
      "source": [
        "##**4. F1 스코어**\n",
        "\n"
      ],
      "metadata": {
        "id": "ebZu0Rcb19-I"
      }
    },
    {
      "cell_type": "markdown",
      "source": [
        "* F1 스코어 : 정밀도와 재현율을 결합한 지표\n",
        "  *  정밀도와 재현율이 어느 한쪽으로 치우치지 않는 수치를 나타낼 때 상대적으로 높은 값을 가짐\n",
        "\n",
        "* F1=2*(precision*recall)/(precision+recall)\n",
        "\n",
        "* f1_score()\n"
      ],
      "metadata": {
        "id": "k7v0LIQR2BP_"
      }
    },
    {
      "cell_type": "code",
      "source": [
        "from sklearn.metrics import f1_score\n",
        "f1=f1_score(y_test,pred)\n",
        "print('F1 스코어:{0:.4f}'.format(f1))\n"
      ],
      "metadata": {
        "colab": {
          "base_uri": "https://localhost:8080/"
        },
        "id": "Pn9St36K2ZFH",
        "outputId": "7619ecb4-91a4-4b54-aba6-f6bc83e8bfbb"
      },
      "execution_count": 224,
      "outputs": [
        {
          "output_type": "stream",
          "name": "stdout",
          "text": [
            "F1 스코어:0.7805\n"
          ]
        }
      ]
    },
    {
      "cell_type": "code",
      "source": [
        "#기존 get_clf_eval()함수에 F1스코어를 구하는 로직을 추가\n",
        "def get_clf_eval(y_test,pred):\n",
        "  confusion=confusion_matrix(y_test,pred)\n",
        "  accuracy=accuracy_score(y_test,pred)\n",
        "  precision=precision_score(y_test,pred)\n",
        "  recall=recall_score(y_test,pred)\n",
        "  #F1스코어 추가\n",
        "  f1=f1_score(y_test,pred)\n",
        "  print('오차 행렬')\n",
        "  print(confusion)\n",
        "  #f1 score print 추가\n",
        "  print('정확도:{0:.4f},정밀도:{1:.4f},재현율:{2:.4f},F1:{3:.4f}'.format(accuracy,precision,recall,f1))\n",
        "\n",
        "thresholds=[0.4,0.45,0.50,0.55,0.60]\n",
        "pred_proba=lr_clf.predict_proba(X_test)\n",
        "get_eval_by_threshold(y_test,pred_proba[:,1].reshape(-1,1),thresholds)"
      ],
      "metadata": {
        "id": "9u47Z06r2l6q",
        "colab": {
          "base_uri": "https://localhost:8080/"
        },
        "outputId": "d20ea62d-2a76-4f1e-c063-9d9342f144b5"
      },
      "execution_count": 225,
      "outputs": [
        {
          "output_type": "stream",
          "name": "stdout",
          "text": [
            "임곗값: 0.4\n",
            "오차 행렬\n",
            "[[98 20]\n",
            " [10 51]]\n",
            "정확도:0.8324,정밀도:0.7183,재현율:0.8361,F1:0.7727\n",
            "임곗값: 0.45\n",
            "오차 행렬\n",
            "[[98 20]\n",
            " [10 51]]\n",
            "정확도:0.8324,정밀도:0.7183,재현율:0.8361,F1:0.7727\n",
            "임곗값: 0.5\n",
            "오차 행렬\n",
            "[[98 20]\n",
            " [10 51]]\n",
            "정확도:0.8324,정밀도:0.7183,재현율:0.8361,F1:0.7727\n",
            "임곗값: 0.55\n",
            "오차 행렬\n",
            "[[98 20]\n",
            " [10 51]]\n",
            "정확도:0.8324,정밀도:0.7183,재현율:0.8361,F1:0.7727\n",
            "임곗값: 0.6\n",
            "오차 행렬\n",
            "[[98 20]\n",
            " [10 51]]\n",
            "정확도:0.8324,정밀도:0.7183,재현율:0.8361,F1:0.7727\n"
          ]
        }
      ]
    },
    {
      "cell_type": "markdown",
      "source": [
        "##**5. ROC 곡선과 AUC**\n"
      ],
      "metadata": {
        "id": "JVum0JRl2ldZ"
      }
    },
    {
      "cell_type": "markdown",
      "source": [
        "* ROC 곡선 (수신자 판단 곡선) : FPR(FP의 비율)이 변할 때 TPR(TP의 비율)이 어떻게 변하는지를 나타낸 곡선\n",
        "  * 민감도(=재현율, TPR) : 실제값 Positive가 정확히 예측되어야 하는 수준을 나타냄\n",
        "  * 특이성 (TNR) : 실제값 Negative가 정확히 예측되어야 하는 수준을 나타냄\n",
        "    * TNR=TN/(FP+TN)\n",
        "    * FPR = 1-TNR\n",
        "\n",
        "* FPR 을 0부터 1까지 변경하려면 분류 결정 임곗값을 변경하면 됨\n",
        "  * 임곗값 1 => FPR = 0\n",
        "  * 임곗값 0 => FPR = 1\n",
        "\n",
        "* roc_curve()\n",
        "  * 입력 파라미터\n",
        "    * y_true : 실제 클래스 값 array\n",
        "    * y_score : predict_proba()의 반환값 array에서 positive 칼럼의 예측 확률이 보통 사용됨\n",
        "  * 반환값\n",
        "    * fpr : fpr 값을 array 로 반환\n",
        "    * tpr : tpr 값을 array로 반환\n",
        "    * thresholds : threshold 값 array"
      ],
      "metadata": {
        "id": "Y_kVZjv63lxi"
      }
    },
    {
      "cell_type": "code",
      "source": [
        "from sklearn.metrics import roc_curve\n",
        "\n",
        "#레이블 값이 1일때의 예측 확률을 추출\n",
        "pred_proba_class1=lr_clf.predict_proba(X_test)[:,1]\n",
        "\n",
        "fprs,tprs,thresholds=roc_curve(y_test,pred_proba_class1)\n",
        "#반환된 임곗값 배열 로우가 47건이므로 샘플로 10건만 추출하되, 임곗값을 5 STEP으로 추출\n",
        "#thresholds[0]은 max(예측확률)+1로 임의 설정됨. 이를 제외하기 위해 np.arrange는 1부터 시작\n",
        "thr_index=np.arange(1,thresholds.shape[0],5)\n",
        "\n",
        "print('샘플 추출을 위한 임곗값 배열의 index 10개:',thr_index)\n",
        "print('샘플용 10개의 임곗값:',np.round(thresholds[thr_index],2))\n",
        "\n",
        "#5 step 단위로 추출된 임계값에 따른 FPR, TPR 값\n",
        "print('샘플 임곗값별 FPR:',np.round(fprs[thr_index],3))\n",
        "print('샘플 임곗값별 TPR:',np.round(tprs[thr_index],3))\n",
        "\n",
        "\n"
      ],
      "metadata": {
        "id": "6iciwXHW5uHO",
        "colab": {
          "base_uri": "https://localhost:8080/"
        },
        "outputId": "a9fd0409-a855-46e7-bc3b-5e0c6fbc2e8f"
      },
      "execution_count": 226,
      "outputs": [
        {
          "output_type": "stream",
          "name": "stdout",
          "text": [
            "샘플 추출을 위한 임곗값 배열의 index 10개: [ 1  6 11 16 21 26 31 36 41 46 51]\n",
            "샘플용 10개의 임곗값: [0.97 0.65 0.63 0.56 0.45 0.4  0.35 0.15 0.13 0.11 0.11]\n",
            "샘플 임곗값별 FPR: [0.    0.017 0.034 0.076 0.127 0.169 0.203 0.466 0.585 0.686 0.797]\n",
            "샘플 임곗값별 TPR: [0.033 0.639 0.721 0.754 0.803 0.836 0.885 0.902 0.934 0.967 0.984]\n"
          ]
        }
      ]
    },
    {
      "cell_type": "code",
      "source": [
        "#시각화\n",
        "\n",
        "def roc_curve_plot(y_test,pred_proba_c1):\n",
        "  #임곗값에 따른 FPR, TPR 값을 반환받음\n",
        "  fprs, tprs, thresholds =roc_curve(y_test, pred_proba_c1)\n",
        "  #ROC 곡선을 그래프 곡선으로 그림\n",
        "  plt.plot(fprs, tprs, label='ROC')\n",
        "  #가운데 대각선 직선을 그림\n",
        "  plt.plot([0,1],[0,1],'k--',label='Random')\n",
        "\n",
        "  #FPR X축의 Scale을 0.1 단위로 변경, X,Y축 명 설정 등\n",
        "  start,end=plt.xlim()\n",
        "  plt.xticks(np.round(np.arange(start,end,0.1),2))\n",
        "  plt.xlim(0,1)\n",
        "  plt.ylim(0,1)\n",
        "  plt.xlabel('FPR(1-Sensitivity)')\n",
        "  plt.ylabel('TPR(Recall)')\n",
        "  plt.legend()\n",
        "\n",
        "roc_curve_plot(y_test,pred_proba[:,1])"
      ],
      "metadata": {
        "id": "ok9l4YIk7K4A",
        "colab": {
          "base_uri": "https://localhost:8080/",
          "height": 283
        },
        "outputId": "9c17da0c-e1e6-44c6-bb68-3f2d4eb9957b"
      },
      "execution_count": 227,
      "outputs": [
        {
          "output_type": "display_data",
          "data": {
            "text/plain": [
              "<Figure size 432x288 with 1 Axes>"
            ],
            "image/png": "[encoded data removed]"
          },
          "metadata": {
            "needs_background": "light"
          }
        }
      ]
    },
    {
      "cell_type": "markdown",
      "source": [
        "* 일반적으로 ROC 곡전 자체는 FPR 값과 TPR의 변화 값을 보는데 이용하며 분류의 성능 지표로 사용되는 것은 ROC 곡선 면적에 기반한 AUC 값\n",
        "\n",
        "* AUC : ROC 곡선 밑의 면적\n",
        "  * AUC 수치가 커지려면 FPR이 작은 상태에서 얼마나 큰 TPR을 얻을 수 있는지가 관건"
      ],
      "metadata": {
        "id": "m7MJdGx78GFQ"
      }
    },
    {
      "cell_type": "code",
      "source": [
        "from sklearn.metrics import accuracy_score, confusion_matrix,precision_score\n",
        "from sklearn.metrics import recall_score, f1_score, roc_auc_score\n",
        "import numpy as np\n",
        "\n",
        "print(confusion_matrix(y_target,preds))\n",
        "print(\"정확도:\",np.round(accuracy_score(y_target,preds),4))\n",
        "print(\"정밀도:\",np.round(precision_score(y_target,preds),4))\n",
        "print(\"재현율:\",np.round(recall_score(y_target,preds),4))\n"
      ],
      "metadata": {
        "id": "SQRlzgXD7Xq0",
        "colab": {
          "base_uri": "https://localhost:8080/",
          "height": 245
        },
        "outputId": "f9af3f39-2819-47c2-8e19-86c89d9baa9e"
      },
      "execution_count": 228,
      "outputs": [
        {
          "output_type": "error",
          "ename": "NameError",
          "evalue": "ignored",
          "traceback": [
            "\u001b[0;31m---------------------------------------------------------------------------\u001b[0m",
            "\u001b[0;31mNameError\u001b[0m                                 Traceback (most recent call last)",
            "\u001b[0;32m<ipython-input-228-263f79aea0d6>\u001b[0m in \u001b[0;36m<module>\u001b[0;34m()\u001b[0m\n\u001b[1;32m      3\u001b[0m \u001b[0;32mimport\u001b[0m \u001b[0mnumpy\u001b[0m \u001b[0;32mas\u001b[0m \u001b[0mnp\u001b[0m\u001b[0;34m\u001b[0m\u001b[0;34m\u001b[0m\u001b[0m\n\u001b[1;32m      4\u001b[0m \u001b[0;34m\u001b[0m\u001b[0m\n\u001b[0;32m----> 5\u001b[0;31m \u001b[0mprint\u001b[0m\u001b[0;34m(\u001b[0m\u001b[0mconfusion_matrix\u001b[0m\u001b[0;34m(\u001b[0m\u001b[0my_target\u001b[0m\u001b[0;34m,\u001b[0m\u001b[0mpreds\u001b[0m\u001b[0;34m)\u001b[0m\u001b[0;34m)\u001b[0m\u001b[0;34m\u001b[0m\u001b[0;34m\u001b[0m\u001b[0m\n\u001b[0m\u001b[1;32m      6\u001b[0m \u001b[0mprint\u001b[0m\u001b[0;34m(\u001b[0m\u001b[0;34m\"정확도:\"\u001b[0m\u001b[0;34m,\u001b[0m\u001b[0mnp\u001b[0m\u001b[0;34m.\u001b[0m\u001b[0mround\u001b[0m\u001b[0;34m(\u001b[0m\u001b[0maccuracy_score\u001b[0m\u001b[0;34m(\u001b[0m\u001b[0my_target\u001b[0m\u001b[0;34m,\u001b[0m\u001b[0mpreds\u001b[0m\u001b[0;34m)\u001b[0m\u001b[0;34m,\u001b[0m\u001b[0;36m4\u001b[0m\u001b[0;34m)\u001b[0m\u001b[0;34m)\u001b[0m\u001b[0;34m\u001b[0m\u001b[0;34m\u001b[0m\u001b[0m\n\u001b[1;32m      7\u001b[0m \u001b[0mprint\u001b[0m\u001b[0;34m(\u001b[0m\u001b[0;34m\"정밀도:\"\u001b[0m\u001b[0;34m,\u001b[0m\u001b[0mnp\u001b[0m\u001b[0;34m.\u001b[0m\u001b[0mround\u001b[0m\u001b[0;34m(\u001b[0m\u001b[0mprecision_score\u001b[0m\u001b[0;34m(\u001b[0m\u001b[0my_target\u001b[0m\u001b[0;34m,\u001b[0m\u001b[0mpreds\u001b[0m\u001b[0;34m)\u001b[0m\u001b[0;34m,\u001b[0m\u001b[0;36m4\u001b[0m\u001b[0;34m)\u001b[0m\u001b[0;34m)\u001b[0m\u001b[0;34m\u001b[0m\u001b[0;34m\u001b[0m\u001b[0m\n",
            "\u001b[0;31mNameError\u001b[0m: name 'y_target' is not defined"
          ]
        }
      ]
    },
    {
      "cell_type": "code",
      "source": [
        "# get_clf_eval() 함수에 roc_auc_score()를 이용해 ROC AUC 값을 측정하는 로직 추가\n",
        "\n",
        "def get_clf_eval(y_test, pred=None, pred_proba=None):\n",
        "  confusion=confusion_matrix(y_test,pred)\n",
        "  accuracy=accuracy_score(y_test,pred)\n",
        "  precision=precision_score(y_test,pred)\n",
        "  recall=recall_score(y_test,pred)\n",
        "  f1=f1_score(y_test,pred)\n",
        "\n",
        "  #ROC_AUC 추가\n",
        "  roc_auc=roc_auc_score(y_test,pred_proba)\n",
        "  print('오차 행렬')\n",
        "  print(confusion)\n",
        "  #ROC-AUC print 추가\n",
        "  print('정확도:{0:.4f},정밀도:{1:.4f},재현율:{2:.4f},F1:{3:.4f}, AUC:{4:.4f}'.format(accuracy,precision,recall,f1,roc_auc))\n"
      ],
      "metadata": {
        "id": "a0h2FjF18-Zf"
      },
      "execution_count": 229,
      "outputs": []
    },
    {
      "cell_type": "markdown",
      "source": [
        "##**6. 피마 인디언 당뇨병 예측**"
      ],
      "metadata": {
        "id": "18Rwr98bFfqq"
      }
    },
    {
      "cell_type": "markdown",
      "source": [
        "* 피마 인디언 당뇨병 데이터세트의 피처\n",
        "  * Pregnancies : 임신 횟수\n",
        "  * Glucose : 포도당 부하 검사 수치\n",
        "  * BloodPressure : 혈압\n",
        "  * SkinThickness : 팔 삼두근 뒤쪽의 피하지방 측정값\n",
        "  * Insulin : 혈청 인슐린\n",
        "  * BMI : 체질량지수\n",
        "  * DiabetesPedigreeFuncftion : 당뇨 내력 가중치 값\n",
        "  * Age : 나이\n",
        "  * Outcome : 클래스 결정 값(0또는 1)"
      ],
      "metadata": {
        "id": "2WxhBPtWGD2v"
      }
    },
    {
      "cell_type": "code",
      "source": [
        "import numpy as np\n",
        "import pandas as pd\n",
        "import matplotlib.pyplot as plt\n",
        "%matplotlib inline\n",
        "\n",
        "from sklearn.model_selection import train_test_split\n",
        "from sklearn.metrics import accuracy_score, precision_score,recall_score,roc_auc_score\n",
        "from sklearn.metrics import f1_score, confusion_matrix, precision_recall_curve, roc_curve\n",
        "from sklearn.preprocessing import StandardScaler\n",
        "\n",
        "from sklearn.linear_model import LogisticRegression\n",
        "\n",
        "diabetes_data=pd.read_csv('diabetes.csv')\n",
        "print(diabetes_data['Outcome'].value_counts())\n",
        "diabetes_data.head(3)\n"
      ],
      "metadata": {
        "colab": {
          "base_uri": "https://localhost:8080/",
          "height": 262
        },
        "id": "q2pDCjTDSKib",
        "outputId": "26ee62b4-9351-41e4-8398-a0eed8ffb7b1"
      },
      "execution_count": 230,
      "outputs": [
        {
          "output_type": "stream",
          "name": "stdout",
          "text": [
            "0    500\n",
            "1    268\n",
            "Name: Outcome, dtype: int64\n"
          ]
        },
        {
          "output_type": "execute_result",
          "data": {
            "text/plain": [
              "   Pregnancies  Glucose  BloodPressure  SkinThickness  Insulin   BMI  \\\n",
              "0            6      148             72             35        0  33.6   \n",
              "1            1       85             66             29        0  26.6   \n",
              "2            8      183             64              0        0  23.3   \n",
              "\n",
              "   DiabetesPedigreeFunction  Age  Outcome  \n",
              "0                     0.627   50        1  \n",
              "1                     0.351   31        0  \n",
              "2                     0.672   32        1  "
            ],
            "text/html": [
              "\n",
              "  <div id=\"df-456277d6-8c6e-460b-9108-7182731efe76\">\n",
              "    <div class=\"colab-df-container\">\n",
              "      <div>\n",
              "<style scoped>\n",
              "    .dataframe tbody tr th:only-of-type {\n",
              "        vertical-align: middle;\n",
              "    }\n",
              "\n",
              "    .dataframe tbody tr th {\n",
              "        vertical-align: top;\n",
              "    }\n",
              "\n",
              "    .dataframe thead th {\n",
              "        text-align: right;\n",
              "    }\n",
              "</style>\n",
              "<table border=\"1\" class=\"dataframe\">\n",
              "  <thead>\n",
              "    <tr style=\"text-align: right;\">\n",
              "      <th></th>\n",
              "      <th>Pregnancies</th>\n",
              "      <th>Glucose</th>\n",
              "      <th>BloodPressure</th>\n",
              "      <th>SkinThickness</th>\n",
              "      <th>Insulin</th>\n",
              "      <th>BMI</th>\n",
              "      <th>DiabetesPedigreeFunction</th>\n",
              "      <th>Age</th>\n",
              "      <th>Outcome</th>\n",
              "    </tr>\n",
              "  </thead>\n",
              "  <tbody>\n",
              "    <tr>\n",
              "      <th>0</th>\n",
              "      <td>6</td>\n",
              "      <td>148</td>\n",
              "      <td>72</td>\n",
              "      <td>35</td>\n",
              "      <td>0</td>\n",
              "      <td>33.6</td>\n",
              "      <td>0.627</td>\n",
              "      <td>50</td>\n",
              "      <td>1</td>\n",
              "    </tr>\n",
              "    <tr>\n",
              "      <th>1</th>\n",
              "      <td>1</td>\n",
              "      <td>85</td>\n",
              "      <td>66</td>\n",
              "      <td>29</td>\n",
              "      <td>0</td>\n",
              "      <td>26.6</td>\n",
              "      <td>0.351</td>\n",
              "      <td>31</td>\n",
              "      <td>0</td>\n",
              "    </tr>\n",
              "    <tr>\n",
              "      <th>2</th>\n",
              "      <td>8</td>\n",
              "      <td>183</td>\n",
              "      <td>64</td>\n",
              "      <td>0</td>\n",
              "      <td>0</td>\n",
              "      <td>23.3</td>\n",
              "      <td>0.672</td>\n",
              "      <td>32</td>\n",
              "      <td>1</td>\n",
              "    </tr>\n",
              "  </tbody>\n",
              "</table>\n",
              "</div>\n",
              "      <button class=\"colab-df-convert\" onclick=\"convertToInteractive('df-456277d6-8c6e-460b-9108-7182731efe76')\"\n",
              "              title=\"Convert this dataframe to an interactive table.\"\n",
              "              style=\"display:none;\">\n",
              "        \n",
              "  <svg xmlns=\"http://www.w3.org/2000/svg\" height=\"24px\"viewBox=\"0 0 24 24\"\n",
              "       width=\"24px\">\n",
              "    <path d=\"M0 0h24v24H0V0z\" fill=\"none\"/>\n",
              "    <path d=\"M18.56 5.44l.94 2.06.94-2.06 2.06-.94-2.06-.94-.94-2.06-.94 2.06-2.06.94zm-11 1L8.5 8.5l.94-2.06 2.06-.94-2.06-.94L8.5 2.5l-.94 2.06-2.06.94zm10 10l.94 2.06.94-2.06 2.06-.94-2.06-.94-.94-2.06-.94 2.06-2.06.94z\"/><path d=\"M17.41 7.96l-1.37-1.37c-.4-.4-.92-.59-1.43-.59-.52 0-1.04.2-1.43.59L10.3 9.45l-7.72 7.72c-.78.78-.78 2.05 0 2.83L4 21.41c.39.39.9.59 1.41.59.51 0 1.02-.2 1.41-.59l7.78-7.78 2.81-2.81c.8-.78.8-2.07 0-2.86zM5.41 20L4 18.59l7.72-7.72 1.47 1.35L5.41 20z\"/>\n",
              "  </svg>\n",
              "      </button>\n",
              "      \n",
              "  <style>\n",
              "    .colab-df-container {\n",
              "      display:flex;\n",
              "      flex-wrap:wrap;\n",
              "      gap: 12px;\n",
              "    }\n",
              "\n",
              "    .colab-df-convert {\n",
              "      background-color: #E8F0FE;\n",
              "      border: none;\n",
              "      border-radius: 50%;\n",
              "      cursor: pointer;\n",
              "      display: none;\n",
              "      fill: #1967D2;\n",
              "      height: 32px;\n",
              "      padding: 0 0 0 0;\n",
              "      width: 32px;\n",
              "    }\n",
              "\n",
              "    .colab-df-convert:hover {\n",
              "      background-color: #E2EBFA;\n",
              "      box-shadow: 0px 1px 2px rgba(60, 64, 67, 0.3), 0px 1px 3px 1px rgba(60, 64, 67, 0.15);\n",
              "      fill: #174EA6;\n",
              "    }\n",
              "\n",
              "    [theme=dark] .colab-df-convert {\n",
              "      background-color: #3B4455;\n",
              "      fill: #D2E3FC;\n",
              "    }\n",
              "\n",
              "    [theme=dark] .colab-df-convert:hover {\n",
              "      background-color: #434B5C;\n",
              "      box-shadow: 0px 1px 3px 1px rgba(0, 0, 0, 0.15);\n",
              "      filter: drop-shadow(0px 1px 2px rgba(0, 0, 0, 0.3));\n",
              "      fill: #FFFFFF;\n",
              "    }\n",
              "  </style>\n",
              "\n",
              "      <script>\n",
              "        const buttonEl =\n",
              "          document.querySelector('#df-456277d6-8c6e-460b-9108-7182731efe76 button.colab-df-convert');\n",
              "        buttonEl.style.display =\n",
              "          google.colab.kernel.accessAllowed ? 'block' : 'none';\n",
              "\n",
              "        async function convertToInteractive(key) {\n",
              "          const element = document.querySelector('#df-456277d6-8c6e-460b-9108-7182731efe76');\n",
              "          const dataTable =\n",
              "            await google.colab.kernel.invokeFunction('convertToInteractive',\n",
              "                                                     [key], {});\n",
              "          if (!dataTable) return;\n",
              "\n",
              "          const docLinkHtml = 'Like what you see? Visit the ' +\n",
              "            '<a target=\"_blank\" href=https://colab.research.google.com/notebooks/data_table.ipynb>data table notebook</a>'\n",
              "            + ' to learn more about interactive tables.';\n",
              "          element.innerHTML = '';\n",
              "          dataTable['output_type'] = 'display_data';\n",
              "          await google.colab.output.renderOutput(dataTable, element);\n",
              "          const docLink = document.createElement('div');\n",
              "          docLink.innerHTML = docLinkHtml;\n",
              "          element.appendChild(docLink);\n",
              "        }\n",
              "      </script>\n",
              "    </div>\n",
              "  </div>\n",
              "  "
            ]
          },
          "metadata": {},
          "execution_count": 230
        }
      ]
    },
    {
      "cell_type": "markdown",
      "source": [
        "> Negative가 상대적으로 많음"
      ],
      "metadata": {
        "id": "HRjvQBepS3AP"
      }
    },
    {
      "cell_type": "markdown",
      "source": [
        "> Null 값은 없으며 피처의 타입은 모두 숫자형\n",
        "\n",
        "> 임신 횟수, 나이와 같은 숫자형 피처와 당뇨 검사 수치 피처로 구성된 특징으로 볼 때 별도의 피처 인코딩은 필요하지 않아 보임"
      ],
      "metadata": {
        "id": "AYYiUDRLS9jY"
      }
    },
    {
      "cell_type": "code",
      "source": [
        "#피처 데이터 세트 X, 레이블 데이터 세트 y를 추출\n",
        "#맨 끝이 Outcome 칼럼으로 레이블 값ㄹ임. 칼럼 위치 -1을 이용해 추출\n",
        "X=diabetes_data.iloc[:,:-1]\n",
        "y=diabetes_data.iloc[:,-1]\n",
        "\n",
        "X_train, X_test, y_train, y_test=train_test_split(X,y, test_size=0.2, random_state=156, stratify=y)\n",
        "\n",
        "#로지스틱 회귀로 학습, 예측 및 평가 수행\n",
        "lr_clf=LogisticRegression()\n",
        "lr_clf.fit(X_train,y_train)\n",
        "pred=lr_clf.predict(X_test)\n",
        "pred_proba=lr_clf.predict_proba(X_test)[:,1]\n",
        "\n",
        "get_clf_eval(y_test, pred, pred_proba)\n",
        "\n"
      ],
      "metadata": {
        "colab": {
          "base_uri": "https://localhost:8080/"
        },
        "id": "_qPxatwlS2fV",
        "outputId": "86c00908-3208-4fe9-e7d3-95fce1819e18"
      },
      "execution_count": 231,
      "outputs": [
        {
          "output_type": "stream",
          "name": "stdout",
          "text": [
            "오차 행렬\n",
            "[[88 12]\n",
            " [23 31]]\n",
            "정확도:0.7727,정밀도:0.7209,재현율:0.5741,F1:0.6392, AUC:0.7919\n"
          ]
        },
        {
          "output_type": "stream",
          "name": "stderr",
          "text": [
            "/usr/local/lib/python3.7/dist-packages/sklearn/linear_model/_logistic.py:818: ConvergenceWarning: lbfgs failed to converge (status=1):\n",
            "STOP: TOTAL NO. of ITERATIONS REACHED LIMIT.\n",
            "\n",
            "Increase the number of iterations (max_iter) or scale the data as shown in:\n",
            "    https://scikit-learn.org/stable/modules/preprocessing.html\n",
            "Please also refer to the documentation for alternative solver options:\n",
            "    https://scikit-learn.org/stable/modules/linear_model.html#logistic-regression\n",
            "  extra_warning_msg=_LOGISTIC_SOLVER_CONVERGENCE_MSG,\n"
          ]
        }
      ]
    },
    {
      "cell_type": "markdown",
      "source": [
        "* 전체 데이터의 65% 가 Negative이므로 정확도 보다는 재현율 성능에 초점\n",
        "* 정밀도 재현율 곡선을 보고 임곗값 별 정밀도와 재현율 값의 변화를 확인"
      ],
      "metadata": {
        "id": "iyx81VCDUqAq"
      }
    },
    {
      "cell_type": "code",
      "source": [
        "pred_proba_c1=lr_clf.predict_proba(X_test)[:,1]\n",
        "precision_recall_curve_plot(y_test,pred_proba_c1)"
      ],
      "metadata": {
        "colab": {
          "base_uri": "https://localhost:8080/",
          "height": 721
        },
        "id": "hf4hqp-jUpn2",
        "outputId": "3ae0141b-3dc3-4d7e-fb91-251161d9ac4a"
      },
      "execution_count": 233,
      "outputs": [
        {
          "output_type": "error",
          "ename": "ValueError",
          "evalue": "ignored",
          "traceback": [
            "\u001b[0;31m---------------------------------------------------------------------------\u001b[0m",
            "\u001b[0;31mValueError\u001b[0m                                Traceback (most recent call last)",
            "\u001b[0;32m<ipython-input-233-96c2b637827a>\u001b[0m in \u001b[0;36m<module>\u001b[0;34m()\u001b[0m\n\u001b[1;32m      1\u001b[0m \u001b[0mpred_proba_c1\u001b[0m\u001b[0;34m=\u001b[0m\u001b[0mlr_clf\u001b[0m\u001b[0;34m.\u001b[0m\u001b[0mpredict_proba\u001b[0m\u001b[0;34m(\u001b[0m\u001b[0mX_test\u001b[0m\u001b[0;34m)\u001b[0m\u001b[0;34m[\u001b[0m\u001b[0;34m:\u001b[0m\u001b[0;34m,\u001b[0m\u001b[0;36m1\u001b[0m\u001b[0;34m]\u001b[0m\u001b[0;34m\u001b[0m\u001b[0;34m\u001b[0m\u001b[0m\n\u001b[0;32m----> 2\u001b[0;31m \u001b[0mprecision_recall_curve_plot\u001b[0m\u001b[0;34m(\u001b[0m\u001b[0my_test\u001b[0m\u001b[0;34m,\u001b[0m\u001b[0mpred_proba_c1\u001b[0m\u001b[0;34m)\u001b[0m\u001b[0;34m\u001b[0m\u001b[0;34m\u001b[0m\u001b[0m\n\u001b[0m",
            "\u001b[0;32m<ipython-input-223-c3b0dc9a4881>\u001b[0m in \u001b[0;36mprecision_recall_curve_plot\u001b[0;34m(y_test, pred_proba_c1)\u001b[0m\n\u001b[1;32m     11\u001b[0m    \u001b[0mplt\u001b[0m\u001b[0;34m.\u001b[0m\u001b[0mfigure\u001b[0m\u001b[0;34m(\u001b[0m\u001b[0mfigsize\u001b[0m\u001b[0;34m=\u001b[0m\u001b[0;34m(\u001b[0m\u001b[0;36m8\u001b[0m\u001b[0;34m,\u001b[0m\u001b[0;36m6\u001b[0m\u001b[0;34m)\u001b[0m\u001b[0;34m)\u001b[0m\u001b[0;34m\u001b[0m\u001b[0;34m\u001b[0m\u001b[0m\n\u001b[1;32m     12\u001b[0m    \u001b[0mthreshold_boundary\u001b[0m\u001b[0;34m=\u001b[0m\u001b[0mthresholds\u001b[0m\u001b[0;34m.\u001b[0m\u001b[0mshape\u001b[0m\u001b[0;34m[\u001b[0m\u001b[0;36m0\u001b[0m\u001b[0;34m]\u001b[0m\u001b[0;34m\u001b[0m\u001b[0;34m\u001b[0m\u001b[0m\n\u001b[0;32m---> 13\u001b[0;31m    \u001b[0mplt\u001b[0m\u001b[0;34m.\u001b[0m\u001b[0mplot\u001b[0m\u001b[0;34m(\u001b[0m\u001b[0mthresholds\u001b[0m\u001b[0;34m,\u001b[0m\u001b[0mprecisions\u001b[0m\u001b[0;34m[\u001b[0m\u001b[0;36m0\u001b[0m\u001b[0;34m:\u001b[0m\u001b[0mthreshold_boundary\u001b[0m\u001b[0;34m]\u001b[0m\u001b[0;34m,\u001b[0m\u001b[0mlinestyle\u001b[0m\u001b[0;34m=\u001b[0m\u001b[0;34m'-'\u001b[0m\u001b[0;34m,\u001b[0m\u001b[0mlabel\u001b[0m\u001b[0;34m=\u001b[0m\u001b[0;34m'precision'\u001b[0m\u001b[0;34m)\u001b[0m\u001b[0;34m\u001b[0m\u001b[0;34m\u001b[0m\u001b[0m\n\u001b[0m\u001b[1;32m     14\u001b[0m    \u001b[0mplt\u001b[0m\u001b[0;34m.\u001b[0m\u001b[0mplot\u001b[0m\u001b[0;34m(\u001b[0m\u001b[0mthresholds\u001b[0m\u001b[0;34m,\u001b[0m\u001b[0mrecalls\u001b[0m\u001b[0;34m[\u001b[0m\u001b[0;36m0\u001b[0m\u001b[0;34m:\u001b[0m\u001b[0mthreshold_boundary\u001b[0m\u001b[0;34m]\u001b[0m\u001b[0;34m,\u001b[0m\u001b[0mlabel\u001b[0m\u001b[0;34m=\u001b[0m\u001b[0;34m'recall'\u001b[0m\u001b[0;34m)\u001b[0m\u001b[0;34m\u001b[0m\u001b[0;34m\u001b[0m\u001b[0m\n\u001b[1;32m     15\u001b[0m \u001b[0;34m\u001b[0m\u001b[0m\n",
            "\u001b[0;32m/usr/local/lib/python3.7/dist-packages/matplotlib/pyplot.py\u001b[0m in \u001b[0;36mplot\u001b[0;34m(scalex, scaley, data, *args, **kwargs)\u001b[0m\n\u001b[1;32m   2761\u001b[0m     return gca().plot(\n\u001b[1;32m   2762\u001b[0m         *args, scalex=scalex, scaley=scaley, **({\"data\": data} if data\n\u001b[0;32m-> 2763\u001b[0;31m         is not None else {}), **kwargs)\n\u001b[0m\u001b[1;32m   2764\u001b[0m \u001b[0;34m\u001b[0m\u001b[0m\n\u001b[1;32m   2765\u001b[0m \u001b[0;34m\u001b[0m\u001b[0m\n",
            "\u001b[0;32m/usr/local/lib/python3.7/dist-packages/matplotlib/axes/_axes.py\u001b[0m in \u001b[0;36mplot\u001b[0;34m(self, scalex, scaley, data, *args, **kwargs)\u001b[0m\n\u001b[1;32m   1645\u001b[0m         \"\"\"\n\u001b[1;32m   1646\u001b[0m         \u001b[0mkwargs\u001b[0m \u001b[0;34m=\u001b[0m \u001b[0mcbook\u001b[0m\u001b[0;34m.\u001b[0m\u001b[0mnormalize_kwargs\u001b[0m\u001b[0;34m(\u001b[0m\u001b[0mkwargs\u001b[0m\u001b[0;34m,\u001b[0m \u001b[0mmlines\u001b[0m\u001b[0;34m.\u001b[0m\u001b[0mLine2D\u001b[0m\u001b[0;34m)\u001b[0m\u001b[0;34m\u001b[0m\u001b[0;34m\u001b[0m\u001b[0m\n\u001b[0;32m-> 1647\u001b[0;31m         \u001b[0mlines\u001b[0m \u001b[0;34m=\u001b[0m \u001b[0;34m[\u001b[0m\u001b[0;34m*\u001b[0m\u001b[0mself\u001b[0m\u001b[0;34m.\u001b[0m\u001b[0m_get_lines\u001b[0m\u001b[0;34m(\u001b[0m\u001b[0;34m*\u001b[0m\u001b[0margs\u001b[0m\u001b[0;34m,\u001b[0m \u001b[0mdata\u001b[0m\u001b[0;34m=\u001b[0m\u001b[0mdata\u001b[0m\u001b[0;34m,\u001b[0m \u001b[0;34m**\u001b[0m\u001b[0mkwargs\u001b[0m\u001b[0;34m)\u001b[0m\u001b[0;34m]\u001b[0m\u001b[0;34m\u001b[0m\u001b[0;34m\u001b[0m\u001b[0m\n\u001b[0m\u001b[1;32m   1648\u001b[0m         \u001b[0;32mfor\u001b[0m \u001b[0mline\u001b[0m \u001b[0;32min\u001b[0m \u001b[0mlines\u001b[0m\u001b[0;34m:\u001b[0m\u001b[0;34m\u001b[0m\u001b[0;34m\u001b[0m\u001b[0m\n\u001b[1;32m   1649\u001b[0m             \u001b[0mself\u001b[0m\u001b[0;34m.\u001b[0m\u001b[0madd_line\u001b[0m\u001b[0;34m(\u001b[0m\u001b[0mline\u001b[0m\u001b[0;34m)\u001b[0m\u001b[0;34m\u001b[0m\u001b[0;34m\u001b[0m\u001b[0m\n",
            "\u001b[0;32m/usr/local/lib/python3.7/dist-packages/matplotlib/axes/_base.py\u001b[0m in \u001b[0;36m__call__\u001b[0;34m(self, *args, **kwargs)\u001b[0m\n\u001b[1;32m    214\u001b[0m                 \u001b[0mthis\u001b[0m \u001b[0;34m+=\u001b[0m \u001b[0margs\u001b[0m\u001b[0;34m[\u001b[0m\u001b[0;36m0\u001b[0m\u001b[0;34m]\u001b[0m\u001b[0;34m,\u001b[0m\u001b[0;34m\u001b[0m\u001b[0;34m\u001b[0m\u001b[0m\n\u001b[1;32m    215\u001b[0m                 \u001b[0margs\u001b[0m \u001b[0;34m=\u001b[0m \u001b[0margs\u001b[0m\u001b[0;34m[\u001b[0m\u001b[0;36m1\u001b[0m\u001b[0;34m:\u001b[0m\u001b[0;34m]\u001b[0m\u001b[0;34m\u001b[0m\u001b[0;34m\u001b[0m\u001b[0m\n\u001b[0;32m--> 216\u001b[0;31m             \u001b[0;32myield\u001b[0m \u001b[0;32mfrom\u001b[0m \u001b[0mself\u001b[0m\u001b[0;34m.\u001b[0m\u001b[0m_plot_args\u001b[0m\u001b[0;34m(\u001b[0m\u001b[0mthis\u001b[0m\u001b[0;34m,\u001b[0m \u001b[0mkwargs\u001b[0m\u001b[0;34m)\u001b[0m\u001b[0;34m\u001b[0m\u001b[0;34m\u001b[0m\u001b[0m\n\u001b[0m\u001b[1;32m    217\u001b[0m \u001b[0;34m\u001b[0m\u001b[0m\n\u001b[1;32m    218\u001b[0m     \u001b[0;32mdef\u001b[0m \u001b[0mget_next_color\u001b[0m\u001b[0;34m(\u001b[0m\u001b[0mself\u001b[0m\u001b[0;34m)\u001b[0m\u001b[0;34m:\u001b[0m\u001b[0;34m\u001b[0m\u001b[0;34m\u001b[0m\u001b[0m\n",
            "\u001b[0;32m/usr/local/lib/python3.7/dist-packages/matplotlib/axes/_base.py\u001b[0m in \u001b[0;36m_plot_args\u001b[0;34m(self, tup, kwargs)\u001b[0m\n\u001b[1;32m    340\u001b[0m \u001b[0;34m\u001b[0m\u001b[0m\n\u001b[1;32m    341\u001b[0m         \u001b[0;32mif\u001b[0m \u001b[0mx\u001b[0m\u001b[0;34m.\u001b[0m\u001b[0mshape\u001b[0m\u001b[0;34m[\u001b[0m\u001b[0;36m0\u001b[0m\u001b[0;34m]\u001b[0m \u001b[0;34m!=\u001b[0m \u001b[0my\u001b[0m\u001b[0;34m.\u001b[0m\u001b[0mshape\u001b[0m\u001b[0;34m[\u001b[0m\u001b[0;36m0\u001b[0m\u001b[0;34m]\u001b[0m\u001b[0;34m:\u001b[0m\u001b[0;34m\u001b[0m\u001b[0;34m\u001b[0m\u001b[0m\n\u001b[0;32m--> 342\u001b[0;31m             raise ValueError(f\"x and y must have same first dimension, but \"\n\u001b[0m\u001b[1;32m    343\u001b[0m                              f\"have shapes {x.shape} and {y.shape}\")\n\u001b[1;32m    344\u001b[0m         \u001b[0;32mif\u001b[0m \u001b[0mx\u001b[0m\u001b[0;34m.\u001b[0m\u001b[0mndim\u001b[0m \u001b[0;34m>\u001b[0m \u001b[0;36m2\u001b[0m \u001b[0;32mor\u001b[0m \u001b[0my\u001b[0m\u001b[0;34m.\u001b[0m\u001b[0mndim\u001b[0m \u001b[0;34m>\u001b[0m \u001b[0;36m2\u001b[0m\u001b[0;34m:\u001b[0m\u001b[0;34m\u001b[0m\u001b[0;34m\u001b[0m\u001b[0m\n",
            "\u001b[0;31mValueError\u001b[0m: x and y must have same first dimension, but have shapes (154,) and (144,)"
          ]
        },
        {
          "output_type": "display_data",
          "data": {
            "text/plain": [
              "<Figure size 576x432 with 1 Axes>"
            ],
            "image/png": "[encoded data removed]"
          },
          "metadata": {
            "needs_background": "light"
          }
        }
      ]
    },
    {
      "cell_type": "code",
      "source": [
        "plt.hist(diabetes_data['Glucose'],bins=10)"
      ],
      "metadata": {
        "colab": {
          "base_uri": "https://localhost:8080/",
          "height": 338
        },
        "id": "MhML_s8wvxVN",
        "outputId": "6ec7e308-e64a-41ce-872c-a855974be762"
      },
      "execution_count": 234,
      "outputs": [
        {
          "output_type": "execute_result",
          "data": {
            "text/plain": [
              "(array([  5.,   0.,   4.,  32., 156., 211., 163.,  95.,  56.,  46.]),\n",
              " array([  0. ,  19.9,  39.8,  59.7,  79.6,  99.5, 119.4, 139.3, 159.2,\n",
              "        179.1, 199. ]),\n",
              " <a list of 10 Patch objects>)"
            ]
          },
          "metadata": {},
          "execution_count": 234
        },
        {
          "output_type": "display_data",
          "data": {
            "text/plain": [
              "<Figure size 432x288 with 1 Axes>"
            ],
            "image/png": "[encoded data removed]"
          },
          "metadata": {
            "needs_background": "light"
          }
        }
      ]
    },
    {
      "cell_type": "markdown",
      "source": [
        "* min() 값이 0으로 돼 있는 피처에 대해 0 값의 건수 및 전체 데이터 건수 대비 몇 퍼센트의 비율로 존재하는지 확인"
      ],
      "metadata": {
        "id": "J2a8KCh-v424"
      }
    },
    {
      "cell_type": "code",
      "source": [
        "#0값을 검사할 피처 명 리스트\n",
        "zero_features=['Glucose','BloodPressure','SkinThickness','Insulin','BMI']\n",
        "\n",
        "#전체 데이터 건수\n",
        "total_count=diabetes_data['Glucose'].count()\n",
        "\n",
        "#피처별로 반복하면서 데이터 값이 0인 데이터 건수를 추출하고, 퍼센트 계산\n",
        "for feature in zero_features:\n",
        "  zero_count=diabetes_data[diabetes_data[feature]==0][feature].count()\n",
        "  print('{0} 0 건수는 {1}, 퍼센트는 {2:.2f} %'.format(feature,zero_count, 100*zero_count/total_count))"
      ],
      "metadata": {
        "colab": {
          "base_uri": "https://localhost:8080/"
        },
        "id": "xH66dCTgv-PX",
        "outputId": "0cb44d83-176a-43bc-b325-fa0849919384"
      },
      "execution_count": 235,
      "outputs": [
        {
          "output_type": "stream",
          "name": "stdout",
          "text": [
            "Glucose 0 건수는 5, 퍼센트는 0.65 %\n",
            "BloodPressure 0 건수는 35, 퍼센트는 4.56 %\n",
            "SkinThickness 0 건수는 227, 퍼센트는 29.56 %\n",
            "Insulin 0 건수는 374, 퍼센트는 48.70 %\n",
            "BMI 0 건수는 11, 퍼센트는 1.43 %\n"
          ]
        }
      ]
    },
    {
      "cell_type": "markdown",
      "source": [
        "> SkinTickness와 Insulin의 0 값이 많음\n",
        "> 0 값을 평균값으로 대체"
      ],
      "metadata": {
        "id": "1R4DyOkUy0OJ"
      }
    },
    {
      "cell_type": "code",
      "source": [
        "#zero_features 리스트 내부에 저장된 개별 피처들에 대해서 0값을 평균 값으로 대체\n",
        "mean_zero_features=diabetes_data[zero_features].mean()\n",
        "diabetes_data[zero_features]=diabetes_data[zero_features].replace(0,mean_zero_features)\n"
      ],
      "metadata": {
        "id": "gnL499KuyrJc"
      },
      "execution_count": 236,
      "outputs": []
    },
    {
      "cell_type": "markdown",
      "source": [
        "* 0값을 평균값으로 대체한 데이터 세트에 피처 스케일링을 적용해 변환\n",
        "* 로지스틱 회귀의 경우 일반적으로 숫자 데이터에 스케일링을 적용하는 것이 좋음"
      ],
      "metadata": {
        "id": "Yr_3cbMLzblU"
      }
    },
    {
      "cell_type": "code",
      "source": [
        "X=diabetes_data.iloc[:,:-1]\n",
        "y=diabetes_data.iloc[:,-1]\n",
        "\n",
        "#StandardScaler 클래스를 이용해 피처 데이터 세트에 일괄적으로 스케일링 적용\n",
        "scaler=StandardScaler()\n",
        "X_scaled=scaler.fit_transform(X)\n",
        "\n",
        "X_train,X_test,y_train,y_test=train_test_split(X_scaled, y, test_size=0.2, random_state=156,stratify=y)\n",
        "\n",
        "#로지스틱 회귀로 학습, 예측 및 평가 수행\n",
        "lr_clf=LogisticRegression()\n",
        "lr_clf.fit(X_train,y_train)\n",
        "pred=lr_clf.predict(X_test)\n",
        "pred_proba=lr_clf.predict_proba(X_test)[:,1]\n",
        "\n",
        "get_clf_eval(y_test,pred,pred_proba)"
      ],
      "metadata": {
        "colab": {
          "base_uri": "https://localhost:8080/"
        },
        "id": "pBlGtqn6zjE-",
        "outputId": "fac660f2-805c-4fa1-b152-477490c3c991"
      },
      "execution_count": 238,
      "outputs": [
        {
          "output_type": "stream",
          "name": "stdout",
          "text": [
            "오차 행렬\n",
            "[[90 10]\n",
            " [21 33]]\n",
            "정확도:0.7987,정밀도:0.7674,재현율:0.6111,F1:0.6804, AUC:0.8433\n"
          ]
        }
      ]
    },
    {
      "cell_type": "markdown",
      "source": [
        "* 재현율 수치 개선 필요\n"
      ],
      "metadata": {
        "id": "5MVdMdSb0UCc"
      }
    },
    {
      "cell_type": "code",
      "source": [
        "thresholds=[0.3,0.33,0.36,0.39,0.42,0.45,0.48,0.50]\n",
        "pred_proba=lr_clf.predict_proba(X_test)\n",
        "get_eval_by_threshold(y_test,pred_proba[:,1].reshape(-1,1),thresholds)"
      ],
      "metadata": {
        "colab": {
          "base_uri": "https://localhost:8080/",
          "height": 396
        },
        "id": "DUwMWDi_0XoO",
        "outputId": "9d5bcc4d-ce01-49ad-b897-7765d8695945"
      },
      "execution_count": 239,
      "outputs": [
        {
          "output_type": "stream",
          "name": "stdout",
          "text": [
            "임곗값: 0.3\n"
          ]
        },
        {
          "output_type": "error",
          "ename": "ValueError",
          "evalue": "ignored",
          "traceback": [
            "\u001b[0;31m---------------------------------------------------------------------------\u001b[0m",
            "\u001b[0;31mValueError\u001b[0m                                Traceback (most recent call last)",
            "\u001b[0;32m<ipython-input-239-5bc23bf60fe1>\u001b[0m in \u001b[0;36m<module>\u001b[0;34m()\u001b[0m\n\u001b[1;32m      1\u001b[0m \u001b[0mthresholds\u001b[0m\u001b[0;34m=\u001b[0m\u001b[0;34m[\u001b[0m\u001b[0;36m0.3\u001b[0m\u001b[0;34m,\u001b[0m\u001b[0;36m0.33\u001b[0m\u001b[0;34m,\u001b[0m\u001b[0;36m0.36\u001b[0m\u001b[0;34m,\u001b[0m\u001b[0;36m0.39\u001b[0m\u001b[0;34m,\u001b[0m\u001b[0;36m0.42\u001b[0m\u001b[0;34m,\u001b[0m\u001b[0;36m0.45\u001b[0m\u001b[0;34m,\u001b[0m\u001b[0;36m0.48\u001b[0m\u001b[0;34m,\u001b[0m\u001b[0;36m0.50\u001b[0m\u001b[0;34m]\u001b[0m\u001b[0;34m\u001b[0m\u001b[0;34m\u001b[0m\u001b[0m\n\u001b[1;32m      2\u001b[0m \u001b[0mpred_proba\u001b[0m\u001b[0;34m=\u001b[0m\u001b[0mlr_clf\u001b[0m\u001b[0;34m.\u001b[0m\u001b[0mpredict_proba\u001b[0m\u001b[0;34m(\u001b[0m\u001b[0mX_test\u001b[0m\u001b[0;34m)\u001b[0m\u001b[0;34m\u001b[0m\u001b[0;34m\u001b[0m\u001b[0m\n\u001b[0;32m----> 3\u001b[0;31m \u001b[0mget_eval_by_threshold\u001b[0m\u001b[0;34m(\u001b[0m\u001b[0my_test\u001b[0m\u001b[0;34m,\u001b[0m\u001b[0mpred_proba\u001b[0m\u001b[0;34m[\u001b[0m\u001b[0;34m:\u001b[0m\u001b[0;34m,\u001b[0m\u001b[0;36m1\u001b[0m\u001b[0;34m]\u001b[0m\u001b[0;34m.\u001b[0m\u001b[0mreshape\u001b[0m\u001b[0;34m(\u001b[0m\u001b[0;34m-\u001b[0m\u001b[0;36m1\u001b[0m\u001b[0;34m,\u001b[0m\u001b[0;36m1\u001b[0m\u001b[0;34m)\u001b[0m\u001b[0;34m,\u001b[0m\u001b[0mthresholds\u001b[0m\u001b[0;34m)\u001b[0m\u001b[0;34m\u001b[0m\u001b[0;34m\u001b[0m\u001b[0m\n\u001b[0m",
            "\u001b[0;32m<ipython-input-221-54b531350c78>\u001b[0m in \u001b[0;36mget_eval_by_threshold\u001b[0;34m(y_test, pred_proba_c1, thresholds)\u001b[0m\n\u001b[1;32m     11\u001b[0m     \u001b[0mcustom_preidct\u001b[0m\u001b[0;34m=\u001b[0m\u001b[0mbinarizer\u001b[0m\u001b[0;34m.\u001b[0m\u001b[0mtransform\u001b[0m\u001b[0;34m(\u001b[0m\u001b[0mpred_proba_c1\u001b[0m\u001b[0;34m)\u001b[0m\u001b[0;34m\u001b[0m\u001b[0;34m\u001b[0m\u001b[0m\n\u001b[1;32m     12\u001b[0m     \u001b[0mprint\u001b[0m\u001b[0;34m(\u001b[0m\u001b[0;34m'임곗값:'\u001b[0m\u001b[0;34m,\u001b[0m\u001b[0mcustom_threshold\u001b[0m\u001b[0;34m)\u001b[0m\u001b[0;34m\u001b[0m\u001b[0;34m\u001b[0m\u001b[0m\n\u001b[0;32m---> 13\u001b[0;31m     \u001b[0mget_clf_eval\u001b[0m\u001b[0;34m(\u001b[0m\u001b[0my_test\u001b[0m\u001b[0;34m,\u001b[0m\u001b[0mcustom_predict\u001b[0m\u001b[0;34m)\u001b[0m\u001b[0;34m\u001b[0m\u001b[0;34m\u001b[0m\u001b[0m\n\u001b[0m\u001b[1;32m     14\u001b[0m \u001b[0;34m\u001b[0m\u001b[0m\n\u001b[1;32m     15\u001b[0m \u001b[0mget_eval_by_threshold\u001b[0m\u001b[0;34m(\u001b[0m\u001b[0my_test\u001b[0m\u001b[0;34m,\u001b[0m\u001b[0mpred_proba\u001b[0m\u001b[0;34m[\u001b[0m\u001b[0;34m:\u001b[0m\u001b[0;34m,\u001b[0m\u001b[0;36m1\u001b[0m\u001b[0;34m]\u001b[0m\u001b[0;34m.\u001b[0m\u001b[0mreshape\u001b[0m\u001b[0;34m(\u001b[0m\u001b[0;34m-\u001b[0m\u001b[0;36m1\u001b[0m\u001b[0;34m,\u001b[0m\u001b[0;36m1\u001b[0m\u001b[0;34m)\u001b[0m\u001b[0;34m,\u001b[0m\u001b[0mthresholds\u001b[0m\u001b[0;34m)\u001b[0m\u001b[0;34m\u001b[0m\u001b[0;34m\u001b[0m\u001b[0m\n",
            "\u001b[0;32m<ipython-input-229-4515f7576881>\u001b[0m in \u001b[0;36mget_clf_eval\u001b[0;34m(y_test, pred, pred_proba)\u001b[0m\n\u001b[1;32m      2\u001b[0m \u001b[0;34m\u001b[0m\u001b[0m\n\u001b[1;32m      3\u001b[0m \u001b[0;32mdef\u001b[0m \u001b[0mget_clf_eval\u001b[0m\u001b[0;34m(\u001b[0m\u001b[0my_test\u001b[0m\u001b[0;34m,\u001b[0m \u001b[0mpred\u001b[0m\u001b[0;34m=\u001b[0m\u001b[0;32mNone\u001b[0m\u001b[0;34m,\u001b[0m \u001b[0mpred_proba\u001b[0m\u001b[0;34m=\u001b[0m\u001b[0;32mNone\u001b[0m\u001b[0;34m)\u001b[0m\u001b[0;34m:\u001b[0m\u001b[0;34m\u001b[0m\u001b[0;34m\u001b[0m\u001b[0m\n\u001b[0;32m----> 4\u001b[0;31m   \u001b[0mconfusion\u001b[0m\u001b[0;34m=\u001b[0m\u001b[0mconfusion_matrix\u001b[0m\u001b[0;34m(\u001b[0m\u001b[0my_test\u001b[0m\u001b[0;34m,\u001b[0m\u001b[0mpred\u001b[0m\u001b[0;34m)\u001b[0m\u001b[0;34m\u001b[0m\u001b[0;34m\u001b[0m\u001b[0m\n\u001b[0m\u001b[1;32m      5\u001b[0m   \u001b[0maccuracy\u001b[0m\u001b[0;34m=\u001b[0m\u001b[0maccuracy_score\u001b[0m\u001b[0;34m(\u001b[0m\u001b[0my_test\u001b[0m\u001b[0;34m,\u001b[0m\u001b[0mpred\u001b[0m\u001b[0;34m)\u001b[0m\u001b[0;34m\u001b[0m\u001b[0;34m\u001b[0m\u001b[0m\n\u001b[1;32m      6\u001b[0m   \u001b[0mprecision\u001b[0m\u001b[0;34m=\u001b[0m\u001b[0mprecision_score\u001b[0m\u001b[0;34m(\u001b[0m\u001b[0my_test\u001b[0m\u001b[0;34m,\u001b[0m\u001b[0mpred\u001b[0m\u001b[0;34m)\u001b[0m\u001b[0;34m\u001b[0m\u001b[0;34m\u001b[0m\u001b[0m\n",
            "\u001b[0;32m/usr/local/lib/python3.7/dist-packages/sklearn/metrics/_classification.py\u001b[0m in \u001b[0;36mconfusion_matrix\u001b[0;34m(y_true, y_pred, labels, sample_weight, normalize)\u001b[0m\n\u001b[1;32m    305\u001b[0m     \u001b[0;34m(\u001b[0m\u001b[0;36m0\u001b[0m\u001b[0;34m,\u001b[0m \u001b[0;36m2\u001b[0m\u001b[0;34m,\u001b[0m \u001b[0;36m1\u001b[0m\u001b[0;34m,\u001b[0m \u001b[0;36m1\u001b[0m\u001b[0;34m)\u001b[0m\u001b[0;34m\u001b[0m\u001b[0;34m\u001b[0m\u001b[0m\n\u001b[1;32m    306\u001b[0m     \"\"\"\n\u001b[0;32m--> 307\u001b[0;31m     \u001b[0my_type\u001b[0m\u001b[0;34m,\u001b[0m \u001b[0my_true\u001b[0m\u001b[0;34m,\u001b[0m \u001b[0my_pred\u001b[0m \u001b[0;34m=\u001b[0m \u001b[0m_check_targets\u001b[0m\u001b[0;34m(\u001b[0m\u001b[0my_true\u001b[0m\u001b[0;34m,\u001b[0m \u001b[0my_pred\u001b[0m\u001b[0;34m)\u001b[0m\u001b[0;34m\u001b[0m\u001b[0;34m\u001b[0m\u001b[0m\n\u001b[0m\u001b[1;32m    308\u001b[0m     \u001b[0;32mif\u001b[0m \u001b[0my_type\u001b[0m \u001b[0;32mnot\u001b[0m \u001b[0;32min\u001b[0m \u001b[0;34m(\u001b[0m\u001b[0;34m\"binary\"\u001b[0m\u001b[0;34m,\u001b[0m \u001b[0;34m\"multiclass\"\u001b[0m\u001b[0;34m)\u001b[0m\u001b[0;34m:\u001b[0m\u001b[0;34m\u001b[0m\u001b[0;34m\u001b[0m\u001b[0m\n\u001b[1;32m    309\u001b[0m         \u001b[0;32mraise\u001b[0m \u001b[0mValueError\u001b[0m\u001b[0;34m(\u001b[0m\u001b[0;34m\"%s is not supported\"\u001b[0m \u001b[0;34m%\u001b[0m \u001b[0my_type\u001b[0m\u001b[0;34m)\u001b[0m\u001b[0;34m\u001b[0m\u001b[0;34m\u001b[0m\u001b[0m\n",
            "\u001b[0;32m/usr/local/lib/python3.7/dist-packages/sklearn/metrics/_classification.py\u001b[0m in \u001b[0;36m_check_targets\u001b[0;34m(y_true, y_pred)\u001b[0m\n\u001b[1;32m     82\u001b[0m     \u001b[0my_pred\u001b[0m \u001b[0;34m:\u001b[0m \u001b[0marray\u001b[0m \u001b[0;32mor\u001b[0m \u001b[0mindicator\u001b[0m \u001b[0mmatrix\u001b[0m\u001b[0;34m\u001b[0m\u001b[0;34m\u001b[0m\u001b[0m\n\u001b[1;32m     83\u001b[0m     \"\"\"\n\u001b[0;32m---> 84\u001b[0;31m     \u001b[0mcheck_consistent_length\u001b[0m\u001b[0;34m(\u001b[0m\u001b[0my_true\u001b[0m\u001b[0;34m,\u001b[0m \u001b[0my_pred\u001b[0m\u001b[0;34m)\u001b[0m\u001b[0;34m\u001b[0m\u001b[0;34m\u001b[0m\u001b[0m\n\u001b[0m\u001b[1;32m     85\u001b[0m     \u001b[0mtype_true\u001b[0m \u001b[0;34m=\u001b[0m \u001b[0mtype_of_target\u001b[0m\u001b[0;34m(\u001b[0m\u001b[0my_true\u001b[0m\u001b[0;34m)\u001b[0m\u001b[0;34m\u001b[0m\u001b[0;34m\u001b[0m\u001b[0m\n\u001b[1;32m     86\u001b[0m     \u001b[0mtype_pred\u001b[0m \u001b[0;34m=\u001b[0m \u001b[0mtype_of_target\u001b[0m\u001b[0;34m(\u001b[0m\u001b[0my_pred\u001b[0m\u001b[0;34m)\u001b[0m\u001b[0;34m\u001b[0m\u001b[0;34m\u001b[0m\u001b[0m\n",
            "\u001b[0;32m/usr/local/lib/python3.7/dist-packages/sklearn/utils/validation.py\u001b[0m in \u001b[0;36mcheck_consistent_length\u001b[0;34m(*arrays)\u001b[0m\n\u001b[1;32m    332\u001b[0m         raise ValueError(\n\u001b[1;32m    333\u001b[0m             \u001b[0;34m\"Found input variables with inconsistent numbers of samples: %r\"\u001b[0m\u001b[0;34m\u001b[0m\u001b[0;34m\u001b[0m\u001b[0m\n\u001b[0;32m--> 334\u001b[0;31m             \u001b[0;34m%\u001b[0m \u001b[0;34m[\u001b[0m\u001b[0mint\u001b[0m\u001b[0;34m(\u001b[0m\u001b[0ml\u001b[0m\u001b[0;34m)\u001b[0m \u001b[0;32mfor\u001b[0m \u001b[0ml\u001b[0m \u001b[0;32min\u001b[0m \u001b[0mlengths\u001b[0m\u001b[0;34m]\u001b[0m\u001b[0;34m\u001b[0m\u001b[0;34m\u001b[0m\u001b[0m\n\u001b[0m\u001b[1;32m    335\u001b[0m         )\n\u001b[1;32m    336\u001b[0m \u001b[0;34m\u001b[0m\u001b[0m\n",
            "\u001b[0;31mValueError\u001b[0m: Found input variables with inconsistent numbers of samples: [154, 179]"
          ]
        }
      ]
    },
    {
      "cell_type": "markdown",
      "source": [
        "> 임곗값 0.48이 가장 좋아 보임"
      ],
      "metadata": {
        "id": "pOdu6K0p0sIN"
      }
    },
    {
      "cell_type": "code",
      "source": [
        "#임곗값을 0.48로 설정한 Binarizer 생성\n",
        "binarizer=Binarizer(threshold=0.48)\n",
        "\n",
        "#위에서 구한 lr_clf의 predict_proba()예측 확률 array에서 1에 해당하는 칼럼값을 Binarizer 변환\n",
        "pred_th_048=binarizer.fit_transform(pred_proba[:,1].reshape(-1,1))\n",
        "\n",
        "get_clf_eval(y_test,pred_th_048,pred_proba[:,1])"
      ],
      "metadata": {
        "colab": {
          "base_uri": "https://localhost:8080/"
        },
        "id": "UiZeO_fl056K",
        "outputId": "4e40dc40-c841-4333-fc59-86b2ec326a03"
      },
      "execution_count": 240,
      "outputs": [
        {
          "output_type": "stream",
          "name": "stdout",
          "text": [
            "오차 행렬\n",
            "[[88 12]\n",
            " [19 35]]\n",
            "정확도:0.7987,정밀도:0.7447,재현율:0.6481,F1:0.6931, AUC:0.8433\n"
          ]
        }
      ]
    },
    {
      "cell_type": "markdown",
      "source": [
        "##**7. 정리**"
      ],
      "metadata": {
        "id": "UrnyUTER1Y6i"
      }
    },
    {
      "cell_type": "markdown",
      "source": [
        "* 이진 분류의 레이블 값이 불균형하게 분포될 경우 단순히 예측 결과와 실제 결과가 일치하는 지표인 정확도만으로는 예측 성능을 평가할 수 없음.\n",
        "\n",
        "* 오차행렬은 Negative와 Positive 값을 가지는 실제 클랠스 값과 예측 클래스 값이 True와 False에 따라 TN,FP,FN,TP로 매핑되는 4분면 행렬을 기반으로 예측 성능을 평가함.\n",
        "\n",
        "*정밀도, 재현율은 Posiftive 데이터 세트의 예측 성능에 초점\n",
        "\n",
        "* F1스코어는 정밀도와 재현율을 결합한 평가 지표로 정밀도와 재현율이 어느 한쪽으로 치우치지 않을 때 높음\n",
        "\n",
        "* ROC-AUC\n",
        "  * AUC : ROC 곡선 밑의 면적으로 1에 가까욼루록 좋음"
      ],
      "metadata": {
        "id": "Jf7IUMaY1cwj"
      }
    }
  ]
}